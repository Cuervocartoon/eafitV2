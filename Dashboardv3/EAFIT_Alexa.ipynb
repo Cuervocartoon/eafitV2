{
 "cells": [
  {
   "cell_type": "code",
   "execution_count": 2,
   "metadata": {
    "executionInfo": {
     "elapsed": 72,
     "status": "ok",
     "timestamp": 1754157016791,
     "user": {
      "displayName": "Juan Camilo Ortiz",
      "userId": "14839115185471025896"
     },
     "user_tz": 300
    },
    "id": "PyJ0rSz5FiCm"
   },
   "outputs": [],
   "source": [
    "import pandas as pd\n",
    "import numpy as np\n",
    "import json\n",
    "import seaborn as sns\n",
    "import matplotlib.pyplot as plt\n",
    "import plotly.graph_objects as go"
   ]
  },
  {
   "cell_type": "code",
   "execution_count": 3,
   "metadata": {
    "colab": {
     "base_uri": "https://localhost:8080/",
     "height": 643
    },
    "executionInfo": {
     "elapsed": 186,
     "status": "ok",
     "timestamp": 1754157029068,
     "user": {
      "displayName": "Juan Camilo Ortiz",
      "userId": "14839115185471025896"
     },
     "user_tz": 300
    },
    "id": "SDUXuswFGcMy",
    "outputId": "7a1acbcf-fe28-4bee-f46d-085e3fa1139b"
   },
   "outputs": [
    {
     "data": {
      "application/vnd.microsoft.datawrangler.viewer.v0+json": {
       "columns": [
        {
         "name": "index",
         "rawType": "int64",
         "type": "integer"
        },
        {
         "name": "Razón social",
         "rawType": "object",
         "type": "string"
        },
        {
         "name": "Macrosector",
         "rawType": "object",
         "type": "string"
        },
        {
         "name": "Tipo de propiedad (Privada, Pública, Mixta)",
         "rawType": "object",
         "type": "string"
        },
        {
         "name": "¿Es empresa familiar? Si/No",
         "rawType": "object",
         "type": "string"
        },
        {
         "name": "¿Cotiza en bolsa? Si/No",
         "rawType": "object",
         "type": "string"
        },
        {
         "name": "¿Multinacional? Si/No",
         "rawType": "object",
         "type": "string"
        },
        {
         "name": "Año de fundación",
         "rawType": "int64",
         "type": "integer"
        },
        {
         "name": "País de base principal (nacionalidad)",
         "rawType": "object",
         "type": "string"
        },
        {
         "name": "Ingresos operacionales",
         "rawType": "object",
         "type": "string"
        },
        {
         "name": "Variable",
         "rawType": "object",
         "type": "string"
        },
        {
         "name": "Valor",
         "rawType": "object",
         "type": "string"
        },
        {
         "name": "Bloque",
         "rawType": "object",
         "type": "string"
        },
        {
         "name": "Nombre Pilar",
         "rawType": "object",
         "type": "string"
        },
        {
         "name": "Ponderación Materialidad",
         "rawType": "object",
         "type": "string"
        },
        {
         "name": "Valoración",
         "rawType": "float64",
         "type": "float"
        },
        {
         "name": "valoracionPonderada",
         "rawType": "float64",
         "type": "float"
        }
       ],
       "ref": "fb7cf44e-6530-49ab-9ba0-aa14719c6203",
       "rows": [
        [
         "0",
         "Aliar",
         "Agropecuario",
         "Privada",
         "No",
         "No",
         "No",
         "2007",
         "Colombia",
         "0.97802211500000003",
         "¿Cuál es el porcentaje de proveeduría local?",
         "No informa",
         "Impacto económico y gobernanza",
         "Impacto Económico, Social y Comunitario",
         "14%",
         "0.0",
         "0.0"
        ],
        [
         "1",
         "Alimentos Carnicos (Grupo Nutresa)",
         "Manufactura",
         "Privada",
         "No",
         "Si",
         "Si",
         "1920",
         "Colombia",
         "2.844632077",
         "¿Cuál es el porcentaje de proveeduría local?",
         "0.80000000000000004",
         "Impacto económico y gobernanza",
         "Impacto Económico, Social y Comunitario",
         "11%",
         "84.21052632",
         "8.864265928"
        ],
        [
         "2",
         "Alpina",
         "Manufactura",
         "Privada",
         "No",
         "No",
         "Si",
         "1945",
         "Colombia",
         "2.1764613960000001",
         "¿Cuál es el porcentaje de proveeduría local?",
         "0.91000000000000003",
         "Impacto económico y gobernanza",
         "Impacto Económico, Social y Comunitario",
         "11%",
         "95.78947368",
         "10.08310249"
        ],
        [
         "3",
         "Amarilo",
         "Construcción",
         "Privada",
         "Si",
         "No",
         "No",
         "1993",
         "Colombia",
         "2.1863011939999999",
         "¿Cuál es el porcentaje de proveeduría local?",
         "0.53000000000000003",
         "Impacto económico y gobernanza",
         "Impacto Económico, Social y Comunitario",
         "14%",
         "53.0",
         "7.571428571"
        ],
        [
         "4",
         "ARA",
         "Comercio",
         "Privada",
         "No",
         "No",
         "Si",
         "2012",
         "Colombia",
         "13.83118268",
         "¿Cuál es el porcentaje de proveeduría local?",
         "0",
         "Impacto económico y gobernanza",
         "Impacto Económico, Social y Comunitario",
         "12%",
         "0.0",
         "0.0"
        ]
       ],
       "shape": {
        "columns": 16,
        "rows": 5
       }
      },
      "text/html": [
       "<div>\n",
       "<style scoped>\n",
       "    .dataframe tbody tr th:only-of-type {\n",
       "        vertical-align: middle;\n",
       "    }\n",
       "\n",
       "    .dataframe tbody tr th {\n",
       "        vertical-align: top;\n",
       "    }\n",
       "\n",
       "    .dataframe thead th {\n",
       "        text-align: right;\n",
       "    }\n",
       "</style>\n",
       "<table border=\"1\" class=\"dataframe\">\n",
       "  <thead>\n",
       "    <tr style=\"text-align: right;\">\n",
       "      <th></th>\n",
       "      <th>Razón social</th>\n",
       "      <th>Macrosector</th>\n",
       "      <th>Tipo de propiedad (Privada, Pública, Mixta)</th>\n",
       "      <th>¿Es empresa familiar? Si/No</th>\n",
       "      <th>¿Cotiza en bolsa? Si/No</th>\n",
       "      <th>¿Multinacional? Si/No</th>\n",
       "      <th>Año de fundación</th>\n",
       "      <th>País de base principal (nacionalidad)</th>\n",
       "      <th>Ingresos operacionales</th>\n",
       "      <th>Variable</th>\n",
       "      <th>Valor</th>\n",
       "      <th>Bloque</th>\n",
       "      <th>Nombre Pilar</th>\n",
       "      <th>Ponderación Materialidad</th>\n",
       "      <th>Valoración</th>\n",
       "      <th>valoracionPonderada</th>\n",
       "    </tr>\n",
       "  </thead>\n",
       "  <tbody>\n",
       "    <tr>\n",
       "      <th>0</th>\n",
       "      <td>Aliar</td>\n",
       "      <td>Agropecuario</td>\n",
       "      <td>Privada</td>\n",
       "      <td>No</td>\n",
       "      <td>No</td>\n",
       "      <td>No</td>\n",
       "      <td>2007</td>\n",
       "      <td>Colombia</td>\n",
       "      <td>0.97802211500000003</td>\n",
       "      <td>¿Cuál es el porcentaje de proveeduría local?</td>\n",
       "      <td>No informa</td>\n",
       "      <td>Impacto económico y gobernanza</td>\n",
       "      <td>Impacto Económico, Social y Comunitario</td>\n",
       "      <td>14%</td>\n",
       "      <td>0.000000</td>\n",
       "      <td>0.000000</td>\n",
       "    </tr>\n",
       "    <tr>\n",
       "      <th>1</th>\n",
       "      <td>Alimentos Carnicos (Grupo Nutresa)</td>\n",
       "      <td>Manufactura</td>\n",
       "      <td>Privada</td>\n",
       "      <td>No</td>\n",
       "      <td>Si</td>\n",
       "      <td>Si</td>\n",
       "      <td>1920</td>\n",
       "      <td>Colombia</td>\n",
       "      <td>2.844632077</td>\n",
       "      <td>¿Cuál es el porcentaje de proveeduría local?</td>\n",
       "      <td>0.80000000000000004</td>\n",
       "      <td>Impacto económico y gobernanza</td>\n",
       "      <td>Impacto Económico, Social y Comunitario</td>\n",
       "      <td>11%</td>\n",
       "      <td>84.210526</td>\n",
       "      <td>8.864266</td>\n",
       "    </tr>\n",
       "    <tr>\n",
       "      <th>2</th>\n",
       "      <td>Alpina</td>\n",
       "      <td>Manufactura</td>\n",
       "      <td>Privada</td>\n",
       "      <td>No</td>\n",
       "      <td>No</td>\n",
       "      <td>Si</td>\n",
       "      <td>1945</td>\n",
       "      <td>Colombia</td>\n",
       "      <td>2.1764613960000001</td>\n",
       "      <td>¿Cuál es el porcentaje de proveeduría local?</td>\n",
       "      <td>0.91000000000000003</td>\n",
       "      <td>Impacto económico y gobernanza</td>\n",
       "      <td>Impacto Económico, Social y Comunitario</td>\n",
       "      <td>11%</td>\n",
       "      <td>95.789474</td>\n",
       "      <td>10.083102</td>\n",
       "    </tr>\n",
       "    <tr>\n",
       "      <th>3</th>\n",
       "      <td>Amarilo</td>\n",
       "      <td>Construcción</td>\n",
       "      <td>Privada</td>\n",
       "      <td>Si</td>\n",
       "      <td>No</td>\n",
       "      <td>No</td>\n",
       "      <td>1993</td>\n",
       "      <td>Colombia</td>\n",
       "      <td>2.1863011939999999</td>\n",
       "      <td>¿Cuál es el porcentaje de proveeduría local?</td>\n",
       "      <td>0.53000000000000003</td>\n",
       "      <td>Impacto económico y gobernanza</td>\n",
       "      <td>Impacto Económico, Social y Comunitario</td>\n",
       "      <td>14%</td>\n",
       "      <td>53.000000</td>\n",
       "      <td>7.571429</td>\n",
       "    </tr>\n",
       "    <tr>\n",
       "      <th>4</th>\n",
       "      <td>ARA</td>\n",
       "      <td>Comercio</td>\n",
       "      <td>Privada</td>\n",
       "      <td>No</td>\n",
       "      <td>No</td>\n",
       "      <td>Si</td>\n",
       "      <td>2012</td>\n",
       "      <td>Colombia</td>\n",
       "      <td>13.83118268</td>\n",
       "      <td>¿Cuál es el porcentaje de proveeduría local?</td>\n",
       "      <td>0</td>\n",
       "      <td>Impacto económico y gobernanza</td>\n",
       "      <td>Impacto Económico, Social y Comunitario</td>\n",
       "      <td>12%</td>\n",
       "      <td>0.000000</td>\n",
       "      <td>0.000000</td>\n",
       "    </tr>\n",
       "  </tbody>\n",
       "</table>\n",
       "</div>"
      ],
      "text/plain": [
       "                         Razón social   Macrosector  \\\n",
       "0                               Aliar  Agropecuario   \n",
       "1  Alimentos Carnicos (Grupo Nutresa)   Manufactura   \n",
       "2                              Alpina   Manufactura   \n",
       "3                             Amarilo  Construcción   \n",
       "4                                 ARA      Comercio   \n",
       "\n",
       "  Tipo de propiedad (Privada, Pública, Mixta) ¿Es empresa familiar? Si/No  \\\n",
       "0                                     Privada                          No   \n",
       "1                                     Privada                          No   \n",
       "2                                     Privada                          No   \n",
       "3                                     Privada                          Si   \n",
       "4                                     Privada                          No   \n",
       "\n",
       "  ¿Cotiza en bolsa? Si/No ¿Multinacional? Si/No  Año de fundación  \\\n",
       "0                      No                    No              2007   \n",
       "1                      Si                    Si              1920   \n",
       "2                      No                    Si              1945   \n",
       "3                      No                    No              1993   \n",
       "4                      No                    Si              2012   \n",
       "\n",
       "  País de base principal (nacionalidad) Ingresos operacionales  \\\n",
       "0                              Colombia    0.97802211500000003   \n",
       "1                              Colombia            2.844632077   \n",
       "2                              Colombia     2.1764613960000001   \n",
       "3                              Colombia     2.1863011939999999   \n",
       "4                              Colombia            13.83118268   \n",
       "\n",
       "                                       Variable                Valor  \\\n",
       "0  ¿Cuál es el porcentaje de proveeduría local?           No informa   \n",
       "1  ¿Cuál es el porcentaje de proveeduría local?  0.80000000000000004   \n",
       "2  ¿Cuál es el porcentaje de proveeduría local?  0.91000000000000003   \n",
       "3  ¿Cuál es el porcentaje de proveeduría local?  0.53000000000000003   \n",
       "4  ¿Cuál es el porcentaje de proveeduría local?                    0   \n",
       "\n",
       "                           Bloque                             Nombre Pilar  \\\n",
       "0  Impacto económico y gobernanza  Impacto Económico, Social y Comunitario   \n",
       "1  Impacto económico y gobernanza  Impacto Económico, Social y Comunitario   \n",
       "2  Impacto económico y gobernanza  Impacto Económico, Social y Comunitario   \n",
       "3  Impacto económico y gobernanza  Impacto Económico, Social y Comunitario   \n",
       "4  Impacto económico y gobernanza  Impacto Económico, Social y Comunitario   \n",
       "\n",
       "  Ponderación Materialidad  Valoración  valoracionPonderada  \n",
       "0                      14%    0.000000             0.000000  \n",
       "1                      11%   84.210526             8.864266  \n",
       "2                      11%   95.789474            10.083102  \n",
       "3                      14%   53.000000             7.571429  \n",
       "4                      12%    0.000000             0.000000  "
      ]
     },
     "execution_count": 3,
     "metadata": {},
     "output_type": "execute_result"
    }
   ],
   "source": [
    "raw_data = pd.read_csv('empresasEafit.csv')\n",
    "raw_data.rename(columns=lambda x: x.strip(), inplace=True)\n",
    "raw_data.head()"
   ]
  },
  {
   "cell_type": "markdown",
   "metadata": {},
   "source": [
    "# **Parte 1: Panorama General del Desempeño Corporativo**"
   ]
  },
  {
   "cell_type": "markdown",
   "metadata": {
    "id": "V9IepepMgDJs"
   },
   "source": [
    "## 1. Radar de Competitividad por Pilar y Macrosector"
   ]
  },
  {
   "cell_type": "markdown",
   "metadata": {
    "id": "y3pwKKQfhstj"
   },
   "source": [
    "### Manejo de datos"
   ]
  },
  {
   "cell_type": "code",
   "execution_count": 6,
   "metadata": {
    "colab": {
     "base_uri": "https://localhost:8080/",
     "height": 255
    },
    "executionInfo": {
     "elapsed": 123,
     "status": "ok",
     "timestamp": 1754157080775,
     "user": {
      "displayName": "Juan Camilo Ortiz",
      "userId": "14839115185471025896"
     },
     "user_tz": 300
    },
    "id": "ZcPHf1PXf-bM",
    "outputId": "3677d9c4-6ef1-42a5-c078-6dfe19bcc0f4"
   },
   "outputs": [
    {
     "name": "stdout",
     "output_type": "stream",
     "text": [
      "vars: ['Agropecuario', 'Comercio', 'Construcción', 'Manufactura', 'Minero', 'Servicios']\n"
     ]
    },
    {
     "data": {
      "application/vnd.plotly.v1+json": {
       "config": {
        "plotlyServerURL": "https://plot.ly"
       },
       "data": [
        {
         "fill": "toself",
         "name": "Agropecuario",
         "r": {
          "bdata": "bOMsCIIgCECvuyTDMAwTQEV1sstmiAJAxFbCcRzHC0DJQODv+77vP3nj5+/7vg9A",
          "dtype": "f8"
         },
         "theta": [
          "Acción Climática y Energía",
          "Capital Humano: Bienestar y Desarrollo",
          "Diversidad, Equidad e Inclusión (DEI)",
          "Gestión de Recursos Naturales y Circularidad",
          "Impacto Económico, Social y Comunitario",
          "Transparencia y Gobierno de la Sostenibilidad"
         ],
         "type": "scatterpolar"
        },
        {
         "fill": "toself",
         "name": "Comercio",
         "r": {
          "bdata": "1x6EDIMZIUCZxr5B/CodQIRHUdb57RNAHPbtFMSA/j+AhbXNrq//P5WgvryB0CRA",
          "dtype": "f8"
         },
         "theta": [
          "Acción Climática y Energía",
          "Capital Humano: Bienestar y Desarrollo",
          "Diversidad, Equidad e Inclusión (DEI)",
          "Gestión de Recursos Naturales y Circularidad",
          "Impacto Económico, Social y Comunitario",
          "Transparencia y Gobierno de la Sostenibilidad"
         ],
         "type": "scatterpolar"
        },
        {
         "fill": "toself",
         "name": "Construcción",
         "r": {
          "bdata": "quCZn9FTFEAtJNOx5lsWQHduE1DY5wNA+J6ZeXWNFUDyvjiXcikBQMLRRI7jOCZA",
          "dtype": "f8"
         },
         "theta": [
          "Acción Climática y Energía",
          "Capital Humano: Bienestar y Desarrollo",
          "Diversidad, Equidad e Inclusión (DEI)",
          "Gestión de Recursos Naturales y Circularidad",
          "Impacto Económico, Social y Comunitario",
          "Transparencia y Gobierno de la Sostenibilidad"
         ],
         "type": "scatterpolar"
        },
        {
         "fill": "toself",
         "name": "Manufactura",
         "r": {
          "bdata": "F/YTxSu7J0BLzGlQQ/8aQIOAfOqqIg9AnaSEN1l8IUB1UUFjL4wEQL6FS7X3NyJA",
          "dtype": "f8"
         },
         "theta": [
          "Acción Climática y Energía",
          "Capital Humano: Bienestar y Desarrollo",
          "Diversidad, Equidad e Inclusión (DEI)",
          "Gestión de Recursos Naturales y Circularidad",
          "Impacto Económico, Social y Comunitario",
          "Transparencia y Gobierno de la Sostenibilidad"
         ],
         "type": "scatterpolar"
        },
        {
         "fill": "toself",
         "name": "Minero",
         "r": {
          "bdata": "teHZaoLhI0DHZYBwaR0jQKLNtvlU+A1ADgrpOfllJ0D1l9RGueMUQK8fWfmWbyFA",
          "dtype": "f8"
         },
         "theta": [
          "Acción Climática y Energía",
          "Capital Humano: Bienestar y Desarrollo",
          "Diversidad, Equidad e Inclusión (DEI)",
          "Gestión de Recursos Naturales y Circularidad",
          "Impacto Económico, Social y Comunitario",
          "Transparencia y Gobierno de la Sostenibilidad"
         ],
         "type": "scatterpolar"
        },
        {
         "fill": "toself",
         "name": "Servicios",
         "r": {
          "bdata": "aKtpA1hCIUA2L/2bfqMZQB7M13kcpiJAXwtha+OZD0BrWydxPcQSQHvR8xXQuDRA",
          "dtype": "f8"
         },
         "theta": [
          "Acción Climática y Energía",
          "Capital Humano: Bienestar y Desarrollo",
          "Diversidad, Equidad e Inclusión (DEI)",
          "Gestión de Recursos Naturales y Circularidad",
          "Impacto Económico, Social y Comunitario",
          "Transparencia y Gobierno de la Sostenibilidad"
         ],
         "type": "scatterpolar"
        }
       ],
       "layout": {
        "polar": {
         "radialaxis": {
          "range": [
           0,
           30
          ],
          "visible": true
         }
        },
        "showlegend": true,
        "template": {
         "data": {
          "bar": [
           {
            "error_x": {
             "color": "#2a3f5f"
            },
            "error_y": {
             "color": "#2a3f5f"
            },
            "marker": {
             "line": {
              "color": "#E5ECF6",
              "width": 0.5
             },
             "pattern": {
              "fillmode": "overlay",
              "size": 10,
              "solidity": 0.2
             }
            },
            "type": "bar"
           }
          ],
          "barpolar": [
           {
            "marker": {
             "line": {
              "color": "#E5ECF6",
              "width": 0.5
             },
             "pattern": {
              "fillmode": "overlay",
              "size": 10,
              "solidity": 0.2
             }
            },
            "type": "barpolar"
           }
          ],
          "carpet": [
           {
            "aaxis": {
             "endlinecolor": "#2a3f5f",
             "gridcolor": "white",
             "linecolor": "white",
             "minorgridcolor": "white",
             "startlinecolor": "#2a3f5f"
            },
            "baxis": {
             "endlinecolor": "#2a3f5f",
             "gridcolor": "white",
             "linecolor": "white",
             "minorgridcolor": "white",
             "startlinecolor": "#2a3f5f"
            },
            "type": "carpet"
           }
          ],
          "choropleth": [
           {
            "colorbar": {
             "outlinewidth": 0,
             "ticks": ""
            },
            "type": "choropleth"
           }
          ],
          "contour": [
           {
            "colorbar": {
             "outlinewidth": 0,
             "ticks": ""
            },
            "colorscale": [
             [
              0,
              "#0d0887"
             ],
             [
              0.1111111111111111,
              "#46039f"
             ],
             [
              0.2222222222222222,
              "#7201a8"
             ],
             [
              0.3333333333333333,
              "#9c179e"
             ],
             [
              0.4444444444444444,
              "#bd3786"
             ],
             [
              0.5555555555555556,
              "#d8576b"
             ],
             [
              0.6666666666666666,
              "#ed7953"
             ],
             [
              0.7777777777777778,
              "#fb9f3a"
             ],
             [
              0.8888888888888888,
              "#fdca26"
             ],
             [
              1,
              "#f0f921"
             ]
            ],
            "type": "contour"
           }
          ],
          "contourcarpet": [
           {
            "colorbar": {
             "outlinewidth": 0,
             "ticks": ""
            },
            "type": "contourcarpet"
           }
          ],
          "heatmap": [
           {
            "colorbar": {
             "outlinewidth": 0,
             "ticks": ""
            },
            "colorscale": [
             [
              0,
              "#0d0887"
             ],
             [
              0.1111111111111111,
              "#46039f"
             ],
             [
              0.2222222222222222,
              "#7201a8"
             ],
             [
              0.3333333333333333,
              "#9c179e"
             ],
             [
              0.4444444444444444,
              "#bd3786"
             ],
             [
              0.5555555555555556,
              "#d8576b"
             ],
             [
              0.6666666666666666,
              "#ed7953"
             ],
             [
              0.7777777777777778,
              "#fb9f3a"
             ],
             [
              0.8888888888888888,
              "#fdca26"
             ],
             [
              1,
              "#f0f921"
             ]
            ],
            "type": "heatmap"
           }
          ],
          "histogram": [
           {
            "marker": {
             "pattern": {
              "fillmode": "overlay",
              "size": 10,
              "solidity": 0.2
             }
            },
            "type": "histogram"
           }
          ],
          "histogram2d": [
           {
            "colorbar": {
             "outlinewidth": 0,
             "ticks": ""
            },
            "colorscale": [
             [
              0,
              "#0d0887"
             ],
             [
              0.1111111111111111,
              "#46039f"
             ],
             [
              0.2222222222222222,
              "#7201a8"
             ],
             [
              0.3333333333333333,
              "#9c179e"
             ],
             [
              0.4444444444444444,
              "#bd3786"
             ],
             [
              0.5555555555555556,
              "#d8576b"
             ],
             [
              0.6666666666666666,
              "#ed7953"
             ],
             [
              0.7777777777777778,
              "#fb9f3a"
             ],
             [
              0.8888888888888888,
              "#fdca26"
             ],
             [
              1,
              "#f0f921"
             ]
            ],
            "type": "histogram2d"
           }
          ],
          "histogram2dcontour": [
           {
            "colorbar": {
             "outlinewidth": 0,
             "ticks": ""
            },
            "colorscale": [
             [
              0,
              "#0d0887"
             ],
             [
              0.1111111111111111,
              "#46039f"
             ],
             [
              0.2222222222222222,
              "#7201a8"
             ],
             [
              0.3333333333333333,
              "#9c179e"
             ],
             [
              0.4444444444444444,
              "#bd3786"
             ],
             [
              0.5555555555555556,
              "#d8576b"
             ],
             [
              0.6666666666666666,
              "#ed7953"
             ],
             [
              0.7777777777777778,
              "#fb9f3a"
             ],
             [
              0.8888888888888888,
              "#fdca26"
             ],
             [
              1,
              "#f0f921"
             ]
            ],
            "type": "histogram2dcontour"
           }
          ],
          "mesh3d": [
           {
            "colorbar": {
             "outlinewidth": 0,
             "ticks": ""
            },
            "type": "mesh3d"
           }
          ],
          "parcoords": [
           {
            "line": {
             "colorbar": {
              "outlinewidth": 0,
              "ticks": ""
             }
            },
            "type": "parcoords"
           }
          ],
          "pie": [
           {
            "automargin": true,
            "type": "pie"
           }
          ],
          "scatter": [
           {
            "fillpattern": {
             "fillmode": "overlay",
             "size": 10,
             "solidity": 0.2
            },
            "type": "scatter"
           }
          ],
          "scatter3d": [
           {
            "line": {
             "colorbar": {
              "outlinewidth": 0,
              "ticks": ""
             }
            },
            "marker": {
             "colorbar": {
              "outlinewidth": 0,
              "ticks": ""
             }
            },
            "type": "scatter3d"
           }
          ],
          "scattercarpet": [
           {
            "marker": {
             "colorbar": {
              "outlinewidth": 0,
              "ticks": ""
             }
            },
            "type": "scattercarpet"
           }
          ],
          "scattergeo": [
           {
            "marker": {
             "colorbar": {
              "outlinewidth": 0,
              "ticks": ""
             }
            },
            "type": "scattergeo"
           }
          ],
          "scattergl": [
           {
            "marker": {
             "colorbar": {
              "outlinewidth": 0,
              "ticks": ""
             }
            },
            "type": "scattergl"
           }
          ],
          "scattermap": [
           {
            "marker": {
             "colorbar": {
              "outlinewidth": 0,
              "ticks": ""
             }
            },
            "type": "scattermap"
           }
          ],
          "scattermapbox": [
           {
            "marker": {
             "colorbar": {
              "outlinewidth": 0,
              "ticks": ""
             }
            },
            "type": "scattermapbox"
           }
          ],
          "scatterpolar": [
           {
            "marker": {
             "colorbar": {
              "outlinewidth": 0,
              "ticks": ""
             }
            },
            "type": "scatterpolar"
           }
          ],
          "scatterpolargl": [
           {
            "marker": {
             "colorbar": {
              "outlinewidth": 0,
              "ticks": ""
             }
            },
            "type": "scatterpolargl"
           }
          ],
          "scatterternary": [
           {
            "marker": {
             "colorbar": {
              "outlinewidth": 0,
              "ticks": ""
             }
            },
            "type": "scatterternary"
           }
          ],
          "surface": [
           {
            "colorbar": {
             "outlinewidth": 0,
             "ticks": ""
            },
            "colorscale": [
             [
              0,
              "#0d0887"
             ],
             [
              0.1111111111111111,
              "#46039f"
             ],
             [
              0.2222222222222222,
              "#7201a8"
             ],
             [
              0.3333333333333333,
              "#9c179e"
             ],
             [
              0.4444444444444444,
              "#bd3786"
             ],
             [
              0.5555555555555556,
              "#d8576b"
             ],
             [
              0.6666666666666666,
              "#ed7953"
             ],
             [
              0.7777777777777778,
              "#fb9f3a"
             ],
             [
              0.8888888888888888,
              "#fdca26"
             ],
             [
              1,
              "#f0f921"
             ]
            ],
            "type": "surface"
           }
          ],
          "table": [
           {
            "cells": {
             "fill": {
              "color": "#EBF0F8"
             },
             "line": {
              "color": "white"
             }
            },
            "header": {
             "fill": {
              "color": "#C8D4E3"
             },
             "line": {
              "color": "white"
             }
            },
            "type": "table"
           }
          ]
         },
         "layout": {
          "annotationdefaults": {
           "arrowcolor": "#2a3f5f",
           "arrowhead": 0,
           "arrowwidth": 1
          },
          "autotypenumbers": "strict",
          "coloraxis": {
           "colorbar": {
            "outlinewidth": 0,
            "ticks": ""
           }
          },
          "colorscale": {
           "diverging": [
            [
             0,
             "#8e0152"
            ],
            [
             0.1,
             "#c51b7d"
            ],
            [
             0.2,
             "#de77ae"
            ],
            [
             0.3,
             "#f1b6da"
            ],
            [
             0.4,
             "#fde0ef"
            ],
            [
             0.5,
             "#f7f7f7"
            ],
            [
             0.6,
             "#e6f5d0"
            ],
            [
             0.7,
             "#b8e186"
            ],
            [
             0.8,
             "#7fbc41"
            ],
            [
             0.9,
             "#4d9221"
            ],
            [
             1,
             "#276419"
            ]
           ],
           "sequential": [
            [
             0,
             "#0d0887"
            ],
            [
             0.1111111111111111,
             "#46039f"
            ],
            [
             0.2222222222222222,
             "#7201a8"
            ],
            [
             0.3333333333333333,
             "#9c179e"
            ],
            [
             0.4444444444444444,
             "#bd3786"
            ],
            [
             0.5555555555555556,
             "#d8576b"
            ],
            [
             0.6666666666666666,
             "#ed7953"
            ],
            [
             0.7777777777777778,
             "#fb9f3a"
            ],
            [
             0.8888888888888888,
             "#fdca26"
            ],
            [
             1,
             "#f0f921"
            ]
           ],
           "sequentialminus": [
            [
             0,
             "#0d0887"
            ],
            [
             0.1111111111111111,
             "#46039f"
            ],
            [
             0.2222222222222222,
             "#7201a8"
            ],
            [
             0.3333333333333333,
             "#9c179e"
            ],
            [
             0.4444444444444444,
             "#bd3786"
            ],
            [
             0.5555555555555556,
             "#d8576b"
            ],
            [
             0.6666666666666666,
             "#ed7953"
            ],
            [
             0.7777777777777778,
             "#fb9f3a"
            ],
            [
             0.8888888888888888,
             "#fdca26"
            ],
            [
             1,
             "#f0f921"
            ]
           ]
          },
          "colorway": [
           "#636efa",
           "#EF553B",
           "#00cc96",
           "#ab63fa",
           "#FFA15A",
           "#19d3f3",
           "#FF6692",
           "#B6E880",
           "#FF97FF",
           "#FECB52"
          ],
          "font": {
           "color": "#2a3f5f"
          },
          "geo": {
           "bgcolor": "white",
           "lakecolor": "white",
           "landcolor": "#E5ECF6",
           "showlakes": true,
           "showland": true,
           "subunitcolor": "white"
          },
          "hoverlabel": {
           "align": "left"
          },
          "hovermode": "closest",
          "mapbox": {
           "style": "light"
          },
          "paper_bgcolor": "white",
          "plot_bgcolor": "#E5ECF6",
          "polar": {
           "angularaxis": {
            "gridcolor": "white",
            "linecolor": "white",
            "ticks": ""
           },
           "bgcolor": "#E5ECF6",
           "radialaxis": {
            "gridcolor": "white",
            "linecolor": "white",
            "ticks": ""
           }
          },
          "scene": {
           "xaxis": {
            "backgroundcolor": "#E5ECF6",
            "gridcolor": "white",
            "gridwidth": 2,
            "linecolor": "white",
            "showbackground": true,
            "ticks": "",
            "zerolinecolor": "white"
           },
           "yaxis": {
            "backgroundcolor": "#E5ECF6",
            "gridcolor": "white",
            "gridwidth": 2,
            "linecolor": "white",
            "showbackground": true,
            "ticks": "",
            "zerolinecolor": "white"
           },
           "zaxis": {
            "backgroundcolor": "#E5ECF6",
            "gridcolor": "white",
            "gridwidth": 2,
            "linecolor": "white",
            "showbackground": true,
            "ticks": "",
            "zerolinecolor": "white"
           }
          },
          "shapedefaults": {
           "line": {
            "color": "#2a3f5f"
           }
          },
          "ternary": {
           "aaxis": {
            "gridcolor": "white",
            "linecolor": "white",
            "ticks": ""
           },
           "baxis": {
            "gridcolor": "white",
            "linecolor": "white",
            "ticks": ""
           },
           "bgcolor": "#E5ECF6",
           "caxis": {
            "gridcolor": "white",
            "linecolor": "white",
            "ticks": ""
           }
          },
          "title": {
           "x": 0.05
          },
          "xaxis": {
           "automargin": true,
           "gridcolor": "white",
           "linecolor": "white",
           "ticks": "",
           "title": {
            "standoff": 15
           },
           "zerolinecolor": "white",
           "zerolinewidth": 2
          },
          "yaxis": {
           "automargin": true,
           "gridcolor": "white",
           "linecolor": "white",
           "ticks": "",
           "title": {
            "standoff": 15
           },
           "zerolinecolor": "white",
           "zerolinewidth": 2
          }
         }
        },
        "title": {
         "text": "Radar Chart of Macrosectors by Pilar"
        }
       }
      }
     },
     "metadata": {},
     "output_type": "display_data"
    }
   ],
   "source": [
    "# Encadenar las operaciones de pandas para simplificar el proceso:\n",
    "# 1. Agrupar por Macrosector y Nombre Pilar, calculando la media.\n",
    "radar_final_df = (\n",
    "    raw_data.groupby(['Macrosector', 'Nombre Pilar'])['valoracionPonderada']\n",
    "    .mean()\n",
    "    .reset_index()\n",
    "    .pivot_table(\n",
    "        index='Nombre Pilar',\n",
    "        columns='Macrosector',\n",
    "        values='valoracionPonderada'\n",
    "    )\n",
    "    .fillna(0)\n",
    "    .reset_index()\n",
    "    .rename(columns={'Nombre Pilar': 'category'})\n",
    ")\n",
    "\n",
    "categories = radar_final_df['category'].tolist()\n",
    "macrosectores = radar_final_df.drop(columns='category').columns.tolist()\n",
    "print(\"vars:\", macrosectores)\n",
    "\n",
    "fig = go.Figure()\n",
    "\n",
    "for macrosector in macrosectores:\n",
    "    fig.add_trace(go.Scatterpolar(\n",
    "        r=radar_final_df[macrosector].values,\n",
    "        theta=categories,\n",
    "        fill='toself',\n",
    "        name=macrosector\n",
    "    ))\n",
    "\n",
    "fig.update_layout(\n",
    "    polar=dict(\n",
    "        radialaxis=dict(\n",
    "            visible=True,\n",
    "            range=[0, 30]  # Ajusta el rango según tus datos\n",
    "        )\n",
    "    ),\n",
    "    showlegend=True,\n",
    "    title='Radar Chart of Macrosectors by Pilar'\n",
    ")\n",
    "\n",
    "fig.show()\n"
   ]
  },
  {
   "cell_type": "markdown",
   "metadata": {
    "id": "5pju1snkmilQ"
   },
   "source": [
    "## 2. Matriz Térmica de Desempeño Empresaria"
   ]
  },
  {
   "cell_type": "markdown",
   "metadata": {
    "id": "Ugb6ZL9usxFf"
   },
   "source": [
    "### Manejo de datos"
   ]
  },
  {
   "cell_type": "code",
   "execution_count": 18,
   "metadata": {
    "colab": {
     "base_uri": "https://localhost:8080/",
     "height": 206
    },
    "executionInfo": {
     "elapsed": 93,
     "status": "ok",
     "timestamp": 1754157043199,
     "user": {
      "displayName": "Juan Camilo Ortiz",
      "userId": "14839115185471025896"
     },
     "user_tz": 300
    },
    "id": "MT16zHh_mlNC",
    "outputId": "7b4d8493-d3ff-4751-a38d-9f88b45a4493"
   },
   "outputs": [],
   "source": [
    "# 1. Pivotar la tabla para agregar los valores.\n",
    "#    - Se agrupa por 'Razón social' y 'Nombre Pilar'.\n",
    "#    - Se calcula la SUMA de 'valoracionPonderada' como indica la guía.\n",
    "#    - Se rellenan los valores nulos con 0.\n",
    "heatmap_pivot = raw_data.pivot_table(\n",
    "    index='Razón social',\n",
    "    columns='Nombre Pilar',\n",
    "    values='valoracionPonderada',\n",
    "    aggfunc='sum',\n",
    "    fill_value=0\n",
    ")\n",
    "\n",
    "# 2. \"Derretir\" (unpivot) la tabla para convertirla a un formato largo.\n",
    "#    Este es el formato que amCharts consume más fácilmente para un heatmap.\n",
    "#    Cada fila representará una celda única en el mapa de calor.\n",
    "heatmap_long = heatmap_pivot.reset_index().melt(\n",
    "    id_vars='Razón social',\n",
    "    var_name='pilar',\n",
    "    value_name='value'\n",
    ")\n",
    "\n",
    "# Renombrar 'Razón social' para mayor claridad en el JSON\n",
    "heatmap_long.rename(columns={'Razón social': 'empresa'}, inplace=True)\n",
    "# Ordenar empresa de manera ascendente\n",
    "heatmap_long.sort_values(by='empresa', inplace=True)\n",
    "\n",
    "\n",
    "# --- PASO 3: Guardar los datos en formato JSON ---\n",
    "\n",
    "# Guardar el DataFrame largo en un archivo JSON.\n",
    "heatmap_long.to_json('Dashboard/heatmap_data.json', orient='records', indent=4, force_ascii=False)\n"
   ]
  },
  {
   "cell_type": "markdown",
   "metadata": {},
   "source": [
    "## 3. Diagrama de Violín de la Dispersión del Desempeño Sectorial"
   ]
  },
  {
   "cell_type": "markdown",
   "metadata": {},
   "source": [
    "### Manejo de datos"
   ]
  },
  {
   "cell_type": "code",
   "execution_count": 28,
   "metadata": {},
   "outputs": [],
   "source": [
    "# 1. Calcular el puntaje total (suma de valoracionPonderada) para cada empresa.\n",
    "total_scores = raw_data.groupby(['Razón social', 'Macrosector'])['valoracionPonderada'].sum().reset_index()\n",
    "total_scores.rename(columns={'valoracionPonderada': 'puntaje_total'}, inplace=True)\n",
    "\n",
    "# 2. Eliminar Razón social y limpiar Macrosector '0' 'No' 'No informa' 'SI' 'Si'\n",
    "total_scores = total_scores[~total_scores['Macrosector'].isin(['0', 'No', 'No informa', 'SI', 'Si'])]\n",
    "total_scores.drop(columns='Razón social', inplace=True)\n",
    "\n",
    "\n",
    "# 3. Agrupar por Macrosector y tener todos los puntajes en una sola fila.\n",
    "total_scores = total_scores.groupby('Macrosector')['puntaje_total'].apply(lambda x: x.tolist()).reset_index()\n",
    "\n",
    "# 4. Guardar el DataFrame en formato JSON\n",
    "total_scores.set_index('Macrosector', inplace=True)\n",
    "violin_data = total_scores['puntaje_total'].to_dict()\n",
    "\n",
    "with open('Dashboard/violin_data.json', 'w', encoding='utf-8') as f:\n",
    "    json.dump(violin_data, f, indent=4, ensure_ascii=False)"
   ]
  }
 ],
 "metadata": {
  "colab": {
   "authorship_tag": "ABX9TyPpGWVHkKnlnCs6bt9fzXz7",
   "mount_file_id": "1YK4iqHtcyn7HTLe1B1tbVbNp5SA1IFEU",
   "provenance": []
  },
  "kernelspec": {
   "display_name": "datascience",
   "language": "python",
   "name": "python3"
  },
  "language_info": {
   "codemirror_mode": {
    "name": "ipython",
    "version": 3
   },
   "file_extension": ".py",
   "mimetype": "text/x-python",
   "name": "python",
   "nbconvert_exporter": "python",
   "pygments_lexer": "ipython3",
   "version": "3.12.9"
  }
 },
 "nbformat": 4,
 "nbformat_minor": 0
}
