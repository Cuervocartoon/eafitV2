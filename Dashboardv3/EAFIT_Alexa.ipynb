{
 "cells": [
  {
   "cell_type": "markdown",
   "metadata": {},
   "source": [
    "# Imports libraries"
   ]
  },
  {
   "cell_type": "code",
   "execution_count": 1,
   "metadata": {
    "executionInfo": {
     "elapsed": 72,
     "status": "ok",
     "timestamp": 1754157016791,
     "user": {
      "displayName": "Juan Camilo Ortiz",
      "userId": "14839115185471025896"
     },
     "user_tz": 300
    },
    "id": "PyJ0rSz5FiCm"
   },
   "outputs": [],
   "source": [
    "import pandas as pd\n",
    "import numpy as np\n",
    "from scipy.stats import gaussian_kde\n",
    "import statsmodels.api as sm\n",
    "import json\n",
    "import matplotlib.pyplot as plt\n",
    "import plotly.graph_objects as go\n",
    "from plotly.subplots import make_subplots\n",
    "import plotly.express as px\n",
    "import plotly.io as pio\n",
    "import os\n",
    "from datetime import datetime"
   ]
  },
  {
   "cell_type": "code",
   "execution_count": null,
   "metadata": {},
   "outputs": [],
   "source": [
    "empresasEafit = pd.read_excel(\"Empresas muestreadas 2024 VF.xlsx\", sheet_name=\"DataBase\")\n",
    "empresasEafit = empresasEafit[['Razón social', 'Macrosector',\n",
    "       'Tipo de propiedad (Privada, Pública, Mixta)',\n",
    "       '¿Es empresa familiar? Si/No', '¿Cotiza en bolsa? Si/No',\n",
    "       '¿Multinacional? Si/No', 'Año de fundación',\n",
    "       'País de base principal (nacionalidad)', 'Ingresos operacionales',\n",
    "       'Variable', 'Valor', 'Bloque', 'Nombre Pilar',\n",
    "       'Ponderación Materialidad', 'Valoración', 'valoracionPonderada']]\n",
    "empresasEafit.to_csv('empresasEafit.csv', sep=',', index=False, encoding='utf-8')                              "
   ]
  },
  {
   "cell_type": "markdown",
   "metadata": {},
   "source": [
    "# Info base"
   ]
  },
  {
   "cell_type": "code",
   "execution_count": 14,
   "metadata": {
    "colab": {
     "base_uri": "https://localhost:8080/",
     "height": 643
    },
    "executionInfo": {
     "elapsed": 186,
     "status": "ok",
     "timestamp": 1754157029068,
     "user": {
      "displayName": "Juan Camilo Ortiz",
      "userId": "14839115185471025896"
     },
     "user_tz": 300
    },
    "id": "SDUXuswFGcMy",
    "outputId": "7a1acbcf-fe28-4bee-f46d-085e3fa1139b"
   },
   "outputs": [
    {
     "data": {
      "text/plain": [
       "Index(['Razón social', 'Macrosector',\n",
       "       'Tipo de propiedad (Privada, Pública, Mixta)',\n",
       "       '¿Es empresa familiar? Si/No', '¿Cotiza en bolsa? Si/No',\n",
       "       '¿Multinacional? Si/No', 'Año de fundación',\n",
       "       'País de base principal (nacionalidad)', 'Ingresos operacionales',\n",
       "       'Variable', 'Valor', 'Bloque', 'Nombre Pilar',\n",
       "       'Ponderación Materialidad', 'Valoración', 'valoracionPonderada'],\n",
       "      dtype='object')"
      ]
     },
     "execution_count": 14,
     "metadata": {},
     "output_type": "execute_result"
    }
   ],
   "source": [
    "raw_data = pd.read_csv('empresasEafit.csv')\n",
    "raw_data.rename(columns=lambda x: x.strip(), inplace=True)\n",
    "raw_data = raw_data[~raw_data['Macrosector'].isin(['0', 'No', 'No informa', 'SI', 'Si'])]\n",
    "raw_data.columns"
   ]
  },
  {
   "cell_type": "code",
   "execution_count": 15,
   "metadata": {},
   "outputs": [],
   "source": [
    "def save_chart_as_html(fig, filename):\n",
    "    # \"\"\"\n",
    "    # Guarda una figura de Plotly como un archivo HTML autocontenido en la carpeta 'charts'.\n",
    "    # \"\"\"\n",
    "    # # Generar el HTML del gráfico\n",
    "    # html1 = pio.to_html(fig, full_html=False, include_plotlyjs='cdn')\n",
    "    \n",
    "    # # Guardar el archivo\n",
    "    # filepath = os.path.join('charts', filename)\n",
    "    # with open(filepath, 'w', encoding='utf-8') as f:\n",
    "    #     f.write(html1)\n",
    "        # Generar el HTML del gráfico\n",
    "    html_div = pio.to_html(fig, full_html=False, include_plotlyjs=False)\n",
    "    \n",
    "    # Crear el contenido del archivo HTML completo\n",
    "    full_html = f\"\"\"\n",
    "    <html>\n",
    "    <head>\n",
    "        <meta charset=\"UTF-8\">\n",
    "        <script src=\"https://cdn.plot.ly/plotly-3.0.1.min.js\"></script>\n",
    "        <style>\n",
    "            body {{ margin: 0; padding: 0; }}\n",
    "            .js-plotly-plot .plotly .modebar {{ right: 5px !important; top: 5px !important; }}\n",
    "        </style>\n",
    "    </head>\n",
    "    <body>\n",
    "        {html_div}\n",
    "    </body>\n",
    "    </html>\n",
    "    \"\"\"\n",
    "    filepath = os.path.join('charts', filename)\n",
    "    with open(filepath, 'w', encoding='utf-8') as f:\n",
    "        f.write(full_html)\n",
    "\n",
    "# Function to wrap long text labels\n",
    "def wrap_text(text, max_length=25):\n",
    "    \"\"\"\n",
    "    Wrap text to multiple lines if it exceeds max_length characters.\n",
    "    \"\"\"\n",
    "    if len(text) <= max_length:\n",
    "        return text\n",
    "    \n",
    "    words = text.split()\n",
    "    lines = []\n",
    "    current_line = []\n",
    "    current_length = 0\n",
    "    \n",
    "    for word in words:\n",
    "        # Check if adding this word would exceed the limit\n",
    "        if current_length + len(word) + len(current_line) > max_length and current_line:\n",
    "            lines.append(' '.join(current_line))\n",
    "            current_line = [word]\n",
    "            current_length = len(word)\n",
    "        else:\n",
    "            current_line.append(word)\n",
    "            current_length += len(word)\n",
    "    \n",
    "    if current_line:\n",
    "        lines.append(' '.join(current_line))\n",
    "    \n",
    "    return '<br>'.join(lines)\n"
   ]
  },
  {
   "cell_type": "markdown",
   "metadata": {},
   "source": [
    "# **Parte 1: Panorama General del Desempeño Corporativo**"
   ]
  },
  {
   "cell_type": "markdown",
   "metadata": {
    "id": "V9IepepMgDJs"
   },
   "source": [
    "## 1. Radar de Competitividad por Pilar y Macrosector"
   ]
  },
  {
   "cell_type": "code",
   "execution_count": 16,
   "metadata": {
    "colab": {
     "base_uri": "https://localhost:8080/",
     "height": 255
    },
    "executionInfo": {
     "elapsed": 123,
     "status": "ok",
     "timestamp": 1754157080775,
     "user": {
      "displayName": "Juan Camilo Ortiz",
      "userId": "14839115185471025896"
     },
     "user_tz": 300
    },
    "id": "ZcPHf1PXf-bM",
    "outputId": "3677d9c4-6ef1-42a5-c078-6dfe19bcc0f4"
   },
   "outputs": [
    {
     "data": {
      "application/vnd.plotly.v1+json": {
       "config": {
        "plotlyServerURL": "https://plot.ly"
       },
       "data": [
        {
         "fill": "toself",
         "fillcolor": "rgb(228,26,28)",
         "line": {
          "color": "rgb(228,26,28)"
         },
         "name": "Agropecuario",
         "opacity": 0.6,
         "r": {
          "bdata": "0MzMzMzMQkACAAAAAAA2QAQAAAAAACJAAQAAAACAQUAAAAAAAAAAAAAAAAAAAFlA",
          "dtype": "f8"
         },
         "theta": [
          "Acción Climática y<br>Energía",
          "Capital Humano: Bienestar<br>y Desarrollo",
          "Diversidad, Equidad e<br>Inclusión (DEI)",
          "Gestión de Recursos<br>Naturales y Circularidad",
          "Impacto Económico, Social<br>y Comunitario",
          "Transparencia y Gobierno<br>de la Sostenibilidad"
         ],
         "type": "scatterpolar"
        },
        {
         "fill": "toself",
         "fillcolor": "rgb(55,126,184)",
         "line": {
          "color": "rgb(55,126,184)"
         },
         "name": "Comercio",
         "opacity": 0.6,
         "r": {
          "bdata": "+WU0GA3XS0DbQKz3Kgk1QC1QLhlpwkFAAAAAAAAAAAChUPxZ5ZAVQAAAAAAAAFlA",
          "dtype": "f8"
         },
         "theta": [
          "Acción Climática y<br>Energía",
          "Capital Humano: Bienestar<br>y Desarrollo",
          "Diversidad, Equidad e<br>Inclusión (DEI)",
          "Gestión de Recursos<br>Naturales y Circularidad",
          "Impacto Económico, Social<br>y Comunitario",
          "Transparencia y Gobierno<br>de la Sostenibilidad"
         ],
         "type": "scatterpolar"
        },
        {
         "fill": "toself",
         "fillcolor": "rgb(77,175,74)",
         "line": {
          "color": "rgb(77,175,74)"
         },
         "name": "Construcción",
         "opacity": 0.6,
         "r": {
          "bdata": "P6T3cFGcNkCzKi0KZ/g/QAAAAAAAAAAAI+wT7fNLP0DzFVgQ8gMJQAAAAAAAAFlA",
          "dtype": "f8"
         },
         "theta": [
          "Acción Climática y<br>Energía",
          "Capital Humano: Bienestar<br>y Desarrollo",
          "Diversidad, Equidad e<br>Inclusión (DEI)",
          "Gestión de Recursos<br>Naturales y Circularidad",
          "Impacto Económico, Social<br>y Comunitario",
          "Transparencia y Gobierno<br>de la Sostenibilidad"
         ],
         "type": "scatterpolar"
        },
        {
         "fill": "toself",
         "fillcolor": "rgb(152,78,163)",
         "line": {
          "color": "rgb(152,78,163)"
         },
         "name": "Manufactura",
         "opacity": 0.6,
         "r": {
          "bdata": "AAAAAAAAWUCFIbxHIiVIQEG1kwpNrSZA97y3yxmRUEAAAAAAAAAAAEuZsZNLvlRA",
          "dtype": "f8"
         },
         "theta": [
          "Acción Climática y<br>Energía",
          "Capital Humano: Bienestar<br>y Desarrollo",
          "Diversidad, Equidad e<br>Inclusión (DEI)",
          "Gestión de Recursos<br>Naturales y Circularidad",
          "Impacto Económico, Social<br>y Comunitario",
          "Transparencia y Gobierno<br>de la Sostenibilidad"
         ],
         "type": "scatterpolar"
        },
        {
         "fill": "toself",
         "fillcolor": "rgb(255,127,0)",
         "line": {
          "color": "rgb(255,127,0)"
         },
         "name": "Minero",
         "opacity": 0.6,
         "r": {
          "bdata": "zJUUCQq+UkBFuLA3bp9CQAAAAAAAAAAAAAAAAAAAWUBIh0PiDf86QE/Cx1tomFBA",
          "dtype": "f8"
         },
         "theta": [
          "Acción Climática y<br>Energía",
          "Capital Humano: Bienestar<br>y Desarrollo",
          "Diversidad, Equidad e<br>Inclusión (DEI)",
          "Gestión de Recursos<br>Naturales y Circularidad",
          "Impacto Económico, Social<br>y Comunitario",
          "Transparencia y Gobierno<br>de la Sostenibilidad"
         ],
         "type": "scatterpolar"
        },
        {
         "fill": "toself",
         "fillcolor": "rgb(255,255,51)",
         "line": {
          "color": "rgb(255,255,51)"
         },
         "name": "Servicios",
         "opacity": 0.6,
         "r": {
          "bdata": "ILTjb8UdO0CyanZOy80RQL0wMlSiA0BAAAAAAAAAAABQWCT0cwkXQAAAAAAAAFlA",
          "dtype": "f8"
         },
         "theta": [
          "Acción Climática y<br>Energía",
          "Capital Humano: Bienestar<br>y Desarrollo",
          "Diversidad, Equidad e<br>Inclusión (DEI)",
          "Gestión de Recursos<br>Naturales y Circularidad",
          "Impacto Económico, Social<br>y Comunitario",
          "Transparencia y Gobierno<br>de la Sostenibilidad"
         ],
         "type": "scatterpolar"
        }
       ],
       "layout": {
        "polar": {
         "angularaxis": {
          "rotation": 0,
          "tickfont": {
           "size": 10
          },
          "tickmode": "array",
          "ticktext": [
           "Acción Climática y<br>Energía",
           "Capital Humano: Bienestar<br>y Desarrollo",
           "Diversidad, Equidad e<br>Inclusión (DEI)",
           "Gestión de Recursos<br>Naturales y Circularidad",
           "Impacto Económico, Social<br>y Comunitario",
           "Transparencia y Gobierno<br>de la Sostenibilidad"
          ],
          "tickvals": [
           0,
           1,
           2,
           3,
           4,
           5
          ]
         },
         "radialaxis": {
          "dtick": 20,
          "range": [
           0,
           110.00000000000001
          ],
          "tick0": 0,
          "tickmode": "linear",
          "visible": true
         }
        },
        "showlegend": true,
        "template": {
         "data": {
          "bar": [
           {
            "error_x": {
             "color": "#2a3f5f"
            },
            "error_y": {
             "color": "#2a3f5f"
            },
            "marker": {
             "line": {
              "color": "#E5ECF6",
              "width": 0.5
             },
             "pattern": {
              "fillmode": "overlay",
              "size": 10,
              "solidity": 0.2
             }
            },
            "type": "bar"
           }
          ],
          "barpolar": [
           {
            "marker": {
             "line": {
              "color": "#E5ECF6",
              "width": 0.5
             },
             "pattern": {
              "fillmode": "overlay",
              "size": 10,
              "solidity": 0.2
             }
            },
            "type": "barpolar"
           }
          ],
          "carpet": [
           {
            "aaxis": {
             "endlinecolor": "#2a3f5f",
             "gridcolor": "white",
             "linecolor": "white",
             "minorgridcolor": "white",
             "startlinecolor": "#2a3f5f"
            },
            "baxis": {
             "endlinecolor": "#2a3f5f",
             "gridcolor": "white",
             "linecolor": "white",
             "minorgridcolor": "white",
             "startlinecolor": "#2a3f5f"
            },
            "type": "carpet"
           }
          ],
          "choropleth": [
           {
            "colorbar": {
             "outlinewidth": 0,
             "ticks": ""
            },
            "type": "choropleth"
           }
          ],
          "contour": [
           {
            "colorbar": {
             "outlinewidth": 0,
             "ticks": ""
            },
            "colorscale": [
             [
              0,
              "#0d0887"
             ],
             [
              0.1111111111111111,
              "#46039f"
             ],
             [
              0.2222222222222222,
              "#7201a8"
             ],
             [
              0.3333333333333333,
              "#9c179e"
             ],
             [
              0.4444444444444444,
              "#bd3786"
             ],
             [
              0.5555555555555556,
              "#d8576b"
             ],
             [
              0.6666666666666666,
              "#ed7953"
             ],
             [
              0.7777777777777778,
              "#fb9f3a"
             ],
             [
              0.8888888888888888,
              "#fdca26"
             ],
             [
              1,
              "#f0f921"
             ]
            ],
            "type": "contour"
           }
          ],
          "contourcarpet": [
           {
            "colorbar": {
             "outlinewidth": 0,
             "ticks": ""
            },
            "type": "contourcarpet"
           }
          ],
          "heatmap": [
           {
            "colorbar": {
             "outlinewidth": 0,
             "ticks": ""
            },
            "colorscale": [
             [
              0,
              "#0d0887"
             ],
             [
              0.1111111111111111,
              "#46039f"
             ],
             [
              0.2222222222222222,
              "#7201a8"
             ],
             [
              0.3333333333333333,
              "#9c179e"
             ],
             [
              0.4444444444444444,
              "#bd3786"
             ],
             [
              0.5555555555555556,
              "#d8576b"
             ],
             [
              0.6666666666666666,
              "#ed7953"
             ],
             [
              0.7777777777777778,
              "#fb9f3a"
             ],
             [
              0.8888888888888888,
              "#fdca26"
             ],
             [
              1,
              "#f0f921"
             ]
            ],
            "type": "heatmap"
           }
          ],
          "histogram": [
           {
            "marker": {
             "pattern": {
              "fillmode": "overlay",
              "size": 10,
              "solidity": 0.2
             }
            },
            "type": "histogram"
           }
          ],
          "histogram2d": [
           {
            "colorbar": {
             "outlinewidth": 0,
             "ticks": ""
            },
            "colorscale": [
             [
              0,
              "#0d0887"
             ],
             [
              0.1111111111111111,
              "#46039f"
             ],
             [
              0.2222222222222222,
              "#7201a8"
             ],
             [
              0.3333333333333333,
              "#9c179e"
             ],
             [
              0.4444444444444444,
              "#bd3786"
             ],
             [
              0.5555555555555556,
              "#d8576b"
             ],
             [
              0.6666666666666666,
              "#ed7953"
             ],
             [
              0.7777777777777778,
              "#fb9f3a"
             ],
             [
              0.8888888888888888,
              "#fdca26"
             ],
             [
              1,
              "#f0f921"
             ]
            ],
            "type": "histogram2d"
           }
          ],
          "histogram2dcontour": [
           {
            "colorbar": {
             "outlinewidth": 0,
             "ticks": ""
            },
            "colorscale": [
             [
              0,
              "#0d0887"
             ],
             [
              0.1111111111111111,
              "#46039f"
             ],
             [
              0.2222222222222222,
              "#7201a8"
             ],
             [
              0.3333333333333333,
              "#9c179e"
             ],
             [
              0.4444444444444444,
              "#bd3786"
             ],
             [
              0.5555555555555556,
              "#d8576b"
             ],
             [
              0.6666666666666666,
              "#ed7953"
             ],
             [
              0.7777777777777778,
              "#fb9f3a"
             ],
             [
              0.8888888888888888,
              "#fdca26"
             ],
             [
              1,
              "#f0f921"
             ]
            ],
            "type": "histogram2dcontour"
           }
          ],
          "mesh3d": [
           {
            "colorbar": {
             "outlinewidth": 0,
             "ticks": ""
            },
            "type": "mesh3d"
           }
          ],
          "parcoords": [
           {
            "line": {
             "colorbar": {
              "outlinewidth": 0,
              "ticks": ""
             }
            },
            "type": "parcoords"
           }
          ],
          "pie": [
           {
            "automargin": true,
            "type": "pie"
           }
          ],
          "scatter": [
           {
            "fillpattern": {
             "fillmode": "overlay",
             "size": 10,
             "solidity": 0.2
            },
            "type": "scatter"
           }
          ],
          "scatter3d": [
           {
            "line": {
             "colorbar": {
              "outlinewidth": 0,
              "ticks": ""
             }
            },
            "marker": {
             "colorbar": {
              "outlinewidth": 0,
              "ticks": ""
             }
            },
            "type": "scatter3d"
           }
          ],
          "scattercarpet": [
           {
            "marker": {
             "colorbar": {
              "outlinewidth": 0,
              "ticks": ""
             }
            },
            "type": "scattercarpet"
           }
          ],
          "scattergeo": [
           {
            "marker": {
             "colorbar": {
              "outlinewidth": 0,
              "ticks": ""
             }
            },
            "type": "scattergeo"
           }
          ],
          "scattergl": [
           {
            "marker": {
             "colorbar": {
              "outlinewidth": 0,
              "ticks": ""
             }
            },
            "type": "scattergl"
           }
          ],
          "scattermap": [
           {
            "marker": {
             "colorbar": {
              "outlinewidth": 0,
              "ticks": ""
             }
            },
            "type": "scattermap"
           }
          ],
          "scattermapbox": [
           {
            "marker": {
             "colorbar": {
              "outlinewidth": 0,
              "ticks": ""
             }
            },
            "type": "scattermapbox"
           }
          ],
          "scatterpolar": [
           {
            "marker": {
             "colorbar": {
              "outlinewidth": 0,
              "ticks": ""
             }
            },
            "type": "scatterpolar"
           }
          ],
          "scatterpolargl": [
           {
            "marker": {
             "colorbar": {
              "outlinewidth": 0,
              "ticks": ""
             }
            },
            "type": "scatterpolargl"
           }
          ],
          "scatterternary": [
           {
            "marker": {
             "colorbar": {
              "outlinewidth": 0,
              "ticks": ""
             }
            },
            "type": "scatterternary"
           }
          ],
          "surface": [
           {
            "colorbar": {
             "outlinewidth": 0,
             "ticks": ""
            },
            "colorscale": [
             [
              0,
              "#0d0887"
             ],
             [
              0.1111111111111111,
              "#46039f"
             ],
             [
              0.2222222222222222,
              "#7201a8"
             ],
             [
              0.3333333333333333,
              "#9c179e"
             ],
             [
              0.4444444444444444,
              "#bd3786"
             ],
             [
              0.5555555555555556,
              "#d8576b"
             ],
             [
              0.6666666666666666,
              "#ed7953"
             ],
             [
              0.7777777777777778,
              "#fb9f3a"
             ],
             [
              0.8888888888888888,
              "#fdca26"
             ],
             [
              1,
              "#f0f921"
             ]
            ],
            "type": "surface"
           }
          ],
          "table": [
           {
            "cells": {
             "fill": {
              "color": "#EBF0F8"
             },
             "line": {
              "color": "white"
             }
            },
            "header": {
             "fill": {
              "color": "#C8D4E3"
             },
             "line": {
              "color": "white"
             }
            },
            "type": "table"
           }
          ]
         },
         "layout": {
          "annotationdefaults": {
           "arrowcolor": "#2a3f5f",
           "arrowhead": 0,
           "arrowwidth": 1
          },
          "autotypenumbers": "strict",
          "coloraxis": {
           "colorbar": {
            "outlinewidth": 0,
            "ticks": ""
           }
          },
          "colorscale": {
           "diverging": [
            [
             0,
             "#8e0152"
            ],
            [
             0.1,
             "#c51b7d"
            ],
            [
             0.2,
             "#de77ae"
            ],
            [
             0.3,
             "#f1b6da"
            ],
            [
             0.4,
             "#fde0ef"
            ],
            [
             0.5,
             "#f7f7f7"
            ],
            [
             0.6,
             "#e6f5d0"
            ],
            [
             0.7,
             "#b8e186"
            ],
            [
             0.8,
             "#7fbc41"
            ],
            [
             0.9,
             "#4d9221"
            ],
            [
             1,
             "#276419"
            ]
           ],
           "sequential": [
            [
             0,
             "#0d0887"
            ],
            [
             0.1111111111111111,
             "#46039f"
            ],
            [
             0.2222222222222222,
             "#7201a8"
            ],
            [
             0.3333333333333333,
             "#9c179e"
            ],
            [
             0.4444444444444444,
             "#bd3786"
            ],
            [
             0.5555555555555556,
             "#d8576b"
            ],
            [
             0.6666666666666666,
             "#ed7953"
            ],
            [
             0.7777777777777778,
             "#fb9f3a"
            ],
            [
             0.8888888888888888,
             "#fdca26"
            ],
            [
             1,
             "#f0f921"
            ]
           ],
           "sequentialminus": [
            [
             0,
             "#0d0887"
            ],
            [
             0.1111111111111111,
             "#46039f"
            ],
            [
             0.2222222222222222,
             "#7201a8"
            ],
            [
             0.3333333333333333,
             "#9c179e"
            ],
            [
             0.4444444444444444,
             "#bd3786"
            ],
            [
             0.5555555555555556,
             "#d8576b"
            ],
            [
             0.6666666666666666,
             "#ed7953"
            ],
            [
             0.7777777777777778,
             "#fb9f3a"
            ],
            [
             0.8888888888888888,
             "#fdca26"
            ],
            [
             1,
             "#f0f921"
            ]
           ]
          },
          "colorway": [
           "#636efa",
           "#EF553B",
           "#00cc96",
           "#ab63fa",
           "#FFA15A",
           "#19d3f3",
           "#FF6692",
           "#B6E880",
           "#FF97FF",
           "#FECB52"
          ],
          "font": {
           "color": "#2a3f5f"
          },
          "geo": {
           "bgcolor": "white",
           "lakecolor": "white",
           "landcolor": "#E5ECF6",
           "showlakes": true,
           "showland": true,
           "subunitcolor": "white"
          },
          "hoverlabel": {
           "align": "left"
          },
          "hovermode": "closest",
          "mapbox": {
           "style": "light"
          },
          "paper_bgcolor": "white",
          "plot_bgcolor": "#E5ECF6",
          "polar": {
           "angularaxis": {
            "gridcolor": "white",
            "linecolor": "white",
            "ticks": ""
           },
           "bgcolor": "#E5ECF6",
           "radialaxis": {
            "gridcolor": "white",
            "linecolor": "white",
            "ticks": ""
           }
          },
          "scene": {
           "xaxis": {
            "backgroundcolor": "#E5ECF6",
            "gridcolor": "white",
            "gridwidth": 2,
            "linecolor": "white",
            "showbackground": true,
            "ticks": "",
            "zerolinecolor": "white"
           },
           "yaxis": {
            "backgroundcolor": "#E5ECF6",
            "gridcolor": "white",
            "gridwidth": 2,
            "linecolor": "white",
            "showbackground": true,
            "ticks": "",
            "zerolinecolor": "white"
           },
           "zaxis": {
            "backgroundcolor": "#E5ECF6",
            "gridcolor": "white",
            "gridwidth": 2,
            "linecolor": "white",
            "showbackground": true,
            "ticks": "",
            "zerolinecolor": "white"
           }
          },
          "shapedefaults": {
           "line": {
            "color": "#2a3f5f"
           }
          },
          "ternary": {
           "aaxis": {
            "gridcolor": "white",
            "linecolor": "white",
            "ticks": ""
           },
           "baxis": {
            "gridcolor": "white",
            "linecolor": "white",
            "ticks": ""
           },
           "bgcolor": "#E5ECF6",
           "caxis": {
            "gridcolor": "white",
            "linecolor": "white",
            "ticks": ""
           }
          },
          "title": {
           "x": 0.05
          },
          "xaxis": {
           "automargin": true,
           "gridcolor": "white",
           "linecolor": "white",
           "ticks": "",
           "title": {
            "standoff": 15
           },
           "zerolinecolor": "white",
           "zerolinewidth": 2
          },
          "yaxis": {
           "automargin": true,
           "gridcolor": "white",
           "linecolor": "white",
           "ticks": "",
           "title": {
            "standoff": 15
           },
           "zerolinecolor": "white",
           "zerolinewidth": 2
          }
         }
        },
        "title": {
         "text": "1. Radar de Competitividad por Pilar y Macrosector",
         "x": 0.5,
         "xanchor": "center"
        }
       }
      }
     },
     "metadata": {},
     "output_type": "display_data"
    }
   ],
   "source": [
    "# Encadenar las operaciones de pandas para simplificar el proceso:\n",
    "# 1. Agrupar por Macrosector y Nombre Pilar, calculando la media.\n",
    "radar_final_df = (\n",
    "    raw_data.groupby(['Macrosector', 'Nombre Pilar'])['valoracionPonderada']\n",
    "    .mean()\n",
    "    .reset_index()\n",
    "    .pivot_table(\n",
    "        index='Nombre Pilar',\n",
    "        columns='Macrosector',\n",
    "        values='valoracionPonderada'\n",
    "    )\n",
    "    .fillna(0)\n",
    "    .reset_index()\n",
    "    .rename(columns={'Nombre Pilar': 'category'})\n",
    ")\n",
    "\n",
    "categories = radar_final_df['category'].tolist()\n",
    "macrosectores = radar_final_df.drop(columns='category').columns.tolist()\n",
    "\n",
    "# Normalize the values for better visualization up to 100\n",
    "radar_final_df[macrosectores] = radar_final_df[macrosectores].apply(\n",
    "    lambda x: (x - x.min()) / (x.max() - x.min()) * 100\n",
    ")   \n",
    "\n",
    "# Wrap category labels\n",
    "wrapped_categories = [wrap_text(cat) for cat in categories]\n",
    "\n",
    "fig = go.Figure()\n",
    "\n",
    "# Create color palette for different macrosectors\n",
    "colors = px.colors.qualitative.Set1[:len(macrosectores)]\n",
    "\n",
    "for i, macrosector in enumerate(macrosectores):\n",
    "    values = radar_final_df[macrosector].values\n",
    "    fig.add_trace(go.Scatterpolar(\n",
    "        r=values,\n",
    "        theta=wrapped_categories,  # Use wrapped categories\n",
    "        fill='toself',\n",
    "        name=macrosector,\n",
    "        line=dict(color=colors[i % len(colors)]),\n",
    "        fillcolor=colors[i % len(colors)],\n",
    "        opacity=0.6\n",
    "    ))\n",
    "\n",
    "fig.update_layout(\n",
    "    polar=dict(\n",
    "        radialaxis=dict(\n",
    "            visible=True,\n",
    "            range=[0, max(radar_final_df.drop(columns='category').max()) * 1.1],  # Dynamic range\n",
    "            tickmode='linear',\n",
    "            tick0=0,\n",
    "            dtick=20\n",
    "        ),\n",
    "        angularaxis=dict(\n",
    "            tickmode='array',\n",
    "            tickvals=list(range(len(categories))),\n",
    "            ticktext=wrapped_categories,  # Use wrapped categories\n",
    "            tickfont=dict(size=10),  # Smaller font for wrapped text\n",
    "            rotation=0  # Keep labels horizontal for better readability\n",
    "        )\n",
    "    ),\n",
    "    showlegend=True,\n",
    "    title={\n",
    "        'text': '1. Radar de Competitividad por Pilar y Macrosector',\n",
    "        'x': 0.5,\n",
    "        'xanchor': 'center'\n",
    "    }\n",
    ")\n",
    "fig.show()\n",
    "save_chart_as_html(fig, '01_radar_macroeconomic.html')\n",
    "# save as image\n",
    "fig.write_image(\"img/01_radar_macroeconomic.png\", width=1000, height=800, scale=2)\n"
   ]
  },
  {
   "cell_type": "markdown",
   "metadata": {
    "id": "5pju1snkmilQ"
   },
   "source": [
    "## 2. Mapa de calor de Desempeño Empresarial"
   ]
  },
  {
   "cell_type": "code",
   "execution_count": 17,
   "metadata": {
    "colab": {
     "base_uri": "https://localhost:8080/",
     "height": 206
    },
    "executionInfo": {
     "elapsed": 93,
     "status": "ok",
     "timestamp": 1754157043199,
     "user": {
      "displayName": "Juan Camilo Ortiz",
      "userId": "14839115185471025896"
     },
     "user_tz": 300
    },
    "id": "MT16zHh_mlNC",
    "outputId": "7b4d8493-d3ff-4751-a38d-9f88b45a4493"
   },
   "outputs": [
    {
     "data": {
      "application/vnd.plotly.v1+json": {
       "config": {
        "plotlyServerURL": "https://plot.ly"
       },
       "data": [
        {
         "colorbar": {
          "title": {
           "text": "Valoración Ponderada"
          }
         },
         "colorscale": [
          [
           0,
           "rgb(247,251,255)"
          ],
          [
           0.125,
           "rgb(222,235,247)"
          ],
          [
           0.25,
           "rgb(198,219,239)"
          ],
          [
           0.375,
           "rgb(158,202,225)"
          ],
          [
           0.5,
           "rgb(107,174,214)"
          ],
          [
           0.625,
           "rgb(66,146,198)"
          ],
          [
           0.75,
           "rgb(33,113,181)"
          ],
          [
           0.875,
           "rgb(8,81,156)"
          ],
          [
           1,
           "rgb(8,48,107)"
          ]
         ],
         "type": "heatmap",
         "x": [
          "Acción Climática y<br>Energía",
          "Capital Humano: Bienestar<br>y Desarrollo",
          "Diversidad, Equidad e<br>Inclusión (DEI)",
          "Gestión de Recursos<br>Naturales y Circularidad",
          "Impacto Económico, Social<br>y Comunitario",
          "Transparencia y Gobierno<br>de la Sostenibilidad"
         ],
         "y": [
          "ARA",
          "ARQUITECTURA Y CONCRETO",
          "AUTOPISTA RIO MAGDALENA SAS",
          "AVICOLA EL MADROÑO SA",
          "AVSA",
          "Aliar",
          "Alimentos Carnicos (Grupo Nutresa)",
          "Alpina",
          "Amarilo",
          "Avianca",
          "BEL STAR S.A.",
          "Banco de Bogotá",
          "Bancolombia",
          "Bavaria (Kopps)",
          "Biomax",
          "C.I Prodeco",
          "CARTON DE COLOMBIA S.A. (Smurfit Kappa)",
          "CI Eslop",
          "CONCESIONARIA VIAL UNIÓN DEL SUR SAS",
          "CONSTRUCCIONES EL CONDOR S.A",
          "CONSTRUCTORA CAPITAL BOGOTA SAS",
          "CONSTRUCTORA COLPATRIA  SAS",
          "Celsia",
          "Cementos Argos",
          "Cencosud",
          "Cenit",
          "Cerrejón",
          "Chevron",
          "Claro",
          "Coca Cola- Femsa",
          "Colgate",
          "Colombina",
          "Compañía Nacional de Chocolates",
          "Conconcreto",
          "Corbeta",
          "Cruz Verde",
          "D1",
          "Davivienda",
          "Distracom",
          "Drummond",
          "EPM",
          "ES Windows",
          "Ecopetrol",
          "Emgesa",
          "Esenttia",
          "Falabella",
          "Frontera Energy",
          "GEB",
          "Gases del Caribe",
          "General Motors",
          "Geopark",
          "Gran Tierra Energy",
          "Grupo Bios",
          "Grupo Diana",
          "Haceb",
          "Hocol",
          "INCUBADORA SANTANDER S.A. (Huevos Kikes)",
          "ISA",
          "ISMOCOL SA",
          "Isagen",
          "Italcol",
          "LATAM",
          "MARVAL S.A.S.",
          "Mazda",
          "Mercado Libre",
          "Nestle",
          "Oleoducto Central (Ocensa)",
          "Olímpica",
          "POLLOS EL BUCANERO S.A. (Cargill)",
          "Pepsico",
          "Petromil",
          "Postobón",
          "Pricesmart",
          "Primax",
          "Productos Familia (Essity)",
          "Promigas",
          "Rappi",
          "Reficar",
          "Renault",
          "Riopaila Castilla",
          "Samsung",
          "SierraCol Energy",
          "Sodimac (Homecenter)",
          "Sucafina",
          "Sunshine Bouquet",
          "Suramerica Comercial (Dollar City)",
          "Tecnoquimicas",
          "Telefónica",
          "Teleperformance",
          "Terpel",
          "Tigo",
          "Toyota",
          "Trafigura (Petroleum)",
          "Uniban",
          "Unilever",
          "Vanti",
          "Verano energy",
          "YARA COLOMBIA S.A.",
          "Yamaha",
          "Éxito"
         ],
         "z": {
          "bdata": "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",
          "dtype": "f8",
          "shape": "100, 6"
         }
        }
       ],
       "layout": {
        "template": {
         "data": {
          "bar": [
           {
            "error_x": {
             "color": "#2a3f5f"
            },
            "error_y": {
             "color": "#2a3f5f"
            },
            "marker": {
             "line": {
              "color": "#E5ECF6",
              "width": 0.5
             },
             "pattern": {
              "fillmode": "overlay",
              "size": 10,
              "solidity": 0.2
             }
            },
            "type": "bar"
           }
          ],
          "barpolar": [
           {
            "marker": {
             "line": {
              "color": "#E5ECF6",
              "width": 0.5
             },
             "pattern": {
              "fillmode": "overlay",
              "size": 10,
              "solidity": 0.2
             }
            },
            "type": "barpolar"
           }
          ],
          "carpet": [
           {
            "aaxis": {
             "endlinecolor": "#2a3f5f",
             "gridcolor": "white",
             "linecolor": "white",
             "minorgridcolor": "white",
             "startlinecolor": "#2a3f5f"
            },
            "baxis": {
             "endlinecolor": "#2a3f5f",
             "gridcolor": "white",
             "linecolor": "white",
             "minorgridcolor": "white",
             "startlinecolor": "#2a3f5f"
            },
            "type": "carpet"
           }
          ],
          "choropleth": [
           {
            "colorbar": {
             "outlinewidth": 0,
             "ticks": ""
            },
            "type": "choropleth"
           }
          ],
          "contour": [
           {
            "colorbar": {
             "outlinewidth": 0,
             "ticks": ""
            },
            "colorscale": [
             [
              0,
              "#0d0887"
             ],
             [
              0.1111111111111111,
              "#46039f"
             ],
             [
              0.2222222222222222,
              "#7201a8"
             ],
             [
              0.3333333333333333,
              "#9c179e"
             ],
             [
              0.4444444444444444,
              "#bd3786"
             ],
             [
              0.5555555555555556,
              "#d8576b"
             ],
             [
              0.6666666666666666,
              "#ed7953"
             ],
             [
              0.7777777777777778,
              "#fb9f3a"
             ],
             [
              0.8888888888888888,
              "#fdca26"
             ],
             [
              1,
              "#f0f921"
             ]
            ],
            "type": "contour"
           }
          ],
          "contourcarpet": [
           {
            "colorbar": {
             "outlinewidth": 0,
             "ticks": ""
            },
            "type": "contourcarpet"
           }
          ],
          "heatmap": [
           {
            "colorbar": {
             "outlinewidth": 0,
             "ticks": ""
            },
            "colorscale": [
             [
              0,
              "#0d0887"
             ],
             [
              0.1111111111111111,
              "#46039f"
             ],
             [
              0.2222222222222222,
              "#7201a8"
             ],
             [
              0.3333333333333333,
              "#9c179e"
             ],
             [
              0.4444444444444444,
              "#bd3786"
             ],
             [
              0.5555555555555556,
              "#d8576b"
             ],
             [
              0.6666666666666666,
              "#ed7953"
             ],
             [
              0.7777777777777778,
              "#fb9f3a"
             ],
             [
              0.8888888888888888,
              "#fdca26"
             ],
             [
              1,
              "#f0f921"
             ]
            ],
            "type": "heatmap"
           }
          ],
          "histogram": [
           {
            "marker": {
             "pattern": {
              "fillmode": "overlay",
              "size": 10,
              "solidity": 0.2
             }
            },
            "type": "histogram"
           }
          ],
          "histogram2d": [
           {
            "colorbar": {
             "outlinewidth": 0,
             "ticks": ""
            },
            "colorscale": [
             [
              0,
              "#0d0887"
             ],
             [
              0.1111111111111111,
              "#46039f"
             ],
             [
              0.2222222222222222,
              "#7201a8"
             ],
             [
              0.3333333333333333,
              "#9c179e"
             ],
             [
              0.4444444444444444,
              "#bd3786"
             ],
             [
              0.5555555555555556,
              "#d8576b"
             ],
             [
              0.6666666666666666,
              "#ed7953"
             ],
             [
              0.7777777777777778,
              "#fb9f3a"
             ],
             [
              0.8888888888888888,
              "#fdca26"
             ],
             [
              1,
              "#f0f921"
             ]
            ],
            "type": "histogram2d"
           }
          ],
          "histogram2dcontour": [
           {
            "colorbar": {
             "outlinewidth": 0,
             "ticks": ""
            },
            "colorscale": [
             [
              0,
              "#0d0887"
             ],
             [
              0.1111111111111111,
              "#46039f"
             ],
             [
              0.2222222222222222,
              "#7201a8"
             ],
             [
              0.3333333333333333,
              "#9c179e"
             ],
             [
              0.4444444444444444,
              "#bd3786"
             ],
             [
              0.5555555555555556,
              "#d8576b"
             ],
             [
              0.6666666666666666,
              "#ed7953"
             ],
             [
              0.7777777777777778,
              "#fb9f3a"
             ],
             [
              0.8888888888888888,
              "#fdca26"
             ],
             [
              1,
              "#f0f921"
             ]
            ],
            "type": "histogram2dcontour"
           }
          ],
          "mesh3d": [
           {
            "colorbar": {
             "outlinewidth": 0,
             "ticks": ""
            },
            "type": "mesh3d"
           }
          ],
          "parcoords": [
           {
            "line": {
             "colorbar": {
              "outlinewidth": 0,
              "ticks": ""
             }
            },
            "type": "parcoords"
           }
          ],
          "pie": [
           {
            "automargin": true,
            "type": "pie"
           }
          ],
          "scatter": [
           {
            "fillpattern": {
             "fillmode": "overlay",
             "size": 10,
             "solidity": 0.2
            },
            "type": "scatter"
           }
          ],
          "scatter3d": [
           {
            "line": {
             "colorbar": {
              "outlinewidth": 0,
              "ticks": ""
             }
            },
            "marker": {
             "colorbar": {
              "outlinewidth": 0,
              "ticks": ""
             }
            },
            "type": "scatter3d"
           }
          ],
          "scattercarpet": [
           {
            "marker": {
             "colorbar": {
              "outlinewidth": 0,
              "ticks": ""
             }
            },
            "type": "scattercarpet"
           }
          ],
          "scattergeo": [
           {
            "marker": {
             "colorbar": {
              "outlinewidth": 0,
              "ticks": ""
             }
            },
            "type": "scattergeo"
           }
          ],
          "scattergl": [
           {
            "marker": {
             "colorbar": {
              "outlinewidth": 0,
              "ticks": ""
             }
            },
            "type": "scattergl"
           }
          ],
          "scattermap": [
           {
            "marker": {
             "colorbar": {
              "outlinewidth": 0,
              "ticks": ""
             }
            },
            "type": "scattermap"
           }
          ],
          "scattermapbox": [
           {
            "marker": {
             "colorbar": {
              "outlinewidth": 0,
              "ticks": ""
             }
            },
            "type": "scattermapbox"
           }
          ],
          "scatterpolar": [
           {
            "marker": {
             "colorbar": {
              "outlinewidth": 0,
              "ticks": ""
             }
            },
            "type": "scatterpolar"
           }
          ],
          "scatterpolargl": [
           {
            "marker": {
             "colorbar": {
              "outlinewidth": 0,
              "ticks": ""
             }
            },
            "type": "scatterpolargl"
           }
          ],
          "scatterternary": [
           {
            "marker": {
             "colorbar": {
              "outlinewidth": 0,
              "ticks": ""
             }
            },
            "type": "scatterternary"
           }
          ],
          "surface": [
           {
            "colorbar": {
             "outlinewidth": 0,
             "ticks": ""
            },
            "colorscale": [
             [
              0,
              "#0d0887"
             ],
             [
              0.1111111111111111,
              "#46039f"
             ],
             [
              0.2222222222222222,
              "#7201a8"
             ],
             [
              0.3333333333333333,
              "#9c179e"
             ],
             [
              0.4444444444444444,
              "#bd3786"
             ],
             [
              0.5555555555555556,
              "#d8576b"
             ],
             [
              0.6666666666666666,
              "#ed7953"
             ],
             [
              0.7777777777777778,
              "#fb9f3a"
             ],
             [
              0.8888888888888888,
              "#fdca26"
             ],
             [
              1,
              "#f0f921"
             ]
            ],
            "type": "surface"
           }
          ],
          "table": [
           {
            "cells": {
             "fill": {
              "color": "#EBF0F8"
             },
             "line": {
              "color": "white"
             }
            },
            "header": {
             "fill": {
              "color": "#C8D4E3"
             },
             "line": {
              "color": "white"
             }
            },
            "type": "table"
           }
          ]
         },
         "layout": {
          "annotationdefaults": {
           "arrowcolor": "#2a3f5f",
           "arrowhead": 0,
           "arrowwidth": 1
          },
          "autotypenumbers": "strict",
          "coloraxis": {
           "colorbar": {
            "outlinewidth": 0,
            "ticks": ""
           }
          },
          "colorscale": {
           "diverging": [
            [
             0,
             "#8e0152"
            ],
            [
             0.1,
             "#c51b7d"
            ],
            [
             0.2,
             "#de77ae"
            ],
            [
             0.3,
             "#f1b6da"
            ],
            [
             0.4,
             "#fde0ef"
            ],
            [
             0.5,
             "#f7f7f7"
            ],
            [
             0.6,
             "#e6f5d0"
            ],
            [
             0.7,
             "#b8e186"
            ],
            [
             0.8,
             "#7fbc41"
            ],
            [
             0.9,
             "#4d9221"
            ],
            [
             1,
             "#276419"
            ]
           ],
           "sequential": [
            [
             0,
             "#0d0887"
            ],
            [
             0.1111111111111111,
             "#46039f"
            ],
            [
             0.2222222222222222,
             "#7201a8"
            ],
            [
             0.3333333333333333,
             "#9c179e"
            ],
            [
             0.4444444444444444,
             "#bd3786"
            ],
            [
             0.5555555555555556,
             "#d8576b"
            ],
            [
             0.6666666666666666,
             "#ed7953"
            ],
            [
             0.7777777777777778,
             "#fb9f3a"
            ],
            [
             0.8888888888888888,
             "#fdca26"
            ],
            [
             1,
             "#f0f921"
            ]
           ],
           "sequentialminus": [
            [
             0,
             "#0d0887"
            ],
            [
             0.1111111111111111,
             "#46039f"
            ],
            [
             0.2222222222222222,
             "#7201a8"
            ],
            [
             0.3333333333333333,
             "#9c179e"
            ],
            [
             0.4444444444444444,
             "#bd3786"
            ],
            [
             0.5555555555555556,
             "#d8576b"
            ],
            [
             0.6666666666666666,
             "#ed7953"
            ],
            [
             0.7777777777777778,
             "#fb9f3a"
            ],
            [
             0.8888888888888888,
             "#fdca26"
            ],
            [
             1,
             "#f0f921"
            ]
           ]
          },
          "colorway": [
           "#636efa",
           "#EF553B",
           "#00cc96",
           "#ab63fa",
           "#FFA15A",
           "#19d3f3",
           "#FF6692",
           "#B6E880",
           "#FF97FF",
           "#FECB52"
          ],
          "font": {
           "color": "#2a3f5f"
          },
          "geo": {
           "bgcolor": "white",
           "lakecolor": "white",
           "landcolor": "#E5ECF6",
           "showlakes": true,
           "showland": true,
           "subunitcolor": "white"
          },
          "hoverlabel": {
           "align": "left"
          },
          "hovermode": "closest",
          "mapbox": {
           "style": "light"
          },
          "paper_bgcolor": "white",
          "plot_bgcolor": "#E5ECF6",
          "polar": {
           "angularaxis": {
            "gridcolor": "white",
            "linecolor": "white",
            "ticks": ""
           },
           "bgcolor": "#E5ECF6",
           "radialaxis": {
            "gridcolor": "white",
            "linecolor": "white",
            "ticks": ""
           }
          },
          "scene": {
           "xaxis": {
            "backgroundcolor": "#E5ECF6",
            "gridcolor": "white",
            "gridwidth": 2,
            "linecolor": "white",
            "showbackground": true,
            "ticks": "",
            "zerolinecolor": "white"
           },
           "yaxis": {
            "backgroundcolor": "#E5ECF6",
            "gridcolor": "white",
            "gridwidth": 2,
            "linecolor": "white",
            "showbackground": true,
            "ticks": "",
            "zerolinecolor": "white"
           },
           "zaxis": {
            "backgroundcolor": "#E5ECF6",
            "gridcolor": "white",
            "gridwidth": 2,
            "linecolor": "white",
            "showbackground": true,
            "ticks": "",
            "zerolinecolor": "white"
           }
          },
          "shapedefaults": {
           "line": {
            "color": "#2a3f5f"
           }
          },
          "ternary": {
           "aaxis": {
            "gridcolor": "white",
            "linecolor": "white",
            "ticks": ""
           },
           "baxis": {
            "gridcolor": "white",
            "linecolor": "white",
            "ticks": ""
           },
           "bgcolor": "#E5ECF6",
           "caxis": {
            "gridcolor": "white",
            "linecolor": "white",
            "ticks": ""
           }
          },
          "title": {
           "x": 0.05
          },
          "xaxis": {
           "automargin": true,
           "gridcolor": "white",
           "linecolor": "white",
           "ticks": "",
           "title": {
            "standoff": 15
           },
           "zerolinecolor": "white",
           "zerolinewidth": 2
          },
          "yaxis": {
           "automargin": true,
           "gridcolor": "white",
           "linecolor": "white",
           "ticks": "",
           "title": {
            "standoff": 15
           },
           "zerolinecolor": "white",
           "zerolinewidth": 2
          }
         }
        },
        "title": {
         "text": "2. Mapa de Calor de Desempeño Empresarial"
        },
        "xaxis": {
         "title": {
          "text": "Pilares"
         }
        },
        "yaxis": {
         "title": {
          "text": "Empresas"
         }
        }
       }
      }
     },
     "metadata": {},
     "output_type": "display_data"
    }
   ],
   "source": [
    "# 1. Pivotar la tabla para agregar los valores.\n",
    "#    - Se agrupa por 'Razón social' y 'Nombre Pilar'.\n",
    "#    - Se calcula la SUMA de 'valoracionPonderada' como indica la guía.\n",
    "#    - Se rellenan los valores nulos con 0.\n",
    "heatmap_pivot = raw_data.pivot_table(\n",
    "    index='Razón social',\n",
    "    columns='Nombre Pilar',\n",
    "    values='valoracionPonderada',\n",
    "    aggfunc='mean',\n",
    "    fill_value=0\n",
    ")\n",
    "\n",
    "heatmap_pivot.sort_values(by='Razón social', inplace=True)\n",
    "wrapped_pilars = [wrap_text(col) for col in heatmap_pivot.columns]\n",
    "# Crear mapa de calor con Plotly\n",
    "heatmap_fig = go.Figure(data=go.Heatmap(\n",
    "    z=heatmap_pivot.values,\n",
    "    x=wrapped_pilars,\n",
    "    y=heatmap_pivot.index,\n",
    "    colorscale='blues',\n",
    "    colorbar=dict(title='Valoración Ponderada')\n",
    "))\n",
    "\n",
    "heatmap_fig.update_layout(\n",
    "    title='2. Mapa de Calor de Desempeño Empresarial',\n",
    "    xaxis_title='Pilares',\n",
    "    yaxis_title='Empresas'\n",
    ")\n",
    "\n",
    "heatmap_fig.show()\n",
    "save_chart_as_html(heatmap_fig, '02_heatmap_performance.html')\n",
    "# Save as image\n",
    "heatmap_fig.write_image(\"img/02_heatmap_performance.png\", width=1000, height=800, scale=2)"
   ]
  },
  {
   "cell_type": "markdown",
   "metadata": {},
   "source": [
    "## 3. Diagrama de Violín de la Dispersión del Desempeño Sectorial"
   ]
  },
  {
   "cell_type": "code",
   "execution_count": 18,
   "metadata": {},
   "outputs": [
    {
     "data": {
      "application/vnd.plotly.v1+json": {
       "config": {
        "plotlyServerURL": "https://plot.ly"
       },
       "data": [
        {
         "alignmentgroup": "True",
         "box": {
          "visible": true
         },
         "hovertemplate": "Macrosector=%{x}<br>Puntaje Total=%{y}<extra></extra>",
         "legendgroup": "Comercio",
         "marker": {
          "color": "#636efa"
         },
         "meanline": {
          "visible": true
         },
         "name": "Comercio",
         "offsetgroup": "Comercio",
         "orientation": "v",
         "points": "all",
         "scalegroup": "True",
         "showlegend": true,
         "type": "violin",
         "x": [
          "Comercio",
          "Comercio",
          "Comercio",
          "Comercio",
          "Comercio",
          "Comercio",
          "Comercio",
          "Comercio",
          "Comercio",
          "Comercio",
          "Comercio",
          "Comercio",
          "Comercio",
          "Comercio",
          "Comercio",
          "Comercio",
          "Comercio",
          "Comercio",
          "Comercio",
          "Comercio",
          "Comercio",
          "Comercio",
          "Comercio",
          "Comercio",
          "Comercio",
          "Comercio"
         ],
         "x0": " ",
         "xaxis": "x",
         "y": {
          "bdata": "AAAAAAAAAAAAAAAAAAAAAAAAAAAAAAAAAAAAAACAc0Dx8PDw8LBlQAAAAAAAAAAA9vg0xU4Ud0DR+yD4Add4QAAAAAAAAAAA7NXfUHfBfUDT0tLS0lJxQIeHh4eHhzdAAAAAAAAAAADbWIU32CBsQCQKPU4kkn1ALS0tLS3tdUDdHN0KfMd8QC0tLS0tLXBAAAAAAAAAAAAAAAAAAAAAACwgtSoBJoBAmEwmTkJWd0CmpaWlpSVuQKsuvp3bP3RAAAAAAAAAAACHXN4RvJF4QA==",
          "dtype": "f8"
         },
         "y0": " ",
         "yaxis": "y"
        },
        {
         "alignmentgroup": "True",
         "box": {
          "visible": true
         },
         "hovertemplate": "Macrosector=%{x}<br>Puntaje Total=%{y}<extra></extra>",
         "legendgroup": "Construcción",
         "marker": {
          "color": "#EF553B"
         },
         "meanline": {
          "visible": true
         },
         "name": "Construcción",
         "offsetgroup": "Construcción",
         "orientation": "v",
         "points": "all",
         "scalegroup": "True",
         "showlegend": true,
         "type": "violin",
         "x": [
          "Construcción",
          "Construcción",
          "Construcción",
          "Construcción",
          "Construcción",
          "Construcción",
          "Construcción",
          "Construcción",
          "Construcción",
          "Construcción"
         ],
         "x0": " ",
         "xaxis": "x",
         "y": {
          "bdata": "AAAAAAAAAAAmzvrd+K59QEPcNTq1PnhArKroTohGckBAbuz5a/VoQNiMPzPMBmRAVVVVVVUVa0ATT0IfnlFzQAAAAAAAAAAAqq0usKZXcEA=",
          "dtype": "f8"
         },
         "y0": " ",
         "yaxis": "y"
        },
        {
         "alignmentgroup": "True",
         "box": {
          "visible": true
         },
         "hovertemplate": "Macrosector=%{x}<br>Puntaje Total=%{y}<extra></extra>",
         "legendgroup": "Agropecuario",
         "marker": {
          "color": "#00cc96"
         },
         "meanline": {
          "visible": true
         },
         "name": "Agropecuario",
         "offsetgroup": "Agropecuario",
         "orientation": "v",
         "points": "all",
         "scalegroup": "True",
         "showlegend": true,
         "type": "violin",
         "x": [
          "Agropecuario",
          "Agropecuario",
          "Agropecuario",
          "Agropecuario",
          "Agropecuario",
          "Agropecuario"
         ],
         "x0": " ",
         "xaxis": "x",
         "y": {
          "bdata": "AAAAAAAAAAD0PM/zPM9HQKqqqqqqynNAhmEYhmFYY0AAAAAAAAAAACRJkiRJkixA",
          "dtype": "f8"
         },
         "y0": " ",
         "yaxis": "y"
        },
        {
         "alignmentgroup": "True",
         "box": {
          "visible": true
         },
         "hovertemplate": "Macrosector=%{x}<br>Puntaje Total=%{y}<extra></extra>",
         "legendgroup": "Manufactura",
         "marker": {
          "color": "#ab63fa"
         },
         "meanline": {
          "visible": true
         },
         "name": "Manufactura",
         "offsetgroup": "Manufactura",
         "orientation": "v",
         "points": "all",
         "scalegroup": "True",
         "showlegend": true,
         "type": "violin",
         "x": [
          "Manufactura",
          "Manufactura",
          "Manufactura",
          "Manufactura",
          "Manufactura",
          "Manufactura",
          "Manufactura",
          "Manufactura",
          "Manufactura",
          "Manufactura",
          "Manufactura",
          "Manufactura",
          "Manufactura",
          "Manufactura",
          "Manufactura",
          "Manufactura",
          "Manufactura",
          "Manufactura",
          "Manufactura",
          "Manufactura",
          "Manufactura",
          "Manufactura",
          "Manufactura",
          "Manufactura",
          "Manufactura",
          "Manufactura"
         ],
         "x0": " ",
         "xaxis": "x",
         "y": {
          "bdata": "yZkdQYTDf0Ai4vWinIR7QPjXgxysQXJAZ/w3+5kNa0BwE1ZuRO53QMeOqH7YDn5AfAFG1UJfe0Bncy9T6jBxQBq+G5++h4BAe39jYLXCcEBqIwaP/f12QNX/63tKeYFAIzRrxVONdEAAAAAAAAAAAMCZdFIMGHtAAAAAAAAAAABnRLJMekZvQAAAAAAAAAAAymsor6GccEB9/aTqK6uBQLZFBXs2+HdAdiuvC0izdkBK/J1I7GZ4QFtoUBqot3tAQ3kN5TWUb0CkiPZzUF5mQA==",
          "dtype": "f8"
         },
         "y0": " ",
         "yaxis": "y"
        },
        {
         "alignmentgroup": "True",
         "box": {
          "visible": true
         },
         "hovertemplate": "Macrosector=%{x}<br>Puntaje Total=%{y}<extra></extra>",
         "legendgroup": "Servicios",
         "marker": {
          "color": "#FFA15A"
         },
         "meanline": {
          "visible": true
         },
         "name": "Servicios",
         "offsetgroup": "Servicios",
         "orientation": "v",
         "points": "all",
         "scalegroup": "True",
         "showlegend": true,
         "type": "violin",
         "x": [
          "Servicios",
          "Servicios",
          "Servicios",
          "Servicios",
          "Servicios",
          "Servicios",
          "Servicios",
          "Servicios",
          "Servicios",
          "Servicios",
          "Servicios",
          "Servicios",
          "Servicios",
          "Servicios",
          "Servicios",
          "Servicios",
          "Servicios",
          "Servicios",
          "Servicios",
          "Servicios",
          "Servicios",
          "Servicios"
         ],
         "x0": " ",
         "xaxis": "x",
         "y": {
          "bdata": "QnMWIduQdkBq+2OSNqR/QHHJ4x9CKHZA0awctCVRe0Co3aowQYB8QFaPwt52VH1AgdUGM6sifkCOr5eCHjl7QETguoyik39A51cTupxgekDUAlKcJd5xQN52FL29cXlAe18Xr53gcEDeODzNNLl3QEx33reMB3RAv8BV0NZaeUCJSFwvQth8QAAAAAAAAAAAuUBhNztQfECUkTp1PfZ5QIUfT9VDunVA22GqP60YdkA=",
          "dtype": "f8"
         },
         "y0": " ",
         "yaxis": "y"
        },
        {
         "alignmentgroup": "True",
         "box": {
          "visible": true
         },
         "hovertemplate": "Macrosector=%{x}<br>Puntaje Total=%{y}<extra></extra>",
         "legendgroup": "Minero",
         "marker": {
          "color": "#19d3f3"
         },
         "meanline": {
          "visible": true
         },
         "name": "Minero",
         "offsetgroup": "Minero",
         "orientation": "v",
         "points": "all",
         "scalegroup": "True",
         "showlegend": true,
         "type": "violin",
         "x": [
          "Minero",
          "Minero",
          "Minero",
          "Minero",
          "Minero",
          "Minero",
          "Minero",
          "Minero",
          "Minero",
          "Minero"
         ],
         "x0": " ",
         "xaxis": "x",
         "y": {
          "bdata": "TuzETuzEPkBHRdpr8KlyQHHEL7MG+IBAdhdd8CbOgEDyeuZbVVp7QEmselPCBIBAedbcxDJydkC9z6QaYkB9QPctGHc6hH5AAAAAAAAAAAA=",
          "dtype": "f8"
         },
         "y0": " ",
         "yaxis": "y"
        }
       ],
       "layout": {
        "legend": {
         "title": {
          "text": "Macrosector"
         },
         "tracegroupgap": 0
        },
        "template": {
         "data": {
          "bar": [
           {
            "error_x": {
             "color": "#2a3f5f"
            },
            "error_y": {
             "color": "#2a3f5f"
            },
            "marker": {
             "line": {
              "color": "#E5ECF6",
              "width": 0.5
             },
             "pattern": {
              "fillmode": "overlay",
              "size": 10,
              "solidity": 0.2
             }
            },
            "type": "bar"
           }
          ],
          "barpolar": [
           {
            "marker": {
             "line": {
              "color": "#E5ECF6",
              "width": 0.5
             },
             "pattern": {
              "fillmode": "overlay",
              "size": 10,
              "solidity": 0.2
             }
            },
            "type": "barpolar"
           }
          ],
          "carpet": [
           {
            "aaxis": {
             "endlinecolor": "#2a3f5f",
             "gridcolor": "white",
             "linecolor": "white",
             "minorgridcolor": "white",
             "startlinecolor": "#2a3f5f"
            },
            "baxis": {
             "endlinecolor": "#2a3f5f",
             "gridcolor": "white",
             "linecolor": "white",
             "minorgridcolor": "white",
             "startlinecolor": "#2a3f5f"
            },
            "type": "carpet"
           }
          ],
          "choropleth": [
           {
            "colorbar": {
             "outlinewidth": 0,
             "ticks": ""
            },
            "type": "choropleth"
           }
          ],
          "contour": [
           {
            "colorbar": {
             "outlinewidth": 0,
             "ticks": ""
            },
            "colorscale": [
             [
              0,
              "#0d0887"
             ],
             [
              0.1111111111111111,
              "#46039f"
             ],
             [
              0.2222222222222222,
              "#7201a8"
             ],
             [
              0.3333333333333333,
              "#9c179e"
             ],
             [
              0.4444444444444444,
              "#bd3786"
             ],
             [
              0.5555555555555556,
              "#d8576b"
             ],
             [
              0.6666666666666666,
              "#ed7953"
             ],
             [
              0.7777777777777778,
              "#fb9f3a"
             ],
             [
              0.8888888888888888,
              "#fdca26"
             ],
             [
              1,
              "#f0f921"
             ]
            ],
            "type": "contour"
           }
          ],
          "contourcarpet": [
           {
            "colorbar": {
             "outlinewidth": 0,
             "ticks": ""
            },
            "type": "contourcarpet"
           }
          ],
          "heatmap": [
           {
            "colorbar": {
             "outlinewidth": 0,
             "ticks": ""
            },
            "colorscale": [
             [
              0,
              "#0d0887"
             ],
             [
              0.1111111111111111,
              "#46039f"
             ],
             [
              0.2222222222222222,
              "#7201a8"
             ],
             [
              0.3333333333333333,
              "#9c179e"
             ],
             [
              0.4444444444444444,
              "#bd3786"
             ],
             [
              0.5555555555555556,
              "#d8576b"
             ],
             [
              0.6666666666666666,
              "#ed7953"
             ],
             [
              0.7777777777777778,
              "#fb9f3a"
             ],
             [
              0.8888888888888888,
              "#fdca26"
             ],
             [
              1,
              "#f0f921"
             ]
            ],
            "type": "heatmap"
           }
          ],
          "histogram": [
           {
            "marker": {
             "pattern": {
              "fillmode": "overlay",
              "size": 10,
              "solidity": 0.2
             }
            },
            "type": "histogram"
           }
          ],
          "histogram2d": [
           {
            "colorbar": {
             "outlinewidth": 0,
             "ticks": ""
            },
            "colorscale": [
             [
              0,
              "#0d0887"
             ],
             [
              0.1111111111111111,
              "#46039f"
             ],
             [
              0.2222222222222222,
              "#7201a8"
             ],
             [
              0.3333333333333333,
              "#9c179e"
             ],
             [
              0.4444444444444444,
              "#bd3786"
             ],
             [
              0.5555555555555556,
              "#d8576b"
             ],
             [
              0.6666666666666666,
              "#ed7953"
             ],
             [
              0.7777777777777778,
              "#fb9f3a"
             ],
             [
              0.8888888888888888,
              "#fdca26"
             ],
             [
              1,
              "#f0f921"
             ]
            ],
            "type": "histogram2d"
           }
          ],
          "histogram2dcontour": [
           {
            "colorbar": {
             "outlinewidth": 0,
             "ticks": ""
            },
            "colorscale": [
             [
              0,
              "#0d0887"
             ],
             [
              0.1111111111111111,
              "#46039f"
             ],
             [
              0.2222222222222222,
              "#7201a8"
             ],
             [
              0.3333333333333333,
              "#9c179e"
             ],
             [
              0.4444444444444444,
              "#bd3786"
             ],
             [
              0.5555555555555556,
              "#d8576b"
             ],
             [
              0.6666666666666666,
              "#ed7953"
             ],
             [
              0.7777777777777778,
              "#fb9f3a"
             ],
             [
              0.8888888888888888,
              "#fdca26"
             ],
             [
              1,
              "#f0f921"
             ]
            ],
            "type": "histogram2dcontour"
           }
          ],
          "mesh3d": [
           {
            "colorbar": {
             "outlinewidth": 0,
             "ticks": ""
            },
            "type": "mesh3d"
           }
          ],
          "parcoords": [
           {
            "line": {
             "colorbar": {
              "outlinewidth": 0,
              "ticks": ""
             }
            },
            "type": "parcoords"
           }
          ],
          "pie": [
           {
            "automargin": true,
            "type": "pie"
           }
          ],
          "scatter": [
           {
            "fillpattern": {
             "fillmode": "overlay",
             "size": 10,
             "solidity": 0.2
            },
            "type": "scatter"
           }
          ],
          "scatter3d": [
           {
            "line": {
             "colorbar": {
              "outlinewidth": 0,
              "ticks": ""
             }
            },
            "marker": {
             "colorbar": {
              "outlinewidth": 0,
              "ticks": ""
             }
            },
            "type": "scatter3d"
           }
          ],
          "scattercarpet": [
           {
            "marker": {
             "colorbar": {
              "outlinewidth": 0,
              "ticks": ""
             }
            },
            "type": "scattercarpet"
           }
          ],
          "scattergeo": [
           {
            "marker": {
             "colorbar": {
              "outlinewidth": 0,
              "ticks": ""
             }
            },
            "type": "scattergeo"
           }
          ],
          "scattergl": [
           {
            "marker": {
             "colorbar": {
              "outlinewidth": 0,
              "ticks": ""
             }
            },
            "type": "scattergl"
           }
          ],
          "scattermap": [
           {
            "marker": {
             "colorbar": {
              "outlinewidth": 0,
              "ticks": ""
             }
            },
            "type": "scattermap"
           }
          ],
          "scattermapbox": [
           {
            "marker": {
             "colorbar": {
              "outlinewidth": 0,
              "ticks": ""
             }
            },
            "type": "scattermapbox"
           }
          ],
          "scatterpolar": [
           {
            "marker": {
             "colorbar": {
              "outlinewidth": 0,
              "ticks": ""
             }
            },
            "type": "scatterpolar"
           }
          ],
          "scatterpolargl": [
           {
            "marker": {
             "colorbar": {
              "outlinewidth": 0,
              "ticks": ""
             }
            },
            "type": "scatterpolargl"
           }
          ],
          "scatterternary": [
           {
            "marker": {
             "colorbar": {
              "outlinewidth": 0,
              "ticks": ""
             }
            },
            "type": "scatterternary"
           }
          ],
          "surface": [
           {
            "colorbar": {
             "outlinewidth": 0,
             "ticks": ""
            },
            "colorscale": [
             [
              0,
              "#0d0887"
             ],
             [
              0.1111111111111111,
              "#46039f"
             ],
             [
              0.2222222222222222,
              "#7201a8"
             ],
             [
              0.3333333333333333,
              "#9c179e"
             ],
             [
              0.4444444444444444,
              "#bd3786"
             ],
             [
              0.5555555555555556,
              "#d8576b"
             ],
             [
              0.6666666666666666,
              "#ed7953"
             ],
             [
              0.7777777777777778,
              "#fb9f3a"
             ],
             [
              0.8888888888888888,
              "#fdca26"
             ],
             [
              1,
              "#f0f921"
             ]
            ],
            "type": "surface"
           }
          ],
          "table": [
           {
            "cells": {
             "fill": {
              "color": "#EBF0F8"
             },
             "line": {
              "color": "white"
             }
            },
            "header": {
             "fill": {
              "color": "#C8D4E3"
             },
             "line": {
              "color": "white"
             }
            },
            "type": "table"
           }
          ]
         },
         "layout": {
          "annotationdefaults": {
           "arrowcolor": "#2a3f5f",
           "arrowhead": 0,
           "arrowwidth": 1
          },
          "autotypenumbers": "strict",
          "coloraxis": {
           "colorbar": {
            "outlinewidth": 0,
            "ticks": ""
           }
          },
          "colorscale": {
           "diverging": [
            [
             0,
             "#8e0152"
            ],
            [
             0.1,
             "#c51b7d"
            ],
            [
             0.2,
             "#de77ae"
            ],
            [
             0.3,
             "#f1b6da"
            ],
            [
             0.4,
             "#fde0ef"
            ],
            [
             0.5,
             "#f7f7f7"
            ],
            [
             0.6,
             "#e6f5d0"
            ],
            [
             0.7,
             "#b8e186"
            ],
            [
             0.8,
             "#7fbc41"
            ],
            [
             0.9,
             "#4d9221"
            ],
            [
             1,
             "#276419"
            ]
           ],
           "sequential": [
            [
             0,
             "#0d0887"
            ],
            [
             0.1111111111111111,
             "#46039f"
            ],
            [
             0.2222222222222222,
             "#7201a8"
            ],
            [
             0.3333333333333333,
             "#9c179e"
            ],
            [
             0.4444444444444444,
             "#bd3786"
            ],
            [
             0.5555555555555556,
             "#d8576b"
            ],
            [
             0.6666666666666666,
             "#ed7953"
            ],
            [
             0.7777777777777778,
             "#fb9f3a"
            ],
            [
             0.8888888888888888,
             "#fdca26"
            ],
            [
             1,
             "#f0f921"
            ]
           ],
           "sequentialminus": [
            [
             0,
             "#0d0887"
            ],
            [
             0.1111111111111111,
             "#46039f"
            ],
            [
             0.2222222222222222,
             "#7201a8"
            ],
            [
             0.3333333333333333,
             "#9c179e"
            ],
            [
             0.4444444444444444,
             "#bd3786"
            ],
            [
             0.5555555555555556,
             "#d8576b"
            ],
            [
             0.6666666666666666,
             "#ed7953"
            ],
            [
             0.7777777777777778,
             "#fb9f3a"
            ],
            [
             0.8888888888888888,
             "#fdca26"
            ],
            [
             1,
             "#f0f921"
            ]
           ]
          },
          "colorway": [
           "#636efa",
           "#EF553B",
           "#00cc96",
           "#ab63fa",
           "#FFA15A",
           "#19d3f3",
           "#FF6692",
           "#B6E880",
           "#FF97FF",
           "#FECB52"
          ],
          "font": {
           "color": "#2a3f5f"
          },
          "geo": {
           "bgcolor": "white",
           "lakecolor": "white",
           "landcolor": "#E5ECF6",
           "showlakes": true,
           "showland": true,
           "subunitcolor": "white"
          },
          "hoverlabel": {
           "align": "left"
          },
          "hovermode": "closest",
          "mapbox": {
           "style": "light"
          },
          "paper_bgcolor": "white",
          "plot_bgcolor": "#E5ECF6",
          "polar": {
           "angularaxis": {
            "gridcolor": "white",
            "linecolor": "white",
            "ticks": ""
           },
           "bgcolor": "#E5ECF6",
           "radialaxis": {
            "gridcolor": "white",
            "linecolor": "white",
            "ticks": ""
           }
          },
          "scene": {
           "xaxis": {
            "backgroundcolor": "#E5ECF6",
            "gridcolor": "white",
            "gridwidth": 2,
            "linecolor": "white",
            "showbackground": true,
            "ticks": "",
            "zerolinecolor": "white"
           },
           "yaxis": {
            "backgroundcolor": "#E5ECF6",
            "gridcolor": "white",
            "gridwidth": 2,
            "linecolor": "white",
            "showbackground": true,
            "ticks": "",
            "zerolinecolor": "white"
           },
           "zaxis": {
            "backgroundcolor": "#E5ECF6",
            "gridcolor": "white",
            "gridwidth": 2,
            "linecolor": "white",
            "showbackground": true,
            "ticks": "",
            "zerolinecolor": "white"
           }
          },
          "shapedefaults": {
           "line": {
            "color": "#2a3f5f"
           }
          },
          "ternary": {
           "aaxis": {
            "gridcolor": "white",
            "linecolor": "white",
            "ticks": ""
           },
           "baxis": {
            "gridcolor": "white",
            "linecolor": "white",
            "ticks": ""
           },
           "bgcolor": "#E5ECF6",
           "caxis": {
            "gridcolor": "white",
            "linecolor": "white",
            "ticks": ""
           }
          },
          "title": {
           "x": 0.05
          },
          "xaxis": {
           "automargin": true,
           "gridcolor": "white",
           "linecolor": "white",
           "ticks": "",
           "title": {
            "standoff": 15
           },
           "zerolinecolor": "white",
           "zerolinewidth": 2
          },
          "yaxis": {
           "automargin": true,
           "gridcolor": "white",
           "linecolor": "white",
           "ticks": "",
           "title": {
            "standoff": 15
           },
           "zerolinecolor": "white",
           "zerolinewidth": 2
          }
         }
        },
        "title": {
         "text": "3. Violin Plot de Puntajes por Macrosector"
        },
        "violinmode": "overlay",
        "xaxis": {
         "anchor": "y",
         "categoryarray": [
          "Comercio",
          "Construcción",
          "Agropecuario",
          "Manufactura",
          "Servicios",
          "Minero"
         ],
         "categoryorder": "array",
         "domain": [
          0,
          1
         ],
         "title": {
          "text": "Macrosector"
         }
        },
        "yaxis": {
         "anchor": "x",
         "domain": [
          0,
          1
         ],
         "title": {
          "text": "Puntaje Total"
         }
        }
       }
      }
     },
     "metadata": {},
     "output_type": "display_data"
    }
   ],
   "source": [
    "# 1. Calcular el puntaje total (suma de valoracionPonderada) para cada empresa.\n",
    "total_scores = raw_data.groupby(['Razón social', 'Macrosector'])['valoracionPonderada'].sum().reset_index()\n",
    "total_scores.rename(columns={'valoracionPonderada': 'puntaje_total'}, inplace=True)\n",
    "\n",
    "# 2. Eliminar Razón social y limpiar Macrosector '0' 'No' 'No informa' 'SI' 'Si'\n",
    "total_scores.drop(columns='Razón social', inplace=True)\n",
    "\n",
    "\n",
    "# 3. Crear un violin plot para cada Macrosector.\n",
    "violin_fig = px.violin(total_scores, y='puntaje_total', x='Macrosector', box=True, points='all',\n",
    "               color='Macrosector', title='3. Violin Plot de Puntajes por Macrosector',\n",
    "               labels={'puntaje_total': 'Puntaje Total', 'Macrosector': 'Macrosector'})\n",
    "violin_fig.update_traces(meanline_visible=True)\n",
    "violin_fig.update_layout(\n",
    "    xaxis_title='Macrosector',\n",
    "    yaxis_title='Puntaje Total'\n",
    ")\n",
    "\n",
    "violin_fig.show()\n",
    "save_chart_as_html(violin_fig, '03_violin_plot_performance.html')\n",
    "# Save as image\n",
    "violin_fig.write_image(\"img/03_violin_plot_performance.png\", width=1000, height=800, scale=2)"
   ]
  },
  {
   "cell_type": "markdown",
   "metadata": {},
   "source": [
    "## 4. Treemap de Impacto: Sostenibilidad y Peso Económico"
   ]
  },
  {
   "cell_type": "code",
   "execution_count": 19,
   "metadata": {},
   "outputs": [
    {
     "data": {
      "application/vnd.plotly.v1+json": {
       "config": {
        "plotlyServerURL": "https://plot.ly"
       },
       "data": [
        {
         "branchvalues": "total",
         "customdata": [
          [
           "Comercio",
           13.831182682,
           0
          ],
          [
           "Construcción",
           0.771428692,
           0
          ],
          [
           "Construcción",
           1.314259836,
           474.9357585713463
          ],
          [
           "Agropecuario",
           0.711210393,
           0
          ],
          [
           "Agropecuario",
           2.423164353,
           47.61904761904762
          ],
          [
           "Agropecuario",
           0.978022115,
           316.66666666666663
          ],
          [
           "Manufactura",
           2.844632077,
           508.21978866160185
          ],
          [
           "Manufactura",
           2.176461396,
           440.28824134872605
          ],
          [
           "Construcción",
           2.186301194,
           387.91924496688097
          ],
          [
           "Servicios",
           15.106042448,
           361.05349835176105
          ],
          [
           "Manufactura",
           1.8730508,
           292.10451938153665
          ],
          [
           "Manufactura",
           8.615774351,
           216.42504654822116
          ],
          [
           "Comercio",
           4.512550305,
           0
          ],
          [
           "Minero",
           0.895022779,
           30.769230769230766
          ],
          [
           "Manufactura",
           1.778557861,
           382.8917067873326
          ],
          [
           "Comercio",
           1.976640973,
           0
          ],
          [
           "Construcción",
           0.767621421,
           292.40827837834763
          ],
          [
           "Construcción",
           1.189537155,
           199.66943069627632
          ],
          [
           "Construcción",
           1.313282542,
           160.2124267808165
          ],
          [
           "Construcción",
           0.746126685,
           216.66666666666663
          ],
          [
           "Servicios",
           6.547567046,
           437.0717049713249
          ],
          [
           "Manufactura",
           1.84479215,
           480.9278551658904
          ],
          [
           "Comercio",
           4.212866602,
           312
          ],
          [
           "Servicios",
           9.97773624,
           456.015915553517
          ],
          [
           "Minero",
           6.047102083,
           298.62119660627326
          ],
          [
           "Comercio",
           5.868986,
           173.52941176470588
          ],
          [
           "Servicios",
           15.602099799,
           469.2790210342404
          ],
          [
           "Manufactura",
           5.161404728,
           437.95381667467126
          ],
          [
           "Manufactura",
           2.382092359,
           275.05720823798623
          ],
          [
           "Manufactura",
           2.192826677,
           528.968076912631
          ],
          [
           "Manufactura",
           1.94339097,
           268.1692813765182
          ],
          [
           "Construcción",
           0.498844856,
           309.10110402967365
          ],
          [
           "Comercio",
           11.88773162,
           0
          ],
          [
           "Comercio",
           5.511646479,
           369.2692310399283
          ],
          [
           "Comercio",
           19.439396106,
           397.43798077472917
          ],
          [
           "Comercio",
           3.874476933,
           0
          ],
          [
           "Minero",
           11.495989482,
           543.0032714587998
          ],
          [
           "Servicios",
           20.57447718,
           435.5699487614846
          ],
          [
           "Manufactura",
           2.624920215,
           367.87440397641933
          ],
          [
           "Minero",
           113.923310323,
           537.7690131447587
          ],
          [
           "Servicios",
           15.780332546,
           505.2271849918218
          ],
          [
           "Manufactura",
           2.311463709,
           559.161369174714
          ],
          [
           "Comercio",
           2.307560639,
           476.091629862173
          ],
          [
           "Minero",
           4.250244656,
           437.64583959609365
          ],
          [
           "Servicios",
           3.716639484,
           422.0382633929825
          ],
          [
           "Servicios",
           2.635568566,
           285.8841822818333
          ],
          [
           "Manufactura",
           1.212362823,
           328.8329519450801
          ],
          [
           "Minero",
           2.420367108,
           512.5948857864215
          ],
          [
           "Minero",
           1.321926,
           359.13739477410087
          ],
          [
           "Agropecuario",
           0.441609957,
           154.76190476190476
          ],
          [
           "Manufactura",
           2.485955399,
           0
          ],
          [
           "Manufactura",
           1.340540112,
           433.503008323165
          ],
          [
           "Minero",
           2.660692144,
           468.0239511907528
          ],
          [
           "Agropecuario",
           0.89448845,
           0
          ],
          [
           "Servicios",
           4.130985568,
           407.10882289880635
          ],
          [
           "Construcción",
           0.751677383,
           0
          ],
          [
           "Servicios",
           6.13559916,
           270.0384970582015
          ],
          [
           "Manufactura",
           3.189145272,
           0
          ],
          [
           "Servicios",
           2.328344538,
           379.5753910400798
          ],
          [
           "Construcción",
           0.985342945,
           261.4781953643202
          ],
          [
           "Comercio",
           1.869141753,
           277.1764705882353
          ],
          [
           "Servicios",
           1.858185367,
           320.47185503865035
          ],
          [
           "Manufactura",
           2.04446981,
           250.20242914979755
          ],
          [
           "Servicios",
           5.975161078,
           405.67744477746226
          ],
          [
           "Comercio",
           7.129192126,
           23.52941176470588
          ],
          [
           "Manufactura",
           2.273429636,
           0
          ],
          [
           "Manufactura",
           2.097385142,
           265.7894736842105
          ],
          [
           "Comercio",
           3.030538337,
           0
          ],
          [
           "Manufactura",
           2.846700531,
           565.3964436426028
          ],
          [
           "Comercio",
           2.360791615,
           225.02639366192201
          ],
          [
           "Comercio",
           10.521119421,
           473.13386367648695
          ],
          [
           "Manufactura",
           2.017259547,
           383.5133009153318
          ],
          [
           "Servicios",
           2.27290385,
           461.5161584477251
          ],
          [
           "Servicios",
           0.703147014,
           0
          ],
          [
           "Manufactura",
           25.860914507,
           363.2050892679757
          ],
          [
           "Manufactura",
           2.426039216,
           390.43268644059265
          ],
          [
           "Manufactura",
           1.697301486,
           443.478540720074
          ],
          [
           "Comercio",
           3.188315636,
           350.8235294117647
          ],
          [
           "Minero",
           1.943851598,
           488.2642737335695
          ],
          [
           "Comercio",
           5.991097107,
           460.4677837979523
          ],
          [
           "Comercio",
           2.002301595,
           258.8235294117647
          ],
          [
           "Agropecuario",
           2.156747414,
           14.285714285714285
          ],
          [
           "Comercio",
           2.869448009,
           0
          ],
          [
           "Comercio",
           3.134365769,
           0
          ],
          [
           "Servicios",
           6.672179102,
           453.0144571112574
          ],
          [
           "Servicios",
           2.655177809,
           415.39000437620535
          ],
          [
           "Comercio",
           24.752011682,
           516.750569739384
          ],
          [
           "Servicios",
           2.956157691,
           347.64156084926094
          ],
          [
           "Comercio",
           4.02823039,
           373.3911878105223
          ],
          [
           "Comercio",
           4.87042346,
           241.1764705882353
          ],
          [
           "Comercio",
           2.046166138,
           323.99111723222694
          ],
          [
           "Comercio",
           1.928223518,
           0
          ],
          [
           "Minero",
           5.483318686,
           0
          ],
          [
           "Manufactura",
           1.765339992,
           252.6315789473684
          ],
          [
           "Manufactura",
           1.831377694,
           178.94732092047806
          ],
          [
           "Comercio",
           16.077688645,
           393.1084154783243
          ],
          [
           "Comercio",
           169.22209354,
           273.22509255976337
          ],
          [
           "Construcción",
           10.524422709,
           258.2730279961088
          ],
          [
           "Agropecuario",
           7.605242682,
           68.93282425929812
          ],
          [
           "Manufactura",
           88.83758846,
           332.4858511189196
          ],
          [
           "Servicios",
           125.62830448599999,
           420.98766830459334
          ],
          [
           "Minero",
           150.441824859,
           499.26290011220806
          ],
          [
           "(?)",
           552.259476736,
           374.8480311079725
          ]
         ],
         "domain": {
          "x": [
           0,
           1
          ],
          "y": [
           0,
           1
          ]
         },
         "hovertemplate": "<b>%{label}</b><br><br>Macrosector: %{customdata[0]}<br>Ingresos Operacionales (Tamaño): %{value:,.2f}<br>Puntaje Sostenibilidad (Color): %{color:.2f}<extra></extra>",
         "ids": [
          "Todas las Empresas/Comercio/ARA",
          "Todas las Empresas/Construcción/ARQUITECTURA Y CONCRETO",
          "Todas las Empresas/Construcción/AUTOPISTA RIO MAGDALENA SAS",
          "Todas las Empresas/Agropecuario/AVICOLA EL MADROÑO SA",
          "Todas las Empresas/Agropecuario/AVSA",
          "Todas las Empresas/Agropecuario/Aliar",
          "Todas las Empresas/Manufactura/Alimentos Carnicos (Grupo Nutresa)",
          "Todas las Empresas/Manufactura/Alpina",
          "Todas las Empresas/Construcción/Amarilo",
          "Todas las Empresas/Servicios/Avianca",
          "Todas las Empresas/Manufactura/BEL STAR S.A.",
          "Todas las Empresas/Manufactura/Bavaria (Kopps)",
          "Todas las Empresas/Comercio/Biomax",
          "Todas las Empresas/Minero/C.I Prodeco",
          "Todas las Empresas/Manufactura/CARTON DE COLOMBIA S.A. (Smurfit Kappa)",
          "Todas las Empresas/Comercio/CI Eslop",
          "Todas las Empresas/Construcción/CONCESIONARIA VIAL UNIÓN DEL SUR SAS",
          "Todas las Empresas/Construcción/CONSTRUCCIONES EL CONDOR S.A",
          "Todas las Empresas/Construcción/CONSTRUCTORA CAPITAL BOGOTA SAS",
          "Todas las Empresas/Construcción/CONSTRUCTORA COLPATRIA  SAS",
          "Todas las Empresas/Servicios/Celsia",
          "Todas las Empresas/Manufactura/Cementos Argos",
          "Todas las Empresas/Comercio/Cencosud",
          "Todas las Empresas/Servicios/Cenit",
          "Todas las Empresas/Minero/Cerrejón",
          "Todas las Empresas/Comercio/Chevron",
          "Todas las Empresas/Servicios/Claro",
          "Todas las Empresas/Manufactura/Coca Cola- Femsa",
          "Todas las Empresas/Manufactura/Colgate",
          "Todas las Empresas/Manufactura/Colombina",
          "Todas las Empresas/Manufactura/Compañía Nacional de Chocolates",
          "Todas las Empresas/Construcción/Conconcreto",
          "Todas las Empresas/Comercio/Corbeta",
          "Todas las Empresas/Comercio/Cruz Verde",
          "Todas las Empresas/Comercio/D1",
          "Todas las Empresas/Comercio/Distracom",
          "Todas las Empresas/Minero/Drummond",
          "Todas las Empresas/Servicios/EPM",
          "Todas las Empresas/Manufactura/ES Windows",
          "Todas las Empresas/Minero/Ecopetrol",
          "Todas las Empresas/Servicios/Emgesa",
          "Todas las Empresas/Manufactura/Esenttia",
          "Todas las Empresas/Comercio/Falabella",
          "Todas las Empresas/Minero/Frontera Energy",
          "Todas las Empresas/Servicios/GEB",
          "Todas las Empresas/Servicios/Gases del Caribe",
          "Todas las Empresas/Manufactura/General Motors",
          "Todas las Empresas/Minero/Geopark",
          "Todas las Empresas/Minero/Gran Tierra Energy",
          "Todas las Empresas/Agropecuario/Grupo Bios",
          "Todas las Empresas/Manufactura/Grupo Diana",
          "Todas las Empresas/Manufactura/Haceb",
          "Todas las Empresas/Minero/Hocol",
          "Todas las Empresas/Agropecuario/INCUBADORA SANTANDER S.A. (Huevos Kikes)",
          "Todas las Empresas/Servicios/ISA",
          "Todas las Empresas/Construcción/ISMOCOL SA",
          "Todas las Empresas/Servicios/Isagen",
          "Todas las Empresas/Manufactura/Italcol",
          "Todas las Empresas/Servicios/LATAM",
          "Todas las Empresas/Construcción/MARVAL S.A.S.",
          "Todas las Empresas/Comercio/Mazda",
          "Todas las Empresas/Servicios/Mercado Libre",
          "Todas las Empresas/Manufactura/Nestle",
          "Todas las Empresas/Servicios/Oleoducto Central (Ocensa)",
          "Todas las Empresas/Comercio/Olímpica",
          "Todas las Empresas/Manufactura/POLLOS EL BUCANERO S.A. (Cargill)",
          "Todas las Empresas/Manufactura/Pepsico",
          "Todas las Empresas/Comercio/Petromil",
          "Todas las Empresas/Manufactura/Postobón",
          "Todas las Empresas/Comercio/Pricesmart",
          "Todas las Empresas/Comercio/Primax",
          "Todas las Empresas/Manufactura/Productos Familia (Essity)",
          "Todas las Empresas/Servicios/Promigas",
          "Todas las Empresas/Servicios/Rappi",
          "Todas las Empresas/Manufactura/Reficar",
          "Todas las Empresas/Manufactura/Renault",
          "Todas las Empresas/Manufactura/Riopaila Castilla",
          "Todas las Empresas/Comercio/Samsung",
          "Todas las Empresas/Minero/SierraCol Energy",
          "Todas las Empresas/Comercio/Sodimac (Homecenter)",
          "Todas las Empresas/Comercio/Sucafina",
          "Todas las Empresas/Agropecuario/Sunshine Bouquet",
          "Todas las Empresas/Comercio/Suramerica Comercial (Dollar City)",
          "Todas las Empresas/Comercio/Tecnoquimicas",
          "Todas las Empresas/Servicios/Telefónica",
          "Todas las Empresas/Servicios/Teleperformance",
          "Todas las Empresas/Comercio/Terpel",
          "Todas las Empresas/Servicios/Tigo",
          "Todas las Empresas/Comercio/Toyota",
          "Todas las Empresas/Comercio/Trafigura (Petroleum)",
          "Todas las Empresas/Comercio/Uniban",
          "Todas las Empresas/Comercio/Unilever",
          "Todas las Empresas/Minero/Verano energy",
          "Todas las Empresas/Manufactura/YARA COLOMBIA S.A.",
          "Todas las Empresas/Manufactura/Yamaha",
          "Todas las Empresas/Comercio/Éxito",
          "Todas las Empresas/Comercio",
          "Todas las Empresas/Construcción",
          "Todas las Empresas/Agropecuario",
          "Todas las Empresas/Manufactura",
          "Todas las Empresas/Servicios",
          "Todas las Empresas/Minero",
          "Todas las Empresas"
         ],
         "labels": [
          "ARA",
          "ARQUITECTURA Y CONCRETO",
          "AUTOPISTA RIO MAGDALENA SAS",
          "AVICOLA EL MADROÑO SA",
          "AVSA",
          "Aliar",
          "Alimentos Carnicos (Grupo Nutresa)",
          "Alpina",
          "Amarilo",
          "Avianca",
          "BEL STAR S.A.",
          "Bavaria (Kopps)",
          "Biomax",
          "C.I Prodeco",
          "CARTON DE COLOMBIA S.A. (Smurfit Kappa)",
          "CI Eslop",
          "CONCESIONARIA VIAL UNIÓN DEL SUR SAS",
          "CONSTRUCCIONES EL CONDOR S.A",
          "CONSTRUCTORA CAPITAL BOGOTA SAS",
          "CONSTRUCTORA COLPATRIA  SAS",
          "Celsia",
          "Cementos Argos",
          "Cencosud",
          "Cenit",
          "Cerrejón",
          "Chevron",
          "Claro",
          "Coca Cola- Femsa",
          "Colgate",
          "Colombina",
          "Compañía Nacional de Chocolates",
          "Conconcreto",
          "Corbeta",
          "Cruz Verde",
          "D1",
          "Distracom",
          "Drummond",
          "EPM",
          "ES Windows",
          "Ecopetrol",
          "Emgesa",
          "Esenttia",
          "Falabella",
          "Frontera Energy",
          "GEB",
          "Gases del Caribe",
          "General Motors",
          "Geopark",
          "Gran Tierra Energy",
          "Grupo Bios",
          "Grupo Diana",
          "Haceb",
          "Hocol",
          "INCUBADORA SANTANDER S.A. (Huevos Kikes)",
          "ISA",
          "ISMOCOL SA",
          "Isagen",
          "Italcol",
          "LATAM",
          "MARVAL S.A.S.",
          "Mazda",
          "Mercado Libre",
          "Nestle",
          "Oleoducto Central (Ocensa)",
          "Olímpica",
          "POLLOS EL BUCANERO S.A. (Cargill)",
          "Pepsico",
          "Petromil",
          "Postobón",
          "Pricesmart",
          "Primax",
          "Productos Familia (Essity)",
          "Promigas",
          "Rappi",
          "Reficar",
          "Renault",
          "Riopaila Castilla",
          "Samsung",
          "SierraCol Energy",
          "Sodimac (Homecenter)",
          "Sucafina",
          "Sunshine Bouquet",
          "Suramerica Comercial (Dollar City)",
          "Tecnoquimicas",
          "Telefónica",
          "Teleperformance",
          "Terpel",
          "Tigo",
          "Toyota",
          "Trafigura (Petroleum)",
          "Uniban",
          "Unilever",
          "Verano energy",
          "YARA COLOMBIA S.A.",
          "Yamaha",
          "Éxito",
          "Comercio",
          "Construcción",
          "Agropecuario",
          "Manufactura",
          "Servicios",
          "Minero",
          "Todas las Empresas"
         ],
         "marker": {
          "coloraxis": "coloraxis",
          "colors": {
           "bdata": "AAAAAAAAAAAAAAAAAAAAACXO+t34rn1AAAAAAAAAAAD0PM/zPM9HQKqqqqqqynNAyZkdQYTDf0Ai4vWinIR7QEPcNTq1PnhAQnMWIduQdkD414McrEFyQGf8N/uZDWtAAAAAAAAAAABO7MRO7MQ+QHATVm5E7ndAAAAAAAAAAACsquhOiEZyQEBu7Plr9WhA2Iw/M8wGZEBUVVVVVRVrQNGsHLQlUXtAyI6oftgOfkAAAAAAAIBzQKfdqjBBgHxAR0Xaa/CpckDx8PDw8LBlQFaPwt52VH1AewFG1UJfe0Bncy9T6jBxQBq+G5++h4BAe39jYLXCcEATT0IfnlFzQAAAAAAAAAAA9vg0xU4Ud0DR+yD4Add4QAAAAAAAAAAAccQvswb4gECOr5eCHjl7QGojBo/9/XZAdhdd8CbOgEBE4LqMopN/QNX/63tKeYFA7NXfUHfBfUDyeuZbVVp7QOdXE7qcYHpA1AJSnCXecUAjNGvFU410QEmselPCBIBAedbcxDJydkCGYRiGYVhjQAAAAAAAAAAAwJl0UgwYe0C9z6QaYkB9QAAAAAAAAAAA3nYUvb1xeUAAAAAAAAAAAHtfF6+d4HBAAAAAAAAAAADeODzNNLl3QKqtLrCmV3BA09LS0tJScUBMd963jAd0QGdEskx6Rm9AvsBV0NZaeUCHh4eHh4c3QAAAAAAAAAAAymsor6GccEAAAAAAAAAAAH39pOorq4FA21iFN9ggbEAkCj1OJJJ9QLZFBXs2+HdAiUhcL0LYfEAAAAAAAAAAAHYrrwtIs3ZASvydSOxmeEBbaFAaqLd7QC0tLS0t7XVA9y0YdzqEfkDcHN0KfMd8QC0tLS0tLXBAJEmSJEmSLEAAAAAAAAAAAAAAAAAAAAAAuUBhNztQfECVkTp1PfZ5QCwgtSoBJoBAhB9P1UO6dUCYTCZOQlZ3QKalpaWlJW5Aqy6+nds/dEAAAAAAAAAAAAAAAAAAAAAAQ3kN5TWUb0CjiPZzUF5mQIdc3hG8kXhAG+yn+pkTcUDgoppSXiRwQHSmhWSzO1FAwafSC8bHdEBjuEd9zU96QMaAv9Y0NH9AuCsRiZFtd0A=",
           "dtype": "f8"
          }
         },
         "name": "",
         "parents": [
          "Todas las Empresas/Comercio",
          "Todas las Empresas/Construcción",
          "Todas las Empresas/Construcción",
          "Todas las Empresas/Agropecuario",
          "Todas las Empresas/Agropecuario",
          "Todas las Empresas/Agropecuario",
          "Todas las Empresas/Manufactura",
          "Todas las Empresas/Manufactura",
          "Todas las Empresas/Construcción",
          "Todas las Empresas/Servicios",
          "Todas las Empresas/Manufactura",
          "Todas las Empresas/Manufactura",
          "Todas las Empresas/Comercio",
          "Todas las Empresas/Minero",
          "Todas las Empresas/Manufactura",
          "Todas las Empresas/Comercio",
          "Todas las Empresas/Construcción",
          "Todas las Empresas/Construcción",
          "Todas las Empresas/Construcción",
          "Todas las Empresas/Construcción",
          "Todas las Empresas/Servicios",
          "Todas las Empresas/Manufactura",
          "Todas las Empresas/Comercio",
          "Todas las Empresas/Servicios",
          "Todas las Empresas/Minero",
          "Todas las Empresas/Comercio",
          "Todas las Empresas/Servicios",
          "Todas las Empresas/Manufactura",
          "Todas las Empresas/Manufactura",
          "Todas las Empresas/Manufactura",
          "Todas las Empresas/Manufactura",
          "Todas las Empresas/Construcción",
          "Todas las Empresas/Comercio",
          "Todas las Empresas/Comercio",
          "Todas las Empresas/Comercio",
          "Todas las Empresas/Comercio",
          "Todas las Empresas/Minero",
          "Todas las Empresas/Servicios",
          "Todas las Empresas/Manufactura",
          "Todas las Empresas/Minero",
          "Todas las Empresas/Servicios",
          "Todas las Empresas/Manufactura",
          "Todas las Empresas/Comercio",
          "Todas las Empresas/Minero",
          "Todas las Empresas/Servicios",
          "Todas las Empresas/Servicios",
          "Todas las Empresas/Manufactura",
          "Todas las Empresas/Minero",
          "Todas las Empresas/Minero",
          "Todas las Empresas/Agropecuario",
          "Todas las Empresas/Manufactura",
          "Todas las Empresas/Manufactura",
          "Todas las Empresas/Minero",
          "Todas las Empresas/Agropecuario",
          "Todas las Empresas/Servicios",
          "Todas las Empresas/Construcción",
          "Todas las Empresas/Servicios",
          "Todas las Empresas/Manufactura",
          "Todas las Empresas/Servicios",
          "Todas las Empresas/Construcción",
          "Todas las Empresas/Comercio",
          "Todas las Empresas/Servicios",
          "Todas las Empresas/Manufactura",
          "Todas las Empresas/Servicios",
          "Todas las Empresas/Comercio",
          "Todas las Empresas/Manufactura",
          "Todas las Empresas/Manufactura",
          "Todas las Empresas/Comercio",
          "Todas las Empresas/Manufactura",
          "Todas las Empresas/Comercio",
          "Todas las Empresas/Comercio",
          "Todas las Empresas/Manufactura",
          "Todas las Empresas/Servicios",
          "Todas las Empresas/Servicios",
          "Todas las Empresas/Manufactura",
          "Todas las Empresas/Manufactura",
          "Todas las Empresas/Manufactura",
          "Todas las Empresas/Comercio",
          "Todas las Empresas/Minero",
          "Todas las Empresas/Comercio",
          "Todas las Empresas/Comercio",
          "Todas las Empresas/Agropecuario",
          "Todas las Empresas/Comercio",
          "Todas las Empresas/Comercio",
          "Todas las Empresas/Servicios",
          "Todas las Empresas/Servicios",
          "Todas las Empresas/Comercio",
          "Todas las Empresas/Servicios",
          "Todas las Empresas/Comercio",
          "Todas las Empresas/Comercio",
          "Todas las Empresas/Comercio",
          "Todas las Empresas/Comercio",
          "Todas las Empresas/Minero",
          "Todas las Empresas/Manufactura",
          "Todas las Empresas/Manufactura",
          "Todas las Empresas/Comercio",
          "Todas las Empresas",
          "Todas las Empresas",
          "Todas las Empresas",
          "Todas las Empresas",
          "Todas las Empresas",
          "Todas las Empresas",
          ""
         ],
         "type": "treemap",
         "values": {
          "bdata": "FWLIxpCpK0D6wGo5i6/oP6kPYVI1B/U/cFRQTDzC5j93vgf+o2IDQHES1gj1S+8/wPBeds7BBkCvnKaXZGkBQGt8+3qLfQFAqkscMks2LkA58psdBPj9P3GFlsZGOyFAix62/NkMEkB0XJ/PBqTsP5KecBb5dPw/d3/vSFKg/z/17VzMWpDoP1ChoRxYCPM/ksMEjjQD9T+/7tcRReDnP9O/a2q1MBpAMK4CxkSE/T+qANiz+dkQQPnTLdiZ9CNA4jtIhzswGEA4ukp313kXQC9Ew2xGNC9AF7jwR0elFEDlpk9whg4DQEEXfLboigFAE943ISEY/z+jD5P5Eu3fP9oMR8KExidAmaz5De0LFkB/QmFDfHAzQCe7IsPt/g5AMbNYVfL9JkD3ZbzvEJM0QDlGcCvW/wRAB1YuhBd7XEAaJlq/h48vQOxdYK/gfQJAvFUwWuJ1AkA4E5YiQAARQCRrVnutuw1AWK/q+KQVBUBjvTqP1mXzP49kKW7pXANAqrab4Jsm9T8zyrloVkPcPzQokJU84wNAQ0JAMNpy9T8Lonn2GEkFQJnK7D2mn+w/YDurFCGGEEB7FyS6vQ3oP6JCloHaihhA1narmF6DCUDpPeQZc6ACQIbRg+3th+8/3JHLLgHo/T9su1KUILv9P+rf3PwSWwBAUV4poJDmF0BpSNDwSoQcQHkEg+D7LwJA7wyA3HHHAECJgzXiij4IQOk0ke0KxgZAqMTYtubiAkDLAi0q0AolQCxFL/lYIwBAs561NuguAkAqH60qLoDmP4s3pORk3DlAkUScP4doA0C9J12aJSj7P0OQz6CrgQlAV/8aIgQa/z+e5vYo4vYXQHMH2rK2BABAjObGyQRBAUCK0WEoofQGQIN0PFwuEwlAH5Twt0+wGkBtwvXczT0FQGNmbNaDwDhAnU/lADamB0CbNmdt6BwQQBJ8mUlQexNAFyQnWoxeAEBTAlPnANr+P6up9xfr7hVA2l+/JdU+/D+OqWWyUk39P6mLLWfjEzBAfl7pYxsnZUCU3iAigQwlQFRV1bzEax5AQM2gDJs1VkA00wQkNmhfQOD+4m0jzmJAi/mJaBNCgUA=",
          "dtype": "f8"
         }
        }
       ],
       "layout": {
        "coloraxis": {
         "cmid": 374.8480311079725,
         "colorbar": {
          "title": {
           "text": "Puntaje_Total_Sostenibilidad"
          }
         },
         "colorscale": [
          [
           0,
           "rgb(247,251,255)"
          ],
          [
           0.125,
           "rgb(222,235,247)"
          ],
          [
           0.25,
           "rgb(198,219,239)"
          ],
          [
           0.375,
           "rgb(158,202,225)"
          ],
          [
           0.5,
           "rgb(107,174,214)"
          ],
          [
           0.625,
           "rgb(66,146,198)"
          ],
          [
           0.75,
           "rgb(33,113,181)"
          ],
          [
           0.875,
           "rgb(8,81,156)"
          ],
          [
           1,
           "rgb(8,48,107)"
          ]
         ]
        },
        "font": {
         "color": "black",
         "family": "Arial, sans-serif",
         "size": 14
        },
        "legend": {
         "tracegroupgap": 0
        },
        "margin": {
         "b": 25,
         "l": 25,
         "r": 25,
         "t": 60
        },
        "template": {
         "data": {
          "bar": [
           {
            "error_x": {
             "color": "#2a3f5f"
            },
            "error_y": {
             "color": "#2a3f5f"
            },
            "marker": {
             "line": {
              "color": "#E5ECF6",
              "width": 0.5
             },
             "pattern": {
              "fillmode": "overlay",
              "size": 10,
              "solidity": 0.2
             }
            },
            "type": "bar"
           }
          ],
          "barpolar": [
           {
            "marker": {
             "line": {
              "color": "#E5ECF6",
              "width": 0.5
             },
             "pattern": {
              "fillmode": "overlay",
              "size": 10,
              "solidity": 0.2
             }
            },
            "type": "barpolar"
           }
          ],
          "carpet": [
           {
            "aaxis": {
             "endlinecolor": "#2a3f5f",
             "gridcolor": "white",
             "linecolor": "white",
             "minorgridcolor": "white",
             "startlinecolor": "#2a3f5f"
            },
            "baxis": {
             "endlinecolor": "#2a3f5f",
             "gridcolor": "white",
             "linecolor": "white",
             "minorgridcolor": "white",
             "startlinecolor": "#2a3f5f"
            },
            "type": "carpet"
           }
          ],
          "choropleth": [
           {
            "colorbar": {
             "outlinewidth": 0,
             "ticks": ""
            },
            "type": "choropleth"
           }
          ],
          "contour": [
           {
            "colorbar": {
             "outlinewidth": 0,
             "ticks": ""
            },
            "colorscale": [
             [
              0,
              "#0d0887"
             ],
             [
              0.1111111111111111,
              "#46039f"
             ],
             [
              0.2222222222222222,
              "#7201a8"
             ],
             [
              0.3333333333333333,
              "#9c179e"
             ],
             [
              0.4444444444444444,
              "#bd3786"
             ],
             [
              0.5555555555555556,
              "#d8576b"
             ],
             [
              0.6666666666666666,
              "#ed7953"
             ],
             [
              0.7777777777777778,
              "#fb9f3a"
             ],
             [
              0.8888888888888888,
              "#fdca26"
             ],
             [
              1,
              "#f0f921"
             ]
            ],
            "type": "contour"
           }
          ],
          "contourcarpet": [
           {
            "colorbar": {
             "outlinewidth": 0,
             "ticks": ""
            },
            "type": "contourcarpet"
           }
          ],
          "heatmap": [
           {
            "colorbar": {
             "outlinewidth": 0,
             "ticks": ""
            },
            "colorscale": [
             [
              0,
              "#0d0887"
             ],
             [
              0.1111111111111111,
              "#46039f"
             ],
             [
              0.2222222222222222,
              "#7201a8"
             ],
             [
              0.3333333333333333,
              "#9c179e"
             ],
             [
              0.4444444444444444,
              "#bd3786"
             ],
             [
              0.5555555555555556,
              "#d8576b"
             ],
             [
              0.6666666666666666,
              "#ed7953"
             ],
             [
              0.7777777777777778,
              "#fb9f3a"
             ],
             [
              0.8888888888888888,
              "#fdca26"
             ],
             [
              1,
              "#f0f921"
             ]
            ],
            "type": "heatmap"
           }
          ],
          "histogram": [
           {
            "marker": {
             "pattern": {
              "fillmode": "overlay",
              "size": 10,
              "solidity": 0.2
             }
            },
            "type": "histogram"
           }
          ],
          "histogram2d": [
           {
            "colorbar": {
             "outlinewidth": 0,
             "ticks": ""
            },
            "colorscale": [
             [
              0,
              "#0d0887"
             ],
             [
              0.1111111111111111,
              "#46039f"
             ],
             [
              0.2222222222222222,
              "#7201a8"
             ],
             [
              0.3333333333333333,
              "#9c179e"
             ],
             [
              0.4444444444444444,
              "#bd3786"
             ],
             [
              0.5555555555555556,
              "#d8576b"
             ],
             [
              0.6666666666666666,
              "#ed7953"
             ],
             [
              0.7777777777777778,
              "#fb9f3a"
             ],
             [
              0.8888888888888888,
              "#fdca26"
             ],
             [
              1,
              "#f0f921"
             ]
            ],
            "type": "histogram2d"
           }
          ],
          "histogram2dcontour": [
           {
            "colorbar": {
             "outlinewidth": 0,
             "ticks": ""
            },
            "colorscale": [
             [
              0,
              "#0d0887"
             ],
             [
              0.1111111111111111,
              "#46039f"
             ],
             [
              0.2222222222222222,
              "#7201a8"
             ],
             [
              0.3333333333333333,
              "#9c179e"
             ],
             [
              0.4444444444444444,
              "#bd3786"
             ],
             [
              0.5555555555555556,
              "#d8576b"
             ],
             [
              0.6666666666666666,
              "#ed7953"
             ],
             [
              0.7777777777777778,
              "#fb9f3a"
             ],
             [
              0.8888888888888888,
              "#fdca26"
             ],
             [
              1,
              "#f0f921"
             ]
            ],
            "type": "histogram2dcontour"
           }
          ],
          "mesh3d": [
           {
            "colorbar": {
             "outlinewidth": 0,
             "ticks": ""
            },
            "type": "mesh3d"
           }
          ],
          "parcoords": [
           {
            "line": {
             "colorbar": {
              "outlinewidth": 0,
              "ticks": ""
             }
            },
            "type": "parcoords"
           }
          ],
          "pie": [
           {
            "automargin": true,
            "type": "pie"
           }
          ],
          "scatter": [
           {
            "fillpattern": {
             "fillmode": "overlay",
             "size": 10,
             "solidity": 0.2
            },
            "type": "scatter"
           }
          ],
          "scatter3d": [
           {
            "line": {
             "colorbar": {
              "outlinewidth": 0,
              "ticks": ""
             }
            },
            "marker": {
             "colorbar": {
              "outlinewidth": 0,
              "ticks": ""
             }
            },
            "type": "scatter3d"
           }
          ],
          "scattercarpet": [
           {
            "marker": {
             "colorbar": {
              "outlinewidth": 0,
              "ticks": ""
             }
            },
            "type": "scattercarpet"
           }
          ],
          "scattergeo": [
           {
            "marker": {
             "colorbar": {
              "outlinewidth": 0,
              "ticks": ""
             }
            },
            "type": "scattergeo"
           }
          ],
          "scattergl": [
           {
            "marker": {
             "colorbar": {
              "outlinewidth": 0,
              "ticks": ""
             }
            },
            "type": "scattergl"
           }
          ],
          "scattermap": [
           {
            "marker": {
             "colorbar": {
              "outlinewidth": 0,
              "ticks": ""
             }
            },
            "type": "scattermap"
           }
          ],
          "scattermapbox": [
           {
            "marker": {
             "colorbar": {
              "outlinewidth": 0,
              "ticks": ""
             }
            },
            "type": "scattermapbox"
           }
          ],
          "scatterpolar": [
           {
            "marker": {
             "colorbar": {
              "outlinewidth": 0,
              "ticks": ""
             }
            },
            "type": "scatterpolar"
           }
          ],
          "scatterpolargl": [
           {
            "marker": {
             "colorbar": {
              "outlinewidth": 0,
              "ticks": ""
             }
            },
            "type": "scatterpolargl"
           }
          ],
          "scatterternary": [
           {
            "marker": {
             "colorbar": {
              "outlinewidth": 0,
              "ticks": ""
             }
            },
            "type": "scatterternary"
           }
          ],
          "surface": [
           {
            "colorbar": {
             "outlinewidth": 0,
             "ticks": ""
            },
            "colorscale": [
             [
              0,
              "#0d0887"
             ],
             [
              0.1111111111111111,
              "#46039f"
             ],
             [
              0.2222222222222222,
              "#7201a8"
             ],
             [
              0.3333333333333333,
              "#9c179e"
             ],
             [
              0.4444444444444444,
              "#bd3786"
             ],
             [
              0.5555555555555556,
              "#d8576b"
             ],
             [
              0.6666666666666666,
              "#ed7953"
             ],
             [
              0.7777777777777778,
              "#fb9f3a"
             ],
             [
              0.8888888888888888,
              "#fdca26"
             ],
             [
              1,
              "#f0f921"
             ]
            ],
            "type": "surface"
           }
          ],
          "table": [
           {
            "cells": {
             "fill": {
              "color": "#EBF0F8"
             },
             "line": {
              "color": "white"
             }
            },
            "header": {
             "fill": {
              "color": "#C8D4E3"
             },
             "line": {
              "color": "white"
             }
            },
            "type": "table"
           }
          ]
         },
         "layout": {
          "annotationdefaults": {
           "arrowcolor": "#2a3f5f",
           "arrowhead": 0,
           "arrowwidth": 1
          },
          "autotypenumbers": "strict",
          "coloraxis": {
           "colorbar": {
            "outlinewidth": 0,
            "ticks": ""
           }
          },
          "colorscale": {
           "diverging": [
            [
             0,
             "#8e0152"
            ],
            [
             0.1,
             "#c51b7d"
            ],
            [
             0.2,
             "#de77ae"
            ],
            [
             0.3,
             "#f1b6da"
            ],
            [
             0.4,
             "#fde0ef"
            ],
            [
             0.5,
             "#f7f7f7"
            ],
            [
             0.6,
             "#e6f5d0"
            ],
            [
             0.7,
             "#b8e186"
            ],
            [
             0.8,
             "#7fbc41"
            ],
            [
             0.9,
             "#4d9221"
            ],
            [
             1,
             "#276419"
            ]
           ],
           "sequential": [
            [
             0,
             "#0d0887"
            ],
            [
             0.1111111111111111,
             "#46039f"
            ],
            [
             0.2222222222222222,
             "#7201a8"
            ],
            [
             0.3333333333333333,
             "#9c179e"
            ],
            [
             0.4444444444444444,
             "#bd3786"
            ],
            [
             0.5555555555555556,
             "#d8576b"
            ],
            [
             0.6666666666666666,
             "#ed7953"
            ],
            [
             0.7777777777777778,
             "#fb9f3a"
            ],
            [
             0.8888888888888888,
             "#fdca26"
            ],
            [
             1,
             "#f0f921"
            ]
           ],
           "sequentialminus": [
            [
             0,
             "#0d0887"
            ],
            [
             0.1111111111111111,
             "#46039f"
            ],
            [
             0.2222222222222222,
             "#7201a8"
            ],
            [
             0.3333333333333333,
             "#9c179e"
            ],
            [
             0.4444444444444444,
             "#bd3786"
            ],
            [
             0.5555555555555556,
             "#d8576b"
            ],
            [
             0.6666666666666666,
             "#ed7953"
            ],
            [
             0.7777777777777778,
             "#fb9f3a"
            ],
            [
             0.8888888888888888,
             "#fdca26"
            ],
            [
             1,
             "#f0f921"
            ]
           ]
          },
          "colorway": [
           "#636efa",
           "#EF553B",
           "#00cc96",
           "#ab63fa",
           "#FFA15A",
           "#19d3f3",
           "#FF6692",
           "#B6E880",
           "#FF97FF",
           "#FECB52"
          ],
          "font": {
           "color": "#2a3f5f"
          },
          "geo": {
           "bgcolor": "white",
           "lakecolor": "white",
           "landcolor": "#E5ECF6",
           "showlakes": true,
           "showland": true,
           "subunitcolor": "white"
          },
          "hoverlabel": {
           "align": "left"
          },
          "hovermode": "closest",
          "mapbox": {
           "style": "light"
          },
          "paper_bgcolor": "white",
          "plot_bgcolor": "#E5ECF6",
          "polar": {
           "angularaxis": {
            "gridcolor": "white",
            "linecolor": "white",
            "ticks": ""
           },
           "bgcolor": "#E5ECF6",
           "radialaxis": {
            "gridcolor": "white",
            "linecolor": "white",
            "ticks": ""
           }
          },
          "scene": {
           "xaxis": {
            "backgroundcolor": "#E5ECF6",
            "gridcolor": "white",
            "gridwidth": 2,
            "linecolor": "white",
            "showbackground": true,
            "ticks": "",
            "zerolinecolor": "white"
           },
           "yaxis": {
            "backgroundcolor": "#E5ECF6",
            "gridcolor": "white",
            "gridwidth": 2,
            "linecolor": "white",
            "showbackground": true,
            "ticks": "",
            "zerolinecolor": "white"
           },
           "zaxis": {
            "backgroundcolor": "#E5ECF6",
            "gridcolor": "white",
            "gridwidth": 2,
            "linecolor": "white",
            "showbackground": true,
            "ticks": "",
            "zerolinecolor": "white"
           }
          },
          "shapedefaults": {
           "line": {
            "color": "#2a3f5f"
           }
          },
          "ternary": {
           "aaxis": {
            "gridcolor": "white",
            "linecolor": "white",
            "ticks": ""
           },
           "baxis": {
            "gridcolor": "white",
            "linecolor": "white",
            "ticks": ""
           },
           "bgcolor": "#E5ECF6",
           "caxis": {
            "gridcolor": "white",
            "linecolor": "white",
            "ticks": ""
           }
          },
          "title": {
           "x": 0.05
          },
          "xaxis": {
           "automargin": true,
           "gridcolor": "white",
           "linecolor": "white",
           "ticks": "",
           "title": {
            "standoff": 15
           },
           "zerolinecolor": "white",
           "zerolinewidth": 2
          },
          "yaxis": {
           "automargin": true,
           "gridcolor": "white",
           "linecolor": "white",
           "ticks": "",
           "title": {
            "standoff": 15
           },
           "zerolinecolor": "white",
           "zerolinewidth": 2
          }
         }
        },
        "title": {
         "text": "<b>Treemap de Impacto: Sostenibilidad y Peso Económico</b><br><sup>El tamaño representa los Ingresos Operacionales, el color el Desempeño en Sostenibilidad</sup>",
         "x": 0.5
        }
       }
      }
     },
     "metadata": {},
     "output_type": "display_data"
    }
   ],
   "source": [
    "raw_data['valoracionPonderada'] = pd.to_numeric(raw_data['valoracionPonderada'], errors='coerce').fillna(0)\n",
    "raw_data['Ingresos operacionales'] = pd.to_numeric(raw_data['Ingresos operacionales'], errors='coerce').fillna(0)\n",
    "# 2. Agregación de Datos por Empresa\n",
    "# El dataset original tiene múltiples filas por empresa (una por cada 'Variable').\n",
    "# Necesitamos una única fila por empresa con sus datos agregados.\n",
    "company_agg_data = raw_data.groupby('Razón social').agg(\n",
    "    # Se suma la 'valoracionPonderada' para obtener el puntaje total de sostenibilidad.\n",
    "    Puntaje_Total_Sostenibilidad=('valoracionPonderada', 'sum'),\n",
    "    # Se toma el primer valor de 'Ingresos operacionales' y 'Macrosector',\n",
    "    # ya que estos deberían ser constantes para cada empresa.\n",
    "    Ingresos_Operacionales=('Ingresos operacionales', 'first'),\n",
    "    Macrosector=('Macrosector', 'first')\n",
    ").reset_index()\n",
    "\n",
    "# Para una visualización más efectiva, filtramos empresas con ingresos nulos o negativos.\n",
    "company_agg_data = company_agg_data[company_agg_data['Ingresos_Operacionales'] > 0]\n",
    "\n",
    "# 3. Creación del Gráfico Treemap con Plotly Express\n",
    "# Plotly Express permite crear figuras complejas con una sintaxis sencilla.\n",
    "fig_treemap = px.treemap(\n",
    "    company_agg_data,\n",
    "    # La jerarquía define cómo se anidan los rectángulos.\n",
    "    # Se añade una raíz común (\"Todas las Empresas\") para una mejor navegación.\n",
    "    path=[px.Constant(\"Todas las Empresas\"), 'Macrosector', 'Razón social'],\n",
    "    # El tamaño de cada rectángulo será proporcional a los ingresos.\n",
    "    values='Ingresos_Operacionales',\n",
    "    # El color de cada rectángulo se mapea al puntaje de sostenibilidad.\n",
    "    color='Puntaje_Total_Sostenibilidad',\n",
    "    hover_data={\n",
    "        'Macrosector': True,\n",
    "        'Ingresos_Operacionales': ':.2f', # Formato de dos decimales para el hover\n",
    "        'Puntaje_Total_Sostenibilidad': ':.2f'\n",
    "    },\n",
    "    # Se elige una escala de color intuitiva: Rojo (bajo) -> Amarillo (medio) -> Verde (alto).\n",
    "    color_continuous_scale='blues',\n",
    "    # Se establece el punto medio de la escala de color en el promedio ponderado del puntaje,\n",
    "    # lo que da una mejor representación visual de quién está por encima o por debajo del promedio.\n",
    "    color_continuous_midpoint=np.average(company_agg_data['Puntaje_Total_Sostenibilidad'], weights=company_agg_data['Ingresos_Operacionales'])\n",
    ")\n",
    "\n",
    "# 4. Personalización y Estilo del Gráfico\n",
    "fig_treemap.update_layout(\n",
    "    title_text='<b>Treemap de Impacto: Sostenibilidad y Peso Económico</b><br><sup>El tamaño representa los Ingresos Operacionales, el color el Desempeño en Sostenibilidad</sup>',\n",
    "    title_x=0.5, # Centra el título del gráfico\n",
    "    margin = dict(t=60, l=25, r=25, b=25), # Ajusta los márgenes\n",
    "    font=dict(\n",
    "        family=\"Arial, sans-serif\",\n",
    "        size=14,\n",
    "        color=\"black\"\n",
    "    )\n",
    ")\n",
    "\n",
    "# Se personaliza la información que aparece al pasar el cursor sobre los rectángulos (hover).\n",
    "# Esto mejora la legibilidad y presenta la información de forma clara y concisa.\n",
    "fig_treemap.update_traces(\n",
    "    hovertemplate='<b>%{label}</b><br><br>' +\n",
    "                  'Macrosector: %{customdata[0]}<br>' +\n",
    "                  'Ingresos Operacionales (Tamaño): %{value:,.2f}<br>' +\n",
    "                  'Puntaje Sostenibilidad (Color): %{color:.2f}<extra></extra>' # <extra></extra> oculta información extra de plotly\n",
    ")\n",
    "\n",
    "# Muestra el gráfico interactivo.\n",
    "fig_treemap.show()\n",
    "# Guarda el gráfico como un archivo HTML autocontenido.\n",
    "save_chart_as_html(fig_treemap, '04_treemap_sustainability.html')\n",
    "# Save as image\n",
    "fig_treemap.write_image(\"img/04_treemap_sustainability.png\", width=1000, height=800, scale=2)"
   ]
  },
  {
   "cell_type": "markdown",
   "metadata": {},
   "source": [
    "# **Parte 2: Análisis Relacional y de Composición Jerárquica**"
   ]
  },
  {
   "cell_type": "markdown",
   "metadata": {},
   "source": [
    "## 5. Diagrama de Burbujas: Sostenibilidad vs. Antigüedad Empresarial"
   ]
  },
  {
   "cell_type": "code",
   "execution_count": 20,
   "metadata": {},
   "outputs": [
    {
     "data": {
      "application/vnd.plotly.v1+json": {
       "config": {
        "plotlyServerURL": "https://plot.ly"
       },
       "data": [
        {
         "hovertemplate": "<b>%{hovertext}</b><br><br>Año de Fundación: %{x}<br>Puntaje Sostenibilidad: %{y:.2f}<br>Ingresos Operacionales: %{marker.size:,.0f}<extra></extra>",
         "hovertext": [
          "ARA",
          "Biomax",
          "CI Eslop",
          "Cencosud",
          "Chevron",
          "Corbeta",
          "Cruz Verde",
          "D1",
          "Distracom",
          "Falabella",
          "Mazda",
          "Olímpica",
          "Petromil",
          "Pricesmart",
          "Primax",
          "Samsung",
          "Sodimac (Homecenter)",
          "Sucafina",
          "Suramerica Comercial (Dollar City)",
          "Tecnoquimicas",
          "Terpel",
          "Toyota",
          "Trafigura (Petroleum)",
          "Uniban",
          "Unilever",
          "Éxito"
         ],
         "legendgroup": "Comercio",
         "marker": {
          "color": "#636efa",
          "size": {
           "bdata": "FWLIxpCpK0CLHrb82QwSQHd/70hSoP8/qgDYs/nZEEA4ukp313kXQNoMR8KExidAmaz5De0LFkB/QmFDfHAzQCe7IsPt/g5AvFUwWuJ1AkDckcsuAej9P2lI0PBKhBxAiYM14oo+CECoxNi25uICQMsCLSrQCiVAQ5DPoKuBCUCe5vYo4vYXQHMH2rK2BABAitFhKKH0BkCDdDxcLhMJQGNmbNaDwDhAmzZnbegcEEASfJlJUHsTQBckJ1qMXgBAUwJT5wDa/j+piy1n4xMwQA==",
           "dtype": "f8"
          },
          "sizemode": "area",
          "sizeref": 0.03164536397861111,
          "symbol": "circle"
         },
         "mode": "markers",
         "name": "Comercio",
         "orientation": "v",
         "showlegend": true,
         "type": "scatter",
         "x": {
          "bdata": "3AfUB80HqAdXB5IHwAfZB80HYQeAB6EHxQfJB9UHsQegB7kH2QeOB7AHkQfJB64HiQedBw==",
          "dtype": "i2"
         },
         "xaxis": "x",
         "y": {
          "bdata": "AAAAAAAAAAAAAAAAAAAAAAAAAAAAAAAAAAAAAACAc0Dx8PDw8LBlQAAAAAAAAAAA9vg0xU4Ud0DR+yD4Add4QAAAAAAAAAAA7NXfUHfBfUDT0tLS0lJxQIeHh4eHhzdAAAAAAAAAAADbWIU32CBsQCQKPU4kkn1ALS0tLS3tdUDdHN0KfMd8QC0tLS0tLXBAAAAAAAAAAAAAAAAAAAAAACwgtSoBJoBAmEwmTkJWd0CmpaWlpSVuQKsuvp3bP3RAAAAAAAAAAACHXN4RvJF4QA==",
          "dtype": "f8"
         },
         "yaxis": "y"
        },
        {
         "hovertemplate": "<b>%{hovertext}</b><br><br>Año de Fundación: %{x}<br>Puntaje Sostenibilidad: %{y:.2f}<br>Ingresos Operacionales: %{marker.size:,.0f}<extra></extra>",
         "hovertext": [
          "ARQUITECTURA Y CONCRETO",
          "AUTOPISTA RIO MAGDALENA SAS",
          "Amarilo",
          "CONCESIONARIA VIAL UNIÓN DEL SUR SAS",
          "CONSTRUCCIONES EL CONDOR S.A",
          "CONSTRUCTORA CAPITAL BOGOTA SAS",
          "CONSTRUCTORA COLPATRIA  SAS",
          "Conconcreto",
          "ISMOCOL SA",
          "MARVAL S.A.S."
         ],
         "legendgroup": "Construcción",
         "marker": {
          "color": "#EF553B",
          "size": {
           "bdata": "+sBqOYuv6D+pD2FSNQf1P2t8+3qLfQFA9e1czFqQ6D9QoaEcWAjzP5LDBI40A/U/v+7XEUXg5z+jD5P5Eu3fP3sXJLq9Deg/htGD7e2H7z8=",
           "dtype": "f8"
          },
          "sizemode": "area",
          "sizeref": 0.03164536397861111,
          "symbol": "circle"
         },
         "mode": "markers",
         "name": "Construcción",
         "orientation": "v",
         "showlegend": true,
         "type": "scatter",
         "x": {
          "bdata": "xgfeB8kH3we7B9gHuQepB8UHuAc=",
          "dtype": "i2"
         },
         "xaxis": "x",
         "y": {
          "bdata": "AAAAAAAAAAAmzvrd+K59QEPcNTq1PnhArKroTohGckBAbuz5a/VoQNiMPzPMBmRAVVVVVVUVa0ATT0IfnlFzQAAAAAAAAAAAqq0usKZXcEA=",
          "dtype": "f8"
         },
         "yaxis": "y"
        },
        {
         "hovertemplate": "<b>%{hovertext}</b><br><br>Año de Fundación: %{x}<br>Puntaje Sostenibilidad: %{y:.2f}<br>Ingresos Operacionales: %{marker.size:,.0f}<extra></extra>",
         "hovertext": [
          "AVICOLA EL MADROÑO SA",
          "AVSA",
          "Aliar",
          "Grupo Bios",
          "INCUBADORA SANTANDER S.A. (Huevos Kikes)",
          "Sunshine Bouquet"
         ],
         "legendgroup": "Agropecuario",
         "marker": {
          "color": "#00cc96",
          "size": {
           "bdata": "cFRQTDzC5j93vgf+o2IDQHES1gj1S+8/M8q5aFZD3D+Zyuw9pp/sP4zmxskEQQFA",
           "dtype": "f8"
          },
          "sizemode": "area",
          "sizeref": 0.03164536397861111,
          "symbol": "circle"
         },
         "mode": "markers",
         "name": "Agropecuario",
         "orientation": "v",
         "showlegend": true,
         "type": "scatter",
         "x": {
          "bdata": "wwexB9cHwQeqB7MH",
          "dtype": "i2"
         },
         "xaxis": "x",
         "y": {
          "bdata": "AAAAAAAAAAD0PM/zPM9HQKqqqqqqynNAhmEYhmFYY0AAAAAAAAAAACRJkiRJkixA",
          "dtype": "f8"
         },
         "yaxis": "y"
        },
        {
         "hovertemplate": "<b>%{hovertext}</b><br><br>Año de Fundación: %{x}<br>Puntaje Sostenibilidad: %{y:.2f}<br>Ingresos Operacionales: %{marker.size:,.0f}<extra></extra>",
         "hovertext": [
          "Alimentos Carnicos (Grupo Nutresa)",
          "Alpina",
          "BEL STAR S.A.",
          "Bavaria (Kopps)",
          "CARTON DE COLOMBIA S.A. (Smurfit Kappa)",
          "Cementos Argos",
          "Coca Cola- Femsa",
          "Colgate",
          "Colombina",
          "Compañía Nacional de Chocolates",
          "ES Windows",
          "Esenttia",
          "General Motors",
          "Grupo Diana",
          "Haceb",
          "Italcol",
          "Nestle",
          "POLLOS EL BUCANERO S.A. (Cargill)",
          "Pepsico",
          "Postobón",
          "Productos Familia (Essity)",
          "Reficar",
          "Renault",
          "Riopaila Castilla",
          "YARA COLOMBIA S.A.",
          "Yamaha"
         ],
         "legendgroup": "Manufactura",
         "marker": {
          "color": "#ab63fa",
          "size": {
           "bdata": "wPBeds7BBkCvnKaXZGkBQDnymx0E+P0/cYWWxkY7IUCSnnAW+XT8PzCuAsZEhP0/F7jwR0elFEDlpk9whg4DQEEXfLboigFAE943ISEY/z85RnAr1v8EQOxdYK/gfQJAY706j9Zl8z80KJCVPOMDQENCQDDacvU/1narmF6DCUDq39z8ElsAQHkEg+D7LwJA7wyA3HHHAEDpNJHtCsYGQCxFL/lYIwBAizek5GTcOUCRRJw/h2gDQL0nXZolKPs/2l+/JdU+/D+OqWWyUk39Pw==",
           "dtype": "f8"
          },
          "sizemode": "area",
          "sizeref": 0.03164536397861111,
          "symbol": "circle"
         },
         "mode": "markers",
         "name": "Manufactura",
         "orientation": "v",
         "showlegend": true,
         "type": "scatter",
         "x": {
          "bdata": "gAeZB9AHYQeYB44HxwcOB4wHgAfBB8YHdAesB5QHsgdKB8IHrQdwB6YHpAdqB84HyQejBw==",
          "dtype": "i2"
         },
         "xaxis": "x",
         "y": {
          "bdata": "yZkdQYTDf0Ai4vWinIR7QPjXgxysQXJAZ/w3+5kNa0BwE1ZuRO53QMeOqH7YDn5AfAFG1UJfe0Bncy9T6jBxQBq+G5++h4BAe39jYLXCcEBqIwaP/f12QNX/63tKeYFAIzRrxVONdEAAAAAAAAAAAMCZdFIMGHtAAAAAAAAAAABnRLJMekZvQAAAAAAAAAAAymsor6GccEB9/aTqK6uBQLZFBXs2+HdAdiuvC0izdkBK/J1I7GZ4QFtoUBqot3tAQ3kN5TWUb0CkiPZzUF5mQA==",
          "dtype": "f8"
         },
         "yaxis": "y"
        },
        {
         "hovertemplate": "<b>%{hovertext}</b><br><br>Año de Fundación: %{x}<br>Puntaje Sostenibilidad: %{y:.2f}<br>Ingresos Operacionales: %{marker.size:,.0f}<extra></extra>",
         "hovertext": [
          "Avianca",
          "Celsia",
          "Cenit",
          "Claro",
          "EPM",
          "Emgesa",
          "GEB",
          "Gases del Caribe",
          "ISA",
          "Isagen",
          "LATAM",
          "Mercado Libre",
          "Oleoducto Central (Ocensa)",
          "Promigas",
          "Rappi",
          "Telefónica",
          "Teleperformance",
          "Tigo"
         ],
         "legendgroup": "Servicios",
         "marker": {
          "color": "#FFA15A",
          "size": {
           "bdata": "qkscMks2LkDTv2tqtTAaQPnTLdiZ9CNAL0TDbEY0L0D3ZbzvEJM0QBomWr+Hjy9AJGtWe627DUBYr+r4pBUFQGA7qxQhhhBAokKWgdqKGEDpPeQZc6ACQGy7UpQgu/0/UV4poJDmF0CznrU26C4CQCofrSougOY/H5Twt0+wGkBtwvXczT0FQJ1P5QA2pgdA",
           "dtype": "f8"
          },
          "sizemode": "area",
          "sizeref": 0.03164536397861111,
          "symbol": "circle"
         },
         "mode": "markers",
         "name": "Servicios",
         "orientation": "v",
         "showlegend": true,
         "type": "scatter",
         "x": {
          "bdata": "fwfRB9wH0wejB80HaAeuB68HyweJB9kHyge2B98HhAd2B7sH",
          "dtype": "i2"
         },
         "xaxis": "x",
         "y": {
          "bdata": "QnMWIduQdkDRrBy0JVF7QKjdqjBBgHxAVo/C3nZUfUCOr5eCHjl7QETguoyik39A51cTupxgekDUAlKcJd5xQN52FL29cXlAe18Xr53gcEDeODzNNLl3QEx33reMB3RAv8BV0NZaeUCJSFwvQth8QAAAAAAAAAAAuUBhNztQfECUkTp1PfZ5QIUfT9VDunVA",
          "dtype": "f8"
         },
         "yaxis": "y"
        },
        {
         "hovertemplate": "<b>%{hovertext}</b><br><br>Año de Fundación: %{x}<br>Puntaje Sostenibilidad: %{y:.2f}<br>Ingresos Operacionales: %{marker.size:,.0f}<extra></extra>",
         "hovertext": [
          "C.I Prodeco",
          "Cerrejón",
          "Drummond",
          "Ecopetrol",
          "Frontera Energy",
          "Geopark",
          "Gran Tierra Energy",
          "Hocol",
          "SierraCol Energy",
          "Verano energy"
         ],
         "legendgroup": "Minero",
         "marker": {
          "color": "#19d3f3",
          "size": {
           "bdata": "dFyfzwak7D/iO0iHOzAYQDGzWFXy/SZAB1YuhBd7XEA4E5YiQAARQI9kKW7pXANAqrab4Jsm9T8Lonn2GEkFQFf/GiIEGv8/q6n3F+vuFUA=",
           "dtype": "f8"
          },
          "sizemode": "area",
          "sizeref": 0.03164536397861111,
          "symbol": "circle"
         },
         "mode": "markers",
         "name": "Minero",
         "orientation": "v",
         "showlegend": true,
         "type": "scatter",
         "x": {
          "bdata": "xge4B48HnwfBB9IH0wekB+QH4Ac=",
          "dtype": "i2"
         },
         "xaxis": "x",
         "y": {
          "bdata": "TuzETuzEPkBHRdpr8KlyQHHEL7MG+IBAdhdd8CbOgEDyeuZbVVp7QEmselPCBIBAedbcxDJydkC9z6QaYkB9QPctGHc6hH5AAAAAAAAAAAA=",
          "dtype": "f8"
         },
         "yaxis": "y"
        }
       ],
       "layout": {
        "font": {
         "color": "black",
         "family": "Arial, sans-serif",
         "size": 14
        },
        "legend": {
         "itemsizing": "constant",
         "title": {
          "text": "Macrosector"
         },
         "tracegroupgap": 0
        },
        "margin": {
         "t": 60
        },
        "template": {
         "data": {
          "bar": [
           {
            "error_x": {
             "color": "#2a3f5f"
            },
            "error_y": {
             "color": "#2a3f5f"
            },
            "marker": {
             "line": {
              "color": "#E5ECF6",
              "width": 0.5
             },
             "pattern": {
              "fillmode": "overlay",
              "size": 10,
              "solidity": 0.2
             }
            },
            "type": "bar"
           }
          ],
          "barpolar": [
           {
            "marker": {
             "line": {
              "color": "#E5ECF6",
              "width": 0.5
             },
             "pattern": {
              "fillmode": "overlay",
              "size": 10,
              "solidity": 0.2
             }
            },
            "type": "barpolar"
           }
          ],
          "carpet": [
           {
            "aaxis": {
             "endlinecolor": "#2a3f5f",
             "gridcolor": "white",
             "linecolor": "white",
             "minorgridcolor": "white",
             "startlinecolor": "#2a3f5f"
            },
            "baxis": {
             "endlinecolor": "#2a3f5f",
             "gridcolor": "white",
             "linecolor": "white",
             "minorgridcolor": "white",
             "startlinecolor": "#2a3f5f"
            },
            "type": "carpet"
           }
          ],
          "choropleth": [
           {
            "colorbar": {
             "outlinewidth": 0,
             "ticks": ""
            },
            "type": "choropleth"
           }
          ],
          "contour": [
           {
            "colorbar": {
             "outlinewidth": 0,
             "ticks": ""
            },
            "colorscale": [
             [
              0,
              "#0d0887"
             ],
             [
              0.1111111111111111,
              "#46039f"
             ],
             [
              0.2222222222222222,
              "#7201a8"
             ],
             [
              0.3333333333333333,
              "#9c179e"
             ],
             [
              0.4444444444444444,
              "#bd3786"
             ],
             [
              0.5555555555555556,
              "#d8576b"
             ],
             [
              0.6666666666666666,
              "#ed7953"
             ],
             [
              0.7777777777777778,
              "#fb9f3a"
             ],
             [
              0.8888888888888888,
              "#fdca26"
             ],
             [
              1,
              "#f0f921"
             ]
            ],
            "type": "contour"
           }
          ],
          "contourcarpet": [
           {
            "colorbar": {
             "outlinewidth": 0,
             "ticks": ""
            },
            "type": "contourcarpet"
           }
          ],
          "heatmap": [
           {
            "colorbar": {
             "outlinewidth": 0,
             "ticks": ""
            },
            "colorscale": [
             [
              0,
              "#0d0887"
             ],
             [
              0.1111111111111111,
              "#46039f"
             ],
             [
              0.2222222222222222,
              "#7201a8"
             ],
             [
              0.3333333333333333,
              "#9c179e"
             ],
             [
              0.4444444444444444,
              "#bd3786"
             ],
             [
              0.5555555555555556,
              "#d8576b"
             ],
             [
              0.6666666666666666,
              "#ed7953"
             ],
             [
              0.7777777777777778,
              "#fb9f3a"
             ],
             [
              0.8888888888888888,
              "#fdca26"
             ],
             [
              1,
              "#f0f921"
             ]
            ],
            "type": "heatmap"
           }
          ],
          "histogram": [
           {
            "marker": {
             "pattern": {
              "fillmode": "overlay",
              "size": 10,
              "solidity": 0.2
             }
            },
            "type": "histogram"
           }
          ],
          "histogram2d": [
           {
            "colorbar": {
             "outlinewidth": 0,
             "ticks": ""
            },
            "colorscale": [
             [
              0,
              "#0d0887"
             ],
             [
              0.1111111111111111,
              "#46039f"
             ],
             [
              0.2222222222222222,
              "#7201a8"
             ],
             [
              0.3333333333333333,
              "#9c179e"
             ],
             [
              0.4444444444444444,
              "#bd3786"
             ],
             [
              0.5555555555555556,
              "#d8576b"
             ],
             [
              0.6666666666666666,
              "#ed7953"
             ],
             [
              0.7777777777777778,
              "#fb9f3a"
             ],
             [
              0.8888888888888888,
              "#fdca26"
             ],
             [
              1,
              "#f0f921"
             ]
            ],
            "type": "histogram2d"
           }
          ],
          "histogram2dcontour": [
           {
            "colorbar": {
             "outlinewidth": 0,
             "ticks": ""
            },
            "colorscale": [
             [
              0,
              "#0d0887"
             ],
             [
              0.1111111111111111,
              "#46039f"
             ],
             [
              0.2222222222222222,
              "#7201a8"
             ],
             [
              0.3333333333333333,
              "#9c179e"
             ],
             [
              0.4444444444444444,
              "#bd3786"
             ],
             [
              0.5555555555555556,
              "#d8576b"
             ],
             [
              0.6666666666666666,
              "#ed7953"
             ],
             [
              0.7777777777777778,
              "#fb9f3a"
             ],
             [
              0.8888888888888888,
              "#fdca26"
             ],
             [
              1,
              "#f0f921"
             ]
            ],
            "type": "histogram2dcontour"
           }
          ],
          "mesh3d": [
           {
            "colorbar": {
             "outlinewidth": 0,
             "ticks": ""
            },
            "type": "mesh3d"
           }
          ],
          "parcoords": [
           {
            "line": {
             "colorbar": {
              "outlinewidth": 0,
              "ticks": ""
             }
            },
            "type": "parcoords"
           }
          ],
          "pie": [
           {
            "automargin": true,
            "type": "pie"
           }
          ],
          "scatter": [
           {
            "fillpattern": {
             "fillmode": "overlay",
             "size": 10,
             "solidity": 0.2
            },
            "type": "scatter"
           }
          ],
          "scatter3d": [
           {
            "line": {
             "colorbar": {
              "outlinewidth": 0,
              "ticks": ""
             }
            },
            "marker": {
             "colorbar": {
              "outlinewidth": 0,
              "ticks": ""
             }
            },
            "type": "scatter3d"
           }
          ],
          "scattercarpet": [
           {
            "marker": {
             "colorbar": {
              "outlinewidth": 0,
              "ticks": ""
             }
            },
            "type": "scattercarpet"
           }
          ],
          "scattergeo": [
           {
            "marker": {
             "colorbar": {
              "outlinewidth": 0,
              "ticks": ""
             }
            },
            "type": "scattergeo"
           }
          ],
          "scattergl": [
           {
            "marker": {
             "colorbar": {
              "outlinewidth": 0,
              "ticks": ""
             }
            },
            "type": "scattergl"
           }
          ],
          "scattermap": [
           {
            "marker": {
             "colorbar": {
              "outlinewidth": 0,
              "ticks": ""
             }
            },
            "type": "scattermap"
           }
          ],
          "scattermapbox": [
           {
            "marker": {
             "colorbar": {
              "outlinewidth": 0,
              "ticks": ""
             }
            },
            "type": "scattermapbox"
           }
          ],
          "scatterpolar": [
           {
            "marker": {
             "colorbar": {
              "outlinewidth": 0,
              "ticks": ""
             }
            },
            "type": "scatterpolar"
           }
          ],
          "scatterpolargl": [
           {
            "marker": {
             "colorbar": {
              "outlinewidth": 0,
              "ticks": ""
             }
            },
            "type": "scatterpolargl"
           }
          ],
          "scatterternary": [
           {
            "marker": {
             "colorbar": {
              "outlinewidth": 0,
              "ticks": ""
             }
            },
            "type": "scatterternary"
           }
          ],
          "surface": [
           {
            "colorbar": {
             "outlinewidth": 0,
             "ticks": ""
            },
            "colorscale": [
             [
              0,
              "#0d0887"
             ],
             [
              0.1111111111111111,
              "#46039f"
             ],
             [
              0.2222222222222222,
              "#7201a8"
             ],
             [
              0.3333333333333333,
              "#9c179e"
             ],
             [
              0.4444444444444444,
              "#bd3786"
             ],
             [
              0.5555555555555556,
              "#d8576b"
             ],
             [
              0.6666666666666666,
              "#ed7953"
             ],
             [
              0.7777777777777778,
              "#fb9f3a"
             ],
             [
              0.8888888888888888,
              "#fdca26"
             ],
             [
              1,
              "#f0f921"
             ]
            ],
            "type": "surface"
           }
          ],
          "table": [
           {
            "cells": {
             "fill": {
              "color": "#EBF0F8"
             },
             "line": {
              "color": "white"
             }
            },
            "header": {
             "fill": {
              "color": "#C8D4E3"
             },
             "line": {
              "color": "white"
             }
            },
            "type": "table"
           }
          ]
         },
         "layout": {
          "annotationdefaults": {
           "arrowcolor": "#2a3f5f",
           "arrowhead": 0,
           "arrowwidth": 1
          },
          "autotypenumbers": "strict",
          "coloraxis": {
           "colorbar": {
            "outlinewidth": 0,
            "ticks": ""
           }
          },
          "colorscale": {
           "diverging": [
            [
             0,
             "#8e0152"
            ],
            [
             0.1,
             "#c51b7d"
            ],
            [
             0.2,
             "#de77ae"
            ],
            [
             0.3,
             "#f1b6da"
            ],
            [
             0.4,
             "#fde0ef"
            ],
            [
             0.5,
             "#f7f7f7"
            ],
            [
             0.6,
             "#e6f5d0"
            ],
            [
             0.7,
             "#b8e186"
            ],
            [
             0.8,
             "#7fbc41"
            ],
            [
             0.9,
             "#4d9221"
            ],
            [
             1,
             "#276419"
            ]
           ],
           "sequential": [
            [
             0,
             "#0d0887"
            ],
            [
             0.1111111111111111,
             "#46039f"
            ],
            [
             0.2222222222222222,
             "#7201a8"
            ],
            [
             0.3333333333333333,
             "#9c179e"
            ],
            [
             0.4444444444444444,
             "#bd3786"
            ],
            [
             0.5555555555555556,
             "#d8576b"
            ],
            [
             0.6666666666666666,
             "#ed7953"
            ],
            [
             0.7777777777777778,
             "#fb9f3a"
            ],
            [
             0.8888888888888888,
             "#fdca26"
            ],
            [
             1,
             "#f0f921"
            ]
           ],
           "sequentialminus": [
            [
             0,
             "#0d0887"
            ],
            [
             0.1111111111111111,
             "#46039f"
            ],
            [
             0.2222222222222222,
             "#7201a8"
            ],
            [
             0.3333333333333333,
             "#9c179e"
            ],
            [
             0.4444444444444444,
             "#bd3786"
            ],
            [
             0.5555555555555556,
             "#d8576b"
            ],
            [
             0.6666666666666666,
             "#ed7953"
            ],
            [
             0.7777777777777778,
             "#fb9f3a"
            ],
            [
             0.8888888888888888,
             "#fdca26"
            ],
            [
             1,
             "#f0f921"
            ]
           ]
          },
          "colorway": [
           "#636efa",
           "#EF553B",
           "#00cc96",
           "#ab63fa",
           "#FFA15A",
           "#19d3f3",
           "#FF6692",
           "#B6E880",
           "#FF97FF",
           "#FECB52"
          ],
          "font": {
           "color": "#2a3f5f"
          },
          "geo": {
           "bgcolor": "white",
           "lakecolor": "white",
           "landcolor": "#E5ECF6",
           "showlakes": true,
           "showland": true,
           "subunitcolor": "white"
          },
          "hoverlabel": {
           "align": "left"
          },
          "hovermode": "closest",
          "mapbox": {
           "style": "light"
          },
          "paper_bgcolor": "white",
          "plot_bgcolor": "#E5ECF6",
          "polar": {
           "angularaxis": {
            "gridcolor": "white",
            "linecolor": "white",
            "ticks": ""
           },
           "bgcolor": "#E5ECF6",
           "radialaxis": {
            "gridcolor": "white",
            "linecolor": "white",
            "ticks": ""
           }
          },
          "scene": {
           "xaxis": {
            "backgroundcolor": "#E5ECF6",
            "gridcolor": "white",
            "gridwidth": 2,
            "linecolor": "white",
            "showbackground": true,
            "ticks": "",
            "zerolinecolor": "white"
           },
           "yaxis": {
            "backgroundcolor": "#E5ECF6",
            "gridcolor": "white",
            "gridwidth": 2,
            "linecolor": "white",
            "showbackground": true,
            "ticks": "",
            "zerolinecolor": "white"
           },
           "zaxis": {
            "backgroundcolor": "#E5ECF6",
            "gridcolor": "white",
            "gridwidth": 2,
            "linecolor": "white",
            "showbackground": true,
            "ticks": "",
            "zerolinecolor": "white"
           }
          },
          "shapedefaults": {
           "line": {
            "color": "#2a3f5f"
           }
          },
          "ternary": {
           "aaxis": {
            "gridcolor": "white",
            "linecolor": "white",
            "ticks": ""
           },
           "baxis": {
            "gridcolor": "white",
            "linecolor": "white",
            "ticks": ""
           },
           "bgcolor": "#E5ECF6",
           "caxis": {
            "gridcolor": "white",
            "linecolor": "white",
            "ticks": ""
           }
          },
          "title": {
           "x": 0.05
          },
          "xaxis": {
           "automargin": true,
           "gridcolor": "white",
           "linecolor": "white",
           "ticks": "",
           "title": {
            "standoff": 15
           },
           "zerolinecolor": "white",
           "zerolinewidth": 2
          },
          "yaxis": {
           "automargin": true,
           "gridcolor": "white",
           "linecolor": "white",
           "ticks": "",
           "title": {
            "standoff": 15
           },
           "zerolinecolor": "white",
           "zerolinewidth": 2
          }
         }
        },
        "title": {
         "text": "<b>Sostenibilidad vs. Antigüedad Empresarial</b><br><sup>El tamaño de la burbuja indica los ingresos operacionales</sup>",
         "x": 0.5
        },
        "xaxis": {
         "anchor": "y",
         "domain": [
          0,
          1
         ],
         "title": {
          "text": "Año de Fundación"
         }
        },
        "yaxis": {
         "anchor": "x",
         "domain": [
          0,
          1
         ],
         "title": {
          "text": "Puntaje Total de Sostenibilidad"
         }
        }
       }
      }
     },
     "metadata": {},
     "output_type": "display_data"
    }
   ],
   "source": [
    "# 1. Preparación y Manejo de Datos\n",
    "# Asegurarse que 'Año de fundación' sea numérico.\n",
    "raw_data['Año de fundación'] = pd.to_numeric(raw_data['Año de fundación'], errors='coerce')\n",
    "\n",
    "# Reutilizamos la agregación anterior y añadimos el año de fundación.\n",
    "# Usamos 'first' ya que el año de fundación es constante por empresa.\n",
    "bubble_chart_data = raw_data.groupby('Razón social').agg(\n",
    "    Puntaje_Total_Sostenibilidad=('valoracionPonderada', 'sum'),\n",
    "    Ingresos_Operacionales=('Ingresos operacionales', 'first'),\n",
    "    Macrosector=('Macrosector', 'first'),\n",
    "    Ano_Fundacion=('Año de fundación', 'first')\n",
    ").reset_index()\n",
    "\n",
    "# Limpieza de datos para el gráfico: eliminar filas sin año de fundación o sin ingresos.\n",
    "bubble_chart_data.dropna(subset=['Ano_Fundacion', 'Ingresos_Operacionales'], inplace=True)\n",
    "bubble_chart_data = bubble_chart_data[bubble_chart_data['Ingresos_Operacionales'] > 0]\n",
    "bubble_chart_data['Ano_Fundacion'] = bubble_chart_data['Ano_Fundacion'].astype(int)\n",
    "\n",
    "# 2. Creación del Gráfico de Burbujas con Plotly Express\n",
    "fig_bubble = px.scatter(\n",
    "    bubble_chart_data,\n",
    "    x=\"Ano_Fundacion\",\n",
    "    y=\"Puntaje_Total_Sostenibilidad\",\n",
    "    size=\"Ingresos_Operacionales\", # El tamaño de la burbuja representa los ingresos\n",
    "    color=\"Macrosector\",          # El color de la burbuja representa el macrosector\n",
    "    hover_name=\"Razón social\",    # Muestra el nombre de la empresa al pasar el cursor\n",
    "    size_max=60,                  # Controla el tamaño máximo de la burbuja más grande\n",
    "    log_x=False                   # Se puede cambiar a True si los años están muy agrupados\n",
    ")\n",
    "\n",
    "# 3. Personalización y Estilo del Gráfico\n",
    "fig_bubble.update_layout(\n",
    "    title='<b>Sostenibilidad vs. Antigüedad Empresarial</b><br><sup>El tamaño de la burbuja indica los ingresos operacionales</sup>',\n",
    "    title_x=0.5,\n",
    "    xaxis_title=\"Año de Fundación\",\n",
    "    yaxis_title=\"Puntaje Total de Sostenibilidad\",\n",
    "    font=dict(\n",
    "        family=\"Arial, sans-serif\",\n",
    "        size=14,\n",
    "        color=\"black\"\n",
    "    ),\n",
    "    legend_title_text='Macrosector'\n",
    ")\n",
    "\n",
    "# Personalización del hover para mostrar la información de forma más clara\n",
    "fig_bubble.update_traces(\n",
    "    hovertemplate='<b>%{hovertext}</b><br><br>' +\n",
    "                  'Año de Fundación: %{x}<br>' +\n",
    "                  'Puntaje Sostenibilidad: %{y:.2f}<br>' +\n",
    "                  'Ingresos Operacionales: %{marker.size:,.0f}<extra></extra>'\n",
    ")\n",
    "\n",
    "fig_bubble.show()\n",
    "save_chart_as_html(fig_bubble, '05_bubble_chart_sustainability_vs_age.html')\n",
    "# Save as image\n",
    "fig_bubble.write_image(\"img/05_bubble_chart_sustainability_vs_age.png\", width=1000, height=800, scale=2)"
   ]
  },
  {
   "cell_type": "markdown",
   "metadata": {},
   "source": [
    "## 6. Gráfico de Coordenadas Paralelas para Perfiles de Sostenibilidad"
   ]
  },
  {
   "cell_type": "code",
   "execution_count": 21,
   "metadata": {},
   "outputs": [
    {
     "data": {
      "application/vnd.plotly.v1+json": {
       "config": {
        "plotlyServerURL": "https://plot.ly"
       },
       "data": [
        {
         "dimensions": [
          {
           "label": "Acción Climática y Energía",
           "values": {
            "bdata": "AAAAAAAAAAAAAAAAAAAAAO9TAIgiXFpAAAAAAAAAAADDMAzDMAwzQNy2bdu2bVVAHTmTkk7jYkCJrsaXNVtoQEOzlGOtZFNAeC8AvJUaUEAN5TWU11BaQHGbM2PDY1pACrdqzKYvV0C8D/vCeUBgQAAAAAAAAAAAAAAAAAAAAAAN5TWU11BaQAAAAAAAAAAAL4MzlRz1S0AAAAAAAAAAABmMKelT5z5AJEmSJEmSLEANC+v3tBxXQA3lNZTXUFpAeXh4eHh4SkCtdzHUlxNYQIyd2Imd2DxA4uHh4eHhTkBUl6HE1kpYQOhxjfDE92JA11BeQ3kNVUC8uXCH05plQPIaymsor1dA+Hlk//8tV0AAAAAAAAAAABrWs5kfZmBA7tKk0D6bU0DgNQ0KJHRUQAAAAAAAAAAAxlccDsTcW0Ax/K3w401UQHTeMQtuvF5AoNiJndgJWED1GRPtfxZZQFq85I8312VAodefM8ynY0BaSLjklnthQKJxMJMwCVdAgF8Ya+1fVUDyGsprKK9XQOwkXqjI2mFAwHl2AASGW0DDMAzDMAwzQAAAAAAAAAAAblrshXW7Y0Dt51fzlvphQAAAAAAAAAAA6hwypOndXEAAAAAAAAAAAJYu0XCvIFBAAAAAAAAAAADQJpxVWWVNQCRJkiRJkkxAEA8PDw8PVkDY0dZrYIlXQA3lNZTXUEpAn32U4OzyWEAAAAAAAAAAAAAAAAAAAAAA8hrKayivV0AAAAAAAAAAAI9aWSPOx2hAAKvbq9JyWkBSHoSmUu5kQA3lNZTXUFpAaJm3iaKpWEAAAAAAAAAAAA3lNZTXUEpA0Qv4qG4QYUD7ffgZi+RlQBAPDw8PD1ZAWwOcd8sZZUAJwFph8RBgQFtaWlpa2lNAAAAAAAAAAAAAAAAAAAAAAAAAAAAAAAAALMdu6HroVUDD9d6YE+1YQA9wc8zbNFtAbDhjwnznVkD5YRVlTXVhQOLh4eHh4U5AGffifq9jXkAAAAAAAAAAAI4PMEU4DlBAAAAAAAAAAAAN5TWU11BaQEJ5DeU1lE9AZN2T3/GvXkA=",
            "dtype": "f8"
           }
          },
          {
           "label": "Capital Humano: Bienestar y Desarrollo",
           "values": {
            "bdata": "AAAAAAAAAAAAAAAAAAAAAPM8z/M8z1dAAAAAAAAAAAAAAAAAAAAAACRJkiRJkjxA11BeQ3kNRUDXUF5DeQ1FQPM8z/M8z0dAh4eHh4eHR0DXUF5DeQ01QIeHh4eHh0dA9kQAqXHLN0AAAAAAAAAAAAAAAAAAAAAAAAAAAAAAAACaTUH4T+JKQAAAAAAAAAAA8zzP8zzPN0DzPM/zPM9HQAAAAAAAAAAA8zzP8zzPR0DGoMg4F484QLHov08bi1NApqWlpaWlQUD2g8aYBjBAQLMTO7ETOzNApqWlpaWlQUBpkh/d+A4/QNdQXkN5DUVA11BeQ3kNRUBzMk/pXnxPQNdQXkN5DUVA8zzP8zzPN0AAAAAAAAAAAKalpaWlpUFApqWlpaWlQUCHh4eHh4c3QAAAAAAAAAAAyo3cyI3cUUCHh4eHh4c3QNdQXkN5DUVAsxM7sRM7U0Cb4rw3NMVGQDrdyujLv1RA9RrfpDzXQ0CzEzuxEztDQIeHh4eHhzdAbVBE6pkSKUDXUF5DeQ1FQHybqHqbKEdAsxM7sRM7M0AkSZIkSZI8QAAAAAAAAAAAFJTsctbNTUD29fX19ZVRQAAAAAAAAAAA8hrfTGJ7RkAAAAAAAAAAAIeHh4eHhzdAAAAAAAAAAACHh4eHh4c3QPM8z/M8zzdAAAAAAAAAAACHh4eHh4c3QNdQXkN5DUVAh4eHh4eHN0AAAAAAAAAAAAAAAAAAAAAA11BeQ3kNRUAAAAAAAAAAANdQXkN5DUVAAAAAAAAAAACmpaWlpaVBQNdQXkN5DUVAZcw+o20GOEAAAAAAAAAAAACatfh1nlNAs/hv9FJZSEChQyQXtmJNQKalpaWlpUFAsxM7sRM7Q0A7WVbcUyhDQKalpaWlpTFAAAAAAAAAAAAAAAAAAAAAAAAAAAAAAAAA7D8wo60LOECHh4eHh4c3QJqMqO9+1lJAwxXcfAN7R0CmpaWlpaVRQKalpaWlpUFApqWlpaWlMUAAAAAAAAAAAIeHh4eHhzdAAAAAAAAAAAAAAAAAAAAAANdQXkN5DUVApqWlpaWlQUA=",
            "dtype": "f8"
           }
          },
          {
           "label": "Diversidad, Equidad e Inclusión (DEI)",
           "values": {
            "bdata": "AAAAAAAAAAAAAAAAAAAAANu2bdu2bTVAAAAAAAAAAAAAAAAAAAAAACRJkiRJkixApSC3h8oFS0DwjlwaZ5AiQMl7z9jWrkZAh4ABqhBISEBDeQ3lNZQ/QCE52QVS6VlADslPQl0nPUDMlDqssnMpQAAAAAAAAAAAAAAAAAAAAABncy9T6pgyQAAAAAAAAAAA1f8RRMBiIUD4IJaS/CUnQAAAAAAAAAAAJEmSJEmSPEAuwpnqSIxQQHrTm970RjZADg8PDw8PWUCyUg+WiKNYQE4MOae6SylAh4eHh4eHN0DIOush/nJYQLyG8hrK70BA+r4SYGyLGkDyGsprKLNDQAZWe39jEDpAZM9KuDCbLUAAAAAAAAAAAKWlpaWlpUFAaus4NP6QVEB0rzZ2E55XQAAAAAAAAAAAFcySckBkJ0DoFPtW32RYQE81MXz8rTNAPA7wq66bTUB4Sxef8VhSQHkN5TWUQVFA7Rmb6OOtXEA7sRM7sRMnQDUN+FrfzFFAGm1u5kFDMUBWnzAZoVkvQI4E32PibUNAJNBvVb2xJkAkSZIkSZI8QAAAAAAAAAAAOw8OSJFILUDjBnxkouc0QAAAAAAAAAAAHFF/W+3PJkAAAAAAAAAAAPvZJATwz7Q/AAAAAAAAAACEgcayNgpMQF+WYqPLfyZAHh4eHh4ePkAAAAAAAAAAAFqYu02zhUJAEA8PDw8PRkAAAAAAAAAAAAAAAAAAAAAAQ3kN5TWUH0AAAAAAAAAAALnkuihfnkBAaWlpaWlpKUBDQUFBQUEhQPWmN73pVUdALuIpzH7bUkAAAAAAAAAAADzca7sqzj5AQ3kN5TWUP0DrdoF35NIkQIeHh4eHh0NASQx2amXVP0CeBaoMe/BRQKWlpaWlpTFAAAAAAAAAAAAAAAAAAAAAAAAAAAAAAAAAD+dnhPvlVkDGy9EzxwNVQBISEhISElZAL2yRIE1TPUDc3Nzc3NxAQAAAAAAAAAAADw8PDw8PL0AAAAAAAAAAAJ5o/wCRy0JAAAAAAAAAAABDeQ3lNZQvQAAAAAAAAAAAqZGD4RmiUEA=",
            "dtype": "f8"
           }
          },
          {
           "label": "Gestión de Recursos Naturales y Circularidad",
           "values": {
            "bdata": "AAAAAAAAAAAAAAAAAAAAAMNqTAhHwVNAAAAAAAAAAAAAAAAAAAAAAPM8z/M8z1dAOyO+EPmdWUBdhCgxPJdXQJxtts8pmlVAxMIFo4iWREAGOSzJlqFLQBdbydAqLUBAonAFpXuWNEBDeQ3lNZQ/QAAAAAAAAAAAAAAAAAAAAADKayivobxTQAAAAAAAAAAAAJGtRoq9UUAkSZIkSZI8QC086zZvZzFAJEmSJEmSPED+IMlj4IZHQAPVRqOD8F5AAAAAAAAAAACTdsPtHB5DQL8FVq/SdFVApaWlpaWlMUCfm4YaBnA6QMprKK+hvFNA8hrKayivR0BeoIyejaVXQPIaymsor0dA4JNn2ef6SkAAAAAAAAAAAM4a7cErUDpA2/vAny6KM0AEh1Q9kJZEQAAAAAAAAAAAm1RruQCYXEB0MAykUdc4QNLeEHgcf09AgUiSbeCJXEAeHh4eHh5DQOj9zPGfrldACvXEdftjMUDFbmRXOy1fQKTfZxLkdkdA4AofLgaHN0BeQ3kN5bVVQHyDhm991lxA5DQ7Ld7YV0AAAAAAAAAAAAAAAAAAAAAAtsSlGb2zVUC1O2f6PZ5gQAAAAAAAAAAA3o2A/LyiQUAAAAAAAAAAAJ6xrVKhpUFAAAAAAAAAAADYWrudUpZEQJd+CnT5ikVApaWlpaWlMUCWlpaWlpY0QPIaymsorzdA2iij3/oORkAAAAAAAAAAAAAAAAAAAAAAQ3kN5TWUT0AAAAAAAAAAAMo8lM50iVtAmJgdYAkbGkB4eHh4eHg6QPIaymsor1dAasGzMJ6lQUAAAAAAAAAAAFd9x7ysnFFA6mNCcfS5U0C6b5gG+3hXQGlpaWlpaT1AcsDvpojFYEDy6NiBKTI9QHh4eHh4eDpAAAAAAAAAAAAAAAAAAAAAAAAAAAAAAAAAuvAYikSlQUDBqKGQc3g6QPKCtZCabENALRIEb4mlMUCHh4eHh4cXQHh4eHh4eDpA5a/oemijNkAAAAAAAAAAAIFAph2vpDFAAAAAAAAAAADyGsprKK9HQEIPIMgylD9AxJMPoRlbO0A=",
            "dtype": "f8"
           }
          },
          {
           "label": "Impacto Económico, Social y Comunitario",
           "values": {
            "bdata": "AAAAAAAAAAAAAAAAAAAAAEmSJEmSpFNAAAAAAAAAAAAkSZIkSZIsQNu2bdu2bTVAUVyA9r3VV0CwvoPg2ihKQLZt27Zt20FAd51R6bkYRUBDeQ3lNZQvQAXklvCnpVFAlpaWlpaWREDXUF5DeQ0lQAAAAAAAAAAATuzETuzELkDyGsprKK9HQAAAAAAAAAAAPjCyQ2FrTEC2bdu2bdtBQLZt27Zt20FA27Zt27ZtNUDsw22E+UpWQLI3loyMIFJAaWlpaWlpPUCSRbwraTlSQFyLBDUVolZAh4eHh4eHJ0D1G9ASg3BRQIi9B804K0pAQ3kN5TWUL0B+yrrxWg5UQNdQXkN5DSVAJEmSJEmSPEAAAAAAAAAAAIeHh4eHhzdAuLV59wIRUECHh4eHh4dXQAAAAAAAAAAAEz7GpKOjY0C4VWcOl7BWQIe89Ak5mkRADmxev3+ZXECB1w+4qylZQBpj4v+FXk1AeHh4eHh4SkBO7MRO7MROQKWlpaWlpVFAaWlpaWlpPUAN5TWU11A6QDqxEzuxE1dAOrETO7ETV0C2bdu2bdtBQAAAAAAAAAAAt0mqnuG2SUCxEzuxEztDQAAAAAAAAAAAeHh4eHh4SkAAAAAAAAAAAL/4hmqjMU1AAAAAAAAAAAB4eHh4eHhKQAAAAAAAAElAh4eHh4eHN0BmGrKC4SNQQEJ5DeU1lD9AHh4eHh4eU0AAAAAAAAAAAAAAAAAAAAAA11BeQ3kNJUAAAAAAAAAAAGvzq1rArVlAh4eHh4eHF0BpaWlpaWldQEJ5DeU1lD9A+06iIrlDVEAAAAAAAAAAAECCQqLK8klAQnkN5TWUP0DXUF5DeQ1FQJaWlpaWlkRAYlpXidC5SkCEHQqkdMFSQIeHh4eHhzdAAAAAAAAAAAAAAAAAAAAAAAAAAAAAAAAAjQgS/yTZUECUnouxZf1PQMXHttXl8lVAjuM4juM4RkBpaWlpaWk9QIeHh4eHhzdAjokRDSRASkAAAAAAAAAAAJAb1ZfFv09AAAAAAAAAAADXUF5DeQ01QNdQXkN5DSVAh4eHh4eHR0A=",
            "dtype": "f8"
           }
          },
          {
           "label": "Transparencia y Gobierno de la Sostenibilidad",
           "values": {
            "bdata": "AAAAAAAAAAAAAAAAAAAAAPQ8z/M8z1dAAAAAAAAAAAAkSZIkSZIsQLZt27Zt21FAQ3kN5TWUT0DyGsprKK9HQPQ8z/M8z1dAamlpaWlpXUBDeQ3lNZRPQOLh4eHhYWJA4uHh4eFhYkBDeQ3lNZQ/QAAAAAAAAAAATuzETuzELkDKayivobxTQAAAAAAAAAAAwzAMwzAMU0DDMAzDMAxTQMMwDMMwDFNAwzAMwzAMU0BqaWlpaWldQMprKK+hvFNAh4eHh4eHV0BqaWlpaWldQE7sxE7sxE5Ah4eHh4eHN0Di4eHh4WFiQMprKK+hvFNAymsor6G8U0DKayivobxTQPIaymsor0dA9DzP8zzPV0AAAAAAAAAAAGlpaWlpaV1AaWlpaWlpXUDi4eHh4WFiQAAAAAAAAAAAsRM7sRM7U0BqaWlpaWldQMprKK+hvFNAsRM7sRM7U0Di4eHh4WFiQMprKK+hvFNAh4eHh4eHV0BO7MRO7MROQGppaWlpaV1AamlpaWlpXUBDeQ3lNZRPQLETO7ETO1NATuzETuzEPkDbtm3btm1FQAAAAAAAAAAAQ3kN5TWUT0BO7MRO7MROQAAAAAAAAAAA4uHh4eFhYkAAAAAAAAAAABAPDw8PD1ZAAAAAAAAAAADi4eHh4WFiQMMwDMMwDFNAaWlpaWlpXUBqaWlpaWldQEN5DeU1lE9AamlpaWlpXUCHh4eHh4c3QAAAAAAAAAAA8hrKayivR0AAAAAAAAAAAMprKK+hvFNAh4eHh4eHV0BpaWlpaWldQEN5DeU1lE9A4uHh4eFhYkAAAAAAAAAAAMprKK+hvFNAQ3kN5TWUT0BDeQ3lNZRPQGlpaWlpaV1ATuzETuzETkBpaWlpaWldQIeHh4eHh1dAJEmSJEmSLEAAAAAAAAAAAAAAAAAAAAAA4uHh4eFhYkBqaWlpaWldQGlpaWlpaV1AamlpaWlpXUCHh4eHh4dXQIeHh4eHh1dAh4eHh4eHV0AAAAAAAAAAAOLh4eHhYWJAAAAAAAAAAABDeQ3lNZRPQEN5DeU1lD9Ah4eHh4eHV0A=",
            "dtype": "f8"
           }
          }
         ],
         "domain": {
          "x": [
           0,
           1
          ],
          "y": [
           0,
           1
          ]
         },
         "line": {
          "color": {
           "bdata": "AAAAAAAAAAAAAAAAAAAAACbO+t34rn1AAAAAAAAAAAD0PM/zPM9HQKqqqqqqynNAyZkdQYTDf0Ai4vWinIR7QEPcNTq1PnhAQnMWIduQdkD414McrEFyQAAAAAAAAPh/AAAAAAAA+H9n/Df7mQ1rQAAAAAAAAAAATuzETuzEPkBwE1ZuRO53QAAAAAAAAAAArKroTohGckBAbuz5a/VoQNiMPzPMBmRAVVVVVVUVa0DRrBy0JVF7QMeOqH7YDn5AAAAAAACAc0Co3aowQYB8QEdF2mvwqXJA8fDw8PCwZUBWj8LedlR9QHwBRtVCX3tAZ3MvU+owcUAavhufvoeAQHt/Y2C1wnBAE09CH55Rc0AAAAAAAAAAAPb4NMVOFHdA0fsg+AHXeEAAAAAAAAD4fwAAAAAAAAAAccQvswb4gECOr5eCHjl7QGojBo/9/XZAdhdd8CbOgEBE4LqMopN/QNX/63tKeYFA7NXfUHfBfUDyeuZbVVp7QOdXE7qcYHpA1AJSnCXecUAjNGvFU410QEmselPCBIBAedbcxDJydkCGYRiGYVhjQAAAAAAAAAAAwJl0UgwYe0C9z6QaYkB9QAAAAAAAAAAA3nYUvb1xeUAAAAAAAAAAAHtfF6+d4HBAAAAAAAAAAADeODzNNLl3QKqtLrCmV3BA09LS0tJScUBMd963jAd0QGdEskx6Rm9Av8BV0NZaeUCHh4eHh4c3QAAAAAAAAAAAymsor6GccEAAAAAAAAAAAH39pOorq4FA21iFN9ggbEAkCj1OJJJ9QLZFBXs2+HdAiUhcL0LYfEAAAAAAAAAAAHYrrwtIs3ZASvydSOxmeEBbaFAaqLd7QC0tLS0t7XVA9y0YdzqEfkDdHN0KfMd8QC0tLS0tLXBAJEmSJEmSLEAAAAAAAAAAAAAAAAAAAAAAuUBhNztQfECUkTp1PfZ5QCwgtSoBJoBAhR9P1UO6dUCYTCZOQlZ3QKalpaWlJW5Aqy6+nds/dEAAAAAAAAAAAAAAAAAAAPh/AAAAAAAAAABDeQ3lNZRvQKSI9nNQXmZAh1zeEbyReEA=",
           "dtype": "f8"
          },
          "coloraxis": "coloraxis"
         },
         "name": "",
         "type": "parcoords"
        }
       ],
       "layout": {
        "coloraxis": {
         "colorbar": {
          "title": {
           "text": "Puntaje_Total_Sostenibilidad"
          }
         },
         "colorscale": [
          [
           0,
           "rgb(247,251,255)"
          ],
          [
           0.125,
           "rgb(222,235,247)"
          ],
          [
           0.25,
           "rgb(198,219,239)"
          ],
          [
           0.375,
           "rgb(158,202,225)"
          ],
          [
           0.5,
           "rgb(107,174,214)"
          ],
          [
           0.625,
           "rgb(66,146,198)"
          ],
          [
           0.75,
           "rgb(33,113,181)"
          ],
          [
           0.875,
           "rgb(8,81,156)"
          ],
          [
           1,
           "rgb(8,48,107)"
          ]
         ]
        },
        "font": {
         "color": "black",
         "family": "Arial, sans-serif",
         "size": 12
        },
        "legend": {
         "tracegroupgap": 0
        },
        "template": {
         "data": {
          "bar": [
           {
            "error_x": {
             "color": "#2a3f5f"
            },
            "error_y": {
             "color": "#2a3f5f"
            },
            "marker": {
             "line": {
              "color": "#E5ECF6",
              "width": 0.5
             },
             "pattern": {
              "fillmode": "overlay",
              "size": 10,
              "solidity": 0.2
             }
            },
            "type": "bar"
           }
          ],
          "barpolar": [
           {
            "marker": {
             "line": {
              "color": "#E5ECF6",
              "width": 0.5
             },
             "pattern": {
              "fillmode": "overlay",
              "size": 10,
              "solidity": 0.2
             }
            },
            "type": "barpolar"
           }
          ],
          "carpet": [
           {
            "aaxis": {
             "endlinecolor": "#2a3f5f",
             "gridcolor": "white",
             "linecolor": "white",
             "minorgridcolor": "white",
             "startlinecolor": "#2a3f5f"
            },
            "baxis": {
             "endlinecolor": "#2a3f5f",
             "gridcolor": "white",
             "linecolor": "white",
             "minorgridcolor": "white",
             "startlinecolor": "#2a3f5f"
            },
            "type": "carpet"
           }
          ],
          "choropleth": [
           {
            "colorbar": {
             "outlinewidth": 0,
             "ticks": ""
            },
            "type": "choropleth"
           }
          ],
          "contour": [
           {
            "colorbar": {
             "outlinewidth": 0,
             "ticks": ""
            },
            "colorscale": [
             [
              0,
              "#0d0887"
             ],
             [
              0.1111111111111111,
              "#46039f"
             ],
             [
              0.2222222222222222,
              "#7201a8"
             ],
             [
              0.3333333333333333,
              "#9c179e"
             ],
             [
              0.4444444444444444,
              "#bd3786"
             ],
             [
              0.5555555555555556,
              "#d8576b"
             ],
             [
              0.6666666666666666,
              "#ed7953"
             ],
             [
              0.7777777777777778,
              "#fb9f3a"
             ],
             [
              0.8888888888888888,
              "#fdca26"
             ],
             [
              1,
              "#f0f921"
             ]
            ],
            "type": "contour"
           }
          ],
          "contourcarpet": [
           {
            "colorbar": {
             "outlinewidth": 0,
             "ticks": ""
            },
            "type": "contourcarpet"
           }
          ],
          "heatmap": [
           {
            "colorbar": {
             "outlinewidth": 0,
             "ticks": ""
            },
            "colorscale": [
             [
              0,
              "#0d0887"
             ],
             [
              0.1111111111111111,
              "#46039f"
             ],
             [
              0.2222222222222222,
              "#7201a8"
             ],
             [
              0.3333333333333333,
              "#9c179e"
             ],
             [
              0.4444444444444444,
              "#bd3786"
             ],
             [
              0.5555555555555556,
              "#d8576b"
             ],
             [
              0.6666666666666666,
              "#ed7953"
             ],
             [
              0.7777777777777778,
              "#fb9f3a"
             ],
             [
              0.8888888888888888,
              "#fdca26"
             ],
             [
              1,
              "#f0f921"
             ]
            ],
            "type": "heatmap"
           }
          ],
          "histogram": [
           {
            "marker": {
             "pattern": {
              "fillmode": "overlay",
              "size": 10,
              "solidity": 0.2
             }
            },
            "type": "histogram"
           }
          ],
          "histogram2d": [
           {
            "colorbar": {
             "outlinewidth": 0,
             "ticks": ""
            },
            "colorscale": [
             [
              0,
              "#0d0887"
             ],
             [
              0.1111111111111111,
              "#46039f"
             ],
             [
              0.2222222222222222,
              "#7201a8"
             ],
             [
              0.3333333333333333,
              "#9c179e"
             ],
             [
              0.4444444444444444,
              "#bd3786"
             ],
             [
              0.5555555555555556,
              "#d8576b"
             ],
             [
              0.6666666666666666,
              "#ed7953"
             ],
             [
              0.7777777777777778,
              "#fb9f3a"
             ],
             [
              0.8888888888888888,
              "#fdca26"
             ],
             [
              1,
              "#f0f921"
             ]
            ],
            "type": "histogram2d"
           }
          ],
          "histogram2dcontour": [
           {
            "colorbar": {
             "outlinewidth": 0,
             "ticks": ""
            },
            "colorscale": [
             [
              0,
              "#0d0887"
             ],
             [
              0.1111111111111111,
              "#46039f"
             ],
             [
              0.2222222222222222,
              "#7201a8"
             ],
             [
              0.3333333333333333,
              "#9c179e"
             ],
             [
              0.4444444444444444,
              "#bd3786"
             ],
             [
              0.5555555555555556,
              "#d8576b"
             ],
             [
              0.6666666666666666,
              "#ed7953"
             ],
             [
              0.7777777777777778,
              "#fb9f3a"
             ],
             [
              0.8888888888888888,
              "#fdca26"
             ],
             [
              1,
              "#f0f921"
             ]
            ],
            "type": "histogram2dcontour"
           }
          ],
          "mesh3d": [
           {
            "colorbar": {
             "outlinewidth": 0,
             "ticks": ""
            },
            "type": "mesh3d"
           }
          ],
          "parcoords": [
           {
            "line": {
             "colorbar": {
              "outlinewidth": 0,
              "ticks": ""
             }
            },
            "type": "parcoords"
           }
          ],
          "pie": [
           {
            "automargin": true,
            "type": "pie"
           }
          ],
          "scatter": [
           {
            "fillpattern": {
             "fillmode": "overlay",
             "size": 10,
             "solidity": 0.2
            },
            "type": "scatter"
           }
          ],
          "scatter3d": [
           {
            "line": {
             "colorbar": {
              "outlinewidth": 0,
              "ticks": ""
             }
            },
            "marker": {
             "colorbar": {
              "outlinewidth": 0,
              "ticks": ""
             }
            },
            "type": "scatter3d"
           }
          ],
          "scattercarpet": [
           {
            "marker": {
             "colorbar": {
              "outlinewidth": 0,
              "ticks": ""
             }
            },
            "type": "scattercarpet"
           }
          ],
          "scattergeo": [
           {
            "marker": {
             "colorbar": {
              "outlinewidth": 0,
              "ticks": ""
             }
            },
            "type": "scattergeo"
           }
          ],
          "scattergl": [
           {
            "marker": {
             "colorbar": {
              "outlinewidth": 0,
              "ticks": ""
             }
            },
            "type": "scattergl"
           }
          ],
          "scattermap": [
           {
            "marker": {
             "colorbar": {
              "outlinewidth": 0,
              "ticks": ""
             }
            },
            "type": "scattermap"
           }
          ],
          "scattermapbox": [
           {
            "marker": {
             "colorbar": {
              "outlinewidth": 0,
              "ticks": ""
             }
            },
            "type": "scattermapbox"
           }
          ],
          "scatterpolar": [
           {
            "marker": {
             "colorbar": {
              "outlinewidth": 0,
              "ticks": ""
             }
            },
            "type": "scatterpolar"
           }
          ],
          "scatterpolargl": [
           {
            "marker": {
             "colorbar": {
              "outlinewidth": 0,
              "ticks": ""
             }
            },
            "type": "scatterpolargl"
           }
          ],
          "scatterternary": [
           {
            "marker": {
             "colorbar": {
              "outlinewidth": 0,
              "ticks": ""
             }
            },
            "type": "scatterternary"
           }
          ],
          "surface": [
           {
            "colorbar": {
             "outlinewidth": 0,
             "ticks": ""
            },
            "colorscale": [
             [
              0,
              "#0d0887"
             ],
             [
              0.1111111111111111,
              "#46039f"
             ],
             [
              0.2222222222222222,
              "#7201a8"
             ],
             [
              0.3333333333333333,
              "#9c179e"
             ],
             [
              0.4444444444444444,
              "#bd3786"
             ],
             [
              0.5555555555555556,
              "#d8576b"
             ],
             [
              0.6666666666666666,
              "#ed7953"
             ],
             [
              0.7777777777777778,
              "#fb9f3a"
             ],
             [
              0.8888888888888888,
              "#fdca26"
             ],
             [
              1,
              "#f0f921"
             ]
            ],
            "type": "surface"
           }
          ],
          "table": [
           {
            "cells": {
             "fill": {
              "color": "#EBF0F8"
             },
             "line": {
              "color": "white"
             }
            },
            "header": {
             "fill": {
              "color": "#C8D4E3"
             },
             "line": {
              "color": "white"
             }
            },
            "type": "table"
           }
          ]
         },
         "layout": {
          "annotationdefaults": {
           "arrowcolor": "#2a3f5f",
           "arrowhead": 0,
           "arrowwidth": 1
          },
          "autotypenumbers": "strict",
          "coloraxis": {
           "colorbar": {
            "outlinewidth": 0,
            "ticks": ""
           }
          },
          "colorscale": {
           "diverging": [
            [
             0,
             "#8e0152"
            ],
            [
             0.1,
             "#c51b7d"
            ],
            [
             0.2,
             "#de77ae"
            ],
            [
             0.3,
             "#f1b6da"
            ],
            [
             0.4,
             "#fde0ef"
            ],
            [
             0.5,
             "#f7f7f7"
            ],
            [
             0.6,
             "#e6f5d0"
            ],
            [
             0.7,
             "#b8e186"
            ],
            [
             0.8,
             "#7fbc41"
            ],
            [
             0.9,
             "#4d9221"
            ],
            [
             1,
             "#276419"
            ]
           ],
           "sequential": [
            [
             0,
             "#0d0887"
            ],
            [
             0.1111111111111111,
             "#46039f"
            ],
            [
             0.2222222222222222,
             "#7201a8"
            ],
            [
             0.3333333333333333,
             "#9c179e"
            ],
            [
             0.4444444444444444,
             "#bd3786"
            ],
            [
             0.5555555555555556,
             "#d8576b"
            ],
            [
             0.6666666666666666,
             "#ed7953"
            ],
            [
             0.7777777777777778,
             "#fb9f3a"
            ],
            [
             0.8888888888888888,
             "#fdca26"
            ],
            [
             1,
             "#f0f921"
            ]
           ],
           "sequentialminus": [
            [
             0,
             "#0d0887"
            ],
            [
             0.1111111111111111,
             "#46039f"
            ],
            [
             0.2222222222222222,
             "#7201a8"
            ],
            [
             0.3333333333333333,
             "#9c179e"
            ],
            [
             0.4444444444444444,
             "#bd3786"
            ],
            [
             0.5555555555555556,
             "#d8576b"
            ],
            [
             0.6666666666666666,
             "#ed7953"
            ],
            [
             0.7777777777777778,
             "#fb9f3a"
            ],
            [
             0.8888888888888888,
             "#fdca26"
            ],
            [
             1,
             "#f0f921"
            ]
           ]
          },
          "colorway": [
           "#636efa",
           "#EF553B",
           "#00cc96",
           "#ab63fa",
           "#FFA15A",
           "#19d3f3",
           "#FF6692",
           "#B6E880",
           "#FF97FF",
           "#FECB52"
          ],
          "font": {
           "color": "#2a3f5f"
          },
          "geo": {
           "bgcolor": "white",
           "lakecolor": "white",
           "landcolor": "#E5ECF6",
           "showlakes": true,
           "showland": true,
           "subunitcolor": "white"
          },
          "hoverlabel": {
           "align": "left"
          },
          "hovermode": "closest",
          "mapbox": {
           "style": "light"
          },
          "paper_bgcolor": "white",
          "plot_bgcolor": "#E5ECF6",
          "polar": {
           "angularaxis": {
            "gridcolor": "white",
            "linecolor": "white",
            "ticks": ""
           },
           "bgcolor": "#E5ECF6",
           "radialaxis": {
            "gridcolor": "white",
            "linecolor": "white",
            "ticks": ""
           }
          },
          "scene": {
           "xaxis": {
            "backgroundcolor": "#E5ECF6",
            "gridcolor": "white",
            "gridwidth": 2,
            "linecolor": "white",
            "showbackground": true,
            "ticks": "",
            "zerolinecolor": "white"
           },
           "yaxis": {
            "backgroundcolor": "#E5ECF6",
            "gridcolor": "white",
            "gridwidth": 2,
            "linecolor": "white",
            "showbackground": true,
            "ticks": "",
            "zerolinecolor": "white"
           },
           "zaxis": {
            "backgroundcolor": "#E5ECF6",
            "gridcolor": "white",
            "gridwidth": 2,
            "linecolor": "white",
            "showbackground": true,
            "ticks": "",
            "zerolinecolor": "white"
           }
          },
          "shapedefaults": {
           "line": {
            "color": "#2a3f5f"
           }
          },
          "ternary": {
           "aaxis": {
            "gridcolor": "white",
            "linecolor": "white",
            "ticks": ""
           },
           "baxis": {
            "gridcolor": "white",
            "linecolor": "white",
            "ticks": ""
           },
           "bgcolor": "#E5ECF6",
           "caxis": {
            "gridcolor": "white",
            "linecolor": "white",
            "ticks": ""
           }
          },
          "title": {
           "x": 0.05
          },
          "xaxis": {
           "automargin": true,
           "gridcolor": "white",
           "linecolor": "white",
           "ticks": "",
           "title": {
            "standoff": 15
           },
           "zerolinecolor": "white",
           "zerolinewidth": 2
          },
          "yaxis": {
           "automargin": true,
           "gridcolor": "white",
           "linecolor": "white",
           "ticks": "",
           "title": {
            "standoff": 15
           },
           "zerolinecolor": "white",
           "zerolinewidth": 2
          }
         }
        },
        "title": {
         "text": "<b>Perfiles de Sostenibilidad por Empresa</b><br><sup>Cada línea es una empresa, coloreada por su puntaje total</sup><br>",
         "x": 0.5,
         "y": 0.95
        }
       }
      }
     },
     "metadata": {},
     "output_type": "display_data"
    }
   ],
   "source": [
    "# 1. Preparación de Datos: Crear una tabla pivotada (ancha)\n",
    "# Se agrupan los datos por empresa y pilar, sumando la valoración ponderada.\n",
    "pivoted_data = raw_data.groupby(['Razón social', 'Nombre Pilar'])['valoracionPonderada'].sum().reset_index()\n",
    "\n",
    "# Se pivota la tabla para que las empresas sean filas y los pilares, columnas.\n",
    "# Los valores NaN se rellenan con 0, asumiendo desempeño nulo en ese pilar.\n",
    "parallel_coords_df = pivoted_data.pivot(\n",
    "    index='Razón social',\n",
    "    columns='Nombre Pilar',\n",
    "    values='valoracionPonderada'\n",
    ").fillna(0).reset_index()\n",
    "\n",
    "# 2. Enriquecer los datos con información contextual (Macrosector y Puntaje Total)\n",
    "# Se une la tabla pivotada con los datos agregados para poder colorear las líneas.\n",
    "parallel_coords_df = pd.merge(\n",
    "    parallel_coords_df,\n",
    "    company_agg_data[['Razón social', 'Macrosector', 'Puntaje_Total_Sostenibilidad']],\n",
    "    on='Razón social',\n",
    "    how='left'\n",
    ")\n",
    "\n",
    "# 3. Creación del Gráfico de Coordenadas Paralelas\n",
    "# Se definen las dimensiones del gráfico, que son las columnas de los pilares.\n",
    "dimensions = list(parallel_coords_df.columns)\n",
    "dimensions.remove('Razón social')\n",
    "dimensions.remove('Macrosector')\n",
    "dimensions.remove('Puntaje_Total_Sostenibilidad')\n",
    "\n",
    "fig_parallel = px.parallel_coordinates(\n",
    "    parallel_coords_df,\n",
    "    # El color de la línea representa el puntaje total de sostenibilidad.\n",
    "    color=\"Puntaje_Total_Sostenibilidad\",\n",
    "    dimensions=dimensions,\n",
    "    # Se añade el Macrosector y el nombre de la empresa a la información del hover.\n",
    "    labels={\"Razón social\": \"Empresa\", \"Macrosector\": \"Sector\"},\n",
    "    color_continuous_scale=px.colors.sequential.Blues, # Escala de color de oscuro (bajo) a brillante (alto)\n",
    "    title=\"Perfiles de Sostenibilidad por Empresa\"\n",
    ")\n",
    "\n",
    "# 4. Personalización y Estilo del Gráfico\n",
    "fig_parallel.update_layout(\n",
    "    title='<b>Perfiles de Sostenibilidad por Empresa</b><br><sup>Cada línea es una empresa, coloreada por su puntaje total</sup><br>',\n",
    "    title_x=0.5,\n",
    "    title_y=0.95,\n",
    "    font=dict(family=\"Arial, sans-serif\", size=12, color=\"black\")\n",
    ")\n",
    "\n",
    "fig_parallel.show()\n",
    "save_chart_as_html(fig_parallel, '06_parallel_coordinates_sustainability_profiles.html')\n",
    "# Save as image\n",
    "fig_parallel.write_image(\"img/06_parallel_coordinates_sustainability_profiles.png\", width=1000, height=800, scale=2)"
   ]
  },
  {
   "cell_type": "markdown",
   "metadata": {},
   "source": [
    "## 7. Diagrama Sankey de Flujo de Valoración"
   ]
  },
  {
   "cell_type": "code",
   "execution_count": 22,
   "metadata": {},
   "outputs": [
    {
     "data": {
      "application/vnd.plotly.v1+json": {
       "config": {
        "plotlyServerURL": "https://plot.ly"
       },
       "data": [
        {
         "link": {
          "source": {
           "bdata": "AAABAQICAgMEBAQEBAQFBQUFBQUGBgYGBgYHBwcHBwcICAgICAgJCQkJCQk=",
           "dtype": "i1"
          },
          "target": {
           "bdata": "BAcICQUGCAkKCwwNDg8KCwwNDg8KCwwNDg8KCwwNDg8KCwwNDg8KCwwNDg8=",
           "dtype": "i1"
          },
          "value": {
           "bdata": "3w1b+MrOvkBnKdcoOzOwQPB14WhFNahAaLamkGWoj0CfIV4JXxSnQEb9SowR8qZABoehLjYzkUATD2jPlRK4QD3P8zzP815AUxMp+yF3mkDgRK45qB97QLumBP5EGqZAVfDUfwlvjUBekBQo1CCdQCRJkiRJkkxAuErqx6rsgECFYRiGYVhzQBZoZaQdZ5BAsKDOraDGd0DoxYZo8D2DQNu2bdu2bUVAmjlm5zQgh0BbN1lJ8bVhQJeIEqd5V4JAtPx22FvBaEA6JUR29C2TQPM8z/M8z1dARWrrju8cdUCOWVsJu395QNGfUK7Bj5pASvikAVunjEDFydX9vYqFQLZt27Zt21FARLdDOvknhkC+s1Hf2Wh1QFxd+5vPH45AGGRTkPhbhkDAEtn58tOVQLZt27Zt22FAHh4eHh5emUBVVVVVVdWEQA3lNZTXMJdAiZ3YiZ1YgECXlpaWll6lQA==",
           "dtype": "f8"
          }
         },
         "node": {
          "label": [
           "Impacto ambiental",
           "Impacto económico y gobernanza",
           "Impacto social ",
           "Información general",
           "Acción Climática y Energía",
           "Capital Humano: Bienestar y Desarrollo",
           "Diversidad, Equidad e Inclusión (DEI)",
           "Gestión de Recursos Naturales y Circularidad",
           "Impacto Económico, Social y Comunitario",
           "Transparencia y Gobierno de la Sostenibilidad",
           "Agropecuario",
           "Comercio",
           "Construcción",
           "Manufactura",
           "Minero",
           "Servicios"
          ],
          "line": {
           "color": "black",
           "width": 0.5
          },
          "pad": 15,
          "thickness": 20
         },
         "type": "sankey"
        }
       ],
       "layout": {
        "font": {
         "color": "black",
         "family": "Arial, sans-serif",
         "size": 12
        },
        "template": {
         "data": {
          "bar": [
           {
            "error_x": {
             "color": "#2a3f5f"
            },
            "error_y": {
             "color": "#2a3f5f"
            },
            "marker": {
             "line": {
              "color": "#E5ECF6",
              "width": 0.5
             },
             "pattern": {
              "fillmode": "overlay",
              "size": 10,
              "solidity": 0.2
             }
            },
            "type": "bar"
           }
          ],
          "barpolar": [
           {
            "marker": {
             "line": {
              "color": "#E5ECF6",
              "width": 0.5
             },
             "pattern": {
              "fillmode": "overlay",
              "size": 10,
              "solidity": 0.2
             }
            },
            "type": "barpolar"
           }
          ],
          "carpet": [
           {
            "aaxis": {
             "endlinecolor": "#2a3f5f",
             "gridcolor": "white",
             "linecolor": "white",
             "minorgridcolor": "white",
             "startlinecolor": "#2a3f5f"
            },
            "baxis": {
             "endlinecolor": "#2a3f5f",
             "gridcolor": "white",
             "linecolor": "white",
             "minorgridcolor": "white",
             "startlinecolor": "#2a3f5f"
            },
            "type": "carpet"
           }
          ],
          "choropleth": [
           {
            "colorbar": {
             "outlinewidth": 0,
             "ticks": ""
            },
            "type": "choropleth"
           }
          ],
          "contour": [
           {
            "colorbar": {
             "outlinewidth": 0,
             "ticks": ""
            },
            "colorscale": [
             [
              0,
              "#0d0887"
             ],
             [
              0.1111111111111111,
              "#46039f"
             ],
             [
              0.2222222222222222,
              "#7201a8"
             ],
             [
              0.3333333333333333,
              "#9c179e"
             ],
             [
              0.4444444444444444,
              "#bd3786"
             ],
             [
              0.5555555555555556,
              "#d8576b"
             ],
             [
              0.6666666666666666,
              "#ed7953"
             ],
             [
              0.7777777777777778,
              "#fb9f3a"
             ],
             [
              0.8888888888888888,
              "#fdca26"
             ],
             [
              1,
              "#f0f921"
             ]
            ],
            "type": "contour"
           }
          ],
          "contourcarpet": [
           {
            "colorbar": {
             "outlinewidth": 0,
             "ticks": ""
            },
            "type": "contourcarpet"
           }
          ],
          "heatmap": [
           {
            "colorbar": {
             "outlinewidth": 0,
             "ticks": ""
            },
            "colorscale": [
             [
              0,
              "#0d0887"
             ],
             [
              0.1111111111111111,
              "#46039f"
             ],
             [
              0.2222222222222222,
              "#7201a8"
             ],
             [
              0.3333333333333333,
              "#9c179e"
             ],
             [
              0.4444444444444444,
              "#bd3786"
             ],
             [
              0.5555555555555556,
              "#d8576b"
             ],
             [
              0.6666666666666666,
              "#ed7953"
             ],
             [
              0.7777777777777778,
              "#fb9f3a"
             ],
             [
              0.8888888888888888,
              "#fdca26"
             ],
             [
              1,
              "#f0f921"
             ]
            ],
            "type": "heatmap"
           }
          ],
          "histogram": [
           {
            "marker": {
             "pattern": {
              "fillmode": "overlay",
              "size": 10,
              "solidity": 0.2
             }
            },
            "type": "histogram"
           }
          ],
          "histogram2d": [
           {
            "colorbar": {
             "outlinewidth": 0,
             "ticks": ""
            },
            "colorscale": [
             [
              0,
              "#0d0887"
             ],
             [
              0.1111111111111111,
              "#46039f"
             ],
             [
              0.2222222222222222,
              "#7201a8"
             ],
             [
              0.3333333333333333,
              "#9c179e"
             ],
             [
              0.4444444444444444,
              "#bd3786"
             ],
             [
              0.5555555555555556,
              "#d8576b"
             ],
             [
              0.6666666666666666,
              "#ed7953"
             ],
             [
              0.7777777777777778,
              "#fb9f3a"
             ],
             [
              0.8888888888888888,
              "#fdca26"
             ],
             [
              1,
              "#f0f921"
             ]
            ],
            "type": "histogram2d"
           }
          ],
          "histogram2dcontour": [
           {
            "colorbar": {
             "outlinewidth": 0,
             "ticks": ""
            },
            "colorscale": [
             [
              0,
              "#0d0887"
             ],
             [
              0.1111111111111111,
              "#46039f"
             ],
             [
              0.2222222222222222,
              "#7201a8"
             ],
             [
              0.3333333333333333,
              "#9c179e"
             ],
             [
              0.4444444444444444,
              "#bd3786"
             ],
             [
              0.5555555555555556,
              "#d8576b"
             ],
             [
              0.6666666666666666,
              "#ed7953"
             ],
             [
              0.7777777777777778,
              "#fb9f3a"
             ],
             [
              0.8888888888888888,
              "#fdca26"
             ],
             [
              1,
              "#f0f921"
             ]
            ],
            "type": "histogram2dcontour"
           }
          ],
          "mesh3d": [
           {
            "colorbar": {
             "outlinewidth": 0,
             "ticks": ""
            },
            "type": "mesh3d"
           }
          ],
          "parcoords": [
           {
            "line": {
             "colorbar": {
              "outlinewidth": 0,
              "ticks": ""
             }
            },
            "type": "parcoords"
           }
          ],
          "pie": [
           {
            "automargin": true,
            "type": "pie"
           }
          ],
          "scatter": [
           {
            "fillpattern": {
             "fillmode": "overlay",
             "size": 10,
             "solidity": 0.2
            },
            "type": "scatter"
           }
          ],
          "scatter3d": [
           {
            "line": {
             "colorbar": {
              "outlinewidth": 0,
              "ticks": ""
             }
            },
            "marker": {
             "colorbar": {
              "outlinewidth": 0,
              "ticks": ""
             }
            },
            "type": "scatter3d"
           }
          ],
          "scattercarpet": [
           {
            "marker": {
             "colorbar": {
              "outlinewidth": 0,
              "ticks": ""
             }
            },
            "type": "scattercarpet"
           }
          ],
          "scattergeo": [
           {
            "marker": {
             "colorbar": {
              "outlinewidth": 0,
              "ticks": ""
             }
            },
            "type": "scattergeo"
           }
          ],
          "scattergl": [
           {
            "marker": {
             "colorbar": {
              "outlinewidth": 0,
              "ticks": ""
             }
            },
            "type": "scattergl"
           }
          ],
          "scattermap": [
           {
            "marker": {
             "colorbar": {
              "outlinewidth": 0,
              "ticks": ""
             }
            },
            "type": "scattermap"
           }
          ],
          "scattermapbox": [
           {
            "marker": {
             "colorbar": {
              "outlinewidth": 0,
              "ticks": ""
             }
            },
            "type": "scattermapbox"
           }
          ],
          "scatterpolar": [
           {
            "marker": {
             "colorbar": {
              "outlinewidth": 0,
              "ticks": ""
             }
            },
            "type": "scatterpolar"
           }
          ],
          "scatterpolargl": [
           {
            "marker": {
             "colorbar": {
              "outlinewidth": 0,
              "ticks": ""
             }
            },
            "type": "scatterpolargl"
           }
          ],
          "scatterternary": [
           {
            "marker": {
             "colorbar": {
              "outlinewidth": 0,
              "ticks": ""
             }
            },
            "type": "scatterternary"
           }
          ],
          "surface": [
           {
            "colorbar": {
             "outlinewidth": 0,
             "ticks": ""
            },
            "colorscale": [
             [
              0,
              "#0d0887"
             ],
             [
              0.1111111111111111,
              "#46039f"
             ],
             [
              0.2222222222222222,
              "#7201a8"
             ],
             [
              0.3333333333333333,
              "#9c179e"
             ],
             [
              0.4444444444444444,
              "#bd3786"
             ],
             [
              0.5555555555555556,
              "#d8576b"
             ],
             [
              0.6666666666666666,
              "#ed7953"
             ],
             [
              0.7777777777777778,
              "#fb9f3a"
             ],
             [
              0.8888888888888888,
              "#fdca26"
             ],
             [
              1,
              "#f0f921"
             ]
            ],
            "type": "surface"
           }
          ],
          "table": [
           {
            "cells": {
             "fill": {
              "color": "#EBF0F8"
             },
             "line": {
              "color": "white"
             }
            },
            "header": {
             "fill": {
              "color": "#C8D4E3"
             },
             "line": {
              "color": "white"
             }
            },
            "type": "table"
           }
          ]
         },
         "layout": {
          "annotationdefaults": {
           "arrowcolor": "#2a3f5f",
           "arrowhead": 0,
           "arrowwidth": 1
          },
          "autotypenumbers": "strict",
          "coloraxis": {
           "colorbar": {
            "outlinewidth": 0,
            "ticks": ""
           }
          },
          "colorscale": {
           "diverging": [
            [
             0,
             "#8e0152"
            ],
            [
             0.1,
             "#c51b7d"
            ],
            [
             0.2,
             "#de77ae"
            ],
            [
             0.3,
             "#f1b6da"
            ],
            [
             0.4,
             "#fde0ef"
            ],
            [
             0.5,
             "#f7f7f7"
            ],
            [
             0.6,
             "#e6f5d0"
            ],
            [
             0.7,
             "#b8e186"
            ],
            [
             0.8,
             "#7fbc41"
            ],
            [
             0.9,
             "#4d9221"
            ],
            [
             1,
             "#276419"
            ]
           ],
           "sequential": [
            [
             0,
             "#0d0887"
            ],
            [
             0.1111111111111111,
             "#46039f"
            ],
            [
             0.2222222222222222,
             "#7201a8"
            ],
            [
             0.3333333333333333,
             "#9c179e"
            ],
            [
             0.4444444444444444,
             "#bd3786"
            ],
            [
             0.5555555555555556,
             "#d8576b"
            ],
            [
             0.6666666666666666,
             "#ed7953"
            ],
            [
             0.7777777777777778,
             "#fb9f3a"
            ],
            [
             0.8888888888888888,
             "#fdca26"
            ],
            [
             1,
             "#f0f921"
            ]
           ],
           "sequentialminus": [
            [
             0,
             "#0d0887"
            ],
            [
             0.1111111111111111,
             "#46039f"
            ],
            [
             0.2222222222222222,
             "#7201a8"
            ],
            [
             0.3333333333333333,
             "#9c179e"
            ],
            [
             0.4444444444444444,
             "#bd3786"
            ],
            [
             0.5555555555555556,
             "#d8576b"
            ],
            [
             0.6666666666666666,
             "#ed7953"
            ],
            [
             0.7777777777777778,
             "#fb9f3a"
            ],
            [
             0.8888888888888888,
             "#fdca26"
            ],
            [
             1,
             "#f0f921"
            ]
           ]
          },
          "colorway": [
           "#636efa",
           "#EF553B",
           "#00cc96",
           "#ab63fa",
           "#FFA15A",
           "#19d3f3",
           "#FF6692",
           "#B6E880",
           "#FF97FF",
           "#FECB52"
          ],
          "font": {
           "color": "#2a3f5f"
          },
          "geo": {
           "bgcolor": "white",
           "lakecolor": "white",
           "landcolor": "#E5ECF6",
           "showlakes": true,
           "showland": true,
           "subunitcolor": "white"
          },
          "hoverlabel": {
           "align": "left"
          },
          "hovermode": "closest",
          "mapbox": {
           "style": "light"
          },
          "paper_bgcolor": "white",
          "plot_bgcolor": "#E5ECF6",
          "polar": {
           "angularaxis": {
            "gridcolor": "white",
            "linecolor": "white",
            "ticks": ""
           },
           "bgcolor": "#E5ECF6",
           "radialaxis": {
            "gridcolor": "white",
            "linecolor": "white",
            "ticks": ""
           }
          },
          "scene": {
           "xaxis": {
            "backgroundcolor": "#E5ECF6",
            "gridcolor": "white",
            "gridwidth": 2,
            "linecolor": "white",
            "showbackground": true,
            "ticks": "",
            "zerolinecolor": "white"
           },
           "yaxis": {
            "backgroundcolor": "#E5ECF6",
            "gridcolor": "white",
            "gridwidth": 2,
            "linecolor": "white",
            "showbackground": true,
            "ticks": "",
            "zerolinecolor": "white"
           },
           "zaxis": {
            "backgroundcolor": "#E5ECF6",
            "gridcolor": "white",
            "gridwidth": 2,
            "linecolor": "white",
            "showbackground": true,
            "ticks": "",
            "zerolinecolor": "white"
           }
          },
          "shapedefaults": {
           "line": {
            "color": "#2a3f5f"
           }
          },
          "ternary": {
           "aaxis": {
            "gridcolor": "white",
            "linecolor": "white",
            "ticks": ""
           },
           "baxis": {
            "gridcolor": "white",
            "linecolor": "white",
            "ticks": ""
           },
           "bgcolor": "#E5ECF6",
           "caxis": {
            "gridcolor": "white",
            "linecolor": "white",
            "ticks": ""
           }
          },
          "title": {
           "x": 0.05
          },
          "xaxis": {
           "automargin": true,
           "gridcolor": "white",
           "linecolor": "white",
           "ticks": "",
           "title": {
            "standoff": 15
           },
           "zerolinecolor": "white",
           "zerolinewidth": 2
          },
          "yaxis": {
           "automargin": true,
           "gridcolor": "white",
           "linecolor": "white",
           "ticks": "",
           "title": {
            "standoff": 15
           },
           "zerolinecolor": "white",
           "zerolinewidth": 2
          }
         }
        },
        "title": {
         "text": "<b>Diagrama Sankey del Flujo de Valoración de Sostenibilidad</b><br><sup>Flujo desde Bloque -> Pilar -> Macrosector</sup>",
         "x": 0.5
        }
       }
      }
     },
     "metadata": {},
     "output_type": "display_data"
    }
   ],
   "source": [
    "# 1. Preparación de Datos para el Sankey\n",
    "# Se necesita una lista de flujos: origen (source), destino (target) y valor (value).\n",
    "# El flujo es: Bloque -> Nombre Pilar -> Macrosector\n",
    "\n",
    "# Flujo 1: Bloque a Nombre Pilar\n",
    "flow1 = raw_data.groupby(['Bloque', 'Nombre Pilar'])['valoracionPonderada'].sum().reset_index()\n",
    "flow1.rename(columns={'Bloque': 'source', 'Nombre Pilar': 'target', 'valoracionPonderada': 'value'}, inplace=True)\n",
    "\n",
    "# Flujo 2: Nombre Pilar a Macrosector\n",
    "flow2 = raw_data.groupby(['Nombre Pilar', 'Macrosector'])['valoracionPonderada'].sum().reset_index()\n",
    "flow2.rename(columns={'Nombre Pilar': 'source', 'Macrosector': 'target', 'valoracionPonderada': 'value'}, inplace=True)\n",
    "\n",
    "# Combinar ambos flujos en un único DataFrame\n",
    "sankey_data = pd.concat([flow1, flow2], axis=0)\n",
    "\n",
    "# Filtrar flujos con valor cero para no saturar el gráfico\n",
    "sankey_data = sankey_data[sankey_data['value'] > 0]\n",
    "\n",
    "# Crear una lista única de todos los nodos (orígenes y destinos)\n",
    "unique_nodes = pd.unique(sankey_data[['source', 'target']].values.ravel('K'))\n",
    "\n",
    "# Crear un diccionario para mapear cada nodo a un índice numérico\n",
    "node_mapping = {node: i for i, node in enumerate(unique_nodes)}\n",
    "\n",
    "# Reemplazar los nombres de los nodos por sus índices en el DataFrame de flujos\n",
    "sankey_data['source_id'] = sankey_data['source'].map(node_mapping)\n",
    "sankey_data['target_id'] = sankey_data['target'].map(node_mapping)\n",
    "\n",
    "# 2. Creación del Gráfico Sankey con Plotly Graph Objects\n",
    "fig_sankey = go.Figure(data=[go.Sankey(\n",
    "    node=dict(\n",
    "      pad=15,\n",
    "      thickness=20,\n",
    "      line=dict(color=\"black\", width=0.5),\n",
    "      label=unique_nodes,\n",
    "    ),\n",
    "    link=dict(\n",
    "      source=sankey_data['source_id'],\n",
    "      target=sankey_data['target_id'],\n",
    "      value=sankey_data['value']\n",
    "  ))])\n",
    "\n",
    "# 3. Personalización y Estilo del Gráfico\n",
    "fig_sankey.update_layout(\n",
    "    title_text=\"<b>Diagrama Sankey del Flujo de Valoración de Sostenibilidad</b><br><sup>Flujo desde Bloque -> Pilar -> Macrosector</sup>\",\n",
    "    title_x=0.5,\n",
    "    font=dict(family=\"Arial, sans-serif\", size=12, color=\"black\")\n",
    ")\n",
    "\n",
    "fig_sankey.show()\n",
    "save_chart_as_html(fig_sankey, '07_sankey_diagram_sustainability_flows.html')\n",
    "# Save as image\n",
    "fig_sankey.write_image(\"img/07_sankey_diagram_sustainability_flows.png\", width=1000, height=800, scale=2)\n"
   ]
  },
  {
   "cell_type": "markdown",
   "metadata": {},
   "source": [
    "## 8. Gráfico Solar (Sunburst) de la Jerarquía del Desempeño"
   ]
  },
  {
   "cell_type": "code",
   "execution_count": 23,
   "metadata": {},
   "outputs": [
    {
     "data": {
      "application/vnd.plotly.v1+json": {
       "config": {
        "plotlyServerURL": "https://plot.ly"
       },
       "data": [
        {
         "branchvalues": "total",
         "customdata": {
          "bdata": "tkcT6E8sL0AT4yevdLwkQF5I5i/BYiRARSRvYO4aNUBg8mOGoUwuQBoP8HhiGypAXcYHSocxKECeXruq8Hg1QL4ohcP8ACtA9RqHwiaNMUCc8M/KzRsrQJ5eu6rweDVApFDreLoFMEA=",
          "dtype": "f8",
          "shape": "13, 1"
         },
         "domain": {
          "x": [
           0,
           1
          ],
          "y": [
           0,
           1
          ]
         },
         "hovertemplate": "<b>%{label}</b><br>Valoración Ponderada Total: %{value:,.2f}<br>Contribución al Padre: %{percentParent:.2%}<extra></extra>",
         "ids": [
          "Desempeño Total/Impacto ambiental/Acción Climática y Energía",
          "Desempeño Total/Impacto ambiental/Gestión de Recursos Naturales y Circularidad",
          "Desempeño Total/Impacto económico y gobernanza/Impacto Económico, Social y Comunitario",
          "Desempeño Total/Impacto económico y gobernanza/Transparencia y Gobierno de la Sostenibilidad",
          "Desempeño Total/Impacto social /Capital Humano: Bienestar y Desarrollo",
          "Desempeño Total/Impacto social /Diversidad, Equidad e Inclusión (DEI)",
          "Desempeño Total/Impacto social /Impacto Económico, Social y Comunitario",
          "Desempeño Total/Información general/Transparencia y Gobierno de la Sostenibilidad",
          "Desempeño Total/Impacto ambiental",
          "Desempeño Total/Impacto económico y gobernanza",
          "Desempeño Total/Impacto social ",
          "Desempeño Total/Información general",
          "Desempeño Total"
         ],
         "labels": [
          "Acción Climática y Energía",
          "Gestión de Recursos Naturales y Circularidad",
          "Impacto Económico, Social y Comunitario",
          "Transparencia y Gobierno de la Sostenibilidad",
          "Capital Humano: Bienestar y Desarrollo",
          "Diversidad, Equidad e Inclusión (DEI)",
          "Impacto Económico, Social y Comunitario",
          "Transparencia y Gobierno de la Sostenibilidad",
          "Impacto ambiental",
          "Impacto económico y gobernanza",
          "Impacto social ",
          "Información general",
          "Desempeño Total"
         ],
         "marker": {
          "coloraxis": "coloraxis",
          "colors": {
           "bdata": "tkcT6E8sL0AT4yevdLwkQF5I5i/BYiRARSRvYO4aNUBg8mOGoUwuQBoP8HhiGypAXcYHSocxKECeXruq8Hg1QL4ohcP8ACtA9RqHwiaNMUCc8M/KzRsrQJ5eu6rweDVApFDreLoFMEA=",
           "dtype": "f8"
          }
         },
         "name": "",
         "parents": [
          "Desempeño Total/Impacto ambiental",
          "Desempeño Total/Impacto ambiental",
          "Desempeño Total/Impacto económico y gobernanza",
          "Desempeño Total/Impacto económico y gobernanza",
          "Desempeño Total/Impacto social ",
          "Desempeño Total/Impacto social ",
          "Desempeño Total/Impacto social ",
          "Desempeño Total/Información general",
          "Desempeño Total",
          "Desempeño Total",
          "Desempeño Total",
          "Desempeño Total",
          ""
         ],
         "type": "sunburst",
         "values": {
          "bdata": "tkcT6E8sL0AT4yevdLwkQF5I5i/BYiRARSRvYO4aNUBg8mOGoUwuQBoP8HhiGypAXcYHSocxKECeXruq8Hg1QGSVnUti9DlAdEhi+E5MP0D28VbSYiZEQJ5eu6rweDVAGEja5JnBXUA=",
          "dtype": "f8"
         }
        }
       ],
       "layout": {
        "coloraxis": {
         "colorbar": {
          "title": {
           "text": "valoracionPonderada_avg"
          }
         },
         "colorscale": [
          [
           0,
           "rgb(247,251,255)"
          ],
          [
           0.125,
           "rgb(222,235,247)"
          ],
          [
           0.25,
           "rgb(198,219,239)"
          ],
          [
           0.375,
           "rgb(158,202,225)"
          ],
          [
           0.5,
           "rgb(107,174,214)"
          ],
          [
           0.625,
           "rgb(66,146,198)"
          ],
          [
           0.75,
           "rgb(33,113,181)"
          ],
          [
           0.875,
           "rgb(8,81,156)"
          ],
          [
           1,
           "rgb(8,48,107)"
          ]
         ]
        },
        "font": {
         "color": "black",
         "family": "Arial, sans-serif",
         "size": 12
        },
        "legend": {
         "tracegroupgap": 0
        },
        "margin": {
         "b": 25,
         "l": 25,
         "r": 25,
         "t": 60
        },
        "template": {
         "data": {
          "bar": [
           {
            "error_x": {
             "color": "#2a3f5f"
            },
            "error_y": {
             "color": "#2a3f5f"
            },
            "marker": {
             "line": {
              "color": "#E5ECF6",
              "width": 0.5
             },
             "pattern": {
              "fillmode": "overlay",
              "size": 10,
              "solidity": 0.2
             }
            },
            "type": "bar"
           }
          ],
          "barpolar": [
           {
            "marker": {
             "line": {
              "color": "#E5ECF6",
              "width": 0.5
             },
             "pattern": {
              "fillmode": "overlay",
              "size": 10,
              "solidity": 0.2
             }
            },
            "type": "barpolar"
           }
          ],
          "carpet": [
           {
            "aaxis": {
             "endlinecolor": "#2a3f5f",
             "gridcolor": "white",
             "linecolor": "white",
             "minorgridcolor": "white",
             "startlinecolor": "#2a3f5f"
            },
            "baxis": {
             "endlinecolor": "#2a3f5f",
             "gridcolor": "white",
             "linecolor": "white",
             "minorgridcolor": "white",
             "startlinecolor": "#2a3f5f"
            },
            "type": "carpet"
           }
          ],
          "choropleth": [
           {
            "colorbar": {
             "outlinewidth": 0,
             "ticks": ""
            },
            "type": "choropleth"
           }
          ],
          "contour": [
           {
            "colorbar": {
             "outlinewidth": 0,
             "ticks": ""
            },
            "colorscale": [
             [
              0,
              "#0d0887"
             ],
             [
              0.1111111111111111,
              "#46039f"
             ],
             [
              0.2222222222222222,
              "#7201a8"
             ],
             [
              0.3333333333333333,
              "#9c179e"
             ],
             [
              0.4444444444444444,
              "#bd3786"
             ],
             [
              0.5555555555555556,
              "#d8576b"
             ],
             [
              0.6666666666666666,
              "#ed7953"
             ],
             [
              0.7777777777777778,
              "#fb9f3a"
             ],
             [
              0.8888888888888888,
              "#fdca26"
             ],
             [
              1,
              "#f0f921"
             ]
            ],
            "type": "contour"
           }
          ],
          "contourcarpet": [
           {
            "colorbar": {
             "outlinewidth": 0,
             "ticks": ""
            },
            "type": "contourcarpet"
           }
          ],
          "heatmap": [
           {
            "colorbar": {
             "outlinewidth": 0,
             "ticks": ""
            },
            "colorscale": [
             [
              0,
              "#0d0887"
             ],
             [
              0.1111111111111111,
              "#46039f"
             ],
             [
              0.2222222222222222,
              "#7201a8"
             ],
             [
              0.3333333333333333,
              "#9c179e"
             ],
             [
              0.4444444444444444,
              "#bd3786"
             ],
             [
              0.5555555555555556,
              "#d8576b"
             ],
             [
              0.6666666666666666,
              "#ed7953"
             ],
             [
              0.7777777777777778,
              "#fb9f3a"
             ],
             [
              0.8888888888888888,
              "#fdca26"
             ],
             [
              1,
              "#f0f921"
             ]
            ],
            "type": "heatmap"
           }
          ],
          "histogram": [
           {
            "marker": {
             "pattern": {
              "fillmode": "overlay",
              "size": 10,
              "solidity": 0.2
             }
            },
            "type": "histogram"
           }
          ],
          "histogram2d": [
           {
            "colorbar": {
             "outlinewidth": 0,
             "ticks": ""
            },
            "colorscale": [
             [
              0,
              "#0d0887"
             ],
             [
              0.1111111111111111,
              "#46039f"
             ],
             [
              0.2222222222222222,
              "#7201a8"
             ],
             [
              0.3333333333333333,
              "#9c179e"
             ],
             [
              0.4444444444444444,
              "#bd3786"
             ],
             [
              0.5555555555555556,
              "#d8576b"
             ],
             [
              0.6666666666666666,
              "#ed7953"
             ],
             [
              0.7777777777777778,
              "#fb9f3a"
             ],
             [
              0.8888888888888888,
              "#fdca26"
             ],
             [
              1,
              "#f0f921"
             ]
            ],
            "type": "histogram2d"
           }
          ],
          "histogram2dcontour": [
           {
            "colorbar": {
             "outlinewidth": 0,
             "ticks": ""
            },
            "colorscale": [
             [
              0,
              "#0d0887"
             ],
             [
              0.1111111111111111,
              "#46039f"
             ],
             [
              0.2222222222222222,
              "#7201a8"
             ],
             [
              0.3333333333333333,
              "#9c179e"
             ],
             [
              0.4444444444444444,
              "#bd3786"
             ],
             [
              0.5555555555555556,
              "#d8576b"
             ],
             [
              0.6666666666666666,
              "#ed7953"
             ],
             [
              0.7777777777777778,
              "#fb9f3a"
             ],
             [
              0.8888888888888888,
              "#fdca26"
             ],
             [
              1,
              "#f0f921"
             ]
            ],
            "type": "histogram2dcontour"
           }
          ],
          "mesh3d": [
           {
            "colorbar": {
             "outlinewidth": 0,
             "ticks": ""
            },
            "type": "mesh3d"
           }
          ],
          "parcoords": [
           {
            "line": {
             "colorbar": {
              "outlinewidth": 0,
              "ticks": ""
             }
            },
            "type": "parcoords"
           }
          ],
          "pie": [
           {
            "automargin": true,
            "type": "pie"
           }
          ],
          "scatter": [
           {
            "fillpattern": {
             "fillmode": "overlay",
             "size": 10,
             "solidity": 0.2
            },
            "type": "scatter"
           }
          ],
          "scatter3d": [
           {
            "line": {
             "colorbar": {
              "outlinewidth": 0,
              "ticks": ""
             }
            },
            "marker": {
             "colorbar": {
              "outlinewidth": 0,
              "ticks": ""
             }
            },
            "type": "scatter3d"
           }
          ],
          "scattercarpet": [
           {
            "marker": {
             "colorbar": {
              "outlinewidth": 0,
              "ticks": ""
             }
            },
            "type": "scattercarpet"
           }
          ],
          "scattergeo": [
           {
            "marker": {
             "colorbar": {
              "outlinewidth": 0,
              "ticks": ""
             }
            },
            "type": "scattergeo"
           }
          ],
          "scattergl": [
           {
            "marker": {
             "colorbar": {
              "outlinewidth": 0,
              "ticks": ""
             }
            },
            "type": "scattergl"
           }
          ],
          "scattermap": [
           {
            "marker": {
             "colorbar": {
              "outlinewidth": 0,
              "ticks": ""
             }
            },
            "type": "scattermap"
           }
          ],
          "scattermapbox": [
           {
            "marker": {
             "colorbar": {
              "outlinewidth": 0,
              "ticks": ""
             }
            },
            "type": "scattermapbox"
           }
          ],
          "scatterpolar": [
           {
            "marker": {
             "colorbar": {
              "outlinewidth": 0,
              "ticks": ""
             }
            },
            "type": "scatterpolar"
           }
          ],
          "scatterpolargl": [
           {
            "marker": {
             "colorbar": {
              "outlinewidth": 0,
              "ticks": ""
             }
            },
            "type": "scatterpolargl"
           }
          ],
          "scatterternary": [
           {
            "marker": {
             "colorbar": {
              "outlinewidth": 0,
              "ticks": ""
             }
            },
            "type": "scatterternary"
           }
          ],
          "surface": [
           {
            "colorbar": {
             "outlinewidth": 0,
             "ticks": ""
            },
            "colorscale": [
             [
              0,
              "#0d0887"
             ],
             [
              0.1111111111111111,
              "#46039f"
             ],
             [
              0.2222222222222222,
              "#7201a8"
             ],
             [
              0.3333333333333333,
              "#9c179e"
             ],
             [
              0.4444444444444444,
              "#bd3786"
             ],
             [
              0.5555555555555556,
              "#d8576b"
             ],
             [
              0.6666666666666666,
              "#ed7953"
             ],
             [
              0.7777777777777778,
              "#fb9f3a"
             ],
             [
              0.8888888888888888,
              "#fdca26"
             ],
             [
              1,
              "#f0f921"
             ]
            ],
            "type": "surface"
           }
          ],
          "table": [
           {
            "cells": {
             "fill": {
              "color": "#EBF0F8"
             },
             "line": {
              "color": "white"
             }
            },
            "header": {
             "fill": {
              "color": "#C8D4E3"
             },
             "line": {
              "color": "white"
             }
            },
            "type": "table"
           }
          ]
         },
         "layout": {
          "annotationdefaults": {
           "arrowcolor": "#2a3f5f",
           "arrowhead": 0,
           "arrowwidth": 1
          },
          "autotypenumbers": "strict",
          "coloraxis": {
           "colorbar": {
            "outlinewidth": 0,
            "ticks": ""
           }
          },
          "colorscale": {
           "diverging": [
            [
             0,
             "#8e0152"
            ],
            [
             0.1,
             "#c51b7d"
            ],
            [
             0.2,
             "#de77ae"
            ],
            [
             0.3,
             "#f1b6da"
            ],
            [
             0.4,
             "#fde0ef"
            ],
            [
             0.5,
             "#f7f7f7"
            ],
            [
             0.6,
             "#e6f5d0"
            ],
            [
             0.7,
             "#b8e186"
            ],
            [
             0.8,
             "#7fbc41"
            ],
            [
             0.9,
             "#4d9221"
            ],
            [
             1,
             "#276419"
            ]
           ],
           "sequential": [
            [
             0,
             "#0d0887"
            ],
            [
             0.1111111111111111,
             "#46039f"
            ],
            [
             0.2222222222222222,
             "#7201a8"
            ],
            [
             0.3333333333333333,
             "#9c179e"
            ],
            [
             0.4444444444444444,
             "#bd3786"
            ],
            [
             0.5555555555555556,
             "#d8576b"
            ],
            [
             0.6666666666666666,
             "#ed7953"
            ],
            [
             0.7777777777777778,
             "#fb9f3a"
            ],
            [
             0.8888888888888888,
             "#fdca26"
            ],
            [
             1,
             "#f0f921"
            ]
           ],
           "sequentialminus": [
            [
             0,
             "#0d0887"
            ],
            [
             0.1111111111111111,
             "#46039f"
            ],
            [
             0.2222222222222222,
             "#7201a8"
            ],
            [
             0.3333333333333333,
             "#9c179e"
            ],
            [
             0.4444444444444444,
             "#bd3786"
            ],
            [
             0.5555555555555556,
             "#d8576b"
            ],
            [
             0.6666666666666666,
             "#ed7953"
            ],
            [
             0.7777777777777778,
             "#fb9f3a"
            ],
            [
             0.8888888888888888,
             "#fdca26"
            ],
            [
             1,
             "#f0f921"
            ]
           ]
          },
          "colorway": [
           "#636efa",
           "#EF553B",
           "#00cc96",
           "#ab63fa",
           "#FFA15A",
           "#19d3f3",
           "#FF6692",
           "#B6E880",
           "#FF97FF",
           "#FECB52"
          ],
          "font": {
           "color": "#2a3f5f"
          },
          "geo": {
           "bgcolor": "white",
           "lakecolor": "white",
           "landcolor": "#E5ECF6",
           "showlakes": true,
           "showland": true,
           "subunitcolor": "white"
          },
          "hoverlabel": {
           "align": "left"
          },
          "hovermode": "closest",
          "mapbox": {
           "style": "light"
          },
          "paper_bgcolor": "white",
          "plot_bgcolor": "#E5ECF6",
          "polar": {
           "angularaxis": {
            "gridcolor": "white",
            "linecolor": "white",
            "ticks": ""
           },
           "bgcolor": "#E5ECF6",
           "radialaxis": {
            "gridcolor": "white",
            "linecolor": "white",
            "ticks": ""
           }
          },
          "scene": {
           "xaxis": {
            "backgroundcolor": "#E5ECF6",
            "gridcolor": "white",
            "gridwidth": 2,
            "linecolor": "white",
            "showbackground": true,
            "ticks": "",
            "zerolinecolor": "white"
           },
           "yaxis": {
            "backgroundcolor": "#E5ECF6",
            "gridcolor": "white",
            "gridwidth": 2,
            "linecolor": "white",
            "showbackground": true,
            "ticks": "",
            "zerolinecolor": "white"
           },
           "zaxis": {
            "backgroundcolor": "#E5ECF6",
            "gridcolor": "white",
            "gridwidth": 2,
            "linecolor": "white",
            "showbackground": true,
            "ticks": "",
            "zerolinecolor": "white"
           }
          },
          "shapedefaults": {
           "line": {
            "color": "#2a3f5f"
           }
          },
          "ternary": {
           "aaxis": {
            "gridcolor": "white",
            "linecolor": "white",
            "ticks": ""
           },
           "baxis": {
            "gridcolor": "white",
            "linecolor": "white",
            "ticks": ""
           },
           "bgcolor": "#E5ECF6",
           "caxis": {
            "gridcolor": "white",
            "linecolor": "white",
            "ticks": ""
           }
          },
          "title": {
           "x": 0.05
          },
          "xaxis": {
           "automargin": true,
           "gridcolor": "white",
           "linecolor": "white",
           "ticks": "",
           "title": {
            "standoff": 15
           },
           "zerolinecolor": "white",
           "zerolinewidth": 2
          },
          "yaxis": {
           "automargin": true,
           "gridcolor": "white",
           "linecolor": "white",
           "ticks": "",
           "title": {
            "standoff": 15
           },
           "zerolinecolor": "white",
           "zerolinewidth": 2
          }
         }
        },
        "title": {
         "text": "<b>Gráfico Solar de la Jerarquía del Desempeño en Sostenibilidad</b><br><sup>Tamaño y color representan la contribución de cada área</sup>",
         "x": 0.5
        }
       }
      }
     },
     "metadata": {},
     "output_type": "display_data"
    }
   ],
   "source": [
    "# 1. Preparación de Datos para el Sunburst\n",
    "# No se requiere una gran preparación, Plotly Express puede manejar la jerarquía directamente.\n",
    "# Se asegura que no haya valores nulos en las columnas de la jerarquía.\n",
    "sunburst_data = raw_data.dropna(subset=['Bloque', 'Nombre Pilar'])\n",
    "sunburst_data = sunburst_data[sunburst_data['valoracionPonderada'] > 0]\n",
    "\n",
    "# 2. Creación del Gráfico Sunburst con Plotly Express\n",
    "# Agrupar los datos para calcular el promedio de 'valoracionPonderada'\n",
    "# Esto es necesario porque queremos que el tamaño y el color reflejen el desempeño promedio, no la suma.\n",
    "sunburst_agg_data = sunburst_data.groupby(['Bloque', 'Nombre Pilar']).agg(\n",
    "    valoracionPonderada_avg=('valoracionPonderada', 'mean')\n",
    ").reset_index()\n",
    "\n",
    "fig_sunburst = px.sunburst(\n",
    "    sunburst_agg_data,\n",
    "    # La jerarquía define los anillos del gráfico, desde el centro hacia afuera.\n",
    "    path=[px.Constant(\"Desempeño Total\"), 'Bloque', 'Nombre Pilar'],\n",
    "    # El tamaño y el color de cada segmento se basan en el promedio de la valoración ponderada.\n",
    "    values='valoracionPonderada_avg',\n",
    "    color='valoracionPonderada_avg',\n",
    "    # Se usa una escala de color que va de un color claro a uno oscuro para representar la magnitud.\n",
    "    color_continuous_scale='Blues',\n",
    "    hover_data={'valoracionPonderada_avg': ':.2f'}\n",
    ")\n",
    "\n",
    "# 3. Personalización y Estilo del Gráfico\n",
    "fig_sunburst.update_layout(\n",
    "    title_text=\"<b>Gráfico Solar de la Jerarquía del Desempeño en Sostenibilidad</b><br><sup>Tamaño y color representan la contribución de cada área</sup>\",\n",
    "    title_x=0.5,\n",
    "    margin = dict(t=60, l=25, r=25, b=25),\n",
    "    font=dict(family=\"Arial, sans-serif\", size=12, color=\"black\")\n",
    ")\n",
    "\n",
    "# Personalización del hover para mostrar la información de forma más clara\n",
    "fig_sunburst.update_traces(\n",
    "    hovertemplate='<b>%{label}</b><br>Valoración Ponderada Total: %{value:,.2f}<br>Contribución al Padre: %{percentParent:.2%}<extra></extra>'\n",
    ")\n",
    "\n",
    "fig_sunburst.show()\n",
    "save_chart_as_html(fig_sunburst, '08_sunburst_performance_hierarchy.html')\n",
    "# Save as image\n",
    "fig_sunburst.write_image(\"img/08_sunburst_performance_hierarchy.png\", width=1000, height=800, scale=2)"
   ]
  },
  {
   "cell_type": "markdown",
   "metadata": {},
   "source": [
    "## 9. Matriz de Correlación entre Pilares de Sostenibilidad"
   ]
  },
  {
   "cell_type": "code",
   "execution_count": 24,
   "metadata": {},
   "outputs": [
    {
     "data": {
      "application/vnd.plotly.v1+json": {
       "config": {
        "plotlyServerURL": "https://plot.ly"
       },
       "data": [
        {
         "coloraxis": "coloraxis",
         "hovertemplate": "x: %{x}<br>y: %{y}<br>color: %{z}<extra></extra>",
         "name": "0",
         "texttemplate": "%{z}",
         "type": "heatmap",
         "x": [
          "Acción Climática y Energía",
          "Capital Humano: Bienestar y Desarrollo",
          "Diversidad, Equidad e Inclusión (DEI)",
          "Gestión de Recursos Naturales y Circularidad",
          "Impacto Económico, Social y Comunitario",
          "Transparencia y Gobierno de la Sostenibilidad"
         ],
         "xaxis": "x",
         "y": [
          "Acción Climática y Energía",
          "Capital Humano: Bienestar y Desarrollo",
          "Diversidad, Equidad e Inclusión (DEI)",
          "Gestión de Recursos Naturales y Circularidad",
          "Impacto Económico, Social y Comunitario",
          "Transparencia y Gobierno de la Sostenibilidad"
         ],
         "yaxis": "y",
         "z": {
          "bdata": "AAAAAAAA8D8jjFLr2oXkP6uDfyAlZto/x8uFPXoq5j8OirSCkIbjP2uZu/3P8eE/I4xS69qF5D8AAAAAAADwP+QGCdfYMtg//mR2Zv6x5T8ZSVkneXviPyZpOoWrot0/q4N/ICVm2j/kBgnX2DLYPwAAAAAAAPA/qzhzXLdrwT9PZZCqYp3hP6XQ41Wa6OU/x8uFPXoq5j/+ZHZm/rHlP6s4c1y3a8E/AAAAAAAA8D8CJpLtbUbiP+RkOY3If84/Doq0gpCG4z8ZSVkneXviP09lkKpineE/AiaS7W1G4j8AAAAAAADwP6v1BUuRA+U/a5m7/c/x4T8maTqFq6LdP6XQ41Wa6OU/5GQ5jch/zj+r9QVLkQPlPwAAAAAAAPA/",
          "dtype": "f8",
          "shape": "6, 6"
         }
        }
       ],
       "layout": {
        "coloraxis": {
         "cmax": 1,
         "cmin": -1,
         "colorscale": [
          [
           0,
           "rgb(247,251,255)"
          ],
          [
           0.125,
           "rgb(222,235,247)"
          ],
          [
           0.25,
           "rgb(198,219,239)"
          ],
          [
           0.375,
           "rgb(158,202,225)"
          ],
          [
           0.5,
           "rgb(107,174,214)"
          ],
          [
           0.625,
           "rgb(66,146,198)"
          ],
          [
           0.75,
           "rgb(33,113,181)"
          ],
          [
           0.875,
           "rgb(8,81,156)"
          ],
          [
           1,
           "rgb(8,48,107)"
          ]
         ]
        },
        "font": {
         "color": "black",
         "family": "Arial, sans-serif",
         "size": 10
        },
        "margin": {
         "t": 60
        },
        "template": {
         "data": {
          "bar": [
           {
            "error_x": {
             "color": "#2a3f5f"
            },
            "error_y": {
             "color": "#2a3f5f"
            },
            "marker": {
             "line": {
              "color": "#E5ECF6",
              "width": 0.5
             },
             "pattern": {
              "fillmode": "overlay",
              "size": 10,
              "solidity": 0.2
             }
            },
            "type": "bar"
           }
          ],
          "barpolar": [
           {
            "marker": {
             "line": {
              "color": "#E5ECF6",
              "width": 0.5
             },
             "pattern": {
              "fillmode": "overlay",
              "size": 10,
              "solidity": 0.2
             }
            },
            "type": "barpolar"
           }
          ],
          "carpet": [
           {
            "aaxis": {
             "endlinecolor": "#2a3f5f",
             "gridcolor": "white",
             "linecolor": "white",
             "minorgridcolor": "white",
             "startlinecolor": "#2a3f5f"
            },
            "baxis": {
             "endlinecolor": "#2a3f5f",
             "gridcolor": "white",
             "linecolor": "white",
             "minorgridcolor": "white",
             "startlinecolor": "#2a3f5f"
            },
            "type": "carpet"
           }
          ],
          "choropleth": [
           {
            "colorbar": {
             "outlinewidth": 0,
             "ticks": ""
            },
            "type": "choropleth"
           }
          ],
          "contour": [
           {
            "colorbar": {
             "outlinewidth": 0,
             "ticks": ""
            },
            "colorscale": [
             [
              0,
              "#0d0887"
             ],
             [
              0.1111111111111111,
              "#46039f"
             ],
             [
              0.2222222222222222,
              "#7201a8"
             ],
             [
              0.3333333333333333,
              "#9c179e"
             ],
             [
              0.4444444444444444,
              "#bd3786"
             ],
             [
              0.5555555555555556,
              "#d8576b"
             ],
             [
              0.6666666666666666,
              "#ed7953"
             ],
             [
              0.7777777777777778,
              "#fb9f3a"
             ],
             [
              0.8888888888888888,
              "#fdca26"
             ],
             [
              1,
              "#f0f921"
             ]
            ],
            "type": "contour"
           }
          ],
          "contourcarpet": [
           {
            "colorbar": {
             "outlinewidth": 0,
             "ticks": ""
            },
            "type": "contourcarpet"
           }
          ],
          "heatmap": [
           {
            "colorbar": {
             "outlinewidth": 0,
             "ticks": ""
            },
            "colorscale": [
             [
              0,
              "#0d0887"
             ],
             [
              0.1111111111111111,
              "#46039f"
             ],
             [
              0.2222222222222222,
              "#7201a8"
             ],
             [
              0.3333333333333333,
              "#9c179e"
             ],
             [
              0.4444444444444444,
              "#bd3786"
             ],
             [
              0.5555555555555556,
              "#d8576b"
             ],
             [
              0.6666666666666666,
              "#ed7953"
             ],
             [
              0.7777777777777778,
              "#fb9f3a"
             ],
             [
              0.8888888888888888,
              "#fdca26"
             ],
             [
              1,
              "#f0f921"
             ]
            ],
            "type": "heatmap"
           }
          ],
          "histogram": [
           {
            "marker": {
             "pattern": {
              "fillmode": "overlay",
              "size": 10,
              "solidity": 0.2
             }
            },
            "type": "histogram"
           }
          ],
          "histogram2d": [
           {
            "colorbar": {
             "outlinewidth": 0,
             "ticks": ""
            },
            "colorscale": [
             [
              0,
              "#0d0887"
             ],
             [
              0.1111111111111111,
              "#46039f"
             ],
             [
              0.2222222222222222,
              "#7201a8"
             ],
             [
              0.3333333333333333,
              "#9c179e"
             ],
             [
              0.4444444444444444,
              "#bd3786"
             ],
             [
              0.5555555555555556,
              "#d8576b"
             ],
             [
              0.6666666666666666,
              "#ed7953"
             ],
             [
              0.7777777777777778,
              "#fb9f3a"
             ],
             [
              0.8888888888888888,
              "#fdca26"
             ],
             [
              1,
              "#f0f921"
             ]
            ],
            "type": "histogram2d"
           }
          ],
          "histogram2dcontour": [
           {
            "colorbar": {
             "outlinewidth": 0,
             "ticks": ""
            },
            "colorscale": [
             [
              0,
              "#0d0887"
             ],
             [
              0.1111111111111111,
              "#46039f"
             ],
             [
              0.2222222222222222,
              "#7201a8"
             ],
             [
              0.3333333333333333,
              "#9c179e"
             ],
             [
              0.4444444444444444,
              "#bd3786"
             ],
             [
              0.5555555555555556,
              "#d8576b"
             ],
             [
              0.6666666666666666,
              "#ed7953"
             ],
             [
              0.7777777777777778,
              "#fb9f3a"
             ],
             [
              0.8888888888888888,
              "#fdca26"
             ],
             [
              1,
              "#f0f921"
             ]
            ],
            "type": "histogram2dcontour"
           }
          ],
          "mesh3d": [
           {
            "colorbar": {
             "outlinewidth": 0,
             "ticks": ""
            },
            "type": "mesh3d"
           }
          ],
          "parcoords": [
           {
            "line": {
             "colorbar": {
              "outlinewidth": 0,
              "ticks": ""
             }
            },
            "type": "parcoords"
           }
          ],
          "pie": [
           {
            "automargin": true,
            "type": "pie"
           }
          ],
          "scatter": [
           {
            "fillpattern": {
             "fillmode": "overlay",
             "size": 10,
             "solidity": 0.2
            },
            "type": "scatter"
           }
          ],
          "scatter3d": [
           {
            "line": {
             "colorbar": {
              "outlinewidth": 0,
              "ticks": ""
             }
            },
            "marker": {
             "colorbar": {
              "outlinewidth": 0,
              "ticks": ""
             }
            },
            "type": "scatter3d"
           }
          ],
          "scattercarpet": [
           {
            "marker": {
             "colorbar": {
              "outlinewidth": 0,
              "ticks": ""
             }
            },
            "type": "scattercarpet"
           }
          ],
          "scattergeo": [
           {
            "marker": {
             "colorbar": {
              "outlinewidth": 0,
              "ticks": ""
             }
            },
            "type": "scattergeo"
           }
          ],
          "scattergl": [
           {
            "marker": {
             "colorbar": {
              "outlinewidth": 0,
              "ticks": ""
             }
            },
            "type": "scattergl"
           }
          ],
          "scattermap": [
           {
            "marker": {
             "colorbar": {
              "outlinewidth": 0,
              "ticks": ""
             }
            },
            "type": "scattermap"
           }
          ],
          "scattermapbox": [
           {
            "marker": {
             "colorbar": {
              "outlinewidth": 0,
              "ticks": ""
             }
            },
            "type": "scattermapbox"
           }
          ],
          "scatterpolar": [
           {
            "marker": {
             "colorbar": {
              "outlinewidth": 0,
              "ticks": ""
             }
            },
            "type": "scatterpolar"
           }
          ],
          "scatterpolargl": [
           {
            "marker": {
             "colorbar": {
              "outlinewidth": 0,
              "ticks": ""
             }
            },
            "type": "scatterpolargl"
           }
          ],
          "scatterternary": [
           {
            "marker": {
             "colorbar": {
              "outlinewidth": 0,
              "ticks": ""
             }
            },
            "type": "scatterternary"
           }
          ],
          "surface": [
           {
            "colorbar": {
             "outlinewidth": 0,
             "ticks": ""
            },
            "colorscale": [
             [
              0,
              "#0d0887"
             ],
             [
              0.1111111111111111,
              "#46039f"
             ],
             [
              0.2222222222222222,
              "#7201a8"
             ],
             [
              0.3333333333333333,
              "#9c179e"
             ],
             [
              0.4444444444444444,
              "#bd3786"
             ],
             [
              0.5555555555555556,
              "#d8576b"
             ],
             [
              0.6666666666666666,
              "#ed7953"
             ],
             [
              0.7777777777777778,
              "#fb9f3a"
             ],
             [
              0.8888888888888888,
              "#fdca26"
             ],
             [
              1,
              "#f0f921"
             ]
            ],
            "type": "surface"
           }
          ],
          "table": [
           {
            "cells": {
             "fill": {
              "color": "#EBF0F8"
             },
             "line": {
              "color": "white"
             }
            },
            "header": {
             "fill": {
              "color": "#C8D4E3"
             },
             "line": {
              "color": "white"
             }
            },
            "type": "table"
           }
          ]
         },
         "layout": {
          "annotationdefaults": {
           "arrowcolor": "#2a3f5f",
           "arrowhead": 0,
           "arrowwidth": 1
          },
          "autotypenumbers": "strict",
          "coloraxis": {
           "colorbar": {
            "outlinewidth": 0,
            "ticks": ""
           }
          },
          "colorscale": {
           "diverging": [
            [
             0,
             "#8e0152"
            ],
            [
             0.1,
             "#c51b7d"
            ],
            [
             0.2,
             "#de77ae"
            ],
            [
             0.3,
             "#f1b6da"
            ],
            [
             0.4,
             "#fde0ef"
            ],
            [
             0.5,
             "#f7f7f7"
            ],
            [
             0.6,
             "#e6f5d0"
            ],
            [
             0.7,
             "#b8e186"
            ],
            [
             0.8,
             "#7fbc41"
            ],
            [
             0.9,
             "#4d9221"
            ],
            [
             1,
             "#276419"
            ]
           ],
           "sequential": [
            [
             0,
             "#0d0887"
            ],
            [
             0.1111111111111111,
             "#46039f"
            ],
            [
             0.2222222222222222,
             "#7201a8"
            ],
            [
             0.3333333333333333,
             "#9c179e"
            ],
            [
             0.4444444444444444,
             "#bd3786"
            ],
            [
             0.5555555555555556,
             "#d8576b"
            ],
            [
             0.6666666666666666,
             "#ed7953"
            ],
            [
             0.7777777777777778,
             "#fb9f3a"
            ],
            [
             0.8888888888888888,
             "#fdca26"
            ],
            [
             1,
             "#f0f921"
            ]
           ],
           "sequentialminus": [
            [
             0,
             "#0d0887"
            ],
            [
             0.1111111111111111,
             "#46039f"
            ],
            [
             0.2222222222222222,
             "#7201a8"
            ],
            [
             0.3333333333333333,
             "#9c179e"
            ],
            [
             0.4444444444444444,
             "#bd3786"
            ],
            [
             0.5555555555555556,
             "#d8576b"
            ],
            [
             0.6666666666666666,
             "#ed7953"
            ],
            [
             0.7777777777777778,
             "#fb9f3a"
            ],
            [
             0.8888888888888888,
             "#fdca26"
            ],
            [
             1,
             "#f0f921"
            ]
           ]
          },
          "colorway": [
           "#636efa",
           "#EF553B",
           "#00cc96",
           "#ab63fa",
           "#FFA15A",
           "#19d3f3",
           "#FF6692",
           "#B6E880",
           "#FF97FF",
           "#FECB52"
          ],
          "font": {
           "color": "#2a3f5f"
          },
          "geo": {
           "bgcolor": "white",
           "lakecolor": "white",
           "landcolor": "#E5ECF6",
           "showlakes": true,
           "showland": true,
           "subunitcolor": "white"
          },
          "hoverlabel": {
           "align": "left"
          },
          "hovermode": "closest",
          "mapbox": {
           "style": "light"
          },
          "paper_bgcolor": "white",
          "plot_bgcolor": "#E5ECF6",
          "polar": {
           "angularaxis": {
            "gridcolor": "white",
            "linecolor": "white",
            "ticks": ""
           },
           "bgcolor": "#E5ECF6",
           "radialaxis": {
            "gridcolor": "white",
            "linecolor": "white",
            "ticks": ""
           }
          },
          "scene": {
           "xaxis": {
            "backgroundcolor": "#E5ECF6",
            "gridcolor": "white",
            "gridwidth": 2,
            "linecolor": "white",
            "showbackground": true,
            "ticks": "",
            "zerolinecolor": "white"
           },
           "yaxis": {
            "backgroundcolor": "#E5ECF6",
            "gridcolor": "white",
            "gridwidth": 2,
            "linecolor": "white",
            "showbackground": true,
            "ticks": "",
            "zerolinecolor": "white"
           },
           "zaxis": {
            "backgroundcolor": "#E5ECF6",
            "gridcolor": "white",
            "gridwidth": 2,
            "linecolor": "white",
            "showbackground": true,
            "ticks": "",
            "zerolinecolor": "white"
           }
          },
          "shapedefaults": {
           "line": {
            "color": "#2a3f5f"
           }
          },
          "ternary": {
           "aaxis": {
            "gridcolor": "white",
            "linecolor": "white",
            "ticks": ""
           },
           "baxis": {
            "gridcolor": "white",
            "linecolor": "white",
            "ticks": ""
           },
           "bgcolor": "#E5ECF6",
           "caxis": {
            "gridcolor": "white",
            "linecolor": "white",
            "ticks": ""
           }
          },
          "title": {
           "x": 0.05
          },
          "xaxis": {
           "automargin": true,
           "gridcolor": "white",
           "linecolor": "white",
           "ticks": "",
           "title": {
            "standoff": 15
           },
           "zerolinecolor": "white",
           "zerolinewidth": 2
          },
          "yaxis": {
           "automargin": true,
           "gridcolor": "white",
           "linecolor": "white",
           "ticks": "",
           "title": {
            "standoff": 15
           },
           "zerolinecolor": "white",
           "zerolinewidth": 2
          }
         }
        },
        "title": {
         "text": "<b>Matriz de Correlación entre Pilares de Sostenibilidad</b><br><sup>Revela sinergias (azul) y trade-offs (rojo)</sup>",
         "x": 0.5
        },
        "xaxis": {
         "anchor": "y",
         "domain": [
          0,
          1
         ],
         "tickangle": -45
        },
        "yaxis": {
         "anchor": "x",
         "autorange": "reversed",
         "domain": [
          0,
          1
         ]
        }
       }
      }
     },
     "metadata": {},
     "output_type": "display_data"
    }
   ],
   "source": [
    "# --- 9. Matriz de Correlación entre Pilares de Sostenibilidad ---\n",
    "pillar_data = parallel_coords_df[dimensions]\n",
    "correlation_matrix = pillar_data.corr()\n",
    "fig_corr_matrix = px.imshow(\n",
    "    correlation_matrix,\n",
    "    text_auto=True,\n",
    "    aspect=\"auto\",\n",
    "    color_continuous_scale='blues', \n",
    "    zmin=-1, zmax=1\n",
    ")\n",
    "fig_corr_matrix.update_layout(\n",
    "    title_text='<b>Matriz de Correlación entre Pilares de Sostenibilidad</b><br><sup>Revela sinergias (azul) y trade-offs (rojo)</sup>',\n",
    "    title_x=0.5,\n",
    "    xaxis_tickangle=-45,\n",
    "    font=dict(family=\"Arial, sans-serif\", size=10, color=\"black\")\n",
    ")\n",
    "fig_corr_matrix.show()\n",
    "save_chart_as_html(fig_corr_matrix, '09_correlation_matrix_sustainability_pillars.html')\n",
    "# Save as image\n",
    "fig_corr_matrix.write_image(\"img/09_correlation_matrix_sustainability_pillars.png\", width=1000, height=800, scale=2)"
   ]
  },
  {
   "cell_type": "markdown",
   "metadata": {},
   "source": [
    "## 10. Gráfico de Barras Divergentes: Desempeño Relativo al Sector"
   ]
  },
  {
   "cell_type": "code",
   "execution_count": 25,
   "metadata": {},
   "outputs": [
    {
     "data": {
      "application/vnd.plotly.v1+json": {
       "config": {
        "plotlyServerURL": "https://plot.ly"
       },
       "data": [
        {
         "hovertemplate": "Desempeño_Relativo=Inferior al Promedio<br>Macrosector=Agropecuario<br>Diferencia vs. Promedio=%{x}<br>=%{y}<extra></extra>",
         "legendgroup": "Inferior al Promedio",
         "marker": {
          "color": "#d62728",
          "pattern": {
           "shape": ""
          }
         },
         "name": "Inferior al Promedio",
         "orientation": "h",
         "showlegend": true,
         "textposition": "auto",
         "type": "bar",
         "x": {
          "bdata": "jeM4juM4VsCN4ziO4zhWwGiapmmaplLAJoqiKIqiRMA=",
          "dtype": "f8"
         },
         "xaxis": "x5",
         "y": [
          "AVICOLA EL MADROÑO SA",
          "INCUBADORA SANTANDER S.A. (Huevos Kikes)",
          "Sunshine Bouquet",
          "AVSA"
         ],
         "yaxis": "y5"
        },
        {
         "hovertemplate": "Desempeño_Relativo=Inferior al Promedio<br>Macrosector=Comercio<br>Diferencia vs. Promedio=%{x}<br>=%{y}<extra></extra>",
         "legendgroup": "Inferior al Promedio",
         "marker": {
          "color": "#d62728",
          "pattern": {
           "shape": ""
          }
         },
         "name": "Inferior al Promedio",
         "orientation": "h",
         "showlegend": false,
         "textposition": "auto",
         "type": "bar",
         "x": {
          "bdata": "PzRmSpYka8A/NGZKliRrwD80ZkqWJGvAPzRmSpYka8A/NGZKliRrwD80ZkqWJGvAPzRmSpYka8A/NGZKliRrwD80ZkqWJGvATkN1WaUzaMA4DdVllc5FwA==",
          "dtype": "f8"
         },
         "xaxis": "x6",
         "y": [
          "ARA",
          "Biomax",
          "CI Eslop",
          "Corbeta",
          "Distracom",
          "Petromil",
          "Suramerica Comercial (Dollar City)",
          "Tecnoquimicas",
          "Unilever",
          "Olímpica",
          "Chevron"
         ],
         "yaxis": "y6"
        },
        {
         "hovertemplate": "Desempeño_Relativo=Inferior al Promedio<br>Macrosector=Construcción<br>Diferencia vs. Promedio=%{x}<br>=%{y}<extra></extra>",
         "legendgroup": "Inferior al Promedio",
         "marker": {
          "color": "#d62728",
          "pattern": {
           "shape": ""
          }
         },
         "name": "Inferior al Promedio",
         "orientation": "h",
         "showlegend": false,
         "textposition": "auto",
         "type": "bar",
         "x": {
          "bdata": "aJgoy6bHbMBomCjLpsdswCAX0i+1gVHAQFHhidaRPsAwMTRdFyUrwA==",
          "dtype": "f8"
         },
         "xaxis": "x3",
         "y": [
          "ARQUITECTURA Y CONCRETO",
          "ISMOCOL SA",
          "CONSTRUCTORA CAPITAL BOGOTA SAS",
          "CONSTRUCCIONES EL CONDOR S.A",
          "CONSTRUCTORA COLPATRIA  SAS"
         ],
         "yaxis": "y3"
        },
        {
         "hovertemplate": "Desempeño_Relativo=Inferior al Promedio<br>Macrosector=Manufactura<br>Diferencia vs. Promedio=%{x}<br>=%{y}<extra></extra>",
         "legendgroup": "Inferior al Promedio",
         "marker": {
          "color": "#d62728",
          "pattern": {
           "shape": ""
          }
         },
         "name": "Inferior al Promedio",
         "orientation": "h",
         "showlegend": false,
         "textposition": "auto",
         "type": "bar",
         "x": {
          "bdata": "wVXEO+i0dMDBVcQ76LR0wMFVxDvotHTA3iKSA4ALY8A2XqH4bLhcwDbOrFWsRlTAfmT2JDWrU8Dcp28yGmFQwDCyBtuWkU/A0BKnRO8fTMBI7gP64JlDwADPkCw7ygPA",
          "dtype": "f8"
         },
         "xaxis": "x4",
         "y": [
          "Grupo Diana",
          "Italcol",
          "POLLOS EL BUCANERO S.A. (Cargill)",
          "Yamaha",
          "Bavaria (Kopps)",
          "Nestle",
          "YARA COLOMBIA S.A.",
          "Pepsico",
          "Compañía Nacional de Chocolates",
          "Colgate",
          "BEL STAR S.A.",
          "General Motors"
         ],
         "yaxis": "y4"
        },
        {
         "hovertemplate": "Desempeño_Relativo=Inferior al Promedio<br>Macrosector=Minero<br>Diferencia vs. Promedio=%{x}<br>=%{y}<extra></extra>",
         "legendgroup": "Inferior al Promedio",
         "marker": {
          "color": "#d62728",
          "pattern": {
           "shape": ""
          }
         },
         "name": "Inferior al Promedio",
         "orientation": "h",
         "showlegend": false,
         "textposition": "auto",
         "type": "bar",
         "x": {
          "bdata": "wf7ulFP5dsD8rwLQBA11wOjlUqSMPVHAAAlFAhrkIMA=",
          "dtype": "f8"
         },
         "xaxis": "x",
         "y": [
          "Verano energy",
          "C.I Prodeco",
          "Cerrejón",
          "Gran Tierra Energy"
         ],
         "yaxis": "y"
        },
        {
         "hovertemplate": "Desempeño_Relativo=Inferior al Promedio<br>Macrosector=Servicios<br>Diferencia vs. Promedio=%{x}<br>=%{y}<extra></extra>",
         "legendgroup": "Inferior al Promedio",
         "marker": {
          "color": "#d62728",
          "pattern": {
           "shape": ""
          }
         },
         "name": "Inferior al Promedio",
         "orientation": "h",
         "showlegend": false,
         "textposition": "auto",
         "type": "bar",
         "x": {
          "bdata": "Ehz1Jma5d8Bc8nbfIWNbwPhkjCoCbVfAMCa1eMuOTcDQyF8aJfI/wACN6l2wiDLAAACacdysiL8=",
          "dtype": "f8"
         },
         "xaxis": "x2",
         "y": [
          "Rappi",
          "Isagen",
          "Gases del Caribe",
          "Mercado Libre",
          "Tigo",
          "Avianca",
          "LATAM"
         ],
         "yaxis": "y2"
        },
        {
         "hovertemplate": "Desempeño_Relativo=Superior al Promedio<br>Macrosector=Agropecuario<br>Diferencia vs. Promedio=%{x}<br>=%{y}<extra></extra>",
         "legendgroup": "Superior al Promedio",
         "marker": {
          "color": "#2ca02c",
          "pattern": {
           "shape": ""
          }
         },
         "name": "Superior al Promedio",
         "orientation": "h",
         "showlegend": true,
         "textposition": "auto",
         "type": "bar",
         "x": {
          "bdata": "f9/3fd93UECO4ziO43hsQA==",
          "dtype": "f8"
         },
         "xaxis": "x5",
         "y": [
          "Grupo Bios",
          "Aliar"
         ],
         "yaxis": "y5"
        },
        {
         "hovertemplate": "Desempeño_Relativo=Superior al Promedio<br>Macrosector=Comercio<br>Diferencia vs. Promedio=%{x}<br>=%{y}<extra></extra>",
         "legendgroup": "Superior al Promedio",
         "marker": {
          "color": "#2ca02c",
          "pattern": {
           "shape": ""
          }
         },
         "name": "Superior al Promedio",
         "orientation": "h",
         "showlegend": false,
         "textposition": "auto",
         "type": "bar",
         "x": {
          "bdata": "gJPkoz2IH0A4i/vZegg4QGyY0D8Q10RAnMX9bD0ETkCClzNr07ZXQC5SLOJBtlpAGyb0D8S1YECtvQNABwRjQPFk5lHuh2NAz4RW2eH+ZUBjw9ulbYlmQHsFVMtham5ACeATUrL/b0DMu6wrLC9wQDgmNzC3uXJA",
          "dtype": "f8"
         },
         "xaxis": "x6",
         "y": [
          "Pricesmart",
          "Trafigura (Petroleum)",
          "Sucafina",
          "Mazda",
          "Cencosud",
          "Uniban",
          "Samsung",
          "Cruz Verde",
          "Toyota",
          "Éxito",
          "D1",
          "Sodimac (Homecenter)",
          "Primax",
          "Falabella",
          "Terpel"
         ],
         "yaxis": "y6"
        },
        {
         "hovertemplate": "Desempeño_Relativo=Superior al Promedio<br>Macrosector=Construcción<br>Diferencia vs. Promedio=%{x}<br>=%{y}<extra></extra>",
         "legendgroup": "Superior al Promedio",
         "marker": {
          "color": "#2ca02c",
          "pattern": {
           "shape": ""
          }
         },
         "name": "Superior al Promedio",
         "orientation": "h",
         "showlegend": false,
         "textposition": "auto",
         "type": "bar",
         "x": {
          "bdata": "YBemqTQ9P0DA86JKpxVPQHwLuOYqt1NAHiBDqcO1Y0DkA83wSpZuQA==",
          "dtype": "f8"
         },
         "xaxis": "x3",
         "y": [
          "MARVAL S.A.S.",
          "CONCESIONARIA VIAL UNIÓN DEL SUR SAS",
          "Conconcreto",
          "Amarilo",
          "AUTOPISTA RIO MAGDALENA SAS"
         ],
         "yaxis": "y3"
        },
        {
         "hovertemplate": "Desempeño_Relativo=Superior al Promedio<br>Macrosector=Manufactura<br>Diferencia vs. Promedio=%{x}<br>=%{y}<extra></extra>",
         "legendgroup": "Superior al Promedio",
         "marker": {
          "color": "#2ca02c",
          "pattern": {
           "shape": ""
          }
         },
         "name": "Superior al Promedio",
         "orientation": "h",
         "showlegend": false,
         "textposition": "auto",
         "type": "bar",
         "x": {
          "bdata": "UFut/vzlP0BIbQ6aqkhCQHjtjZThyklAqH8H+nEaSkBINM1mIJBNQPwPwVqQjFlA7K4GZmqpWkCEMcac0T5bQGhKMHr/ClxADHLIheCzYkAQiLIKOB1mQOZM5gQqtWhA0lMneFl7bEBySgsz30JtQA==",
          "dtype": "f8"
         },
         "xaxis": "x4",
         "y": [
          "Reficar",
          "ES Windows",
          "CARTON DE COLOMBIA S.A. (Smurfit Kappa)",
          "Productos Familia (Essity)",
          "Renault",
          "Haceb",
          "Coca Cola- Femsa",
          "Alpina",
          "Riopaila Castilla",
          "Cementos Argos",
          "Alimentos Carnicos (Grupo Nutresa)",
          "Colombina",
          "Esenttia",
          "Postobón"
         ],
         "yaxis": "y4"
        },
        {
         "hovertemplate": "Desempeño_Relativo=Superior al Promedio<br>Macrosector=Minero<br>Diferencia vs. Promedio=%{x}<br>=%{y}<extra></extra>",
         "legendgroup": "Superior al Promedio",
         "marker": {
          "color": "#2ca02c",
          "pattern": {
           "shape": ""
          }
         },
         "name": "Superior al Promedio",
         "orientation": "h",
         "showlegend": false,
         "textposition": "auto",
         "type": "bar",
         "x": {
          "bdata": "xPDdGweEUUDwQ9cWOhxZQNi8pIibK15AorMMJGIgYkBWYJaX9EVlQEIU4aJz7WVA",
          "dtype": "f8"
         },
         "xaxis": "x",
         "y": [
          "Frontera Energy",
          "Hocol",
          "SierraCol Energy",
          "Geopark",
          "Ecopetrol",
          "Drummond"
         ],
         "yaxis": "y"
        },
        {
         "hovertemplate": "Desempeño_Relativo=Superior al Promedio<br>Macrosector=Servicios<br>Diferencia vs. Promedio=%{x}<br>=%{y}<extra></extra>",
         "legendgroup": "Superior al Promedio",
         "marker": {
          "color": "#2ca02c",
          "pattern": {
           "shape": ""
          }
         },
         "name": "Superior al Promedio",
         "orientation": "h",
         "showlegend": false,
         "textposition": "auto",
         "type": "bar",
         "x": {
          "bdata": "0EoKlgoXOkDArPVheYU7QBCsK3K65kFAqN7xmLQ5RUDgmxTdwv1LQPiFPGn8vUxAnJKwQVRbUkBYBtcmbBtTQNyxnCFwe1RAEM0130JsVkDIEBeX8WhfQA==",
          "dtype": "f8"
         },
         "xaxis": "x2",
         "y": [
          "Oleoducto Central (Ocensa)",
          "ISA",
          "Teleperformance",
          "GEB",
          "EPM",
          "Celsia",
          "Telefónica",
          "Cenit",
          "Promigas",
          "Claro",
          "Emgesa"
         ],
         "yaxis": "y2"
        }
       ],
       "layout": {
        "annotations": [
         {
          "font": {},
          "showarrow": false,
          "text": "Minero",
          "x": 0.225,
          "xanchor": "center",
          "xref": "paper",
          "y": 0.2866666666666666,
          "yanchor": "bottom",
          "yref": "paper"
         },
         {
          "font": {},
          "showarrow": false,
          "text": "Servicios",
          "x": 0.775,
          "xanchor": "center",
          "xref": "paper",
          "y": 0.2866666666666666,
          "yanchor": "bottom",
          "yref": "paper"
         },
         {
          "font": {},
          "showarrow": false,
          "text": "Construcción",
          "x": 0.225,
          "xanchor": "center",
          "xref": "paper",
          "y": 0.6433333333333333,
          "yanchor": "bottom",
          "yref": "paper"
         },
         {
          "font": {},
          "showarrow": false,
          "text": "Manufactura",
          "x": 0.775,
          "xanchor": "center",
          "xref": "paper",
          "y": 0.6433333333333333,
          "yanchor": "bottom",
          "yref": "paper"
         },
         {
          "font": {},
          "showarrow": false,
          "text": "Agropecuario",
          "x": 0.225,
          "xanchor": "center",
          "xref": "paper",
          "y": 0.9999999999999999,
          "yanchor": "bottom",
          "yref": "paper"
         },
         {
          "font": {},
          "showarrow": false,
          "text": "Comercio",
          "x": 0.775,
          "xanchor": "center",
          "xref": "paper",
          "y": 0.9999999999999999,
          "yanchor": "bottom",
          "yref": "paper"
         }
        ],
        "barmode": "relative",
        "font": {
         "color": "black",
         "family": "Arial, sans-serif",
         "size": 10
        },
        "height": 2400,
        "legend": {
         "title": {
          "text": "Desempeño_Relativo"
         },
         "tracegroupgap": 0
        },
        "margin": {
         "t": 60
        },
        "showlegend": false,
        "template": {
         "data": {
          "bar": [
           {
            "error_x": {
             "color": "#2a3f5f"
            },
            "error_y": {
             "color": "#2a3f5f"
            },
            "marker": {
             "line": {
              "color": "#E5ECF6",
              "width": 0.5
             },
             "pattern": {
              "fillmode": "overlay",
              "size": 10,
              "solidity": 0.2
             }
            },
            "type": "bar"
           }
          ],
          "barpolar": [
           {
            "marker": {
             "line": {
              "color": "#E5ECF6",
              "width": 0.5
             },
             "pattern": {
              "fillmode": "overlay",
              "size": 10,
              "solidity": 0.2
             }
            },
            "type": "barpolar"
           }
          ],
          "carpet": [
           {
            "aaxis": {
             "endlinecolor": "#2a3f5f",
             "gridcolor": "white",
             "linecolor": "white",
             "minorgridcolor": "white",
             "startlinecolor": "#2a3f5f"
            },
            "baxis": {
             "endlinecolor": "#2a3f5f",
             "gridcolor": "white",
             "linecolor": "white",
             "minorgridcolor": "white",
             "startlinecolor": "#2a3f5f"
            },
            "type": "carpet"
           }
          ],
          "choropleth": [
           {
            "colorbar": {
             "outlinewidth": 0,
             "ticks": ""
            },
            "type": "choropleth"
           }
          ],
          "contour": [
           {
            "colorbar": {
             "outlinewidth": 0,
             "ticks": ""
            },
            "colorscale": [
             [
              0,
              "#0d0887"
             ],
             [
              0.1111111111111111,
              "#46039f"
             ],
             [
              0.2222222222222222,
              "#7201a8"
             ],
             [
              0.3333333333333333,
              "#9c179e"
             ],
             [
              0.4444444444444444,
              "#bd3786"
             ],
             [
              0.5555555555555556,
              "#d8576b"
             ],
             [
              0.6666666666666666,
              "#ed7953"
             ],
             [
              0.7777777777777778,
              "#fb9f3a"
             ],
             [
              0.8888888888888888,
              "#fdca26"
             ],
             [
              1,
              "#f0f921"
             ]
            ],
            "type": "contour"
           }
          ],
          "contourcarpet": [
           {
            "colorbar": {
             "outlinewidth": 0,
             "ticks": ""
            },
            "type": "contourcarpet"
           }
          ],
          "heatmap": [
           {
            "colorbar": {
             "outlinewidth": 0,
             "ticks": ""
            },
            "colorscale": [
             [
              0,
              "#0d0887"
             ],
             [
              0.1111111111111111,
              "#46039f"
             ],
             [
              0.2222222222222222,
              "#7201a8"
             ],
             [
              0.3333333333333333,
              "#9c179e"
             ],
             [
              0.4444444444444444,
              "#bd3786"
             ],
             [
              0.5555555555555556,
              "#d8576b"
             ],
             [
              0.6666666666666666,
              "#ed7953"
             ],
             [
              0.7777777777777778,
              "#fb9f3a"
             ],
             [
              0.8888888888888888,
              "#fdca26"
             ],
             [
              1,
              "#f0f921"
             ]
            ],
            "type": "heatmap"
           }
          ],
          "histogram": [
           {
            "marker": {
             "pattern": {
              "fillmode": "overlay",
              "size": 10,
              "solidity": 0.2
             }
            },
            "type": "histogram"
           }
          ],
          "histogram2d": [
           {
            "colorbar": {
             "outlinewidth": 0,
             "ticks": ""
            },
            "colorscale": [
             [
              0,
              "#0d0887"
             ],
             [
              0.1111111111111111,
              "#46039f"
             ],
             [
              0.2222222222222222,
              "#7201a8"
             ],
             [
              0.3333333333333333,
              "#9c179e"
             ],
             [
              0.4444444444444444,
              "#bd3786"
             ],
             [
              0.5555555555555556,
              "#d8576b"
             ],
             [
              0.6666666666666666,
              "#ed7953"
             ],
             [
              0.7777777777777778,
              "#fb9f3a"
             ],
             [
              0.8888888888888888,
              "#fdca26"
             ],
             [
              1,
              "#f0f921"
             ]
            ],
            "type": "histogram2d"
           }
          ],
          "histogram2dcontour": [
           {
            "colorbar": {
             "outlinewidth": 0,
             "ticks": ""
            },
            "colorscale": [
             [
              0,
              "#0d0887"
             ],
             [
              0.1111111111111111,
              "#46039f"
             ],
             [
              0.2222222222222222,
              "#7201a8"
             ],
             [
              0.3333333333333333,
              "#9c179e"
             ],
             [
              0.4444444444444444,
              "#bd3786"
             ],
             [
              0.5555555555555556,
              "#d8576b"
             ],
             [
              0.6666666666666666,
              "#ed7953"
             ],
             [
              0.7777777777777778,
              "#fb9f3a"
             ],
             [
              0.8888888888888888,
              "#fdca26"
             ],
             [
              1,
              "#f0f921"
             ]
            ],
            "type": "histogram2dcontour"
           }
          ],
          "mesh3d": [
           {
            "colorbar": {
             "outlinewidth": 0,
             "ticks": ""
            },
            "type": "mesh3d"
           }
          ],
          "parcoords": [
           {
            "line": {
             "colorbar": {
              "outlinewidth": 0,
              "ticks": ""
             }
            },
            "type": "parcoords"
           }
          ],
          "pie": [
           {
            "automargin": true,
            "type": "pie"
           }
          ],
          "scatter": [
           {
            "fillpattern": {
             "fillmode": "overlay",
             "size": 10,
             "solidity": 0.2
            },
            "type": "scatter"
           }
          ],
          "scatter3d": [
           {
            "line": {
             "colorbar": {
              "outlinewidth": 0,
              "ticks": ""
             }
            },
            "marker": {
             "colorbar": {
              "outlinewidth": 0,
              "ticks": ""
             }
            },
            "type": "scatter3d"
           }
          ],
          "scattercarpet": [
           {
            "marker": {
             "colorbar": {
              "outlinewidth": 0,
              "ticks": ""
             }
            },
            "type": "scattercarpet"
           }
          ],
          "scattergeo": [
           {
            "marker": {
             "colorbar": {
              "outlinewidth": 0,
              "ticks": ""
             }
            },
            "type": "scattergeo"
           }
          ],
          "scattergl": [
           {
            "marker": {
             "colorbar": {
              "outlinewidth": 0,
              "ticks": ""
             }
            },
            "type": "scattergl"
           }
          ],
          "scattermap": [
           {
            "marker": {
             "colorbar": {
              "outlinewidth": 0,
              "ticks": ""
             }
            },
            "type": "scattermap"
           }
          ],
          "scattermapbox": [
           {
            "marker": {
             "colorbar": {
              "outlinewidth": 0,
              "ticks": ""
             }
            },
            "type": "scattermapbox"
           }
          ],
          "scatterpolar": [
           {
            "marker": {
             "colorbar": {
              "outlinewidth": 0,
              "ticks": ""
             }
            },
            "type": "scatterpolar"
           }
          ],
          "scatterpolargl": [
           {
            "marker": {
             "colorbar": {
              "outlinewidth": 0,
              "ticks": ""
             }
            },
            "type": "scatterpolargl"
           }
          ],
          "scatterternary": [
           {
            "marker": {
             "colorbar": {
              "outlinewidth": 0,
              "ticks": ""
             }
            },
            "type": "scatterternary"
           }
          ],
          "surface": [
           {
            "colorbar": {
             "outlinewidth": 0,
             "ticks": ""
            },
            "colorscale": [
             [
              0,
              "#0d0887"
             ],
             [
              0.1111111111111111,
              "#46039f"
             ],
             [
              0.2222222222222222,
              "#7201a8"
             ],
             [
              0.3333333333333333,
              "#9c179e"
             ],
             [
              0.4444444444444444,
              "#bd3786"
             ],
             [
              0.5555555555555556,
              "#d8576b"
             ],
             [
              0.6666666666666666,
              "#ed7953"
             ],
             [
              0.7777777777777778,
              "#fb9f3a"
             ],
             [
              0.8888888888888888,
              "#fdca26"
             ],
             [
              1,
              "#f0f921"
             ]
            ],
            "type": "surface"
           }
          ],
          "table": [
           {
            "cells": {
             "fill": {
              "color": "#EBF0F8"
             },
             "line": {
              "color": "white"
             }
            },
            "header": {
             "fill": {
              "color": "#C8D4E3"
             },
             "line": {
              "color": "white"
             }
            },
            "type": "table"
           }
          ]
         },
         "layout": {
          "annotationdefaults": {
           "arrowcolor": "#2a3f5f",
           "arrowhead": 0,
           "arrowwidth": 1
          },
          "autotypenumbers": "strict",
          "coloraxis": {
           "colorbar": {
            "outlinewidth": 0,
            "ticks": ""
           }
          },
          "colorscale": {
           "diverging": [
            [
             0,
             "#8e0152"
            ],
            [
             0.1,
             "#c51b7d"
            ],
            [
             0.2,
             "#de77ae"
            ],
            [
             0.3,
             "#f1b6da"
            ],
            [
             0.4,
             "#fde0ef"
            ],
            [
             0.5,
             "#f7f7f7"
            ],
            [
             0.6,
             "#e6f5d0"
            ],
            [
             0.7,
             "#b8e186"
            ],
            [
             0.8,
             "#7fbc41"
            ],
            [
             0.9,
             "#4d9221"
            ],
            [
             1,
             "#276419"
            ]
           ],
           "sequential": [
            [
             0,
             "#0d0887"
            ],
            [
             0.1111111111111111,
             "#46039f"
            ],
            [
             0.2222222222222222,
             "#7201a8"
            ],
            [
             0.3333333333333333,
             "#9c179e"
            ],
            [
             0.4444444444444444,
             "#bd3786"
            ],
            [
             0.5555555555555556,
             "#d8576b"
            ],
            [
             0.6666666666666666,
             "#ed7953"
            ],
            [
             0.7777777777777778,
             "#fb9f3a"
            ],
            [
             0.8888888888888888,
             "#fdca26"
            ],
            [
             1,
             "#f0f921"
            ]
           ],
           "sequentialminus": [
            [
             0,
             "#0d0887"
            ],
            [
             0.1111111111111111,
             "#46039f"
            ],
            [
             0.2222222222222222,
             "#7201a8"
            ],
            [
             0.3333333333333333,
             "#9c179e"
            ],
            [
             0.4444444444444444,
             "#bd3786"
            ],
            [
             0.5555555555555556,
             "#d8576b"
            ],
            [
             0.6666666666666666,
             "#ed7953"
            ],
            [
             0.7777777777777778,
             "#fb9f3a"
            ],
            [
             0.8888888888888888,
             "#fdca26"
            ],
            [
             1,
             "#f0f921"
            ]
           ]
          },
          "colorway": [
           "#636efa",
           "#EF553B",
           "#00cc96",
           "#ab63fa",
           "#FFA15A",
           "#19d3f3",
           "#FF6692",
           "#B6E880",
           "#FF97FF",
           "#FECB52"
          ],
          "font": {
           "color": "#2a3f5f"
          },
          "geo": {
           "bgcolor": "white",
           "lakecolor": "white",
           "landcolor": "#E5ECF6",
           "showlakes": true,
           "showland": true,
           "subunitcolor": "white"
          },
          "hoverlabel": {
           "align": "left"
          },
          "hovermode": "closest",
          "mapbox": {
           "style": "light"
          },
          "paper_bgcolor": "white",
          "plot_bgcolor": "#E5ECF6",
          "polar": {
           "angularaxis": {
            "gridcolor": "white",
            "linecolor": "white",
            "ticks": ""
           },
           "bgcolor": "#E5ECF6",
           "radialaxis": {
            "gridcolor": "white",
            "linecolor": "white",
            "ticks": ""
           }
          },
          "scene": {
           "xaxis": {
            "backgroundcolor": "#E5ECF6",
            "gridcolor": "white",
            "gridwidth": 2,
            "linecolor": "white",
            "showbackground": true,
            "ticks": "",
            "zerolinecolor": "white"
           },
           "yaxis": {
            "backgroundcolor": "#E5ECF6",
            "gridcolor": "white",
            "gridwidth": 2,
            "linecolor": "white",
            "showbackground": true,
            "ticks": "",
            "zerolinecolor": "white"
           },
           "zaxis": {
            "backgroundcolor": "#E5ECF6",
            "gridcolor": "white",
            "gridwidth": 2,
            "linecolor": "white",
            "showbackground": true,
            "ticks": "",
            "zerolinecolor": "white"
           }
          },
          "shapedefaults": {
           "line": {
            "color": "#2a3f5f"
           }
          },
          "ternary": {
           "aaxis": {
            "gridcolor": "white",
            "linecolor": "white",
            "ticks": ""
           },
           "baxis": {
            "gridcolor": "white",
            "linecolor": "white",
            "ticks": ""
           },
           "bgcolor": "#E5ECF6",
           "caxis": {
            "gridcolor": "white",
            "linecolor": "white",
            "ticks": ""
           }
          },
          "title": {
           "x": 0.05
          },
          "xaxis": {
           "automargin": true,
           "gridcolor": "white",
           "linecolor": "white",
           "ticks": "",
           "title": {
            "standoff": 15
           },
           "zerolinecolor": "white",
           "zerolinewidth": 2
          },
          "yaxis": {
           "automargin": true,
           "gridcolor": "white",
           "linecolor": "white",
           "ticks": "",
           "title": {
            "standoff": 15
           },
           "zerolinecolor": "white",
           "zerolinewidth": 2
          }
         }
        },
        "title": {
         "text": "<b>Desempeño Relativo de Sostenibilidad vs. Promedio del Sector</b><br><sup>Cada subgráfico muestra un sector. Barras verdes superan el promedio, rojas están por debajo.</sup>",
         "x": 0.5
        },
        "xaxis": {
         "anchor": "y",
         "domain": [
          0,
          0.45
         ],
         "title": {
          "text": "Diferencia vs. Promedio"
         }
        },
        "xaxis2": {
         "anchor": "y2",
         "domain": [
          0.55,
          1
         ],
         "matches": "x",
         "title": {
          "text": "Diferencia vs. Promedio"
         }
        },
        "xaxis3": {
         "anchor": "y3",
         "domain": [
          0,
          0.45
         ],
         "matches": "x",
         "showticklabels": false
        },
        "xaxis4": {
         "anchor": "y4",
         "domain": [
          0.55,
          1
         ],
         "matches": "x",
         "showticklabels": false
        },
        "xaxis5": {
         "anchor": "y5",
         "domain": [
          0,
          0.45
         ],
         "matches": "x",
         "showticklabels": false
        },
        "xaxis6": {
         "anchor": "y6",
         "domain": [
          0.55,
          1
         ],
         "matches": "x",
         "showticklabels": false
        },
        "yaxis": {
         "anchor": "x",
         "categoryorder": "total ascending",
         "domain": [
          0,
          0.2866666666666666
         ],
         "showticklabels": true,
         "title": {
          "text": ""
         }
        },
        "yaxis2": {
         "anchor": "x2",
         "categoryorder": "total ascending",
         "domain": [
          0,
          0.2866666666666666
         ],
         "showticklabels": true
        },
        "yaxis3": {
         "anchor": "x3",
         "categoryorder": "total ascending",
         "domain": [
          0.35666666666666663,
          0.6433333333333333
         ],
         "showticklabels": true,
         "title": {
          "text": ""
         }
        },
        "yaxis4": {
         "anchor": "x4",
         "categoryorder": "total ascending",
         "domain": [
          0.35666666666666663,
          0.6433333333333333
         ],
         "showticklabels": true
        },
        "yaxis5": {
         "anchor": "x5",
         "categoryorder": "total ascending",
         "domain": [
          0.7133333333333333,
          0.9999999999999999
         ],
         "showticklabels": true,
         "title": {
          "text": ""
         }
        },
        "yaxis6": {
         "anchor": "x6",
         "categoryorder": "total ascending",
         "domain": [
          0.7133333333333333,
          0.9999999999999999
         ],
         "showticklabels": true
        }
       }
      }
     },
     "metadata": {},
     "output_type": "display_data"
    }
   ],
   "source": [
    "# 1. Preparación de Datos\n",
    "# Calcular el puntaje promedio de sostenibilidad para cada macrosector.\n",
    "sector_avg_score = company_agg_data.groupby('Macrosector')['Puntaje_Total_Sostenibilidad'].mean().reset_index()\n",
    "sector_avg_score.rename(columns={'Puntaje_Total_Sostenibilidad': 'Promedio_Sector'}, inplace=True)\n",
    "\n",
    "# Unir los promedios sectoriales con los datos de cada empresa.\n",
    "diverging_data = pd.merge(company_agg_data, sector_avg_score, on='Macrosector')\n",
    "\n",
    "# Calcular la diferencia de cada empresa con respecto al promedio de su sector.\n",
    "diverging_data['Diferencia_vs_Promedio'] = diverging_data['Puntaje_Total_Sostenibilidad'] - diverging_data['Promedio_Sector']\n",
    "\n",
    "# Clasificar el desempeño como 'Superior' o 'Inferior' al promedio.\n",
    "diverging_data['Desempeño_Relativo'] = np.where(diverging_data['Diferencia_vs_Promedio'] >= 0, 'Superior al Promedio', 'Inferior al Promedio')\n",
    "\n",
    "# Ordenar los datos para una mejor visualización en el gráfico.\n",
    "diverging_data.sort_values(by=['Macrosector', 'Diferencia_vs_Promedio'], inplace=True)\n",
    "\n",
    "# 2. Creación del Gráfico de Barras Divergentes con Facetas\n",
    "fig_diverging_bar = px.bar(\n",
    "    diverging_data,\n",
    "    x='Diferencia_vs_Promedio',\n",
    "    y='Razón social',\n",
    "    color='Desempeño_Relativo',\n",
    "    color_discrete_map={\n",
    "        'Superior al Promedio': '#2ca02c',  # Verde\n",
    "        'Inferior al Promedio': '#d62728'   # Rojo\n",
    "    },\n",
    "    orientation='h',\n",
    "    facet_col='Macrosector',  # Crea un subgráfico (faceta) para cada Macrosector.\n",
    "    facet_col_wrap=2,         # Organiza las facetas en 2 columnas.\n",
    "    facet_col_spacing=0.1 , # Reduce el espacio entre facetas\n",
    "    labels={'Diferencia_vs_Promedio': 'Diferencia vs. Promedio', 'Razón social': ''}\n",
    ")\n",
    "\n",
    "# 3. Personalización y Estilo del Gráfico\n",
    "fig_diverging_bar.update_layout(\n",
    "    title='<b>Desempeño Relativo de Sostenibilidad vs. Promedio del Sector</b><br><sup>Cada subgráfico muestra un sector. Barras verdes superan el promedio, rojas están por debajo.</sup>',\n",
    "    title_x=0.5,\n",
    "    font=dict(family=\"Arial, sans-serif\", size=10, color=\"black\"),\n",
    "    height=max(800, len(diverging_data['Macrosector'].unique()) * 400), # Altura dinámica\n",
    "    showlegend=False # La leyenda es redundante por los colores y el título.\n",
    ")\n",
    "\n",
    "# Actualizar los ejes para que cada faceta tenga su propia escala y etiquetas.\n",
    "fig_diverging_bar.update_yaxes(matches=None, showticklabels=True)\n",
    "# Ordenar las barras dentro de cada faceta de menor a mayor.\n",
    "fig_diverging_bar.update_yaxes(categoryorder=\"total ascending\")\n",
    "# Limpiar los títulos de las facetas para que solo muestren el nombre del sector.\n",
    "fig_diverging_bar.for_each_annotation(lambda a: a.update(text=a.text.split(\"=\")[-1]))\n",
    "\n",
    "fig_diverging_bar.show()\n",
    "save_chart_as_html(fig_diverging_bar, '10_diverging_bar_performance_vs_sector.html')\n",
    "# Guardar como imagen\n",
    "fig_diverging_bar.write_image(\"img/10_diverging_bar_performance_vs_sector.png\", width=1200, height=1000, scale=2)"
   ]
  },
  {
   "cell_type": "markdown",
   "metadata": {},
   "source": [
    "# **Parte 3: Análisis Comparativo y de Atributos Específicos**"
   ]
  },
  {
   "cell_type": "markdown",
   "metadata": {},
   "source": [
    "## 11. Gráfico de Cajas Comparativo: Propiedad y Desempeño (Pública vs. Privada)"
   ]
  },
  {
   "cell_type": "code",
   "execution_count": 26,
   "metadata": {},
   "outputs": [
    {
     "data": {
      "application/vnd.plotly.v1+json": {
       "config": {
        "plotlyServerURL": "https://plot.ly"
       },
       "data": [
        {
         "alignmentgroup": "True",
         "boxpoints": "all",
         "hovertemplate": "Tipo de propiedad (Privada, Pública, Mixta)=%{x}<br>Puntaje_Total_Sostenibilidad=%{y}<extra></extra>",
         "legendgroup": "Privada",
         "marker": {
          "color": "#636efa"
         },
         "name": "Privada",
         "notched": true,
         "offsetgroup": "Privada",
         "orientation": "v",
         "showlegend": true,
         "type": "box",
         "x": [
          "Privada",
          "Privada",
          "Privada",
          "Privada",
          "Privada",
          "Privada",
          "Privada",
          "Privada",
          "Privada",
          "Privada",
          "Privada",
          "Privada",
          "Privada",
          "Privada",
          "Privada",
          "Privada",
          "Privada",
          "Privada",
          "Privada",
          "Privada",
          "Privada",
          "Privada",
          "Privada",
          "Privada",
          "Privada",
          "Privada",
          "Privada",
          "Privada",
          "Privada",
          "Privada",
          "Privada",
          "Privada",
          "Privada",
          "Privada",
          "Privada",
          "Privada",
          "Privada",
          "Privada",
          "Privada",
          "Privada",
          "Privada",
          "Privada",
          "Privada",
          "Privada",
          "Privada",
          "Privada",
          "Privada",
          "Privada",
          "Privada",
          "Privada",
          "Privada",
          "Privada",
          "Privada",
          "Privada",
          "Privada",
          "Privada",
          "Privada",
          "Privada",
          "Privada",
          "Privada",
          "Privada",
          "Privada",
          "Privada",
          "Privada",
          "Privada",
          "Privada",
          "Privada",
          "Privada",
          "Privada",
          "Privada",
          "Privada",
          "Privada",
          "Privada",
          "Privada",
          "Privada",
          "Privada",
          "Privada",
          "Privada",
          "Privada"
         ],
         "x0": " ",
         "xaxis": "x",
         "y": {
          "bdata": "AAAAAAAAAAAAAAAAAAAAACbO+t34rn1AAAAAAAAAAAD0PM/zPM9HQKqqqqqqynNAyZkdQYTDf0Ai4vWinIR7QEPcNTq1PnhAQnMWIduQdkD414McrEFyQGf8N/uZDWtAAAAAAAAAAABO7MRO7MQ+QHATVm5E7ndAAAAAAAAAAACsquhOiEZyQEBu7Plr9WhA2Iw/M8wGZEBVVVVVVRVrQNGsHLQlUXtAx46oftgOfkAAAAAAAIBzQEdF2mvwqXJA8fDw8PCwZUBWj8LedlR9QGdzL1PqMHFAGr4bn76HgEB7f2NgtcJwQBNPQh+eUXNAAAAAAAAAAAD2+DTFThR3QNH7IPgB13hAAAAAAAAAAABxxC+zBviAQGojBo/9/XZA7NXfUHfBfUDyeuZbVVp7QNQCUpwl3nFASax6U8IEgEB51tzEMnJ2QIZhGIZhWGNAAAAAAAAAAADAmXRSDBh7QL3PpBpiQH1AAAAAAAAAAAAAAAAAAAAAAAAAAAAAAAAA3jg8zTS5d0CqrS6wpldwQNPS0tLSUnFATHfet4wHdECHh4eHh4c3QAAAAAAAAAAAAAAAAAAAAAB9/aTqK6uBQNtYhTfYIGxAJAo9TiSSfUC2RQV7Nvh3QIlIXC9C2HxAAAAAAAAAAABbaFAaqLd7QC0tLS0t7XVA9y0YdzqEfkDdHN0KfMd8QC0tLS0tLXBAJEmSJEmSLEAAAAAAAAAAAAAAAAAAAAAAlJE6dT32eUAsILUqASaAQJhMJk5CVndApqWlpaUlbkCrLr6d2z90QAAAAAAAAAAAAAAAAAAAAABDeQ3lNZRvQKSI9nNQXmZAh1zeEbyReEA=",
          "dtype": "f8"
         },
         "y0": " ",
         "yaxis": "y"
        },
        {
         "alignmentgroup": "True",
         "boxpoints": "all",
         "hovertemplate": "Tipo de propiedad (Privada, Pública, Mixta)=%{x}<br>Puntaje_Total_Sostenibilidad=%{y}<extra></extra>",
         "legendgroup": "Mixta",
         "marker": {
          "color": "#EF553B"
         },
         "name": "Mixta",
         "notched": true,
         "offsetgroup": "Mixta",
         "orientation": "v",
         "showlegend": true,
         "type": "box",
         "x": [
          "Mixta",
          "Mixta",
          "Mixta",
          "Mixta",
          "Mixta",
          "Mixta",
          "Mixta",
          "Mixta",
          "Mixta",
          "Mixta",
          "Mixta",
          "Mixta",
          "Mixta",
          "Mixta"
         ],
         "x0": " ",
         "xaxis": "x",
         "y": {
          "bdata": "qN2qMEGAfEB8AUbVQl97QHYXXfAmzoBAROC6jKKTf0DV/+t7SnmBQOdXE7qcYHpA3nYUvb1xeUB7XxevneBwQGdEskx6Rm9Av8BV0NZaeUB2K68LSLN2QEr8nUjsZnhAuUBhNztQfECFH0/VQ7p1QA==",
          "dtype": "f8"
         },
         "y0": " ",
         "yaxis": "y"
        },
        {
         "alignmentgroup": "True",
         "boxpoints": "all",
         "hovertemplate": "Tipo de propiedad (Privada, Pública, Mixta)=%{x}<br>Puntaje_Total_Sostenibilidad=%{y}<extra></extra>",
         "legendgroup": "Pública",
         "marker": {
          "color": "#00cc96"
         },
         "name": "Pública",
         "notched": true,
         "offsetgroup": "Pública",
         "orientation": "v",
         "showlegend": true,
         "type": "box",
         "x": [
          "Pública",
          "Pública",
          "Pública"
         ],
         "x0": " ",
         "xaxis": "x",
         "y": {
          "bdata": "jq+Xgh45e0AjNGvFU410QMprKK+hnHBA",
          "dtype": "f8"
         },
         "y0": " ",
         "yaxis": "y"
        }
       ],
       "layout": {
        "boxmode": "overlay",
        "font": {
         "color": "black",
         "family": "Arial, sans-serif",
         "size": 12
        },
        "legend": {
         "title": {
          "text": "Tipo de propiedad (Privada, Pública, Mixta)"
         },
         "tracegroupgap": 0
        },
        "margin": {
         "t": 60
        },
        "showlegend": false,
        "template": {
         "data": {
          "bar": [
           {
            "error_x": {
             "color": "#2a3f5f"
            },
            "error_y": {
             "color": "#2a3f5f"
            },
            "marker": {
             "line": {
              "color": "#E5ECF6",
              "width": 0.5
             },
             "pattern": {
              "fillmode": "overlay",
              "size": 10,
              "solidity": 0.2
             }
            },
            "type": "bar"
           }
          ],
          "barpolar": [
           {
            "marker": {
             "line": {
              "color": "#E5ECF6",
              "width": 0.5
             },
             "pattern": {
              "fillmode": "overlay",
              "size": 10,
              "solidity": 0.2
             }
            },
            "type": "barpolar"
           }
          ],
          "carpet": [
           {
            "aaxis": {
             "endlinecolor": "#2a3f5f",
             "gridcolor": "white",
             "linecolor": "white",
             "minorgridcolor": "white",
             "startlinecolor": "#2a3f5f"
            },
            "baxis": {
             "endlinecolor": "#2a3f5f",
             "gridcolor": "white",
             "linecolor": "white",
             "minorgridcolor": "white",
             "startlinecolor": "#2a3f5f"
            },
            "type": "carpet"
           }
          ],
          "choropleth": [
           {
            "colorbar": {
             "outlinewidth": 0,
             "ticks": ""
            },
            "type": "choropleth"
           }
          ],
          "contour": [
           {
            "colorbar": {
             "outlinewidth": 0,
             "ticks": ""
            },
            "colorscale": [
             [
              0,
              "#0d0887"
             ],
             [
              0.1111111111111111,
              "#46039f"
             ],
             [
              0.2222222222222222,
              "#7201a8"
             ],
             [
              0.3333333333333333,
              "#9c179e"
             ],
             [
              0.4444444444444444,
              "#bd3786"
             ],
             [
              0.5555555555555556,
              "#d8576b"
             ],
             [
              0.6666666666666666,
              "#ed7953"
             ],
             [
              0.7777777777777778,
              "#fb9f3a"
             ],
             [
              0.8888888888888888,
              "#fdca26"
             ],
             [
              1,
              "#f0f921"
             ]
            ],
            "type": "contour"
           }
          ],
          "contourcarpet": [
           {
            "colorbar": {
             "outlinewidth": 0,
             "ticks": ""
            },
            "type": "contourcarpet"
           }
          ],
          "heatmap": [
           {
            "colorbar": {
             "outlinewidth": 0,
             "ticks": ""
            },
            "colorscale": [
             [
              0,
              "#0d0887"
             ],
             [
              0.1111111111111111,
              "#46039f"
             ],
             [
              0.2222222222222222,
              "#7201a8"
             ],
             [
              0.3333333333333333,
              "#9c179e"
             ],
             [
              0.4444444444444444,
              "#bd3786"
             ],
             [
              0.5555555555555556,
              "#d8576b"
             ],
             [
              0.6666666666666666,
              "#ed7953"
             ],
             [
              0.7777777777777778,
              "#fb9f3a"
             ],
             [
              0.8888888888888888,
              "#fdca26"
             ],
             [
              1,
              "#f0f921"
             ]
            ],
            "type": "heatmap"
           }
          ],
          "histogram": [
           {
            "marker": {
             "pattern": {
              "fillmode": "overlay",
              "size": 10,
              "solidity": 0.2
             }
            },
            "type": "histogram"
           }
          ],
          "histogram2d": [
           {
            "colorbar": {
             "outlinewidth": 0,
             "ticks": ""
            },
            "colorscale": [
             [
              0,
              "#0d0887"
             ],
             [
              0.1111111111111111,
              "#46039f"
             ],
             [
              0.2222222222222222,
              "#7201a8"
             ],
             [
              0.3333333333333333,
              "#9c179e"
             ],
             [
              0.4444444444444444,
              "#bd3786"
             ],
             [
              0.5555555555555556,
              "#d8576b"
             ],
             [
              0.6666666666666666,
              "#ed7953"
             ],
             [
              0.7777777777777778,
              "#fb9f3a"
             ],
             [
              0.8888888888888888,
              "#fdca26"
             ],
             [
              1,
              "#f0f921"
             ]
            ],
            "type": "histogram2d"
           }
          ],
          "histogram2dcontour": [
           {
            "colorbar": {
             "outlinewidth": 0,
             "ticks": ""
            },
            "colorscale": [
             [
              0,
              "#0d0887"
             ],
             [
              0.1111111111111111,
              "#46039f"
             ],
             [
              0.2222222222222222,
              "#7201a8"
             ],
             [
              0.3333333333333333,
              "#9c179e"
             ],
             [
              0.4444444444444444,
              "#bd3786"
             ],
             [
              0.5555555555555556,
              "#d8576b"
             ],
             [
              0.6666666666666666,
              "#ed7953"
             ],
             [
              0.7777777777777778,
              "#fb9f3a"
             ],
             [
              0.8888888888888888,
              "#fdca26"
             ],
             [
              1,
              "#f0f921"
             ]
            ],
            "type": "histogram2dcontour"
           }
          ],
          "mesh3d": [
           {
            "colorbar": {
             "outlinewidth": 0,
             "ticks": ""
            },
            "type": "mesh3d"
           }
          ],
          "parcoords": [
           {
            "line": {
             "colorbar": {
              "outlinewidth": 0,
              "ticks": ""
             }
            },
            "type": "parcoords"
           }
          ],
          "pie": [
           {
            "automargin": true,
            "type": "pie"
           }
          ],
          "scatter": [
           {
            "fillpattern": {
             "fillmode": "overlay",
             "size": 10,
             "solidity": 0.2
            },
            "type": "scatter"
           }
          ],
          "scatter3d": [
           {
            "line": {
             "colorbar": {
              "outlinewidth": 0,
              "ticks": ""
             }
            },
            "marker": {
             "colorbar": {
              "outlinewidth": 0,
              "ticks": ""
             }
            },
            "type": "scatter3d"
           }
          ],
          "scattercarpet": [
           {
            "marker": {
             "colorbar": {
              "outlinewidth": 0,
              "ticks": ""
             }
            },
            "type": "scattercarpet"
           }
          ],
          "scattergeo": [
           {
            "marker": {
             "colorbar": {
              "outlinewidth": 0,
              "ticks": ""
             }
            },
            "type": "scattergeo"
           }
          ],
          "scattergl": [
           {
            "marker": {
             "colorbar": {
              "outlinewidth": 0,
              "ticks": ""
             }
            },
            "type": "scattergl"
           }
          ],
          "scattermap": [
           {
            "marker": {
             "colorbar": {
              "outlinewidth": 0,
              "ticks": ""
             }
            },
            "type": "scattermap"
           }
          ],
          "scattermapbox": [
           {
            "marker": {
             "colorbar": {
              "outlinewidth": 0,
              "ticks": ""
             }
            },
            "type": "scattermapbox"
           }
          ],
          "scatterpolar": [
           {
            "marker": {
             "colorbar": {
              "outlinewidth": 0,
              "ticks": ""
             }
            },
            "type": "scatterpolar"
           }
          ],
          "scatterpolargl": [
           {
            "marker": {
             "colorbar": {
              "outlinewidth": 0,
              "ticks": ""
             }
            },
            "type": "scatterpolargl"
           }
          ],
          "scatterternary": [
           {
            "marker": {
             "colorbar": {
              "outlinewidth": 0,
              "ticks": ""
             }
            },
            "type": "scatterternary"
           }
          ],
          "surface": [
           {
            "colorbar": {
             "outlinewidth": 0,
             "ticks": ""
            },
            "colorscale": [
             [
              0,
              "#0d0887"
             ],
             [
              0.1111111111111111,
              "#46039f"
             ],
             [
              0.2222222222222222,
              "#7201a8"
             ],
             [
              0.3333333333333333,
              "#9c179e"
             ],
             [
              0.4444444444444444,
              "#bd3786"
             ],
             [
              0.5555555555555556,
              "#d8576b"
             ],
             [
              0.6666666666666666,
              "#ed7953"
             ],
             [
              0.7777777777777778,
              "#fb9f3a"
             ],
             [
              0.8888888888888888,
              "#fdca26"
             ],
             [
              1,
              "#f0f921"
             ]
            ],
            "type": "surface"
           }
          ],
          "table": [
           {
            "cells": {
             "fill": {
              "color": "#EBF0F8"
             },
             "line": {
              "color": "white"
             }
            },
            "header": {
             "fill": {
              "color": "#C8D4E3"
             },
             "line": {
              "color": "white"
             }
            },
            "type": "table"
           }
          ]
         },
         "layout": {
          "annotationdefaults": {
           "arrowcolor": "#2a3f5f",
           "arrowhead": 0,
           "arrowwidth": 1
          },
          "autotypenumbers": "strict",
          "coloraxis": {
           "colorbar": {
            "outlinewidth": 0,
            "ticks": ""
           }
          },
          "colorscale": {
           "diverging": [
            [
             0,
             "#8e0152"
            ],
            [
             0.1,
             "#c51b7d"
            ],
            [
             0.2,
             "#de77ae"
            ],
            [
             0.3,
             "#f1b6da"
            ],
            [
             0.4,
             "#fde0ef"
            ],
            [
             0.5,
             "#f7f7f7"
            ],
            [
             0.6,
             "#e6f5d0"
            ],
            [
             0.7,
             "#b8e186"
            ],
            [
             0.8,
             "#7fbc41"
            ],
            [
             0.9,
             "#4d9221"
            ],
            [
             1,
             "#276419"
            ]
           ],
           "sequential": [
            [
             0,
             "#0d0887"
            ],
            [
             0.1111111111111111,
             "#46039f"
            ],
            [
             0.2222222222222222,
             "#7201a8"
            ],
            [
             0.3333333333333333,
             "#9c179e"
            ],
            [
             0.4444444444444444,
             "#bd3786"
            ],
            [
             0.5555555555555556,
             "#d8576b"
            ],
            [
             0.6666666666666666,
             "#ed7953"
            ],
            [
             0.7777777777777778,
             "#fb9f3a"
            ],
            [
             0.8888888888888888,
             "#fdca26"
            ],
            [
             1,
             "#f0f921"
            ]
           ],
           "sequentialminus": [
            [
             0,
             "#0d0887"
            ],
            [
             0.1111111111111111,
             "#46039f"
            ],
            [
             0.2222222222222222,
             "#7201a8"
            ],
            [
             0.3333333333333333,
             "#9c179e"
            ],
            [
             0.4444444444444444,
             "#bd3786"
            ],
            [
             0.5555555555555556,
             "#d8576b"
            ],
            [
             0.6666666666666666,
             "#ed7953"
            ],
            [
             0.7777777777777778,
             "#fb9f3a"
            ],
            [
             0.8888888888888888,
             "#fdca26"
            ],
            [
             1,
             "#f0f921"
            ]
           ]
          },
          "colorway": [
           "#636efa",
           "#EF553B",
           "#00cc96",
           "#ab63fa",
           "#FFA15A",
           "#19d3f3",
           "#FF6692",
           "#B6E880",
           "#FF97FF",
           "#FECB52"
          ],
          "font": {
           "color": "#2a3f5f"
          },
          "geo": {
           "bgcolor": "white",
           "lakecolor": "white",
           "landcolor": "#E5ECF6",
           "showlakes": true,
           "showland": true,
           "subunitcolor": "white"
          },
          "hoverlabel": {
           "align": "left"
          },
          "hovermode": "closest",
          "mapbox": {
           "style": "light"
          },
          "paper_bgcolor": "white",
          "plot_bgcolor": "#E5ECF6",
          "polar": {
           "angularaxis": {
            "gridcolor": "white",
            "linecolor": "white",
            "ticks": ""
           },
           "bgcolor": "#E5ECF6",
           "radialaxis": {
            "gridcolor": "white",
            "linecolor": "white",
            "ticks": ""
           }
          },
          "scene": {
           "xaxis": {
            "backgroundcolor": "#E5ECF6",
            "gridcolor": "white",
            "gridwidth": 2,
            "linecolor": "white",
            "showbackground": true,
            "ticks": "",
            "zerolinecolor": "white"
           },
           "yaxis": {
            "backgroundcolor": "#E5ECF6",
            "gridcolor": "white",
            "gridwidth": 2,
            "linecolor": "white",
            "showbackground": true,
            "ticks": "",
            "zerolinecolor": "white"
           },
           "zaxis": {
            "backgroundcolor": "#E5ECF6",
            "gridcolor": "white",
            "gridwidth": 2,
            "linecolor": "white",
            "showbackground": true,
            "ticks": "",
            "zerolinecolor": "white"
           }
          },
          "shapedefaults": {
           "line": {
            "color": "#2a3f5f"
           }
          },
          "ternary": {
           "aaxis": {
            "gridcolor": "white",
            "linecolor": "white",
            "ticks": ""
           },
           "baxis": {
            "gridcolor": "white",
            "linecolor": "white",
            "ticks": ""
           },
           "bgcolor": "#E5ECF6",
           "caxis": {
            "gridcolor": "white",
            "linecolor": "white",
            "ticks": ""
           }
          },
          "title": {
           "x": 0.05
          },
          "xaxis": {
           "automargin": true,
           "gridcolor": "white",
           "linecolor": "white",
           "ticks": "",
           "title": {
            "standoff": 15
           },
           "zerolinecolor": "white",
           "zerolinewidth": 2
          },
          "yaxis": {
           "automargin": true,
           "gridcolor": "white",
           "linecolor": "white",
           "ticks": "",
           "title": {
            "standoff": 15
           },
           "zerolinecolor": "white",
           "zerolinewidth": 2
          }
         }
        },
        "title": {
         "text": "<b>Comparativa de Desempeño en Sostenibilidad por Tipo de Propiedad</b>",
         "x": 0.5
        },
        "xaxis": {
         "anchor": "y",
         "categoryarray": [
          "Privada",
          "Mixta",
          "Pública"
         ],
         "categoryorder": "array",
         "domain": [
          0,
          1
         ],
         "title": {
          "text": "Tipo de Propiedad de la Empresa"
         }
        },
        "yaxis": {
         "anchor": "x",
         "domain": [
          0,
          1
         ],
         "title": {
          "text": "Puntaje Total de Sostenibilidad"
         }
        }
       }
      }
     },
     "metadata": {},
     "output_type": "display_data"
    }
   ],
   "source": [
    "property_type_data = raw_data[['Razón social', 'Tipo de propiedad (Privada, Pública, Mixta)']].drop_duplicates()\n",
    "boxplot_data = pd.merge(company_agg_data, property_type_data, on='Razón social')\n",
    "boxplot_data.dropna(subset=['Tipo de propiedad (Privada, Pública, Mixta)'], inplace=True)\n",
    "fig_box_plot = px.box(\n",
    "    boxplot_data,\n",
    "    x='Tipo de propiedad (Privada, Pública, Mixta)',\n",
    "    y='Puntaje_Total_Sostenibilidad',\n",
    "    color='Tipo de propiedad (Privada, Pública, Mixta)',\n",
    "    notched=True,\n",
    "    points=\"all\"\n",
    ")\n",
    "fig_box_plot.update_layout(\n",
    "    title='<b>Comparativa de Desempeño en Sostenibilidad por Tipo de Propiedad</b>',\n",
    "    title_x=0.5,\n",
    "    xaxis_title='Tipo de Propiedad de la Empresa',\n",
    "    yaxis_title='Puntaje Total de Sostenibilidad',\n",
    "    font=dict(family=\"Arial, sans-serif\", size=12, color=\"black\"),\n",
    "    showlegend=False\n",
    ")\n",
    "fig_box_plot.show()\n",
    "save_chart_as_html(fig_box_plot, '11_boxplot_performance_by_property_type.html')\n",
    "# Save as image\n",
    "fig_box_plot.write_image(\"img/11_boxplot_performance_by_property_type.png\", width=1000, height=800, scale=2)"
   ]
  },
  {
   "cell_type": "markdown",
   "metadata": {},
   "source": [
    "## 12. Gráfico de Densidad por Atributo: Multinacional vs. Nacional"
   ]
  },
  {
   "cell_type": "code",
   "execution_count": 27,
   "metadata": {},
   "outputs": [
    {
     "data": {
      "application/vnd.plotly.v1+json": {
       "config": {
        "plotlyServerURL": "https://plot.ly"
       },
       "data": [
        {
         "fill": "tozeroy",
         "line": {
          "color": "#1f77b4"
         },
         "mode": "lines",
         "name": "Multinacional",
         "type": "scatter",
         "x": {
          "bdata": "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",
          "dtype": "f8"
         },
         "y": {
          "bdata": "OZXWb3ctSz9apjfrKzhLP1GLkAN6QUs/s0jFM2JJSz8f3tZD5U9LP1/gC0kEVUs/+iYDpsBYSz+kfLAKHFtLP7NLQ3QYXEs/LUf3LLhbSz+EGs/L/VlLP+wxOTTsVks/S7aelYZSSz/S39xq0ExLP9fKqHnNRUs/twLe0YE9Sz/g/rfM8TNLPyPW9gsiKUs/+XPveBcdSz/Xo4dD1w9LP5VNHuFmAUs/7EVgC8zxSj+HHAq/DOFKPyFZlzovz0o/vp7f/Dm8Sj/cM6LDM6hKP3VzAIojk0o/2bHnhhB9Sj9fJWsrAmZKP7FoDiEATko/4TEBSBI1Sj+b3Uy1QBtKP3Vz9LCTAEo/hcsHtBPlST9JgqpmychJP81qD569q0k/3TJpWvmNST/U79DEhW9JPwJNIy1sUEk/YRfVB7YwST/Z47/rbBBJP12P54+a70g/Flk5yUjOSD/fV0WIgaxIP0kN89ZOikg/29cx1rpnSD8hB6a7z0RIPxFTU8+XIUg/tndFaR3+Rz9itTfvatpHP8LzO9KKtkc/6URijIeSRz+Wg2Gea25HPw3FQY1BSkc/FFUJ4BMmRz9n72wd7QFHPxjng8nX3UY/keiAY965Rj8hAHBjC5ZGPzmK+jdpckY/H68xRAJPRj94B2Dd4CtGPygC40gPCUY/GqAMupfmRT+3FA5QhMRFP+XV6xPfokU/SKB79rGBRT+N72zOBmFFP3hlXFbnQEU/8JPyKl0hRT+8mQ7JcQJFP7b6/Isu5EQ/dBe7q5zGRD+VoUc7xalEP51kACexjUQ/y7QNM2lyRD+Nz9v59VdEPwZzoupfPkQ/TOz6R68lRD9k1YQm7A1EP6i2mWse90M/0bgPzE3hQz/+jgvLgcxDPzC64bjBuEM/8UEHshSmQz+q9xGegZRDPzRVyC4PhEM/uwBB38N0Qz84+xHzpWZDP+t4j3W7WUM/MF4aOQpOQz/2VX7Wl0NDP4VxX6xpOkM/WD233oQyQz/7MGFW7itDPxRctsCqJkM/2S04j74iQz8cMEr3LSBDP+SK+vH8HkM/iiHZOy8fQz+uFt1UyCBDP5iAWIDLI0M/KBT6xDsoQz9fidzsGy5DPzl5o4VuNUM/2HGl4DU+Qz9W+yITdEhDP7FEivYqVEM/aS7HKFxhQz/VZZ8MCXBDP1JCGsoygEM/2hP0TtqRQz9dkBxPAKVDP3YMQEWluUM/Kipbc8nPQz+Rp1jjbOdDP0T2uGePAEQ/iUNDnDAbRD+amL/mTzdEP/W5uXfsVEQ/JmxMSwV0RD9dxPQpmZREPxkrbammtkQ/JbePLSzaRD9ohz/pJ/9EP2TCWN+XJUU/huKm43lNRT869+Cby3ZFP/iCq4CKoUU/rZ+f3rPNRT9rE1fXRPtFP3IAfWI6KkY/QNziTpFaRj9OW5lDRoxGPwD/DMFVv0Y/0PUlIrzzRj8//mqddSlHP4z+JkZ+YEc/5QSRDdKYRz/EZPbDbNJHPxOo5hlKDUg/yQthoWVJSD+JQQPPuoZIP0ExOftExUg/GHdtY/8EST8gXDor5UVJPx4Jm13xh0k/9bQc7h7LST9ikQ+6aA9KP5k6t4nJVEo/rW96ETybSj9E2xHzuuJKP+O1tb5AK0s/PwxK9Md0Sz/mdYkES79LP1oJLlLECkw/k10YMy5XTD8/aHTxgqRMP4kL3My88kw/BSZ3+9VBTT+c+RiryJFNP/6+WgKP4k0/7TyzISM0Tj+BO4skf4ZOP9qsTiKd2U4/4WV6L3ctTz+mQqZeB4JPP3GTi8FH108/89cDNZkWUD+dR4214EFQP6ai8Gx3bVA/giJGZ1qZUD/ypKiyhsVQP3JlrF/58VA/9WzTga8eUT8Uqv8vpktRP/aj4oTaeFE/2Lpqn0mmUT9P6S2j8NNRP8D50bjMAVI/GCRyDtsvUj/FBwLYGF5SP7j2rU+DjFI/DoY4the7Uj/MWVVT0+lSPzIhAXazGFM/W7nWdLVHUz+fbGGu1nZTP/VEbIkUplM/Y2hOdWzVUz+bdjTq2wRUP1rfZmlgNFQ/SymNffdjVD/xIe66npNUP/PurL9Tw1Q/5fkCNBTzVD8PsHbK3SJVP94PD0CuUlU/Q/6DXIOCVT+qXmvyWrJVP6roYt8y4lU/I7c2DAkSVj+njARt20FWP8bJWwGocVY/wxJa1GyhVj+/ocT8J9FWPwJEHp3XAFc/DgG643kwVz/nasoKDWBXP4mXbViPj1c/ZsS1Hv++Vz8Tpa67Wu5XP11fX5mgHVg/XjfJLc9MWD8g7+L65HtYP+fdkI7gqlg/PcSZgsDZWD97Yph8gwhZPyXY6S0oN1k/rtOYU61lWT+mmkW2EZRZP2bzCipUwlk/GfpfjnPwWT+E6/bNbh5aP6fxmN5ETFo/Kv7+wPR5Wj8LwKeAfadaP+XCqjPe1Fo/VMaI+hUCWz9dXvn/Iy9bP2LstXgHXFs/qANCo7+IWz+3SrHHS7VbP/ztajer4Vs/SrfqTN0NXD+s339r4TlcPw+xCf+2ZVw/6g6ye12RXD/5/KVd1LxcP2o8zCgb6Fw/hBh6aDETXT9ffCavFj5dPxhsG5bKaF0/aPwlvUyTXT9V5ETKnL1dPzDFVWm6510/h0XBS6URXj99HCYoXTteP/QqA7rhZF4/B8FgwTKOXj8NLnkCULdeP0a6YEU54F4/CSmtVe4IXz8o4xwCbzFfP9roPRy7WV8/+qoUeNKBXz9068LrtKlfP7HELk9i0V8/mPepe9r4Xz8M0MylDhBgP/w3D02VI2A/XcdeIQE3YD8yH4UQUkpgP9oxKAiIXWA/Fgig9aJwYD8hFs3FooNgP5cv72SHlmA/sSh9vlCpYD80M/28/rtgP8kE3kmRzmA/oNRQTQjhYD9EPSSuY/NgP80PoFGjBWE/fCRiG8cXYT8BNTztzilhP8jLEqe6O2E/O1O9JopNYT+3T+dHPV9hP+LN8uPTcGE//A7c0U2CYT8HfB7mqpNhP9fnmvLqpGE/7Sd/xg22YT8dCy8uE8dhP0W0LvP612E/Kl8O3MToYT89lFescPlhPzrQeyT+CWI/7KLEAW0aYj/ISEX+vCpiP3TBzdDtOmI/PWXfLP9KYj90+qLC8FpiP4hL4D7CamI/Ej33SnN6Yj9/Y9qMA4piP4gWC6dymWI/TwCXOMCoYj9QJRfd67diP8thsCz1xmI/UFgVvNvVYj8OzYkcn+RiP0po59s+82I/YNqjhLoBYz++WtidERBjP9l6SqtDHmM/3UV2LVAsYz/UpJmhNjpjP+b+wIH2R2M/+AzVRI9VYz8D16leAGNjP7XRDkBJcGM/ABLgVml9Yz9ijBgOYIpjP+RU5c0sl2M/5dS5+86jYz9h62T6RbBjPw3sJiqRvGM/pnHI6K/IYz9697GRodRjPxQuBH5l4GM/Af+wBPvrYz9TM5V6YfdjP7GwkjKYAmQ/mkCrfZ4NZD+f1RurcxhkP1ZCeAgXI2Q/BVbH4YctZD+TUp+BxTdkP4awQjHPQWQ/fiS9OKRLZD+M2wDfQ1VkPyjiA2qtXmQ/jqvdHuBnZD8AruRB23BkP+cJzBaeeWQ/ZzHB4CeCZD+qhonid4pkPz7nn16NkmQ/txtSl2eaZD95It7OBaJkP7pNj0dnqWQ/wyzbQ4uwZD/UOH4GcbdkPxE/mNIXvmQ/pIDI637EZD9Sg0mWpcpkP86MDBeL0GQ/uMPUsy7WZD8P8lGzj9tkP4/kOl2t4GQ/22Nn+oblZD8WxOnUG+pkP6gIKDhr7mQ/xZn0cHTyZD+YiqbNNvZkP5ZuMZ6x+WQ/f708NOT8ZD8Vxjrjzf9kP5QvfwBuAmU/7gpV48MEZT+idBTlzgZlP0TJN2GOCGU/Qm5wtQEKZT+JMbtBKAtlP9VCdGgBDGU/aslqjowMZT8XGvQayQxlP+CQ/ne2DGU/khIkElQMZT8kOrxYoQtlP+027r2dCmU/vF/CtkgJZT9cgDO7oQdlP+LlP0aoBWU/ny/61VsDZT9o6ZnruwBlP930iwvI/WQ/CseCvX/6ZD/Pf4aM4vZkP3DgBAfw8mQ/zSbhvqfuZD9s0oNJCepkP/FY6j8U5WQ/ys62PsjfZD9CiT/mJNpkPwO/ntop1GQ/WSvCw9bNZD8KuXpNK8dkP+A4jCcnwGQ/wye9Bcq4ZD9hiOafE7FkP5fTA7IDqWQ/0wJD/JmgZD87txRD1pdkP9l/PE+4jmQ/QEHh7T+FZD/Dv53wbHtkPxROkS0/cWQ/uaBwf7ZmZD8bx5bF0ltkP+tJFuSTUGQ/iG7Kw/lEZD+WnmhSBDlkP1rykYKzLGQ/xNvkSwcgZD+K8A6r/xJkP7TP3qGcBWQ/MSBWN973Yz8spLt3xOljPzhdrXRP22M/o7wyRX/MYz8F284FVL1jPxSxktjNrWM/WUwv5eydYz+y+AdZsY1jP2pYRGcbfWM/H2PiSCtsYz89RMg84VpjP5YQ1oc9SWM/Gkv3dEA3Yz+ALzRV6iRjPz66wn87EmM/5mMXUjT/Yj+YhvUv1etiP19jf4Me2GI/SL1FvRDEYj+s/1ZUrK9iPyvlTcbxmmI/X5Rfl+GFYj9LJ2lSfHBiP3CS/IjCWmI/RuBs07REYj/2tdnQUy5iP60VOiegF2I/cVNmg5oAYj8BMSGZQ+lhP5UVICOc0WE/AVYS46S5YT9NgqehXqFhP7WtlC7KiGE/K6aYYOhvYT+1EH8VulZhPyxgIjJAPWE/OpxsonsjYT9/7lZZbQlhP3fs51AW72A/c5QwinfUYD8e9UcNkrlgP4t2RelmnmA/4rw5NPeCYD/XHCYLRGdgP62a8pFOS2A/sGxi8xcvYD84+wZhoRJgPz6wYibY618/ylDEkfKxXz8K92+PlHdfPxEYuLfAPF8/L8zar3kBXz8F4tQpwsVeP4uyMeSciV4/hbPXqQxNXj+AxdFRFBBeP0A9Fb+20l0/HqlE4PaUXT8LVG+v11ZdP9WJzTFcGF0/yaF5d4fZXD/h1CWbXJpcP93nzsHeWlw/+bFrGhEbXD9Dipnd9tpbP8CnRU2Tmls/AYFTtOlZWz+1OUBm/RhbP6suw77R11o/9q9rIWqWWj+F/Tv5yVRaPzKYQbj0Elo/vv0q1+3QWT/95NrUuI5ZP2sS+TVZTFk/ad2AhNIJWT9JgE1PKMdYP/9NpClehFg/N+m8qndBWD/fmkdteP5XP6Pk8Q5ku1c/FnDpLz54Vz/4eF1yCjVXP0zU/nnM8VY/TrV+64euVj+OUgxsQGtWP5eO0aD5J1Y/38ZuLrfkVT/77XW4fKFVPxoV5eBNXlU/TIqgRy4bVT97sOyJIdhUPw==",
          "dtype": "f8"
         }
        },
        {
         "fill": "tozeroy",
         "line": {
          "color": "#ff7f0e"
         },
         "mode": "lines",
         "name": "Nacional",
         "type": "scatter",
         "x": {
          "bdata": "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",
          "dtype": "f8"
         },
         "y": {
          "bdata": "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",
          "dtype": "f8"
         }
        }
       ],
       "layout": {
        "font": {
         "color": "black",
         "family": "Arial, sans-serif",
         "size": 12
        },
        "legend": {
         "title": {
          "text": "Tipo de Empresa"
         }
        },
        "template": {
         "data": {
          "bar": [
           {
            "error_x": {
             "color": "#2a3f5f"
            },
            "error_y": {
             "color": "#2a3f5f"
            },
            "marker": {
             "line": {
              "color": "#E5ECF6",
              "width": 0.5
             },
             "pattern": {
              "fillmode": "overlay",
              "size": 10,
              "solidity": 0.2
             }
            },
            "type": "bar"
           }
          ],
          "barpolar": [
           {
            "marker": {
             "line": {
              "color": "#E5ECF6",
              "width": 0.5
             },
             "pattern": {
              "fillmode": "overlay",
              "size": 10,
              "solidity": 0.2
             }
            },
            "type": "barpolar"
           }
          ],
          "carpet": [
           {
            "aaxis": {
             "endlinecolor": "#2a3f5f",
             "gridcolor": "white",
             "linecolor": "white",
             "minorgridcolor": "white",
             "startlinecolor": "#2a3f5f"
            },
            "baxis": {
             "endlinecolor": "#2a3f5f",
             "gridcolor": "white",
             "linecolor": "white",
             "minorgridcolor": "white",
             "startlinecolor": "#2a3f5f"
            },
            "type": "carpet"
           }
          ],
          "choropleth": [
           {
            "colorbar": {
             "outlinewidth": 0,
             "ticks": ""
            },
            "type": "choropleth"
           }
          ],
          "contour": [
           {
            "colorbar": {
             "outlinewidth": 0,
             "ticks": ""
            },
            "colorscale": [
             [
              0,
              "#0d0887"
             ],
             [
              0.1111111111111111,
              "#46039f"
             ],
             [
              0.2222222222222222,
              "#7201a8"
             ],
             [
              0.3333333333333333,
              "#9c179e"
             ],
             [
              0.4444444444444444,
              "#bd3786"
             ],
             [
              0.5555555555555556,
              "#d8576b"
             ],
             [
              0.6666666666666666,
              "#ed7953"
             ],
             [
              0.7777777777777778,
              "#fb9f3a"
             ],
             [
              0.8888888888888888,
              "#fdca26"
             ],
             [
              1,
              "#f0f921"
             ]
            ],
            "type": "contour"
           }
          ],
          "contourcarpet": [
           {
            "colorbar": {
             "outlinewidth": 0,
             "ticks": ""
            },
            "type": "contourcarpet"
           }
          ],
          "heatmap": [
           {
            "colorbar": {
             "outlinewidth": 0,
             "ticks": ""
            },
            "colorscale": [
             [
              0,
              "#0d0887"
             ],
             [
              0.1111111111111111,
              "#46039f"
             ],
             [
              0.2222222222222222,
              "#7201a8"
             ],
             [
              0.3333333333333333,
              "#9c179e"
             ],
             [
              0.4444444444444444,
              "#bd3786"
             ],
             [
              0.5555555555555556,
              "#d8576b"
             ],
             [
              0.6666666666666666,
              "#ed7953"
             ],
             [
              0.7777777777777778,
              "#fb9f3a"
             ],
             [
              0.8888888888888888,
              "#fdca26"
             ],
             [
              1,
              "#f0f921"
             ]
            ],
            "type": "heatmap"
           }
          ],
          "histogram": [
           {
            "marker": {
             "pattern": {
              "fillmode": "overlay",
              "size": 10,
              "solidity": 0.2
             }
            },
            "type": "histogram"
           }
          ],
          "histogram2d": [
           {
            "colorbar": {
             "outlinewidth": 0,
             "ticks": ""
            },
            "colorscale": [
             [
              0,
              "#0d0887"
             ],
             [
              0.1111111111111111,
              "#46039f"
             ],
             [
              0.2222222222222222,
              "#7201a8"
             ],
             [
              0.3333333333333333,
              "#9c179e"
             ],
             [
              0.4444444444444444,
              "#bd3786"
             ],
             [
              0.5555555555555556,
              "#d8576b"
             ],
             [
              0.6666666666666666,
              "#ed7953"
             ],
             [
              0.7777777777777778,
              "#fb9f3a"
             ],
             [
              0.8888888888888888,
              "#fdca26"
             ],
             [
              1,
              "#f0f921"
             ]
            ],
            "type": "histogram2d"
           }
          ],
          "histogram2dcontour": [
           {
            "colorbar": {
             "outlinewidth": 0,
             "ticks": ""
            },
            "colorscale": [
             [
              0,
              "#0d0887"
             ],
             [
              0.1111111111111111,
              "#46039f"
             ],
             [
              0.2222222222222222,
              "#7201a8"
             ],
             [
              0.3333333333333333,
              "#9c179e"
             ],
             [
              0.4444444444444444,
              "#bd3786"
             ],
             [
              0.5555555555555556,
              "#d8576b"
             ],
             [
              0.6666666666666666,
              "#ed7953"
             ],
             [
              0.7777777777777778,
              "#fb9f3a"
             ],
             [
              0.8888888888888888,
              "#fdca26"
             ],
             [
              1,
              "#f0f921"
             ]
            ],
            "type": "histogram2dcontour"
           }
          ],
          "mesh3d": [
           {
            "colorbar": {
             "outlinewidth": 0,
             "ticks": ""
            },
            "type": "mesh3d"
           }
          ],
          "parcoords": [
           {
            "line": {
             "colorbar": {
              "outlinewidth": 0,
              "ticks": ""
             }
            },
            "type": "parcoords"
           }
          ],
          "pie": [
           {
            "automargin": true,
            "type": "pie"
           }
          ],
          "scatter": [
           {
            "fillpattern": {
             "fillmode": "overlay",
             "size": 10,
             "solidity": 0.2
            },
            "type": "scatter"
           }
          ],
          "scatter3d": [
           {
            "line": {
             "colorbar": {
              "outlinewidth": 0,
              "ticks": ""
             }
            },
            "marker": {
             "colorbar": {
              "outlinewidth": 0,
              "ticks": ""
             }
            },
            "type": "scatter3d"
           }
          ],
          "scattercarpet": [
           {
            "marker": {
             "colorbar": {
              "outlinewidth": 0,
              "ticks": ""
             }
            },
            "type": "scattercarpet"
           }
          ],
          "scattergeo": [
           {
            "marker": {
             "colorbar": {
              "outlinewidth": 0,
              "ticks": ""
             }
            },
            "type": "scattergeo"
           }
          ],
          "scattergl": [
           {
            "marker": {
             "colorbar": {
              "outlinewidth": 0,
              "ticks": ""
             }
            },
            "type": "scattergl"
           }
          ],
          "scattermap": [
           {
            "marker": {
             "colorbar": {
              "outlinewidth": 0,
              "ticks": ""
             }
            },
            "type": "scattermap"
           }
          ],
          "scattermapbox": [
           {
            "marker": {
             "colorbar": {
              "outlinewidth": 0,
              "ticks": ""
             }
            },
            "type": "scattermapbox"
           }
          ],
          "scatterpolar": [
           {
            "marker": {
             "colorbar": {
              "outlinewidth": 0,
              "ticks": ""
             }
            },
            "type": "scatterpolar"
           }
          ],
          "scatterpolargl": [
           {
            "marker": {
             "colorbar": {
              "outlinewidth": 0,
              "ticks": ""
             }
            },
            "type": "scatterpolargl"
           }
          ],
          "scatterternary": [
           {
            "marker": {
             "colorbar": {
              "outlinewidth": 0,
              "ticks": ""
             }
            },
            "type": "scatterternary"
           }
          ],
          "surface": [
           {
            "colorbar": {
             "outlinewidth": 0,
             "ticks": ""
            },
            "colorscale": [
             [
              0,
              "#0d0887"
             ],
             [
              0.1111111111111111,
              "#46039f"
             ],
             [
              0.2222222222222222,
              "#7201a8"
             ],
             [
              0.3333333333333333,
              "#9c179e"
             ],
             [
              0.4444444444444444,
              "#bd3786"
             ],
             [
              0.5555555555555556,
              "#d8576b"
             ],
             [
              0.6666666666666666,
              "#ed7953"
             ],
             [
              0.7777777777777778,
              "#fb9f3a"
             ],
             [
              0.8888888888888888,
              "#fdca26"
             ],
             [
              1,
              "#f0f921"
             ]
            ],
            "type": "surface"
           }
          ],
          "table": [
           {
            "cells": {
             "fill": {
              "color": "#EBF0F8"
             },
             "line": {
              "color": "white"
             }
            },
            "header": {
             "fill": {
              "color": "#C8D4E3"
             },
             "line": {
              "color": "white"
             }
            },
            "type": "table"
           }
          ]
         },
         "layout": {
          "annotationdefaults": {
           "arrowcolor": "#2a3f5f",
           "arrowhead": 0,
           "arrowwidth": 1
          },
          "autotypenumbers": "strict",
          "coloraxis": {
           "colorbar": {
            "outlinewidth": 0,
            "ticks": ""
           }
          },
          "colorscale": {
           "diverging": [
            [
             0,
             "#8e0152"
            ],
            [
             0.1,
             "#c51b7d"
            ],
            [
             0.2,
             "#de77ae"
            ],
            [
             0.3,
             "#f1b6da"
            ],
            [
             0.4,
             "#fde0ef"
            ],
            [
             0.5,
             "#f7f7f7"
            ],
            [
             0.6,
             "#e6f5d0"
            ],
            [
             0.7,
             "#b8e186"
            ],
            [
             0.8,
             "#7fbc41"
            ],
            [
             0.9,
             "#4d9221"
            ],
            [
             1,
             "#276419"
            ]
           ],
           "sequential": [
            [
             0,
             "#0d0887"
            ],
            [
             0.1111111111111111,
             "#46039f"
            ],
            [
             0.2222222222222222,
             "#7201a8"
            ],
            [
             0.3333333333333333,
             "#9c179e"
            ],
            [
             0.4444444444444444,
             "#bd3786"
            ],
            [
             0.5555555555555556,
             "#d8576b"
            ],
            [
             0.6666666666666666,
             "#ed7953"
            ],
            [
             0.7777777777777778,
             "#fb9f3a"
            ],
            [
             0.8888888888888888,
             "#fdca26"
            ],
            [
             1,
             "#f0f921"
            ]
           ],
           "sequentialminus": [
            [
             0,
             "#0d0887"
            ],
            [
             0.1111111111111111,
             "#46039f"
            ],
            [
             0.2222222222222222,
             "#7201a8"
            ],
            [
             0.3333333333333333,
             "#9c179e"
            ],
            [
             0.4444444444444444,
             "#bd3786"
            ],
            [
             0.5555555555555556,
             "#d8576b"
            ],
            [
             0.6666666666666666,
             "#ed7953"
            ],
            [
             0.7777777777777778,
             "#fb9f3a"
            ],
            [
             0.8888888888888888,
             "#fdca26"
            ],
            [
             1,
             "#f0f921"
            ]
           ]
          },
          "colorway": [
           "#636efa",
           "#EF553B",
           "#00cc96",
           "#ab63fa",
           "#FFA15A",
           "#19d3f3",
           "#FF6692",
           "#B6E880",
           "#FF97FF",
           "#FECB52"
          ],
          "font": {
           "color": "#2a3f5f"
          },
          "geo": {
           "bgcolor": "white",
           "lakecolor": "white",
           "landcolor": "#E5ECF6",
           "showlakes": true,
           "showland": true,
           "subunitcolor": "white"
          },
          "hoverlabel": {
           "align": "left"
          },
          "hovermode": "closest",
          "mapbox": {
           "style": "light"
          },
          "paper_bgcolor": "white",
          "plot_bgcolor": "#E5ECF6",
          "polar": {
           "angularaxis": {
            "gridcolor": "white",
            "linecolor": "white",
            "ticks": ""
           },
           "bgcolor": "#E5ECF6",
           "radialaxis": {
            "gridcolor": "white",
            "linecolor": "white",
            "ticks": ""
           }
          },
          "scene": {
           "xaxis": {
            "backgroundcolor": "#E5ECF6",
            "gridcolor": "white",
            "gridwidth": 2,
            "linecolor": "white",
            "showbackground": true,
            "ticks": "",
            "zerolinecolor": "white"
           },
           "yaxis": {
            "backgroundcolor": "#E5ECF6",
            "gridcolor": "white",
            "gridwidth": 2,
            "linecolor": "white",
            "showbackground": true,
            "ticks": "",
            "zerolinecolor": "white"
           },
           "zaxis": {
            "backgroundcolor": "#E5ECF6",
            "gridcolor": "white",
            "gridwidth": 2,
            "linecolor": "white",
            "showbackground": true,
            "ticks": "",
            "zerolinecolor": "white"
           }
          },
          "shapedefaults": {
           "line": {
            "color": "#2a3f5f"
           }
          },
          "ternary": {
           "aaxis": {
            "gridcolor": "white",
            "linecolor": "white",
            "ticks": ""
           },
           "baxis": {
            "gridcolor": "white",
            "linecolor": "white",
            "ticks": ""
           },
           "bgcolor": "#E5ECF6",
           "caxis": {
            "gridcolor": "white",
            "linecolor": "white",
            "ticks": ""
           }
          },
          "title": {
           "x": 0.05
          },
          "xaxis": {
           "automargin": true,
           "gridcolor": "white",
           "linecolor": "white",
           "ticks": "",
           "title": {
            "standoff": 15
           },
           "zerolinecolor": "white",
           "zerolinewidth": 2
          },
          "yaxis": {
           "automargin": true,
           "gridcolor": "white",
           "linecolor": "white",
           "ticks": "",
           "title": {
            "standoff": 15
           },
           "zerolinecolor": "white",
           "zerolinewidth": 2
          }
         }
        },
        "title": {
         "text": "<b>Distribución del Desempeño: Multinacional vs. Nacional</b>",
         "x": 0.5
        },
        "xaxis": {
         "title": {
          "text": "Puntaje Total de Sostenibilidad"
         }
        },
        "yaxis": {
         "title": {
          "text": "Densidad"
         }
        }
       }
      }
     },
     "metadata": {},
     "output_type": "display_data"
    }
   ],
   "source": [
    "# 1. Preparación de Datos\n",
    "multinational_info = raw_data[['Razón social', '¿Multinacional? Si/No']].drop_duplicates()\n",
    "density_data = pd.merge(company_agg_data, multinational_info, on='Razón social')\n",
    "density_data.dropna(subset=['¿Multinacional? Si/No'], inplace=True)\n",
    "\n",
    "# Definir grupos y colores\n",
    "groups = {\n",
    "    'Multinacional': 'Si',\n",
    "    'Nacional': 'No'\n",
    "}\n",
    "colors = ['#1f77b4', '#ff7f0e']\n",
    "\n",
    "# 2. Creación del Gráfico de Densidad con Scipy y Plotly GO\n",
    "fig_density = go.Figure()\n",
    "\n",
    "for (group_name, group_id), color in zip(groups.items(), colors):\n",
    "    # Filtrar datos para el grupo actual\n",
    "    current_data = density_data[density_data['¿Multinacional? Si/No'] == group_id]['Puntaje_Total_Sostenibilidad']\n",
    "    \n",
    "    if len(current_data) > 1:\n",
    "        # Calcular KDE usando scipy\n",
    "        kde = gaussian_kde(current_data)\n",
    "        \n",
    "        # Crear un rango de valores X para la curva\n",
    "        x_range = np.linspace(current_data.min(), current_data.max(), 500)\n",
    "        \n",
    "        # Calcular los valores Y de la curva de densidad\n",
    "        y_values = kde(x_range)\n",
    "        \n",
    "        # Añadir la curva al gráfico\n",
    "        fig_density.add_trace(go.Scatter(\n",
    "            x=x_range, \n",
    "            y=y_values, \n",
    "            mode='lines', \n",
    "            name=group_name,\n",
    "            line=dict(color=color),\n",
    "            fill='tozeroy'\n",
    "        ))\n",
    "\n",
    "# 3. Personalización y Estilo del Gráfico\n",
    "fig_density.update_layout(\n",
    "    title_text='<b>Distribución del Desempeño: Multinacional vs. Nacional</b>',\n",
    "    title_x=0.5,\n",
    "    xaxis_title='Puntaje Total de Sostenibilidad',\n",
    "    yaxis_title='Densidad',\n",
    "    font=dict(family=\"Arial, sans-serif\", size=12, color=\"black\"),\n",
    "    legend_title_text='Tipo de Empresa'\n",
    ")\n",
    "\n",
    "fig_density.show()\n",
    "\n",
    "save_chart_as_html(fig_density, '12_density_plot_multinational_vs_national.html')\n",
    "# Save as image\n",
    "fig_density.write_image(\"img/12_density_plot_multinational_vs_national.png\", width=1000, height=800, scale=2)\n"
   ]
  },
  {
   "cell_type": "markdown",
   "metadata": {},
   "source": [
    "## 12.1. Gráfico de Densidad por Atributo: Familiar vs. No Familiar"
   ]
  },
  {
   "cell_type": "code",
   "execution_count": 28,
   "metadata": {},
   "outputs": [
    {
     "data": {
      "application/vnd.plotly.v1+json": {
       "config": {
        "plotlyServerURL": "https://plot.ly"
       },
       "data": [
        {
         "fill": "tozeroy",
         "line": {
          "color": "#1f77b4"
         },
         "mode": "lines",
         "name": "Familiar",
         "type": "scatter",
         "x": {
          "bdata": "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",
          "dtype": "f8"
         },
         "y": {
          "bdata": "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",
          "dtype": "f8"
         }
        },
        {
         "fill": "tozeroy",
         "line": {
          "color": "#ff7f0e"
         },
         "mode": "lines",
         "name": "No Familiar",
         "type": "scatter",
         "x": {
          "bdata": "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",
          "dtype": "f8"
         },
         "y": {
          "bdata": "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",
          "dtype": "f8"
         }
        }
       ],
       "layout": {
        "font": {
         "color": "black",
         "family": "Arial, sans-serif",
         "size": 12
        },
        "legend": {
         "title": {
          "text": "Tipo de Empresa"
         }
        },
        "template": {
         "data": {
          "bar": [
           {
            "error_x": {
             "color": "#2a3f5f"
            },
            "error_y": {
             "color": "#2a3f5f"
            },
            "marker": {
             "line": {
              "color": "#E5ECF6",
              "width": 0.5
             },
             "pattern": {
              "fillmode": "overlay",
              "size": 10,
              "solidity": 0.2
             }
            },
            "type": "bar"
           }
          ],
          "barpolar": [
           {
            "marker": {
             "line": {
              "color": "#E5ECF6",
              "width": 0.5
             },
             "pattern": {
              "fillmode": "overlay",
              "size": 10,
              "solidity": 0.2
             }
            },
            "type": "barpolar"
           }
          ],
          "carpet": [
           {
            "aaxis": {
             "endlinecolor": "#2a3f5f",
             "gridcolor": "white",
             "linecolor": "white",
             "minorgridcolor": "white",
             "startlinecolor": "#2a3f5f"
            },
            "baxis": {
             "endlinecolor": "#2a3f5f",
             "gridcolor": "white",
             "linecolor": "white",
             "minorgridcolor": "white",
             "startlinecolor": "#2a3f5f"
            },
            "type": "carpet"
           }
          ],
          "choropleth": [
           {
            "colorbar": {
             "outlinewidth": 0,
             "ticks": ""
            },
            "type": "choropleth"
           }
          ],
          "contour": [
           {
            "colorbar": {
             "outlinewidth": 0,
             "ticks": ""
            },
            "colorscale": [
             [
              0,
              "#0d0887"
             ],
             [
              0.1111111111111111,
              "#46039f"
             ],
             [
              0.2222222222222222,
              "#7201a8"
             ],
             [
              0.3333333333333333,
              "#9c179e"
             ],
             [
              0.4444444444444444,
              "#bd3786"
             ],
             [
              0.5555555555555556,
              "#d8576b"
             ],
             [
              0.6666666666666666,
              "#ed7953"
             ],
             [
              0.7777777777777778,
              "#fb9f3a"
             ],
             [
              0.8888888888888888,
              "#fdca26"
             ],
             [
              1,
              "#f0f921"
             ]
            ],
            "type": "contour"
           }
          ],
          "contourcarpet": [
           {
            "colorbar": {
             "outlinewidth": 0,
             "ticks": ""
            },
            "type": "contourcarpet"
           }
          ],
          "heatmap": [
           {
            "colorbar": {
             "outlinewidth": 0,
             "ticks": ""
            },
            "colorscale": [
             [
              0,
              "#0d0887"
             ],
             [
              0.1111111111111111,
              "#46039f"
             ],
             [
              0.2222222222222222,
              "#7201a8"
             ],
             [
              0.3333333333333333,
              "#9c179e"
             ],
             [
              0.4444444444444444,
              "#bd3786"
             ],
             [
              0.5555555555555556,
              "#d8576b"
             ],
             [
              0.6666666666666666,
              "#ed7953"
             ],
             [
              0.7777777777777778,
              "#fb9f3a"
             ],
             [
              0.8888888888888888,
              "#fdca26"
             ],
             [
              1,
              "#f0f921"
             ]
            ],
            "type": "heatmap"
           }
          ],
          "histogram": [
           {
            "marker": {
             "pattern": {
              "fillmode": "overlay",
              "size": 10,
              "solidity": 0.2
             }
            },
            "type": "histogram"
           }
          ],
          "histogram2d": [
           {
            "colorbar": {
             "outlinewidth": 0,
             "ticks": ""
            },
            "colorscale": [
             [
              0,
              "#0d0887"
             ],
             [
              0.1111111111111111,
              "#46039f"
             ],
             [
              0.2222222222222222,
              "#7201a8"
             ],
             [
              0.3333333333333333,
              "#9c179e"
             ],
             [
              0.4444444444444444,
              "#bd3786"
             ],
             [
              0.5555555555555556,
              "#d8576b"
             ],
             [
              0.6666666666666666,
              "#ed7953"
             ],
             [
              0.7777777777777778,
              "#fb9f3a"
             ],
             [
              0.8888888888888888,
              "#fdca26"
             ],
             [
              1,
              "#f0f921"
             ]
            ],
            "type": "histogram2d"
           }
          ],
          "histogram2dcontour": [
           {
            "colorbar": {
             "outlinewidth": 0,
             "ticks": ""
            },
            "colorscale": [
             [
              0,
              "#0d0887"
             ],
             [
              0.1111111111111111,
              "#46039f"
             ],
             [
              0.2222222222222222,
              "#7201a8"
             ],
             [
              0.3333333333333333,
              "#9c179e"
             ],
             [
              0.4444444444444444,
              "#bd3786"
             ],
             [
              0.5555555555555556,
              "#d8576b"
             ],
             [
              0.6666666666666666,
              "#ed7953"
             ],
             [
              0.7777777777777778,
              "#fb9f3a"
             ],
             [
              0.8888888888888888,
              "#fdca26"
             ],
             [
              1,
              "#f0f921"
             ]
            ],
            "type": "histogram2dcontour"
           }
          ],
          "mesh3d": [
           {
            "colorbar": {
             "outlinewidth": 0,
             "ticks": ""
            },
            "type": "mesh3d"
           }
          ],
          "parcoords": [
           {
            "line": {
             "colorbar": {
              "outlinewidth": 0,
              "ticks": ""
             }
            },
            "type": "parcoords"
           }
          ],
          "pie": [
           {
            "automargin": true,
            "type": "pie"
           }
          ],
          "scatter": [
           {
            "fillpattern": {
             "fillmode": "overlay",
             "size": 10,
             "solidity": 0.2
            },
            "type": "scatter"
           }
          ],
          "scatter3d": [
           {
            "line": {
             "colorbar": {
              "outlinewidth": 0,
              "ticks": ""
             }
            },
            "marker": {
             "colorbar": {
              "outlinewidth": 0,
              "ticks": ""
             }
            },
            "type": "scatter3d"
           }
          ],
          "scattercarpet": [
           {
            "marker": {
             "colorbar": {
              "outlinewidth": 0,
              "ticks": ""
             }
            },
            "type": "scattercarpet"
           }
          ],
          "scattergeo": [
           {
            "marker": {
             "colorbar": {
              "outlinewidth": 0,
              "ticks": ""
             }
            },
            "type": "scattergeo"
           }
          ],
          "scattergl": [
           {
            "marker": {
             "colorbar": {
              "outlinewidth": 0,
              "ticks": ""
             }
            },
            "type": "scattergl"
           }
          ],
          "scattermap": [
           {
            "marker": {
             "colorbar": {
              "outlinewidth": 0,
              "ticks": ""
             }
            },
            "type": "scattermap"
           }
          ],
          "scattermapbox": [
           {
            "marker": {
             "colorbar": {
              "outlinewidth": 0,
              "ticks": ""
             }
            },
            "type": "scattermapbox"
           }
          ],
          "scatterpolar": [
           {
            "marker": {
             "colorbar": {
              "outlinewidth": 0,
              "ticks": ""
             }
            },
            "type": "scatterpolar"
           }
          ],
          "scatterpolargl": [
           {
            "marker": {
             "colorbar": {
              "outlinewidth": 0,
              "ticks": ""
             }
            },
            "type": "scatterpolargl"
           }
          ],
          "scatterternary": [
           {
            "marker": {
             "colorbar": {
              "outlinewidth": 0,
              "ticks": ""
             }
            },
            "type": "scatterternary"
           }
          ],
          "surface": [
           {
            "colorbar": {
             "outlinewidth": 0,
             "ticks": ""
            },
            "colorscale": [
             [
              0,
              "#0d0887"
             ],
             [
              0.1111111111111111,
              "#46039f"
             ],
             [
              0.2222222222222222,
              "#7201a8"
             ],
             [
              0.3333333333333333,
              "#9c179e"
             ],
             [
              0.4444444444444444,
              "#bd3786"
             ],
             [
              0.5555555555555556,
              "#d8576b"
             ],
             [
              0.6666666666666666,
              "#ed7953"
             ],
             [
              0.7777777777777778,
              "#fb9f3a"
             ],
             [
              0.8888888888888888,
              "#fdca26"
             ],
             [
              1,
              "#f0f921"
             ]
            ],
            "type": "surface"
           }
          ],
          "table": [
           {
            "cells": {
             "fill": {
              "color": "#EBF0F8"
             },
             "line": {
              "color": "white"
             }
            },
            "header": {
             "fill": {
              "color": "#C8D4E3"
             },
             "line": {
              "color": "white"
             }
            },
            "type": "table"
           }
          ]
         },
         "layout": {
          "annotationdefaults": {
           "arrowcolor": "#2a3f5f",
           "arrowhead": 0,
           "arrowwidth": 1
          },
          "autotypenumbers": "strict",
          "coloraxis": {
           "colorbar": {
            "outlinewidth": 0,
            "ticks": ""
           }
          },
          "colorscale": {
           "diverging": [
            [
             0,
             "#8e0152"
            ],
            [
             0.1,
             "#c51b7d"
            ],
            [
             0.2,
             "#de77ae"
            ],
            [
             0.3,
             "#f1b6da"
            ],
            [
             0.4,
             "#fde0ef"
            ],
            [
             0.5,
             "#f7f7f7"
            ],
            [
             0.6,
             "#e6f5d0"
            ],
            [
             0.7,
             "#b8e186"
            ],
            [
             0.8,
             "#7fbc41"
            ],
            [
             0.9,
             "#4d9221"
            ],
            [
             1,
             "#276419"
            ]
           ],
           "sequential": [
            [
             0,
             "#0d0887"
            ],
            [
             0.1111111111111111,
             "#46039f"
            ],
            [
             0.2222222222222222,
             "#7201a8"
            ],
            [
             0.3333333333333333,
             "#9c179e"
            ],
            [
             0.4444444444444444,
             "#bd3786"
            ],
            [
             0.5555555555555556,
             "#d8576b"
            ],
            [
             0.6666666666666666,
             "#ed7953"
            ],
            [
             0.7777777777777778,
             "#fb9f3a"
            ],
            [
             0.8888888888888888,
             "#fdca26"
            ],
            [
             1,
             "#f0f921"
            ]
           ],
           "sequentialminus": [
            [
             0,
             "#0d0887"
            ],
            [
             0.1111111111111111,
             "#46039f"
            ],
            [
             0.2222222222222222,
             "#7201a8"
            ],
            [
             0.3333333333333333,
             "#9c179e"
            ],
            [
             0.4444444444444444,
             "#bd3786"
            ],
            [
             0.5555555555555556,
             "#d8576b"
            ],
            [
             0.6666666666666666,
             "#ed7953"
            ],
            [
             0.7777777777777778,
             "#fb9f3a"
            ],
            [
             0.8888888888888888,
             "#fdca26"
            ],
            [
             1,
             "#f0f921"
            ]
           ]
          },
          "colorway": [
           "#636efa",
           "#EF553B",
           "#00cc96",
           "#ab63fa",
           "#FFA15A",
           "#19d3f3",
           "#FF6692",
           "#B6E880",
           "#FF97FF",
           "#FECB52"
          ],
          "font": {
           "color": "#2a3f5f"
          },
          "geo": {
           "bgcolor": "white",
           "lakecolor": "white",
           "landcolor": "#E5ECF6",
           "showlakes": true,
           "showland": true,
           "subunitcolor": "white"
          },
          "hoverlabel": {
           "align": "left"
          },
          "hovermode": "closest",
          "mapbox": {
           "style": "light"
          },
          "paper_bgcolor": "white",
          "plot_bgcolor": "#E5ECF6",
          "polar": {
           "angularaxis": {
            "gridcolor": "white",
            "linecolor": "white",
            "ticks": ""
           },
           "bgcolor": "#E5ECF6",
           "radialaxis": {
            "gridcolor": "white",
            "linecolor": "white",
            "ticks": ""
           }
          },
          "scene": {
           "xaxis": {
            "backgroundcolor": "#E5ECF6",
            "gridcolor": "white",
            "gridwidth": 2,
            "linecolor": "white",
            "showbackground": true,
            "ticks": "",
            "zerolinecolor": "white"
           },
           "yaxis": {
            "backgroundcolor": "#E5ECF6",
            "gridcolor": "white",
            "gridwidth": 2,
            "linecolor": "white",
            "showbackground": true,
            "ticks": "",
            "zerolinecolor": "white"
           },
           "zaxis": {
            "backgroundcolor": "#E5ECF6",
            "gridcolor": "white",
            "gridwidth": 2,
            "linecolor": "white",
            "showbackground": true,
            "ticks": "",
            "zerolinecolor": "white"
           }
          },
          "shapedefaults": {
           "line": {
            "color": "#2a3f5f"
           }
          },
          "ternary": {
           "aaxis": {
            "gridcolor": "white",
            "linecolor": "white",
            "ticks": ""
           },
           "baxis": {
            "gridcolor": "white",
            "linecolor": "white",
            "ticks": ""
           },
           "bgcolor": "#E5ECF6",
           "caxis": {
            "gridcolor": "white",
            "linecolor": "white",
            "ticks": ""
           }
          },
          "title": {
           "x": 0.05
          },
          "xaxis": {
           "automargin": true,
           "gridcolor": "white",
           "linecolor": "white",
           "ticks": "",
           "title": {
            "standoff": 15
           },
           "zerolinecolor": "white",
           "zerolinewidth": 2
          },
          "yaxis": {
           "automargin": true,
           "gridcolor": "white",
           "linecolor": "white",
           "ticks": "",
           "title": {
            "standoff": 15
           },
           "zerolinecolor": "white",
           "zerolinewidth": 2
          }
         }
        },
        "title": {
         "text": "<b>Distribución del Desempeño: Familiar vs. No Familiar</b>",
         "x": 0.5
        },
        "xaxis": {
         "title": {
          "text": "Puntaje Total de Sostenibilidad"
         }
        },
        "yaxis": {
         "title": {
          "text": "Densidad"
         }
        }
       }
      }
     },
     "metadata": {},
     "output_type": "display_data"
    }
   ],
   "source": [
    "# 1. Preparación de Datos\n",
    "multinational_info = raw_data[['Razón social', '¿Es empresa familiar? Si/No']].drop_duplicates()\n",
    "density_data = pd.merge(company_agg_data, multinational_info, on='Razón social')\n",
    "density_data.dropna(subset=['¿Es empresa familiar? Si/No'], inplace=True)\n",
    "\n",
    "# Definir grupos y colores\n",
    "groups = {\n",
    "    'Familiar': 'Si',\n",
    "    'No Familiar': 'No'\n",
    "}\n",
    "colors = ['#1f77b4', '#ff7f0e']\n",
    "\n",
    "# 2. Creación del Gráfico de Densidad con Scipy y Plotly GO\n",
    "fig_density = go.Figure()\n",
    "\n",
    "for (group_name, group_id), color in zip(groups.items(), colors):\n",
    "    # Filtrar datos para el grupo actual\n",
    "    current_data = density_data[density_data['¿Es empresa familiar? Si/No'] == group_id]['Puntaje_Total_Sostenibilidad']\n",
    "    \n",
    "    if len(current_data) > 1:\n",
    "        # Calcular KDE usando scipy\n",
    "        kde = gaussian_kde(current_data)\n",
    "        \n",
    "        # Crear un rango de valores X para la curva\n",
    "        x_range = np.linspace(current_data.min(), current_data.max(), 500)\n",
    "        \n",
    "        # Calcular los valores Y de la curva de densidad\n",
    "        y_values = kde(x_range)\n",
    "        \n",
    "        # Añadir la curva al gráfico\n",
    "        fig_density.add_trace(go.Scatter(\n",
    "            x=x_range, \n",
    "            y=y_values, \n",
    "            mode='lines', \n",
    "            name=group_name,\n",
    "            line=dict(color=color),\n",
    "            fill='tozeroy'\n",
    "        ))\n",
    "\n",
    "# 3. Personalización y Estilo del Gráfico\n",
    "fig_density.update_layout(\n",
    "    title_text='<b>Distribución del Desempeño: Familiar vs. No Familiar</b>',\n",
    "    title_x=0.5,\n",
    "    xaxis_title='Puntaje Total de Sostenibilidad',\n",
    "    yaxis_title='Densidad',\n",
    "    font=dict(family=\"Arial, sans-serif\", size=12, color=\"black\"),\n",
    "    legend_title_text='Tipo de Empresa'\n",
    ")\n",
    "\n",
    "fig_density.show()\n",
    "\n",
    "save_chart_as_html(fig_density, '12_1_density_plot_familiar_vs_no_familiar.html')\n",
    "# Save as image\n",
    "fig_density.write_image(\"img/12_1_density_plot_familiar_vs_no_familiar.png\", width=1000, height=800, scale=2)"
   ]
  },
  {
   "cell_type": "markdown",
   "metadata": {},
   "source": [
    "## 12.2. Gráfico de Densidad por Atributo: Cotiza vs. No Cotiza"
   ]
  },
  {
   "cell_type": "code",
   "execution_count": 29,
   "metadata": {},
   "outputs": [
    {
     "data": {
      "application/vnd.plotly.v1+json": {
       "config": {
        "plotlyServerURL": "https://plot.ly"
       },
       "data": [
        {
         "fill": "tozeroy",
         "line": {
          "color": "#1f77b4"
         },
         "mode": "lines",
         "name": "Cotiza en bolsa",
         "type": "scatter",
         "x": {
          "bdata": "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",
          "dtype": "f8"
         },
         "y": {
          "bdata": "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",
          "dtype": "f8"
         }
        },
        {
         "fill": "tozeroy",
         "line": {
          "color": "#ff7f0e"
         },
         "mode": "lines",
         "name": "No Cotiza en bolsa",
         "type": "scatter",
         "x": {
          "bdata": "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",
          "dtype": "f8"
         },
         "y": {
          "bdata": "Q9bO/TzeWj+SEkjS2uhaP8kcDiR08lo/hUiMCAn7Wj8+M7C8mQJbP1qO66QmCVs/xe4sTbAOWz+Aoc9oNxNbP16IgtK8Fls/4QMmjEEZWz+c8qC+xhpbP/vQrLlNG1s/QAeZ89caWz8PdgUJZxlbP6BUlLz8Fls/VnaT9poTWz94EJ3EQw9bP6YaMFn5CVs/12dAC74DWz8amL5VlPxaP5AFGNd+9Fo/aNGuUIDrWj+aOEqmm+FaP8hZf93T1lo/GpgSHSzLWj9cyVGsp75aPz9fZ/JJsVo/Pb6mdRajWj/E9dHaEJRaP0kQWeQ8hFo/fTKTcZ5zWj+Ow/F9OWJaPyrZLSASUFo/fyRwiSw9Wj/AnXMEjSlaPwwuo/Q3FVo/K5gy1TEAWj9u4jI4f+pZPyGEosUk1Fk/6Zp5Oie9WT+vbLJni6VZP+x7TjFWjVk/OHRYjYx0WT9cNuOCM1tZP/xKBilQQVk/2gPYpecmWT8kk2Ut/wtZP91hqQCc8Fg/lex/bMPUWD+Hb5vIerhYP+SpdnbHm1g/GgBH4K5+WD/wRO53NmFYP15w7LVjQ1g/KotRGDwlWD8ZFbAhxQZYP1grEFgE6Fc/j7PjQ//IVz+nz/tuu6lXP9rcf2M+ilc/WEDmqo1qVz+sQe/MrkpXP+Ayok6nKlc/nCRNsXwKVz8YY4dxNOpWP7r3NgbUyVY/H2mZ32CpVj/Z8k9m4IhWPyRrb/pXaFY/lAyU8sxHVj8oV/maRCdWP8U6ljTEBlY/Rrs99FDmVT+/PMQB8MVVP6ijKXempVU/hnTIX3mFVT/EGoq3bWVVP+d9IGqIRVU/kglFUs4lVT/GSv04RAZVP0VD5dTu5lQ/KpF/ydLHVD9yh4um9KhUP3JRYedYilQ/vzlU8gNsVD8+KhsY+k1UP9R5P5M/MFQ/FRmSh9gSVD8/LqcByfVTP7gtWPYU2VM/JntMQsC8Uz92nIipzqBTP0wGBNdDhVM/nIdFXCNqUz+9VwaxcE9TP6PI2zIvNVM/qZznJGIbUz8C/o6vDAJTPwwTOOAx6VI/AioOqdTQUj/+c8zg97hSP51Fj0KeoVI/FtKrbcqKUj+uU47lfnRSP8eSnhG+XlI/ursqPYpJUj/ncFiX5TRSP6EGHDPSIFI/g9M1B1INUj9tfzXuZvpRP6U5g6YS6FE/Wr1u0lbWUT+RCkT4NMVRP1G4ZYKutFE/+cNsv8SkUT8zwE3ieJVRPzNFgwLMhlE/XYM9HL94UT+T15YQU2tRP7dAzaWIXlE/JJSAh2BSUT8UT/VG20ZRP2LhW1v5O1E/L04cIrsxUT/f/SXfIChRP9WcQ70qH1E/qeFyztgWUT/bFEAMKw9RP4Y0JVghCFE/so3se7sBUT9TpBYq+ftQPxFEQ/7Z9lA/jpKdfV3yUD8g/EoXg+5QP83U3CRK61A/7YXE6rHoUD/zIcqYueZQP5o3hUpg5VA/4r3XB6XkUD9q8mrFhuRQP+EDLmUE5VA/9GLWthzmUD/Nk2F4zudQP+pamFYY6lA/nyCT7fjsUD9YZj/JbvBQPwgq5mV49FA/tBOzMBT5UD83SjyIQP5QP7LMCr37A1E/cy4jEkQKUT/gk469FxFRP5LP4+h0GFE/PX/QsVkgUT+5CKIqxChRP1lYzlqyMVE/8EF8PyI7UT/sZgvMEUVRP7WEm+p+T1E/6Q6TfGdaUT+3+SRbyWVRP/WZ1VeicVE/b4D+PPB9UT8wN1HOsIpRP3LIWMnhl1E/6vb55YClUT+gEPLWi7NRPwVGVEoAwlE/sW8F6tvQUT/OLTZcHOBRP5tN20O/71E/PWEkQcL/UT8JePDxIhBSP/bkQPLeIFI/nQKq3PMxUj+45MFKX0NSP0bnjNUeVVI/Lw3oFTBnUj8pIPGkkHlSP7uEbBw+jFI/MbYoFzafUj+eXl8xdrJSP+P/Ewn8xVI/yiNwPsXZUj+ACR10z+1SP33Hmk8YAlM/IdqUeZ0WUz9EFzSeXCtTP+7/bW1TQFM/sGpRm39VUz+KgFDg3mpTPxIIiPlugFM/m/oDqS2WUz8RYAG2GKxTP2xuLe0twlM//erhIGvYUz95y14pzu5TP0EWAeVUBVQ/UgF3OP0bVD/lT/EOxTJUPwnwUVqqSVQ/+dhXE6tgVD+BLMg5xXdUP+mdlNT2jlQ/AiH/8T2mVD965bqnmL1UP+ChChMF1VQ/mzPcWIHsVD8rmOGlCwRVPyNGpy6iG1U/A+unL0MzVT87lV3t7EpVPwRRULSdYlU/mz8i2VN6VT+mMJm4DZJVP3zGpbfJqVU/0y1oQ4bBVT8FcjLRQdlVP9p3iN768FU/vagd8a8IVj+SWNCWXyBWP2/xomUIOFY/Q/Cy+6hPVj/cvS3/P2dWPzpwQx7MflY/8oAXD0yWVj+RhK+Pvq1WP1Dw32UixVY/k/s2X3bcVj8iquVQufNWP78NpxfqClc/isyllwciVz9M+1+8EDlXP69ZiXgEUFc/2P/rxeFmVz9zjEelp31XPzviLh5VlFc/KoXkPumqVz+7pjUcY8FXP3vxU9HB11c/2yOufwTuVz/RisdOKgRYP8VsDmwyGlg/I3WxChwwWD+6MXRj5kVYP3KygrSQW1g/Y1xEQRpxWD9jAS5SgoZYP/hMkzTIm1g//pd3OuuwWD8ZNF666sVYPwBAGg/G2lg/8BWel3zvWD+QZcq2DQRZPyYKPdN4GFk/OK4fV70sWT/9Tfav2kBZP/qobU7QVFk/NLQppp1oWT9zHZQtQnxZP/zvql29j1k/zWvPsQ6jWT8AH5WnNbZZPwdSkb4xyVk/YNYqeALcWT9sR2pXp+5ZP33NyuAfAVo/aHELmmsTWj+eEAEKiiVaP/n/aLh6N1o/t2u8LT1JWj8MgwTz0FpaPwx9r5E1bFo/L4Rmk2p9Wj8FluSBb45aP7ljzuZDn1o/sT+LS+evWj9tJB85WcBaP8zgBTiZ0Fo/3XMP0KbgWj9mpD2IgfBaP3XdouYoAFs/WFpCcJwPWz/mq/Go2x5bPymfOxPmLVs/A49EMLs8Wz8+KLB/WktbP8CniH/DWVs/J5onrPVnWz9NIyCA8HVbP7nTKnSzg1s/jhET/z2RWz83GqaVj55bPx+ho6qnq1s/cA+wroW4Wz+IaEgQKcVbP9jVtzuR0Vs/ktwOm73dWz87PxyWrelbPyyMZ5Jg9Vs/xVkt89UAXD8LMV0ZDQxcP10lmWMFF1w/1Bk3Lr4hXD+OsUPTNixcP9vphqpuNlw/4FuKCWVAXD/tIaFDGUpcP2Ze8amKU1w/415/i7hcXD9KWDo1omVcPzu2CvJGblw/YfjhCqZ2XD9hGMzGvn5cPytxAmuQhlw/sCEAOxqOXD8N45d4W5VcPwxLC2RTnFw/TXIjPAGjXD8R9ko+ZKlcP3ZMqaZ7r1w/9GE/sEa1XD8IdgWVxLpcP+gtCo70v1w/1dGS09XEXD/zqjydZ8lcP6t2HyKpzVw/5ePwmJnRXD+2Dik4ONVcP77uJzaE2Fw/76tbyXzbXD9xzWcoId5cP8o1TYpw4Fw/YOCSJmriXD8TUm81DeRcPwGx8u9Y5Vw/ZXUxkEzmXD+Wpm9R5+ZcP1uWTHAo51w/Kw3vKg/nXD9n2THBmuZcPxq00HTK5Vw/8WyViZ3kXD8XUIVFE+NcP9C3DvEq4Vw/7bs21+PeXD9V8cZFPdxcP/wre4022Vw/FzUvAs/VXD+EaAz7BdJcP+0qt9LazVw/XCx850zJXD9YaH2bW8RcP+LX3lQGv1w/3sbyfUy5XD/wwGWFLbNcP2MIat6orFw/BIviAL6lXD8kSI1pbJ5cP+kbLZqzllw/5eOyGZOOXD9A8WV0CoZcP/+8CzwZfVw/YdMOCL9zXD9G66R1+2lcPzMf9CfOX1w/WT03yDZVXD8zJeEFNUpcPyEov5bIPlw/6WQaN/EyXD+8E9ipriZcPy+7mLgAGlw/OUXWM+cMXD+G7ADzYf9bP0L6mtRw8Vs/YE1TvhPjWz+OpB6dStRbP/+jT2UVxVs/RpGtEnS1Wz+qv4moZqVbPw2n0zHtlFs/QqErwQeEWz+OSPRwtnJbPwZ0YmP5YFs/GM2LwtBOWz/Y+3PAPDxbP6dmGJc9KVs/oIJ6iNMVWz8ks6je/gFbPzW2xeu/7Vo/5ZwOChfZWj9hTt+bBMRaP62VtQuJrlo/NLkyzKSYWj8wnRtYWIJaP+FwVzKka1o/Pejs5YhUWj/hAv4FBz1aP1Viwi0fJVo/EDKAANIMWj/7ooMpIPRZP//9FFwK21k/YlBtU5HBWT/atanStadZP5lDvaR4jVk/a5lhnNpyWT9NHAaU3FdZPzrgvW1/PFk//kUsE8QgWT8RUnB1qwRZP+jCDo026Fg/EOzaWWbLWD+XXN7iO65YP0pXPza4kFg/TSMmadxyWD8gPKGXqVRYP29oiOQgNlg/sr5eeUMXWD9unzOGEvhXP/+sgkGP2Fc/oMgS6Lq4Vz8WHdS8lphXPyk/vQgkeFc/U2ynGmRXVz9v8ClHWDZXP/G6dOgBFVc/kiwqXmLzVj9uJjgNe9FWP0pjsF9Nr1Y/vySgxNqMVj/CPOevJGpWP2J9DposR1Y/fpcdAPQjVj8tcnBjfABWPz4EjEnH3FU/mrjyO9a4VT+oZ/jHqpRVP43ulX5GcFU/0m089KpLVT/UOKjA2SZVPw9/s37UAVU/wLgozJzcVD8Z4JRJNLdUP5t/GZqckVQ/hp8+Y9drVD+SmsRM5kVUPynjdQDLH1Q/9cH4KYf5Uz8oFqF2HNNTP2YgQpWMrFM/YGAANtmFUz/KjSMKBF9TP2G06MMOOFM/nntUFvsQUz89oQW1yulSP+uuB1R/wlI/QfKlpxqbUj+Dvj5knnNSP4X/Fj4MTFI/SiQu6WUkUj/CaBIZrfxRP5+EtYDj1FE/j8ZB0gqtUT8aoe++JIVRP/uv2/YyXVE/nTvdKDc1UT/9P10CMw1RP/b8LS8o5VA/xBRjWRi9UD/0PSopBZVQP4aNpETwbFA/yF3AT9tEUD+E1hPsxxxQP540cHFv6U8/UDpKpFiZTz/wUBykTklPPwoefp5U+U4/iyr0um2pTj85Ia0anVlOP3KAQNjlCU4/i8VuB0u6TT9IFuO0z2pNPwRt9uV2G00/bEt0mEPMTD9a+GDCOH1MP61LwVFZLkw/vgpkLKjfSz8Y2awvKJFLP76+YDDcQks/p0Z0+sb0Sj8ONttQ66ZKPybfWe1LWUo/kA5YgOsLSj8llbWwzL5JPwluoBvycUk/k4BsVF4lST9v/mzkE9lIP+dbz0oVjUg/gON3/GRBSD8p4d9jBfZHPw==",
          "dtype": "f8"
         }
        }
       ],
       "layout": {
        "font": {
         "color": "black",
         "family": "Arial, sans-serif",
         "size": 12
        },
        "legend": {
         "title": {
          "text": "Tipo de Empresa"
         }
        },
        "template": {
         "data": {
          "bar": [
           {
            "error_x": {
             "color": "#2a3f5f"
            },
            "error_y": {
             "color": "#2a3f5f"
            },
            "marker": {
             "line": {
              "color": "#E5ECF6",
              "width": 0.5
             },
             "pattern": {
              "fillmode": "overlay",
              "size": 10,
              "solidity": 0.2
             }
            },
            "type": "bar"
           }
          ],
          "barpolar": [
           {
            "marker": {
             "line": {
              "color": "#E5ECF6",
              "width": 0.5
             },
             "pattern": {
              "fillmode": "overlay",
              "size": 10,
              "solidity": 0.2
             }
            },
            "type": "barpolar"
           }
          ],
          "carpet": [
           {
            "aaxis": {
             "endlinecolor": "#2a3f5f",
             "gridcolor": "white",
             "linecolor": "white",
             "minorgridcolor": "white",
             "startlinecolor": "#2a3f5f"
            },
            "baxis": {
             "endlinecolor": "#2a3f5f",
             "gridcolor": "white",
             "linecolor": "white",
             "minorgridcolor": "white",
             "startlinecolor": "#2a3f5f"
            },
            "type": "carpet"
           }
          ],
          "choropleth": [
           {
            "colorbar": {
             "outlinewidth": 0,
             "ticks": ""
            },
            "type": "choropleth"
           }
          ],
          "contour": [
           {
            "colorbar": {
             "outlinewidth": 0,
             "ticks": ""
            },
            "colorscale": [
             [
              0,
              "#0d0887"
             ],
             [
              0.1111111111111111,
              "#46039f"
             ],
             [
              0.2222222222222222,
              "#7201a8"
             ],
             [
              0.3333333333333333,
              "#9c179e"
             ],
             [
              0.4444444444444444,
              "#bd3786"
             ],
             [
              0.5555555555555556,
              "#d8576b"
             ],
             [
              0.6666666666666666,
              "#ed7953"
             ],
             [
              0.7777777777777778,
              "#fb9f3a"
             ],
             [
              0.8888888888888888,
              "#fdca26"
             ],
             [
              1,
              "#f0f921"
             ]
            ],
            "type": "contour"
           }
          ],
          "contourcarpet": [
           {
            "colorbar": {
             "outlinewidth": 0,
             "ticks": ""
            },
            "type": "contourcarpet"
           }
          ],
          "heatmap": [
           {
            "colorbar": {
             "outlinewidth": 0,
             "ticks": ""
            },
            "colorscale": [
             [
              0,
              "#0d0887"
             ],
             [
              0.1111111111111111,
              "#46039f"
             ],
             [
              0.2222222222222222,
              "#7201a8"
             ],
             [
              0.3333333333333333,
              "#9c179e"
             ],
             [
              0.4444444444444444,
              "#bd3786"
             ],
             [
              0.5555555555555556,
              "#d8576b"
             ],
             [
              0.6666666666666666,
              "#ed7953"
             ],
             [
              0.7777777777777778,
              "#fb9f3a"
             ],
             [
              0.8888888888888888,
              "#fdca26"
             ],
             [
              1,
              "#f0f921"
             ]
            ],
            "type": "heatmap"
           }
          ],
          "histogram": [
           {
            "marker": {
             "pattern": {
              "fillmode": "overlay",
              "size": 10,
              "solidity": 0.2
             }
            },
            "type": "histogram"
           }
          ],
          "histogram2d": [
           {
            "colorbar": {
             "outlinewidth": 0,
             "ticks": ""
            },
            "colorscale": [
             [
              0,
              "#0d0887"
             ],
             [
              0.1111111111111111,
              "#46039f"
             ],
             [
              0.2222222222222222,
              "#7201a8"
             ],
             [
              0.3333333333333333,
              "#9c179e"
             ],
             [
              0.4444444444444444,
              "#bd3786"
             ],
             [
              0.5555555555555556,
              "#d8576b"
             ],
             [
              0.6666666666666666,
              "#ed7953"
             ],
             [
              0.7777777777777778,
              "#fb9f3a"
             ],
             [
              0.8888888888888888,
              "#fdca26"
             ],
             [
              1,
              "#f0f921"
             ]
            ],
            "type": "histogram2d"
           }
          ],
          "histogram2dcontour": [
           {
            "colorbar": {
             "outlinewidth": 0,
             "ticks": ""
            },
            "colorscale": [
             [
              0,
              "#0d0887"
             ],
             [
              0.1111111111111111,
              "#46039f"
             ],
             [
              0.2222222222222222,
              "#7201a8"
             ],
             [
              0.3333333333333333,
              "#9c179e"
             ],
             [
              0.4444444444444444,
              "#bd3786"
             ],
             [
              0.5555555555555556,
              "#d8576b"
             ],
             [
              0.6666666666666666,
              "#ed7953"
             ],
             [
              0.7777777777777778,
              "#fb9f3a"
             ],
             [
              0.8888888888888888,
              "#fdca26"
             ],
             [
              1,
              "#f0f921"
             ]
            ],
            "type": "histogram2dcontour"
           }
          ],
          "mesh3d": [
           {
            "colorbar": {
             "outlinewidth": 0,
             "ticks": ""
            },
            "type": "mesh3d"
           }
          ],
          "parcoords": [
           {
            "line": {
             "colorbar": {
              "outlinewidth": 0,
              "ticks": ""
             }
            },
            "type": "parcoords"
           }
          ],
          "pie": [
           {
            "automargin": true,
            "type": "pie"
           }
          ],
          "scatter": [
           {
            "fillpattern": {
             "fillmode": "overlay",
             "size": 10,
             "solidity": 0.2
            },
            "type": "scatter"
           }
          ],
          "scatter3d": [
           {
            "line": {
             "colorbar": {
              "outlinewidth": 0,
              "ticks": ""
             }
            },
            "marker": {
             "colorbar": {
              "outlinewidth": 0,
              "ticks": ""
             }
            },
            "type": "scatter3d"
           }
          ],
          "scattercarpet": [
           {
            "marker": {
             "colorbar": {
              "outlinewidth": 0,
              "ticks": ""
             }
            },
            "type": "scattercarpet"
           }
          ],
          "scattergeo": [
           {
            "marker": {
             "colorbar": {
              "outlinewidth": 0,
              "ticks": ""
             }
            },
            "type": "scattergeo"
           }
          ],
          "scattergl": [
           {
            "marker": {
             "colorbar": {
              "outlinewidth": 0,
              "ticks": ""
             }
            },
            "type": "scattergl"
           }
          ],
          "scattermap": [
           {
            "marker": {
             "colorbar": {
              "outlinewidth": 0,
              "ticks": ""
             }
            },
            "type": "scattermap"
           }
          ],
          "scattermapbox": [
           {
            "marker": {
             "colorbar": {
              "outlinewidth": 0,
              "ticks": ""
             }
            },
            "type": "scattermapbox"
           }
          ],
          "scatterpolar": [
           {
            "marker": {
             "colorbar": {
              "outlinewidth": 0,
              "ticks": ""
             }
            },
            "type": "scatterpolar"
           }
          ],
          "scatterpolargl": [
           {
            "marker": {
             "colorbar": {
              "outlinewidth": 0,
              "ticks": ""
             }
            },
            "type": "scatterpolargl"
           }
          ],
          "scatterternary": [
           {
            "marker": {
             "colorbar": {
              "outlinewidth": 0,
              "ticks": ""
             }
            },
            "type": "scatterternary"
           }
          ],
          "surface": [
           {
            "colorbar": {
             "outlinewidth": 0,
             "ticks": ""
            },
            "colorscale": [
             [
              0,
              "#0d0887"
             ],
             [
              0.1111111111111111,
              "#46039f"
             ],
             [
              0.2222222222222222,
              "#7201a8"
             ],
             [
              0.3333333333333333,
              "#9c179e"
             ],
             [
              0.4444444444444444,
              "#bd3786"
             ],
             [
              0.5555555555555556,
              "#d8576b"
             ],
             [
              0.6666666666666666,
              "#ed7953"
             ],
             [
              0.7777777777777778,
              "#fb9f3a"
             ],
             [
              0.8888888888888888,
              "#fdca26"
             ],
             [
              1,
              "#f0f921"
             ]
            ],
            "type": "surface"
           }
          ],
          "table": [
           {
            "cells": {
             "fill": {
              "color": "#EBF0F8"
             },
             "line": {
              "color": "white"
             }
            },
            "header": {
             "fill": {
              "color": "#C8D4E3"
             },
             "line": {
              "color": "white"
             }
            },
            "type": "table"
           }
          ]
         },
         "layout": {
          "annotationdefaults": {
           "arrowcolor": "#2a3f5f",
           "arrowhead": 0,
           "arrowwidth": 1
          },
          "autotypenumbers": "strict",
          "coloraxis": {
           "colorbar": {
            "outlinewidth": 0,
            "ticks": ""
           }
          },
          "colorscale": {
           "diverging": [
            [
             0,
             "#8e0152"
            ],
            [
             0.1,
             "#c51b7d"
            ],
            [
             0.2,
             "#de77ae"
            ],
            [
             0.3,
             "#f1b6da"
            ],
            [
             0.4,
             "#fde0ef"
            ],
            [
             0.5,
             "#f7f7f7"
            ],
            [
             0.6,
             "#e6f5d0"
            ],
            [
             0.7,
             "#b8e186"
            ],
            [
             0.8,
             "#7fbc41"
            ],
            [
             0.9,
             "#4d9221"
            ],
            [
             1,
             "#276419"
            ]
           ],
           "sequential": [
            [
             0,
             "#0d0887"
            ],
            [
             0.1111111111111111,
             "#46039f"
            ],
            [
             0.2222222222222222,
             "#7201a8"
            ],
            [
             0.3333333333333333,
             "#9c179e"
            ],
            [
             0.4444444444444444,
             "#bd3786"
            ],
            [
             0.5555555555555556,
             "#d8576b"
            ],
            [
             0.6666666666666666,
             "#ed7953"
            ],
            [
             0.7777777777777778,
             "#fb9f3a"
            ],
            [
             0.8888888888888888,
             "#fdca26"
            ],
            [
             1,
             "#f0f921"
            ]
           ],
           "sequentialminus": [
            [
             0,
             "#0d0887"
            ],
            [
             0.1111111111111111,
             "#46039f"
            ],
            [
             0.2222222222222222,
             "#7201a8"
            ],
            [
             0.3333333333333333,
             "#9c179e"
            ],
            [
             0.4444444444444444,
             "#bd3786"
            ],
            [
             0.5555555555555556,
             "#d8576b"
            ],
            [
             0.6666666666666666,
             "#ed7953"
            ],
            [
             0.7777777777777778,
             "#fb9f3a"
            ],
            [
             0.8888888888888888,
             "#fdca26"
            ],
            [
             1,
             "#f0f921"
            ]
           ]
          },
          "colorway": [
           "#636efa",
           "#EF553B",
           "#00cc96",
           "#ab63fa",
           "#FFA15A",
           "#19d3f3",
           "#FF6692",
           "#B6E880",
           "#FF97FF",
           "#FECB52"
          ],
          "font": {
           "color": "#2a3f5f"
          },
          "geo": {
           "bgcolor": "white",
           "lakecolor": "white",
           "landcolor": "#E5ECF6",
           "showlakes": true,
           "showland": true,
           "subunitcolor": "white"
          },
          "hoverlabel": {
           "align": "left"
          },
          "hovermode": "closest",
          "mapbox": {
           "style": "light"
          },
          "paper_bgcolor": "white",
          "plot_bgcolor": "#E5ECF6",
          "polar": {
           "angularaxis": {
            "gridcolor": "white",
            "linecolor": "white",
            "ticks": ""
           },
           "bgcolor": "#E5ECF6",
           "radialaxis": {
            "gridcolor": "white",
            "linecolor": "white",
            "ticks": ""
           }
          },
          "scene": {
           "xaxis": {
            "backgroundcolor": "#E5ECF6",
            "gridcolor": "white",
            "gridwidth": 2,
            "linecolor": "white",
            "showbackground": true,
            "ticks": "",
            "zerolinecolor": "white"
           },
           "yaxis": {
            "backgroundcolor": "#E5ECF6",
            "gridcolor": "white",
            "gridwidth": 2,
            "linecolor": "white",
            "showbackground": true,
            "ticks": "",
            "zerolinecolor": "white"
           },
           "zaxis": {
            "backgroundcolor": "#E5ECF6",
            "gridcolor": "white",
            "gridwidth": 2,
            "linecolor": "white",
            "showbackground": true,
            "ticks": "",
            "zerolinecolor": "white"
           }
          },
          "shapedefaults": {
           "line": {
            "color": "#2a3f5f"
           }
          },
          "ternary": {
           "aaxis": {
            "gridcolor": "white",
            "linecolor": "white",
            "ticks": ""
           },
           "baxis": {
            "gridcolor": "white",
            "linecolor": "white",
            "ticks": ""
           },
           "bgcolor": "#E5ECF6",
           "caxis": {
            "gridcolor": "white",
            "linecolor": "white",
            "ticks": ""
           }
          },
          "title": {
           "x": 0.05
          },
          "xaxis": {
           "automargin": true,
           "gridcolor": "white",
           "linecolor": "white",
           "ticks": "",
           "title": {
            "standoff": 15
           },
           "zerolinecolor": "white",
           "zerolinewidth": 2
          },
          "yaxis": {
           "automargin": true,
           "gridcolor": "white",
           "linecolor": "white",
           "ticks": "",
           "title": {
            "standoff": 15
           },
           "zerolinecolor": "white",
           "zerolinewidth": 2
          }
         }
        },
        "title": {
         "text": "<b>Distribución del Desempeño: Cotiza en bolsa vs. No Cotiza en bolsa</b>",
         "x": 0.5
        },
        "xaxis": {
         "title": {
          "text": "Puntaje Total de Sostenibilidad"
         }
        },
        "yaxis": {
         "title": {
          "text": "Densidad"
         }
        }
       }
      }
     },
     "metadata": {},
     "output_type": "display_data"
    }
   ],
   "source": [
    "# 1. Preparación de Datos\n",
    "multinational_info = raw_data[['Razón social', '¿Cotiza en bolsa? Si/No']].drop_duplicates()\n",
    "density_data = pd.merge(company_agg_data, multinational_info, on='Razón social')\n",
    "density_data.dropna(subset=['¿Cotiza en bolsa? Si/No'], inplace=True)\n",
    "\n",
    "# Definir grupos y colores\n",
    "groups = {\n",
    "    'Cotiza en bolsa': 'Si',\n",
    "    'No Cotiza en bolsa': 'No'\n",
    "}\n",
    "colors = ['#1f77b4', '#ff7f0e']\n",
    "\n",
    "# 2. Creación del Gráfico de Densidad con Scipy y Plotly GO\n",
    "fig_density = go.Figure()\n",
    "\n",
    "for (group_name, group_id), color in zip(groups.items(), colors):\n",
    "    # Filtrar datos para el grupo actual\n",
    "    current_data = density_data[density_data['¿Cotiza en bolsa? Si/No'] == group_id]['Puntaje_Total_Sostenibilidad']\n",
    "    \n",
    "    if len(current_data) > 1:\n",
    "        # Calcular KDE usando scipy\n",
    "        kde = gaussian_kde(current_data)\n",
    "        \n",
    "        # Crear un rango de valores X para la curva\n",
    "        x_range = np.linspace(current_data.min(), current_data.max(), 500)\n",
    "        \n",
    "        # Calcular los valores Y de la curva de densidad\n",
    "        y_values = kde(x_range)\n",
    "        \n",
    "        # Añadir la curva al gráfico\n",
    "        fig_density.add_trace(go.Scatter(\n",
    "            x=x_range, \n",
    "            y=y_values, \n",
    "            mode='lines', \n",
    "            name=group_name,\n",
    "            line=dict(color=color),\n",
    "            fill='tozeroy'\n",
    "        ))\n",
    "\n",
    "# 3. Personalización y Estilo del Gráfico\n",
    "fig_density.update_layout(\n",
    "    title_text='<b>Distribución del Desempeño: Cotiza en bolsa vs. No Cotiza en bolsa</b>',\n",
    "    title_x=0.5,\n",
    "    xaxis_title='Puntaje Total de Sostenibilidad',\n",
    "    yaxis_title='Densidad',\n",
    "    font=dict(family=\"Arial, sans-serif\", size=12, color=\"black\"),\n",
    "    legend_title_text='Tipo de Empresa'\n",
    ")\n",
    "\n",
    "fig_density.show()\n",
    "\n",
    "save_chart_as_html(fig_density, '12_2_density_plot_cotiza_vs_no_cotiza.html')\n",
    "# Save as image\n",
    "fig_density.write_image(\"img/12_2_density_plot_cotiza_vs_no_cotiza.png\", width=1000, height=800, scale=2)"
   ]
  },
  {
   "cell_type": "markdown",
   "metadata": {},
   "source": [
    "## 13. Análisis de Foco Temático: Comparativa de Variables entre Líderes y Rezagados"
   ]
  },
  {
   "cell_type": "code",
   "execution_count": 30,
   "metadata": {},
   "outputs": [
    {
     "data": {
      "application/vnd.plotly.v1+json": {
       "config": {
        "plotlyServerURL": "https://plot.ly"
       },
       "data": [
        {
         "coloraxis": "coloraxis",
         "hovertemplate": "Macrosector: %{x}<br>Variable de Sostenibilidad: %{y}<br>Importancia Promedio: %{z}<extra></extra>",
         "name": "0",
         "texttemplate": "%{z:.2f}",
         "type": "heatmap",
         "x": [
          "Agropecuario",
          "Comercio",
          "Construcción",
          "Manufactura",
          "Minero",
          "Servicios"
         ],
         "xaxis": "x",
         "y": [
          "Acción climática (0-2)",
          "Alcance 1 en t CO2 eq",
          "Alcance 2 en t CO2 eq",
          "Alcance 3 en t CO2 eq",
          "Año del informe 2023/2024",
          "Consumo total de agua (m³)",
          "Consumo total de la organización (MJ)",
          "Días perdidos por cada 100 empleados",
          "Días perdidos por enfermedad y accidente laboral",
          "Evidencia diversidad en su matriz energética Si/no",
          "Generación total de residuos en toneladas",
          "Gestión de biodiversidad Si/no",
          "Gestión del recurso hídrico (0-2)",
          "Independencia en junta directiva (0-2)",
          "Iniciativas de economía circular (0-2)",
          "Metas relacionadas a biodiversidad Si/no",
          "Permiso marental con beneficio extralegal (Sí/no)",
          "Porcentaje de inversión en la comunidad sobre VED",
          "Porcentaje de mujeres en junta directiva",
          "Porcentaje de pagos a gobierno sobre VED",
          "Porcentaje de personas con discapacidad empleadas ",
          "Porcentaje de salarios y beneficios sobre VED",
          "Porcentaje mujeres en organización ",
          "Promedio de horas de formación hombres (GRI 404)",
          "Promedio de horas de formación mujeres (GRI 404)",
          "Proporción y detalle al informar prácticas DEI GRI 405 (0-2)",
          "¿Cuál es el porcentaje de proveeduría local?",
          "¿Es carbononeutro? Si/no",
          "¿Incluye mapeo de ODS? Si/No",
          "¿Informa proporción de gasto en proveedores\nlocales (GRI 204-1)? Si/No",
          "¿Informa sobre inclusión laboral para personas con discapacidad?",
          "¿Informa sobre salud y seguridad laboral (GRI 403)?",
          "¿Nivel de políticas y compromisos éticos? (anticorrupción, canal de denuncias) 0-2",
          "¿Realiza inversión social en comunidades (GRI 413)?",
          "¿Reporta GRI 207 (prácticas fiscales)? Si/no",
          "¿Reporta consumo energético (GRI 302)?",
          "¿Reporta emisiones GEI (GRI 305)?",
          "¿Reporta gestión de residuos (GRI 306)?",
          "¿Reporta sanciones y multas? (Si/No) 206-1",
          "¿Reporta uso de agua (GRI 303)?",
          "¿Reporta valor económico directo generado y distribuido (GRI 201-1)? Si/No",
          "¿Se evidencia impacto positivo en comunidades locales? (0-2)",
          "¿Tiene análisis de materialidad? Si/No ",
          "¿Tiene carta de presidencia? Si/No",
          "¿Tiene indicadores de desarrollo del talento humano? Si/no",
          "¿Tiene informe? Si/No",
          "¿Tiene meta de reducción de emisiones? Si/No",
          "¿Tiene programas para construcción de paz? (beneficios a poblaciones desplazadas, victimas de conflicto, excombatientes) Si/no",
          "¿Utiliza estándar GRI? Si/No"
         ],
         "yaxis": "y",
         "z": {
          "bdata": "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",
          "dtype": "f8",
          "shape": "49, 6"
         }
        }
       ],
       "layout": {
        "coloraxis": {
         "colorbar": {
          "title": {
           "text": "Importancia Promedio"
          }
         },
         "colorscale": [
          [
           0,
           "rgb(247,251,255)"
          ],
          [
           0.125,
           "rgb(222,235,247)"
          ],
          [
           0.25,
           "rgb(198,219,239)"
          ],
          [
           0.375,
           "rgb(158,202,225)"
          ],
          [
           0.5,
           "rgb(107,174,214)"
          ],
          [
           0.625,
           "rgb(66,146,198)"
          ],
          [
           0.75,
           "rgb(33,113,181)"
          ],
          [
           0.875,
           "rgb(8,81,156)"
          ],
          [
           1,
           "rgb(8,48,107)"
          ]
         ]
        },
        "font": {
         "color": "black",
         "family": "Arial, sans-serif",
         "size": 10
        },
        "height": 980,
        "margin": {
         "t": 60
        },
        "template": {
         "data": {
          "bar": [
           {
            "error_x": {
             "color": "#2a3f5f"
            },
            "error_y": {
             "color": "#2a3f5f"
            },
            "marker": {
             "line": {
              "color": "#E5ECF6",
              "width": 0.5
             },
             "pattern": {
              "fillmode": "overlay",
              "size": 10,
              "solidity": 0.2
             }
            },
            "type": "bar"
           }
          ],
          "barpolar": [
           {
            "marker": {
             "line": {
              "color": "#E5ECF6",
              "width": 0.5
             },
             "pattern": {
              "fillmode": "overlay",
              "size": 10,
              "solidity": 0.2
             }
            },
            "type": "barpolar"
           }
          ],
          "carpet": [
           {
            "aaxis": {
             "endlinecolor": "#2a3f5f",
             "gridcolor": "white",
             "linecolor": "white",
             "minorgridcolor": "white",
             "startlinecolor": "#2a3f5f"
            },
            "baxis": {
             "endlinecolor": "#2a3f5f",
             "gridcolor": "white",
             "linecolor": "white",
             "minorgridcolor": "white",
             "startlinecolor": "#2a3f5f"
            },
            "type": "carpet"
           }
          ],
          "choropleth": [
           {
            "colorbar": {
             "outlinewidth": 0,
             "ticks": ""
            },
            "type": "choropleth"
           }
          ],
          "contour": [
           {
            "colorbar": {
             "outlinewidth": 0,
             "ticks": ""
            },
            "colorscale": [
             [
              0,
              "#0d0887"
             ],
             [
              0.1111111111111111,
              "#46039f"
             ],
             [
              0.2222222222222222,
              "#7201a8"
             ],
             [
              0.3333333333333333,
              "#9c179e"
             ],
             [
              0.4444444444444444,
              "#bd3786"
             ],
             [
              0.5555555555555556,
              "#d8576b"
             ],
             [
              0.6666666666666666,
              "#ed7953"
             ],
             [
              0.7777777777777778,
              "#fb9f3a"
             ],
             [
              0.8888888888888888,
              "#fdca26"
             ],
             [
              1,
              "#f0f921"
             ]
            ],
            "type": "contour"
           }
          ],
          "contourcarpet": [
           {
            "colorbar": {
             "outlinewidth": 0,
             "ticks": ""
            },
            "type": "contourcarpet"
           }
          ],
          "heatmap": [
           {
            "colorbar": {
             "outlinewidth": 0,
             "ticks": ""
            },
            "colorscale": [
             [
              0,
              "#0d0887"
             ],
             [
              0.1111111111111111,
              "#46039f"
             ],
             [
              0.2222222222222222,
              "#7201a8"
             ],
             [
              0.3333333333333333,
              "#9c179e"
             ],
             [
              0.4444444444444444,
              "#bd3786"
             ],
             [
              0.5555555555555556,
              "#d8576b"
             ],
             [
              0.6666666666666666,
              "#ed7953"
             ],
             [
              0.7777777777777778,
              "#fb9f3a"
             ],
             [
              0.8888888888888888,
              "#fdca26"
             ],
             [
              1,
              "#f0f921"
             ]
            ],
            "type": "heatmap"
           }
          ],
          "histogram": [
           {
            "marker": {
             "pattern": {
              "fillmode": "overlay",
              "size": 10,
              "solidity": 0.2
             }
            },
            "type": "histogram"
           }
          ],
          "histogram2d": [
           {
            "colorbar": {
             "outlinewidth": 0,
             "ticks": ""
            },
            "colorscale": [
             [
              0,
              "#0d0887"
             ],
             [
              0.1111111111111111,
              "#46039f"
             ],
             [
              0.2222222222222222,
              "#7201a8"
             ],
             [
              0.3333333333333333,
              "#9c179e"
             ],
             [
              0.4444444444444444,
              "#bd3786"
             ],
             [
              0.5555555555555556,
              "#d8576b"
             ],
             [
              0.6666666666666666,
              "#ed7953"
             ],
             [
              0.7777777777777778,
              "#fb9f3a"
             ],
             [
              0.8888888888888888,
              "#fdca26"
             ],
             [
              1,
              "#f0f921"
             ]
            ],
            "type": "histogram2d"
           }
          ],
          "histogram2dcontour": [
           {
            "colorbar": {
             "outlinewidth": 0,
             "ticks": ""
            },
            "colorscale": [
             [
              0,
              "#0d0887"
             ],
             [
              0.1111111111111111,
              "#46039f"
             ],
             [
              0.2222222222222222,
              "#7201a8"
             ],
             [
              0.3333333333333333,
              "#9c179e"
             ],
             [
              0.4444444444444444,
              "#bd3786"
             ],
             [
              0.5555555555555556,
              "#d8576b"
             ],
             [
              0.6666666666666666,
              "#ed7953"
             ],
             [
              0.7777777777777778,
              "#fb9f3a"
             ],
             [
              0.8888888888888888,
              "#fdca26"
             ],
             [
              1,
              "#f0f921"
             ]
            ],
            "type": "histogram2dcontour"
           }
          ],
          "mesh3d": [
           {
            "colorbar": {
             "outlinewidth": 0,
             "ticks": ""
            },
            "type": "mesh3d"
           }
          ],
          "parcoords": [
           {
            "line": {
             "colorbar": {
              "outlinewidth": 0,
              "ticks": ""
             }
            },
            "type": "parcoords"
           }
          ],
          "pie": [
           {
            "automargin": true,
            "type": "pie"
           }
          ],
          "scatter": [
           {
            "fillpattern": {
             "fillmode": "overlay",
             "size": 10,
             "solidity": 0.2
            },
            "type": "scatter"
           }
          ],
          "scatter3d": [
           {
            "line": {
             "colorbar": {
              "outlinewidth": 0,
              "ticks": ""
             }
            },
            "marker": {
             "colorbar": {
              "outlinewidth": 0,
              "ticks": ""
             }
            },
            "type": "scatter3d"
           }
          ],
          "scattercarpet": [
           {
            "marker": {
             "colorbar": {
              "outlinewidth": 0,
              "ticks": ""
             }
            },
            "type": "scattercarpet"
           }
          ],
          "scattergeo": [
           {
            "marker": {
             "colorbar": {
              "outlinewidth": 0,
              "ticks": ""
             }
            },
            "type": "scattergeo"
           }
          ],
          "scattergl": [
           {
            "marker": {
             "colorbar": {
              "outlinewidth": 0,
              "ticks": ""
             }
            },
            "type": "scattergl"
           }
          ],
          "scattermap": [
           {
            "marker": {
             "colorbar": {
              "outlinewidth": 0,
              "ticks": ""
             }
            },
            "type": "scattermap"
           }
          ],
          "scattermapbox": [
           {
            "marker": {
             "colorbar": {
              "outlinewidth": 0,
              "ticks": ""
             }
            },
            "type": "scattermapbox"
           }
          ],
          "scatterpolar": [
           {
            "marker": {
             "colorbar": {
              "outlinewidth": 0,
              "ticks": ""
             }
            },
            "type": "scatterpolar"
           }
          ],
          "scatterpolargl": [
           {
            "marker": {
             "colorbar": {
              "outlinewidth": 0,
              "ticks": ""
             }
            },
            "type": "scatterpolargl"
           }
          ],
          "scatterternary": [
           {
            "marker": {
             "colorbar": {
              "outlinewidth": 0,
              "ticks": ""
             }
            },
            "type": "scatterternary"
           }
          ],
          "surface": [
           {
            "colorbar": {
             "outlinewidth": 0,
             "ticks": ""
            },
            "colorscale": [
             [
              0,
              "#0d0887"
             ],
             [
              0.1111111111111111,
              "#46039f"
             ],
             [
              0.2222222222222222,
              "#7201a8"
             ],
             [
              0.3333333333333333,
              "#9c179e"
             ],
             [
              0.4444444444444444,
              "#bd3786"
             ],
             [
              0.5555555555555556,
              "#d8576b"
             ],
             [
              0.6666666666666666,
              "#ed7953"
             ],
             [
              0.7777777777777778,
              "#fb9f3a"
             ],
             [
              0.8888888888888888,
              "#fdca26"
             ],
             [
              1,
              "#f0f921"
             ]
            ],
            "type": "surface"
           }
          ],
          "table": [
           {
            "cells": {
             "fill": {
              "color": "#EBF0F8"
             },
             "line": {
              "color": "white"
             }
            },
            "header": {
             "fill": {
              "color": "#C8D4E3"
             },
             "line": {
              "color": "white"
             }
            },
            "type": "table"
           }
          ]
         },
         "layout": {
          "annotationdefaults": {
           "arrowcolor": "#2a3f5f",
           "arrowhead": 0,
           "arrowwidth": 1
          },
          "autotypenumbers": "strict",
          "coloraxis": {
           "colorbar": {
            "outlinewidth": 0,
            "ticks": ""
           }
          },
          "colorscale": {
           "diverging": [
            [
             0,
             "#8e0152"
            ],
            [
             0.1,
             "#c51b7d"
            ],
            [
             0.2,
             "#de77ae"
            ],
            [
             0.3,
             "#f1b6da"
            ],
            [
             0.4,
             "#fde0ef"
            ],
            [
             0.5,
             "#f7f7f7"
            ],
            [
             0.6,
             "#e6f5d0"
            ],
            [
             0.7,
             "#b8e186"
            ],
            [
             0.8,
             "#7fbc41"
            ],
            [
             0.9,
             "#4d9221"
            ],
            [
             1,
             "#276419"
            ]
           ],
           "sequential": [
            [
             0,
             "#0d0887"
            ],
            [
             0.1111111111111111,
             "#46039f"
            ],
            [
             0.2222222222222222,
             "#7201a8"
            ],
            [
             0.3333333333333333,
             "#9c179e"
            ],
            [
             0.4444444444444444,
             "#bd3786"
            ],
            [
             0.5555555555555556,
             "#d8576b"
            ],
            [
             0.6666666666666666,
             "#ed7953"
            ],
            [
             0.7777777777777778,
             "#fb9f3a"
            ],
            [
             0.8888888888888888,
             "#fdca26"
            ],
            [
             1,
             "#f0f921"
            ]
           ],
           "sequentialminus": [
            [
             0,
             "#0d0887"
            ],
            [
             0.1111111111111111,
             "#46039f"
            ],
            [
             0.2222222222222222,
             "#7201a8"
            ],
            [
             0.3333333333333333,
             "#9c179e"
            ],
            [
             0.4444444444444444,
             "#bd3786"
            ],
            [
             0.5555555555555556,
             "#d8576b"
            ],
            [
             0.6666666666666666,
             "#ed7953"
            ],
            [
             0.7777777777777778,
             "#fb9f3a"
            ],
            [
             0.8888888888888888,
             "#fdca26"
            ],
            [
             1,
             "#f0f921"
            ]
           ]
          },
          "colorway": [
           "#636efa",
           "#EF553B",
           "#00cc96",
           "#ab63fa",
           "#FFA15A",
           "#19d3f3",
           "#FF6692",
           "#B6E880",
           "#FF97FF",
           "#FECB52"
          ],
          "font": {
           "color": "#2a3f5f"
          },
          "geo": {
           "bgcolor": "white",
           "lakecolor": "white",
           "landcolor": "#E5ECF6",
           "showlakes": true,
           "showland": true,
           "subunitcolor": "white"
          },
          "hoverlabel": {
           "align": "left"
          },
          "hovermode": "closest",
          "mapbox": {
           "style": "light"
          },
          "paper_bgcolor": "white",
          "plot_bgcolor": "#E5ECF6",
          "polar": {
           "angularaxis": {
            "gridcolor": "white",
            "linecolor": "white",
            "ticks": ""
           },
           "bgcolor": "#E5ECF6",
           "radialaxis": {
            "gridcolor": "white",
            "linecolor": "white",
            "ticks": ""
           }
          },
          "scene": {
           "xaxis": {
            "backgroundcolor": "#E5ECF6",
            "gridcolor": "white",
            "gridwidth": 2,
            "linecolor": "white",
            "showbackground": true,
            "ticks": "",
            "zerolinecolor": "white"
           },
           "yaxis": {
            "backgroundcolor": "#E5ECF6",
            "gridcolor": "white",
            "gridwidth": 2,
            "linecolor": "white",
            "showbackground": true,
            "ticks": "",
            "zerolinecolor": "white"
           },
           "zaxis": {
            "backgroundcolor": "#E5ECF6",
            "gridcolor": "white",
            "gridwidth": 2,
            "linecolor": "white",
            "showbackground": true,
            "ticks": "",
            "zerolinecolor": "white"
           }
          },
          "shapedefaults": {
           "line": {
            "color": "#2a3f5f"
           }
          },
          "ternary": {
           "aaxis": {
            "gridcolor": "white",
            "linecolor": "white",
            "ticks": ""
           },
           "baxis": {
            "gridcolor": "white",
            "linecolor": "white",
            "ticks": ""
           },
           "bgcolor": "#E5ECF6",
           "caxis": {
            "gridcolor": "white",
            "linecolor": "white",
            "ticks": ""
           }
          },
          "title": {
           "x": 0.05
          },
          "xaxis": {
           "automargin": true,
           "gridcolor": "white",
           "linecolor": "white",
           "ticks": "",
           "title": {
            "standoff": 15
           },
           "zerolinecolor": "white",
           "zerolinewidth": 2
          },
          "yaxis": {
           "automargin": true,
           "gridcolor": "white",
           "linecolor": "white",
           "ticks": "",
           "title": {
            "standoff": 15
           },
           "zerolinecolor": "white",
           "zerolinewidth": 2
          }
         }
        },
        "title": {
         "text": "<b>Importancia Relativa de Variables por Macrosector</b><br><sup>El color representa la contribución promedio de cada variable al puntaje del sector</sup>",
         "x": 0.5
        },
        "xaxis": {
         "anchor": "y",
         "domain": [
          0,
          1
         ],
         "tickangle": -45,
         "title": {
          "text": "Macrosector"
         }
        },
        "yaxis": {
         "anchor": "x",
         "autorange": "reversed",
         "domain": [
          0,
          1
         ],
         "title": {
          "text": "Variable de Sostenibilidad"
         }
        }
       }
      }
     },
     "metadata": {},
     "output_type": "display_data"
    }
   ],
   "source": [
    "# 1. Preparación de Datos\n",
    "# Calcular la valoración ponderada promedio para cada variable dentro de cada macrosector.\n",
    "var_importance_data = raw_data.groupby(['Macrosector', 'Variable'])['valoracionPonderada'].mean().reset_index()\n",
    "\n",
    "# Pivotar la tabla para crear una matriz: Variables en filas, Sectores en columnas.\n",
    "var_importance_matrix = var_importance_data.pivot(\n",
    "    index='Variable', \n",
    "    columns='Macrosector', \n",
    "    values='valoracionPonderada'\n",
    ").fillna(0)\n",
    "\n",
    "# 2. Creación del Gráfico (Heatmap)\n",
    "fig_var_importance = px.imshow(\n",
    "    var_importance_matrix,\n",
    "    text_auto=\".2f\", # Formatea los números a dos decimales\n",
    "    aspect=\"auto\",\n",
    "    color_continuous_scale='Blues', # Una escala de color secuencial es más apropiada aquí\n",
    "    labels=dict(x=\"Macrosector\", y=\"Variable de Sostenibilidad\", color=\"Importancia Promedio\")\n",
    ")\n",
    "\n",
    "# 3. Personalización y Estilo del Gráfico\n",
    "fig_var_importance.update_layout(\n",
    "    title_text='<b>Importancia Relativa de Variables por Macrosector</b><br><sup>El color representa la contribución promedio de cada variable al puntaje del sector</sup>',\n",
    "    title_x=0.5,\n",
    "    xaxis_tickangle=-45,\n",
    "    font=dict(family=\"Arial, sans-serif\", size=10, color=\"black\"),\n",
    "    height=max(600, len(var_importance_matrix.index) * 20) # Ajustar altura dinámicamente\n",
    ")\n",
    "fig_var_importance.show()\n",
    "save_chart_as_html(fig_var_importance, '13_variable_importance_heatmap.html')\n",
    "# Save as image\n",
    "fig_var_importance.write_image(\"img/13_variable_importance_heatmap.png\", width=1000, height=800, scale=2)"
   ]
  },
  {
   "cell_type": "markdown",
   "metadata": {},
   "source": [
    "## 14. Gráfico de Dispersión con Línea de Tendencia: Ingresos vs. Valoración Ponderada"
   ]
  },
  {
   "cell_type": "code",
   "execution_count": 31,
   "metadata": {},
   "outputs": [
    {
     "data": {
      "application/vnd.plotly.v1+json": {
       "config": {
        "plotlyServerURL": "https://plot.ly"
       },
       "data": [
        {
         "hovertemplate": "<b>%{hovertext}</b><br><br>Macrosector=Comercio<br>Ingresos_Operacionales=%{x}<br>Puntaje_Total_Sostenibilidad=%{y}<extra></extra>",
         "hovertext": [
          "ARA",
          "Biomax",
          "CI Eslop",
          "Cencosud",
          "Chevron",
          "Corbeta",
          "Cruz Verde",
          "D1",
          "Distracom",
          "Falabella",
          "Mazda",
          "Olímpica",
          "Petromil",
          "Pricesmart",
          "Primax",
          "Samsung",
          "Sodimac (Homecenter)",
          "Sucafina",
          "Suramerica Comercial (Dollar City)",
          "Tecnoquimicas",
          "Terpel",
          "Toyota",
          "Trafigura (Petroleum)",
          "Uniban",
          "Unilever",
          "Éxito"
         ],
         "legendgroup": "Comercio",
         "marker": {
          "color": "#636efa",
          "symbol": "circle"
         },
         "mode": "markers",
         "name": "Comercio",
         "orientation": "v",
         "showlegend": true,
         "type": "scatter",
         "x": {
          "bdata": "FWLIxpCpK0CLHrb82QwSQHd/70hSoP8/qgDYs/nZEEA4ukp313kXQNoMR8KExidAmaz5De0LFkB/QmFDfHAzQCe7IsPt/g5AvFUwWuJ1AkDckcsuAej9P2lI0PBKhBxAiYM14oo+CECoxNi25uICQMsCLSrQCiVAQ5DPoKuBCUCe5vYo4vYXQHMH2rK2BABAitFhKKH0BkCDdDxcLhMJQGNmbNaDwDhAmzZnbegcEEASfJlJUHsTQBckJ1qMXgBAUwJT5wDa/j+piy1n4xMwQA==",
          "dtype": "f8"
         },
         "xaxis": "x",
         "y": {
          "bdata": "AAAAAAAAAAAAAAAAAAAAAAAAAAAAAAAAAAAAAACAc0Dx8PDw8LBlQAAAAAAAAAAA9vg0xU4Ud0DR+yD4Add4QAAAAAAAAAAA7NXfUHfBfUDT0tLS0lJxQIeHh4eHhzdAAAAAAAAAAADbWIU32CBsQCQKPU4kkn1ALS0tLS3tdUDdHN0KfMd8QC0tLS0tLXBAAAAAAAAAAAAAAAAAAAAAACwgtSoBJoBAmEwmTkJWd0CmpaWlpSVuQKsuvp3bP3RAAAAAAAAAAACHXN4RvJF4QA==",
          "dtype": "f8"
         },
         "yaxis": "y"
        },
        {
         "hovertemplate": "<b>%{hovertext}</b><br><br>Macrosector=Construcción<br>Ingresos_Operacionales=%{x}<br>Puntaje_Total_Sostenibilidad=%{y}<extra></extra>",
         "hovertext": [
          "ARQUITECTURA Y CONCRETO",
          "AUTOPISTA RIO MAGDALENA SAS",
          "Amarilo",
          "CONCESIONARIA VIAL UNIÓN DEL SUR SAS",
          "CONSTRUCCIONES EL CONDOR S.A",
          "CONSTRUCTORA CAPITAL BOGOTA SAS",
          "CONSTRUCTORA COLPATRIA  SAS",
          "Conconcreto",
          "ISMOCOL SA",
          "MARVAL S.A.S."
         ],
         "legendgroup": "Construcción",
         "marker": {
          "color": "#EF553B",
          "symbol": "circle"
         },
         "mode": "markers",
         "name": "Construcción",
         "orientation": "v",
         "showlegend": true,
         "type": "scatter",
         "x": {
          "bdata": "+sBqOYuv6D+pD2FSNQf1P2t8+3qLfQFA9e1czFqQ6D9QoaEcWAjzP5LDBI40A/U/v+7XEUXg5z+jD5P5Eu3fP3sXJLq9Deg/htGD7e2H7z8=",
          "dtype": "f8"
         },
         "xaxis": "x",
         "y": {
          "bdata": "AAAAAAAAAAAmzvrd+K59QEPcNTq1PnhArKroTohGckBAbuz5a/VoQNiMPzPMBmRAVVVVVVUVa0ATT0IfnlFzQAAAAAAAAAAAqq0usKZXcEA=",
          "dtype": "f8"
         },
         "yaxis": "y"
        },
        {
         "hovertemplate": "<b>%{hovertext}</b><br><br>Macrosector=Agropecuario<br>Ingresos_Operacionales=%{x}<br>Puntaje_Total_Sostenibilidad=%{y}<extra></extra>",
         "hovertext": [
          "AVICOLA EL MADROÑO SA",
          "AVSA",
          "Aliar",
          "Grupo Bios",
          "INCUBADORA SANTANDER S.A. (Huevos Kikes)",
          "Sunshine Bouquet"
         ],
         "legendgroup": "Agropecuario",
         "marker": {
          "color": "#00cc96",
          "symbol": "circle"
         },
         "mode": "markers",
         "name": "Agropecuario",
         "orientation": "v",
         "showlegend": true,
         "type": "scatter",
         "x": {
          "bdata": "cFRQTDzC5j93vgf+o2IDQHES1gj1S+8/M8q5aFZD3D+Zyuw9pp/sP4zmxskEQQFA",
          "dtype": "f8"
         },
         "xaxis": "x",
         "y": {
          "bdata": "AAAAAAAAAAD0PM/zPM9HQKqqqqqqynNAhmEYhmFYY0AAAAAAAAAAACRJkiRJkixA",
          "dtype": "f8"
         },
         "yaxis": "y"
        },
        {
         "hovertemplate": "<b>%{hovertext}</b><br><br>Macrosector=Manufactura<br>Ingresos_Operacionales=%{x}<br>Puntaje_Total_Sostenibilidad=%{y}<extra></extra>",
         "hovertext": [
          "Alimentos Carnicos (Grupo Nutresa)",
          "Alpina",
          "BEL STAR S.A.",
          "Bavaria (Kopps)",
          "CARTON DE COLOMBIA S.A. (Smurfit Kappa)",
          "Cementos Argos",
          "Coca Cola- Femsa",
          "Colgate",
          "Colombina",
          "Compañía Nacional de Chocolates",
          "ES Windows",
          "Esenttia",
          "General Motors",
          "Grupo Diana",
          "Haceb",
          "Italcol",
          "Nestle",
          "POLLOS EL BUCANERO S.A. (Cargill)",
          "Pepsico",
          "Postobón",
          "Productos Familia (Essity)",
          "Reficar",
          "Renault",
          "Riopaila Castilla",
          "YARA COLOMBIA S.A.",
          "Yamaha"
         ],
         "legendgroup": "Manufactura",
         "marker": {
          "color": "#ab63fa",
          "symbol": "circle"
         },
         "mode": "markers",
         "name": "Manufactura",
         "orientation": "v",
         "showlegend": true,
         "type": "scatter",
         "x": {
          "bdata": "wPBeds7BBkCvnKaXZGkBQDnymx0E+P0/cYWWxkY7IUCSnnAW+XT8PzCuAsZEhP0/F7jwR0elFEDlpk9whg4DQEEXfLboigFAE943ISEY/z85RnAr1v8EQOxdYK/gfQJAY706j9Zl8z80KJCVPOMDQENCQDDacvU/1narmF6DCUDq39z8ElsAQHkEg+D7LwJA7wyA3HHHAEDpNJHtCsYGQCxFL/lYIwBAizek5GTcOUCRRJw/h2gDQL0nXZolKPs/2l+/JdU+/D+OqWWyUk39Pw==",
          "dtype": "f8"
         },
         "xaxis": "x",
         "y": {
          "bdata": "yZkdQYTDf0Ai4vWinIR7QPjXgxysQXJAZ/w3+5kNa0BwE1ZuRO53QMeOqH7YDn5AfAFG1UJfe0Bncy9T6jBxQBq+G5++h4BAe39jYLXCcEBqIwaP/f12QNX/63tKeYFAIzRrxVONdEAAAAAAAAAAAMCZdFIMGHtAAAAAAAAAAABnRLJMekZvQAAAAAAAAAAAymsor6GccEB9/aTqK6uBQLZFBXs2+HdAdiuvC0izdkBK/J1I7GZ4QFtoUBqot3tAQ3kN5TWUb0CkiPZzUF5mQA==",
          "dtype": "f8"
         },
         "yaxis": "y"
        },
        {
         "hovertemplate": "<b>%{hovertext}</b><br><br>Macrosector=Servicios<br>Ingresos_Operacionales=%{x}<br>Puntaje_Total_Sostenibilidad=%{y}<extra></extra>",
         "hovertext": [
          "Avianca",
          "Celsia",
          "Cenit",
          "Claro",
          "EPM",
          "Emgesa",
          "GEB",
          "Gases del Caribe",
          "ISA",
          "Isagen",
          "LATAM",
          "Mercado Libre",
          "Oleoducto Central (Ocensa)",
          "Promigas",
          "Rappi",
          "Telefónica",
          "Teleperformance",
          "Tigo"
         ],
         "legendgroup": "Servicios",
         "marker": {
          "color": "#FFA15A",
          "symbol": "circle"
         },
         "mode": "markers",
         "name": "Servicios",
         "orientation": "v",
         "showlegend": true,
         "type": "scatter",
         "x": {
          "bdata": "qkscMks2LkDTv2tqtTAaQPnTLdiZ9CNAL0TDbEY0L0D3ZbzvEJM0QBomWr+Hjy9AJGtWe627DUBYr+r4pBUFQGA7qxQhhhBAokKWgdqKGEDpPeQZc6ACQGy7UpQgu/0/UV4poJDmF0CznrU26C4CQCofrSougOY/H5Twt0+wGkBtwvXczT0FQJ1P5QA2pgdA",
          "dtype": "f8"
         },
         "xaxis": "x",
         "y": {
          "bdata": "QnMWIduQdkDRrBy0JVF7QKjdqjBBgHxAVo/C3nZUfUCOr5eCHjl7QETguoyik39A51cTupxgekDUAlKcJd5xQN52FL29cXlAe18Xr53gcEDeODzNNLl3QEx33reMB3RAv8BV0NZaeUCJSFwvQth8QAAAAAAAAAAAuUBhNztQfECUkTp1PfZ5QIUfT9VDunVA",
          "dtype": "f8"
         },
         "yaxis": "y"
        },
        {
         "hovertemplate": "<b>%{hovertext}</b><br><br>Macrosector=Minero<br>Ingresos_Operacionales=%{x}<br>Puntaje_Total_Sostenibilidad=%{y}<extra></extra>",
         "hovertext": [
          "C.I Prodeco",
          "Cerrejón",
          "Drummond",
          "Ecopetrol",
          "Frontera Energy",
          "Geopark",
          "Gran Tierra Energy",
          "Hocol",
          "SierraCol Energy",
          "Verano energy"
         ],
         "legendgroup": "Minero",
         "marker": {
          "color": "#19d3f3",
          "symbol": "circle"
         },
         "mode": "markers",
         "name": "Minero",
         "orientation": "v",
         "showlegend": true,
         "type": "scatter",
         "x": {
          "bdata": "dFyfzwak7D/iO0iHOzAYQDGzWFXy/SZAB1YuhBd7XEA4E5YiQAARQI9kKW7pXANAqrab4Jsm9T8Lonn2GEkFQFf/GiIEGv8/q6n3F+vuFUA=",
          "dtype": "f8"
         },
         "xaxis": "x",
         "y": {
          "bdata": "TuzETuzEPkBHRdpr8KlyQHHEL7MG+IBAdhdd8CbOgEDyeuZbVVp7QEmselPCBIBAedbcxDJydkC9z6QaYkB9QPctGHc6hH5AAAAAAAAAAAA=",
          "dtype": "f8"
         },
         "yaxis": "y"
        },
        {
         "hovertemplate": "<b>OLS trendline</b><br>Puntaje_Total_Sostenibilidad = 3.3436 * Ingresos_Operacionales + 268.305<br>R<sup>2</sup>=0.052221<br><br>Ingresos_Operacionales=%{x}<br>Puntaje_Total_Sostenibilidad=%{y} <b>(trend)</b><extra></extra>",
         "legendgroup": "Overall Trendline",
         "line": {
          "color": "#FF6692"
         },
         "mode": "lines",
         "name": "Overall Trendline",
         "showlegend": true,
         "type": "scatter",
         "x": {
          "bdata": "M8q5aFZD3D+jD5P5Eu3fPyofrSougOY/cFRQTDzC5j+/7tcRReDnP3sXJLq9Deg/9e1czFqQ6D/6wGo5i6/oP5nK7D2mn+w/dFyfzwak7D9xEtYI9UvvP4bRg+3th+8/UKGhHFgI8z9jvTqP1mXzP5LDBI40A/U/qQ9hUjUH9T+qtpvgmyb1P0NCQDDacvU/vSddmiUo+z/aX78l1T78P5KecBb5dPw/jqllslJN/T8wrgLGRIT9P2y7UpQgu/0/3JHLLgHo/T858psdBPj9P1MCU+cA2v4/E943ISEY/z9X/xoiBBr/P3d/70hSoP8/cwfasrYEAEAsRS/5WCMAQOrf3PwSWwBAFyQnWoxeAEDvDIDccccAQIzmxskEQQFAr5yml2RpAUBrfPt6i30BQEEXfLboigFAs561NuguAkB5BIPg+y8CQLxVMFridQJA7F1gr+B9AkDpPeQZc6ACQKjE2Lbm4gJA5aZPcIYOA0CPZClu6VwDQHe+B/6jYgNAkUScP4doA0A0KJCVPOMDQDlGcCvW/wRAWK/q+KQVBUBtwvXczT0FQAuiefYYSQVAwPBeds7BBkDpNJHtCsYGQIrRYSih9AZAnU/lADamB0CJgzXiij4IQIN0PFwuEwlAQ5DPoKuBCUDWdquYXoMJQCRrVnutuw1AJ7siw+3+DkCbNmdt6BwQQGA7qxQhhhBAqgDYs/nZEEA4E5YiQAARQIsetvzZDBJAEnyZSVB7E0AXuPBHR6UUQKup9xfr7hVAmaz5De0LFkA4ukp313kXQFFeKaCQ5hdAnub2KOL2F0DiO0iHOzAYQKJCloHaihhA079rarUwGkAflPC3T7AaQGlI0PBKhBxAcYWWxkY7IUD50y3YmfQjQMsCLSrQCiVAMbNYVfL9JkDaDEfChMYnQBViyMaQqStAqkscMks2LkAvRMNsRjQvQBomWr+Hjy9AqYstZ+MTMEB/QmFDfHAzQPdlvO8QkzRAY2Zs1oPAOECLN6TkZNw5QAdWLoQXe1xA",
          "dtype": "f8"
         },
         "xaxis": "x",
         "y": {
          "bdata": "6jiL64HccEBSURPGkd9wQGqf7MR/6nBAUb9EM+7qcEDLL2JkzOxwQP2wOWkY7XBAgF1LxfLtcEDsw6bpJu5wQHzIQkO89HBA4aCglMP0cECd5LZJNPlwQFZRq4yY+XBAfu8MEYUEcUBeTjusvQVxQN+nfM4jC3FA7XflMDELcUDpGJkumgtxQDD2/RuZDHFAsYZzF68fcUC5+5znUiNxQKDwr+0HJHFA6xbsUNsmcUBT0DsIkydxQJ+tFHVKKHFA/VtbguAocUDY04oLFilxQKw8CKgJLHFALKFgYdkscUA82liw3yxxQNdudMCgLnFABnMILwAwcUC1It4JzTBxQN9/g7FBMnFAuVne7FgycUA425FjFjVxQMUWtWBDOHFAeaxDXlE5cUD8jcMg2DlxQHjxN38xOnFA5/YmL3o+cUBXH5FigT5xQJj8cdJUQHFAK9usRopAcUDuQyZ3cUFxQAKTJ9ctQ3FAOxrtj1FEcUDIQtm/XUZxQJmOCQ+ERnFAIyRbbqtGcUC/2oMB4ElxQDtshy5PUXFAAELUA+FRcUDFXCuS7VJxQFabhRc5U3FAmBEQOBBdcUB5BhmMLF1xQP22JBVkXnFAmEfEmgdjcUDoYZRGAmdxQGWEUzuQbHFAcst6GHNvcUCjlzJ1fm9xQBHD5bC2i3FAJjqvVSiUcUBuBu0LYpxxQAXqVFHhoXFAjP6htUKmcUAiMrqdQqhxQJrwzf1KtnFA+NMvM3DJcUAKGHlMAdlxQIk1TAg66nFANtsF/r3rcUCRsHnk2/5xQNHeGwCKBHJAuyQZQGQFckCQs39CYwhyQPVswkIfDXJA7uAwUSkjckA/Ai/t0ylyQH8Ho+RGQnJAF7hCM86RckABpdzIqtpyQHfWjp+893JA3Hec1uMrc0DFsTnl2EBzQJLAxzHRqHNAiHna4QTtc0Da+GGTjgd0QAGibooXEXRAUQn88f8gdECIB6fN19R0QEWfPyuREXVAYSVuFg7xdUClmKPuYCx2QDbK0WnASYRA",
          "dtype": "f8"
         },
         "yaxis": "y"
        }
       ],
       "layout": {
        "font": {
         "color": "black",
         "family": "Arial, sans-serif",
         "size": 12
        },
        "legend": {
         "title": {
          "text": "Macrosector"
         },
         "tracegroupgap": 0
        },
        "margin": {
         "t": 60
        },
        "template": {
         "data": {
          "bar": [
           {
            "error_x": {
             "color": "#2a3f5f"
            },
            "error_y": {
             "color": "#2a3f5f"
            },
            "marker": {
             "line": {
              "color": "#E5ECF6",
              "width": 0.5
             },
             "pattern": {
              "fillmode": "overlay",
              "size": 10,
              "solidity": 0.2
             }
            },
            "type": "bar"
           }
          ],
          "barpolar": [
           {
            "marker": {
             "line": {
              "color": "#E5ECF6",
              "width": 0.5
             },
             "pattern": {
              "fillmode": "overlay",
              "size": 10,
              "solidity": 0.2
             }
            },
            "type": "barpolar"
           }
          ],
          "carpet": [
           {
            "aaxis": {
             "endlinecolor": "#2a3f5f",
             "gridcolor": "white",
             "linecolor": "white",
             "minorgridcolor": "white",
             "startlinecolor": "#2a3f5f"
            },
            "baxis": {
             "endlinecolor": "#2a3f5f",
             "gridcolor": "white",
             "linecolor": "white",
             "minorgridcolor": "white",
             "startlinecolor": "#2a3f5f"
            },
            "type": "carpet"
           }
          ],
          "choropleth": [
           {
            "colorbar": {
             "outlinewidth": 0,
             "ticks": ""
            },
            "type": "choropleth"
           }
          ],
          "contour": [
           {
            "colorbar": {
             "outlinewidth": 0,
             "ticks": ""
            },
            "colorscale": [
             [
              0,
              "#0d0887"
             ],
             [
              0.1111111111111111,
              "#46039f"
             ],
             [
              0.2222222222222222,
              "#7201a8"
             ],
             [
              0.3333333333333333,
              "#9c179e"
             ],
             [
              0.4444444444444444,
              "#bd3786"
             ],
             [
              0.5555555555555556,
              "#d8576b"
             ],
             [
              0.6666666666666666,
              "#ed7953"
             ],
             [
              0.7777777777777778,
              "#fb9f3a"
             ],
             [
              0.8888888888888888,
              "#fdca26"
             ],
             [
              1,
              "#f0f921"
             ]
            ],
            "type": "contour"
           }
          ],
          "contourcarpet": [
           {
            "colorbar": {
             "outlinewidth": 0,
             "ticks": ""
            },
            "type": "contourcarpet"
           }
          ],
          "heatmap": [
           {
            "colorbar": {
             "outlinewidth": 0,
             "ticks": ""
            },
            "colorscale": [
             [
              0,
              "#0d0887"
             ],
             [
              0.1111111111111111,
              "#46039f"
             ],
             [
              0.2222222222222222,
              "#7201a8"
             ],
             [
              0.3333333333333333,
              "#9c179e"
             ],
             [
              0.4444444444444444,
              "#bd3786"
             ],
             [
              0.5555555555555556,
              "#d8576b"
             ],
             [
              0.6666666666666666,
              "#ed7953"
             ],
             [
              0.7777777777777778,
              "#fb9f3a"
             ],
             [
              0.8888888888888888,
              "#fdca26"
             ],
             [
              1,
              "#f0f921"
             ]
            ],
            "type": "heatmap"
           }
          ],
          "histogram": [
           {
            "marker": {
             "pattern": {
              "fillmode": "overlay",
              "size": 10,
              "solidity": 0.2
             }
            },
            "type": "histogram"
           }
          ],
          "histogram2d": [
           {
            "colorbar": {
             "outlinewidth": 0,
             "ticks": ""
            },
            "colorscale": [
             [
              0,
              "#0d0887"
             ],
             [
              0.1111111111111111,
              "#46039f"
             ],
             [
              0.2222222222222222,
              "#7201a8"
             ],
             [
              0.3333333333333333,
              "#9c179e"
             ],
             [
              0.4444444444444444,
              "#bd3786"
             ],
             [
              0.5555555555555556,
              "#d8576b"
             ],
             [
              0.6666666666666666,
              "#ed7953"
             ],
             [
              0.7777777777777778,
              "#fb9f3a"
             ],
             [
              0.8888888888888888,
              "#fdca26"
             ],
             [
              1,
              "#f0f921"
             ]
            ],
            "type": "histogram2d"
           }
          ],
          "histogram2dcontour": [
           {
            "colorbar": {
             "outlinewidth": 0,
             "ticks": ""
            },
            "colorscale": [
             [
              0,
              "#0d0887"
             ],
             [
              0.1111111111111111,
              "#46039f"
             ],
             [
              0.2222222222222222,
              "#7201a8"
             ],
             [
              0.3333333333333333,
              "#9c179e"
             ],
             [
              0.4444444444444444,
              "#bd3786"
             ],
             [
              0.5555555555555556,
              "#d8576b"
             ],
             [
              0.6666666666666666,
              "#ed7953"
             ],
             [
              0.7777777777777778,
              "#fb9f3a"
             ],
             [
              0.8888888888888888,
              "#fdca26"
             ],
             [
              1,
              "#f0f921"
             ]
            ],
            "type": "histogram2dcontour"
           }
          ],
          "mesh3d": [
           {
            "colorbar": {
             "outlinewidth": 0,
             "ticks": ""
            },
            "type": "mesh3d"
           }
          ],
          "parcoords": [
           {
            "line": {
             "colorbar": {
              "outlinewidth": 0,
              "ticks": ""
             }
            },
            "type": "parcoords"
           }
          ],
          "pie": [
           {
            "automargin": true,
            "type": "pie"
           }
          ],
          "scatter": [
           {
            "fillpattern": {
             "fillmode": "overlay",
             "size": 10,
             "solidity": 0.2
            },
            "type": "scatter"
           }
          ],
          "scatter3d": [
           {
            "line": {
             "colorbar": {
              "outlinewidth": 0,
              "ticks": ""
             }
            },
            "marker": {
             "colorbar": {
              "outlinewidth": 0,
              "ticks": ""
             }
            },
            "type": "scatter3d"
           }
          ],
          "scattercarpet": [
           {
            "marker": {
             "colorbar": {
              "outlinewidth": 0,
              "ticks": ""
             }
            },
            "type": "scattercarpet"
           }
          ],
          "scattergeo": [
           {
            "marker": {
             "colorbar": {
              "outlinewidth": 0,
              "ticks": ""
             }
            },
            "type": "scattergeo"
           }
          ],
          "scattergl": [
           {
            "marker": {
             "colorbar": {
              "outlinewidth": 0,
              "ticks": ""
             }
            },
            "type": "scattergl"
           }
          ],
          "scattermap": [
           {
            "marker": {
             "colorbar": {
              "outlinewidth": 0,
              "ticks": ""
             }
            },
            "type": "scattermap"
           }
          ],
          "scattermapbox": [
           {
            "marker": {
             "colorbar": {
              "outlinewidth": 0,
              "ticks": ""
             }
            },
            "type": "scattermapbox"
           }
          ],
          "scatterpolar": [
           {
            "marker": {
             "colorbar": {
              "outlinewidth": 0,
              "ticks": ""
             }
            },
            "type": "scatterpolar"
           }
          ],
          "scatterpolargl": [
           {
            "marker": {
             "colorbar": {
              "outlinewidth": 0,
              "ticks": ""
             }
            },
            "type": "scatterpolargl"
           }
          ],
          "scatterternary": [
           {
            "marker": {
             "colorbar": {
              "outlinewidth": 0,
              "ticks": ""
             }
            },
            "type": "scatterternary"
           }
          ],
          "surface": [
           {
            "colorbar": {
             "outlinewidth": 0,
             "ticks": ""
            },
            "colorscale": [
             [
              0,
              "#0d0887"
             ],
             [
              0.1111111111111111,
              "#46039f"
             ],
             [
              0.2222222222222222,
              "#7201a8"
             ],
             [
              0.3333333333333333,
              "#9c179e"
             ],
             [
              0.4444444444444444,
              "#bd3786"
             ],
             [
              0.5555555555555556,
              "#d8576b"
             ],
             [
              0.6666666666666666,
              "#ed7953"
             ],
             [
              0.7777777777777778,
              "#fb9f3a"
             ],
             [
              0.8888888888888888,
              "#fdca26"
             ],
             [
              1,
              "#f0f921"
             ]
            ],
            "type": "surface"
           }
          ],
          "table": [
           {
            "cells": {
             "fill": {
              "color": "#EBF0F8"
             },
             "line": {
              "color": "white"
             }
            },
            "header": {
             "fill": {
              "color": "#C8D4E3"
             },
             "line": {
              "color": "white"
             }
            },
            "type": "table"
           }
          ]
         },
         "layout": {
          "annotationdefaults": {
           "arrowcolor": "#2a3f5f",
           "arrowhead": 0,
           "arrowwidth": 1
          },
          "autotypenumbers": "strict",
          "coloraxis": {
           "colorbar": {
            "outlinewidth": 0,
            "ticks": ""
           }
          },
          "colorscale": {
           "diverging": [
            [
             0,
             "#8e0152"
            ],
            [
             0.1,
             "#c51b7d"
            ],
            [
             0.2,
             "#de77ae"
            ],
            [
             0.3,
             "#f1b6da"
            ],
            [
             0.4,
             "#fde0ef"
            ],
            [
             0.5,
             "#f7f7f7"
            ],
            [
             0.6,
             "#e6f5d0"
            ],
            [
             0.7,
             "#b8e186"
            ],
            [
             0.8,
             "#7fbc41"
            ],
            [
             0.9,
             "#4d9221"
            ],
            [
             1,
             "#276419"
            ]
           ],
           "sequential": [
            [
             0,
             "#0d0887"
            ],
            [
             0.1111111111111111,
             "#46039f"
            ],
            [
             0.2222222222222222,
             "#7201a8"
            ],
            [
             0.3333333333333333,
             "#9c179e"
            ],
            [
             0.4444444444444444,
             "#bd3786"
            ],
            [
             0.5555555555555556,
             "#d8576b"
            ],
            [
             0.6666666666666666,
             "#ed7953"
            ],
            [
             0.7777777777777778,
             "#fb9f3a"
            ],
            [
             0.8888888888888888,
             "#fdca26"
            ],
            [
             1,
             "#f0f921"
            ]
           ],
           "sequentialminus": [
            [
             0,
             "#0d0887"
            ],
            [
             0.1111111111111111,
             "#46039f"
            ],
            [
             0.2222222222222222,
             "#7201a8"
            ],
            [
             0.3333333333333333,
             "#9c179e"
            ],
            [
             0.4444444444444444,
             "#bd3786"
            ],
            [
             0.5555555555555556,
             "#d8576b"
            ],
            [
             0.6666666666666666,
             "#ed7953"
            ],
            [
             0.7777777777777778,
             "#fb9f3a"
            ],
            [
             0.8888888888888888,
             "#fdca26"
            ],
            [
             1,
             "#f0f921"
            ]
           ]
          },
          "colorway": [
           "#636efa",
           "#EF553B",
           "#00cc96",
           "#ab63fa",
           "#FFA15A",
           "#19d3f3",
           "#FF6692",
           "#B6E880",
           "#FF97FF",
           "#FECB52"
          ],
          "font": {
           "color": "#2a3f5f"
          },
          "geo": {
           "bgcolor": "white",
           "lakecolor": "white",
           "landcolor": "#E5ECF6",
           "showlakes": true,
           "showland": true,
           "subunitcolor": "white"
          },
          "hoverlabel": {
           "align": "left"
          },
          "hovermode": "closest",
          "mapbox": {
           "style": "light"
          },
          "paper_bgcolor": "white",
          "plot_bgcolor": "#E5ECF6",
          "polar": {
           "angularaxis": {
            "gridcolor": "white",
            "linecolor": "white",
            "ticks": ""
           },
           "bgcolor": "#E5ECF6",
           "radialaxis": {
            "gridcolor": "white",
            "linecolor": "white",
            "ticks": ""
           }
          },
          "scene": {
           "xaxis": {
            "backgroundcolor": "#E5ECF6",
            "gridcolor": "white",
            "gridwidth": 2,
            "linecolor": "white",
            "showbackground": true,
            "ticks": "",
            "zerolinecolor": "white"
           },
           "yaxis": {
            "backgroundcolor": "#E5ECF6",
            "gridcolor": "white",
            "gridwidth": 2,
            "linecolor": "white",
            "showbackground": true,
            "ticks": "",
            "zerolinecolor": "white"
           },
           "zaxis": {
            "backgroundcolor": "#E5ECF6",
            "gridcolor": "white",
            "gridwidth": 2,
            "linecolor": "white",
            "showbackground": true,
            "ticks": "",
            "zerolinecolor": "white"
           }
          },
          "shapedefaults": {
           "line": {
            "color": "#2a3f5f"
           }
          },
          "ternary": {
           "aaxis": {
            "gridcolor": "white",
            "linecolor": "white",
            "ticks": ""
           },
           "baxis": {
            "gridcolor": "white",
            "linecolor": "white",
            "ticks": ""
           },
           "bgcolor": "#E5ECF6",
           "caxis": {
            "gridcolor": "white",
            "linecolor": "white",
            "ticks": ""
           }
          },
          "title": {
           "x": 0.05
          },
          "xaxis": {
           "automargin": true,
           "gridcolor": "white",
           "linecolor": "white",
           "ticks": "",
           "title": {
            "standoff": 15
           },
           "zerolinecolor": "white",
           "zerolinewidth": 2
          },
          "yaxis": {
           "automargin": true,
           "gridcolor": "white",
           "linecolor": "white",
           "ticks": "",
           "title": {
            "standoff": 15
           },
           "zerolinecolor": "white",
           "zerolinewidth": 2
          }
         }
        },
        "title": {
         "text": "<b>Relación entre Ingresos Operacionales y Desempeño en Sostenibilidad</b>",
         "x": 0.5
        },
        "xaxis": {
         "anchor": "y",
         "domain": [
          0,
          1
         ],
         "title": {
          "text": "Ingresos Operacionales (Escala Logarítmica)"
         },
         "type": "log"
        },
        "yaxis": {
         "anchor": "x",
         "domain": [
          0,
          1
         ],
         "title": {
          "text": "Puntaje Total de Sostenibilidad"
         }
        }
       }
      }
     },
     "metadata": {},
     "output_type": "display_data"
    }
   ],
   "source": [
    "# 1. Preparación de Datos\n",
    "# Reutilizamos el DataFrame agregado, filtrando valores no positivos en ingresos para la escala logarítmica.\n",
    "scatter_data = company_agg_data[company_agg_data['Ingresos_Operacionales'] > 0].copy()\n",
    "\n",
    "# 2. Creación del Gráfico de Dispersión\n",
    "fig_scatter_trend = px.scatter(\n",
    "    scatter_data,\n",
    "    x=\"Ingresos_Operacionales\",\n",
    "    y=\"Puntaje_Total_Sostenibilidad\",\n",
    "    color=\"Macrosector\",\n",
    "    hover_name=\"Razón social\",\n",
    "    log_x=True,  # Usar escala logarítmica para el eje X (Ingresos)\n",
    "    trendline=\"ols\",  # Añadir línea de tendencia de regresión (Ordinary Least Squares)\n",
    "    trendline_scope=\"overall\" # Una única línea de tendencia para todos los datos\n",
    ")\n",
    "\n",
    "# 3. Personalización y Estilo del Gráfico\n",
    "fig_scatter_trend.update_layout(\n",
    "    title='<b>Relación entre Ingresos Operacionales y Desempeño en Sostenibilidad</b>',\n",
    "    title_x=0.5,\n",
    "    xaxis_title='Ingresos Operacionales (Escala Logarítmica)',\n",
    "    yaxis_title='Puntaje Total de Sostenibilidad',\n",
    "    font=dict(family=\"Arial, sans-serif\", size=12, color=\"black\"),\n",
    "    legend_title_text='Macrosector'\n",
    ")\n",
    "\n",
    "fig_scatter_trend.show()\n",
    "save_chart_as_html(fig_scatter_trend, '14_scatter_trend_income_vs_sustainability.html')\n",
    "# Save as image\n",
    "fig_scatter_trend.write_image(\"img/14_scatter_trend_income_vs_sustainability.png\", width=1000, height=800, scale=2)"
   ]
  },
  {
   "cell_type": "markdown",
   "metadata": {},
   "source": [
    "## 15. Diagrama de Cuerdas (Chord Diagram) de Interconexión Sector-Pilar"
   ]
  },
  {
   "cell_type": "code",
   "execution_count": 32,
   "metadata": {},
   "outputs": [
    {
     "data": {
      "application/vnd.plotly.v1+json": {
       "config": {
        "plotlyServerURL": "https://plot.ly"
       },
       "data": [
        {
         "coloraxis": "coloraxis",
         "hovertemplate": "Pilar de Sostenibilidad: %{x}<br>Macrosector: %{y}<br>Valoración Total: %{z}<extra></extra>",
         "name": "0",
         "texttemplate": "%{z}",
         "type": "heatmap",
         "x": [
          "Acción Climática y Energía",
          "Capital Humano: Bienestar y Desarrollo",
          "Diversidad, Equidad e Inclusión (DEI)",
          "Gestión de Recursos Naturales y Circularidad",
          "Impacto Económico, Social y Comunitario",
          "Transparencia y Gobierno de la Sostenibilidad"
         ],
         "xaxis": "x",
         "y": [
          "Agropecuario",
          "Comercio",
          "Construcción",
          "Manufactura",
          "Minero",
          "Servicios"
         ],
         "yaxis": "y",
         "z": {
          "bdata": "Pc/zPM/zXkAkSZIkSZJMQNu2bdu2bUVA8zzP8zzPV0C2bdu2bdtRQLZt27Zt22FAUxMp+yF3mkC4SurHquyAQJo5Zuc0IIdARWrrju8cdUBEt0M6+SeGQB4eHh4eXplA4ESuOagfe0CFYRiGYVhzQFs3WUnxtWFAjllbCbt/eUC+s1Hf2Wh1QFVVVVVV1YRAu6YE/kQapkAWaGWkHWeQQJeIEqd5V4JA0Z9QrsGPmkBcXfubzx+OQA3lNZTXMJdAVfDUfwlvjUCwoM6toMZ3QLT8dthbwWhASvikAVunjEAYZFOQ+FuGQImd2ImdWIBAXpAUKNQgnUDoxYZo8D2DQDolRHb0LZNAxcnV/b2KhUDAEtn58tOVQJeWlpaWXqVA",
          "dtype": "f8",
          "shape": "6, 6"
         }
        }
       ],
       "layout": {
        "coloraxis": {
         "colorbar": {
          "title": {
           "text": "Valoración Total"
          }
         },
         "colorscale": [
          [
           0,
           "#440154"
          ],
          [
           0.1111111111111111,
           "#482878"
          ],
          [
           0.2222222222222222,
           "#3e4989"
          ],
          [
           0.3333333333333333,
           "#31688e"
          ],
          [
           0.4444444444444444,
           "#26828e"
          ],
          [
           0.5555555555555556,
           "#1f9e89"
          ],
          [
           0.6666666666666666,
           "#35b779"
          ],
          [
           0.7777777777777778,
           "#6ece58"
          ],
          [
           0.8888888888888888,
           "#b5de2b"
          ],
          [
           1,
           "#fde725"
          ]
         ]
        },
        "font": {
         "color": "black",
         "family": "Arial, sans-serif",
         "size": 10
        },
        "margin": {
         "t": 60
        },
        "template": {
         "data": {
          "bar": [
           {
            "error_x": {
             "color": "#2a3f5f"
            },
            "error_y": {
             "color": "#2a3f5f"
            },
            "marker": {
             "line": {
              "color": "#E5ECF6",
              "width": 0.5
             },
             "pattern": {
              "fillmode": "overlay",
              "size": 10,
              "solidity": 0.2
             }
            },
            "type": "bar"
           }
          ],
          "barpolar": [
           {
            "marker": {
             "line": {
              "color": "#E5ECF6",
              "width": 0.5
             },
             "pattern": {
              "fillmode": "overlay",
              "size": 10,
              "solidity": 0.2
             }
            },
            "type": "barpolar"
           }
          ],
          "carpet": [
           {
            "aaxis": {
             "endlinecolor": "#2a3f5f",
             "gridcolor": "white",
             "linecolor": "white",
             "minorgridcolor": "white",
             "startlinecolor": "#2a3f5f"
            },
            "baxis": {
             "endlinecolor": "#2a3f5f",
             "gridcolor": "white",
             "linecolor": "white",
             "minorgridcolor": "white",
             "startlinecolor": "#2a3f5f"
            },
            "type": "carpet"
           }
          ],
          "choropleth": [
           {
            "colorbar": {
             "outlinewidth": 0,
             "ticks": ""
            },
            "type": "choropleth"
           }
          ],
          "contour": [
           {
            "colorbar": {
             "outlinewidth": 0,
             "ticks": ""
            },
            "colorscale": [
             [
              0,
              "#0d0887"
             ],
             [
              0.1111111111111111,
              "#46039f"
             ],
             [
              0.2222222222222222,
              "#7201a8"
             ],
             [
              0.3333333333333333,
              "#9c179e"
             ],
             [
              0.4444444444444444,
              "#bd3786"
             ],
             [
              0.5555555555555556,
              "#d8576b"
             ],
             [
              0.6666666666666666,
              "#ed7953"
             ],
             [
              0.7777777777777778,
              "#fb9f3a"
             ],
             [
              0.8888888888888888,
              "#fdca26"
             ],
             [
              1,
              "#f0f921"
             ]
            ],
            "type": "contour"
           }
          ],
          "contourcarpet": [
           {
            "colorbar": {
             "outlinewidth": 0,
             "ticks": ""
            },
            "type": "contourcarpet"
           }
          ],
          "heatmap": [
           {
            "colorbar": {
             "outlinewidth": 0,
             "ticks": ""
            },
            "colorscale": [
             [
              0,
              "#0d0887"
             ],
             [
              0.1111111111111111,
              "#46039f"
             ],
             [
              0.2222222222222222,
              "#7201a8"
             ],
             [
              0.3333333333333333,
              "#9c179e"
             ],
             [
              0.4444444444444444,
              "#bd3786"
             ],
             [
              0.5555555555555556,
              "#d8576b"
             ],
             [
              0.6666666666666666,
              "#ed7953"
             ],
             [
              0.7777777777777778,
              "#fb9f3a"
             ],
             [
              0.8888888888888888,
              "#fdca26"
             ],
             [
              1,
              "#f0f921"
             ]
            ],
            "type": "heatmap"
           }
          ],
          "histogram": [
           {
            "marker": {
             "pattern": {
              "fillmode": "overlay",
              "size": 10,
              "solidity": 0.2
             }
            },
            "type": "histogram"
           }
          ],
          "histogram2d": [
           {
            "colorbar": {
             "outlinewidth": 0,
             "ticks": ""
            },
            "colorscale": [
             [
              0,
              "#0d0887"
             ],
             [
              0.1111111111111111,
              "#46039f"
             ],
             [
              0.2222222222222222,
              "#7201a8"
             ],
             [
              0.3333333333333333,
              "#9c179e"
             ],
             [
              0.4444444444444444,
              "#bd3786"
             ],
             [
              0.5555555555555556,
              "#d8576b"
             ],
             [
              0.6666666666666666,
              "#ed7953"
             ],
             [
              0.7777777777777778,
              "#fb9f3a"
             ],
             [
              0.8888888888888888,
              "#fdca26"
             ],
             [
              1,
              "#f0f921"
             ]
            ],
            "type": "histogram2d"
           }
          ],
          "histogram2dcontour": [
           {
            "colorbar": {
             "outlinewidth": 0,
             "ticks": ""
            },
            "colorscale": [
             [
              0,
              "#0d0887"
             ],
             [
              0.1111111111111111,
              "#46039f"
             ],
             [
              0.2222222222222222,
              "#7201a8"
             ],
             [
              0.3333333333333333,
              "#9c179e"
             ],
             [
              0.4444444444444444,
              "#bd3786"
             ],
             [
              0.5555555555555556,
              "#d8576b"
             ],
             [
              0.6666666666666666,
              "#ed7953"
             ],
             [
              0.7777777777777778,
              "#fb9f3a"
             ],
             [
              0.8888888888888888,
              "#fdca26"
             ],
             [
              1,
              "#f0f921"
             ]
            ],
            "type": "histogram2dcontour"
           }
          ],
          "mesh3d": [
           {
            "colorbar": {
             "outlinewidth": 0,
             "ticks": ""
            },
            "type": "mesh3d"
           }
          ],
          "parcoords": [
           {
            "line": {
             "colorbar": {
              "outlinewidth": 0,
              "ticks": ""
             }
            },
            "type": "parcoords"
           }
          ],
          "pie": [
           {
            "automargin": true,
            "type": "pie"
           }
          ],
          "scatter": [
           {
            "fillpattern": {
             "fillmode": "overlay",
             "size": 10,
             "solidity": 0.2
            },
            "type": "scatter"
           }
          ],
          "scatter3d": [
           {
            "line": {
             "colorbar": {
              "outlinewidth": 0,
              "ticks": ""
             }
            },
            "marker": {
             "colorbar": {
              "outlinewidth": 0,
              "ticks": ""
             }
            },
            "type": "scatter3d"
           }
          ],
          "scattercarpet": [
           {
            "marker": {
             "colorbar": {
              "outlinewidth": 0,
              "ticks": ""
             }
            },
            "type": "scattercarpet"
           }
          ],
          "scattergeo": [
           {
            "marker": {
             "colorbar": {
              "outlinewidth": 0,
              "ticks": ""
             }
            },
            "type": "scattergeo"
           }
          ],
          "scattergl": [
           {
            "marker": {
             "colorbar": {
              "outlinewidth": 0,
              "ticks": ""
             }
            },
            "type": "scattergl"
           }
          ],
          "scattermap": [
           {
            "marker": {
             "colorbar": {
              "outlinewidth": 0,
              "ticks": ""
             }
            },
            "type": "scattermap"
           }
          ],
          "scattermapbox": [
           {
            "marker": {
             "colorbar": {
              "outlinewidth": 0,
              "ticks": ""
             }
            },
            "type": "scattermapbox"
           }
          ],
          "scatterpolar": [
           {
            "marker": {
             "colorbar": {
              "outlinewidth": 0,
              "ticks": ""
             }
            },
            "type": "scatterpolar"
           }
          ],
          "scatterpolargl": [
           {
            "marker": {
             "colorbar": {
              "outlinewidth": 0,
              "ticks": ""
             }
            },
            "type": "scatterpolargl"
           }
          ],
          "scatterternary": [
           {
            "marker": {
             "colorbar": {
              "outlinewidth": 0,
              "ticks": ""
             }
            },
            "type": "scatterternary"
           }
          ],
          "surface": [
           {
            "colorbar": {
             "outlinewidth": 0,
             "ticks": ""
            },
            "colorscale": [
             [
              0,
              "#0d0887"
             ],
             [
              0.1111111111111111,
              "#46039f"
             ],
             [
              0.2222222222222222,
              "#7201a8"
             ],
             [
              0.3333333333333333,
              "#9c179e"
             ],
             [
              0.4444444444444444,
              "#bd3786"
             ],
             [
              0.5555555555555556,
              "#d8576b"
             ],
             [
              0.6666666666666666,
              "#ed7953"
             ],
             [
              0.7777777777777778,
              "#fb9f3a"
             ],
             [
              0.8888888888888888,
              "#fdca26"
             ],
             [
              1,
              "#f0f921"
             ]
            ],
            "type": "surface"
           }
          ],
          "table": [
           {
            "cells": {
             "fill": {
              "color": "#EBF0F8"
             },
             "line": {
              "color": "white"
             }
            },
            "header": {
             "fill": {
              "color": "#C8D4E3"
             },
             "line": {
              "color": "white"
             }
            },
            "type": "table"
           }
          ]
         },
         "layout": {
          "annotationdefaults": {
           "arrowcolor": "#2a3f5f",
           "arrowhead": 0,
           "arrowwidth": 1
          },
          "autotypenumbers": "strict",
          "coloraxis": {
           "colorbar": {
            "outlinewidth": 0,
            "ticks": ""
           }
          },
          "colorscale": {
           "diverging": [
            [
             0,
             "#8e0152"
            ],
            [
             0.1,
             "#c51b7d"
            ],
            [
             0.2,
             "#de77ae"
            ],
            [
             0.3,
             "#f1b6da"
            ],
            [
             0.4,
             "#fde0ef"
            ],
            [
             0.5,
             "#f7f7f7"
            ],
            [
             0.6,
             "#e6f5d0"
            ],
            [
             0.7,
             "#b8e186"
            ],
            [
             0.8,
             "#7fbc41"
            ],
            [
             0.9,
             "#4d9221"
            ],
            [
             1,
             "#276419"
            ]
           ],
           "sequential": [
            [
             0,
             "#0d0887"
            ],
            [
             0.1111111111111111,
             "#46039f"
            ],
            [
             0.2222222222222222,
             "#7201a8"
            ],
            [
             0.3333333333333333,
             "#9c179e"
            ],
            [
             0.4444444444444444,
             "#bd3786"
            ],
            [
             0.5555555555555556,
             "#d8576b"
            ],
            [
             0.6666666666666666,
             "#ed7953"
            ],
            [
             0.7777777777777778,
             "#fb9f3a"
            ],
            [
             0.8888888888888888,
             "#fdca26"
            ],
            [
             1,
             "#f0f921"
            ]
           ],
           "sequentialminus": [
            [
             0,
             "#0d0887"
            ],
            [
             0.1111111111111111,
             "#46039f"
            ],
            [
             0.2222222222222222,
             "#7201a8"
            ],
            [
             0.3333333333333333,
             "#9c179e"
            ],
            [
             0.4444444444444444,
             "#bd3786"
            ],
            [
             0.5555555555555556,
             "#d8576b"
            ],
            [
             0.6666666666666666,
             "#ed7953"
            ],
            [
             0.7777777777777778,
             "#fb9f3a"
            ],
            [
             0.8888888888888888,
             "#fdca26"
            ],
            [
             1,
             "#f0f921"
            ]
           ]
          },
          "colorway": [
           "#636efa",
           "#EF553B",
           "#00cc96",
           "#ab63fa",
           "#FFA15A",
           "#19d3f3",
           "#FF6692",
           "#B6E880",
           "#FF97FF",
           "#FECB52"
          ],
          "font": {
           "color": "#2a3f5f"
          },
          "geo": {
           "bgcolor": "white",
           "lakecolor": "white",
           "landcolor": "#E5ECF6",
           "showlakes": true,
           "showland": true,
           "subunitcolor": "white"
          },
          "hoverlabel": {
           "align": "left"
          },
          "hovermode": "closest",
          "mapbox": {
           "style": "light"
          },
          "paper_bgcolor": "white",
          "plot_bgcolor": "#E5ECF6",
          "polar": {
           "angularaxis": {
            "gridcolor": "white",
            "linecolor": "white",
            "ticks": ""
           },
           "bgcolor": "#E5ECF6",
           "radialaxis": {
            "gridcolor": "white",
            "linecolor": "white",
            "ticks": ""
           }
          },
          "scene": {
           "xaxis": {
            "backgroundcolor": "#E5ECF6",
            "gridcolor": "white",
            "gridwidth": 2,
            "linecolor": "white",
            "showbackground": true,
            "ticks": "",
            "zerolinecolor": "white"
           },
           "yaxis": {
            "backgroundcolor": "#E5ECF6",
            "gridcolor": "white",
            "gridwidth": 2,
            "linecolor": "white",
            "showbackground": true,
            "ticks": "",
            "zerolinecolor": "white"
           },
           "zaxis": {
            "backgroundcolor": "#E5ECF6",
            "gridcolor": "white",
            "gridwidth": 2,
            "linecolor": "white",
            "showbackground": true,
            "ticks": "",
            "zerolinecolor": "white"
           }
          },
          "shapedefaults": {
           "line": {
            "color": "#2a3f5f"
           }
          },
          "ternary": {
           "aaxis": {
            "gridcolor": "white",
            "linecolor": "white",
            "ticks": ""
           },
           "baxis": {
            "gridcolor": "white",
            "linecolor": "white",
            "ticks": ""
           },
           "bgcolor": "#E5ECF6",
           "caxis": {
            "gridcolor": "white",
            "linecolor": "white",
            "ticks": ""
           }
          },
          "title": {
           "x": 0.05
          },
          "xaxis": {
           "automargin": true,
           "gridcolor": "white",
           "linecolor": "white",
           "ticks": "",
           "title": {
            "standoff": 15
           },
           "zerolinecolor": "white",
           "zerolinewidth": 2
          },
          "yaxis": {
           "automargin": true,
           "gridcolor": "white",
           "linecolor": "white",
           "ticks": "",
           "title": {
            "standoff": 15
           },
           "zerolinecolor": "white",
           "zerolinewidth": 2
          }
         }
        },
        "title": {
         "text": "<b>Interconexión y Especialización: Macrosector vs. Pilar de Sostenibilidad</b><br><sup>El color representa la valoración total acumulada</sup>",
         "x": 0.5
        },
        "xaxis": {
         "anchor": "y",
         "domain": [
          0,
          1
         ],
         "tickangle": -45,
         "title": {
          "text": "Pilar de Sostenibilidad"
         }
        },
        "yaxis": {
         "anchor": "x",
         "autorange": "reversed",
         "domain": [
          0,
          1
         ],
         "title": {
          "text": "Macrosector"
         }
        }
       }
      }
     },
     "metadata": {},
     "output_type": "display_data"
    }
   ],
   "source": [
    "# 1. Preparación de Datos\n",
    "# Agrupar por Macrosector y Nombre Pilar, sumando la valoración ponderada.\n",
    "chord_data = raw_data.groupby(['Macrosector', 'Nombre Pilar'])['valoracionPonderada'].sum().reset_index()\n",
    "\n",
    "# Pivotar los datos para crear una matriz: Sectores en filas, Pilares en columnas.\n",
    "chord_matrix = chord_data.pivot(\n",
    "    index='Macrosector', \n",
    "    columns='Nombre Pilar', \n",
    "    values='valoracionPonderada'\n",
    ").fillna(0)\n",
    "\n",
    "# 2. Creación del Gráfico (Heatmap)\n",
    "fig_chord_alternative = px.imshow(\n",
    "    chord_matrix,\n",
    "    text_auto=True,\n",
    "    aspect=\"auto\",\n",
    "    color_continuous_scale='Viridis',\n",
    "    labels=dict(x=\"Pilar de Sostenibilidad\", y=\"Macrosector\", color=\"Valoración Total\")\n",
    ")\n",
    "\n",
    "# 3. Personalización y Estilo del Gráfico\n",
    "fig_chord_alternative.update_layout(\n",
    "    title_text='<b>Interconexión y Especialización: Macrosector vs. Pilar de Sostenibilidad</b><br><sup>El color representa la valoración total acumulada</sup>',\n",
    "    title_x=0.5,\n",
    "    xaxis_tickangle=-45,\n",
    "    font=dict(family=\"Arial, sans-serif\", size=10, color=\"black\")\n",
    ")\n",
    "\n",
    "fig_chord_alternative.show()\n",
    "save_chart_as_html(fig_chord_alternative, '15_chord_alternative_macrosector_vs_pillar.html')\n",
    "# Save as image\n",
    "fig_chord_alternative.write_image(\"img/15_chord_alternative_macrosector_vs_pillar.png\", width=1000, height=800, scale=2)    "
   ]
  },
  {
   "cell_type": "markdown",
   "metadata": {},
   "source": [
    "## 16. Gráfico de Barras Anidadas: Variables Clave por Pilar y Liderazgo Sectorial"
   ]
  },
  {
   "cell_type": "code",
   "execution_count": 33,
   "metadata": {},
   "outputs": [
    {
     "data": {
      "application/vnd.plotly.v1+json": {
       "config": {
        "plotlyServerURL": "https://plot.ly"
       },
       "data": [
        {
         "hovertemplate": "Sector_Lider=Manufactura<br>Nombre Pilar=Acción Climática y Energía<br>Valoración Ponderada Promedio=%{x}<br>=%{y}<extra></extra>",
         "legendgroup": "Manufactura",
         "marker": {
          "color": "rgb(102,194,165)",
          "pattern": {
           "shape": ""
          }
         },
         "name": "Manufactura",
         "orientation": "h",
         "showlegend": true,
         "textposition": "auto",
         "type": "bar",
         "x": {
          "bdata": "nfu4BUGLF0DFKhxSMuMQQIuSpd4YUyJA7aTagDeeIUAF41JZaQAmQEMIPQulvSVA",
          "dtype": "f8"
         },
         "xaxis": "x4",
         "y": [
          "Acción climática (0-2)",
          "Alcance 3 en t CO2 eq",
          "Evidencia diversidad en su<br>matriz energética Si/no",
          "¿Reporta consumo energético<br>(GRI 302)?",
          "¿Reporta emisiones GEI (GRI<br>305)?",
          "¿Tiene meta de reducción de<br>emisiones? Si/No"
         ],
         "yaxis": "y4"
        },
        {
         "hovertemplate": "Sector_Lider=Manufactura<br>Nombre Pilar=Capital Humano: Bienestar y Desarrollo<br>Valoración Ponderada Promedio=%{x}<br>=%{y}<extra></extra>",
         "legendgroup": "Manufactura",
         "marker": {
          "color": "rgb(102,194,165)",
          "pattern": {
           "shape": ""
          }
         },
         "name": "Manufactura",
         "orientation": "h",
         "showlegend": false,
         "textposition": "auto",
         "type": "bar",
         "x": {
          "bdata": "KX52w2AOKEDmS8d4VHAkQA==",
          "dtype": "f8"
         },
         "xaxis": "x5",
         "y": [
          "¿Informa sobre salud y<br>seguridad laboral (GRI 403)?",
          "¿Tiene indicadores de<br>desarrollo del talento humano?<br>Si/no"
         ],
         "yaxis": "y5"
        },
        {
         "hovertemplate": "Sector_Lider=Manufactura<br>Nombre Pilar=Gestión de Recursos Naturales y Circularidad<br>Valoración Ponderada Promedio=%{x}<br>=%{y}<extra></extra>",
         "legendgroup": "Manufactura",
         "marker": {
          "color": "rgb(102,194,165)",
          "pattern": {
           "shape": ""
          }
         },
         "name": "Manufactura",
         "orientation": "h",
         "showlegend": false,
         "textposition": "auto",
         "type": "bar",
         "x": {
          "bdata": "Y6pqDmlKD0C74xHtxWQcQA==",
          "dtype": "f8"
         },
         "xaxis": "x",
         "y": [
          "Iniciativas de economía<br>circular (0-2)",
          "¿Reporta uso de agua (GRI<br>303)?"
         ],
         "yaxis": "y"
        },
        {
         "hovertemplate": "Sector_Lider=Manufactura<br>Nombre Pilar=Impacto Económico, Social y Comunitario<br>Valoración Ponderada Promedio=%{x}<br>=%{y}<extra></extra>",
         "legendgroup": "Manufactura",
         "marker": {
          "color": "rgb(102,194,165)",
          "pattern": {
           "shape": ""
          }
         },
         "name": "Manufactura",
         "orientation": "h",
         "showlegend": false,
         "textposition": "auto",
         "type": "bar",
         "x": {
          "bdata": "QbgCr69ZAEBhFGHbIUaxPw==",
          "dtype": "f8"
         },
         "xaxis": "x2",
         "y": [
          "¿Reporta GRI 207 (prácticas<br>fiscales)? Si/no",
          "¿Se evidencia impacto positivo<br>en comunidades locales? (0-2)"
         ],
         "yaxis": "y2"
        },
        {
         "hovertemplate": "Sector_Lider=Minero<br>Nombre Pilar=Acción Climática y Energía<br>Valoración Ponderada Promedio=%{x}<br>=%{y}<extra></extra>",
         "legendgroup": "Minero",
         "marker": {
          "color": "rgb(252,141,98)",
          "pattern": {
           "shape": ""
          }
         },
         "name": "Minero",
         "orientation": "h",
         "showlegend": true,
         "textposition": "auto",
         "type": "bar",
         "x": {
          "bdata": "qwVR+yb9GkBPFGEJgeoWQC/CW/nTXxhA",
          "dtype": "f8"
         },
         "xaxis": "x4",
         "y": [
          "Alcance 1 en t CO2 eq",
          "Alcance 2 en t CO2 eq",
          "Consumo total de la<br>organización (MJ)"
         ],
         "yaxis": "y4"
        },
        {
         "hovertemplate": "Sector_Lider=Minero<br>Nombre Pilar=Capital Humano: Bienestar y Desarrollo<br>Valoración Ponderada Promedio=%{x}<br>=%{y}<extra></extra>",
         "legendgroup": "Minero",
         "marker": {
          "color": "rgb(252,141,98)",
          "pattern": {
           "shape": ""
          }
         },
         "name": "Minero",
         "orientation": "h",
         "showlegend": false,
         "textposition": "auto",
         "type": "bar",
         "x": {
          "bdata": "umlynduRAEArF5HBXrYAQA==",
          "dtype": "f8"
         },
         "xaxis": "x5",
         "y": [
          "Promedio de horas de formación<br>hombres (GRI 404)",
          "Promedio de horas de formación<br>mujeres (GRI 404)"
         ],
         "yaxis": "y5"
        },
        {
         "hovertemplate": "Sector_Lider=Minero<br>Nombre Pilar=Diversidad, Equidad e Inclusión (DEI)<br>Valoración Ponderada Promedio=%{x}<br>=%{y}<extra></extra>",
         "legendgroup": "Minero",
         "marker": {
          "color": "rgb(252,141,98)",
          "pattern": {
           "shape": ""
          }
         },
         "name": "Minero",
         "orientation": "h",
         "showlegend": false,
         "textposition": "auto",
         "type": "bar",
         "x": {
          "bdata": "s9ocyfNXDkA=",
          "dtype": "f8"
         },
         "xaxis": "x6",
         "y": [
          "Porcentaje mujeres en<br>organización"
         ],
         "yaxis": "y6"
        },
        {
         "hovertemplate": "Sector_Lider=Minero<br>Nombre Pilar=Gestión de Recursos Naturales y Circularidad<br>Valoración Ponderada Promedio=%{x}<br>=%{y}<extra></extra>",
         "legendgroup": "Minero",
         "marker": {
          "color": "rgb(252,141,98)",
          "pattern": {
           "shape": ""
          }
         },
         "name": "Minero",
         "orientation": "h",
         "showlegend": false,
         "textposition": "auto",
         "type": "bar",
         "x": {
          "bdata": "GI9XdAo+D0DznHfycFITQONyUjpm9xpAJYvLpS0SD0DTG3OUrawRQCkfsRLWcSBA",
          "dtype": "f8"
         },
         "xaxis": "x",
         "y": [
          "Consumo total de agua (m³)",
          "Generación total de residuos<br>en toneladas",
          "Gestión de biodiversidad Si/no",
          "Gestión del recurso hídrico<br>(0-2)",
          "Metas relacionadas a<br>biodiversidad Si/no",
          "¿Reporta gestión de residuos<br>(GRI 306)?"
         ],
         "yaxis": "y"
        },
        {
         "hovertemplate": "Sector_Lider=Minero<br>Nombre Pilar=Impacto Económico, Social y Comunitario<br>Valoración Ponderada Promedio=%{x}<br>=%{y}<extra></extra>",
         "legendgroup": "Minero",
         "marker": {
          "color": "rgb(252,141,98)",
          "pattern": {
           "shape": ""
          }
         },
         "name": "Minero",
         "orientation": "h",
         "showlegend": false,
         "textposition": "auto",
         "type": "bar",
         "x": {
          "bdata": "XFnXJ5SnCkBrbGGyV5joP3vHrHKcdes/TNKj+qS4IUB+guTO4CcQQDJEHaLZwwJA",
          "dtype": "f8"
         },
         "xaxis": "x2",
         "y": [
          "Independencia en junta<br>directiva (0-2)",
          "Porcentaje de inversión en la<br>comunidad sobre VED",
          "Porcentaje de salarios y<br>beneficios sobre VED",
          "¿Realiza inversión social en<br>comunidades (GRI 413)?",
          "¿Reporta valor económico<br>directo generado y distribuido<br>(GRI 201-1)? Si/No",
          "¿Tiene programas para<br>construcción de paz?<br>(beneficios a poblaciones<br>desplazadas, victimas de<br>conflicto, excombatientes)<br>Si/no"
         ],
         "yaxis": "y2"
        },
        {
         "hovertemplate": "Sector_Lider=Servicios<br>Nombre Pilar=Acción Climática y Energía<br>Valoración Ponderada Promedio=%{x}<br>=%{y}<extra></extra>",
         "legendgroup": "Servicios",
         "marker": {
          "color": "rgb(141,160,203)",
          "pattern": {
           "shape": ""
          }
         },
         "name": "Servicios",
         "orientation": "h",
         "showlegend": true,
         "textposition": "auto",
         "type": "bar",
         "x": {
          "bdata": "xKwj3qfn7j8=",
          "dtype": "f8"
         },
         "xaxis": "x4",
         "y": [
          "¿Es carbononeutro? Si/no"
         ],
         "yaxis": "y4"
        },
        {
         "hovertemplate": "Sector_Lider=Servicios<br>Nombre Pilar=Capital Humano: Bienestar y Desarrollo<br>Valoración Ponderada Promedio=%{x}<br>=%{y}<extra></extra>",
         "legendgroup": "Servicios",
         "marker": {
          "color": "rgb(141,160,203)",
          "pattern": {
           "shape": ""
          }
         },
         "name": "Servicios",
         "orientation": "h",
         "showlegend": false,
         "textposition": "auto",
         "type": "bar",
         "x": {
          "bdata": "AJD+H2Be6D9jzPXSXgzpPw==",
          "dtype": "f8"
         },
         "xaxis": "x5",
         "y": [
          "Días perdidos por cada 100<br>empleados",
          "Días perdidos por enfermedad y<br>accidente laboral"
         ],
         "yaxis": "y5"
        },
        {
         "hovertemplate": "Sector_Lider=Servicios<br>Nombre Pilar=Diversidad, Equidad e Inclusión (DEI)<br>Valoración Ponderada Promedio=%{x}<br>=%{y}<extra></extra>",
         "legendgroup": "Servicios",
         "marker": {
          "color": "rgb(141,160,203)",
          "pattern": {
           "shape": ""
          }
         },
         "name": "Servicios",
         "orientation": "h",
         "showlegend": false,
         "textposition": "auto",
         "type": "bar",
         "x": {
          "bdata": "6zF1o3zI9z8fDcVTPusQQMUreNg2XgRA9OpLYOKiGEBE92zUYcYZQA==",
          "dtype": "f8"
         },
         "xaxis": "x6",
         "y": [
          "Permiso marental con beneficio<br>extralegal (Sí/no)",
          "Porcentaje de mujeres en junta<br>directiva",
          "Porcentaje de personas con<br>discapacidad empleadas",
          "Proporción y detalle al<br>informar prácticas DEI GRI 405<br>(0-2)",
          "¿Informa sobre inclusión<br>laboral para personas con<br>discapacidad?"
         ],
         "yaxis": "y6"
        },
        {
         "hovertemplate": "Sector_Lider=Servicios<br>Nombre Pilar=Impacto Económico, Social y Comunitario<br>Valoración Ponderada Promedio=%{x}<br>=%{y}<extra></extra>",
         "legendgroup": "Servicios",
         "marker": {
          "color": "rgb(141,160,203)",
          "pattern": {
           "shape": ""
          }
         },
         "name": "Servicios",
         "orientation": "h",
         "showlegend": false,
         "textposition": "auto",
         "type": "bar",
         "x": {
          "bdata": "6axZMhrq5z/g1Z9qzDIJQBfBgUZ7ahNAX1oaVrGDEEA=",
          "dtype": "f8"
         },
         "xaxis": "x2",
         "y": [
          "Porcentaje de pagos a gobierno<br>sobre VED",
          "¿Cuál es el porcentaje de<br>proveeduría local?",
          "¿Nivel de políticas y<br>compromisos éticos?<br>(anticorrupción, canal de<br>denuncias) 0-2",
          "¿Reporta sanciones y multas?<br>(Si/No) 206-1"
         ],
         "yaxis": "y2"
        },
        {
         "hovertemplate": "Sector_Lider=Servicios<br>Nombre Pilar=Transparencia y Gobierno de la Sostenibilidad<br>Valoración Ponderada Promedio=%{x}<br>=%{y}<extra></extra>",
         "legendgroup": "Servicios",
         "marker": {
          "color": "rgb(141,160,203)",
          "pattern": {
           "shape": ""
          }
         },
         "name": "Servicios",
         "orientation": "h",
         "showlegend": false,
         "textposition": "auto",
         "type": "bar",
         "x": {
          "bdata": "QpBd4N/sIUAo5ovAKtQpQNlibF6G3ypA6Dgb838BMEATGFTSCz4qQA==",
          "dtype": "f8"
         },
         "xaxis": "x3",
         "y": [
          "¿Incluye mapeo de ODS? Si/No",
          "¿Tiene análisis de<br>materialidad? Si/No",
          "¿Tiene carta de presidencia?<br>Si/No",
          "¿Tiene informe? Si/No",
          "¿Utiliza estándar GRI? Si/No"
         ],
         "yaxis": "y3"
        },
        {
         "hovertemplate": "Sector_Lider=Construcción<br>Nombre Pilar=Impacto Económico, Social y Comunitario<br>Valoración Ponderada Promedio=%{x}<br>=%{y}<extra></extra>",
         "legendgroup": "Construcción",
         "marker": {
          "color": "rgb(231,138,195)",
          "pattern": {
           "shape": ""
          }
         },
         "name": "Construcción",
         "orientation": "h",
         "showlegend": true,
         "textposition": "auto",
         "type": "bar",
         "x": {
          "bdata": "kBn1k4bsFkA=",
          "dtype": "f8"
         },
         "xaxis": "x2",
         "y": [
          "¿Informa proporción de gasto<br>en proveedores locales (GRI<br>204-1)? Si/No"
         ],
         "yaxis": "y2"
        },
        {
         "hovertemplate": "Sector_Lider=Agropecuario<br>Nombre Pilar=Transparencia y Gobierno de la Sostenibilidad<br>Valoración Ponderada Promedio=%{x}<br>=%{y}<extra></extra>",
         "legendgroup": "Agropecuario",
         "marker": {
          "color": "rgb(166,216,84)",
          "pattern": {
           "shape": ""
          }
         },
         "name": "Agropecuario",
         "orientation": "h",
         "showlegend": true,
         "textposition": "auto",
         "type": "bar",
         "x": {
          "bdata": "AAAAAAAAAAA=",
          "dtype": "f8"
         },
         "xaxis": "x3",
         "y": [
          "Año del informe 2023/2024"
         ],
         "yaxis": "y3"
        }
       ],
       "layout": {
        "annotations": [
         {
          "font": {},
          "showarrow": false,
          "text": "Gestión de Recursos Naturales y Circularidad",
          "x": 0.16333333333333333,
          "xanchor": "center",
          "xref": "paper",
          "y": 0.46499999999999997,
          "yanchor": "bottom",
          "yref": "paper"
         },
         {
          "font": {},
          "showarrow": false,
          "text": "Impacto Económico, Social y Comunitario",
          "x": 0.5,
          "xanchor": "center",
          "xref": "paper",
          "y": 0.46499999999999997,
          "yanchor": "bottom",
          "yref": "paper"
         },
         {
          "font": {},
          "showarrow": false,
          "text": "Transparencia y Gobierno de la Sostenibilidad",
          "x": 0.8366666666666667,
          "xanchor": "center",
          "xref": "paper",
          "y": 0.46499999999999997,
          "yanchor": "bottom",
          "yref": "paper"
         },
         {
          "font": {},
          "showarrow": false,
          "text": "Acción Climática y Energía",
          "x": 0.16333333333333333,
          "xanchor": "center",
          "xref": "paper",
          "y": 0.9999999999999999,
          "yanchor": "bottom",
          "yref": "paper"
         },
         {
          "font": {},
          "showarrow": false,
          "text": "Capital Humano: Bienestar y Desarrollo",
          "x": 0.5,
          "xanchor": "center",
          "xref": "paper",
          "y": 0.9999999999999999,
          "yanchor": "bottom",
          "yref": "paper"
         },
         {
          "font": {},
          "showarrow": false,
          "text": "Diversidad, Equidad e Inclusión (DEI)",
          "x": 0.8366666666666667,
          "xanchor": "center",
          "xref": "paper",
          "y": 0.9999999999999999,
          "yanchor": "bottom",
          "yref": "paper"
         }
        ],
        "barmode": "relative",
        "font": {
         "color": "black",
         "family": "Arial, sans-serif",
         "size": 10
        },
        "height": 1800,
        "legend": {
         "title": {
          "text": "Sector_Lider"
         },
         "tracegroupgap": 0
        },
        "margin": {
         "t": 60
        },
        "template": {
         "data": {
          "bar": [
           {
            "error_x": {
             "color": "#2a3f5f"
            },
            "error_y": {
             "color": "#2a3f5f"
            },
            "marker": {
             "line": {
              "color": "#E5ECF6",
              "width": 0.5
             },
             "pattern": {
              "fillmode": "overlay",
              "size": 10,
              "solidity": 0.2
             }
            },
            "type": "bar"
           }
          ],
          "barpolar": [
           {
            "marker": {
             "line": {
              "color": "#E5ECF6",
              "width": 0.5
             },
             "pattern": {
              "fillmode": "overlay",
              "size": 10,
              "solidity": 0.2
             }
            },
            "type": "barpolar"
           }
          ],
          "carpet": [
           {
            "aaxis": {
             "endlinecolor": "#2a3f5f",
             "gridcolor": "white",
             "linecolor": "white",
             "minorgridcolor": "white",
             "startlinecolor": "#2a3f5f"
            },
            "baxis": {
             "endlinecolor": "#2a3f5f",
             "gridcolor": "white",
             "linecolor": "white",
             "minorgridcolor": "white",
             "startlinecolor": "#2a3f5f"
            },
            "type": "carpet"
           }
          ],
          "choropleth": [
           {
            "colorbar": {
             "outlinewidth": 0,
             "ticks": ""
            },
            "type": "choropleth"
           }
          ],
          "contour": [
           {
            "colorbar": {
             "outlinewidth": 0,
             "ticks": ""
            },
            "colorscale": [
             [
              0,
              "#0d0887"
             ],
             [
              0.1111111111111111,
              "#46039f"
             ],
             [
              0.2222222222222222,
              "#7201a8"
             ],
             [
              0.3333333333333333,
              "#9c179e"
             ],
             [
              0.4444444444444444,
              "#bd3786"
             ],
             [
              0.5555555555555556,
              "#d8576b"
             ],
             [
              0.6666666666666666,
              "#ed7953"
             ],
             [
              0.7777777777777778,
              "#fb9f3a"
             ],
             [
              0.8888888888888888,
              "#fdca26"
             ],
             [
              1,
              "#f0f921"
             ]
            ],
            "type": "contour"
           }
          ],
          "contourcarpet": [
           {
            "colorbar": {
             "outlinewidth": 0,
             "ticks": ""
            },
            "type": "contourcarpet"
           }
          ],
          "heatmap": [
           {
            "colorbar": {
             "outlinewidth": 0,
             "ticks": ""
            },
            "colorscale": [
             [
              0,
              "#0d0887"
             ],
             [
              0.1111111111111111,
              "#46039f"
             ],
             [
              0.2222222222222222,
              "#7201a8"
             ],
             [
              0.3333333333333333,
              "#9c179e"
             ],
             [
              0.4444444444444444,
              "#bd3786"
             ],
             [
              0.5555555555555556,
              "#d8576b"
             ],
             [
              0.6666666666666666,
              "#ed7953"
             ],
             [
              0.7777777777777778,
              "#fb9f3a"
             ],
             [
              0.8888888888888888,
              "#fdca26"
             ],
             [
              1,
              "#f0f921"
             ]
            ],
            "type": "heatmap"
           }
          ],
          "histogram": [
           {
            "marker": {
             "pattern": {
              "fillmode": "overlay",
              "size": 10,
              "solidity": 0.2
             }
            },
            "type": "histogram"
           }
          ],
          "histogram2d": [
           {
            "colorbar": {
             "outlinewidth": 0,
             "ticks": ""
            },
            "colorscale": [
             [
              0,
              "#0d0887"
             ],
             [
              0.1111111111111111,
              "#46039f"
             ],
             [
              0.2222222222222222,
              "#7201a8"
             ],
             [
              0.3333333333333333,
              "#9c179e"
             ],
             [
              0.4444444444444444,
              "#bd3786"
             ],
             [
              0.5555555555555556,
              "#d8576b"
             ],
             [
              0.6666666666666666,
              "#ed7953"
             ],
             [
              0.7777777777777778,
              "#fb9f3a"
             ],
             [
              0.8888888888888888,
              "#fdca26"
             ],
             [
              1,
              "#f0f921"
             ]
            ],
            "type": "histogram2d"
           }
          ],
          "histogram2dcontour": [
           {
            "colorbar": {
             "outlinewidth": 0,
             "ticks": ""
            },
            "colorscale": [
             [
              0,
              "#0d0887"
             ],
             [
              0.1111111111111111,
              "#46039f"
             ],
             [
              0.2222222222222222,
              "#7201a8"
             ],
             [
              0.3333333333333333,
              "#9c179e"
             ],
             [
              0.4444444444444444,
              "#bd3786"
             ],
             [
              0.5555555555555556,
              "#d8576b"
             ],
             [
              0.6666666666666666,
              "#ed7953"
             ],
             [
              0.7777777777777778,
              "#fb9f3a"
             ],
             [
              0.8888888888888888,
              "#fdca26"
             ],
             [
              1,
              "#f0f921"
             ]
            ],
            "type": "histogram2dcontour"
           }
          ],
          "mesh3d": [
           {
            "colorbar": {
             "outlinewidth": 0,
             "ticks": ""
            },
            "type": "mesh3d"
           }
          ],
          "parcoords": [
           {
            "line": {
             "colorbar": {
              "outlinewidth": 0,
              "ticks": ""
             }
            },
            "type": "parcoords"
           }
          ],
          "pie": [
           {
            "automargin": true,
            "type": "pie"
           }
          ],
          "scatter": [
           {
            "fillpattern": {
             "fillmode": "overlay",
             "size": 10,
             "solidity": 0.2
            },
            "type": "scatter"
           }
          ],
          "scatter3d": [
           {
            "line": {
             "colorbar": {
              "outlinewidth": 0,
              "ticks": ""
             }
            },
            "marker": {
             "colorbar": {
              "outlinewidth": 0,
              "ticks": ""
             }
            },
            "type": "scatter3d"
           }
          ],
          "scattercarpet": [
           {
            "marker": {
             "colorbar": {
              "outlinewidth": 0,
              "ticks": ""
             }
            },
            "type": "scattercarpet"
           }
          ],
          "scattergeo": [
           {
            "marker": {
             "colorbar": {
              "outlinewidth": 0,
              "ticks": ""
             }
            },
            "type": "scattergeo"
           }
          ],
          "scattergl": [
           {
            "marker": {
             "colorbar": {
              "outlinewidth": 0,
              "ticks": ""
             }
            },
            "type": "scattergl"
           }
          ],
          "scattermap": [
           {
            "marker": {
             "colorbar": {
              "outlinewidth": 0,
              "ticks": ""
             }
            },
            "type": "scattermap"
           }
          ],
          "scattermapbox": [
           {
            "marker": {
             "colorbar": {
              "outlinewidth": 0,
              "ticks": ""
             }
            },
            "type": "scattermapbox"
           }
          ],
          "scatterpolar": [
           {
            "marker": {
             "colorbar": {
              "outlinewidth": 0,
              "ticks": ""
             }
            },
            "type": "scatterpolar"
           }
          ],
          "scatterpolargl": [
           {
            "marker": {
             "colorbar": {
              "outlinewidth": 0,
              "ticks": ""
             }
            },
            "type": "scatterpolargl"
           }
          ],
          "scatterternary": [
           {
            "marker": {
             "colorbar": {
              "outlinewidth": 0,
              "ticks": ""
             }
            },
            "type": "scatterternary"
           }
          ],
          "surface": [
           {
            "colorbar": {
             "outlinewidth": 0,
             "ticks": ""
            },
            "colorscale": [
             [
              0,
              "#0d0887"
             ],
             [
              0.1111111111111111,
              "#46039f"
             ],
             [
              0.2222222222222222,
              "#7201a8"
             ],
             [
              0.3333333333333333,
              "#9c179e"
             ],
             [
              0.4444444444444444,
              "#bd3786"
             ],
             [
              0.5555555555555556,
              "#d8576b"
             ],
             [
              0.6666666666666666,
              "#ed7953"
             ],
             [
              0.7777777777777778,
              "#fb9f3a"
             ],
             [
              0.8888888888888888,
              "#fdca26"
             ],
             [
              1,
              "#f0f921"
             ]
            ],
            "type": "surface"
           }
          ],
          "table": [
           {
            "cells": {
             "fill": {
              "color": "#EBF0F8"
             },
             "line": {
              "color": "white"
             }
            },
            "header": {
             "fill": {
              "color": "#C8D4E3"
             },
             "line": {
              "color": "white"
             }
            },
            "type": "table"
           }
          ]
         },
         "layout": {
          "annotationdefaults": {
           "arrowcolor": "#2a3f5f",
           "arrowhead": 0,
           "arrowwidth": 1
          },
          "autotypenumbers": "strict",
          "coloraxis": {
           "colorbar": {
            "outlinewidth": 0,
            "ticks": ""
           }
          },
          "colorscale": {
           "diverging": [
            [
             0,
             "#8e0152"
            ],
            [
             0.1,
             "#c51b7d"
            ],
            [
             0.2,
             "#de77ae"
            ],
            [
             0.3,
             "#f1b6da"
            ],
            [
             0.4,
             "#fde0ef"
            ],
            [
             0.5,
             "#f7f7f7"
            ],
            [
             0.6,
             "#e6f5d0"
            ],
            [
             0.7,
             "#b8e186"
            ],
            [
             0.8,
             "#7fbc41"
            ],
            [
             0.9,
             "#4d9221"
            ],
            [
             1,
             "#276419"
            ]
           ],
           "sequential": [
            [
             0,
             "#0d0887"
            ],
            [
             0.1111111111111111,
             "#46039f"
            ],
            [
             0.2222222222222222,
             "#7201a8"
            ],
            [
             0.3333333333333333,
             "#9c179e"
            ],
            [
             0.4444444444444444,
             "#bd3786"
            ],
            [
             0.5555555555555556,
             "#d8576b"
            ],
            [
             0.6666666666666666,
             "#ed7953"
            ],
            [
             0.7777777777777778,
             "#fb9f3a"
            ],
            [
             0.8888888888888888,
             "#fdca26"
            ],
            [
             1,
             "#f0f921"
            ]
           ],
           "sequentialminus": [
            [
             0,
             "#0d0887"
            ],
            [
             0.1111111111111111,
             "#46039f"
            ],
            [
             0.2222222222222222,
             "#7201a8"
            ],
            [
             0.3333333333333333,
             "#9c179e"
            ],
            [
             0.4444444444444444,
             "#bd3786"
            ],
            [
             0.5555555555555556,
             "#d8576b"
            ],
            [
             0.6666666666666666,
             "#ed7953"
            ],
            [
             0.7777777777777778,
             "#fb9f3a"
            ],
            [
             0.8888888888888888,
             "#fdca26"
            ],
            [
             1,
             "#f0f921"
            ]
           ]
          },
          "colorway": [
           "#636efa",
           "#EF553B",
           "#00cc96",
           "#ab63fa",
           "#FFA15A",
           "#19d3f3",
           "#FF6692",
           "#B6E880",
           "#FF97FF",
           "#FECB52"
          ],
          "font": {
           "color": "#2a3f5f"
          },
          "geo": {
           "bgcolor": "white",
           "lakecolor": "white",
           "landcolor": "#E5ECF6",
           "showlakes": true,
           "showland": true,
           "subunitcolor": "white"
          },
          "hoverlabel": {
           "align": "left"
          },
          "hovermode": "closest",
          "mapbox": {
           "style": "light"
          },
          "paper_bgcolor": "white",
          "plot_bgcolor": "#E5ECF6",
          "polar": {
           "angularaxis": {
            "gridcolor": "white",
            "linecolor": "white",
            "ticks": ""
           },
           "bgcolor": "#E5ECF6",
           "radialaxis": {
            "gridcolor": "white",
            "linecolor": "white",
            "ticks": ""
           }
          },
          "scene": {
           "xaxis": {
            "backgroundcolor": "#E5ECF6",
            "gridcolor": "white",
            "gridwidth": 2,
            "linecolor": "white",
            "showbackground": true,
            "ticks": "",
            "zerolinecolor": "white"
           },
           "yaxis": {
            "backgroundcolor": "#E5ECF6",
            "gridcolor": "white",
            "gridwidth": 2,
            "linecolor": "white",
            "showbackground": true,
            "ticks": "",
            "zerolinecolor": "white"
           },
           "zaxis": {
            "backgroundcolor": "#E5ECF6",
            "gridcolor": "white",
            "gridwidth": 2,
            "linecolor": "white",
            "showbackground": true,
            "ticks": "",
            "zerolinecolor": "white"
           }
          },
          "shapedefaults": {
           "line": {
            "color": "#2a3f5f"
           }
          },
          "ternary": {
           "aaxis": {
            "gridcolor": "white",
            "linecolor": "white",
            "ticks": ""
           },
           "baxis": {
            "gridcolor": "white",
            "linecolor": "white",
            "ticks": ""
           },
           "bgcolor": "#E5ECF6",
           "caxis": {
            "gridcolor": "white",
            "linecolor": "white",
            "ticks": ""
           }
          },
          "title": {
           "x": 0.05
          },
          "xaxis": {
           "automargin": true,
           "gridcolor": "white",
           "linecolor": "white",
           "ticks": "",
           "title": {
            "standoff": 15
           },
           "zerolinecolor": "white",
           "zerolinewidth": 2
          },
          "yaxis": {
           "automargin": true,
           "gridcolor": "white",
           "linecolor": "white",
           "ticks": "",
           "title": {
            "standoff": 15
           },
           "zerolinecolor": "white",
           "zerolinewidth": 2
          }
         }
        },
        "title": {
         "text": "<b>Variables Clave por Pilar y Liderazgo Sectorial</b><br><sup>El color de la barra indica el Macrosector con mayor puntaje en esa variable</sup>",
         "x": 0.5
        },
        "xaxis": {
         "anchor": "y",
         "domain": [
          0,
          0.32666666666666666
         ],
         "title": {
          "text": "Valoración Ponderada Promedio"
         }
        },
        "xaxis2": {
         "anchor": "y2",
         "domain": [
          0.33666666666666667,
          0.6633333333333333
         ],
         "matches": "x",
         "title": {
          "text": "Valoración Ponderada Promedio"
         }
        },
        "xaxis3": {
         "anchor": "y3",
         "domain": [
          0.6733333333333333,
          1
         ],
         "matches": "x",
         "title": {
          "text": "Valoración Ponderada Promedio"
         }
        },
        "xaxis4": {
         "anchor": "y4",
         "domain": [
          0,
          0.32666666666666666
         ],
         "matches": "x",
         "showticklabels": false
        },
        "xaxis5": {
         "anchor": "y5",
         "domain": [
          0.33666666666666667,
          0.6633333333333333
         ],
         "matches": "x",
         "showticklabels": false
        },
        "xaxis6": {
         "anchor": "y6",
         "domain": [
          0.6733333333333333,
          1
         ],
         "matches": "x",
         "showticklabels": false
        },
        "yaxis": {
         "anchor": "x",
         "categoryorder": "total ascending",
         "domain": [
          0,
          0.46499999999999997
         ],
         "showticklabels": true,
         "title": {
          "text": ""
         }
        },
        "yaxis2": {
         "anchor": "x2",
         "categoryorder": "total ascending",
         "domain": [
          0,
          0.46499999999999997
         ],
         "showticklabels": true
        },
        "yaxis3": {
         "anchor": "x3",
         "categoryorder": "total ascending",
         "domain": [
          0,
          0.46499999999999997
         ],
         "showticklabels": true
        },
        "yaxis4": {
         "anchor": "x4",
         "categoryorder": "total ascending",
         "domain": [
          0.5349999999999999,
          0.9999999999999999
         ],
         "showticklabels": true,
         "title": {
          "text": ""
         }
        },
        "yaxis5": {
         "anchor": "x5",
         "categoryorder": "total ascending",
         "domain": [
          0.5349999999999999,
          0.9999999999999999
         ],
         "showticklabels": true
        },
        "yaxis6": {
         "anchor": "x6",
         "categoryorder": "total ascending",
         "domain": [
          0.5349999999999999,
          0.9999999999999999
         ],
         "showticklabels": true
        }
       }
      }
     },
     "metadata": {},
     "output_type": "display_data"
    }
   ],
   "source": [
    "# 1. Preparación de Datos\n",
    "# Calcular el puntaje promedio de cada variable por sector y pilar.\n",
    "df_agg = raw_data.groupby(['Nombre Pilar', 'Variable', 'Macrosector'])['valoracionPonderada'].mean().reset_index()\n",
    "\n",
    "# Para cada variable en cada pilar, encontrar el sector líder (con el puntaje más alto).\n",
    "idx = df_agg.groupby(['Nombre Pilar', 'Variable'])['valoracionPonderada'].idxmax()\n",
    "df_leaders = df_agg.loc[idx][['Nombre Pilar', 'Variable', 'Macrosector']]\n",
    "df_leaders.rename(columns={'Macrosector': 'Sector_Lider'}, inplace=True)\n",
    "\n",
    "# Calcular el puntaje promedio general de cada variable por pilar para la longitud de la barra.\n",
    "df_plot_data = df_agg.groupby(['Nombre Pilar', 'Variable'])['valoracionPonderada'].mean().reset_index()\n",
    "\n",
    "# Unir la información del sector líder con los datos del gráfico.\n",
    "df_plot_data = pd.merge(df_plot_data, df_leaders, on=['Nombre Pilar', 'Variable'])\n",
    "# Reemplazar los nombres de las variables largas para mejorar la legibilidad en el gráfico.\n",
    "df_plot_data['Variable'] = df_plot_data['Variable'].apply(lambda x: wrap_text(x, max_length=30))\n",
    "\n",
    "# 2. Creación del Gráfico de Barras Anidadas\n",
    "# Se usa facet_col para crear un subgráfico por cada 'Nombre Pilar'.\n",
    "fig_nested_bars = px.bar(\n",
    "    df_plot_data,\n",
    "    x='valoracionPonderada',\n",
    "    y='Variable',\n",
    "    color='Sector_Lider',  # El color de la barra indica el sector líder.\n",
    "    orientation='h',\n",
    "    facet_col='Nombre Pilar',\n",
    "    facet_col_wrap=3,  # Organiza los subgráficos en 2 columnas.\n",
    "    labels={'valoracionPonderada': 'Valoración Ponderada Promedio', 'Variable': ''},\n",
    "    color_discrete_sequence=px.colors.qualitative.Set2, # Añadir una paleta de colores\n",
    "    facet_col_spacing=0.01  # Añadir espacio horizontal entre subgráficos\n",
    ")\n",
    "\n",
    "# 3. Personalización y Estilo del Gráfico\n",
    "fig_nested_bars.update_layout(\n",
    "    title_text='<b>Variables Clave por Pilar y Liderazgo Sectorial</b><br><sup>El color de la barra indica el Macrosector con mayor puntaje en esa variable</sup>',\n",
    "    title_x=0.5,\n",
    "    font=dict(family=\"Arial, sans-serif\", size=10, color=\"black\"),\n",
    "    height=max(800, len(df_plot_data['Nombre Pilar'].unique()) * 300), # Altura dinámica\n",
    ")\n",
    "\n",
    "# Hacer que cada subgráfico tenga su propio eje Y independiente y ordenar las barras.\n",
    "fig_nested_bars.update_yaxes(matches=None, showticklabels=True)\n",
    "fig_nested_bars.update_yaxes(categoryorder=\"total ascending\")\n",
    "# Actualizar los títulos de cada subgráfico para que no muestren \"Nombre Pilar=\".\n",
    "fig_nested_bars.for_each_annotation(lambda a: a.update(text=a.text.split(\"=\")[-1]))\n",
    "\n",
    "fig_nested_bars.show()\n",
    "save_chart_as_html(fig_nested_bars, '16_nested_bars_variables_by_pillar_and_sector.html')\n",
    "# Save as image\n",
    "fig_nested_bars.write_image(\"img/16_nested_bars_variables_by_pillar_and_sector.png\", width=1000, height=800, scale=2)\n"
   ]
  },
  {
   "cell_type": "code",
   "execution_count": 34,
   "metadata": {},
   "outputs": [
    {
     "data": {
      "application/vnd.plotly.v1+json": {
       "config": {
        "plotlyServerURL": "https://plot.ly"
       },
       "data": [
        {
         "hovertemplate": "<b>%{hovertext}</b><br><br>Sector_Lider=Manufactura<br>Nombre Pilar=Acción Climática y Energía<br>Valoración Ponderada Promedio=%{marker.size}<br>=%{y}<extra></extra>",
         "hovertext": [
          "Manufactura",
          "Manufactura",
          "Manufactura",
          "Manufactura",
          "Manufactura",
          "Manufactura"
         ],
         "legendgroup": "Manufactura",
         "marker": {
          "color": "#636efa",
          "size": {
           "bdata": "nfu4BUGLF0DFKhxSMuMQQIuSpd4YUyJA7aTagDeeIUAF41JZaQAmQEMIPQulvSVA",
           "dtype": "f8"
          },
          "sizemode": "area",
          "sizeref": 0.040014646516194505,
          "symbol": "circle"
         },
         "mode": "markers",
         "name": "Manufactura",
         "orientation": "h",
         "showlegend": true,
         "type": "scatter",
         "x": {
          "bdata": "nfu4BUGLF0DFKhxSMuMQQIuSpd4YUyJA7aTagDeeIUAF41JZaQAmQEMIPQulvSVA",
          "dtype": "f8"
         },
         "xaxis": "x4",
         "y": [
          "Acción climática (0-2)",
          "Alcance 3 en t CO2 eq",
          "Evidencia diversidad en su<br>matriz energética Si/no",
          "¿Reporta consumo energético<br>(GRI 302)?",
          "¿Reporta emisiones GEI (GRI<br>305)?",
          "¿Tiene meta de reducción de<br>emisiones? Si/No"
         ],
         "yaxis": "y4"
        },
        {
         "hovertemplate": "<b>%{hovertext}</b><br><br>Sector_Lider=Manufactura<br>Nombre Pilar=Capital Humano: Bienestar y Desarrollo<br>Valoración Ponderada Promedio=%{marker.size}<br>=%{y}<extra></extra>",
         "hovertext": [
          "Manufactura",
          "Manufactura"
         ],
         "legendgroup": "Manufactura",
         "marker": {
          "color": "#636efa",
          "size": {
           "bdata": "KX52w2AOKEDmS8d4VHAkQA==",
           "dtype": "f8"
          },
          "sizemode": "area",
          "sizeref": 0.040014646516194505,
          "symbol": "circle"
         },
         "mode": "markers",
         "name": "Manufactura",
         "orientation": "h",
         "showlegend": false,
         "type": "scatter",
         "x": {
          "bdata": "KX52w2AOKEDmS8d4VHAkQA==",
          "dtype": "f8"
         },
         "xaxis": "x5",
         "y": [
          "¿Informa sobre salud y<br>seguridad laboral (GRI 403)?",
          "¿Tiene indicadores de<br>desarrollo del talento humano?<br>Si/no"
         ],
         "yaxis": "y5"
        },
        {
         "hovertemplate": "<b>%{hovertext}</b><br><br>Sector_Lider=Manufactura<br>Nombre Pilar=Gestión de Recursos Naturales y Circularidad<br>Valoración Ponderada Promedio=%{marker.size}<br>=%{y}<extra></extra>",
         "hovertext": [
          "Manufactura",
          "Manufactura"
         ],
         "legendgroup": "Manufactura",
         "marker": {
          "color": "#636efa",
          "size": {
           "bdata": "Y6pqDmlKD0C74xHtxWQcQA==",
           "dtype": "f8"
          },
          "sizemode": "area",
          "sizeref": 0.040014646516194505,
          "symbol": "circle"
         },
         "mode": "markers",
         "name": "Manufactura",
         "orientation": "h",
         "showlegend": false,
         "type": "scatter",
         "x": {
          "bdata": "Y6pqDmlKD0C74xHtxWQcQA==",
          "dtype": "f8"
         },
         "xaxis": "x",
         "y": [
          "Iniciativas de economía<br>circular (0-2)",
          "¿Reporta uso de agua (GRI<br>303)?"
         ],
         "yaxis": "y"
        },
        {
         "hovertemplate": "<b>%{hovertext}</b><br><br>Sector_Lider=Manufactura<br>Nombre Pilar=Impacto Económico, Social y Comunitario<br>Valoración Ponderada Promedio=%{marker.size}<br>=%{y}<extra></extra>",
         "hovertext": [
          "Manufactura",
          "Manufactura"
         ],
         "legendgroup": "Manufactura",
         "marker": {
          "color": "#636efa",
          "size": {
           "bdata": "QbgCr69ZAEBhFGHbIUaxPw==",
           "dtype": "f8"
          },
          "sizemode": "area",
          "sizeref": 0.040014646516194505,
          "symbol": "circle"
         },
         "mode": "markers",
         "name": "Manufactura",
         "orientation": "h",
         "showlegend": false,
         "type": "scatter",
         "x": {
          "bdata": "QbgCr69ZAEBhFGHbIUaxPw==",
          "dtype": "f8"
         },
         "xaxis": "x2",
         "y": [
          "¿Reporta GRI 207 (prácticas<br>fiscales)? Si/no",
          "¿Se evidencia impacto positivo<br>en comunidades locales? (0-2)"
         ],
         "yaxis": "y2"
        },
        {
         "hovertemplate": "<b>%{hovertext}</b><br><br>Sector_Lider=Minero<br>Nombre Pilar=Acción Climática y Energía<br>Valoración Ponderada Promedio=%{marker.size}<br>=%{y}<extra></extra>",
         "hovertext": [
          "Minero",
          "Minero",
          "Minero"
         ],
         "legendgroup": "Minero",
         "marker": {
          "color": "#EF553B",
          "size": {
           "bdata": "qwVR+yb9GkBPFGEJgeoWQC/CW/nTXxhA",
           "dtype": "f8"
          },
          "sizemode": "area",
          "sizeref": 0.040014646516194505,
          "symbol": "circle"
         },
         "mode": "markers",
         "name": "Minero",
         "orientation": "h",
         "showlegend": true,
         "type": "scatter",
         "x": {
          "bdata": "qwVR+yb9GkBPFGEJgeoWQC/CW/nTXxhA",
          "dtype": "f8"
         },
         "xaxis": "x4",
         "y": [
          "Alcance 1 en t CO2 eq",
          "Alcance 2 en t CO2 eq",
          "Consumo total de la<br>organización (MJ)"
         ],
         "yaxis": "y4"
        },
        {
         "hovertemplate": "<b>%{hovertext}</b><br><br>Sector_Lider=Minero<br>Nombre Pilar=Capital Humano: Bienestar y Desarrollo<br>Valoración Ponderada Promedio=%{marker.size}<br>=%{y}<extra></extra>",
         "hovertext": [
          "Minero",
          "Minero"
         ],
         "legendgroup": "Minero",
         "marker": {
          "color": "#EF553B",
          "size": {
           "bdata": "umlynduRAEArF5HBXrYAQA==",
           "dtype": "f8"
          },
          "sizemode": "area",
          "sizeref": 0.040014646516194505,
          "symbol": "circle"
         },
         "mode": "markers",
         "name": "Minero",
         "orientation": "h",
         "showlegend": false,
         "type": "scatter",
         "x": {
          "bdata": "umlynduRAEArF5HBXrYAQA==",
          "dtype": "f8"
         },
         "xaxis": "x5",
         "y": [
          "Promedio de horas de formación<br>hombres (GRI 404)",
          "Promedio de horas de formación<br>mujeres (GRI 404)"
         ],
         "yaxis": "y5"
        },
        {
         "hovertemplate": "<b>%{hovertext}</b><br><br>Sector_Lider=Minero<br>Nombre Pilar=Diversidad, Equidad e Inclusión (DEI)<br>Valoración Ponderada Promedio=%{marker.size}<br>=%{y}<extra></extra>",
         "hovertext": [
          "Minero"
         ],
         "legendgroup": "Minero",
         "marker": {
          "color": "#EF553B",
          "size": {
           "bdata": "s9ocyfNXDkA=",
           "dtype": "f8"
          },
          "sizemode": "area",
          "sizeref": 0.040014646516194505,
          "symbol": "circle"
         },
         "mode": "markers",
         "name": "Minero",
         "orientation": "h",
         "showlegend": false,
         "type": "scatter",
         "x": {
          "bdata": "s9ocyfNXDkA=",
          "dtype": "f8"
         },
         "xaxis": "x6",
         "y": [
          "Porcentaje mujeres en<br>organización"
         ],
         "yaxis": "y6"
        },
        {
         "hovertemplate": "<b>%{hovertext}</b><br><br>Sector_Lider=Minero<br>Nombre Pilar=Gestión de Recursos Naturales y Circularidad<br>Valoración Ponderada Promedio=%{marker.size}<br>=%{y}<extra></extra>",
         "hovertext": [
          "Minero",
          "Minero",
          "Minero",
          "Minero",
          "Minero",
          "Minero"
         ],
         "legendgroup": "Minero",
         "marker": {
          "color": "#EF553B",
          "size": {
           "bdata": "GI9XdAo+D0DznHfycFITQONyUjpm9xpAJYvLpS0SD0DTG3OUrawRQCkfsRLWcSBA",
           "dtype": "f8"
          },
          "sizemode": "area",
          "sizeref": 0.040014646516194505,
          "symbol": "circle"
         },
         "mode": "markers",
         "name": "Minero",
         "orientation": "h",
         "showlegend": false,
         "type": "scatter",
         "x": {
          "bdata": "GI9XdAo+D0DznHfycFITQONyUjpm9xpAJYvLpS0SD0DTG3OUrawRQCkfsRLWcSBA",
          "dtype": "f8"
         },
         "xaxis": "x",
         "y": [
          "Consumo total de agua (m³)",
          "Generación total de residuos<br>en toneladas",
          "Gestión de biodiversidad Si/no",
          "Gestión del recurso hídrico<br>(0-2)",
          "Metas relacionadas a<br>biodiversidad Si/no",
          "¿Reporta gestión de residuos<br>(GRI 306)?"
         ],
         "yaxis": "y"
        },
        {
         "hovertemplate": "<b>%{hovertext}</b><br><br>Sector_Lider=Minero<br>Nombre Pilar=Impacto Económico, Social y Comunitario<br>Valoración Ponderada Promedio=%{marker.size}<br>=%{y}<extra></extra>",
         "hovertext": [
          "Minero",
          "Minero",
          "Minero",
          "Minero",
          "Minero",
          "Minero"
         ],
         "legendgroup": "Minero",
         "marker": {
          "color": "#EF553B",
          "size": {
           "bdata": "XFnXJ5SnCkBrbGGyV5joP3vHrHKcdes/TNKj+qS4IUB+guTO4CcQQDJEHaLZwwJA",
           "dtype": "f8"
          },
          "sizemode": "area",
          "sizeref": 0.040014646516194505,
          "symbol": "circle"
         },
         "mode": "markers",
         "name": "Minero",
         "orientation": "h",
         "showlegend": false,
         "type": "scatter",
         "x": {
          "bdata": "XFnXJ5SnCkBrbGGyV5joP3vHrHKcdes/TNKj+qS4IUB+guTO4CcQQDJEHaLZwwJA",
          "dtype": "f8"
         },
         "xaxis": "x2",
         "y": [
          "Independencia en junta<br>directiva (0-2)",
          "Porcentaje de inversión en la<br>comunidad sobre VED",
          "Porcentaje de salarios y<br>beneficios sobre VED",
          "¿Realiza inversión social en<br>comunidades (GRI 413)?",
          "¿Reporta valor económico<br>directo generado y distribuido<br>(GRI 201-1)? Si/No",
          "¿Tiene programas para<br>construcción de paz?<br>(beneficios a poblaciones<br>desplazadas, victimas de<br>conflicto, excombatientes)<br>Si/no"
         ],
         "yaxis": "y2"
        },
        {
         "hovertemplate": "<b>%{hovertext}</b><br><br>Sector_Lider=Servicios<br>Nombre Pilar=Acción Climática y Energía<br>Valoración Ponderada Promedio=%{marker.size}<br>=%{y}<extra></extra>",
         "hovertext": [
          "Servicios"
         ],
         "legendgroup": "Servicios",
         "marker": {
          "color": "#00cc96",
          "size": {
           "bdata": "xKwj3qfn7j8=",
           "dtype": "f8"
          },
          "sizemode": "area",
          "sizeref": 0.040014646516194505,
          "symbol": "circle"
         },
         "mode": "markers",
         "name": "Servicios",
         "orientation": "h",
         "showlegend": true,
         "type": "scatter",
         "x": {
          "bdata": "xKwj3qfn7j8=",
          "dtype": "f8"
         },
         "xaxis": "x4",
         "y": [
          "¿Es carbononeutro? Si/no"
         ],
         "yaxis": "y4"
        },
        {
         "hovertemplate": "<b>%{hovertext}</b><br><br>Sector_Lider=Servicios<br>Nombre Pilar=Capital Humano: Bienestar y Desarrollo<br>Valoración Ponderada Promedio=%{marker.size}<br>=%{y}<extra></extra>",
         "hovertext": [
          "Servicios",
          "Servicios"
         ],
         "legendgroup": "Servicios",
         "marker": {
          "color": "#00cc96",
          "size": {
           "bdata": "AJD+H2Be6D9jzPXSXgzpPw==",
           "dtype": "f8"
          },
          "sizemode": "area",
          "sizeref": 0.040014646516194505,
          "symbol": "circle"
         },
         "mode": "markers",
         "name": "Servicios",
         "orientation": "h",
         "showlegend": false,
         "type": "scatter",
         "x": {
          "bdata": "AJD+H2Be6D9jzPXSXgzpPw==",
          "dtype": "f8"
         },
         "xaxis": "x5",
         "y": [
          "Días perdidos por cada 100<br>empleados",
          "Días perdidos por enfermedad y<br>accidente laboral"
         ],
         "yaxis": "y5"
        },
        {
         "hovertemplate": "<b>%{hovertext}</b><br><br>Sector_Lider=Servicios<br>Nombre Pilar=Diversidad, Equidad e Inclusión (DEI)<br>Valoración Ponderada Promedio=%{marker.size}<br>=%{y}<extra></extra>",
         "hovertext": [
          "Servicios",
          "Servicios",
          "Servicios",
          "Servicios",
          "Servicios"
         ],
         "legendgroup": "Servicios",
         "marker": {
          "color": "#00cc96",
          "size": {
           "bdata": "6zF1o3zI9z8fDcVTPusQQMUreNg2XgRA9OpLYOKiGEBE92zUYcYZQA==",
           "dtype": "f8"
          },
          "sizemode": "area",
          "sizeref": 0.040014646516194505,
          "symbol": "circle"
         },
         "mode": "markers",
         "name": "Servicios",
         "orientation": "h",
         "showlegend": false,
         "type": "scatter",
         "x": {
          "bdata": "6zF1o3zI9z8fDcVTPusQQMUreNg2XgRA9OpLYOKiGEBE92zUYcYZQA==",
          "dtype": "f8"
         },
         "xaxis": "x6",
         "y": [
          "Permiso marental con beneficio<br>extralegal (Sí/no)",
          "Porcentaje de mujeres en junta<br>directiva",
          "Porcentaje de personas con<br>discapacidad empleadas",
          "Proporción y detalle al<br>informar prácticas DEI GRI 405<br>(0-2)",
          "¿Informa sobre inclusión<br>laboral para personas con<br>discapacidad?"
         ],
         "yaxis": "y6"
        },
        {
         "hovertemplate": "<b>%{hovertext}</b><br><br>Sector_Lider=Servicios<br>Nombre Pilar=Impacto Económico, Social y Comunitario<br>Valoración Ponderada Promedio=%{marker.size}<br>=%{y}<extra></extra>",
         "hovertext": [
          "Servicios",
          "Servicios",
          "Servicios",
          "Servicios"
         ],
         "legendgroup": "Servicios",
         "marker": {
          "color": "#00cc96",
          "size": {
           "bdata": "6axZMhrq5z/g1Z9qzDIJQBfBgUZ7ahNAX1oaVrGDEEA=",
           "dtype": "f8"
          },
          "sizemode": "area",
          "sizeref": 0.040014646516194505,
          "symbol": "circle"
         },
         "mode": "markers",
         "name": "Servicios",
         "orientation": "h",
         "showlegend": false,
         "type": "scatter",
         "x": {
          "bdata": "6axZMhrq5z/g1Z9qzDIJQBfBgUZ7ahNAX1oaVrGDEEA=",
          "dtype": "f8"
         },
         "xaxis": "x2",
         "y": [
          "Porcentaje de pagos a gobierno<br>sobre VED",
          "¿Cuál es el porcentaje de<br>proveeduría local?",
          "¿Nivel de políticas y<br>compromisos éticos?<br>(anticorrupción, canal de<br>denuncias) 0-2",
          "¿Reporta sanciones y multas?<br>(Si/No) 206-1"
         ],
         "yaxis": "y2"
        },
        {
         "hovertemplate": "<b>%{hovertext}</b><br><br>Sector_Lider=Servicios<br>Nombre Pilar=Transparencia y Gobierno de la Sostenibilidad<br>Valoración Ponderada Promedio=%{marker.size}<br>=%{y}<extra></extra>",
         "hovertext": [
          "Servicios",
          "Servicios",
          "Servicios",
          "Servicios",
          "Servicios"
         ],
         "legendgroup": "Servicios",
         "marker": {
          "color": "#00cc96",
          "size": {
           "bdata": "QpBd4N/sIUAo5ovAKtQpQNlibF6G3ypA6Dgb838BMEATGFTSCz4qQA==",
           "dtype": "f8"
          },
          "sizemode": "area",
          "sizeref": 0.040014646516194505,
          "symbol": "circle"
         },
         "mode": "markers",
         "name": "Servicios",
         "orientation": "h",
         "showlegend": false,
         "type": "scatter",
         "x": {
          "bdata": "QpBd4N/sIUAo5ovAKtQpQNlibF6G3ypA6Dgb838BMEATGFTSCz4qQA==",
          "dtype": "f8"
         },
         "xaxis": "x3",
         "y": [
          "¿Incluye mapeo de ODS? Si/No",
          "¿Tiene análisis de<br>materialidad? Si/No",
          "¿Tiene carta de presidencia?<br>Si/No",
          "¿Tiene informe? Si/No",
          "¿Utiliza estándar GRI? Si/No"
         ],
         "yaxis": "y3"
        },
        {
         "hovertemplate": "<b>%{hovertext}</b><br><br>Sector_Lider=Construcción<br>Nombre Pilar=Impacto Económico, Social y Comunitario<br>Valoración Ponderada Promedio=%{marker.size}<br>=%{y}<extra></extra>",
         "hovertext": [
          "Construcción"
         ],
         "legendgroup": "Construcción",
         "marker": {
          "color": "#ab63fa",
          "size": {
           "bdata": "kBn1k4bsFkA=",
           "dtype": "f8"
          },
          "sizemode": "area",
          "sizeref": 0.040014646516194505,
          "symbol": "circle"
         },
         "mode": "markers",
         "name": "Construcción",
         "orientation": "h",
         "showlegend": true,
         "type": "scatter",
         "x": {
          "bdata": "kBn1k4bsFkA=",
          "dtype": "f8"
         },
         "xaxis": "x2",
         "y": [
          "¿Informa proporción de gasto<br>en proveedores locales (GRI<br>204-1)? Si/No"
         ],
         "yaxis": "y2"
        },
        {
         "hovertemplate": "<b>%{hovertext}</b><br><br>Sector_Lider=Agropecuario<br>Nombre Pilar=Transparencia y Gobierno de la Sostenibilidad<br>Valoración Ponderada Promedio=%{marker.size}<br>=%{y}<extra></extra>",
         "hovertext": [
          "Agropecuario"
         ],
         "legendgroup": "Agropecuario",
         "marker": {
          "color": "#FFA15A",
          "size": {
           "bdata": "AAAAAAAAAAA=",
           "dtype": "f8"
          },
          "sizemode": "area",
          "sizeref": 0.040014646516194505,
          "symbol": "circle"
         },
         "mode": "markers",
         "name": "Agropecuario",
         "orientation": "h",
         "showlegend": true,
         "type": "scatter",
         "x": {
          "bdata": "AAAAAAAAAAA=",
          "dtype": "f8"
         },
         "xaxis": "x3",
         "y": [
          "Año del informe 2023/2024"
         ],
         "yaxis": "y3"
        }
       ],
       "layout": {
        "annotations": [
         {
          "font": {},
          "showarrow": false,
          "text": "Gestión de Recursos Naturales y Circularidad",
          "x": 0.11666666666666665,
          "xanchor": "center",
          "xref": "paper",
          "y": 0.46499999999999997,
          "yanchor": "bottom",
          "yref": "paper"
         },
         {
          "font": {},
          "showarrow": false,
          "text": "Impacto Económico, Social y Comunitario",
          "x": 0.49999999999999994,
          "xanchor": "center",
          "xref": "paper",
          "y": 0.46499999999999997,
          "yanchor": "bottom",
          "yref": "paper"
         },
         {
          "font": {},
          "showarrow": false,
          "text": "Transparencia y Gobierno de la Sostenibilidad",
          "x": 0.8833333333333333,
          "xanchor": "center",
          "xref": "paper",
          "y": 0.46499999999999997,
          "yanchor": "bottom",
          "yref": "paper"
         },
         {
          "font": {},
          "showarrow": false,
          "text": "Acción Climática y Energía",
          "x": 0.11666666666666665,
          "xanchor": "center",
          "xref": "paper",
          "y": 0.9999999999999999,
          "yanchor": "bottom",
          "yref": "paper"
         },
         {
          "font": {},
          "showarrow": false,
          "text": "Capital Humano: Bienestar y Desarrollo",
          "x": 0.49999999999999994,
          "xanchor": "center",
          "xref": "paper",
          "y": 0.9999999999999999,
          "yanchor": "bottom",
          "yref": "paper"
         },
         {
          "font": {},
          "showarrow": false,
          "text": "Diversidad, Equidad e Inclusión (DEI)",
          "x": 0.8833333333333333,
          "xanchor": "center",
          "xref": "paper",
          "y": 0.9999999999999999,
          "yanchor": "bottom",
          "yref": "paper"
         }
        ],
        "font": {
         "color": "black",
         "family": "Arial, sans-serif",
         "size": 10
        },
        "height": 1200,
        "legend": {
         "itemsizing": "constant",
         "title": {
          "text": "Sector_Lider"
         },
         "tracegroupgap": 0
        },
        "margin": {
         "t": 60
        },
        "template": {
         "data": {
          "bar": [
           {
            "error_x": {
             "color": "#2a3f5f"
            },
            "error_y": {
             "color": "#2a3f5f"
            },
            "marker": {
             "line": {
              "color": "#E5ECF6",
              "width": 0.5
             },
             "pattern": {
              "fillmode": "overlay",
              "size": 10,
              "solidity": 0.2
             }
            },
            "type": "bar"
           }
          ],
          "barpolar": [
           {
            "marker": {
             "line": {
              "color": "#E5ECF6",
              "width": 0.5
             },
             "pattern": {
              "fillmode": "overlay",
              "size": 10,
              "solidity": 0.2
             }
            },
            "type": "barpolar"
           }
          ],
          "carpet": [
           {
            "aaxis": {
             "endlinecolor": "#2a3f5f",
             "gridcolor": "white",
             "linecolor": "white",
             "minorgridcolor": "white",
             "startlinecolor": "#2a3f5f"
            },
            "baxis": {
             "endlinecolor": "#2a3f5f",
             "gridcolor": "white",
             "linecolor": "white",
             "minorgridcolor": "white",
             "startlinecolor": "#2a3f5f"
            },
            "type": "carpet"
           }
          ],
          "choropleth": [
           {
            "colorbar": {
             "outlinewidth": 0,
             "ticks": ""
            },
            "type": "choropleth"
           }
          ],
          "contour": [
           {
            "colorbar": {
             "outlinewidth": 0,
             "ticks": ""
            },
            "colorscale": [
             [
              0,
              "#0d0887"
             ],
             [
              0.1111111111111111,
              "#46039f"
             ],
             [
              0.2222222222222222,
              "#7201a8"
             ],
             [
              0.3333333333333333,
              "#9c179e"
             ],
             [
              0.4444444444444444,
              "#bd3786"
             ],
             [
              0.5555555555555556,
              "#d8576b"
             ],
             [
              0.6666666666666666,
              "#ed7953"
             ],
             [
              0.7777777777777778,
              "#fb9f3a"
             ],
             [
              0.8888888888888888,
              "#fdca26"
             ],
             [
              1,
              "#f0f921"
             ]
            ],
            "type": "contour"
           }
          ],
          "contourcarpet": [
           {
            "colorbar": {
             "outlinewidth": 0,
             "ticks": ""
            },
            "type": "contourcarpet"
           }
          ],
          "heatmap": [
           {
            "colorbar": {
             "outlinewidth": 0,
             "ticks": ""
            },
            "colorscale": [
             [
              0,
              "#0d0887"
             ],
             [
              0.1111111111111111,
              "#46039f"
             ],
             [
              0.2222222222222222,
              "#7201a8"
             ],
             [
              0.3333333333333333,
              "#9c179e"
             ],
             [
              0.4444444444444444,
              "#bd3786"
             ],
             [
              0.5555555555555556,
              "#d8576b"
             ],
             [
              0.6666666666666666,
              "#ed7953"
             ],
             [
              0.7777777777777778,
              "#fb9f3a"
             ],
             [
              0.8888888888888888,
              "#fdca26"
             ],
             [
              1,
              "#f0f921"
             ]
            ],
            "type": "heatmap"
           }
          ],
          "histogram": [
           {
            "marker": {
             "pattern": {
              "fillmode": "overlay",
              "size": 10,
              "solidity": 0.2
             }
            },
            "type": "histogram"
           }
          ],
          "histogram2d": [
           {
            "colorbar": {
             "outlinewidth": 0,
             "ticks": ""
            },
            "colorscale": [
             [
              0,
              "#0d0887"
             ],
             [
              0.1111111111111111,
              "#46039f"
             ],
             [
              0.2222222222222222,
              "#7201a8"
             ],
             [
              0.3333333333333333,
              "#9c179e"
             ],
             [
              0.4444444444444444,
              "#bd3786"
             ],
             [
              0.5555555555555556,
              "#d8576b"
             ],
             [
              0.6666666666666666,
              "#ed7953"
             ],
             [
              0.7777777777777778,
              "#fb9f3a"
             ],
             [
              0.8888888888888888,
              "#fdca26"
             ],
             [
              1,
              "#f0f921"
             ]
            ],
            "type": "histogram2d"
           }
          ],
          "histogram2dcontour": [
           {
            "colorbar": {
             "outlinewidth": 0,
             "ticks": ""
            },
            "colorscale": [
             [
              0,
              "#0d0887"
             ],
             [
              0.1111111111111111,
              "#46039f"
             ],
             [
              0.2222222222222222,
              "#7201a8"
             ],
             [
              0.3333333333333333,
              "#9c179e"
             ],
             [
              0.4444444444444444,
              "#bd3786"
             ],
             [
              0.5555555555555556,
              "#d8576b"
             ],
             [
              0.6666666666666666,
              "#ed7953"
             ],
             [
              0.7777777777777778,
              "#fb9f3a"
             ],
             [
              0.8888888888888888,
              "#fdca26"
             ],
             [
              1,
              "#f0f921"
             ]
            ],
            "type": "histogram2dcontour"
           }
          ],
          "mesh3d": [
           {
            "colorbar": {
             "outlinewidth": 0,
             "ticks": ""
            },
            "type": "mesh3d"
           }
          ],
          "parcoords": [
           {
            "line": {
             "colorbar": {
              "outlinewidth": 0,
              "ticks": ""
             }
            },
            "type": "parcoords"
           }
          ],
          "pie": [
           {
            "automargin": true,
            "type": "pie"
           }
          ],
          "scatter": [
           {
            "fillpattern": {
             "fillmode": "overlay",
             "size": 10,
             "solidity": 0.2
            },
            "type": "scatter"
           }
          ],
          "scatter3d": [
           {
            "line": {
             "colorbar": {
              "outlinewidth": 0,
              "ticks": ""
             }
            },
            "marker": {
             "colorbar": {
              "outlinewidth": 0,
              "ticks": ""
             }
            },
            "type": "scatter3d"
           }
          ],
          "scattercarpet": [
           {
            "marker": {
             "colorbar": {
              "outlinewidth": 0,
              "ticks": ""
             }
            },
            "type": "scattercarpet"
           }
          ],
          "scattergeo": [
           {
            "marker": {
             "colorbar": {
              "outlinewidth": 0,
              "ticks": ""
             }
            },
            "type": "scattergeo"
           }
          ],
          "scattergl": [
           {
            "marker": {
             "colorbar": {
              "outlinewidth": 0,
              "ticks": ""
             }
            },
            "type": "scattergl"
           }
          ],
          "scattermap": [
           {
            "marker": {
             "colorbar": {
              "outlinewidth": 0,
              "ticks": ""
             }
            },
            "type": "scattermap"
           }
          ],
          "scattermapbox": [
           {
            "marker": {
             "colorbar": {
              "outlinewidth": 0,
              "ticks": ""
             }
            },
            "type": "scattermapbox"
           }
          ],
          "scatterpolar": [
           {
            "marker": {
             "colorbar": {
              "outlinewidth": 0,
              "ticks": ""
             }
            },
            "type": "scatterpolar"
           }
          ],
          "scatterpolargl": [
           {
            "marker": {
             "colorbar": {
              "outlinewidth": 0,
              "ticks": ""
             }
            },
            "type": "scatterpolargl"
           }
          ],
          "scatterternary": [
           {
            "marker": {
             "colorbar": {
              "outlinewidth": 0,
              "ticks": ""
             }
            },
            "type": "scatterternary"
           }
          ],
          "surface": [
           {
            "colorbar": {
             "outlinewidth": 0,
             "ticks": ""
            },
            "colorscale": [
             [
              0,
              "#0d0887"
             ],
             [
              0.1111111111111111,
              "#46039f"
             ],
             [
              0.2222222222222222,
              "#7201a8"
             ],
             [
              0.3333333333333333,
              "#9c179e"
             ],
             [
              0.4444444444444444,
              "#bd3786"
             ],
             [
              0.5555555555555556,
              "#d8576b"
             ],
             [
              0.6666666666666666,
              "#ed7953"
             ],
             [
              0.7777777777777778,
              "#fb9f3a"
             ],
             [
              0.8888888888888888,
              "#fdca26"
             ],
             [
              1,
              "#f0f921"
             ]
            ],
            "type": "surface"
           }
          ],
          "table": [
           {
            "cells": {
             "fill": {
              "color": "#EBF0F8"
             },
             "line": {
              "color": "white"
             }
            },
            "header": {
             "fill": {
              "color": "#C8D4E3"
             },
             "line": {
              "color": "white"
             }
            },
            "type": "table"
           }
          ]
         },
         "layout": {
          "annotationdefaults": {
           "arrowcolor": "#2a3f5f",
           "arrowhead": 0,
           "arrowwidth": 1
          },
          "autotypenumbers": "strict",
          "coloraxis": {
           "colorbar": {
            "outlinewidth": 0,
            "ticks": ""
           }
          },
          "colorscale": {
           "diverging": [
            [
             0,
             "#8e0152"
            ],
            [
             0.1,
             "#c51b7d"
            ],
            [
             0.2,
             "#de77ae"
            ],
            [
             0.3,
             "#f1b6da"
            ],
            [
             0.4,
             "#fde0ef"
            ],
            [
             0.5,
             "#f7f7f7"
            ],
            [
             0.6,
             "#e6f5d0"
            ],
            [
             0.7,
             "#b8e186"
            ],
            [
             0.8,
             "#7fbc41"
            ],
            [
             0.9,
             "#4d9221"
            ],
            [
             1,
             "#276419"
            ]
           ],
           "sequential": [
            [
             0,
             "#0d0887"
            ],
            [
             0.1111111111111111,
             "#46039f"
            ],
            [
             0.2222222222222222,
             "#7201a8"
            ],
            [
             0.3333333333333333,
             "#9c179e"
            ],
            [
             0.4444444444444444,
             "#bd3786"
            ],
            [
             0.5555555555555556,
             "#d8576b"
            ],
            [
             0.6666666666666666,
             "#ed7953"
            ],
            [
             0.7777777777777778,
             "#fb9f3a"
            ],
            [
             0.8888888888888888,
             "#fdca26"
            ],
            [
             1,
             "#f0f921"
            ]
           ],
           "sequentialminus": [
            [
             0,
             "#0d0887"
            ],
            [
             0.1111111111111111,
             "#46039f"
            ],
            [
             0.2222222222222222,
             "#7201a8"
            ],
            [
             0.3333333333333333,
             "#9c179e"
            ],
            [
             0.4444444444444444,
             "#bd3786"
            ],
            [
             0.5555555555555556,
             "#d8576b"
            ],
            [
             0.6666666666666666,
             "#ed7953"
            ],
            [
             0.7777777777777778,
             "#fb9f3a"
            ],
            [
             0.8888888888888888,
             "#fdca26"
            ],
            [
             1,
             "#f0f921"
            ]
           ]
          },
          "colorway": [
           "#636efa",
           "#EF553B",
           "#00cc96",
           "#ab63fa",
           "#FFA15A",
           "#19d3f3",
           "#FF6692",
           "#B6E880",
           "#FF97FF",
           "#FECB52"
          ],
          "font": {
           "color": "#2a3f5f"
          },
          "geo": {
           "bgcolor": "white",
           "lakecolor": "white",
           "landcolor": "#E5ECF6",
           "showlakes": true,
           "showland": true,
           "subunitcolor": "white"
          },
          "hoverlabel": {
           "align": "left"
          },
          "hovermode": "closest",
          "mapbox": {
           "style": "light"
          },
          "paper_bgcolor": "white",
          "plot_bgcolor": "#E5ECF6",
          "polar": {
           "angularaxis": {
            "gridcolor": "white",
            "linecolor": "white",
            "ticks": ""
           },
           "bgcolor": "#E5ECF6",
           "radialaxis": {
            "gridcolor": "white",
            "linecolor": "white",
            "ticks": ""
           }
          },
          "scene": {
           "xaxis": {
            "backgroundcolor": "#E5ECF6",
            "gridcolor": "white",
            "gridwidth": 2,
            "linecolor": "white",
            "showbackground": true,
            "ticks": "",
            "zerolinecolor": "white"
           },
           "yaxis": {
            "backgroundcolor": "#E5ECF6",
            "gridcolor": "white",
            "gridwidth": 2,
            "linecolor": "white",
            "showbackground": true,
            "ticks": "",
            "zerolinecolor": "white"
           },
           "zaxis": {
            "backgroundcolor": "#E5ECF6",
            "gridcolor": "white",
            "gridwidth": 2,
            "linecolor": "white",
            "showbackground": true,
            "ticks": "",
            "zerolinecolor": "white"
           }
          },
          "shapedefaults": {
           "line": {
            "color": "#2a3f5f"
           }
          },
          "ternary": {
           "aaxis": {
            "gridcolor": "white",
            "linecolor": "white",
            "ticks": ""
           },
           "baxis": {
            "gridcolor": "white",
            "linecolor": "white",
            "ticks": ""
           },
           "bgcolor": "#E5ECF6",
           "caxis": {
            "gridcolor": "white",
            "linecolor": "white",
            "ticks": ""
           }
          },
          "title": {
           "x": 0.05
          },
          "xaxis": {
           "automargin": true,
           "gridcolor": "white",
           "linecolor": "white",
           "ticks": "",
           "title": {
            "standoff": 15
           },
           "zerolinecolor": "white",
           "zerolinewidth": 2
          },
          "yaxis": {
           "automargin": true,
           "gridcolor": "white",
           "linecolor": "white",
           "ticks": "",
           "title": {
            "standoff": 15
           },
           "zerolinecolor": "white",
           "zerolinewidth": 2
          }
         }
        },
        "title": {
         "text": "<b>Variables Clave por Pilar y Liderazgo Sectorial</b><br><sup>El color indica el Macrosector líder; el tamaño, la importancia de la variable</sup>",
         "x": 0.5
        },
        "xaxis": {
         "anchor": "y",
         "domain": [
          0,
          0.2333333333333333
         ],
         "title": {
          "text": "Valoración Ponderada Promedio"
         }
        },
        "xaxis2": {
         "anchor": "y2",
         "domain": [
          0.3833333333333333,
          0.6166666666666666
         ],
         "matches": "x",
         "title": {
          "text": "Valoración Ponderada Promedio"
         }
        },
        "xaxis3": {
         "anchor": "y3",
         "domain": [
          0.7666666666666666,
          0.9999999999999999
         ],
         "matches": "x",
         "title": {
          "text": "Valoración Ponderada Promedio"
         }
        },
        "xaxis4": {
         "anchor": "y4",
         "domain": [
          0,
          0.2333333333333333
         ],
         "matches": "x",
         "showticklabels": false
        },
        "xaxis5": {
         "anchor": "y5",
         "domain": [
          0.3833333333333333,
          0.6166666666666666
         ],
         "matches": "x",
         "showticklabels": false
        },
        "xaxis6": {
         "anchor": "y6",
         "domain": [
          0.7666666666666666,
          0.9999999999999999
         ],
         "matches": "x",
         "showticklabels": false
        },
        "yaxis": {
         "anchor": "x",
         "categoryorder": "total ascending",
         "domain": [
          0,
          0.46499999999999997
         ],
         "showticklabels": true,
         "title": {
          "text": ""
         }
        },
        "yaxis2": {
         "anchor": "x2",
         "categoryorder": "total ascending",
         "domain": [
          0,
          0.46499999999999997
         ],
         "showticklabels": true
        },
        "yaxis3": {
         "anchor": "x3",
         "categoryorder": "total ascending",
         "domain": [
          0,
          0.46499999999999997
         ],
         "showticklabels": true
        },
        "yaxis4": {
         "anchor": "x4",
         "categoryorder": "total ascending",
         "domain": [
          0.5349999999999999,
          0.9999999999999999
         ],
         "showticklabels": true,
         "title": {
          "text": ""
         }
        },
        "yaxis5": {
         "anchor": "x5",
         "categoryorder": "total ascending",
         "domain": [
          0.5349999999999999,
          0.9999999999999999
         ],
         "showticklabels": true
        },
        "yaxis6": {
         "anchor": "x6",
         "categoryorder": "total ascending",
         "domain": [
          0.5349999999999999,
          0.9999999999999999
         ],
         "showticklabels": true
        }
       }
      }
     },
     "metadata": {},
     "output_type": "display_data"
    }
   ],
   "source": [
    "# 1. Preparación de Datos\n",
    "# Calcular el puntaje promedio de cada variable por sector y pilar.\n",
    "df_agg = raw_data.groupby(['Nombre Pilar', 'Variable', 'Macrosector'])['valoracionPonderada'].mean().reset_index()\n",
    "\n",
    "# Para cada variable en cada pilar, encontrar el sector líder (con el puntaje más alto).\n",
    "idx = df_agg.groupby(['Nombre Pilar', 'Variable'])['valoracionPonderada'].idxmax()\n",
    "df_leaders = df_agg.loc[idx][['Nombre Pilar', 'Variable', 'Macrosector']]\n",
    "df_leaders.rename(columns={'Macrosector': 'Sector_Lider'}, inplace=True)\n",
    "\n",
    "# Calcular el puntaje promedio general de cada variable por pilar para la posición y tamaño del punto.\n",
    "df_plot_data = df_agg.groupby(['Nombre Pilar', 'Variable'])['valoracionPonderada'].mean().reset_index()\n",
    "\n",
    "# Unir la información del sector líder con los datos del gráfico.\n",
    "df_plot_data = pd.merge(df_plot_data, df_leaders, on=['Nombre Pilar', 'Variable'])\n",
    "# Reemplazar los nombres de las variables largas para mejorar la legibilidad en el gráfico.\n",
    "df_plot_data['Variable'] = df_plot_data['Variable'].apply(lambda x: wrap_text(x, max_length=30))\n",
    "\n",
    "# 2. Creación del Gráfico de Dispersión Anidado\n",
    "# Se usa facet_col para crear un subgráfico por cada 'Nombre Pilar'.\n",
    "fig_nested_scatter = px.scatter(\n",
    "    df_plot_data,\n",
    "    x='valoracionPonderada',\n",
    "    y='Variable',\n",
    "    size='valoracionPonderada', # El tamaño del punto también indica importancia.\n",
    "    color='Sector_Lider',      # El color del punto indica el sector líder.\n",
    "    hover_name='Sector_Lider',\n",
    "    facet_col='Nombre Pilar',\n",
    "    facet_col_wrap=3,          # Organiza los subgráficos en 2 columnas.\n",
    "    labels={'valoracionPonderada': 'Valoración Ponderada Promedio', 'Variable': ''},\n",
    "        facet_col_spacing=0.15\n",
    ")\n",
    "\n",
    "# 3. Personalización y Estilo del Gráfico\n",
    "fig_nested_scatter.update_layout(\n",
    "    title_text='<b>Variables Clave por Pilar y Liderazgo Sectorial</b><br><sup>El color indica el Macrosector líder; el tamaño, la importancia de la variable</sup>',\n",
    "    title_x=0.5,\n",
    "    font=dict(family=\"Arial, sans-serif\", size=10, color=\"black\"),\n",
    "    height=max(800, len(df_plot_data['Nombre Pilar'].unique()) * 200), # Altura dinámica\n",
    "\n",
    ")\n",
    "\n",
    "# Hacer que cada subgráfico tenga su propio eje Y independiente y ordenar las variables.\n",
    "fig_nested_scatter.update_yaxes(matches=None, showticklabels=True)\n",
    "fig_nested_scatter.update_yaxes(categoryorder=\"total ascending\")\n",
    "# Actualizar los títulos de cada subgráfico para que no muestren \"Nombre Pilar=\".\n",
    "fig_nested_scatter.for_each_annotation(lambda a: a.update(text=a.text.split(\"=\")[-1]))\n",
    "\n",
    "fig_nested_scatter.show()\n",
    "save_chart_as_html(fig_nested_scatter, '17_nested_scatter_variables_by_pillar_and_sector.html')\n",
    "# Save as image\n",
    "fig_nested_scatter.write_image(\"img/17_nested_scatter_variables_by_pillar_and_sector.png\", width=1000, height=800, scale=2)"
   ]
  }
 ],
 "metadata": {
  "colab": {
   "authorship_tag": "ABX9TyPpGWVHkKnlnCs6bt9fzXz7",
   "mount_file_id": "1YK4iqHtcyn7HTLe1B1tbVbNp5SA1IFEU",
   "provenance": []
  },
  "kernelspec": {
   "display_name": "base",
   "language": "python",
   "name": "python3"
  },
  "language_info": {
   "codemirror_mode": {
    "name": "ipython",
    "version": 3
   },
   "file_extension": ".py",
   "mimetype": "text/x-python",
   "name": "python",
   "nbconvert_exporter": "python",
   "pygments_lexer": "ipython3",
   "version": "3.12.3"
  }
 },
 "nbformat": 4,
 "nbformat_minor": 0
}
