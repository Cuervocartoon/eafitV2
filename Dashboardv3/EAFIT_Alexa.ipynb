{
 "cells": [
  {
   "cell_type": "code",
   "execution_count": 1,
   "metadata": {
    "executionInfo": {
     "elapsed": 72,
     "status": "ok",
     "timestamp": 1754157016791,
     "user": {
      "displayName": "Juan Camilo Ortiz",
      "userId": "14839115185471025896"
     },
     "user_tz": 300
    },
    "id": "PyJ0rSz5FiCm"
   },
   "outputs": [],
   "source": [
    "import pandas as pd\n",
    "import numpy as np\n",
    "import json\n",
    "import seaborn as sns\n",
    "import matplotlib.pyplot as plt\n",
    "import plotly.graph_objects as go\n",
    "import plotly.express as px\n",
    "import plotly.io as pio\n",
    "import os"
   ]
  },
  {
   "cell_type": "code",
   "execution_count": 32,
   "metadata": {
    "colab": {
     "base_uri": "https://localhost:8080/",
     "height": 643
    },
    "executionInfo": {
     "elapsed": 186,
     "status": "ok",
     "timestamp": 1754157029068,
     "user": {
      "displayName": "Juan Camilo Ortiz",
      "userId": "14839115185471025896"
     },
     "user_tz": 300
    },
    "id": "SDUXuswFGcMy",
    "outputId": "7a1acbcf-fe28-4bee-f46d-085e3fa1139b"
   },
   "outputs": [
    {
     "data": {
      "application/vnd.microsoft.datawrangler.viewer.v0+json": {
       "columns": [
        {
         "name": "index",
         "rawType": "int64",
         "type": "integer"
        },
        {
         "name": "Razón social",
         "rawType": "object",
         "type": "string"
        },
        {
         "name": "Macrosector",
         "rawType": "object",
         "type": "string"
        },
        {
         "name": "Tipo de propiedad (Privada, Pública, Mixta)",
         "rawType": "object",
         "type": "string"
        },
        {
         "name": "¿Es empresa familiar? Si/No",
         "rawType": "object",
         "type": "string"
        },
        {
         "name": "¿Cotiza en bolsa? Si/No",
         "rawType": "object",
         "type": "string"
        },
        {
         "name": "¿Multinacional? Si/No",
         "rawType": "object",
         "type": "string"
        },
        {
         "name": "Año de fundación",
         "rawType": "int64",
         "type": "integer"
        },
        {
         "name": "País de base principal (nacionalidad)",
         "rawType": "object",
         "type": "string"
        },
        {
         "name": "Ingresos operacionales",
         "rawType": "object",
         "type": "string"
        },
        {
         "name": "Variable",
         "rawType": "object",
         "type": "string"
        },
        {
         "name": "Valor",
         "rawType": "object",
         "type": "string"
        },
        {
         "name": "Bloque",
         "rawType": "object",
         "type": "string"
        },
        {
         "name": "Nombre Pilar",
         "rawType": "object",
         "type": "string"
        },
        {
         "name": "Ponderación Materialidad",
         "rawType": "object",
         "type": "string"
        },
        {
         "name": "Valoración",
         "rawType": "float64",
         "type": "float"
        },
        {
         "name": "valoracionPonderada",
         "rawType": "float64",
         "type": "float"
        }
       ],
       "ref": "15d8e13a-2c4e-4e63-8c13-221023bc640e",
       "rows": [
        [
         "0",
         "Aliar",
         "Agropecuario",
         "Privada",
         "No",
         "No",
         "No",
         "2007",
         "Colombia",
         "0.97802211500000003",
         "¿Cuál es el porcentaje de proveeduría local?",
         "No informa",
         "Impacto económico y gobernanza",
         "Impacto Económico, Social y Comunitario",
         "14%",
         "0.0",
         "0.0"
        ],
        [
         "1",
         "Alimentos Carnicos (Grupo Nutresa)",
         "Manufactura",
         "Privada",
         "No",
         "Si",
         "Si",
         "1920",
         "Colombia",
         "2.844632077",
         "¿Cuál es el porcentaje de proveeduría local?",
         "0.80000000000000004",
         "Impacto económico y gobernanza",
         "Impacto Económico, Social y Comunitario",
         "11%",
         "84.21052632",
         "8.864265928"
        ],
        [
         "2",
         "Alpina",
         "Manufactura",
         "Privada",
         "No",
         "No",
         "Si",
         "1945",
         "Colombia",
         "2.1764613960000001",
         "¿Cuál es el porcentaje de proveeduría local?",
         "0.91000000000000003",
         "Impacto económico y gobernanza",
         "Impacto Económico, Social y Comunitario",
         "11%",
         "95.78947368",
         "10.08310249"
        ],
        [
         "3",
         "Amarilo",
         "Construcción",
         "Privada",
         "Si",
         "No",
         "No",
         "1993",
         "Colombia",
         "2.1863011939999999",
         "¿Cuál es el porcentaje de proveeduría local?",
         "0.53000000000000003",
         "Impacto económico y gobernanza",
         "Impacto Económico, Social y Comunitario",
         "14%",
         "53.0",
         "7.571428571"
        ],
        [
         "4",
         "ARA",
         "Comercio",
         "Privada",
         "No",
         "No",
         "Si",
         "2012",
         "Colombia",
         "13.83118268",
         "¿Cuál es el porcentaje de proveeduría local?",
         "0",
         "Impacto económico y gobernanza",
         "Impacto Económico, Social y Comunitario",
         "12%",
         "0.0",
         "0.0"
        ]
       ],
       "shape": {
        "columns": 16,
        "rows": 5
       }
      },
      "text/html": [
       "<div>\n",
       "<style scoped>\n",
       "    .dataframe tbody tr th:only-of-type {\n",
       "        vertical-align: middle;\n",
       "    }\n",
       "\n",
       "    .dataframe tbody tr th {\n",
       "        vertical-align: top;\n",
       "    }\n",
       "\n",
       "    .dataframe thead th {\n",
       "        text-align: right;\n",
       "    }\n",
       "</style>\n",
       "<table border=\"1\" class=\"dataframe\">\n",
       "  <thead>\n",
       "    <tr style=\"text-align: right;\">\n",
       "      <th></th>\n",
       "      <th>Razón social</th>\n",
       "      <th>Macrosector</th>\n",
       "      <th>Tipo de propiedad (Privada, Pública, Mixta)</th>\n",
       "      <th>¿Es empresa familiar? Si/No</th>\n",
       "      <th>¿Cotiza en bolsa? Si/No</th>\n",
       "      <th>¿Multinacional? Si/No</th>\n",
       "      <th>Año de fundación</th>\n",
       "      <th>País de base principal (nacionalidad)</th>\n",
       "      <th>Ingresos operacionales</th>\n",
       "      <th>Variable</th>\n",
       "      <th>Valor</th>\n",
       "      <th>Bloque</th>\n",
       "      <th>Nombre Pilar</th>\n",
       "      <th>Ponderación Materialidad</th>\n",
       "      <th>Valoración</th>\n",
       "      <th>valoracionPonderada</th>\n",
       "    </tr>\n",
       "  </thead>\n",
       "  <tbody>\n",
       "    <tr>\n",
       "      <th>0</th>\n",
       "      <td>Aliar</td>\n",
       "      <td>Agropecuario</td>\n",
       "      <td>Privada</td>\n",
       "      <td>No</td>\n",
       "      <td>No</td>\n",
       "      <td>No</td>\n",
       "      <td>2007</td>\n",
       "      <td>Colombia</td>\n",
       "      <td>0.97802211500000003</td>\n",
       "      <td>¿Cuál es el porcentaje de proveeduría local?</td>\n",
       "      <td>No informa</td>\n",
       "      <td>Impacto económico y gobernanza</td>\n",
       "      <td>Impacto Económico, Social y Comunitario</td>\n",
       "      <td>14%</td>\n",
       "      <td>0.000000</td>\n",
       "      <td>0.000000</td>\n",
       "    </tr>\n",
       "    <tr>\n",
       "      <th>1</th>\n",
       "      <td>Alimentos Carnicos (Grupo Nutresa)</td>\n",
       "      <td>Manufactura</td>\n",
       "      <td>Privada</td>\n",
       "      <td>No</td>\n",
       "      <td>Si</td>\n",
       "      <td>Si</td>\n",
       "      <td>1920</td>\n",
       "      <td>Colombia</td>\n",
       "      <td>2.844632077</td>\n",
       "      <td>¿Cuál es el porcentaje de proveeduría local?</td>\n",
       "      <td>0.80000000000000004</td>\n",
       "      <td>Impacto económico y gobernanza</td>\n",
       "      <td>Impacto Económico, Social y Comunitario</td>\n",
       "      <td>11%</td>\n",
       "      <td>84.210526</td>\n",
       "      <td>8.864266</td>\n",
       "    </tr>\n",
       "    <tr>\n",
       "      <th>2</th>\n",
       "      <td>Alpina</td>\n",
       "      <td>Manufactura</td>\n",
       "      <td>Privada</td>\n",
       "      <td>No</td>\n",
       "      <td>No</td>\n",
       "      <td>Si</td>\n",
       "      <td>1945</td>\n",
       "      <td>Colombia</td>\n",
       "      <td>2.1764613960000001</td>\n",
       "      <td>¿Cuál es el porcentaje de proveeduría local?</td>\n",
       "      <td>0.91000000000000003</td>\n",
       "      <td>Impacto económico y gobernanza</td>\n",
       "      <td>Impacto Económico, Social y Comunitario</td>\n",
       "      <td>11%</td>\n",
       "      <td>95.789474</td>\n",
       "      <td>10.083102</td>\n",
       "    </tr>\n",
       "    <tr>\n",
       "      <th>3</th>\n",
       "      <td>Amarilo</td>\n",
       "      <td>Construcción</td>\n",
       "      <td>Privada</td>\n",
       "      <td>Si</td>\n",
       "      <td>No</td>\n",
       "      <td>No</td>\n",
       "      <td>1993</td>\n",
       "      <td>Colombia</td>\n",
       "      <td>2.1863011939999999</td>\n",
       "      <td>¿Cuál es el porcentaje de proveeduría local?</td>\n",
       "      <td>0.53000000000000003</td>\n",
       "      <td>Impacto económico y gobernanza</td>\n",
       "      <td>Impacto Económico, Social y Comunitario</td>\n",
       "      <td>14%</td>\n",
       "      <td>53.000000</td>\n",
       "      <td>7.571429</td>\n",
       "    </tr>\n",
       "    <tr>\n",
       "      <th>4</th>\n",
       "      <td>ARA</td>\n",
       "      <td>Comercio</td>\n",
       "      <td>Privada</td>\n",
       "      <td>No</td>\n",
       "      <td>No</td>\n",
       "      <td>Si</td>\n",
       "      <td>2012</td>\n",
       "      <td>Colombia</td>\n",
       "      <td>13.83118268</td>\n",
       "      <td>¿Cuál es el porcentaje de proveeduría local?</td>\n",
       "      <td>0</td>\n",
       "      <td>Impacto económico y gobernanza</td>\n",
       "      <td>Impacto Económico, Social y Comunitario</td>\n",
       "      <td>12%</td>\n",
       "      <td>0.000000</td>\n",
       "      <td>0.000000</td>\n",
       "    </tr>\n",
       "  </tbody>\n",
       "</table>\n",
       "</div>"
      ],
      "text/plain": [
       "                         Razón social   Macrosector  \\\n",
       "0                               Aliar  Agropecuario   \n",
       "1  Alimentos Carnicos (Grupo Nutresa)   Manufactura   \n",
       "2                              Alpina   Manufactura   \n",
       "3                             Amarilo  Construcción   \n",
       "4                                 ARA      Comercio   \n",
       "\n",
       "  Tipo de propiedad (Privada, Pública, Mixta) ¿Es empresa familiar? Si/No  \\\n",
       "0                                     Privada                          No   \n",
       "1                                     Privada                          No   \n",
       "2                                     Privada                          No   \n",
       "3                                     Privada                          Si   \n",
       "4                                     Privada                          No   \n",
       "\n",
       "  ¿Cotiza en bolsa? Si/No ¿Multinacional? Si/No  Año de fundación  \\\n",
       "0                      No                    No              2007   \n",
       "1                      Si                    Si              1920   \n",
       "2                      No                    Si              1945   \n",
       "3                      No                    No              1993   \n",
       "4                      No                    Si              2012   \n",
       "\n",
       "  País de base principal (nacionalidad) Ingresos operacionales  \\\n",
       "0                              Colombia    0.97802211500000003   \n",
       "1                              Colombia            2.844632077   \n",
       "2                              Colombia     2.1764613960000001   \n",
       "3                              Colombia     2.1863011939999999   \n",
       "4                              Colombia            13.83118268   \n",
       "\n",
       "                                       Variable                Valor  \\\n",
       "0  ¿Cuál es el porcentaje de proveeduría local?           No informa   \n",
       "1  ¿Cuál es el porcentaje de proveeduría local?  0.80000000000000004   \n",
       "2  ¿Cuál es el porcentaje de proveeduría local?  0.91000000000000003   \n",
       "3  ¿Cuál es el porcentaje de proveeduría local?  0.53000000000000003   \n",
       "4  ¿Cuál es el porcentaje de proveeduría local?                    0   \n",
       "\n",
       "                           Bloque                             Nombre Pilar  \\\n",
       "0  Impacto económico y gobernanza  Impacto Económico, Social y Comunitario   \n",
       "1  Impacto económico y gobernanza  Impacto Económico, Social y Comunitario   \n",
       "2  Impacto económico y gobernanza  Impacto Económico, Social y Comunitario   \n",
       "3  Impacto económico y gobernanza  Impacto Económico, Social y Comunitario   \n",
       "4  Impacto económico y gobernanza  Impacto Económico, Social y Comunitario   \n",
       "\n",
       "  Ponderación Materialidad  Valoración  valoracionPonderada  \n",
       "0                      14%    0.000000             0.000000  \n",
       "1                      11%   84.210526             8.864266  \n",
       "2                      11%   95.789474            10.083102  \n",
       "3                      14%   53.000000             7.571429  \n",
       "4                      12%    0.000000             0.000000  "
      ]
     },
     "execution_count": 32,
     "metadata": {},
     "output_type": "execute_result"
    }
   ],
   "source": [
    "raw_data = pd.read_csv('empresasEafit.csv')\n",
    "raw_data.rename(columns=lambda x: x.strip(), inplace=True)\n",
    "raw_data = raw_data[~raw_data['Macrosector'].isin(['0', 'No', 'No informa', 'SI', 'Si'])]\n",
    "raw_data.head()"
   ]
  },
  {
   "cell_type": "code",
   "execution_count": 7,
   "metadata": {},
   "outputs": [],
   "source": [
    "def save_chart_as_html(fig, filename):\n",
    "    \"\"\"\n",
    "    Guarda una figura de Plotly como un archivo HTML autocontenido en la carpeta 'charts'.\n",
    "    \"\"\"\n",
    "    # Generar el HTML del gráfico\n",
    "    html1 = pio.to_html(fig, full_html=False, include_plotlyjs='cdn')\n",
    "    \n",
    "    # Guardar el archivo\n",
    "    filepath = os.path.join('charts', filename)\n",
    "    with open(filepath, 'w', encoding='utf-8') as f:\n",
    "        f.write(html1)\n",
    "\n",
    "# Function to wrap long text labels\n",
    "def wrap_text(text, max_length=25):\n",
    "    \"\"\"\n",
    "    Wrap text to multiple lines if it exceeds max_length characters.\n",
    "    \"\"\"\n",
    "    if len(text) <= max_length:\n",
    "        return text\n",
    "    \n",
    "    words = text.split()\n",
    "    lines = []\n",
    "    current_line = []\n",
    "    current_length = 0\n",
    "    \n",
    "    for word in words:\n",
    "        # Check if adding this word would exceed the limit\n",
    "        if current_length + len(word) + len(current_line) > max_length and current_line:\n",
    "            lines.append(' '.join(current_line))\n",
    "            current_line = [word]\n",
    "            current_length = len(word)\n",
    "        else:\n",
    "            current_line.append(word)\n",
    "            current_length += len(word)\n",
    "    \n",
    "    if current_line:\n",
    "        lines.append(' '.join(current_line))\n",
    "    \n",
    "    return '<br>'.join(lines)\n"
   ]
  },
  {
   "cell_type": "markdown",
   "metadata": {},
   "source": [
    "# **Parte 1: Panorama General del Desempeño Corporativo**"
   ]
  },
  {
   "cell_type": "markdown",
   "metadata": {
    "id": "V9IepepMgDJs"
   },
   "source": [
    "## 1. Radar de Competitividad por Pilar y Macrosector"
   ]
  },
  {
   "cell_type": "markdown",
   "metadata": {
    "id": "y3pwKKQfhstj"
   },
   "source": [
    "### Manejo de datos"
   ]
  },
  {
   "cell_type": "code",
   "execution_count": 8,
   "metadata": {
    "colab": {
     "base_uri": "https://localhost:8080/",
     "height": 255
    },
    "executionInfo": {
     "elapsed": 123,
     "status": "ok",
     "timestamp": 1754157080775,
     "user": {
      "displayName": "Juan Camilo Ortiz",
      "userId": "14839115185471025896"
     },
     "user_tz": 300
    },
    "id": "ZcPHf1PXf-bM",
    "outputId": "3677d9c4-6ef1-42a5-c078-6dfe19bcc0f4"
   },
   "outputs": [
    {
     "data": {
      "application/vnd.plotly.v1+json": {
       "config": {
        "plotlyServerURL": "https://plot.ly"
       },
       "data": [
        {
         "fill": "toself",
         "fillcolor": "rgb(228,26,28)",
         "line": {
          "color": "rgb(228,26,28)"
         },
         "name": "Agropecuario",
         "opacity": 0.6,
         "r": {
          "bdata": "bOMsCIIgCECvuyTDMAwTQEV1sstmiAJAxFbCcRzHC0DJQODv+77vP3nj5+/7vg9A",
          "dtype": "f8"
         },
         "theta": [
          "Acción Climática y<br>Energía",
          "Capital Humano: Bienestar<br>y Desarrollo",
          "Diversidad, Equidad e<br>Inclusión (DEI)",
          "Gestión de Recursos<br>Naturales y Circularidad",
          "Impacto Económico, Social<br>y Comunitario",
          "Transparencia y Gobierno<br>de la Sostenibilidad"
         ],
         "type": "scatterpolar"
        },
        {
         "fill": "toself",
         "fillcolor": "rgb(55,126,184)",
         "line": {
          "color": "rgb(55,126,184)"
         },
         "name": "Comercio",
         "opacity": 0.6,
         "r": {
          "bdata": "1x6EDIMZIUCZxr5B/CodQIRHUdb57RNAHPbtFMSA/j+AhbXNrq//P5WgvryB0CRA",
          "dtype": "f8"
         },
         "theta": [
          "Acción Climática y<br>Energía",
          "Capital Humano: Bienestar<br>y Desarrollo",
          "Diversidad, Equidad e<br>Inclusión (DEI)",
          "Gestión de Recursos<br>Naturales y Circularidad",
          "Impacto Económico, Social<br>y Comunitario",
          "Transparencia y Gobierno<br>de la Sostenibilidad"
         ],
         "type": "scatterpolar"
        },
        {
         "fill": "toself",
         "fillcolor": "rgb(77,175,74)",
         "line": {
          "color": "rgb(77,175,74)"
         },
         "name": "Construcción",
         "opacity": 0.6,
         "r": {
          "bdata": "quCZn9FTFEAtJNOx5lsWQHduE1DY5wNA+J6ZeXWNFUDyvjiXcikBQMLRRI7jOCZA",
          "dtype": "f8"
         },
         "theta": [
          "Acción Climática y<br>Energía",
          "Capital Humano: Bienestar<br>y Desarrollo",
          "Diversidad, Equidad e<br>Inclusión (DEI)",
          "Gestión de Recursos<br>Naturales y Circularidad",
          "Impacto Económico, Social<br>y Comunitario",
          "Transparencia y Gobierno<br>de la Sostenibilidad"
         ],
         "type": "scatterpolar"
        },
        {
         "fill": "toself",
         "fillcolor": "rgb(152,78,163)",
         "line": {
          "color": "rgb(152,78,163)"
         },
         "name": "Manufactura",
         "opacity": 0.6,
         "r": {
          "bdata": "F/YTxSu7J0BLzGlQQ/8aQIOAfOqqIg9AnaSEN1l8IUB1UUFjL4wEQL6FS7X3NyJA",
          "dtype": "f8"
         },
         "theta": [
          "Acción Climática y<br>Energía",
          "Capital Humano: Bienestar<br>y Desarrollo",
          "Diversidad, Equidad e<br>Inclusión (DEI)",
          "Gestión de Recursos<br>Naturales y Circularidad",
          "Impacto Económico, Social<br>y Comunitario",
          "Transparencia y Gobierno<br>de la Sostenibilidad"
         ],
         "type": "scatterpolar"
        },
        {
         "fill": "toself",
         "fillcolor": "rgb(255,127,0)",
         "line": {
          "color": "rgb(255,127,0)"
         },
         "name": "Minero",
         "opacity": 0.6,
         "r": {
          "bdata": "teHZaoLhI0DHZYBwaR0jQKLNtvlU+A1ADgrpOfllJ0D1l9RGueMUQK8fWfmWbyFA",
          "dtype": "f8"
         },
         "theta": [
          "Acción Climática y<br>Energía",
          "Capital Humano: Bienestar<br>y Desarrollo",
          "Diversidad, Equidad e<br>Inclusión (DEI)",
          "Gestión de Recursos<br>Naturales y Circularidad",
          "Impacto Económico, Social<br>y Comunitario",
          "Transparencia y Gobierno<br>de la Sostenibilidad"
         ],
         "type": "scatterpolar"
        },
        {
         "fill": "toself",
         "fillcolor": "rgb(255,255,51)",
         "line": {
          "color": "rgb(255,255,51)"
         },
         "name": "Servicios",
         "opacity": 0.6,
         "r": {
          "bdata": "aKtpA1hCIUA2L/2bfqMZQB7M13kcpiJAXwtha+OZD0BrWydxPcQSQHvR8xXQuDRA",
          "dtype": "f8"
         },
         "theta": [
          "Acción Climática y<br>Energía",
          "Capital Humano: Bienestar<br>y Desarrollo",
          "Diversidad, Equidad e<br>Inclusión (DEI)",
          "Gestión de Recursos<br>Naturales y Circularidad",
          "Impacto Económico, Social<br>y Comunitario",
          "Transparencia y Gobierno<br>de la Sostenibilidad"
         ],
         "type": "scatterpolar"
        }
       ],
       "layout": {
        "height": 700,
        "polar": {
         "angularaxis": {
          "rotation": 0,
          "tickfont": {
           "size": 10
          },
          "tickmode": "array",
          "ticktext": [
           "Acción Climática y<br>Energía",
           "Capital Humano: Bienestar<br>y Desarrollo",
           "Diversidad, Equidad e<br>Inclusión (DEI)",
           "Gestión de Recursos<br>Naturales y Circularidad",
           "Impacto Económico, Social<br>y Comunitario",
           "Transparencia y Gobierno<br>de la Sostenibilidad"
          ],
          "tickvals": [
           0,
           1,
           2,
           3,
           4,
           5
          ]
         },
         "radialaxis": {
          "dtick": 5,
          "range": [
           0,
           22.79411765025
          ],
          "tick0": 0,
          "tickmode": "linear",
          "visible": true
         }
        },
        "showlegend": true,
        "template": {
         "data": {
          "bar": [
           {
            "error_x": {
             "color": "#2a3f5f"
            },
            "error_y": {
             "color": "#2a3f5f"
            },
            "marker": {
             "line": {
              "color": "#E5ECF6",
              "width": 0.5
             },
             "pattern": {
              "fillmode": "overlay",
              "size": 10,
              "solidity": 0.2
             }
            },
            "type": "bar"
           }
          ],
          "barpolar": [
           {
            "marker": {
             "line": {
              "color": "#E5ECF6",
              "width": 0.5
             },
             "pattern": {
              "fillmode": "overlay",
              "size": 10,
              "solidity": 0.2
             }
            },
            "type": "barpolar"
           }
          ],
          "carpet": [
           {
            "aaxis": {
             "endlinecolor": "#2a3f5f",
             "gridcolor": "white",
             "linecolor": "white",
             "minorgridcolor": "white",
             "startlinecolor": "#2a3f5f"
            },
            "baxis": {
             "endlinecolor": "#2a3f5f",
             "gridcolor": "white",
             "linecolor": "white",
             "minorgridcolor": "white",
             "startlinecolor": "#2a3f5f"
            },
            "type": "carpet"
           }
          ],
          "choropleth": [
           {
            "colorbar": {
             "outlinewidth": 0,
             "ticks": ""
            },
            "type": "choropleth"
           }
          ],
          "contour": [
           {
            "colorbar": {
             "outlinewidth": 0,
             "ticks": ""
            },
            "colorscale": [
             [
              0,
              "#0d0887"
             ],
             [
              0.1111111111111111,
              "#46039f"
             ],
             [
              0.2222222222222222,
              "#7201a8"
             ],
             [
              0.3333333333333333,
              "#9c179e"
             ],
             [
              0.4444444444444444,
              "#bd3786"
             ],
             [
              0.5555555555555556,
              "#d8576b"
             ],
             [
              0.6666666666666666,
              "#ed7953"
             ],
             [
              0.7777777777777778,
              "#fb9f3a"
             ],
             [
              0.8888888888888888,
              "#fdca26"
             ],
             [
              1,
              "#f0f921"
             ]
            ],
            "type": "contour"
           }
          ],
          "contourcarpet": [
           {
            "colorbar": {
             "outlinewidth": 0,
             "ticks": ""
            },
            "type": "contourcarpet"
           }
          ],
          "heatmap": [
           {
            "colorbar": {
             "outlinewidth": 0,
             "ticks": ""
            },
            "colorscale": [
             [
              0,
              "#0d0887"
             ],
             [
              0.1111111111111111,
              "#46039f"
             ],
             [
              0.2222222222222222,
              "#7201a8"
             ],
             [
              0.3333333333333333,
              "#9c179e"
             ],
             [
              0.4444444444444444,
              "#bd3786"
             ],
             [
              0.5555555555555556,
              "#d8576b"
             ],
             [
              0.6666666666666666,
              "#ed7953"
             ],
             [
              0.7777777777777778,
              "#fb9f3a"
             ],
             [
              0.8888888888888888,
              "#fdca26"
             ],
             [
              1,
              "#f0f921"
             ]
            ],
            "type": "heatmap"
           }
          ],
          "histogram": [
           {
            "marker": {
             "pattern": {
              "fillmode": "overlay",
              "size": 10,
              "solidity": 0.2
             }
            },
            "type": "histogram"
           }
          ],
          "histogram2d": [
           {
            "colorbar": {
             "outlinewidth": 0,
             "ticks": ""
            },
            "colorscale": [
             [
              0,
              "#0d0887"
             ],
             [
              0.1111111111111111,
              "#46039f"
             ],
             [
              0.2222222222222222,
              "#7201a8"
             ],
             [
              0.3333333333333333,
              "#9c179e"
             ],
             [
              0.4444444444444444,
              "#bd3786"
             ],
             [
              0.5555555555555556,
              "#d8576b"
             ],
             [
              0.6666666666666666,
              "#ed7953"
             ],
             [
              0.7777777777777778,
              "#fb9f3a"
             ],
             [
              0.8888888888888888,
              "#fdca26"
             ],
             [
              1,
              "#f0f921"
             ]
            ],
            "type": "histogram2d"
           }
          ],
          "histogram2dcontour": [
           {
            "colorbar": {
             "outlinewidth": 0,
             "ticks": ""
            },
            "colorscale": [
             [
              0,
              "#0d0887"
             ],
             [
              0.1111111111111111,
              "#46039f"
             ],
             [
              0.2222222222222222,
              "#7201a8"
             ],
             [
              0.3333333333333333,
              "#9c179e"
             ],
             [
              0.4444444444444444,
              "#bd3786"
             ],
             [
              0.5555555555555556,
              "#d8576b"
             ],
             [
              0.6666666666666666,
              "#ed7953"
             ],
             [
              0.7777777777777778,
              "#fb9f3a"
             ],
             [
              0.8888888888888888,
              "#fdca26"
             ],
             [
              1,
              "#f0f921"
             ]
            ],
            "type": "histogram2dcontour"
           }
          ],
          "mesh3d": [
           {
            "colorbar": {
             "outlinewidth": 0,
             "ticks": ""
            },
            "type": "mesh3d"
           }
          ],
          "parcoords": [
           {
            "line": {
             "colorbar": {
              "outlinewidth": 0,
              "ticks": ""
             }
            },
            "type": "parcoords"
           }
          ],
          "pie": [
           {
            "automargin": true,
            "type": "pie"
           }
          ],
          "scatter": [
           {
            "fillpattern": {
             "fillmode": "overlay",
             "size": 10,
             "solidity": 0.2
            },
            "type": "scatter"
           }
          ],
          "scatter3d": [
           {
            "line": {
             "colorbar": {
              "outlinewidth": 0,
              "ticks": ""
             }
            },
            "marker": {
             "colorbar": {
              "outlinewidth": 0,
              "ticks": ""
             }
            },
            "type": "scatter3d"
           }
          ],
          "scattercarpet": [
           {
            "marker": {
             "colorbar": {
              "outlinewidth": 0,
              "ticks": ""
             }
            },
            "type": "scattercarpet"
           }
          ],
          "scattergeo": [
           {
            "marker": {
             "colorbar": {
              "outlinewidth": 0,
              "ticks": ""
             }
            },
            "type": "scattergeo"
           }
          ],
          "scattergl": [
           {
            "marker": {
             "colorbar": {
              "outlinewidth": 0,
              "ticks": ""
             }
            },
            "type": "scattergl"
           }
          ],
          "scattermap": [
           {
            "marker": {
             "colorbar": {
              "outlinewidth": 0,
              "ticks": ""
             }
            },
            "type": "scattermap"
           }
          ],
          "scattermapbox": [
           {
            "marker": {
             "colorbar": {
              "outlinewidth": 0,
              "ticks": ""
             }
            },
            "type": "scattermapbox"
           }
          ],
          "scatterpolar": [
           {
            "marker": {
             "colorbar": {
              "outlinewidth": 0,
              "ticks": ""
             }
            },
            "type": "scatterpolar"
           }
          ],
          "scatterpolargl": [
           {
            "marker": {
             "colorbar": {
              "outlinewidth": 0,
              "ticks": ""
             }
            },
            "type": "scatterpolargl"
           }
          ],
          "scatterternary": [
           {
            "marker": {
             "colorbar": {
              "outlinewidth": 0,
              "ticks": ""
             }
            },
            "type": "scatterternary"
           }
          ],
          "surface": [
           {
            "colorbar": {
             "outlinewidth": 0,
             "ticks": ""
            },
            "colorscale": [
             [
              0,
              "#0d0887"
             ],
             [
              0.1111111111111111,
              "#46039f"
             ],
             [
              0.2222222222222222,
              "#7201a8"
             ],
             [
              0.3333333333333333,
              "#9c179e"
             ],
             [
              0.4444444444444444,
              "#bd3786"
             ],
             [
              0.5555555555555556,
              "#d8576b"
             ],
             [
              0.6666666666666666,
              "#ed7953"
             ],
             [
              0.7777777777777778,
              "#fb9f3a"
             ],
             [
              0.8888888888888888,
              "#fdca26"
             ],
             [
              1,
              "#f0f921"
             ]
            ],
            "type": "surface"
           }
          ],
          "table": [
           {
            "cells": {
             "fill": {
              "color": "#EBF0F8"
             },
             "line": {
              "color": "white"
             }
            },
            "header": {
             "fill": {
              "color": "#C8D4E3"
             },
             "line": {
              "color": "white"
             }
            },
            "type": "table"
           }
          ]
         },
         "layout": {
          "annotationdefaults": {
           "arrowcolor": "#2a3f5f",
           "arrowhead": 0,
           "arrowwidth": 1
          },
          "autotypenumbers": "strict",
          "coloraxis": {
           "colorbar": {
            "outlinewidth": 0,
            "ticks": ""
           }
          },
          "colorscale": {
           "diverging": [
            [
             0,
             "#8e0152"
            ],
            [
             0.1,
             "#c51b7d"
            ],
            [
             0.2,
             "#de77ae"
            ],
            [
             0.3,
             "#f1b6da"
            ],
            [
             0.4,
             "#fde0ef"
            ],
            [
             0.5,
             "#f7f7f7"
            ],
            [
             0.6,
             "#e6f5d0"
            ],
            [
             0.7,
             "#b8e186"
            ],
            [
             0.8,
             "#7fbc41"
            ],
            [
             0.9,
             "#4d9221"
            ],
            [
             1,
             "#276419"
            ]
           ],
           "sequential": [
            [
             0,
             "#0d0887"
            ],
            [
             0.1111111111111111,
             "#46039f"
            ],
            [
             0.2222222222222222,
             "#7201a8"
            ],
            [
             0.3333333333333333,
             "#9c179e"
            ],
            [
             0.4444444444444444,
             "#bd3786"
            ],
            [
             0.5555555555555556,
             "#d8576b"
            ],
            [
             0.6666666666666666,
             "#ed7953"
            ],
            [
             0.7777777777777778,
             "#fb9f3a"
            ],
            [
             0.8888888888888888,
             "#fdca26"
            ],
            [
             1,
             "#f0f921"
            ]
           ],
           "sequentialminus": [
            [
             0,
             "#0d0887"
            ],
            [
             0.1111111111111111,
             "#46039f"
            ],
            [
             0.2222222222222222,
             "#7201a8"
            ],
            [
             0.3333333333333333,
             "#9c179e"
            ],
            [
             0.4444444444444444,
             "#bd3786"
            ],
            [
             0.5555555555555556,
             "#d8576b"
            ],
            [
             0.6666666666666666,
             "#ed7953"
            ],
            [
             0.7777777777777778,
             "#fb9f3a"
            ],
            [
             0.8888888888888888,
             "#fdca26"
            ],
            [
             1,
             "#f0f921"
            ]
           ]
          },
          "colorway": [
           "#636efa",
           "#EF553B",
           "#00cc96",
           "#ab63fa",
           "#FFA15A",
           "#19d3f3",
           "#FF6692",
           "#B6E880",
           "#FF97FF",
           "#FECB52"
          ],
          "font": {
           "color": "#2a3f5f"
          },
          "geo": {
           "bgcolor": "white",
           "lakecolor": "white",
           "landcolor": "#E5ECF6",
           "showlakes": true,
           "showland": true,
           "subunitcolor": "white"
          },
          "hoverlabel": {
           "align": "left"
          },
          "hovermode": "closest",
          "mapbox": {
           "style": "light"
          },
          "paper_bgcolor": "white",
          "plot_bgcolor": "#E5ECF6",
          "polar": {
           "angularaxis": {
            "gridcolor": "white",
            "linecolor": "white",
            "ticks": ""
           },
           "bgcolor": "#E5ECF6",
           "radialaxis": {
            "gridcolor": "white",
            "linecolor": "white",
            "ticks": ""
           }
          },
          "scene": {
           "xaxis": {
            "backgroundcolor": "#E5ECF6",
            "gridcolor": "white",
            "gridwidth": 2,
            "linecolor": "white",
            "showbackground": true,
            "ticks": "",
            "zerolinecolor": "white"
           },
           "yaxis": {
            "backgroundcolor": "#E5ECF6",
            "gridcolor": "white",
            "gridwidth": 2,
            "linecolor": "white",
            "showbackground": true,
            "ticks": "",
            "zerolinecolor": "white"
           },
           "zaxis": {
            "backgroundcolor": "#E5ECF6",
            "gridcolor": "white",
            "gridwidth": 2,
            "linecolor": "white",
            "showbackground": true,
            "ticks": "",
            "zerolinecolor": "white"
           }
          },
          "shapedefaults": {
           "line": {
            "color": "#2a3f5f"
           }
          },
          "ternary": {
           "aaxis": {
            "gridcolor": "white",
            "linecolor": "white",
            "ticks": ""
           },
           "baxis": {
            "gridcolor": "white",
            "linecolor": "white",
            "ticks": ""
           },
           "bgcolor": "#E5ECF6",
           "caxis": {
            "gridcolor": "white",
            "linecolor": "white",
            "ticks": ""
           }
          },
          "title": {
           "x": 0.05
          },
          "xaxis": {
           "automargin": true,
           "gridcolor": "white",
           "linecolor": "white",
           "ticks": "",
           "title": {
            "standoff": 15
           },
           "zerolinecolor": "white",
           "zerolinewidth": 2
          },
          "yaxis": {
           "automargin": true,
           "gridcolor": "white",
           "linecolor": "white",
           "ticks": "",
           "title": {
            "standoff": 15
           },
           "zerolinecolor": "white",
           "zerolinewidth": 2
          }
         }
        },
        "title": {
         "text": "1. Radar de Competitividad por Pilar y Macrosector",
         "x": 0.5,
         "xanchor": "center"
        },
        "width": 900
       }
      }
     },
     "metadata": {},
     "output_type": "display_data"
    }
   ],
   "source": [
    "# Encadenar las operaciones de pandas para simplificar el proceso:\n",
    "# 1. Agrupar por Macrosector y Nombre Pilar, calculando la media.\n",
    "radar_final_df = (\n",
    "    raw_data.groupby(['Macrosector', 'Nombre Pilar'])['valoracionPonderada']\n",
    "    .mean()\n",
    "    .reset_index()\n",
    "    .pivot_table(\n",
    "        index='Nombre Pilar',\n",
    "        columns='Macrosector',\n",
    "        values='valoracionPonderada'\n",
    "    )\n",
    "    .fillna(0)\n",
    "    .reset_index()\n",
    "    .rename(columns={'Nombre Pilar': 'category'})\n",
    ")\n",
    "\n",
    "categories = radar_final_df['category'].tolist()\n",
    "macrosectores = radar_final_df.drop(columns='category').columns.tolist()\n",
    "\n",
    "# Wrap category labels\n",
    "wrapped_categories = [wrap_text(cat) for cat in categories]\n",
    "\n",
    "fig = go.Figure()\n",
    "\n",
    "# Create color palette for different macrosectors\n",
    "colors = px.colors.qualitative.Set1[:len(macrosectores)]\n",
    "\n",
    "for i, macrosector in enumerate(macrosectores):\n",
    "    values = radar_final_df[macrosector].values\n",
    "    fig.add_trace(go.Scatterpolar(\n",
    "        r=values,\n",
    "        theta=wrapped_categories,  # Use wrapped categories\n",
    "        fill='toself',\n",
    "        name=macrosector,\n",
    "        line=dict(color=colors[i % len(colors)]),\n",
    "        fillcolor=colors[i % len(colors)],\n",
    "        opacity=0.6\n",
    "    ))\n",
    "\n",
    "fig.update_layout(\n",
    "    polar=dict(\n",
    "        radialaxis=dict(\n",
    "            visible=True,\n",
    "            range=[0, max(radar_final_df.drop(columns='category').max()) * 1.1],  # Dynamic range\n",
    "            tickmode='linear',\n",
    "            tick0=0,\n",
    "            dtick=5\n",
    "        ),\n",
    "        angularaxis=dict(\n",
    "            tickmode='array',\n",
    "            tickvals=list(range(len(categories))),\n",
    "            ticktext=wrapped_categories,  # Use wrapped categories\n",
    "            tickfont=dict(size=10),  # Smaller font for wrapped text\n",
    "            rotation=0  # Keep labels horizontal for better readability\n",
    "        )\n",
    "    ),\n",
    "    showlegend=True,\n",
    "    title={\n",
    "        'text': '1. Radar de Competitividad por Pilar y Macrosector',\n",
    "        'x': 0.5,\n",
    "        'xanchor': 'center'\n",
    "    },\n",
    "    width=900,  # Increased width to accommodate wrapped labels\n",
    "    height=700  # Increased height to accommodate wrapped labels\n",
    ")\n",
    "fig.show()\n",
    "save_chart_as_html(fig, '01_radar_macroeconomic.html')\n"
   ]
  },
  {
   "cell_type": "markdown",
   "metadata": {
    "id": "5pju1snkmilQ"
   },
   "source": [
    "## 2. Mapa de calor de Desempeño Empresarial"
   ]
  },
  {
   "cell_type": "markdown",
   "metadata": {
    "id": "Ugb6ZL9usxFf"
   },
   "source": [
    "### Manejo de datos"
   ]
  },
  {
   "cell_type": "code",
   "execution_count": 28,
   "metadata": {
    "colab": {
     "base_uri": "https://localhost:8080/",
     "height": 206
    },
    "executionInfo": {
     "elapsed": 93,
     "status": "ok",
     "timestamp": 1754157043199,
     "user": {
      "displayName": "Juan Camilo Ortiz",
      "userId": "14839115185471025896"
     },
     "user_tz": 300
    },
    "id": "MT16zHh_mlNC",
    "outputId": "7b4d8493-d3ff-4751-a38d-9f88b45a4493"
   },
   "outputs": [
    {
     "data": {
      "application/vnd.plotly.v1+json": {
       "config": {
        "plotlyServerURL": "https://plot.ly"
       },
       "data": [
        {
         "colorbar": {
          "title": {
           "text": "Valoración Ponderada"
          }
         },
         "colorscale": [
          [
           0,
           "rgb(247,251,255)"
          ],
          [
           0.125,
           "rgb(222,235,247)"
          ],
          [
           0.25,
           "rgb(198,219,239)"
          ],
          [
           0.375,
           "rgb(158,202,225)"
          ],
          [
           0.5,
           "rgb(107,174,214)"
          ],
          [
           0.625,
           "rgb(66,146,198)"
          ],
          [
           0.75,
           "rgb(33,113,181)"
          ],
          [
           0.875,
           "rgb(8,81,156)"
          ],
          [
           1,
           "rgb(8,48,107)"
          ]
         ],
         "type": "heatmap",
         "x": [
          "Acción Climática y<br>Energía",
          "Capital Humano: Bienestar<br>y Desarrollo",
          "Diversidad, Equidad e<br>Inclusión (DEI)",
          "Gestión de Recursos<br>Naturales y Circularidad",
          "Impacto Económico, Social<br>y Comunitario",
          "Transparencia y Gobierno<br>de la Sostenibilidad"
         ],
         "y": [
          "ARA",
          "ARQUITECTURA Y CONCRETO",
          "AUTOPISTA RIO MAGDALENA SAS",
          "AVICOLA EL MADROÑO SA",
          "AVSA",
          "Aliar",
          "Alimentos Carnicos (Grupo Nutresa)",
          "Alpina",
          "Amarilo",
          "Avianca",
          "BEL STAR S.A.",
          "Banco de Bogotá",
          "Bancolombia",
          "Bavaria (Kopps)",
          "Biomax",
          "C.I Prodeco",
          "CARTON DE COLOMBIA S.A. (Smurfit Kappa)",
          "CI Eslop",
          "CONCESIONARIA VIAL UNIÓN DEL SUR SAS",
          "CONSTRUCCIONES EL CONDOR S.A",
          "CONSTRUCTORA CAPITAL BOGOTA SAS",
          "CONSTRUCTORA COLPATRIA  SAS",
          "Celsia",
          "Cementos Argos",
          "Cencosud",
          "Cenit",
          "Cerrejón",
          "Chevron",
          "Claro",
          "Coca Cola- Femsa",
          "Colgate",
          "Colombina",
          "Compañía Nacional de Chocolates",
          "Conconcreto",
          "Corbeta",
          "Cruz Verde",
          "D1",
          "Davivienda",
          "Distracom",
          "Drummond",
          "EPM",
          "ES Windows",
          "Ecopetrol",
          "Emgesa",
          "Esenttia",
          "Falabella",
          "Frontera Energy",
          "GEB",
          "Gases del Caribe",
          "General Motors",
          "Geopark",
          "Gran Tierra Energy",
          "Grupo Bios",
          "Grupo Diana",
          "Haceb",
          "Hocol",
          "INCUBADORA SANTANDER S.A. (Huevos Kikes)",
          "ISA",
          "ISMOCOL SA",
          "Isagen",
          "Italcol",
          "LATAM",
          "MARVAL S.A.S.",
          "Mazda",
          "Mercado Libre",
          "Nestle",
          "Oleoducto Central (Ocensa)",
          "Olímpica",
          "POLLOS EL BUCANERO S.A. (Cargill)",
          "Pepsico",
          "Petromil",
          "Postobón",
          "Pricesmart",
          "Primax",
          "Productos Familia (Essity)",
          "Promigas",
          "Rappi",
          "Reficar",
          "Renault",
          "Riopaila Castilla",
          "Samsung",
          "SierraCol Energy",
          "Sodimac (Homecenter)",
          "Sucafina",
          "Sunshine Bouquet",
          "Suramerica Comercial (Dollar City)",
          "Tecnoquimicas",
          "Telefónica",
          "Teleperformance",
          "Terpel",
          "Tigo",
          "Toyota",
          "Trafigura (Petroleum)",
          "Uniban",
          "Unilever",
          "Vanti",
          "Verano energy",
          "YARA COLOMBIA S.A.",
          "Yamaha",
          "Éxito"
         ],
         "z": {
          "bdata": "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",
          "dtype": "f8",
          "shape": "100, 6"
         }
        }
       ],
       "layout": {
        "height": 800,
        "template": {
         "data": {
          "bar": [
           {
            "error_x": {
             "color": "#2a3f5f"
            },
            "error_y": {
             "color": "#2a3f5f"
            },
            "marker": {
             "line": {
              "color": "#E5ECF6",
              "width": 0.5
             },
             "pattern": {
              "fillmode": "overlay",
              "size": 10,
              "solidity": 0.2
             }
            },
            "type": "bar"
           }
          ],
          "barpolar": [
           {
            "marker": {
             "line": {
              "color": "#E5ECF6",
              "width": 0.5
             },
             "pattern": {
              "fillmode": "overlay",
              "size": 10,
              "solidity": 0.2
             }
            },
            "type": "barpolar"
           }
          ],
          "carpet": [
           {
            "aaxis": {
             "endlinecolor": "#2a3f5f",
             "gridcolor": "white",
             "linecolor": "white",
             "minorgridcolor": "white",
             "startlinecolor": "#2a3f5f"
            },
            "baxis": {
             "endlinecolor": "#2a3f5f",
             "gridcolor": "white",
             "linecolor": "white",
             "minorgridcolor": "white",
             "startlinecolor": "#2a3f5f"
            },
            "type": "carpet"
           }
          ],
          "choropleth": [
           {
            "colorbar": {
             "outlinewidth": 0,
             "ticks": ""
            },
            "type": "choropleth"
           }
          ],
          "contour": [
           {
            "colorbar": {
             "outlinewidth": 0,
             "ticks": ""
            },
            "colorscale": [
             [
              0,
              "#0d0887"
             ],
             [
              0.1111111111111111,
              "#46039f"
             ],
             [
              0.2222222222222222,
              "#7201a8"
             ],
             [
              0.3333333333333333,
              "#9c179e"
             ],
             [
              0.4444444444444444,
              "#bd3786"
             ],
             [
              0.5555555555555556,
              "#d8576b"
             ],
             [
              0.6666666666666666,
              "#ed7953"
             ],
             [
              0.7777777777777778,
              "#fb9f3a"
             ],
             [
              0.8888888888888888,
              "#fdca26"
             ],
             [
              1,
              "#f0f921"
             ]
            ],
            "type": "contour"
           }
          ],
          "contourcarpet": [
           {
            "colorbar": {
             "outlinewidth": 0,
             "ticks": ""
            },
            "type": "contourcarpet"
           }
          ],
          "heatmap": [
           {
            "colorbar": {
             "outlinewidth": 0,
             "ticks": ""
            },
            "colorscale": [
             [
              0,
              "#0d0887"
             ],
             [
              0.1111111111111111,
              "#46039f"
             ],
             [
              0.2222222222222222,
              "#7201a8"
             ],
             [
              0.3333333333333333,
              "#9c179e"
             ],
             [
              0.4444444444444444,
              "#bd3786"
             ],
             [
              0.5555555555555556,
              "#d8576b"
             ],
             [
              0.6666666666666666,
              "#ed7953"
             ],
             [
              0.7777777777777778,
              "#fb9f3a"
             ],
             [
              0.8888888888888888,
              "#fdca26"
             ],
             [
              1,
              "#f0f921"
             ]
            ],
            "type": "heatmap"
           }
          ],
          "histogram": [
           {
            "marker": {
             "pattern": {
              "fillmode": "overlay",
              "size": 10,
              "solidity": 0.2
             }
            },
            "type": "histogram"
           }
          ],
          "histogram2d": [
           {
            "colorbar": {
             "outlinewidth": 0,
             "ticks": ""
            },
            "colorscale": [
             [
              0,
              "#0d0887"
             ],
             [
              0.1111111111111111,
              "#46039f"
             ],
             [
              0.2222222222222222,
              "#7201a8"
             ],
             [
              0.3333333333333333,
              "#9c179e"
             ],
             [
              0.4444444444444444,
              "#bd3786"
             ],
             [
              0.5555555555555556,
              "#d8576b"
             ],
             [
              0.6666666666666666,
              "#ed7953"
             ],
             [
              0.7777777777777778,
              "#fb9f3a"
             ],
             [
              0.8888888888888888,
              "#fdca26"
             ],
             [
              1,
              "#f0f921"
             ]
            ],
            "type": "histogram2d"
           }
          ],
          "histogram2dcontour": [
           {
            "colorbar": {
             "outlinewidth": 0,
             "ticks": ""
            },
            "colorscale": [
             [
              0,
              "#0d0887"
             ],
             [
              0.1111111111111111,
              "#46039f"
             ],
             [
              0.2222222222222222,
              "#7201a8"
             ],
             [
              0.3333333333333333,
              "#9c179e"
             ],
             [
              0.4444444444444444,
              "#bd3786"
             ],
             [
              0.5555555555555556,
              "#d8576b"
             ],
             [
              0.6666666666666666,
              "#ed7953"
             ],
             [
              0.7777777777777778,
              "#fb9f3a"
             ],
             [
              0.8888888888888888,
              "#fdca26"
             ],
             [
              1,
              "#f0f921"
             ]
            ],
            "type": "histogram2dcontour"
           }
          ],
          "mesh3d": [
           {
            "colorbar": {
             "outlinewidth": 0,
             "ticks": ""
            },
            "type": "mesh3d"
           }
          ],
          "parcoords": [
           {
            "line": {
             "colorbar": {
              "outlinewidth": 0,
              "ticks": ""
             }
            },
            "type": "parcoords"
           }
          ],
          "pie": [
           {
            "automargin": true,
            "type": "pie"
           }
          ],
          "scatter": [
           {
            "fillpattern": {
             "fillmode": "overlay",
             "size": 10,
             "solidity": 0.2
            },
            "type": "scatter"
           }
          ],
          "scatter3d": [
           {
            "line": {
             "colorbar": {
              "outlinewidth": 0,
              "ticks": ""
             }
            },
            "marker": {
             "colorbar": {
              "outlinewidth": 0,
              "ticks": ""
             }
            },
            "type": "scatter3d"
           }
          ],
          "scattercarpet": [
           {
            "marker": {
             "colorbar": {
              "outlinewidth": 0,
              "ticks": ""
             }
            },
            "type": "scattercarpet"
           }
          ],
          "scattergeo": [
           {
            "marker": {
             "colorbar": {
              "outlinewidth": 0,
              "ticks": ""
             }
            },
            "type": "scattergeo"
           }
          ],
          "scattergl": [
           {
            "marker": {
             "colorbar": {
              "outlinewidth": 0,
              "ticks": ""
             }
            },
            "type": "scattergl"
           }
          ],
          "scattermap": [
           {
            "marker": {
             "colorbar": {
              "outlinewidth": 0,
              "ticks": ""
             }
            },
            "type": "scattermap"
           }
          ],
          "scattermapbox": [
           {
            "marker": {
             "colorbar": {
              "outlinewidth": 0,
              "ticks": ""
             }
            },
            "type": "scattermapbox"
           }
          ],
          "scatterpolar": [
           {
            "marker": {
             "colorbar": {
              "outlinewidth": 0,
              "ticks": ""
             }
            },
            "type": "scatterpolar"
           }
          ],
          "scatterpolargl": [
           {
            "marker": {
             "colorbar": {
              "outlinewidth": 0,
              "ticks": ""
             }
            },
            "type": "scatterpolargl"
           }
          ],
          "scatterternary": [
           {
            "marker": {
             "colorbar": {
              "outlinewidth": 0,
              "ticks": ""
             }
            },
            "type": "scatterternary"
           }
          ],
          "surface": [
           {
            "colorbar": {
             "outlinewidth": 0,
             "ticks": ""
            },
            "colorscale": [
             [
              0,
              "#0d0887"
             ],
             [
              0.1111111111111111,
              "#46039f"
             ],
             [
              0.2222222222222222,
              "#7201a8"
             ],
             [
              0.3333333333333333,
              "#9c179e"
             ],
             [
              0.4444444444444444,
              "#bd3786"
             ],
             [
              0.5555555555555556,
              "#d8576b"
             ],
             [
              0.6666666666666666,
              "#ed7953"
             ],
             [
              0.7777777777777778,
              "#fb9f3a"
             ],
             [
              0.8888888888888888,
              "#fdca26"
             ],
             [
              1,
              "#f0f921"
             ]
            ],
            "type": "surface"
           }
          ],
          "table": [
           {
            "cells": {
             "fill": {
              "color": "#EBF0F8"
             },
             "line": {
              "color": "white"
             }
            },
            "header": {
             "fill": {
              "color": "#C8D4E3"
             },
             "line": {
              "color": "white"
             }
            },
            "type": "table"
           }
          ]
         },
         "layout": {
          "annotationdefaults": {
           "arrowcolor": "#2a3f5f",
           "arrowhead": 0,
           "arrowwidth": 1
          },
          "autotypenumbers": "strict",
          "coloraxis": {
           "colorbar": {
            "outlinewidth": 0,
            "ticks": ""
           }
          },
          "colorscale": {
           "diverging": [
            [
             0,
             "#8e0152"
            ],
            [
             0.1,
             "#c51b7d"
            ],
            [
             0.2,
             "#de77ae"
            ],
            [
             0.3,
             "#f1b6da"
            ],
            [
             0.4,
             "#fde0ef"
            ],
            [
             0.5,
             "#f7f7f7"
            ],
            [
             0.6,
             "#e6f5d0"
            ],
            [
             0.7,
             "#b8e186"
            ],
            [
             0.8,
             "#7fbc41"
            ],
            [
             0.9,
             "#4d9221"
            ],
            [
             1,
             "#276419"
            ]
           ],
           "sequential": [
            [
             0,
             "#0d0887"
            ],
            [
             0.1111111111111111,
             "#46039f"
            ],
            [
             0.2222222222222222,
             "#7201a8"
            ],
            [
             0.3333333333333333,
             "#9c179e"
            ],
            [
             0.4444444444444444,
             "#bd3786"
            ],
            [
             0.5555555555555556,
             "#d8576b"
            ],
            [
             0.6666666666666666,
             "#ed7953"
            ],
            [
             0.7777777777777778,
             "#fb9f3a"
            ],
            [
             0.8888888888888888,
             "#fdca26"
            ],
            [
             1,
             "#f0f921"
            ]
           ],
           "sequentialminus": [
            [
             0,
             "#0d0887"
            ],
            [
             0.1111111111111111,
             "#46039f"
            ],
            [
             0.2222222222222222,
             "#7201a8"
            ],
            [
             0.3333333333333333,
             "#9c179e"
            ],
            [
             0.4444444444444444,
             "#bd3786"
            ],
            [
             0.5555555555555556,
             "#d8576b"
            ],
            [
             0.6666666666666666,
             "#ed7953"
            ],
            [
             0.7777777777777778,
             "#fb9f3a"
            ],
            [
             0.8888888888888888,
             "#fdca26"
            ],
            [
             1,
             "#f0f921"
            ]
           ]
          },
          "colorway": [
           "#636efa",
           "#EF553B",
           "#00cc96",
           "#ab63fa",
           "#FFA15A",
           "#19d3f3",
           "#FF6692",
           "#B6E880",
           "#FF97FF",
           "#FECB52"
          ],
          "font": {
           "color": "#2a3f5f"
          },
          "geo": {
           "bgcolor": "white",
           "lakecolor": "white",
           "landcolor": "#E5ECF6",
           "showlakes": true,
           "showland": true,
           "subunitcolor": "white"
          },
          "hoverlabel": {
           "align": "left"
          },
          "hovermode": "closest",
          "mapbox": {
           "style": "light"
          },
          "paper_bgcolor": "white",
          "plot_bgcolor": "#E5ECF6",
          "polar": {
           "angularaxis": {
            "gridcolor": "white",
            "linecolor": "white",
            "ticks": ""
           },
           "bgcolor": "#E5ECF6",
           "radialaxis": {
            "gridcolor": "white",
            "linecolor": "white",
            "ticks": ""
           }
          },
          "scene": {
           "xaxis": {
            "backgroundcolor": "#E5ECF6",
            "gridcolor": "white",
            "gridwidth": 2,
            "linecolor": "white",
            "showbackground": true,
            "ticks": "",
            "zerolinecolor": "white"
           },
           "yaxis": {
            "backgroundcolor": "#E5ECF6",
            "gridcolor": "white",
            "gridwidth": 2,
            "linecolor": "white",
            "showbackground": true,
            "ticks": "",
            "zerolinecolor": "white"
           },
           "zaxis": {
            "backgroundcolor": "#E5ECF6",
            "gridcolor": "white",
            "gridwidth": 2,
            "linecolor": "white",
            "showbackground": true,
            "ticks": "",
            "zerolinecolor": "white"
           }
          },
          "shapedefaults": {
           "line": {
            "color": "#2a3f5f"
           }
          },
          "ternary": {
           "aaxis": {
            "gridcolor": "white",
            "linecolor": "white",
            "ticks": ""
           },
           "baxis": {
            "gridcolor": "white",
            "linecolor": "white",
            "ticks": ""
           },
           "bgcolor": "#E5ECF6",
           "caxis": {
            "gridcolor": "white",
            "linecolor": "white",
            "ticks": ""
           }
          },
          "title": {
           "x": 0.05
          },
          "xaxis": {
           "automargin": true,
           "gridcolor": "white",
           "linecolor": "white",
           "ticks": "",
           "title": {
            "standoff": 15
           },
           "zerolinecolor": "white",
           "zerolinewidth": 2
          },
          "yaxis": {
           "automargin": true,
           "gridcolor": "white",
           "linecolor": "white",
           "ticks": "",
           "title": {
            "standoff": 15
           },
           "zerolinecolor": "white",
           "zerolinewidth": 2
          }
         }
        },
        "title": {
         "text": "2. Mapa de Calor de Desempeño Empresarial"
        },
        "width": 1000,
        "xaxis": {
         "title": {
          "text": "Pilares"
         }
        },
        "yaxis": {
         "title": {
          "text": "Empresas"
         }
        }
       }
      }
     },
     "metadata": {},
     "output_type": "display_data"
    }
   ],
   "source": [
    "# 1. Pivotar la tabla para agregar los valores.\n",
    "#    - Se agrupa por 'Razón social' y 'Nombre Pilar'.\n",
    "#    - Se calcula la SUMA de 'valoracionPonderada' como indica la guía.\n",
    "#    - Se rellenan los valores nulos con 0.\n",
    "heatmap_pivot = raw_data.pivot_table(\n",
    "    index='Razón social',\n",
    "    columns='Nombre Pilar',\n",
    "    values='valoracionPonderada',\n",
    "    aggfunc='sum',\n",
    "    fill_value=0\n",
    ")\n",
    "\n",
    "heatmap_pivot.sort_values(by='Razón social', inplace=True)\n",
    "wrapped_pilars = [wrap_text(col) for col in heatmap_pivot.columns]\n",
    "# Crear mapa de calor con Plotly\n",
    "heatmap_fig = go.Figure(data=go.Heatmap(\n",
    "    z=heatmap_pivot.values,\n",
    "    x=wrapped_pilars,\n",
    "    y=heatmap_pivot.index,\n",
    "    colorscale='blues',\n",
    "    colorbar=dict(title='Valoración Ponderada')\n",
    "))\n",
    "\n",
    "heatmap_fig.update_layout(\n",
    "    title='2. Mapa de Calor de Desempeño Empresarial',\n",
    "    xaxis_title='Pilares',\n",
    "    yaxis_title='Empresas',\n",
    "    width=1000,  # Ajustar el ancho del gráfico\n",
    "    height=800  # Ajustar la altura del gráfico\n",
    ")\n",
    "\n",
    "heatmap_fig.show()\n",
    "save_chart_as_html(heatmap_fig, '02_heatmap_performance.html')"
   ]
  },
  {
   "cell_type": "markdown",
   "metadata": {},
   "source": [
    "## 3. Diagrama de Violín de la Dispersión del Desempeño Sectorial"
   ]
  },
  {
   "cell_type": "markdown",
   "metadata": {},
   "source": [
    "### Manejo de datos"
   ]
  },
  {
   "cell_type": "code",
   "execution_count": 34,
   "metadata": {},
   "outputs": [
    {
     "data": {
      "application/vnd.plotly.v1+json": {
       "config": {
        "plotlyServerURL": "https://plot.ly"
       },
       "data": [
        {
         "alignmentgroup": "True",
         "box": {
          "visible": true
         },
         "hovertemplate": "Macrosector=%{x}<br>Puntaje Total=%{y}<extra></extra>",
         "legendgroup": "Comercio",
         "marker": {
          "color": "#636efa"
         },
         "meanline": {
          "visible": true
         },
         "name": "Comercio",
         "offsetgroup": "Comercio",
         "orientation": "v",
         "points": "all",
         "scalegroup": "True",
         "showlegend": true,
         "type": "violin",
         "x": [
          "Comercio",
          "Comercio",
          "Comercio",
          "Comercio",
          "Comercio",
          "Comercio",
          "Comercio",
          "Comercio",
          "Comercio",
          "Comercio",
          "Comercio",
          "Comercio",
          "Comercio",
          "Comercio",
          "Comercio",
          "Comercio",
          "Comercio",
          "Comercio",
          "Comercio",
          "Comercio",
          "Comercio",
          "Comercio",
          "Comercio",
          "Comercio",
          "Comercio",
          "Comercio"
         ],
         "x0": " ",
         "xaxis": "x",
         "y": {
          "bdata": "PWR0h4eHV0A9ZHSHh4dXQD1kdIeHh1dAgnbBvzx4dUDTzZOlpeVnQD1kdIeHh1dAtFXXDs8teEA9YiQWAXh4QD1kdIeHh1dASdVQTInmfUB+vh4tLW1yQJM4UWlpaV1APWR0h4eHV0AN6zVZLVVuQAdtqesfF35AZTJ1h4cHd0CUPW9OqLF9QIHVeoeHR3FAPWR0h4eHV0A9ZHSHh4dXQHdP4bJZA39AMmS5yKzxd0D4KCEtLS1wQDdfJyAe3XRAPWR0h4eHV0DHwZg5tIl5QA==",
          "dtype": "f8"
         },
         "y0": " ",
         "yaxis": "y"
        },
        {
         "alignmentgroup": "True",
         "box": {
          "visible": true
         },
         "hovertemplate": "Macrosector=%{x}<br>Puntaje Total=%{y}<extra></extra>",
         "legendgroup": "Construcción",
         "marker": {
          "color": "#EF553B"
         },
         "meanline": {
          "visible": true
         },
         "name": "Construcción",
         "offsetgroup": "Construcción",
         "orientation": "v",
         "points": "all",
         "scalegroup": "True",
         "showlegend": true,
         "type": "violin",
         "x": [
          "Construcción",
          "Construcción",
          "Construcción",
          "Construcción",
          "Construcción",
          "Construcción",
          "Construcción",
          "Construcción",
          "Construcción",
          "Construcción"
         ],
         "x0": " ",
         "xaxis": "x",
         "y": {
          "bdata": "mtikJEkSUEDFq+nQaqV8QLaf3ThJbHlA98O7m5hdcUDc/atAnW1nQBIjYIFD8GFAOBoWXMnbakDpZ9PZtTFyQIcZtyRJkkxA8yL8U+bWbkA=",
          "dtype": "f8"
         },
         "y0": " ",
         "yaxis": "y"
        },
        {
         "alignmentgroup": "True",
         "box": {
          "visible": true
         },
         "hovertemplate": "Macrosector=%{x}<br>Puntaje Total=%{y}<extra></extra>",
         "legendgroup": "Agropecuario",
         "marker": {
          "color": "#00cc96"
         },
         "meanline": {
          "visible": true
         },
         "name": "Agropecuario",
         "offsetgroup": "Agropecuario",
         "orientation": "v",
         "points": "all",
         "scalegroup": "True",
         "showlegend": true,
         "type": "violin",
         "x": [
          "Agropecuario",
          "Agropecuario",
          "Agropecuario",
          "Agropecuario",
          "Agropecuario",
          "Agropecuario"
         ],
         "x0": " ",
         "xaxis": "x",
         "y": {
          "bdata": "LbPntm3bUUB4iBQ9z/NOQPPvAD3Pk3VAMg2VD4mgZkAts+e2bdtRQF6Wftu2bVVA",
          "dtype": "f8"
         },
         "y0": " ",
         "yaxis": "y"
        },
        {
         "alignmentgroup": "True",
         "box": {
          "visible": true
         },
         "hovertemplate": "Macrosector=%{x}<br>Puntaje Total=%{y}<extra></extra>",
         "legendgroup": "Manufactura",
         "marker": {
          "color": "#ab63fa"
         },
         "meanline": {
          "visible": true
         },
         "name": "Manufactura",
         "offsetgroup": "Manufactura",
         "orientation": "v",
         "points": "all",
         "scalegroup": "True",
         "showlegend": true,
         "type": "violin",
         "x": [
          "Manufactura",
          "Manufactura",
          "Manufactura",
          "Manufactura",
          "Manufactura",
          "Manufactura",
          "Manufactura",
          "Manufactura",
          "Manufactura",
          "Manufactura",
          "Manufactura",
          "Manufactura",
          "Manufactura",
          "Manufactura",
          "Manufactura",
          "Manufactura",
          "Manufactura",
          "Manufactura",
          "Manufactura",
          "Manufactura",
          "Manufactura",
          "Manufactura",
          "Manufactura",
          "Manufactura",
          "Manufactura",
          "Manufactura"
         ],
         "x0": " ",
         "xaxis": "x",
         "y": {
          "bdata": "GcerIOyMgEAXzWASUi57QMniNs6ZQXJA6682Sod0a0BC4ymuUZZ4QIbDCmuOuX1AI5Udc8rJe0BNv5q8hpJzQFdMD4SkOoBA1/FsSoLecEA5dMRrKK9XQDNc/vLCSoFAZn60hvKedEBySievobxTQDUe10z3JHtAckonr6G8U0CIPNocffNxQHJKJ6+hvFNANACB8hrqckC2glXeoneBQDTlYab3Y3pAgm5iWulVdkDX0xE3xFx4QNWoQ0sHWXxATD2HCZ1dckA8ElBdUF5mQA==",
          "dtype": "f8"
         },
         "y0": " ",
         "yaxis": "y"
        },
        {
         "alignmentgroup": "True",
         "box": {
          "visible": true
         },
         "hovertemplate": "Macrosector=%{x}<br>Puntaje Total=%{y}<extra></extra>",
         "legendgroup": "Servicios",
         "marker": {
          "color": "#FFA15A"
         },
         "meanline": {
          "visible": true
         },
         "name": "Servicios",
         "offsetgroup": "Servicios",
         "orientation": "v",
         "points": "all",
         "scalegroup": "True",
         "showlegend": true,
         "type": "violin",
         "x": [
          "Servicios",
          "Servicios",
          "Servicios",
          "Servicios",
          "Servicios",
          "Servicios",
          "Servicios",
          "Servicios",
          "Servicios",
          "Servicios",
          "Servicios",
          "Servicios",
          "Servicios",
          "Servicios",
          "Servicios",
          "Servicios",
          "Servicios",
          "Servicios",
          "Servicios",
          "Servicios",
          "Servicios",
          "Servicios"
         ],
         "x0": " ",
         "xaxis": "x",
         "y": {
          "bdata": "0T3rGq3wdUA9uaZAVqZ/QMRk7n2pDXdAq542JEp6e0BJjAhAYLh8QIW8ykw0dX1AO/GaLM0kfkBNGpsEnDx7QPBv+95Jwn9AIl8ePwcfe0C93/sqz8VyQFhLNFocc3lA5EP1e9fjcECDRnbGk3h4QDPWMcAjB3RAIas1dixaeUAPODYugBh9QM9aIC0tLVBAkfUJ3bODfEDDchlxMPp5QLaBv4jjBXVAOpEPY9IadkA=",
          "dtype": "f8"
         },
         "y0": " ",
         "yaxis": "y"
        },
        {
         "alignmentgroup": "True",
         "box": {
          "visible": true
         },
         "hovertemplate": "Macrosector=%{x}<br>Puntaje Total=%{y}<extra></extra>",
         "legendgroup": "Minero",
         "marker": {
          "color": "#19d3f3"
         },
         "meanline": {
          "visible": true
         },
         "name": "Minero",
         "offsetgroup": "Minero",
         "orientation": "v",
         "points": "all",
         "scalegroup": "True",
         "showlegend": true,
         "type": "violin",
         "x": [
          "Minero",
          "Minero",
          "Minero",
          "Minero",
          "Minero",
          "Minero",
          "Minero",
          "Minero",
          "Minero",
          "Minero"
         ],
         "x0": " ",
         "xaxis": "x",
         "y": {
          "bdata": "cYbq////SEDCuVEnShlzQPQfPFRfT4FAQvczXGc6gECu4Uq/mjJ8QGzyRY/wpIBAjMkiGmPTdkBf0RW7Wbl+QGAdUAEz035A36jTiZ3YXEA=",
          "dtype": "f8"
         },
         "y0": " ",
         "yaxis": "y"
        }
       ],
       "layout": {
        "height": 700,
        "legend": {
         "title": {
          "text": "Macrosector"
         },
         "tracegroupgap": 0
        },
        "template": {
         "data": {
          "bar": [
           {
            "error_x": {
             "color": "#2a3f5f"
            },
            "error_y": {
             "color": "#2a3f5f"
            },
            "marker": {
             "line": {
              "color": "#E5ECF6",
              "width": 0.5
             },
             "pattern": {
              "fillmode": "overlay",
              "size": 10,
              "solidity": 0.2
             }
            },
            "type": "bar"
           }
          ],
          "barpolar": [
           {
            "marker": {
             "line": {
              "color": "#E5ECF6",
              "width": 0.5
             },
             "pattern": {
              "fillmode": "overlay",
              "size": 10,
              "solidity": 0.2
             }
            },
            "type": "barpolar"
           }
          ],
          "carpet": [
           {
            "aaxis": {
             "endlinecolor": "#2a3f5f",
             "gridcolor": "white",
             "linecolor": "white",
             "minorgridcolor": "white",
             "startlinecolor": "#2a3f5f"
            },
            "baxis": {
             "endlinecolor": "#2a3f5f",
             "gridcolor": "white",
             "linecolor": "white",
             "minorgridcolor": "white",
             "startlinecolor": "#2a3f5f"
            },
            "type": "carpet"
           }
          ],
          "choropleth": [
           {
            "colorbar": {
             "outlinewidth": 0,
             "ticks": ""
            },
            "type": "choropleth"
           }
          ],
          "contour": [
           {
            "colorbar": {
             "outlinewidth": 0,
             "ticks": ""
            },
            "colorscale": [
             [
              0,
              "#0d0887"
             ],
             [
              0.1111111111111111,
              "#46039f"
             ],
             [
              0.2222222222222222,
              "#7201a8"
             ],
             [
              0.3333333333333333,
              "#9c179e"
             ],
             [
              0.4444444444444444,
              "#bd3786"
             ],
             [
              0.5555555555555556,
              "#d8576b"
             ],
             [
              0.6666666666666666,
              "#ed7953"
             ],
             [
              0.7777777777777778,
              "#fb9f3a"
             ],
             [
              0.8888888888888888,
              "#fdca26"
             ],
             [
              1,
              "#f0f921"
             ]
            ],
            "type": "contour"
           }
          ],
          "contourcarpet": [
           {
            "colorbar": {
             "outlinewidth": 0,
             "ticks": ""
            },
            "type": "contourcarpet"
           }
          ],
          "heatmap": [
           {
            "colorbar": {
             "outlinewidth": 0,
             "ticks": ""
            },
            "colorscale": [
             [
              0,
              "#0d0887"
             ],
             [
              0.1111111111111111,
              "#46039f"
             ],
             [
              0.2222222222222222,
              "#7201a8"
             ],
             [
              0.3333333333333333,
              "#9c179e"
             ],
             [
              0.4444444444444444,
              "#bd3786"
             ],
             [
              0.5555555555555556,
              "#d8576b"
             ],
             [
              0.6666666666666666,
              "#ed7953"
             ],
             [
              0.7777777777777778,
              "#fb9f3a"
             ],
             [
              0.8888888888888888,
              "#fdca26"
             ],
             [
              1,
              "#f0f921"
             ]
            ],
            "type": "heatmap"
           }
          ],
          "histogram": [
           {
            "marker": {
             "pattern": {
              "fillmode": "overlay",
              "size": 10,
              "solidity": 0.2
             }
            },
            "type": "histogram"
           }
          ],
          "histogram2d": [
           {
            "colorbar": {
             "outlinewidth": 0,
             "ticks": ""
            },
            "colorscale": [
             [
              0,
              "#0d0887"
             ],
             [
              0.1111111111111111,
              "#46039f"
             ],
             [
              0.2222222222222222,
              "#7201a8"
             ],
             [
              0.3333333333333333,
              "#9c179e"
             ],
             [
              0.4444444444444444,
              "#bd3786"
             ],
             [
              0.5555555555555556,
              "#d8576b"
             ],
             [
              0.6666666666666666,
              "#ed7953"
             ],
             [
              0.7777777777777778,
              "#fb9f3a"
             ],
             [
              0.8888888888888888,
              "#fdca26"
             ],
             [
              1,
              "#f0f921"
             ]
            ],
            "type": "histogram2d"
           }
          ],
          "histogram2dcontour": [
           {
            "colorbar": {
             "outlinewidth": 0,
             "ticks": ""
            },
            "colorscale": [
             [
              0,
              "#0d0887"
             ],
             [
              0.1111111111111111,
              "#46039f"
             ],
             [
              0.2222222222222222,
              "#7201a8"
             ],
             [
              0.3333333333333333,
              "#9c179e"
             ],
             [
              0.4444444444444444,
              "#bd3786"
             ],
             [
              0.5555555555555556,
              "#d8576b"
             ],
             [
              0.6666666666666666,
              "#ed7953"
             ],
             [
              0.7777777777777778,
              "#fb9f3a"
             ],
             [
              0.8888888888888888,
              "#fdca26"
             ],
             [
              1,
              "#f0f921"
             ]
            ],
            "type": "histogram2dcontour"
           }
          ],
          "mesh3d": [
           {
            "colorbar": {
             "outlinewidth": 0,
             "ticks": ""
            },
            "type": "mesh3d"
           }
          ],
          "parcoords": [
           {
            "line": {
             "colorbar": {
              "outlinewidth": 0,
              "ticks": ""
             }
            },
            "type": "parcoords"
           }
          ],
          "pie": [
           {
            "automargin": true,
            "type": "pie"
           }
          ],
          "scatter": [
           {
            "fillpattern": {
             "fillmode": "overlay",
             "size": 10,
             "solidity": 0.2
            },
            "type": "scatter"
           }
          ],
          "scatter3d": [
           {
            "line": {
             "colorbar": {
              "outlinewidth": 0,
              "ticks": ""
             }
            },
            "marker": {
             "colorbar": {
              "outlinewidth": 0,
              "ticks": ""
             }
            },
            "type": "scatter3d"
           }
          ],
          "scattercarpet": [
           {
            "marker": {
             "colorbar": {
              "outlinewidth": 0,
              "ticks": ""
             }
            },
            "type": "scattercarpet"
           }
          ],
          "scattergeo": [
           {
            "marker": {
             "colorbar": {
              "outlinewidth": 0,
              "ticks": ""
             }
            },
            "type": "scattergeo"
           }
          ],
          "scattergl": [
           {
            "marker": {
             "colorbar": {
              "outlinewidth": 0,
              "ticks": ""
             }
            },
            "type": "scattergl"
           }
          ],
          "scattermap": [
           {
            "marker": {
             "colorbar": {
              "outlinewidth": 0,
              "ticks": ""
             }
            },
            "type": "scattermap"
           }
          ],
          "scattermapbox": [
           {
            "marker": {
             "colorbar": {
              "outlinewidth": 0,
              "ticks": ""
             }
            },
            "type": "scattermapbox"
           }
          ],
          "scatterpolar": [
           {
            "marker": {
             "colorbar": {
              "outlinewidth": 0,
              "ticks": ""
             }
            },
            "type": "scatterpolar"
           }
          ],
          "scatterpolargl": [
           {
            "marker": {
             "colorbar": {
              "outlinewidth": 0,
              "ticks": ""
             }
            },
            "type": "scatterpolargl"
           }
          ],
          "scatterternary": [
           {
            "marker": {
             "colorbar": {
              "outlinewidth": 0,
              "ticks": ""
             }
            },
            "type": "scatterternary"
           }
          ],
          "surface": [
           {
            "colorbar": {
             "outlinewidth": 0,
             "ticks": ""
            },
            "colorscale": [
             [
              0,
              "#0d0887"
             ],
             [
              0.1111111111111111,
              "#46039f"
             ],
             [
              0.2222222222222222,
              "#7201a8"
             ],
             [
              0.3333333333333333,
              "#9c179e"
             ],
             [
              0.4444444444444444,
              "#bd3786"
             ],
             [
              0.5555555555555556,
              "#d8576b"
             ],
             [
              0.6666666666666666,
              "#ed7953"
             ],
             [
              0.7777777777777778,
              "#fb9f3a"
             ],
             [
              0.8888888888888888,
              "#fdca26"
             ],
             [
              1,
              "#f0f921"
             ]
            ],
            "type": "surface"
           }
          ],
          "table": [
           {
            "cells": {
             "fill": {
              "color": "#EBF0F8"
             },
             "line": {
              "color": "white"
             }
            },
            "header": {
             "fill": {
              "color": "#C8D4E3"
             },
             "line": {
              "color": "white"
             }
            },
            "type": "table"
           }
          ]
         },
         "layout": {
          "annotationdefaults": {
           "arrowcolor": "#2a3f5f",
           "arrowhead": 0,
           "arrowwidth": 1
          },
          "autotypenumbers": "strict",
          "coloraxis": {
           "colorbar": {
            "outlinewidth": 0,
            "ticks": ""
           }
          },
          "colorscale": {
           "diverging": [
            [
             0,
             "#8e0152"
            ],
            [
             0.1,
             "#c51b7d"
            ],
            [
             0.2,
             "#de77ae"
            ],
            [
             0.3,
             "#f1b6da"
            ],
            [
             0.4,
             "#fde0ef"
            ],
            [
             0.5,
             "#f7f7f7"
            ],
            [
             0.6,
             "#e6f5d0"
            ],
            [
             0.7,
             "#b8e186"
            ],
            [
             0.8,
             "#7fbc41"
            ],
            [
             0.9,
             "#4d9221"
            ],
            [
             1,
             "#276419"
            ]
           ],
           "sequential": [
            [
             0,
             "#0d0887"
            ],
            [
             0.1111111111111111,
             "#46039f"
            ],
            [
             0.2222222222222222,
             "#7201a8"
            ],
            [
             0.3333333333333333,
             "#9c179e"
            ],
            [
             0.4444444444444444,
             "#bd3786"
            ],
            [
             0.5555555555555556,
             "#d8576b"
            ],
            [
             0.6666666666666666,
             "#ed7953"
            ],
            [
             0.7777777777777778,
             "#fb9f3a"
            ],
            [
             0.8888888888888888,
             "#fdca26"
            ],
            [
             1,
             "#f0f921"
            ]
           ],
           "sequentialminus": [
            [
             0,
             "#0d0887"
            ],
            [
             0.1111111111111111,
             "#46039f"
            ],
            [
             0.2222222222222222,
             "#7201a8"
            ],
            [
             0.3333333333333333,
             "#9c179e"
            ],
            [
             0.4444444444444444,
             "#bd3786"
            ],
            [
             0.5555555555555556,
             "#d8576b"
            ],
            [
             0.6666666666666666,
             "#ed7953"
            ],
            [
             0.7777777777777778,
             "#fb9f3a"
            ],
            [
             0.8888888888888888,
             "#fdca26"
            ],
            [
             1,
             "#f0f921"
            ]
           ]
          },
          "colorway": [
           "#636efa",
           "#EF553B",
           "#00cc96",
           "#ab63fa",
           "#FFA15A",
           "#19d3f3",
           "#FF6692",
           "#B6E880",
           "#FF97FF",
           "#FECB52"
          ],
          "font": {
           "color": "#2a3f5f"
          },
          "geo": {
           "bgcolor": "white",
           "lakecolor": "white",
           "landcolor": "#E5ECF6",
           "showlakes": true,
           "showland": true,
           "subunitcolor": "white"
          },
          "hoverlabel": {
           "align": "left"
          },
          "hovermode": "closest",
          "mapbox": {
           "style": "light"
          },
          "paper_bgcolor": "white",
          "plot_bgcolor": "#E5ECF6",
          "polar": {
           "angularaxis": {
            "gridcolor": "white",
            "linecolor": "white",
            "ticks": ""
           },
           "bgcolor": "#E5ECF6",
           "radialaxis": {
            "gridcolor": "white",
            "linecolor": "white",
            "ticks": ""
           }
          },
          "scene": {
           "xaxis": {
            "backgroundcolor": "#E5ECF6",
            "gridcolor": "white",
            "gridwidth": 2,
            "linecolor": "white",
            "showbackground": true,
            "ticks": "",
            "zerolinecolor": "white"
           },
           "yaxis": {
            "backgroundcolor": "#E5ECF6",
            "gridcolor": "white",
            "gridwidth": 2,
            "linecolor": "white",
            "showbackground": true,
            "ticks": "",
            "zerolinecolor": "white"
           },
           "zaxis": {
            "backgroundcolor": "#E5ECF6",
            "gridcolor": "white",
            "gridwidth": 2,
            "linecolor": "white",
            "showbackground": true,
            "ticks": "",
            "zerolinecolor": "white"
           }
          },
          "shapedefaults": {
           "line": {
            "color": "#2a3f5f"
           }
          },
          "ternary": {
           "aaxis": {
            "gridcolor": "white",
            "linecolor": "white",
            "ticks": ""
           },
           "baxis": {
            "gridcolor": "white",
            "linecolor": "white",
            "ticks": ""
           },
           "bgcolor": "#E5ECF6",
           "caxis": {
            "gridcolor": "white",
            "linecolor": "white",
            "ticks": ""
           }
          },
          "title": {
           "x": 0.05
          },
          "xaxis": {
           "automargin": true,
           "gridcolor": "white",
           "linecolor": "white",
           "ticks": "",
           "title": {
            "standoff": 15
           },
           "zerolinecolor": "white",
           "zerolinewidth": 2
          },
          "yaxis": {
           "automargin": true,
           "gridcolor": "white",
           "linecolor": "white",
           "ticks": "",
           "title": {
            "standoff": 15
           },
           "zerolinecolor": "white",
           "zerolinewidth": 2
          }
         }
        },
        "title": {
         "text": "3. Violin Plot de Puntajes por Macrosector"
        },
        "violinmode": "overlay",
        "width": 900,
        "xaxis": {
         "anchor": "y",
         "categoryarray": [
          "Comercio",
          "Construcción",
          "Agropecuario",
          "Manufactura",
          "Servicios",
          "Minero"
         ],
         "categoryorder": "array",
         "domain": [
          0,
          1
         ],
         "title": {
          "text": "Macrosector"
         }
        },
        "yaxis": {
         "anchor": "x",
         "domain": [
          0,
          1
         ],
         "title": {
          "text": "Puntaje Total"
         }
        }
       }
      }
     },
     "metadata": {},
     "output_type": "display_data"
    }
   ],
   "source": [
    "# 1. Calcular el puntaje total (suma de valoracionPonderada) para cada empresa.\n",
    "total_scores = raw_data.groupby(['Razón social', 'Macrosector'])['valoracionPonderada'].sum().reset_index()\n",
    "total_scores.rename(columns={'valoracionPonderada': 'puntaje_total'}, inplace=True)\n",
    "\n",
    "# 2. Eliminar Razón social y limpiar Macrosector '0' 'No' 'No informa' 'SI' 'Si'\n",
    "total_scores.drop(columns='Razón social', inplace=True)\n",
    "\n",
    "\n",
    "# 3. Crear un violin plot para cada Macrosector.\n",
    "violin_fig = px.violin(total_scores, y='puntaje_total', x='Macrosector', box=True, points='all',\n",
    "               color='Macrosector', title='3. Violin Plot de Puntajes por Macrosector',\n",
    "               labels={'puntaje_total': 'Puntaje Total', 'Macrosector': 'Macrosector'})\n",
    "violin_fig.update_traces(meanline_visible=True)\n",
    "violin_fig.update_layout(\n",
    "    xaxis_title='Macrosector',\n",
    "    yaxis_title='Puntaje Total',\n",
    "    width=900,  # Ajustar el ancho del gráfico\n",
    "    height=700  # Ajustar la altura del gráfico\n",
    ")\n",
    "\n",
    "violin_fig.show()\n",
    "save_chart_as_html(violin_fig, '03_violin_plot_performance.html')"
   ]
  },
  {
   "cell_type": "markdown",
   "metadata": {},
   "source": [
    "## 4. Treemap de Impacto: Sostenibilidad y Peso Económico"
   ]
  },
  {
   "cell_type": "markdown",
   "metadata": {},
   "source": [
    "### Manejo de datos"
   ]
  },
  {
   "cell_type": "code",
   "execution_count": null,
   "metadata": {},
   "outputs": [],
   "source": []
  }
 ],
 "metadata": {
  "colab": {
   "authorship_tag": "ABX9TyPpGWVHkKnlnCs6bt9fzXz7",
   "mount_file_id": "1YK4iqHtcyn7HTLe1B1tbVbNp5SA1IFEU",
   "provenance": []
  },
  "kernelspec": {
   "display_name": "datascience",
   "language": "python",
   "name": "python3"
  },
  "language_info": {
   "codemirror_mode": {
    "name": "ipython",
    "version": 3
   },
   "file_extension": ".py",
   "mimetype": "text/x-python",
   "name": "python",
   "nbconvert_exporter": "python",
   "pygments_lexer": "ipython3",
   "version": "3.12.9"
  }
 },
 "nbformat": 4,
 "nbformat_minor": 0
}
