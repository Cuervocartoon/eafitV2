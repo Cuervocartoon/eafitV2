{
 "cells": [
  {
   "cell_type": "code",
   "execution_count": 96,
   "metadata": {
    "executionInfo": {
     "elapsed": 72,
     "status": "ok",
     "timestamp": 1754157016791,
     "user": {
      "displayName": "Juan Camilo Ortiz",
      "userId": "14839115185471025896"
     },
     "user_tz": 300
    },
    "id": "PyJ0rSz5FiCm"
   },
   "outputs": [],
   "source": [
    "import pandas as pd\n",
    "import numpy as np\n",
    "from scipy.stats import gaussian_kde\n",
    "import statsmodels.api as sm\n",
    "import json\n",
    "import matplotlib.pyplot as plt\n",
    "import plotly.graph_objects as go\n",
    "import plotly.express as px\n",
    "import plotly.io as pio\n",
    "import os\n",
    "from datetime import datetime"
   ]
  },
  {
   "cell_type": "code",
   "execution_count": 79,
   "metadata": {
    "colab": {
     "base_uri": "https://localhost:8080/",
     "height": 643
    },
    "executionInfo": {
     "elapsed": 186,
     "status": "ok",
     "timestamp": 1754157029068,
     "user": {
      "displayName": "Juan Camilo Ortiz",
      "userId": "14839115185471025896"
     },
     "user_tz": 300
    },
    "id": "SDUXuswFGcMy",
    "outputId": "7a1acbcf-fe28-4bee-f46d-085e3fa1139b"
   },
   "outputs": [
    {
     "data": {
      "application/vnd.microsoft.datawrangler.viewer.v0+json": {
       "columns": [
        {
         "name": "index",
         "rawType": "int64",
         "type": "integer"
        },
        {
         "name": "Razón social",
         "rawType": "object",
         "type": "string"
        },
        {
         "name": "Macrosector",
         "rawType": "object",
         "type": "string"
        },
        {
         "name": "Tipo de propiedad (Privada, Pública, Mixta)",
         "rawType": "object",
         "type": "string"
        },
        {
         "name": "¿Es empresa familiar? Si/No",
         "rawType": "object",
         "type": "string"
        },
        {
         "name": "¿Cotiza en bolsa? Si/No",
         "rawType": "object",
         "type": "string"
        },
        {
         "name": "¿Multinacional? Si/No",
         "rawType": "object",
         "type": "string"
        },
        {
         "name": "Año de fundación",
         "rawType": "int64",
         "type": "integer"
        },
        {
         "name": "País de base principal (nacionalidad)",
         "rawType": "object",
         "type": "string"
        },
        {
         "name": "Ingresos operacionales",
         "rawType": "object",
         "type": "string"
        },
        {
         "name": "Variable",
         "rawType": "object",
         "type": "string"
        },
        {
         "name": "Valor",
         "rawType": "object",
         "type": "string"
        },
        {
         "name": "Bloque",
         "rawType": "object",
         "type": "string"
        },
        {
         "name": "Nombre Pilar",
         "rawType": "object",
         "type": "string"
        },
        {
         "name": "Ponderación Materialidad",
         "rawType": "object",
         "type": "string"
        },
        {
         "name": "Valoración",
         "rawType": "float64",
         "type": "float"
        },
        {
         "name": "valoracionPonderada",
         "rawType": "float64",
         "type": "float"
        }
       ],
       "ref": "22ce1c2f-18b0-42b3-9bc4-da242841a6f5",
       "rows": [
        [
         "0",
         "Aliar",
         "Agropecuario",
         "Privada",
         "No",
         "No",
         "No",
         "2007",
         "Colombia",
         "0.97802211500000003",
         "¿Cuál es el porcentaje de proveeduría local?",
         "No informa",
         "Impacto económico y gobernanza",
         "Impacto Económico, Social y Comunitario",
         "14%",
         "0.0",
         "0.0"
        ],
        [
         "1",
         "Alimentos Carnicos (Grupo Nutresa)",
         "Manufactura",
         "Privada",
         "No",
         "Si",
         "Si",
         "1920",
         "Colombia",
         "2.844632077",
         "¿Cuál es el porcentaje de proveeduría local?",
         "0.80000000000000004",
         "Impacto económico y gobernanza",
         "Impacto Económico, Social y Comunitario",
         "11%",
         "84.21052632",
         "8.864265928"
        ],
        [
         "2",
         "Alpina",
         "Manufactura",
         "Privada",
         "No",
         "No",
         "Si",
         "1945",
         "Colombia",
         "2.1764613960000001",
         "¿Cuál es el porcentaje de proveeduría local?",
         "0.91000000000000003",
         "Impacto económico y gobernanza",
         "Impacto Económico, Social y Comunitario",
         "11%",
         "95.78947368",
         "10.08310249"
        ],
        [
         "3",
         "Amarilo",
         "Construcción",
         "Privada",
         "Si",
         "No",
         "No",
         "1993",
         "Colombia",
         "2.1863011939999999",
         "¿Cuál es el porcentaje de proveeduría local?",
         "0.53000000000000003",
         "Impacto económico y gobernanza",
         "Impacto Económico, Social y Comunitario",
         "14%",
         "53.0",
         "7.571428571"
        ],
        [
         "4",
         "ARA",
         "Comercio",
         "Privada",
         "No",
         "No",
         "Si",
         "2012",
         "Colombia",
         "13.83118268",
         "¿Cuál es el porcentaje de proveeduría local?",
         "0",
         "Impacto económico y gobernanza",
         "Impacto Económico, Social y Comunitario",
         "12%",
         "0.0",
         "0.0"
        ]
       ],
       "shape": {
        "columns": 16,
        "rows": 5
       }
      },
      "text/html": [
       "<div>\n",
       "<style scoped>\n",
       "    .dataframe tbody tr th:only-of-type {\n",
       "        vertical-align: middle;\n",
       "    }\n",
       "\n",
       "    .dataframe tbody tr th {\n",
       "        vertical-align: top;\n",
       "    }\n",
       "\n",
       "    .dataframe thead th {\n",
       "        text-align: right;\n",
       "    }\n",
       "</style>\n",
       "<table border=\"1\" class=\"dataframe\">\n",
       "  <thead>\n",
       "    <tr style=\"text-align: right;\">\n",
       "      <th></th>\n",
       "      <th>Razón social</th>\n",
       "      <th>Macrosector</th>\n",
       "      <th>Tipo de propiedad (Privada, Pública, Mixta)</th>\n",
       "      <th>¿Es empresa familiar? Si/No</th>\n",
       "      <th>¿Cotiza en bolsa? Si/No</th>\n",
       "      <th>¿Multinacional? Si/No</th>\n",
       "      <th>Año de fundación</th>\n",
       "      <th>País de base principal (nacionalidad)</th>\n",
       "      <th>Ingresos operacionales</th>\n",
       "      <th>Variable</th>\n",
       "      <th>Valor</th>\n",
       "      <th>Bloque</th>\n",
       "      <th>Nombre Pilar</th>\n",
       "      <th>Ponderación Materialidad</th>\n",
       "      <th>Valoración</th>\n",
       "      <th>valoracionPonderada</th>\n",
       "    </tr>\n",
       "  </thead>\n",
       "  <tbody>\n",
       "    <tr>\n",
       "      <th>0</th>\n",
       "      <td>Aliar</td>\n",
       "      <td>Agropecuario</td>\n",
       "      <td>Privada</td>\n",
       "      <td>No</td>\n",
       "      <td>No</td>\n",
       "      <td>No</td>\n",
       "      <td>2007</td>\n",
       "      <td>Colombia</td>\n",
       "      <td>0.97802211500000003</td>\n",
       "      <td>¿Cuál es el porcentaje de proveeduría local?</td>\n",
       "      <td>No informa</td>\n",
       "      <td>Impacto económico y gobernanza</td>\n",
       "      <td>Impacto Económico, Social y Comunitario</td>\n",
       "      <td>14%</td>\n",
       "      <td>0.000000</td>\n",
       "      <td>0.000000</td>\n",
       "    </tr>\n",
       "    <tr>\n",
       "      <th>1</th>\n",
       "      <td>Alimentos Carnicos (Grupo Nutresa)</td>\n",
       "      <td>Manufactura</td>\n",
       "      <td>Privada</td>\n",
       "      <td>No</td>\n",
       "      <td>Si</td>\n",
       "      <td>Si</td>\n",
       "      <td>1920</td>\n",
       "      <td>Colombia</td>\n",
       "      <td>2.844632077</td>\n",
       "      <td>¿Cuál es el porcentaje de proveeduría local?</td>\n",
       "      <td>0.80000000000000004</td>\n",
       "      <td>Impacto económico y gobernanza</td>\n",
       "      <td>Impacto Económico, Social y Comunitario</td>\n",
       "      <td>11%</td>\n",
       "      <td>84.210526</td>\n",
       "      <td>8.864266</td>\n",
       "    </tr>\n",
       "    <tr>\n",
       "      <th>2</th>\n",
       "      <td>Alpina</td>\n",
       "      <td>Manufactura</td>\n",
       "      <td>Privada</td>\n",
       "      <td>No</td>\n",
       "      <td>No</td>\n",
       "      <td>Si</td>\n",
       "      <td>1945</td>\n",
       "      <td>Colombia</td>\n",
       "      <td>2.1764613960000001</td>\n",
       "      <td>¿Cuál es el porcentaje de proveeduría local?</td>\n",
       "      <td>0.91000000000000003</td>\n",
       "      <td>Impacto económico y gobernanza</td>\n",
       "      <td>Impacto Económico, Social y Comunitario</td>\n",
       "      <td>11%</td>\n",
       "      <td>95.789474</td>\n",
       "      <td>10.083102</td>\n",
       "    </tr>\n",
       "    <tr>\n",
       "      <th>3</th>\n",
       "      <td>Amarilo</td>\n",
       "      <td>Construcción</td>\n",
       "      <td>Privada</td>\n",
       "      <td>Si</td>\n",
       "      <td>No</td>\n",
       "      <td>No</td>\n",
       "      <td>1993</td>\n",
       "      <td>Colombia</td>\n",
       "      <td>2.1863011939999999</td>\n",
       "      <td>¿Cuál es el porcentaje de proveeduría local?</td>\n",
       "      <td>0.53000000000000003</td>\n",
       "      <td>Impacto económico y gobernanza</td>\n",
       "      <td>Impacto Económico, Social y Comunitario</td>\n",
       "      <td>14%</td>\n",
       "      <td>53.000000</td>\n",
       "      <td>7.571429</td>\n",
       "    </tr>\n",
       "    <tr>\n",
       "      <th>4</th>\n",
       "      <td>ARA</td>\n",
       "      <td>Comercio</td>\n",
       "      <td>Privada</td>\n",
       "      <td>No</td>\n",
       "      <td>No</td>\n",
       "      <td>Si</td>\n",
       "      <td>2012</td>\n",
       "      <td>Colombia</td>\n",
       "      <td>13.83118268</td>\n",
       "      <td>¿Cuál es el porcentaje de proveeduría local?</td>\n",
       "      <td>0</td>\n",
       "      <td>Impacto económico y gobernanza</td>\n",
       "      <td>Impacto Económico, Social y Comunitario</td>\n",
       "      <td>12%</td>\n",
       "      <td>0.000000</td>\n",
       "      <td>0.000000</td>\n",
       "    </tr>\n",
       "  </tbody>\n",
       "</table>\n",
       "</div>"
      ],
      "text/plain": [
       "                         Razón social   Macrosector  \\\n",
       "0                               Aliar  Agropecuario   \n",
       "1  Alimentos Carnicos (Grupo Nutresa)   Manufactura   \n",
       "2                              Alpina   Manufactura   \n",
       "3                             Amarilo  Construcción   \n",
       "4                                 ARA      Comercio   \n",
       "\n",
       "  Tipo de propiedad (Privada, Pública, Mixta) ¿Es empresa familiar? Si/No  \\\n",
       "0                                     Privada                          No   \n",
       "1                                     Privada                          No   \n",
       "2                                     Privada                          No   \n",
       "3                                     Privada                          Si   \n",
       "4                                     Privada                          No   \n",
       "\n",
       "  ¿Cotiza en bolsa? Si/No ¿Multinacional? Si/No  Año de fundación  \\\n",
       "0                      No                    No              2007   \n",
       "1                      Si                    Si              1920   \n",
       "2                      No                    Si              1945   \n",
       "3                      No                    No              1993   \n",
       "4                      No                    Si              2012   \n",
       "\n",
       "  País de base principal (nacionalidad) Ingresos operacionales  \\\n",
       "0                              Colombia    0.97802211500000003   \n",
       "1                              Colombia            2.844632077   \n",
       "2                              Colombia     2.1764613960000001   \n",
       "3                              Colombia     2.1863011939999999   \n",
       "4                              Colombia            13.83118268   \n",
       "\n",
       "                                       Variable                Valor  \\\n",
       "0  ¿Cuál es el porcentaje de proveeduría local?           No informa   \n",
       "1  ¿Cuál es el porcentaje de proveeduría local?  0.80000000000000004   \n",
       "2  ¿Cuál es el porcentaje de proveeduría local?  0.91000000000000003   \n",
       "3  ¿Cuál es el porcentaje de proveeduría local?  0.53000000000000003   \n",
       "4  ¿Cuál es el porcentaje de proveeduría local?                    0   \n",
       "\n",
       "                           Bloque                             Nombre Pilar  \\\n",
       "0  Impacto económico y gobernanza  Impacto Económico, Social y Comunitario   \n",
       "1  Impacto económico y gobernanza  Impacto Económico, Social y Comunitario   \n",
       "2  Impacto económico y gobernanza  Impacto Económico, Social y Comunitario   \n",
       "3  Impacto económico y gobernanza  Impacto Económico, Social y Comunitario   \n",
       "4  Impacto económico y gobernanza  Impacto Económico, Social y Comunitario   \n",
       "\n",
       "  Ponderación Materialidad  Valoración  valoracionPonderada  \n",
       "0                      14%    0.000000             0.000000  \n",
       "1                      11%   84.210526             8.864266  \n",
       "2                      11%   95.789474            10.083102  \n",
       "3                      14%   53.000000             7.571429  \n",
       "4                      12%    0.000000             0.000000  "
      ]
     },
     "execution_count": 79,
     "metadata": {},
     "output_type": "execute_result"
    }
   ],
   "source": [
    "raw_data = pd.read_csv('empresasEafit.csv')\n",
    "raw_data.rename(columns=lambda x: x.strip(), inplace=True)\n",
    "raw_data = raw_data[~raw_data['Macrosector'].isin(['0', 'No', 'No informa', 'SI', 'Si'])]\n",
    "raw_data.head()"
   ]
  },
  {
   "cell_type": "code",
   "execution_count": 80,
   "metadata": {},
   "outputs": [],
   "source": [
    "def save_chart_as_html(fig, filename):\n",
    "    \"\"\"\n",
    "    Guarda una figura de Plotly como un archivo HTML autocontenido en la carpeta 'charts'.\n",
    "    \"\"\"\n",
    "    # Generar el HTML del gráfico\n",
    "    html1 = pio.to_html(fig, full_html=False, include_plotlyjs='cdn')\n",
    "    \n",
    "    # Guardar el archivo\n",
    "    filepath = os.path.join('charts', filename)\n",
    "    with open(filepath, 'w', encoding='utf-8') as f:\n",
    "        f.write(html1)\n",
    "\n",
    "# Function to wrap long text labels\n",
    "def wrap_text(text, max_length=25):\n",
    "    \"\"\"\n",
    "    Wrap text to multiple lines if it exceeds max_length characters.\n",
    "    \"\"\"\n",
    "    if len(text) <= max_length:\n",
    "        return text\n",
    "    \n",
    "    words = text.split()\n",
    "    lines = []\n",
    "    current_line = []\n",
    "    current_length = 0\n",
    "    \n",
    "    for word in words:\n",
    "        # Check if adding this word would exceed the limit\n",
    "        if current_length + len(word) + len(current_line) > max_length and current_line:\n",
    "            lines.append(' '.join(current_line))\n",
    "            current_line = [word]\n",
    "            current_length = len(word)\n",
    "        else:\n",
    "            current_line.append(word)\n",
    "            current_length += len(word)\n",
    "    \n",
    "    if current_line:\n",
    "        lines.append(' '.join(current_line))\n",
    "    \n",
    "    return '<br>'.join(lines)\n"
   ]
  },
  {
   "cell_type": "markdown",
   "metadata": {},
   "source": [
    "# **Parte 1: Panorama General del Desempeño Corporativo**"
   ]
  },
  {
   "cell_type": "markdown",
   "metadata": {
    "id": "V9IepepMgDJs"
   },
   "source": [
    "## 1. Radar de Competitividad por Pilar y Macrosector"
   ]
  },
  {
   "cell_type": "code",
   "execution_count": 81,
   "metadata": {
    "colab": {
     "base_uri": "https://localhost:8080/",
     "height": 255
    },
    "executionInfo": {
     "elapsed": 123,
     "status": "ok",
     "timestamp": 1754157080775,
     "user": {
      "displayName": "Juan Camilo Ortiz",
      "userId": "14839115185471025896"
     },
     "user_tz": 300
    },
    "id": "ZcPHf1PXf-bM",
    "outputId": "3677d9c4-6ef1-42a5-c078-6dfe19bcc0f4"
   },
   "outputs": [
    {
     "data": {
      "application/vnd.plotly.v1+json": {
       "config": {
        "plotlyServerURL": "https://plot.ly"
       },
       "data": [
        {
         "fill": "toself",
         "fillcolor": "rgb(228,26,28)",
         "line": {
          "color": "rgb(228,26,28)"
         },
         "name": "Agropecuario",
         "opacity": 0.6,
         "r": {
          "bdata": "bOMsCIIgCECvuyTDMAwTQEV1sstmiAJAxFbCcRzHC0DJQODv+77vP3nj5+/7vg9A",
          "dtype": "f8"
         },
         "theta": [
          "Acción Climática y<br>Energía",
          "Capital Humano: Bienestar<br>y Desarrollo",
          "Diversidad, Equidad e<br>Inclusión (DEI)",
          "Gestión de Recursos<br>Naturales y Circularidad",
          "Impacto Económico, Social<br>y Comunitario",
          "Transparencia y Gobierno<br>de la Sostenibilidad"
         ],
         "type": "scatterpolar"
        },
        {
         "fill": "toself",
         "fillcolor": "rgb(55,126,184)",
         "line": {
          "color": "rgb(55,126,184)"
         },
         "name": "Comercio",
         "opacity": 0.6,
         "r": {
          "bdata": "1x6EDIMZIUCZxr5B/CodQIRHUdb57RNAHPbtFMSA/j+AhbXNrq//P5WgvryB0CRA",
          "dtype": "f8"
         },
         "theta": [
          "Acción Climática y<br>Energía",
          "Capital Humano: Bienestar<br>y Desarrollo",
          "Diversidad, Equidad e<br>Inclusión (DEI)",
          "Gestión de Recursos<br>Naturales y Circularidad",
          "Impacto Económico, Social<br>y Comunitario",
          "Transparencia y Gobierno<br>de la Sostenibilidad"
         ],
         "type": "scatterpolar"
        },
        {
         "fill": "toself",
         "fillcolor": "rgb(77,175,74)",
         "line": {
          "color": "rgb(77,175,74)"
         },
         "name": "Construcción",
         "opacity": 0.6,
         "r": {
          "bdata": "quCZn9FTFEAtJNOx5lsWQHduE1DY5wNA+J6ZeXWNFUDyvjiXcikBQMLRRI7jOCZA",
          "dtype": "f8"
         },
         "theta": [
          "Acción Climática y<br>Energía",
          "Capital Humano: Bienestar<br>y Desarrollo",
          "Diversidad, Equidad e<br>Inclusión (DEI)",
          "Gestión de Recursos<br>Naturales y Circularidad",
          "Impacto Económico, Social<br>y Comunitario",
          "Transparencia y Gobierno<br>de la Sostenibilidad"
         ],
         "type": "scatterpolar"
        },
        {
         "fill": "toself",
         "fillcolor": "rgb(152,78,163)",
         "line": {
          "color": "rgb(152,78,163)"
         },
         "name": "Manufactura",
         "opacity": 0.6,
         "r": {
          "bdata": "F/YTxSu7J0BLzGlQQ/8aQIOAfOqqIg9AnaSEN1l8IUB1UUFjL4wEQL6FS7X3NyJA",
          "dtype": "f8"
         },
         "theta": [
          "Acción Climática y<br>Energía",
          "Capital Humano: Bienestar<br>y Desarrollo",
          "Diversidad, Equidad e<br>Inclusión (DEI)",
          "Gestión de Recursos<br>Naturales y Circularidad",
          "Impacto Económico, Social<br>y Comunitario",
          "Transparencia y Gobierno<br>de la Sostenibilidad"
         ],
         "type": "scatterpolar"
        },
        {
         "fill": "toself",
         "fillcolor": "rgb(255,127,0)",
         "line": {
          "color": "rgb(255,127,0)"
         },
         "name": "Minero",
         "opacity": 0.6,
         "r": {
          "bdata": "teHZaoLhI0DHZYBwaR0jQKLNtvlU+A1ADgrpOfllJ0D1l9RGueMUQK8fWfmWbyFA",
          "dtype": "f8"
         },
         "theta": [
          "Acción Climática y<br>Energía",
          "Capital Humano: Bienestar<br>y Desarrollo",
          "Diversidad, Equidad e<br>Inclusión (DEI)",
          "Gestión de Recursos<br>Naturales y Circularidad",
          "Impacto Económico, Social<br>y Comunitario",
          "Transparencia y Gobierno<br>de la Sostenibilidad"
         ],
         "type": "scatterpolar"
        },
        {
         "fill": "toself",
         "fillcolor": "rgb(255,255,51)",
         "line": {
          "color": "rgb(255,255,51)"
         },
         "name": "Servicios",
         "opacity": 0.6,
         "r": {
          "bdata": "aKtpA1hCIUA2L/2bfqMZQB7M13kcpiJAXwtha+OZD0BrWydxPcQSQHvR8xXQuDRA",
          "dtype": "f8"
         },
         "theta": [
          "Acción Climática y<br>Energía",
          "Capital Humano: Bienestar<br>y Desarrollo",
          "Diversidad, Equidad e<br>Inclusión (DEI)",
          "Gestión de Recursos<br>Naturales y Circularidad",
          "Impacto Económico, Social<br>y Comunitario",
          "Transparencia y Gobierno<br>de la Sostenibilidad"
         ],
         "type": "scatterpolar"
        }
       ],
       "layout": {
        "polar": {
         "angularaxis": {
          "rotation": 0,
          "tickfont": {
           "size": 10
          },
          "tickmode": "array",
          "ticktext": [
           "Acción Climática y<br>Energía",
           "Capital Humano: Bienestar<br>y Desarrollo",
           "Diversidad, Equidad e<br>Inclusión (DEI)",
           "Gestión de Recursos<br>Naturales y Circularidad",
           "Impacto Económico, Social<br>y Comunitario",
           "Transparencia y Gobierno<br>de la Sostenibilidad"
          ],
          "tickvals": [
           0,
           1,
           2,
           3,
           4,
           5
          ]
         },
         "radialaxis": {
          "dtick": 5,
          "range": [
           0,
           22.79411765025
          ],
          "tick0": 0,
          "tickmode": "linear",
          "visible": true
         }
        },
        "showlegend": true,
        "template": {
         "data": {
          "bar": [
           {
            "error_x": {
             "color": "#2a3f5f"
            },
            "error_y": {
             "color": "#2a3f5f"
            },
            "marker": {
             "line": {
              "color": "#E5ECF6",
              "width": 0.5
             },
             "pattern": {
              "fillmode": "overlay",
              "size": 10,
              "solidity": 0.2
             }
            },
            "type": "bar"
           }
          ],
          "barpolar": [
           {
            "marker": {
             "line": {
              "color": "#E5ECF6",
              "width": 0.5
             },
             "pattern": {
              "fillmode": "overlay",
              "size": 10,
              "solidity": 0.2
             }
            },
            "type": "barpolar"
           }
          ],
          "carpet": [
           {
            "aaxis": {
             "endlinecolor": "#2a3f5f",
             "gridcolor": "white",
             "linecolor": "white",
             "minorgridcolor": "white",
             "startlinecolor": "#2a3f5f"
            },
            "baxis": {
             "endlinecolor": "#2a3f5f",
             "gridcolor": "white",
             "linecolor": "white",
             "minorgridcolor": "white",
             "startlinecolor": "#2a3f5f"
            },
            "type": "carpet"
           }
          ],
          "choropleth": [
           {
            "colorbar": {
             "outlinewidth": 0,
             "ticks": ""
            },
            "type": "choropleth"
           }
          ],
          "contour": [
           {
            "colorbar": {
             "outlinewidth": 0,
             "ticks": ""
            },
            "colorscale": [
             [
              0,
              "#0d0887"
             ],
             [
              0.1111111111111111,
              "#46039f"
             ],
             [
              0.2222222222222222,
              "#7201a8"
             ],
             [
              0.3333333333333333,
              "#9c179e"
             ],
             [
              0.4444444444444444,
              "#bd3786"
             ],
             [
              0.5555555555555556,
              "#d8576b"
             ],
             [
              0.6666666666666666,
              "#ed7953"
             ],
             [
              0.7777777777777778,
              "#fb9f3a"
             ],
             [
              0.8888888888888888,
              "#fdca26"
             ],
             [
              1,
              "#f0f921"
             ]
            ],
            "type": "contour"
           }
          ],
          "contourcarpet": [
           {
            "colorbar": {
             "outlinewidth": 0,
             "ticks": ""
            },
            "type": "contourcarpet"
           }
          ],
          "heatmap": [
           {
            "colorbar": {
             "outlinewidth": 0,
             "ticks": ""
            },
            "colorscale": [
             [
              0,
              "#0d0887"
             ],
             [
              0.1111111111111111,
              "#46039f"
             ],
             [
              0.2222222222222222,
              "#7201a8"
             ],
             [
              0.3333333333333333,
              "#9c179e"
             ],
             [
              0.4444444444444444,
              "#bd3786"
             ],
             [
              0.5555555555555556,
              "#d8576b"
             ],
             [
              0.6666666666666666,
              "#ed7953"
             ],
             [
              0.7777777777777778,
              "#fb9f3a"
             ],
             [
              0.8888888888888888,
              "#fdca26"
             ],
             [
              1,
              "#f0f921"
             ]
            ],
            "type": "heatmap"
           }
          ],
          "histogram": [
           {
            "marker": {
             "pattern": {
              "fillmode": "overlay",
              "size": 10,
              "solidity": 0.2
             }
            },
            "type": "histogram"
           }
          ],
          "histogram2d": [
           {
            "colorbar": {
             "outlinewidth": 0,
             "ticks": ""
            },
            "colorscale": [
             [
              0,
              "#0d0887"
             ],
             [
              0.1111111111111111,
              "#46039f"
             ],
             [
              0.2222222222222222,
              "#7201a8"
             ],
             [
              0.3333333333333333,
              "#9c179e"
             ],
             [
              0.4444444444444444,
              "#bd3786"
             ],
             [
              0.5555555555555556,
              "#d8576b"
             ],
             [
              0.6666666666666666,
              "#ed7953"
             ],
             [
              0.7777777777777778,
              "#fb9f3a"
             ],
             [
              0.8888888888888888,
              "#fdca26"
             ],
             [
              1,
              "#f0f921"
             ]
            ],
            "type": "histogram2d"
           }
          ],
          "histogram2dcontour": [
           {
            "colorbar": {
             "outlinewidth": 0,
             "ticks": ""
            },
            "colorscale": [
             [
              0,
              "#0d0887"
             ],
             [
              0.1111111111111111,
              "#46039f"
             ],
             [
              0.2222222222222222,
              "#7201a8"
             ],
             [
              0.3333333333333333,
              "#9c179e"
             ],
             [
              0.4444444444444444,
              "#bd3786"
             ],
             [
              0.5555555555555556,
              "#d8576b"
             ],
             [
              0.6666666666666666,
              "#ed7953"
             ],
             [
              0.7777777777777778,
              "#fb9f3a"
             ],
             [
              0.8888888888888888,
              "#fdca26"
             ],
             [
              1,
              "#f0f921"
             ]
            ],
            "type": "histogram2dcontour"
           }
          ],
          "mesh3d": [
           {
            "colorbar": {
             "outlinewidth": 0,
             "ticks": ""
            },
            "type": "mesh3d"
           }
          ],
          "parcoords": [
           {
            "line": {
             "colorbar": {
              "outlinewidth": 0,
              "ticks": ""
             }
            },
            "type": "parcoords"
           }
          ],
          "pie": [
           {
            "automargin": true,
            "type": "pie"
           }
          ],
          "scatter": [
           {
            "fillpattern": {
             "fillmode": "overlay",
             "size": 10,
             "solidity": 0.2
            },
            "type": "scatter"
           }
          ],
          "scatter3d": [
           {
            "line": {
             "colorbar": {
              "outlinewidth": 0,
              "ticks": ""
             }
            },
            "marker": {
             "colorbar": {
              "outlinewidth": 0,
              "ticks": ""
             }
            },
            "type": "scatter3d"
           }
          ],
          "scattercarpet": [
           {
            "marker": {
             "colorbar": {
              "outlinewidth": 0,
              "ticks": ""
             }
            },
            "type": "scattercarpet"
           }
          ],
          "scattergeo": [
           {
            "marker": {
             "colorbar": {
              "outlinewidth": 0,
              "ticks": ""
             }
            },
            "type": "scattergeo"
           }
          ],
          "scattergl": [
           {
            "marker": {
             "colorbar": {
              "outlinewidth": 0,
              "ticks": ""
             }
            },
            "type": "scattergl"
           }
          ],
          "scattermap": [
           {
            "marker": {
             "colorbar": {
              "outlinewidth": 0,
              "ticks": ""
             }
            },
            "type": "scattermap"
           }
          ],
          "scattermapbox": [
           {
            "marker": {
             "colorbar": {
              "outlinewidth": 0,
              "ticks": ""
             }
            },
            "type": "scattermapbox"
           }
          ],
          "scatterpolar": [
           {
            "marker": {
             "colorbar": {
              "outlinewidth": 0,
              "ticks": ""
             }
            },
            "type": "scatterpolar"
           }
          ],
          "scatterpolargl": [
           {
            "marker": {
             "colorbar": {
              "outlinewidth": 0,
              "ticks": ""
             }
            },
            "type": "scatterpolargl"
           }
          ],
          "scatterternary": [
           {
            "marker": {
             "colorbar": {
              "outlinewidth": 0,
              "ticks": ""
             }
            },
            "type": "scatterternary"
           }
          ],
          "surface": [
           {
            "colorbar": {
             "outlinewidth": 0,
             "ticks": ""
            },
            "colorscale": [
             [
              0,
              "#0d0887"
             ],
             [
              0.1111111111111111,
              "#46039f"
             ],
             [
              0.2222222222222222,
              "#7201a8"
             ],
             [
              0.3333333333333333,
              "#9c179e"
             ],
             [
              0.4444444444444444,
              "#bd3786"
             ],
             [
              0.5555555555555556,
              "#d8576b"
             ],
             [
              0.6666666666666666,
              "#ed7953"
             ],
             [
              0.7777777777777778,
              "#fb9f3a"
             ],
             [
              0.8888888888888888,
              "#fdca26"
             ],
             [
              1,
              "#f0f921"
             ]
            ],
            "type": "surface"
           }
          ],
          "table": [
           {
            "cells": {
             "fill": {
              "color": "#EBF0F8"
             },
             "line": {
              "color": "white"
             }
            },
            "header": {
             "fill": {
              "color": "#C8D4E3"
             },
             "line": {
              "color": "white"
             }
            },
            "type": "table"
           }
          ]
         },
         "layout": {
          "annotationdefaults": {
           "arrowcolor": "#2a3f5f",
           "arrowhead": 0,
           "arrowwidth": 1
          },
          "autotypenumbers": "strict",
          "coloraxis": {
           "colorbar": {
            "outlinewidth": 0,
            "ticks": ""
           }
          },
          "colorscale": {
           "diverging": [
            [
             0,
             "#8e0152"
            ],
            [
             0.1,
             "#c51b7d"
            ],
            [
             0.2,
             "#de77ae"
            ],
            [
             0.3,
             "#f1b6da"
            ],
            [
             0.4,
             "#fde0ef"
            ],
            [
             0.5,
             "#f7f7f7"
            ],
            [
             0.6,
             "#e6f5d0"
            ],
            [
             0.7,
             "#b8e186"
            ],
            [
             0.8,
             "#7fbc41"
            ],
            [
             0.9,
             "#4d9221"
            ],
            [
             1,
             "#276419"
            ]
           ],
           "sequential": [
            [
             0,
             "#0d0887"
            ],
            [
             0.1111111111111111,
             "#46039f"
            ],
            [
             0.2222222222222222,
             "#7201a8"
            ],
            [
             0.3333333333333333,
             "#9c179e"
            ],
            [
             0.4444444444444444,
             "#bd3786"
            ],
            [
             0.5555555555555556,
             "#d8576b"
            ],
            [
             0.6666666666666666,
             "#ed7953"
            ],
            [
             0.7777777777777778,
             "#fb9f3a"
            ],
            [
             0.8888888888888888,
             "#fdca26"
            ],
            [
             1,
             "#f0f921"
            ]
           ],
           "sequentialminus": [
            [
             0,
             "#0d0887"
            ],
            [
             0.1111111111111111,
             "#46039f"
            ],
            [
             0.2222222222222222,
             "#7201a8"
            ],
            [
             0.3333333333333333,
             "#9c179e"
            ],
            [
             0.4444444444444444,
             "#bd3786"
            ],
            [
             0.5555555555555556,
             "#d8576b"
            ],
            [
             0.6666666666666666,
             "#ed7953"
            ],
            [
             0.7777777777777778,
             "#fb9f3a"
            ],
            [
             0.8888888888888888,
             "#fdca26"
            ],
            [
             1,
             "#f0f921"
            ]
           ]
          },
          "colorway": [
           "#636efa",
           "#EF553B",
           "#00cc96",
           "#ab63fa",
           "#FFA15A",
           "#19d3f3",
           "#FF6692",
           "#B6E880",
           "#FF97FF",
           "#FECB52"
          ],
          "font": {
           "color": "#2a3f5f"
          },
          "geo": {
           "bgcolor": "white",
           "lakecolor": "white",
           "landcolor": "#E5ECF6",
           "showlakes": true,
           "showland": true,
           "subunitcolor": "white"
          },
          "hoverlabel": {
           "align": "left"
          },
          "hovermode": "closest",
          "mapbox": {
           "style": "light"
          },
          "paper_bgcolor": "white",
          "plot_bgcolor": "#E5ECF6",
          "polar": {
           "angularaxis": {
            "gridcolor": "white",
            "linecolor": "white",
            "ticks": ""
           },
           "bgcolor": "#E5ECF6",
           "radialaxis": {
            "gridcolor": "white",
            "linecolor": "white",
            "ticks": ""
           }
          },
          "scene": {
           "xaxis": {
            "backgroundcolor": "#E5ECF6",
            "gridcolor": "white",
            "gridwidth": 2,
            "linecolor": "white",
            "showbackground": true,
            "ticks": "",
            "zerolinecolor": "white"
           },
           "yaxis": {
            "backgroundcolor": "#E5ECF6",
            "gridcolor": "white",
            "gridwidth": 2,
            "linecolor": "white",
            "showbackground": true,
            "ticks": "",
            "zerolinecolor": "white"
           },
           "zaxis": {
            "backgroundcolor": "#E5ECF6",
            "gridcolor": "white",
            "gridwidth": 2,
            "linecolor": "white",
            "showbackground": true,
            "ticks": "",
            "zerolinecolor": "white"
           }
          },
          "shapedefaults": {
           "line": {
            "color": "#2a3f5f"
           }
          },
          "ternary": {
           "aaxis": {
            "gridcolor": "white",
            "linecolor": "white",
            "ticks": ""
           },
           "baxis": {
            "gridcolor": "white",
            "linecolor": "white",
            "ticks": ""
           },
           "bgcolor": "#E5ECF6",
           "caxis": {
            "gridcolor": "white",
            "linecolor": "white",
            "ticks": ""
           }
          },
          "title": {
           "x": 0.05
          },
          "xaxis": {
           "automargin": true,
           "gridcolor": "white",
           "linecolor": "white",
           "ticks": "",
           "title": {
            "standoff": 15
           },
           "zerolinecolor": "white",
           "zerolinewidth": 2
          },
          "yaxis": {
           "automargin": true,
           "gridcolor": "white",
           "linecolor": "white",
           "ticks": "",
           "title": {
            "standoff": 15
           },
           "zerolinecolor": "white",
           "zerolinewidth": 2
          }
         }
        },
        "title": {
         "text": "1. Radar de Competitividad por Pilar y Macrosector",
         "x": 0.5,
         "xanchor": "center"
        }
       }
      }
     },
     "metadata": {},
     "output_type": "display_data"
    }
   ],
   "source": [
    "# Encadenar las operaciones de pandas para simplificar el proceso:\n",
    "# 1. Agrupar por Macrosector y Nombre Pilar, calculando la media.\n",
    "radar_final_df = (\n",
    "    raw_data.groupby(['Macrosector', 'Nombre Pilar'])['valoracionPonderada']\n",
    "    .mean()\n",
    "    .reset_index()\n",
    "    .pivot_table(\n",
    "        index='Nombre Pilar',\n",
    "        columns='Macrosector',\n",
    "        values='valoracionPonderada'\n",
    "    )\n",
    "    .fillna(0)\n",
    "    .reset_index()\n",
    "    .rename(columns={'Nombre Pilar': 'category'})\n",
    ")\n",
    "\n",
    "categories = radar_final_df['category'].tolist()\n",
    "macrosectores = radar_final_df.drop(columns='category').columns.tolist()\n",
    "\n",
    "# Wrap category labels\n",
    "wrapped_categories = [wrap_text(cat) for cat in categories]\n",
    "\n",
    "fig = go.Figure()\n",
    "\n",
    "# Create color palette for different macrosectors\n",
    "colors = px.colors.qualitative.Set1[:len(macrosectores)]\n",
    "\n",
    "for i, macrosector in enumerate(macrosectores):\n",
    "    values = radar_final_df[macrosector].values\n",
    "    fig.add_trace(go.Scatterpolar(\n",
    "        r=values,\n",
    "        theta=wrapped_categories,  # Use wrapped categories\n",
    "        fill='toself',\n",
    "        name=macrosector,\n",
    "        line=dict(color=colors[i % len(colors)]),\n",
    "        fillcolor=colors[i % len(colors)],\n",
    "        opacity=0.6\n",
    "    ))\n",
    "\n",
    "fig.update_layout(\n",
    "    polar=dict(\n",
    "        radialaxis=dict(\n",
    "            visible=True,\n",
    "            range=[0, max(radar_final_df.drop(columns='category').max()) * 1.1],  # Dynamic range\n",
    "            tickmode='linear',\n",
    "            tick0=0,\n",
    "            dtick=5\n",
    "        ),\n",
    "        angularaxis=dict(\n",
    "            tickmode='array',\n",
    "            tickvals=list(range(len(categories))),\n",
    "            ticktext=wrapped_categories,  # Use wrapped categories\n",
    "            tickfont=dict(size=10),  # Smaller font for wrapped text\n",
    "            rotation=0  # Keep labels horizontal for better readability\n",
    "        )\n",
    "    ),\n",
    "    showlegend=True,\n",
    "    title={\n",
    "        'text': '1. Radar de Competitividad por Pilar y Macrosector',\n",
    "        'x': 0.5,\n",
    "        'xanchor': 'center'\n",
    "    }\n",
    ")\n",
    "fig.show()\n",
    "save_chart_as_html(fig, '01_radar_macroeconomic.html')\n"
   ]
  },
  {
   "cell_type": "markdown",
   "metadata": {
    "id": "5pju1snkmilQ"
   },
   "source": [
    "## 2. Mapa de calor de Desempeño Empresarial"
   ]
  },
  {
   "cell_type": "code",
   "execution_count": 82,
   "metadata": {
    "colab": {
     "base_uri": "https://localhost:8080/",
     "height": 206
    },
    "executionInfo": {
     "elapsed": 93,
     "status": "ok",
     "timestamp": 1754157043199,
     "user": {
      "displayName": "Juan Camilo Ortiz",
      "userId": "14839115185471025896"
     },
     "user_tz": 300
    },
    "id": "MT16zHh_mlNC",
    "outputId": "7b4d8493-d3ff-4751-a38d-9f88b45a4493"
   },
   "outputs": [
    {
     "data": {
      "application/vnd.plotly.v1+json": {
       "config": {
        "plotlyServerURL": "https://plot.ly"
       },
       "data": [
        {
         "colorbar": {
          "title": {
           "text": "Valoración Ponderada"
          }
         },
         "colorscale": [
          [
           0,
           "rgb(247,251,255)"
          ],
          [
           0.125,
           "rgb(222,235,247)"
          ],
          [
           0.25,
           "rgb(198,219,239)"
          ],
          [
           0.375,
           "rgb(158,202,225)"
          ],
          [
           0.5,
           "rgb(107,174,214)"
          ],
          [
           0.625,
           "rgb(66,146,198)"
          ],
          [
           0.75,
           "rgb(33,113,181)"
          ],
          [
           0.875,
           "rgb(8,81,156)"
          ],
          [
           1,
           "rgb(8,48,107)"
          ]
         ],
         "type": "heatmap",
         "x": [
          "Acción Climática y<br>Energía",
          "Capital Humano: Bienestar<br>y Desarrollo",
          "Diversidad, Equidad e<br>Inclusión (DEI)",
          "Gestión de Recursos<br>Naturales y Circularidad",
          "Impacto Económico, Social<br>y Comunitario",
          "Transparencia y Gobierno<br>de la Sostenibilidad"
         ],
         "y": [
          "ARA",
          "ARQUITECTURA Y CONCRETO",
          "AUTOPISTA RIO MAGDALENA SAS",
          "AVICOLA EL MADROÑO SA",
          "AVSA",
          "Aliar",
          "Alimentos Carnicos (Grupo Nutresa)",
          "Alpina",
          "Amarilo",
          "Avianca",
          "BEL STAR S.A.",
          "Banco de Bogotá",
          "Bancolombia",
          "Bavaria (Kopps)",
          "Biomax",
          "C.I Prodeco",
          "CARTON DE COLOMBIA S.A. (Smurfit Kappa)",
          "CI Eslop",
          "CONCESIONARIA VIAL UNIÓN DEL SUR SAS",
          "CONSTRUCCIONES EL CONDOR S.A",
          "CONSTRUCTORA CAPITAL BOGOTA SAS",
          "CONSTRUCTORA COLPATRIA  SAS",
          "Celsia",
          "Cementos Argos",
          "Cencosud",
          "Cenit",
          "Cerrejón",
          "Chevron",
          "Claro",
          "Coca Cola- Femsa",
          "Colgate",
          "Colombina",
          "Compañía Nacional de Chocolates",
          "Conconcreto",
          "Corbeta",
          "Cruz Verde",
          "D1",
          "Davivienda",
          "Distracom",
          "Drummond",
          "EPM",
          "ES Windows",
          "Ecopetrol",
          "Emgesa",
          "Esenttia",
          "Falabella",
          "Frontera Energy",
          "GEB",
          "Gases del Caribe",
          "General Motors",
          "Geopark",
          "Gran Tierra Energy",
          "Grupo Bios",
          "Grupo Diana",
          "Haceb",
          "Hocol",
          "INCUBADORA SANTANDER S.A. (Huevos Kikes)",
          "ISA",
          "ISMOCOL SA",
          "Isagen",
          "Italcol",
          "LATAM",
          "MARVAL S.A.S.",
          "Mazda",
          "Mercado Libre",
          "Nestle",
          "Oleoducto Central (Ocensa)",
          "Olímpica",
          "POLLOS EL BUCANERO S.A. (Cargill)",
          "Pepsico",
          "Petromil",
          "Postobón",
          "Pricesmart",
          "Primax",
          "Productos Familia (Essity)",
          "Promigas",
          "Rappi",
          "Reficar",
          "Renault",
          "Riopaila Castilla",
          "Samsung",
          "SierraCol Energy",
          "Sodimac (Homecenter)",
          "Sucafina",
          "Sunshine Bouquet",
          "Suramerica Comercial (Dollar City)",
          "Tecnoquimicas",
          "Telefónica",
          "Teleperformance",
          "Terpel",
          "Tigo",
          "Toyota",
          "Trafigura (Petroleum)",
          "Uniban",
          "Unilever",
          "Vanti",
          "Verano energy",
          "YARA COLOMBIA S.A.",
          "Yamaha",
          "Éxito"
         ],
         "z": {
          "bdata": "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",
          "dtype": "f8",
          "shape": "100, 6"
         }
        }
       ],
       "layout": {
        "height": 800,
        "template": {
         "data": {
          "bar": [
           {
            "error_x": {
             "color": "#2a3f5f"
            },
            "error_y": {
             "color": "#2a3f5f"
            },
            "marker": {
             "line": {
              "color": "#E5ECF6",
              "width": 0.5
             },
             "pattern": {
              "fillmode": "overlay",
              "size": 10,
              "solidity": 0.2
             }
            },
            "type": "bar"
           }
          ],
          "barpolar": [
           {
            "marker": {
             "line": {
              "color": "#E5ECF6",
              "width": 0.5
             },
             "pattern": {
              "fillmode": "overlay",
              "size": 10,
              "solidity": 0.2
             }
            },
            "type": "barpolar"
           }
          ],
          "carpet": [
           {
            "aaxis": {
             "endlinecolor": "#2a3f5f",
             "gridcolor": "white",
             "linecolor": "white",
             "minorgridcolor": "white",
             "startlinecolor": "#2a3f5f"
            },
            "baxis": {
             "endlinecolor": "#2a3f5f",
             "gridcolor": "white",
             "linecolor": "white",
             "minorgridcolor": "white",
             "startlinecolor": "#2a3f5f"
            },
            "type": "carpet"
           }
          ],
          "choropleth": [
           {
            "colorbar": {
             "outlinewidth": 0,
             "ticks": ""
            },
            "type": "choropleth"
           }
          ],
          "contour": [
           {
            "colorbar": {
             "outlinewidth": 0,
             "ticks": ""
            },
            "colorscale": [
             [
              0,
              "#0d0887"
             ],
             [
              0.1111111111111111,
              "#46039f"
             ],
             [
              0.2222222222222222,
              "#7201a8"
             ],
             [
              0.3333333333333333,
              "#9c179e"
             ],
             [
              0.4444444444444444,
              "#bd3786"
             ],
             [
              0.5555555555555556,
              "#d8576b"
             ],
             [
              0.6666666666666666,
              "#ed7953"
             ],
             [
              0.7777777777777778,
              "#fb9f3a"
             ],
             [
              0.8888888888888888,
              "#fdca26"
             ],
             [
              1,
              "#f0f921"
             ]
            ],
            "type": "contour"
           }
          ],
          "contourcarpet": [
           {
            "colorbar": {
             "outlinewidth": 0,
             "ticks": ""
            },
            "type": "contourcarpet"
           }
          ],
          "heatmap": [
           {
            "colorbar": {
             "outlinewidth": 0,
             "ticks": ""
            },
            "colorscale": [
             [
              0,
              "#0d0887"
             ],
             [
              0.1111111111111111,
              "#46039f"
             ],
             [
              0.2222222222222222,
              "#7201a8"
             ],
             [
              0.3333333333333333,
              "#9c179e"
             ],
             [
              0.4444444444444444,
              "#bd3786"
             ],
             [
              0.5555555555555556,
              "#d8576b"
             ],
             [
              0.6666666666666666,
              "#ed7953"
             ],
             [
              0.7777777777777778,
              "#fb9f3a"
             ],
             [
              0.8888888888888888,
              "#fdca26"
             ],
             [
              1,
              "#f0f921"
             ]
            ],
            "type": "heatmap"
           }
          ],
          "histogram": [
           {
            "marker": {
             "pattern": {
              "fillmode": "overlay",
              "size": 10,
              "solidity": 0.2
             }
            },
            "type": "histogram"
           }
          ],
          "histogram2d": [
           {
            "colorbar": {
             "outlinewidth": 0,
             "ticks": ""
            },
            "colorscale": [
             [
              0,
              "#0d0887"
             ],
             [
              0.1111111111111111,
              "#46039f"
             ],
             [
              0.2222222222222222,
              "#7201a8"
             ],
             [
              0.3333333333333333,
              "#9c179e"
             ],
             [
              0.4444444444444444,
              "#bd3786"
             ],
             [
              0.5555555555555556,
              "#d8576b"
             ],
             [
              0.6666666666666666,
              "#ed7953"
             ],
             [
              0.7777777777777778,
              "#fb9f3a"
             ],
             [
              0.8888888888888888,
              "#fdca26"
             ],
             [
              1,
              "#f0f921"
             ]
            ],
            "type": "histogram2d"
           }
          ],
          "histogram2dcontour": [
           {
            "colorbar": {
             "outlinewidth": 0,
             "ticks": ""
            },
            "colorscale": [
             [
              0,
              "#0d0887"
             ],
             [
              0.1111111111111111,
              "#46039f"
             ],
             [
              0.2222222222222222,
              "#7201a8"
             ],
             [
              0.3333333333333333,
              "#9c179e"
             ],
             [
              0.4444444444444444,
              "#bd3786"
             ],
             [
              0.5555555555555556,
              "#d8576b"
             ],
             [
              0.6666666666666666,
              "#ed7953"
             ],
             [
              0.7777777777777778,
              "#fb9f3a"
             ],
             [
              0.8888888888888888,
              "#fdca26"
             ],
             [
              1,
              "#f0f921"
             ]
            ],
            "type": "histogram2dcontour"
           }
          ],
          "mesh3d": [
           {
            "colorbar": {
             "outlinewidth": 0,
             "ticks": ""
            },
            "type": "mesh3d"
           }
          ],
          "parcoords": [
           {
            "line": {
             "colorbar": {
              "outlinewidth": 0,
              "ticks": ""
             }
            },
            "type": "parcoords"
           }
          ],
          "pie": [
           {
            "automargin": true,
            "type": "pie"
           }
          ],
          "scatter": [
           {
            "fillpattern": {
             "fillmode": "overlay",
             "size": 10,
             "solidity": 0.2
            },
            "type": "scatter"
           }
          ],
          "scatter3d": [
           {
            "line": {
             "colorbar": {
              "outlinewidth": 0,
              "ticks": ""
             }
            },
            "marker": {
             "colorbar": {
              "outlinewidth": 0,
              "ticks": ""
             }
            },
            "type": "scatter3d"
           }
          ],
          "scattercarpet": [
           {
            "marker": {
             "colorbar": {
              "outlinewidth": 0,
              "ticks": ""
             }
            },
            "type": "scattercarpet"
           }
          ],
          "scattergeo": [
           {
            "marker": {
             "colorbar": {
              "outlinewidth": 0,
              "ticks": ""
             }
            },
            "type": "scattergeo"
           }
          ],
          "scattergl": [
           {
            "marker": {
             "colorbar": {
              "outlinewidth": 0,
              "ticks": ""
             }
            },
            "type": "scattergl"
           }
          ],
          "scattermap": [
           {
            "marker": {
             "colorbar": {
              "outlinewidth": 0,
              "ticks": ""
             }
            },
            "type": "scattermap"
           }
          ],
          "scattermapbox": [
           {
            "marker": {
             "colorbar": {
              "outlinewidth": 0,
              "ticks": ""
             }
            },
            "type": "scattermapbox"
           }
          ],
          "scatterpolar": [
           {
            "marker": {
             "colorbar": {
              "outlinewidth": 0,
              "ticks": ""
             }
            },
            "type": "scatterpolar"
           }
          ],
          "scatterpolargl": [
           {
            "marker": {
             "colorbar": {
              "outlinewidth": 0,
              "ticks": ""
             }
            },
            "type": "scatterpolargl"
           }
          ],
          "scatterternary": [
           {
            "marker": {
             "colorbar": {
              "outlinewidth": 0,
              "ticks": ""
             }
            },
            "type": "scatterternary"
           }
          ],
          "surface": [
           {
            "colorbar": {
             "outlinewidth": 0,
             "ticks": ""
            },
            "colorscale": [
             [
              0,
              "#0d0887"
             ],
             [
              0.1111111111111111,
              "#46039f"
             ],
             [
              0.2222222222222222,
              "#7201a8"
             ],
             [
              0.3333333333333333,
              "#9c179e"
             ],
             [
              0.4444444444444444,
              "#bd3786"
             ],
             [
              0.5555555555555556,
              "#d8576b"
             ],
             [
              0.6666666666666666,
              "#ed7953"
             ],
             [
              0.7777777777777778,
              "#fb9f3a"
             ],
             [
              0.8888888888888888,
              "#fdca26"
             ],
             [
              1,
              "#f0f921"
             ]
            ],
            "type": "surface"
           }
          ],
          "table": [
           {
            "cells": {
             "fill": {
              "color": "#EBF0F8"
             },
             "line": {
              "color": "white"
             }
            },
            "header": {
             "fill": {
              "color": "#C8D4E3"
             },
             "line": {
              "color": "white"
             }
            },
            "type": "table"
           }
          ]
         },
         "layout": {
          "annotationdefaults": {
           "arrowcolor": "#2a3f5f",
           "arrowhead": 0,
           "arrowwidth": 1
          },
          "autotypenumbers": "strict",
          "coloraxis": {
           "colorbar": {
            "outlinewidth": 0,
            "ticks": ""
           }
          },
          "colorscale": {
           "diverging": [
            [
             0,
             "#8e0152"
            ],
            [
             0.1,
             "#c51b7d"
            ],
            [
             0.2,
             "#de77ae"
            ],
            [
             0.3,
             "#f1b6da"
            ],
            [
             0.4,
             "#fde0ef"
            ],
            [
             0.5,
             "#f7f7f7"
            ],
            [
             0.6,
             "#e6f5d0"
            ],
            [
             0.7,
             "#b8e186"
            ],
            [
             0.8,
             "#7fbc41"
            ],
            [
             0.9,
             "#4d9221"
            ],
            [
             1,
             "#276419"
            ]
           ],
           "sequential": [
            [
             0,
             "#0d0887"
            ],
            [
             0.1111111111111111,
             "#46039f"
            ],
            [
             0.2222222222222222,
             "#7201a8"
            ],
            [
             0.3333333333333333,
             "#9c179e"
            ],
            [
             0.4444444444444444,
             "#bd3786"
            ],
            [
             0.5555555555555556,
             "#d8576b"
            ],
            [
             0.6666666666666666,
             "#ed7953"
            ],
            [
             0.7777777777777778,
             "#fb9f3a"
            ],
            [
             0.8888888888888888,
             "#fdca26"
            ],
            [
             1,
             "#f0f921"
            ]
           ],
           "sequentialminus": [
            [
             0,
             "#0d0887"
            ],
            [
             0.1111111111111111,
             "#46039f"
            ],
            [
             0.2222222222222222,
             "#7201a8"
            ],
            [
             0.3333333333333333,
             "#9c179e"
            ],
            [
             0.4444444444444444,
             "#bd3786"
            ],
            [
             0.5555555555555556,
             "#d8576b"
            ],
            [
             0.6666666666666666,
             "#ed7953"
            ],
            [
             0.7777777777777778,
             "#fb9f3a"
            ],
            [
             0.8888888888888888,
             "#fdca26"
            ],
            [
             1,
             "#f0f921"
            ]
           ]
          },
          "colorway": [
           "#636efa",
           "#EF553B",
           "#00cc96",
           "#ab63fa",
           "#FFA15A",
           "#19d3f3",
           "#FF6692",
           "#B6E880",
           "#FF97FF",
           "#FECB52"
          ],
          "font": {
           "color": "#2a3f5f"
          },
          "geo": {
           "bgcolor": "white",
           "lakecolor": "white",
           "landcolor": "#E5ECF6",
           "showlakes": true,
           "showland": true,
           "subunitcolor": "white"
          },
          "hoverlabel": {
           "align": "left"
          },
          "hovermode": "closest",
          "mapbox": {
           "style": "light"
          },
          "paper_bgcolor": "white",
          "plot_bgcolor": "#E5ECF6",
          "polar": {
           "angularaxis": {
            "gridcolor": "white",
            "linecolor": "white",
            "ticks": ""
           },
           "bgcolor": "#E5ECF6",
           "radialaxis": {
            "gridcolor": "white",
            "linecolor": "white",
            "ticks": ""
           }
          },
          "scene": {
           "xaxis": {
            "backgroundcolor": "#E5ECF6",
            "gridcolor": "white",
            "gridwidth": 2,
            "linecolor": "white",
            "showbackground": true,
            "ticks": "",
            "zerolinecolor": "white"
           },
           "yaxis": {
            "backgroundcolor": "#E5ECF6",
            "gridcolor": "white",
            "gridwidth": 2,
            "linecolor": "white",
            "showbackground": true,
            "ticks": "",
            "zerolinecolor": "white"
           },
           "zaxis": {
            "backgroundcolor": "#E5ECF6",
            "gridcolor": "white",
            "gridwidth": 2,
            "linecolor": "white",
            "showbackground": true,
            "ticks": "",
            "zerolinecolor": "white"
           }
          },
          "shapedefaults": {
           "line": {
            "color": "#2a3f5f"
           }
          },
          "ternary": {
           "aaxis": {
            "gridcolor": "white",
            "linecolor": "white",
            "ticks": ""
           },
           "baxis": {
            "gridcolor": "white",
            "linecolor": "white",
            "ticks": ""
           },
           "bgcolor": "#E5ECF6",
           "caxis": {
            "gridcolor": "white",
            "linecolor": "white",
            "ticks": ""
           }
          },
          "title": {
           "x": 0.05
          },
          "xaxis": {
           "automargin": true,
           "gridcolor": "white",
           "linecolor": "white",
           "ticks": "",
           "title": {
            "standoff": 15
           },
           "zerolinecolor": "white",
           "zerolinewidth": 2
          },
          "yaxis": {
           "automargin": true,
           "gridcolor": "white",
           "linecolor": "white",
           "ticks": "",
           "title": {
            "standoff": 15
           },
           "zerolinecolor": "white",
           "zerolinewidth": 2
          }
         }
        },
        "title": {
         "text": "2. Mapa de Calor de Desempeño Empresarial"
        },
        "width": 1000,
        "xaxis": {
         "title": {
          "text": "Pilares"
         }
        },
        "yaxis": {
         "title": {
          "text": "Empresas"
         }
        }
       }
      }
     },
     "metadata": {},
     "output_type": "display_data"
    }
   ],
   "source": [
    "# 1. Pivotar la tabla para agregar los valores.\n",
    "#    - Se agrupa por 'Razón social' y 'Nombre Pilar'.\n",
    "#    - Se calcula la SUMA de 'valoracionPonderada' como indica la guía.\n",
    "#    - Se rellenan los valores nulos con 0.\n",
    "heatmap_pivot = raw_data.pivot_table(\n",
    "    index='Razón social',\n",
    "    columns='Nombre Pilar',\n",
    "    values='valoracionPonderada',\n",
    "    aggfunc='sum',\n",
    "    fill_value=0\n",
    ")\n",
    "\n",
    "heatmap_pivot.sort_values(by='Razón social', inplace=True)\n",
    "wrapped_pilars = [wrap_text(col) for col in heatmap_pivot.columns]\n",
    "# Crear mapa de calor con Plotly\n",
    "heatmap_fig = go.Figure(data=go.Heatmap(\n",
    "    z=heatmap_pivot.values,\n",
    "    x=wrapped_pilars,\n",
    "    y=heatmap_pivot.index,\n",
    "    colorscale='blues',\n",
    "    colorbar=dict(title='Valoración Ponderada')\n",
    "))\n",
    "\n",
    "heatmap_fig.update_layout(\n",
    "    title='2. Mapa de Calor de Desempeño Empresarial',\n",
    "    xaxis_title='Pilares',\n",
    "    yaxis_title='Empresas',\n",
    "    width=1000,  # Ajustar el ancho del gráfico\n",
    "    height=800  # Ajustar la altura del gráfico\n",
    ")\n",
    "\n",
    "heatmap_fig.show()\n",
    "save_chart_as_html(heatmap_fig, '02_heatmap_performance.html')"
   ]
  },
  {
   "cell_type": "markdown",
   "metadata": {},
   "source": [
    "## 3. Diagrama de Violín de la Dispersión del Desempeño Sectorial"
   ]
  },
  {
   "cell_type": "code",
   "execution_count": 83,
   "metadata": {},
   "outputs": [
    {
     "data": {
      "application/vnd.plotly.v1+json": {
       "config": {
        "plotlyServerURL": "https://plot.ly"
       },
       "data": [
        {
         "alignmentgroup": "True",
         "box": {
          "visible": true
         },
         "hovertemplate": "Macrosector=%{x}<br>Puntaje Total=%{y}<extra></extra>",
         "legendgroup": "Comercio",
         "marker": {
          "color": "#636efa"
         },
         "meanline": {
          "visible": true
         },
         "name": "Comercio",
         "offsetgroup": "Comercio",
         "orientation": "v",
         "points": "all",
         "scalegroup": "True",
         "showlegend": true,
         "type": "violin",
         "x": [
          "Comercio",
          "Comercio",
          "Comercio",
          "Comercio",
          "Comercio",
          "Comercio",
          "Comercio",
          "Comercio",
          "Comercio",
          "Comercio",
          "Comercio",
          "Comercio",
          "Comercio",
          "Comercio",
          "Comercio",
          "Comercio",
          "Comercio",
          "Comercio",
          "Comercio",
          "Comercio",
          "Comercio",
          "Comercio",
          "Comercio",
          "Comercio",
          "Comercio",
          "Comercio"
         ],
         "x0": " ",
         "xaxis": "x",
         "y": {
          "bdata": "PWR0h4eHV0A9ZHSHh4dXQD1kdIeHh1dAgnbBvzx4dUDTzZOlpeVnQD1kdIeHh1dAtFXXDs8teEA9YiQWAXh4QD1kdIeHh1dASdVQTInmfUB+vh4tLW1yQJM4UWlpaV1APWR0h4eHV0AN6zVZLVVuQAdtqesfF35AZTJ1h4cHd0CUPW9OqLF9QIHVeoeHR3FAPWR0h4eHV0A9ZHSHh4dXQHdP4bJZA39AMmS5yKzxd0D4KCEtLS1wQDdfJyAe3XRAPWR0h4eHV0DHwZg5tIl5QA==",
          "dtype": "f8"
         },
         "y0": " ",
         "yaxis": "y"
        },
        {
         "alignmentgroup": "True",
         "box": {
          "visible": true
         },
         "hovertemplate": "Macrosector=%{x}<br>Puntaje Total=%{y}<extra></extra>",
         "legendgroup": "Construcción",
         "marker": {
          "color": "#EF553B"
         },
         "meanline": {
          "visible": true
         },
         "name": "Construcción",
         "offsetgroup": "Construcción",
         "orientation": "v",
         "points": "all",
         "scalegroup": "True",
         "showlegend": true,
         "type": "violin",
         "x": [
          "Construcción",
          "Construcción",
          "Construcción",
          "Construcción",
          "Construcción",
          "Construcción",
          "Construcción",
          "Construcción",
          "Construcción",
          "Construcción"
         ],
         "x0": " ",
         "xaxis": "x",
         "y": {
          "bdata": "mtikJEkSUEDFq+nQaqV8QLaf3ThJbHlA98O7m5hdcUDc/atAnW1nQBIjYIFD8GFAOBoWXMnbakDpZ9PZtTFyQIcZtyRJkkxA8yL8U+bWbkA=",
          "dtype": "f8"
         },
         "y0": " ",
         "yaxis": "y"
        },
        {
         "alignmentgroup": "True",
         "box": {
          "visible": true
         },
         "hovertemplate": "Macrosector=%{x}<br>Puntaje Total=%{y}<extra></extra>",
         "legendgroup": "Agropecuario",
         "marker": {
          "color": "#00cc96"
         },
         "meanline": {
          "visible": true
         },
         "name": "Agropecuario",
         "offsetgroup": "Agropecuario",
         "orientation": "v",
         "points": "all",
         "scalegroup": "True",
         "showlegend": true,
         "type": "violin",
         "x": [
          "Agropecuario",
          "Agropecuario",
          "Agropecuario",
          "Agropecuario",
          "Agropecuario",
          "Agropecuario"
         ],
         "x0": " ",
         "xaxis": "x",
         "y": {
          "bdata": "LbPntm3bUUB4iBQ9z/NOQPPvAD3Pk3VAMg2VD4mgZkAts+e2bdtRQF6Wftu2bVVA",
          "dtype": "f8"
         },
         "y0": " ",
         "yaxis": "y"
        },
        {
         "alignmentgroup": "True",
         "box": {
          "visible": true
         },
         "hovertemplate": "Macrosector=%{x}<br>Puntaje Total=%{y}<extra></extra>",
         "legendgroup": "Manufactura",
         "marker": {
          "color": "#ab63fa"
         },
         "meanline": {
          "visible": true
         },
         "name": "Manufactura",
         "offsetgroup": "Manufactura",
         "orientation": "v",
         "points": "all",
         "scalegroup": "True",
         "showlegend": true,
         "type": "violin",
         "x": [
          "Manufactura",
          "Manufactura",
          "Manufactura",
          "Manufactura",
          "Manufactura",
          "Manufactura",
          "Manufactura",
          "Manufactura",
          "Manufactura",
          "Manufactura",
          "Manufactura",
          "Manufactura",
          "Manufactura",
          "Manufactura",
          "Manufactura",
          "Manufactura",
          "Manufactura",
          "Manufactura",
          "Manufactura",
          "Manufactura",
          "Manufactura",
          "Manufactura",
          "Manufactura",
          "Manufactura",
          "Manufactura",
          "Manufactura"
         ],
         "x0": " ",
         "xaxis": "x",
         "y": {
          "bdata": "GcerIOyMgEAXzWASUi57QMniNs6ZQXJA6682Sod0a0BC4ymuUZZ4QIbDCmuOuX1AI5Udc8rJe0BNv5q8hpJzQFdMD4SkOoBA1/FsSoLecEA5dMRrKK9XQDNc/vLCSoFAZn60hvKedEBySievobxTQDUe10z3JHtAckonr6G8U0CIPNocffNxQHJKJ6+hvFNANACB8hrqckC2glXeoneBQDTlYab3Y3pAgm5iWulVdkDX0xE3xFx4QNWoQ0sHWXxATD2HCZ1dckA8ElBdUF5mQA==",
          "dtype": "f8"
         },
         "y0": " ",
         "yaxis": "y"
        },
        {
         "alignmentgroup": "True",
         "box": {
          "visible": true
         },
         "hovertemplate": "Macrosector=%{x}<br>Puntaje Total=%{y}<extra></extra>",
         "legendgroup": "Servicios",
         "marker": {
          "color": "#FFA15A"
         },
         "meanline": {
          "visible": true
         },
         "name": "Servicios",
         "offsetgroup": "Servicios",
         "orientation": "v",
         "points": "all",
         "scalegroup": "True",
         "showlegend": true,
         "type": "violin",
         "x": [
          "Servicios",
          "Servicios",
          "Servicios",
          "Servicios",
          "Servicios",
          "Servicios",
          "Servicios",
          "Servicios",
          "Servicios",
          "Servicios",
          "Servicios",
          "Servicios",
          "Servicios",
          "Servicios",
          "Servicios",
          "Servicios",
          "Servicios",
          "Servicios",
          "Servicios",
          "Servicios",
          "Servicios",
          "Servicios"
         ],
         "x0": " ",
         "xaxis": "x",
         "y": {
          "bdata": "0T3rGq3wdUA9uaZAVqZ/QMRk7n2pDXdAq542JEp6e0BJjAhAYLh8QIW8ykw0dX1AO/GaLM0kfkBNGpsEnDx7QPBv+95Jwn9AIl8ePwcfe0C93/sqz8VyQFhLNFocc3lA5EP1e9fjcECDRnbGk3h4QDPWMcAjB3RAIas1dixaeUAPODYugBh9QM9aIC0tLVBAkfUJ3bODfEDDchlxMPp5QLaBv4jjBXVAOpEPY9IadkA=",
          "dtype": "f8"
         },
         "y0": " ",
         "yaxis": "y"
        },
        {
         "alignmentgroup": "True",
         "box": {
          "visible": true
         },
         "hovertemplate": "Macrosector=%{x}<br>Puntaje Total=%{y}<extra></extra>",
         "legendgroup": "Minero",
         "marker": {
          "color": "#19d3f3"
         },
         "meanline": {
          "visible": true
         },
         "name": "Minero",
         "offsetgroup": "Minero",
         "orientation": "v",
         "points": "all",
         "scalegroup": "True",
         "showlegend": true,
         "type": "violin",
         "x": [
          "Minero",
          "Minero",
          "Minero",
          "Minero",
          "Minero",
          "Minero",
          "Minero",
          "Minero",
          "Minero",
          "Minero"
         ],
         "x0": " ",
         "xaxis": "x",
         "y": {
          "bdata": "cYbq////SEDCuVEnShlzQPQfPFRfT4FAQvczXGc6gECu4Uq/mjJ8QGzyRY/wpIBAjMkiGmPTdkBf0RW7Wbl+QGAdUAEz035A36jTiZ3YXEA=",
          "dtype": "f8"
         },
         "y0": " ",
         "yaxis": "y"
        }
       ],
       "layout": {
        "legend": {
         "title": {
          "text": "Macrosector"
         },
         "tracegroupgap": 0
        },
        "template": {
         "data": {
          "bar": [
           {
            "error_x": {
             "color": "#2a3f5f"
            },
            "error_y": {
             "color": "#2a3f5f"
            },
            "marker": {
             "line": {
              "color": "#E5ECF6",
              "width": 0.5
             },
             "pattern": {
              "fillmode": "overlay",
              "size": 10,
              "solidity": 0.2
             }
            },
            "type": "bar"
           }
          ],
          "barpolar": [
           {
            "marker": {
             "line": {
              "color": "#E5ECF6",
              "width": 0.5
             },
             "pattern": {
              "fillmode": "overlay",
              "size": 10,
              "solidity": 0.2
             }
            },
            "type": "barpolar"
           }
          ],
          "carpet": [
           {
            "aaxis": {
             "endlinecolor": "#2a3f5f",
             "gridcolor": "white",
             "linecolor": "white",
             "minorgridcolor": "white",
             "startlinecolor": "#2a3f5f"
            },
            "baxis": {
             "endlinecolor": "#2a3f5f",
             "gridcolor": "white",
             "linecolor": "white",
             "minorgridcolor": "white",
             "startlinecolor": "#2a3f5f"
            },
            "type": "carpet"
           }
          ],
          "choropleth": [
           {
            "colorbar": {
             "outlinewidth": 0,
             "ticks": ""
            },
            "type": "choropleth"
           }
          ],
          "contour": [
           {
            "colorbar": {
             "outlinewidth": 0,
             "ticks": ""
            },
            "colorscale": [
             [
              0,
              "#0d0887"
             ],
             [
              0.1111111111111111,
              "#46039f"
             ],
             [
              0.2222222222222222,
              "#7201a8"
             ],
             [
              0.3333333333333333,
              "#9c179e"
             ],
             [
              0.4444444444444444,
              "#bd3786"
             ],
             [
              0.5555555555555556,
              "#d8576b"
             ],
             [
              0.6666666666666666,
              "#ed7953"
             ],
             [
              0.7777777777777778,
              "#fb9f3a"
             ],
             [
              0.8888888888888888,
              "#fdca26"
             ],
             [
              1,
              "#f0f921"
             ]
            ],
            "type": "contour"
           }
          ],
          "contourcarpet": [
           {
            "colorbar": {
             "outlinewidth": 0,
             "ticks": ""
            },
            "type": "contourcarpet"
           }
          ],
          "heatmap": [
           {
            "colorbar": {
             "outlinewidth": 0,
             "ticks": ""
            },
            "colorscale": [
             [
              0,
              "#0d0887"
             ],
             [
              0.1111111111111111,
              "#46039f"
             ],
             [
              0.2222222222222222,
              "#7201a8"
             ],
             [
              0.3333333333333333,
              "#9c179e"
             ],
             [
              0.4444444444444444,
              "#bd3786"
             ],
             [
              0.5555555555555556,
              "#d8576b"
             ],
             [
              0.6666666666666666,
              "#ed7953"
             ],
             [
              0.7777777777777778,
              "#fb9f3a"
             ],
             [
              0.8888888888888888,
              "#fdca26"
             ],
             [
              1,
              "#f0f921"
             ]
            ],
            "type": "heatmap"
           }
          ],
          "histogram": [
           {
            "marker": {
             "pattern": {
              "fillmode": "overlay",
              "size": 10,
              "solidity": 0.2
             }
            },
            "type": "histogram"
           }
          ],
          "histogram2d": [
           {
            "colorbar": {
             "outlinewidth": 0,
             "ticks": ""
            },
            "colorscale": [
             [
              0,
              "#0d0887"
             ],
             [
              0.1111111111111111,
              "#46039f"
             ],
             [
              0.2222222222222222,
              "#7201a8"
             ],
             [
              0.3333333333333333,
              "#9c179e"
             ],
             [
              0.4444444444444444,
              "#bd3786"
             ],
             [
              0.5555555555555556,
              "#d8576b"
             ],
             [
              0.6666666666666666,
              "#ed7953"
             ],
             [
              0.7777777777777778,
              "#fb9f3a"
             ],
             [
              0.8888888888888888,
              "#fdca26"
             ],
             [
              1,
              "#f0f921"
             ]
            ],
            "type": "histogram2d"
           }
          ],
          "histogram2dcontour": [
           {
            "colorbar": {
             "outlinewidth": 0,
             "ticks": ""
            },
            "colorscale": [
             [
              0,
              "#0d0887"
             ],
             [
              0.1111111111111111,
              "#46039f"
             ],
             [
              0.2222222222222222,
              "#7201a8"
             ],
             [
              0.3333333333333333,
              "#9c179e"
             ],
             [
              0.4444444444444444,
              "#bd3786"
             ],
             [
              0.5555555555555556,
              "#d8576b"
             ],
             [
              0.6666666666666666,
              "#ed7953"
             ],
             [
              0.7777777777777778,
              "#fb9f3a"
             ],
             [
              0.8888888888888888,
              "#fdca26"
             ],
             [
              1,
              "#f0f921"
             ]
            ],
            "type": "histogram2dcontour"
           }
          ],
          "mesh3d": [
           {
            "colorbar": {
             "outlinewidth": 0,
             "ticks": ""
            },
            "type": "mesh3d"
           }
          ],
          "parcoords": [
           {
            "line": {
             "colorbar": {
              "outlinewidth": 0,
              "ticks": ""
             }
            },
            "type": "parcoords"
           }
          ],
          "pie": [
           {
            "automargin": true,
            "type": "pie"
           }
          ],
          "scatter": [
           {
            "fillpattern": {
             "fillmode": "overlay",
             "size": 10,
             "solidity": 0.2
            },
            "type": "scatter"
           }
          ],
          "scatter3d": [
           {
            "line": {
             "colorbar": {
              "outlinewidth": 0,
              "ticks": ""
             }
            },
            "marker": {
             "colorbar": {
              "outlinewidth": 0,
              "ticks": ""
             }
            },
            "type": "scatter3d"
           }
          ],
          "scattercarpet": [
           {
            "marker": {
             "colorbar": {
              "outlinewidth": 0,
              "ticks": ""
             }
            },
            "type": "scattercarpet"
           }
          ],
          "scattergeo": [
           {
            "marker": {
             "colorbar": {
              "outlinewidth": 0,
              "ticks": ""
             }
            },
            "type": "scattergeo"
           }
          ],
          "scattergl": [
           {
            "marker": {
             "colorbar": {
              "outlinewidth": 0,
              "ticks": ""
             }
            },
            "type": "scattergl"
           }
          ],
          "scattermap": [
           {
            "marker": {
             "colorbar": {
              "outlinewidth": 0,
              "ticks": ""
             }
            },
            "type": "scattermap"
           }
          ],
          "scattermapbox": [
           {
            "marker": {
             "colorbar": {
              "outlinewidth": 0,
              "ticks": ""
             }
            },
            "type": "scattermapbox"
           }
          ],
          "scatterpolar": [
           {
            "marker": {
             "colorbar": {
              "outlinewidth": 0,
              "ticks": ""
             }
            },
            "type": "scatterpolar"
           }
          ],
          "scatterpolargl": [
           {
            "marker": {
             "colorbar": {
              "outlinewidth": 0,
              "ticks": ""
             }
            },
            "type": "scatterpolargl"
           }
          ],
          "scatterternary": [
           {
            "marker": {
             "colorbar": {
              "outlinewidth": 0,
              "ticks": ""
             }
            },
            "type": "scatterternary"
           }
          ],
          "surface": [
           {
            "colorbar": {
             "outlinewidth": 0,
             "ticks": ""
            },
            "colorscale": [
             [
              0,
              "#0d0887"
             ],
             [
              0.1111111111111111,
              "#46039f"
             ],
             [
              0.2222222222222222,
              "#7201a8"
             ],
             [
              0.3333333333333333,
              "#9c179e"
             ],
             [
              0.4444444444444444,
              "#bd3786"
             ],
             [
              0.5555555555555556,
              "#d8576b"
             ],
             [
              0.6666666666666666,
              "#ed7953"
             ],
             [
              0.7777777777777778,
              "#fb9f3a"
             ],
             [
              0.8888888888888888,
              "#fdca26"
             ],
             [
              1,
              "#f0f921"
             ]
            ],
            "type": "surface"
           }
          ],
          "table": [
           {
            "cells": {
             "fill": {
              "color": "#EBF0F8"
             },
             "line": {
              "color": "white"
             }
            },
            "header": {
             "fill": {
              "color": "#C8D4E3"
             },
             "line": {
              "color": "white"
             }
            },
            "type": "table"
           }
          ]
         },
         "layout": {
          "annotationdefaults": {
           "arrowcolor": "#2a3f5f",
           "arrowhead": 0,
           "arrowwidth": 1
          },
          "autotypenumbers": "strict",
          "coloraxis": {
           "colorbar": {
            "outlinewidth": 0,
            "ticks": ""
           }
          },
          "colorscale": {
           "diverging": [
            [
             0,
             "#8e0152"
            ],
            [
             0.1,
             "#c51b7d"
            ],
            [
             0.2,
             "#de77ae"
            ],
            [
             0.3,
             "#f1b6da"
            ],
            [
             0.4,
             "#fde0ef"
            ],
            [
             0.5,
             "#f7f7f7"
            ],
            [
             0.6,
             "#e6f5d0"
            ],
            [
             0.7,
             "#b8e186"
            ],
            [
             0.8,
             "#7fbc41"
            ],
            [
             0.9,
             "#4d9221"
            ],
            [
             1,
             "#276419"
            ]
           ],
           "sequential": [
            [
             0,
             "#0d0887"
            ],
            [
             0.1111111111111111,
             "#46039f"
            ],
            [
             0.2222222222222222,
             "#7201a8"
            ],
            [
             0.3333333333333333,
             "#9c179e"
            ],
            [
             0.4444444444444444,
             "#bd3786"
            ],
            [
             0.5555555555555556,
             "#d8576b"
            ],
            [
             0.6666666666666666,
             "#ed7953"
            ],
            [
             0.7777777777777778,
             "#fb9f3a"
            ],
            [
             0.8888888888888888,
             "#fdca26"
            ],
            [
             1,
             "#f0f921"
            ]
           ],
           "sequentialminus": [
            [
             0,
             "#0d0887"
            ],
            [
             0.1111111111111111,
             "#46039f"
            ],
            [
             0.2222222222222222,
             "#7201a8"
            ],
            [
             0.3333333333333333,
             "#9c179e"
            ],
            [
             0.4444444444444444,
             "#bd3786"
            ],
            [
             0.5555555555555556,
             "#d8576b"
            ],
            [
             0.6666666666666666,
             "#ed7953"
            ],
            [
             0.7777777777777778,
             "#fb9f3a"
            ],
            [
             0.8888888888888888,
             "#fdca26"
            ],
            [
             1,
             "#f0f921"
            ]
           ]
          },
          "colorway": [
           "#636efa",
           "#EF553B",
           "#00cc96",
           "#ab63fa",
           "#FFA15A",
           "#19d3f3",
           "#FF6692",
           "#B6E880",
           "#FF97FF",
           "#FECB52"
          ],
          "font": {
           "color": "#2a3f5f"
          },
          "geo": {
           "bgcolor": "white",
           "lakecolor": "white",
           "landcolor": "#E5ECF6",
           "showlakes": true,
           "showland": true,
           "subunitcolor": "white"
          },
          "hoverlabel": {
           "align": "left"
          },
          "hovermode": "closest",
          "mapbox": {
           "style": "light"
          },
          "paper_bgcolor": "white",
          "plot_bgcolor": "#E5ECF6",
          "polar": {
           "angularaxis": {
            "gridcolor": "white",
            "linecolor": "white",
            "ticks": ""
           },
           "bgcolor": "#E5ECF6",
           "radialaxis": {
            "gridcolor": "white",
            "linecolor": "white",
            "ticks": ""
           }
          },
          "scene": {
           "xaxis": {
            "backgroundcolor": "#E5ECF6",
            "gridcolor": "white",
            "gridwidth": 2,
            "linecolor": "white",
            "showbackground": true,
            "ticks": "",
            "zerolinecolor": "white"
           },
           "yaxis": {
            "backgroundcolor": "#E5ECF6",
            "gridcolor": "white",
            "gridwidth": 2,
            "linecolor": "white",
            "showbackground": true,
            "ticks": "",
            "zerolinecolor": "white"
           },
           "zaxis": {
            "backgroundcolor": "#E5ECF6",
            "gridcolor": "white",
            "gridwidth": 2,
            "linecolor": "white",
            "showbackground": true,
            "ticks": "",
            "zerolinecolor": "white"
           }
          },
          "shapedefaults": {
           "line": {
            "color": "#2a3f5f"
           }
          },
          "ternary": {
           "aaxis": {
            "gridcolor": "white",
            "linecolor": "white",
            "ticks": ""
           },
           "baxis": {
            "gridcolor": "white",
            "linecolor": "white",
            "ticks": ""
           },
           "bgcolor": "#E5ECF6",
           "caxis": {
            "gridcolor": "white",
            "linecolor": "white",
            "ticks": ""
           }
          },
          "title": {
           "x": 0.05
          },
          "xaxis": {
           "automargin": true,
           "gridcolor": "white",
           "linecolor": "white",
           "ticks": "",
           "title": {
            "standoff": 15
           },
           "zerolinecolor": "white",
           "zerolinewidth": 2
          },
          "yaxis": {
           "automargin": true,
           "gridcolor": "white",
           "linecolor": "white",
           "ticks": "",
           "title": {
            "standoff": 15
           },
           "zerolinecolor": "white",
           "zerolinewidth": 2
          }
         }
        },
        "title": {
         "text": "3. Violin Plot de Puntajes por Macrosector"
        },
        "violinmode": "overlay",
        "xaxis": {
         "anchor": "y",
         "categoryarray": [
          "Comercio",
          "Construcción",
          "Agropecuario",
          "Manufactura",
          "Servicios",
          "Minero"
         ],
         "categoryorder": "array",
         "domain": [
          0,
          1
         ],
         "title": {
          "text": "Macrosector"
         }
        },
        "yaxis": {
         "anchor": "x",
         "domain": [
          0,
          1
         ],
         "title": {
          "text": "Puntaje Total"
         }
        }
       }
      }
     },
     "metadata": {},
     "output_type": "display_data"
    }
   ],
   "source": [
    "# 1. Calcular el puntaje total (suma de valoracionPonderada) para cada empresa.\n",
    "total_scores = raw_data.groupby(['Razón social', 'Macrosector'])['valoracionPonderada'].sum().reset_index()\n",
    "total_scores.rename(columns={'valoracionPonderada': 'puntaje_total'}, inplace=True)\n",
    "\n",
    "# 2. Eliminar Razón social y limpiar Macrosector '0' 'No' 'No informa' 'SI' 'Si'\n",
    "total_scores.drop(columns='Razón social', inplace=True)\n",
    "\n",
    "\n",
    "# 3. Crear un violin plot para cada Macrosector.\n",
    "violin_fig = px.violin(total_scores, y='puntaje_total', x='Macrosector', box=True, points='all',\n",
    "               color='Macrosector', title='3. Violin Plot de Puntajes por Macrosector',\n",
    "               labels={'puntaje_total': 'Puntaje Total', 'Macrosector': 'Macrosector'})\n",
    "violin_fig.update_traces(meanline_visible=True)\n",
    "violin_fig.update_layout(\n",
    "    xaxis_title='Macrosector',\n",
    "    yaxis_title='Puntaje Total'\n",
    ")\n",
    "\n",
    "violin_fig.show()\n",
    "save_chart_as_html(violin_fig, '03_violin_plot_performance.html')"
   ]
  },
  {
   "cell_type": "markdown",
   "metadata": {},
   "source": [
    "## 4. Treemap de Impacto: Sostenibilidad y Peso Económico"
   ]
  },
  {
   "cell_type": "code",
   "execution_count": 84,
   "metadata": {},
   "outputs": [
    {
     "data": {
      "application/vnd.plotly.v1+json": {
       "config": {
        "plotlyServerURL": "https://plot.ly"
       },
       "data": [
        {
         "branchvalues": "total",
         "customdata": [
          [
           "Comercio",
           13.83118268,
           94.11764704100001
          ],
          [
           "Construcción",
           0.7714286919999999,
           64.28571430299999
          ],
          [
           "Construcción",
           1.314259836,
           458.338578141
          ],
          [
           "Agropecuario",
           0.711210393,
           71.42857144
          ],
          [
           "Agropecuario",
           2.423164353,
           61.904761920000006
          ],
          [
           "Agropecuario",
           0.978022115,
           345.238095287
          ],
          [
           "Manufactura",
           2.844632077,
           529.61529669
          ],
          [
           "Manufactura",
           2.176461396,
           434.895037058
          ],
          [
           "Construcción",
           2.186301194,
           406.767876497
          ],
          [
           "Servicios",
           15.10604245,
           351.042262
          ],
          [
           "Manufactura",
           1.8730508,
           292.100050177
          ],
          [
           "Manufactura",
           8.615774351,
           219.64151488000002
          ],
          [
           "Comercio",
           4.512550305,
           94.11764704100001
          ],
          [
           "Minero",
           0.895022779,
           49.99999999
          ],
          [
           "Manufactura",
           1.778557861,
           393.39494148599994
          ],
          [
           "Comercio",
           1.976640973,
           94.11764704100001
          ],
          [
           "Construcción",
           0.7676214209999999,
           277.849757894
          ],
          [
           "Construcción",
           1.189537155,
           187.42544587700002
          ],
          [
           "Construcción",
           1.313282542,
           143.508240402
          ],
          [
           "Construcción",
           0.746126685,
           214.86833004300001
          ],
          [
           "Servicios",
           6.547567046,
           439.643100942
          ],
          [
           "Manufactura",
           1.84479215,
           475.597270052
          ],
          [
           "Comercio",
           4.212866602,
           343.51483131
          ],
          [
           "Servicios",
           9.97773624,
           459.52349856700005
          ],
          [
           "Minero",
           6.047102083,
           305.580603904
          ],
          [
           "Comercio",
           5.868986,
           191.17647055499998
          ],
          [
           "Servicios",
           15.6020998,
           471.325268547
          ],
          [
           "Manufactura",
           5.161404728,
           444.6119261890001
          ],
          [
           "Manufactura",
           2.382092359,
           313.157894711
          ],
          [
           "Manufactura",
           2.192826677,
           519.330330009
          ],
          [
           "Manufactura",
           1.94339097,
           269.906809259
          ],
          [
           "Construcción",
           0.498844856,
           291.106897188
          ],
          [
           "Comercio",
           11.88773162,
           94.11764704100001
          ],
          [
           "Comercio",
           5.511646479,
           386.863051263
          ],
          [
           "Comercio",
           19.43939611,
           391.50026525699997
          ],
          [
           "Comercio",
           3.874476933,
           94.11764704100001
          ],
          [
           "Minero",
           11.49598948,
           553.921547384
          ],
          [
           "Servicios",
           20.57447718,
           435.78809033
          ],
          [
           "Manufactura",
           2.624920215,
           94.7368421
          ],
          [
           "Minero",
           113.9233103,
           519.300468832
          ],
          [
           "Servicios",
           15.78033255,
           508.143034918
          ],
          [
           "Manufactura",
           2.311463709,
           553.345190036
          ],
          [
           "Comercio",
           2.307560639,
           478.4085200459999
          ],
          [
           "Minero",
           4.250244656,
           451.162780087
          ],
          [
           "Servicios",
           3.716639484,
           433.939269179
          ],
          [
           "Servicios",
           2.635568566,
           300.363078102
          ],
          [
           "Manufactura",
           1.212362823,
           329.934210496
          ],
          [
           "Minero",
           2.420367108,
           532.617460772
          ],
          [
           "Minero",
           1.321926,
           365.211694847
          ],
          [
           "Agropecuario",
           0.441609957,
           181.016731063
          ],
          [
           "Manufactura",
           2.485955399,
           78.94736842
          ],
          [
           "Manufactura",
           1.340540112,
           434.31037601500003
          ],
          [
           "Minero",
           2.660692144,
           491.584406934
          ],
          [
           "Agropecuario",
           0.8944884499999999,
           71.42857144
          ],
          [
           "Servicios",
           4.130985568,
           407.19442196299997
          ],
          [
           "Construcción",
           0.7516773829999999,
           57.14285716
          ],
          [
           "Servicios",
           6.13559916,
           270.24010845
          ],
          [
           "Manufactura",
           3.189145272,
           78.94736842
          ],
          [
           "Servicios",
           2.328344538,
           391.53607794
          ],
          [
           "Construcción",
           0.985342945,
           246.715616219
          ],
          [
           "Comercio",
           1.869141753,
           294.823529358
          ],
          [
           "Servicios",
           1.858185367,
           320.446228213
          ],
          [
           "Manufactura",
           2.04446981,
           287.218045094
          ],
          [
           "Servicios",
           5.975161078,
           405.635854921
          ],
          [
           "Comercio",
           7.129192126,
           117.647058801
          ],
          [
           "Manufactura",
           2.273429636,
           78.94736842
          ],
          [
           "Manufactura",
           2.097385142,
           302.631578926
          ],
          [
           "Comercio",
           3.030538337,
           94.11764704100003
          ],
          [
           "Manufactura",
           2.846700531,
           558.954525631
          ],
          [
           "Comercio",
           2.360791615,
           242.66178570299996
          ],
          [
           "Comercio",
           10.52111942,
           481.445293104
          ],
          [
           "Manufactura",
           2.017259547,
           422.247961409
          ],
          [
           "Servicios",
           2.27290385,
           465.531294071
          ],
          [
           "Servicios",
           0.703147014,
           64.70588234099999
          ],
          [
           "Manufactura",
           25.86091451,
           357.369470963
          ],
          [
           "Manufactura",
           2.426039216,
           389.797904081
          ],
          [
           "Manufactura",
           1.697301486,
           453.564280762
          ],
          [
           "Comercio",
           3.188315636,
           368.47058816699996
          ],
          [
           "Minero",
           1.943851598,
           493.199952424
          ],
          [
           "Comercio",
           5.991097107,
           475.103590426
          ],
          [
           "Comercio",
           2.002301595,
           276.470588188
          ],
          [
           "Agropecuario",
           2.156747414,
           85.71428573
          ],
          [
           "Comercio",
           2.869448009,
           94.11764704100003
          ],
          [
           "Comercio",
           3.134365769,
           94.11764704100001
          ],
          [
           "Servicios",
           6.672179102,
           456.231411971
          ],
          [
           "Servicios",
           2.655177809,
           415.63682660999996
          ],
          [
           "Comercio",
           24.75201168,
           496.209399109
          ],
          [
           "Servicios",
           2.956157691,
           336.368050335
          ],
          [
           "Comercio",
           4.02823039,
           383.104683613
          ],
          [
           "Comercio",
           4.87042346,
           258.823529367
          ],
          [
           "Comercio",
           2.046166138,
           333.819854883
          ],
          [
           "Comercio",
           1.928223518,
           94.11764704100001
          ],
          [
           "Minero",
           5.483318686,
           115.38461538
          ],
          [
           "Manufactura",
           1.765339992,
           293.850839165
          ],
          [
           "Manufactura",
           1.831377694,
           178.94731011999997
          ],
          [
           "Comercio",
           16.07768865,
           408.606500241
          ],
          [
           "Comercio",
           169.222093544,
           306.0178903160768
          ],
          [
           "Construcción",
           10.524422709,
           262.0165952995437
          ],
          [
           "Agropecuario",
           7.605242682,
           114.02023185656135
          ],
          [
           "Manufactura",
           88.837588463,
           335.21832401991907
          ],
          [
           "Servicios",
           125.628304493,
           422.08601043375916
          ],
          [
           "Minero",
           150.441824834,
           491.94930182620107
          ],
          [
           "(?)",
           552.259476725,
           384.2856664180117
          ]
         ],
         "domain": {
          "x": [
           0,
           1
          ],
          "y": [
           0,
           1
          ]
         },
         "hovertemplate": "<b>%{label}</b><br><br>Macrosector: %{customdata[0]}<br>Ingresos Operacionales (Tamaño): %{value:,.2f}<br>Puntaje Sostenibilidad (Color): %{color:.2f}<extra></extra>",
         "ids": [
          "Todas las Empresas/Comercio/ARA",
          "Todas las Empresas/Construcción/ARQUITECTURA Y CONCRETO",
          "Todas las Empresas/Construcción/AUTOPISTA RIO MAGDALENA SAS",
          "Todas las Empresas/Agropecuario/AVICOLA EL MADROÑO SA",
          "Todas las Empresas/Agropecuario/AVSA",
          "Todas las Empresas/Agropecuario/Aliar",
          "Todas las Empresas/Manufactura/Alimentos Carnicos (Grupo Nutresa)",
          "Todas las Empresas/Manufactura/Alpina",
          "Todas las Empresas/Construcción/Amarilo",
          "Todas las Empresas/Servicios/Avianca",
          "Todas las Empresas/Manufactura/BEL STAR S.A.",
          "Todas las Empresas/Manufactura/Bavaria (Kopps)",
          "Todas las Empresas/Comercio/Biomax",
          "Todas las Empresas/Minero/C.I Prodeco",
          "Todas las Empresas/Manufactura/CARTON DE COLOMBIA S.A. (Smurfit Kappa)",
          "Todas las Empresas/Comercio/CI Eslop",
          "Todas las Empresas/Construcción/CONCESIONARIA VIAL UNIÓN DEL SUR SAS",
          "Todas las Empresas/Construcción/CONSTRUCCIONES EL CONDOR S.A",
          "Todas las Empresas/Construcción/CONSTRUCTORA CAPITAL BOGOTA SAS",
          "Todas las Empresas/Construcción/CONSTRUCTORA COLPATRIA  SAS",
          "Todas las Empresas/Servicios/Celsia",
          "Todas las Empresas/Manufactura/Cementos Argos",
          "Todas las Empresas/Comercio/Cencosud",
          "Todas las Empresas/Servicios/Cenit",
          "Todas las Empresas/Minero/Cerrejón",
          "Todas las Empresas/Comercio/Chevron",
          "Todas las Empresas/Servicios/Claro",
          "Todas las Empresas/Manufactura/Coca Cola- Femsa",
          "Todas las Empresas/Manufactura/Colgate",
          "Todas las Empresas/Manufactura/Colombina",
          "Todas las Empresas/Manufactura/Compañía Nacional de Chocolates",
          "Todas las Empresas/Construcción/Conconcreto",
          "Todas las Empresas/Comercio/Corbeta",
          "Todas las Empresas/Comercio/Cruz Verde",
          "Todas las Empresas/Comercio/D1",
          "Todas las Empresas/Comercio/Distracom",
          "Todas las Empresas/Minero/Drummond",
          "Todas las Empresas/Servicios/EPM",
          "Todas las Empresas/Manufactura/ES Windows",
          "Todas las Empresas/Minero/Ecopetrol",
          "Todas las Empresas/Servicios/Emgesa",
          "Todas las Empresas/Manufactura/Esenttia",
          "Todas las Empresas/Comercio/Falabella",
          "Todas las Empresas/Minero/Frontera Energy",
          "Todas las Empresas/Servicios/GEB",
          "Todas las Empresas/Servicios/Gases del Caribe",
          "Todas las Empresas/Manufactura/General Motors",
          "Todas las Empresas/Minero/Geopark",
          "Todas las Empresas/Minero/Gran Tierra Energy",
          "Todas las Empresas/Agropecuario/Grupo Bios",
          "Todas las Empresas/Manufactura/Grupo Diana",
          "Todas las Empresas/Manufactura/Haceb",
          "Todas las Empresas/Minero/Hocol",
          "Todas las Empresas/Agropecuario/INCUBADORA SANTANDER S.A. (Huevos Kikes)",
          "Todas las Empresas/Servicios/ISA",
          "Todas las Empresas/Construcción/ISMOCOL SA",
          "Todas las Empresas/Servicios/Isagen",
          "Todas las Empresas/Manufactura/Italcol",
          "Todas las Empresas/Servicios/LATAM",
          "Todas las Empresas/Construcción/MARVAL S.A.S.",
          "Todas las Empresas/Comercio/Mazda",
          "Todas las Empresas/Servicios/Mercado Libre",
          "Todas las Empresas/Manufactura/Nestle",
          "Todas las Empresas/Servicios/Oleoducto Central (Ocensa)",
          "Todas las Empresas/Comercio/Olímpica",
          "Todas las Empresas/Manufactura/POLLOS EL BUCANERO S.A. (Cargill)",
          "Todas las Empresas/Manufactura/Pepsico",
          "Todas las Empresas/Comercio/Petromil",
          "Todas las Empresas/Manufactura/Postobón",
          "Todas las Empresas/Comercio/Pricesmart",
          "Todas las Empresas/Comercio/Primax",
          "Todas las Empresas/Manufactura/Productos Familia (Essity)",
          "Todas las Empresas/Servicios/Promigas",
          "Todas las Empresas/Servicios/Rappi",
          "Todas las Empresas/Manufactura/Reficar",
          "Todas las Empresas/Manufactura/Renault",
          "Todas las Empresas/Manufactura/Riopaila Castilla",
          "Todas las Empresas/Comercio/Samsung",
          "Todas las Empresas/Minero/SierraCol Energy",
          "Todas las Empresas/Comercio/Sodimac (Homecenter)",
          "Todas las Empresas/Comercio/Sucafina",
          "Todas las Empresas/Agropecuario/Sunshine Bouquet",
          "Todas las Empresas/Comercio/Suramerica Comercial (Dollar City)",
          "Todas las Empresas/Comercio/Tecnoquimicas",
          "Todas las Empresas/Servicios/Telefónica",
          "Todas las Empresas/Servicios/Teleperformance",
          "Todas las Empresas/Comercio/Terpel",
          "Todas las Empresas/Servicios/Tigo",
          "Todas las Empresas/Comercio/Toyota",
          "Todas las Empresas/Comercio/Trafigura (Petroleum)",
          "Todas las Empresas/Comercio/Uniban",
          "Todas las Empresas/Comercio/Unilever",
          "Todas las Empresas/Minero/Verano energy",
          "Todas las Empresas/Manufactura/YARA COLOMBIA S.A.",
          "Todas las Empresas/Manufactura/Yamaha",
          "Todas las Empresas/Comercio/Éxito",
          "Todas las Empresas/Comercio",
          "Todas las Empresas/Construcción",
          "Todas las Empresas/Agropecuario",
          "Todas las Empresas/Manufactura",
          "Todas las Empresas/Servicios",
          "Todas las Empresas/Minero",
          "Todas las Empresas"
         ],
         "labels": [
          "ARA",
          "ARQUITECTURA Y CONCRETO",
          "AUTOPISTA RIO MAGDALENA SAS",
          "AVICOLA EL MADROÑO SA",
          "AVSA",
          "Aliar",
          "Alimentos Carnicos (Grupo Nutresa)",
          "Alpina",
          "Amarilo",
          "Avianca",
          "BEL STAR S.A.",
          "Bavaria (Kopps)",
          "Biomax",
          "C.I Prodeco",
          "CARTON DE COLOMBIA S.A. (Smurfit Kappa)",
          "CI Eslop",
          "CONCESIONARIA VIAL UNIÓN DEL SUR SAS",
          "CONSTRUCCIONES EL CONDOR S.A",
          "CONSTRUCTORA CAPITAL BOGOTA SAS",
          "CONSTRUCTORA COLPATRIA  SAS",
          "Celsia",
          "Cementos Argos",
          "Cencosud",
          "Cenit",
          "Cerrejón",
          "Chevron",
          "Claro",
          "Coca Cola- Femsa",
          "Colgate",
          "Colombina",
          "Compañía Nacional de Chocolates",
          "Conconcreto",
          "Corbeta",
          "Cruz Verde",
          "D1",
          "Distracom",
          "Drummond",
          "EPM",
          "ES Windows",
          "Ecopetrol",
          "Emgesa",
          "Esenttia",
          "Falabella",
          "Frontera Energy",
          "GEB",
          "Gases del Caribe",
          "General Motors",
          "Geopark",
          "Gran Tierra Energy",
          "Grupo Bios",
          "Grupo Diana",
          "Haceb",
          "Hocol",
          "INCUBADORA SANTANDER S.A. (Huevos Kikes)",
          "ISA",
          "ISMOCOL SA",
          "Isagen",
          "Italcol",
          "LATAM",
          "MARVAL S.A.S.",
          "Mazda",
          "Mercado Libre",
          "Nestle",
          "Oleoducto Central (Ocensa)",
          "Olímpica",
          "POLLOS EL BUCANERO S.A. (Cargill)",
          "Pepsico",
          "Petromil",
          "Postobón",
          "Pricesmart",
          "Primax",
          "Productos Familia (Essity)",
          "Promigas",
          "Rappi",
          "Reficar",
          "Renault",
          "Riopaila Castilla",
          "Samsung",
          "SierraCol Energy",
          "Sodimac (Homecenter)",
          "Sucafina",
          "Sunshine Bouquet",
          "Suramerica Comercial (Dollar City)",
          "Tecnoquimicas",
          "Telefónica",
          "Teleperformance",
          "Terpel",
          "Tigo",
          "Toyota",
          "Trafigura (Petroleum)",
          "Uniban",
          "Unilever",
          "Verano energy",
          "YARA COLOMBIA S.A.",
          "Yamaha",
          "Éxito",
          "Comercio",
          "Construcción",
          "Agropecuario",
          "Manufactura",
          "Servicios",
          "Minero",
          "Todas las Empresas"
         ],
         "marker": {
          "coloraxis": "coloraxis",
          "colors": {
           "bdata": "PWR0h4eHV0Ca2KQkSRJQQMWr6dBqpXxALbPntm3bUUB5iBQ9z/NOQPPvAD3Pk3VAGcerIOyMgEAXzWASUi57QLaf3ThJbHlA0T3rGq3wdUDJ4jbOmUFyQOuvNkqHdGtAPWR0h4eHV0Bxhur///9IQEHjKa5RlnhAPWR0h4eHV0D3w7ubmF1xQNz9q0CdbWdAEiNggUPwYUA4GhZcydtqQKueNiRKentAhsMKa465fUCCdsG/PHh1QEqMCEBguHxAwrlRJ0oZc0DSzZOlpeVnQIW8ykw0dX1AJJUdc8rJe0BNv5q8hpJzQFdMD4SkOoBA1/FsSoLecEDpZ9PZtTFyQD1kdIeHh1dAtFXXDs8teEA9YiQWAXh4QD1kdIeHh1dA9B88VF9PgUBNGpsEnDx7QDl0xGsor1dAQvczXGc6gEDwb/veScJ/QDNc/vLCSoFASNVQTInmfUCu4Uq/mjJ8QCJfHj8HH3tAvd/7Ks/FckBmfrSG8p50QGzyRY/wpIBAjMkiGmPTdkAyDZUPiaBmQHJKJ6+hvFNANR7XTPcke0Bf0RW7Wbl+QC2z57Zt21FAWEs0WhxzeUCHGbckSZJMQORD9XvX43BAckonr6G8U0CDRnbGk3h4QPMi/FPm1m5Afr4eLS1tckAz1jHAIwd0QIg82hx983FAIas1dixaeUCTOFFpaWldQHJKJ6+hvFNANACB8hrqckA+ZHSHh4dXQLaCVd6id4FADOs1WS1VbkAHbanrHxd+QDTlYab3Y3pADzg2LoAYfUDPWiAtLS1QQIJuYlrpVXZA19MRN8RceEDVqENLB1l8QGQydYeHB3dAYB1QATPTfkCUPW9OqLF9QIHVeoeHR3FAXpZ+27ZtVUA+ZHSHh4dXQD1kdIeHh1dAkfUJ3bODfEDCchlxMPp5QHdP4bJZA39AtoG/iOMFdUAyZLnIrPF3QPgoIS0tLXBAN18nIB7ddEA9ZHSHh4dXQN+o04md2FxATD2HCZ1dckA7ElBdUF5mQMfBmDm0iXlAcCdbR0kgc0DszG75Q2BwQC2RjnpLgVxAvddTQX7zdEDEAXpMYGF6QBGZHFcwv35A0C7zFpIEeEA=",
           "dtype": "f8"
          }
         },
         "name": "",
         "parents": [
          "Todas las Empresas/Comercio",
          "Todas las Empresas/Construcción",
          "Todas las Empresas/Construcción",
          "Todas las Empresas/Agropecuario",
          "Todas las Empresas/Agropecuario",
          "Todas las Empresas/Agropecuario",
          "Todas las Empresas/Manufactura",
          "Todas las Empresas/Manufactura",
          "Todas las Empresas/Construcción",
          "Todas las Empresas/Servicios",
          "Todas las Empresas/Manufactura",
          "Todas las Empresas/Manufactura",
          "Todas las Empresas/Comercio",
          "Todas las Empresas/Minero",
          "Todas las Empresas/Manufactura",
          "Todas las Empresas/Comercio",
          "Todas las Empresas/Construcción",
          "Todas las Empresas/Construcción",
          "Todas las Empresas/Construcción",
          "Todas las Empresas/Construcción",
          "Todas las Empresas/Servicios",
          "Todas las Empresas/Manufactura",
          "Todas las Empresas/Comercio",
          "Todas las Empresas/Servicios",
          "Todas las Empresas/Minero",
          "Todas las Empresas/Comercio",
          "Todas las Empresas/Servicios",
          "Todas las Empresas/Manufactura",
          "Todas las Empresas/Manufactura",
          "Todas las Empresas/Manufactura",
          "Todas las Empresas/Manufactura",
          "Todas las Empresas/Construcción",
          "Todas las Empresas/Comercio",
          "Todas las Empresas/Comercio",
          "Todas las Empresas/Comercio",
          "Todas las Empresas/Comercio",
          "Todas las Empresas/Minero",
          "Todas las Empresas/Servicios",
          "Todas las Empresas/Manufactura",
          "Todas las Empresas/Minero",
          "Todas las Empresas/Servicios",
          "Todas las Empresas/Manufactura",
          "Todas las Empresas/Comercio",
          "Todas las Empresas/Minero",
          "Todas las Empresas/Servicios",
          "Todas las Empresas/Servicios",
          "Todas las Empresas/Manufactura",
          "Todas las Empresas/Minero",
          "Todas las Empresas/Minero",
          "Todas las Empresas/Agropecuario",
          "Todas las Empresas/Manufactura",
          "Todas las Empresas/Manufactura",
          "Todas las Empresas/Minero",
          "Todas las Empresas/Agropecuario",
          "Todas las Empresas/Servicios",
          "Todas las Empresas/Construcción",
          "Todas las Empresas/Servicios",
          "Todas las Empresas/Manufactura",
          "Todas las Empresas/Servicios",
          "Todas las Empresas/Construcción",
          "Todas las Empresas/Comercio",
          "Todas las Empresas/Servicios",
          "Todas las Empresas/Manufactura",
          "Todas las Empresas/Servicios",
          "Todas las Empresas/Comercio",
          "Todas las Empresas/Manufactura",
          "Todas las Empresas/Manufactura",
          "Todas las Empresas/Comercio",
          "Todas las Empresas/Manufactura",
          "Todas las Empresas/Comercio",
          "Todas las Empresas/Comercio",
          "Todas las Empresas/Manufactura",
          "Todas las Empresas/Servicios",
          "Todas las Empresas/Servicios",
          "Todas las Empresas/Manufactura",
          "Todas las Empresas/Manufactura",
          "Todas las Empresas/Manufactura",
          "Todas las Empresas/Comercio",
          "Todas las Empresas/Minero",
          "Todas las Empresas/Comercio",
          "Todas las Empresas/Comercio",
          "Todas las Empresas/Agropecuario",
          "Todas las Empresas/Comercio",
          "Todas las Empresas/Comercio",
          "Todas las Empresas/Servicios",
          "Todas las Empresas/Servicios",
          "Todas las Empresas/Comercio",
          "Todas las Empresas/Servicios",
          "Todas las Empresas/Comercio",
          "Todas las Empresas/Comercio",
          "Todas las Empresas/Comercio",
          "Todas las Empresas/Comercio",
          "Todas las Empresas/Minero",
          "Todas las Empresas/Manufactura",
          "Todas las Empresas/Manufactura",
          "Todas las Empresas/Comercio",
          "Todas las Empresas",
          "Todas las Empresas",
          "Todas las Empresas",
          "Todas las Empresas",
          "Todas las Empresas",
          "Todas las Empresas",
          ""
         ],
         "type": "treemap",
         "values": {
          "bdata": "CTS3xpCpK0D5wGo5i6/oP6kPYVI1B/U/cFRQTDzC5j93vgf+o2IDQHES1gj1S+8/wPBeds7BBkCvnKaXZGkBQGt8+3qLfQFAtnktMks2LkA58psdBPj9P3GFlsZGOyFAix62/NkMEkB0XJ/PBqTsP5KecBb5dPw/d3/vSFKg/z/07VzMWpDoP1ChoRxYCPM/ksMEjjQD9T+/7tcRReDnP9O/a2q1MBpAMK4CxkSE/T+qANiz+dkQQPnTLdiZ9CNA4jtIhzswGEA4ukp313kXQDXby2xGNC9AF7jwR0elFEDlpk9whg4DQEEXfLboigFAE943ISEY/z+jD5P5Eu3fP9oMR8KExidAmaz5De0LFkCLcHJDfHAzQCe7IsPt/g5AJYVHVfL9JkD3ZbzvEJM0QDlGcCvW/wRA1qMVhBd7XEAygny/h48vQOxdYK/gfQJAvFUwWuJ1AkA4E5YiQAARQCRrVnutuw1AWK/q+KQVBUBjvTqP1mXzP49kKW7pXANAqrab4Jsm9T8zyrloVkPcPzQokJU84wNAQ0JAMNpy9T8Lonn2GEkFQJjK7D2mn+w/YDurFCGGEEB6FyS6vQ3oP6JCloHaihhA1narmF6DCUDpPeQZc6ACQIbRg+3th+8/3JHLLgHo/T9su1KUILv9P+rf3PwSWwBAUV4poJDmF0BpSNDwSoQcQHkEg+D7LwJA7wyA3HHHAECJgzXiij4IQOk0ke0KxgZAqMTYtubiAkDFayQq0AolQCxFL/lYIwBAs561NuguAkAqH60qLoDmPxQaseRk3DlAkUScP4doA0C9J12aJSj7P0OQz6CrgQlAV/8aIgQa/z+e5vYo4vYXQHMH2rK2BABAjObGyQRBAUCK0WEoofQGQIN0PFwuEwlAH5Twt0+wGkBtwvXczT0FQF3PY9aDwDhAnU/lADamB0CbNmdt6BwQQBJ8mUlQexNAFyQnWoxeAEBTAlPnANr+P6up9xfr7hVA2l+/JdU+/D+OqWWyUk39PzgFQ2fjEzBAP4TrYxsnZUCU3iAigQwlQFRV1bzEax5A4gWkDJs1VkBaVwwkNmhfQOaS1W0jzmJAln+IaBNCgUA=",
          "dtype": "f8"
         }
        }
       ],
       "layout": {
        "coloraxis": {
         "cmid": 384.2856664180118,
         "colorbar": {
          "title": {
           "text": "Puntaje_Total_Sostenibilidad"
          }
         },
         "colorscale": [
          [
           0,
           "rgb(247,251,255)"
          ],
          [
           0.125,
           "rgb(222,235,247)"
          ],
          [
           0.25,
           "rgb(198,219,239)"
          ],
          [
           0.375,
           "rgb(158,202,225)"
          ],
          [
           0.5,
           "rgb(107,174,214)"
          ],
          [
           0.625,
           "rgb(66,146,198)"
          ],
          [
           0.75,
           "rgb(33,113,181)"
          ],
          [
           0.875,
           "rgb(8,81,156)"
          ],
          [
           1,
           "rgb(8,48,107)"
          ]
         ]
        },
        "font": {
         "color": "black",
         "family": "Arial, sans-serif",
         "size": 14
        },
        "legend": {
         "tracegroupgap": 0
        },
        "margin": {
         "b": 25,
         "l": 25,
         "r": 25,
         "t": 60
        },
        "template": {
         "data": {
          "bar": [
           {
            "error_x": {
             "color": "#2a3f5f"
            },
            "error_y": {
             "color": "#2a3f5f"
            },
            "marker": {
             "line": {
              "color": "#E5ECF6",
              "width": 0.5
             },
             "pattern": {
              "fillmode": "overlay",
              "size": 10,
              "solidity": 0.2
             }
            },
            "type": "bar"
           }
          ],
          "barpolar": [
           {
            "marker": {
             "line": {
              "color": "#E5ECF6",
              "width": 0.5
             },
             "pattern": {
              "fillmode": "overlay",
              "size": 10,
              "solidity": 0.2
             }
            },
            "type": "barpolar"
           }
          ],
          "carpet": [
           {
            "aaxis": {
             "endlinecolor": "#2a3f5f",
             "gridcolor": "white",
             "linecolor": "white",
             "minorgridcolor": "white",
             "startlinecolor": "#2a3f5f"
            },
            "baxis": {
             "endlinecolor": "#2a3f5f",
             "gridcolor": "white",
             "linecolor": "white",
             "minorgridcolor": "white",
             "startlinecolor": "#2a3f5f"
            },
            "type": "carpet"
           }
          ],
          "choropleth": [
           {
            "colorbar": {
             "outlinewidth": 0,
             "ticks": ""
            },
            "type": "choropleth"
           }
          ],
          "contour": [
           {
            "colorbar": {
             "outlinewidth": 0,
             "ticks": ""
            },
            "colorscale": [
             [
              0,
              "#0d0887"
             ],
             [
              0.1111111111111111,
              "#46039f"
             ],
             [
              0.2222222222222222,
              "#7201a8"
             ],
             [
              0.3333333333333333,
              "#9c179e"
             ],
             [
              0.4444444444444444,
              "#bd3786"
             ],
             [
              0.5555555555555556,
              "#d8576b"
             ],
             [
              0.6666666666666666,
              "#ed7953"
             ],
             [
              0.7777777777777778,
              "#fb9f3a"
             ],
             [
              0.8888888888888888,
              "#fdca26"
             ],
             [
              1,
              "#f0f921"
             ]
            ],
            "type": "contour"
           }
          ],
          "contourcarpet": [
           {
            "colorbar": {
             "outlinewidth": 0,
             "ticks": ""
            },
            "type": "contourcarpet"
           }
          ],
          "heatmap": [
           {
            "colorbar": {
             "outlinewidth": 0,
             "ticks": ""
            },
            "colorscale": [
             [
              0,
              "#0d0887"
             ],
             [
              0.1111111111111111,
              "#46039f"
             ],
             [
              0.2222222222222222,
              "#7201a8"
             ],
             [
              0.3333333333333333,
              "#9c179e"
             ],
             [
              0.4444444444444444,
              "#bd3786"
             ],
             [
              0.5555555555555556,
              "#d8576b"
             ],
             [
              0.6666666666666666,
              "#ed7953"
             ],
             [
              0.7777777777777778,
              "#fb9f3a"
             ],
             [
              0.8888888888888888,
              "#fdca26"
             ],
             [
              1,
              "#f0f921"
             ]
            ],
            "type": "heatmap"
           }
          ],
          "histogram": [
           {
            "marker": {
             "pattern": {
              "fillmode": "overlay",
              "size": 10,
              "solidity": 0.2
             }
            },
            "type": "histogram"
           }
          ],
          "histogram2d": [
           {
            "colorbar": {
             "outlinewidth": 0,
             "ticks": ""
            },
            "colorscale": [
             [
              0,
              "#0d0887"
             ],
             [
              0.1111111111111111,
              "#46039f"
             ],
             [
              0.2222222222222222,
              "#7201a8"
             ],
             [
              0.3333333333333333,
              "#9c179e"
             ],
             [
              0.4444444444444444,
              "#bd3786"
             ],
             [
              0.5555555555555556,
              "#d8576b"
             ],
             [
              0.6666666666666666,
              "#ed7953"
             ],
             [
              0.7777777777777778,
              "#fb9f3a"
             ],
             [
              0.8888888888888888,
              "#fdca26"
             ],
             [
              1,
              "#f0f921"
             ]
            ],
            "type": "histogram2d"
           }
          ],
          "histogram2dcontour": [
           {
            "colorbar": {
             "outlinewidth": 0,
             "ticks": ""
            },
            "colorscale": [
             [
              0,
              "#0d0887"
             ],
             [
              0.1111111111111111,
              "#46039f"
             ],
             [
              0.2222222222222222,
              "#7201a8"
             ],
             [
              0.3333333333333333,
              "#9c179e"
             ],
             [
              0.4444444444444444,
              "#bd3786"
             ],
             [
              0.5555555555555556,
              "#d8576b"
             ],
             [
              0.6666666666666666,
              "#ed7953"
             ],
             [
              0.7777777777777778,
              "#fb9f3a"
             ],
             [
              0.8888888888888888,
              "#fdca26"
             ],
             [
              1,
              "#f0f921"
             ]
            ],
            "type": "histogram2dcontour"
           }
          ],
          "mesh3d": [
           {
            "colorbar": {
             "outlinewidth": 0,
             "ticks": ""
            },
            "type": "mesh3d"
           }
          ],
          "parcoords": [
           {
            "line": {
             "colorbar": {
              "outlinewidth": 0,
              "ticks": ""
             }
            },
            "type": "parcoords"
           }
          ],
          "pie": [
           {
            "automargin": true,
            "type": "pie"
           }
          ],
          "scatter": [
           {
            "fillpattern": {
             "fillmode": "overlay",
             "size": 10,
             "solidity": 0.2
            },
            "type": "scatter"
           }
          ],
          "scatter3d": [
           {
            "line": {
             "colorbar": {
              "outlinewidth": 0,
              "ticks": ""
             }
            },
            "marker": {
             "colorbar": {
              "outlinewidth": 0,
              "ticks": ""
             }
            },
            "type": "scatter3d"
           }
          ],
          "scattercarpet": [
           {
            "marker": {
             "colorbar": {
              "outlinewidth": 0,
              "ticks": ""
             }
            },
            "type": "scattercarpet"
           }
          ],
          "scattergeo": [
           {
            "marker": {
             "colorbar": {
              "outlinewidth": 0,
              "ticks": ""
             }
            },
            "type": "scattergeo"
           }
          ],
          "scattergl": [
           {
            "marker": {
             "colorbar": {
              "outlinewidth": 0,
              "ticks": ""
             }
            },
            "type": "scattergl"
           }
          ],
          "scattermap": [
           {
            "marker": {
             "colorbar": {
              "outlinewidth": 0,
              "ticks": ""
             }
            },
            "type": "scattermap"
           }
          ],
          "scattermapbox": [
           {
            "marker": {
             "colorbar": {
              "outlinewidth": 0,
              "ticks": ""
             }
            },
            "type": "scattermapbox"
           }
          ],
          "scatterpolar": [
           {
            "marker": {
             "colorbar": {
              "outlinewidth": 0,
              "ticks": ""
             }
            },
            "type": "scatterpolar"
           }
          ],
          "scatterpolargl": [
           {
            "marker": {
             "colorbar": {
              "outlinewidth": 0,
              "ticks": ""
             }
            },
            "type": "scatterpolargl"
           }
          ],
          "scatterternary": [
           {
            "marker": {
             "colorbar": {
              "outlinewidth": 0,
              "ticks": ""
             }
            },
            "type": "scatterternary"
           }
          ],
          "surface": [
           {
            "colorbar": {
             "outlinewidth": 0,
             "ticks": ""
            },
            "colorscale": [
             [
              0,
              "#0d0887"
             ],
             [
              0.1111111111111111,
              "#46039f"
             ],
             [
              0.2222222222222222,
              "#7201a8"
             ],
             [
              0.3333333333333333,
              "#9c179e"
             ],
             [
              0.4444444444444444,
              "#bd3786"
             ],
             [
              0.5555555555555556,
              "#d8576b"
             ],
             [
              0.6666666666666666,
              "#ed7953"
             ],
             [
              0.7777777777777778,
              "#fb9f3a"
             ],
             [
              0.8888888888888888,
              "#fdca26"
             ],
             [
              1,
              "#f0f921"
             ]
            ],
            "type": "surface"
           }
          ],
          "table": [
           {
            "cells": {
             "fill": {
              "color": "#EBF0F8"
             },
             "line": {
              "color": "white"
             }
            },
            "header": {
             "fill": {
              "color": "#C8D4E3"
             },
             "line": {
              "color": "white"
             }
            },
            "type": "table"
           }
          ]
         },
         "layout": {
          "annotationdefaults": {
           "arrowcolor": "#2a3f5f",
           "arrowhead": 0,
           "arrowwidth": 1
          },
          "autotypenumbers": "strict",
          "coloraxis": {
           "colorbar": {
            "outlinewidth": 0,
            "ticks": ""
           }
          },
          "colorscale": {
           "diverging": [
            [
             0,
             "#8e0152"
            ],
            [
             0.1,
             "#c51b7d"
            ],
            [
             0.2,
             "#de77ae"
            ],
            [
             0.3,
             "#f1b6da"
            ],
            [
             0.4,
             "#fde0ef"
            ],
            [
             0.5,
             "#f7f7f7"
            ],
            [
             0.6,
             "#e6f5d0"
            ],
            [
             0.7,
             "#b8e186"
            ],
            [
             0.8,
             "#7fbc41"
            ],
            [
             0.9,
             "#4d9221"
            ],
            [
             1,
             "#276419"
            ]
           ],
           "sequential": [
            [
             0,
             "#0d0887"
            ],
            [
             0.1111111111111111,
             "#46039f"
            ],
            [
             0.2222222222222222,
             "#7201a8"
            ],
            [
             0.3333333333333333,
             "#9c179e"
            ],
            [
             0.4444444444444444,
             "#bd3786"
            ],
            [
             0.5555555555555556,
             "#d8576b"
            ],
            [
             0.6666666666666666,
             "#ed7953"
            ],
            [
             0.7777777777777778,
             "#fb9f3a"
            ],
            [
             0.8888888888888888,
             "#fdca26"
            ],
            [
             1,
             "#f0f921"
            ]
           ],
           "sequentialminus": [
            [
             0,
             "#0d0887"
            ],
            [
             0.1111111111111111,
             "#46039f"
            ],
            [
             0.2222222222222222,
             "#7201a8"
            ],
            [
             0.3333333333333333,
             "#9c179e"
            ],
            [
             0.4444444444444444,
             "#bd3786"
            ],
            [
             0.5555555555555556,
             "#d8576b"
            ],
            [
             0.6666666666666666,
             "#ed7953"
            ],
            [
             0.7777777777777778,
             "#fb9f3a"
            ],
            [
             0.8888888888888888,
             "#fdca26"
            ],
            [
             1,
             "#f0f921"
            ]
           ]
          },
          "colorway": [
           "#636efa",
           "#EF553B",
           "#00cc96",
           "#ab63fa",
           "#FFA15A",
           "#19d3f3",
           "#FF6692",
           "#B6E880",
           "#FF97FF",
           "#FECB52"
          ],
          "font": {
           "color": "#2a3f5f"
          },
          "geo": {
           "bgcolor": "white",
           "lakecolor": "white",
           "landcolor": "#E5ECF6",
           "showlakes": true,
           "showland": true,
           "subunitcolor": "white"
          },
          "hoverlabel": {
           "align": "left"
          },
          "hovermode": "closest",
          "mapbox": {
           "style": "light"
          },
          "paper_bgcolor": "white",
          "plot_bgcolor": "#E5ECF6",
          "polar": {
           "angularaxis": {
            "gridcolor": "white",
            "linecolor": "white",
            "ticks": ""
           },
           "bgcolor": "#E5ECF6",
           "radialaxis": {
            "gridcolor": "white",
            "linecolor": "white",
            "ticks": ""
           }
          },
          "scene": {
           "xaxis": {
            "backgroundcolor": "#E5ECF6",
            "gridcolor": "white",
            "gridwidth": 2,
            "linecolor": "white",
            "showbackground": true,
            "ticks": "",
            "zerolinecolor": "white"
           },
           "yaxis": {
            "backgroundcolor": "#E5ECF6",
            "gridcolor": "white",
            "gridwidth": 2,
            "linecolor": "white",
            "showbackground": true,
            "ticks": "",
            "zerolinecolor": "white"
           },
           "zaxis": {
            "backgroundcolor": "#E5ECF6",
            "gridcolor": "white",
            "gridwidth": 2,
            "linecolor": "white",
            "showbackground": true,
            "ticks": "",
            "zerolinecolor": "white"
           }
          },
          "shapedefaults": {
           "line": {
            "color": "#2a3f5f"
           }
          },
          "ternary": {
           "aaxis": {
            "gridcolor": "white",
            "linecolor": "white",
            "ticks": ""
           },
           "baxis": {
            "gridcolor": "white",
            "linecolor": "white",
            "ticks": ""
           },
           "bgcolor": "#E5ECF6",
           "caxis": {
            "gridcolor": "white",
            "linecolor": "white",
            "ticks": ""
           }
          },
          "title": {
           "x": 0.05
          },
          "xaxis": {
           "automargin": true,
           "gridcolor": "white",
           "linecolor": "white",
           "ticks": "",
           "title": {
            "standoff": 15
           },
           "zerolinecolor": "white",
           "zerolinewidth": 2
          },
          "yaxis": {
           "automargin": true,
           "gridcolor": "white",
           "linecolor": "white",
           "ticks": "",
           "title": {
            "standoff": 15
           },
           "zerolinecolor": "white",
           "zerolinewidth": 2
          }
         }
        },
        "title": {
         "text": "<b>Treemap de Impacto: Sostenibilidad y Peso Económico</b><br><sup>El tamaño representa los Ingresos Operacionales, el color el Desempeño en Sostenibilidad</sup>",
         "x": 0.5
        }
       }
      }
     },
     "metadata": {},
     "output_type": "display_data"
    }
   ],
   "source": [
    "raw_data['valoracionPonderada'] = pd.to_numeric(raw_data['valoracionPonderada'], errors='coerce').fillna(0)\n",
    "raw_data['Ingresos operacionales'] = pd.to_numeric(raw_data['Ingresos operacionales'], errors='coerce').fillna(0)\n",
    "# 2. Agregación de Datos por Empresa\n",
    "# El dataset original tiene múltiples filas por empresa (una por cada 'Variable').\n",
    "# Necesitamos una única fila por empresa con sus datos agregados.\n",
    "company_agg_data = raw_data.groupby('Razón social').agg(\n",
    "    # Se suma la 'valoracionPonderada' para obtener el puntaje total de sostenibilidad.\n",
    "    Puntaje_Total_Sostenibilidad=('valoracionPonderada', 'sum'),\n",
    "    # Se toma el primer valor de 'Ingresos operacionales' y 'Macrosector',\n",
    "    # ya que estos deberían ser constantes para cada empresa.\n",
    "    Ingresos_Operacionales=('Ingresos operacionales', 'first'),\n",
    "    Macrosector=('Macrosector', 'first')\n",
    ").reset_index()\n",
    "\n",
    "# Para una visualización más efectiva, filtramos empresas con ingresos nulos o negativos.\n",
    "company_agg_data = company_agg_data[company_agg_data['Ingresos_Operacionales'] > 0]\n",
    "\n",
    "# 3. Creación del Gráfico Treemap con Plotly Express\n",
    "# Plotly Express permite crear figuras complejas con una sintaxis sencilla.\n",
    "fig_treemap = px.treemap(\n",
    "    company_agg_data,\n",
    "    # La jerarquía define cómo se anidan los rectángulos.\n",
    "    # Se añade una raíz común (\"Todas las Empresas\") para una mejor navegación.\n",
    "    path=[px.Constant(\"Todas las Empresas\"), 'Macrosector', 'Razón social'],\n",
    "    # El tamaño de cada rectángulo será proporcional a los ingresos.\n",
    "    values='Ingresos_Operacionales',\n",
    "    # El color de cada rectángulo se mapea al puntaje de sostenibilidad.\n",
    "    color='Puntaje_Total_Sostenibilidad',\n",
    "    hover_data={\n",
    "        'Macrosector': True,\n",
    "        'Ingresos_Operacionales': ':.2f', # Formato de dos decimales para el hover\n",
    "        'Puntaje_Total_Sostenibilidad': ':.2f'\n",
    "    },\n",
    "    # Se elige una escala de color intuitiva: Rojo (bajo) -> Amarillo (medio) -> Verde (alto).\n",
    "    color_continuous_scale='blues',\n",
    "    # Se establece el punto medio de la escala de color en el promedio ponderado del puntaje,\n",
    "    # lo que da una mejor representación visual de quién está por encima o por debajo del promedio.\n",
    "    color_continuous_midpoint=np.average(company_agg_data['Puntaje_Total_Sostenibilidad'], weights=company_agg_data['Ingresos_Operacionales'])\n",
    ")\n",
    "\n",
    "# 4. Personalización y Estilo del Gráfico\n",
    "fig_treemap.update_layout(\n",
    "    title_text='<b>Treemap de Impacto: Sostenibilidad y Peso Económico</b><br><sup>El tamaño representa los Ingresos Operacionales, el color el Desempeño en Sostenibilidad</sup>',\n",
    "    title_x=0.5, # Centra el título del gráfico\n",
    "    margin = dict(t=60, l=25, r=25, b=25), # Ajusta los márgenes\n",
    "    font=dict(\n",
    "        family=\"Arial, sans-serif\",\n",
    "        size=14,\n",
    "        color=\"black\"\n",
    "    )\n",
    ")\n",
    "\n",
    "# Se personaliza la información que aparece al pasar el cursor sobre los rectángulos (hover).\n",
    "# Esto mejora la legibilidad y presenta la información de forma clara y concisa.\n",
    "fig_treemap.update_traces(\n",
    "    hovertemplate='<b>%{label}</b><br><br>' +\n",
    "                  'Macrosector: %{customdata[0]}<br>' +\n",
    "                  'Ingresos Operacionales (Tamaño): %{value:,.2f}<br>' +\n",
    "                  'Puntaje Sostenibilidad (Color): %{color:.2f}<extra></extra>' # <extra></extra> oculta información extra de plotly\n",
    ")\n",
    "\n",
    "# Muestra el gráfico interactivo.\n",
    "fig_treemap.show()\n",
    "# Guarda el gráfico como un archivo HTML autocontenido.\n",
    "save_chart_as_html(fig_treemap, '04_treemap_sustainability.html')"
   ]
  },
  {
   "cell_type": "markdown",
   "metadata": {},
   "source": [
    "# **Parte 2: Análisis Relacional y de Composición Jerárquica**"
   ]
  },
  {
   "cell_type": "markdown",
   "metadata": {},
   "source": [
    "## 5. Diagrama de Burbujas: Sostenibilidad vs. Antigüedad Empresarial"
   ]
  },
  {
   "cell_type": "code",
   "execution_count": 85,
   "metadata": {},
   "outputs": [
    {
     "data": {
      "application/vnd.plotly.v1+json": {
       "config": {
        "plotlyServerURL": "https://plot.ly"
       },
       "data": [
        {
         "hovertemplate": "<b>%{hovertext}</b><br><br>Año de Fundación: %{x}<br>Puntaje Sostenibilidad: %{y:.2f}<br>Ingresos Operacionales: %{marker.size:,.0f}<extra></extra>",
         "hovertext": [
          "ARA",
          "Biomax",
          "CI Eslop",
          "Cencosud",
          "Chevron",
          "Corbeta",
          "Cruz Verde",
          "D1",
          "Distracom",
          "Falabella",
          "Mazda",
          "Olímpica",
          "Petromil",
          "Pricesmart",
          "Primax",
          "Samsung",
          "Sodimac (Homecenter)",
          "Sucafina",
          "Suramerica Comercial (Dollar City)",
          "Tecnoquimicas",
          "Terpel",
          "Toyota",
          "Trafigura (Petroleum)",
          "Uniban",
          "Unilever",
          "Éxito"
         ],
         "legendgroup": "Comercio",
         "marker": {
          "color": "#636efa",
          "size": {
           "bdata": "CTS3xpCpK0CLHrb82QwSQHd/70hSoP8/qgDYs/nZEEA4ukp313kXQNoMR8KExidAmaz5De0LFkCLcHJDfHAzQCe7IsPt/g5AvFUwWuJ1AkDckcsuAej9P2lI0PBKhBxAiYM14oo+CECoxNi25uICQMVrJCrQCiVAQ5DPoKuBCUCe5vYo4vYXQHMH2rK2BABAitFhKKH0BkCDdDxcLhMJQF3PY9aDwDhAmzZnbegcEEASfJlJUHsTQBckJ1qMXgBAUwJT5wDa/j84BUNn4xMwQA==",
           "dtype": "f8"
          },
          "sizemode": "area",
          "sizeref": 0.03164536397222222,
          "symbol": "circle"
         },
         "mode": "markers",
         "name": "Comercio",
         "orientation": "v",
         "showlegend": true,
         "type": "scatter",
         "x": {
          "bdata": "3AfUB80HqAdXB5IHwAfZB80HYQeAB6EHxQfJB9UHsQegB7kH2QeOB7AHkQfJB64HiQedBw==",
          "dtype": "i2"
         },
         "xaxis": "x",
         "y": {
          "bdata": "PWR0h4eHV0A9ZHSHh4dXQD1kdIeHh1dAgnbBvzx4dUDTzZOlpeVnQD1kdIeHh1dAtFXXDs8teEA9YiQWAXh4QD1kdIeHh1dASdVQTInmfUB+vh4tLW1yQJM4UWlpaV1APWR0h4eHV0AN6zVZLVVuQAdtqesfF35AZTJ1h4cHd0CUPW9OqLF9QIHVeoeHR3FAPWR0h4eHV0A9ZHSHh4dXQHdP4bJZA39AMmS5yKzxd0D4KCEtLS1wQDdfJyAe3XRAPWR0h4eHV0DHwZg5tIl5QA==",
          "dtype": "f8"
         },
         "yaxis": "y"
        },
        {
         "hovertemplate": "<b>%{hovertext}</b><br><br>Año de Fundación: %{x}<br>Puntaje Sostenibilidad: %{y:.2f}<br>Ingresos Operacionales: %{marker.size:,.0f}<extra></extra>",
         "hovertext": [
          "ARQUITECTURA Y CONCRETO",
          "AUTOPISTA RIO MAGDALENA SAS",
          "Amarilo",
          "CONCESIONARIA VIAL UNIÓN DEL SUR SAS",
          "CONSTRUCCIONES EL CONDOR S.A",
          "CONSTRUCTORA CAPITAL BOGOTA SAS",
          "CONSTRUCTORA COLPATRIA  SAS",
          "Conconcreto",
          "ISMOCOL SA",
          "MARVAL S.A.S."
         ],
         "legendgroup": "Construcción",
         "marker": {
          "color": "#EF553B",
          "size": {
           "bdata": "+cBqOYuv6D+pD2FSNQf1P2t8+3qLfQFA9O1czFqQ6D9QoaEcWAjzP5LDBI40A/U/v+7XEUXg5z+jD5P5Eu3fP3oXJLq9Deg/htGD7e2H7z8=",
           "dtype": "f8"
          },
          "sizemode": "area",
          "sizeref": 0.03164536397222222,
          "symbol": "circle"
         },
         "mode": "markers",
         "name": "Construcción",
         "orientation": "v",
         "showlegend": true,
         "type": "scatter",
         "x": {
          "bdata": "xgfeB8kH3we7B9gHuQepB8UHuAc=",
          "dtype": "i2"
         },
         "xaxis": "x",
         "y": {
          "bdata": "mtikJEkSUEDFq+nQaqV8QLaf3ThJbHlA98O7m5hdcUDc/atAnW1nQBIjYIFD8GFAOBoWXMnbakDpZ9PZtTFyQIcZtyRJkkxA8yL8U+bWbkA=",
          "dtype": "f8"
         },
         "yaxis": "y"
        },
        {
         "hovertemplate": "<b>%{hovertext}</b><br><br>Año de Fundación: %{x}<br>Puntaje Sostenibilidad: %{y:.2f}<br>Ingresos Operacionales: %{marker.size:,.0f}<extra></extra>",
         "hovertext": [
          "AVICOLA EL MADROÑO SA",
          "AVSA",
          "Aliar",
          "Grupo Bios",
          "INCUBADORA SANTANDER S.A. (Huevos Kikes)",
          "Sunshine Bouquet"
         ],
         "legendgroup": "Agropecuario",
         "marker": {
          "color": "#00cc96",
          "size": {
           "bdata": "cFRQTDzC5j93vgf+o2IDQHES1gj1S+8/M8q5aFZD3D+Yyuw9pp/sP4zmxskEQQFA",
           "dtype": "f8"
          },
          "sizemode": "area",
          "sizeref": 0.03164536397222222,
          "symbol": "circle"
         },
         "mode": "markers",
         "name": "Agropecuario",
         "orientation": "v",
         "showlegend": true,
         "type": "scatter",
         "x": {
          "bdata": "wwexB9cHwQeqB7MH",
          "dtype": "i2"
         },
         "xaxis": "x",
         "y": {
          "bdata": "LbPntm3bUUB4iBQ9z/NOQPPvAD3Pk3VAMg2VD4mgZkAts+e2bdtRQF6Wftu2bVVA",
          "dtype": "f8"
         },
         "yaxis": "y"
        },
        {
         "hovertemplate": "<b>%{hovertext}</b><br><br>Año de Fundación: %{x}<br>Puntaje Sostenibilidad: %{y:.2f}<br>Ingresos Operacionales: %{marker.size:,.0f}<extra></extra>",
         "hovertext": [
          "Alimentos Carnicos (Grupo Nutresa)",
          "Alpina",
          "BEL STAR S.A.",
          "Bavaria (Kopps)",
          "CARTON DE COLOMBIA S.A. (Smurfit Kappa)",
          "Cementos Argos",
          "Coca Cola- Femsa",
          "Colgate",
          "Colombina",
          "Compañía Nacional de Chocolates",
          "ES Windows",
          "Esenttia",
          "General Motors",
          "Grupo Diana",
          "Haceb",
          "Italcol",
          "Nestle",
          "POLLOS EL BUCANERO S.A. (Cargill)",
          "Pepsico",
          "Postobón",
          "Productos Familia (Essity)",
          "Reficar",
          "Renault",
          "Riopaila Castilla",
          "YARA COLOMBIA S.A.",
          "Yamaha"
         ],
         "legendgroup": "Manufactura",
         "marker": {
          "color": "#ab63fa",
          "size": {
           "bdata": "wPBeds7BBkCvnKaXZGkBQDnymx0E+P0/cYWWxkY7IUCSnnAW+XT8PzCuAsZEhP0/F7jwR0elFEDlpk9whg4DQEEXfLboigFAE943ISEY/z85RnAr1v8EQOxdYK/gfQJAY706j9Zl8z80KJCVPOMDQENCQDDacvU/1narmF6DCUDq39z8ElsAQHkEg+D7LwJA7wyA3HHHAEDpNJHtCsYGQCxFL/lYIwBAFBqx5GTcOUCRRJw/h2gDQL0nXZolKPs/2l+/JdU+/D+OqWWyUk39Pw==",
           "dtype": "f8"
          },
          "sizemode": "area",
          "sizeref": 0.03164536397222222,
          "symbol": "circle"
         },
         "mode": "markers",
         "name": "Manufactura",
         "orientation": "v",
         "showlegend": true,
         "type": "scatter",
         "x": {
          "bdata": "gAeZB9AHYQeYB44HxwcOB4wHgAfBB8YHdAesB5QHsgdKB8IHrQdwB6YHpAdqB84HyQejBw==",
          "dtype": "i2"
         },
         "xaxis": "x",
         "y": {
          "bdata": "GcerIOyMgEAXzWASUi57QMniNs6ZQXJA6682Sod0a0BC4ymuUZZ4QIbDCmuOuX1AI5Udc8rJe0BNv5q8hpJzQFdMD4SkOoBA1/FsSoLecEA5dMRrKK9XQDNc/vLCSoFAZn60hvKedEBySievobxTQDUe10z3JHtAckonr6G8U0CIPNocffNxQHJKJ6+hvFNANACB8hrqckC2glXeoneBQDTlYab3Y3pAgm5iWulVdkDX0xE3xFx4QNWoQ0sHWXxATD2HCZ1dckA8ElBdUF5mQA==",
          "dtype": "f8"
         },
         "yaxis": "y"
        },
        {
         "hovertemplate": "<b>%{hovertext}</b><br><br>Año de Fundación: %{x}<br>Puntaje Sostenibilidad: %{y:.2f}<br>Ingresos Operacionales: %{marker.size:,.0f}<extra></extra>",
         "hovertext": [
          "Avianca",
          "Celsia",
          "Cenit",
          "Claro",
          "EPM",
          "Emgesa",
          "GEB",
          "Gases del Caribe",
          "ISA",
          "Isagen",
          "LATAM",
          "Mercado Libre",
          "Oleoducto Central (Ocensa)",
          "Promigas",
          "Rappi",
          "Telefónica",
          "Teleperformance",
          "Tigo"
         ],
         "legendgroup": "Servicios",
         "marker": {
          "color": "#FFA15A",
          "size": {
           "bdata": "tnktMks2LkDTv2tqtTAaQPnTLdiZ9CNANdvLbEY0L0D3ZbzvEJM0QDKCfL+Hjy9AJGtWe627DUBYr+r4pBUFQGA7qxQhhhBAokKWgdqKGEDpPeQZc6ACQGy7UpQgu/0/UV4poJDmF0CznrU26C4CQCofrSougOY/H5Twt0+wGkBtwvXczT0FQJ1P5QA2pgdA",
           "dtype": "f8"
          },
          "sizemode": "area",
          "sizeref": 0.03164536397222222,
          "symbol": "circle"
         },
         "mode": "markers",
         "name": "Servicios",
         "orientation": "v",
         "showlegend": true,
         "type": "scatter",
         "x": {
          "bdata": "fwfRB9wH0wejB80HaAeuB68HyweJB9kHyge2B98HhAd2B7sH",
          "dtype": "i2"
         },
         "xaxis": "x",
         "y": {
          "bdata": "0T3rGq3wdUCrnjYkSnp7QEmMCEBguHxAhbzKTDR1fUBNGpsEnDx7QPBv+95Jwn9AIl8ePwcfe0C93/sqz8VyQFhLNFocc3lA5EP1e9fjcECDRnbGk3h4QDPWMcAjB3RAIas1dixaeUAPODYugBh9QM9aIC0tLVBAkfUJ3bODfEDDchlxMPp5QLaBv4jjBXVA",
          "dtype": "f8"
         },
         "yaxis": "y"
        },
        {
         "hovertemplate": "<b>%{hovertext}</b><br><br>Año de Fundación: %{x}<br>Puntaje Sostenibilidad: %{y:.2f}<br>Ingresos Operacionales: %{marker.size:,.0f}<extra></extra>",
         "hovertext": [
          "C.I Prodeco",
          "Cerrejón",
          "Drummond",
          "Ecopetrol",
          "Frontera Energy",
          "Geopark",
          "Gran Tierra Energy",
          "Hocol",
          "SierraCol Energy",
          "Verano energy"
         ],
         "legendgroup": "Minero",
         "marker": {
          "color": "#19d3f3",
          "size": {
           "bdata": "dFyfzwak7D/iO0iHOzAYQCWFR1Xy/SZA1qMVhBd7XEA4E5YiQAARQI9kKW7pXANAqrab4Jsm9T8Lonn2GEkFQFf/GiIEGv8/q6n3F+vuFUA=",
           "dtype": "f8"
          },
          "sizemode": "area",
          "sizeref": 0.03164536397222222,
          "symbol": "circle"
         },
         "mode": "markers",
         "name": "Minero",
         "orientation": "v",
         "showlegend": true,
         "type": "scatter",
         "x": {
          "bdata": "xge4B48HnwfBB9IH0wekB+QH4Ac=",
          "dtype": "i2"
         },
         "xaxis": "x",
         "y": {
          "bdata": "cYbq////SEDCuVEnShlzQPQfPFRfT4FAQvczXGc6gECu4Uq/mjJ8QGzyRY/wpIBAjMkiGmPTdkBf0RW7Wbl+QGAdUAEz035A36jTiZ3YXEA=",
          "dtype": "f8"
         },
         "yaxis": "y"
        }
       ],
       "layout": {
        "font": {
         "color": "black",
         "family": "Arial, sans-serif",
         "size": 14
        },
        "legend": {
         "itemsizing": "constant",
         "title": {
          "text": "Macrosector"
         },
         "tracegroupgap": 0
        },
        "margin": {
         "t": 60
        },
        "template": {
         "data": {
          "bar": [
           {
            "error_x": {
             "color": "#2a3f5f"
            },
            "error_y": {
             "color": "#2a3f5f"
            },
            "marker": {
             "line": {
              "color": "#E5ECF6",
              "width": 0.5
             },
             "pattern": {
              "fillmode": "overlay",
              "size": 10,
              "solidity": 0.2
             }
            },
            "type": "bar"
           }
          ],
          "barpolar": [
           {
            "marker": {
             "line": {
              "color": "#E5ECF6",
              "width": 0.5
             },
             "pattern": {
              "fillmode": "overlay",
              "size": 10,
              "solidity": 0.2
             }
            },
            "type": "barpolar"
           }
          ],
          "carpet": [
           {
            "aaxis": {
             "endlinecolor": "#2a3f5f",
             "gridcolor": "white",
             "linecolor": "white",
             "minorgridcolor": "white",
             "startlinecolor": "#2a3f5f"
            },
            "baxis": {
             "endlinecolor": "#2a3f5f",
             "gridcolor": "white",
             "linecolor": "white",
             "minorgridcolor": "white",
             "startlinecolor": "#2a3f5f"
            },
            "type": "carpet"
           }
          ],
          "choropleth": [
           {
            "colorbar": {
             "outlinewidth": 0,
             "ticks": ""
            },
            "type": "choropleth"
           }
          ],
          "contour": [
           {
            "colorbar": {
             "outlinewidth": 0,
             "ticks": ""
            },
            "colorscale": [
             [
              0,
              "#0d0887"
             ],
             [
              0.1111111111111111,
              "#46039f"
             ],
             [
              0.2222222222222222,
              "#7201a8"
             ],
             [
              0.3333333333333333,
              "#9c179e"
             ],
             [
              0.4444444444444444,
              "#bd3786"
             ],
             [
              0.5555555555555556,
              "#d8576b"
             ],
             [
              0.6666666666666666,
              "#ed7953"
             ],
             [
              0.7777777777777778,
              "#fb9f3a"
             ],
             [
              0.8888888888888888,
              "#fdca26"
             ],
             [
              1,
              "#f0f921"
             ]
            ],
            "type": "contour"
           }
          ],
          "contourcarpet": [
           {
            "colorbar": {
             "outlinewidth": 0,
             "ticks": ""
            },
            "type": "contourcarpet"
           }
          ],
          "heatmap": [
           {
            "colorbar": {
             "outlinewidth": 0,
             "ticks": ""
            },
            "colorscale": [
             [
              0,
              "#0d0887"
             ],
             [
              0.1111111111111111,
              "#46039f"
             ],
             [
              0.2222222222222222,
              "#7201a8"
             ],
             [
              0.3333333333333333,
              "#9c179e"
             ],
             [
              0.4444444444444444,
              "#bd3786"
             ],
             [
              0.5555555555555556,
              "#d8576b"
             ],
             [
              0.6666666666666666,
              "#ed7953"
             ],
             [
              0.7777777777777778,
              "#fb9f3a"
             ],
             [
              0.8888888888888888,
              "#fdca26"
             ],
             [
              1,
              "#f0f921"
             ]
            ],
            "type": "heatmap"
           }
          ],
          "histogram": [
           {
            "marker": {
             "pattern": {
              "fillmode": "overlay",
              "size": 10,
              "solidity": 0.2
             }
            },
            "type": "histogram"
           }
          ],
          "histogram2d": [
           {
            "colorbar": {
             "outlinewidth": 0,
             "ticks": ""
            },
            "colorscale": [
             [
              0,
              "#0d0887"
             ],
             [
              0.1111111111111111,
              "#46039f"
             ],
             [
              0.2222222222222222,
              "#7201a8"
             ],
             [
              0.3333333333333333,
              "#9c179e"
             ],
             [
              0.4444444444444444,
              "#bd3786"
             ],
             [
              0.5555555555555556,
              "#d8576b"
             ],
             [
              0.6666666666666666,
              "#ed7953"
             ],
             [
              0.7777777777777778,
              "#fb9f3a"
             ],
             [
              0.8888888888888888,
              "#fdca26"
             ],
             [
              1,
              "#f0f921"
             ]
            ],
            "type": "histogram2d"
           }
          ],
          "histogram2dcontour": [
           {
            "colorbar": {
             "outlinewidth": 0,
             "ticks": ""
            },
            "colorscale": [
             [
              0,
              "#0d0887"
             ],
             [
              0.1111111111111111,
              "#46039f"
             ],
             [
              0.2222222222222222,
              "#7201a8"
             ],
             [
              0.3333333333333333,
              "#9c179e"
             ],
             [
              0.4444444444444444,
              "#bd3786"
             ],
             [
              0.5555555555555556,
              "#d8576b"
             ],
             [
              0.6666666666666666,
              "#ed7953"
             ],
             [
              0.7777777777777778,
              "#fb9f3a"
             ],
             [
              0.8888888888888888,
              "#fdca26"
             ],
             [
              1,
              "#f0f921"
             ]
            ],
            "type": "histogram2dcontour"
           }
          ],
          "mesh3d": [
           {
            "colorbar": {
             "outlinewidth": 0,
             "ticks": ""
            },
            "type": "mesh3d"
           }
          ],
          "parcoords": [
           {
            "line": {
             "colorbar": {
              "outlinewidth": 0,
              "ticks": ""
             }
            },
            "type": "parcoords"
           }
          ],
          "pie": [
           {
            "automargin": true,
            "type": "pie"
           }
          ],
          "scatter": [
           {
            "fillpattern": {
             "fillmode": "overlay",
             "size": 10,
             "solidity": 0.2
            },
            "type": "scatter"
           }
          ],
          "scatter3d": [
           {
            "line": {
             "colorbar": {
              "outlinewidth": 0,
              "ticks": ""
             }
            },
            "marker": {
             "colorbar": {
              "outlinewidth": 0,
              "ticks": ""
             }
            },
            "type": "scatter3d"
           }
          ],
          "scattercarpet": [
           {
            "marker": {
             "colorbar": {
              "outlinewidth": 0,
              "ticks": ""
             }
            },
            "type": "scattercarpet"
           }
          ],
          "scattergeo": [
           {
            "marker": {
             "colorbar": {
              "outlinewidth": 0,
              "ticks": ""
             }
            },
            "type": "scattergeo"
           }
          ],
          "scattergl": [
           {
            "marker": {
             "colorbar": {
              "outlinewidth": 0,
              "ticks": ""
             }
            },
            "type": "scattergl"
           }
          ],
          "scattermap": [
           {
            "marker": {
             "colorbar": {
              "outlinewidth": 0,
              "ticks": ""
             }
            },
            "type": "scattermap"
           }
          ],
          "scattermapbox": [
           {
            "marker": {
             "colorbar": {
              "outlinewidth": 0,
              "ticks": ""
             }
            },
            "type": "scattermapbox"
           }
          ],
          "scatterpolar": [
           {
            "marker": {
             "colorbar": {
              "outlinewidth": 0,
              "ticks": ""
             }
            },
            "type": "scatterpolar"
           }
          ],
          "scatterpolargl": [
           {
            "marker": {
             "colorbar": {
              "outlinewidth": 0,
              "ticks": ""
             }
            },
            "type": "scatterpolargl"
           }
          ],
          "scatterternary": [
           {
            "marker": {
             "colorbar": {
              "outlinewidth": 0,
              "ticks": ""
             }
            },
            "type": "scatterternary"
           }
          ],
          "surface": [
           {
            "colorbar": {
             "outlinewidth": 0,
             "ticks": ""
            },
            "colorscale": [
             [
              0,
              "#0d0887"
             ],
             [
              0.1111111111111111,
              "#46039f"
             ],
             [
              0.2222222222222222,
              "#7201a8"
             ],
             [
              0.3333333333333333,
              "#9c179e"
             ],
             [
              0.4444444444444444,
              "#bd3786"
             ],
             [
              0.5555555555555556,
              "#d8576b"
             ],
             [
              0.6666666666666666,
              "#ed7953"
             ],
             [
              0.7777777777777778,
              "#fb9f3a"
             ],
             [
              0.8888888888888888,
              "#fdca26"
             ],
             [
              1,
              "#f0f921"
             ]
            ],
            "type": "surface"
           }
          ],
          "table": [
           {
            "cells": {
             "fill": {
              "color": "#EBF0F8"
             },
             "line": {
              "color": "white"
             }
            },
            "header": {
             "fill": {
              "color": "#C8D4E3"
             },
             "line": {
              "color": "white"
             }
            },
            "type": "table"
           }
          ]
         },
         "layout": {
          "annotationdefaults": {
           "arrowcolor": "#2a3f5f",
           "arrowhead": 0,
           "arrowwidth": 1
          },
          "autotypenumbers": "strict",
          "coloraxis": {
           "colorbar": {
            "outlinewidth": 0,
            "ticks": ""
           }
          },
          "colorscale": {
           "diverging": [
            [
             0,
             "#8e0152"
            ],
            [
             0.1,
             "#c51b7d"
            ],
            [
             0.2,
             "#de77ae"
            ],
            [
             0.3,
             "#f1b6da"
            ],
            [
             0.4,
             "#fde0ef"
            ],
            [
             0.5,
             "#f7f7f7"
            ],
            [
             0.6,
             "#e6f5d0"
            ],
            [
             0.7,
             "#b8e186"
            ],
            [
             0.8,
             "#7fbc41"
            ],
            [
             0.9,
             "#4d9221"
            ],
            [
             1,
             "#276419"
            ]
           ],
           "sequential": [
            [
             0,
             "#0d0887"
            ],
            [
             0.1111111111111111,
             "#46039f"
            ],
            [
             0.2222222222222222,
             "#7201a8"
            ],
            [
             0.3333333333333333,
             "#9c179e"
            ],
            [
             0.4444444444444444,
             "#bd3786"
            ],
            [
             0.5555555555555556,
             "#d8576b"
            ],
            [
             0.6666666666666666,
             "#ed7953"
            ],
            [
             0.7777777777777778,
             "#fb9f3a"
            ],
            [
             0.8888888888888888,
             "#fdca26"
            ],
            [
             1,
             "#f0f921"
            ]
           ],
           "sequentialminus": [
            [
             0,
             "#0d0887"
            ],
            [
             0.1111111111111111,
             "#46039f"
            ],
            [
             0.2222222222222222,
             "#7201a8"
            ],
            [
             0.3333333333333333,
             "#9c179e"
            ],
            [
             0.4444444444444444,
             "#bd3786"
            ],
            [
             0.5555555555555556,
             "#d8576b"
            ],
            [
             0.6666666666666666,
             "#ed7953"
            ],
            [
             0.7777777777777778,
             "#fb9f3a"
            ],
            [
             0.8888888888888888,
             "#fdca26"
            ],
            [
             1,
             "#f0f921"
            ]
           ]
          },
          "colorway": [
           "#636efa",
           "#EF553B",
           "#00cc96",
           "#ab63fa",
           "#FFA15A",
           "#19d3f3",
           "#FF6692",
           "#B6E880",
           "#FF97FF",
           "#FECB52"
          ],
          "font": {
           "color": "#2a3f5f"
          },
          "geo": {
           "bgcolor": "white",
           "lakecolor": "white",
           "landcolor": "#E5ECF6",
           "showlakes": true,
           "showland": true,
           "subunitcolor": "white"
          },
          "hoverlabel": {
           "align": "left"
          },
          "hovermode": "closest",
          "mapbox": {
           "style": "light"
          },
          "paper_bgcolor": "white",
          "plot_bgcolor": "#E5ECF6",
          "polar": {
           "angularaxis": {
            "gridcolor": "white",
            "linecolor": "white",
            "ticks": ""
           },
           "bgcolor": "#E5ECF6",
           "radialaxis": {
            "gridcolor": "white",
            "linecolor": "white",
            "ticks": ""
           }
          },
          "scene": {
           "xaxis": {
            "backgroundcolor": "#E5ECF6",
            "gridcolor": "white",
            "gridwidth": 2,
            "linecolor": "white",
            "showbackground": true,
            "ticks": "",
            "zerolinecolor": "white"
           },
           "yaxis": {
            "backgroundcolor": "#E5ECF6",
            "gridcolor": "white",
            "gridwidth": 2,
            "linecolor": "white",
            "showbackground": true,
            "ticks": "",
            "zerolinecolor": "white"
           },
           "zaxis": {
            "backgroundcolor": "#E5ECF6",
            "gridcolor": "white",
            "gridwidth": 2,
            "linecolor": "white",
            "showbackground": true,
            "ticks": "",
            "zerolinecolor": "white"
           }
          },
          "shapedefaults": {
           "line": {
            "color": "#2a3f5f"
           }
          },
          "ternary": {
           "aaxis": {
            "gridcolor": "white",
            "linecolor": "white",
            "ticks": ""
           },
           "baxis": {
            "gridcolor": "white",
            "linecolor": "white",
            "ticks": ""
           },
           "bgcolor": "#E5ECF6",
           "caxis": {
            "gridcolor": "white",
            "linecolor": "white",
            "ticks": ""
           }
          },
          "title": {
           "x": 0.05
          },
          "xaxis": {
           "automargin": true,
           "gridcolor": "white",
           "linecolor": "white",
           "ticks": "",
           "title": {
            "standoff": 15
           },
           "zerolinecolor": "white",
           "zerolinewidth": 2
          },
          "yaxis": {
           "automargin": true,
           "gridcolor": "white",
           "linecolor": "white",
           "ticks": "",
           "title": {
            "standoff": 15
           },
           "zerolinecolor": "white",
           "zerolinewidth": 2
          }
         }
        },
        "title": {
         "text": "<b>Sostenibilidad vs. Antigüedad Empresarial</b><br><sup>El tamaño de la burbuja indica los ingresos operacionales</sup>",
         "x": 0.5
        },
        "xaxis": {
         "anchor": "y",
         "domain": [
          0,
          1
         ],
         "title": {
          "text": "Año de Fundación"
         }
        },
        "yaxis": {
         "anchor": "x",
         "domain": [
          0,
          1
         ],
         "title": {
          "text": "Puntaje Total de Sostenibilidad"
         }
        }
       }
      }
     },
     "metadata": {},
     "output_type": "display_data"
    }
   ],
   "source": [
    "# 1. Preparación y Manejo de Datos\n",
    "# Asegurarse que 'Año de fundación' sea numérico.\n",
    "raw_data['Año de fundación'] = pd.to_numeric(raw_data['Año de fundación'], errors='coerce')\n",
    "\n",
    "# Reutilizamos la agregación anterior y añadimos el año de fundación.\n",
    "# Usamos 'first' ya que el año de fundación es constante por empresa.\n",
    "bubble_chart_data = raw_data.groupby('Razón social').agg(\n",
    "    Puntaje_Total_Sostenibilidad=('valoracionPonderada', 'sum'),\n",
    "    Ingresos_Operacionales=('Ingresos operacionales', 'first'),\n",
    "    Macrosector=('Macrosector', 'first'),\n",
    "    Ano_Fundacion=('Año de fundación', 'first')\n",
    ").reset_index()\n",
    "\n",
    "# Limpieza de datos para el gráfico: eliminar filas sin año de fundación o sin ingresos.\n",
    "bubble_chart_data.dropna(subset=['Ano_Fundacion', 'Ingresos_Operacionales'], inplace=True)\n",
    "bubble_chart_data = bubble_chart_data[bubble_chart_data['Ingresos_Operacionales'] > 0]\n",
    "bubble_chart_data['Ano_Fundacion'] = bubble_chart_data['Ano_Fundacion'].astype(int)\n",
    "\n",
    "# 2. Creación del Gráfico de Burbujas con Plotly Express\n",
    "fig_bubble = px.scatter(\n",
    "    bubble_chart_data,\n",
    "    x=\"Ano_Fundacion\",\n",
    "    y=\"Puntaje_Total_Sostenibilidad\",\n",
    "    size=\"Ingresos_Operacionales\", # El tamaño de la burbuja representa los ingresos\n",
    "    color=\"Macrosector\",          # El color de la burbuja representa el macrosector\n",
    "    hover_name=\"Razón social\",    # Muestra el nombre de la empresa al pasar el cursor\n",
    "    size_max=60,                  # Controla el tamaño máximo de la burbuja más grande\n",
    "    log_x=False                   # Se puede cambiar a True si los años están muy agrupados\n",
    ")\n",
    "\n",
    "# 3. Personalización y Estilo del Gráfico\n",
    "fig_bubble.update_layout(\n",
    "    title='<b>Sostenibilidad vs. Antigüedad Empresarial</b><br><sup>El tamaño de la burbuja indica los ingresos operacionales</sup>',\n",
    "    title_x=0.5,\n",
    "    xaxis_title=\"Año de Fundación\",\n",
    "    yaxis_title=\"Puntaje Total de Sostenibilidad\",\n",
    "    font=dict(\n",
    "        family=\"Arial, sans-serif\",\n",
    "        size=14,\n",
    "        color=\"black\"\n",
    "    ),\n",
    "    legend_title_text='Macrosector'\n",
    ")\n",
    "\n",
    "# Personalización del hover para mostrar la información de forma más clara\n",
    "fig_bubble.update_traces(\n",
    "    hovertemplate='<b>%{hovertext}</b><br><br>' +\n",
    "                  'Año de Fundación: %{x}<br>' +\n",
    "                  'Puntaje Sostenibilidad: %{y:.2f}<br>' +\n",
    "                  'Ingresos Operacionales: %{marker.size:,.0f}<extra></extra>'\n",
    ")\n",
    "\n",
    "fig_bubble.show()\n",
    "save_chart_as_html(fig_bubble, '05_bubble_chart_sustainability_vs_age.html')"
   ]
  },
  {
   "cell_type": "markdown",
   "metadata": {},
   "source": [
    "## 6. Gráfico de Coordenadas Paralelas para Perfiles de Sostenibilidad"
   ]
  },
  {
   "cell_type": "code",
   "execution_count": 86,
   "metadata": {},
   "outputs": [
    {
     "data": {
      "application/vnd.plotly.v1+json": {
       "config": {
        "plotlyServerURL": "https://plot.ly"
       },
       "data": [
        {
         "dimensions": [
          {
           "label": "Acción Climática y Energía",
           "values": {
            "bdata": "iLtheHh4SkAlU4nbtm1FQD0h1kNdQFlApmoWwzAMM0CmahbDMAwzQBoleNu2bVVAwq4/7KmEZUDFa2ZG4lpoQB1Lq2OtZFNAFEcb0L0WUEC73su3nVBaQE2qbA7GX1pAJN3HuP8rV0BeLn8RNkBgQIi7YXh4eEpAAAAAAAAAAADHizuU11BaQIi7YXh4eEpAf8ycaDZTS0AAAAAAAAAAABC1HtKw4DxAhxm3JEmSLECQ8rkxYhxXQMeLO5TXUFpAiLtheHh4SkCelZiNjBJYQN+o04md2DxATKbL4eHhTkCcEEcSdUdYQOl4s6OE92JAx4s7lNdQWkD6xZVIfJplQAAxz2sor1dALXmuguc7VkCIu2F4eHhKQE/+PWTpZGBA2Fh9BhibU0ACP9PgMHBUQIi7YXh4eEpAPnDftKqzW0CqEyv+yk1UQFZBFOU1lE9AZLeFndgJWEDOCjAfFRNZQGhrba/f1mVAc8i8RMumY0D3DBtEf1VhQLoyhyhPBVdAaY74ithbVUAAMc9rKK9XQDiV82IEs2FAL3Oyu51gW0CmahbDMAwzQFZBFOU1lE9AysXWO1W7Y0AicQttu+RhQKZqFsMwDDNADDpjkGLaXEAlU4nbtm1FQGc2g1CiHFBAVkEU5TWUT0ArxYZVWWVNQIcZtyRJkkxARhz8Dg8PVkArz4G6SIZXQHJ79hrKa1JAPzDLx0PwWECIu2F4eHhKQFZBFOU1lE9AjuanvIbyXECIu2F4eHhKQIDbbt14x2hA6sHuhRNyWkAl1bbiFO1kQFZBFOU1lF9AJ6JDBjCmWEAEfZalpaVBQMeLO5TXUEpA6mUtaE4QYUCWS9umNeRlQEYc/A4PD1ZAnYL8bOTzZEB+oArvmhBgQGdyS1pa2lNApmoWwzAMM0CIu2F4eHhKQIi7YXh4eEpA9WWwfJLkVUAJ6NzyE+lYQB+vQvVvNFtAaNjCCC7kVkB2a/w2InRhQEymy+Hh4U5A3ejndkRhXkCIu2F4eHhKQD6K7OM+ClBA36jTiZ3YTEBWQRTlNZRfQFZBFOU1lE9AHA+VykSuXkA=",
            "dtype": "f8"
           }
          },
          {
           "label": "Capital Humano: Bienestar y Desarrollo",
           "values": {
            "bdata": "BX2WpaWlQUAAAAAAAAAAAIhI0fM8z1dAhxm3JEmSPECHGbckSZIsQCVTidu2bUVAOdZiQ3kNRUA51mJDeQ1FQDNAWHy5XlJAi4ujcpN/R0A51mJDeQ01QFtRc4eHh0dA+LFoi0IYQ0AAAAAAAAAAAAV9lqWlpUFA6sU3sRM7M0DvSigDG/FOQAV9lqWlpUFAiEjR8zzPN0CISNHzPM9HQAAAAAAAAAAAiEjR8zzPR0A3cAyjDm1DQMkXWdeNCVRA3VclXsyaS0C5kjH/Z9BGQOrFN7ETO0NAiLtheHh4SkCgbn+yUlFGQDnWYkN5DUVAOdZiQ3kNRUCoieNl8jRRQDnWYkN5DUVAiEjR8zzPN0AFfZalpaVBQIi7YXh4eEpABX2WpaWlQUAEfZalpaVBQAV9lqWlpUFAHodFNfqIV0AEfZalpaVBQAAAAAAAAAAAWi/cclu2UUDvNrG4JghIQLa2thFL1FRAUl82BD6oTUDfqNOJndhMQAR9lqWlpUFApRFeexniOkA51mJDeQ1FQJiziHJzLFBA6sU3sRM7Q0CHGbckSZI8QAAAAAAAAAAAx4PrWemXUEAOTiOxzXBXQIcZtyRJkjxAubNlry10RkAAAAAAAAAAAAR9lqWlpUFAAAAAAAAAAAAEfZalpaVBQIhI0fM8zzdABX2WpaWlMUAEfZalpaVBQDnWYkN5DUVABH2WpaWlQUAFfZalpaVBQAAAAAAAAAAAOdZiQ3kNRUAFfZalpaVBQDnWYkN5DUVABX2WpaWlMUCIu2F4eHhKQDnWYkN5DUVAcvRMvRsyQ0BbUXOHh4c3QKpxobjE6lNASPEV0BBMTUC73HlFJF9QQIi7YXh4eEpA36jTiZ3YTEDN5BB7pQRNQAV9lqWlpUFAhxm3JEmSPEAFfZalpaVBQAV9lqWlpUFAVOI6xlUyQ0AEfZalpaVBQFMID5NDP1BAgrJC9BhzR0BGHPwODw9WQIi7YXh4eEpABX2WpaWlQUAFfZalpaVBQAR9lqWlpUFA6sU3sRM7Q0AN+16/N4IRQDnWYkN5DUVAiLtheHh4SkA=",
            "dtype": "f8"
           }
          },
          {
           "label": "Diversidad, Equidad e Inclusión (DEI)",
           "values": {
            "bdata": "AAAAAAAAAAAAAAAAAAAAAG9DfawPjTdAAAAAAAAAAAAAAAAAAAAAAIcZtyRJkjxAlnDwnuZUTEABw0Mv29knQNic60r3BkdAKOUqIDFhSEA4TunkNZQ/QHccYmPO9VlAjlxQQl0nPUCQrU20wuYvQAAAAAAAAAAAAAAAAAAAAAAPhjI7KPw0QAAAAAAAAAAAoNMNwzAMI0Afu1ciWjsrQAAAAAAAAAAAhxm3JEmSPEAm/6LqSIxQQApRGVp4NTlAr+L5sW71W0DkiTSyKrBYQNJDTg6IDC9AW1Fzh4eHN0CckH1gjH9YQKSrKOkXmkFAUKoL5TWUH0Dg9voW+r1FQC4pTiAyzTtAQcSWtmlGMEAAAAAAAAAAAAR9lqWlpUFApC8p44QBVkAML3zVjqpXQAAAAAAAAAAAKORN9Zn2L0DvMSN/enFYQAAAAAAAAAAANCo2B0SGTkDUNy64hmVSQKENtpQwgFFA1I92cZVNW0COaGgndmI0QJMI1jZ62VFA/e/cCWN1MUCZH62hvMYwQO7rmnJA5ERAqXqUckBkLEAZ+/W3wmlLQAAAAAAAAAAAgbqfWMmfMUAIMTIpB8Q1QAAAAAAAAAAAoju7js40J0AAAAAAAAAAAEX5A5cnzdE/AAAAAAAAAADWPyU6TSNMQHQ0eZC/ZidAl2YJHh4ePkAAAAAAAAAAANyL+Obom0JA1JURDw8PRkAAAAAAAAAAAAAAAAAAAAAAUKoL5TWUH0AAAAAAAAAAAJwoXYgCikJAsiVQaWlpKUAyWC+O4zgmQPQYeP0oSEhAfhIZAhLoUkAAAAAAAAAAALP2SX7cD0FAOE7p5DWUP0Bic55JTJYrQFtRc4eHh0NAjPfC6KILQUDOigu0eW5TQIfImqWlpTFAAAAAAAAAAAAAAAAAAAAAAAAAAAAAAAAArPT+MoTyVkBvddj7TxBVQB/54/Pzc1ZA9PDDE4qFPUDIEMhxHMdBQAAAAAAAAAAAbE1dc3NzM0AAAAAAAAAAAD93A36t5EJAAAAAAAAAAAA4TunkNZQvQAAAAAAAAAAAbkAZHS8LU0A=",
            "dtype": "f8"
           }
          },
          {
           "label": "Gestión de Recursos Naturales y Circularidad",
           "values": {
            "bdata": "Z3+Eh4eHF0CHGbckSZIsQIgWXwhHwVNAiEjR8zzPN0AAAAAAAAAAAMCLxvM8z1dACU92oH+QXUAF6BoNcJBZQEzUHGoFW1VAKDmcA4iWREAK6MoPeKFLQFhWXTEqLUBARIEvZnqWNEBEfPrkNZQ/QGd/hIeHhxdAAAAAAAAAAADj0BGvobxTQGd/hIeHhxdAy1jARoq9UUCHGbckSZI8QMb8B1HxAjFArDMhWunFOkCfh3rE34ZHQA/0Dr908F5AAAAAAAAAAAD0ucHtHB5DQM7BVK/SdFVAjV+jpaWlMUB6OLbbBHA6QKr6rmsor1dAPuXx5DWUT0Alv8wXfqVXQLCRt2sor0dAiHUkQwBISkBnf4SHh4cXQJMP4WI8TDpA1LTuk+GIM0BRpOSdj5ZEQGd/hIeHhxdAdANoCMWVXECsQwikUdc4QDhO6eQ1lC9AUoGTbeCJXEAmza9+HR5DQBw8dsSfrldAu7MEhh1gMUBy5eQs6SpfQMfZfnbjdkdAG+xf7wSHN0CIi2IN5bVVQM39WRwj1FxAnqIgAY7WV0AAAAAAAAAAADhO6eQ1lC9AKiaSj62zVUC+THdLEJ1gQIhI0fM8zzdAusSvXbyiQUCHGbckSZIsQByBQLOgpUFAOE7p5DWUL0DEElj+UZZEQCiHF5AyFEVAEKunpaWlMUA8FZaWlpY0QGYcFq+hvENAdP43QPoORkBnf4SHh4cXQDhO6eQ1lC9AZhwWr6G8U0Bnf4SHh4cXQE+KPVFliVtAcm4dYAkbGkA/6DRmbXQ6QHEkTCivoVtAR3pEkZ2lQUBnf4SHh4cXQMpzA1mdnFFArNpZ5+S5U0DJToR87HhXQMTqaWlpaT1AkwYXKGLEYECGPIIbKS49QBY1d3h4eDpAiEjR8zzPN0Bnf4SHh4cXQGd/hIeHhxdAe+bB6kOlQUA338VRcng6QGLEnnMAa0NAzM0tMIilMUBnf4SHh4cXQBY1d3h4eDpAga/o1uufNkBnf4SHh4cXQDaG/t6tpDFA6sU3sRM7M0Bue1CKNZRPQHCp9xIylD9Aw5AMoRlbO0A=",
            "dtype": "f8"
           }
          },
          {
           "label": "Impacto Económico, Social y Comunitario",
           "values": {
            "bdata": "AAAAAAAAAABvvZQkSZIcQJrYpCRJElBAAAAAAAAAAACHGbckSZIsQCC8gNu2bTVAtkHKqEJSU0D1J1TkDjNCQAwuEQAAAD1A5ITCzc0NQEBVQRTlNZQvQFDrifCnpVFA8QyHlpaWREA51mJDeQ0lQAAAAAAAAAAA+EadTuzELkAAMc9rKK9HQAAAAAAAAAAALbPntm1bRUAfvIDbtm01QB+8gNu2bTVAILyA27ZtNUA69D7XHF1TQKei3ne/Ik9ANXFUaWlpPUD2pMDAO3xPQBjsyImd2FJAW1Fzh4eHJ0DSWL7YwgpNQHusEagb8URAVUEU5TWUL0BFgx6uOFROQDnWYkN5DSVAhxm3JEmSLEAAAAAAAAAAAFtRc4eHhzdAIt6nm+VJSkAw54SWlpZUQAAAAAAAAAAA+v3D31S3YUBeu9XvGcFTQAAAAAAAAAAAjPDsrvAKWUANHAXFpTlZQOdyRj420UlA8QyHlpaWRECU6vujQRpIQAR9lqWlpVFANXFUaWlpPUDHizuU11A6QDr19TqxE1dAW0wisRM7U0ByJO62bdtBQAAAAAAAAAAAIVspEx0/RUDelyaxEztDQAAAAAAAAAAASOFjeHh4SkAAAAAAAAAAAAoHZnh4WEdAAAAAAAAAAABI4WN4eHhKQHIk7rZt20FAW1Fzh4eHN0ABWrPIyGhKQFZBFOU1lD9Az1ogLS0tUEAAAAAAAAAAAAAAAAAAAAAAOdZiQ3kNJUAAAAAAAAAAABIEn1FgHFdAZ3+Eh4eHF0BI4WN4eHhaQFZBFOU1lD9ANpVZRR6kUUAAAAAAAAAAAOOEID+PxkRAOdZiQ3kNNUA51mJDeQ1FQPEMh5aWlkRA3N7+9FAPQ0CbBsZzVv9PQFtRc4eHhzdAAAAAAAAAAAAAAAAAAAAAAAAAAAAAAAAAbnBAUFAQTEDmPPEJCipKQGcFMKzVBlNAWZlES0uLQEB874O0Ra8zQFtRc4eHhzdAywnLuQNoREAAAAAAAAAAAO1/1rXj3UlAAAAAAAAAAAA51mJDeQ01QDnWYkN5DSVAh8iapaWlQUA=",
            "dtype": "f8"
           }
          },
          {
           "label": "Transparencia y Gobierno de la Sostenibilidad",
           "values": {
            "bdata": "AAAAAAAAAAAAAAAAAAAAAFAF3PM8z1dAAAAAAAAAAACHGbckSZIsQPRv8rZt21FAOE7p5DWUT0Cq+q5rKK9HQFAF3PM8z1dA0Bh7aWlpXUA4TunkNZRPQILv7OHhYWJAgu/s4eFhYkA4TunkNZQ/QAAAAAAAAAAA+EadTuzELkDj0BGvobxTQAAAAAAAAAAApmoWwzAMU0CmahbDMAxTQKZqFsMwDFNApmoWwzAMU0DQGHtpaWldQOPQEa+hvFNAW1Fzh4eHV0DQGHtpaWldQPhGnU7sxE5AW1Fzh4eHN0CC7+zh4WFiQOPQEa+hvFNA49ARr6G8U0Dj0BGvobxTQKr6rmsor0dAUAXc8zzPV0AAAAAAAAAAALIlUGlpaV1AsiVQaWlpXUCC7+zh4WFiQAAAAAAAAAAAW0wisRM7U0DQGHtpaWldQDhO6eQ1lC9AW0wisRM7U0CC7+zh4WFiQOPQEa+hvFNAW1Fzh4eHV0D4Rp1O7MROQNAYe2lpaV1A0Bh7aWlpXUA4TunkNZRPQFtMIrETO1NA+EadTuzEPkAlU4nbtm1FQAAAAAAAAAAAOE7p5DWUT0D4Rp1O7MROQAAAAAAAAAAAgu/s4eFhYkAAAAAAAAAAAJxSHA8PD1ZAAAAAAAAAAACC7+zh4WFiQKZqFsMwDFNAsiVQaWlpXUDQGHtpaWldQDhO6eQ1lE9A0Bh7aWlpXUBbUXOHh4c3QAAAAAAAAAAAqvquayivR0AAAAAAAAAAAOPQEa+hvFNAW1Fzh4eHV0CyJVBpaWldQDhO6eQ1lE9Agu/s4eFhYkAAAAAAAAAAAOPQEa+hvFNAOE7p5DWUT0A4TunkNZRPQLIlUGlpaV1A+EadTuzETkCyJVBpaWldQFtRc4eHh1dAhxm3JEmSLEAAAAAAAAAAAAAAAAAAAAAAgu/s4eFhYkDQGHtpaWldQLIlUGlpaV1A0Bh7aWlpXUBbUXOHh4dXQFtRc4eHh1dAW1Fzh4eHV0AAAAAAAAAAAILv7OHhYWJAAAAAAAAAAAA4TunkNZRPQDhO6eQ1lD9AW1Fzh4eHV0A=",
            "dtype": "f8"
           }
          }
         ],
         "domain": {
          "x": [
           0,
           1
          ],
          "y": [
           0,
           1
          ]
         },
         "line": {
          "color": {
           "bdata": "PWR0h4eHV0Ca2KQkSRJQQMWr6dBqpXxALbPntm3bUUB4iBQ9z/NOQPPvAD3Pk3VAGcerIOyMgEAXzWASUi57QLaf3ThJbHlA0T3rGq3wdUDJ4jbOmUFyQAAAAAAAAPh/AAAAAAAA+H/rrzZKh3RrQD1kdIeHh1dAcYbq////SEBC4ymuUZZ4QD1kdIeHh1dA98O7m5hdcUDc/atAnW1nQBIjYIFD8GFAOBoWXMnbakCrnjYkSnp7QIbDCmuOuX1AgnbBvzx4dUBJjAhAYLh8QMK5USdKGXNA082TpaXlZ0CFvMpMNHV9QCOVHXPKyXtATb+avIaSc0BXTA+EpDqAQNfxbEqC3nBA6WfT2bUxckA9ZHSHh4dXQLRV1w7PLXhAPWIkFgF4eEAAAAAAAAD4fz1kdIeHh1dA9B88VF9PgUBNGpsEnDx7QDl0xGsor1dAQvczXGc6gEDwb/veScJ/QDNc/vLCSoFASdVQTInmfUCu4Uq/mjJ8QCJfHj8HH3tAvd/7Ks/FckBmfrSG8p50QGzyRY/wpIBAjMkiGmPTdkAyDZUPiaBmQHJKJ6+hvFNANR7XTPcke0Bf0RW7Wbl+QC2z57Zt21FAWEs0WhxzeUCHGbckSZJMQORD9XvX43BAckonr6G8U0CDRnbGk3h4QPMi/FPm1m5Afr4eLS1tckAz1jHAIwd0QIg82hx983FAIas1dixaeUCTOFFpaWldQHJKJ6+hvFNANACB8hrqckA9ZHSHh4dXQLaCVd6id4FADes1WS1VbkAHbanrHxd+QDTlYab3Y3pADzg2LoAYfUDPWiAtLS1QQIJuYlrpVXZA19MRN8RceEDVqENLB1l8QGUydYeHB3dAYB1QATPTfkCUPW9OqLF9QIHVeoeHR3FAXpZ+27ZtVUA9ZHSHh4dXQD1kdIeHh1dAkfUJ3bODfEDDchlxMPp5QHdP4bJZA39AtoG/iOMFdUAyZLnIrPF3QPgoIS0tLXBAN18nIB7ddEA9ZHSHh4dXQAAAAAAAAPh/36jTiZ3YXEBMPYcJnV1yQDwSUF1QXmZAx8GYObSJeUA=",
           "dtype": "f8"
          },
          "coloraxis": "coloraxis"
         },
         "name": "",
         "type": "parcoords"
        }
       ],
       "layout": {
        "coloraxis": {
         "colorbar": {
          "title": {
           "text": "Puntaje_Total_Sostenibilidad"
          }
         },
         "colorscale": [
          [
           0,
           "rgb(247,251,255)"
          ],
          [
           0.125,
           "rgb(222,235,247)"
          ],
          [
           0.25,
           "rgb(198,219,239)"
          ],
          [
           0.375,
           "rgb(158,202,225)"
          ],
          [
           0.5,
           "rgb(107,174,214)"
          ],
          [
           0.625,
           "rgb(66,146,198)"
          ],
          [
           0.75,
           "rgb(33,113,181)"
          ],
          [
           0.875,
           "rgb(8,81,156)"
          ],
          [
           1,
           "rgb(8,48,107)"
          ]
         ]
        },
        "font": {
         "color": "black",
         "family": "Arial, sans-serif",
         "size": 12
        },
        "legend": {
         "tracegroupgap": 0
        },
        "template": {
         "data": {
          "bar": [
           {
            "error_x": {
             "color": "#2a3f5f"
            },
            "error_y": {
             "color": "#2a3f5f"
            },
            "marker": {
             "line": {
              "color": "#E5ECF6",
              "width": 0.5
             },
             "pattern": {
              "fillmode": "overlay",
              "size": 10,
              "solidity": 0.2
             }
            },
            "type": "bar"
           }
          ],
          "barpolar": [
           {
            "marker": {
             "line": {
              "color": "#E5ECF6",
              "width": 0.5
             },
             "pattern": {
              "fillmode": "overlay",
              "size": 10,
              "solidity": 0.2
             }
            },
            "type": "barpolar"
           }
          ],
          "carpet": [
           {
            "aaxis": {
             "endlinecolor": "#2a3f5f",
             "gridcolor": "white",
             "linecolor": "white",
             "minorgridcolor": "white",
             "startlinecolor": "#2a3f5f"
            },
            "baxis": {
             "endlinecolor": "#2a3f5f",
             "gridcolor": "white",
             "linecolor": "white",
             "minorgridcolor": "white",
             "startlinecolor": "#2a3f5f"
            },
            "type": "carpet"
           }
          ],
          "choropleth": [
           {
            "colorbar": {
             "outlinewidth": 0,
             "ticks": ""
            },
            "type": "choropleth"
           }
          ],
          "contour": [
           {
            "colorbar": {
             "outlinewidth": 0,
             "ticks": ""
            },
            "colorscale": [
             [
              0,
              "#0d0887"
             ],
             [
              0.1111111111111111,
              "#46039f"
             ],
             [
              0.2222222222222222,
              "#7201a8"
             ],
             [
              0.3333333333333333,
              "#9c179e"
             ],
             [
              0.4444444444444444,
              "#bd3786"
             ],
             [
              0.5555555555555556,
              "#d8576b"
             ],
             [
              0.6666666666666666,
              "#ed7953"
             ],
             [
              0.7777777777777778,
              "#fb9f3a"
             ],
             [
              0.8888888888888888,
              "#fdca26"
             ],
             [
              1,
              "#f0f921"
             ]
            ],
            "type": "contour"
           }
          ],
          "contourcarpet": [
           {
            "colorbar": {
             "outlinewidth": 0,
             "ticks": ""
            },
            "type": "contourcarpet"
           }
          ],
          "heatmap": [
           {
            "colorbar": {
             "outlinewidth": 0,
             "ticks": ""
            },
            "colorscale": [
             [
              0,
              "#0d0887"
             ],
             [
              0.1111111111111111,
              "#46039f"
             ],
             [
              0.2222222222222222,
              "#7201a8"
             ],
             [
              0.3333333333333333,
              "#9c179e"
             ],
             [
              0.4444444444444444,
              "#bd3786"
             ],
             [
              0.5555555555555556,
              "#d8576b"
             ],
             [
              0.6666666666666666,
              "#ed7953"
             ],
             [
              0.7777777777777778,
              "#fb9f3a"
             ],
             [
              0.8888888888888888,
              "#fdca26"
             ],
             [
              1,
              "#f0f921"
             ]
            ],
            "type": "heatmap"
           }
          ],
          "histogram": [
           {
            "marker": {
             "pattern": {
              "fillmode": "overlay",
              "size": 10,
              "solidity": 0.2
             }
            },
            "type": "histogram"
           }
          ],
          "histogram2d": [
           {
            "colorbar": {
             "outlinewidth": 0,
             "ticks": ""
            },
            "colorscale": [
             [
              0,
              "#0d0887"
             ],
             [
              0.1111111111111111,
              "#46039f"
             ],
             [
              0.2222222222222222,
              "#7201a8"
             ],
             [
              0.3333333333333333,
              "#9c179e"
             ],
             [
              0.4444444444444444,
              "#bd3786"
             ],
             [
              0.5555555555555556,
              "#d8576b"
             ],
             [
              0.6666666666666666,
              "#ed7953"
             ],
             [
              0.7777777777777778,
              "#fb9f3a"
             ],
             [
              0.8888888888888888,
              "#fdca26"
             ],
             [
              1,
              "#f0f921"
             ]
            ],
            "type": "histogram2d"
           }
          ],
          "histogram2dcontour": [
           {
            "colorbar": {
             "outlinewidth": 0,
             "ticks": ""
            },
            "colorscale": [
             [
              0,
              "#0d0887"
             ],
             [
              0.1111111111111111,
              "#46039f"
             ],
             [
              0.2222222222222222,
              "#7201a8"
             ],
             [
              0.3333333333333333,
              "#9c179e"
             ],
             [
              0.4444444444444444,
              "#bd3786"
             ],
             [
              0.5555555555555556,
              "#d8576b"
             ],
             [
              0.6666666666666666,
              "#ed7953"
             ],
             [
              0.7777777777777778,
              "#fb9f3a"
             ],
             [
              0.8888888888888888,
              "#fdca26"
             ],
             [
              1,
              "#f0f921"
             ]
            ],
            "type": "histogram2dcontour"
           }
          ],
          "mesh3d": [
           {
            "colorbar": {
             "outlinewidth": 0,
             "ticks": ""
            },
            "type": "mesh3d"
           }
          ],
          "parcoords": [
           {
            "line": {
             "colorbar": {
              "outlinewidth": 0,
              "ticks": ""
             }
            },
            "type": "parcoords"
           }
          ],
          "pie": [
           {
            "automargin": true,
            "type": "pie"
           }
          ],
          "scatter": [
           {
            "fillpattern": {
             "fillmode": "overlay",
             "size": 10,
             "solidity": 0.2
            },
            "type": "scatter"
           }
          ],
          "scatter3d": [
           {
            "line": {
             "colorbar": {
              "outlinewidth": 0,
              "ticks": ""
             }
            },
            "marker": {
             "colorbar": {
              "outlinewidth": 0,
              "ticks": ""
             }
            },
            "type": "scatter3d"
           }
          ],
          "scattercarpet": [
           {
            "marker": {
             "colorbar": {
              "outlinewidth": 0,
              "ticks": ""
             }
            },
            "type": "scattercarpet"
           }
          ],
          "scattergeo": [
           {
            "marker": {
             "colorbar": {
              "outlinewidth": 0,
              "ticks": ""
             }
            },
            "type": "scattergeo"
           }
          ],
          "scattergl": [
           {
            "marker": {
             "colorbar": {
              "outlinewidth": 0,
              "ticks": ""
             }
            },
            "type": "scattergl"
           }
          ],
          "scattermap": [
           {
            "marker": {
             "colorbar": {
              "outlinewidth": 0,
              "ticks": ""
             }
            },
            "type": "scattermap"
           }
          ],
          "scattermapbox": [
           {
            "marker": {
             "colorbar": {
              "outlinewidth": 0,
              "ticks": ""
             }
            },
            "type": "scattermapbox"
           }
          ],
          "scatterpolar": [
           {
            "marker": {
             "colorbar": {
              "outlinewidth": 0,
              "ticks": ""
             }
            },
            "type": "scatterpolar"
           }
          ],
          "scatterpolargl": [
           {
            "marker": {
             "colorbar": {
              "outlinewidth": 0,
              "ticks": ""
             }
            },
            "type": "scatterpolargl"
           }
          ],
          "scatterternary": [
           {
            "marker": {
             "colorbar": {
              "outlinewidth": 0,
              "ticks": ""
             }
            },
            "type": "scatterternary"
           }
          ],
          "surface": [
           {
            "colorbar": {
             "outlinewidth": 0,
             "ticks": ""
            },
            "colorscale": [
             [
              0,
              "#0d0887"
             ],
             [
              0.1111111111111111,
              "#46039f"
             ],
             [
              0.2222222222222222,
              "#7201a8"
             ],
             [
              0.3333333333333333,
              "#9c179e"
             ],
             [
              0.4444444444444444,
              "#bd3786"
             ],
             [
              0.5555555555555556,
              "#d8576b"
             ],
             [
              0.6666666666666666,
              "#ed7953"
             ],
             [
              0.7777777777777778,
              "#fb9f3a"
             ],
             [
              0.8888888888888888,
              "#fdca26"
             ],
             [
              1,
              "#f0f921"
             ]
            ],
            "type": "surface"
           }
          ],
          "table": [
           {
            "cells": {
             "fill": {
              "color": "#EBF0F8"
             },
             "line": {
              "color": "white"
             }
            },
            "header": {
             "fill": {
              "color": "#C8D4E3"
             },
             "line": {
              "color": "white"
             }
            },
            "type": "table"
           }
          ]
         },
         "layout": {
          "annotationdefaults": {
           "arrowcolor": "#2a3f5f",
           "arrowhead": 0,
           "arrowwidth": 1
          },
          "autotypenumbers": "strict",
          "coloraxis": {
           "colorbar": {
            "outlinewidth": 0,
            "ticks": ""
           }
          },
          "colorscale": {
           "diverging": [
            [
             0,
             "#8e0152"
            ],
            [
             0.1,
             "#c51b7d"
            ],
            [
             0.2,
             "#de77ae"
            ],
            [
             0.3,
             "#f1b6da"
            ],
            [
             0.4,
             "#fde0ef"
            ],
            [
             0.5,
             "#f7f7f7"
            ],
            [
             0.6,
             "#e6f5d0"
            ],
            [
             0.7,
             "#b8e186"
            ],
            [
             0.8,
             "#7fbc41"
            ],
            [
             0.9,
             "#4d9221"
            ],
            [
             1,
             "#276419"
            ]
           ],
           "sequential": [
            [
             0,
             "#0d0887"
            ],
            [
             0.1111111111111111,
             "#46039f"
            ],
            [
             0.2222222222222222,
             "#7201a8"
            ],
            [
             0.3333333333333333,
             "#9c179e"
            ],
            [
             0.4444444444444444,
             "#bd3786"
            ],
            [
             0.5555555555555556,
             "#d8576b"
            ],
            [
             0.6666666666666666,
             "#ed7953"
            ],
            [
             0.7777777777777778,
             "#fb9f3a"
            ],
            [
             0.8888888888888888,
             "#fdca26"
            ],
            [
             1,
             "#f0f921"
            ]
           ],
           "sequentialminus": [
            [
             0,
             "#0d0887"
            ],
            [
             0.1111111111111111,
             "#46039f"
            ],
            [
             0.2222222222222222,
             "#7201a8"
            ],
            [
             0.3333333333333333,
             "#9c179e"
            ],
            [
             0.4444444444444444,
             "#bd3786"
            ],
            [
             0.5555555555555556,
             "#d8576b"
            ],
            [
             0.6666666666666666,
             "#ed7953"
            ],
            [
             0.7777777777777778,
             "#fb9f3a"
            ],
            [
             0.8888888888888888,
             "#fdca26"
            ],
            [
             1,
             "#f0f921"
            ]
           ]
          },
          "colorway": [
           "#636efa",
           "#EF553B",
           "#00cc96",
           "#ab63fa",
           "#FFA15A",
           "#19d3f3",
           "#FF6692",
           "#B6E880",
           "#FF97FF",
           "#FECB52"
          ],
          "font": {
           "color": "#2a3f5f"
          },
          "geo": {
           "bgcolor": "white",
           "lakecolor": "white",
           "landcolor": "#E5ECF6",
           "showlakes": true,
           "showland": true,
           "subunitcolor": "white"
          },
          "hoverlabel": {
           "align": "left"
          },
          "hovermode": "closest",
          "mapbox": {
           "style": "light"
          },
          "paper_bgcolor": "white",
          "plot_bgcolor": "#E5ECF6",
          "polar": {
           "angularaxis": {
            "gridcolor": "white",
            "linecolor": "white",
            "ticks": ""
           },
           "bgcolor": "#E5ECF6",
           "radialaxis": {
            "gridcolor": "white",
            "linecolor": "white",
            "ticks": ""
           }
          },
          "scene": {
           "xaxis": {
            "backgroundcolor": "#E5ECF6",
            "gridcolor": "white",
            "gridwidth": 2,
            "linecolor": "white",
            "showbackground": true,
            "ticks": "",
            "zerolinecolor": "white"
           },
           "yaxis": {
            "backgroundcolor": "#E5ECF6",
            "gridcolor": "white",
            "gridwidth": 2,
            "linecolor": "white",
            "showbackground": true,
            "ticks": "",
            "zerolinecolor": "white"
           },
           "zaxis": {
            "backgroundcolor": "#E5ECF6",
            "gridcolor": "white",
            "gridwidth": 2,
            "linecolor": "white",
            "showbackground": true,
            "ticks": "",
            "zerolinecolor": "white"
           }
          },
          "shapedefaults": {
           "line": {
            "color": "#2a3f5f"
           }
          },
          "ternary": {
           "aaxis": {
            "gridcolor": "white",
            "linecolor": "white",
            "ticks": ""
           },
           "baxis": {
            "gridcolor": "white",
            "linecolor": "white",
            "ticks": ""
           },
           "bgcolor": "#E5ECF6",
           "caxis": {
            "gridcolor": "white",
            "linecolor": "white",
            "ticks": ""
           }
          },
          "title": {
           "x": 0.05
          },
          "xaxis": {
           "automargin": true,
           "gridcolor": "white",
           "linecolor": "white",
           "ticks": "",
           "title": {
            "standoff": 15
           },
           "zerolinecolor": "white",
           "zerolinewidth": 2
          },
          "yaxis": {
           "automargin": true,
           "gridcolor": "white",
           "linecolor": "white",
           "ticks": "",
           "title": {
            "standoff": 15
           },
           "zerolinecolor": "white",
           "zerolinewidth": 2
          }
         }
        },
        "title": {
         "text": "<b>Perfiles de Sostenibilidad por Empresa</b><br><sup>Cada línea es una empresa, coloreada por su puntaje total</sup><br>",
         "x": 0.5,
         "y": 0.95
        }
       }
      }
     },
     "metadata": {},
     "output_type": "display_data"
    }
   ],
   "source": [
    "# 1. Preparación de Datos: Crear una tabla pivotada (ancha)\n",
    "# Se agrupan los datos por empresa y pilar, sumando la valoración ponderada.\n",
    "pivoted_data = raw_data.groupby(['Razón social', 'Nombre Pilar'])['valoracionPonderada'].sum().reset_index()\n",
    "\n",
    "# Se pivota la tabla para que las empresas sean filas y los pilares, columnas.\n",
    "# Los valores NaN se rellenan con 0, asumiendo desempeño nulo en ese pilar.\n",
    "parallel_coords_df = pivoted_data.pivot(\n",
    "    index='Razón social',\n",
    "    columns='Nombre Pilar',\n",
    "    values='valoracionPonderada'\n",
    ").fillna(0).reset_index()\n",
    "\n",
    "# 2. Enriquecer los datos con información contextual (Macrosector y Puntaje Total)\n",
    "# Se une la tabla pivotada con los datos agregados para poder colorear las líneas.\n",
    "parallel_coords_df = pd.merge(\n",
    "    parallel_coords_df,\n",
    "    company_agg_data[['Razón social', 'Macrosector', 'Puntaje_Total_Sostenibilidad']],\n",
    "    on='Razón social',\n",
    "    how='left'\n",
    ")\n",
    "\n",
    "# 3. Creación del Gráfico de Coordenadas Paralelas\n",
    "# Se definen las dimensiones del gráfico, que son las columnas de los pilares.\n",
    "dimensions = list(parallel_coords_df.columns)\n",
    "dimensions.remove('Razón social')\n",
    "dimensions.remove('Macrosector')\n",
    "dimensions.remove('Puntaje_Total_Sostenibilidad')\n",
    "\n",
    "fig_parallel = px.parallel_coordinates(\n",
    "    parallel_coords_df,\n",
    "    # El color de la línea representa el puntaje total de sostenibilidad.\n",
    "    color=\"Puntaje_Total_Sostenibilidad\",\n",
    "    dimensions=dimensions,\n",
    "    # Se añade el Macrosector y el nombre de la empresa a la información del hover.\n",
    "    labels={\"Razón social\": \"Empresa\", \"Macrosector\": \"Sector\"},\n",
    "    color_continuous_scale=px.colors.sequential.Blues, # Escala de color de oscuro (bajo) a brillante (alto)\n",
    "    title=\"Perfiles de Sostenibilidad por Empresa\"\n",
    ")\n",
    "\n",
    "# 4. Personalización y Estilo del Gráfico\n",
    "fig_parallel.update_layout(\n",
    "    title='<b>Perfiles de Sostenibilidad por Empresa</b><br><sup>Cada línea es una empresa, coloreada por su puntaje total</sup><br>',\n",
    "    title_x=0.5,\n",
    "    title_y=0.95,\n",
    "    font=dict(family=\"Arial, sans-serif\", size=12, color=\"black\")\n",
    ")\n",
    "\n",
    "fig_parallel.show()\n",
    "save_chart_as_html(fig_parallel, '06_parallel_coordinates_sustainability_profiles.html')"
   ]
  },
  {
   "cell_type": "markdown",
   "metadata": {},
   "source": [
    "## 7. Diagrama Sankey de Flujo de Valoración"
   ]
  },
  {
   "cell_type": "code",
   "execution_count": 87,
   "metadata": {},
   "outputs": [
    {
     "data": {
      "application/vnd.plotly.v1+json": {
       "config": {
        "plotlyServerURL": "https://plot.ly"
       },
       "data": [
        {
         "link": {
          "source": {
           "bdata": "AAABAQICAgMEBAQEBAQFBQUFBQUGBgYGBgYHBwcHBwcICAgICAgJCQkJCQk=",
           "dtype": "i1"
          },
          "target": {
           "bdata": "BAcICQUGCAkKCwwNDg8KCwwNDg8KCwwNDg8KCwwNDg8KCwwNDg8KCwwNDg8=",
           "dtype": "i1"
          },
          "value": {
           "bdata": "+0NMrNhcwUBgRw+I7luxQL6t7GkytqNA3HkLuRQqj0Ach9aXxRSwQEMgVRxfAahAXi0UPBsJkUBAdot+N+O3QDUVqud5nmZAUi+2GOldoUAJb2CJ98J/QO9FKHQYGqhAq3D0xlsQj0Cbnt1FB6qdQCVTidu2bWVABUEQuDHGkUDq8bVGKPZ0QH54AAWNc5BAa1942ZLrgUCwGN2QmnCKQO7DKKVz2VRAKQ8zfQhKiECQNxLLWqliQFDe4yYg+YJAyGAbqs8YbEB/iqZdTTuTQBPBUVVV1WRA91cBUZ/IeEC2BgDY0vB6QH+LN/oQapxAkkxjiHc/jUDRt9JZzLmFQHEk7rZt21FAWp1ahQ5Pg0ADM8Vt2xZwQEab98DZColAdk5nsn2Vg0BGlrBcX1qTQPRv8rZt22FAtlMIHh5emUCmhGBVVdWEQP8K9OQ1NJZAtI3DiZ1YgEAHcKOWll6lQA==",
           "dtype": "f8"
          }
         },
         "node": {
          "label": [
           "Impacto ambiental",
           "Impacto económico y gobernanza",
           "Impacto social ",
           "Información general",
           "Acción Climática y Energía",
           "Capital Humano: Bienestar y Desarrollo",
           "Diversidad, Equidad e Inclusión (DEI)",
           "Gestión de Recursos Naturales y Circularidad",
           "Impacto Económico, Social y Comunitario",
           "Transparencia y Gobierno de la Sostenibilidad",
           "Agropecuario",
           "Comercio",
           "Construcción",
           "Manufactura",
           "Minero",
           "Servicios"
          ],
          "line": {
           "color": "black",
           "width": 0.5
          },
          "pad": 15,
          "thickness": 20
         },
         "type": "sankey"
        }
       ],
       "layout": {
        "font": {
         "color": "black",
         "family": "Arial, sans-serif",
         "size": 12
        },
        "template": {
         "data": {
          "bar": [
           {
            "error_x": {
             "color": "#2a3f5f"
            },
            "error_y": {
             "color": "#2a3f5f"
            },
            "marker": {
             "line": {
              "color": "#E5ECF6",
              "width": 0.5
             },
             "pattern": {
              "fillmode": "overlay",
              "size": 10,
              "solidity": 0.2
             }
            },
            "type": "bar"
           }
          ],
          "barpolar": [
           {
            "marker": {
             "line": {
              "color": "#E5ECF6",
              "width": 0.5
             },
             "pattern": {
              "fillmode": "overlay",
              "size": 10,
              "solidity": 0.2
             }
            },
            "type": "barpolar"
           }
          ],
          "carpet": [
           {
            "aaxis": {
             "endlinecolor": "#2a3f5f",
             "gridcolor": "white",
             "linecolor": "white",
             "minorgridcolor": "white",
             "startlinecolor": "#2a3f5f"
            },
            "baxis": {
             "endlinecolor": "#2a3f5f",
             "gridcolor": "white",
             "linecolor": "white",
             "minorgridcolor": "white",
             "startlinecolor": "#2a3f5f"
            },
            "type": "carpet"
           }
          ],
          "choropleth": [
           {
            "colorbar": {
             "outlinewidth": 0,
             "ticks": ""
            },
            "type": "choropleth"
           }
          ],
          "contour": [
           {
            "colorbar": {
             "outlinewidth": 0,
             "ticks": ""
            },
            "colorscale": [
             [
              0,
              "#0d0887"
             ],
             [
              0.1111111111111111,
              "#46039f"
             ],
             [
              0.2222222222222222,
              "#7201a8"
             ],
             [
              0.3333333333333333,
              "#9c179e"
             ],
             [
              0.4444444444444444,
              "#bd3786"
             ],
             [
              0.5555555555555556,
              "#d8576b"
             ],
             [
              0.6666666666666666,
              "#ed7953"
             ],
             [
              0.7777777777777778,
              "#fb9f3a"
             ],
             [
              0.8888888888888888,
              "#fdca26"
             ],
             [
              1,
              "#f0f921"
             ]
            ],
            "type": "contour"
           }
          ],
          "contourcarpet": [
           {
            "colorbar": {
             "outlinewidth": 0,
             "ticks": ""
            },
            "type": "contourcarpet"
           }
          ],
          "heatmap": [
           {
            "colorbar": {
             "outlinewidth": 0,
             "ticks": ""
            },
            "colorscale": [
             [
              0,
              "#0d0887"
             ],
             [
              0.1111111111111111,
              "#46039f"
             ],
             [
              0.2222222222222222,
              "#7201a8"
             ],
             [
              0.3333333333333333,
              "#9c179e"
             ],
             [
              0.4444444444444444,
              "#bd3786"
             ],
             [
              0.5555555555555556,
              "#d8576b"
             ],
             [
              0.6666666666666666,
              "#ed7953"
             ],
             [
              0.7777777777777778,
              "#fb9f3a"
             ],
             [
              0.8888888888888888,
              "#fdca26"
             ],
             [
              1,
              "#f0f921"
             ]
            ],
            "type": "heatmap"
           }
          ],
          "histogram": [
           {
            "marker": {
             "pattern": {
              "fillmode": "overlay",
              "size": 10,
              "solidity": 0.2
             }
            },
            "type": "histogram"
           }
          ],
          "histogram2d": [
           {
            "colorbar": {
             "outlinewidth": 0,
             "ticks": ""
            },
            "colorscale": [
             [
              0,
              "#0d0887"
             ],
             [
              0.1111111111111111,
              "#46039f"
             ],
             [
              0.2222222222222222,
              "#7201a8"
             ],
             [
              0.3333333333333333,
              "#9c179e"
             ],
             [
              0.4444444444444444,
              "#bd3786"
             ],
             [
              0.5555555555555556,
              "#d8576b"
             ],
             [
              0.6666666666666666,
              "#ed7953"
             ],
             [
              0.7777777777777778,
              "#fb9f3a"
             ],
             [
              0.8888888888888888,
              "#fdca26"
             ],
             [
              1,
              "#f0f921"
             ]
            ],
            "type": "histogram2d"
           }
          ],
          "histogram2dcontour": [
           {
            "colorbar": {
             "outlinewidth": 0,
             "ticks": ""
            },
            "colorscale": [
             [
              0,
              "#0d0887"
             ],
             [
              0.1111111111111111,
              "#46039f"
             ],
             [
              0.2222222222222222,
              "#7201a8"
             ],
             [
              0.3333333333333333,
              "#9c179e"
             ],
             [
              0.4444444444444444,
              "#bd3786"
             ],
             [
              0.5555555555555556,
              "#d8576b"
             ],
             [
              0.6666666666666666,
              "#ed7953"
             ],
             [
              0.7777777777777778,
              "#fb9f3a"
             ],
             [
              0.8888888888888888,
              "#fdca26"
             ],
             [
              1,
              "#f0f921"
             ]
            ],
            "type": "histogram2dcontour"
           }
          ],
          "mesh3d": [
           {
            "colorbar": {
             "outlinewidth": 0,
             "ticks": ""
            },
            "type": "mesh3d"
           }
          ],
          "parcoords": [
           {
            "line": {
             "colorbar": {
              "outlinewidth": 0,
              "ticks": ""
             }
            },
            "type": "parcoords"
           }
          ],
          "pie": [
           {
            "automargin": true,
            "type": "pie"
           }
          ],
          "scatter": [
           {
            "fillpattern": {
             "fillmode": "overlay",
             "size": 10,
             "solidity": 0.2
            },
            "type": "scatter"
           }
          ],
          "scatter3d": [
           {
            "line": {
             "colorbar": {
              "outlinewidth": 0,
              "ticks": ""
             }
            },
            "marker": {
             "colorbar": {
              "outlinewidth": 0,
              "ticks": ""
             }
            },
            "type": "scatter3d"
           }
          ],
          "scattercarpet": [
           {
            "marker": {
             "colorbar": {
              "outlinewidth": 0,
              "ticks": ""
             }
            },
            "type": "scattercarpet"
           }
          ],
          "scattergeo": [
           {
            "marker": {
             "colorbar": {
              "outlinewidth": 0,
              "ticks": ""
             }
            },
            "type": "scattergeo"
           }
          ],
          "scattergl": [
           {
            "marker": {
             "colorbar": {
              "outlinewidth": 0,
              "ticks": ""
             }
            },
            "type": "scattergl"
           }
          ],
          "scattermap": [
           {
            "marker": {
             "colorbar": {
              "outlinewidth": 0,
              "ticks": ""
             }
            },
            "type": "scattermap"
           }
          ],
          "scattermapbox": [
           {
            "marker": {
             "colorbar": {
              "outlinewidth": 0,
              "ticks": ""
             }
            },
            "type": "scattermapbox"
           }
          ],
          "scatterpolar": [
           {
            "marker": {
             "colorbar": {
              "outlinewidth": 0,
              "ticks": ""
             }
            },
            "type": "scatterpolar"
           }
          ],
          "scatterpolargl": [
           {
            "marker": {
             "colorbar": {
              "outlinewidth": 0,
              "ticks": ""
             }
            },
            "type": "scatterpolargl"
           }
          ],
          "scatterternary": [
           {
            "marker": {
             "colorbar": {
              "outlinewidth": 0,
              "ticks": ""
             }
            },
            "type": "scatterternary"
           }
          ],
          "surface": [
           {
            "colorbar": {
             "outlinewidth": 0,
             "ticks": ""
            },
            "colorscale": [
             [
              0,
              "#0d0887"
             ],
             [
              0.1111111111111111,
              "#46039f"
             ],
             [
              0.2222222222222222,
              "#7201a8"
             ],
             [
              0.3333333333333333,
              "#9c179e"
             ],
             [
              0.4444444444444444,
              "#bd3786"
             ],
             [
              0.5555555555555556,
              "#d8576b"
             ],
             [
              0.6666666666666666,
              "#ed7953"
             ],
             [
              0.7777777777777778,
              "#fb9f3a"
             ],
             [
              0.8888888888888888,
              "#fdca26"
             ],
             [
              1,
              "#f0f921"
             ]
            ],
            "type": "surface"
           }
          ],
          "table": [
           {
            "cells": {
             "fill": {
              "color": "#EBF0F8"
             },
             "line": {
              "color": "white"
             }
            },
            "header": {
             "fill": {
              "color": "#C8D4E3"
             },
             "line": {
              "color": "white"
             }
            },
            "type": "table"
           }
          ]
         },
         "layout": {
          "annotationdefaults": {
           "arrowcolor": "#2a3f5f",
           "arrowhead": 0,
           "arrowwidth": 1
          },
          "autotypenumbers": "strict",
          "coloraxis": {
           "colorbar": {
            "outlinewidth": 0,
            "ticks": ""
           }
          },
          "colorscale": {
           "diverging": [
            [
             0,
             "#8e0152"
            ],
            [
             0.1,
             "#c51b7d"
            ],
            [
             0.2,
             "#de77ae"
            ],
            [
             0.3,
             "#f1b6da"
            ],
            [
             0.4,
             "#fde0ef"
            ],
            [
             0.5,
             "#f7f7f7"
            ],
            [
             0.6,
             "#e6f5d0"
            ],
            [
             0.7,
             "#b8e186"
            ],
            [
             0.8,
             "#7fbc41"
            ],
            [
             0.9,
             "#4d9221"
            ],
            [
             1,
             "#276419"
            ]
           ],
           "sequential": [
            [
             0,
             "#0d0887"
            ],
            [
             0.1111111111111111,
             "#46039f"
            ],
            [
             0.2222222222222222,
             "#7201a8"
            ],
            [
             0.3333333333333333,
             "#9c179e"
            ],
            [
             0.4444444444444444,
             "#bd3786"
            ],
            [
             0.5555555555555556,
             "#d8576b"
            ],
            [
             0.6666666666666666,
             "#ed7953"
            ],
            [
             0.7777777777777778,
             "#fb9f3a"
            ],
            [
             0.8888888888888888,
             "#fdca26"
            ],
            [
             1,
             "#f0f921"
            ]
           ],
           "sequentialminus": [
            [
             0,
             "#0d0887"
            ],
            [
             0.1111111111111111,
             "#46039f"
            ],
            [
             0.2222222222222222,
             "#7201a8"
            ],
            [
             0.3333333333333333,
             "#9c179e"
            ],
            [
             0.4444444444444444,
             "#bd3786"
            ],
            [
             0.5555555555555556,
             "#d8576b"
            ],
            [
             0.6666666666666666,
             "#ed7953"
            ],
            [
             0.7777777777777778,
             "#fb9f3a"
            ],
            [
             0.8888888888888888,
             "#fdca26"
            ],
            [
             1,
             "#f0f921"
            ]
           ]
          },
          "colorway": [
           "#636efa",
           "#EF553B",
           "#00cc96",
           "#ab63fa",
           "#FFA15A",
           "#19d3f3",
           "#FF6692",
           "#B6E880",
           "#FF97FF",
           "#FECB52"
          ],
          "font": {
           "color": "#2a3f5f"
          },
          "geo": {
           "bgcolor": "white",
           "lakecolor": "white",
           "landcolor": "#E5ECF6",
           "showlakes": true,
           "showland": true,
           "subunitcolor": "white"
          },
          "hoverlabel": {
           "align": "left"
          },
          "hovermode": "closest",
          "mapbox": {
           "style": "light"
          },
          "paper_bgcolor": "white",
          "plot_bgcolor": "#E5ECF6",
          "polar": {
           "angularaxis": {
            "gridcolor": "white",
            "linecolor": "white",
            "ticks": ""
           },
           "bgcolor": "#E5ECF6",
           "radialaxis": {
            "gridcolor": "white",
            "linecolor": "white",
            "ticks": ""
           }
          },
          "scene": {
           "xaxis": {
            "backgroundcolor": "#E5ECF6",
            "gridcolor": "white",
            "gridwidth": 2,
            "linecolor": "white",
            "showbackground": true,
            "ticks": "",
            "zerolinecolor": "white"
           },
           "yaxis": {
            "backgroundcolor": "#E5ECF6",
            "gridcolor": "white",
            "gridwidth": 2,
            "linecolor": "white",
            "showbackground": true,
            "ticks": "",
            "zerolinecolor": "white"
           },
           "zaxis": {
            "backgroundcolor": "#E5ECF6",
            "gridcolor": "white",
            "gridwidth": 2,
            "linecolor": "white",
            "showbackground": true,
            "ticks": "",
            "zerolinecolor": "white"
           }
          },
          "shapedefaults": {
           "line": {
            "color": "#2a3f5f"
           }
          },
          "ternary": {
           "aaxis": {
            "gridcolor": "white",
            "linecolor": "white",
            "ticks": ""
           },
           "baxis": {
            "gridcolor": "white",
            "linecolor": "white",
            "ticks": ""
           },
           "bgcolor": "#E5ECF6",
           "caxis": {
            "gridcolor": "white",
            "linecolor": "white",
            "ticks": ""
           }
          },
          "title": {
           "x": 0.05
          },
          "xaxis": {
           "automargin": true,
           "gridcolor": "white",
           "linecolor": "white",
           "ticks": "",
           "title": {
            "standoff": 15
           },
           "zerolinecolor": "white",
           "zerolinewidth": 2
          },
          "yaxis": {
           "automargin": true,
           "gridcolor": "white",
           "linecolor": "white",
           "ticks": "",
           "title": {
            "standoff": 15
           },
           "zerolinecolor": "white",
           "zerolinewidth": 2
          }
         }
        },
        "title": {
         "text": "<b>Diagrama Sankey del Flujo de Valoración de Sostenibilidad</b><br><sup>Flujo desde Bloque -> Pilar -> Macrosector</sup>",
         "x": 0.5
        }
       }
      }
     },
     "metadata": {},
     "output_type": "display_data"
    }
   ],
   "source": [
    "# 1. Preparación de Datos para el Sankey\n",
    "# Se necesita una lista de flujos: origen (source), destino (target) y valor (value).\n",
    "# El flujo es: Bloque -> Nombre Pilar -> Macrosector\n",
    "\n",
    "# Flujo 1: Bloque a Nombre Pilar\n",
    "flow1 = raw_data.groupby(['Bloque', 'Nombre Pilar'])['valoracionPonderada'].sum().reset_index()\n",
    "flow1.rename(columns={'Bloque': 'source', 'Nombre Pilar': 'target', 'valoracionPonderada': 'value'}, inplace=True)\n",
    "\n",
    "# Flujo 2: Nombre Pilar a Macrosector\n",
    "flow2 = raw_data.groupby(['Nombre Pilar', 'Macrosector'])['valoracionPonderada'].sum().reset_index()\n",
    "flow2.rename(columns={'Nombre Pilar': 'source', 'Macrosector': 'target', 'valoracionPonderada': 'value'}, inplace=True)\n",
    "\n",
    "# Combinar ambos flujos en un único DataFrame\n",
    "sankey_data = pd.concat([flow1, flow2], axis=0)\n",
    "\n",
    "# Filtrar flujos con valor cero para no saturar el gráfico\n",
    "sankey_data = sankey_data[sankey_data['value'] > 0]\n",
    "\n",
    "# Crear una lista única de todos los nodos (orígenes y destinos)\n",
    "unique_nodes = pd.unique(sankey_data[['source', 'target']].values.ravel('K'))\n",
    "\n",
    "# Crear un diccionario para mapear cada nodo a un índice numérico\n",
    "node_mapping = {node: i for i, node in enumerate(unique_nodes)}\n",
    "\n",
    "# Reemplazar los nombres de los nodos por sus índices en el DataFrame de flujos\n",
    "sankey_data['source_id'] = sankey_data['source'].map(node_mapping)\n",
    "sankey_data['target_id'] = sankey_data['target'].map(node_mapping)\n",
    "\n",
    "# 2. Creación del Gráfico Sankey con Plotly Graph Objects\n",
    "fig_sankey = go.Figure(data=[go.Sankey(\n",
    "    node=dict(\n",
    "      pad=15,\n",
    "      thickness=20,\n",
    "      line=dict(color=\"black\", width=0.5),\n",
    "      label=unique_nodes,\n",
    "    ),\n",
    "    link=dict(\n",
    "      source=sankey_data['source_id'],\n",
    "      target=sankey_data['target_id'],\n",
    "      value=sankey_data['value']\n",
    "  ))])\n",
    "\n",
    "# 3. Personalización y Estilo del Gráfico\n",
    "fig_sankey.update_layout(\n",
    "    title_text=\"<b>Diagrama Sankey del Flujo de Valoración de Sostenibilidad</b><br><sup>Flujo desde Bloque -> Pilar -> Macrosector</sup>\",\n",
    "    title_x=0.5,\n",
    "    font=dict(family=\"Arial, sans-serif\", size=12, color=\"black\")\n",
    ")\n",
    "\n",
    "fig_sankey.show()\n",
    "save_chart_as_html(fig_sankey, '07_sankey_diagram_sustainability_flows.html')\n"
   ]
  },
  {
   "cell_type": "markdown",
   "metadata": {},
   "source": [
    "## 8. Gráfico Solar (Sunburst) de la Jerarquía del Desempeño"
   ]
  },
  {
   "cell_type": "code",
   "execution_count": 88,
   "metadata": {},
   "outputs": [
    {
     "data": {
      "application/vnd.plotly.v1+json": {
       "config": {
        "plotlyServerURL": "https://plot.ly"
       },
       "data": [
        {
         "branchvalues": "total",
         "customdata": [
          [
           "Impacto económico y gobernanza",
           "Impacto Económico, Social y Comunitario",
           11.236837325901124
          ],
          [
           "Impacto ambiental",
           "Acción Climática y Energía",
           17.008552557323497
          ],
          [
           "Impacto económico y gobernanza",
           "Transparencia y Gobierno de la Sostenibilidad",
           22.836711765446296
          ],
          [
           "Impacto social ",
           "Diversidad, Equidad e Inclusión (DEI)",
           18.742401214024554
          ],
          [
           "Impacto social ",
           "Capital Humano: Bienestar y Desarrollo",
           17.243575471157033
          ],
          [
           "Impacto social ",
           "Impacto Económico, Social y Comunitario",
           12.340175861540533
          ],
          [
           "Impacto ambiental",
           "Gestión de Recursos Naturales y Circularidad",
           13.468008916306946
          ],
          [
           "Información general",
           "Transparencia y Gobierno de la Sostenibilidad",
           23.073690071091818
          ],
          [
           "Impacto económico y gobernanza",
           "(?)",
           14.52289239284013
          ],
          [
           "Impacto ambiental",
           "(?)",
           15.828533251911418
          ],
          [
           "Impacto social ",
           "(?)",
           17.15412316543414
          ],
          [
           "Información general",
           "Transparencia y Gobierno de la Sostenibilidad",
           23.073690071091818
          ],
          [
           "(?)",
           "(?)",
           17.45050578135858
          ]
         ],
         "domain": {
          "x": [
           0,
           1
          ],
          "y": [
           0,
           1
          ]
         },
         "hovertemplate": "<b>%{label}</b><br>Valoración Ponderada Total: %{value:,.2f}<br>Contribución al Padre: %{percentParent:.2%}<extra></extra>",
         "ids": [
          "Desempeño Total/Impacto económico y gobernanza/Impacto Económico, Social y Comunitario",
          "Desempeño Total/Impacto ambiental/Acción Climática y Energía",
          "Desempeño Total/Impacto económico y gobernanza/Transparencia y Gobierno de la Sostenibilidad",
          "Desempeño Total/Impacto social /Diversidad, Equidad e Inclusión (DEI)",
          "Desempeño Total/Impacto social /Capital Humano: Bienestar y Desarrollo",
          "Desempeño Total/Impacto social /Impacto Económico, Social y Comunitario",
          "Desempeño Total/Impacto ambiental/Gestión de Recursos Naturales y Circularidad",
          "Desempeño Total/Información general/Transparencia y Gobierno de la Sostenibilidad",
          "Desempeño Total/Impacto económico y gobernanza",
          "Desempeño Total/Impacto ambiental",
          "Desempeño Total/Impacto social ",
          "Desempeño Total/Información general",
          "Desempeño Total"
         ],
         "labels": [
          "Impacto Económico, Social y Comunitario",
          "Acción Climática y Energía",
          "Transparencia y Gobierno de la Sostenibilidad",
          "Diversidad, Equidad e Inclusión (DEI)",
          "Capital Humano: Bienestar y Desarrollo",
          "Impacto Económico, Social y Comunitario",
          "Gestión de Recursos Naturales y Circularidad",
          "Transparencia y Gobierno de la Sostenibilidad",
          "Impacto económico y gobernanza",
          "Impacto ambiental",
          "Impacto social ",
          "Información general",
          "Desempeño Total"
         ],
         "marker": {
          "coloraxis": "coloraxis",
          "colors": {
           "bdata": "Um/yvUJ5JkBoABqAMAIxQDDFBL4y1jZABL+GAQ6+MkAtukr2Wj4xQBJp0IcrrihAqoxb3Z7vKkAYYT1a3RI3QK4mPY24Cy1AVTepgjWoL0B7GKOddCcxQBhhPVrdEjdAEpjNWFRzMUA=",
           "dtype": "f8"
          }
         },
         "name": "",
         "parents": [
          "Desempeño Total/Impacto económico y gobernanza",
          "Desempeño Total/Impacto ambiental",
          "Desempeño Total/Impacto económico y gobernanza",
          "Desempeño Total/Impacto social ",
          "Desempeño Total/Impacto social ",
          "Desempeño Total/Impacto social ",
          "Desempeño Total/Impacto ambiental",
          "Desempeño Total/Información general",
          "Desempeño Total",
          "Desempeño Total",
          "Desempeño Total",
          "Desempeño Total",
          ""
         ],
         "type": "sunburst",
         "values": {
          "bdata": "vq3saTK2o0D7Q0ys2FzBQNx5C7kUKo9AQyBVHF8BqEAch9aXxRSwQF4tFDwbCZFAYEcPiO5bsUBAdot+N+O3QDSML5i3gKtAq+dT8M8KykBLEYP63SvAQEB2i34347dAkUsUyDuE3kA=",
          "dtype": "f8"
         }
        }
       ],
       "layout": {
        "coloraxis": {
         "colorbar": {
          "title": {
           "text": "valoracionPonderada"
          }
         },
         "colorscale": [
          [
           0,
           "rgb(247,251,255)"
          ],
          [
           0.125,
           "rgb(222,235,247)"
          ],
          [
           0.25,
           "rgb(198,219,239)"
          ],
          [
           0.375,
           "rgb(158,202,225)"
          ],
          [
           0.5,
           "rgb(107,174,214)"
          ],
          [
           0.625,
           "rgb(66,146,198)"
          ],
          [
           0.75,
           "rgb(33,113,181)"
          ],
          [
           0.875,
           "rgb(8,81,156)"
          ],
          [
           1,
           "rgb(8,48,107)"
          ]
         ]
        },
        "font": {
         "color": "black",
         "family": "Arial, sans-serif",
         "size": 12
        },
        "legend": {
         "tracegroupgap": 0
        },
        "margin": {
         "b": 25,
         "l": 25,
         "r": 25,
         "t": 60
        },
        "template": {
         "data": {
          "bar": [
           {
            "error_x": {
             "color": "#2a3f5f"
            },
            "error_y": {
             "color": "#2a3f5f"
            },
            "marker": {
             "line": {
              "color": "#E5ECF6",
              "width": 0.5
             },
             "pattern": {
              "fillmode": "overlay",
              "size": 10,
              "solidity": 0.2
             }
            },
            "type": "bar"
           }
          ],
          "barpolar": [
           {
            "marker": {
             "line": {
              "color": "#E5ECF6",
              "width": 0.5
             },
             "pattern": {
              "fillmode": "overlay",
              "size": 10,
              "solidity": 0.2
             }
            },
            "type": "barpolar"
           }
          ],
          "carpet": [
           {
            "aaxis": {
             "endlinecolor": "#2a3f5f",
             "gridcolor": "white",
             "linecolor": "white",
             "minorgridcolor": "white",
             "startlinecolor": "#2a3f5f"
            },
            "baxis": {
             "endlinecolor": "#2a3f5f",
             "gridcolor": "white",
             "linecolor": "white",
             "minorgridcolor": "white",
             "startlinecolor": "#2a3f5f"
            },
            "type": "carpet"
           }
          ],
          "choropleth": [
           {
            "colorbar": {
             "outlinewidth": 0,
             "ticks": ""
            },
            "type": "choropleth"
           }
          ],
          "contour": [
           {
            "colorbar": {
             "outlinewidth": 0,
             "ticks": ""
            },
            "colorscale": [
             [
              0,
              "#0d0887"
             ],
             [
              0.1111111111111111,
              "#46039f"
             ],
             [
              0.2222222222222222,
              "#7201a8"
             ],
             [
              0.3333333333333333,
              "#9c179e"
             ],
             [
              0.4444444444444444,
              "#bd3786"
             ],
             [
              0.5555555555555556,
              "#d8576b"
             ],
             [
              0.6666666666666666,
              "#ed7953"
             ],
             [
              0.7777777777777778,
              "#fb9f3a"
             ],
             [
              0.8888888888888888,
              "#fdca26"
             ],
             [
              1,
              "#f0f921"
             ]
            ],
            "type": "contour"
           }
          ],
          "contourcarpet": [
           {
            "colorbar": {
             "outlinewidth": 0,
             "ticks": ""
            },
            "type": "contourcarpet"
           }
          ],
          "heatmap": [
           {
            "colorbar": {
             "outlinewidth": 0,
             "ticks": ""
            },
            "colorscale": [
             [
              0,
              "#0d0887"
             ],
             [
              0.1111111111111111,
              "#46039f"
             ],
             [
              0.2222222222222222,
              "#7201a8"
             ],
             [
              0.3333333333333333,
              "#9c179e"
             ],
             [
              0.4444444444444444,
              "#bd3786"
             ],
             [
              0.5555555555555556,
              "#d8576b"
             ],
             [
              0.6666666666666666,
              "#ed7953"
             ],
             [
              0.7777777777777778,
              "#fb9f3a"
             ],
             [
              0.8888888888888888,
              "#fdca26"
             ],
             [
              1,
              "#f0f921"
             ]
            ],
            "type": "heatmap"
           }
          ],
          "histogram": [
           {
            "marker": {
             "pattern": {
              "fillmode": "overlay",
              "size": 10,
              "solidity": 0.2
             }
            },
            "type": "histogram"
           }
          ],
          "histogram2d": [
           {
            "colorbar": {
             "outlinewidth": 0,
             "ticks": ""
            },
            "colorscale": [
             [
              0,
              "#0d0887"
             ],
             [
              0.1111111111111111,
              "#46039f"
             ],
             [
              0.2222222222222222,
              "#7201a8"
             ],
             [
              0.3333333333333333,
              "#9c179e"
             ],
             [
              0.4444444444444444,
              "#bd3786"
             ],
             [
              0.5555555555555556,
              "#d8576b"
             ],
             [
              0.6666666666666666,
              "#ed7953"
             ],
             [
              0.7777777777777778,
              "#fb9f3a"
             ],
             [
              0.8888888888888888,
              "#fdca26"
             ],
             [
              1,
              "#f0f921"
             ]
            ],
            "type": "histogram2d"
           }
          ],
          "histogram2dcontour": [
           {
            "colorbar": {
             "outlinewidth": 0,
             "ticks": ""
            },
            "colorscale": [
             [
              0,
              "#0d0887"
             ],
             [
              0.1111111111111111,
              "#46039f"
             ],
             [
              0.2222222222222222,
              "#7201a8"
             ],
             [
              0.3333333333333333,
              "#9c179e"
             ],
             [
              0.4444444444444444,
              "#bd3786"
             ],
             [
              0.5555555555555556,
              "#d8576b"
             ],
             [
              0.6666666666666666,
              "#ed7953"
             ],
             [
              0.7777777777777778,
              "#fb9f3a"
             ],
             [
              0.8888888888888888,
              "#fdca26"
             ],
             [
              1,
              "#f0f921"
             ]
            ],
            "type": "histogram2dcontour"
           }
          ],
          "mesh3d": [
           {
            "colorbar": {
             "outlinewidth": 0,
             "ticks": ""
            },
            "type": "mesh3d"
           }
          ],
          "parcoords": [
           {
            "line": {
             "colorbar": {
              "outlinewidth": 0,
              "ticks": ""
             }
            },
            "type": "parcoords"
           }
          ],
          "pie": [
           {
            "automargin": true,
            "type": "pie"
           }
          ],
          "scatter": [
           {
            "fillpattern": {
             "fillmode": "overlay",
             "size": 10,
             "solidity": 0.2
            },
            "type": "scatter"
           }
          ],
          "scatter3d": [
           {
            "line": {
             "colorbar": {
              "outlinewidth": 0,
              "ticks": ""
             }
            },
            "marker": {
             "colorbar": {
              "outlinewidth": 0,
              "ticks": ""
             }
            },
            "type": "scatter3d"
           }
          ],
          "scattercarpet": [
           {
            "marker": {
             "colorbar": {
              "outlinewidth": 0,
              "ticks": ""
             }
            },
            "type": "scattercarpet"
           }
          ],
          "scattergeo": [
           {
            "marker": {
             "colorbar": {
              "outlinewidth": 0,
              "ticks": ""
             }
            },
            "type": "scattergeo"
           }
          ],
          "scattergl": [
           {
            "marker": {
             "colorbar": {
              "outlinewidth": 0,
              "ticks": ""
             }
            },
            "type": "scattergl"
           }
          ],
          "scattermap": [
           {
            "marker": {
             "colorbar": {
              "outlinewidth": 0,
              "ticks": ""
             }
            },
            "type": "scattermap"
           }
          ],
          "scattermapbox": [
           {
            "marker": {
             "colorbar": {
              "outlinewidth": 0,
              "ticks": ""
             }
            },
            "type": "scattermapbox"
           }
          ],
          "scatterpolar": [
           {
            "marker": {
             "colorbar": {
              "outlinewidth": 0,
              "ticks": ""
             }
            },
            "type": "scatterpolar"
           }
          ],
          "scatterpolargl": [
           {
            "marker": {
             "colorbar": {
              "outlinewidth": 0,
              "ticks": ""
             }
            },
            "type": "scatterpolargl"
           }
          ],
          "scatterternary": [
           {
            "marker": {
             "colorbar": {
              "outlinewidth": 0,
              "ticks": ""
             }
            },
            "type": "scatterternary"
           }
          ],
          "surface": [
           {
            "colorbar": {
             "outlinewidth": 0,
             "ticks": ""
            },
            "colorscale": [
             [
              0,
              "#0d0887"
             ],
             [
              0.1111111111111111,
              "#46039f"
             ],
             [
              0.2222222222222222,
              "#7201a8"
             ],
             [
              0.3333333333333333,
              "#9c179e"
             ],
             [
              0.4444444444444444,
              "#bd3786"
             ],
             [
              0.5555555555555556,
              "#d8576b"
             ],
             [
              0.6666666666666666,
              "#ed7953"
             ],
             [
              0.7777777777777778,
              "#fb9f3a"
             ],
             [
              0.8888888888888888,
              "#fdca26"
             ],
             [
              1,
              "#f0f921"
             ]
            ],
            "type": "surface"
           }
          ],
          "table": [
           {
            "cells": {
             "fill": {
              "color": "#EBF0F8"
             },
             "line": {
              "color": "white"
             }
            },
            "header": {
             "fill": {
              "color": "#C8D4E3"
             },
             "line": {
              "color": "white"
             }
            },
            "type": "table"
           }
          ]
         },
         "layout": {
          "annotationdefaults": {
           "arrowcolor": "#2a3f5f",
           "arrowhead": 0,
           "arrowwidth": 1
          },
          "autotypenumbers": "strict",
          "coloraxis": {
           "colorbar": {
            "outlinewidth": 0,
            "ticks": ""
           }
          },
          "colorscale": {
           "diverging": [
            [
             0,
             "#8e0152"
            ],
            [
             0.1,
             "#c51b7d"
            ],
            [
             0.2,
             "#de77ae"
            ],
            [
             0.3,
             "#f1b6da"
            ],
            [
             0.4,
             "#fde0ef"
            ],
            [
             0.5,
             "#f7f7f7"
            ],
            [
             0.6,
             "#e6f5d0"
            ],
            [
             0.7,
             "#b8e186"
            ],
            [
             0.8,
             "#7fbc41"
            ],
            [
             0.9,
             "#4d9221"
            ],
            [
             1,
             "#276419"
            ]
           ],
           "sequential": [
            [
             0,
             "#0d0887"
            ],
            [
             0.1111111111111111,
             "#46039f"
            ],
            [
             0.2222222222222222,
             "#7201a8"
            ],
            [
             0.3333333333333333,
             "#9c179e"
            ],
            [
             0.4444444444444444,
             "#bd3786"
            ],
            [
             0.5555555555555556,
             "#d8576b"
            ],
            [
             0.6666666666666666,
             "#ed7953"
            ],
            [
             0.7777777777777778,
             "#fb9f3a"
            ],
            [
             0.8888888888888888,
             "#fdca26"
            ],
            [
             1,
             "#f0f921"
            ]
           ],
           "sequentialminus": [
            [
             0,
             "#0d0887"
            ],
            [
             0.1111111111111111,
             "#46039f"
            ],
            [
             0.2222222222222222,
             "#7201a8"
            ],
            [
             0.3333333333333333,
             "#9c179e"
            ],
            [
             0.4444444444444444,
             "#bd3786"
            ],
            [
             0.5555555555555556,
             "#d8576b"
            ],
            [
             0.6666666666666666,
             "#ed7953"
            ],
            [
             0.7777777777777778,
             "#fb9f3a"
            ],
            [
             0.8888888888888888,
             "#fdca26"
            ],
            [
             1,
             "#f0f921"
            ]
           ]
          },
          "colorway": [
           "#636efa",
           "#EF553B",
           "#00cc96",
           "#ab63fa",
           "#FFA15A",
           "#19d3f3",
           "#FF6692",
           "#B6E880",
           "#FF97FF",
           "#FECB52"
          ],
          "font": {
           "color": "#2a3f5f"
          },
          "geo": {
           "bgcolor": "white",
           "lakecolor": "white",
           "landcolor": "#E5ECF6",
           "showlakes": true,
           "showland": true,
           "subunitcolor": "white"
          },
          "hoverlabel": {
           "align": "left"
          },
          "hovermode": "closest",
          "mapbox": {
           "style": "light"
          },
          "paper_bgcolor": "white",
          "plot_bgcolor": "#E5ECF6",
          "polar": {
           "angularaxis": {
            "gridcolor": "white",
            "linecolor": "white",
            "ticks": ""
           },
           "bgcolor": "#E5ECF6",
           "radialaxis": {
            "gridcolor": "white",
            "linecolor": "white",
            "ticks": ""
           }
          },
          "scene": {
           "xaxis": {
            "backgroundcolor": "#E5ECF6",
            "gridcolor": "white",
            "gridwidth": 2,
            "linecolor": "white",
            "showbackground": true,
            "ticks": "",
            "zerolinecolor": "white"
           },
           "yaxis": {
            "backgroundcolor": "#E5ECF6",
            "gridcolor": "white",
            "gridwidth": 2,
            "linecolor": "white",
            "showbackground": true,
            "ticks": "",
            "zerolinecolor": "white"
           },
           "zaxis": {
            "backgroundcolor": "#E5ECF6",
            "gridcolor": "white",
            "gridwidth": 2,
            "linecolor": "white",
            "showbackground": true,
            "ticks": "",
            "zerolinecolor": "white"
           }
          },
          "shapedefaults": {
           "line": {
            "color": "#2a3f5f"
           }
          },
          "ternary": {
           "aaxis": {
            "gridcolor": "white",
            "linecolor": "white",
            "ticks": ""
           },
           "baxis": {
            "gridcolor": "white",
            "linecolor": "white",
            "ticks": ""
           },
           "bgcolor": "#E5ECF6",
           "caxis": {
            "gridcolor": "white",
            "linecolor": "white",
            "ticks": ""
           }
          },
          "title": {
           "x": 0.05
          },
          "xaxis": {
           "automargin": true,
           "gridcolor": "white",
           "linecolor": "white",
           "ticks": "",
           "title": {
            "standoff": 15
           },
           "zerolinecolor": "white",
           "zerolinewidth": 2
          },
          "yaxis": {
           "automargin": true,
           "gridcolor": "white",
           "linecolor": "white",
           "ticks": "",
           "title": {
            "standoff": 15
           },
           "zerolinecolor": "white",
           "zerolinewidth": 2
          }
         }
        },
        "title": {
         "text": "<b>Gráfico Solar de la Jerarquía del Desempeño en Sostenibilidad</b><br><sup>Tamaño y color representan la contribución de cada área</sup>",
         "x": 0.5
        }
       }
      }
     },
     "metadata": {},
     "output_type": "display_data"
    }
   ],
   "source": [
    "# 1. Preparación de Datos para el Sunburst\n",
    "# No se requiere una gran preparación, Plotly Express puede manejar la jerarquía directamente.\n",
    "# Se asegura que no haya valores nulos en las columnas de la jerarquía.\n",
    "sunburst_data = raw_data.dropna(subset=['Bloque', 'Nombre Pilar'])\n",
    "sunburst_data = sunburst_data[sunburst_data['valoracionPonderada'] > 0]\n",
    "\n",
    "# 2. Creación del Gráfico Sunburst con Plotly Express\n",
    "fig_sunburst = px.sunburst(\n",
    "    sunburst_data,\n",
    "    # La jerarquía define los anillos del gráfico, desde el centro hacia afuera.\n",
    "    path=[px.Constant(\"Desempeño Total\"), 'Bloque', 'Nombre Pilar'],\n",
    "    # El tamaño y el color de cada segmento se basan en la suma de la valoración ponderada.\n",
    "    values='valoracionPonderada',\n",
    "    color='valoracionPonderada',\n",
    "    # Se usa una escala de color que va de un color claro a uno oscuro para representar la magnitud.\n",
    "    color_continuous_scale='Blues',\n",
    "    hover_data={'Bloque': True, 'Nombre Pilar': True}\n",
    ")\n",
    "\n",
    "# 3. Personalización y Estilo del Gráfico\n",
    "fig_sunburst.update_layout(\n",
    "    title_text=\"<b>Gráfico Solar de la Jerarquía del Desempeño en Sostenibilidad</b><br><sup>Tamaño y color representan la contribución de cada área</sup>\",\n",
    "    title_x=0.5,\n",
    "    margin = dict(t=60, l=25, r=25, b=25),\n",
    "    font=dict(family=\"Arial, sans-serif\", size=12, color=\"black\")\n",
    ")\n",
    "\n",
    "# Personalización del hover para mostrar la información de forma más clara\n",
    "fig_sunburst.update_traces(\n",
    "    hovertemplate='<b>%{label}</b><br>Valoración Ponderada Total: %{value:,.2f}<br>Contribución al Padre: %{percentParent:.2%}<extra></extra>'\n",
    ")\n",
    "\n",
    "fig_sunburst.show()\n",
    "save_chart_as_html(fig_sunburst, '08_sunburst_performance_hierarchy.html')"
   ]
  },
  {
   "cell_type": "markdown",
   "metadata": {},
   "source": [
    "## 9. Matriz de Correlación entre Pilares de Sostenibilidad"
   ]
  },
  {
   "cell_type": "code",
   "execution_count": 89,
   "metadata": {},
   "outputs": [
    {
     "data": {
      "application/vnd.plotly.v1+json": {
       "config": {
        "plotlyServerURL": "https://plot.ly"
       },
       "data": [
        {
         "coloraxis": "coloraxis",
         "hovertemplate": "x: %{x}<br>y: %{y}<br>color: %{z}<extra></extra>",
         "name": "0",
         "texttemplate": "%{z}",
         "type": "heatmap",
         "x": [
          "Acción Climática y Energía",
          "Capital Humano: Bienestar y Desarrollo",
          "Diversidad, Equidad e Inclusión (DEI)",
          "Gestión de Recursos Naturales y Circularidad",
          "Impacto Económico, Social y Comunitario",
          "Transparencia y Gobierno de la Sostenibilidad"
         ],
         "xaxis": "x",
         "y": [
          "Acción Climática y Energía",
          "Capital Humano: Bienestar y Desarrollo",
          "Diversidad, Equidad e Inclusión (DEI)",
          "Gestión de Recursos Naturales y Circularidad",
          "Impacto Económico, Social y Comunitario",
          "Transparencia y Gobierno de la Sostenibilidad"
         ],
         "yaxis": "y",
         "z": {
          "bdata": "AAAAAAAA8D9XUWk+l/XcP/30g/KKSNQ/rUqSiiTo4z+L/dEJ7F3eP1vbJuJKa9c/V1FpPpf13D8AAAAAAADwPyTNJ6qL7dQ/lX/MVHfv4D9jCN9GyljfP6lJMUAArdU//fSD8opI1D8kzSeqi+3UPwAAAAAAAPA/um37xcg5uz8cbp0dOEniP5ZZ9U/41eU/rUqSiiTo4z+Vf8xUd+/gP7pt+8XIObs/AAAAAAAA8D+Qcf6uCu3fPzPZPnI+mMM/i/3RCexd3j9jCN9GyljfPxxunR04SeI/kHH+rgrt3z8AAAAAAADwP/H6dsqERuU/W9sm4kpr1z+pSTFAAK3VP5ZZ9U/41eU/M9k+cj6Ywz/x+nbKhEblPwAAAAAAAPA/",
          "dtype": "f8",
          "shape": "6, 6"
         }
        }
       ],
       "layout": {
        "coloraxis": {
         "cmax": 1,
         "cmin": -1,
         "colorscale": [
          [
           0,
           "rgb(247,251,255)"
          ],
          [
           0.125,
           "rgb(222,235,247)"
          ],
          [
           0.25,
           "rgb(198,219,239)"
          ],
          [
           0.375,
           "rgb(158,202,225)"
          ],
          [
           0.5,
           "rgb(107,174,214)"
          ],
          [
           0.625,
           "rgb(66,146,198)"
          ],
          [
           0.75,
           "rgb(33,113,181)"
          ],
          [
           0.875,
           "rgb(8,81,156)"
          ],
          [
           1,
           "rgb(8,48,107)"
          ]
         ]
        },
        "font": {
         "color": "black",
         "family": "Arial, sans-serif",
         "size": 10
        },
        "margin": {
         "t": 60
        },
        "template": {
         "data": {
          "bar": [
           {
            "error_x": {
             "color": "#2a3f5f"
            },
            "error_y": {
             "color": "#2a3f5f"
            },
            "marker": {
             "line": {
              "color": "#E5ECF6",
              "width": 0.5
             },
             "pattern": {
              "fillmode": "overlay",
              "size": 10,
              "solidity": 0.2
             }
            },
            "type": "bar"
           }
          ],
          "barpolar": [
           {
            "marker": {
             "line": {
              "color": "#E5ECF6",
              "width": 0.5
             },
             "pattern": {
              "fillmode": "overlay",
              "size": 10,
              "solidity": 0.2
             }
            },
            "type": "barpolar"
           }
          ],
          "carpet": [
           {
            "aaxis": {
             "endlinecolor": "#2a3f5f",
             "gridcolor": "white",
             "linecolor": "white",
             "minorgridcolor": "white",
             "startlinecolor": "#2a3f5f"
            },
            "baxis": {
             "endlinecolor": "#2a3f5f",
             "gridcolor": "white",
             "linecolor": "white",
             "minorgridcolor": "white",
             "startlinecolor": "#2a3f5f"
            },
            "type": "carpet"
           }
          ],
          "choropleth": [
           {
            "colorbar": {
             "outlinewidth": 0,
             "ticks": ""
            },
            "type": "choropleth"
           }
          ],
          "contour": [
           {
            "colorbar": {
             "outlinewidth": 0,
             "ticks": ""
            },
            "colorscale": [
             [
              0,
              "#0d0887"
             ],
             [
              0.1111111111111111,
              "#46039f"
             ],
             [
              0.2222222222222222,
              "#7201a8"
             ],
             [
              0.3333333333333333,
              "#9c179e"
             ],
             [
              0.4444444444444444,
              "#bd3786"
             ],
             [
              0.5555555555555556,
              "#d8576b"
             ],
             [
              0.6666666666666666,
              "#ed7953"
             ],
             [
              0.7777777777777778,
              "#fb9f3a"
             ],
             [
              0.8888888888888888,
              "#fdca26"
             ],
             [
              1,
              "#f0f921"
             ]
            ],
            "type": "contour"
           }
          ],
          "contourcarpet": [
           {
            "colorbar": {
             "outlinewidth": 0,
             "ticks": ""
            },
            "type": "contourcarpet"
           }
          ],
          "heatmap": [
           {
            "colorbar": {
             "outlinewidth": 0,
             "ticks": ""
            },
            "colorscale": [
             [
              0,
              "#0d0887"
             ],
             [
              0.1111111111111111,
              "#46039f"
             ],
             [
              0.2222222222222222,
              "#7201a8"
             ],
             [
              0.3333333333333333,
              "#9c179e"
             ],
             [
              0.4444444444444444,
              "#bd3786"
             ],
             [
              0.5555555555555556,
              "#d8576b"
             ],
             [
              0.6666666666666666,
              "#ed7953"
             ],
             [
              0.7777777777777778,
              "#fb9f3a"
             ],
             [
              0.8888888888888888,
              "#fdca26"
             ],
             [
              1,
              "#f0f921"
             ]
            ],
            "type": "heatmap"
           }
          ],
          "histogram": [
           {
            "marker": {
             "pattern": {
              "fillmode": "overlay",
              "size": 10,
              "solidity": 0.2
             }
            },
            "type": "histogram"
           }
          ],
          "histogram2d": [
           {
            "colorbar": {
             "outlinewidth": 0,
             "ticks": ""
            },
            "colorscale": [
             [
              0,
              "#0d0887"
             ],
             [
              0.1111111111111111,
              "#46039f"
             ],
             [
              0.2222222222222222,
              "#7201a8"
             ],
             [
              0.3333333333333333,
              "#9c179e"
             ],
             [
              0.4444444444444444,
              "#bd3786"
             ],
             [
              0.5555555555555556,
              "#d8576b"
             ],
             [
              0.6666666666666666,
              "#ed7953"
             ],
             [
              0.7777777777777778,
              "#fb9f3a"
             ],
             [
              0.8888888888888888,
              "#fdca26"
             ],
             [
              1,
              "#f0f921"
             ]
            ],
            "type": "histogram2d"
           }
          ],
          "histogram2dcontour": [
           {
            "colorbar": {
             "outlinewidth": 0,
             "ticks": ""
            },
            "colorscale": [
             [
              0,
              "#0d0887"
             ],
             [
              0.1111111111111111,
              "#46039f"
             ],
             [
              0.2222222222222222,
              "#7201a8"
             ],
             [
              0.3333333333333333,
              "#9c179e"
             ],
             [
              0.4444444444444444,
              "#bd3786"
             ],
             [
              0.5555555555555556,
              "#d8576b"
             ],
             [
              0.6666666666666666,
              "#ed7953"
             ],
             [
              0.7777777777777778,
              "#fb9f3a"
             ],
             [
              0.8888888888888888,
              "#fdca26"
             ],
             [
              1,
              "#f0f921"
             ]
            ],
            "type": "histogram2dcontour"
           }
          ],
          "mesh3d": [
           {
            "colorbar": {
             "outlinewidth": 0,
             "ticks": ""
            },
            "type": "mesh3d"
           }
          ],
          "parcoords": [
           {
            "line": {
             "colorbar": {
              "outlinewidth": 0,
              "ticks": ""
             }
            },
            "type": "parcoords"
           }
          ],
          "pie": [
           {
            "automargin": true,
            "type": "pie"
           }
          ],
          "scatter": [
           {
            "fillpattern": {
             "fillmode": "overlay",
             "size": 10,
             "solidity": 0.2
            },
            "type": "scatter"
           }
          ],
          "scatter3d": [
           {
            "line": {
             "colorbar": {
              "outlinewidth": 0,
              "ticks": ""
             }
            },
            "marker": {
             "colorbar": {
              "outlinewidth": 0,
              "ticks": ""
             }
            },
            "type": "scatter3d"
           }
          ],
          "scattercarpet": [
           {
            "marker": {
             "colorbar": {
              "outlinewidth": 0,
              "ticks": ""
             }
            },
            "type": "scattercarpet"
           }
          ],
          "scattergeo": [
           {
            "marker": {
             "colorbar": {
              "outlinewidth": 0,
              "ticks": ""
             }
            },
            "type": "scattergeo"
           }
          ],
          "scattergl": [
           {
            "marker": {
             "colorbar": {
              "outlinewidth": 0,
              "ticks": ""
             }
            },
            "type": "scattergl"
           }
          ],
          "scattermap": [
           {
            "marker": {
             "colorbar": {
              "outlinewidth": 0,
              "ticks": ""
             }
            },
            "type": "scattermap"
           }
          ],
          "scattermapbox": [
           {
            "marker": {
             "colorbar": {
              "outlinewidth": 0,
              "ticks": ""
             }
            },
            "type": "scattermapbox"
           }
          ],
          "scatterpolar": [
           {
            "marker": {
             "colorbar": {
              "outlinewidth": 0,
              "ticks": ""
             }
            },
            "type": "scatterpolar"
           }
          ],
          "scatterpolargl": [
           {
            "marker": {
             "colorbar": {
              "outlinewidth": 0,
              "ticks": ""
             }
            },
            "type": "scatterpolargl"
           }
          ],
          "scatterternary": [
           {
            "marker": {
             "colorbar": {
              "outlinewidth": 0,
              "ticks": ""
             }
            },
            "type": "scatterternary"
           }
          ],
          "surface": [
           {
            "colorbar": {
             "outlinewidth": 0,
             "ticks": ""
            },
            "colorscale": [
             [
              0,
              "#0d0887"
             ],
             [
              0.1111111111111111,
              "#46039f"
             ],
             [
              0.2222222222222222,
              "#7201a8"
             ],
             [
              0.3333333333333333,
              "#9c179e"
             ],
             [
              0.4444444444444444,
              "#bd3786"
             ],
             [
              0.5555555555555556,
              "#d8576b"
             ],
             [
              0.6666666666666666,
              "#ed7953"
             ],
             [
              0.7777777777777778,
              "#fb9f3a"
             ],
             [
              0.8888888888888888,
              "#fdca26"
             ],
             [
              1,
              "#f0f921"
             ]
            ],
            "type": "surface"
           }
          ],
          "table": [
           {
            "cells": {
             "fill": {
              "color": "#EBF0F8"
             },
             "line": {
              "color": "white"
             }
            },
            "header": {
             "fill": {
              "color": "#C8D4E3"
             },
             "line": {
              "color": "white"
             }
            },
            "type": "table"
           }
          ]
         },
         "layout": {
          "annotationdefaults": {
           "arrowcolor": "#2a3f5f",
           "arrowhead": 0,
           "arrowwidth": 1
          },
          "autotypenumbers": "strict",
          "coloraxis": {
           "colorbar": {
            "outlinewidth": 0,
            "ticks": ""
           }
          },
          "colorscale": {
           "diverging": [
            [
             0,
             "#8e0152"
            ],
            [
             0.1,
             "#c51b7d"
            ],
            [
             0.2,
             "#de77ae"
            ],
            [
             0.3,
             "#f1b6da"
            ],
            [
             0.4,
             "#fde0ef"
            ],
            [
             0.5,
             "#f7f7f7"
            ],
            [
             0.6,
             "#e6f5d0"
            ],
            [
             0.7,
             "#b8e186"
            ],
            [
             0.8,
             "#7fbc41"
            ],
            [
             0.9,
             "#4d9221"
            ],
            [
             1,
             "#276419"
            ]
           ],
           "sequential": [
            [
             0,
             "#0d0887"
            ],
            [
             0.1111111111111111,
             "#46039f"
            ],
            [
             0.2222222222222222,
             "#7201a8"
            ],
            [
             0.3333333333333333,
             "#9c179e"
            ],
            [
             0.4444444444444444,
             "#bd3786"
            ],
            [
             0.5555555555555556,
             "#d8576b"
            ],
            [
             0.6666666666666666,
             "#ed7953"
            ],
            [
             0.7777777777777778,
             "#fb9f3a"
            ],
            [
             0.8888888888888888,
             "#fdca26"
            ],
            [
             1,
             "#f0f921"
            ]
           ],
           "sequentialminus": [
            [
             0,
             "#0d0887"
            ],
            [
             0.1111111111111111,
             "#46039f"
            ],
            [
             0.2222222222222222,
             "#7201a8"
            ],
            [
             0.3333333333333333,
             "#9c179e"
            ],
            [
             0.4444444444444444,
             "#bd3786"
            ],
            [
             0.5555555555555556,
             "#d8576b"
            ],
            [
             0.6666666666666666,
             "#ed7953"
            ],
            [
             0.7777777777777778,
             "#fb9f3a"
            ],
            [
             0.8888888888888888,
             "#fdca26"
            ],
            [
             1,
             "#f0f921"
            ]
           ]
          },
          "colorway": [
           "#636efa",
           "#EF553B",
           "#00cc96",
           "#ab63fa",
           "#FFA15A",
           "#19d3f3",
           "#FF6692",
           "#B6E880",
           "#FF97FF",
           "#FECB52"
          ],
          "font": {
           "color": "#2a3f5f"
          },
          "geo": {
           "bgcolor": "white",
           "lakecolor": "white",
           "landcolor": "#E5ECF6",
           "showlakes": true,
           "showland": true,
           "subunitcolor": "white"
          },
          "hoverlabel": {
           "align": "left"
          },
          "hovermode": "closest",
          "mapbox": {
           "style": "light"
          },
          "paper_bgcolor": "white",
          "plot_bgcolor": "#E5ECF6",
          "polar": {
           "angularaxis": {
            "gridcolor": "white",
            "linecolor": "white",
            "ticks": ""
           },
           "bgcolor": "#E5ECF6",
           "radialaxis": {
            "gridcolor": "white",
            "linecolor": "white",
            "ticks": ""
           }
          },
          "scene": {
           "xaxis": {
            "backgroundcolor": "#E5ECF6",
            "gridcolor": "white",
            "gridwidth": 2,
            "linecolor": "white",
            "showbackground": true,
            "ticks": "",
            "zerolinecolor": "white"
           },
           "yaxis": {
            "backgroundcolor": "#E5ECF6",
            "gridcolor": "white",
            "gridwidth": 2,
            "linecolor": "white",
            "showbackground": true,
            "ticks": "",
            "zerolinecolor": "white"
           },
           "zaxis": {
            "backgroundcolor": "#E5ECF6",
            "gridcolor": "white",
            "gridwidth": 2,
            "linecolor": "white",
            "showbackground": true,
            "ticks": "",
            "zerolinecolor": "white"
           }
          },
          "shapedefaults": {
           "line": {
            "color": "#2a3f5f"
           }
          },
          "ternary": {
           "aaxis": {
            "gridcolor": "white",
            "linecolor": "white",
            "ticks": ""
           },
           "baxis": {
            "gridcolor": "white",
            "linecolor": "white",
            "ticks": ""
           },
           "bgcolor": "#E5ECF6",
           "caxis": {
            "gridcolor": "white",
            "linecolor": "white",
            "ticks": ""
           }
          },
          "title": {
           "x": 0.05
          },
          "xaxis": {
           "automargin": true,
           "gridcolor": "white",
           "linecolor": "white",
           "ticks": "",
           "title": {
            "standoff": 15
           },
           "zerolinecolor": "white",
           "zerolinewidth": 2
          },
          "yaxis": {
           "automargin": true,
           "gridcolor": "white",
           "linecolor": "white",
           "ticks": "",
           "title": {
            "standoff": 15
           },
           "zerolinecolor": "white",
           "zerolinewidth": 2
          }
         }
        },
        "title": {
         "text": "<b>Matriz de Correlación entre Pilares de Sostenibilidad</b><br><sup>Revela sinergias (azul) y trade-offs (rojo)</sup>",
         "x": 0.5
        },
        "xaxis": {
         "anchor": "y",
         "domain": [
          0,
          1
         ],
         "tickangle": -45
        },
        "yaxis": {
         "anchor": "x",
         "autorange": "reversed",
         "domain": [
          0,
          1
         ]
        }
       }
      }
     },
     "metadata": {},
     "output_type": "display_data"
    }
   ],
   "source": [
    "# --- 9. Matriz de Correlación entre Pilares de Sostenibilidad ---\n",
    "pillar_data = parallel_coords_df[dimensions]\n",
    "correlation_matrix = pillar_data.corr()\n",
    "fig_corr_matrix = px.imshow(\n",
    "    correlation_matrix,\n",
    "    text_auto=True,\n",
    "    aspect=\"auto\",\n",
    "    color_continuous_scale='blues', \n",
    "    zmin=-1, zmax=1\n",
    ")\n",
    "fig_corr_matrix.update_layout(\n",
    "    title_text='<b>Matriz de Correlación entre Pilares de Sostenibilidad</b><br><sup>Revela sinergias (azul) y trade-offs (rojo)</sup>',\n",
    "    title_x=0.5,\n",
    "    xaxis_tickangle=-45,\n",
    "    font=dict(family=\"Arial, sans-serif\", size=10, color=\"black\")\n",
    ")\n",
    "fig_corr_matrix.show()\n",
    "save_chart_as_html(fig_corr_matrix, '09_correlation_matrix_sustainability_pillars.html')"
   ]
  },
  {
   "cell_type": "markdown",
   "metadata": {},
   "source": [
    "## 10. Gráfico de Barras Divergentes: Desempeño Relativo al Sector"
   ]
  },
  {
   "cell_type": "code",
   "execution_count": 90,
   "metadata": {},
   "outputs": [
    {
     "data": {
      "application/vnd.plotly.v1+json": {
       "config": {
        "plotlyServerURL": "https://plot.ly"
       },
       "data": [
        {
         "hovertemplate": "Desempeño_Relativo=Inferior al Promedio<br>Diferencia vs. Promedio del Sector=%{x}<br>Empresa=%{y}<extra></extra>",
         "legendgroup": "Inferior al Promedio",
         "marker": {
          "color": "red",
          "pattern": {
           "shape": ""
          }
         },
         "name": "Inferior al Promedio",
         "orientation": "h",
         "showlegend": true,
         "textposition": "auto",
         "type": "bar",
         "x": {
          "bdata": "nhVMi+SNUsCtpu5yXixQwK2m7nJeLFDA+IavnCo0ScDsw/qTkc9kwOzD+pORz2TA7MP6k5HPZMDsw/qTkc9kwOzD+pORz2TA7MP6k5HPZMDsw/qTkc9kwOzD+pORz2TA7MP6k5HPZMDAWQyjoN5hwG5QQmRfW1HA6Ff48z/xMcAADVK5fn38vyuTpvEONWbAQO2BqHxQZcD2bOhyu9JWwMRuoegPsEfAqPrx9b7uM8BWnYHFnC9wwFadgcWcL3DAVp2BxZwvcMDIpbQs9mVuwKjNRgU632PA8l/AMAaSXcBs+HmbCwFRwFCbiaNAWknASGmkGFvpRsAwlSE+QQlGwPB9U/ZRpUHAUAoLS+fDOMAAY7ylqvQfwGY/tty9HHXA/KU+epYGccDIWYfVzo1UwIBqDCmslTbApUUcOKIHdMDUYbwdWLxcwHDyoWF5NFXAmBjKDCcvUMAY1SbVT2hIwED0yEMDEkHA",
          "dtype": "f8"
         },
         "xaxis": "x",
         "y": [
          "AVSA",
          "AVICOLA EL MADROÑO SA",
          "INCUBADORA SANTANDER S.A. (Huevos Kikes)",
          "Sunshine Bouquet",
          "ARA",
          "Biomax",
          "CI Eslop",
          "Corbeta",
          "Distracom",
          "Petromil",
          "Suramerica Comercial (Dollar City)",
          "Tecnoquimicas",
          "Unilever",
          "Olímpica",
          "Chevron",
          "Pricesmart",
          "Trafigura (Petroleum)",
          "ISMOCOL SA",
          "ARQUITECTURA Y CONCRETO",
          "CONSTRUCTORA CAPITAL BOGOTA SAS",
          "CONSTRUCCIONES EL CONDOR S.A",
          "CONSTRUCTORA COLPATRIA  SAS",
          "Grupo Diana",
          "Italcol",
          "POLLOS EL BUCANERO S.A. (Cargill)",
          "ES Windows",
          "Yamaha",
          "Bavaria (Kopps)",
          "Compañía Nacional de Chocolates",
          "Nestle",
          "BEL STAR S.A.",
          "YARA COLOMBIA S.A.",
          "Pepsico",
          "Colgate",
          "General Motors",
          "C.I Prodeco",
          "Verano energy",
          "Cerrejón",
          "Gran Tierra Energy",
          "Rappi",
          "Isagen",
          "Gases del Caribe",
          "Mercado Libre",
          "Tigo",
          "Avianca"
         ],
         "yaxis": "y"
        },
        {
         "hovertemplate": "Desempeño_Relativo=Superior al Promedio<br>Diferencia vs. Promedio del Sector=%{x}<br>Empresa=%{y}<extra></extra>",
         "legendgroup": "Superior al Promedio",
         "marker": {
          "color": "green",
          "pattern": {
           "shape": ""
          }
         },
         "name": "Superior al Promedio",
         "orientation": "h",
         "showlegend": true,
         "textposition": "auto",
         "type": "bar",
         "x": {
          "bdata": "FIGn6otyRkD5shZluCNqQIBPC3Sbuy9AyBsiChQcQUDIkDPRzU1SQPTtm09IulRAgN1qbnP3WkC0pHtzCKBeQLxq84uRkF9AcM6T1KxcYECEjXwbE4BiQB6FKUX7z2pAiLTsQL05a0AE5J1/6pprQOSoDQ5ec21AYJZ8klHUJ0CEuYzyP4ZFQBTZSeMpJ0xA3+XmNvF+ZUD9/f5mNPFrQADpb5FCcjNAKB8zLvjvSUCAmvPmY7xLQAjVWdTJFFVADLkubsgYWECUdFWEMz5YQMSUSAcVrFpAjOPgZwjpXEAop35zkjVhQHhRpq0HrWZAgDwYICb2Z0DokGJpge1qQPQqvxYBoWtA0Iu6FOeuT0CsBIl5b/JZQLA0cpLUWVpAoLxotyFwYEBIqbCDRhpiQGhfiZcBxGRAgIp6xJBpGUCA7BQt73M0QPDv/mztAjZAoGZR2y50PkBIFtDdzWBIQKDvtQl0TUlAkBKSBuU6S0DgZJZmGcNRQMC/kPLKlVJA2G5Hq0oWVECwgJklG4lVQFxOXG5xvV5A",
          "dtype": "f8"
         },
         "xaxis": "x",
         "y": [
          "Grupo Bios",
          "Aliar",
          "Sucafina",
          "Mazda",
          "Uniban",
          "Cencosud",
          "Samsung",
          "Toyota",
          "Cruz Verde",
          "D1",
          "Éxito",
          "Sodimac (Homecenter)",
          "Falabella",
          "Primax",
          "Terpel",
          "MARVAL S.A.S.",
          "CONCESIONARIA VIAL UNIÓN DEL SUR SAS",
          "Conconcreto",
          "Amarilo",
          "AUTOPISTA RIO MAGDALENA SAS",
          "Reficar",
          "Renault",
          "CARTON DE COLOMBIA S.A. (Smurfit Kappa)",
          "Productos Familia (Essity)",
          "Haceb",
          "Alpina",
          "Coca Cola- Femsa",
          "Riopaila Castilla",
          "Cementos Argos",
          "Colombina",
          "Alimentos Carnicos (Grupo Nutresa)",
          "Esenttia",
          "Postobón",
          "Frontera Energy",
          "Hocol",
          "SierraCol Energy",
          "Ecopetrol",
          "Geopark",
          "Drummond",
          "LATAM",
          "Oleoducto Central (Ocensa)",
          "ISA",
          "Teleperformance",
          "GEB",
          "EPM",
          "Celsia",
          "Telefónica",
          "Cenit",
          "Promigas",
          "Claro",
          "Emgesa"
         ],
         "yaxis": "y"
        }
       ],
       "layout": {
        "barmode": "relative",
        "font": {
         "color": "black",
         "family": "Arial, sans-serif",
         "size": 10
        },
        "height": 1920,
        "legend": {
         "title": {
          "text": "Desempeño_Relativo"
         },
         "tracegroupgap": 0
        },
        "margin": {
         "t": 60
        },
        "template": {
         "data": {
          "bar": [
           {
            "error_x": {
             "color": "#2a3f5f"
            },
            "error_y": {
             "color": "#2a3f5f"
            },
            "marker": {
             "line": {
              "color": "#E5ECF6",
              "width": 0.5
             },
             "pattern": {
              "fillmode": "overlay",
              "size": 10,
              "solidity": 0.2
             }
            },
            "type": "bar"
           }
          ],
          "barpolar": [
           {
            "marker": {
             "line": {
              "color": "#E5ECF6",
              "width": 0.5
             },
             "pattern": {
              "fillmode": "overlay",
              "size": 10,
              "solidity": 0.2
             }
            },
            "type": "barpolar"
           }
          ],
          "carpet": [
           {
            "aaxis": {
             "endlinecolor": "#2a3f5f",
             "gridcolor": "white",
             "linecolor": "white",
             "minorgridcolor": "white",
             "startlinecolor": "#2a3f5f"
            },
            "baxis": {
             "endlinecolor": "#2a3f5f",
             "gridcolor": "white",
             "linecolor": "white",
             "minorgridcolor": "white",
             "startlinecolor": "#2a3f5f"
            },
            "type": "carpet"
           }
          ],
          "choropleth": [
           {
            "colorbar": {
             "outlinewidth": 0,
             "ticks": ""
            },
            "type": "choropleth"
           }
          ],
          "contour": [
           {
            "colorbar": {
             "outlinewidth": 0,
             "ticks": ""
            },
            "colorscale": [
             [
              0,
              "#0d0887"
             ],
             [
              0.1111111111111111,
              "#46039f"
             ],
             [
              0.2222222222222222,
              "#7201a8"
             ],
             [
              0.3333333333333333,
              "#9c179e"
             ],
             [
              0.4444444444444444,
              "#bd3786"
             ],
             [
              0.5555555555555556,
              "#d8576b"
             ],
             [
              0.6666666666666666,
              "#ed7953"
             ],
             [
              0.7777777777777778,
              "#fb9f3a"
             ],
             [
              0.8888888888888888,
              "#fdca26"
             ],
             [
              1,
              "#f0f921"
             ]
            ],
            "type": "contour"
           }
          ],
          "contourcarpet": [
           {
            "colorbar": {
             "outlinewidth": 0,
             "ticks": ""
            },
            "type": "contourcarpet"
           }
          ],
          "heatmap": [
           {
            "colorbar": {
             "outlinewidth": 0,
             "ticks": ""
            },
            "colorscale": [
             [
              0,
              "#0d0887"
             ],
             [
              0.1111111111111111,
              "#46039f"
             ],
             [
              0.2222222222222222,
              "#7201a8"
             ],
             [
              0.3333333333333333,
              "#9c179e"
             ],
             [
              0.4444444444444444,
              "#bd3786"
             ],
             [
              0.5555555555555556,
              "#d8576b"
             ],
             [
              0.6666666666666666,
              "#ed7953"
             ],
             [
              0.7777777777777778,
              "#fb9f3a"
             ],
             [
              0.8888888888888888,
              "#fdca26"
             ],
             [
              1,
              "#f0f921"
             ]
            ],
            "type": "heatmap"
           }
          ],
          "histogram": [
           {
            "marker": {
             "pattern": {
              "fillmode": "overlay",
              "size": 10,
              "solidity": 0.2
             }
            },
            "type": "histogram"
           }
          ],
          "histogram2d": [
           {
            "colorbar": {
             "outlinewidth": 0,
             "ticks": ""
            },
            "colorscale": [
             [
              0,
              "#0d0887"
             ],
             [
              0.1111111111111111,
              "#46039f"
             ],
             [
              0.2222222222222222,
              "#7201a8"
             ],
             [
              0.3333333333333333,
              "#9c179e"
             ],
             [
              0.4444444444444444,
              "#bd3786"
             ],
             [
              0.5555555555555556,
              "#d8576b"
             ],
             [
              0.6666666666666666,
              "#ed7953"
             ],
             [
              0.7777777777777778,
              "#fb9f3a"
             ],
             [
              0.8888888888888888,
              "#fdca26"
             ],
             [
              1,
              "#f0f921"
             ]
            ],
            "type": "histogram2d"
           }
          ],
          "histogram2dcontour": [
           {
            "colorbar": {
             "outlinewidth": 0,
             "ticks": ""
            },
            "colorscale": [
             [
              0,
              "#0d0887"
             ],
             [
              0.1111111111111111,
              "#46039f"
             ],
             [
              0.2222222222222222,
              "#7201a8"
             ],
             [
              0.3333333333333333,
              "#9c179e"
             ],
             [
              0.4444444444444444,
              "#bd3786"
             ],
             [
              0.5555555555555556,
              "#d8576b"
             ],
             [
              0.6666666666666666,
              "#ed7953"
             ],
             [
              0.7777777777777778,
              "#fb9f3a"
             ],
             [
              0.8888888888888888,
              "#fdca26"
             ],
             [
              1,
              "#f0f921"
             ]
            ],
            "type": "histogram2dcontour"
           }
          ],
          "mesh3d": [
           {
            "colorbar": {
             "outlinewidth": 0,
             "ticks": ""
            },
            "type": "mesh3d"
           }
          ],
          "parcoords": [
           {
            "line": {
             "colorbar": {
              "outlinewidth": 0,
              "ticks": ""
             }
            },
            "type": "parcoords"
           }
          ],
          "pie": [
           {
            "automargin": true,
            "type": "pie"
           }
          ],
          "scatter": [
           {
            "fillpattern": {
             "fillmode": "overlay",
             "size": 10,
             "solidity": 0.2
            },
            "type": "scatter"
           }
          ],
          "scatter3d": [
           {
            "line": {
             "colorbar": {
              "outlinewidth": 0,
              "ticks": ""
             }
            },
            "marker": {
             "colorbar": {
              "outlinewidth": 0,
              "ticks": ""
             }
            },
            "type": "scatter3d"
           }
          ],
          "scattercarpet": [
           {
            "marker": {
             "colorbar": {
              "outlinewidth": 0,
              "ticks": ""
             }
            },
            "type": "scattercarpet"
           }
          ],
          "scattergeo": [
           {
            "marker": {
             "colorbar": {
              "outlinewidth": 0,
              "ticks": ""
             }
            },
            "type": "scattergeo"
           }
          ],
          "scattergl": [
           {
            "marker": {
             "colorbar": {
              "outlinewidth": 0,
              "ticks": ""
             }
            },
            "type": "scattergl"
           }
          ],
          "scattermap": [
           {
            "marker": {
             "colorbar": {
              "outlinewidth": 0,
              "ticks": ""
             }
            },
            "type": "scattermap"
           }
          ],
          "scattermapbox": [
           {
            "marker": {
             "colorbar": {
              "outlinewidth": 0,
              "ticks": ""
             }
            },
            "type": "scattermapbox"
           }
          ],
          "scatterpolar": [
           {
            "marker": {
             "colorbar": {
              "outlinewidth": 0,
              "ticks": ""
             }
            },
            "type": "scatterpolar"
           }
          ],
          "scatterpolargl": [
           {
            "marker": {
             "colorbar": {
              "outlinewidth": 0,
              "ticks": ""
             }
            },
            "type": "scatterpolargl"
           }
          ],
          "scatterternary": [
           {
            "marker": {
             "colorbar": {
              "outlinewidth": 0,
              "ticks": ""
             }
            },
            "type": "scatterternary"
           }
          ],
          "surface": [
           {
            "colorbar": {
             "outlinewidth": 0,
             "ticks": ""
            },
            "colorscale": [
             [
              0,
              "#0d0887"
             ],
             [
              0.1111111111111111,
              "#46039f"
             ],
             [
              0.2222222222222222,
              "#7201a8"
             ],
             [
              0.3333333333333333,
              "#9c179e"
             ],
             [
              0.4444444444444444,
              "#bd3786"
             ],
             [
              0.5555555555555556,
              "#d8576b"
             ],
             [
              0.6666666666666666,
              "#ed7953"
             ],
             [
              0.7777777777777778,
              "#fb9f3a"
             ],
             [
              0.8888888888888888,
              "#fdca26"
             ],
             [
              1,
              "#f0f921"
             ]
            ],
            "type": "surface"
           }
          ],
          "table": [
           {
            "cells": {
             "fill": {
              "color": "#EBF0F8"
             },
             "line": {
              "color": "white"
             }
            },
            "header": {
             "fill": {
              "color": "#C8D4E3"
             },
             "line": {
              "color": "white"
             }
            },
            "type": "table"
           }
          ]
         },
         "layout": {
          "annotationdefaults": {
           "arrowcolor": "#2a3f5f",
           "arrowhead": 0,
           "arrowwidth": 1
          },
          "autotypenumbers": "strict",
          "coloraxis": {
           "colorbar": {
            "outlinewidth": 0,
            "ticks": ""
           }
          },
          "colorscale": {
           "diverging": [
            [
             0,
             "#8e0152"
            ],
            [
             0.1,
             "#c51b7d"
            ],
            [
             0.2,
             "#de77ae"
            ],
            [
             0.3,
             "#f1b6da"
            ],
            [
             0.4,
             "#fde0ef"
            ],
            [
             0.5,
             "#f7f7f7"
            ],
            [
             0.6,
             "#e6f5d0"
            ],
            [
             0.7,
             "#b8e186"
            ],
            [
             0.8,
             "#7fbc41"
            ],
            [
             0.9,
             "#4d9221"
            ],
            [
             1,
             "#276419"
            ]
           ],
           "sequential": [
            [
             0,
             "#0d0887"
            ],
            [
             0.1111111111111111,
             "#46039f"
            ],
            [
             0.2222222222222222,
             "#7201a8"
            ],
            [
             0.3333333333333333,
             "#9c179e"
            ],
            [
             0.4444444444444444,
             "#bd3786"
            ],
            [
             0.5555555555555556,
             "#d8576b"
            ],
            [
             0.6666666666666666,
             "#ed7953"
            ],
            [
             0.7777777777777778,
             "#fb9f3a"
            ],
            [
             0.8888888888888888,
             "#fdca26"
            ],
            [
             1,
             "#f0f921"
            ]
           ],
           "sequentialminus": [
            [
             0,
             "#0d0887"
            ],
            [
             0.1111111111111111,
             "#46039f"
            ],
            [
             0.2222222222222222,
             "#7201a8"
            ],
            [
             0.3333333333333333,
             "#9c179e"
            ],
            [
             0.4444444444444444,
             "#bd3786"
            ],
            [
             0.5555555555555556,
             "#d8576b"
            ],
            [
             0.6666666666666666,
             "#ed7953"
            ],
            [
             0.7777777777777778,
             "#fb9f3a"
            ],
            [
             0.8888888888888888,
             "#fdca26"
            ],
            [
             1,
             "#f0f921"
            ]
           ]
          },
          "colorway": [
           "#636efa",
           "#EF553B",
           "#00cc96",
           "#ab63fa",
           "#FFA15A",
           "#19d3f3",
           "#FF6692",
           "#B6E880",
           "#FF97FF",
           "#FECB52"
          ],
          "font": {
           "color": "#2a3f5f"
          },
          "geo": {
           "bgcolor": "white",
           "lakecolor": "white",
           "landcolor": "#E5ECF6",
           "showlakes": true,
           "showland": true,
           "subunitcolor": "white"
          },
          "hoverlabel": {
           "align": "left"
          },
          "hovermode": "closest",
          "mapbox": {
           "style": "light"
          },
          "paper_bgcolor": "white",
          "plot_bgcolor": "#E5ECF6",
          "polar": {
           "angularaxis": {
            "gridcolor": "white",
            "linecolor": "white",
            "ticks": ""
           },
           "bgcolor": "#E5ECF6",
           "radialaxis": {
            "gridcolor": "white",
            "linecolor": "white",
            "ticks": ""
           }
          },
          "scene": {
           "xaxis": {
            "backgroundcolor": "#E5ECF6",
            "gridcolor": "white",
            "gridwidth": 2,
            "linecolor": "white",
            "showbackground": true,
            "ticks": "",
            "zerolinecolor": "white"
           },
           "yaxis": {
            "backgroundcolor": "#E5ECF6",
            "gridcolor": "white",
            "gridwidth": 2,
            "linecolor": "white",
            "showbackground": true,
            "ticks": "",
            "zerolinecolor": "white"
           },
           "zaxis": {
            "backgroundcolor": "#E5ECF6",
            "gridcolor": "white",
            "gridwidth": 2,
            "linecolor": "white",
            "showbackground": true,
            "ticks": "",
            "zerolinecolor": "white"
           }
          },
          "shapedefaults": {
           "line": {
            "color": "#2a3f5f"
           }
          },
          "ternary": {
           "aaxis": {
            "gridcolor": "white",
            "linecolor": "white",
            "ticks": ""
           },
           "baxis": {
            "gridcolor": "white",
            "linecolor": "white",
            "ticks": ""
           },
           "bgcolor": "#E5ECF6",
           "caxis": {
            "gridcolor": "white",
            "linecolor": "white",
            "ticks": ""
           }
          },
          "title": {
           "x": 0.05
          },
          "xaxis": {
           "automargin": true,
           "gridcolor": "white",
           "linecolor": "white",
           "ticks": "",
           "title": {
            "standoff": 15
           },
           "zerolinecolor": "white",
           "zerolinewidth": 2
          },
          "yaxis": {
           "automargin": true,
           "gridcolor": "white",
           "linecolor": "white",
           "ticks": "",
           "title": {
            "standoff": 15
           },
           "zerolinecolor": "white",
           "zerolinewidth": 2
          }
         }
        },
        "title": {
         "text": "<b>Desempeño Relativo de Sostenibilidad vs. Promedio del Sector</b><br><sup>Barras verdes superan el promedio, rojas están por debajo</sup>",
         "x": 0.5
        },
        "xaxis": {
         "anchor": "y",
         "domain": [
          0,
          1
         ],
         "title": {
          "text": "Desviación del Promedio del Sector"
         }
        },
        "yaxis": {
         "anchor": "x",
         "domain": [
          0,
          1
         ],
         "title": {
          "text": "Empresa"
         }
        }
       }
      }
     },
     "metadata": {},
     "output_type": "display_data"
    }
   ],
   "source": [
    "sector_avg_score = company_agg_data.groupby('Macrosector')['Puntaje_Total_Sostenibilidad'].mean().reset_index()\n",
    "sector_avg_score.rename(columns={'Puntaje_Total_Sostenibilidad': 'Promedio_Sector'}, inplace=True)\n",
    "diverging_data = pd.merge(company_agg_data, sector_avg_score, on='Macrosector')\n",
    "diverging_data['Diferencia_vs_Promedio'] = diverging_data['Puntaje_Total_Sostenibilidad'] - diverging_data['Promedio_Sector']\n",
    "diverging_data['Desempeño_Relativo'] = np.where(diverging_data['Diferencia_vs_Promedio'] >= 0, 'Superior al Promedio', 'Inferior al Promedio')\n",
    "diverging_data.sort_values(by=['Macrosector', 'Diferencia_vs_Promedio'], inplace=True)\n",
    "fig_diverging_bar = px.bar(\n",
    "    diverging_data,\n",
    "    x='Diferencia_vs_Promedio',\n",
    "    y='Razón social',\n",
    "    color='Desempeño_Relativo',\n",
    "    color_discrete_map={\n",
    "        'Superior al Promedio': 'green',\n",
    "        'Inferior al Promedio': 'red'\n",
    "    },\n",
    "    orientation='h',\n",
    "    labels={'Diferencia_vs_Promedio': 'Diferencia vs. Promedio del Sector', 'Razón social': 'Empresa'}\n",
    ")\n",
    "fig_diverging_bar.update_layout(\n",
    "    title='<b>Desempeño Relativo de Sostenibilidad vs. Promedio del Sector</b><br><sup>Barras verdes superan el promedio, rojas están por debajo</sup>',\n",
    "    title_x=0.5,\n",
    "    yaxis_title='Empresa',\n",
    "    xaxis_title='Desviación del Promedio del Sector',\n",
    "    font=dict(family=\"Arial, sans-serif\", size=10, color=\"black\"),\n",
    "    height=max(600, len(diverging_data) * 20) \n",
    ")\n",
    "fig_diverging_bar.show()\n",
    "save_chart_as_html(fig_diverging_bar, '09_diverging_bar_performance_vs_sector.html')"
   ]
  },
  {
   "cell_type": "markdown",
   "metadata": {},
   "source": [
    "# **Parte 3: Análisis Comparativo y de Atributos Específicos**"
   ]
  },
  {
   "cell_type": "markdown",
   "metadata": {},
   "source": [
    "## 11. Gráfico de Cajas Comparativo: Propiedad y Desempeño (Pública vs. Privada)"
   ]
  },
  {
   "cell_type": "code",
   "execution_count": 91,
   "metadata": {},
   "outputs": [
    {
     "data": {
      "application/vnd.plotly.v1+json": {
       "config": {
        "plotlyServerURL": "https://plot.ly"
       },
       "data": [
        {
         "alignmentgroup": "True",
         "boxpoints": "all",
         "hovertemplate": "Tipo de propiedad (Privada, Pública, Mixta)=%{x}<br>Puntaje_Total_Sostenibilidad=%{y}<extra></extra>",
         "legendgroup": "Privada",
         "marker": {
          "color": "#636efa"
         },
         "name": "Privada",
         "notched": true,
         "offsetgroup": "Privada",
         "orientation": "v",
         "showlegend": true,
         "type": "box",
         "x": [
          "Privada",
          "Privada",
          "Privada",
          "Privada",
          "Privada",
          "Privada",
          "Privada",
          "Privada",
          "Privada",
          "Privada",
          "Privada",
          "Privada",
          "Privada",
          "Privada",
          "Privada",
          "Privada",
          "Privada",
          "Privada",
          "Privada",
          "Privada",
          "Privada",
          "Privada",
          "Privada",
          "Privada",
          "Privada",
          "Privada",
          "Privada",
          "Privada",
          "Privada",
          "Privada",
          "Privada",
          "Privada",
          "Privada",
          "Privada",
          "Privada",
          "Privada",
          "Privada",
          "Privada",
          "Privada",
          "Privada",
          "Privada",
          "Privada",
          "Privada",
          "Privada",
          "Privada",
          "Privada",
          "Privada",
          "Privada",
          "Privada",
          "Privada",
          "Privada",
          "Privada",
          "Privada",
          "Privada",
          "Privada",
          "Privada",
          "Privada",
          "Privada",
          "Privada",
          "Privada",
          "Privada",
          "Privada",
          "Privada",
          "Privada",
          "Privada",
          "Privada",
          "Privada",
          "Privada",
          "Privada",
          "Privada",
          "Privada",
          "Privada",
          "Privada",
          "Privada",
          "Privada",
          "Privada",
          "Privada",
          "Privada",
          "Privada"
         ],
         "x0": " ",
         "xaxis": "x",
         "y": {
          "bdata": "PWR0h4eHV0Ca2KQkSRJQQMWr6dBqpXxALbPntm3bUUB4iBQ9z/NOQPPvAD3Pk3VAGcerIOyMgEAXzWASUi57QLaf3ThJbHlA0T3rGq3wdUDJ4jbOmUFyQOuvNkqHdGtAPWR0h4eHV0Bxhur///9IQELjKa5RlnhAPWR0h4eHV0D3w7ubmF1xQNz9q0CdbWdAEiNggUPwYUA4GhZcydtqQKueNiRKentAhsMKa465fUCCdsG/PHh1QMK5USdKGXNA082TpaXlZ0CFvMpMNHV9QE2/mryGknNAV0wPhKQ6gEDX8WxKgt5wQOln09m1MXJAPWR0h4eHV0C0VdcOzy14QD1iJBYBeHhAPWR0h4eHV0D0HzxUX0+BQDl0xGsor1dASdVQTInmfUCu4Uq/mjJ8QL3f+yrPxXJAbPJFj/CkgECMySIaY9N2QDINlQ+JoGZAckonr6G8U0A1HtdM9yR7QF/RFbtZuX5ALbPntm3bUUCHGbckSZJMQHJKJ6+hvFNAg0Z2xpN4eEDzIvxT5tZuQH6+Hi0tbXJAM9YxwCMHdECTOFFpaWldQHJKJ6+hvFNAPWR0h4eHV0C2glXeoneBQA3rNVktVW5AB22p6x8XfkA05WGm92N6QA84Ni6AGH1Az1ogLS0tUEDVqENLB1l8QGUydYeHB3dAYB1QATPTfkCUPW9OqLF9QIHVeoeHR3FAXpZ+27ZtVUA9ZHSHh4dXQD1kdIeHh1dAw3IZcTD6eUB3T+GyWQN/QDJkucis8XdA+CghLS0tcEA3XycgHt10QD1kdIeHh1dA36jTiZ3YXEBMPYcJnV1yQDwSUF1QXmZAx8GYObSJeUA=",
          "dtype": "f8"
         },
         "y0": " ",
         "yaxis": "y"
        },
        {
         "alignmentgroup": "True",
         "boxpoints": "all",
         "hovertemplate": "Tipo de propiedad (Privada, Pública, Mixta)=%{x}<br>Puntaje_Total_Sostenibilidad=%{y}<extra></extra>",
         "legendgroup": "Mixta",
         "marker": {
          "color": "#EF553B"
         },
         "name": "Mixta",
         "notched": true,
         "offsetgroup": "Mixta",
         "orientation": "v",
         "showlegend": true,
         "type": "box",
         "x": [
          "Mixta",
          "Mixta",
          "Mixta",
          "Mixta",
          "Mixta",
          "Mixta",
          "Mixta",
          "Mixta",
          "Mixta",
          "Mixta",
          "Mixta",
          "Mixta",
          "Mixta",
          "Mixta"
         ],
         "x0": " ",
         "xaxis": "x",
         "y": {
          "bdata": "SYwIQGC4fEAjlR1zysl7QEL3M1xnOoBA8G/73knCf0AzXP7ywkqBQCJfHj8HH3tAWEs0WhxzeUDkQ/V71+NwQIg82hx983FAIas1dixaeUCCbmJa6VV2QNfTETfEXHhAkfUJ3bODfEC2gb+I4wV1QA==",
          "dtype": "f8"
         },
         "y0": " ",
         "yaxis": "y"
        },
        {
         "alignmentgroup": "True",
         "boxpoints": "all",
         "hovertemplate": "Tipo de propiedad (Privada, Pública, Mixta)=%{x}<br>Puntaje_Total_Sostenibilidad=%{y}<extra></extra>",
         "legendgroup": "Pública",
         "marker": {
          "color": "#00cc96"
         },
         "name": "Pública",
         "notched": true,
         "offsetgroup": "Pública",
         "orientation": "v",
         "showlegend": true,
         "type": "box",
         "x": [
          "Pública",
          "Pública",
          "Pública"
         ],
         "x0": " ",
         "xaxis": "x",
         "y": {
          "bdata": "TRqbBJw8e0BmfrSG8p50QDQAgfIa6nJA",
          "dtype": "f8"
         },
         "y0": " ",
         "yaxis": "y"
        }
       ],
       "layout": {
        "boxmode": "overlay",
        "font": {
         "color": "black",
         "family": "Arial, sans-serif",
         "size": 12
        },
        "legend": {
         "title": {
          "text": "Tipo de propiedad (Privada, Pública, Mixta)"
         },
         "tracegroupgap": 0
        },
        "margin": {
         "t": 60
        },
        "showlegend": false,
        "template": {
         "data": {
          "bar": [
           {
            "error_x": {
             "color": "#2a3f5f"
            },
            "error_y": {
             "color": "#2a3f5f"
            },
            "marker": {
             "line": {
              "color": "#E5ECF6",
              "width": 0.5
             },
             "pattern": {
              "fillmode": "overlay",
              "size": 10,
              "solidity": 0.2
             }
            },
            "type": "bar"
           }
          ],
          "barpolar": [
           {
            "marker": {
             "line": {
              "color": "#E5ECF6",
              "width": 0.5
             },
             "pattern": {
              "fillmode": "overlay",
              "size": 10,
              "solidity": 0.2
             }
            },
            "type": "barpolar"
           }
          ],
          "carpet": [
           {
            "aaxis": {
             "endlinecolor": "#2a3f5f",
             "gridcolor": "white",
             "linecolor": "white",
             "minorgridcolor": "white",
             "startlinecolor": "#2a3f5f"
            },
            "baxis": {
             "endlinecolor": "#2a3f5f",
             "gridcolor": "white",
             "linecolor": "white",
             "minorgridcolor": "white",
             "startlinecolor": "#2a3f5f"
            },
            "type": "carpet"
           }
          ],
          "choropleth": [
           {
            "colorbar": {
             "outlinewidth": 0,
             "ticks": ""
            },
            "type": "choropleth"
           }
          ],
          "contour": [
           {
            "colorbar": {
             "outlinewidth": 0,
             "ticks": ""
            },
            "colorscale": [
             [
              0,
              "#0d0887"
             ],
             [
              0.1111111111111111,
              "#46039f"
             ],
             [
              0.2222222222222222,
              "#7201a8"
             ],
             [
              0.3333333333333333,
              "#9c179e"
             ],
             [
              0.4444444444444444,
              "#bd3786"
             ],
             [
              0.5555555555555556,
              "#d8576b"
             ],
             [
              0.6666666666666666,
              "#ed7953"
             ],
             [
              0.7777777777777778,
              "#fb9f3a"
             ],
             [
              0.8888888888888888,
              "#fdca26"
             ],
             [
              1,
              "#f0f921"
             ]
            ],
            "type": "contour"
           }
          ],
          "contourcarpet": [
           {
            "colorbar": {
             "outlinewidth": 0,
             "ticks": ""
            },
            "type": "contourcarpet"
           }
          ],
          "heatmap": [
           {
            "colorbar": {
             "outlinewidth": 0,
             "ticks": ""
            },
            "colorscale": [
             [
              0,
              "#0d0887"
             ],
             [
              0.1111111111111111,
              "#46039f"
             ],
             [
              0.2222222222222222,
              "#7201a8"
             ],
             [
              0.3333333333333333,
              "#9c179e"
             ],
             [
              0.4444444444444444,
              "#bd3786"
             ],
             [
              0.5555555555555556,
              "#d8576b"
             ],
             [
              0.6666666666666666,
              "#ed7953"
             ],
             [
              0.7777777777777778,
              "#fb9f3a"
             ],
             [
              0.8888888888888888,
              "#fdca26"
             ],
             [
              1,
              "#f0f921"
             ]
            ],
            "type": "heatmap"
           }
          ],
          "histogram": [
           {
            "marker": {
             "pattern": {
              "fillmode": "overlay",
              "size": 10,
              "solidity": 0.2
             }
            },
            "type": "histogram"
           }
          ],
          "histogram2d": [
           {
            "colorbar": {
             "outlinewidth": 0,
             "ticks": ""
            },
            "colorscale": [
             [
              0,
              "#0d0887"
             ],
             [
              0.1111111111111111,
              "#46039f"
             ],
             [
              0.2222222222222222,
              "#7201a8"
             ],
             [
              0.3333333333333333,
              "#9c179e"
             ],
             [
              0.4444444444444444,
              "#bd3786"
             ],
             [
              0.5555555555555556,
              "#d8576b"
             ],
             [
              0.6666666666666666,
              "#ed7953"
             ],
             [
              0.7777777777777778,
              "#fb9f3a"
             ],
             [
              0.8888888888888888,
              "#fdca26"
             ],
             [
              1,
              "#f0f921"
             ]
            ],
            "type": "histogram2d"
           }
          ],
          "histogram2dcontour": [
           {
            "colorbar": {
             "outlinewidth": 0,
             "ticks": ""
            },
            "colorscale": [
             [
              0,
              "#0d0887"
             ],
             [
              0.1111111111111111,
              "#46039f"
             ],
             [
              0.2222222222222222,
              "#7201a8"
             ],
             [
              0.3333333333333333,
              "#9c179e"
             ],
             [
              0.4444444444444444,
              "#bd3786"
             ],
             [
              0.5555555555555556,
              "#d8576b"
             ],
             [
              0.6666666666666666,
              "#ed7953"
             ],
             [
              0.7777777777777778,
              "#fb9f3a"
             ],
             [
              0.8888888888888888,
              "#fdca26"
             ],
             [
              1,
              "#f0f921"
             ]
            ],
            "type": "histogram2dcontour"
           }
          ],
          "mesh3d": [
           {
            "colorbar": {
             "outlinewidth": 0,
             "ticks": ""
            },
            "type": "mesh3d"
           }
          ],
          "parcoords": [
           {
            "line": {
             "colorbar": {
              "outlinewidth": 0,
              "ticks": ""
             }
            },
            "type": "parcoords"
           }
          ],
          "pie": [
           {
            "automargin": true,
            "type": "pie"
           }
          ],
          "scatter": [
           {
            "fillpattern": {
             "fillmode": "overlay",
             "size": 10,
             "solidity": 0.2
            },
            "type": "scatter"
           }
          ],
          "scatter3d": [
           {
            "line": {
             "colorbar": {
              "outlinewidth": 0,
              "ticks": ""
             }
            },
            "marker": {
             "colorbar": {
              "outlinewidth": 0,
              "ticks": ""
             }
            },
            "type": "scatter3d"
           }
          ],
          "scattercarpet": [
           {
            "marker": {
             "colorbar": {
              "outlinewidth": 0,
              "ticks": ""
             }
            },
            "type": "scattercarpet"
           }
          ],
          "scattergeo": [
           {
            "marker": {
             "colorbar": {
              "outlinewidth": 0,
              "ticks": ""
             }
            },
            "type": "scattergeo"
           }
          ],
          "scattergl": [
           {
            "marker": {
             "colorbar": {
              "outlinewidth": 0,
              "ticks": ""
             }
            },
            "type": "scattergl"
           }
          ],
          "scattermap": [
           {
            "marker": {
             "colorbar": {
              "outlinewidth": 0,
              "ticks": ""
             }
            },
            "type": "scattermap"
           }
          ],
          "scattermapbox": [
           {
            "marker": {
             "colorbar": {
              "outlinewidth": 0,
              "ticks": ""
             }
            },
            "type": "scattermapbox"
           }
          ],
          "scatterpolar": [
           {
            "marker": {
             "colorbar": {
              "outlinewidth": 0,
              "ticks": ""
             }
            },
            "type": "scatterpolar"
           }
          ],
          "scatterpolargl": [
           {
            "marker": {
             "colorbar": {
              "outlinewidth": 0,
              "ticks": ""
             }
            },
            "type": "scatterpolargl"
           }
          ],
          "scatterternary": [
           {
            "marker": {
             "colorbar": {
              "outlinewidth": 0,
              "ticks": ""
             }
            },
            "type": "scatterternary"
           }
          ],
          "surface": [
           {
            "colorbar": {
             "outlinewidth": 0,
             "ticks": ""
            },
            "colorscale": [
             [
              0,
              "#0d0887"
             ],
             [
              0.1111111111111111,
              "#46039f"
             ],
             [
              0.2222222222222222,
              "#7201a8"
             ],
             [
              0.3333333333333333,
              "#9c179e"
             ],
             [
              0.4444444444444444,
              "#bd3786"
             ],
             [
              0.5555555555555556,
              "#d8576b"
             ],
             [
              0.6666666666666666,
              "#ed7953"
             ],
             [
              0.7777777777777778,
              "#fb9f3a"
             ],
             [
              0.8888888888888888,
              "#fdca26"
             ],
             [
              1,
              "#f0f921"
             ]
            ],
            "type": "surface"
           }
          ],
          "table": [
           {
            "cells": {
             "fill": {
              "color": "#EBF0F8"
             },
             "line": {
              "color": "white"
             }
            },
            "header": {
             "fill": {
              "color": "#C8D4E3"
             },
             "line": {
              "color": "white"
             }
            },
            "type": "table"
           }
          ]
         },
         "layout": {
          "annotationdefaults": {
           "arrowcolor": "#2a3f5f",
           "arrowhead": 0,
           "arrowwidth": 1
          },
          "autotypenumbers": "strict",
          "coloraxis": {
           "colorbar": {
            "outlinewidth": 0,
            "ticks": ""
           }
          },
          "colorscale": {
           "diverging": [
            [
             0,
             "#8e0152"
            ],
            [
             0.1,
             "#c51b7d"
            ],
            [
             0.2,
             "#de77ae"
            ],
            [
             0.3,
             "#f1b6da"
            ],
            [
             0.4,
             "#fde0ef"
            ],
            [
             0.5,
             "#f7f7f7"
            ],
            [
             0.6,
             "#e6f5d0"
            ],
            [
             0.7,
             "#b8e186"
            ],
            [
             0.8,
             "#7fbc41"
            ],
            [
             0.9,
             "#4d9221"
            ],
            [
             1,
             "#276419"
            ]
           ],
           "sequential": [
            [
             0,
             "#0d0887"
            ],
            [
             0.1111111111111111,
             "#46039f"
            ],
            [
             0.2222222222222222,
             "#7201a8"
            ],
            [
             0.3333333333333333,
             "#9c179e"
            ],
            [
             0.4444444444444444,
             "#bd3786"
            ],
            [
             0.5555555555555556,
             "#d8576b"
            ],
            [
             0.6666666666666666,
             "#ed7953"
            ],
            [
             0.7777777777777778,
             "#fb9f3a"
            ],
            [
             0.8888888888888888,
             "#fdca26"
            ],
            [
             1,
             "#f0f921"
            ]
           ],
           "sequentialminus": [
            [
             0,
             "#0d0887"
            ],
            [
             0.1111111111111111,
             "#46039f"
            ],
            [
             0.2222222222222222,
             "#7201a8"
            ],
            [
             0.3333333333333333,
             "#9c179e"
            ],
            [
             0.4444444444444444,
             "#bd3786"
            ],
            [
             0.5555555555555556,
             "#d8576b"
            ],
            [
             0.6666666666666666,
             "#ed7953"
            ],
            [
             0.7777777777777778,
             "#fb9f3a"
            ],
            [
             0.8888888888888888,
             "#fdca26"
            ],
            [
             1,
             "#f0f921"
            ]
           ]
          },
          "colorway": [
           "#636efa",
           "#EF553B",
           "#00cc96",
           "#ab63fa",
           "#FFA15A",
           "#19d3f3",
           "#FF6692",
           "#B6E880",
           "#FF97FF",
           "#FECB52"
          ],
          "font": {
           "color": "#2a3f5f"
          },
          "geo": {
           "bgcolor": "white",
           "lakecolor": "white",
           "landcolor": "#E5ECF6",
           "showlakes": true,
           "showland": true,
           "subunitcolor": "white"
          },
          "hoverlabel": {
           "align": "left"
          },
          "hovermode": "closest",
          "mapbox": {
           "style": "light"
          },
          "paper_bgcolor": "white",
          "plot_bgcolor": "#E5ECF6",
          "polar": {
           "angularaxis": {
            "gridcolor": "white",
            "linecolor": "white",
            "ticks": ""
           },
           "bgcolor": "#E5ECF6",
           "radialaxis": {
            "gridcolor": "white",
            "linecolor": "white",
            "ticks": ""
           }
          },
          "scene": {
           "xaxis": {
            "backgroundcolor": "#E5ECF6",
            "gridcolor": "white",
            "gridwidth": 2,
            "linecolor": "white",
            "showbackground": true,
            "ticks": "",
            "zerolinecolor": "white"
           },
           "yaxis": {
            "backgroundcolor": "#E5ECF6",
            "gridcolor": "white",
            "gridwidth": 2,
            "linecolor": "white",
            "showbackground": true,
            "ticks": "",
            "zerolinecolor": "white"
           },
           "zaxis": {
            "backgroundcolor": "#E5ECF6",
            "gridcolor": "white",
            "gridwidth": 2,
            "linecolor": "white",
            "showbackground": true,
            "ticks": "",
            "zerolinecolor": "white"
           }
          },
          "shapedefaults": {
           "line": {
            "color": "#2a3f5f"
           }
          },
          "ternary": {
           "aaxis": {
            "gridcolor": "white",
            "linecolor": "white",
            "ticks": ""
           },
           "baxis": {
            "gridcolor": "white",
            "linecolor": "white",
            "ticks": ""
           },
           "bgcolor": "#E5ECF6",
           "caxis": {
            "gridcolor": "white",
            "linecolor": "white",
            "ticks": ""
           }
          },
          "title": {
           "x": 0.05
          },
          "xaxis": {
           "automargin": true,
           "gridcolor": "white",
           "linecolor": "white",
           "ticks": "",
           "title": {
            "standoff": 15
           },
           "zerolinecolor": "white",
           "zerolinewidth": 2
          },
          "yaxis": {
           "automargin": true,
           "gridcolor": "white",
           "linecolor": "white",
           "ticks": "",
           "title": {
            "standoff": 15
           },
           "zerolinecolor": "white",
           "zerolinewidth": 2
          }
         }
        },
        "title": {
         "text": "<b>Comparativa de Desempeño en Sostenibilidad por Tipo de Propiedad</b>",
         "x": 0.5
        },
        "xaxis": {
         "anchor": "y",
         "categoryarray": [
          "Privada",
          "Mixta",
          "Pública"
         ],
         "categoryorder": "array",
         "domain": [
          0,
          1
         ],
         "title": {
          "text": "Tipo de Propiedad de la Empresa"
         }
        },
        "yaxis": {
         "anchor": "x",
         "domain": [
          0,
          1
         ],
         "title": {
          "text": "Puntaje Total de Sostenibilidad"
         }
        }
       }
      }
     },
     "metadata": {},
     "output_type": "display_data"
    }
   ],
   "source": [
    "property_type_data = raw_data[['Razón social', 'Tipo de propiedad (Privada, Pública, Mixta)']].drop_duplicates()\n",
    "boxplot_data = pd.merge(company_agg_data, property_type_data, on='Razón social')\n",
    "boxplot_data.dropna(subset=['Tipo de propiedad (Privada, Pública, Mixta)'], inplace=True)\n",
    "fig_box_plot = px.box(\n",
    "    boxplot_data,\n",
    "    x='Tipo de propiedad (Privada, Pública, Mixta)',\n",
    "    y='Puntaje_Total_Sostenibilidad',\n",
    "    color='Tipo de propiedad (Privada, Pública, Mixta)',\n",
    "    notched=True,\n",
    "    points=\"all\"\n",
    ")\n",
    "fig_box_plot.update_layout(\n",
    "    title='<b>Comparativa de Desempeño en Sostenibilidad por Tipo de Propiedad</b>',\n",
    "    title_x=0.5,\n",
    "    xaxis_title='Tipo de Propiedad de la Empresa',\n",
    "    yaxis_title='Puntaje Total de Sostenibilidad',\n",
    "    font=dict(family=\"Arial, sans-serif\", size=12, color=\"black\"),\n",
    "    showlegend=False\n",
    ")\n",
    "fig_box_plot.show()\n",
    "save_chart_as_html(fig_box_plot, '11_boxplot_performance_by_property_type.html')"
   ]
  },
  {
   "cell_type": "markdown",
   "metadata": {},
   "source": [
    "## 12. Gráfico de Densidad por Atributo: Multinacional vs. Nacional"
   ]
  },
  {
   "cell_type": "code",
   "execution_count": 92,
   "metadata": {},
   "outputs": [
    {
     "data": {
      "application/vnd.plotly.v1+json": {
       "config": {
        "plotlyServerURL": "https://plot.ly"
       },
       "data": [
        {
         "fill": "tozeroy",
         "line": {
          "color": "#1f77b4"
         },
         "mode": "lines",
         "name": "Multinacional",
         "type": "scatter",
         "x": {
          "bdata": "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",
          "dtype": "f8"
         },
         "y": {
          "bdata": "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",
          "dtype": "f8"
         }
        },
        {
         "fill": "tozeroy",
         "line": {
          "color": "#ff7f0e"
         },
         "mode": "lines",
         "name": "Nacional",
         "type": "scatter",
         "x": {
          "bdata": "eIgUPc/zTkBuevkrT3NPQGRs3hrP8k9ALa/hhCc5UEAoKFR853hQQCShxnOnuFBAHxo5a2f4UEAak6tiJzhRQBUMHlrnd1FAEIWQUae3UUAL/gJJZ/dRQAZ3dUAnN1JAAfDnN+d2UkD8aFovp7ZSQPfhzCZn9lJA8lo/Hic2U0Du07EV53VTQOlMJA2ntVNA5MWWBGf1U0DfPgn8JjVUQNq3e/PmdFRA1TDu6qa0VEDQqWDiZvRUQMsi09kmNFVAxptF0eZzVUDCFLjIprNVQL2NKsBm81VAuAadtyYzVkCzfw+v5nJWQK74gaamslZAqXH0nWbyVkCk6maVJjJXQJ9j2YzmcVdAmtxLhKaxV0CWVb57ZvFXQJDOMHMmMVhAjEejauZwWECHwBViprBYQII5iFlm8FhAfbL6UCYwWUB4K21I5m9ZQHOk3z+mr1lAbh1SN2bvWUBqlsQuJi9aQGQPNybmblpAYIipHaauWkBaARwVZu5aQFZ6jgwmLltAUfMABOZtW0BMbHP7pa1bQEfl5fJl7VtAQl5Y6iUtXEA+18rh5WxcQDhQPdmlrFxANMmv0GXsXEAuQiLIJSxdQCq7lL/la11AJTQHt6WrXUAgrXmuZetdQBsm7KUlK15AFp9eneVqXkARGNGUpapeQAyRQ4xl6l5ACAq2gyUqX0ACgyh75WlfQP77mnKlqV9A+XQNamXpX0D69r+wkhRgQHgzeaxyNGBA9W8yqFJUYEByrOujMnRgQPDopJ8SlGBAbiVem/KzYEDrYReX0tNgQGme0JKy82BA5tqJjpITYUBkF0OKcjNhQOJT/IVSU2FAX5C1gTJzYUDczG59EpNhQFoJKHnysmFA2EXhdNLSYUBVgppwsvJhQNK+U2ySEmJAUPsMaHIyYkDON8ZjUlJiQEx0f18ycmJAybA4WxKSYkBG7fFW8rFiQMQpq1LS0WJAQmZkTrLxYkC/oh1KkhFjQDzf1kVyMWNAuhuQQVJRY0A4WEk9MnFjQLaUAjkSkWNAM9G7NPKwY0CwDXUw0tBjQC5KLiyy8GNArIbnJ5IQZEApw6AjcjBkQKb/WR9SUGRAJDwTGzJwZECieMwWEpBkQCC1hRLyr2RAnfE+DtLPZEAaLvgJsu9kQJhqsQWSD2VAFqdqAXIvZUCT4yP9UU9lQBAg3fgxb2VAjlyW9BGPZUAMmU/w8a5lQInVCOzRzmVABxLC57HuZUCETnvjkQ5mQAKLNN9xLmZAgMft2lFOZkD9A6fWMW5mQHpAYNIRjmZA+HwZzvGtZkB2udLJ0c1mQPP1i8Wx7WZAcDJFwZENZ0Dubv68cS1nQGyrt7hRTWdA6udwtDFtZ0BnJCqwEY1nQORg46vxrGdAYp2cp9HMZ0Dg2VWjsexnQF0WD5+RDGhA21LImnEsaEBYj4GWUUxoQNbLOpIxbGhAUwj0jRGMaEDRRK2J8atoQE6BZoXRy2hAzL0fgbHraEBK+th8kQtpQMc2knhxK2lARXNLdFFLaUDCrwRwMWtpQEDsvWsRi2lAvSh3Z/GqaUA7ZTBj0cppQLih6V6x6mlANt6iWpEKakC0GlxWcSpqQDFXFVJRSmpAr5POTTFqakAs0IdJEYpqQKoMQUXxqWpAJ0n6QNHJakClhbM8selqQCLCbDiRCWtAoP4lNHEpa0AdO98vUUlrQJt3mCsxaWtAGbRRJxGJa0CW8Aoj8ahrQBQtxB7RyGtAkWl9GrHoa0APpjYWkQhsQIzi7xFxKGxACh+pDVFIbECHW2IJMWhsQAWYGwURiGxAg9TUAPGnbEAAEY780MdsQH5NR/iw52xA+4kA9JAHbUB5xrnvcCdtQPYCc+tQR21AdD8s5zBnbUDxe+XiEIdtQG+4nt7wpm1A7PRX2tDGbUBqMRHWsOZtQOhtytGQBm5AZaqDzXAmbkDj5jzJUEZuQGAj9sQwZm5A3l+vwBCGbkBbnGi88KVuQNnYIbjQxW5AVhXbs7DlbkDUUZSvkAVvQFKOTatwJW9Az8oGp1BFb0BNB8CiMGVvQMpDeZ4QhW9ASIAymvCkb0DFvOuV0MRvQEP5pJGw5G9A4BqvRkgCcEAfuYtEOBJwQF5XaEIoInBAnPVEQBgycEDckyE+CEJwQBoy/jv4UXBAWdDaOehhcECYbrc32HFwQNYMlDXIgXBAFatwM7iRcEBUSU0xqKFwQJLnKS+YsXBA0oUGLYjBcEAQJOMqeNFwQE/Cvyho4XBAjmCcJljxcEDM/ngkSAFxQAydVSI4EXFASjsyICghcUCJ2Q4eGDFxQMh36xsIQXFABhbIGfhQcUBGtKQX6GBxQIRSgRXYcHFAw/BdE8iAcUACjzoRuJBxQEAtFw+ooHFAf8vzDJiwcUC+adAKiMBxQPwHrQh40HFAPKaJBmjgcUB6RGYEWPBxQLniQgJIAHJA+IAfADgQckA2H/z9JyByQHa92PsXMHJAtFu1+QdAckDz+ZH3909yQDKYbvXnX3JAcDZL89dvckCv1Cfxx39yQO5yBO+3j3JALRHh7KefckBsr73ql69yQKpNmuiHv3JA6et25nfPckAoilPkZ99yQGYoMOJX73JApsYM4Ef/ckDkZOndNw9zQCMDxtsnH3NAYqGi2Rcvc0CgP3/XBz9zQODdW9X3TnNAHnw40+dec0BdGhXR125zQJy48c7HfnNA2lbOzLeOc0AZ9arKp55zQFiTh8iXrnNAljFkxoe+c0DWz0DEd85zQBRuHcJn3nNAUwz6v1fuc0CSqta9R/5zQNFIs7s3DnRAD+ePuScedEBOhWy3Fy50QI0jSbUHPnRAzMEls/dNdEAKYAKx5110QEn+3q7XbXRAiJy7rMd9dEDHOpiqt410QAbZdKinnXRARHdRppetdECDFS6kh710QMKzCqJ3zXRAAVLnn2fddEA/8MOdV+10QH6OoJtH/XRAvSx9mTcNdUD8ylmXJx11QDtpNpUXLXVAeQcTkwc9dUC4pe+Q90x1QPdDzI7nXHVANuKojNdsdUB0gIWKx3x1QLMeYoi3jHVA8rw+hqecdUAxWxuEl6x1QHD594GHvHVArpfUf3fMdUDtNbF9Z9x1QCzUjXtX7HVAa3JqeUf8dUCpEEd3Nwx2QOiuI3UnHHZAJ00AcxcsdkBm69xwBzx2QKWJuW73S3ZA4yeWbOdbdkAixnJq12t2QGFkT2jHe3ZAoAIsZreLdkDeoAhkp5t2QB0/5WGXq3ZAXN3BX4e7dkCbe55dd8t2QNkZe1tn23ZAGLhXWVfrdkBXVjRXR/t2QJb0EFU3C3dA1ZLtUicbd0ATMcpQFyt3QFLPpk4HO3dAkW2DTPdKd0DQC2BK51p3QA6qPEjXandATUgZRsd6d0CM5vVDt4p3QMuE0kGnmndACiOvP5eqd0BIwYs9h7p3QIdfaDt3yndAxv1EOWfad0AFnCE3V+p3QEM6/jRH+ndAgtjaMjcKeEDBdrcwJxp4QAAVlC4XKnhAP7NwLAc6eEB9UU0q90l4QLzvKSjnWXhA+40GJtdpeEA6LOMjx3l4QHjKvyG3iXhAt2icH6eZeED2Bnkdl6l4QDWlVRuHuXhAdEMyGXfJeECy4Q4XZ9l4QPF/6xRX6XhAMB7IEkf5eEBvvKQQNwl5QK1agQ4nGXlA7PhdDBcpeUArlzoKBzl5QGo1Fwj3SHlAqdPzBedYeUDncdAD12h5QCYQrQHHeHlAZa6J/7aIeUCkTGb9pph5QOLqQvuWqHlAIYkf+Ya4eUBgJ/z2dsh5QJ/F2PRm2HlA3WO18lboeUAcApLwRvh5QFugbu42CHpAmj5L7CYYekDZ3CfqFih6QBd7BOgGOHpAVhnh5fZHekCVt73j5ld6QNRVmuHWZ3pAEvR238Z3ekBRklPdtod6QJAwMNuml3pAz84M2ZanekAObenWhrd6QEwLxtR2x3pAi6mi0mbXekDKR3/QVud6QAnmW85G93pAR4Q4zDYHe0CGIhXKJhd7QMXA8ccWJ3tABF/OxQY3e0BD/arD9kZ7QIGbh8HmVntAwDlkv9Zme0D/10C9xnZ7QD52Hbu2hntAfBT6uKaWe0C7sta2lqZ7QPpQs7SGtntAOe+PsnbGe0B4jWywZtZ7QLYrSa5W5ntA9cklrEb2e0A0aAKqNgZ8QHMG36cmFnxAsaS7pRYmfEDwQpijBjZ8QC/hdKH2RXxAbn9Rn+ZVfECtHS6d1mV8QOu7CpvGdXxAKlrnmLaFfEBp+MOWppV8QKiWoJSWpXxA5jR9koa1fEAl01mQdsV8QGRxNo5m1XxAow8TjFblfEDhre+JRvV8QCBMzIc2BX1AX+qohSYVfUCeiIWDFiV9QN0mYoEGNX1AG8U+f/ZEfUBaYxt95lR9QJkB+HrWZH1A2J/UeMZ0fUAWPrF2toR9QFXcjXSmlH1AlHpqcpakfUDTGEdwhrR9QBK3I252xH1AUFUAbGbUfUCP89xpVuR9QM6RuWdG9H1ADTCWZTYEfkBLznJjJhR+QIpsT2EWJH5AyQosXwY0fkAIqQhd9kN+QEdH5VrmU35AheXBWNZjfkDEg55WxnN+QAMie1S2g35AQsBXUqaTfkCAXjRQlqN+QL/8EE6Gs35A/prtS3bDfkA9OcpJZtN+QHzXpkdW435AunWDRUbzfkD5E2BDNgN/QDiyPEEmE39Ad1AZPxYjf0C17vU8BjN/QPSM0jr2Qn9AMyuvOOZSf0ByyYs21mJ/QLBnaDTGcn9A7wVFMraCf0AupCEwppJ/QG1C/i2Won9ArODaK4ayf0DqfrcpdsJ/QCkdlCdm0n9AaLtwJVbif0CnWU0jRvJ/QPL7lBAbAYBAEkuDDxMJgEAymnEOCxGAQFHpXw0DGYBAcDhODPsggECQhzwL8yiAQK/WKgrrMIBAziUZCeM4gEDudAcI20CAQA3E9QbTSIBALBPkBctQgEBMYtIEw1iAQGyxwAO7YIBAiwCvArNogECqT50Bq3CAQMqeiwCjeIBA6e15/5qAgEAIPWj+koiAQCiMVv2KkIBAR9tE/IKYgEBmKjP7eqCAQIZ5IfpyqIBApsgP+WqwgEDEF/73YriAQORm7PZawIBABLba9VLIgEAjBcn0StCAQEJUt/NC2IBAYqOl8jrggECB8pPxMuiAQKBBgvAq8IBAwJBw7yL4gEDf317uGgCBQP4uTe0SCIFAHn477AoQgUA+zSnrAhiBQFwcGOr6H4FAfGsG6fIngUCcuvTn6i+BQLsJ4+biN4FA2ljR5do/gUD6p7/k0keBQBn3rePKT4FAOEac4sJXgUBYlYrhul+BQHfkeOCyZ4FAljNn36pvgUC2glXeoneBQA==",
          "dtype": "f8"
         },
         "y": {
          "bdata": "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",
          "dtype": "f8"
         }
        }
       ],
       "layout": {
        "font": {
         "color": "black",
         "family": "Arial, sans-serif",
         "size": 12
        },
        "legend": {
         "title": {
          "text": "Tipo de Empresa"
         }
        },
        "template": {
         "data": {
          "bar": [
           {
            "error_x": {
             "color": "#2a3f5f"
            },
            "error_y": {
             "color": "#2a3f5f"
            },
            "marker": {
             "line": {
              "color": "#E5ECF6",
              "width": 0.5
             },
             "pattern": {
              "fillmode": "overlay",
              "size": 10,
              "solidity": 0.2
             }
            },
            "type": "bar"
           }
          ],
          "barpolar": [
           {
            "marker": {
             "line": {
              "color": "#E5ECF6",
              "width": 0.5
             },
             "pattern": {
              "fillmode": "overlay",
              "size": 10,
              "solidity": 0.2
             }
            },
            "type": "barpolar"
           }
          ],
          "carpet": [
           {
            "aaxis": {
             "endlinecolor": "#2a3f5f",
             "gridcolor": "white",
             "linecolor": "white",
             "minorgridcolor": "white",
             "startlinecolor": "#2a3f5f"
            },
            "baxis": {
             "endlinecolor": "#2a3f5f",
             "gridcolor": "white",
             "linecolor": "white",
             "minorgridcolor": "white",
             "startlinecolor": "#2a3f5f"
            },
            "type": "carpet"
           }
          ],
          "choropleth": [
           {
            "colorbar": {
             "outlinewidth": 0,
             "ticks": ""
            },
            "type": "choropleth"
           }
          ],
          "contour": [
           {
            "colorbar": {
             "outlinewidth": 0,
             "ticks": ""
            },
            "colorscale": [
             [
              0,
              "#0d0887"
             ],
             [
              0.1111111111111111,
              "#46039f"
             ],
             [
              0.2222222222222222,
              "#7201a8"
             ],
             [
              0.3333333333333333,
              "#9c179e"
             ],
             [
              0.4444444444444444,
              "#bd3786"
             ],
             [
              0.5555555555555556,
              "#d8576b"
             ],
             [
              0.6666666666666666,
              "#ed7953"
             ],
             [
              0.7777777777777778,
              "#fb9f3a"
             ],
             [
              0.8888888888888888,
              "#fdca26"
             ],
             [
              1,
              "#f0f921"
             ]
            ],
            "type": "contour"
           }
          ],
          "contourcarpet": [
           {
            "colorbar": {
             "outlinewidth": 0,
             "ticks": ""
            },
            "type": "contourcarpet"
           }
          ],
          "heatmap": [
           {
            "colorbar": {
             "outlinewidth": 0,
             "ticks": ""
            },
            "colorscale": [
             [
              0,
              "#0d0887"
             ],
             [
              0.1111111111111111,
              "#46039f"
             ],
             [
              0.2222222222222222,
              "#7201a8"
             ],
             [
              0.3333333333333333,
              "#9c179e"
             ],
             [
              0.4444444444444444,
              "#bd3786"
             ],
             [
              0.5555555555555556,
              "#d8576b"
             ],
             [
              0.6666666666666666,
              "#ed7953"
             ],
             [
              0.7777777777777778,
              "#fb9f3a"
             ],
             [
              0.8888888888888888,
              "#fdca26"
             ],
             [
              1,
              "#f0f921"
             ]
            ],
            "type": "heatmap"
           }
          ],
          "histogram": [
           {
            "marker": {
             "pattern": {
              "fillmode": "overlay",
              "size": 10,
              "solidity": 0.2
             }
            },
            "type": "histogram"
           }
          ],
          "histogram2d": [
           {
            "colorbar": {
             "outlinewidth": 0,
             "ticks": ""
            },
            "colorscale": [
             [
              0,
              "#0d0887"
             ],
             [
              0.1111111111111111,
              "#46039f"
             ],
             [
              0.2222222222222222,
              "#7201a8"
             ],
             [
              0.3333333333333333,
              "#9c179e"
             ],
             [
              0.4444444444444444,
              "#bd3786"
             ],
             [
              0.5555555555555556,
              "#d8576b"
             ],
             [
              0.6666666666666666,
              "#ed7953"
             ],
             [
              0.7777777777777778,
              "#fb9f3a"
             ],
             [
              0.8888888888888888,
              "#fdca26"
             ],
             [
              1,
              "#f0f921"
             ]
            ],
            "type": "histogram2d"
           }
          ],
          "histogram2dcontour": [
           {
            "colorbar": {
             "outlinewidth": 0,
             "ticks": ""
            },
            "colorscale": [
             [
              0,
              "#0d0887"
             ],
             [
              0.1111111111111111,
              "#46039f"
             ],
             [
              0.2222222222222222,
              "#7201a8"
             ],
             [
              0.3333333333333333,
              "#9c179e"
             ],
             [
              0.4444444444444444,
              "#bd3786"
             ],
             [
              0.5555555555555556,
              "#d8576b"
             ],
             [
              0.6666666666666666,
              "#ed7953"
             ],
             [
              0.7777777777777778,
              "#fb9f3a"
             ],
             [
              0.8888888888888888,
              "#fdca26"
             ],
             [
              1,
              "#f0f921"
             ]
            ],
            "type": "histogram2dcontour"
           }
          ],
          "mesh3d": [
           {
            "colorbar": {
             "outlinewidth": 0,
             "ticks": ""
            },
            "type": "mesh3d"
           }
          ],
          "parcoords": [
           {
            "line": {
             "colorbar": {
              "outlinewidth": 0,
              "ticks": ""
             }
            },
            "type": "parcoords"
           }
          ],
          "pie": [
           {
            "automargin": true,
            "type": "pie"
           }
          ],
          "scatter": [
           {
            "fillpattern": {
             "fillmode": "overlay",
             "size": 10,
             "solidity": 0.2
            },
            "type": "scatter"
           }
          ],
          "scatter3d": [
           {
            "line": {
             "colorbar": {
              "outlinewidth": 0,
              "ticks": ""
             }
            },
            "marker": {
             "colorbar": {
              "outlinewidth": 0,
              "ticks": ""
             }
            },
            "type": "scatter3d"
           }
          ],
          "scattercarpet": [
           {
            "marker": {
             "colorbar": {
              "outlinewidth": 0,
              "ticks": ""
             }
            },
            "type": "scattercarpet"
           }
          ],
          "scattergeo": [
           {
            "marker": {
             "colorbar": {
              "outlinewidth": 0,
              "ticks": ""
             }
            },
            "type": "scattergeo"
           }
          ],
          "scattergl": [
           {
            "marker": {
             "colorbar": {
              "outlinewidth": 0,
              "ticks": ""
             }
            },
            "type": "scattergl"
           }
          ],
          "scattermap": [
           {
            "marker": {
             "colorbar": {
              "outlinewidth": 0,
              "ticks": ""
             }
            },
            "type": "scattermap"
           }
          ],
          "scattermapbox": [
           {
            "marker": {
             "colorbar": {
              "outlinewidth": 0,
              "ticks": ""
             }
            },
            "type": "scattermapbox"
           }
          ],
          "scatterpolar": [
           {
            "marker": {
             "colorbar": {
              "outlinewidth": 0,
              "ticks": ""
             }
            },
            "type": "scatterpolar"
           }
          ],
          "scatterpolargl": [
           {
            "marker": {
             "colorbar": {
              "outlinewidth": 0,
              "ticks": ""
             }
            },
            "type": "scatterpolargl"
           }
          ],
          "scatterternary": [
           {
            "marker": {
             "colorbar": {
              "outlinewidth": 0,
              "ticks": ""
             }
            },
            "type": "scatterternary"
           }
          ],
          "surface": [
           {
            "colorbar": {
             "outlinewidth": 0,
             "ticks": ""
            },
            "colorscale": [
             [
              0,
              "#0d0887"
             ],
             [
              0.1111111111111111,
              "#46039f"
             ],
             [
              0.2222222222222222,
              "#7201a8"
             ],
             [
              0.3333333333333333,
              "#9c179e"
             ],
             [
              0.4444444444444444,
              "#bd3786"
             ],
             [
              0.5555555555555556,
              "#d8576b"
             ],
             [
              0.6666666666666666,
              "#ed7953"
             ],
             [
              0.7777777777777778,
              "#fb9f3a"
             ],
             [
              0.8888888888888888,
              "#fdca26"
             ],
             [
              1,
              "#f0f921"
             ]
            ],
            "type": "surface"
           }
          ],
          "table": [
           {
            "cells": {
             "fill": {
              "color": "#EBF0F8"
             },
             "line": {
              "color": "white"
             }
            },
            "header": {
             "fill": {
              "color": "#C8D4E3"
             },
             "line": {
              "color": "white"
             }
            },
            "type": "table"
           }
          ]
         },
         "layout": {
          "annotationdefaults": {
           "arrowcolor": "#2a3f5f",
           "arrowhead": 0,
           "arrowwidth": 1
          },
          "autotypenumbers": "strict",
          "coloraxis": {
           "colorbar": {
            "outlinewidth": 0,
            "ticks": ""
           }
          },
          "colorscale": {
           "diverging": [
            [
             0,
             "#8e0152"
            ],
            [
             0.1,
             "#c51b7d"
            ],
            [
             0.2,
             "#de77ae"
            ],
            [
             0.3,
             "#f1b6da"
            ],
            [
             0.4,
             "#fde0ef"
            ],
            [
             0.5,
             "#f7f7f7"
            ],
            [
             0.6,
             "#e6f5d0"
            ],
            [
             0.7,
             "#b8e186"
            ],
            [
             0.8,
             "#7fbc41"
            ],
            [
             0.9,
             "#4d9221"
            ],
            [
             1,
             "#276419"
            ]
           ],
           "sequential": [
            [
             0,
             "#0d0887"
            ],
            [
             0.1111111111111111,
             "#46039f"
            ],
            [
             0.2222222222222222,
             "#7201a8"
            ],
            [
             0.3333333333333333,
             "#9c179e"
            ],
            [
             0.4444444444444444,
             "#bd3786"
            ],
            [
             0.5555555555555556,
             "#d8576b"
            ],
            [
             0.6666666666666666,
             "#ed7953"
            ],
            [
             0.7777777777777778,
             "#fb9f3a"
            ],
            [
             0.8888888888888888,
             "#fdca26"
            ],
            [
             1,
             "#f0f921"
            ]
           ],
           "sequentialminus": [
            [
             0,
             "#0d0887"
            ],
            [
             0.1111111111111111,
             "#46039f"
            ],
            [
             0.2222222222222222,
             "#7201a8"
            ],
            [
             0.3333333333333333,
             "#9c179e"
            ],
            [
             0.4444444444444444,
             "#bd3786"
            ],
            [
             0.5555555555555556,
             "#d8576b"
            ],
            [
             0.6666666666666666,
             "#ed7953"
            ],
            [
             0.7777777777777778,
             "#fb9f3a"
            ],
            [
             0.8888888888888888,
             "#fdca26"
            ],
            [
             1,
             "#f0f921"
            ]
           ]
          },
          "colorway": [
           "#636efa",
           "#EF553B",
           "#00cc96",
           "#ab63fa",
           "#FFA15A",
           "#19d3f3",
           "#FF6692",
           "#B6E880",
           "#FF97FF",
           "#FECB52"
          ],
          "font": {
           "color": "#2a3f5f"
          },
          "geo": {
           "bgcolor": "white",
           "lakecolor": "white",
           "landcolor": "#E5ECF6",
           "showlakes": true,
           "showland": true,
           "subunitcolor": "white"
          },
          "hoverlabel": {
           "align": "left"
          },
          "hovermode": "closest",
          "mapbox": {
           "style": "light"
          },
          "paper_bgcolor": "white",
          "plot_bgcolor": "#E5ECF6",
          "polar": {
           "angularaxis": {
            "gridcolor": "white",
            "linecolor": "white",
            "ticks": ""
           },
           "bgcolor": "#E5ECF6",
           "radialaxis": {
            "gridcolor": "white",
            "linecolor": "white",
            "ticks": ""
           }
          },
          "scene": {
           "xaxis": {
            "backgroundcolor": "#E5ECF6",
            "gridcolor": "white",
            "gridwidth": 2,
            "linecolor": "white",
            "showbackground": true,
            "ticks": "",
            "zerolinecolor": "white"
           },
           "yaxis": {
            "backgroundcolor": "#E5ECF6",
            "gridcolor": "white",
            "gridwidth": 2,
            "linecolor": "white",
            "showbackground": true,
            "ticks": "",
            "zerolinecolor": "white"
           },
           "zaxis": {
            "backgroundcolor": "#E5ECF6",
            "gridcolor": "white",
            "gridwidth": 2,
            "linecolor": "white",
            "showbackground": true,
            "ticks": "",
            "zerolinecolor": "white"
           }
          },
          "shapedefaults": {
           "line": {
            "color": "#2a3f5f"
           }
          },
          "ternary": {
           "aaxis": {
            "gridcolor": "white",
            "linecolor": "white",
            "ticks": ""
           },
           "baxis": {
            "gridcolor": "white",
            "linecolor": "white",
            "ticks": ""
           },
           "bgcolor": "#E5ECF6",
           "caxis": {
            "gridcolor": "white",
            "linecolor": "white",
            "ticks": ""
           }
          },
          "title": {
           "x": 0.05
          },
          "xaxis": {
           "automargin": true,
           "gridcolor": "white",
           "linecolor": "white",
           "ticks": "",
           "title": {
            "standoff": 15
           },
           "zerolinecolor": "white",
           "zerolinewidth": 2
          },
          "yaxis": {
           "automargin": true,
           "gridcolor": "white",
           "linecolor": "white",
           "ticks": "",
           "title": {
            "standoff": 15
           },
           "zerolinecolor": "white",
           "zerolinewidth": 2
          }
         }
        },
        "title": {
         "text": "<b>Distribución del Desempeño: Multinacional vs. Nacional</b>",
         "x": 0.5
        },
        "xaxis": {
         "title": {
          "text": "Puntaje Total de Sostenibilidad"
         }
        },
        "yaxis": {
         "title": {
          "text": "Densidad"
         }
        }
       }
      }
     },
     "metadata": {},
     "output_type": "display_data"
    }
   ],
   "source": [
    "# 1. Preparación de Datos\n",
    "multinational_info = raw_data[['Razón social', '¿Multinacional? Si/No']].drop_duplicates()\n",
    "density_data = pd.merge(company_agg_data, multinational_info, on='Razón social')\n",
    "density_data.dropna(subset=['¿Multinacional? Si/No'], inplace=True)\n",
    "\n",
    "# Definir grupos y colores\n",
    "groups = {\n",
    "    'Multinacional': 'Si',\n",
    "    'Nacional': 'No'\n",
    "}\n",
    "colors = ['#1f77b4', '#ff7f0e']\n",
    "\n",
    "# 2. Creación del Gráfico de Densidad con Scipy y Plotly GO\n",
    "fig_density = go.Figure()\n",
    "\n",
    "for (group_name, group_id), color in zip(groups.items(), colors):\n",
    "    # Filtrar datos para el grupo actual\n",
    "    current_data = density_data[density_data['¿Multinacional? Si/No'] == group_id]['Puntaje_Total_Sostenibilidad']\n",
    "    \n",
    "    if len(current_data) > 1:\n",
    "        # Calcular KDE usando scipy\n",
    "        kde = gaussian_kde(current_data)\n",
    "        \n",
    "        # Crear un rango de valores X para la curva\n",
    "        x_range = np.linspace(current_data.min(), current_data.max(), 500)\n",
    "        \n",
    "        # Calcular los valores Y de la curva de densidad\n",
    "        y_values = kde(x_range)\n",
    "        \n",
    "        # Añadir la curva al gráfico\n",
    "        fig_density.add_trace(go.Scatter(\n",
    "            x=x_range, \n",
    "            y=y_values, \n",
    "            mode='lines', \n",
    "            name=group_name,\n",
    "            line=dict(color=color),\n",
    "            fill='tozeroy'\n",
    "        ))\n",
    "\n",
    "# 3. Personalización y Estilo del Gráfico\n",
    "fig_density.update_layout(\n",
    "    title_text='<b>Distribución del Desempeño: Multinacional vs. Nacional</b>',\n",
    "    title_x=0.5,\n",
    "    xaxis_title='Puntaje Total de Sostenibilidad',\n",
    "    yaxis_title='Densidad',\n",
    "    font=dict(family=\"Arial, sans-serif\", size=12, color=\"black\"),\n",
    "    legend_title_text='Tipo de Empresa'\n",
    ")\n",
    "\n",
    "fig_density.show()\n",
    "\n",
    "save_chart_as_html(fig_density, '12_density_plot_multinational_vs_national.html')\n"
   ]
  },
  {
   "cell_type": "markdown",
   "metadata": {},
   "source": [
    "## 13. Análisis de Foco Temático: Comparativa de Variables entre Líderes y Rezagados"
   ]
  },
  {
   "cell_type": "markdown",
   "metadata": {},
   "source": [
    "Descripción Detallada:\n",
    "\n",
    "Un mapa de calor (heatmap) que despliega todas las Variables de sostenibilidad en el eje Y y todos los Macrosector en el eje X. La intensidad del color de cada celda (de un color claro para valores bajos a uno oscuro e intenso para valores altos) representa la valoración ponderada promedio que las empresas de un sector obtienen en una variable específica. A diferencia de solo contar la frecuencia, este enfoque mide el \"impacto\" o la \"contribución al puntaje\" de cada variable dentro de su contexto sectorial.\n",
    "\n",
    "Análisis Estratégico Potencial:\n",
    "\n",
    "Esta visualización ofrece un diagnóstico profundo sobre dónde reside el verdadero valor de las acciones de sostenibilidad, permitiendo un análisis mucho más granular que la simple frecuencia de reporte.\n",
    "\n",
    "Identificación de Focos de Valor Sectorial: Permite a un estratega identificar instantáneamente qué iniciativas específicas (variables) son las que más contribuyen al puntaje total en cada industria. Responde a preguntas clave como: ¿Es más valioso para el sector 'Manufactura' enfocarse en 'Reducción de emisiones' o en 'Seguridad laboral'? ¿Dónde se concentran los puntajes más altos en el sector 'Servicios'?"
   ]
  },
  {
   "cell_type": "code",
   "execution_count": 101,
   "metadata": {},
   "outputs": [
    {
     "data": {
      "application/vnd.plotly.v1+json": {
       "config": {
        "plotlyServerURL": "https://plot.ly"
       },
       "data": [
        {
         "coloraxis": "coloraxis",
         "hovertemplate": "Macrosector: %{x}<br>Variable de Sostenibilidad: %{y}<br>Importancia Promedio: %{z}<extra></extra>",
         "name": "0",
         "texttemplate": "%{z:.2f}",
         "type": "heatmap",
         "x": [
          "Agropecuario",
          "Comercio",
          "Construcción",
          "Manufactura",
          "Minero",
          "Servicios"
         ],
         "xaxis": "x",
         "y": [
          "Acción climática (0-2)",
          "Alcance 1 en t CO2 eq",
          "Alcance 2 en t CO2 eq",
          "Alcance 3 en t CO2 eq",
          "Año del informe 2023/2024",
          "Consumo total de agua (m³)",
          "Consumo total de la organización (MJ)",
          "Días perdidos por cada 100 empleados",
          "Días perdidos por enfermedad y accidente laboral",
          "Evidencia diversidad en su matriz energética Si/no",
          "Generación total de residuos en toneladas",
          "Gestión de biodiversidad Si/no",
          "Gestión del recurso hídrico (0-2)",
          "Independencia en junta directiva (0-2)",
          "Iniciativas de economía circular (0-2)",
          "Metas relacionadas a biodiversidad Si/no",
          "Permiso marental con beneficio extralegal (Sí/no)",
          "Porcentaje de inversión en la comunidad sobre VED",
          "Porcentaje de mujeres en junta directiva",
          "Porcentaje de pagos a gobierno sobre VED",
          "Porcentaje de personas con discapacidad empleadas ",
          "Porcentaje de salarios y beneficios sobre VED",
          "Porcentaje mujeres en organización ",
          "Promedio de horas de formación hombres (GRI 404)",
          "Promedio de horas de formación mujeres (GRI 404)",
          "Proporción y detalle al informar prácticas DEI GRI 405 (0-2)",
          "¿Cuál es el porcentaje de proveeduría local?",
          "¿Es carbononeutro? Si/no",
          "¿Incluye mapeo de ODS? Si/No",
          "¿Informa proporción de gasto en proveedores",
          "¿Informa sobre inclusión laboral para personas con discapacidad?",
          "¿Informa sobre salud y seguridad laboral (GRI 403)?",
          "¿Nivel de políticas y compromisos éticos? (anticorrupción, canal de denuncias) 0-2",
          "¿Realiza inversión social en comunidades (GRI 413)?",
          "¿Reporta GRI 207 (prácticas fiscales)? Si/no",
          "¿Reporta consumo energético (GRI 302)?",
          "¿Reporta emisiones GEI (GRI 305)?",
          "¿Reporta gestión de residuos (GRI 306)?",
          "¿Reporta sanciones y multas? (Si/No) 206-1",
          "¿Reporta uso de agua (GRI 303)?",
          "¿Reporta valor económico directo generado y distribuido (GRI 201-1)? Si/No",
          "¿Se evidencia impacto positivo en comunidades locales? (0-2)",
          "¿Tiene análisis de materialidad? Si/No ",
          "¿Tiene carta de presidencia? Si/No",
          "¿Tiene indicadores de desarrollo del talento humano? Si/no",
          "¿Tiene informe? Si/No",
          "¿Tiene meta de reducción de emisiones? Si/No",
          "¿Tiene programas para construcción de paz? (beneficios a poblaciones desplazadas, victimas de conflicto, excombatientes) Si/no",
          "¿Utiliza estándar GRI? Si/No"
         ],
         "yaxis": "y",
         "z": {
          "bdata": "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",
          "dtype": "f8",
          "shape": "49, 6"
         }
        }
       ],
       "layout": {
        "coloraxis": {
         "colorbar": {
          "title": {
           "text": "Importancia Promedio"
          }
         },
         "colorscale": [
          [
           0,
           "rgb(247,251,255)"
          ],
          [
           0.125,
           "rgb(222,235,247)"
          ],
          [
           0.25,
           "rgb(198,219,239)"
          ],
          [
           0.375,
           "rgb(158,202,225)"
          ],
          [
           0.5,
           "rgb(107,174,214)"
          ],
          [
           0.625,
           "rgb(66,146,198)"
          ],
          [
           0.75,
           "rgb(33,113,181)"
          ],
          [
           0.875,
           "rgb(8,81,156)"
          ],
          [
           1,
           "rgb(8,48,107)"
          ]
         ]
        },
        "font": {
         "color": "black",
         "family": "Arial, sans-serif",
         "size": 10
        },
        "height": 980,
        "margin": {
         "t": 60
        },
        "template": {
         "data": {
          "bar": [
           {
            "error_x": {
             "color": "#2a3f5f"
            },
            "error_y": {
             "color": "#2a3f5f"
            },
            "marker": {
             "line": {
              "color": "#E5ECF6",
              "width": 0.5
             },
             "pattern": {
              "fillmode": "overlay",
              "size": 10,
              "solidity": 0.2
             }
            },
            "type": "bar"
           }
          ],
          "barpolar": [
           {
            "marker": {
             "line": {
              "color": "#E5ECF6",
              "width": 0.5
             },
             "pattern": {
              "fillmode": "overlay",
              "size": 10,
              "solidity": 0.2
             }
            },
            "type": "barpolar"
           }
          ],
          "carpet": [
           {
            "aaxis": {
             "endlinecolor": "#2a3f5f",
             "gridcolor": "white",
             "linecolor": "white",
             "minorgridcolor": "white",
             "startlinecolor": "#2a3f5f"
            },
            "baxis": {
             "endlinecolor": "#2a3f5f",
             "gridcolor": "white",
             "linecolor": "white",
             "minorgridcolor": "white",
             "startlinecolor": "#2a3f5f"
            },
            "type": "carpet"
           }
          ],
          "choropleth": [
           {
            "colorbar": {
             "outlinewidth": 0,
             "ticks": ""
            },
            "type": "choropleth"
           }
          ],
          "contour": [
           {
            "colorbar": {
             "outlinewidth": 0,
             "ticks": ""
            },
            "colorscale": [
             [
              0,
              "#0d0887"
             ],
             [
              0.1111111111111111,
              "#46039f"
             ],
             [
              0.2222222222222222,
              "#7201a8"
             ],
             [
              0.3333333333333333,
              "#9c179e"
             ],
             [
              0.4444444444444444,
              "#bd3786"
             ],
             [
              0.5555555555555556,
              "#d8576b"
             ],
             [
              0.6666666666666666,
              "#ed7953"
             ],
             [
              0.7777777777777778,
              "#fb9f3a"
             ],
             [
              0.8888888888888888,
              "#fdca26"
             ],
             [
              1,
              "#f0f921"
             ]
            ],
            "type": "contour"
           }
          ],
          "contourcarpet": [
           {
            "colorbar": {
             "outlinewidth": 0,
             "ticks": ""
            },
            "type": "contourcarpet"
           }
          ],
          "heatmap": [
           {
            "colorbar": {
             "outlinewidth": 0,
             "ticks": ""
            },
            "colorscale": [
             [
              0,
              "#0d0887"
             ],
             [
              0.1111111111111111,
              "#46039f"
             ],
             [
              0.2222222222222222,
              "#7201a8"
             ],
             [
              0.3333333333333333,
              "#9c179e"
             ],
             [
              0.4444444444444444,
              "#bd3786"
             ],
             [
              0.5555555555555556,
              "#d8576b"
             ],
             [
              0.6666666666666666,
              "#ed7953"
             ],
             [
              0.7777777777777778,
              "#fb9f3a"
             ],
             [
              0.8888888888888888,
              "#fdca26"
             ],
             [
              1,
              "#f0f921"
             ]
            ],
            "type": "heatmap"
           }
          ],
          "histogram": [
           {
            "marker": {
             "pattern": {
              "fillmode": "overlay",
              "size": 10,
              "solidity": 0.2
             }
            },
            "type": "histogram"
           }
          ],
          "histogram2d": [
           {
            "colorbar": {
             "outlinewidth": 0,
             "ticks": ""
            },
            "colorscale": [
             [
              0,
              "#0d0887"
             ],
             [
              0.1111111111111111,
              "#46039f"
             ],
             [
              0.2222222222222222,
              "#7201a8"
             ],
             [
              0.3333333333333333,
              "#9c179e"
             ],
             [
              0.4444444444444444,
              "#bd3786"
             ],
             [
              0.5555555555555556,
              "#d8576b"
             ],
             [
              0.6666666666666666,
              "#ed7953"
             ],
             [
              0.7777777777777778,
              "#fb9f3a"
             ],
             [
              0.8888888888888888,
              "#fdca26"
             ],
             [
              1,
              "#f0f921"
             ]
            ],
            "type": "histogram2d"
           }
          ],
          "histogram2dcontour": [
           {
            "colorbar": {
             "outlinewidth": 0,
             "ticks": ""
            },
            "colorscale": [
             [
              0,
              "#0d0887"
             ],
             [
              0.1111111111111111,
              "#46039f"
             ],
             [
              0.2222222222222222,
              "#7201a8"
             ],
             [
              0.3333333333333333,
              "#9c179e"
             ],
             [
              0.4444444444444444,
              "#bd3786"
             ],
             [
              0.5555555555555556,
              "#d8576b"
             ],
             [
              0.6666666666666666,
              "#ed7953"
             ],
             [
              0.7777777777777778,
              "#fb9f3a"
             ],
             [
              0.8888888888888888,
              "#fdca26"
             ],
             [
              1,
              "#f0f921"
             ]
            ],
            "type": "histogram2dcontour"
           }
          ],
          "mesh3d": [
           {
            "colorbar": {
             "outlinewidth": 0,
             "ticks": ""
            },
            "type": "mesh3d"
           }
          ],
          "parcoords": [
           {
            "line": {
             "colorbar": {
              "outlinewidth": 0,
              "ticks": ""
             }
            },
            "type": "parcoords"
           }
          ],
          "pie": [
           {
            "automargin": true,
            "type": "pie"
           }
          ],
          "scatter": [
           {
            "fillpattern": {
             "fillmode": "overlay",
             "size": 10,
             "solidity": 0.2
            },
            "type": "scatter"
           }
          ],
          "scatter3d": [
           {
            "line": {
             "colorbar": {
              "outlinewidth": 0,
              "ticks": ""
             }
            },
            "marker": {
             "colorbar": {
              "outlinewidth": 0,
              "ticks": ""
             }
            },
            "type": "scatter3d"
           }
          ],
          "scattercarpet": [
           {
            "marker": {
             "colorbar": {
              "outlinewidth": 0,
              "ticks": ""
             }
            },
            "type": "scattercarpet"
           }
          ],
          "scattergeo": [
           {
            "marker": {
             "colorbar": {
              "outlinewidth": 0,
              "ticks": ""
             }
            },
            "type": "scattergeo"
           }
          ],
          "scattergl": [
           {
            "marker": {
             "colorbar": {
              "outlinewidth": 0,
              "ticks": ""
             }
            },
            "type": "scattergl"
           }
          ],
          "scattermap": [
           {
            "marker": {
             "colorbar": {
              "outlinewidth": 0,
              "ticks": ""
             }
            },
            "type": "scattermap"
           }
          ],
          "scattermapbox": [
           {
            "marker": {
             "colorbar": {
              "outlinewidth": 0,
              "ticks": ""
             }
            },
            "type": "scattermapbox"
           }
          ],
          "scatterpolar": [
           {
            "marker": {
             "colorbar": {
              "outlinewidth": 0,
              "ticks": ""
             }
            },
            "type": "scatterpolar"
           }
          ],
          "scatterpolargl": [
           {
            "marker": {
             "colorbar": {
              "outlinewidth": 0,
              "ticks": ""
             }
            },
            "type": "scatterpolargl"
           }
          ],
          "scatterternary": [
           {
            "marker": {
             "colorbar": {
              "outlinewidth": 0,
              "ticks": ""
             }
            },
            "type": "scatterternary"
           }
          ],
          "surface": [
           {
            "colorbar": {
             "outlinewidth": 0,
             "ticks": ""
            },
            "colorscale": [
             [
              0,
              "#0d0887"
             ],
             [
              0.1111111111111111,
              "#46039f"
             ],
             [
              0.2222222222222222,
              "#7201a8"
             ],
             [
              0.3333333333333333,
              "#9c179e"
             ],
             [
              0.4444444444444444,
              "#bd3786"
             ],
             [
              0.5555555555555556,
              "#d8576b"
             ],
             [
              0.6666666666666666,
              "#ed7953"
             ],
             [
              0.7777777777777778,
              "#fb9f3a"
             ],
             [
              0.8888888888888888,
              "#fdca26"
             ],
             [
              1,
              "#f0f921"
             ]
            ],
            "type": "surface"
           }
          ],
          "table": [
           {
            "cells": {
             "fill": {
              "color": "#EBF0F8"
             },
             "line": {
              "color": "white"
             }
            },
            "header": {
             "fill": {
              "color": "#C8D4E3"
             },
             "line": {
              "color": "white"
             }
            },
            "type": "table"
           }
          ]
         },
         "layout": {
          "annotationdefaults": {
           "arrowcolor": "#2a3f5f",
           "arrowhead": 0,
           "arrowwidth": 1
          },
          "autotypenumbers": "strict",
          "coloraxis": {
           "colorbar": {
            "outlinewidth": 0,
            "ticks": ""
           }
          },
          "colorscale": {
           "diverging": [
            [
             0,
             "#8e0152"
            ],
            [
             0.1,
             "#c51b7d"
            ],
            [
             0.2,
             "#de77ae"
            ],
            [
             0.3,
             "#f1b6da"
            ],
            [
             0.4,
             "#fde0ef"
            ],
            [
             0.5,
             "#f7f7f7"
            ],
            [
             0.6,
             "#e6f5d0"
            ],
            [
             0.7,
             "#b8e186"
            ],
            [
             0.8,
             "#7fbc41"
            ],
            [
             0.9,
             "#4d9221"
            ],
            [
             1,
             "#276419"
            ]
           ],
           "sequential": [
            [
             0,
             "#0d0887"
            ],
            [
             0.1111111111111111,
             "#46039f"
            ],
            [
             0.2222222222222222,
             "#7201a8"
            ],
            [
             0.3333333333333333,
             "#9c179e"
            ],
            [
             0.4444444444444444,
             "#bd3786"
            ],
            [
             0.5555555555555556,
             "#d8576b"
            ],
            [
             0.6666666666666666,
             "#ed7953"
            ],
            [
             0.7777777777777778,
             "#fb9f3a"
            ],
            [
             0.8888888888888888,
             "#fdca26"
            ],
            [
             1,
             "#f0f921"
            ]
           ],
           "sequentialminus": [
            [
             0,
             "#0d0887"
            ],
            [
             0.1111111111111111,
             "#46039f"
            ],
            [
             0.2222222222222222,
             "#7201a8"
            ],
            [
             0.3333333333333333,
             "#9c179e"
            ],
            [
             0.4444444444444444,
             "#bd3786"
            ],
            [
             0.5555555555555556,
             "#d8576b"
            ],
            [
             0.6666666666666666,
             "#ed7953"
            ],
            [
             0.7777777777777778,
             "#fb9f3a"
            ],
            [
             0.8888888888888888,
             "#fdca26"
            ],
            [
             1,
             "#f0f921"
            ]
           ]
          },
          "colorway": [
           "#636efa",
           "#EF553B",
           "#00cc96",
           "#ab63fa",
           "#FFA15A",
           "#19d3f3",
           "#FF6692",
           "#B6E880",
           "#FF97FF",
           "#FECB52"
          ],
          "font": {
           "color": "#2a3f5f"
          },
          "geo": {
           "bgcolor": "white",
           "lakecolor": "white",
           "landcolor": "#E5ECF6",
           "showlakes": true,
           "showland": true,
           "subunitcolor": "white"
          },
          "hoverlabel": {
           "align": "left"
          },
          "hovermode": "closest",
          "mapbox": {
           "style": "light"
          },
          "paper_bgcolor": "white",
          "plot_bgcolor": "#E5ECF6",
          "polar": {
           "angularaxis": {
            "gridcolor": "white",
            "linecolor": "white",
            "ticks": ""
           },
           "bgcolor": "#E5ECF6",
           "radialaxis": {
            "gridcolor": "white",
            "linecolor": "white",
            "ticks": ""
           }
          },
          "scene": {
           "xaxis": {
            "backgroundcolor": "#E5ECF6",
            "gridcolor": "white",
            "gridwidth": 2,
            "linecolor": "white",
            "showbackground": true,
            "ticks": "",
            "zerolinecolor": "white"
           },
           "yaxis": {
            "backgroundcolor": "#E5ECF6",
            "gridcolor": "white",
            "gridwidth": 2,
            "linecolor": "white",
            "showbackground": true,
            "ticks": "",
            "zerolinecolor": "white"
           },
           "zaxis": {
            "backgroundcolor": "#E5ECF6",
            "gridcolor": "white",
            "gridwidth": 2,
            "linecolor": "white",
            "showbackground": true,
            "ticks": "",
            "zerolinecolor": "white"
           }
          },
          "shapedefaults": {
           "line": {
            "color": "#2a3f5f"
           }
          },
          "ternary": {
           "aaxis": {
            "gridcolor": "white",
            "linecolor": "white",
            "ticks": ""
           },
           "baxis": {
            "gridcolor": "white",
            "linecolor": "white",
            "ticks": ""
           },
           "bgcolor": "#E5ECF6",
           "caxis": {
            "gridcolor": "white",
            "linecolor": "white",
            "ticks": ""
           }
          },
          "title": {
           "x": 0.05
          },
          "xaxis": {
           "automargin": true,
           "gridcolor": "white",
           "linecolor": "white",
           "ticks": "",
           "title": {
            "standoff": 15
           },
           "zerolinecolor": "white",
           "zerolinewidth": 2
          },
          "yaxis": {
           "automargin": true,
           "gridcolor": "white",
           "linecolor": "white",
           "ticks": "",
           "title": {
            "standoff": 15
           },
           "zerolinecolor": "white",
           "zerolinewidth": 2
          }
         }
        },
        "title": {
         "text": "<b>Importancia Relativa de Variables por Macrosector</b><br><sup>El color representa la contribución promedio de cada variable al puntaje del sector</sup>",
         "x": 0.5
        },
        "xaxis": {
         "anchor": "y",
         "domain": [
          0,
          1
         ],
         "tickangle": -45,
         "title": {
          "text": "Macrosector"
         }
        },
        "yaxis": {
         "anchor": "x",
         "autorange": "reversed",
         "domain": [
          0,
          1
         ],
         "title": {
          "text": "Variable de Sostenibilidad"
         }
        }
       }
      }
     },
     "metadata": {},
     "output_type": "display_data"
    }
   ],
   "source": [
    "# 1. Preparación de Datos\n",
    "# Calcular la valoración ponderada promedio para cada variable dentro de cada macrosector.\n",
    "var_importance_data = raw_data.groupby(['Macrosector', 'Variable'])['valoracionPonderada'].mean().reset_index()\n",
    "\n",
    "# Pivotar la tabla para crear una matriz: Variables en filas, Sectores en columnas.\n",
    "var_importance_matrix = var_importance_data.pivot(\n",
    "    index='Variable', \n",
    "    columns='Macrosector', \n",
    "    values='valoracionPonderada'\n",
    ").fillna(0)\n",
    "\n",
    "# 2. Creación del Gráfico (Heatmap)\n",
    "fig_var_importance = px.imshow(\n",
    "    var_importance_matrix,\n",
    "    text_auto=\".2f\", # Formatea los números a dos decimales\n",
    "    aspect=\"auto\",\n",
    "    color_continuous_scale='Blues', # Una escala de color secuencial es más apropiada aquí\n",
    "    labels=dict(x=\"Macrosector\", y=\"Variable de Sostenibilidad\", color=\"Importancia Promedio\")\n",
    ")\n",
    "\n",
    "# 3. Personalización y Estilo del Gráfico\n",
    "fig_var_importance.update_layout(\n",
    "    title_text='<b>Importancia Relativa de Variables por Macrosector</b><br><sup>El color representa la contribución promedio de cada variable al puntaje del sector</sup>',\n",
    "    title_x=0.5,\n",
    "    xaxis_tickangle=-45,\n",
    "    font=dict(family=\"Arial, sans-serif\", size=10, color=\"black\"),\n",
    "    height=max(600, len(var_importance_matrix.index) * 20) # Ajustar altura dinámicamente\n",
    ")\n",
    "fig_var_importance.show()\n",
    "save_chart_as_html(fig_var_importance, '13_variable_importance_heatmap.html')"
   ]
  },
  {
   "cell_type": "markdown",
   "metadata": {},
   "source": [
    "## 14. Gráfico de Dispersión con Línea de Tendencia: Ingresos vs. Valoración Ponderada"
   ]
  },
  {
   "cell_type": "code",
   "execution_count": 97,
   "metadata": {},
   "outputs": [
    {
     "data": {
      "application/vnd.plotly.v1+json": {
       "config": {
        "plotlyServerURL": "https://plot.ly"
       },
       "data": [
        {
         "hovertemplate": "<b>%{hovertext}</b><br><br>Macrosector=Comercio<br>Ingresos_Operacionales=%{x}<br>Puntaje_Total_Sostenibilidad=%{y}<extra></extra>",
         "hovertext": [
          "ARA",
          "Biomax",
          "CI Eslop",
          "Cencosud",
          "Chevron",
          "Corbeta",
          "Cruz Verde",
          "D1",
          "Distracom",
          "Falabella",
          "Mazda",
          "Olímpica",
          "Petromil",
          "Pricesmart",
          "Primax",
          "Samsung",
          "Sodimac (Homecenter)",
          "Sucafina",
          "Suramerica Comercial (Dollar City)",
          "Tecnoquimicas",
          "Terpel",
          "Toyota",
          "Trafigura (Petroleum)",
          "Uniban",
          "Unilever",
          "Éxito"
         ],
         "legendgroup": "Comercio",
         "marker": {
          "color": "#636efa",
          "symbol": "circle"
         },
         "mode": "markers",
         "name": "Comercio",
         "orientation": "v",
         "showlegend": true,
         "type": "scatter",
         "x": {
          "bdata": "CTS3xpCpK0CLHrb82QwSQHd/70hSoP8/qgDYs/nZEEA4ukp313kXQNoMR8KExidAmaz5De0LFkCLcHJDfHAzQCe7IsPt/g5AvFUwWuJ1AkDckcsuAej9P2lI0PBKhBxAiYM14oo+CECoxNi25uICQMVrJCrQCiVAQ5DPoKuBCUCe5vYo4vYXQHMH2rK2BABAitFhKKH0BkCDdDxcLhMJQF3PY9aDwDhAmzZnbegcEEASfJlJUHsTQBckJ1qMXgBAUwJT5wDa/j84BUNn4xMwQA==",
          "dtype": "f8"
         },
         "xaxis": "x",
         "y": {
          "bdata": "PWR0h4eHV0A9ZHSHh4dXQD1kdIeHh1dAgnbBvzx4dUDTzZOlpeVnQD1kdIeHh1dAtFXXDs8teEA9YiQWAXh4QD1kdIeHh1dASdVQTInmfUB+vh4tLW1yQJM4UWlpaV1APWR0h4eHV0AN6zVZLVVuQAdtqesfF35AZTJ1h4cHd0CUPW9OqLF9QIHVeoeHR3FAPWR0h4eHV0A9ZHSHh4dXQHdP4bJZA39AMmS5yKzxd0D4KCEtLS1wQDdfJyAe3XRAPWR0h4eHV0DHwZg5tIl5QA==",
          "dtype": "f8"
         },
         "yaxis": "y"
        },
        {
         "hovertemplate": "<b>%{hovertext}</b><br><br>Macrosector=Construcción<br>Ingresos_Operacionales=%{x}<br>Puntaje_Total_Sostenibilidad=%{y}<extra></extra>",
         "hovertext": [
          "ARQUITECTURA Y CONCRETO",
          "AUTOPISTA RIO MAGDALENA SAS",
          "Amarilo",
          "CONCESIONARIA VIAL UNIÓN DEL SUR SAS",
          "CONSTRUCCIONES EL CONDOR S.A",
          "CONSTRUCTORA CAPITAL BOGOTA SAS",
          "CONSTRUCTORA COLPATRIA  SAS",
          "Conconcreto",
          "ISMOCOL SA",
          "MARVAL S.A.S."
         ],
         "legendgroup": "Construcción",
         "marker": {
          "color": "#EF553B",
          "symbol": "circle"
         },
         "mode": "markers",
         "name": "Construcción",
         "orientation": "v",
         "showlegend": true,
         "type": "scatter",
         "x": {
          "bdata": "+cBqOYuv6D+pD2FSNQf1P2t8+3qLfQFA9O1czFqQ6D9QoaEcWAjzP5LDBI40A/U/v+7XEUXg5z+jD5P5Eu3fP3oXJLq9Deg/htGD7e2H7z8=",
          "dtype": "f8"
         },
         "xaxis": "x",
         "y": {
          "bdata": "mtikJEkSUEDFq+nQaqV8QLaf3ThJbHlA98O7m5hdcUDc/atAnW1nQBIjYIFD8GFAOBoWXMnbakDpZ9PZtTFyQIcZtyRJkkxA8yL8U+bWbkA=",
          "dtype": "f8"
         },
         "yaxis": "y"
        },
        {
         "hovertemplate": "<b>%{hovertext}</b><br><br>Macrosector=Agropecuario<br>Ingresos_Operacionales=%{x}<br>Puntaje_Total_Sostenibilidad=%{y}<extra></extra>",
         "hovertext": [
          "AVICOLA EL MADROÑO SA",
          "AVSA",
          "Aliar",
          "Grupo Bios",
          "INCUBADORA SANTANDER S.A. (Huevos Kikes)",
          "Sunshine Bouquet"
         ],
         "legendgroup": "Agropecuario",
         "marker": {
          "color": "#00cc96",
          "symbol": "circle"
         },
         "mode": "markers",
         "name": "Agropecuario",
         "orientation": "v",
         "showlegend": true,
         "type": "scatter",
         "x": {
          "bdata": "cFRQTDzC5j93vgf+o2IDQHES1gj1S+8/M8q5aFZD3D+Yyuw9pp/sP4zmxskEQQFA",
          "dtype": "f8"
         },
         "xaxis": "x",
         "y": {
          "bdata": "LbPntm3bUUB4iBQ9z/NOQPPvAD3Pk3VAMg2VD4mgZkAts+e2bdtRQF6Wftu2bVVA",
          "dtype": "f8"
         },
         "yaxis": "y"
        },
        {
         "hovertemplate": "<b>%{hovertext}</b><br><br>Macrosector=Manufactura<br>Ingresos_Operacionales=%{x}<br>Puntaje_Total_Sostenibilidad=%{y}<extra></extra>",
         "hovertext": [
          "Alimentos Carnicos (Grupo Nutresa)",
          "Alpina",
          "BEL STAR S.A.",
          "Bavaria (Kopps)",
          "CARTON DE COLOMBIA S.A. (Smurfit Kappa)",
          "Cementos Argos",
          "Coca Cola- Femsa",
          "Colgate",
          "Colombina",
          "Compañía Nacional de Chocolates",
          "ES Windows",
          "Esenttia",
          "General Motors",
          "Grupo Diana",
          "Haceb",
          "Italcol",
          "Nestle",
          "POLLOS EL BUCANERO S.A. (Cargill)",
          "Pepsico",
          "Postobón",
          "Productos Familia (Essity)",
          "Reficar",
          "Renault",
          "Riopaila Castilla",
          "YARA COLOMBIA S.A.",
          "Yamaha"
         ],
         "legendgroup": "Manufactura",
         "marker": {
          "color": "#ab63fa",
          "symbol": "circle"
         },
         "mode": "markers",
         "name": "Manufactura",
         "orientation": "v",
         "showlegend": true,
         "type": "scatter",
         "x": {
          "bdata": "wPBeds7BBkCvnKaXZGkBQDnymx0E+P0/cYWWxkY7IUCSnnAW+XT8PzCuAsZEhP0/F7jwR0elFEDlpk9whg4DQEEXfLboigFAE943ISEY/z85RnAr1v8EQOxdYK/gfQJAY706j9Zl8z80KJCVPOMDQENCQDDacvU/1narmF6DCUDq39z8ElsAQHkEg+D7LwJA7wyA3HHHAEDpNJHtCsYGQCxFL/lYIwBAFBqx5GTcOUCRRJw/h2gDQL0nXZolKPs/2l+/JdU+/D+OqWWyUk39Pw==",
          "dtype": "f8"
         },
         "xaxis": "x",
         "y": {
          "bdata": "GcerIOyMgEAXzWASUi57QMniNs6ZQXJA6682Sod0a0BC4ymuUZZ4QIbDCmuOuX1AI5Udc8rJe0BNv5q8hpJzQFdMD4SkOoBA1/FsSoLecEA5dMRrKK9XQDNc/vLCSoFAZn60hvKedEBySievobxTQDUe10z3JHtAckonr6G8U0CIPNocffNxQHJKJ6+hvFNANACB8hrqckC2glXeoneBQDTlYab3Y3pAgm5iWulVdkDX0xE3xFx4QNWoQ0sHWXxATD2HCZ1dckA8ElBdUF5mQA==",
          "dtype": "f8"
         },
         "yaxis": "y"
        },
        {
         "hovertemplate": "<b>%{hovertext}</b><br><br>Macrosector=Servicios<br>Ingresos_Operacionales=%{x}<br>Puntaje_Total_Sostenibilidad=%{y}<extra></extra>",
         "hovertext": [
          "Avianca",
          "Celsia",
          "Cenit",
          "Claro",
          "EPM",
          "Emgesa",
          "GEB",
          "Gases del Caribe",
          "ISA",
          "Isagen",
          "LATAM",
          "Mercado Libre",
          "Oleoducto Central (Ocensa)",
          "Promigas",
          "Rappi",
          "Telefónica",
          "Teleperformance",
          "Tigo"
         ],
         "legendgroup": "Servicios",
         "marker": {
          "color": "#FFA15A",
          "symbol": "circle"
         },
         "mode": "markers",
         "name": "Servicios",
         "orientation": "v",
         "showlegend": true,
         "type": "scatter",
         "x": {
          "bdata": "tnktMks2LkDTv2tqtTAaQPnTLdiZ9CNANdvLbEY0L0D3ZbzvEJM0QDKCfL+Hjy9AJGtWe627DUBYr+r4pBUFQGA7qxQhhhBAokKWgdqKGEDpPeQZc6ACQGy7UpQgu/0/UV4poJDmF0CznrU26C4CQCofrSougOY/H5Twt0+wGkBtwvXczT0FQJ1P5QA2pgdA",
          "dtype": "f8"
         },
         "xaxis": "x",
         "y": {
          "bdata": "0T3rGq3wdUCrnjYkSnp7QEmMCEBguHxAhbzKTDR1fUBNGpsEnDx7QPBv+95Jwn9AIl8ePwcfe0C93/sqz8VyQFhLNFocc3lA5EP1e9fjcECDRnbGk3h4QDPWMcAjB3RAIas1dixaeUAPODYugBh9QM9aIC0tLVBAkfUJ3bODfEDDchlxMPp5QLaBv4jjBXVA",
          "dtype": "f8"
         },
         "yaxis": "y"
        },
        {
         "hovertemplate": "<b>%{hovertext}</b><br><br>Macrosector=Minero<br>Ingresos_Operacionales=%{x}<br>Puntaje_Total_Sostenibilidad=%{y}<extra></extra>",
         "hovertext": [
          "C.I Prodeco",
          "Cerrejón",
          "Drummond",
          "Ecopetrol",
          "Frontera Energy",
          "Geopark",
          "Gran Tierra Energy",
          "Hocol",
          "SierraCol Energy",
          "Verano energy"
         ],
         "legendgroup": "Minero",
         "marker": {
          "color": "#19d3f3",
          "symbol": "circle"
         },
         "mode": "markers",
         "name": "Minero",
         "orientation": "v",
         "showlegend": true,
         "type": "scatter",
         "x": {
          "bdata": "dFyfzwak7D/iO0iHOzAYQCWFR1Xy/SZA1qMVhBd7XEA4E5YiQAARQI9kKW7pXANAqrab4Jsm9T8Lonn2GEkFQFf/GiIEGv8/q6n3F+vuFUA=",
          "dtype": "f8"
         },
         "xaxis": "x",
         "y": {
          "bdata": "cYbq////SEDCuVEnShlzQPQfPFRfT4FAQvczXGc6gECu4Uq/mjJ8QGzyRY/wpIBAjMkiGmPTdkBf0RW7Wbl+QGAdUAEz035A36jTiZ3YXEA=",
          "dtype": "f8"
         },
         "yaxis": "y"
        },
        {
         "hovertemplate": "<b>OLS trendline</b><br>Puntaje_Total_Sostenibilidad = 2.93356 * Ingresos_Operacionales + 290.809<br>R<sup>2</sup>=0.054173<br><br>Ingresos_Operacionales=%{x}<br>Puntaje_Total_Sostenibilidad=%{y} <b>(trend)</b><extra></extra>",
         "legendgroup": "Overall Trendline",
         "line": {
          "color": "#FF6692"
         },
         "mode": "lines",
         "name": "Overall Trendline",
         "showlegend": true,
         "type": "scatter",
         "x": {
          "bdata": "M8q5aFZD3D+jD5P5Eu3fPyofrSougOY/cFRQTDzC5j+/7tcRReDnP3oXJLq9Deg/9O1czFqQ6D/5wGo5i6/oP5jK7D2mn+w/dFyfzwak7D9xEtYI9UvvP4bRg+3th+8/UKGhHFgI8z9jvTqP1mXzP5LDBI40A/U/qQ9hUjUH9T+qtpvgmyb1P0NCQDDacvU/vSddmiUo+z/aX78l1T78P5KecBb5dPw/jqllslJN/T8wrgLGRIT9P2y7UpQgu/0/3JHLLgHo/T858psdBPj9P1MCU+cA2v4/E943ISEY/z9X/xoiBBr/P3d/70hSoP8/cwfasrYEAEAsRS/5WCMAQOrf3PwSWwBAFyQnWoxeAEDvDIDccccAQIzmxskEQQFAr5yml2RpAUBrfPt6i30BQEEXfLboigFAs561NuguAkB5BIPg+y8CQLxVMFridQJA7F1gr+B9AkDpPeQZc6ACQKjE2Lbm4gJA5aZPcIYOA0CPZClu6VwDQHe+B/6jYgNAkUScP4doA0A0KJCVPOMDQDlGcCvW/wRAWK/q+KQVBUBtwvXczT0FQAuiefYYSQVAwPBeds7BBkDpNJHtCsYGQIrRYSih9AZAnU/lADamB0CJgzXiij4IQIN0PFwuEwlAQ5DPoKuBCUDWdquYXoMJQCRrVnutuw1AJ7siw+3+DkCbNmdt6BwQQGA7qxQhhhBAqgDYs/nZEEA4E5YiQAARQIsetvzZDBJAEnyZSVB7E0AXuPBHR6UUQKup9xfr7hVAmaz5De0LFkA4ukp313kXQFFeKaCQ5hdAnub2KOL2F0DiO0iHOzAYQKJCloHaihhA079rarUwGkAflPC3T7AaQGlI0PBKhBxAcYWWxkY7IUD50y3YmfQjQMVrJCrQCiVAJYVHVfL9JkDaDEfChMYnQAk0t8aQqStAtnktMks2LkA128tsRjQvQDKCfL+Hjy9AOAVDZ+MTMECLcHJDfHAzQPdlvO8QkzRAXc9j1oPAOEAUGrHkZNw5QNajFYQXe1xA",
          "dtype": "f8"
         },
         "xaxis": "x",
         "y": {
          "bdata": "lGgYLKpBckDUcBvmWURyQNeg58PwTXJAS65Yp1FOckBWEfkz9U9yQPt5QeY3UHJAnsoUe/dQckDXJXo6JVFyQLnJvOXrVnJA56NdUfJWckA+MVig11pyQGAUqZcvW3JAiEtnKcVkckAmBYpu12VyQDY5sxGUanJADmLqz59qckDm8n/t+2pyQEpoopfba3JAzSU0Y5p8ckCVpsPty39yQOubusBqgHJAaw27beWCckACq2idhoNyQDotwYsnhHJA+8BCMquEckDqzrkq2oRyQAUaWB1xh3JAlRVYXSeIckAggEPmLIhyQPRkXeS2iXJA0o/9OeuKckCVRI71notyQMWJ+OnljHJAlHj6S/qMckCYuLu8YY9yQFRVrAYrknJAcw4T6BeTckC0a+MjjpNyQBw5q4zck3JAXrvlvp6XckAaNz8QpZdyQMznRi0/mXJAKD5bE26ZckB7ws7pOJpyQAu9+sq+m3JAIEtbvb6cckAEz8ykip5yQB19S0GsnnJAdCGMzM6eckCh3Fm+nqFyQK0tiIYkqHJA3/mAeaSockAcubgYkKlyQGBOJlvSqXJALuSCjXSyckBWcDNojbJyQLDE0byes3JAvAAMobC3ckBl7GlgLrtyQAM14PMNwHJAdzTuNJbCckBP5vAsoMJyQAx8DHli23JAEC2XBsvickAgnYaBAupyQAlyqzLV7nJA/Q6vEa3yckAd1NYybvRyQGZV4ga+AHNATOlbLooRc0BPwVeSMh9zQKH+JqVOLnNApEYoB6Mvc0BKSyTFaEBzQFzdGo5kRXNADlJLCiRGc0ARD/38xEhzQGbkWVvsTHNAv7x9gUJgc0DCyrbTG2ZzQFtybDuPe3NA7e5HzFXBc0DtGXLxQgF0QEXy+ijEGnRAj95CEIZIdEDmbsgu6Vp0QCbZ0GshtnRAadWX9ffxdEC88gKEQAl1QCCmuyKeEXVAlu0VIJMfdUByzprvXL11QAoIpemj8nVAYlp+lri2dkCN/q4Cxep2QDm5zkUTiINA",
          "dtype": "f8"
         },
         "yaxis": "y"
        }
       ],
       "layout": {
        "font": {
         "color": "black",
         "family": "Arial, sans-serif",
         "size": 12
        },
        "legend": {
         "title": {
          "text": "Macrosector"
         },
         "tracegroupgap": 0
        },
        "margin": {
         "t": 60
        },
        "template": {
         "data": {
          "bar": [
           {
            "error_x": {
             "color": "#2a3f5f"
            },
            "error_y": {
             "color": "#2a3f5f"
            },
            "marker": {
             "line": {
              "color": "#E5ECF6",
              "width": 0.5
             },
             "pattern": {
              "fillmode": "overlay",
              "size": 10,
              "solidity": 0.2
             }
            },
            "type": "bar"
           }
          ],
          "barpolar": [
           {
            "marker": {
             "line": {
              "color": "#E5ECF6",
              "width": 0.5
             },
             "pattern": {
              "fillmode": "overlay",
              "size": 10,
              "solidity": 0.2
             }
            },
            "type": "barpolar"
           }
          ],
          "carpet": [
           {
            "aaxis": {
             "endlinecolor": "#2a3f5f",
             "gridcolor": "white",
             "linecolor": "white",
             "minorgridcolor": "white",
             "startlinecolor": "#2a3f5f"
            },
            "baxis": {
             "endlinecolor": "#2a3f5f",
             "gridcolor": "white",
             "linecolor": "white",
             "minorgridcolor": "white",
             "startlinecolor": "#2a3f5f"
            },
            "type": "carpet"
           }
          ],
          "choropleth": [
           {
            "colorbar": {
             "outlinewidth": 0,
             "ticks": ""
            },
            "type": "choropleth"
           }
          ],
          "contour": [
           {
            "colorbar": {
             "outlinewidth": 0,
             "ticks": ""
            },
            "colorscale": [
             [
              0,
              "#0d0887"
             ],
             [
              0.1111111111111111,
              "#46039f"
             ],
             [
              0.2222222222222222,
              "#7201a8"
             ],
             [
              0.3333333333333333,
              "#9c179e"
             ],
             [
              0.4444444444444444,
              "#bd3786"
             ],
             [
              0.5555555555555556,
              "#d8576b"
             ],
             [
              0.6666666666666666,
              "#ed7953"
             ],
             [
              0.7777777777777778,
              "#fb9f3a"
             ],
             [
              0.8888888888888888,
              "#fdca26"
             ],
             [
              1,
              "#f0f921"
             ]
            ],
            "type": "contour"
           }
          ],
          "contourcarpet": [
           {
            "colorbar": {
             "outlinewidth": 0,
             "ticks": ""
            },
            "type": "contourcarpet"
           }
          ],
          "heatmap": [
           {
            "colorbar": {
             "outlinewidth": 0,
             "ticks": ""
            },
            "colorscale": [
             [
              0,
              "#0d0887"
             ],
             [
              0.1111111111111111,
              "#46039f"
             ],
             [
              0.2222222222222222,
              "#7201a8"
             ],
             [
              0.3333333333333333,
              "#9c179e"
             ],
             [
              0.4444444444444444,
              "#bd3786"
             ],
             [
              0.5555555555555556,
              "#d8576b"
             ],
             [
              0.6666666666666666,
              "#ed7953"
             ],
             [
              0.7777777777777778,
              "#fb9f3a"
             ],
             [
              0.8888888888888888,
              "#fdca26"
             ],
             [
              1,
              "#f0f921"
             ]
            ],
            "type": "heatmap"
           }
          ],
          "histogram": [
           {
            "marker": {
             "pattern": {
              "fillmode": "overlay",
              "size": 10,
              "solidity": 0.2
             }
            },
            "type": "histogram"
           }
          ],
          "histogram2d": [
           {
            "colorbar": {
             "outlinewidth": 0,
             "ticks": ""
            },
            "colorscale": [
             [
              0,
              "#0d0887"
             ],
             [
              0.1111111111111111,
              "#46039f"
             ],
             [
              0.2222222222222222,
              "#7201a8"
             ],
             [
              0.3333333333333333,
              "#9c179e"
             ],
             [
              0.4444444444444444,
              "#bd3786"
             ],
             [
              0.5555555555555556,
              "#d8576b"
             ],
             [
              0.6666666666666666,
              "#ed7953"
             ],
             [
              0.7777777777777778,
              "#fb9f3a"
             ],
             [
              0.8888888888888888,
              "#fdca26"
             ],
             [
              1,
              "#f0f921"
             ]
            ],
            "type": "histogram2d"
           }
          ],
          "histogram2dcontour": [
           {
            "colorbar": {
             "outlinewidth": 0,
             "ticks": ""
            },
            "colorscale": [
             [
              0,
              "#0d0887"
             ],
             [
              0.1111111111111111,
              "#46039f"
             ],
             [
              0.2222222222222222,
              "#7201a8"
             ],
             [
              0.3333333333333333,
              "#9c179e"
             ],
             [
              0.4444444444444444,
              "#bd3786"
             ],
             [
              0.5555555555555556,
              "#d8576b"
             ],
             [
              0.6666666666666666,
              "#ed7953"
             ],
             [
              0.7777777777777778,
              "#fb9f3a"
             ],
             [
              0.8888888888888888,
              "#fdca26"
             ],
             [
              1,
              "#f0f921"
             ]
            ],
            "type": "histogram2dcontour"
           }
          ],
          "mesh3d": [
           {
            "colorbar": {
             "outlinewidth": 0,
             "ticks": ""
            },
            "type": "mesh3d"
           }
          ],
          "parcoords": [
           {
            "line": {
             "colorbar": {
              "outlinewidth": 0,
              "ticks": ""
             }
            },
            "type": "parcoords"
           }
          ],
          "pie": [
           {
            "automargin": true,
            "type": "pie"
           }
          ],
          "scatter": [
           {
            "fillpattern": {
             "fillmode": "overlay",
             "size": 10,
             "solidity": 0.2
            },
            "type": "scatter"
           }
          ],
          "scatter3d": [
           {
            "line": {
             "colorbar": {
              "outlinewidth": 0,
              "ticks": ""
             }
            },
            "marker": {
             "colorbar": {
              "outlinewidth": 0,
              "ticks": ""
             }
            },
            "type": "scatter3d"
           }
          ],
          "scattercarpet": [
           {
            "marker": {
             "colorbar": {
              "outlinewidth": 0,
              "ticks": ""
             }
            },
            "type": "scattercarpet"
           }
          ],
          "scattergeo": [
           {
            "marker": {
             "colorbar": {
              "outlinewidth": 0,
              "ticks": ""
             }
            },
            "type": "scattergeo"
           }
          ],
          "scattergl": [
           {
            "marker": {
             "colorbar": {
              "outlinewidth": 0,
              "ticks": ""
             }
            },
            "type": "scattergl"
           }
          ],
          "scattermap": [
           {
            "marker": {
             "colorbar": {
              "outlinewidth": 0,
              "ticks": ""
             }
            },
            "type": "scattermap"
           }
          ],
          "scattermapbox": [
           {
            "marker": {
             "colorbar": {
              "outlinewidth": 0,
              "ticks": ""
             }
            },
            "type": "scattermapbox"
           }
          ],
          "scatterpolar": [
           {
            "marker": {
             "colorbar": {
              "outlinewidth": 0,
              "ticks": ""
             }
            },
            "type": "scatterpolar"
           }
          ],
          "scatterpolargl": [
           {
            "marker": {
             "colorbar": {
              "outlinewidth": 0,
              "ticks": ""
             }
            },
            "type": "scatterpolargl"
           }
          ],
          "scatterternary": [
           {
            "marker": {
             "colorbar": {
              "outlinewidth": 0,
              "ticks": ""
             }
            },
            "type": "scatterternary"
           }
          ],
          "surface": [
           {
            "colorbar": {
             "outlinewidth": 0,
             "ticks": ""
            },
            "colorscale": [
             [
              0,
              "#0d0887"
             ],
             [
              0.1111111111111111,
              "#46039f"
             ],
             [
              0.2222222222222222,
              "#7201a8"
             ],
             [
              0.3333333333333333,
              "#9c179e"
             ],
             [
              0.4444444444444444,
              "#bd3786"
             ],
             [
              0.5555555555555556,
              "#d8576b"
             ],
             [
              0.6666666666666666,
              "#ed7953"
             ],
             [
              0.7777777777777778,
              "#fb9f3a"
             ],
             [
              0.8888888888888888,
              "#fdca26"
             ],
             [
              1,
              "#f0f921"
             ]
            ],
            "type": "surface"
           }
          ],
          "table": [
           {
            "cells": {
             "fill": {
              "color": "#EBF0F8"
             },
             "line": {
              "color": "white"
             }
            },
            "header": {
             "fill": {
              "color": "#C8D4E3"
             },
             "line": {
              "color": "white"
             }
            },
            "type": "table"
           }
          ]
         },
         "layout": {
          "annotationdefaults": {
           "arrowcolor": "#2a3f5f",
           "arrowhead": 0,
           "arrowwidth": 1
          },
          "autotypenumbers": "strict",
          "coloraxis": {
           "colorbar": {
            "outlinewidth": 0,
            "ticks": ""
           }
          },
          "colorscale": {
           "diverging": [
            [
             0,
             "#8e0152"
            ],
            [
             0.1,
             "#c51b7d"
            ],
            [
             0.2,
             "#de77ae"
            ],
            [
             0.3,
             "#f1b6da"
            ],
            [
             0.4,
             "#fde0ef"
            ],
            [
             0.5,
             "#f7f7f7"
            ],
            [
             0.6,
             "#e6f5d0"
            ],
            [
             0.7,
             "#b8e186"
            ],
            [
             0.8,
             "#7fbc41"
            ],
            [
             0.9,
             "#4d9221"
            ],
            [
             1,
             "#276419"
            ]
           ],
           "sequential": [
            [
             0,
             "#0d0887"
            ],
            [
             0.1111111111111111,
             "#46039f"
            ],
            [
             0.2222222222222222,
             "#7201a8"
            ],
            [
             0.3333333333333333,
             "#9c179e"
            ],
            [
             0.4444444444444444,
             "#bd3786"
            ],
            [
             0.5555555555555556,
             "#d8576b"
            ],
            [
             0.6666666666666666,
             "#ed7953"
            ],
            [
             0.7777777777777778,
             "#fb9f3a"
            ],
            [
             0.8888888888888888,
             "#fdca26"
            ],
            [
             1,
             "#f0f921"
            ]
           ],
           "sequentialminus": [
            [
             0,
             "#0d0887"
            ],
            [
             0.1111111111111111,
             "#46039f"
            ],
            [
             0.2222222222222222,
             "#7201a8"
            ],
            [
             0.3333333333333333,
             "#9c179e"
            ],
            [
             0.4444444444444444,
             "#bd3786"
            ],
            [
             0.5555555555555556,
             "#d8576b"
            ],
            [
             0.6666666666666666,
             "#ed7953"
            ],
            [
             0.7777777777777778,
             "#fb9f3a"
            ],
            [
             0.8888888888888888,
             "#fdca26"
            ],
            [
             1,
             "#f0f921"
            ]
           ]
          },
          "colorway": [
           "#636efa",
           "#EF553B",
           "#00cc96",
           "#ab63fa",
           "#FFA15A",
           "#19d3f3",
           "#FF6692",
           "#B6E880",
           "#FF97FF",
           "#FECB52"
          ],
          "font": {
           "color": "#2a3f5f"
          },
          "geo": {
           "bgcolor": "white",
           "lakecolor": "white",
           "landcolor": "#E5ECF6",
           "showlakes": true,
           "showland": true,
           "subunitcolor": "white"
          },
          "hoverlabel": {
           "align": "left"
          },
          "hovermode": "closest",
          "mapbox": {
           "style": "light"
          },
          "paper_bgcolor": "white",
          "plot_bgcolor": "#E5ECF6",
          "polar": {
           "angularaxis": {
            "gridcolor": "white",
            "linecolor": "white",
            "ticks": ""
           },
           "bgcolor": "#E5ECF6",
           "radialaxis": {
            "gridcolor": "white",
            "linecolor": "white",
            "ticks": ""
           }
          },
          "scene": {
           "xaxis": {
            "backgroundcolor": "#E5ECF6",
            "gridcolor": "white",
            "gridwidth": 2,
            "linecolor": "white",
            "showbackground": true,
            "ticks": "",
            "zerolinecolor": "white"
           },
           "yaxis": {
            "backgroundcolor": "#E5ECF6",
            "gridcolor": "white",
            "gridwidth": 2,
            "linecolor": "white",
            "showbackground": true,
            "ticks": "",
            "zerolinecolor": "white"
           },
           "zaxis": {
            "backgroundcolor": "#E5ECF6",
            "gridcolor": "white",
            "gridwidth": 2,
            "linecolor": "white",
            "showbackground": true,
            "ticks": "",
            "zerolinecolor": "white"
           }
          },
          "shapedefaults": {
           "line": {
            "color": "#2a3f5f"
           }
          },
          "ternary": {
           "aaxis": {
            "gridcolor": "white",
            "linecolor": "white",
            "ticks": ""
           },
           "baxis": {
            "gridcolor": "white",
            "linecolor": "white",
            "ticks": ""
           },
           "bgcolor": "#E5ECF6",
           "caxis": {
            "gridcolor": "white",
            "linecolor": "white",
            "ticks": ""
           }
          },
          "title": {
           "x": 0.05
          },
          "xaxis": {
           "automargin": true,
           "gridcolor": "white",
           "linecolor": "white",
           "ticks": "",
           "title": {
            "standoff": 15
           },
           "zerolinecolor": "white",
           "zerolinewidth": 2
          },
          "yaxis": {
           "automargin": true,
           "gridcolor": "white",
           "linecolor": "white",
           "ticks": "",
           "title": {
            "standoff": 15
           },
           "zerolinecolor": "white",
           "zerolinewidth": 2
          }
         }
        },
        "title": {
         "text": "<b>Relación entre Ingresos Operacionales y Desempeño en Sostenibilidad</b>",
         "x": 0.5
        },
        "xaxis": {
         "anchor": "y",
         "domain": [
          0,
          1
         ],
         "title": {
          "text": "Ingresos Operacionales (Escala Logarítmica)"
         },
         "type": "log"
        },
        "yaxis": {
         "anchor": "x",
         "domain": [
          0,
          1
         ],
         "title": {
          "text": "Puntaje Total de Sostenibilidad"
         }
        }
       }
      }
     },
     "metadata": {},
     "output_type": "display_data"
    }
   ],
   "source": [
    "# 1. Preparación de Datos\n",
    "# Reutilizamos el DataFrame agregado, filtrando valores no positivos en ingresos para la escala logarítmica.\n",
    "scatter_data = company_agg_data[company_agg_data['Ingresos_Operacionales'] > 0].copy()\n",
    "\n",
    "# 2. Creación del Gráfico de Dispersión\n",
    "fig_scatter_trend = px.scatter(\n",
    "    scatter_data,\n",
    "    x=\"Ingresos_Operacionales\",\n",
    "    y=\"Puntaje_Total_Sostenibilidad\",\n",
    "    color=\"Macrosector\",\n",
    "    hover_name=\"Razón social\",\n",
    "    log_x=True,  # Usar escala logarítmica para el eje X (Ingresos)\n",
    "    trendline=\"ols\",  # Añadir línea de tendencia de regresión (Ordinary Least Squares)\n",
    "    trendline_scope=\"overall\" # Una única línea de tendencia para todos los datos\n",
    ")\n",
    "\n",
    "# 3. Personalización y Estilo del Gráfico\n",
    "fig_scatter_trend.update_layout(\n",
    "    title='<b>Relación entre Ingresos Operacionales y Desempeño en Sostenibilidad</b>',\n",
    "    title_x=0.5,\n",
    "    xaxis_title='Ingresos Operacionales (Escala Logarítmica)',\n",
    "    yaxis_title='Puntaje Total de Sostenibilidad',\n",
    "    font=dict(family=\"Arial, sans-serif\", size=12, color=\"black\"),\n",
    "    legend_title_text='Macrosector'\n",
    ")\n",
    "\n",
    "fig_scatter_trend.show()\n",
    "save_chart_as_html(fig_scatter_trend, '14_scatter_trend_income_vs_sustainability.html')"
   ]
  },
  {
   "cell_type": "markdown",
   "metadata": {},
   "source": [
    "## 15. Diagrama de Cuerdas (Chord Diagram) de Interconexión Sector-Pilar"
   ]
  },
  {
   "cell_type": "code",
   "execution_count": 99,
   "metadata": {},
   "outputs": [
    {
     "data": {
      "application/vnd.plotly.v1+json": {
       "config": {
        "plotlyServerURL": "https://plot.ly"
       },
       "data": [
        {
         "coloraxis": "coloraxis",
         "hovertemplate": "Pilar de Sostenibilidad: %{x}<br>Macrosector: %{y}<br>Valoración Total: %{z}<extra></extra>",
         "name": "0",
         "texttemplate": "%{z}",
         "type": "heatmap",
         "x": [
          "Acción Climática y Energía",
          "Capital Humano: Bienestar y Desarrollo",
          "Diversidad, Equidad e Inclusión (DEI)",
          "Gestión de Recursos Naturales y Circularidad",
          "Impacto Económico, Social y Comunitario",
          "Transparencia y Gobierno de la Sostenibilidad"
         ],
         "xaxis": "x",
         "y": [
          "Agropecuario",
          "Comercio",
          "Construcción",
          "Manufactura",
          "Minero",
          "Servicios"
         ],
         "yaxis": "y",
         "z": {
          "bdata": "NRWq53meZkAlU4nbtm1lQO7DKKVz2VRAE8FRVVXVZEBxJO62bdtRQPRv8rZt22FAUi+2GOldoUAFQRC4McaRQCkPM30ISohA91cBUZ/IeEBanVqFDk+DQLZTCB4eXplACW9giffCf0Dq8bVGKPZ0QJA3EstaqWJAtgYA2NLwekADM8Vt2xZwQKaEYFVV1YRA70UodBgaqEB+eAAFjXOQQFDe4yYg+YJAf4s3+hBqnEBGm/fA2QqJQP8K9OQ1NJZAq3D0xlsQj0BrX3jZkuuBQMhgG6rPGGxAkkxjiHc/jUB2TmeyfZWDQLSNw4mdWIBAm57dRQeqnUCwGN2QmnCKQH+Kpl1NO5NA0bfSWcy5hUBGlrBcX1qTQAdwo5aWXqVA",
          "dtype": "f8",
          "shape": "6, 6"
         }
        }
       ],
       "layout": {
        "coloraxis": {
         "colorbar": {
          "title": {
           "text": "Valoración Total"
          }
         },
         "colorscale": [
          [
           0,
           "#440154"
          ],
          [
           0.1111111111111111,
           "#482878"
          ],
          [
           0.2222222222222222,
           "#3e4989"
          ],
          [
           0.3333333333333333,
           "#31688e"
          ],
          [
           0.4444444444444444,
           "#26828e"
          ],
          [
           0.5555555555555556,
           "#1f9e89"
          ],
          [
           0.6666666666666666,
           "#35b779"
          ],
          [
           0.7777777777777778,
           "#6ece58"
          ],
          [
           0.8888888888888888,
           "#b5de2b"
          ],
          [
           1,
           "#fde725"
          ]
         ]
        },
        "font": {
         "color": "black",
         "family": "Arial, sans-serif",
         "size": 10
        },
        "margin": {
         "t": 60
        },
        "template": {
         "data": {
          "bar": [
           {
            "error_x": {
             "color": "#2a3f5f"
            },
            "error_y": {
             "color": "#2a3f5f"
            },
            "marker": {
             "line": {
              "color": "#E5ECF6",
              "width": 0.5
             },
             "pattern": {
              "fillmode": "overlay",
              "size": 10,
              "solidity": 0.2
             }
            },
            "type": "bar"
           }
          ],
          "barpolar": [
           {
            "marker": {
             "line": {
              "color": "#E5ECF6",
              "width": 0.5
             },
             "pattern": {
              "fillmode": "overlay",
              "size": 10,
              "solidity": 0.2
             }
            },
            "type": "barpolar"
           }
          ],
          "carpet": [
           {
            "aaxis": {
             "endlinecolor": "#2a3f5f",
             "gridcolor": "white",
             "linecolor": "white",
             "minorgridcolor": "white",
             "startlinecolor": "#2a3f5f"
            },
            "baxis": {
             "endlinecolor": "#2a3f5f",
             "gridcolor": "white",
             "linecolor": "white",
             "minorgridcolor": "white",
             "startlinecolor": "#2a3f5f"
            },
            "type": "carpet"
           }
          ],
          "choropleth": [
           {
            "colorbar": {
             "outlinewidth": 0,
             "ticks": ""
            },
            "type": "choropleth"
           }
          ],
          "contour": [
           {
            "colorbar": {
             "outlinewidth": 0,
             "ticks": ""
            },
            "colorscale": [
             [
              0,
              "#0d0887"
             ],
             [
              0.1111111111111111,
              "#46039f"
             ],
             [
              0.2222222222222222,
              "#7201a8"
             ],
             [
              0.3333333333333333,
              "#9c179e"
             ],
             [
              0.4444444444444444,
              "#bd3786"
             ],
             [
              0.5555555555555556,
              "#d8576b"
             ],
             [
              0.6666666666666666,
              "#ed7953"
             ],
             [
              0.7777777777777778,
              "#fb9f3a"
             ],
             [
              0.8888888888888888,
              "#fdca26"
             ],
             [
              1,
              "#f0f921"
             ]
            ],
            "type": "contour"
           }
          ],
          "contourcarpet": [
           {
            "colorbar": {
             "outlinewidth": 0,
             "ticks": ""
            },
            "type": "contourcarpet"
           }
          ],
          "heatmap": [
           {
            "colorbar": {
             "outlinewidth": 0,
             "ticks": ""
            },
            "colorscale": [
             [
              0,
              "#0d0887"
             ],
             [
              0.1111111111111111,
              "#46039f"
             ],
             [
              0.2222222222222222,
              "#7201a8"
             ],
             [
              0.3333333333333333,
              "#9c179e"
             ],
             [
              0.4444444444444444,
              "#bd3786"
             ],
             [
              0.5555555555555556,
              "#d8576b"
             ],
             [
              0.6666666666666666,
              "#ed7953"
             ],
             [
              0.7777777777777778,
              "#fb9f3a"
             ],
             [
              0.8888888888888888,
              "#fdca26"
             ],
             [
              1,
              "#f0f921"
             ]
            ],
            "type": "heatmap"
           }
          ],
          "histogram": [
           {
            "marker": {
             "pattern": {
              "fillmode": "overlay",
              "size": 10,
              "solidity": 0.2
             }
            },
            "type": "histogram"
           }
          ],
          "histogram2d": [
           {
            "colorbar": {
             "outlinewidth": 0,
             "ticks": ""
            },
            "colorscale": [
             [
              0,
              "#0d0887"
             ],
             [
              0.1111111111111111,
              "#46039f"
             ],
             [
              0.2222222222222222,
              "#7201a8"
             ],
             [
              0.3333333333333333,
              "#9c179e"
             ],
             [
              0.4444444444444444,
              "#bd3786"
             ],
             [
              0.5555555555555556,
              "#d8576b"
             ],
             [
              0.6666666666666666,
              "#ed7953"
             ],
             [
              0.7777777777777778,
              "#fb9f3a"
             ],
             [
              0.8888888888888888,
              "#fdca26"
             ],
             [
              1,
              "#f0f921"
             ]
            ],
            "type": "histogram2d"
           }
          ],
          "histogram2dcontour": [
           {
            "colorbar": {
             "outlinewidth": 0,
             "ticks": ""
            },
            "colorscale": [
             [
              0,
              "#0d0887"
             ],
             [
              0.1111111111111111,
              "#46039f"
             ],
             [
              0.2222222222222222,
              "#7201a8"
             ],
             [
              0.3333333333333333,
              "#9c179e"
             ],
             [
              0.4444444444444444,
              "#bd3786"
             ],
             [
              0.5555555555555556,
              "#d8576b"
             ],
             [
              0.6666666666666666,
              "#ed7953"
             ],
             [
              0.7777777777777778,
              "#fb9f3a"
             ],
             [
              0.8888888888888888,
              "#fdca26"
             ],
             [
              1,
              "#f0f921"
             ]
            ],
            "type": "histogram2dcontour"
           }
          ],
          "mesh3d": [
           {
            "colorbar": {
             "outlinewidth": 0,
             "ticks": ""
            },
            "type": "mesh3d"
           }
          ],
          "parcoords": [
           {
            "line": {
             "colorbar": {
              "outlinewidth": 0,
              "ticks": ""
             }
            },
            "type": "parcoords"
           }
          ],
          "pie": [
           {
            "automargin": true,
            "type": "pie"
           }
          ],
          "scatter": [
           {
            "fillpattern": {
             "fillmode": "overlay",
             "size": 10,
             "solidity": 0.2
            },
            "type": "scatter"
           }
          ],
          "scatter3d": [
           {
            "line": {
             "colorbar": {
              "outlinewidth": 0,
              "ticks": ""
             }
            },
            "marker": {
             "colorbar": {
              "outlinewidth": 0,
              "ticks": ""
             }
            },
            "type": "scatter3d"
           }
          ],
          "scattercarpet": [
           {
            "marker": {
             "colorbar": {
              "outlinewidth": 0,
              "ticks": ""
             }
            },
            "type": "scattercarpet"
           }
          ],
          "scattergeo": [
           {
            "marker": {
             "colorbar": {
              "outlinewidth": 0,
              "ticks": ""
             }
            },
            "type": "scattergeo"
           }
          ],
          "scattergl": [
           {
            "marker": {
             "colorbar": {
              "outlinewidth": 0,
              "ticks": ""
             }
            },
            "type": "scattergl"
           }
          ],
          "scattermap": [
           {
            "marker": {
             "colorbar": {
              "outlinewidth": 0,
              "ticks": ""
             }
            },
            "type": "scattermap"
           }
          ],
          "scattermapbox": [
           {
            "marker": {
             "colorbar": {
              "outlinewidth": 0,
              "ticks": ""
             }
            },
            "type": "scattermapbox"
           }
          ],
          "scatterpolar": [
           {
            "marker": {
             "colorbar": {
              "outlinewidth": 0,
              "ticks": ""
             }
            },
            "type": "scatterpolar"
           }
          ],
          "scatterpolargl": [
           {
            "marker": {
             "colorbar": {
              "outlinewidth": 0,
              "ticks": ""
             }
            },
            "type": "scatterpolargl"
           }
          ],
          "scatterternary": [
           {
            "marker": {
             "colorbar": {
              "outlinewidth": 0,
              "ticks": ""
             }
            },
            "type": "scatterternary"
           }
          ],
          "surface": [
           {
            "colorbar": {
             "outlinewidth": 0,
             "ticks": ""
            },
            "colorscale": [
             [
              0,
              "#0d0887"
             ],
             [
              0.1111111111111111,
              "#46039f"
             ],
             [
              0.2222222222222222,
              "#7201a8"
             ],
             [
              0.3333333333333333,
              "#9c179e"
             ],
             [
              0.4444444444444444,
              "#bd3786"
             ],
             [
              0.5555555555555556,
              "#d8576b"
             ],
             [
              0.6666666666666666,
              "#ed7953"
             ],
             [
              0.7777777777777778,
              "#fb9f3a"
             ],
             [
              0.8888888888888888,
              "#fdca26"
             ],
             [
              1,
              "#f0f921"
             ]
            ],
            "type": "surface"
           }
          ],
          "table": [
           {
            "cells": {
             "fill": {
              "color": "#EBF0F8"
             },
             "line": {
              "color": "white"
             }
            },
            "header": {
             "fill": {
              "color": "#C8D4E3"
             },
             "line": {
              "color": "white"
             }
            },
            "type": "table"
           }
          ]
         },
         "layout": {
          "annotationdefaults": {
           "arrowcolor": "#2a3f5f",
           "arrowhead": 0,
           "arrowwidth": 1
          },
          "autotypenumbers": "strict",
          "coloraxis": {
           "colorbar": {
            "outlinewidth": 0,
            "ticks": ""
           }
          },
          "colorscale": {
           "diverging": [
            [
             0,
             "#8e0152"
            ],
            [
             0.1,
             "#c51b7d"
            ],
            [
             0.2,
             "#de77ae"
            ],
            [
             0.3,
             "#f1b6da"
            ],
            [
             0.4,
             "#fde0ef"
            ],
            [
             0.5,
             "#f7f7f7"
            ],
            [
             0.6,
             "#e6f5d0"
            ],
            [
             0.7,
             "#b8e186"
            ],
            [
             0.8,
             "#7fbc41"
            ],
            [
             0.9,
             "#4d9221"
            ],
            [
             1,
             "#276419"
            ]
           ],
           "sequential": [
            [
             0,
             "#0d0887"
            ],
            [
             0.1111111111111111,
             "#46039f"
            ],
            [
             0.2222222222222222,
             "#7201a8"
            ],
            [
             0.3333333333333333,
             "#9c179e"
            ],
            [
             0.4444444444444444,
             "#bd3786"
            ],
            [
             0.5555555555555556,
             "#d8576b"
            ],
            [
             0.6666666666666666,
             "#ed7953"
            ],
            [
             0.7777777777777778,
             "#fb9f3a"
            ],
            [
             0.8888888888888888,
             "#fdca26"
            ],
            [
             1,
             "#f0f921"
            ]
           ],
           "sequentialminus": [
            [
             0,
             "#0d0887"
            ],
            [
             0.1111111111111111,
             "#46039f"
            ],
            [
             0.2222222222222222,
             "#7201a8"
            ],
            [
             0.3333333333333333,
             "#9c179e"
            ],
            [
             0.4444444444444444,
             "#bd3786"
            ],
            [
             0.5555555555555556,
             "#d8576b"
            ],
            [
             0.6666666666666666,
             "#ed7953"
            ],
            [
             0.7777777777777778,
             "#fb9f3a"
            ],
            [
             0.8888888888888888,
             "#fdca26"
            ],
            [
             1,
             "#f0f921"
            ]
           ]
          },
          "colorway": [
           "#636efa",
           "#EF553B",
           "#00cc96",
           "#ab63fa",
           "#FFA15A",
           "#19d3f3",
           "#FF6692",
           "#B6E880",
           "#FF97FF",
           "#FECB52"
          ],
          "font": {
           "color": "#2a3f5f"
          },
          "geo": {
           "bgcolor": "white",
           "lakecolor": "white",
           "landcolor": "#E5ECF6",
           "showlakes": true,
           "showland": true,
           "subunitcolor": "white"
          },
          "hoverlabel": {
           "align": "left"
          },
          "hovermode": "closest",
          "mapbox": {
           "style": "light"
          },
          "paper_bgcolor": "white",
          "plot_bgcolor": "#E5ECF6",
          "polar": {
           "angularaxis": {
            "gridcolor": "white",
            "linecolor": "white",
            "ticks": ""
           },
           "bgcolor": "#E5ECF6",
           "radialaxis": {
            "gridcolor": "white",
            "linecolor": "white",
            "ticks": ""
           }
          },
          "scene": {
           "xaxis": {
            "backgroundcolor": "#E5ECF6",
            "gridcolor": "white",
            "gridwidth": 2,
            "linecolor": "white",
            "showbackground": true,
            "ticks": "",
            "zerolinecolor": "white"
           },
           "yaxis": {
            "backgroundcolor": "#E5ECF6",
            "gridcolor": "white",
            "gridwidth": 2,
            "linecolor": "white",
            "showbackground": true,
            "ticks": "",
            "zerolinecolor": "white"
           },
           "zaxis": {
            "backgroundcolor": "#E5ECF6",
            "gridcolor": "white",
            "gridwidth": 2,
            "linecolor": "white",
            "showbackground": true,
            "ticks": "",
            "zerolinecolor": "white"
           }
          },
          "shapedefaults": {
           "line": {
            "color": "#2a3f5f"
           }
          },
          "ternary": {
           "aaxis": {
            "gridcolor": "white",
            "linecolor": "white",
            "ticks": ""
           },
           "baxis": {
            "gridcolor": "white",
            "linecolor": "white",
            "ticks": ""
           },
           "bgcolor": "#E5ECF6",
           "caxis": {
            "gridcolor": "white",
            "linecolor": "white",
            "ticks": ""
           }
          },
          "title": {
           "x": 0.05
          },
          "xaxis": {
           "automargin": true,
           "gridcolor": "white",
           "linecolor": "white",
           "ticks": "",
           "title": {
            "standoff": 15
           },
           "zerolinecolor": "white",
           "zerolinewidth": 2
          },
          "yaxis": {
           "automargin": true,
           "gridcolor": "white",
           "linecolor": "white",
           "ticks": "",
           "title": {
            "standoff": 15
           },
           "zerolinecolor": "white",
           "zerolinewidth": 2
          }
         }
        },
        "title": {
         "text": "<b>Interconexión y Especialización: Macrosector vs. Pilar de Sostenibilidad</b><br><sup>El color representa la valoración total acumulada</sup>",
         "x": 0.5
        },
        "xaxis": {
         "anchor": "y",
         "domain": [
          0,
          1
         ],
         "tickangle": -45,
         "title": {
          "text": "Pilar de Sostenibilidad"
         }
        },
        "yaxis": {
         "anchor": "x",
         "autorange": "reversed",
         "domain": [
          0,
          1
         ],
         "title": {
          "text": "Macrosector"
         }
        }
       }
      }
     },
     "metadata": {},
     "output_type": "display_data"
    }
   ],
   "source": [
    "# 1. Preparación de Datos\n",
    "# Agrupar por Macrosector y Nombre Pilar, sumando la valoración ponderada.\n",
    "chord_data = raw_data.groupby(['Macrosector', 'Nombre Pilar'])['valoracionPonderada'].sum().reset_index()\n",
    "\n",
    "# Pivotar los datos para crear una matriz: Sectores en filas, Pilares en columnas.\n",
    "chord_matrix = chord_data.pivot(\n",
    "    index='Macrosector', \n",
    "    columns='Nombre Pilar', \n",
    "    values='valoracionPonderada'\n",
    ").fillna(0)\n",
    "\n",
    "# 2. Creación del Gráfico (Heatmap)\n",
    "fig_chord_alternative = px.imshow(\n",
    "    chord_matrix,\n",
    "    text_auto=True,\n",
    "    aspect=\"auto\",\n",
    "    color_continuous_scale='Viridis',\n",
    "    labels=dict(x=\"Pilar de Sostenibilidad\", y=\"Macrosector\", color=\"Valoración Total\")\n",
    ")\n",
    "\n",
    "# 3. Personalización y Estilo del Gráfico\n",
    "fig_chord_alternative.update_layout(\n",
    "    title_text='<b>Interconexión y Especialización: Macrosector vs. Pilar de Sostenibilidad</b><br><sup>El color representa la valoración total acumulada</sup>',\n",
    "    title_x=0.5,\n",
    "    xaxis_tickangle=-45,\n",
    "    font=dict(family=\"Arial, sans-serif\", size=10, color=\"black\")\n",
    ")\n",
    "\n",
    "fig_chord_alternative.show()\n",
    "save_chart_as_html(fig_chord_alternative, '15_chord_alternative_macrosector_vs_pillar.html')"
   ]
  },
  {
   "cell_type": "markdown",
   "metadata": {},
   "source": [
    "## 16. Gráfico de Barras Anidadas: Variables Clave por Pilar y Liderazgo Sectorial"
   ]
  },
  {
   "cell_type": "markdown",
   "metadata": {},
   "source": [
    "Descripción Detallada:\n",
    "\n",
    "Esta visualización consiste en una serie de subgráficos (facetas), donde cada subgráfico representa un Nombre Pilar de sostenibilidad (ej. \"Acción Climática\", \"Salud y Seguridad\", etc.). Dentro de cada uno de estos subgráficos, se presenta un gráfico de barras horizontales que muestra las Variables más relevantes para ese pilar, ordenadas de mayor a menor según su valoración ponderada promedio.\n",
    "\n",
    "La característica distintiva es que el color de cada barra no es estático, sino que representa el Macrosector que ha obtenido la puntuación más alta para esa variable específica dentro de ese pilar. De esta forma, el color de la barra responde a la pregunta: \"¿Qué sector industrial lidera el desempeño en esta variable particular?\".\n",
    "\n",
    "Análisis Estratégico Potencial:\n",
    "\n",
    "Esta visualización es una herramienta de diagnóstico táctico que permite desglosar el desempeño a un nivel muy detallado, revelando la dinámica competitiva dentro de cada pilar de sostenibilidad.\n",
    "\n",
    "Identificación de \"Motores de Valor\" por Pilar: A diferencia de ver los pilares de forma agregada, este gráfico revela exactamente qué acciones (variables) son las que más contribuyen al éxito de un pilar. Permite a un estratega ver si el alto desempeño en \"Acción Climática\" se debe a la \"Gestión de emisiones\" o a la \"Inversión en renovables\".\n",
    "\n",
    "Mapa de Liderazgo Táctico: Al colorear las barras por el macrosector líder, se crea un \"mapa de fortalezas\" muy claro. Se puede identificar si un sector, como 'Manufactura', domina consistentemente las variables dentro de los pilares ambientales, o si el liderazgo está distribuido, con el sector 'Servicios' liderando en variables de gobernanza dentro del mismo pilar."
   ]
  },
  {
   "cell_type": "code",
   "execution_count": 122,
   "metadata": {},
   "outputs": [
    {
     "data": {
      "application/vnd.plotly.v1+json": {
       "config": {
        "plotlyServerURL": "https://plot.ly"
       },
       "data": [
        {
         "hovertemplate": "Sector_Lider=Manufactura<br>Nombre Pilar=Acción Climática y Energía<br>Valoración Ponderada Promedio=%{x}<br>=%{y}<extra></extra>",
         "legendgroup": "Manufactura",
         "marker": {
          "color": "rgb(102,194,165)",
          "pattern": {
           "shape": ""
          }
         },
         "name": "Manufactura",
         "orientation": "h",
         "showlegend": true,
         "textposition": "auto",
         "type": "bar",
         "x": {
          "bdata": "xTW0BUGLF0AY0jVXAA4iQOXxa/keWSFA6YHk0VC7JUBjDDwLpb0lQA==",
          "dtype": "f8"
         },
         "xaxis": "x4",
         "y": [
          "Acción climática (0-2)",
          "Evidencia diversidad en su<br>matriz energética Si/no",
          "¿Reporta consumo energético<br>(GRI 302)?",
          "¿Reporta emisiones GEI (GRI<br>305)?",
          "¿Tiene meta de reducción de<br>emisiones? Si/No"
         ],
         "yaxis": "y4"
        },
        {
         "hovertemplate": "Sector_Lider=Manufactura<br>Nombre Pilar=Capital Humano: Bienestar y Desarrollo<br>Valoración Ponderada Promedio=%{x}<br>=%{y}<extra></extra>",
         "legendgroup": "Manufactura",
         "marker": {
          "color": "rgb(102,194,165)",
          "pattern": {
           "shape": ""
          }
         },
         "name": "Manufactura",
         "orientation": "h",
         "showlegend": false,
         "textposition": "auto",
         "type": "bar",
         "x": {
          "bdata": "rMUFPEjJJ0BmUlfxOyskQA==",
          "dtype": "f8"
         },
         "xaxis": "x5",
         "y": [
          "¿Informa sobre salud y<br>seguridad laboral (GRI 403)?",
          "¿Tiene indicadores de<br>desarrollo del talento humano?<br>Si/no"
         ],
         "yaxis": "y5"
        },
        {
         "hovertemplate": "Sector_Lider=Manufactura<br>Nombre Pilar=Gestión de Recursos Naturales y Circularidad<br>Valoración Ponderada Promedio=%{x}<br>=%{y}<extra></extra>",
         "legendgroup": "Manufactura",
         "marker": {
          "color": "rgb(102,194,165)",
          "pattern": {
           "shape": ""
          }
         },
         "name": "Manufactura",
         "orientation": "h",
         "showlegend": false,
         "textposition": "auto",
         "type": "bar",
         "x": {
          "bdata": "TbU6Q8TiDkA=",
          "dtype": "f8"
         },
         "xaxis": "x",
         "y": [
          "Iniciativas de economía<br>circular (0-2)"
         ],
         "yaxis": "y"
        },
        {
         "hovertemplate": "Sector_Lider=Manufactura<br>Nombre Pilar=Impacto Económico, Social y Comunitario<br>Valoración Ponderada Promedio=%{x}<br>=%{y}<extra></extra>",
         "legendgroup": "Manufactura",
         "marker": {
          "color": "rgb(102,194,165)",
          "pattern": {
           "shape": ""
          }
         },
         "name": "Manufactura",
         "orientation": "h",
         "showlegend": false,
         "textposition": "auto",
         "type": "bar",
         "x": {
          "bdata": "Szj8rq9ZAEAHymTbIUaxPw==",
          "dtype": "f8"
         },
         "xaxis": "x2",
         "y": [
          "¿Reporta GRI 207 (prácticas<br>fiscales)? Si/no",
          "¿Se evidencia impacto positivo<br>en comunidades locales? (0-2)"
         ],
         "yaxis": "y2"
        },
        {
         "hovertemplate": "Sector_Lider=Minero<br>Nombre Pilar=Acción Climática y Energía<br>Valoración Ponderada Promedio=%{x}<br>=%{y}<extra></extra>",
         "legendgroup": "Minero",
         "marker": {
          "color": "rgb(252,141,98)",
          "pattern": {
           "shape": ""
          }
         },
         "name": "Minero",
         "orientation": "h",
         "showlegend": true,
         "textposition": "auto",
         "type": "bar",
         "x": {
          "bdata": "530BBrhPJUDITPOmI/sfQFgGiiD2nBtA",
          "dtype": "f8"
         },
         "xaxis": "x4",
         "y": [
          "Alcance 1 en t CO2 eq",
          "Alcance 2 en t CO2 eq",
          "Consumo total de la<br>organización (MJ)"
         ],
         "yaxis": "y4"
        },
        {
         "hovertemplate": "Sector_Lider=Minero<br>Nombre Pilar=Capital Humano: Bienestar y Desarrollo<br>Valoración Ponderada Promedio=%{x}<br>=%{y}<extra></extra>",
         "legendgroup": "Minero",
         "marker": {
          "color": "rgb(252,141,98)",
          "pattern": {
           "shape": ""
          }
         },
         "name": "Minero",
         "orientation": "h",
         "showlegend": false,
         "textposition": "auto",
         "type": "bar",
         "x": {
          "bdata": "yW4Os09tBkARQ8fiT3MHQA==",
          "dtype": "f8"
         },
         "xaxis": "x5",
         "y": [
          "Promedio de horas de formación<br>hombres (GRI 404)",
          "Promedio de horas de formación<br>mujeres (GRI 404)"
         ],
         "yaxis": "y5"
        },
        {
         "hovertemplate": "Sector_Lider=Minero<br>Nombre Pilar=Gestión de Recursos Naturales y Circularidad<br>Valoración Ponderada Promedio=%{x}<br>=%{y}<extra></extra>",
         "legendgroup": "Minero",
         "marker": {
          "color": "rgb(252,141,98)",
          "pattern": {
           "shape": ""
          }
         },
         "name": "Minero",
         "orientation": "h",
         "showlegend": false,
         "textposition": "auto",
         "type": "bar",
         "x": {
          "bdata": "DzTa+tMMEkAB/wxDmK8gQAhUTjpm9xpAHa+/pS0SD0D5YXKUrawRQPN4Hq0DPiBABS3pISH9G0A=",
          "dtype": "f8"
         },
         "xaxis": "x",
         "y": [
          "Consumo total de agua (m³)",
          "Generación total de residuos<br>en toneladas",
          "Gestión de biodiversidad Si/no",
          "Gestión del recurso hídrico<br>(0-2)",
          "Metas relacionadas a<br>biodiversidad Si/no",
          "¿Reporta gestión de residuos<br>(GRI 306)?",
          "¿Reporta uso de agua (GRI<br>303)?"
         ],
         "yaxis": "y"
        },
        {
         "hovertemplate": "Sector_Lider=Minero<br>Nombre Pilar=Impacto Económico, Social y Comunitario<br>Valoración Ponderada Promedio=%{x}<br>=%{y}<extra></extra>",
         "legendgroup": "Minero",
         "marker": {
          "color": "rgb(252,141,98)",
          "pattern": {
           "shape": ""
          }
         },
         "name": "Minero",
         "orientation": "h",
         "showlegend": false,
         "textposition": "auto",
         "type": "bar",
         "x": {
          "bdata": "3zTfVTIRC0AwQlRm7O7oP2fJNbu3iOQ/Sz7pthiWIUCNYtuOkMUPQKbMFKLZwwJA",
          "dtype": "f8"
         },
         "xaxis": "x2",
         "y": [
          "Independencia en junta<br>directiva (0-2)",
          "Porcentaje de inversión en la<br>comunidad sobre VED",
          "Porcentaje de salarios y<br>beneficios sobre VED",
          "¿Realiza inversión social en<br>comunidades (GRI 413)?",
          "¿Reporta valor económico<br>directo generado y distribuido<br>(GRI 201-1)? Si/No",
          "¿Tiene programas para<br>construcción de paz?<br>(beneficios a poblaciones<br>desplazadas, victimas de<br>conflicto, excombatientes)<br>Si/no"
         ],
         "yaxis": "y2"
        },
        {
         "hovertemplate": "Sector_Lider=Comercio<br>Nombre Pilar=Acción Climática y Energía<br>Valoración Ponderada Promedio=%{x}<br>=%{y}<extra></extra>",
         "legendgroup": "Comercio",
         "marker": {
          "color": "rgb(141,160,203)",
          "pattern": {
           "shape": ""
          }
         },
         "name": "Comercio",
         "orientation": "h",
         "showlegend": true,
         "textposition": "auto",
         "type": "bar",
         "x": {
          "bdata": "TS8xtVODGkA=",
          "dtype": "f8"
         },
         "xaxis": "x4",
         "y": [
          "Alcance 3 en t CO2 eq"
         ],
         "yaxis": "y4"
        },
        {
         "hovertemplate": "Sector_Lider=Comercio<br>Nombre Pilar=Capital Humano: Bienestar y Desarrollo<br>Valoración Ponderada Promedio=%{x}<br>=%{y}<extra></extra>",
         "legendgroup": "Comercio",
         "marker": {
          "color": "rgb(141,160,203)",
          "pattern": {
           "shape": ""
          }
         },
         "name": "Comercio",
         "orientation": "h",
         "showlegend": false,
         "textposition": "auto",
         "type": "bar",
         "x": {
          "bdata": "ACkQpgZQIkDsJLIkhu4LQA==",
          "dtype": "f8"
         },
         "xaxis": "x5",
         "y": [
          "Días perdidos por cada 100<br>empleados",
          "Días perdidos por enfermedad y<br>accidente laboral"
         ],
         "yaxis": "y5"
        },
        {
         "hovertemplate": "Sector_Lider=Comercio<br>Nombre Pilar=Diversidad, Equidad e Inclusión (DEI)<br>Valoración Ponderada Promedio=%{x}<br>=%{y}<extra></extra>",
         "legendgroup": "Comercio",
         "marker": {
          "color": "rgb(141,160,203)",
          "pattern": {
           "shape": ""
          }
         },
         "name": "Comercio",
         "orientation": "h",
         "showlegend": false,
         "textposition": "auto",
         "type": "bar",
         "x": {
          "bdata": "uGCoK/0vEkA=",
          "dtype": "f8"
         },
         "xaxis": "x6",
         "y": [
          "Porcentaje mujeres en<br>organización"
         ],
         "yaxis": "y6"
        },
        {
         "hovertemplate": "Sector_Lider=Servicios<br>Nombre Pilar=Acción Climática y Energía<br>Valoración Ponderada Promedio=%{x}<br>=%{y}<extra></extra>",
         "legendgroup": "Servicios",
         "marker": {
          "color": "rgb(231,138,195)",
          "pattern": {
           "shape": ""
          }
         },
         "name": "Servicios",
         "orientation": "h",
         "showlegend": true,
         "textposition": "auto",
         "type": "bar",
         "x": {
          "bdata": "02YS3qfn7j8=",
          "dtype": "f8"
         },
         "xaxis": "x4",
         "y": [
          "¿Es carbononeutro? Si/no"
         ],
         "yaxis": "y4"
        },
        {
         "hovertemplate": "Sector_Lider=Servicios<br>Nombre Pilar=Diversidad, Equidad e Inclusión (DEI)<br>Valoración Ponderada Promedio=%{x}<br>=%{y}<extra></extra>",
         "legendgroup": "Servicios",
         "marker": {
          "color": "rgb(231,138,195)",
          "pattern": {
           "shape": ""
          }
         },
         "name": "Servicios",
         "orientation": "h",
         "showlegend": false,
         "textposition": "auto",
         "type": "bar",
         "x": {
          "bdata": "64d5o3zI9z/DqoOx71kVQFXo+2VhPwZANO6oh1gFGUDfKEwJvV4ZQA==",
          "dtype": "f8"
         },
         "xaxis": "x6",
         "y": [
          "Permiso marental con beneficio<br>extralegal (Sí/no)",
          "Porcentaje de mujeres en junta<br>directiva",
          "Porcentaje de personas con<br>discapacidad empleadas",
          "Proporción y detalle al<br>informar prácticas DEI GRI 405<br>(0-2)",
          "¿Informa sobre inclusión<br>laboral para personas con<br>discapacidad?"
         ],
         "yaxis": "y6"
        },
        {
         "hovertemplate": "Sector_Lider=Servicios<br>Nombre Pilar=Impacto Económico, Social y Comunitario<br>Valoración Ponderada Promedio=%{x}<br>=%{y}<extra></extra>",
         "legendgroup": "Servicios",
         "marker": {
          "color": "rgb(231,138,195)",
          "pattern": {
           "shape": ""
          }
         },
         "name": "Servicios",
         "orientation": "h",
         "showlegend": false,
         "textposition": "auto",
         "type": "bar",
         "x": {
          "bdata": "w2nIYjIR6D9A2xKg3IQLQHgFeEZ7ahNAayoTVrGDEEA=",
          "dtype": "f8"
         },
         "xaxis": "x2",
         "y": [
          "Porcentaje de pagos a gobierno<br>sobre VED",
          "¿Cuál es el porcentaje de<br>proveeduría local?",
          "¿Nivel de políticas y<br>compromisos éticos?<br>(anticorrupción, canal de<br>denuncias) 0-2",
          "¿Reporta sanciones y multas?<br>(Si/No) 206-1"
         ],
         "yaxis": "y2"
        },
        {
         "hovertemplate": "Sector_Lider=Servicios<br>Nombre Pilar=Transparencia y Gobierno de la Sostenibilidad<br>Valoración Ponderada Promedio=%{x}<br>=%{y}<extra></extra>",
         "legendgroup": "Servicios",
         "marker": {
          "color": "rgb(231,138,195)",
          "pattern": {
           "shape": ""
          }
         },
         "name": "Servicios",
         "orientation": "h",
         "showlegend": false,
         "textposition": "auto",
         "type": "bar",
         "x": {
          "bdata": "ed3Jeg25IUAjT/daWKApQLlz1vizqypAMZoZ838BMEDg3r5sOQoqQA==",
          "dtype": "f8"
         },
         "xaxis": "x3",
         "y": [
          "¿Incluye mapeo de ODS? Si/No",
          "¿Tiene análisis de<br>materialidad? Si/No",
          "¿Tiene carta de presidencia?<br>Si/No",
          "¿Tiene informe? Si/No",
          "¿Utiliza estándar GRI? Si/No"
         ],
         "yaxis": "y3"
        },
        {
         "hovertemplate": "Sector_Lider=Agropecuario<br>Nombre Pilar=Transparencia y Gobierno de la Sostenibilidad<br>Valoración Ponderada Promedio=%{x}<br>=%{y}<extra></extra>",
         "legendgroup": "Agropecuario",
         "marker": {
          "color": "rgb(166,216,84)",
          "pattern": {
           "shape": ""
          }
         },
         "name": "Agropecuario",
         "orientation": "h",
         "showlegend": true,
         "textposition": "auto",
         "type": "bar",
         "x": {
          "bdata": "AAAAAAAAAAA=",
          "dtype": "f8"
         },
         "xaxis": "x3",
         "y": [
          "Año del informe 2023/2024"
         ],
         "yaxis": "y3"
        }
       ],
       "layout": {
        "annotations": [
         {
          "font": {},
          "showarrow": false,
          "text": "Gestión de Recursos Naturales y Circularidad",
          "x": 0.16333333333333333,
          "xanchor": "center",
          "xref": "paper",
          "y": 0.46499999999999997,
          "yanchor": "bottom",
          "yref": "paper"
         },
         {
          "font": {},
          "showarrow": false,
          "text": "Impacto Económico, Social y Comunitario",
          "x": 0.5,
          "xanchor": "center",
          "xref": "paper",
          "y": 0.46499999999999997,
          "yanchor": "bottom",
          "yref": "paper"
         },
         {
          "font": {},
          "showarrow": false,
          "text": "Transparencia y Gobierno de la Sostenibilidad",
          "x": 0.8366666666666667,
          "xanchor": "center",
          "xref": "paper",
          "y": 0.46499999999999997,
          "yanchor": "bottom",
          "yref": "paper"
         },
         {
          "font": {},
          "showarrow": false,
          "text": "Acción Climática y Energía",
          "x": 0.16333333333333333,
          "xanchor": "center",
          "xref": "paper",
          "y": 0.9999999999999999,
          "yanchor": "bottom",
          "yref": "paper"
         },
         {
          "font": {},
          "showarrow": false,
          "text": "Capital Humano: Bienestar y Desarrollo",
          "x": 0.5,
          "xanchor": "center",
          "xref": "paper",
          "y": 0.9999999999999999,
          "yanchor": "bottom",
          "yref": "paper"
         },
         {
          "font": {},
          "showarrow": false,
          "text": "Diversidad, Equidad e Inclusión (DEI)",
          "x": 0.8366666666666667,
          "xanchor": "center",
          "xref": "paper",
          "y": 0.9999999999999999,
          "yanchor": "bottom",
          "yref": "paper"
         }
        ],
        "barmode": "relative",
        "font": {
         "color": "black",
         "family": "Arial, sans-serif",
         "size": 10
        },
        "height": 1800,
        "legend": {
         "title": {
          "text": "Sector_Lider"
         },
         "tracegroupgap": 0
        },
        "margin": {
         "t": 60
        },
        "template": {
         "data": {
          "bar": [
           {
            "error_x": {
             "color": "#2a3f5f"
            },
            "error_y": {
             "color": "#2a3f5f"
            },
            "marker": {
             "line": {
              "color": "#E5ECF6",
              "width": 0.5
             },
             "pattern": {
              "fillmode": "overlay",
              "size": 10,
              "solidity": 0.2
             }
            },
            "type": "bar"
           }
          ],
          "barpolar": [
           {
            "marker": {
             "line": {
              "color": "#E5ECF6",
              "width": 0.5
             },
             "pattern": {
              "fillmode": "overlay",
              "size": 10,
              "solidity": 0.2
             }
            },
            "type": "barpolar"
           }
          ],
          "carpet": [
           {
            "aaxis": {
             "endlinecolor": "#2a3f5f",
             "gridcolor": "white",
             "linecolor": "white",
             "minorgridcolor": "white",
             "startlinecolor": "#2a3f5f"
            },
            "baxis": {
             "endlinecolor": "#2a3f5f",
             "gridcolor": "white",
             "linecolor": "white",
             "minorgridcolor": "white",
             "startlinecolor": "#2a3f5f"
            },
            "type": "carpet"
           }
          ],
          "choropleth": [
           {
            "colorbar": {
             "outlinewidth": 0,
             "ticks": ""
            },
            "type": "choropleth"
           }
          ],
          "contour": [
           {
            "colorbar": {
             "outlinewidth": 0,
             "ticks": ""
            },
            "colorscale": [
             [
              0,
              "#0d0887"
             ],
             [
              0.1111111111111111,
              "#46039f"
             ],
             [
              0.2222222222222222,
              "#7201a8"
             ],
             [
              0.3333333333333333,
              "#9c179e"
             ],
             [
              0.4444444444444444,
              "#bd3786"
             ],
             [
              0.5555555555555556,
              "#d8576b"
             ],
             [
              0.6666666666666666,
              "#ed7953"
             ],
             [
              0.7777777777777778,
              "#fb9f3a"
             ],
             [
              0.8888888888888888,
              "#fdca26"
             ],
             [
              1,
              "#f0f921"
             ]
            ],
            "type": "contour"
           }
          ],
          "contourcarpet": [
           {
            "colorbar": {
             "outlinewidth": 0,
             "ticks": ""
            },
            "type": "contourcarpet"
           }
          ],
          "heatmap": [
           {
            "colorbar": {
             "outlinewidth": 0,
             "ticks": ""
            },
            "colorscale": [
             [
              0,
              "#0d0887"
             ],
             [
              0.1111111111111111,
              "#46039f"
             ],
             [
              0.2222222222222222,
              "#7201a8"
             ],
             [
              0.3333333333333333,
              "#9c179e"
             ],
             [
              0.4444444444444444,
              "#bd3786"
             ],
             [
              0.5555555555555556,
              "#d8576b"
             ],
             [
              0.6666666666666666,
              "#ed7953"
             ],
             [
              0.7777777777777778,
              "#fb9f3a"
             ],
             [
              0.8888888888888888,
              "#fdca26"
             ],
             [
              1,
              "#f0f921"
             ]
            ],
            "type": "heatmap"
           }
          ],
          "histogram": [
           {
            "marker": {
             "pattern": {
              "fillmode": "overlay",
              "size": 10,
              "solidity": 0.2
             }
            },
            "type": "histogram"
           }
          ],
          "histogram2d": [
           {
            "colorbar": {
             "outlinewidth": 0,
             "ticks": ""
            },
            "colorscale": [
             [
              0,
              "#0d0887"
             ],
             [
              0.1111111111111111,
              "#46039f"
             ],
             [
              0.2222222222222222,
              "#7201a8"
             ],
             [
              0.3333333333333333,
              "#9c179e"
             ],
             [
              0.4444444444444444,
              "#bd3786"
             ],
             [
              0.5555555555555556,
              "#d8576b"
             ],
             [
              0.6666666666666666,
              "#ed7953"
             ],
             [
              0.7777777777777778,
              "#fb9f3a"
             ],
             [
              0.8888888888888888,
              "#fdca26"
             ],
             [
              1,
              "#f0f921"
             ]
            ],
            "type": "histogram2d"
           }
          ],
          "histogram2dcontour": [
           {
            "colorbar": {
             "outlinewidth": 0,
             "ticks": ""
            },
            "colorscale": [
             [
              0,
              "#0d0887"
             ],
             [
              0.1111111111111111,
              "#46039f"
             ],
             [
              0.2222222222222222,
              "#7201a8"
             ],
             [
              0.3333333333333333,
              "#9c179e"
             ],
             [
              0.4444444444444444,
              "#bd3786"
             ],
             [
              0.5555555555555556,
              "#d8576b"
             ],
             [
              0.6666666666666666,
              "#ed7953"
             ],
             [
              0.7777777777777778,
              "#fb9f3a"
             ],
             [
              0.8888888888888888,
              "#fdca26"
             ],
             [
              1,
              "#f0f921"
             ]
            ],
            "type": "histogram2dcontour"
           }
          ],
          "mesh3d": [
           {
            "colorbar": {
             "outlinewidth": 0,
             "ticks": ""
            },
            "type": "mesh3d"
           }
          ],
          "parcoords": [
           {
            "line": {
             "colorbar": {
              "outlinewidth": 0,
              "ticks": ""
             }
            },
            "type": "parcoords"
           }
          ],
          "pie": [
           {
            "automargin": true,
            "type": "pie"
           }
          ],
          "scatter": [
           {
            "fillpattern": {
             "fillmode": "overlay",
             "size": 10,
             "solidity": 0.2
            },
            "type": "scatter"
           }
          ],
          "scatter3d": [
           {
            "line": {
             "colorbar": {
              "outlinewidth": 0,
              "ticks": ""
             }
            },
            "marker": {
             "colorbar": {
              "outlinewidth": 0,
              "ticks": ""
             }
            },
            "type": "scatter3d"
           }
          ],
          "scattercarpet": [
           {
            "marker": {
             "colorbar": {
              "outlinewidth": 0,
              "ticks": ""
             }
            },
            "type": "scattercarpet"
           }
          ],
          "scattergeo": [
           {
            "marker": {
             "colorbar": {
              "outlinewidth": 0,
              "ticks": ""
             }
            },
            "type": "scattergeo"
           }
          ],
          "scattergl": [
           {
            "marker": {
             "colorbar": {
              "outlinewidth": 0,
              "ticks": ""
             }
            },
            "type": "scattergl"
           }
          ],
          "scattermap": [
           {
            "marker": {
             "colorbar": {
              "outlinewidth": 0,
              "ticks": ""
             }
            },
            "type": "scattermap"
           }
          ],
          "scattermapbox": [
           {
            "marker": {
             "colorbar": {
              "outlinewidth": 0,
              "ticks": ""
             }
            },
            "type": "scattermapbox"
           }
          ],
          "scatterpolar": [
           {
            "marker": {
             "colorbar": {
              "outlinewidth": 0,
              "ticks": ""
             }
            },
            "type": "scatterpolar"
           }
          ],
          "scatterpolargl": [
           {
            "marker": {
             "colorbar": {
              "outlinewidth": 0,
              "ticks": ""
             }
            },
            "type": "scatterpolargl"
           }
          ],
          "scatterternary": [
           {
            "marker": {
             "colorbar": {
              "outlinewidth": 0,
              "ticks": ""
             }
            },
            "type": "scatterternary"
           }
          ],
          "surface": [
           {
            "colorbar": {
             "outlinewidth": 0,
             "ticks": ""
            },
            "colorscale": [
             [
              0,
              "#0d0887"
             ],
             [
              0.1111111111111111,
              "#46039f"
             ],
             [
              0.2222222222222222,
              "#7201a8"
             ],
             [
              0.3333333333333333,
              "#9c179e"
             ],
             [
              0.4444444444444444,
              "#bd3786"
             ],
             [
              0.5555555555555556,
              "#d8576b"
             ],
             [
              0.6666666666666666,
              "#ed7953"
             ],
             [
              0.7777777777777778,
              "#fb9f3a"
             ],
             [
              0.8888888888888888,
              "#fdca26"
             ],
             [
              1,
              "#f0f921"
             ]
            ],
            "type": "surface"
           }
          ],
          "table": [
           {
            "cells": {
             "fill": {
              "color": "#EBF0F8"
             },
             "line": {
              "color": "white"
             }
            },
            "header": {
             "fill": {
              "color": "#C8D4E3"
             },
             "line": {
              "color": "white"
             }
            },
            "type": "table"
           }
          ]
         },
         "layout": {
          "annotationdefaults": {
           "arrowcolor": "#2a3f5f",
           "arrowhead": 0,
           "arrowwidth": 1
          },
          "autotypenumbers": "strict",
          "coloraxis": {
           "colorbar": {
            "outlinewidth": 0,
            "ticks": ""
           }
          },
          "colorscale": {
           "diverging": [
            [
             0,
             "#8e0152"
            ],
            [
             0.1,
             "#c51b7d"
            ],
            [
             0.2,
             "#de77ae"
            ],
            [
             0.3,
             "#f1b6da"
            ],
            [
             0.4,
             "#fde0ef"
            ],
            [
             0.5,
             "#f7f7f7"
            ],
            [
             0.6,
             "#e6f5d0"
            ],
            [
             0.7,
             "#b8e186"
            ],
            [
             0.8,
             "#7fbc41"
            ],
            [
             0.9,
             "#4d9221"
            ],
            [
             1,
             "#276419"
            ]
           ],
           "sequential": [
            [
             0,
             "#0d0887"
            ],
            [
             0.1111111111111111,
             "#46039f"
            ],
            [
             0.2222222222222222,
             "#7201a8"
            ],
            [
             0.3333333333333333,
             "#9c179e"
            ],
            [
             0.4444444444444444,
             "#bd3786"
            ],
            [
             0.5555555555555556,
             "#d8576b"
            ],
            [
             0.6666666666666666,
             "#ed7953"
            ],
            [
             0.7777777777777778,
             "#fb9f3a"
            ],
            [
             0.8888888888888888,
             "#fdca26"
            ],
            [
             1,
             "#f0f921"
            ]
           ],
           "sequentialminus": [
            [
             0,
             "#0d0887"
            ],
            [
             0.1111111111111111,
             "#46039f"
            ],
            [
             0.2222222222222222,
             "#7201a8"
            ],
            [
             0.3333333333333333,
             "#9c179e"
            ],
            [
             0.4444444444444444,
             "#bd3786"
            ],
            [
             0.5555555555555556,
             "#d8576b"
            ],
            [
             0.6666666666666666,
             "#ed7953"
            ],
            [
             0.7777777777777778,
             "#fb9f3a"
            ],
            [
             0.8888888888888888,
             "#fdca26"
            ],
            [
             1,
             "#f0f921"
            ]
           ]
          },
          "colorway": [
           "#636efa",
           "#EF553B",
           "#00cc96",
           "#ab63fa",
           "#FFA15A",
           "#19d3f3",
           "#FF6692",
           "#B6E880",
           "#FF97FF",
           "#FECB52"
          ],
          "font": {
           "color": "#2a3f5f"
          },
          "geo": {
           "bgcolor": "white",
           "lakecolor": "white",
           "landcolor": "#E5ECF6",
           "showlakes": true,
           "showland": true,
           "subunitcolor": "white"
          },
          "hoverlabel": {
           "align": "left"
          },
          "hovermode": "closest",
          "mapbox": {
           "style": "light"
          },
          "paper_bgcolor": "white",
          "plot_bgcolor": "#E5ECF6",
          "polar": {
           "angularaxis": {
            "gridcolor": "white",
            "linecolor": "white",
            "ticks": ""
           },
           "bgcolor": "#E5ECF6",
           "radialaxis": {
            "gridcolor": "white",
            "linecolor": "white",
            "ticks": ""
           }
          },
          "scene": {
           "xaxis": {
            "backgroundcolor": "#E5ECF6",
            "gridcolor": "white",
            "gridwidth": 2,
            "linecolor": "white",
            "showbackground": true,
            "ticks": "",
            "zerolinecolor": "white"
           },
           "yaxis": {
            "backgroundcolor": "#E5ECF6",
            "gridcolor": "white",
            "gridwidth": 2,
            "linecolor": "white",
            "showbackground": true,
            "ticks": "",
            "zerolinecolor": "white"
           },
           "zaxis": {
            "backgroundcolor": "#E5ECF6",
            "gridcolor": "white",
            "gridwidth": 2,
            "linecolor": "white",
            "showbackground": true,
            "ticks": "",
            "zerolinecolor": "white"
           }
          },
          "shapedefaults": {
           "line": {
            "color": "#2a3f5f"
           }
          },
          "ternary": {
           "aaxis": {
            "gridcolor": "white",
            "linecolor": "white",
            "ticks": ""
           },
           "baxis": {
            "gridcolor": "white",
            "linecolor": "white",
            "ticks": ""
           },
           "bgcolor": "#E5ECF6",
           "caxis": {
            "gridcolor": "white",
            "linecolor": "white",
            "ticks": ""
           }
          },
          "title": {
           "x": 0.05
          },
          "xaxis": {
           "automargin": true,
           "gridcolor": "white",
           "linecolor": "white",
           "ticks": "",
           "title": {
            "standoff": 15
           },
           "zerolinecolor": "white",
           "zerolinewidth": 2
          },
          "yaxis": {
           "automargin": true,
           "gridcolor": "white",
           "linecolor": "white",
           "ticks": "",
           "title": {
            "standoff": 15
           },
           "zerolinecolor": "white",
           "zerolinewidth": 2
          }
         }
        },
        "title": {
         "text": "<b>Variables Clave por Pilar y Liderazgo Sectorial</b><br><sup>El color de la barra indica el Macrosector con mayor puntaje en esa variable</sup>",
         "x": 0.5
        },
        "xaxis": {
         "anchor": "y",
         "domain": [
          0,
          0.32666666666666666
         ],
         "title": {
          "text": "Valoración Ponderada Promedio"
         }
        },
        "xaxis2": {
         "anchor": "y2",
         "domain": [
          0.33666666666666667,
          0.6633333333333333
         ],
         "matches": "x",
         "title": {
          "text": "Valoración Ponderada Promedio"
         }
        },
        "xaxis3": {
         "anchor": "y3",
         "domain": [
          0.6733333333333333,
          1
         ],
         "matches": "x",
         "title": {
          "text": "Valoración Ponderada Promedio"
         }
        },
        "xaxis4": {
         "anchor": "y4",
         "domain": [
          0,
          0.32666666666666666
         ],
         "matches": "x",
         "showticklabels": false
        },
        "xaxis5": {
         "anchor": "y5",
         "domain": [
          0.33666666666666667,
          0.6633333333333333
         ],
         "matches": "x",
         "showticklabels": false
        },
        "xaxis6": {
         "anchor": "y6",
         "domain": [
          0.6733333333333333,
          1
         ],
         "matches": "x",
         "showticklabels": false
        },
        "yaxis": {
         "anchor": "x",
         "categoryorder": "total ascending",
         "domain": [
          0,
          0.46499999999999997
         ],
         "showticklabels": true,
         "title": {
          "text": ""
         }
        },
        "yaxis2": {
         "anchor": "x2",
         "categoryorder": "total ascending",
         "domain": [
          0,
          0.46499999999999997
         ],
         "showticklabels": true
        },
        "yaxis3": {
         "anchor": "x3",
         "categoryorder": "total ascending",
         "domain": [
          0,
          0.46499999999999997
         ],
         "showticklabels": true
        },
        "yaxis4": {
         "anchor": "x4",
         "categoryorder": "total ascending",
         "domain": [
          0.5349999999999999,
          0.9999999999999999
         ],
         "showticklabels": true,
         "title": {
          "text": ""
         }
        },
        "yaxis5": {
         "anchor": "x5",
         "categoryorder": "total ascending",
         "domain": [
          0.5349999999999999,
          0.9999999999999999
         ],
         "showticklabels": true
        },
        "yaxis6": {
         "anchor": "x6",
         "categoryorder": "total ascending",
         "domain": [
          0.5349999999999999,
          0.9999999999999999
         ],
         "showticklabels": true
        }
       }
      }
     },
     "metadata": {},
     "output_type": "display_data"
    }
   ],
   "source": [
    "# 1. Preparación de Datos\n",
    "# Calcular el puntaje promedio de cada variable por sector y pilar.\n",
    "df_agg = raw_data.groupby(['Nombre Pilar', 'Variable', 'Macrosector'])['valoracionPonderada'].mean().reset_index()\n",
    "\n",
    "# Para cada variable en cada pilar, encontrar el sector líder (con el puntaje más alto).\n",
    "idx = df_agg.groupby(['Nombre Pilar', 'Variable'])['valoracionPonderada'].idxmax()\n",
    "df_leaders = df_agg.loc[idx][['Nombre Pilar', 'Variable', 'Macrosector']]\n",
    "df_leaders.rename(columns={'Macrosector': 'Sector_Lider'}, inplace=True)\n",
    "\n",
    "# Calcular el puntaje promedio general de cada variable por pilar para la longitud de la barra.\n",
    "df_plot_data = df_agg.groupby(['Nombre Pilar', 'Variable'])['valoracionPonderada'].mean().reset_index()\n",
    "\n",
    "# Unir la información del sector líder con los datos del gráfico.\n",
    "df_plot_data = pd.merge(df_plot_data, df_leaders, on=['Nombre Pilar', 'Variable'])\n",
    "# Reemplazar los nombres de las variables largas para mejorar la legibilidad en el gráfico.\n",
    "df_plot_data['Variable'] = df_plot_data['Variable'].apply(lambda x: wrap_text(x, max_length=30))\n",
    "\n",
    "# 2. Creación del Gráfico de Barras Anidadas\n",
    "# Se usa facet_col para crear un subgráfico por cada 'Nombre Pilar'.\n",
    "fig_nested_bars = px.bar(\n",
    "    df_plot_data,\n",
    "    x='valoracionPonderada',\n",
    "    y='Variable',\n",
    "    color='Sector_Lider',  # El color de la barra indica el sector líder.\n",
    "    orientation='h',\n",
    "    facet_col='Nombre Pilar',\n",
    "    facet_col_wrap=3,  # Organiza los subgráficos en 2 columnas.\n",
    "    labels={'valoracionPonderada': 'Valoración Ponderada Promedio', 'Variable': ''},\n",
    "    color_discrete_sequence=px.colors.qualitative.Set2, # Añadir una paleta de colores\n",
    "    facet_col_spacing=0.01  # Añadir espacio horizontal entre subgráficos\n",
    ")\n",
    "\n",
    "# 3. Personalización y Estilo del Gráfico\n",
    "fig_nested_bars.update_layout(\n",
    "    title_text='<b>Variables Clave por Pilar y Liderazgo Sectorial</b><br><sup>El color de la barra indica el Macrosector con mayor puntaje en esa variable</sup>',\n",
    "    title_x=0.5,\n",
    "    font=dict(family=\"Arial, sans-serif\", size=10, color=\"black\"),\n",
    "    height=max(800, len(df_plot_data['Nombre Pilar'].unique()) * 300), # Altura dinámica\n",
    ")\n",
    "\n",
    "# Hacer que cada subgráfico tenga su propio eje Y independiente y ordenar las barras.\n",
    "fig_nested_bars.update_yaxes(matches=None, showticklabels=True)\n",
    "fig_nested_bars.update_yaxes(categoryorder=\"total ascending\")\n",
    "# Actualizar los títulos de cada subgráfico para que no muestren \"Nombre Pilar=\".\n",
    "fig_nested_bars.for_each_annotation(lambda a: a.update(text=a.text.split(\"=\")[-1]))\n",
    "\n",
    "fig_nested_bars.show()\n",
    "save_chart_as_html(fig_nested_bars, '16_nested_bars_variables_by_pillar_and_sector.html')"
   ]
  },
  {
   "cell_type": "code",
   "execution_count": 128,
   "metadata": {},
   "outputs": [
    {
     "data": {
      "application/vnd.plotly.v1+json": {
       "config": {
        "plotlyServerURL": "https://plot.ly"
       },
       "data": [
        {
         "hovertemplate": "<b>%{hovertext}</b><br><br>Sector_Lider=Manufactura<br>Nombre Pilar=Acción Climática y Energía<br>Valoración Ponderada Promedio=%{marker.size}<br>=%{y}<extra></extra>",
         "hovertext": [
          "Manufactura",
          "Manufactura",
          "Manufactura",
          "Manufactura",
          "Manufactura"
         ],
         "legendgroup": "Manufactura",
         "marker": {
          "color": "#636efa",
          "size": {
           "bdata": "xTW0BUGLF0AY0jVXAA4iQOXxa/keWSFA6YHk0VC7JUBjDDwLpb0lQA==",
           "dtype": "f8"
          },
          "sizemode": "area",
          "sizeref": 0.04001464651525155,
          "symbol": "circle"
         },
         "mode": "markers",
         "name": "Manufactura",
         "orientation": "h",
         "showlegend": true,
         "type": "scatter",
         "x": {
          "bdata": "xTW0BUGLF0AY0jVXAA4iQOXxa/keWSFA6YHk0VC7JUBjDDwLpb0lQA==",
          "dtype": "f8"
         },
         "xaxis": "x4",
         "y": [
          "Acción climática (0-2)",
          "Evidencia diversidad en su<br>matriz energética Si/no",
          "¿Reporta consumo energético<br>(GRI 302)?",
          "¿Reporta emisiones GEI (GRI<br>305)?",
          "¿Tiene meta de reducción de<br>emisiones? Si/No"
         ],
         "yaxis": "y4"
        },
        {
         "hovertemplate": "<b>%{hovertext}</b><br><br>Sector_Lider=Manufactura<br>Nombre Pilar=Capital Humano: Bienestar y Desarrollo<br>Valoración Ponderada Promedio=%{marker.size}<br>=%{y}<extra></extra>",
         "hovertext": [
          "Manufactura",
          "Manufactura"
         ],
         "legendgroup": "Manufactura",
         "marker": {
          "color": "#636efa",
          "size": {
           "bdata": "rMUFPEjJJ0BmUlfxOyskQA==",
           "dtype": "f8"
          },
          "sizemode": "area",
          "sizeref": 0.04001464651525155,
          "symbol": "circle"
         },
         "mode": "markers",
         "name": "Manufactura",
         "orientation": "h",
         "showlegend": false,
         "type": "scatter",
         "x": {
          "bdata": "rMUFPEjJJ0BmUlfxOyskQA==",
          "dtype": "f8"
         },
         "xaxis": "x5",
         "y": [
          "¿Informa sobre salud y<br>seguridad laboral (GRI 403)?",
          "¿Tiene indicadores de<br>desarrollo del talento humano?<br>Si/no"
         ],
         "yaxis": "y5"
        },
        {
         "hovertemplate": "<b>%{hovertext}</b><br><br>Sector_Lider=Manufactura<br>Nombre Pilar=Gestión de Recursos Naturales y Circularidad<br>Valoración Ponderada Promedio=%{marker.size}<br>=%{y}<extra></extra>",
         "hovertext": [
          "Manufactura"
         ],
         "legendgroup": "Manufactura",
         "marker": {
          "color": "#636efa",
          "size": {
           "bdata": "TbU6Q8TiDkA=",
           "dtype": "f8"
          },
          "sizemode": "area",
          "sizeref": 0.04001464651525155,
          "symbol": "circle"
         },
         "mode": "markers",
         "name": "Manufactura",
         "orientation": "h",
         "showlegend": false,
         "type": "scatter",
         "x": {
          "bdata": "TbU6Q8TiDkA=",
          "dtype": "f8"
         },
         "xaxis": "x",
         "y": [
          "Iniciativas de economía<br>circular (0-2)"
         ],
         "yaxis": "y"
        },
        {
         "hovertemplate": "<b>%{hovertext}</b><br><br>Sector_Lider=Manufactura<br>Nombre Pilar=Impacto Económico, Social y Comunitario<br>Valoración Ponderada Promedio=%{marker.size}<br>=%{y}<extra></extra>",
         "hovertext": [
          "Manufactura",
          "Manufactura"
         ],
         "legendgroup": "Manufactura",
         "marker": {
          "color": "#636efa",
          "size": {
           "bdata": "Szj8rq9ZAEAHymTbIUaxPw==",
           "dtype": "f8"
          },
          "sizemode": "area",
          "sizeref": 0.04001464651525155,
          "symbol": "circle"
         },
         "mode": "markers",
         "name": "Manufactura",
         "orientation": "h",
         "showlegend": false,
         "type": "scatter",
         "x": {
          "bdata": "Szj8rq9ZAEAHymTbIUaxPw==",
          "dtype": "f8"
         },
         "xaxis": "x2",
         "y": [
          "¿Reporta GRI 207 (prácticas<br>fiscales)? Si/no",
          "¿Se evidencia impacto positivo<br>en comunidades locales? (0-2)"
         ],
         "yaxis": "y2"
        },
        {
         "hovertemplate": "<b>%{hovertext}</b><br><br>Sector_Lider=Minero<br>Nombre Pilar=Acción Climática y Energía<br>Valoración Ponderada Promedio=%{marker.size}<br>=%{y}<extra></extra>",
         "hovertext": [
          "Minero",
          "Minero",
          "Minero"
         ],
         "legendgroup": "Minero",
         "marker": {
          "color": "#EF553B",
          "size": {
           "bdata": "530BBrhPJUDITPOmI/sfQFgGiiD2nBtA",
           "dtype": "f8"
          },
          "sizemode": "area",
          "sizeref": 0.04001464651525155,
          "symbol": "circle"
         },
         "mode": "markers",
         "name": "Minero",
         "orientation": "h",
         "showlegend": true,
         "type": "scatter",
         "x": {
          "bdata": "530BBrhPJUDITPOmI/sfQFgGiiD2nBtA",
          "dtype": "f8"
         },
         "xaxis": "x4",
         "y": [
          "Alcance 1 en t CO2 eq",
          "Alcance 2 en t CO2 eq",
          "Consumo total de la<br>organización (MJ)"
         ],
         "yaxis": "y4"
        },
        {
         "hovertemplate": "<b>%{hovertext}</b><br><br>Sector_Lider=Minero<br>Nombre Pilar=Capital Humano: Bienestar y Desarrollo<br>Valoración Ponderada Promedio=%{marker.size}<br>=%{y}<extra></extra>",
         "hovertext": [
          "Minero",
          "Minero"
         ],
         "legendgroup": "Minero",
         "marker": {
          "color": "#EF553B",
          "size": {
           "bdata": "yW4Os09tBkARQ8fiT3MHQA==",
           "dtype": "f8"
          },
          "sizemode": "area",
          "sizeref": 0.04001464651525155,
          "symbol": "circle"
         },
         "mode": "markers",
         "name": "Minero",
         "orientation": "h",
         "showlegend": false,
         "type": "scatter",
         "x": {
          "bdata": "yW4Os09tBkARQ8fiT3MHQA==",
          "dtype": "f8"
         },
         "xaxis": "x5",
         "y": [
          "Promedio de horas de formación<br>hombres (GRI 404)",
          "Promedio de horas de formación<br>mujeres (GRI 404)"
         ],
         "yaxis": "y5"
        },
        {
         "hovertemplate": "<b>%{hovertext}</b><br><br>Sector_Lider=Minero<br>Nombre Pilar=Gestión de Recursos Naturales y Circularidad<br>Valoración Ponderada Promedio=%{marker.size}<br>=%{y}<extra></extra>",
         "hovertext": [
          "Minero",
          "Minero",
          "Minero",
          "Minero",
          "Minero",
          "Minero",
          "Minero"
         ],
         "legendgroup": "Minero",
         "marker": {
          "color": "#EF553B",
          "size": {
           "bdata": "DzTa+tMMEkAB/wxDmK8gQAhUTjpm9xpAHa+/pS0SD0D5YXKUrawRQPN4Hq0DPiBABS3pISH9G0A=",
           "dtype": "f8"
          },
          "sizemode": "area",
          "sizeref": 0.04001464651525155,
          "symbol": "circle"
         },
         "mode": "markers",
         "name": "Minero",
         "orientation": "h",
         "showlegend": false,
         "type": "scatter",
         "x": {
          "bdata": "DzTa+tMMEkAB/wxDmK8gQAhUTjpm9xpAHa+/pS0SD0D5YXKUrawRQPN4Hq0DPiBABS3pISH9G0A=",
          "dtype": "f8"
         },
         "xaxis": "x",
         "y": [
          "Consumo total de agua (m³)",
          "Generación total de residuos<br>en toneladas",
          "Gestión de biodiversidad Si/no",
          "Gestión del recurso hídrico<br>(0-2)",
          "Metas relacionadas a<br>biodiversidad Si/no",
          "¿Reporta gestión de residuos<br>(GRI 306)?",
          "¿Reporta uso de agua (GRI<br>303)?"
         ],
         "yaxis": "y"
        },
        {
         "hovertemplate": "<b>%{hovertext}</b><br><br>Sector_Lider=Minero<br>Nombre Pilar=Impacto Económico, Social y Comunitario<br>Valoración Ponderada Promedio=%{marker.size}<br>=%{y}<extra></extra>",
         "hovertext": [
          "Minero",
          "Minero",
          "Minero",
          "Minero",
          "Minero",
          "Minero"
         ],
         "legendgroup": "Minero",
         "marker": {
          "color": "#EF553B",
          "size": {
           "bdata": "3zTfVTIRC0AwQlRm7O7oP2fJNbu3iOQ/Sz7pthiWIUCNYtuOkMUPQKbMFKLZwwJA",
           "dtype": "f8"
          },
          "sizemode": "area",
          "sizeref": 0.04001464651525155,
          "symbol": "circle"
         },
         "mode": "markers",
         "name": "Minero",
         "orientation": "h",
         "showlegend": false,
         "type": "scatter",
         "x": {
          "bdata": "3zTfVTIRC0AwQlRm7O7oP2fJNbu3iOQ/Sz7pthiWIUCNYtuOkMUPQKbMFKLZwwJA",
          "dtype": "f8"
         },
         "xaxis": "x2",
         "y": [
          "Independencia en junta<br>directiva (0-2)",
          "Porcentaje de inversión en la<br>comunidad sobre VED",
          "Porcentaje de salarios y<br>beneficios sobre VED",
          "¿Realiza inversión social en<br>comunidades (GRI 413)?",
          "¿Reporta valor económico<br>directo generado y distribuido<br>(GRI 201-1)? Si/No",
          "¿Tiene programas para<br>construcción de paz?<br>(beneficios a poblaciones<br>desplazadas, victimas de<br>conflicto, excombatientes)<br>Si/no"
         ],
         "yaxis": "y2"
        },
        {
         "hovertemplate": "<b>%{hovertext}</b><br><br>Sector_Lider=Comercio<br>Nombre Pilar=Acción Climática y Energía<br>Valoración Ponderada Promedio=%{marker.size}<br>=%{y}<extra></extra>",
         "hovertext": [
          "Comercio"
         ],
         "legendgroup": "Comercio",
         "marker": {
          "color": "#00cc96",
          "size": {
           "bdata": "TS8xtVODGkA=",
           "dtype": "f8"
          },
          "sizemode": "area",
          "sizeref": 0.04001464651525155,
          "symbol": "circle"
         },
         "mode": "markers",
         "name": "Comercio",
         "orientation": "h",
         "showlegend": true,
         "type": "scatter",
         "x": {
          "bdata": "TS8xtVODGkA=",
          "dtype": "f8"
         },
         "xaxis": "x4",
         "y": [
          "Alcance 3 en t CO2 eq"
         ],
         "yaxis": "y4"
        },
        {
         "hovertemplate": "<b>%{hovertext}</b><br><br>Sector_Lider=Comercio<br>Nombre Pilar=Capital Humano: Bienestar y Desarrollo<br>Valoración Ponderada Promedio=%{marker.size}<br>=%{y}<extra></extra>",
         "hovertext": [
          "Comercio",
          "Comercio"
         ],
         "legendgroup": "Comercio",
         "marker": {
          "color": "#00cc96",
          "size": {
           "bdata": "ACkQpgZQIkDsJLIkhu4LQA==",
           "dtype": "f8"
          },
          "sizemode": "area",
          "sizeref": 0.04001464651525155,
          "symbol": "circle"
         },
         "mode": "markers",
         "name": "Comercio",
         "orientation": "h",
         "showlegend": false,
         "type": "scatter",
         "x": {
          "bdata": "ACkQpgZQIkDsJLIkhu4LQA==",
          "dtype": "f8"
         },
         "xaxis": "x5",
         "y": [
          "Días perdidos por cada 100<br>empleados",
          "Días perdidos por enfermedad y<br>accidente laboral"
         ],
         "yaxis": "y5"
        },
        {
         "hovertemplate": "<b>%{hovertext}</b><br><br>Sector_Lider=Comercio<br>Nombre Pilar=Diversidad, Equidad e Inclusión (DEI)<br>Valoración Ponderada Promedio=%{marker.size}<br>=%{y}<extra></extra>",
         "hovertext": [
          "Comercio"
         ],
         "legendgroup": "Comercio",
         "marker": {
          "color": "#00cc96",
          "size": {
           "bdata": "uGCoK/0vEkA=",
           "dtype": "f8"
          },
          "sizemode": "area",
          "sizeref": 0.04001464651525155,
          "symbol": "circle"
         },
         "mode": "markers",
         "name": "Comercio",
         "orientation": "h",
         "showlegend": false,
         "type": "scatter",
         "x": {
          "bdata": "uGCoK/0vEkA=",
          "dtype": "f8"
         },
         "xaxis": "x6",
         "y": [
          "Porcentaje mujeres en<br>organización"
         ],
         "yaxis": "y6"
        },
        {
         "hovertemplate": "<b>%{hovertext}</b><br><br>Sector_Lider=Servicios<br>Nombre Pilar=Acción Climática y Energía<br>Valoración Ponderada Promedio=%{marker.size}<br>=%{y}<extra></extra>",
         "hovertext": [
          "Servicios"
         ],
         "legendgroup": "Servicios",
         "marker": {
          "color": "#ab63fa",
          "size": {
           "bdata": "02YS3qfn7j8=",
           "dtype": "f8"
          },
          "sizemode": "area",
          "sizeref": 0.04001464651525155,
          "symbol": "circle"
         },
         "mode": "markers",
         "name": "Servicios",
         "orientation": "h",
         "showlegend": true,
         "type": "scatter",
         "x": {
          "bdata": "02YS3qfn7j8=",
          "dtype": "f8"
         },
         "xaxis": "x4",
         "y": [
          "¿Es carbononeutro? Si/no"
         ],
         "yaxis": "y4"
        },
        {
         "hovertemplate": "<b>%{hovertext}</b><br><br>Sector_Lider=Servicios<br>Nombre Pilar=Diversidad, Equidad e Inclusión (DEI)<br>Valoración Ponderada Promedio=%{marker.size}<br>=%{y}<extra></extra>",
         "hovertext": [
          "Servicios",
          "Servicios",
          "Servicios",
          "Servicios",
          "Servicios"
         ],
         "legendgroup": "Servicios",
         "marker": {
          "color": "#ab63fa",
          "size": {
           "bdata": "64d5o3zI9z/DqoOx71kVQFXo+2VhPwZANO6oh1gFGUDfKEwJvV4ZQA==",
           "dtype": "f8"
          },
          "sizemode": "area",
          "sizeref": 0.04001464651525155,
          "symbol": "circle"
         },
         "mode": "markers",
         "name": "Servicios",
         "orientation": "h",
         "showlegend": false,
         "type": "scatter",
         "x": {
          "bdata": "64d5o3zI9z/DqoOx71kVQFXo+2VhPwZANO6oh1gFGUDfKEwJvV4ZQA==",
          "dtype": "f8"
         },
         "xaxis": "x6",
         "y": [
          "Permiso marental con beneficio<br>extralegal (Sí/no)",
          "Porcentaje de mujeres en junta<br>directiva",
          "Porcentaje de personas con<br>discapacidad empleadas",
          "Proporción y detalle al<br>informar prácticas DEI GRI 405<br>(0-2)",
          "¿Informa sobre inclusión<br>laboral para personas con<br>discapacidad?"
         ],
         "yaxis": "y6"
        },
        {
         "hovertemplate": "<b>%{hovertext}</b><br><br>Sector_Lider=Servicios<br>Nombre Pilar=Impacto Económico, Social y Comunitario<br>Valoración Ponderada Promedio=%{marker.size}<br>=%{y}<extra></extra>",
         "hovertext": [
          "Servicios",
          "Servicios",
          "Servicios",
          "Servicios"
         ],
         "legendgroup": "Servicios",
         "marker": {
          "color": "#ab63fa",
          "size": {
           "bdata": "w2nIYjIR6D9A2xKg3IQLQHgFeEZ7ahNAayoTVrGDEEA=",
           "dtype": "f8"
          },
          "sizemode": "area",
          "sizeref": 0.04001464651525155,
          "symbol": "circle"
         },
         "mode": "markers",
         "name": "Servicios",
         "orientation": "h",
         "showlegend": false,
         "type": "scatter",
         "x": {
          "bdata": "w2nIYjIR6D9A2xKg3IQLQHgFeEZ7ahNAayoTVrGDEEA=",
          "dtype": "f8"
         },
         "xaxis": "x2",
         "y": [
          "Porcentaje de pagos a gobierno<br>sobre VED",
          "¿Cuál es el porcentaje de<br>proveeduría local?",
          "¿Nivel de políticas y<br>compromisos éticos?<br>(anticorrupción, canal de<br>denuncias) 0-2",
          "¿Reporta sanciones y multas?<br>(Si/No) 206-1"
         ],
         "yaxis": "y2"
        },
        {
         "hovertemplate": "<b>%{hovertext}</b><br><br>Sector_Lider=Servicios<br>Nombre Pilar=Transparencia y Gobierno de la Sostenibilidad<br>Valoración Ponderada Promedio=%{marker.size}<br>=%{y}<extra></extra>",
         "hovertext": [
          "Servicios",
          "Servicios",
          "Servicios",
          "Servicios",
          "Servicios"
         ],
         "legendgroup": "Servicios",
         "marker": {
          "color": "#ab63fa",
          "size": {
           "bdata": "ed3Jeg25IUAjT/daWKApQLlz1vizqypAMZoZ838BMEDg3r5sOQoqQA==",
           "dtype": "f8"
          },
          "sizemode": "area",
          "sizeref": 0.04001464651525155,
          "symbol": "circle"
         },
         "mode": "markers",
         "name": "Servicios",
         "orientation": "h",
         "showlegend": false,
         "type": "scatter",
         "x": {
          "bdata": "ed3Jeg25IUAjT/daWKApQLlz1vizqypAMZoZ838BMEDg3r5sOQoqQA==",
          "dtype": "f8"
         },
         "xaxis": "x3",
         "y": [
          "¿Incluye mapeo de ODS? Si/No",
          "¿Tiene análisis de<br>materialidad? Si/No",
          "¿Tiene carta de presidencia?<br>Si/No",
          "¿Tiene informe? Si/No",
          "¿Utiliza estándar GRI? Si/No"
         ],
         "yaxis": "y3"
        },
        {
         "hovertemplate": "<b>%{hovertext}</b><br><br>Sector_Lider=Agropecuario<br>Nombre Pilar=Transparencia y Gobierno de la Sostenibilidad<br>Valoración Ponderada Promedio=%{marker.size}<br>=%{y}<extra></extra>",
         "hovertext": [
          "Agropecuario"
         ],
         "legendgroup": "Agropecuario",
         "marker": {
          "color": "#FFA15A",
          "size": {
           "bdata": "AAAAAAAAAAA=",
           "dtype": "f8"
          },
          "sizemode": "area",
          "sizeref": 0.04001464651525155,
          "symbol": "circle"
         },
         "mode": "markers",
         "name": "Agropecuario",
         "orientation": "h",
         "showlegend": true,
         "type": "scatter",
         "x": {
          "bdata": "AAAAAAAAAAA=",
          "dtype": "f8"
         },
         "xaxis": "x3",
         "y": [
          "Año del informe 2023/2024"
         ],
         "yaxis": "y3"
        }
       ],
       "layout": {
        "annotations": [
         {
          "font": {},
          "showarrow": false,
          "text": "Gestión de Recursos Naturales y Circularidad",
          "x": 0.11666666666666665,
          "xanchor": "center",
          "xref": "paper",
          "y": 0.46499999999999997,
          "yanchor": "bottom",
          "yref": "paper"
         },
         {
          "font": {},
          "showarrow": false,
          "text": "Impacto Económico, Social y Comunitario",
          "x": 0.49999999999999994,
          "xanchor": "center",
          "xref": "paper",
          "y": 0.46499999999999997,
          "yanchor": "bottom",
          "yref": "paper"
         },
         {
          "font": {},
          "showarrow": false,
          "text": "Transparencia y Gobierno de la Sostenibilidad",
          "x": 0.8833333333333333,
          "xanchor": "center",
          "xref": "paper",
          "y": 0.46499999999999997,
          "yanchor": "bottom",
          "yref": "paper"
         },
         {
          "font": {},
          "showarrow": false,
          "text": "Acción Climática y Energía",
          "x": 0.11666666666666665,
          "xanchor": "center",
          "xref": "paper",
          "y": 0.9999999999999999,
          "yanchor": "bottom",
          "yref": "paper"
         },
         {
          "font": {},
          "showarrow": false,
          "text": "Capital Humano: Bienestar y Desarrollo",
          "x": 0.49999999999999994,
          "xanchor": "center",
          "xref": "paper",
          "y": 0.9999999999999999,
          "yanchor": "bottom",
          "yref": "paper"
         },
         {
          "font": {},
          "showarrow": false,
          "text": "Diversidad, Equidad e Inclusión (DEI)",
          "x": 0.8833333333333333,
          "xanchor": "center",
          "xref": "paper",
          "y": 0.9999999999999999,
          "yanchor": "bottom",
          "yref": "paper"
         }
        ],
        "font": {
         "color": "black",
         "family": "Arial, sans-serif",
         "size": 10
        },
        "height": 1200,
        "legend": {
         "itemsizing": "constant",
         "title": {
          "text": "Sector_Lider"
         },
         "tracegroupgap": 0
        },
        "margin": {
         "t": 60
        },
        "template": {
         "data": {
          "bar": [
           {
            "error_x": {
             "color": "#2a3f5f"
            },
            "error_y": {
             "color": "#2a3f5f"
            },
            "marker": {
             "line": {
              "color": "#E5ECF6",
              "width": 0.5
             },
             "pattern": {
              "fillmode": "overlay",
              "size": 10,
              "solidity": 0.2
             }
            },
            "type": "bar"
           }
          ],
          "barpolar": [
           {
            "marker": {
             "line": {
              "color": "#E5ECF6",
              "width": 0.5
             },
             "pattern": {
              "fillmode": "overlay",
              "size": 10,
              "solidity": 0.2
             }
            },
            "type": "barpolar"
           }
          ],
          "carpet": [
           {
            "aaxis": {
             "endlinecolor": "#2a3f5f",
             "gridcolor": "white",
             "linecolor": "white",
             "minorgridcolor": "white",
             "startlinecolor": "#2a3f5f"
            },
            "baxis": {
             "endlinecolor": "#2a3f5f",
             "gridcolor": "white",
             "linecolor": "white",
             "minorgridcolor": "white",
             "startlinecolor": "#2a3f5f"
            },
            "type": "carpet"
           }
          ],
          "choropleth": [
           {
            "colorbar": {
             "outlinewidth": 0,
             "ticks": ""
            },
            "type": "choropleth"
           }
          ],
          "contour": [
           {
            "colorbar": {
             "outlinewidth": 0,
             "ticks": ""
            },
            "colorscale": [
             [
              0,
              "#0d0887"
             ],
             [
              0.1111111111111111,
              "#46039f"
             ],
             [
              0.2222222222222222,
              "#7201a8"
             ],
             [
              0.3333333333333333,
              "#9c179e"
             ],
             [
              0.4444444444444444,
              "#bd3786"
             ],
             [
              0.5555555555555556,
              "#d8576b"
             ],
             [
              0.6666666666666666,
              "#ed7953"
             ],
             [
              0.7777777777777778,
              "#fb9f3a"
             ],
             [
              0.8888888888888888,
              "#fdca26"
             ],
             [
              1,
              "#f0f921"
             ]
            ],
            "type": "contour"
           }
          ],
          "contourcarpet": [
           {
            "colorbar": {
             "outlinewidth": 0,
             "ticks": ""
            },
            "type": "contourcarpet"
           }
          ],
          "heatmap": [
           {
            "colorbar": {
             "outlinewidth": 0,
             "ticks": ""
            },
            "colorscale": [
             [
              0,
              "#0d0887"
             ],
             [
              0.1111111111111111,
              "#46039f"
             ],
             [
              0.2222222222222222,
              "#7201a8"
             ],
             [
              0.3333333333333333,
              "#9c179e"
             ],
             [
              0.4444444444444444,
              "#bd3786"
             ],
             [
              0.5555555555555556,
              "#d8576b"
             ],
             [
              0.6666666666666666,
              "#ed7953"
             ],
             [
              0.7777777777777778,
              "#fb9f3a"
             ],
             [
              0.8888888888888888,
              "#fdca26"
             ],
             [
              1,
              "#f0f921"
             ]
            ],
            "type": "heatmap"
           }
          ],
          "histogram": [
           {
            "marker": {
             "pattern": {
              "fillmode": "overlay",
              "size": 10,
              "solidity": 0.2
             }
            },
            "type": "histogram"
           }
          ],
          "histogram2d": [
           {
            "colorbar": {
             "outlinewidth": 0,
             "ticks": ""
            },
            "colorscale": [
             [
              0,
              "#0d0887"
             ],
             [
              0.1111111111111111,
              "#46039f"
             ],
             [
              0.2222222222222222,
              "#7201a8"
             ],
             [
              0.3333333333333333,
              "#9c179e"
             ],
             [
              0.4444444444444444,
              "#bd3786"
             ],
             [
              0.5555555555555556,
              "#d8576b"
             ],
             [
              0.6666666666666666,
              "#ed7953"
             ],
             [
              0.7777777777777778,
              "#fb9f3a"
             ],
             [
              0.8888888888888888,
              "#fdca26"
             ],
             [
              1,
              "#f0f921"
             ]
            ],
            "type": "histogram2d"
           }
          ],
          "histogram2dcontour": [
           {
            "colorbar": {
             "outlinewidth": 0,
             "ticks": ""
            },
            "colorscale": [
             [
              0,
              "#0d0887"
             ],
             [
              0.1111111111111111,
              "#46039f"
             ],
             [
              0.2222222222222222,
              "#7201a8"
             ],
             [
              0.3333333333333333,
              "#9c179e"
             ],
             [
              0.4444444444444444,
              "#bd3786"
             ],
             [
              0.5555555555555556,
              "#d8576b"
             ],
             [
              0.6666666666666666,
              "#ed7953"
             ],
             [
              0.7777777777777778,
              "#fb9f3a"
             ],
             [
              0.8888888888888888,
              "#fdca26"
             ],
             [
              1,
              "#f0f921"
             ]
            ],
            "type": "histogram2dcontour"
           }
          ],
          "mesh3d": [
           {
            "colorbar": {
             "outlinewidth": 0,
             "ticks": ""
            },
            "type": "mesh3d"
           }
          ],
          "parcoords": [
           {
            "line": {
             "colorbar": {
              "outlinewidth": 0,
              "ticks": ""
             }
            },
            "type": "parcoords"
           }
          ],
          "pie": [
           {
            "automargin": true,
            "type": "pie"
           }
          ],
          "scatter": [
           {
            "fillpattern": {
             "fillmode": "overlay",
             "size": 10,
             "solidity": 0.2
            },
            "type": "scatter"
           }
          ],
          "scatter3d": [
           {
            "line": {
             "colorbar": {
              "outlinewidth": 0,
              "ticks": ""
             }
            },
            "marker": {
             "colorbar": {
              "outlinewidth": 0,
              "ticks": ""
             }
            },
            "type": "scatter3d"
           }
          ],
          "scattercarpet": [
           {
            "marker": {
             "colorbar": {
              "outlinewidth": 0,
              "ticks": ""
             }
            },
            "type": "scattercarpet"
           }
          ],
          "scattergeo": [
           {
            "marker": {
             "colorbar": {
              "outlinewidth": 0,
              "ticks": ""
             }
            },
            "type": "scattergeo"
           }
          ],
          "scattergl": [
           {
            "marker": {
             "colorbar": {
              "outlinewidth": 0,
              "ticks": ""
             }
            },
            "type": "scattergl"
           }
          ],
          "scattermap": [
           {
            "marker": {
             "colorbar": {
              "outlinewidth": 0,
              "ticks": ""
             }
            },
            "type": "scattermap"
           }
          ],
          "scattermapbox": [
           {
            "marker": {
             "colorbar": {
              "outlinewidth": 0,
              "ticks": ""
             }
            },
            "type": "scattermapbox"
           }
          ],
          "scatterpolar": [
           {
            "marker": {
             "colorbar": {
              "outlinewidth": 0,
              "ticks": ""
             }
            },
            "type": "scatterpolar"
           }
          ],
          "scatterpolargl": [
           {
            "marker": {
             "colorbar": {
              "outlinewidth": 0,
              "ticks": ""
             }
            },
            "type": "scatterpolargl"
           }
          ],
          "scatterternary": [
           {
            "marker": {
             "colorbar": {
              "outlinewidth": 0,
              "ticks": ""
             }
            },
            "type": "scatterternary"
           }
          ],
          "surface": [
           {
            "colorbar": {
             "outlinewidth": 0,
             "ticks": ""
            },
            "colorscale": [
             [
              0,
              "#0d0887"
             ],
             [
              0.1111111111111111,
              "#46039f"
             ],
             [
              0.2222222222222222,
              "#7201a8"
             ],
             [
              0.3333333333333333,
              "#9c179e"
             ],
             [
              0.4444444444444444,
              "#bd3786"
             ],
             [
              0.5555555555555556,
              "#d8576b"
             ],
             [
              0.6666666666666666,
              "#ed7953"
             ],
             [
              0.7777777777777778,
              "#fb9f3a"
             ],
             [
              0.8888888888888888,
              "#fdca26"
             ],
             [
              1,
              "#f0f921"
             ]
            ],
            "type": "surface"
           }
          ],
          "table": [
           {
            "cells": {
             "fill": {
              "color": "#EBF0F8"
             },
             "line": {
              "color": "white"
             }
            },
            "header": {
             "fill": {
              "color": "#C8D4E3"
             },
             "line": {
              "color": "white"
             }
            },
            "type": "table"
           }
          ]
         },
         "layout": {
          "annotationdefaults": {
           "arrowcolor": "#2a3f5f",
           "arrowhead": 0,
           "arrowwidth": 1
          },
          "autotypenumbers": "strict",
          "coloraxis": {
           "colorbar": {
            "outlinewidth": 0,
            "ticks": ""
           }
          },
          "colorscale": {
           "diverging": [
            [
             0,
             "#8e0152"
            ],
            [
             0.1,
             "#c51b7d"
            ],
            [
             0.2,
             "#de77ae"
            ],
            [
             0.3,
             "#f1b6da"
            ],
            [
             0.4,
             "#fde0ef"
            ],
            [
             0.5,
             "#f7f7f7"
            ],
            [
             0.6,
             "#e6f5d0"
            ],
            [
             0.7,
             "#b8e186"
            ],
            [
             0.8,
             "#7fbc41"
            ],
            [
             0.9,
             "#4d9221"
            ],
            [
             1,
             "#276419"
            ]
           ],
           "sequential": [
            [
             0,
             "#0d0887"
            ],
            [
             0.1111111111111111,
             "#46039f"
            ],
            [
             0.2222222222222222,
             "#7201a8"
            ],
            [
             0.3333333333333333,
             "#9c179e"
            ],
            [
             0.4444444444444444,
             "#bd3786"
            ],
            [
             0.5555555555555556,
             "#d8576b"
            ],
            [
             0.6666666666666666,
             "#ed7953"
            ],
            [
             0.7777777777777778,
             "#fb9f3a"
            ],
            [
             0.8888888888888888,
             "#fdca26"
            ],
            [
             1,
             "#f0f921"
            ]
           ],
           "sequentialminus": [
            [
             0,
             "#0d0887"
            ],
            [
             0.1111111111111111,
             "#46039f"
            ],
            [
             0.2222222222222222,
             "#7201a8"
            ],
            [
             0.3333333333333333,
             "#9c179e"
            ],
            [
             0.4444444444444444,
             "#bd3786"
            ],
            [
             0.5555555555555556,
             "#d8576b"
            ],
            [
             0.6666666666666666,
             "#ed7953"
            ],
            [
             0.7777777777777778,
             "#fb9f3a"
            ],
            [
             0.8888888888888888,
             "#fdca26"
            ],
            [
             1,
             "#f0f921"
            ]
           ]
          },
          "colorway": [
           "#636efa",
           "#EF553B",
           "#00cc96",
           "#ab63fa",
           "#FFA15A",
           "#19d3f3",
           "#FF6692",
           "#B6E880",
           "#FF97FF",
           "#FECB52"
          ],
          "font": {
           "color": "#2a3f5f"
          },
          "geo": {
           "bgcolor": "white",
           "lakecolor": "white",
           "landcolor": "#E5ECF6",
           "showlakes": true,
           "showland": true,
           "subunitcolor": "white"
          },
          "hoverlabel": {
           "align": "left"
          },
          "hovermode": "closest",
          "mapbox": {
           "style": "light"
          },
          "paper_bgcolor": "white",
          "plot_bgcolor": "#E5ECF6",
          "polar": {
           "angularaxis": {
            "gridcolor": "white",
            "linecolor": "white",
            "ticks": ""
           },
           "bgcolor": "#E5ECF6",
           "radialaxis": {
            "gridcolor": "white",
            "linecolor": "white",
            "ticks": ""
           }
          },
          "scene": {
           "xaxis": {
            "backgroundcolor": "#E5ECF6",
            "gridcolor": "white",
            "gridwidth": 2,
            "linecolor": "white",
            "showbackground": true,
            "ticks": "",
            "zerolinecolor": "white"
           },
           "yaxis": {
            "backgroundcolor": "#E5ECF6",
            "gridcolor": "white",
            "gridwidth": 2,
            "linecolor": "white",
            "showbackground": true,
            "ticks": "",
            "zerolinecolor": "white"
           },
           "zaxis": {
            "backgroundcolor": "#E5ECF6",
            "gridcolor": "white",
            "gridwidth": 2,
            "linecolor": "white",
            "showbackground": true,
            "ticks": "",
            "zerolinecolor": "white"
           }
          },
          "shapedefaults": {
           "line": {
            "color": "#2a3f5f"
           }
          },
          "ternary": {
           "aaxis": {
            "gridcolor": "white",
            "linecolor": "white",
            "ticks": ""
           },
           "baxis": {
            "gridcolor": "white",
            "linecolor": "white",
            "ticks": ""
           },
           "bgcolor": "#E5ECF6",
           "caxis": {
            "gridcolor": "white",
            "linecolor": "white",
            "ticks": ""
           }
          },
          "title": {
           "x": 0.05
          },
          "xaxis": {
           "automargin": true,
           "gridcolor": "white",
           "linecolor": "white",
           "ticks": "",
           "title": {
            "standoff": 15
           },
           "zerolinecolor": "white",
           "zerolinewidth": 2
          },
          "yaxis": {
           "automargin": true,
           "gridcolor": "white",
           "linecolor": "white",
           "ticks": "",
           "title": {
            "standoff": 15
           },
           "zerolinecolor": "white",
           "zerolinewidth": 2
          }
         }
        },
        "title": {
         "text": "<b>Variables Clave por Pilar y Liderazgo Sectorial</b><br><sup>El color indica el Macrosector líder; el tamaño, la importancia de la variable</sup>",
         "x": 0.5
        },
        "xaxis": {
         "anchor": "y",
         "domain": [
          0,
          0.2333333333333333
         ],
         "title": {
          "text": "Valoración Ponderada Promedio"
         }
        },
        "xaxis2": {
         "anchor": "y2",
         "domain": [
          0.3833333333333333,
          0.6166666666666666
         ],
         "matches": "x",
         "title": {
          "text": "Valoración Ponderada Promedio"
         }
        },
        "xaxis3": {
         "anchor": "y3",
         "domain": [
          0.7666666666666666,
          0.9999999999999999
         ],
         "matches": "x",
         "title": {
          "text": "Valoración Ponderada Promedio"
         }
        },
        "xaxis4": {
         "anchor": "y4",
         "domain": [
          0,
          0.2333333333333333
         ],
         "matches": "x",
         "showticklabels": false
        },
        "xaxis5": {
         "anchor": "y5",
         "domain": [
          0.3833333333333333,
          0.6166666666666666
         ],
         "matches": "x",
         "showticklabels": false
        },
        "xaxis6": {
         "anchor": "y6",
         "domain": [
          0.7666666666666666,
          0.9999999999999999
         ],
         "matches": "x",
         "showticklabels": false
        },
        "yaxis": {
         "anchor": "x",
         "categoryorder": "total ascending",
         "domain": [
          0,
          0.46499999999999997
         ],
         "showticklabels": true,
         "title": {
          "text": ""
         }
        },
        "yaxis2": {
         "anchor": "x2",
         "categoryorder": "total ascending",
         "domain": [
          0,
          0.46499999999999997
         ],
         "showticklabels": true
        },
        "yaxis3": {
         "anchor": "x3",
         "categoryorder": "total ascending",
         "domain": [
          0,
          0.46499999999999997
         ],
         "showticklabels": true
        },
        "yaxis4": {
         "anchor": "x4",
         "categoryorder": "total ascending",
         "domain": [
          0.5349999999999999,
          0.9999999999999999
         ],
         "showticklabels": true,
         "title": {
          "text": ""
         }
        },
        "yaxis5": {
         "anchor": "x5",
         "categoryorder": "total ascending",
         "domain": [
          0.5349999999999999,
          0.9999999999999999
         ],
         "showticklabels": true
        },
        "yaxis6": {
         "anchor": "x6",
         "categoryorder": "total ascending",
         "domain": [
          0.5349999999999999,
          0.9999999999999999
         ],
         "showticklabels": true
        }
       }
      }
     },
     "metadata": {},
     "output_type": "display_data"
    }
   ],
   "source": [
    "# 1. Preparación de Datos\n",
    "# Calcular el puntaje promedio de cada variable por sector y pilar.\n",
    "df_agg = raw_data.groupby(['Nombre Pilar', 'Variable', 'Macrosector'])['valoracionPonderada'].mean().reset_index()\n",
    "\n",
    "# Para cada variable en cada pilar, encontrar el sector líder (con el puntaje más alto).\n",
    "idx = df_agg.groupby(['Nombre Pilar', 'Variable'])['valoracionPonderada'].idxmax()\n",
    "df_leaders = df_agg.loc[idx][['Nombre Pilar', 'Variable', 'Macrosector']]\n",
    "df_leaders.rename(columns={'Macrosector': 'Sector_Lider'}, inplace=True)\n",
    "\n",
    "# Calcular el puntaje promedio general de cada variable por pilar para la posición y tamaño del punto.\n",
    "df_plot_data = df_agg.groupby(['Nombre Pilar', 'Variable'])['valoracionPonderada'].mean().reset_index()\n",
    "\n",
    "# Unir la información del sector líder con los datos del gráfico.\n",
    "df_plot_data = pd.merge(df_plot_data, df_leaders, on=['Nombre Pilar', 'Variable'])\n",
    "# Reemplazar los nombres de las variables largas para mejorar la legibilidad en el gráfico.\n",
    "df_plot_data['Variable'] = df_plot_data['Variable'].apply(lambda x: wrap_text(x, max_length=30))\n",
    "\n",
    "# 2. Creación del Gráfico de Dispersión Anidado\n",
    "# Se usa facet_col para crear un subgráfico por cada 'Nombre Pilar'.\n",
    "fig_nested_scatter = px.scatter(\n",
    "    df_plot_data,\n",
    "    x='valoracionPonderada',\n",
    "    y='Variable',\n",
    "    size='valoracionPonderada', # El tamaño del punto también indica importancia.\n",
    "    color='Sector_Lider',      # El color del punto indica el sector líder.\n",
    "    hover_name='Sector_Lider',\n",
    "    facet_col='Nombre Pilar',\n",
    "    facet_col_wrap=3,          # Organiza los subgráficos en 2 columnas.\n",
    "    labels={'valoracionPonderada': 'Valoración Ponderada Promedio', 'Variable': ''},\n",
    "        facet_col_spacing=0.15\n",
    ")\n",
    "\n",
    "# 3. Personalización y Estilo del Gráfico\n",
    "fig_nested_scatter.update_layout(\n",
    "    title_text='<b>Variables Clave por Pilar y Liderazgo Sectorial</b><br><sup>El color indica el Macrosector líder; el tamaño, la importancia de la variable</sup>',\n",
    "    title_x=0.5,\n",
    "    font=dict(family=\"Arial, sans-serif\", size=10, color=\"black\"),\n",
    "    height=max(800, len(df_plot_data['Nombre Pilar'].unique()) * 200), # Altura dinámica\n",
    "\n",
    ")\n",
    "\n",
    "# Hacer que cada subgráfico tenga su propio eje Y independiente y ordenar las variables.\n",
    "fig_nested_scatter.update_yaxes(matches=None, showticklabels=True)\n",
    "fig_nested_scatter.update_yaxes(categoryorder=\"total ascending\")\n",
    "# Actualizar los títulos de cada subgráfico para que no muestren \"Nombre Pilar=\".\n",
    "fig_nested_scatter.for_each_annotation(lambda a: a.update(text=a.text.split(\"=\")[-1]))\n",
    "\n",
    "fig_nested_scatter.show()"
   ]
  }
 ],
 "metadata": {
  "colab": {
   "authorship_tag": "ABX9TyPpGWVHkKnlnCs6bt9fzXz7",
   "mount_file_id": "1YK4iqHtcyn7HTLe1B1tbVbNp5SA1IFEU",
   "provenance": []
  },
  "kernelspec": {
   "display_name": "datascience",
   "language": "python",
   "name": "python3"
  },
  "language_info": {
   "codemirror_mode": {
    "name": "ipython",
    "version": 3
   },
   "file_extension": ".py",
   "mimetype": "text/x-python",
   "name": "python",
   "nbconvert_exporter": "python",
   "pygments_lexer": "ipython3",
   "version": "3.12.9"
  }
 },
 "nbformat": 4,
 "nbformat_minor": 0
}
