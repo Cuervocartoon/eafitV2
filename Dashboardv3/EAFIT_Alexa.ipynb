{
 "cells": [
  {
   "cell_type": "markdown",
   "metadata": {},
   "source": [
    "# Imports libraries"
   ]
  },
  {
   "cell_type": "code",
   "execution_count": 15,
   "metadata": {
    "executionInfo": {
     "elapsed": 72,
     "status": "ok",
     "timestamp": 1754157016791,
     "user": {
      "displayName": "Juan Camilo Ortiz",
      "userId": "14839115185471025896"
     },
     "user_tz": 300
    },
    "id": "PyJ0rSz5FiCm"
   },
   "outputs": [],
   "source": [
    "import pandas as pd\n",
    "import numpy as np\n",
    "from scipy.stats import gaussian_kde\n",
    "import statsmodels.api as sm\n",
    "import json\n",
    "import matplotlib.pyplot as plt\n",
    "import plotly.graph_objects as go\n",
    "import plotly.express as px\n",
    "import plotly.io as pio\n",
    "import os\n",
    "from datetime import datetime"
   ]
  },
  {
   "cell_type": "markdown",
   "metadata": {},
   "source": [
    "# Info base"
   ]
  },
  {
   "cell_type": "code",
   "execution_count": 16,
   "metadata": {
    "colab": {
     "base_uri": "https://localhost:8080/",
     "height": 643
    },
    "executionInfo": {
     "elapsed": 186,
     "status": "ok",
     "timestamp": 1754157029068,
     "user": {
      "displayName": "Juan Camilo Ortiz",
      "userId": "14839115185471025896"
     },
     "user_tz": 300
    },
    "id": "SDUXuswFGcMy",
    "outputId": "7a1acbcf-fe28-4bee-f46d-085e3fa1139b"
   },
   "outputs": [
    {
     "data": {
      "application/vnd.microsoft.datawrangler.viewer.v0+json": {
       "columns": [
        {
         "name": "index",
         "rawType": "int64",
         "type": "integer"
        },
        {
         "name": "Razón social",
         "rawType": "object",
         "type": "string"
        },
        {
         "name": "Macrosector",
         "rawType": "object",
         "type": "string"
        },
        {
         "name": "Tipo de propiedad (Privada, Pública, Mixta)",
         "rawType": "object",
         "type": "string"
        },
        {
         "name": "¿Es empresa familiar? Si/No",
         "rawType": "object",
         "type": "string"
        },
        {
         "name": "¿Cotiza en bolsa? Si/No",
         "rawType": "object",
         "type": "string"
        },
        {
         "name": "¿Multinacional? Si/No",
         "rawType": "object",
         "type": "string"
        },
        {
         "name": "Año de fundación",
         "rawType": "int64",
         "type": "integer"
        },
        {
         "name": "País de base principal (nacionalidad)",
         "rawType": "object",
         "type": "string"
        },
        {
         "name": "Ingresos operacionales",
         "rawType": "object",
         "type": "string"
        },
        {
         "name": "Variable",
         "rawType": "object",
         "type": "string"
        },
        {
         "name": "Valor",
         "rawType": "object",
         "type": "string"
        },
        {
         "name": "Bloque",
         "rawType": "object",
         "type": "string"
        },
        {
         "name": "Nombre Pilar",
         "rawType": "object",
         "type": "string"
        },
        {
         "name": "Ponderación Materialidad",
         "rawType": "object",
         "type": "string"
        },
        {
         "name": "Valoración",
         "rawType": "float64",
         "type": "float"
        },
        {
         "name": "valoracionPonderada",
         "rawType": "float64",
         "type": "float"
        }
       ],
       "ref": "1c43150e-50cd-4dbf-978d-0516fe65d72c",
       "rows": [
        [
         "0",
         "Aliar",
         "Agropecuario",
         "Privada",
         "No",
         "No",
         "No",
         "2007",
         "Colombia",
         "0.97802211500000003",
         "¿Cuál es el porcentaje de proveeduría local?",
         "No informa",
         "Impacto económico y gobernanza",
         "Impacto Económico, Social y Comunitario",
         "14.0%",
         "0.0",
         "0.0"
        ],
        [
         "1",
         "Alimentos Carnicos (Grupo Nutresa)",
         "Manufactura",
         "Privada",
         "No",
         "Si",
         "Si",
         "1920",
         "Colombia",
         "2.844632077",
         "¿Cuál es el porcentaje de proveeduría local?",
         "0.80000000000000004",
         "Impacto económico y gobernanza",
         "Impacto Económico, Social y Comunitario",
         "11.0%",
         "79.05905347",
         "8.322005628"
        ],
        [
         "2",
         "Alpina",
         "Manufactura",
         "Privada",
         "No",
         "No",
         "Si",
         "1945",
         "Colombia",
         "2.1764613960000001",
         "¿Cuál es el porcentaje de proveeduría local?",
         "0.91000000000000003",
         "Impacto económico y gobernanza",
         "Impacto Económico, Social y Comunitario",
         "11.0%",
         "94.41574759",
         "9.93849975"
        ],
        [
         "3",
         "Amarilo",
         "Construcción",
         "Privada",
         "Si",
         "No",
         "No",
         "1993",
         "Colombia",
         "2.1863011939999999",
         "¿Cuál es el porcentaje de proveeduría local?",
         "0.53000000000000003",
         "Impacto económico y gobernanza",
         "Impacto Económico, Social y Comunitario",
         "14.0%",
         "0.0",
         "0.0"
        ],
        [
         "4",
         "ARA",
         "Comercio",
         "Privada",
         "No",
         "No",
         "Si",
         "2012",
         "Colombia",
         "13.83118268",
         "¿Cuál es el porcentaje de proveeduría local?",
         "No informa ",
         "Impacto económico y gobernanza",
         "Impacto Económico, Social y Comunitario",
         "12.0%",
         "0.0",
         "0.0"
        ]
       ],
       "shape": {
        "columns": 16,
        "rows": 5
       }
      },
      "text/html": [
       "<div>\n",
       "<style scoped>\n",
       "    .dataframe tbody tr th:only-of-type {\n",
       "        vertical-align: middle;\n",
       "    }\n",
       "\n",
       "    .dataframe tbody tr th {\n",
       "        vertical-align: top;\n",
       "    }\n",
       "\n",
       "    .dataframe thead th {\n",
       "        text-align: right;\n",
       "    }\n",
       "</style>\n",
       "<table border=\"1\" class=\"dataframe\">\n",
       "  <thead>\n",
       "    <tr style=\"text-align: right;\">\n",
       "      <th></th>\n",
       "      <th>Razón social</th>\n",
       "      <th>Macrosector</th>\n",
       "      <th>Tipo de propiedad (Privada, Pública, Mixta)</th>\n",
       "      <th>¿Es empresa familiar? Si/No</th>\n",
       "      <th>¿Cotiza en bolsa? Si/No</th>\n",
       "      <th>¿Multinacional? Si/No</th>\n",
       "      <th>Año de fundación</th>\n",
       "      <th>País de base principal (nacionalidad)</th>\n",
       "      <th>Ingresos operacionales</th>\n",
       "      <th>Variable</th>\n",
       "      <th>Valor</th>\n",
       "      <th>Bloque</th>\n",
       "      <th>Nombre Pilar</th>\n",
       "      <th>Ponderación Materialidad</th>\n",
       "      <th>Valoración</th>\n",
       "      <th>valoracionPonderada</th>\n",
       "    </tr>\n",
       "  </thead>\n",
       "  <tbody>\n",
       "    <tr>\n",
       "      <th>0</th>\n",
       "      <td>Aliar</td>\n",
       "      <td>Agropecuario</td>\n",
       "      <td>Privada</td>\n",
       "      <td>No</td>\n",
       "      <td>No</td>\n",
       "      <td>No</td>\n",
       "      <td>2007</td>\n",
       "      <td>Colombia</td>\n",
       "      <td>0.97802211500000003</td>\n",
       "      <td>¿Cuál es el porcentaje de proveeduría local?</td>\n",
       "      <td>No informa</td>\n",
       "      <td>Impacto económico y gobernanza</td>\n",
       "      <td>Impacto Económico, Social y Comunitario</td>\n",
       "      <td>14.0%</td>\n",
       "      <td>0.000000</td>\n",
       "      <td>0.000000</td>\n",
       "    </tr>\n",
       "    <tr>\n",
       "      <th>1</th>\n",
       "      <td>Alimentos Carnicos (Grupo Nutresa)</td>\n",
       "      <td>Manufactura</td>\n",
       "      <td>Privada</td>\n",
       "      <td>No</td>\n",
       "      <td>Si</td>\n",
       "      <td>Si</td>\n",
       "      <td>1920</td>\n",
       "      <td>Colombia</td>\n",
       "      <td>2.844632077</td>\n",
       "      <td>¿Cuál es el porcentaje de proveeduría local?</td>\n",
       "      <td>0.80000000000000004</td>\n",
       "      <td>Impacto económico y gobernanza</td>\n",
       "      <td>Impacto Económico, Social y Comunitario</td>\n",
       "      <td>11.0%</td>\n",
       "      <td>79.059053</td>\n",
       "      <td>8.322006</td>\n",
       "    </tr>\n",
       "    <tr>\n",
       "      <th>2</th>\n",
       "      <td>Alpina</td>\n",
       "      <td>Manufactura</td>\n",
       "      <td>Privada</td>\n",
       "      <td>No</td>\n",
       "      <td>No</td>\n",
       "      <td>Si</td>\n",
       "      <td>1945</td>\n",
       "      <td>Colombia</td>\n",
       "      <td>2.1764613960000001</td>\n",
       "      <td>¿Cuál es el porcentaje de proveeduría local?</td>\n",
       "      <td>0.91000000000000003</td>\n",
       "      <td>Impacto económico y gobernanza</td>\n",
       "      <td>Impacto Económico, Social y Comunitario</td>\n",
       "      <td>11.0%</td>\n",
       "      <td>94.415748</td>\n",
       "      <td>9.938500</td>\n",
       "    </tr>\n",
       "    <tr>\n",
       "      <th>3</th>\n",
       "      <td>Amarilo</td>\n",
       "      <td>Construcción</td>\n",
       "      <td>Privada</td>\n",
       "      <td>Si</td>\n",
       "      <td>No</td>\n",
       "      <td>No</td>\n",
       "      <td>1993</td>\n",
       "      <td>Colombia</td>\n",
       "      <td>2.1863011939999999</td>\n",
       "      <td>¿Cuál es el porcentaje de proveeduría local?</td>\n",
       "      <td>0.53000000000000003</td>\n",
       "      <td>Impacto económico y gobernanza</td>\n",
       "      <td>Impacto Económico, Social y Comunitario</td>\n",
       "      <td>14.0%</td>\n",
       "      <td>0.000000</td>\n",
       "      <td>0.000000</td>\n",
       "    </tr>\n",
       "    <tr>\n",
       "      <th>4</th>\n",
       "      <td>ARA</td>\n",
       "      <td>Comercio</td>\n",
       "      <td>Privada</td>\n",
       "      <td>No</td>\n",
       "      <td>No</td>\n",
       "      <td>Si</td>\n",
       "      <td>2012</td>\n",
       "      <td>Colombia</td>\n",
       "      <td>13.83118268</td>\n",
       "      <td>¿Cuál es el porcentaje de proveeduría local?</td>\n",
       "      <td>No informa</td>\n",
       "      <td>Impacto económico y gobernanza</td>\n",
       "      <td>Impacto Económico, Social y Comunitario</td>\n",
       "      <td>12.0%</td>\n",
       "      <td>0.000000</td>\n",
       "      <td>0.000000</td>\n",
       "    </tr>\n",
       "  </tbody>\n",
       "</table>\n",
       "</div>"
      ],
      "text/plain": [
       "                         Razón social   Macrosector  \\\n",
       "0                               Aliar  Agropecuario   \n",
       "1  Alimentos Carnicos (Grupo Nutresa)   Manufactura   \n",
       "2                              Alpina   Manufactura   \n",
       "3                             Amarilo  Construcción   \n",
       "4                                 ARA      Comercio   \n",
       "\n",
       "  Tipo de propiedad (Privada, Pública, Mixta) ¿Es empresa familiar? Si/No  \\\n",
       "0                                     Privada                          No   \n",
       "1                                     Privada                          No   \n",
       "2                                     Privada                          No   \n",
       "3                                     Privada                          Si   \n",
       "4                                     Privada                          No   \n",
       "\n",
       "  ¿Cotiza en bolsa? Si/No ¿Multinacional? Si/No  Año de fundación  \\\n",
       "0                      No                    No              2007   \n",
       "1                      Si                    Si              1920   \n",
       "2                      No                    Si              1945   \n",
       "3                      No                    No              1993   \n",
       "4                      No                    Si              2012   \n",
       "\n",
       "  País de base principal (nacionalidad) Ingresos operacionales  \\\n",
       "0                              Colombia    0.97802211500000003   \n",
       "1                              Colombia            2.844632077   \n",
       "2                              Colombia     2.1764613960000001   \n",
       "3                              Colombia     2.1863011939999999   \n",
       "4                              Colombia            13.83118268   \n",
       "\n",
       "                                       Variable                Valor  \\\n",
       "0  ¿Cuál es el porcentaje de proveeduría local?           No informa   \n",
       "1  ¿Cuál es el porcentaje de proveeduría local?  0.80000000000000004   \n",
       "2  ¿Cuál es el porcentaje de proveeduría local?  0.91000000000000003   \n",
       "3  ¿Cuál es el porcentaje de proveeduría local?  0.53000000000000003   \n",
       "4  ¿Cuál es el porcentaje de proveeduría local?          No informa    \n",
       "\n",
       "                           Bloque                             Nombre Pilar  \\\n",
       "0  Impacto económico y gobernanza  Impacto Económico, Social y Comunitario   \n",
       "1  Impacto económico y gobernanza  Impacto Económico, Social y Comunitario   \n",
       "2  Impacto económico y gobernanza  Impacto Económico, Social y Comunitario   \n",
       "3  Impacto económico y gobernanza  Impacto Económico, Social y Comunitario   \n",
       "4  Impacto económico y gobernanza  Impacto Económico, Social y Comunitario   \n",
       "\n",
       "  Ponderación Materialidad  Valoración  valoracionPonderada  \n",
       "0                    14.0%    0.000000             0.000000  \n",
       "1                    11.0%   79.059053             8.322006  \n",
       "2                    11.0%   94.415748             9.938500  \n",
       "3                    14.0%    0.000000             0.000000  \n",
       "4                    12.0%    0.000000             0.000000  "
      ]
     },
     "execution_count": 16,
     "metadata": {},
     "output_type": "execute_result"
    }
   ],
   "source": [
    "raw_data = pd.read_csv('empresasEafit.csv')\n",
    "raw_data.rename(columns=lambda x: x.strip(), inplace=True)\n",
    "raw_data = raw_data[~raw_data['Macrosector'].isin(['0', 'No', 'No informa', 'SI', 'Si'])]\n",
    "raw_data.head()"
   ]
  },
  {
   "cell_type": "code",
   "execution_count": 17,
   "metadata": {},
   "outputs": [],
   "source": [
    "def save_chart_as_html(fig, filename):\n",
    "    # \"\"\"\n",
    "    # Guarda una figura de Plotly como un archivo HTML autocontenido en la carpeta 'charts'.\n",
    "    # \"\"\"\n",
    "    # # Generar el HTML del gráfico\n",
    "    # html1 = pio.to_html(fig, full_html=False, include_plotlyjs='cdn')\n",
    "    \n",
    "    # # Guardar el archivo\n",
    "    # filepath = os.path.join('charts', filename)\n",
    "    # with open(filepath, 'w', encoding='utf-8') as f:\n",
    "    #     f.write(html1)\n",
    "        # Generar el HTML del gráfico\n",
    "    html_div = pio.to_html(fig, full_html=False, include_plotlyjs=False)\n",
    "    \n",
    "    # Crear el contenido del archivo HTML completo\n",
    "    full_html = f\"\"\"\n",
    "    <html>\n",
    "    <head>\n",
    "        <meta charset=\"UTF-8\">\n",
    "        <script src=\"https://cdn.plot.ly/plotly-3.0.1.min.js\"></script>\n",
    "        <style>\n",
    "            body {{ margin: 0; padding: 0; }}\n",
    "            .js-plotly-plot .plotly .modebar {{ right: 5px !important; top: 5px !important; }}\n",
    "        </style>\n",
    "    </head>\n",
    "    <body>\n",
    "        {html_div}\n",
    "    </body>\n",
    "    </html>\n",
    "    \"\"\"\n",
    "    filepath = os.path.join('charts', filename)\n",
    "    with open(filepath, 'w', encoding='utf-8') as f:\n",
    "        f.write(full_html)\n",
    "\n",
    "# Function to wrap long text labels\n",
    "def wrap_text(text, max_length=25):\n",
    "    \"\"\"\n",
    "    Wrap text to multiple lines if it exceeds max_length characters.\n",
    "    \"\"\"\n",
    "    if len(text) <= max_length:\n",
    "        return text\n",
    "    \n",
    "    words = text.split()\n",
    "    lines = []\n",
    "    current_line = []\n",
    "    current_length = 0\n",
    "    \n",
    "    for word in words:\n",
    "        # Check if adding this word would exceed the limit\n",
    "        if current_length + len(word) + len(current_line) > max_length and current_line:\n",
    "            lines.append(' '.join(current_line))\n",
    "            current_line = [word]\n",
    "            current_length = len(word)\n",
    "        else:\n",
    "            current_line.append(word)\n",
    "            current_length += len(word)\n",
    "    \n",
    "    if current_line:\n",
    "        lines.append(' '.join(current_line))\n",
    "    \n",
    "    return '<br>'.join(lines)\n"
   ]
  },
  {
   "cell_type": "markdown",
   "metadata": {},
   "source": [
    "# **Parte 1: Panorama General del Desempeño Corporativo**"
   ]
  },
  {
   "cell_type": "markdown",
   "metadata": {
    "id": "V9IepepMgDJs"
   },
   "source": [
    "## 1. Radar de Competitividad por Pilar y Macrosector"
   ]
  },
  {
   "cell_type": "code",
   "execution_count": 40,
   "metadata": {
    "colab": {
     "base_uri": "https://localhost:8080/",
     "height": 255
    },
    "executionInfo": {
     "elapsed": 123,
     "status": "ok",
     "timestamp": 1754157080775,
     "user": {
      "displayName": "Juan Camilo Ortiz",
      "userId": "14839115185471025896"
     },
     "user_tz": 300
    },
    "id": "ZcPHf1PXf-bM",
    "outputId": "3677d9c4-6ef1-42a5-c078-6dfe19bcc0f4"
   },
   "outputs": [
    {
     "data": {
      "application/vnd.plotly.v1+json": {
       "config": {
        "plotlyServerURL": "https://plot.ly"
       },
       "data": [
        {
         "fill": "toself",
         "fillcolor": "rgb(228,26,28)",
         "line": {
          "color": "rgb(228,26,28)"
         },
         "name": "Agropecuario",
         "opacity": 0.6,
         "r": {
          "bdata": "rkY+2eeQREAYb2WfQ2o6QAAAAAAAAAAAuZA3gvFWQ0AeUuQSm0ImQAAAAAAAAFlA",
          "dtype": "f8"
         },
         "theta": [
          "Acción Climática y<br>Energía",
          "Capital Humano: Bienestar<br>y Desarrollo",
          "Diversidad, Equidad e<br>Inclusión (DEI)",
          "Gestión de Recursos<br>Naturales y Circularidad",
          "Impacto Económico, Social<br>y Comunitario",
          "Transparencia y Gobierno<br>de la Sostenibilidad"
         ],
         "type": "scatterpolar"
        },
        {
         "fill": "toself",
         "fillcolor": "rgb(55,126,184)",
         "line": {
          "color": "rgb(55,126,184)"
         },
         "name": "Comercio",
         "opacity": 0.6,
         "r": {
          "bdata": "XF4+GA3XS0Au/aH3Kgk1QBuO2DFh4ERAAAAAAAAAAAAyFjdu6FUWQAAAAAAAAFlA",
          "dtype": "f8"
         },
         "theta": [
          "Acción Climática y<br>Energía",
          "Capital Humano: Bienestar<br>y Desarrollo",
          "Diversidad, Equidad e<br>Inclusión (DEI)",
          "Gestión de Recursos<br>Naturales y Circularidad",
          "Impacto Económico, Social<br>y Comunitario",
          "Transparencia y Gobierno<br>de la Sostenibilidad"
         ],
         "type": "scatterpolar"
        },
        {
         "fill": "toself",
         "fillcolor": "rgb(77,175,74)",
         "line": {
          "color": "rgb(77,175,74)"
         },
         "name": "Construcción",
         "opacity": 0.6,
         "r": {
          "bdata": "+mFlCIigOUAftvRonE9BQPyZhXmB9hZAzrO6Or/8QEAAAAAAAAAAAAAAAAAAAFlA",
          "dtype": "f8"
         },
         "theta": [
          "Acción Climática y<br>Energía",
          "Capital Humano: Bienestar<br>y Desarrollo",
          "Diversidad, Equidad e<br>Inclusión (DEI)",
          "Gestión de Recursos<br>Naturales y Circularidad",
          "Impacto Económico, Social<br>y Comunitario",
          "Transparencia y Gobierno<br>de la Sostenibilidad"
         ],
         "type": "scatterpolar"
        },
        {
         "fill": "toself",
         "fillcolor": "rgb(152,78,163)",
         "line": {
          "color": "rgb(152,78,163)"
         },
         "name": "Manufactura",
         "opacity": 0.6,
         "r": {
          "bdata": "AAAAAAAAWUDmWJKUMwtIQMsfl7UmiCtATBqH5pyIUEAAAAAAAAAAALsZ7uwHulRA",
          "dtype": "f8"
         },
         "theta": [
          "Acción Climática y<br>Energía",
          "Capital Humano: Bienestar<br>y Desarrollo",
          "Diversidad, Equidad e<br>Inclusión (DEI)",
          "Gestión de Recursos<br>Naturales y Circularidad",
          "Impacto Económico, Social<br>y Comunitario",
          "Transparencia y Gobierno<br>de la Sostenibilidad"
         ],
         "type": "scatterpolar"
        },
        {
         "fill": "toself",
         "fillcolor": "rgb(255,127,0)",
         "line": {
          "color": "rgb(255,127,0)"
         },
         "name": "Minero",
         "opacity": 0.6,
         "r": {
          "bdata": "lD1KyahdUkAcMRRXKbxAQAAAAAAAAAAAAAAAAAAAWUBwCH/lEuU0QC1fULz1FlBA",
          "dtype": "f8"
         },
         "theta": [
          "Acción Climática y<br>Energía",
          "Capital Humano: Bienestar<br>y Desarrollo",
          "Diversidad, Equidad e<br>Inclusión (DEI)",
          "Gestión de Recursos<br>Naturales y Circularidad",
          "Impacto Económico, Social<br>y Comunitario",
          "Transparencia y Gobierno<br>de la Sostenibilidad"
         ],
         "type": "scatterpolar"
        },
        {
         "fill": "toself",
         "fillcolor": "rgb(255,255,51)",
         "line": {
          "color": "rgb(255,255,51)"
         },
         "name": "Servicios",
         "opacity": 0.6,
         "r": {
          "bdata": "ubWrb8UdO0BL2x5Oy80RQN+iXWHD9z9AAAAAAAAAAAD6IiKyTSYTQAAAAAAAAFlA",
          "dtype": "f8"
         },
         "theta": [
          "Acción Climática y<br>Energía",
          "Capital Humano: Bienestar<br>y Desarrollo",
          "Diversidad, Equidad e<br>Inclusión (DEI)",
          "Gestión de Recursos<br>Naturales y Circularidad",
          "Impacto Económico, Social<br>y Comunitario",
          "Transparencia y Gobierno<br>de la Sostenibilidad"
         ],
         "type": "scatterpolar"
        }
       ],
       "layout": {
        "polar": {
         "angularaxis": {
          "rotation": 0,
          "tickfont": {
           "size": 10
          },
          "tickmode": "array",
          "ticktext": [
           "Acción Climática y<br>Energía",
           "Capital Humano: Bienestar<br>y Desarrollo",
           "Diversidad, Equidad e<br>Inclusión (DEI)",
           "Gestión de Recursos<br>Naturales y Circularidad",
           "Impacto Económico, Social<br>y Comunitario",
           "Transparencia y Gobierno<br>de la Sostenibilidad"
          ],
          "tickvals": [
           0,
           1,
           2,
           3,
           4,
           5
          ]
         },
         "radialaxis": {
          "dtick": 20,
          "range": [
           0,
           110.00000000000001
          ],
          "tick0": 0,
          "tickmode": "linear",
          "visible": true
         }
        },
        "showlegend": true,
        "template": {
         "data": {
          "bar": [
           {
            "error_x": {
             "color": "#2a3f5f"
            },
            "error_y": {
             "color": "#2a3f5f"
            },
            "marker": {
             "line": {
              "color": "#E5ECF6",
              "width": 0.5
             },
             "pattern": {
              "fillmode": "overlay",
              "size": 10,
              "solidity": 0.2
             }
            },
            "type": "bar"
           }
          ],
          "barpolar": [
           {
            "marker": {
             "line": {
              "color": "#E5ECF6",
              "width": 0.5
             },
             "pattern": {
              "fillmode": "overlay",
              "size": 10,
              "solidity": 0.2
             }
            },
            "type": "barpolar"
           }
          ],
          "carpet": [
           {
            "aaxis": {
             "endlinecolor": "#2a3f5f",
             "gridcolor": "white",
             "linecolor": "white",
             "minorgridcolor": "white",
             "startlinecolor": "#2a3f5f"
            },
            "baxis": {
             "endlinecolor": "#2a3f5f",
             "gridcolor": "white",
             "linecolor": "white",
             "minorgridcolor": "white",
             "startlinecolor": "#2a3f5f"
            },
            "type": "carpet"
           }
          ],
          "choropleth": [
           {
            "colorbar": {
             "outlinewidth": 0,
             "ticks": ""
            },
            "type": "choropleth"
           }
          ],
          "contour": [
           {
            "colorbar": {
             "outlinewidth": 0,
             "ticks": ""
            },
            "colorscale": [
             [
              0,
              "#0d0887"
             ],
             [
              0.1111111111111111,
              "#46039f"
             ],
             [
              0.2222222222222222,
              "#7201a8"
             ],
             [
              0.3333333333333333,
              "#9c179e"
             ],
             [
              0.4444444444444444,
              "#bd3786"
             ],
             [
              0.5555555555555556,
              "#d8576b"
             ],
             [
              0.6666666666666666,
              "#ed7953"
             ],
             [
              0.7777777777777778,
              "#fb9f3a"
             ],
             [
              0.8888888888888888,
              "#fdca26"
             ],
             [
              1,
              "#f0f921"
             ]
            ],
            "type": "contour"
           }
          ],
          "contourcarpet": [
           {
            "colorbar": {
             "outlinewidth": 0,
             "ticks": ""
            },
            "type": "contourcarpet"
           }
          ],
          "heatmap": [
           {
            "colorbar": {
             "outlinewidth": 0,
             "ticks": ""
            },
            "colorscale": [
             [
              0,
              "#0d0887"
             ],
             [
              0.1111111111111111,
              "#46039f"
             ],
             [
              0.2222222222222222,
              "#7201a8"
             ],
             [
              0.3333333333333333,
              "#9c179e"
             ],
             [
              0.4444444444444444,
              "#bd3786"
             ],
             [
              0.5555555555555556,
              "#d8576b"
             ],
             [
              0.6666666666666666,
              "#ed7953"
             ],
             [
              0.7777777777777778,
              "#fb9f3a"
             ],
             [
              0.8888888888888888,
              "#fdca26"
             ],
             [
              1,
              "#f0f921"
             ]
            ],
            "type": "heatmap"
           }
          ],
          "histogram": [
           {
            "marker": {
             "pattern": {
              "fillmode": "overlay",
              "size": 10,
              "solidity": 0.2
             }
            },
            "type": "histogram"
           }
          ],
          "histogram2d": [
           {
            "colorbar": {
             "outlinewidth": 0,
             "ticks": ""
            },
            "colorscale": [
             [
              0,
              "#0d0887"
             ],
             [
              0.1111111111111111,
              "#46039f"
             ],
             [
              0.2222222222222222,
              "#7201a8"
             ],
             [
              0.3333333333333333,
              "#9c179e"
             ],
             [
              0.4444444444444444,
              "#bd3786"
             ],
             [
              0.5555555555555556,
              "#d8576b"
             ],
             [
              0.6666666666666666,
              "#ed7953"
             ],
             [
              0.7777777777777778,
              "#fb9f3a"
             ],
             [
              0.8888888888888888,
              "#fdca26"
             ],
             [
              1,
              "#f0f921"
             ]
            ],
            "type": "histogram2d"
           }
          ],
          "histogram2dcontour": [
           {
            "colorbar": {
             "outlinewidth": 0,
             "ticks": ""
            },
            "colorscale": [
             [
              0,
              "#0d0887"
             ],
             [
              0.1111111111111111,
              "#46039f"
             ],
             [
              0.2222222222222222,
              "#7201a8"
             ],
             [
              0.3333333333333333,
              "#9c179e"
             ],
             [
              0.4444444444444444,
              "#bd3786"
             ],
             [
              0.5555555555555556,
              "#d8576b"
             ],
             [
              0.6666666666666666,
              "#ed7953"
             ],
             [
              0.7777777777777778,
              "#fb9f3a"
             ],
             [
              0.8888888888888888,
              "#fdca26"
             ],
             [
              1,
              "#f0f921"
             ]
            ],
            "type": "histogram2dcontour"
           }
          ],
          "mesh3d": [
           {
            "colorbar": {
             "outlinewidth": 0,
             "ticks": ""
            },
            "type": "mesh3d"
           }
          ],
          "parcoords": [
           {
            "line": {
             "colorbar": {
              "outlinewidth": 0,
              "ticks": ""
             }
            },
            "type": "parcoords"
           }
          ],
          "pie": [
           {
            "automargin": true,
            "type": "pie"
           }
          ],
          "scatter": [
           {
            "fillpattern": {
             "fillmode": "overlay",
             "size": 10,
             "solidity": 0.2
            },
            "type": "scatter"
           }
          ],
          "scatter3d": [
           {
            "line": {
             "colorbar": {
              "outlinewidth": 0,
              "ticks": ""
             }
            },
            "marker": {
             "colorbar": {
              "outlinewidth": 0,
              "ticks": ""
             }
            },
            "type": "scatter3d"
           }
          ],
          "scattercarpet": [
           {
            "marker": {
             "colorbar": {
              "outlinewidth": 0,
              "ticks": ""
             }
            },
            "type": "scattercarpet"
           }
          ],
          "scattergeo": [
           {
            "marker": {
             "colorbar": {
              "outlinewidth": 0,
              "ticks": ""
             }
            },
            "type": "scattergeo"
           }
          ],
          "scattergl": [
           {
            "marker": {
             "colorbar": {
              "outlinewidth": 0,
              "ticks": ""
             }
            },
            "type": "scattergl"
           }
          ],
          "scattermap": [
           {
            "marker": {
             "colorbar": {
              "outlinewidth": 0,
              "ticks": ""
             }
            },
            "type": "scattermap"
           }
          ],
          "scattermapbox": [
           {
            "marker": {
             "colorbar": {
              "outlinewidth": 0,
              "ticks": ""
             }
            },
            "type": "scattermapbox"
           }
          ],
          "scatterpolar": [
           {
            "marker": {
             "colorbar": {
              "outlinewidth": 0,
              "ticks": ""
             }
            },
            "type": "scatterpolar"
           }
          ],
          "scatterpolargl": [
           {
            "marker": {
             "colorbar": {
              "outlinewidth": 0,
              "ticks": ""
             }
            },
            "type": "scatterpolargl"
           }
          ],
          "scatterternary": [
           {
            "marker": {
             "colorbar": {
              "outlinewidth": 0,
              "ticks": ""
             }
            },
            "type": "scatterternary"
           }
          ],
          "surface": [
           {
            "colorbar": {
             "outlinewidth": 0,
             "ticks": ""
            },
            "colorscale": [
             [
              0,
              "#0d0887"
             ],
             [
              0.1111111111111111,
              "#46039f"
             ],
             [
              0.2222222222222222,
              "#7201a8"
             ],
             [
              0.3333333333333333,
              "#9c179e"
             ],
             [
              0.4444444444444444,
              "#bd3786"
             ],
             [
              0.5555555555555556,
              "#d8576b"
             ],
             [
              0.6666666666666666,
              "#ed7953"
             ],
             [
              0.7777777777777778,
              "#fb9f3a"
             ],
             [
              0.8888888888888888,
              "#fdca26"
             ],
             [
              1,
              "#f0f921"
             ]
            ],
            "type": "surface"
           }
          ],
          "table": [
           {
            "cells": {
             "fill": {
              "color": "#EBF0F8"
             },
             "line": {
              "color": "white"
             }
            },
            "header": {
             "fill": {
              "color": "#C8D4E3"
             },
             "line": {
              "color": "white"
             }
            },
            "type": "table"
           }
          ]
         },
         "layout": {
          "annotationdefaults": {
           "arrowcolor": "#2a3f5f",
           "arrowhead": 0,
           "arrowwidth": 1
          },
          "autotypenumbers": "strict",
          "coloraxis": {
           "colorbar": {
            "outlinewidth": 0,
            "ticks": ""
           }
          },
          "colorscale": {
           "diverging": [
            [
             0,
             "#8e0152"
            ],
            [
             0.1,
             "#c51b7d"
            ],
            [
             0.2,
             "#de77ae"
            ],
            [
             0.3,
             "#f1b6da"
            ],
            [
             0.4,
             "#fde0ef"
            ],
            [
             0.5,
             "#f7f7f7"
            ],
            [
             0.6,
             "#e6f5d0"
            ],
            [
             0.7,
             "#b8e186"
            ],
            [
             0.8,
             "#7fbc41"
            ],
            [
             0.9,
             "#4d9221"
            ],
            [
             1,
             "#276419"
            ]
           ],
           "sequential": [
            [
             0,
             "#0d0887"
            ],
            [
             0.1111111111111111,
             "#46039f"
            ],
            [
             0.2222222222222222,
             "#7201a8"
            ],
            [
             0.3333333333333333,
             "#9c179e"
            ],
            [
             0.4444444444444444,
             "#bd3786"
            ],
            [
             0.5555555555555556,
             "#d8576b"
            ],
            [
             0.6666666666666666,
             "#ed7953"
            ],
            [
             0.7777777777777778,
             "#fb9f3a"
            ],
            [
             0.8888888888888888,
             "#fdca26"
            ],
            [
             1,
             "#f0f921"
            ]
           ],
           "sequentialminus": [
            [
             0,
             "#0d0887"
            ],
            [
             0.1111111111111111,
             "#46039f"
            ],
            [
             0.2222222222222222,
             "#7201a8"
            ],
            [
             0.3333333333333333,
             "#9c179e"
            ],
            [
             0.4444444444444444,
             "#bd3786"
            ],
            [
             0.5555555555555556,
             "#d8576b"
            ],
            [
             0.6666666666666666,
             "#ed7953"
            ],
            [
             0.7777777777777778,
             "#fb9f3a"
            ],
            [
             0.8888888888888888,
             "#fdca26"
            ],
            [
             1,
             "#f0f921"
            ]
           ]
          },
          "colorway": [
           "#636efa",
           "#EF553B",
           "#00cc96",
           "#ab63fa",
           "#FFA15A",
           "#19d3f3",
           "#FF6692",
           "#B6E880",
           "#FF97FF",
           "#FECB52"
          ],
          "font": {
           "color": "#2a3f5f"
          },
          "geo": {
           "bgcolor": "white",
           "lakecolor": "white",
           "landcolor": "#E5ECF6",
           "showlakes": true,
           "showland": true,
           "subunitcolor": "white"
          },
          "hoverlabel": {
           "align": "left"
          },
          "hovermode": "closest",
          "mapbox": {
           "style": "light"
          },
          "paper_bgcolor": "white",
          "plot_bgcolor": "#E5ECF6",
          "polar": {
           "angularaxis": {
            "gridcolor": "white",
            "linecolor": "white",
            "ticks": ""
           },
           "bgcolor": "#E5ECF6",
           "radialaxis": {
            "gridcolor": "white",
            "linecolor": "white",
            "ticks": ""
           }
          },
          "scene": {
           "xaxis": {
            "backgroundcolor": "#E5ECF6",
            "gridcolor": "white",
            "gridwidth": 2,
            "linecolor": "white",
            "showbackground": true,
            "ticks": "",
            "zerolinecolor": "white"
           },
           "yaxis": {
            "backgroundcolor": "#E5ECF6",
            "gridcolor": "white",
            "gridwidth": 2,
            "linecolor": "white",
            "showbackground": true,
            "ticks": "",
            "zerolinecolor": "white"
           },
           "zaxis": {
            "backgroundcolor": "#E5ECF6",
            "gridcolor": "white",
            "gridwidth": 2,
            "linecolor": "white",
            "showbackground": true,
            "ticks": "",
            "zerolinecolor": "white"
           }
          },
          "shapedefaults": {
           "line": {
            "color": "#2a3f5f"
           }
          },
          "ternary": {
           "aaxis": {
            "gridcolor": "white",
            "linecolor": "white",
            "ticks": ""
           },
           "baxis": {
            "gridcolor": "white",
            "linecolor": "white",
            "ticks": ""
           },
           "bgcolor": "#E5ECF6",
           "caxis": {
            "gridcolor": "white",
            "linecolor": "white",
            "ticks": ""
           }
          },
          "title": {
           "x": 0.05
          },
          "xaxis": {
           "automargin": true,
           "gridcolor": "white",
           "linecolor": "white",
           "ticks": "",
           "title": {
            "standoff": 15
           },
           "zerolinecolor": "white",
           "zerolinewidth": 2
          },
          "yaxis": {
           "automargin": true,
           "gridcolor": "white",
           "linecolor": "white",
           "ticks": "",
           "title": {
            "standoff": 15
           },
           "zerolinecolor": "white",
           "zerolinewidth": 2
          }
         }
        },
        "title": {
         "text": "1. Radar de Competitividad por Pilar y Macrosector",
         "x": 0.5,
         "xanchor": "center"
        }
       }
      }
     },
     "metadata": {},
     "output_type": "display_data"
    }
   ],
   "source": [
    "# Encadenar las operaciones de pandas para simplificar el proceso:\n",
    "# 1. Agrupar por Macrosector y Nombre Pilar, calculando la media.\n",
    "radar_final_df = (\n",
    "    raw_data.groupby(['Macrosector', 'Nombre Pilar'])['valoracionPonderada']\n",
    "    .mean()\n",
    "    .reset_index()\n",
    "    .pivot_table(\n",
    "        index='Nombre Pilar',\n",
    "        columns='Macrosector',\n",
    "        values='valoracionPonderada'\n",
    "    )\n",
    "    .fillna(0)\n",
    "    .reset_index()\n",
    "    .rename(columns={'Nombre Pilar': 'category'})\n",
    ")\n",
    "\n",
    "categories = radar_final_df['category'].tolist()\n",
    "macrosectores = radar_final_df.drop(columns='category').columns.tolist()\n",
    "\n",
    "# Normalize the values for better visualization up to 100\n",
    "radar_final_df[macrosectores] = radar_final_df[macrosectores].apply(\n",
    "    lambda x: (x - x.min()) / (x.max() - x.min()) * 100\n",
    ")   \n",
    "\n",
    "# Wrap category labels\n",
    "wrapped_categories = [wrap_text(cat) for cat in categories]\n",
    "\n",
    "fig = go.Figure()\n",
    "\n",
    "# Create color palette for different macrosectors\n",
    "colors = px.colors.qualitative.Set1[:len(macrosectores)]\n",
    "\n",
    "for i, macrosector in enumerate(macrosectores):\n",
    "    values = radar_final_df[macrosector].values\n",
    "    fig.add_trace(go.Scatterpolar(\n",
    "        r=values,\n",
    "        theta=wrapped_categories,  # Use wrapped categories\n",
    "        fill='toself',\n",
    "        name=macrosector,\n",
    "        line=dict(color=colors[i % len(colors)]),\n",
    "        fillcolor=colors[i % len(colors)],\n",
    "        opacity=0.6\n",
    "    ))\n",
    "\n",
    "fig.update_layout(\n",
    "    polar=dict(\n",
    "        radialaxis=dict(\n",
    "            visible=True,\n",
    "            range=[0, max(radar_final_df.drop(columns='category').max()) * 1.1],  # Dynamic range\n",
    "            tickmode='linear',\n",
    "            tick0=0,\n",
    "            dtick=20\n",
    "        ),\n",
    "        angularaxis=dict(\n",
    "            tickmode='array',\n",
    "            tickvals=list(range(len(categories))),\n",
    "            ticktext=wrapped_categories,  # Use wrapped categories\n",
    "            tickfont=dict(size=10),  # Smaller font for wrapped text\n",
    "            rotation=0  # Keep labels horizontal for better readability\n",
    "        )\n",
    "    ),\n",
    "    showlegend=True,\n",
    "    title={\n",
    "        'text': '1. Radar de Competitividad por Pilar y Macrosector',\n",
    "        'x': 0.5,\n",
    "        'xanchor': 'center'\n",
    "    }\n",
    ")\n",
    "fig.show()\n",
    "save_chart_as_html(fig, '01_radar_macroeconomic.html')\n",
    "# save as image\n",
    "fig.write_image(\"img/01_radar_macroeconomic.png\", width=1000, height=800, scale=2)\n"
   ]
  },
  {
   "cell_type": "markdown",
   "metadata": {
    "id": "5pju1snkmilQ"
   },
   "source": [
    "## 2. Mapa de calor de Desempeño Empresarial"
   ]
  },
  {
   "cell_type": "code",
   "execution_count": 41,
   "metadata": {
    "colab": {
     "base_uri": "https://localhost:8080/",
     "height": 206
    },
    "executionInfo": {
     "elapsed": 93,
     "status": "ok",
     "timestamp": 1754157043199,
     "user": {
      "displayName": "Juan Camilo Ortiz",
      "userId": "14839115185471025896"
     },
     "user_tz": 300
    },
    "id": "MT16zHh_mlNC",
    "outputId": "7b4d8493-d3ff-4751-a38d-9f88b45a4493"
   },
   "outputs": [
    {
     "data": {
      "application/vnd.plotly.v1+json": {
       "config": {
        "plotlyServerURL": "https://plot.ly"
       },
       "data": [
        {
         "colorbar": {
          "title": {
           "text": "Valoración Ponderada"
          }
         },
         "colorscale": [
          [
           0,
           "rgb(247,251,255)"
          ],
          [
           0.125,
           "rgb(222,235,247)"
          ],
          [
           0.25,
           "rgb(198,219,239)"
          ],
          [
           0.375,
           "rgb(158,202,225)"
          ],
          [
           0.5,
           "rgb(107,174,214)"
          ],
          [
           0.625,
           "rgb(66,146,198)"
          ],
          [
           0.75,
           "rgb(33,113,181)"
          ],
          [
           0.875,
           "rgb(8,81,156)"
          ],
          [
           1,
           "rgb(8,48,107)"
          ]
         ],
         "type": "heatmap",
         "x": [
          "Acción Climática y<br>Energía",
          "Capital Humano: Bienestar<br>y Desarrollo",
          "Diversidad, Equidad e<br>Inclusión (DEI)",
          "Gestión de Recursos<br>Naturales y Circularidad",
          "Impacto Económico, Social<br>y Comunitario",
          "Transparencia y Gobierno<br>de la Sostenibilidad"
         ],
         "y": [
          "ARA",
          "ARQUITECTURA Y CONCRETO",
          "AUTOPISTA RIO MAGDALENA SAS",
          "AVICOLA EL MADROÑO SA",
          "AVSA",
          "Aliar",
          "Alimentos Carnicos (Grupo Nutresa)",
          "Alpina",
          "Amarilo",
          "Avianca",
          "BEL STAR S.A.",
          "Banco de Bogotá",
          "Bancolombia",
          "Bavaria (Kopps)",
          "Biomax",
          "C.I Prodeco",
          "CARTON DE COLOMBIA S.A. (Smurfit Kappa)",
          "CI Eslop",
          "CONCESIONARIA VIAL UNIÓN DEL SUR SAS",
          "CONSTRUCCIONES EL CONDOR S.A",
          "CONSTRUCTORA CAPITAL BOGOTA SAS",
          "CONSTRUCTORA COLPATRIA  SAS",
          "Celsia",
          "Cementos Argos",
          "Cencosud",
          "Cenit",
          "Cerrejón",
          "Chevron",
          "Claro",
          "Coca Cola- Femsa",
          "Colgate",
          "Colombina",
          "Compañía Nacional de Chocolates",
          "Conconcreto",
          "Corbeta",
          "Cruz Verde",
          "D1",
          "Davivienda",
          "Distracom",
          "Drummond",
          "EPM",
          "ES Windows",
          "Ecopetrol",
          "Emgesa",
          "Esenttia",
          "Falabella",
          "Frontera Energy",
          "GEB",
          "Gases del Caribe",
          "General Motors",
          "Geopark",
          "Gran Tierra Energy",
          "Grupo Bios",
          "Grupo Diana",
          "Haceb",
          "Hocol",
          "INCUBADORA SANTANDER S.A. (Huevos Kikes)",
          "ISA",
          "ISMOCOL SA",
          "Isagen",
          "Italcol",
          "LATAM",
          "MARVAL S.A.S.",
          "Mazda",
          "Mercado Libre",
          "Nestle",
          "Oleoducto Central (Ocensa)",
          "Olímpica",
          "POLLOS EL BUCANERO S.A. (Cargill)",
          "Pepsico",
          "Petromil",
          "Postobón",
          "Pricesmart",
          "Primax",
          "Productos Familia (Essity)",
          "Promigas",
          "Rappi",
          "Reficar",
          "Renault",
          "Riopaila Castilla",
          "Samsung",
          "SierraCol Energy",
          "Sodimac (Homecenter)",
          "Sucafina",
          "Sunshine Bouquet",
          "Suramerica Comercial (Dollar City)",
          "Tecnoquimicas",
          "Telefónica",
          "Teleperformance",
          "Terpel",
          "Tigo",
          "Toyota",
          "Trafigura (Petroleum)",
          "Uniban",
          "Unilever",
          "Vanti",
          "Verano energy",
          "YARA COLOMBIA S.A.",
          "Yamaha",
          "Éxito"
         ],
         "z": {
          "bdata": "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",
          "dtype": "f8",
          "shape": "100, 6"
         }
        }
       ],
       "layout": {
        "template": {
         "data": {
          "bar": [
           {
            "error_x": {
             "color": "#2a3f5f"
            },
            "error_y": {
             "color": "#2a3f5f"
            },
            "marker": {
             "line": {
              "color": "#E5ECF6",
              "width": 0.5
             },
             "pattern": {
              "fillmode": "overlay",
              "size": 10,
              "solidity": 0.2
             }
            },
            "type": "bar"
           }
          ],
          "barpolar": [
           {
            "marker": {
             "line": {
              "color": "#E5ECF6",
              "width": 0.5
             },
             "pattern": {
              "fillmode": "overlay",
              "size": 10,
              "solidity": 0.2
             }
            },
            "type": "barpolar"
           }
          ],
          "carpet": [
           {
            "aaxis": {
             "endlinecolor": "#2a3f5f",
             "gridcolor": "white",
             "linecolor": "white",
             "minorgridcolor": "white",
             "startlinecolor": "#2a3f5f"
            },
            "baxis": {
             "endlinecolor": "#2a3f5f",
             "gridcolor": "white",
             "linecolor": "white",
             "minorgridcolor": "white",
             "startlinecolor": "#2a3f5f"
            },
            "type": "carpet"
           }
          ],
          "choropleth": [
           {
            "colorbar": {
             "outlinewidth": 0,
             "ticks": ""
            },
            "type": "choropleth"
           }
          ],
          "contour": [
           {
            "colorbar": {
             "outlinewidth": 0,
             "ticks": ""
            },
            "colorscale": [
             [
              0,
              "#0d0887"
             ],
             [
              0.1111111111111111,
              "#46039f"
             ],
             [
              0.2222222222222222,
              "#7201a8"
             ],
             [
              0.3333333333333333,
              "#9c179e"
             ],
             [
              0.4444444444444444,
              "#bd3786"
             ],
             [
              0.5555555555555556,
              "#d8576b"
             ],
             [
              0.6666666666666666,
              "#ed7953"
             ],
             [
              0.7777777777777778,
              "#fb9f3a"
             ],
             [
              0.8888888888888888,
              "#fdca26"
             ],
             [
              1,
              "#f0f921"
             ]
            ],
            "type": "contour"
           }
          ],
          "contourcarpet": [
           {
            "colorbar": {
             "outlinewidth": 0,
             "ticks": ""
            },
            "type": "contourcarpet"
           }
          ],
          "heatmap": [
           {
            "colorbar": {
             "outlinewidth": 0,
             "ticks": ""
            },
            "colorscale": [
             [
              0,
              "#0d0887"
             ],
             [
              0.1111111111111111,
              "#46039f"
             ],
             [
              0.2222222222222222,
              "#7201a8"
             ],
             [
              0.3333333333333333,
              "#9c179e"
             ],
             [
              0.4444444444444444,
              "#bd3786"
             ],
             [
              0.5555555555555556,
              "#d8576b"
             ],
             [
              0.6666666666666666,
              "#ed7953"
             ],
             [
              0.7777777777777778,
              "#fb9f3a"
             ],
             [
              0.8888888888888888,
              "#fdca26"
             ],
             [
              1,
              "#f0f921"
             ]
            ],
            "type": "heatmap"
           }
          ],
          "histogram": [
           {
            "marker": {
             "pattern": {
              "fillmode": "overlay",
              "size": 10,
              "solidity": 0.2
             }
            },
            "type": "histogram"
           }
          ],
          "histogram2d": [
           {
            "colorbar": {
             "outlinewidth": 0,
             "ticks": ""
            },
            "colorscale": [
             [
              0,
              "#0d0887"
             ],
             [
              0.1111111111111111,
              "#46039f"
             ],
             [
              0.2222222222222222,
              "#7201a8"
             ],
             [
              0.3333333333333333,
              "#9c179e"
             ],
             [
              0.4444444444444444,
              "#bd3786"
             ],
             [
              0.5555555555555556,
              "#d8576b"
             ],
             [
              0.6666666666666666,
              "#ed7953"
             ],
             [
              0.7777777777777778,
              "#fb9f3a"
             ],
             [
              0.8888888888888888,
              "#fdca26"
             ],
             [
              1,
              "#f0f921"
             ]
            ],
            "type": "histogram2d"
           }
          ],
          "histogram2dcontour": [
           {
            "colorbar": {
             "outlinewidth": 0,
             "ticks": ""
            },
            "colorscale": [
             [
              0,
              "#0d0887"
             ],
             [
              0.1111111111111111,
              "#46039f"
             ],
             [
              0.2222222222222222,
              "#7201a8"
             ],
             [
              0.3333333333333333,
              "#9c179e"
             ],
             [
              0.4444444444444444,
              "#bd3786"
             ],
             [
              0.5555555555555556,
              "#d8576b"
             ],
             [
              0.6666666666666666,
              "#ed7953"
             ],
             [
              0.7777777777777778,
              "#fb9f3a"
             ],
             [
              0.8888888888888888,
              "#fdca26"
             ],
             [
              1,
              "#f0f921"
             ]
            ],
            "type": "histogram2dcontour"
           }
          ],
          "mesh3d": [
           {
            "colorbar": {
             "outlinewidth": 0,
             "ticks": ""
            },
            "type": "mesh3d"
           }
          ],
          "parcoords": [
           {
            "line": {
             "colorbar": {
              "outlinewidth": 0,
              "ticks": ""
             }
            },
            "type": "parcoords"
           }
          ],
          "pie": [
           {
            "automargin": true,
            "type": "pie"
           }
          ],
          "scatter": [
           {
            "fillpattern": {
             "fillmode": "overlay",
             "size": 10,
             "solidity": 0.2
            },
            "type": "scatter"
           }
          ],
          "scatter3d": [
           {
            "line": {
             "colorbar": {
              "outlinewidth": 0,
              "ticks": ""
             }
            },
            "marker": {
             "colorbar": {
              "outlinewidth": 0,
              "ticks": ""
             }
            },
            "type": "scatter3d"
           }
          ],
          "scattercarpet": [
           {
            "marker": {
             "colorbar": {
              "outlinewidth": 0,
              "ticks": ""
             }
            },
            "type": "scattercarpet"
           }
          ],
          "scattergeo": [
           {
            "marker": {
             "colorbar": {
              "outlinewidth": 0,
              "ticks": ""
             }
            },
            "type": "scattergeo"
           }
          ],
          "scattergl": [
           {
            "marker": {
             "colorbar": {
              "outlinewidth": 0,
              "ticks": ""
             }
            },
            "type": "scattergl"
           }
          ],
          "scattermap": [
           {
            "marker": {
             "colorbar": {
              "outlinewidth": 0,
              "ticks": ""
             }
            },
            "type": "scattermap"
           }
          ],
          "scattermapbox": [
           {
            "marker": {
             "colorbar": {
              "outlinewidth": 0,
              "ticks": ""
             }
            },
            "type": "scattermapbox"
           }
          ],
          "scatterpolar": [
           {
            "marker": {
             "colorbar": {
              "outlinewidth": 0,
              "ticks": ""
             }
            },
            "type": "scatterpolar"
           }
          ],
          "scatterpolargl": [
           {
            "marker": {
             "colorbar": {
              "outlinewidth": 0,
              "ticks": ""
             }
            },
            "type": "scatterpolargl"
           }
          ],
          "scatterternary": [
           {
            "marker": {
             "colorbar": {
              "outlinewidth": 0,
              "ticks": ""
             }
            },
            "type": "scatterternary"
           }
          ],
          "surface": [
           {
            "colorbar": {
             "outlinewidth": 0,
             "ticks": ""
            },
            "colorscale": [
             [
              0,
              "#0d0887"
             ],
             [
              0.1111111111111111,
              "#46039f"
             ],
             [
              0.2222222222222222,
              "#7201a8"
             ],
             [
              0.3333333333333333,
              "#9c179e"
             ],
             [
              0.4444444444444444,
              "#bd3786"
             ],
             [
              0.5555555555555556,
              "#d8576b"
             ],
             [
              0.6666666666666666,
              "#ed7953"
             ],
             [
              0.7777777777777778,
              "#fb9f3a"
             ],
             [
              0.8888888888888888,
              "#fdca26"
             ],
             [
              1,
              "#f0f921"
             ]
            ],
            "type": "surface"
           }
          ],
          "table": [
           {
            "cells": {
             "fill": {
              "color": "#EBF0F8"
             },
             "line": {
              "color": "white"
             }
            },
            "header": {
             "fill": {
              "color": "#C8D4E3"
             },
             "line": {
              "color": "white"
             }
            },
            "type": "table"
           }
          ]
         },
         "layout": {
          "annotationdefaults": {
           "arrowcolor": "#2a3f5f",
           "arrowhead": 0,
           "arrowwidth": 1
          },
          "autotypenumbers": "strict",
          "coloraxis": {
           "colorbar": {
            "outlinewidth": 0,
            "ticks": ""
           }
          },
          "colorscale": {
           "diverging": [
            [
             0,
             "#8e0152"
            ],
            [
             0.1,
             "#c51b7d"
            ],
            [
             0.2,
             "#de77ae"
            ],
            [
             0.3,
             "#f1b6da"
            ],
            [
             0.4,
             "#fde0ef"
            ],
            [
             0.5,
             "#f7f7f7"
            ],
            [
             0.6,
             "#e6f5d0"
            ],
            [
             0.7,
             "#b8e186"
            ],
            [
             0.8,
             "#7fbc41"
            ],
            [
             0.9,
             "#4d9221"
            ],
            [
             1,
             "#276419"
            ]
           ],
           "sequential": [
            [
             0,
             "#0d0887"
            ],
            [
             0.1111111111111111,
             "#46039f"
            ],
            [
             0.2222222222222222,
             "#7201a8"
            ],
            [
             0.3333333333333333,
             "#9c179e"
            ],
            [
             0.4444444444444444,
             "#bd3786"
            ],
            [
             0.5555555555555556,
             "#d8576b"
            ],
            [
             0.6666666666666666,
             "#ed7953"
            ],
            [
             0.7777777777777778,
             "#fb9f3a"
            ],
            [
             0.8888888888888888,
             "#fdca26"
            ],
            [
             1,
             "#f0f921"
            ]
           ],
           "sequentialminus": [
            [
             0,
             "#0d0887"
            ],
            [
             0.1111111111111111,
             "#46039f"
            ],
            [
             0.2222222222222222,
             "#7201a8"
            ],
            [
             0.3333333333333333,
             "#9c179e"
            ],
            [
             0.4444444444444444,
             "#bd3786"
            ],
            [
             0.5555555555555556,
             "#d8576b"
            ],
            [
             0.6666666666666666,
             "#ed7953"
            ],
            [
             0.7777777777777778,
             "#fb9f3a"
            ],
            [
             0.8888888888888888,
             "#fdca26"
            ],
            [
             1,
             "#f0f921"
            ]
           ]
          },
          "colorway": [
           "#636efa",
           "#EF553B",
           "#00cc96",
           "#ab63fa",
           "#FFA15A",
           "#19d3f3",
           "#FF6692",
           "#B6E880",
           "#FF97FF",
           "#FECB52"
          ],
          "font": {
           "color": "#2a3f5f"
          },
          "geo": {
           "bgcolor": "white",
           "lakecolor": "white",
           "landcolor": "#E5ECF6",
           "showlakes": true,
           "showland": true,
           "subunitcolor": "white"
          },
          "hoverlabel": {
           "align": "left"
          },
          "hovermode": "closest",
          "mapbox": {
           "style": "light"
          },
          "paper_bgcolor": "white",
          "plot_bgcolor": "#E5ECF6",
          "polar": {
           "angularaxis": {
            "gridcolor": "white",
            "linecolor": "white",
            "ticks": ""
           },
           "bgcolor": "#E5ECF6",
           "radialaxis": {
            "gridcolor": "white",
            "linecolor": "white",
            "ticks": ""
           }
          },
          "scene": {
           "xaxis": {
            "backgroundcolor": "#E5ECF6",
            "gridcolor": "white",
            "gridwidth": 2,
            "linecolor": "white",
            "showbackground": true,
            "ticks": "",
            "zerolinecolor": "white"
           },
           "yaxis": {
            "backgroundcolor": "#E5ECF6",
            "gridcolor": "white",
            "gridwidth": 2,
            "linecolor": "white",
            "showbackground": true,
            "ticks": "",
            "zerolinecolor": "white"
           },
           "zaxis": {
            "backgroundcolor": "#E5ECF6",
            "gridcolor": "white",
            "gridwidth": 2,
            "linecolor": "white",
            "showbackground": true,
            "ticks": "",
            "zerolinecolor": "white"
           }
          },
          "shapedefaults": {
           "line": {
            "color": "#2a3f5f"
           }
          },
          "ternary": {
           "aaxis": {
            "gridcolor": "white",
            "linecolor": "white",
            "ticks": ""
           },
           "baxis": {
            "gridcolor": "white",
            "linecolor": "white",
            "ticks": ""
           },
           "bgcolor": "#E5ECF6",
           "caxis": {
            "gridcolor": "white",
            "linecolor": "white",
            "ticks": ""
           }
          },
          "title": {
           "x": 0.05
          },
          "xaxis": {
           "automargin": true,
           "gridcolor": "white",
           "linecolor": "white",
           "ticks": "",
           "title": {
            "standoff": 15
           },
           "zerolinecolor": "white",
           "zerolinewidth": 2
          },
          "yaxis": {
           "automargin": true,
           "gridcolor": "white",
           "linecolor": "white",
           "ticks": "",
           "title": {
            "standoff": 15
           },
           "zerolinecolor": "white",
           "zerolinewidth": 2
          }
         }
        },
        "title": {
         "text": "2. Mapa de Calor de Desempeño Empresarial"
        },
        "xaxis": {
         "title": {
          "text": "Pilares"
         }
        },
        "yaxis": {
         "title": {
          "text": "Empresas"
         }
        }
       }
      }
     },
     "metadata": {},
     "output_type": "display_data"
    }
   ],
   "source": [
    "# 1. Pivotar la tabla para agregar los valores.\n",
    "#    - Se agrupa por 'Razón social' y 'Nombre Pilar'.\n",
    "#    - Se calcula la SUMA de 'valoracionPonderada' como indica la guía.\n",
    "#    - Se rellenan los valores nulos con 0.\n",
    "heatmap_pivot = raw_data.pivot_table(\n",
    "    index='Razón social',\n",
    "    columns='Nombre Pilar',\n",
    "    values='valoracionPonderada',\n",
    "    aggfunc='mean',\n",
    "    fill_value=0\n",
    ")\n",
    "\n",
    "heatmap_pivot.sort_values(by='Razón social', inplace=True)\n",
    "wrapped_pilars = [wrap_text(col) for col in heatmap_pivot.columns]\n",
    "# Crear mapa de calor con Plotly\n",
    "heatmap_fig = go.Figure(data=go.Heatmap(\n",
    "    z=heatmap_pivot.values,\n",
    "    x=wrapped_pilars,\n",
    "    y=heatmap_pivot.index,\n",
    "    colorscale='blues',\n",
    "    colorbar=dict(title='Valoración Ponderada')\n",
    "))\n",
    "\n",
    "heatmap_fig.update_layout(\n",
    "    title='2. Mapa de Calor de Desempeño Empresarial',\n",
    "    xaxis_title='Pilares',\n",
    "    yaxis_title='Empresas'\n",
    ")\n",
    "\n",
    "heatmap_fig.show()\n",
    "save_chart_as_html(heatmap_fig, '02_heatmap_performance.html')\n",
    "# Save as image\n",
    "heatmap_fig.write_image(\"img/02_heatmap_performance.png\", width=1000, height=800, scale=2)"
   ]
  },
  {
   "cell_type": "markdown",
   "metadata": {},
   "source": [
    "## 3. Diagrama de Violín de la Dispersión del Desempeño Sectorial"
   ]
  },
  {
   "cell_type": "code",
   "execution_count": 20,
   "metadata": {},
   "outputs": [
    {
     "data": {
      "application/vnd.plotly.v1+json": {
       "config": {
        "plotlyServerURL": "https://plot.ly"
       },
       "data": [
        {
         "alignmentgroup": "True",
         "box": {
          "visible": true
         },
         "hovertemplate": "Macrosector=%{x}<br>Puntaje Total=%{y}<extra></extra>",
         "legendgroup": "Comercio",
         "marker": {
          "color": "#636efa"
         },
         "meanline": {
          "visible": true
         },
         "name": "Comercio",
         "offsetgroup": "Comercio",
         "orientation": "v",
         "points": "all",
         "scalegroup": "True",
         "showlegend": true,
         "type": "violin",
         "x": [
          "Comercio",
          "Comercio",
          "Comercio",
          "Comercio",
          "Comercio",
          "Comercio",
          "Comercio",
          "Comercio",
          "Comercio",
          "Comercio",
          "Comercio",
          "Comercio",
          "Comercio",
          "Comercio",
          "Comercio",
          "Comercio",
          "Comercio",
          "Comercio",
          "Comercio",
          "Comercio",
          "Comercio",
          "Comercio",
          "Comercio",
          "Comercio",
          "Comercio",
          "Comercio"
         ],
         "x0": " ",
         "xaxis": "x",
         "y": {
          "bdata": "AAAAAAAAAAAAAAAAAAAAAFtRc4eHhydAOpYwAACAc0CWKxeFyAFnQAAAAAAAAAAARc2FAYvQd0BU+NNJ9QZ4QFtRc4eHhydAvxQMUXfBfUAKbHUJ/NZwQFtRc4eHh0dAWOggO7ETJ0BnmmkoyRFvQLyi7BHo1XxADEc8S0tLdkBgCf994Qd9QJI+fWlp6XBAOE7p5DWUL0AAAAAAAAAAADJcxEfBj39Ab7o1TkJWd0BQgo+lpSVuQN3vDvg1WnVAW1Fzh4eHN0DAlw4SvJF4QA==",
          "dtype": "f8"
         },
         "y0": " ",
         "yaxis": "y"
        },
        {
         "alignmentgroup": "True",
         "box": {
          "visible": true
         },
         "hovertemplate": "Macrosector=%{x}<br>Puntaje Total=%{y}<extra></extra>",
         "legendgroup": "Construcción",
         "marker": {
          "color": "#EF553B"
         },
         "meanline": {
          "visible": true
         },
         "name": "Construcción",
         "offsetgroup": "Construcción",
         "orientation": "v",
         "points": "all",
         "scalegroup": "True",
         "showlegend": true,
         "type": "violin",
         "x": [
          "Construcción",
          "Construcción",
          "Construcción",
          "Construcción",
          "Construcción",
          "Construcción",
          "Construcción",
          "Construcción",
          "Construcción",
          "Construcción"
         ],
         "x0": " ",
         "xaxis": "x",
         "y": {
          "bdata": "AAAAAAAAAAAGmVW5rzx9QMRJjRVszHdA1ljRBfZhcUCIVa9nRyxnQHKgAaGnPWJAW2UdwzBMaUAqzSXWC21yQNAYe2lpaT1AjqgtzijmbkA=",
          "dtype": "f8"
         },
         "y0": " ",
         "yaxis": "y"
        },
        {
         "alignmentgroup": "True",
         "box": {
          "visible": true
         },
         "hovertemplate": "Macrosector=%{x}<br>Puntaje Total=%{y}<extra></extra>",
         "legendgroup": "Agropecuario",
         "marker": {
          "color": "#00cc96"
         },
         "meanline": {
          "visible": true
         },
         "name": "Agropecuario",
         "offsetgroup": "Agropecuario",
         "orientation": "v",
         "points": "all",
         "scalegroup": "True",
         "showlegend": true,
         "type": "violin",
         "x": [
          "Agropecuario",
          "Agropecuario",
          "Agropecuario",
          "Agropecuario",
          "Agropecuario",
          "Agropecuario"
         ],
         "x0": " ",
         "xaxis": "x",
         "y": {
          "bdata": "AAAAAAAAAACld79EmxJNQFGds6qqynNAs2Ph8zyPYUAAAAAAAAAAAIcZtyRJkixA",
          "dtype": "f8"
         },
         "y0": " ",
         "yaxis": "y"
        },
        {
         "alignmentgroup": "True",
         "box": {
          "visible": true
         },
         "hovertemplate": "Macrosector=%{x}<br>Puntaje Total=%{y}<extra></extra>",
         "legendgroup": "Manufactura",
         "marker": {
          "color": "#ab63fa"
         },
         "meanline": {
          "visible": true
         },
         "name": "Manufactura",
         "offsetgroup": "Manufactura",
         "orientation": "v",
         "points": "all",
         "scalegroup": "True",
         "showlegend": true,
         "type": "violin",
         "x": [
          "Manufactura",
          "Manufactura",
          "Manufactura",
          "Manufactura",
          "Manufactura",
          "Manufactura",
          "Manufactura",
          "Manufactura",
          "Manufactura",
          "Manufactura",
          "Manufactura",
          "Manufactura",
          "Manufactura",
          "Manufactura",
          "Manufactura",
          "Manufactura",
          "Manufactura",
          "Manufactura",
          "Manufactura",
          "Manufactura",
          "Manufactura",
          "Manufactura",
          "Manufactura",
          "Manufactura",
          "Manufactura",
          "Manufactura"
         ],
         "x0": " ",
         "xaxis": "x",
         "y": {
          "bdata": "uctnQYTDf0DLyFFnK9x6QCCnzvRJPnNAAx4qI7SCbUCJ6DCPJ1F5QLiVJvFGH39A1Sp2C9e2ekBs2py1ESdyQDhDAiqGM4BAg+9tYieMb0BK89bfWwF2QIxiPd4xg4FA8y8hnaQLdUAAAAAAAAAAAPgDPG6CxHxAAAAAAAAAAAD+ZNid2EluQNAYe2lpaT1ARZfhhvIacUCLbugmHJaBQKUTUHs2+HdA3rdzxDYOdUDWJhv9er53QBeuB8bzNXxAx8f+5DWUb0CL6PBzUF5mQA==",
          "dtype": "f8"
         },
         "y0": " ",
         "yaxis": "y"
        },
        {
         "alignmentgroup": "True",
         "box": {
          "visible": true
         },
         "hovertemplate": "Macrosector=%{x}<br>Puntaje Total=%{y}<extra></extra>",
         "legendgroup": "Servicios",
         "marker": {
          "color": "#FFA15A"
         },
         "meanline": {
          "visible": true
         },
         "name": "Servicios",
         "offsetgroup": "Servicios",
         "orientation": "v",
         "points": "all",
         "scalegroup": "True",
         "showlegend": true,
         "type": "violin",
         "x": [
          "Servicios",
          "Servicios",
          "Servicios",
          "Servicios",
          "Servicios",
          "Servicios",
          "Servicios",
          "Servicios",
          "Servicios",
          "Servicios",
          "Servicios",
          "Servicios",
          "Servicios",
          "Servicios",
          "Servicios",
          "Servicios",
          "Servicios",
          "Servicios",
          "Servicios",
          "Servicios",
          "Servicios",
          "Servicios"
         ],
         "x0": " ",
         "xaxis": "x",
         "y": {
          "bdata": "wBUtmVPpdEBC5XZnOTCAQAgSz2qNE3dAnMlxhoZrfEDZuD3C2rl8QF1G1aI6mHxAuxhWM6sifkChc+kll5F5QJOPvPfkRIBASPxkblF1eUDylYzYYZpyQOXIFL29cXlAoZbScmEkcEDerScYgKR4QMank3tQS3NAaDUB3+WJeUCMGG6nujB7QAAAAAAAAAAA+NkKkpVqfUBWqHXoojZ6QIE52G3woXZAt0aAqqxHdkA=",
          "dtype": "f8"
         },
         "y0": " ",
         "yaxis": "y"
        },
        {
         "alignmentgroup": "True",
         "box": {
          "visible": true
         },
         "hovertemplate": "Macrosector=%{x}<br>Puntaje Total=%{y}<extra></extra>",
         "legendgroup": "Minero",
         "marker": {
          "color": "#19d3f3"
         },
         "meanline": {
          "visible": true
         },
         "name": "Minero",
         "offsetgroup": "Minero",
         "orientation": "v",
         "points": "all",
         "scalegroup": "True",
         "showlegend": true,
         "type": "violin",
         "x": [
          "Minero",
          "Minero",
          "Minero",
          "Minero",
          "Minero",
          "Minero",
          "Minero",
          "Minero",
          "Minero",
          "Minero"
         ],
         "x0": " ",
         "xaxis": "x",
         "y": {
          "bdata": "3ml8cAiHRkAehr4KVMxyQANTIax3LYFAYYxXPxNTgEDZDMv6uHx7QPytrFPCBIBAt0BXYgt8dUAFhMLfsJx9QIb0Ysg8qn5AAAAAAAAAAAA=",
          "dtype": "f8"
         },
         "y0": " ",
         "yaxis": "y"
        }
       ],
       "layout": {
        "legend": {
         "title": {
          "text": "Macrosector"
         },
         "tracegroupgap": 0
        },
        "template": {
         "data": {
          "bar": [
           {
            "error_x": {
             "color": "#2a3f5f"
            },
            "error_y": {
             "color": "#2a3f5f"
            },
            "marker": {
             "line": {
              "color": "#E5ECF6",
              "width": 0.5
             },
             "pattern": {
              "fillmode": "overlay",
              "size": 10,
              "solidity": 0.2
             }
            },
            "type": "bar"
           }
          ],
          "barpolar": [
           {
            "marker": {
             "line": {
              "color": "#E5ECF6",
              "width": 0.5
             },
             "pattern": {
              "fillmode": "overlay",
              "size": 10,
              "solidity": 0.2
             }
            },
            "type": "barpolar"
           }
          ],
          "carpet": [
           {
            "aaxis": {
             "endlinecolor": "#2a3f5f",
             "gridcolor": "white",
             "linecolor": "white",
             "minorgridcolor": "white",
             "startlinecolor": "#2a3f5f"
            },
            "baxis": {
             "endlinecolor": "#2a3f5f",
             "gridcolor": "white",
             "linecolor": "white",
             "minorgridcolor": "white",
             "startlinecolor": "#2a3f5f"
            },
            "type": "carpet"
           }
          ],
          "choropleth": [
           {
            "colorbar": {
             "outlinewidth": 0,
             "ticks": ""
            },
            "type": "choropleth"
           }
          ],
          "contour": [
           {
            "colorbar": {
             "outlinewidth": 0,
             "ticks": ""
            },
            "colorscale": [
             [
              0,
              "#0d0887"
             ],
             [
              0.1111111111111111,
              "#46039f"
             ],
             [
              0.2222222222222222,
              "#7201a8"
             ],
             [
              0.3333333333333333,
              "#9c179e"
             ],
             [
              0.4444444444444444,
              "#bd3786"
             ],
             [
              0.5555555555555556,
              "#d8576b"
             ],
             [
              0.6666666666666666,
              "#ed7953"
             ],
             [
              0.7777777777777778,
              "#fb9f3a"
             ],
             [
              0.8888888888888888,
              "#fdca26"
             ],
             [
              1,
              "#f0f921"
             ]
            ],
            "type": "contour"
           }
          ],
          "contourcarpet": [
           {
            "colorbar": {
             "outlinewidth": 0,
             "ticks": ""
            },
            "type": "contourcarpet"
           }
          ],
          "heatmap": [
           {
            "colorbar": {
             "outlinewidth": 0,
             "ticks": ""
            },
            "colorscale": [
             [
              0,
              "#0d0887"
             ],
             [
              0.1111111111111111,
              "#46039f"
             ],
             [
              0.2222222222222222,
              "#7201a8"
             ],
             [
              0.3333333333333333,
              "#9c179e"
             ],
             [
              0.4444444444444444,
              "#bd3786"
             ],
             [
              0.5555555555555556,
              "#d8576b"
             ],
             [
              0.6666666666666666,
              "#ed7953"
             ],
             [
              0.7777777777777778,
              "#fb9f3a"
             ],
             [
              0.8888888888888888,
              "#fdca26"
             ],
             [
              1,
              "#f0f921"
             ]
            ],
            "type": "heatmap"
           }
          ],
          "histogram": [
           {
            "marker": {
             "pattern": {
              "fillmode": "overlay",
              "size": 10,
              "solidity": 0.2
             }
            },
            "type": "histogram"
           }
          ],
          "histogram2d": [
           {
            "colorbar": {
             "outlinewidth": 0,
             "ticks": ""
            },
            "colorscale": [
             [
              0,
              "#0d0887"
             ],
             [
              0.1111111111111111,
              "#46039f"
             ],
             [
              0.2222222222222222,
              "#7201a8"
             ],
             [
              0.3333333333333333,
              "#9c179e"
             ],
             [
              0.4444444444444444,
              "#bd3786"
             ],
             [
              0.5555555555555556,
              "#d8576b"
             ],
             [
              0.6666666666666666,
              "#ed7953"
             ],
             [
              0.7777777777777778,
              "#fb9f3a"
             ],
             [
              0.8888888888888888,
              "#fdca26"
             ],
             [
              1,
              "#f0f921"
             ]
            ],
            "type": "histogram2d"
           }
          ],
          "histogram2dcontour": [
           {
            "colorbar": {
             "outlinewidth": 0,
             "ticks": ""
            },
            "colorscale": [
             [
              0,
              "#0d0887"
             ],
             [
              0.1111111111111111,
              "#46039f"
             ],
             [
              0.2222222222222222,
              "#7201a8"
             ],
             [
              0.3333333333333333,
              "#9c179e"
             ],
             [
              0.4444444444444444,
              "#bd3786"
             ],
             [
              0.5555555555555556,
              "#d8576b"
             ],
             [
              0.6666666666666666,
              "#ed7953"
             ],
             [
              0.7777777777777778,
              "#fb9f3a"
             ],
             [
              0.8888888888888888,
              "#fdca26"
             ],
             [
              1,
              "#f0f921"
             ]
            ],
            "type": "histogram2dcontour"
           }
          ],
          "mesh3d": [
           {
            "colorbar": {
             "outlinewidth": 0,
             "ticks": ""
            },
            "type": "mesh3d"
           }
          ],
          "parcoords": [
           {
            "line": {
             "colorbar": {
              "outlinewidth": 0,
              "ticks": ""
             }
            },
            "type": "parcoords"
           }
          ],
          "pie": [
           {
            "automargin": true,
            "type": "pie"
           }
          ],
          "scatter": [
           {
            "fillpattern": {
             "fillmode": "overlay",
             "size": 10,
             "solidity": 0.2
            },
            "type": "scatter"
           }
          ],
          "scatter3d": [
           {
            "line": {
             "colorbar": {
              "outlinewidth": 0,
              "ticks": ""
             }
            },
            "marker": {
             "colorbar": {
              "outlinewidth": 0,
              "ticks": ""
             }
            },
            "type": "scatter3d"
           }
          ],
          "scattercarpet": [
           {
            "marker": {
             "colorbar": {
              "outlinewidth": 0,
              "ticks": ""
             }
            },
            "type": "scattercarpet"
           }
          ],
          "scattergeo": [
           {
            "marker": {
             "colorbar": {
              "outlinewidth": 0,
              "ticks": ""
             }
            },
            "type": "scattergeo"
           }
          ],
          "scattergl": [
           {
            "marker": {
             "colorbar": {
              "outlinewidth": 0,
              "ticks": ""
             }
            },
            "type": "scattergl"
           }
          ],
          "scattermap": [
           {
            "marker": {
             "colorbar": {
              "outlinewidth": 0,
              "ticks": ""
             }
            },
            "type": "scattermap"
           }
          ],
          "scattermapbox": [
           {
            "marker": {
             "colorbar": {
              "outlinewidth": 0,
              "ticks": ""
             }
            },
            "type": "scattermapbox"
           }
          ],
          "scatterpolar": [
           {
            "marker": {
             "colorbar": {
              "outlinewidth": 0,
              "ticks": ""
             }
            },
            "type": "scatterpolar"
           }
          ],
          "scatterpolargl": [
           {
            "marker": {
             "colorbar": {
              "outlinewidth": 0,
              "ticks": ""
             }
            },
            "type": "scatterpolargl"
           }
          ],
          "scatterternary": [
           {
            "marker": {
             "colorbar": {
              "outlinewidth": 0,
              "ticks": ""
             }
            },
            "type": "scatterternary"
           }
          ],
          "surface": [
           {
            "colorbar": {
             "outlinewidth": 0,
             "ticks": ""
            },
            "colorscale": [
             [
              0,
              "#0d0887"
             ],
             [
              0.1111111111111111,
              "#46039f"
             ],
             [
              0.2222222222222222,
              "#7201a8"
             ],
             [
              0.3333333333333333,
              "#9c179e"
             ],
             [
              0.4444444444444444,
              "#bd3786"
             ],
             [
              0.5555555555555556,
              "#d8576b"
             ],
             [
              0.6666666666666666,
              "#ed7953"
             ],
             [
              0.7777777777777778,
              "#fb9f3a"
             ],
             [
              0.8888888888888888,
              "#fdca26"
             ],
             [
              1,
              "#f0f921"
             ]
            ],
            "type": "surface"
           }
          ],
          "table": [
           {
            "cells": {
             "fill": {
              "color": "#EBF0F8"
             },
             "line": {
              "color": "white"
             }
            },
            "header": {
             "fill": {
              "color": "#C8D4E3"
             },
             "line": {
              "color": "white"
             }
            },
            "type": "table"
           }
          ]
         },
         "layout": {
          "annotationdefaults": {
           "arrowcolor": "#2a3f5f",
           "arrowhead": 0,
           "arrowwidth": 1
          },
          "autotypenumbers": "strict",
          "coloraxis": {
           "colorbar": {
            "outlinewidth": 0,
            "ticks": ""
           }
          },
          "colorscale": {
           "diverging": [
            [
             0,
             "#8e0152"
            ],
            [
             0.1,
             "#c51b7d"
            ],
            [
             0.2,
             "#de77ae"
            ],
            [
             0.3,
             "#f1b6da"
            ],
            [
             0.4,
             "#fde0ef"
            ],
            [
             0.5,
             "#f7f7f7"
            ],
            [
             0.6,
             "#e6f5d0"
            ],
            [
             0.7,
             "#b8e186"
            ],
            [
             0.8,
             "#7fbc41"
            ],
            [
             0.9,
             "#4d9221"
            ],
            [
             1,
             "#276419"
            ]
           ],
           "sequential": [
            [
             0,
             "#0d0887"
            ],
            [
             0.1111111111111111,
             "#46039f"
            ],
            [
             0.2222222222222222,
             "#7201a8"
            ],
            [
             0.3333333333333333,
             "#9c179e"
            ],
            [
             0.4444444444444444,
             "#bd3786"
            ],
            [
             0.5555555555555556,
             "#d8576b"
            ],
            [
             0.6666666666666666,
             "#ed7953"
            ],
            [
             0.7777777777777778,
             "#fb9f3a"
            ],
            [
             0.8888888888888888,
             "#fdca26"
            ],
            [
             1,
             "#f0f921"
            ]
           ],
           "sequentialminus": [
            [
             0,
             "#0d0887"
            ],
            [
             0.1111111111111111,
             "#46039f"
            ],
            [
             0.2222222222222222,
             "#7201a8"
            ],
            [
             0.3333333333333333,
             "#9c179e"
            ],
            [
             0.4444444444444444,
             "#bd3786"
            ],
            [
             0.5555555555555556,
             "#d8576b"
            ],
            [
             0.6666666666666666,
             "#ed7953"
            ],
            [
             0.7777777777777778,
             "#fb9f3a"
            ],
            [
             0.8888888888888888,
             "#fdca26"
            ],
            [
             1,
             "#f0f921"
            ]
           ]
          },
          "colorway": [
           "#636efa",
           "#EF553B",
           "#00cc96",
           "#ab63fa",
           "#FFA15A",
           "#19d3f3",
           "#FF6692",
           "#B6E880",
           "#FF97FF",
           "#FECB52"
          ],
          "font": {
           "color": "#2a3f5f"
          },
          "geo": {
           "bgcolor": "white",
           "lakecolor": "white",
           "landcolor": "#E5ECF6",
           "showlakes": true,
           "showland": true,
           "subunitcolor": "white"
          },
          "hoverlabel": {
           "align": "left"
          },
          "hovermode": "closest",
          "mapbox": {
           "style": "light"
          },
          "paper_bgcolor": "white",
          "plot_bgcolor": "#E5ECF6",
          "polar": {
           "angularaxis": {
            "gridcolor": "white",
            "linecolor": "white",
            "ticks": ""
           },
           "bgcolor": "#E5ECF6",
           "radialaxis": {
            "gridcolor": "white",
            "linecolor": "white",
            "ticks": ""
           }
          },
          "scene": {
           "xaxis": {
            "backgroundcolor": "#E5ECF6",
            "gridcolor": "white",
            "gridwidth": 2,
            "linecolor": "white",
            "showbackground": true,
            "ticks": "",
            "zerolinecolor": "white"
           },
           "yaxis": {
            "backgroundcolor": "#E5ECF6",
            "gridcolor": "white",
            "gridwidth": 2,
            "linecolor": "white",
            "showbackground": true,
            "ticks": "",
            "zerolinecolor": "white"
           },
           "zaxis": {
            "backgroundcolor": "#E5ECF6",
            "gridcolor": "white",
            "gridwidth": 2,
            "linecolor": "white",
            "showbackground": true,
            "ticks": "",
            "zerolinecolor": "white"
           }
          },
          "shapedefaults": {
           "line": {
            "color": "#2a3f5f"
           }
          },
          "ternary": {
           "aaxis": {
            "gridcolor": "white",
            "linecolor": "white",
            "ticks": ""
           },
           "baxis": {
            "gridcolor": "white",
            "linecolor": "white",
            "ticks": ""
           },
           "bgcolor": "#E5ECF6",
           "caxis": {
            "gridcolor": "white",
            "linecolor": "white",
            "ticks": ""
           }
          },
          "title": {
           "x": 0.05
          },
          "xaxis": {
           "automargin": true,
           "gridcolor": "white",
           "linecolor": "white",
           "ticks": "",
           "title": {
            "standoff": 15
           },
           "zerolinecolor": "white",
           "zerolinewidth": 2
          },
          "yaxis": {
           "automargin": true,
           "gridcolor": "white",
           "linecolor": "white",
           "ticks": "",
           "title": {
            "standoff": 15
           },
           "zerolinecolor": "white",
           "zerolinewidth": 2
          }
         }
        },
        "title": {
         "text": "3. Violin Plot de Puntajes por Macrosector"
        },
        "violinmode": "overlay",
        "xaxis": {
         "anchor": "y",
         "categoryarray": [
          "Comercio",
          "Construcción",
          "Agropecuario",
          "Manufactura",
          "Servicios",
          "Minero"
         ],
         "categoryorder": "array",
         "domain": [
          0,
          1
         ],
         "title": {
          "text": "Macrosector"
         }
        },
        "yaxis": {
         "anchor": "x",
         "domain": [
          0,
          1
         ],
         "title": {
          "text": "Puntaje Total"
         }
        }
       }
      }
     },
     "metadata": {},
     "output_type": "display_data"
    }
   ],
   "source": [
    "# 1. Calcular el puntaje total (suma de valoracionPonderada) para cada empresa.\n",
    "total_scores = raw_data.groupby(['Razón social', 'Macrosector'])['valoracionPonderada'].sum().reset_index()\n",
    "total_scores.rename(columns={'valoracionPonderada': 'puntaje_total'}, inplace=True)\n",
    "\n",
    "# 2. Eliminar Razón social y limpiar Macrosector '0' 'No' 'No informa' 'SI' 'Si'\n",
    "total_scores.drop(columns='Razón social', inplace=True)\n",
    "\n",
    "\n",
    "# 3. Crear un violin plot para cada Macrosector.\n",
    "violin_fig = px.violin(total_scores, y='puntaje_total', x='Macrosector', box=True, points='all',\n",
    "               color='Macrosector', title='3. Violin Plot de Puntajes por Macrosector',\n",
    "               labels={'puntaje_total': 'Puntaje Total', 'Macrosector': 'Macrosector'})\n",
    "violin_fig.update_traces(meanline_visible=True)\n",
    "violin_fig.update_layout(\n",
    "    xaxis_title='Macrosector',\n",
    "    yaxis_title='Puntaje Total'\n",
    ")\n",
    "\n",
    "violin_fig.show()\n",
    "save_chart_as_html(violin_fig, '03_violin_plot_performance.html')\n",
    "# Save as image\n",
    "violin_fig.write_image(\"img/03_violin_plot_performance.png\", width=1000, height=800, scale=2)"
   ]
  },
  {
   "cell_type": "markdown",
   "metadata": {},
   "source": [
    "## 4. Treemap de Impacto: Sostenibilidad y Peso Económico"
   ]
  },
  {
   "cell_type": "code",
   "execution_count": 21,
   "metadata": {},
   "outputs": [
    {
     "data": {
      "application/vnd.plotly.v1+json": {
       "config": {
        "plotlyServerURL": "https://plot.ly"
       },
       "data": [
        {
         "branchvalues": "total",
         "customdata": [
          [
           "Comercio",
           13.83118268,
           0
          ],
          [
           "Construcción",
           0.7714286919999999,
           0
          ],
          [
           "Construcción",
           1.314259836,
           467.79290135800005
          ],
          [
           "Agropecuario",
           0.711210393,
           0
          ],
          [
           "Agropecuario",
           2.423164353,
           58.14536342
          ],
          [
           "Agropecuario",
           0.978022115,
           316.6666667
          ],
          [
           "Manufactura",
           2.844632077,
           508.219788938
          ],
          [
           "Manufactura",
           2.176461396,
           429.76059658
          ],
          [
           "Construcción",
           2.186301194,
           380.776387741
          ],
          [
           "Servicios",
           15.10604245,
           334.582909752
          ],
          [
           "Manufactura",
           1.8730508,
           307.89305573199994
          ],
          [
           "Manufactura",
           8.615774351,
           236.084489424
          ],
          [
           "Comercio",
           4.512550305,
           0
          ],
          [
           "Minero",
           0.895022779,
           45.05494505
          ],
          [
           "Manufactura",
           1.778557861,
           405.07215804199996
          ],
          [
           "Comercio",
           1.976640973,
           11.76470588
          ],
          [
           "Construcción",
           0.7676214209999999,
           278.122564142
          ],
          [
           "Construcción",
           1.189537155,
           185.38371643300002
          ],
          [
           "Construcción",
           1.313282542,
           145.926712516
          ],
          [
           "Construcción",
           0.746126685,
           202.38095241300002
          ],
          [
           "Servicios",
           6.547567046,
           454.72034306
          ],
          [
           "Manufactura",
           1.84479215,
           497.954819823
          ],
          [
           "Comercio",
           4.212866602,
           312.000000181
          ],
          [
           "Servicios",
           9.97773624,
           459.615907899
          ],
          [
           "Minero",
           6.047102083,
           300.770518059
          ],
          [
           "Comercio",
           5.868986,
           184.05572752500004
          ],
          [
           "Servicios",
           15.6020998,
           457.514315446
          ],
          [
           "Manufactura",
           5.161404728,
           427.427501165
          ],
          [
           "Manufactura",
           2.382092359,
           290.44182359
          ],
          [
           "Manufactura",
           2.192826677,
           518.4405098130001
          ],
          [
           "Manufactura",
           1.94339097,
           252.379807677
          ],
          [
           "Construcción",
           0.498844856,
           294.815389774
          ],
          [
           "Comercio",
           11.88773162,
           0
          ],
          [
           "Comercio",
           5.511646479,
           381.033936999
          ],
          [
           "Comercio",
           19.43939611,
           384.434884861
          ],
          [
           "Comercio",
           3.874476933,
           11.76470588
          ],
          [
           "Minero",
           11.49598948,
           549.683433781
          ],
          [
           "Servicios",
           20.57447718,
           409.09940139
          ],
          [
           "Manufactura",
           2.624920215,
           352.084930267
          ],
          [
           "Minero",
           113.9233103,
           522.3843981589999
          ],
          [
           "Servicios",
           15.78033255,
           520.611800645
          ],
          [
           "Manufactura",
           2.311463709,
           560.39934967
          ],
          [
           "Comercio",
           2.307560639,
           476.091630027
          ],
          [
           "Minero",
           4.250244656,
           439.79516105
          ],
          [
           "Servicios",
           3.716639484,
           407.332380671
          ],
          [
           "Servicios",
           2.635568566,
           297.648888158
          ],
          [
           "Manufactura",
           1.212362823,
           336.727688913
          ],
          [
           "Minero",
           2.420367108,
           512.594886159
          ],
          [
           "Minero",
           1.321926,
           343.752779332
          ],
          [
           "Agropecuario",
           0.441609957,
           140.47619051
          ],
          [
           "Manufactura",
           2.485955399,
           0
          ],
          [
           "Manufactura",
           1.340540112,
           460.2818434089999
          ],
          [
           "Minero",
           2.660692144,
           473.793182144
          ],
          [
           "Agropecuario",
           0.8944884499999999,
           0
          ],
          [
           "Servicios",
           4.130985568,
           407.1088229
          ],
          [
           "Construcción",
           0.7516773829999999,
           29.41176471
          ],
          [
           "Servicios",
           6.13559916,
           258.273791144
          ],
          [
           "Manufactura",
           3.189145272,
           0
          ],
          [
           "Servicios",
           2.328344538,
           394.281273036
          ],
          [
           "Construcción",
           0.985342945,
           247.19248112600002
          ],
          [
           "Comercio",
           1.869141753,
           269.436532458
          ],
          [
           "Servicios",
           1.858185367,
           308.7071491020001
          ],
          [
           "Manufactura",
           2.04446981,
           242.307692454
          ],
          [
           "Servicios",
           5.975161078,
           408.618620877
          ],
          [
           "Comercio",
           7.129192126,
           47.05882352
          ],
          [
           "Manufactura",
           2.273429636,
           29.41176471
          ],
          [
           "Manufactura",
           2.097385142,
           273.684210664
          ],
          [
           "Comercio",
           3.030538337,
           11.53846154
          ],
          [
           "Manufactura",
           2.846700531,
           562.763746086
          ],
          [
           "Comercio",
           2.360791615,
           248.555805403
          ],
          [
           "Comercio",
           10.52111942,
           461.369157719
          ],
          [
           "Manufactura",
           2.017259547,
           383.513301194
          ],
          [
           "Servicios",
           2.27290385,
           435.04556983
          ],
          [
           "Servicios",
           0.703147014,
           0
          ],
          [
           "Manufactura",
           25.86091451,
           336.8883709450001
          ],
          [
           "Manufactura",
           2.426039216,
           379.905026537
          ],
          [
           "Manufactura",
           1.697301486,
           451.372015028
          ],
          [
           "Comercio",
           3.188315636,
           356.705882297
          ],
          [
           "Minero",
           1.943851598,
           490.639839541
          ],
          [
           "Comercio",
           5.991097107,
           464.4925518
          ],
          [
           "Comercio",
           2.002301595,
           270.588235368
          ],
          [
           "Agropecuario",
           2.156747414,
           14.28571429
          ],
          [
           "Comercio",
           2.869448009,
           15.789473679999999
          ],
          [
           "Comercio",
           3.134365769,
           0
          ],
          [
           "Servicios",
           6.672179102,
           470.66151623
          ],
          [
           "Servicios",
           2.655177809,
           419.414772472
          ],
          [
           "Comercio",
           24.75201168,
           504.984687583
          ],
          [
           "Servicios",
           2.956157691,
           362.121198506
          ],
          [
           "Comercio",
           4.02823039,
           373.39118786800003
          ],
          [
           "Comercio",
           4.87042346,
           241.17647054700004
          ],
          [
           "Comercio",
           2.046166138,
           341.63817602
          ],
          [
           "Comercio",
           1.928223518,
           23.52941176
          ],
          [
           "Minero",
           5.483318686,
           0
          ],
          [
           "Manufactura",
           1.765339992,
           252.63157892
          ],
          [
           "Manufactura",
           1.831377694,
           178.94732091
          ],
          [
           "Comercio",
           16.07768865,
           393.108415658
          ],
          [
           "Comercio",
           169.222093544,
           273.01639218057403
          ],
          [
           "Construcción",
           10.524422709,
           250.53121884474731
          ],
          [
           "Agropecuario",
           7.605242682,
           71.45717231831176
          ],
          [
           "Manufactura",
           88.837588463,
           327.41372516884303
          ],
          [
           "Servicios",
           125.628304493,
           415.5064354740303
          ],
          [
           "Minero",
           150.441824834,
           488.35288706693154
          ],
          [
           "(?)",
           552.259476725,
           369.6365094800743
          ]
         ],
         "domain": {
          "x": [
           0,
           1
          ],
          "y": [
           0,
           1
          ]
         },
         "hovertemplate": "<b>%{label}</b><br><br>Macrosector: %{customdata[0]}<br>Ingresos Operacionales (Tamaño): %{value:,.2f}<br>Puntaje Sostenibilidad (Color): %{color:.2f}<extra></extra>",
         "ids": [
          "Todas las Empresas/Comercio/ARA",
          "Todas las Empresas/Construcción/ARQUITECTURA Y CONCRETO",
          "Todas las Empresas/Construcción/AUTOPISTA RIO MAGDALENA SAS",
          "Todas las Empresas/Agropecuario/AVICOLA EL MADROÑO SA",
          "Todas las Empresas/Agropecuario/AVSA",
          "Todas las Empresas/Agropecuario/Aliar",
          "Todas las Empresas/Manufactura/Alimentos Carnicos (Grupo Nutresa)",
          "Todas las Empresas/Manufactura/Alpina",
          "Todas las Empresas/Construcción/Amarilo",
          "Todas las Empresas/Servicios/Avianca",
          "Todas las Empresas/Manufactura/BEL STAR S.A.",
          "Todas las Empresas/Manufactura/Bavaria (Kopps)",
          "Todas las Empresas/Comercio/Biomax",
          "Todas las Empresas/Minero/C.I Prodeco",
          "Todas las Empresas/Manufactura/CARTON DE COLOMBIA S.A. (Smurfit Kappa)",
          "Todas las Empresas/Comercio/CI Eslop",
          "Todas las Empresas/Construcción/CONCESIONARIA VIAL UNIÓN DEL SUR SAS",
          "Todas las Empresas/Construcción/CONSTRUCCIONES EL CONDOR S.A",
          "Todas las Empresas/Construcción/CONSTRUCTORA CAPITAL BOGOTA SAS",
          "Todas las Empresas/Construcción/CONSTRUCTORA COLPATRIA  SAS",
          "Todas las Empresas/Servicios/Celsia",
          "Todas las Empresas/Manufactura/Cementos Argos",
          "Todas las Empresas/Comercio/Cencosud",
          "Todas las Empresas/Servicios/Cenit",
          "Todas las Empresas/Minero/Cerrejón",
          "Todas las Empresas/Comercio/Chevron",
          "Todas las Empresas/Servicios/Claro",
          "Todas las Empresas/Manufactura/Coca Cola- Femsa",
          "Todas las Empresas/Manufactura/Colgate",
          "Todas las Empresas/Manufactura/Colombina",
          "Todas las Empresas/Manufactura/Compañía Nacional de Chocolates",
          "Todas las Empresas/Construcción/Conconcreto",
          "Todas las Empresas/Comercio/Corbeta",
          "Todas las Empresas/Comercio/Cruz Verde",
          "Todas las Empresas/Comercio/D1",
          "Todas las Empresas/Comercio/Distracom",
          "Todas las Empresas/Minero/Drummond",
          "Todas las Empresas/Servicios/EPM",
          "Todas las Empresas/Manufactura/ES Windows",
          "Todas las Empresas/Minero/Ecopetrol",
          "Todas las Empresas/Servicios/Emgesa",
          "Todas las Empresas/Manufactura/Esenttia",
          "Todas las Empresas/Comercio/Falabella",
          "Todas las Empresas/Minero/Frontera Energy",
          "Todas las Empresas/Servicios/GEB",
          "Todas las Empresas/Servicios/Gases del Caribe",
          "Todas las Empresas/Manufactura/General Motors",
          "Todas las Empresas/Minero/Geopark",
          "Todas las Empresas/Minero/Gran Tierra Energy",
          "Todas las Empresas/Agropecuario/Grupo Bios",
          "Todas las Empresas/Manufactura/Grupo Diana",
          "Todas las Empresas/Manufactura/Haceb",
          "Todas las Empresas/Minero/Hocol",
          "Todas las Empresas/Agropecuario/INCUBADORA SANTANDER S.A. (Huevos Kikes)",
          "Todas las Empresas/Servicios/ISA",
          "Todas las Empresas/Construcción/ISMOCOL SA",
          "Todas las Empresas/Servicios/Isagen",
          "Todas las Empresas/Manufactura/Italcol",
          "Todas las Empresas/Servicios/LATAM",
          "Todas las Empresas/Construcción/MARVAL S.A.S.",
          "Todas las Empresas/Comercio/Mazda",
          "Todas las Empresas/Servicios/Mercado Libre",
          "Todas las Empresas/Manufactura/Nestle",
          "Todas las Empresas/Servicios/Oleoducto Central (Ocensa)",
          "Todas las Empresas/Comercio/Olímpica",
          "Todas las Empresas/Manufactura/POLLOS EL BUCANERO S.A. (Cargill)",
          "Todas las Empresas/Manufactura/Pepsico",
          "Todas las Empresas/Comercio/Petromil",
          "Todas las Empresas/Manufactura/Postobón",
          "Todas las Empresas/Comercio/Pricesmart",
          "Todas las Empresas/Comercio/Primax",
          "Todas las Empresas/Manufactura/Productos Familia (Essity)",
          "Todas las Empresas/Servicios/Promigas",
          "Todas las Empresas/Servicios/Rappi",
          "Todas las Empresas/Manufactura/Reficar",
          "Todas las Empresas/Manufactura/Renault",
          "Todas las Empresas/Manufactura/Riopaila Castilla",
          "Todas las Empresas/Comercio/Samsung",
          "Todas las Empresas/Minero/SierraCol Energy",
          "Todas las Empresas/Comercio/Sodimac (Homecenter)",
          "Todas las Empresas/Comercio/Sucafina",
          "Todas las Empresas/Agropecuario/Sunshine Bouquet",
          "Todas las Empresas/Comercio/Suramerica Comercial (Dollar City)",
          "Todas las Empresas/Comercio/Tecnoquimicas",
          "Todas las Empresas/Servicios/Telefónica",
          "Todas las Empresas/Servicios/Teleperformance",
          "Todas las Empresas/Comercio/Terpel",
          "Todas las Empresas/Servicios/Tigo",
          "Todas las Empresas/Comercio/Toyota",
          "Todas las Empresas/Comercio/Trafigura (Petroleum)",
          "Todas las Empresas/Comercio/Uniban",
          "Todas las Empresas/Comercio/Unilever",
          "Todas las Empresas/Minero/Verano energy",
          "Todas las Empresas/Manufactura/YARA COLOMBIA S.A.",
          "Todas las Empresas/Manufactura/Yamaha",
          "Todas las Empresas/Comercio/Éxito",
          "Todas las Empresas/Comercio",
          "Todas las Empresas/Construcción",
          "Todas las Empresas/Agropecuario",
          "Todas las Empresas/Manufactura",
          "Todas las Empresas/Servicios",
          "Todas las Empresas/Minero",
          "Todas las Empresas"
         ],
         "labels": [
          "ARA",
          "ARQUITECTURA Y CONCRETO",
          "AUTOPISTA RIO MAGDALENA SAS",
          "AVICOLA EL MADROÑO SA",
          "AVSA",
          "Aliar",
          "Alimentos Carnicos (Grupo Nutresa)",
          "Alpina",
          "Amarilo",
          "Avianca",
          "BEL STAR S.A.",
          "Bavaria (Kopps)",
          "Biomax",
          "C.I Prodeco",
          "CARTON DE COLOMBIA S.A. (Smurfit Kappa)",
          "CI Eslop",
          "CONCESIONARIA VIAL UNIÓN DEL SUR SAS",
          "CONSTRUCCIONES EL CONDOR S.A",
          "CONSTRUCTORA CAPITAL BOGOTA SAS",
          "CONSTRUCTORA COLPATRIA  SAS",
          "Celsia",
          "Cementos Argos",
          "Cencosud",
          "Cenit",
          "Cerrejón",
          "Chevron",
          "Claro",
          "Coca Cola- Femsa",
          "Colgate",
          "Colombina",
          "Compañía Nacional de Chocolates",
          "Conconcreto",
          "Corbeta",
          "Cruz Verde",
          "D1",
          "Distracom",
          "Drummond",
          "EPM",
          "ES Windows",
          "Ecopetrol",
          "Emgesa",
          "Esenttia",
          "Falabella",
          "Frontera Energy",
          "GEB",
          "Gases del Caribe",
          "General Motors",
          "Geopark",
          "Gran Tierra Energy",
          "Grupo Bios",
          "Grupo Diana",
          "Haceb",
          "Hocol",
          "INCUBADORA SANTANDER S.A. (Huevos Kikes)",
          "ISA",
          "ISMOCOL SA",
          "Isagen",
          "Italcol",
          "LATAM",
          "MARVAL S.A.S.",
          "Mazda",
          "Mercado Libre",
          "Nestle",
          "Oleoducto Central (Ocensa)",
          "Olímpica",
          "POLLOS EL BUCANERO S.A. (Cargill)",
          "Pepsico",
          "Petromil",
          "Postobón",
          "Pricesmart",
          "Primax",
          "Productos Familia (Essity)",
          "Promigas",
          "Rappi",
          "Reficar",
          "Renault",
          "Riopaila Castilla",
          "Samsung",
          "SierraCol Energy",
          "Sodimac (Homecenter)",
          "Sucafina",
          "Sunshine Bouquet",
          "Suramerica Comercial (Dollar City)",
          "Tecnoquimicas",
          "Telefónica",
          "Teleperformance",
          "Terpel",
          "Tigo",
          "Toyota",
          "Trafigura (Petroleum)",
          "Uniban",
          "Unilever",
          "Verano energy",
          "YARA COLOMBIA S.A.",
          "Yamaha",
          "Éxito",
          "Comercio",
          "Construcción",
          "Agropecuario",
          "Manufactura",
          "Servicios",
          "Minero",
          "Todas las Empresas"
         ],
         "marker": {
          "coloraxis": "coloraxis",
          "colors": {
           "bdata": "AAAAAAAAAAAAAAAAAAAAAAeZVbmvPH1AAAAAAAAAAACld79EmxJNQFGds6qqynNAuctnQYTDf0DLyFFnK9x6QMRJjRVszHdAwBUtmVPpdEAfp870ST5zQAMeKiO0gm1AAAAAAAAAAADeaXxwCIdGQIjoMI8nUXlAW1Fzh4eHJ0DWWNEF9mFxQIhVr2dHLGdAcqABoac9YkBbZR3DMExpQJzJcYaGa3xAuJUm8UYff0A6ljAAAIBzQNm4PcLauXxAHoa+ClTMckCXKxeFyAFnQF1G1aI6mHxA1Sp2C9e2ekBs2py1ESdyQDhDAiqGM4BAg+9tYieMb0AqzSXWC21yQAAAAAAAAAAARc2FAYvQd0BU+NNJ9QZ4QFtRc4eHhydAA1MhrHctgUCic+kll5F5QErz1t9bAXZAYYxXPxNTgECTj7z35ESAQIxiPd4xg4FAvxQMUXfBfUDZDMv6uHx7QEj8ZG5RdXlA8pWM2GGackDzLyGdpAt1QPytrFPCBIBAt0BXYgt8dUCzY+HzPI9hQAAAAAAAAAAA9wM8boLEfEAFhMLfsJx9QAAAAAAAAAAA5cgUvb1xeUDQGHtpaWk9QKGW0nJhJHBAAAAAAAAAAADerScYgKR4QI6oLc4o5m5ACmx1CfzWcEDHp5N7UEtzQP5k2J3YSW5AaDUB3+WJeUBbUXOHh4dHQNAYe2lpaT1ARZfhhvIacUBY6CA7sRMnQItu6CYcloFAZ5ppKMkRb0C8ouwR6NV8QKUTUHs2+HdAjBhup7owe0AAAAAAAAAAAN+3c8Q2DnVA1iYb/Xq+d0AXrgfG8zV8QAxHPEtLS3ZAhvRiyDyqfkBgCf994Qd9QJI+fWlp6XBAhxm3JEmSLEA3TunkNZQvQAAAAAAAAAAA+dkKkpVqfUBWqHXoojZ6QDJcxEfBj39AgTnYbfChdkBvujVOQlZ3QFGCj6WlJW5A3e8O+DVadUBbUXOHh4c3QAAAAAAAAAAAx8f+5DWUb0CL6PBzUF5mQMCXDhK8kXhAnHdyJEMQcUCtpqm+/1BvQEbyrk9C3VFAaFtInp52dEDpZxVcGvh5QHC66GylhX5ANoiQJC8ad0A=",
           "dtype": "f8"
          }
         },
         "name": "",
         "parents": [
          "Todas las Empresas/Comercio",
          "Todas las Empresas/Construcción",
          "Todas las Empresas/Construcción",
          "Todas las Empresas/Agropecuario",
          "Todas las Empresas/Agropecuario",
          "Todas las Empresas/Agropecuario",
          "Todas las Empresas/Manufactura",
          "Todas las Empresas/Manufactura",
          "Todas las Empresas/Construcción",
          "Todas las Empresas/Servicios",
          "Todas las Empresas/Manufactura",
          "Todas las Empresas/Manufactura",
          "Todas las Empresas/Comercio",
          "Todas las Empresas/Minero",
          "Todas las Empresas/Manufactura",
          "Todas las Empresas/Comercio",
          "Todas las Empresas/Construcción",
          "Todas las Empresas/Construcción",
          "Todas las Empresas/Construcción",
          "Todas las Empresas/Construcción",
          "Todas las Empresas/Servicios",
          "Todas las Empresas/Manufactura",
          "Todas las Empresas/Comercio",
          "Todas las Empresas/Servicios",
          "Todas las Empresas/Minero",
          "Todas las Empresas/Comercio",
          "Todas las Empresas/Servicios",
          "Todas las Empresas/Manufactura",
          "Todas las Empresas/Manufactura",
          "Todas las Empresas/Manufactura",
          "Todas las Empresas/Manufactura",
          "Todas las Empresas/Construcción",
          "Todas las Empresas/Comercio",
          "Todas las Empresas/Comercio",
          "Todas las Empresas/Comercio",
          "Todas las Empresas/Comercio",
          "Todas las Empresas/Minero",
          "Todas las Empresas/Servicios",
          "Todas las Empresas/Manufactura",
          "Todas las Empresas/Minero",
          "Todas las Empresas/Servicios",
          "Todas las Empresas/Manufactura",
          "Todas las Empresas/Comercio",
          "Todas las Empresas/Minero",
          "Todas las Empresas/Servicios",
          "Todas las Empresas/Servicios",
          "Todas las Empresas/Manufactura",
          "Todas las Empresas/Minero",
          "Todas las Empresas/Minero",
          "Todas las Empresas/Agropecuario",
          "Todas las Empresas/Manufactura",
          "Todas las Empresas/Manufactura",
          "Todas las Empresas/Minero",
          "Todas las Empresas/Agropecuario",
          "Todas las Empresas/Servicios",
          "Todas las Empresas/Construcción",
          "Todas las Empresas/Servicios",
          "Todas las Empresas/Manufactura",
          "Todas las Empresas/Servicios",
          "Todas las Empresas/Construcción",
          "Todas las Empresas/Comercio",
          "Todas las Empresas/Servicios",
          "Todas las Empresas/Manufactura",
          "Todas las Empresas/Servicios",
          "Todas las Empresas/Comercio",
          "Todas las Empresas/Manufactura",
          "Todas las Empresas/Manufactura",
          "Todas las Empresas/Comercio",
          "Todas las Empresas/Manufactura",
          "Todas las Empresas/Comercio",
          "Todas las Empresas/Comercio",
          "Todas las Empresas/Manufactura",
          "Todas las Empresas/Servicios",
          "Todas las Empresas/Servicios",
          "Todas las Empresas/Manufactura",
          "Todas las Empresas/Manufactura",
          "Todas las Empresas/Manufactura",
          "Todas las Empresas/Comercio",
          "Todas las Empresas/Minero",
          "Todas las Empresas/Comercio",
          "Todas las Empresas/Comercio",
          "Todas las Empresas/Agropecuario",
          "Todas las Empresas/Comercio",
          "Todas las Empresas/Comercio",
          "Todas las Empresas/Servicios",
          "Todas las Empresas/Servicios",
          "Todas las Empresas/Comercio",
          "Todas las Empresas/Servicios",
          "Todas las Empresas/Comercio",
          "Todas las Empresas/Comercio",
          "Todas las Empresas/Comercio",
          "Todas las Empresas/Comercio",
          "Todas las Empresas/Minero",
          "Todas las Empresas/Manufactura",
          "Todas las Empresas/Manufactura",
          "Todas las Empresas/Comercio",
          "Todas las Empresas",
          "Todas las Empresas",
          "Todas las Empresas",
          "Todas las Empresas",
          "Todas las Empresas",
          "Todas las Empresas",
          ""
         ],
         "type": "treemap",
         "values": {
          "bdata": "CTS3xpCpK0D5wGo5i6/oP6kPYVI1B/U/cFRQTDzC5j93vgf+o2IDQHES1gj1S+8/wPBeds7BBkCvnKaXZGkBQGt8+3qLfQFAtnktMks2LkA58psdBPj9P3GFlsZGOyFAix62/NkMEkB0XJ/PBqTsP5KecBb5dPw/d3/vSFKg/z/07VzMWpDoP1ChoRxYCPM/ksMEjjQD9T+/7tcRReDnP9O/a2q1MBpAMK4CxkSE/T+qANiz+dkQQPnTLdiZ9CNA4jtIhzswGEA4ukp313kXQDXby2xGNC9AF7jwR0elFEDlpk9whg4DQEEXfLboigFAE943ISEY/z+jD5P5Eu3fP9oMR8KExidAmaz5De0LFkCLcHJDfHAzQCe7IsPt/g5AJYVHVfL9JkD3ZbzvEJM0QDlGcCvW/wRA1qMVhBd7XEAygny/h48vQOxdYK/gfQJAvFUwWuJ1AkA4E5YiQAARQCRrVnutuw1AWK/q+KQVBUBjvTqP1mXzP49kKW7pXANAqrab4Jsm9T8zyrloVkPcPzQokJU84wNAQ0JAMNpy9T8Lonn2GEkFQJjK7D2mn+w/YDurFCGGEEB6FyS6vQ3oP6JCloHaihhA1narmF6DCUDpPeQZc6ACQIbRg+3th+8/3JHLLgHo/T9su1KUILv9P+rf3PwSWwBAUV4poJDmF0BpSNDwSoQcQHkEg+D7LwJA7wyA3HHHAECJgzXiij4IQOk0ke0KxgZAqMTYtubiAkDFayQq0AolQCxFL/lYIwBAs561NuguAkAqH60qLoDmPxQaseRk3DlAkUScP4doA0C9J12aJSj7P0OQz6CrgQlAV/8aIgQa/z+e5vYo4vYXQHMH2rK2BABAjObGyQRBAUCK0WEoofQGQIN0PFwuEwlAH5Twt0+wGkBtwvXczT0FQF3PY9aDwDhAnU/lADamB0CbNmdt6BwQQBJ8mUlQexNAFyQnWoxeAEBTAlPnANr+P6up9xfr7hVA2l+/JdU+/D+OqWWyUk39PzgFQ2fjEzBAP4TrYxsnZUCU3iAigQwlQFRV1bzEax5A4gWkDJs1VkBaVwwkNmhfQOaS1W0jzmJAln+IaBNCgUA=",
          "dtype": "f8"
         }
        }
       ],
       "layout": {
        "coloraxis": {
         "cmid": 369.6365094800743,
         "colorbar": {
          "title": {
           "text": "Puntaje_Total_Sostenibilidad"
          }
         },
         "colorscale": [
          [
           0,
           "rgb(247,251,255)"
          ],
          [
           0.125,
           "rgb(222,235,247)"
          ],
          [
           0.25,
           "rgb(198,219,239)"
          ],
          [
           0.375,
           "rgb(158,202,225)"
          ],
          [
           0.5,
           "rgb(107,174,214)"
          ],
          [
           0.625,
           "rgb(66,146,198)"
          ],
          [
           0.75,
           "rgb(33,113,181)"
          ],
          [
           0.875,
           "rgb(8,81,156)"
          ],
          [
           1,
           "rgb(8,48,107)"
          ]
         ]
        },
        "font": {
         "color": "black",
         "family": "Arial, sans-serif",
         "size": 14
        },
        "legend": {
         "tracegroupgap": 0
        },
        "margin": {
         "b": 25,
         "l": 25,
         "r": 25,
         "t": 60
        },
        "template": {
         "data": {
          "bar": [
           {
            "error_x": {
             "color": "#2a3f5f"
            },
            "error_y": {
             "color": "#2a3f5f"
            },
            "marker": {
             "line": {
              "color": "#E5ECF6",
              "width": 0.5
             },
             "pattern": {
              "fillmode": "overlay",
              "size": 10,
              "solidity": 0.2
             }
            },
            "type": "bar"
           }
          ],
          "barpolar": [
           {
            "marker": {
             "line": {
              "color": "#E5ECF6",
              "width": 0.5
             },
             "pattern": {
              "fillmode": "overlay",
              "size": 10,
              "solidity": 0.2
             }
            },
            "type": "barpolar"
           }
          ],
          "carpet": [
           {
            "aaxis": {
             "endlinecolor": "#2a3f5f",
             "gridcolor": "white",
             "linecolor": "white",
             "minorgridcolor": "white",
             "startlinecolor": "#2a3f5f"
            },
            "baxis": {
             "endlinecolor": "#2a3f5f",
             "gridcolor": "white",
             "linecolor": "white",
             "minorgridcolor": "white",
             "startlinecolor": "#2a3f5f"
            },
            "type": "carpet"
           }
          ],
          "choropleth": [
           {
            "colorbar": {
             "outlinewidth": 0,
             "ticks": ""
            },
            "type": "choropleth"
           }
          ],
          "contour": [
           {
            "colorbar": {
             "outlinewidth": 0,
             "ticks": ""
            },
            "colorscale": [
             [
              0,
              "#0d0887"
             ],
             [
              0.1111111111111111,
              "#46039f"
             ],
             [
              0.2222222222222222,
              "#7201a8"
             ],
             [
              0.3333333333333333,
              "#9c179e"
             ],
             [
              0.4444444444444444,
              "#bd3786"
             ],
             [
              0.5555555555555556,
              "#d8576b"
             ],
             [
              0.6666666666666666,
              "#ed7953"
             ],
             [
              0.7777777777777778,
              "#fb9f3a"
             ],
             [
              0.8888888888888888,
              "#fdca26"
             ],
             [
              1,
              "#f0f921"
             ]
            ],
            "type": "contour"
           }
          ],
          "contourcarpet": [
           {
            "colorbar": {
             "outlinewidth": 0,
             "ticks": ""
            },
            "type": "contourcarpet"
           }
          ],
          "heatmap": [
           {
            "colorbar": {
             "outlinewidth": 0,
             "ticks": ""
            },
            "colorscale": [
             [
              0,
              "#0d0887"
             ],
             [
              0.1111111111111111,
              "#46039f"
             ],
             [
              0.2222222222222222,
              "#7201a8"
             ],
             [
              0.3333333333333333,
              "#9c179e"
             ],
             [
              0.4444444444444444,
              "#bd3786"
             ],
             [
              0.5555555555555556,
              "#d8576b"
             ],
             [
              0.6666666666666666,
              "#ed7953"
             ],
             [
              0.7777777777777778,
              "#fb9f3a"
             ],
             [
              0.8888888888888888,
              "#fdca26"
             ],
             [
              1,
              "#f0f921"
             ]
            ],
            "type": "heatmap"
           }
          ],
          "histogram": [
           {
            "marker": {
             "pattern": {
              "fillmode": "overlay",
              "size": 10,
              "solidity": 0.2
             }
            },
            "type": "histogram"
           }
          ],
          "histogram2d": [
           {
            "colorbar": {
             "outlinewidth": 0,
             "ticks": ""
            },
            "colorscale": [
             [
              0,
              "#0d0887"
             ],
             [
              0.1111111111111111,
              "#46039f"
             ],
             [
              0.2222222222222222,
              "#7201a8"
             ],
             [
              0.3333333333333333,
              "#9c179e"
             ],
             [
              0.4444444444444444,
              "#bd3786"
             ],
             [
              0.5555555555555556,
              "#d8576b"
             ],
             [
              0.6666666666666666,
              "#ed7953"
             ],
             [
              0.7777777777777778,
              "#fb9f3a"
             ],
             [
              0.8888888888888888,
              "#fdca26"
             ],
             [
              1,
              "#f0f921"
             ]
            ],
            "type": "histogram2d"
           }
          ],
          "histogram2dcontour": [
           {
            "colorbar": {
             "outlinewidth": 0,
             "ticks": ""
            },
            "colorscale": [
             [
              0,
              "#0d0887"
             ],
             [
              0.1111111111111111,
              "#46039f"
             ],
             [
              0.2222222222222222,
              "#7201a8"
             ],
             [
              0.3333333333333333,
              "#9c179e"
             ],
             [
              0.4444444444444444,
              "#bd3786"
             ],
             [
              0.5555555555555556,
              "#d8576b"
             ],
             [
              0.6666666666666666,
              "#ed7953"
             ],
             [
              0.7777777777777778,
              "#fb9f3a"
             ],
             [
              0.8888888888888888,
              "#fdca26"
             ],
             [
              1,
              "#f0f921"
             ]
            ],
            "type": "histogram2dcontour"
           }
          ],
          "mesh3d": [
           {
            "colorbar": {
             "outlinewidth": 0,
             "ticks": ""
            },
            "type": "mesh3d"
           }
          ],
          "parcoords": [
           {
            "line": {
             "colorbar": {
              "outlinewidth": 0,
              "ticks": ""
             }
            },
            "type": "parcoords"
           }
          ],
          "pie": [
           {
            "automargin": true,
            "type": "pie"
           }
          ],
          "scatter": [
           {
            "fillpattern": {
             "fillmode": "overlay",
             "size": 10,
             "solidity": 0.2
            },
            "type": "scatter"
           }
          ],
          "scatter3d": [
           {
            "line": {
             "colorbar": {
              "outlinewidth": 0,
              "ticks": ""
             }
            },
            "marker": {
             "colorbar": {
              "outlinewidth": 0,
              "ticks": ""
             }
            },
            "type": "scatter3d"
           }
          ],
          "scattercarpet": [
           {
            "marker": {
             "colorbar": {
              "outlinewidth": 0,
              "ticks": ""
             }
            },
            "type": "scattercarpet"
           }
          ],
          "scattergeo": [
           {
            "marker": {
             "colorbar": {
              "outlinewidth": 0,
              "ticks": ""
             }
            },
            "type": "scattergeo"
           }
          ],
          "scattergl": [
           {
            "marker": {
             "colorbar": {
              "outlinewidth": 0,
              "ticks": ""
             }
            },
            "type": "scattergl"
           }
          ],
          "scattermap": [
           {
            "marker": {
             "colorbar": {
              "outlinewidth": 0,
              "ticks": ""
             }
            },
            "type": "scattermap"
           }
          ],
          "scattermapbox": [
           {
            "marker": {
             "colorbar": {
              "outlinewidth": 0,
              "ticks": ""
             }
            },
            "type": "scattermapbox"
           }
          ],
          "scatterpolar": [
           {
            "marker": {
             "colorbar": {
              "outlinewidth": 0,
              "ticks": ""
             }
            },
            "type": "scatterpolar"
           }
          ],
          "scatterpolargl": [
           {
            "marker": {
             "colorbar": {
              "outlinewidth": 0,
              "ticks": ""
             }
            },
            "type": "scatterpolargl"
           }
          ],
          "scatterternary": [
           {
            "marker": {
             "colorbar": {
              "outlinewidth": 0,
              "ticks": ""
             }
            },
            "type": "scatterternary"
           }
          ],
          "surface": [
           {
            "colorbar": {
             "outlinewidth": 0,
             "ticks": ""
            },
            "colorscale": [
             [
              0,
              "#0d0887"
             ],
             [
              0.1111111111111111,
              "#46039f"
             ],
             [
              0.2222222222222222,
              "#7201a8"
             ],
             [
              0.3333333333333333,
              "#9c179e"
             ],
             [
              0.4444444444444444,
              "#bd3786"
             ],
             [
              0.5555555555555556,
              "#d8576b"
             ],
             [
              0.6666666666666666,
              "#ed7953"
             ],
             [
              0.7777777777777778,
              "#fb9f3a"
             ],
             [
              0.8888888888888888,
              "#fdca26"
             ],
             [
              1,
              "#f0f921"
             ]
            ],
            "type": "surface"
           }
          ],
          "table": [
           {
            "cells": {
             "fill": {
              "color": "#EBF0F8"
             },
             "line": {
              "color": "white"
             }
            },
            "header": {
             "fill": {
              "color": "#C8D4E3"
             },
             "line": {
              "color": "white"
             }
            },
            "type": "table"
           }
          ]
         },
         "layout": {
          "annotationdefaults": {
           "arrowcolor": "#2a3f5f",
           "arrowhead": 0,
           "arrowwidth": 1
          },
          "autotypenumbers": "strict",
          "coloraxis": {
           "colorbar": {
            "outlinewidth": 0,
            "ticks": ""
           }
          },
          "colorscale": {
           "diverging": [
            [
             0,
             "#8e0152"
            ],
            [
             0.1,
             "#c51b7d"
            ],
            [
             0.2,
             "#de77ae"
            ],
            [
             0.3,
             "#f1b6da"
            ],
            [
             0.4,
             "#fde0ef"
            ],
            [
             0.5,
             "#f7f7f7"
            ],
            [
             0.6,
             "#e6f5d0"
            ],
            [
             0.7,
             "#b8e186"
            ],
            [
             0.8,
             "#7fbc41"
            ],
            [
             0.9,
             "#4d9221"
            ],
            [
             1,
             "#276419"
            ]
           ],
           "sequential": [
            [
             0,
             "#0d0887"
            ],
            [
             0.1111111111111111,
             "#46039f"
            ],
            [
             0.2222222222222222,
             "#7201a8"
            ],
            [
             0.3333333333333333,
             "#9c179e"
            ],
            [
             0.4444444444444444,
             "#bd3786"
            ],
            [
             0.5555555555555556,
             "#d8576b"
            ],
            [
             0.6666666666666666,
             "#ed7953"
            ],
            [
             0.7777777777777778,
             "#fb9f3a"
            ],
            [
             0.8888888888888888,
             "#fdca26"
            ],
            [
             1,
             "#f0f921"
            ]
           ],
           "sequentialminus": [
            [
             0,
             "#0d0887"
            ],
            [
             0.1111111111111111,
             "#46039f"
            ],
            [
             0.2222222222222222,
             "#7201a8"
            ],
            [
             0.3333333333333333,
             "#9c179e"
            ],
            [
             0.4444444444444444,
             "#bd3786"
            ],
            [
             0.5555555555555556,
             "#d8576b"
            ],
            [
             0.6666666666666666,
             "#ed7953"
            ],
            [
             0.7777777777777778,
             "#fb9f3a"
            ],
            [
             0.8888888888888888,
             "#fdca26"
            ],
            [
             1,
             "#f0f921"
            ]
           ]
          },
          "colorway": [
           "#636efa",
           "#EF553B",
           "#00cc96",
           "#ab63fa",
           "#FFA15A",
           "#19d3f3",
           "#FF6692",
           "#B6E880",
           "#FF97FF",
           "#FECB52"
          ],
          "font": {
           "color": "#2a3f5f"
          },
          "geo": {
           "bgcolor": "white",
           "lakecolor": "white",
           "landcolor": "#E5ECF6",
           "showlakes": true,
           "showland": true,
           "subunitcolor": "white"
          },
          "hoverlabel": {
           "align": "left"
          },
          "hovermode": "closest",
          "mapbox": {
           "style": "light"
          },
          "paper_bgcolor": "white",
          "plot_bgcolor": "#E5ECF6",
          "polar": {
           "angularaxis": {
            "gridcolor": "white",
            "linecolor": "white",
            "ticks": ""
           },
           "bgcolor": "#E5ECF6",
           "radialaxis": {
            "gridcolor": "white",
            "linecolor": "white",
            "ticks": ""
           }
          },
          "scene": {
           "xaxis": {
            "backgroundcolor": "#E5ECF6",
            "gridcolor": "white",
            "gridwidth": 2,
            "linecolor": "white",
            "showbackground": true,
            "ticks": "",
            "zerolinecolor": "white"
           },
           "yaxis": {
            "backgroundcolor": "#E5ECF6",
            "gridcolor": "white",
            "gridwidth": 2,
            "linecolor": "white",
            "showbackground": true,
            "ticks": "",
            "zerolinecolor": "white"
           },
           "zaxis": {
            "backgroundcolor": "#E5ECF6",
            "gridcolor": "white",
            "gridwidth": 2,
            "linecolor": "white",
            "showbackground": true,
            "ticks": "",
            "zerolinecolor": "white"
           }
          },
          "shapedefaults": {
           "line": {
            "color": "#2a3f5f"
           }
          },
          "ternary": {
           "aaxis": {
            "gridcolor": "white",
            "linecolor": "white",
            "ticks": ""
           },
           "baxis": {
            "gridcolor": "white",
            "linecolor": "white",
            "ticks": ""
           },
           "bgcolor": "#E5ECF6",
           "caxis": {
            "gridcolor": "white",
            "linecolor": "white",
            "ticks": ""
           }
          },
          "title": {
           "x": 0.05
          },
          "xaxis": {
           "automargin": true,
           "gridcolor": "white",
           "linecolor": "white",
           "ticks": "",
           "title": {
            "standoff": 15
           },
           "zerolinecolor": "white",
           "zerolinewidth": 2
          },
          "yaxis": {
           "automargin": true,
           "gridcolor": "white",
           "linecolor": "white",
           "ticks": "",
           "title": {
            "standoff": 15
           },
           "zerolinecolor": "white",
           "zerolinewidth": 2
          }
         }
        },
        "title": {
         "text": "<b>Treemap de Impacto: Sostenibilidad y Peso Económico</b><br><sup>El tamaño representa los Ingresos Operacionales, el color el Desempeño en Sostenibilidad</sup>",
         "x": 0.5
        }
       }
      }
     },
     "metadata": {},
     "output_type": "display_data"
    }
   ],
   "source": [
    "raw_data['valoracionPonderada'] = pd.to_numeric(raw_data['valoracionPonderada'], errors='coerce').fillna(0)\n",
    "raw_data['Ingresos operacionales'] = pd.to_numeric(raw_data['Ingresos operacionales'], errors='coerce').fillna(0)\n",
    "# 2. Agregación de Datos por Empresa\n",
    "# El dataset original tiene múltiples filas por empresa (una por cada 'Variable').\n",
    "# Necesitamos una única fila por empresa con sus datos agregados.\n",
    "company_agg_data = raw_data.groupby('Razón social').agg(\n",
    "    # Se suma la 'valoracionPonderada' para obtener el puntaje total de sostenibilidad.\n",
    "    Puntaje_Total_Sostenibilidad=('valoracionPonderada', 'sum'),\n",
    "    # Se toma el primer valor de 'Ingresos operacionales' y 'Macrosector',\n",
    "    # ya que estos deberían ser constantes para cada empresa.\n",
    "    Ingresos_Operacionales=('Ingresos operacionales', 'first'),\n",
    "    Macrosector=('Macrosector', 'first')\n",
    ").reset_index()\n",
    "\n",
    "# Para una visualización más efectiva, filtramos empresas con ingresos nulos o negativos.\n",
    "company_agg_data = company_agg_data[company_agg_data['Ingresos_Operacionales'] > 0]\n",
    "\n",
    "# 3. Creación del Gráfico Treemap con Plotly Express\n",
    "# Plotly Express permite crear figuras complejas con una sintaxis sencilla.\n",
    "fig_treemap = px.treemap(\n",
    "    company_agg_data,\n",
    "    # La jerarquía define cómo se anidan los rectángulos.\n",
    "    # Se añade una raíz común (\"Todas las Empresas\") para una mejor navegación.\n",
    "    path=[px.Constant(\"Todas las Empresas\"), 'Macrosector', 'Razón social'],\n",
    "    # El tamaño de cada rectángulo será proporcional a los ingresos.\n",
    "    values='Ingresos_Operacionales',\n",
    "    # El color de cada rectángulo se mapea al puntaje de sostenibilidad.\n",
    "    color='Puntaje_Total_Sostenibilidad',\n",
    "    hover_data={\n",
    "        'Macrosector': True,\n",
    "        'Ingresos_Operacionales': ':.2f', # Formato de dos decimales para el hover\n",
    "        'Puntaje_Total_Sostenibilidad': ':.2f'\n",
    "    },\n",
    "    # Se elige una escala de color intuitiva: Rojo (bajo) -> Amarillo (medio) -> Verde (alto).\n",
    "    color_continuous_scale='blues',\n",
    "    # Se establece el punto medio de la escala de color en el promedio ponderado del puntaje,\n",
    "    # lo que da una mejor representación visual de quién está por encima o por debajo del promedio.\n",
    "    color_continuous_midpoint=np.average(company_agg_data['Puntaje_Total_Sostenibilidad'], weights=company_agg_data['Ingresos_Operacionales'])\n",
    ")\n",
    "\n",
    "# 4. Personalización y Estilo del Gráfico\n",
    "fig_treemap.update_layout(\n",
    "    title_text='<b>Treemap de Impacto: Sostenibilidad y Peso Económico</b><br><sup>El tamaño representa los Ingresos Operacionales, el color el Desempeño en Sostenibilidad</sup>',\n",
    "    title_x=0.5, # Centra el título del gráfico\n",
    "    margin = dict(t=60, l=25, r=25, b=25), # Ajusta los márgenes\n",
    "    font=dict(\n",
    "        family=\"Arial, sans-serif\",\n",
    "        size=14,\n",
    "        color=\"black\"\n",
    "    )\n",
    ")\n",
    "\n",
    "# Se personaliza la información que aparece al pasar el cursor sobre los rectángulos (hover).\n",
    "# Esto mejora la legibilidad y presenta la información de forma clara y concisa.\n",
    "fig_treemap.update_traces(\n",
    "    hovertemplate='<b>%{label}</b><br><br>' +\n",
    "                  'Macrosector: %{customdata[0]}<br>' +\n",
    "                  'Ingresos Operacionales (Tamaño): %{value:,.2f}<br>' +\n",
    "                  'Puntaje Sostenibilidad (Color): %{color:.2f}<extra></extra>' # <extra></extra> oculta información extra de plotly\n",
    ")\n",
    "\n",
    "# Muestra el gráfico interactivo.\n",
    "fig_treemap.show()\n",
    "# Guarda el gráfico como un archivo HTML autocontenido.\n",
    "save_chart_as_html(fig_treemap, '04_treemap_sustainability.html')\n",
    "# Save as image\n",
    "fig_treemap.write_image(\"img/04_treemap_sustainability.png\", width=1000, height=800, scale=2)"
   ]
  },
  {
   "cell_type": "markdown",
   "metadata": {},
   "source": [
    "# **Parte 2: Análisis Relacional y de Composición Jerárquica**"
   ]
  },
  {
   "cell_type": "markdown",
   "metadata": {},
   "source": [
    "## 5. Diagrama de Burbujas: Sostenibilidad vs. Antigüedad Empresarial"
   ]
  },
  {
   "cell_type": "code",
   "execution_count": 22,
   "metadata": {},
   "outputs": [
    {
     "data": {
      "application/vnd.plotly.v1+json": {
       "config": {
        "plotlyServerURL": "https://plot.ly"
       },
       "data": [
        {
         "hovertemplate": "<b>%{hovertext}</b><br><br>Año de Fundación: %{x}<br>Puntaje Sostenibilidad: %{y:.2f}<br>Ingresos Operacionales: %{marker.size:,.0f}<extra></extra>",
         "hovertext": [
          "ARA",
          "Biomax",
          "CI Eslop",
          "Cencosud",
          "Chevron",
          "Corbeta",
          "Cruz Verde",
          "D1",
          "Distracom",
          "Falabella",
          "Mazda",
          "Olímpica",
          "Petromil",
          "Pricesmart",
          "Primax",
          "Samsung",
          "Sodimac (Homecenter)",
          "Sucafina",
          "Suramerica Comercial (Dollar City)",
          "Tecnoquimicas",
          "Terpel",
          "Toyota",
          "Trafigura (Petroleum)",
          "Uniban",
          "Unilever",
          "Éxito"
         ],
         "legendgroup": "Comercio",
         "marker": {
          "color": "#636efa",
          "size": {
           "bdata": "CTS3xpCpK0CLHrb82QwSQHd/70hSoP8/qgDYs/nZEEA4ukp313kXQNoMR8KExidAmaz5De0LFkCLcHJDfHAzQCe7IsPt/g5AvFUwWuJ1AkDckcsuAej9P2lI0PBKhBxAiYM14oo+CECoxNi25uICQMVrJCrQCiVAQ5DPoKuBCUCe5vYo4vYXQHMH2rK2BABAitFhKKH0BkCDdDxcLhMJQF3PY9aDwDhAmzZnbegcEEASfJlJUHsTQBckJ1qMXgBAUwJT5wDa/j84BUNn4xMwQA==",
           "dtype": "f8"
          },
          "sizemode": "area",
          "sizeref": 0.03164536397222222,
          "symbol": "circle"
         },
         "mode": "markers",
         "name": "Comercio",
         "orientation": "v",
         "showlegend": true,
         "type": "scatter",
         "x": {
          "bdata": "3AfUB80HqAdXB5IHwAfZB80HYQeAB6EHxQfJB9UHsQegB7kH2QeOB7AHkQfJB64HiQedBw==",
          "dtype": "i2"
         },
         "xaxis": "x",
         "y": {
          "bdata": "AAAAAAAAAAAAAAAAAAAAAFtRc4eHhydAOpYwAACAc0CWKxeFyAFnQAAAAAAAAAAARc2FAYvQd0BU+NNJ9QZ4QFtRc4eHhydAvxQMUXfBfUAKbHUJ/NZwQFtRc4eHh0dAWOggO7ETJ0BnmmkoyRFvQLyi7BHo1XxADEc8S0tLdkBgCf994Qd9QJI+fWlp6XBAOE7p5DWUL0AAAAAAAAAAADJcxEfBj39Ab7o1TkJWd0BQgo+lpSVuQN3vDvg1WnVAW1Fzh4eHN0DAlw4SvJF4QA==",
          "dtype": "f8"
         },
         "yaxis": "y"
        },
        {
         "hovertemplate": "<b>%{hovertext}</b><br><br>Año de Fundación: %{x}<br>Puntaje Sostenibilidad: %{y:.2f}<br>Ingresos Operacionales: %{marker.size:,.0f}<extra></extra>",
         "hovertext": [
          "ARQUITECTURA Y CONCRETO",
          "AUTOPISTA RIO MAGDALENA SAS",
          "Amarilo",
          "CONCESIONARIA VIAL UNIÓN DEL SUR SAS",
          "CONSTRUCCIONES EL CONDOR S.A",
          "CONSTRUCTORA CAPITAL BOGOTA SAS",
          "CONSTRUCTORA COLPATRIA  SAS",
          "Conconcreto",
          "ISMOCOL SA",
          "MARVAL S.A.S."
         ],
         "legendgroup": "Construcción",
         "marker": {
          "color": "#EF553B",
          "size": {
           "bdata": "+cBqOYuv6D+pD2FSNQf1P2t8+3qLfQFA9O1czFqQ6D9QoaEcWAjzP5LDBI40A/U/v+7XEUXg5z+jD5P5Eu3fP3oXJLq9Deg/htGD7e2H7z8=",
           "dtype": "f8"
          },
          "sizemode": "area",
          "sizeref": 0.03164536397222222,
          "symbol": "circle"
         },
         "mode": "markers",
         "name": "Construcción",
         "orientation": "v",
         "showlegend": true,
         "type": "scatter",
         "x": {
          "bdata": "xgfeB8kH3we7B9gHuQepB8UHuAc=",
          "dtype": "i2"
         },
         "xaxis": "x",
         "y": {
          "bdata": "AAAAAAAAAAAGmVW5rzx9QMRJjRVszHdA1ljRBfZhcUCIVa9nRyxnQHKgAaGnPWJAW2UdwzBMaUAqzSXWC21yQNAYe2lpaT1AjqgtzijmbkA=",
          "dtype": "f8"
         },
         "yaxis": "y"
        },
        {
         "hovertemplate": "<b>%{hovertext}</b><br><br>Año de Fundación: %{x}<br>Puntaje Sostenibilidad: %{y:.2f}<br>Ingresos Operacionales: %{marker.size:,.0f}<extra></extra>",
         "hovertext": [
          "AVICOLA EL MADROÑO SA",
          "AVSA",
          "Aliar",
          "Grupo Bios",
          "INCUBADORA SANTANDER S.A. (Huevos Kikes)",
          "Sunshine Bouquet"
         ],
         "legendgroup": "Agropecuario",
         "marker": {
          "color": "#00cc96",
          "size": {
           "bdata": "cFRQTDzC5j93vgf+o2IDQHES1gj1S+8/M8q5aFZD3D+Yyuw9pp/sP4zmxskEQQFA",
           "dtype": "f8"
          },
          "sizemode": "area",
          "sizeref": 0.03164536397222222,
          "symbol": "circle"
         },
         "mode": "markers",
         "name": "Agropecuario",
         "orientation": "v",
         "showlegend": true,
         "type": "scatter",
         "x": {
          "bdata": "wwexB9cHwQeqB7MH",
          "dtype": "i2"
         },
         "xaxis": "x",
         "y": {
          "bdata": "AAAAAAAAAACld79EmxJNQFGds6qqynNAs2Ph8zyPYUAAAAAAAAAAAIcZtyRJkixA",
          "dtype": "f8"
         },
         "yaxis": "y"
        },
        {
         "hovertemplate": "<b>%{hovertext}</b><br><br>Año de Fundación: %{x}<br>Puntaje Sostenibilidad: %{y:.2f}<br>Ingresos Operacionales: %{marker.size:,.0f}<extra></extra>",
         "hovertext": [
          "Alimentos Carnicos (Grupo Nutresa)",
          "Alpina",
          "BEL STAR S.A.",
          "Bavaria (Kopps)",
          "CARTON DE COLOMBIA S.A. (Smurfit Kappa)",
          "Cementos Argos",
          "Coca Cola- Femsa",
          "Colgate",
          "Colombina",
          "Compañía Nacional de Chocolates",
          "ES Windows",
          "Esenttia",
          "General Motors",
          "Grupo Diana",
          "Haceb",
          "Italcol",
          "Nestle",
          "POLLOS EL BUCANERO S.A. (Cargill)",
          "Pepsico",
          "Postobón",
          "Productos Familia (Essity)",
          "Reficar",
          "Renault",
          "Riopaila Castilla",
          "YARA COLOMBIA S.A.",
          "Yamaha"
         ],
         "legendgroup": "Manufactura",
         "marker": {
          "color": "#ab63fa",
          "size": {
           "bdata": "wPBeds7BBkCvnKaXZGkBQDnymx0E+P0/cYWWxkY7IUCSnnAW+XT8PzCuAsZEhP0/F7jwR0elFEDlpk9whg4DQEEXfLboigFAE943ISEY/z85RnAr1v8EQOxdYK/gfQJAY706j9Zl8z80KJCVPOMDQENCQDDacvU/1narmF6DCUDq39z8ElsAQHkEg+D7LwJA7wyA3HHHAEDpNJHtCsYGQCxFL/lYIwBAFBqx5GTcOUCRRJw/h2gDQL0nXZolKPs/2l+/JdU+/D+OqWWyUk39Pw==",
           "dtype": "f8"
          },
          "sizemode": "area",
          "sizeref": 0.03164536397222222,
          "symbol": "circle"
         },
         "mode": "markers",
         "name": "Manufactura",
         "orientation": "v",
         "showlegend": true,
         "type": "scatter",
         "x": {
          "bdata": "gAeZB9AHYQeYB44HxwcOB4wHgAfBB8YHdAesB5QHsgdKB8IHrQdwB6YHpAdqB84HyQejBw==",
          "dtype": "i2"
         },
         "xaxis": "x",
         "y": {
          "bdata": "uctnQYTDf0DLyFFnK9x6QCCnzvRJPnNAAx4qI7SCbUCJ6DCPJ1F5QLiVJvFGH39A1Sp2C9e2ekBs2py1ESdyQDhDAiqGM4BAg+9tYieMb0BK89bfWwF2QIxiPd4xg4FA8y8hnaQLdUAAAAAAAAAAAPgDPG6CxHxAAAAAAAAAAAD+ZNid2EluQNAYe2lpaT1ARZfhhvIacUCLbugmHJaBQKUTUHs2+HdA3rdzxDYOdUDWJhv9er53QBeuB8bzNXxAx8f+5DWUb0CL6PBzUF5mQA==",
          "dtype": "f8"
         },
         "yaxis": "y"
        },
        {
         "hovertemplate": "<b>%{hovertext}</b><br><br>Año de Fundación: %{x}<br>Puntaje Sostenibilidad: %{y:.2f}<br>Ingresos Operacionales: %{marker.size:,.0f}<extra></extra>",
         "hovertext": [
          "Avianca",
          "Celsia",
          "Cenit",
          "Claro",
          "EPM",
          "Emgesa",
          "GEB",
          "Gases del Caribe",
          "ISA",
          "Isagen",
          "LATAM",
          "Mercado Libre",
          "Oleoducto Central (Ocensa)",
          "Promigas",
          "Rappi",
          "Telefónica",
          "Teleperformance",
          "Tigo"
         ],
         "legendgroup": "Servicios",
         "marker": {
          "color": "#FFA15A",
          "size": {
           "bdata": "tnktMks2LkDTv2tqtTAaQPnTLdiZ9CNANdvLbEY0L0D3ZbzvEJM0QDKCfL+Hjy9AJGtWe627DUBYr+r4pBUFQGA7qxQhhhBAokKWgdqKGEDpPeQZc6ACQGy7UpQgu/0/UV4poJDmF0CznrU26C4CQCofrSougOY/H5Twt0+wGkBtwvXczT0FQJ1P5QA2pgdA",
           "dtype": "f8"
          },
          "sizemode": "area",
          "sizeref": 0.03164536397222222,
          "symbol": "circle"
         },
         "mode": "markers",
         "name": "Servicios",
         "orientation": "v",
         "showlegend": true,
         "type": "scatter",
         "x": {
          "bdata": "fwfRB9wH0wejB80HaAeuB68HyweJB9kHyge2B98HhAd2B7sH",
          "dtype": "i2"
         },
         "xaxis": "x",
         "y": {
          "bdata": "wBUtmVPpdECcyXGGhmt8QNm4PcLauXxAXUbVojqYfEChc+kll5F5QJOPvPfkRIBASPxkblF1eUDylYzYYZpyQOXIFL29cXlAoZbScmEkcEDerScYgKR4QMank3tQS3NAaDUB3+WJeUCMGG6nujB7QAAAAAAAAAAA+NkKkpVqfUBWqHXoojZ6QIE52G3woXZA",
          "dtype": "f8"
         },
         "yaxis": "y"
        },
        {
         "hovertemplate": "<b>%{hovertext}</b><br><br>Año de Fundación: %{x}<br>Puntaje Sostenibilidad: %{y:.2f}<br>Ingresos Operacionales: %{marker.size:,.0f}<extra></extra>",
         "hovertext": [
          "C.I Prodeco",
          "Cerrejón",
          "Drummond",
          "Ecopetrol",
          "Frontera Energy",
          "Geopark",
          "Gran Tierra Energy",
          "Hocol",
          "SierraCol Energy",
          "Verano energy"
         ],
         "legendgroup": "Minero",
         "marker": {
          "color": "#19d3f3",
          "size": {
           "bdata": "dFyfzwak7D/iO0iHOzAYQCWFR1Xy/SZA1qMVhBd7XEA4E5YiQAARQI9kKW7pXANAqrab4Jsm9T8Lonn2GEkFQFf/GiIEGv8/q6n3F+vuFUA=",
           "dtype": "f8"
          },
          "sizemode": "area",
          "sizeref": 0.03164536397222222,
          "symbol": "circle"
         },
         "mode": "markers",
         "name": "Minero",
         "orientation": "v",
         "showlegend": true,
         "type": "scatter",
         "x": {
          "bdata": "xge4B48HnwfBB9IH0wekB+QH4Ac=",
          "dtype": "i2"
         },
         "xaxis": "x",
         "y": {
          "bdata": "3ml8cAiHRkAehr4KVMxyQANTIax3LYFAYYxXPxNTgEDZDMv6uHx7QPytrFPCBIBAt0BXYgt8dUAFhMLfsJx9QIb0Ysg8qn5AAAAAAAAAAAA=",
          "dtype": "f8"
         },
         "yaxis": "y"
        }
       ],
       "layout": {
        "font": {
         "color": "black",
         "family": "Arial, sans-serif",
         "size": 14
        },
        "legend": {
         "itemsizing": "constant",
         "title": {
          "text": "Macrosector"
         },
         "tracegroupgap": 0
        },
        "margin": {
         "t": 60
        },
        "template": {
         "data": {
          "bar": [
           {
            "error_x": {
             "color": "#2a3f5f"
            },
            "error_y": {
             "color": "#2a3f5f"
            },
            "marker": {
             "line": {
              "color": "#E5ECF6",
              "width": 0.5
             },
             "pattern": {
              "fillmode": "overlay",
              "size": 10,
              "solidity": 0.2
             }
            },
            "type": "bar"
           }
          ],
          "barpolar": [
           {
            "marker": {
             "line": {
              "color": "#E5ECF6",
              "width": 0.5
             },
             "pattern": {
              "fillmode": "overlay",
              "size": 10,
              "solidity": 0.2
             }
            },
            "type": "barpolar"
           }
          ],
          "carpet": [
           {
            "aaxis": {
             "endlinecolor": "#2a3f5f",
             "gridcolor": "white",
             "linecolor": "white",
             "minorgridcolor": "white",
             "startlinecolor": "#2a3f5f"
            },
            "baxis": {
             "endlinecolor": "#2a3f5f",
             "gridcolor": "white",
             "linecolor": "white",
             "minorgridcolor": "white",
             "startlinecolor": "#2a3f5f"
            },
            "type": "carpet"
           }
          ],
          "choropleth": [
           {
            "colorbar": {
             "outlinewidth": 0,
             "ticks": ""
            },
            "type": "choropleth"
           }
          ],
          "contour": [
           {
            "colorbar": {
             "outlinewidth": 0,
             "ticks": ""
            },
            "colorscale": [
             [
              0,
              "#0d0887"
             ],
             [
              0.1111111111111111,
              "#46039f"
             ],
             [
              0.2222222222222222,
              "#7201a8"
             ],
             [
              0.3333333333333333,
              "#9c179e"
             ],
             [
              0.4444444444444444,
              "#bd3786"
             ],
             [
              0.5555555555555556,
              "#d8576b"
             ],
             [
              0.6666666666666666,
              "#ed7953"
             ],
             [
              0.7777777777777778,
              "#fb9f3a"
             ],
             [
              0.8888888888888888,
              "#fdca26"
             ],
             [
              1,
              "#f0f921"
             ]
            ],
            "type": "contour"
           }
          ],
          "contourcarpet": [
           {
            "colorbar": {
             "outlinewidth": 0,
             "ticks": ""
            },
            "type": "contourcarpet"
           }
          ],
          "heatmap": [
           {
            "colorbar": {
             "outlinewidth": 0,
             "ticks": ""
            },
            "colorscale": [
             [
              0,
              "#0d0887"
             ],
             [
              0.1111111111111111,
              "#46039f"
             ],
             [
              0.2222222222222222,
              "#7201a8"
             ],
             [
              0.3333333333333333,
              "#9c179e"
             ],
             [
              0.4444444444444444,
              "#bd3786"
             ],
             [
              0.5555555555555556,
              "#d8576b"
             ],
             [
              0.6666666666666666,
              "#ed7953"
             ],
             [
              0.7777777777777778,
              "#fb9f3a"
             ],
             [
              0.8888888888888888,
              "#fdca26"
             ],
             [
              1,
              "#f0f921"
             ]
            ],
            "type": "heatmap"
           }
          ],
          "histogram": [
           {
            "marker": {
             "pattern": {
              "fillmode": "overlay",
              "size": 10,
              "solidity": 0.2
             }
            },
            "type": "histogram"
           }
          ],
          "histogram2d": [
           {
            "colorbar": {
             "outlinewidth": 0,
             "ticks": ""
            },
            "colorscale": [
             [
              0,
              "#0d0887"
             ],
             [
              0.1111111111111111,
              "#46039f"
             ],
             [
              0.2222222222222222,
              "#7201a8"
             ],
             [
              0.3333333333333333,
              "#9c179e"
             ],
             [
              0.4444444444444444,
              "#bd3786"
             ],
             [
              0.5555555555555556,
              "#d8576b"
             ],
             [
              0.6666666666666666,
              "#ed7953"
             ],
             [
              0.7777777777777778,
              "#fb9f3a"
             ],
             [
              0.8888888888888888,
              "#fdca26"
             ],
             [
              1,
              "#f0f921"
             ]
            ],
            "type": "histogram2d"
           }
          ],
          "histogram2dcontour": [
           {
            "colorbar": {
             "outlinewidth": 0,
             "ticks": ""
            },
            "colorscale": [
             [
              0,
              "#0d0887"
             ],
             [
              0.1111111111111111,
              "#46039f"
             ],
             [
              0.2222222222222222,
              "#7201a8"
             ],
             [
              0.3333333333333333,
              "#9c179e"
             ],
             [
              0.4444444444444444,
              "#bd3786"
             ],
             [
              0.5555555555555556,
              "#d8576b"
             ],
             [
              0.6666666666666666,
              "#ed7953"
             ],
             [
              0.7777777777777778,
              "#fb9f3a"
             ],
             [
              0.8888888888888888,
              "#fdca26"
             ],
             [
              1,
              "#f0f921"
             ]
            ],
            "type": "histogram2dcontour"
           }
          ],
          "mesh3d": [
           {
            "colorbar": {
             "outlinewidth": 0,
             "ticks": ""
            },
            "type": "mesh3d"
           }
          ],
          "parcoords": [
           {
            "line": {
             "colorbar": {
              "outlinewidth": 0,
              "ticks": ""
             }
            },
            "type": "parcoords"
           }
          ],
          "pie": [
           {
            "automargin": true,
            "type": "pie"
           }
          ],
          "scatter": [
           {
            "fillpattern": {
             "fillmode": "overlay",
             "size": 10,
             "solidity": 0.2
            },
            "type": "scatter"
           }
          ],
          "scatter3d": [
           {
            "line": {
             "colorbar": {
              "outlinewidth": 0,
              "ticks": ""
             }
            },
            "marker": {
             "colorbar": {
              "outlinewidth": 0,
              "ticks": ""
             }
            },
            "type": "scatter3d"
           }
          ],
          "scattercarpet": [
           {
            "marker": {
             "colorbar": {
              "outlinewidth": 0,
              "ticks": ""
             }
            },
            "type": "scattercarpet"
           }
          ],
          "scattergeo": [
           {
            "marker": {
             "colorbar": {
              "outlinewidth": 0,
              "ticks": ""
             }
            },
            "type": "scattergeo"
           }
          ],
          "scattergl": [
           {
            "marker": {
             "colorbar": {
              "outlinewidth": 0,
              "ticks": ""
             }
            },
            "type": "scattergl"
           }
          ],
          "scattermap": [
           {
            "marker": {
             "colorbar": {
              "outlinewidth": 0,
              "ticks": ""
             }
            },
            "type": "scattermap"
           }
          ],
          "scattermapbox": [
           {
            "marker": {
             "colorbar": {
              "outlinewidth": 0,
              "ticks": ""
             }
            },
            "type": "scattermapbox"
           }
          ],
          "scatterpolar": [
           {
            "marker": {
             "colorbar": {
              "outlinewidth": 0,
              "ticks": ""
             }
            },
            "type": "scatterpolar"
           }
          ],
          "scatterpolargl": [
           {
            "marker": {
             "colorbar": {
              "outlinewidth": 0,
              "ticks": ""
             }
            },
            "type": "scatterpolargl"
           }
          ],
          "scatterternary": [
           {
            "marker": {
             "colorbar": {
              "outlinewidth": 0,
              "ticks": ""
             }
            },
            "type": "scatterternary"
           }
          ],
          "surface": [
           {
            "colorbar": {
             "outlinewidth": 0,
             "ticks": ""
            },
            "colorscale": [
             [
              0,
              "#0d0887"
             ],
             [
              0.1111111111111111,
              "#46039f"
             ],
             [
              0.2222222222222222,
              "#7201a8"
             ],
             [
              0.3333333333333333,
              "#9c179e"
             ],
             [
              0.4444444444444444,
              "#bd3786"
             ],
             [
              0.5555555555555556,
              "#d8576b"
             ],
             [
              0.6666666666666666,
              "#ed7953"
             ],
             [
              0.7777777777777778,
              "#fb9f3a"
             ],
             [
              0.8888888888888888,
              "#fdca26"
             ],
             [
              1,
              "#f0f921"
             ]
            ],
            "type": "surface"
           }
          ],
          "table": [
           {
            "cells": {
             "fill": {
              "color": "#EBF0F8"
             },
             "line": {
              "color": "white"
             }
            },
            "header": {
             "fill": {
              "color": "#C8D4E3"
             },
             "line": {
              "color": "white"
             }
            },
            "type": "table"
           }
          ]
         },
         "layout": {
          "annotationdefaults": {
           "arrowcolor": "#2a3f5f",
           "arrowhead": 0,
           "arrowwidth": 1
          },
          "autotypenumbers": "strict",
          "coloraxis": {
           "colorbar": {
            "outlinewidth": 0,
            "ticks": ""
           }
          },
          "colorscale": {
           "diverging": [
            [
             0,
             "#8e0152"
            ],
            [
             0.1,
             "#c51b7d"
            ],
            [
             0.2,
             "#de77ae"
            ],
            [
             0.3,
             "#f1b6da"
            ],
            [
             0.4,
             "#fde0ef"
            ],
            [
             0.5,
             "#f7f7f7"
            ],
            [
             0.6,
             "#e6f5d0"
            ],
            [
             0.7,
             "#b8e186"
            ],
            [
             0.8,
             "#7fbc41"
            ],
            [
             0.9,
             "#4d9221"
            ],
            [
             1,
             "#276419"
            ]
           ],
           "sequential": [
            [
             0,
             "#0d0887"
            ],
            [
             0.1111111111111111,
             "#46039f"
            ],
            [
             0.2222222222222222,
             "#7201a8"
            ],
            [
             0.3333333333333333,
             "#9c179e"
            ],
            [
             0.4444444444444444,
             "#bd3786"
            ],
            [
             0.5555555555555556,
             "#d8576b"
            ],
            [
             0.6666666666666666,
             "#ed7953"
            ],
            [
             0.7777777777777778,
             "#fb9f3a"
            ],
            [
             0.8888888888888888,
             "#fdca26"
            ],
            [
             1,
             "#f0f921"
            ]
           ],
           "sequentialminus": [
            [
             0,
             "#0d0887"
            ],
            [
             0.1111111111111111,
             "#46039f"
            ],
            [
             0.2222222222222222,
             "#7201a8"
            ],
            [
             0.3333333333333333,
             "#9c179e"
            ],
            [
             0.4444444444444444,
             "#bd3786"
            ],
            [
             0.5555555555555556,
             "#d8576b"
            ],
            [
             0.6666666666666666,
             "#ed7953"
            ],
            [
             0.7777777777777778,
             "#fb9f3a"
            ],
            [
             0.8888888888888888,
             "#fdca26"
            ],
            [
             1,
             "#f0f921"
            ]
           ]
          },
          "colorway": [
           "#636efa",
           "#EF553B",
           "#00cc96",
           "#ab63fa",
           "#FFA15A",
           "#19d3f3",
           "#FF6692",
           "#B6E880",
           "#FF97FF",
           "#FECB52"
          ],
          "font": {
           "color": "#2a3f5f"
          },
          "geo": {
           "bgcolor": "white",
           "lakecolor": "white",
           "landcolor": "#E5ECF6",
           "showlakes": true,
           "showland": true,
           "subunitcolor": "white"
          },
          "hoverlabel": {
           "align": "left"
          },
          "hovermode": "closest",
          "mapbox": {
           "style": "light"
          },
          "paper_bgcolor": "white",
          "plot_bgcolor": "#E5ECF6",
          "polar": {
           "angularaxis": {
            "gridcolor": "white",
            "linecolor": "white",
            "ticks": ""
           },
           "bgcolor": "#E5ECF6",
           "radialaxis": {
            "gridcolor": "white",
            "linecolor": "white",
            "ticks": ""
           }
          },
          "scene": {
           "xaxis": {
            "backgroundcolor": "#E5ECF6",
            "gridcolor": "white",
            "gridwidth": 2,
            "linecolor": "white",
            "showbackground": true,
            "ticks": "",
            "zerolinecolor": "white"
           },
           "yaxis": {
            "backgroundcolor": "#E5ECF6",
            "gridcolor": "white",
            "gridwidth": 2,
            "linecolor": "white",
            "showbackground": true,
            "ticks": "",
            "zerolinecolor": "white"
           },
           "zaxis": {
            "backgroundcolor": "#E5ECF6",
            "gridcolor": "white",
            "gridwidth": 2,
            "linecolor": "white",
            "showbackground": true,
            "ticks": "",
            "zerolinecolor": "white"
           }
          },
          "shapedefaults": {
           "line": {
            "color": "#2a3f5f"
           }
          },
          "ternary": {
           "aaxis": {
            "gridcolor": "white",
            "linecolor": "white",
            "ticks": ""
           },
           "baxis": {
            "gridcolor": "white",
            "linecolor": "white",
            "ticks": ""
           },
           "bgcolor": "#E5ECF6",
           "caxis": {
            "gridcolor": "white",
            "linecolor": "white",
            "ticks": ""
           }
          },
          "title": {
           "x": 0.05
          },
          "xaxis": {
           "automargin": true,
           "gridcolor": "white",
           "linecolor": "white",
           "ticks": "",
           "title": {
            "standoff": 15
           },
           "zerolinecolor": "white",
           "zerolinewidth": 2
          },
          "yaxis": {
           "automargin": true,
           "gridcolor": "white",
           "linecolor": "white",
           "ticks": "",
           "title": {
            "standoff": 15
           },
           "zerolinecolor": "white",
           "zerolinewidth": 2
          }
         }
        },
        "title": {
         "text": "<b>Sostenibilidad vs. Antigüedad Empresarial</b><br><sup>El tamaño de la burbuja indica los ingresos operacionales</sup>",
         "x": 0.5
        },
        "xaxis": {
         "anchor": "y",
         "domain": [
          0,
          1
         ],
         "title": {
          "text": "Año de Fundación"
         }
        },
        "yaxis": {
         "anchor": "x",
         "domain": [
          0,
          1
         ],
         "title": {
          "text": "Puntaje Total de Sostenibilidad"
         }
        }
       }
      }
     },
     "metadata": {},
     "output_type": "display_data"
    }
   ],
   "source": [
    "# 1. Preparación y Manejo de Datos\n",
    "# Asegurarse que 'Año de fundación' sea numérico.\n",
    "raw_data['Año de fundación'] = pd.to_numeric(raw_data['Año de fundación'], errors='coerce')\n",
    "\n",
    "# Reutilizamos la agregación anterior y añadimos el año de fundación.\n",
    "# Usamos 'first' ya que el año de fundación es constante por empresa.\n",
    "bubble_chart_data = raw_data.groupby('Razón social').agg(\n",
    "    Puntaje_Total_Sostenibilidad=('valoracionPonderada', 'sum'),\n",
    "    Ingresos_Operacionales=('Ingresos operacionales', 'first'),\n",
    "    Macrosector=('Macrosector', 'first'),\n",
    "    Ano_Fundacion=('Año de fundación', 'first')\n",
    ").reset_index()\n",
    "\n",
    "# Limpieza de datos para el gráfico: eliminar filas sin año de fundación o sin ingresos.\n",
    "bubble_chart_data.dropna(subset=['Ano_Fundacion', 'Ingresos_Operacionales'], inplace=True)\n",
    "bubble_chart_data = bubble_chart_data[bubble_chart_data['Ingresos_Operacionales'] > 0]\n",
    "bubble_chart_data['Ano_Fundacion'] = bubble_chart_data['Ano_Fundacion'].astype(int)\n",
    "\n",
    "# 2. Creación del Gráfico de Burbujas con Plotly Express\n",
    "fig_bubble = px.scatter(\n",
    "    bubble_chart_data,\n",
    "    x=\"Ano_Fundacion\",\n",
    "    y=\"Puntaje_Total_Sostenibilidad\",\n",
    "    size=\"Ingresos_Operacionales\", # El tamaño de la burbuja representa los ingresos\n",
    "    color=\"Macrosector\",          # El color de la burbuja representa el macrosector\n",
    "    hover_name=\"Razón social\",    # Muestra el nombre de la empresa al pasar el cursor\n",
    "    size_max=60,                  # Controla el tamaño máximo de la burbuja más grande\n",
    "    log_x=False                   # Se puede cambiar a True si los años están muy agrupados\n",
    ")\n",
    "\n",
    "# 3. Personalización y Estilo del Gráfico\n",
    "fig_bubble.update_layout(\n",
    "    title='<b>Sostenibilidad vs. Antigüedad Empresarial</b><br><sup>El tamaño de la burbuja indica los ingresos operacionales</sup>',\n",
    "    title_x=0.5,\n",
    "    xaxis_title=\"Año de Fundación\",\n",
    "    yaxis_title=\"Puntaje Total de Sostenibilidad\",\n",
    "    font=dict(\n",
    "        family=\"Arial, sans-serif\",\n",
    "        size=14,\n",
    "        color=\"black\"\n",
    "    ),\n",
    "    legend_title_text='Macrosector'\n",
    ")\n",
    "\n",
    "# Personalización del hover para mostrar la información de forma más clara\n",
    "fig_bubble.update_traces(\n",
    "    hovertemplate='<b>%{hovertext}</b><br><br>' +\n",
    "                  'Año de Fundación: %{x}<br>' +\n",
    "                  'Puntaje Sostenibilidad: %{y:.2f}<br>' +\n",
    "                  'Ingresos Operacionales: %{marker.size:,.0f}<extra></extra>'\n",
    ")\n",
    "\n",
    "fig_bubble.show()\n",
    "save_chart_as_html(fig_bubble, '05_bubble_chart_sustainability_vs_age.html')\n",
    "# Save as image\n",
    "fig_bubble.write_image(\"img/05_bubble_chart_sustainability_vs_age.png\", width=1000, height=800, scale=2)"
   ]
  },
  {
   "cell_type": "markdown",
   "metadata": {},
   "source": [
    "## 6. Gráfico de Coordenadas Paralelas para Perfiles de Sostenibilidad"
   ]
  },
  {
   "cell_type": "code",
   "execution_count": 23,
   "metadata": {},
   "outputs": [
    {
     "data": {
      "application/vnd.plotly.v1+json": {
       "config": {
        "plotlyServerURL": "https://plot.ly"
       },
       "data": [
        {
         "dimensions": [
          {
           "label": "Acción Climática y Energía",
           "values": {
            "bdata": "AAAAAAAAAAAAAAAAAAAAAG1wGIgiXFpAAAAAAAAAAACmahbDMAwzQJfZc9u2bVVAXD6Skk7jYkBNPslfMltoQB1Lq2OtZFNAdTf0u5UaUEDHizuU11BaQEIfLGPDY1pAURBdzKYvV0CKbv/CeUBgQAAAAAAAAAAAAAAAAAAAAADHizuU11BaQAAAAAAAAAAA5YJMlRz1S0AAAAAAAAAAAPk5NulT5z5Ahxm3JEmSLEDratn3tBxXQMeLO5TXUFpAiLtheHh4SkD1cSjUlxNYQFAvvomd2DxATKbL4eHhTkCblpLE1kpYQI7Kj/DE92JAOdZiQ3kNVUCkPZjz0JplQAAxz2sor1dAGK1p//8tV0AAAAAAAAAAALqCtJkfZmBAuc+Z0D6bU0DK8AoKJHRUQAAAAAAAAAAA+BkXDsTcW0CsEKDw401UQBvpNQtuvF5AZLeFndgJWEDWGALtfxZZQK1PWjQ012VA3AKVM8ynY0DD0bjklnthQCuMJZMwCVdA17UHa+1fVUAAMc9rKK9XQGuMSqjI2mFA/rNqAASGW0CmahbDMAwzQAAAAAAAAAAAVgyZI3K7Y0DhcFHzlvphQAAAAAAAAAAAu74opOndXEAAAAAAAAAAAP7/sXCvIFBAAAAAAAAAAAArxYZVWWVNQIcZtyRJkkxARhz8Dg8PVkARoJdrYIlXQMeLO5TXUEpANT2B4OzyWEAAAAAAAAAAAAAAAAAAAAAAADHPayivV0AAAAAAAAAAAIddqaHMx2hAiOveq9JyWkDp3XamUu5kQMeLO5TXUFpAklKRiaKpWEAAAAAAAAAAAMeLO5TXUEpAFVzmU2sQYUAecPoGiORlQEYc/A4PD1ZAdkWdd8sZZUD0xFdh8RBgQGdyS1pa2lNAAAAAAAAAAAAAAAAAAAAAAAAAAAAAAAAAvk1e6HroVUBGVdmYE+1YQChHZMzbNFtAQLhbwnznVkBvQghlTXVhQEymy+Hh4U5AcSzefq9jXkAAAAAAAAAAAEhYK0U4DlBAAAAAAAAAAADHizuU11BaQFZBFOU1lE9AhdmA3/GvXkA=",
            "dtype": "f8"
           }
          },
          {
           "label": "Capital Humano: Bienestar y Desarrollo",
           "values": {
            "bdata": "AAAAAAAAAAAAAAAAAAAAAIhI0fM8z1dAAAAAAAAAAAAAAAAAAAAAAIcZtyRJkjxAOdZiQ3kNRUA51mJDeQ1FQIhI0fM8z0dAW1Fzh4eHR0A51mJDeQ01QFtRc4eHh0dArgbpqHHLN0AAAAAAAAAAAAAAAAAAAAAAAAAAAAAAAAD47En4T+JKQAAAAAAAAAAAiEjR8zzPN0CISNHzPM9HQAAAAAAAAAAAiEjR8zzPR0AjiMU4F484QIpox08bi1NABX2WpaWlQUApYLyYBjBAQOrFN7ETOzNABX2WpaWlQUBLiQvd+A4/QDnWYkN5DUVAOdZiQ3kNRUC3E03pXnxPQDnWYkN5DUVAiEjR8zzPN0AAAAAAAAAAAAV9lqWlpUFABX2WpaWlQUBbUXOHh4c3QAAAAAAAAAAAOvLVyI3cUUBbUXOHh4c3QDnWYkN5DUVA6sU3sRM7U0C1RaY3NMVGQMcxzOjLv1RAhSLOpDzXQ0DqxTexEztDQFtRc4eHhzdAbwgq6pkSKUA51mJDeQ1FQIfJr3qbKEdA6sU3sRM7M0CHGbckSZI8QAAAAAAAAAAARCHtctbNTUCFsvD19ZVRQAAAAAAAAAAAhrjmTGJ7RkAAAAAAAAAAAFtRc4eHhzdAAAAAAAAAAABbUXOHh4c3QIhI0fM8zzdAAAAAAAAAAABbUXOHh4c3QDnWYkN5DUVAW1Fzh4eHN0AAAAAAAAAAAAAAAAAAAAAAOdZiQ3kNRUAAAAAAAAAAADnWYkN5DUVAAAAAAAAAAAAFfZalpaVBQDnWYkN5DUVA/YUoo20GOEAAAAAAAAAAAPBdtfh1nlNAlxh19FJZSEDPLC8XtmJNQAV9lqWlpUFA6sU3sRM7Q0DHP03cUyhDQAV9lqWlpTFAAAAAAAAAAAAAAAAAAAAAAAAAAAAAAAAANskdo60LOEBbUXOHh4c3QFbWme9+1lJARa/MfAN7R0AFfZalpaVRQAV9lqWlpUFABX2WpaWlMUAAAAAAAAAAAFtRc4eHhzdAAAAAAAAAAAAAAAAAAAAAADnWYkN5DUVABX2WpaWlQUA=",
            "dtype": "f8"
           }
          },
          {
           "label": "Diversidad, Equidad e Inclusión (DEI)",
           "values": {
            "bdata": "AAAAAAAAAAAAAAAAAAAAAFK9PyJJkjxAAAAAAAAAAAAAAAAAAAAAAIcZtyRJkixA5upaisoFS0AeOFoaZ5AiQGHuDLONHENA4YerTLbtQECGLF5uKK9HQNYLGgdS6VlAK5mM+AjuRUB+nQbS5p40QAAAAAAAAAAAAAAAAAAAAAA0gxnP9306QAAAAAAAAAAA64gORMBiIUDeNY2S/CUnQAAAAAAAAAAAhxm3JEmSLEB8ls4kveZXQDrALuuHCENA+M79Dw8PWUBn6IZDQqJYQFhtTabJajJAW1Fzh4eHN0Cp9C8j/nJYQL8zkB3K70BAjb8LYGyLGkCMw2ZuKLNDQLY97hmRjCRAERkmuDCbLUAAAAAAAAAAAA4EdYiHh0dAPh7AQw2gUUCmpHp3E55XQAAAAAAAAAAA5o6j3vg7N0DcJHbVsrdUQLJ9UU0MHw9AtmzYr66bTUDAl1qg8VhSQMDKKjeUQVFAAnGJ6eOtXEDvhTTwxE4xQPwfmlhkP0xA6gR75kFDMUBrz4AI3pE3QGCFvGfibUNAqxtpVb2xJkCHGbckSZIsQAAAAAAAAAAAC3dcxF/5SUBkqSO3jqw6QAAAAAAAAAAAORBaW+3PJkDQGHtpaWk9QNP6WwLwz7Q/AAAAAAAAAAAlohaFSLJRQKQHV6PLfyZAWLwKibFgNkAAAAAAAAAAAHn05yRZJj1AuAB2ZmlpTUBbUXOHh4c3QNAYe2lpaT1A/N9Y6jWUL0BY6CA7sRMnQJ+qqublkERAGrINHh4eQkDl4j1BQUEhQClL1b/pVUdADzEFO6NcTkAAAAAAAAAAAEPg0ZEfCC5A8LFH6jWUP0DcGai3f04yQBY1d3h4eEZAo36GUwDMSEA89UPKAeNVQJrWV2tpaT1AAAAAAAAAAAA4TunkNZQvQAAAAAAAAAAAdWUG4FVAXkALMbDxTfZYQGy5jsz+EVZAJ251Nu3IS0DIOLu/vr5GQAAAAAAAAAAAFjV3eHh4RkBbUXOHh4c3QPrBjjluJUpAAAAAAAAAAAA4TunkNZQvQAAAAAAAAAAA/QJ84hmiUEA=",
            "dtype": "f8"
           }
          },
          {
           "label": "Gestión de Recursos Naturales y Circularidad",
           "values": {
            "bdata": "AAAAAAAAAAAAAAAAAAAAAObdWwhHwVNAAAAAAAAAAAAAAAAAAAAAAMCLxvM8z1dAjY+iEPmdWUBLJwrbLJdXQPaox88pmlVApQAHo4iWREAK6MoPeKFLQJdDytAqLUBAPhAFpXuWNEBEfPrkNZQ/QAAAAAAAAAAAAAAAAAAAAADj0BGvobxTQAAAAAAAAAAAy1jARoq9UUCHGbckSZI8QN9i/DZvZzFAhxm3JEmSPEDGGMVj4IZHQJ4G0uZ08F5AAAAAAAAAAAD0ucHtHB5DQGpjT6/SdFVAjV+jpaWlMUDxe4caBnA6QOPQEa+hvFNAsJG3ayivR0A8falEfqVXQC1Gs2sor0dAmxOD2ef6SkAAAAAAAAAAADfU7cErUDpATWe/ny6KM0CPkVE9kJZEQAAAAAAAAAAAGQVeuQCYXECsQwikUdc4QJLo+Hccf09AisSIbeCJXEBkuhweHh5DQLrot/GfrldA/CPCdftjMUApg1lXOy1fQJTVZRLkdkdAhgEgLgaHN0DGZWAN5bVVQAHugW991lxA1pstLd7YV0AAAAAAAAAAAAAAAAAAAAAAOVm+vK2zVUDl42b6PZ5gQAAAAAAAAAAAzO1//LyiQUAAAAAAAAAAAFpurVKhpUFAAAAAAAAAAAB5HbidUpZEQMUoJnT5ikVAEKunpaWlMUA8FZaWlpY0QLCRt2sorzdAL6Cg3/oORkAAAAAAAAAAAAAAAAAAAAAAu5nt5DWUT0AAAAAAAAAAAMn9kn1liVtAcm4dYAkbGkAVNXd4eHg6QKr6rmsor1dAhWexMJ6lQUAAAAAAAAAAAEFE+ISdnFFAug2GFOW5U0AHKYJ87HhXQMTqaWlpaT1AlknppojFYEBzidmBKTI9QBY1d3h4eDpAAAAAAAAAAAAAAAAAAAAAAAAAAAAAAAAAKloZikSlQUCzuZ+Qc3g6QJwGtJCabENAxlwDb4mlMUBnf4SHh4cXQBY1d3h4eDpA9F3kemijNkAAAAAAAAAAAI7WpB2vpDFAAAAAAAAAAACq+q5rKK9HQOZb/scylD9Aw5AMoRlbO0A=",
            "dtype": "f8"
           }
          },
          {
           "label": "Impacto Económico, Social y Comunitario",
           "values": {
            "bdata": "AAAAAAAAAAAAAAAAAAAAAJrYpCRJElBAAAAAAAAAAADg9ww04c84QJbZc9u2bTVA9JqE9r3VV0Cfn6yPfOVEQHIk7rZt20FALmfIDrBtPkA3TunkNZQvQHxVeOGYllRA8QyHlpaWREDKE2tlgEo2QAAAAAAAAAAAQDCquZqrPUCaOvK0utNOQFtRc4eHhydAbHak+s5GRUAfvIDbtm01QB+8gNu2bTVAILyA27ZtNUDNHZCTCFpTQPMqHFXOb1JANXFUaWlpPUAqY43EFSFTQO44C5xoulVAyhNrZYBKNkC426dDJP9MQOreN3za50RAmErDGZEsP0CyZEzJq2xRQDnWYkN5DSVAhxm3JEmSLEAAAAAAAAAAAFtRc4eHhzdAomrVXYKDT0BbUXOHh4dXQFtRc4eHhydAXSv6cywIY0DsmjUdpr9TQK1P9wk5mkRAfZ5nNeLAWEDvbMxBSQJdQMV965AJ/U1ASOFjeHh4SkCRydIck/VMQAR9lqWlpVFA8QyHlpaWREDHizuU11A6QDr19TqxE1dAW0wisRM7U0Ats+e2bdtBQAAAAAAAAAAAclXMTYNzREBbTCKxEztDQAAAAAAAAAAASOFjeHh4SkAAAAAAAAAAANLKj4jBT0dAAAAAAAAAAABI4WN4eHhKQHIk7rZt20FAW1Fzh4eHN0AeGXMj4WVKQFZBFOU1lD9Az1ogLS0tUEAAAAAAAAAAAAAAAAAAAAAAOdZiQ3kNJUAAAAAAAAAAADQqRTIRDFdAZ3+Eh4eHF0BI4WN4eHhaQFZBFOU1lD9A0sKnMchSUUAAAAAAAAAAAOzUblFsr0RAOdZiQ3kNNUA51mJDeQ1FQPEMh5aWlkRAeNyhdZUIQ0DS/DZmB6FPQFtRc4eHhzdAAAAAAAAAAAAAAAAAAAAAAAAAAAAAAAAAkWwxHGjQS0DpfprPgxtKQOBw2uT0AVNAGl5QrAFXQECIyJqlpaUxQFtRc4eHhzdAveAfK0JeREAAAAAAAAAAADLx3LXj3UlAAAAAAAAAAAA51mJDeQ01QDnWYkN5DSVA3px3h4eHR0A=",
            "dtype": "f8"
           }
          },
          {
           "label": "Transparencia y Gobierno de la Sostenibilidad",
           "values": {
            "bdata": "AAAAAAAAAAAAAAAAAAAAAFAF3PM8z1dAAAAAAAAAAACHGbckSZIsQPRv8rZt21FAOE7p5DWUT0Cq+q5rKK9HQFAF3PM8z1dA0Bh7aWlpXUA4TunkNZRPQILv7OHhYWJAgu/s4eFhYkA4TunkNZQ/QAAAAAAAAAAA+EadTuzELkDj0BGvobxTQAAAAAAAAAAApmoWwzAMU0CmahbDMAxTQKZqFsMwDFNApmoWwzAMU0DQGHtpaWldQOPQEa+hvFNAW1Fzh4eHV0DQGHtpaWldQPhGnU7sxE5AW1Fzh4eHN0CC7+zh4WFiQOPQEa+hvFNA49ARr6G8U0Dj0BGvobxTQKr6rmsor0dAUAXc8zzPV0AAAAAAAAAAALIlUGlpaV1AsiVQaWlpXUCC7+zh4WFiQAAAAAAAAAAAW0wisRM7U0DQGHtpaWldQOPQEa+hvFNAW0wisRM7U0CC7+zh4WFiQOPQEa+hvFNAW1Fzh4eHV0D4Rp1O7MROQNAYe2lpaV1A0Bh7aWlpXUA4TunkNZRPQFtMIrETO1NA+EadTuzEPkAlU4nbtm1FQAAAAAAAAAAAOE7p5DWUT0D4Rp1O7MROQAAAAAAAAAAAgu/s4eFhYkAAAAAAAAAAAJxSHA8PD1ZAAAAAAAAAAACC7+zh4WFiQKZqFsMwDFNAsiVQaWlpXUDQGHtpaWldQDhO6eQ1lE9A0Bh7aWlpXUBbUXOHh4c3QAAAAAAAAAAAqvquayivR0AAAAAAAAAAAOPQEa+hvFNAW1Fzh4eHV0CyJVBpaWldQDhO6eQ1lE9Agu/s4eFhYkAAAAAAAAAAAOPQEa+hvFNAOE7p5DWUT0A4TunkNZRPQLIlUGlpaV1A+EadTuzETkCyJVBpaWldQFtRc4eHh1dAhxm3JEmSLEAAAAAAAAAAAAAAAAAAAAAAgu/s4eFhYkDQGHtpaWldQLIlUGlpaV1A0Bh7aWlpXUBbUXOHh4dXQFtRc4eHh1dAW1Fzh4eHV0AAAAAAAAAAAILv7OHhYWJAAAAAAAAAAAA4TunkNZRPQDhO6eQ1lD9AW1Fzh4eHV0A=",
            "dtype": "f8"
           }
          }
         ],
         "domain": {
          "x": [
           0,
           1
          ],
          "y": [
           0,
           1
          ]
         },
         "line": {
          "color": {
           "bdata": "AAAAAAAAAAAAAAAAAAAAAAaZVbmvPH1AAAAAAAAAAACld79EmxJNQFGds6qqynNAuctnQYTDf0DLyFFnK9x6QMRJjRVszHdAwBUtmVPpdEAgp870ST5zQAAAAAAAAPh/AAAAAAAA+H8DHiojtIJtQAAAAAAAAAAA3ml8cAiHRkCJ6DCPJ1F5QFtRc4eHhydA1ljRBfZhcUCIVa9nRyxnQHKgAaGnPWJAW2UdwzBMaUCcyXGGhmt8QLiVJvFGH39AOpYwAACAc0DZuD3C2rl8QB6GvgpUzHJAlisXhcgBZ0BdRtWiOph8QNUqdgvXtnpAbNqctREnckA4QwIqhjOAQIPvbWInjG9AKs0l1gttckAAAAAAAAAAAEXNhQGL0HdAVPjTSfUGeEAAAAAAAAD4f1tRc4eHhydAA1MhrHctgUChc+kll5F5QErz1t9bAXZAYYxXPxNTgECTj7z35ESAQIxiPd4xg4FAvxQMUXfBfUDZDMv6uHx7QEj8ZG5RdXlA8pWM2GGackDzLyGdpAt1QPytrFPCBIBAt0BXYgt8dUCzY+HzPI9hQAAAAAAAAAAA+AM8boLEfEAFhMLfsJx9QAAAAAAAAAAA5cgUvb1xeUDQGHtpaWk9QKGW0nJhJHBAAAAAAAAAAADerScYgKR4QI6oLc4o5m5ACmx1CfzWcEDGp5N7UEtzQP5k2J3YSW5AaDUB3+WJeUBbUXOHh4dHQNAYe2lpaT1ARZfhhvIacUBY6CA7sRMnQItu6CYcloFAZ5ppKMkRb0C8ouwR6NV8QKUTUHs2+HdAjBhup7owe0AAAAAAAAAAAN63c8Q2DnVA1iYb/Xq+d0AXrgfG8zV8QAxHPEtLS3ZAhvRiyDyqfkBgCf994Qd9QJI+fWlp6XBAhxm3JEmSLEA4TunkNZQvQAAAAAAAAAAA+NkKkpVqfUBWqHXoojZ6QDJcxEfBj39AgTnYbfChdkBvujVOQlZ3QFCCj6WlJW5A3e8O+DVadUBbUXOHh4c3QAAAAAAAAPh/AAAAAAAAAADHx/7kNZRvQIvo8HNQXmZAwJcOEryReEA=",
           "dtype": "f8"
          },
          "coloraxis": "coloraxis"
         },
         "name": "",
         "type": "parcoords"
        }
       ],
       "layout": {
        "coloraxis": {
         "colorbar": {
          "title": {
           "text": "Puntaje_Total_Sostenibilidad"
          }
         },
         "colorscale": [
          [
           0,
           "rgb(247,251,255)"
          ],
          [
           0.125,
           "rgb(222,235,247)"
          ],
          [
           0.25,
           "rgb(198,219,239)"
          ],
          [
           0.375,
           "rgb(158,202,225)"
          ],
          [
           0.5,
           "rgb(107,174,214)"
          ],
          [
           0.625,
           "rgb(66,146,198)"
          ],
          [
           0.75,
           "rgb(33,113,181)"
          ],
          [
           0.875,
           "rgb(8,81,156)"
          ],
          [
           1,
           "rgb(8,48,107)"
          ]
         ]
        },
        "font": {
         "color": "black",
         "family": "Arial, sans-serif",
         "size": 12
        },
        "legend": {
         "tracegroupgap": 0
        },
        "template": {
         "data": {
          "bar": [
           {
            "error_x": {
             "color": "#2a3f5f"
            },
            "error_y": {
             "color": "#2a3f5f"
            },
            "marker": {
             "line": {
              "color": "#E5ECF6",
              "width": 0.5
             },
             "pattern": {
              "fillmode": "overlay",
              "size": 10,
              "solidity": 0.2
             }
            },
            "type": "bar"
           }
          ],
          "barpolar": [
           {
            "marker": {
             "line": {
              "color": "#E5ECF6",
              "width": 0.5
             },
             "pattern": {
              "fillmode": "overlay",
              "size": 10,
              "solidity": 0.2
             }
            },
            "type": "barpolar"
           }
          ],
          "carpet": [
           {
            "aaxis": {
             "endlinecolor": "#2a3f5f",
             "gridcolor": "white",
             "linecolor": "white",
             "minorgridcolor": "white",
             "startlinecolor": "#2a3f5f"
            },
            "baxis": {
             "endlinecolor": "#2a3f5f",
             "gridcolor": "white",
             "linecolor": "white",
             "minorgridcolor": "white",
             "startlinecolor": "#2a3f5f"
            },
            "type": "carpet"
           }
          ],
          "choropleth": [
           {
            "colorbar": {
             "outlinewidth": 0,
             "ticks": ""
            },
            "type": "choropleth"
           }
          ],
          "contour": [
           {
            "colorbar": {
             "outlinewidth": 0,
             "ticks": ""
            },
            "colorscale": [
             [
              0,
              "#0d0887"
             ],
             [
              0.1111111111111111,
              "#46039f"
             ],
             [
              0.2222222222222222,
              "#7201a8"
             ],
             [
              0.3333333333333333,
              "#9c179e"
             ],
             [
              0.4444444444444444,
              "#bd3786"
             ],
             [
              0.5555555555555556,
              "#d8576b"
             ],
             [
              0.6666666666666666,
              "#ed7953"
             ],
             [
              0.7777777777777778,
              "#fb9f3a"
             ],
             [
              0.8888888888888888,
              "#fdca26"
             ],
             [
              1,
              "#f0f921"
             ]
            ],
            "type": "contour"
           }
          ],
          "contourcarpet": [
           {
            "colorbar": {
             "outlinewidth": 0,
             "ticks": ""
            },
            "type": "contourcarpet"
           }
          ],
          "heatmap": [
           {
            "colorbar": {
             "outlinewidth": 0,
             "ticks": ""
            },
            "colorscale": [
             [
              0,
              "#0d0887"
             ],
             [
              0.1111111111111111,
              "#46039f"
             ],
             [
              0.2222222222222222,
              "#7201a8"
             ],
             [
              0.3333333333333333,
              "#9c179e"
             ],
             [
              0.4444444444444444,
              "#bd3786"
             ],
             [
              0.5555555555555556,
              "#d8576b"
             ],
             [
              0.6666666666666666,
              "#ed7953"
             ],
             [
              0.7777777777777778,
              "#fb9f3a"
             ],
             [
              0.8888888888888888,
              "#fdca26"
             ],
             [
              1,
              "#f0f921"
             ]
            ],
            "type": "heatmap"
           }
          ],
          "histogram": [
           {
            "marker": {
             "pattern": {
              "fillmode": "overlay",
              "size": 10,
              "solidity": 0.2
             }
            },
            "type": "histogram"
           }
          ],
          "histogram2d": [
           {
            "colorbar": {
             "outlinewidth": 0,
             "ticks": ""
            },
            "colorscale": [
             [
              0,
              "#0d0887"
             ],
             [
              0.1111111111111111,
              "#46039f"
             ],
             [
              0.2222222222222222,
              "#7201a8"
             ],
             [
              0.3333333333333333,
              "#9c179e"
             ],
             [
              0.4444444444444444,
              "#bd3786"
             ],
             [
              0.5555555555555556,
              "#d8576b"
             ],
             [
              0.6666666666666666,
              "#ed7953"
             ],
             [
              0.7777777777777778,
              "#fb9f3a"
             ],
             [
              0.8888888888888888,
              "#fdca26"
             ],
             [
              1,
              "#f0f921"
             ]
            ],
            "type": "histogram2d"
           }
          ],
          "histogram2dcontour": [
           {
            "colorbar": {
             "outlinewidth": 0,
             "ticks": ""
            },
            "colorscale": [
             [
              0,
              "#0d0887"
             ],
             [
              0.1111111111111111,
              "#46039f"
             ],
             [
              0.2222222222222222,
              "#7201a8"
             ],
             [
              0.3333333333333333,
              "#9c179e"
             ],
             [
              0.4444444444444444,
              "#bd3786"
             ],
             [
              0.5555555555555556,
              "#d8576b"
             ],
             [
              0.6666666666666666,
              "#ed7953"
             ],
             [
              0.7777777777777778,
              "#fb9f3a"
             ],
             [
              0.8888888888888888,
              "#fdca26"
             ],
             [
              1,
              "#f0f921"
             ]
            ],
            "type": "histogram2dcontour"
           }
          ],
          "mesh3d": [
           {
            "colorbar": {
             "outlinewidth": 0,
             "ticks": ""
            },
            "type": "mesh3d"
           }
          ],
          "parcoords": [
           {
            "line": {
             "colorbar": {
              "outlinewidth": 0,
              "ticks": ""
             }
            },
            "type": "parcoords"
           }
          ],
          "pie": [
           {
            "automargin": true,
            "type": "pie"
           }
          ],
          "scatter": [
           {
            "fillpattern": {
             "fillmode": "overlay",
             "size": 10,
             "solidity": 0.2
            },
            "type": "scatter"
           }
          ],
          "scatter3d": [
           {
            "line": {
             "colorbar": {
              "outlinewidth": 0,
              "ticks": ""
             }
            },
            "marker": {
             "colorbar": {
              "outlinewidth": 0,
              "ticks": ""
             }
            },
            "type": "scatter3d"
           }
          ],
          "scattercarpet": [
           {
            "marker": {
             "colorbar": {
              "outlinewidth": 0,
              "ticks": ""
             }
            },
            "type": "scattercarpet"
           }
          ],
          "scattergeo": [
           {
            "marker": {
             "colorbar": {
              "outlinewidth": 0,
              "ticks": ""
             }
            },
            "type": "scattergeo"
           }
          ],
          "scattergl": [
           {
            "marker": {
             "colorbar": {
              "outlinewidth": 0,
              "ticks": ""
             }
            },
            "type": "scattergl"
           }
          ],
          "scattermap": [
           {
            "marker": {
             "colorbar": {
              "outlinewidth": 0,
              "ticks": ""
             }
            },
            "type": "scattermap"
           }
          ],
          "scattermapbox": [
           {
            "marker": {
             "colorbar": {
              "outlinewidth": 0,
              "ticks": ""
             }
            },
            "type": "scattermapbox"
           }
          ],
          "scatterpolar": [
           {
            "marker": {
             "colorbar": {
              "outlinewidth": 0,
              "ticks": ""
             }
            },
            "type": "scatterpolar"
           }
          ],
          "scatterpolargl": [
           {
            "marker": {
             "colorbar": {
              "outlinewidth": 0,
              "ticks": ""
             }
            },
            "type": "scatterpolargl"
           }
          ],
          "scatterternary": [
           {
            "marker": {
             "colorbar": {
              "outlinewidth": 0,
              "ticks": ""
             }
            },
            "type": "scatterternary"
           }
          ],
          "surface": [
           {
            "colorbar": {
             "outlinewidth": 0,
             "ticks": ""
            },
            "colorscale": [
             [
              0,
              "#0d0887"
             ],
             [
              0.1111111111111111,
              "#46039f"
             ],
             [
              0.2222222222222222,
              "#7201a8"
             ],
             [
              0.3333333333333333,
              "#9c179e"
             ],
             [
              0.4444444444444444,
              "#bd3786"
             ],
             [
              0.5555555555555556,
              "#d8576b"
             ],
             [
              0.6666666666666666,
              "#ed7953"
             ],
             [
              0.7777777777777778,
              "#fb9f3a"
             ],
             [
              0.8888888888888888,
              "#fdca26"
             ],
             [
              1,
              "#f0f921"
             ]
            ],
            "type": "surface"
           }
          ],
          "table": [
           {
            "cells": {
             "fill": {
              "color": "#EBF0F8"
             },
             "line": {
              "color": "white"
             }
            },
            "header": {
             "fill": {
              "color": "#C8D4E3"
             },
             "line": {
              "color": "white"
             }
            },
            "type": "table"
           }
          ]
         },
         "layout": {
          "annotationdefaults": {
           "arrowcolor": "#2a3f5f",
           "arrowhead": 0,
           "arrowwidth": 1
          },
          "autotypenumbers": "strict",
          "coloraxis": {
           "colorbar": {
            "outlinewidth": 0,
            "ticks": ""
           }
          },
          "colorscale": {
           "diverging": [
            [
             0,
             "#8e0152"
            ],
            [
             0.1,
             "#c51b7d"
            ],
            [
             0.2,
             "#de77ae"
            ],
            [
             0.3,
             "#f1b6da"
            ],
            [
             0.4,
             "#fde0ef"
            ],
            [
             0.5,
             "#f7f7f7"
            ],
            [
             0.6,
             "#e6f5d0"
            ],
            [
             0.7,
             "#b8e186"
            ],
            [
             0.8,
             "#7fbc41"
            ],
            [
             0.9,
             "#4d9221"
            ],
            [
             1,
             "#276419"
            ]
           ],
           "sequential": [
            [
             0,
             "#0d0887"
            ],
            [
             0.1111111111111111,
             "#46039f"
            ],
            [
             0.2222222222222222,
             "#7201a8"
            ],
            [
             0.3333333333333333,
             "#9c179e"
            ],
            [
             0.4444444444444444,
             "#bd3786"
            ],
            [
             0.5555555555555556,
             "#d8576b"
            ],
            [
             0.6666666666666666,
             "#ed7953"
            ],
            [
             0.7777777777777778,
             "#fb9f3a"
            ],
            [
             0.8888888888888888,
             "#fdca26"
            ],
            [
             1,
             "#f0f921"
            ]
           ],
           "sequentialminus": [
            [
             0,
             "#0d0887"
            ],
            [
             0.1111111111111111,
             "#46039f"
            ],
            [
             0.2222222222222222,
             "#7201a8"
            ],
            [
             0.3333333333333333,
             "#9c179e"
            ],
            [
             0.4444444444444444,
             "#bd3786"
            ],
            [
             0.5555555555555556,
             "#d8576b"
            ],
            [
             0.6666666666666666,
             "#ed7953"
            ],
            [
             0.7777777777777778,
             "#fb9f3a"
            ],
            [
             0.8888888888888888,
             "#fdca26"
            ],
            [
             1,
             "#f0f921"
            ]
           ]
          },
          "colorway": [
           "#636efa",
           "#EF553B",
           "#00cc96",
           "#ab63fa",
           "#FFA15A",
           "#19d3f3",
           "#FF6692",
           "#B6E880",
           "#FF97FF",
           "#FECB52"
          ],
          "font": {
           "color": "#2a3f5f"
          },
          "geo": {
           "bgcolor": "white",
           "lakecolor": "white",
           "landcolor": "#E5ECF6",
           "showlakes": true,
           "showland": true,
           "subunitcolor": "white"
          },
          "hoverlabel": {
           "align": "left"
          },
          "hovermode": "closest",
          "mapbox": {
           "style": "light"
          },
          "paper_bgcolor": "white",
          "plot_bgcolor": "#E5ECF6",
          "polar": {
           "angularaxis": {
            "gridcolor": "white",
            "linecolor": "white",
            "ticks": ""
           },
           "bgcolor": "#E5ECF6",
           "radialaxis": {
            "gridcolor": "white",
            "linecolor": "white",
            "ticks": ""
           }
          },
          "scene": {
           "xaxis": {
            "backgroundcolor": "#E5ECF6",
            "gridcolor": "white",
            "gridwidth": 2,
            "linecolor": "white",
            "showbackground": true,
            "ticks": "",
            "zerolinecolor": "white"
           },
           "yaxis": {
            "backgroundcolor": "#E5ECF6",
            "gridcolor": "white",
            "gridwidth": 2,
            "linecolor": "white",
            "showbackground": true,
            "ticks": "",
            "zerolinecolor": "white"
           },
           "zaxis": {
            "backgroundcolor": "#E5ECF6",
            "gridcolor": "white",
            "gridwidth": 2,
            "linecolor": "white",
            "showbackground": true,
            "ticks": "",
            "zerolinecolor": "white"
           }
          },
          "shapedefaults": {
           "line": {
            "color": "#2a3f5f"
           }
          },
          "ternary": {
           "aaxis": {
            "gridcolor": "white",
            "linecolor": "white",
            "ticks": ""
           },
           "baxis": {
            "gridcolor": "white",
            "linecolor": "white",
            "ticks": ""
           },
           "bgcolor": "#E5ECF6",
           "caxis": {
            "gridcolor": "white",
            "linecolor": "white",
            "ticks": ""
           }
          },
          "title": {
           "x": 0.05
          },
          "xaxis": {
           "automargin": true,
           "gridcolor": "white",
           "linecolor": "white",
           "ticks": "",
           "title": {
            "standoff": 15
           },
           "zerolinecolor": "white",
           "zerolinewidth": 2
          },
          "yaxis": {
           "automargin": true,
           "gridcolor": "white",
           "linecolor": "white",
           "ticks": "",
           "title": {
            "standoff": 15
           },
           "zerolinecolor": "white",
           "zerolinewidth": 2
          }
         }
        },
        "title": {
         "text": "<b>Perfiles de Sostenibilidad por Empresa</b><br><sup>Cada línea es una empresa, coloreada por su puntaje total</sup><br>",
         "x": 0.5,
         "y": 0.95
        }
       }
      }
     },
     "metadata": {},
     "output_type": "display_data"
    }
   ],
   "source": [
    "# 1. Preparación de Datos: Crear una tabla pivotada (ancha)\n",
    "# Se agrupan los datos por empresa y pilar, sumando la valoración ponderada.\n",
    "pivoted_data = raw_data.groupby(['Razón social', 'Nombre Pilar'])['valoracionPonderada'].sum().reset_index()\n",
    "\n",
    "# Se pivota la tabla para que las empresas sean filas y los pilares, columnas.\n",
    "# Los valores NaN se rellenan con 0, asumiendo desempeño nulo en ese pilar.\n",
    "parallel_coords_df = pivoted_data.pivot(\n",
    "    index='Razón social',\n",
    "    columns='Nombre Pilar',\n",
    "    values='valoracionPonderada'\n",
    ").fillna(0).reset_index()\n",
    "\n",
    "# 2. Enriquecer los datos con información contextual (Macrosector y Puntaje Total)\n",
    "# Se une la tabla pivotada con los datos agregados para poder colorear las líneas.\n",
    "parallel_coords_df = pd.merge(\n",
    "    parallel_coords_df,\n",
    "    company_agg_data[['Razón social', 'Macrosector', 'Puntaje_Total_Sostenibilidad']],\n",
    "    on='Razón social',\n",
    "    how='left'\n",
    ")\n",
    "\n",
    "# 3. Creación del Gráfico de Coordenadas Paralelas\n",
    "# Se definen las dimensiones del gráfico, que son las columnas de los pilares.\n",
    "dimensions = list(parallel_coords_df.columns)\n",
    "dimensions.remove('Razón social')\n",
    "dimensions.remove('Macrosector')\n",
    "dimensions.remove('Puntaje_Total_Sostenibilidad')\n",
    "\n",
    "fig_parallel = px.parallel_coordinates(\n",
    "    parallel_coords_df,\n",
    "    # El color de la línea representa el puntaje total de sostenibilidad.\n",
    "    color=\"Puntaje_Total_Sostenibilidad\",\n",
    "    dimensions=dimensions,\n",
    "    # Se añade el Macrosector y el nombre de la empresa a la información del hover.\n",
    "    labels={\"Razón social\": \"Empresa\", \"Macrosector\": \"Sector\"},\n",
    "    color_continuous_scale=px.colors.sequential.Blues, # Escala de color de oscuro (bajo) a brillante (alto)\n",
    "    title=\"Perfiles de Sostenibilidad por Empresa\"\n",
    ")\n",
    "\n",
    "# 4. Personalización y Estilo del Gráfico\n",
    "fig_parallel.update_layout(\n",
    "    title='<b>Perfiles de Sostenibilidad por Empresa</b><br><sup>Cada línea es una empresa, coloreada por su puntaje total</sup><br>',\n",
    "    title_x=0.5,\n",
    "    title_y=0.95,\n",
    "    font=dict(family=\"Arial, sans-serif\", size=12, color=\"black\")\n",
    ")\n",
    "\n",
    "fig_parallel.show()\n",
    "save_chart_as_html(fig_parallel, '06_parallel_coordinates_sustainability_profiles.html')\n",
    "# Save as image\n",
    "fig_parallel.write_image(\"img/06_parallel_coordinates_sustainability_profiles.png\", width=1000, height=800, scale=2)"
   ]
  },
  {
   "cell_type": "markdown",
   "metadata": {},
   "source": [
    "## 7. Diagrama Sankey de Flujo de Valoración"
   ]
  },
  {
   "cell_type": "code",
   "execution_count": 24,
   "metadata": {},
   "outputs": [
    {
     "data": {
      "application/vnd.plotly.v1+json": {
       "config": {
        "plotlyServerURL": "https://plot.ly"
       },
       "data": [
        {
         "link": {
          "source": {
           "bdata": "AAAAAAABAQEBAgICAgIDAwMDBAQEBAQEBQUFBQUFBgYGBgYGBwcHBwcHCAgICAgICQkJCQkJ",
           "dtype": "i1"
          },
          "target": {
           "bdata": "BAUGBwgGBwgJBAUGCAkEBQcJCgsMDQ4PCgsMDQ4PCgsMDQ4PCgsMDQ4PCgsMDQ4PCgsMDQ4P",
           "dtype": "i1"
          },
          "value": {
           "bdata": "KcOxYbC1rkAG3uJEKApUQCgEmwgVAWhAfZVWJc2LpEB0hONk/IWTQOgtwyRvMpJABZM5m/6nkUD+c3rZ0oaZQBUfn5BlqI9A5c1lk/1EoEANEaf7kYibQEKIcDtct5hArgRa07u+h0C9fIAolEGyQEkssmjNRZ1AoLC8kolfkUA5JDTQLDV4QOJdiZsGRJdA6g7/PM/zXkDT0Bv7IXeaQCLqxDmoH3tAX7XPtkMapkBHZ8t/CW+NQLgz/yfUIJ1Ahxm3JEmSTEDjZtzHquyAQO4KGoZhWHNAbW5opB1nkEATfsqtoMZ3QETleGjwPYNAhxm3JEmSPEArjCDagkaMQO2Vp+P5mWNAbIbD7rEqhUBbk6b1wpRuQFC49rxLwZRAwIvG8zzPV0BQT+qO7xx1QNXIdAm7f3lACWvnJLmPmkCg8psBW6eMQN1n1P29ioVA9A1U3xx9VECbl9yL7FeFQCMqhyhsDXBAGsuqvqExjUCgrrauPfyEQPmMXQVhSZRA9G/ytm3bYUC2UwgeHl6ZQKaEYFVV1YRAcVUblNcwl0C0jcOJnViAQAdwo5aWXqVA",
           "dtype": "f8"
          }
         },
         "node": {
          "label": [
           "Impacto ambiental",
           "Impacto económico y gobernanza",
           "Impacto social ",
           "Información general",
           "Acción Climática y Energía",
           "Capital Humano: Bienestar y Desarrollo",
           "Diversidad, Equidad e Inclusión (DEI)",
           "Gestión de Recursos Naturales y Circularidad",
           "Impacto Económico, Social y Comunitario",
           "Transparencia y Gobierno de la Sostenibilidad",
           "Agropecuario",
           "Comercio",
           "Construcción",
           "Manufactura",
           "Minero",
           "Servicios"
          ],
          "line": {
           "color": "black",
           "width": 0.5
          },
          "pad": 15,
          "thickness": 20
         },
         "type": "sankey"
        }
       ],
       "layout": {
        "font": {
         "color": "black",
         "family": "Arial, sans-serif",
         "size": 12
        },
        "template": {
         "data": {
          "bar": [
           {
            "error_x": {
             "color": "#2a3f5f"
            },
            "error_y": {
             "color": "#2a3f5f"
            },
            "marker": {
             "line": {
              "color": "#E5ECF6",
              "width": 0.5
             },
             "pattern": {
              "fillmode": "overlay",
              "size": 10,
              "solidity": 0.2
             }
            },
            "type": "bar"
           }
          ],
          "barpolar": [
           {
            "marker": {
             "line": {
              "color": "#E5ECF6",
              "width": 0.5
             },
             "pattern": {
              "fillmode": "overlay",
              "size": 10,
              "solidity": 0.2
             }
            },
            "type": "barpolar"
           }
          ],
          "carpet": [
           {
            "aaxis": {
             "endlinecolor": "#2a3f5f",
             "gridcolor": "white",
             "linecolor": "white",
             "minorgridcolor": "white",
             "startlinecolor": "#2a3f5f"
            },
            "baxis": {
             "endlinecolor": "#2a3f5f",
             "gridcolor": "white",
             "linecolor": "white",
             "minorgridcolor": "white",
             "startlinecolor": "#2a3f5f"
            },
            "type": "carpet"
           }
          ],
          "choropleth": [
           {
            "colorbar": {
             "outlinewidth": 0,
             "ticks": ""
            },
            "type": "choropleth"
           }
          ],
          "contour": [
           {
            "colorbar": {
             "outlinewidth": 0,
             "ticks": ""
            },
            "colorscale": [
             [
              0,
              "#0d0887"
             ],
             [
              0.1111111111111111,
              "#46039f"
             ],
             [
              0.2222222222222222,
              "#7201a8"
             ],
             [
              0.3333333333333333,
              "#9c179e"
             ],
             [
              0.4444444444444444,
              "#bd3786"
             ],
             [
              0.5555555555555556,
              "#d8576b"
             ],
             [
              0.6666666666666666,
              "#ed7953"
             ],
             [
              0.7777777777777778,
              "#fb9f3a"
             ],
             [
              0.8888888888888888,
              "#fdca26"
             ],
             [
              1,
              "#f0f921"
             ]
            ],
            "type": "contour"
           }
          ],
          "contourcarpet": [
           {
            "colorbar": {
             "outlinewidth": 0,
             "ticks": ""
            },
            "type": "contourcarpet"
           }
          ],
          "heatmap": [
           {
            "colorbar": {
             "outlinewidth": 0,
             "ticks": ""
            },
            "colorscale": [
             [
              0,
              "#0d0887"
             ],
             [
              0.1111111111111111,
              "#46039f"
             ],
             [
              0.2222222222222222,
              "#7201a8"
             ],
             [
              0.3333333333333333,
              "#9c179e"
             ],
             [
              0.4444444444444444,
              "#bd3786"
             ],
             [
              0.5555555555555556,
              "#d8576b"
             ],
             [
              0.6666666666666666,
              "#ed7953"
             ],
             [
              0.7777777777777778,
              "#fb9f3a"
             ],
             [
              0.8888888888888888,
              "#fdca26"
             ],
             [
              1,
              "#f0f921"
             ]
            ],
            "type": "heatmap"
           }
          ],
          "histogram": [
           {
            "marker": {
             "pattern": {
              "fillmode": "overlay",
              "size": 10,
              "solidity": 0.2
             }
            },
            "type": "histogram"
           }
          ],
          "histogram2d": [
           {
            "colorbar": {
             "outlinewidth": 0,
             "ticks": ""
            },
            "colorscale": [
             [
              0,
              "#0d0887"
             ],
             [
              0.1111111111111111,
              "#46039f"
             ],
             [
              0.2222222222222222,
              "#7201a8"
             ],
             [
              0.3333333333333333,
              "#9c179e"
             ],
             [
              0.4444444444444444,
              "#bd3786"
             ],
             [
              0.5555555555555556,
              "#d8576b"
             ],
             [
              0.6666666666666666,
              "#ed7953"
             ],
             [
              0.7777777777777778,
              "#fb9f3a"
             ],
             [
              0.8888888888888888,
              "#fdca26"
             ],
             [
              1,
              "#f0f921"
             ]
            ],
            "type": "histogram2d"
           }
          ],
          "histogram2dcontour": [
           {
            "colorbar": {
             "outlinewidth": 0,
             "ticks": ""
            },
            "colorscale": [
             [
              0,
              "#0d0887"
             ],
             [
              0.1111111111111111,
              "#46039f"
             ],
             [
              0.2222222222222222,
              "#7201a8"
             ],
             [
              0.3333333333333333,
              "#9c179e"
             ],
             [
              0.4444444444444444,
              "#bd3786"
             ],
             [
              0.5555555555555556,
              "#d8576b"
             ],
             [
              0.6666666666666666,
              "#ed7953"
             ],
             [
              0.7777777777777778,
              "#fb9f3a"
             ],
             [
              0.8888888888888888,
              "#fdca26"
             ],
             [
              1,
              "#f0f921"
             ]
            ],
            "type": "histogram2dcontour"
           }
          ],
          "mesh3d": [
           {
            "colorbar": {
             "outlinewidth": 0,
             "ticks": ""
            },
            "type": "mesh3d"
           }
          ],
          "parcoords": [
           {
            "line": {
             "colorbar": {
              "outlinewidth": 0,
              "ticks": ""
             }
            },
            "type": "parcoords"
           }
          ],
          "pie": [
           {
            "automargin": true,
            "type": "pie"
           }
          ],
          "scatter": [
           {
            "fillpattern": {
             "fillmode": "overlay",
             "size": 10,
             "solidity": 0.2
            },
            "type": "scatter"
           }
          ],
          "scatter3d": [
           {
            "line": {
             "colorbar": {
              "outlinewidth": 0,
              "ticks": ""
             }
            },
            "marker": {
             "colorbar": {
              "outlinewidth": 0,
              "ticks": ""
             }
            },
            "type": "scatter3d"
           }
          ],
          "scattercarpet": [
           {
            "marker": {
             "colorbar": {
              "outlinewidth": 0,
              "ticks": ""
             }
            },
            "type": "scattercarpet"
           }
          ],
          "scattergeo": [
           {
            "marker": {
             "colorbar": {
              "outlinewidth": 0,
              "ticks": ""
             }
            },
            "type": "scattergeo"
           }
          ],
          "scattergl": [
           {
            "marker": {
             "colorbar": {
              "outlinewidth": 0,
              "ticks": ""
             }
            },
            "type": "scattergl"
           }
          ],
          "scattermap": [
           {
            "marker": {
             "colorbar": {
              "outlinewidth": 0,
              "ticks": ""
             }
            },
            "type": "scattermap"
           }
          ],
          "scattermapbox": [
           {
            "marker": {
             "colorbar": {
              "outlinewidth": 0,
              "ticks": ""
             }
            },
            "type": "scattermapbox"
           }
          ],
          "scatterpolar": [
           {
            "marker": {
             "colorbar": {
              "outlinewidth": 0,
              "ticks": ""
             }
            },
            "type": "scatterpolar"
           }
          ],
          "scatterpolargl": [
           {
            "marker": {
             "colorbar": {
              "outlinewidth": 0,
              "ticks": ""
             }
            },
            "type": "scatterpolargl"
           }
          ],
          "scatterternary": [
           {
            "marker": {
             "colorbar": {
              "outlinewidth": 0,
              "ticks": ""
             }
            },
            "type": "scatterternary"
           }
          ],
          "surface": [
           {
            "colorbar": {
             "outlinewidth": 0,
             "ticks": ""
            },
            "colorscale": [
             [
              0,
              "#0d0887"
             ],
             [
              0.1111111111111111,
              "#46039f"
             ],
             [
              0.2222222222222222,
              "#7201a8"
             ],
             [
              0.3333333333333333,
              "#9c179e"
             ],
             [
              0.4444444444444444,
              "#bd3786"
             ],
             [
              0.5555555555555556,
              "#d8576b"
             ],
             [
              0.6666666666666666,
              "#ed7953"
             ],
             [
              0.7777777777777778,
              "#fb9f3a"
             ],
             [
              0.8888888888888888,
              "#fdca26"
             ],
             [
              1,
              "#f0f921"
             ]
            ],
            "type": "surface"
           }
          ],
          "table": [
           {
            "cells": {
             "fill": {
              "color": "#EBF0F8"
             },
             "line": {
              "color": "white"
             }
            },
            "header": {
             "fill": {
              "color": "#C8D4E3"
             },
             "line": {
              "color": "white"
             }
            },
            "type": "table"
           }
          ]
         },
         "layout": {
          "annotationdefaults": {
           "arrowcolor": "#2a3f5f",
           "arrowhead": 0,
           "arrowwidth": 1
          },
          "autotypenumbers": "strict",
          "coloraxis": {
           "colorbar": {
            "outlinewidth": 0,
            "ticks": ""
           }
          },
          "colorscale": {
           "diverging": [
            [
             0,
             "#8e0152"
            ],
            [
             0.1,
             "#c51b7d"
            ],
            [
             0.2,
             "#de77ae"
            ],
            [
             0.3,
             "#f1b6da"
            ],
            [
             0.4,
             "#fde0ef"
            ],
            [
             0.5,
             "#f7f7f7"
            ],
            [
             0.6,
             "#e6f5d0"
            ],
            [
             0.7,
             "#b8e186"
            ],
            [
             0.8,
             "#7fbc41"
            ],
            [
             0.9,
             "#4d9221"
            ],
            [
             1,
             "#276419"
            ]
           ],
           "sequential": [
            [
             0,
             "#0d0887"
            ],
            [
             0.1111111111111111,
             "#46039f"
            ],
            [
             0.2222222222222222,
             "#7201a8"
            ],
            [
             0.3333333333333333,
             "#9c179e"
            ],
            [
             0.4444444444444444,
             "#bd3786"
            ],
            [
             0.5555555555555556,
             "#d8576b"
            ],
            [
             0.6666666666666666,
             "#ed7953"
            ],
            [
             0.7777777777777778,
             "#fb9f3a"
            ],
            [
             0.8888888888888888,
             "#fdca26"
            ],
            [
             1,
             "#f0f921"
            ]
           ],
           "sequentialminus": [
            [
             0,
             "#0d0887"
            ],
            [
             0.1111111111111111,
             "#46039f"
            ],
            [
             0.2222222222222222,
             "#7201a8"
            ],
            [
             0.3333333333333333,
             "#9c179e"
            ],
            [
             0.4444444444444444,
             "#bd3786"
            ],
            [
             0.5555555555555556,
             "#d8576b"
            ],
            [
             0.6666666666666666,
             "#ed7953"
            ],
            [
             0.7777777777777778,
             "#fb9f3a"
            ],
            [
             0.8888888888888888,
             "#fdca26"
            ],
            [
             1,
             "#f0f921"
            ]
           ]
          },
          "colorway": [
           "#636efa",
           "#EF553B",
           "#00cc96",
           "#ab63fa",
           "#FFA15A",
           "#19d3f3",
           "#FF6692",
           "#B6E880",
           "#FF97FF",
           "#FECB52"
          ],
          "font": {
           "color": "#2a3f5f"
          },
          "geo": {
           "bgcolor": "white",
           "lakecolor": "white",
           "landcolor": "#E5ECF6",
           "showlakes": true,
           "showland": true,
           "subunitcolor": "white"
          },
          "hoverlabel": {
           "align": "left"
          },
          "hovermode": "closest",
          "mapbox": {
           "style": "light"
          },
          "paper_bgcolor": "white",
          "plot_bgcolor": "#E5ECF6",
          "polar": {
           "angularaxis": {
            "gridcolor": "white",
            "linecolor": "white",
            "ticks": ""
           },
           "bgcolor": "#E5ECF6",
           "radialaxis": {
            "gridcolor": "white",
            "linecolor": "white",
            "ticks": ""
           }
          },
          "scene": {
           "xaxis": {
            "backgroundcolor": "#E5ECF6",
            "gridcolor": "white",
            "gridwidth": 2,
            "linecolor": "white",
            "showbackground": true,
            "ticks": "",
            "zerolinecolor": "white"
           },
           "yaxis": {
            "backgroundcolor": "#E5ECF6",
            "gridcolor": "white",
            "gridwidth": 2,
            "linecolor": "white",
            "showbackground": true,
            "ticks": "",
            "zerolinecolor": "white"
           },
           "zaxis": {
            "backgroundcolor": "#E5ECF6",
            "gridcolor": "white",
            "gridwidth": 2,
            "linecolor": "white",
            "showbackground": true,
            "ticks": "",
            "zerolinecolor": "white"
           }
          },
          "shapedefaults": {
           "line": {
            "color": "#2a3f5f"
           }
          },
          "ternary": {
           "aaxis": {
            "gridcolor": "white",
            "linecolor": "white",
            "ticks": ""
           },
           "baxis": {
            "gridcolor": "white",
            "linecolor": "white",
            "ticks": ""
           },
           "bgcolor": "#E5ECF6",
           "caxis": {
            "gridcolor": "white",
            "linecolor": "white",
            "ticks": ""
           }
          },
          "title": {
           "x": 0.05
          },
          "xaxis": {
           "automargin": true,
           "gridcolor": "white",
           "linecolor": "white",
           "ticks": "",
           "title": {
            "standoff": 15
           },
           "zerolinecolor": "white",
           "zerolinewidth": 2
          },
          "yaxis": {
           "automargin": true,
           "gridcolor": "white",
           "linecolor": "white",
           "ticks": "",
           "title": {
            "standoff": 15
           },
           "zerolinecolor": "white",
           "zerolinewidth": 2
          }
         }
        },
        "title": {
         "text": "<b>Diagrama Sankey del Flujo de Valoración de Sostenibilidad</b><br><sup>Flujo desde Bloque -> Pilar -> Macrosector</sup>",
         "x": 0.5
        }
       }
      }
     },
     "metadata": {},
     "output_type": "display_data"
    }
   ],
   "source": [
    "# 1. Preparación de Datos para el Sankey\n",
    "# Se necesita una lista de flujos: origen (source), destino (target) y valor (value).\n",
    "# El flujo es: Bloque -> Nombre Pilar -> Macrosector\n",
    "\n",
    "# Flujo 1: Bloque a Nombre Pilar\n",
    "flow1 = raw_data.groupby(['Bloque', 'Nombre Pilar'])['valoracionPonderada'].sum().reset_index()\n",
    "flow1.rename(columns={'Bloque': 'source', 'Nombre Pilar': 'target', 'valoracionPonderada': 'value'}, inplace=True)\n",
    "\n",
    "# Flujo 2: Nombre Pilar a Macrosector\n",
    "flow2 = raw_data.groupby(['Nombre Pilar', 'Macrosector'])['valoracionPonderada'].sum().reset_index()\n",
    "flow2.rename(columns={'Nombre Pilar': 'source', 'Macrosector': 'target', 'valoracionPonderada': 'value'}, inplace=True)\n",
    "\n",
    "# Combinar ambos flujos en un único DataFrame\n",
    "sankey_data = pd.concat([flow1, flow2], axis=0)\n",
    "\n",
    "# Filtrar flujos con valor cero para no saturar el gráfico\n",
    "sankey_data = sankey_data[sankey_data['value'] > 0]\n",
    "\n",
    "# Crear una lista única de todos los nodos (orígenes y destinos)\n",
    "unique_nodes = pd.unique(sankey_data[['source', 'target']].values.ravel('K'))\n",
    "\n",
    "# Crear un diccionario para mapear cada nodo a un índice numérico\n",
    "node_mapping = {node: i for i, node in enumerate(unique_nodes)}\n",
    "\n",
    "# Reemplazar los nombres de los nodos por sus índices en el DataFrame de flujos\n",
    "sankey_data['source_id'] = sankey_data['source'].map(node_mapping)\n",
    "sankey_data['target_id'] = sankey_data['target'].map(node_mapping)\n",
    "\n",
    "# 2. Creación del Gráfico Sankey con Plotly Graph Objects\n",
    "fig_sankey = go.Figure(data=[go.Sankey(\n",
    "    node=dict(\n",
    "      pad=15,\n",
    "      thickness=20,\n",
    "      line=dict(color=\"black\", width=0.5),\n",
    "      label=unique_nodes,\n",
    "    ),\n",
    "    link=dict(\n",
    "      source=sankey_data['source_id'],\n",
    "      target=sankey_data['target_id'],\n",
    "      value=sankey_data['value']\n",
    "  ))])\n",
    "\n",
    "# 3. Personalización y Estilo del Gráfico\n",
    "fig_sankey.update_layout(\n",
    "    title_text=\"<b>Diagrama Sankey del Flujo de Valoración de Sostenibilidad</b><br><sup>Flujo desde Bloque -> Pilar -> Macrosector</sup>\",\n",
    "    title_x=0.5,\n",
    "    font=dict(family=\"Arial, sans-serif\", size=12, color=\"black\")\n",
    ")\n",
    "\n",
    "fig_sankey.show()\n",
    "save_chart_as_html(fig_sankey, '07_sankey_diagram_sustainability_flows.html')\n",
    "# Save as image\n",
    "fig_sankey.write_image(\"img/07_sankey_diagram_sustainability_flows.png\", width=1000, height=800, scale=2)\n"
   ]
  },
  {
   "cell_type": "markdown",
   "metadata": {},
   "source": [
    "## 8. Gráfico Solar (Sunburst) de la Jerarquía del Desempeño"
   ]
  },
  {
   "cell_type": "code",
   "execution_count": 42,
   "metadata": {},
   "outputs": [
    {
     "data": {
      "application/vnd.plotly.v1+json": {
       "config": {
        "plotlyServerURL": "https://plot.ly"
       },
       "data": [
        {
         "branchvalues": "total",
         "customdata": {
          "bdata": "z1lpSBmXLkBdfS6xNbgqQCgEmwgVAThAJPc8Sp1hJUCmuHgOxuslQEdocRTE6iFAFonda/7/I0BhwZPnrYEnQLkUamDuGjVAYgpFfdMRMUALVQtmvDEsQP15hDTVUi9AALfd+WtVH0DWSNfah4k1QKCrvwbPgC1AoLC8kolfMUABLzXO0eQiQOy0UWKCRTVAccGyv2x1MEB9AYtJSnstQJoKmUUoizBACvrxtMTiMECDVvBSpT8wQA==",
          "dtype": "f8",
          "shape": "23, 1"
         },
         "domain": {
          "x": [
           0,
           1
          ],
          "y": [
           0,
           1
          ]
         },
         "hovertemplate": "<b>%{label}</b><br>Valoración Ponderada Total: %{value:,.2f}<br>Contribución al Padre: %{percentParent:.2%}<extra></extra>",
         "ids": [
          "Desempeño Total/Impacto ambiental/Acción Climática y Energía",
          "Desempeño Total/Impacto ambiental/Capital Humano: Bienestar y Desarrollo",
          "Desempeño Total/Impacto ambiental/Diversidad, Equidad e Inclusión (DEI)",
          "Desempeño Total/Impacto ambiental/Gestión de Recursos Naturales y Circularidad",
          "Desempeño Total/Impacto ambiental/Impacto Económico, Social y Comunitario",
          "Desempeño Total/Impacto económico y gobernanza/Diversidad, Equidad e Inclusión (DEI)",
          "Desempeño Total/Impacto económico y gobernanza/Gestión de Recursos Naturales y Circularidad",
          "Desempeño Total/Impacto económico y gobernanza/Impacto Económico, Social y Comunitario",
          "Desempeño Total/Impacto económico y gobernanza/Transparencia y Gobierno de la Sostenibilidad",
          "Desempeño Total/Impacto social /Acción Climática y Energía",
          "Desempeño Total/Impacto social /Capital Humano: Bienestar y Desarrollo",
          "Desempeño Total/Impacto social /Diversidad, Equidad e Inclusión (DEI)",
          "Desempeño Total/Impacto social /Impacto Económico, Social y Comunitario",
          "Desempeño Total/Impacto social /Transparencia y Gobierno de la Sostenibilidad",
          "Desempeño Total/Información general/Acción Climática y Energía",
          "Desempeño Total/Información general/Capital Humano: Bienestar y Desarrollo",
          "Desempeño Total/Información general/Gestión de Recursos Naturales y Circularidad",
          "Desempeño Total/Información general/Transparencia y Gobierno de la Sostenibilidad",
          "Desempeño Total/Impacto ambiental",
          "Desempeño Total/Impacto económico y gobernanza",
          "Desempeño Total/Impacto social ",
          "Desempeño Total/Información general",
          "Desempeño Total"
         ],
         "labels": [
          "Acción Climática y Energía",
          "Capital Humano: Bienestar y Desarrollo",
          "Diversidad, Equidad e Inclusión (DEI)",
          "Gestión de Recursos Naturales y Circularidad",
          "Impacto Económico, Social y Comunitario",
          "Diversidad, Equidad e Inclusión (DEI)",
          "Gestión de Recursos Naturales y Circularidad",
          "Impacto Económico, Social y Comunitario",
          "Transparencia y Gobierno de la Sostenibilidad",
          "Acción Climática y Energía",
          "Capital Humano: Bienestar y Desarrollo",
          "Diversidad, Equidad e Inclusión (DEI)",
          "Impacto Económico, Social y Comunitario",
          "Transparencia y Gobierno de la Sostenibilidad",
          "Acción Climática y Energía",
          "Capital Humano: Bienestar y Desarrollo",
          "Gestión de Recursos Naturales y Circularidad",
          "Transparencia y Gobierno de la Sostenibilidad",
          "Impacto ambiental",
          "Impacto económico y gobernanza",
          "Impacto social ",
          "Información general",
          "Desempeño Total"
         ],
         "marker": {
          "coloraxis": "coloraxis",
          "colors": {
           "bdata": "z1lpSBmXLkBdfS6xNbgqQCgEmwgVAThAJPc8Sp1hJUCmuHgOxuslQEdocRTE6iFAFonda/7/I0BhwZPnrYEnQLkUamDuGjVAYgpFfdMRMUALVQtmvDEsQP15hDTVUi9AALfd+WtVH0DWSNfah4k1QKCrvwbPgC1AoLC8kolfMUABLzXO0eQiQOy0UWKCRTVAccGyv2x1MEB9AYtJSnstQJoKmUUoizBACvrxtMTiMECDVvBSpT8wQA==",
           "dtype": "f8"
          }
         },
         "name": "",
         "parents": [
          "Desempeño Total/Impacto ambiental",
          "Desempeño Total/Impacto ambiental",
          "Desempeño Total/Impacto ambiental",
          "Desempeño Total/Impacto ambiental",
          "Desempeño Total/Impacto ambiental",
          "Desempeño Total/Impacto económico y gobernanza",
          "Desempeño Total/Impacto económico y gobernanza",
          "Desempeño Total/Impacto económico y gobernanza",
          "Desempeño Total/Impacto económico y gobernanza",
          "Desempeño Total/Impacto social ",
          "Desempeño Total/Impacto social ",
          "Desempeño Total/Impacto social ",
          "Desempeño Total/Impacto social ",
          "Desempeño Total/Impacto social ",
          "Desempeño Total/Información general",
          "Desempeño Total/Información general",
          "Desempeño Total/Información general",
          "Desempeño Total/Información general",
          "Desempeño Total",
          "Desempeño Total",
          "Desempeño Total",
          "Desempeño Total",
          ""
         ],
         "type": "sunburst",
         "values": {
          "bdata": "z1lpSBmXLkBdfS6xNbgqQCgEmwgVAThAJPc8Sp1hJUCmuHgOxuslQEdocRTE6iFAFonda/7/I0BgwZPnrYEnQLkUamDuGjVAYgpFfdMRMUALVQtmvDEsQP15hDTVUi9AALfd+WtVH0DWSNfah4k1QKCrvwbPgC1AoLC8kolfMUABLzXO0eQiQOy0UWKCRTVA6XFwjNuTUkAMty1Kk+hJQB/q9si/DFNAbmnEL+5rT0ARG5gEt5JwQA==",
          "dtype": "f8"
         }
        }
       ],
       "layout": {
        "coloraxis": {
         "colorbar": {
          "title": {
           "text": "valoracionPonderada_avg"
          }
         },
         "colorscale": [
          [
           0,
           "rgb(247,251,255)"
          ],
          [
           0.125,
           "rgb(222,235,247)"
          ],
          [
           0.25,
           "rgb(198,219,239)"
          ],
          [
           0.375,
           "rgb(158,202,225)"
          ],
          [
           0.5,
           "rgb(107,174,214)"
          ],
          [
           0.625,
           "rgb(66,146,198)"
          ],
          [
           0.75,
           "rgb(33,113,181)"
          ],
          [
           0.875,
           "rgb(8,81,156)"
          ],
          [
           1,
           "rgb(8,48,107)"
          ]
         ]
        },
        "font": {
         "color": "black",
         "family": "Arial, sans-serif",
         "size": 12
        },
        "legend": {
         "tracegroupgap": 0
        },
        "margin": {
         "b": 25,
         "l": 25,
         "r": 25,
         "t": 60
        },
        "template": {
         "data": {
          "bar": [
           {
            "error_x": {
             "color": "#2a3f5f"
            },
            "error_y": {
             "color": "#2a3f5f"
            },
            "marker": {
             "line": {
              "color": "#E5ECF6",
              "width": 0.5
             },
             "pattern": {
              "fillmode": "overlay",
              "size": 10,
              "solidity": 0.2
             }
            },
            "type": "bar"
           }
          ],
          "barpolar": [
           {
            "marker": {
             "line": {
              "color": "#E5ECF6",
              "width": 0.5
             },
             "pattern": {
              "fillmode": "overlay",
              "size": 10,
              "solidity": 0.2
             }
            },
            "type": "barpolar"
           }
          ],
          "carpet": [
           {
            "aaxis": {
             "endlinecolor": "#2a3f5f",
             "gridcolor": "white",
             "linecolor": "white",
             "minorgridcolor": "white",
             "startlinecolor": "#2a3f5f"
            },
            "baxis": {
             "endlinecolor": "#2a3f5f",
             "gridcolor": "white",
             "linecolor": "white",
             "minorgridcolor": "white",
             "startlinecolor": "#2a3f5f"
            },
            "type": "carpet"
           }
          ],
          "choropleth": [
           {
            "colorbar": {
             "outlinewidth": 0,
             "ticks": ""
            },
            "type": "choropleth"
           }
          ],
          "contour": [
           {
            "colorbar": {
             "outlinewidth": 0,
             "ticks": ""
            },
            "colorscale": [
             [
              0,
              "#0d0887"
             ],
             [
              0.1111111111111111,
              "#46039f"
             ],
             [
              0.2222222222222222,
              "#7201a8"
             ],
             [
              0.3333333333333333,
              "#9c179e"
             ],
             [
              0.4444444444444444,
              "#bd3786"
             ],
             [
              0.5555555555555556,
              "#d8576b"
             ],
             [
              0.6666666666666666,
              "#ed7953"
             ],
             [
              0.7777777777777778,
              "#fb9f3a"
             ],
             [
              0.8888888888888888,
              "#fdca26"
             ],
             [
              1,
              "#f0f921"
             ]
            ],
            "type": "contour"
           }
          ],
          "contourcarpet": [
           {
            "colorbar": {
             "outlinewidth": 0,
             "ticks": ""
            },
            "type": "contourcarpet"
           }
          ],
          "heatmap": [
           {
            "colorbar": {
             "outlinewidth": 0,
             "ticks": ""
            },
            "colorscale": [
             [
              0,
              "#0d0887"
             ],
             [
              0.1111111111111111,
              "#46039f"
             ],
             [
              0.2222222222222222,
              "#7201a8"
             ],
             [
              0.3333333333333333,
              "#9c179e"
             ],
             [
              0.4444444444444444,
              "#bd3786"
             ],
             [
              0.5555555555555556,
              "#d8576b"
             ],
             [
              0.6666666666666666,
              "#ed7953"
             ],
             [
              0.7777777777777778,
              "#fb9f3a"
             ],
             [
              0.8888888888888888,
              "#fdca26"
             ],
             [
              1,
              "#f0f921"
             ]
            ],
            "type": "heatmap"
           }
          ],
          "histogram": [
           {
            "marker": {
             "pattern": {
              "fillmode": "overlay",
              "size": 10,
              "solidity": 0.2
             }
            },
            "type": "histogram"
           }
          ],
          "histogram2d": [
           {
            "colorbar": {
             "outlinewidth": 0,
             "ticks": ""
            },
            "colorscale": [
             [
              0,
              "#0d0887"
             ],
             [
              0.1111111111111111,
              "#46039f"
             ],
             [
              0.2222222222222222,
              "#7201a8"
             ],
             [
              0.3333333333333333,
              "#9c179e"
             ],
             [
              0.4444444444444444,
              "#bd3786"
             ],
             [
              0.5555555555555556,
              "#d8576b"
             ],
             [
              0.6666666666666666,
              "#ed7953"
             ],
             [
              0.7777777777777778,
              "#fb9f3a"
             ],
             [
              0.8888888888888888,
              "#fdca26"
             ],
             [
              1,
              "#f0f921"
             ]
            ],
            "type": "histogram2d"
           }
          ],
          "histogram2dcontour": [
           {
            "colorbar": {
             "outlinewidth": 0,
             "ticks": ""
            },
            "colorscale": [
             [
              0,
              "#0d0887"
             ],
             [
              0.1111111111111111,
              "#46039f"
             ],
             [
              0.2222222222222222,
              "#7201a8"
             ],
             [
              0.3333333333333333,
              "#9c179e"
             ],
             [
              0.4444444444444444,
              "#bd3786"
             ],
             [
              0.5555555555555556,
              "#d8576b"
             ],
             [
              0.6666666666666666,
              "#ed7953"
             ],
             [
              0.7777777777777778,
              "#fb9f3a"
             ],
             [
              0.8888888888888888,
              "#fdca26"
             ],
             [
              1,
              "#f0f921"
             ]
            ],
            "type": "histogram2dcontour"
           }
          ],
          "mesh3d": [
           {
            "colorbar": {
             "outlinewidth": 0,
             "ticks": ""
            },
            "type": "mesh3d"
           }
          ],
          "parcoords": [
           {
            "line": {
             "colorbar": {
              "outlinewidth": 0,
              "ticks": ""
             }
            },
            "type": "parcoords"
           }
          ],
          "pie": [
           {
            "automargin": true,
            "type": "pie"
           }
          ],
          "scatter": [
           {
            "fillpattern": {
             "fillmode": "overlay",
             "size": 10,
             "solidity": 0.2
            },
            "type": "scatter"
           }
          ],
          "scatter3d": [
           {
            "line": {
             "colorbar": {
              "outlinewidth": 0,
              "ticks": ""
             }
            },
            "marker": {
             "colorbar": {
              "outlinewidth": 0,
              "ticks": ""
             }
            },
            "type": "scatter3d"
           }
          ],
          "scattercarpet": [
           {
            "marker": {
             "colorbar": {
              "outlinewidth": 0,
              "ticks": ""
             }
            },
            "type": "scattercarpet"
           }
          ],
          "scattergeo": [
           {
            "marker": {
             "colorbar": {
              "outlinewidth": 0,
              "ticks": ""
             }
            },
            "type": "scattergeo"
           }
          ],
          "scattergl": [
           {
            "marker": {
             "colorbar": {
              "outlinewidth": 0,
              "ticks": ""
             }
            },
            "type": "scattergl"
           }
          ],
          "scattermap": [
           {
            "marker": {
             "colorbar": {
              "outlinewidth": 0,
              "ticks": ""
             }
            },
            "type": "scattermap"
           }
          ],
          "scattermapbox": [
           {
            "marker": {
             "colorbar": {
              "outlinewidth": 0,
              "ticks": ""
             }
            },
            "type": "scattermapbox"
           }
          ],
          "scatterpolar": [
           {
            "marker": {
             "colorbar": {
              "outlinewidth": 0,
              "ticks": ""
             }
            },
            "type": "scatterpolar"
           }
          ],
          "scatterpolargl": [
           {
            "marker": {
             "colorbar": {
              "outlinewidth": 0,
              "ticks": ""
             }
            },
            "type": "scatterpolargl"
           }
          ],
          "scatterternary": [
           {
            "marker": {
             "colorbar": {
              "outlinewidth": 0,
              "ticks": ""
             }
            },
            "type": "scatterternary"
           }
          ],
          "surface": [
           {
            "colorbar": {
             "outlinewidth": 0,
             "ticks": ""
            },
            "colorscale": [
             [
              0,
              "#0d0887"
             ],
             [
              0.1111111111111111,
              "#46039f"
             ],
             [
              0.2222222222222222,
              "#7201a8"
             ],
             [
              0.3333333333333333,
              "#9c179e"
             ],
             [
              0.4444444444444444,
              "#bd3786"
             ],
             [
              0.5555555555555556,
              "#d8576b"
             ],
             [
              0.6666666666666666,
              "#ed7953"
             ],
             [
              0.7777777777777778,
              "#fb9f3a"
             ],
             [
              0.8888888888888888,
              "#fdca26"
             ],
             [
              1,
              "#f0f921"
             ]
            ],
            "type": "surface"
           }
          ],
          "table": [
           {
            "cells": {
             "fill": {
              "color": "#EBF0F8"
             },
             "line": {
              "color": "white"
             }
            },
            "header": {
             "fill": {
              "color": "#C8D4E3"
             },
             "line": {
              "color": "white"
             }
            },
            "type": "table"
           }
          ]
         },
         "layout": {
          "annotationdefaults": {
           "arrowcolor": "#2a3f5f",
           "arrowhead": 0,
           "arrowwidth": 1
          },
          "autotypenumbers": "strict",
          "coloraxis": {
           "colorbar": {
            "outlinewidth": 0,
            "ticks": ""
           }
          },
          "colorscale": {
           "diverging": [
            [
             0,
             "#8e0152"
            ],
            [
             0.1,
             "#c51b7d"
            ],
            [
             0.2,
             "#de77ae"
            ],
            [
             0.3,
             "#f1b6da"
            ],
            [
             0.4,
             "#fde0ef"
            ],
            [
             0.5,
             "#f7f7f7"
            ],
            [
             0.6,
             "#e6f5d0"
            ],
            [
             0.7,
             "#b8e186"
            ],
            [
             0.8,
             "#7fbc41"
            ],
            [
             0.9,
             "#4d9221"
            ],
            [
             1,
             "#276419"
            ]
           ],
           "sequential": [
            [
             0,
             "#0d0887"
            ],
            [
             0.1111111111111111,
             "#46039f"
            ],
            [
             0.2222222222222222,
             "#7201a8"
            ],
            [
             0.3333333333333333,
             "#9c179e"
            ],
            [
             0.4444444444444444,
             "#bd3786"
            ],
            [
             0.5555555555555556,
             "#d8576b"
            ],
            [
             0.6666666666666666,
             "#ed7953"
            ],
            [
             0.7777777777777778,
             "#fb9f3a"
            ],
            [
             0.8888888888888888,
             "#fdca26"
            ],
            [
             1,
             "#f0f921"
            ]
           ],
           "sequentialminus": [
            [
             0,
             "#0d0887"
            ],
            [
             0.1111111111111111,
             "#46039f"
            ],
            [
             0.2222222222222222,
             "#7201a8"
            ],
            [
             0.3333333333333333,
             "#9c179e"
            ],
            [
             0.4444444444444444,
             "#bd3786"
            ],
            [
             0.5555555555555556,
             "#d8576b"
            ],
            [
             0.6666666666666666,
             "#ed7953"
            ],
            [
             0.7777777777777778,
             "#fb9f3a"
            ],
            [
             0.8888888888888888,
             "#fdca26"
            ],
            [
             1,
             "#f0f921"
            ]
           ]
          },
          "colorway": [
           "#636efa",
           "#EF553B",
           "#00cc96",
           "#ab63fa",
           "#FFA15A",
           "#19d3f3",
           "#FF6692",
           "#B6E880",
           "#FF97FF",
           "#FECB52"
          ],
          "font": {
           "color": "#2a3f5f"
          },
          "geo": {
           "bgcolor": "white",
           "lakecolor": "white",
           "landcolor": "#E5ECF6",
           "showlakes": true,
           "showland": true,
           "subunitcolor": "white"
          },
          "hoverlabel": {
           "align": "left"
          },
          "hovermode": "closest",
          "mapbox": {
           "style": "light"
          },
          "paper_bgcolor": "white",
          "plot_bgcolor": "#E5ECF6",
          "polar": {
           "angularaxis": {
            "gridcolor": "white",
            "linecolor": "white",
            "ticks": ""
           },
           "bgcolor": "#E5ECF6",
           "radialaxis": {
            "gridcolor": "white",
            "linecolor": "white",
            "ticks": ""
           }
          },
          "scene": {
           "xaxis": {
            "backgroundcolor": "#E5ECF6",
            "gridcolor": "white",
            "gridwidth": 2,
            "linecolor": "white",
            "showbackground": true,
            "ticks": "",
            "zerolinecolor": "white"
           },
           "yaxis": {
            "backgroundcolor": "#E5ECF6",
            "gridcolor": "white",
            "gridwidth": 2,
            "linecolor": "white",
            "showbackground": true,
            "ticks": "",
            "zerolinecolor": "white"
           },
           "zaxis": {
            "backgroundcolor": "#E5ECF6",
            "gridcolor": "white",
            "gridwidth": 2,
            "linecolor": "white",
            "showbackground": true,
            "ticks": "",
            "zerolinecolor": "white"
           }
          },
          "shapedefaults": {
           "line": {
            "color": "#2a3f5f"
           }
          },
          "ternary": {
           "aaxis": {
            "gridcolor": "white",
            "linecolor": "white",
            "ticks": ""
           },
           "baxis": {
            "gridcolor": "white",
            "linecolor": "white",
            "ticks": ""
           },
           "bgcolor": "#E5ECF6",
           "caxis": {
            "gridcolor": "white",
            "linecolor": "white",
            "ticks": ""
           }
          },
          "title": {
           "x": 0.05
          },
          "xaxis": {
           "automargin": true,
           "gridcolor": "white",
           "linecolor": "white",
           "ticks": "",
           "title": {
            "standoff": 15
           },
           "zerolinecolor": "white",
           "zerolinewidth": 2
          },
          "yaxis": {
           "automargin": true,
           "gridcolor": "white",
           "linecolor": "white",
           "ticks": "",
           "title": {
            "standoff": 15
           },
           "zerolinecolor": "white",
           "zerolinewidth": 2
          }
         }
        },
        "title": {
         "text": "<b>Gráfico Solar de la Jerarquía del Desempeño en Sostenibilidad</b><br><sup>Tamaño y color representan la contribución de cada área</sup>",
         "x": 0.5
        }
       }
      }
     },
     "metadata": {},
     "output_type": "display_data"
    }
   ],
   "source": [
    "# 1. Preparación de Datos para el Sunburst\n",
    "# No se requiere una gran preparación, Plotly Express puede manejar la jerarquía directamente.\n",
    "# Se asegura que no haya valores nulos en las columnas de la jerarquía.\n",
    "sunburst_data = raw_data.dropna(subset=['Bloque', 'Nombre Pilar'])\n",
    "sunburst_data = sunburst_data[sunburst_data['valoracionPonderada'] > 0]\n",
    "\n",
    "# 2. Creación del Gráfico Sunburst con Plotly Express\n",
    "# Agrupar los datos para calcular el promedio de 'valoracionPonderada'\n",
    "# Esto es necesario porque queremos que el tamaño y el color reflejen el desempeño promedio, no la suma.\n",
    "sunburst_agg_data = sunburst_data.groupby(['Bloque', 'Nombre Pilar']).agg(\n",
    "    valoracionPonderada_avg=('valoracionPonderada', 'mean')\n",
    ").reset_index()\n",
    "\n",
    "fig_sunburst = px.sunburst(\n",
    "    sunburst_agg_data,\n",
    "    # La jerarquía define los anillos del gráfico, desde el centro hacia afuera.\n",
    "    path=[px.Constant(\"Desempeño Total\"), 'Bloque', 'Nombre Pilar'],\n",
    "    # El tamaño y el color de cada segmento se basan en el promedio de la valoración ponderada.\n",
    "    values='valoracionPonderada_avg',\n",
    "    color='valoracionPonderada_avg',\n",
    "    # Se usa una escala de color que va de un color claro a uno oscuro para representar la magnitud.\n",
    "    color_continuous_scale='Blues',\n",
    "    hover_data={'valoracionPonderada_avg': ':.2f'}\n",
    ")\n",
    "\n",
    "# 3. Personalización y Estilo del Gráfico\n",
    "fig_sunburst.update_layout(\n",
    "    title_text=\"<b>Gráfico Solar de la Jerarquía del Desempeño en Sostenibilidad</b><br><sup>Tamaño y color representan la contribución de cada área</sup>\",\n",
    "    title_x=0.5,\n",
    "    margin = dict(t=60, l=25, r=25, b=25),\n",
    "    font=dict(family=\"Arial, sans-serif\", size=12, color=\"black\")\n",
    ")\n",
    "\n",
    "# Personalización del hover para mostrar la información de forma más clara\n",
    "fig_sunburst.update_traces(\n",
    "    hovertemplate='<b>%{label}</b><br>Valoración Ponderada Total: %{value:,.2f}<br>Contribución al Padre: %{percentParent:.2%}<extra></extra>'\n",
    ")\n",
    "\n",
    "fig_sunburst.show()\n",
    "save_chart_as_html(fig_sunburst, '08_sunburst_performance_hierarchy.html')\n",
    "# Save as image\n",
    "fig_sunburst.write_image(\"img/08_sunburst_performance_hierarchy.png\", width=1000, height=800, scale=2)"
   ]
  },
  {
   "cell_type": "markdown",
   "metadata": {},
   "source": [
    "## 9. Matriz de Correlación entre Pilares de Sostenibilidad"
   ]
  },
  {
   "cell_type": "code",
   "execution_count": 26,
   "metadata": {},
   "outputs": [
    {
     "data": {
      "application/vnd.plotly.v1+json": {
       "config": {
        "plotlyServerURL": "https://plot.ly"
       },
       "data": [
        {
         "coloraxis": "coloraxis",
         "hovertemplate": "x: %{x}<br>y: %{y}<br>color: %{z}<extra></extra>",
         "name": "0",
         "texttemplate": "%{z}",
         "type": "heatmap",
         "x": [
          "Acción Climática y Energía",
          "Capital Humano: Bienestar y Desarrollo",
          "Diversidad, Equidad e Inclusión (DEI)",
          "Gestión de Recursos Naturales y Circularidad",
          "Impacto Económico, Social y Comunitario",
          "Transparencia y Gobierno de la Sostenibilidad"
         ],
         "xaxis": "x",
         "y": [
          "Acción Climática y Energía",
          "Capital Humano: Bienestar y Desarrollo",
          "Diversidad, Equidad e Inclusión (DEI)",
          "Gestión de Recursos Naturales y Circularidad",
          "Impacto Económico, Social y Comunitario",
          "Transparencia y Gobierno de la Sostenibilidad"
         ],
         "yaxis": "y",
         "z": {
          "bdata": "AAAAAAAA8D+vvdTK2oXkP3eHj77outs/geMvnXgq5j92hSGRHeziPxN/5P/Q8eE/r73UytqF5D8AAAAAAADwP3WNzUg7gtU/X6iweP2x5T9gD+Cp+OThPyGAAIWrot0/d4ePvui62z91jc1IO4LVPwAAAAAAAPA/0BO7kUf8wD8Qa/Aj1dngP9T5NOmSTeU/geMvnXgq5j9fqLB4/bHlP9ATu5FH/MA/AAAAAAAA8D9qHWHksLjhP4YXKXLPf84/doUhkR3s4j9gD+Cp+OThPxBr8CPV2eA/ah1h5LC44T8AAAAAAADwPyrmB/MBXeQ/E3/k/9Dx4T8hgACFq6LdP9T5NOmSTeU/hhcpcs9/zj8q5gfzAV3kPwAAAAAAAPA/",
          "dtype": "f8",
          "shape": "6, 6"
         }
        }
       ],
       "layout": {
        "coloraxis": {
         "cmax": 1,
         "cmin": -1,
         "colorscale": [
          [
           0,
           "rgb(247,251,255)"
          ],
          [
           0.125,
           "rgb(222,235,247)"
          ],
          [
           0.25,
           "rgb(198,219,239)"
          ],
          [
           0.375,
           "rgb(158,202,225)"
          ],
          [
           0.5,
           "rgb(107,174,214)"
          ],
          [
           0.625,
           "rgb(66,146,198)"
          ],
          [
           0.75,
           "rgb(33,113,181)"
          ],
          [
           0.875,
           "rgb(8,81,156)"
          ],
          [
           1,
           "rgb(8,48,107)"
          ]
         ]
        },
        "font": {
         "color": "black",
         "family": "Arial, sans-serif",
         "size": 10
        },
        "margin": {
         "t": 60
        },
        "template": {
         "data": {
          "bar": [
           {
            "error_x": {
             "color": "#2a3f5f"
            },
            "error_y": {
             "color": "#2a3f5f"
            },
            "marker": {
             "line": {
              "color": "#E5ECF6",
              "width": 0.5
             },
             "pattern": {
              "fillmode": "overlay",
              "size": 10,
              "solidity": 0.2
             }
            },
            "type": "bar"
           }
          ],
          "barpolar": [
           {
            "marker": {
             "line": {
              "color": "#E5ECF6",
              "width": 0.5
             },
             "pattern": {
              "fillmode": "overlay",
              "size": 10,
              "solidity": 0.2
             }
            },
            "type": "barpolar"
           }
          ],
          "carpet": [
           {
            "aaxis": {
             "endlinecolor": "#2a3f5f",
             "gridcolor": "white",
             "linecolor": "white",
             "minorgridcolor": "white",
             "startlinecolor": "#2a3f5f"
            },
            "baxis": {
             "endlinecolor": "#2a3f5f",
             "gridcolor": "white",
             "linecolor": "white",
             "minorgridcolor": "white",
             "startlinecolor": "#2a3f5f"
            },
            "type": "carpet"
           }
          ],
          "choropleth": [
           {
            "colorbar": {
             "outlinewidth": 0,
             "ticks": ""
            },
            "type": "choropleth"
           }
          ],
          "contour": [
           {
            "colorbar": {
             "outlinewidth": 0,
             "ticks": ""
            },
            "colorscale": [
             [
              0,
              "#0d0887"
             ],
             [
              0.1111111111111111,
              "#46039f"
             ],
             [
              0.2222222222222222,
              "#7201a8"
             ],
             [
              0.3333333333333333,
              "#9c179e"
             ],
             [
              0.4444444444444444,
              "#bd3786"
             ],
             [
              0.5555555555555556,
              "#d8576b"
             ],
             [
              0.6666666666666666,
              "#ed7953"
             ],
             [
              0.7777777777777778,
              "#fb9f3a"
             ],
             [
              0.8888888888888888,
              "#fdca26"
             ],
             [
              1,
              "#f0f921"
             ]
            ],
            "type": "contour"
           }
          ],
          "contourcarpet": [
           {
            "colorbar": {
             "outlinewidth": 0,
             "ticks": ""
            },
            "type": "contourcarpet"
           }
          ],
          "heatmap": [
           {
            "colorbar": {
             "outlinewidth": 0,
             "ticks": ""
            },
            "colorscale": [
             [
              0,
              "#0d0887"
             ],
             [
              0.1111111111111111,
              "#46039f"
             ],
             [
              0.2222222222222222,
              "#7201a8"
             ],
             [
              0.3333333333333333,
              "#9c179e"
             ],
             [
              0.4444444444444444,
              "#bd3786"
             ],
             [
              0.5555555555555556,
              "#d8576b"
             ],
             [
              0.6666666666666666,
              "#ed7953"
             ],
             [
              0.7777777777777778,
              "#fb9f3a"
             ],
             [
              0.8888888888888888,
              "#fdca26"
             ],
             [
              1,
              "#f0f921"
             ]
            ],
            "type": "heatmap"
           }
          ],
          "histogram": [
           {
            "marker": {
             "pattern": {
              "fillmode": "overlay",
              "size": 10,
              "solidity": 0.2
             }
            },
            "type": "histogram"
           }
          ],
          "histogram2d": [
           {
            "colorbar": {
             "outlinewidth": 0,
             "ticks": ""
            },
            "colorscale": [
             [
              0,
              "#0d0887"
             ],
             [
              0.1111111111111111,
              "#46039f"
             ],
             [
              0.2222222222222222,
              "#7201a8"
             ],
             [
              0.3333333333333333,
              "#9c179e"
             ],
             [
              0.4444444444444444,
              "#bd3786"
             ],
             [
              0.5555555555555556,
              "#d8576b"
             ],
             [
              0.6666666666666666,
              "#ed7953"
             ],
             [
              0.7777777777777778,
              "#fb9f3a"
             ],
             [
              0.8888888888888888,
              "#fdca26"
             ],
             [
              1,
              "#f0f921"
             ]
            ],
            "type": "histogram2d"
           }
          ],
          "histogram2dcontour": [
           {
            "colorbar": {
             "outlinewidth": 0,
             "ticks": ""
            },
            "colorscale": [
             [
              0,
              "#0d0887"
             ],
             [
              0.1111111111111111,
              "#46039f"
             ],
             [
              0.2222222222222222,
              "#7201a8"
             ],
             [
              0.3333333333333333,
              "#9c179e"
             ],
             [
              0.4444444444444444,
              "#bd3786"
             ],
             [
              0.5555555555555556,
              "#d8576b"
             ],
             [
              0.6666666666666666,
              "#ed7953"
             ],
             [
              0.7777777777777778,
              "#fb9f3a"
             ],
             [
              0.8888888888888888,
              "#fdca26"
             ],
             [
              1,
              "#f0f921"
             ]
            ],
            "type": "histogram2dcontour"
           }
          ],
          "mesh3d": [
           {
            "colorbar": {
             "outlinewidth": 0,
             "ticks": ""
            },
            "type": "mesh3d"
           }
          ],
          "parcoords": [
           {
            "line": {
             "colorbar": {
              "outlinewidth": 0,
              "ticks": ""
             }
            },
            "type": "parcoords"
           }
          ],
          "pie": [
           {
            "automargin": true,
            "type": "pie"
           }
          ],
          "scatter": [
           {
            "fillpattern": {
             "fillmode": "overlay",
             "size": 10,
             "solidity": 0.2
            },
            "type": "scatter"
           }
          ],
          "scatter3d": [
           {
            "line": {
             "colorbar": {
              "outlinewidth": 0,
              "ticks": ""
             }
            },
            "marker": {
             "colorbar": {
              "outlinewidth": 0,
              "ticks": ""
             }
            },
            "type": "scatter3d"
           }
          ],
          "scattercarpet": [
           {
            "marker": {
             "colorbar": {
              "outlinewidth": 0,
              "ticks": ""
             }
            },
            "type": "scattercarpet"
           }
          ],
          "scattergeo": [
           {
            "marker": {
             "colorbar": {
              "outlinewidth": 0,
              "ticks": ""
             }
            },
            "type": "scattergeo"
           }
          ],
          "scattergl": [
           {
            "marker": {
             "colorbar": {
              "outlinewidth": 0,
              "ticks": ""
             }
            },
            "type": "scattergl"
           }
          ],
          "scattermap": [
           {
            "marker": {
             "colorbar": {
              "outlinewidth": 0,
              "ticks": ""
             }
            },
            "type": "scattermap"
           }
          ],
          "scattermapbox": [
           {
            "marker": {
             "colorbar": {
              "outlinewidth": 0,
              "ticks": ""
             }
            },
            "type": "scattermapbox"
           }
          ],
          "scatterpolar": [
           {
            "marker": {
             "colorbar": {
              "outlinewidth": 0,
              "ticks": ""
             }
            },
            "type": "scatterpolar"
           }
          ],
          "scatterpolargl": [
           {
            "marker": {
             "colorbar": {
              "outlinewidth": 0,
              "ticks": ""
             }
            },
            "type": "scatterpolargl"
           }
          ],
          "scatterternary": [
           {
            "marker": {
             "colorbar": {
              "outlinewidth": 0,
              "ticks": ""
             }
            },
            "type": "scatterternary"
           }
          ],
          "surface": [
           {
            "colorbar": {
             "outlinewidth": 0,
             "ticks": ""
            },
            "colorscale": [
             [
              0,
              "#0d0887"
             ],
             [
              0.1111111111111111,
              "#46039f"
             ],
             [
              0.2222222222222222,
              "#7201a8"
             ],
             [
              0.3333333333333333,
              "#9c179e"
             ],
             [
              0.4444444444444444,
              "#bd3786"
             ],
             [
              0.5555555555555556,
              "#d8576b"
             ],
             [
              0.6666666666666666,
              "#ed7953"
             ],
             [
              0.7777777777777778,
              "#fb9f3a"
             ],
             [
              0.8888888888888888,
              "#fdca26"
             ],
             [
              1,
              "#f0f921"
             ]
            ],
            "type": "surface"
           }
          ],
          "table": [
           {
            "cells": {
             "fill": {
              "color": "#EBF0F8"
             },
             "line": {
              "color": "white"
             }
            },
            "header": {
             "fill": {
              "color": "#C8D4E3"
             },
             "line": {
              "color": "white"
             }
            },
            "type": "table"
           }
          ]
         },
         "layout": {
          "annotationdefaults": {
           "arrowcolor": "#2a3f5f",
           "arrowhead": 0,
           "arrowwidth": 1
          },
          "autotypenumbers": "strict",
          "coloraxis": {
           "colorbar": {
            "outlinewidth": 0,
            "ticks": ""
           }
          },
          "colorscale": {
           "diverging": [
            [
             0,
             "#8e0152"
            ],
            [
             0.1,
             "#c51b7d"
            ],
            [
             0.2,
             "#de77ae"
            ],
            [
             0.3,
             "#f1b6da"
            ],
            [
             0.4,
             "#fde0ef"
            ],
            [
             0.5,
             "#f7f7f7"
            ],
            [
             0.6,
             "#e6f5d0"
            ],
            [
             0.7,
             "#b8e186"
            ],
            [
             0.8,
             "#7fbc41"
            ],
            [
             0.9,
             "#4d9221"
            ],
            [
             1,
             "#276419"
            ]
           ],
           "sequential": [
            [
             0,
             "#0d0887"
            ],
            [
             0.1111111111111111,
             "#46039f"
            ],
            [
             0.2222222222222222,
             "#7201a8"
            ],
            [
             0.3333333333333333,
             "#9c179e"
            ],
            [
             0.4444444444444444,
             "#bd3786"
            ],
            [
             0.5555555555555556,
             "#d8576b"
            ],
            [
             0.6666666666666666,
             "#ed7953"
            ],
            [
             0.7777777777777778,
             "#fb9f3a"
            ],
            [
             0.8888888888888888,
             "#fdca26"
            ],
            [
             1,
             "#f0f921"
            ]
           ],
           "sequentialminus": [
            [
             0,
             "#0d0887"
            ],
            [
             0.1111111111111111,
             "#46039f"
            ],
            [
             0.2222222222222222,
             "#7201a8"
            ],
            [
             0.3333333333333333,
             "#9c179e"
            ],
            [
             0.4444444444444444,
             "#bd3786"
            ],
            [
             0.5555555555555556,
             "#d8576b"
            ],
            [
             0.6666666666666666,
             "#ed7953"
            ],
            [
             0.7777777777777778,
             "#fb9f3a"
            ],
            [
             0.8888888888888888,
             "#fdca26"
            ],
            [
             1,
             "#f0f921"
            ]
           ]
          },
          "colorway": [
           "#636efa",
           "#EF553B",
           "#00cc96",
           "#ab63fa",
           "#FFA15A",
           "#19d3f3",
           "#FF6692",
           "#B6E880",
           "#FF97FF",
           "#FECB52"
          ],
          "font": {
           "color": "#2a3f5f"
          },
          "geo": {
           "bgcolor": "white",
           "lakecolor": "white",
           "landcolor": "#E5ECF6",
           "showlakes": true,
           "showland": true,
           "subunitcolor": "white"
          },
          "hoverlabel": {
           "align": "left"
          },
          "hovermode": "closest",
          "mapbox": {
           "style": "light"
          },
          "paper_bgcolor": "white",
          "plot_bgcolor": "#E5ECF6",
          "polar": {
           "angularaxis": {
            "gridcolor": "white",
            "linecolor": "white",
            "ticks": ""
           },
           "bgcolor": "#E5ECF6",
           "radialaxis": {
            "gridcolor": "white",
            "linecolor": "white",
            "ticks": ""
           }
          },
          "scene": {
           "xaxis": {
            "backgroundcolor": "#E5ECF6",
            "gridcolor": "white",
            "gridwidth": 2,
            "linecolor": "white",
            "showbackground": true,
            "ticks": "",
            "zerolinecolor": "white"
           },
           "yaxis": {
            "backgroundcolor": "#E5ECF6",
            "gridcolor": "white",
            "gridwidth": 2,
            "linecolor": "white",
            "showbackground": true,
            "ticks": "",
            "zerolinecolor": "white"
           },
           "zaxis": {
            "backgroundcolor": "#E5ECF6",
            "gridcolor": "white",
            "gridwidth": 2,
            "linecolor": "white",
            "showbackground": true,
            "ticks": "",
            "zerolinecolor": "white"
           }
          },
          "shapedefaults": {
           "line": {
            "color": "#2a3f5f"
           }
          },
          "ternary": {
           "aaxis": {
            "gridcolor": "white",
            "linecolor": "white",
            "ticks": ""
           },
           "baxis": {
            "gridcolor": "white",
            "linecolor": "white",
            "ticks": ""
           },
           "bgcolor": "#E5ECF6",
           "caxis": {
            "gridcolor": "white",
            "linecolor": "white",
            "ticks": ""
           }
          },
          "title": {
           "x": 0.05
          },
          "xaxis": {
           "automargin": true,
           "gridcolor": "white",
           "linecolor": "white",
           "ticks": "",
           "title": {
            "standoff": 15
           },
           "zerolinecolor": "white",
           "zerolinewidth": 2
          },
          "yaxis": {
           "automargin": true,
           "gridcolor": "white",
           "linecolor": "white",
           "ticks": "",
           "title": {
            "standoff": 15
           },
           "zerolinecolor": "white",
           "zerolinewidth": 2
          }
         }
        },
        "title": {
         "text": "<b>Matriz de Correlación entre Pilares de Sostenibilidad</b><br><sup>Revela sinergias (azul) y trade-offs (rojo)</sup>",
         "x": 0.5
        },
        "xaxis": {
         "anchor": "y",
         "domain": [
          0,
          1
         ],
         "tickangle": -45
        },
        "yaxis": {
         "anchor": "x",
         "autorange": "reversed",
         "domain": [
          0,
          1
         ]
        }
       }
      }
     },
     "metadata": {},
     "output_type": "display_data"
    }
   ],
   "source": [
    "# --- 9. Matriz de Correlación entre Pilares de Sostenibilidad ---\n",
    "pillar_data = parallel_coords_df[dimensions]\n",
    "correlation_matrix = pillar_data.corr()\n",
    "fig_corr_matrix = px.imshow(\n",
    "    correlation_matrix,\n",
    "    text_auto=True,\n",
    "    aspect=\"auto\",\n",
    "    color_continuous_scale='blues', \n",
    "    zmin=-1, zmax=1\n",
    ")\n",
    "fig_corr_matrix.update_layout(\n",
    "    title_text='<b>Matriz de Correlación entre Pilares de Sostenibilidad</b><br><sup>Revela sinergias (azul) y trade-offs (rojo)</sup>',\n",
    "    title_x=0.5,\n",
    "    xaxis_tickangle=-45,\n",
    "    font=dict(family=\"Arial, sans-serif\", size=10, color=\"black\")\n",
    ")\n",
    "fig_corr_matrix.show()\n",
    "save_chart_as_html(fig_corr_matrix, '09_correlation_matrix_sustainability_pillars.html')\n",
    "# Save as image\n",
    "fig_corr_matrix.write_image(\"img/09_correlation_matrix_sustainability_pillars.png\", width=1000, height=800, scale=2)"
   ]
  },
  {
   "cell_type": "markdown",
   "metadata": {},
   "source": [
    "## 10. Gráfico de Barras Divergentes: Desempeño Relativo al Sector"
   ]
  },
  {
   "cell_type": "code",
   "execution_count": 27,
   "metadata": {},
   "outputs": [
    {
     "data": {
      "application/vnd.plotly.v1+json": {
       "config": {
        "plotlyServerURL": "https://plot.ly"
       },
       "data": [
        {
         "hovertemplate": "Desempeño_Relativo=Inferior al Promedio<br>Diferencia vs. Promedio del Sector=%{x}<br>Empresa=%{y}<extra></extra>",
         "legendgroup": "Inferior al Promedio",
         "marker": {
          "color": "red",
          "pattern": {
           "shape": ""
          }
         },
         "name": "Inferior al Promedio",
         "orientation": "h",
         "showlegend": true,
         "textposition": "auto",
         "type": "bar",
         "x": {
          "bdata": "SE9B5MkQVsBIT0HkyRBWwBdsqr+AflLA1k2GB/EdPsCZ6ypBZc9rwJnrKkFlz2vAmesqQWXPa8CZ6ypBZc9rwBTdeC0qXmrAg7azyOxWasCDtrPI7FZqwLZW3OIh1mnAboE8UHTeaMBCF05fg+1lwAwAT/ByNkPADoxJ6cTla8D0KBq8lzhowDjXj5A6UFPAGNpoBvblQsCYNWExocw0wHK74hg22nTAcrviGDbadMDlCUuCnwNzwFmO1L0bVmPAwrE2HXBjWMDMI9onJ9VWwMIOr56JUFTAOl6NmWxAVMBoIQmQHPpNwDAILxojmUXAIEVBQcK+OcAGsgn2jP12wMok+uerLHTAoK8srePEUMDwFCc7GRg4wEAnvys1oXfAfEKy407zXcA4RcpMTRtUwOj9rcCSV1HAAIyQlAy/RcDgt928l+gvwA==",
          "dtype": "f8"
         },
         "xaxis": "x",
         "y": [
          "AVICOLA EL MADROÑO SA",
          "INCUBADORA SANTANDER S.A. (Huevos Kikes)",
          "Sunshine Bouquet",
          "AVSA",
          "ARA",
          "Biomax",
          "Corbeta",
          "Tecnoquimicas",
          "Petromil",
          "CI Eslop",
          "Distracom",
          "Suramerica Comercial (Dollar City)",
          "Unilever",
          "Olímpica",
          "Chevron",
          "ARQUITECTURA Y CONCRETO",
          "ISMOCOL SA",
          "CONSTRUCTORA CAPITAL BOGOTA SAS",
          "CONSTRUCCIONES EL CONDOR S.A",
          "CONSTRUCTORA COLPATRIA  SAS",
          "Grupo Diana",
          "Italcol",
          "POLLOS EL BUCANERO S.A. (Cargill)",
          "Yamaha",
          "Bavaria (Kopps)",
          "Nestle",
          "Compañía Nacional de Chocolates",
          "YARA COLOMBIA S.A.",
          "Pepsico",
          "Colgate",
          "BEL STAR S.A.",
          "Verano energy",
          "C.I Prodeco",
          "Cerrejón",
          "Gran Tierra Energy",
          "Rappi",
          "Isagen",
          "Gases del Caribe",
          "Mercado Libre",
          "Avianca",
          "Tigo"
         ],
         "yaxis": "y"
        },
        {
         "hovertemplate": "Desempeño_Relativo=Superior al Promedio<br>Diferencia vs. Promedio del Sector=%{x}<br>Empresa=%{y}<extra></extra>",
         "legendgroup": "Superior al Promedio",
         "marker": {
          "color": "green",
          "pattern": {
           "shape": ""
          }
         },
         "name": "Superior al Promedio",
         "orientation": "h",
         "showlegend": true,
         "textposition": "auto",
         "type": "bar",
         "x": {
          "bdata": "PPACB2AbSkD+kkZj8IxsQLi1JCMDsjJAcHb1OR8TOkDssf9GS3pHQCxGPke2DUhAtoFsfjVhVkBC6OVdDcpdQH+iTVUxx2BARYlAWx/dYkDxruDBsNFjQA8FfVKFPmRA50Py4hJUZUDfWa7iatxtQCcn07pdQG5A5T3tYImzb0Bm5i6nDqhxQADkICcfAzhAeJZkiZx4S0CMHASGpehRQHoH0UETs2NA/qVhiZqTbkCAQDofQrcIQAA2fshVAApAgH1Db1xyMkAgW8MhJyJHQJjBahMD8EhAXLQ42cXbUUCMvU3Kg3JXQGQ1vDnVB1hAlMqTtPZuXUAYImVVMalfQIy0h7AhimRAjiAKUZzSZUD8lUN2rBlnQEwTMEdbWGxASEPcaQSkbEBMawUTsPxRQPxH46aPfFpAAAplSb+yXkDkU59i7xdiQHjNShEzUWNAAOhxxMS6ZkDgaYjGrjQwQFAaWhWJCD1AgFBdKsRBPUCA4iA0C4s+QBDGpKIfBj9AsAi05W2rREBginfdK3xMQHCJympFKVNAdHxY3BXcU0BkRvpZlmJUQODKLpmBJVdAzO9zhynRYUA=",
          "dtype": "f8"
         },
         "xaxis": "x",
         "y": [
          "Grupo Bios",
          "Aliar",
          "Trafigura (Petroleum)",
          "Pricesmart",
          "Mazda",
          "Sucafina",
          "Cencosud",
          "Uniban",
          "Samsung",
          "Toyota",
          "Cruz Verde",
          "D1",
          "Éxito",
          "Primax",
          "Sodimac (Homecenter)",
          "Falabella",
          "Terpel",
          "MARVAL S.A.S.",
          "CONCESIONARIA VIAL UNIÓN DEL SUR SAS",
          "Conconcreto",
          "Amarilo",
          "AUTOPISTA RIO MAGDALENA SAS",
          "General Motors",
          "Reficar",
          "ES Windows",
          "Renault",
          "Productos Familia (Essity)",
          "CARTON DE COLOMBIA S.A. (Smurfit Kappa)",
          "Coca Cola- Femsa",
          "Alpina",
          "Riopaila Castilla",
          "Haceb",
          "Cementos Argos",
          "Alimentos Carnicos (Grupo Nutresa)",
          "Colombina",
          "Esenttia",
          "Postobón",
          "Frontera Energy",
          "Hocol",
          "SierraCol Energy",
          "Geopark",
          "Ecopetrol",
          "Drummond",
          "LATAM",
          "ISA",
          "GEB",
          "Oleoducto Central (Ocensa)",
          "EPM",
          "Teleperformance",
          "Promigas",
          "Celsia",
          "Claro",
          "Cenit",
          "Telefónica",
          "Emgesa"
         ],
         "yaxis": "y"
        }
       ],
       "layout": {
        "barmode": "relative",
        "font": {
         "color": "black",
         "family": "Arial, sans-serif",
         "size": 10
        },
        "height": 1920,
        "legend": {
         "title": {
          "text": "Desempeño_Relativo"
         },
         "tracegroupgap": 0
        },
        "margin": {
         "t": 60
        },
        "template": {
         "data": {
          "bar": [
           {
            "error_x": {
             "color": "#2a3f5f"
            },
            "error_y": {
             "color": "#2a3f5f"
            },
            "marker": {
             "line": {
              "color": "#E5ECF6",
              "width": 0.5
             },
             "pattern": {
              "fillmode": "overlay",
              "size": 10,
              "solidity": 0.2
             }
            },
            "type": "bar"
           }
          ],
          "barpolar": [
           {
            "marker": {
             "line": {
              "color": "#E5ECF6",
              "width": 0.5
             },
             "pattern": {
              "fillmode": "overlay",
              "size": 10,
              "solidity": 0.2
             }
            },
            "type": "barpolar"
           }
          ],
          "carpet": [
           {
            "aaxis": {
             "endlinecolor": "#2a3f5f",
             "gridcolor": "white",
             "linecolor": "white",
             "minorgridcolor": "white",
             "startlinecolor": "#2a3f5f"
            },
            "baxis": {
             "endlinecolor": "#2a3f5f",
             "gridcolor": "white",
             "linecolor": "white",
             "minorgridcolor": "white",
             "startlinecolor": "#2a3f5f"
            },
            "type": "carpet"
           }
          ],
          "choropleth": [
           {
            "colorbar": {
             "outlinewidth": 0,
             "ticks": ""
            },
            "type": "choropleth"
           }
          ],
          "contour": [
           {
            "colorbar": {
             "outlinewidth": 0,
             "ticks": ""
            },
            "colorscale": [
             [
              0,
              "#0d0887"
             ],
             [
              0.1111111111111111,
              "#46039f"
             ],
             [
              0.2222222222222222,
              "#7201a8"
             ],
             [
              0.3333333333333333,
              "#9c179e"
             ],
             [
              0.4444444444444444,
              "#bd3786"
             ],
             [
              0.5555555555555556,
              "#d8576b"
             ],
             [
              0.6666666666666666,
              "#ed7953"
             ],
             [
              0.7777777777777778,
              "#fb9f3a"
             ],
             [
              0.8888888888888888,
              "#fdca26"
             ],
             [
              1,
              "#f0f921"
             ]
            ],
            "type": "contour"
           }
          ],
          "contourcarpet": [
           {
            "colorbar": {
             "outlinewidth": 0,
             "ticks": ""
            },
            "type": "contourcarpet"
           }
          ],
          "heatmap": [
           {
            "colorbar": {
             "outlinewidth": 0,
             "ticks": ""
            },
            "colorscale": [
             [
              0,
              "#0d0887"
             ],
             [
              0.1111111111111111,
              "#46039f"
             ],
             [
              0.2222222222222222,
              "#7201a8"
             ],
             [
              0.3333333333333333,
              "#9c179e"
             ],
             [
              0.4444444444444444,
              "#bd3786"
             ],
             [
              0.5555555555555556,
              "#d8576b"
             ],
             [
              0.6666666666666666,
              "#ed7953"
             ],
             [
              0.7777777777777778,
              "#fb9f3a"
             ],
             [
              0.8888888888888888,
              "#fdca26"
             ],
             [
              1,
              "#f0f921"
             ]
            ],
            "type": "heatmap"
           }
          ],
          "histogram": [
           {
            "marker": {
             "pattern": {
              "fillmode": "overlay",
              "size": 10,
              "solidity": 0.2
             }
            },
            "type": "histogram"
           }
          ],
          "histogram2d": [
           {
            "colorbar": {
             "outlinewidth": 0,
             "ticks": ""
            },
            "colorscale": [
             [
              0,
              "#0d0887"
             ],
             [
              0.1111111111111111,
              "#46039f"
             ],
             [
              0.2222222222222222,
              "#7201a8"
             ],
             [
              0.3333333333333333,
              "#9c179e"
             ],
             [
              0.4444444444444444,
              "#bd3786"
             ],
             [
              0.5555555555555556,
              "#d8576b"
             ],
             [
              0.6666666666666666,
              "#ed7953"
             ],
             [
              0.7777777777777778,
              "#fb9f3a"
             ],
             [
              0.8888888888888888,
              "#fdca26"
             ],
             [
              1,
              "#f0f921"
             ]
            ],
            "type": "histogram2d"
           }
          ],
          "histogram2dcontour": [
           {
            "colorbar": {
             "outlinewidth": 0,
             "ticks": ""
            },
            "colorscale": [
             [
              0,
              "#0d0887"
             ],
             [
              0.1111111111111111,
              "#46039f"
             ],
             [
              0.2222222222222222,
              "#7201a8"
             ],
             [
              0.3333333333333333,
              "#9c179e"
             ],
             [
              0.4444444444444444,
              "#bd3786"
             ],
             [
              0.5555555555555556,
              "#d8576b"
             ],
             [
              0.6666666666666666,
              "#ed7953"
             ],
             [
              0.7777777777777778,
              "#fb9f3a"
             ],
             [
              0.8888888888888888,
              "#fdca26"
             ],
             [
              1,
              "#f0f921"
             ]
            ],
            "type": "histogram2dcontour"
           }
          ],
          "mesh3d": [
           {
            "colorbar": {
             "outlinewidth": 0,
             "ticks": ""
            },
            "type": "mesh3d"
           }
          ],
          "parcoords": [
           {
            "line": {
             "colorbar": {
              "outlinewidth": 0,
              "ticks": ""
             }
            },
            "type": "parcoords"
           }
          ],
          "pie": [
           {
            "automargin": true,
            "type": "pie"
           }
          ],
          "scatter": [
           {
            "fillpattern": {
             "fillmode": "overlay",
             "size": 10,
             "solidity": 0.2
            },
            "type": "scatter"
           }
          ],
          "scatter3d": [
           {
            "line": {
             "colorbar": {
              "outlinewidth": 0,
              "ticks": ""
             }
            },
            "marker": {
             "colorbar": {
              "outlinewidth": 0,
              "ticks": ""
             }
            },
            "type": "scatter3d"
           }
          ],
          "scattercarpet": [
           {
            "marker": {
             "colorbar": {
              "outlinewidth": 0,
              "ticks": ""
             }
            },
            "type": "scattercarpet"
           }
          ],
          "scattergeo": [
           {
            "marker": {
             "colorbar": {
              "outlinewidth": 0,
              "ticks": ""
             }
            },
            "type": "scattergeo"
           }
          ],
          "scattergl": [
           {
            "marker": {
             "colorbar": {
              "outlinewidth": 0,
              "ticks": ""
             }
            },
            "type": "scattergl"
           }
          ],
          "scattermap": [
           {
            "marker": {
             "colorbar": {
              "outlinewidth": 0,
              "ticks": ""
             }
            },
            "type": "scattermap"
           }
          ],
          "scattermapbox": [
           {
            "marker": {
             "colorbar": {
              "outlinewidth": 0,
              "ticks": ""
             }
            },
            "type": "scattermapbox"
           }
          ],
          "scatterpolar": [
           {
            "marker": {
             "colorbar": {
              "outlinewidth": 0,
              "ticks": ""
             }
            },
            "type": "scatterpolar"
           }
          ],
          "scatterpolargl": [
           {
            "marker": {
             "colorbar": {
              "outlinewidth": 0,
              "ticks": ""
             }
            },
            "type": "scatterpolargl"
           }
          ],
          "scatterternary": [
           {
            "marker": {
             "colorbar": {
              "outlinewidth": 0,
              "ticks": ""
             }
            },
            "type": "scatterternary"
           }
          ],
          "surface": [
           {
            "colorbar": {
             "outlinewidth": 0,
             "ticks": ""
            },
            "colorscale": [
             [
              0,
              "#0d0887"
             ],
             [
              0.1111111111111111,
              "#46039f"
             ],
             [
              0.2222222222222222,
              "#7201a8"
             ],
             [
              0.3333333333333333,
              "#9c179e"
             ],
             [
              0.4444444444444444,
              "#bd3786"
             ],
             [
              0.5555555555555556,
              "#d8576b"
             ],
             [
              0.6666666666666666,
              "#ed7953"
             ],
             [
              0.7777777777777778,
              "#fb9f3a"
             ],
             [
              0.8888888888888888,
              "#fdca26"
             ],
             [
              1,
              "#f0f921"
             ]
            ],
            "type": "surface"
           }
          ],
          "table": [
           {
            "cells": {
             "fill": {
              "color": "#EBF0F8"
             },
             "line": {
              "color": "white"
             }
            },
            "header": {
             "fill": {
              "color": "#C8D4E3"
             },
             "line": {
              "color": "white"
             }
            },
            "type": "table"
           }
          ]
         },
         "layout": {
          "annotationdefaults": {
           "arrowcolor": "#2a3f5f",
           "arrowhead": 0,
           "arrowwidth": 1
          },
          "autotypenumbers": "strict",
          "coloraxis": {
           "colorbar": {
            "outlinewidth": 0,
            "ticks": ""
           }
          },
          "colorscale": {
           "diverging": [
            [
             0,
             "#8e0152"
            ],
            [
             0.1,
             "#c51b7d"
            ],
            [
             0.2,
             "#de77ae"
            ],
            [
             0.3,
             "#f1b6da"
            ],
            [
             0.4,
             "#fde0ef"
            ],
            [
             0.5,
             "#f7f7f7"
            ],
            [
             0.6,
             "#e6f5d0"
            ],
            [
             0.7,
             "#b8e186"
            ],
            [
             0.8,
             "#7fbc41"
            ],
            [
             0.9,
             "#4d9221"
            ],
            [
             1,
             "#276419"
            ]
           ],
           "sequential": [
            [
             0,
             "#0d0887"
            ],
            [
             0.1111111111111111,
             "#46039f"
            ],
            [
             0.2222222222222222,
             "#7201a8"
            ],
            [
             0.3333333333333333,
             "#9c179e"
            ],
            [
             0.4444444444444444,
             "#bd3786"
            ],
            [
             0.5555555555555556,
             "#d8576b"
            ],
            [
             0.6666666666666666,
             "#ed7953"
            ],
            [
             0.7777777777777778,
             "#fb9f3a"
            ],
            [
             0.8888888888888888,
             "#fdca26"
            ],
            [
             1,
             "#f0f921"
            ]
           ],
           "sequentialminus": [
            [
             0,
             "#0d0887"
            ],
            [
             0.1111111111111111,
             "#46039f"
            ],
            [
             0.2222222222222222,
             "#7201a8"
            ],
            [
             0.3333333333333333,
             "#9c179e"
            ],
            [
             0.4444444444444444,
             "#bd3786"
            ],
            [
             0.5555555555555556,
             "#d8576b"
            ],
            [
             0.6666666666666666,
             "#ed7953"
            ],
            [
             0.7777777777777778,
             "#fb9f3a"
            ],
            [
             0.8888888888888888,
             "#fdca26"
            ],
            [
             1,
             "#f0f921"
            ]
           ]
          },
          "colorway": [
           "#636efa",
           "#EF553B",
           "#00cc96",
           "#ab63fa",
           "#FFA15A",
           "#19d3f3",
           "#FF6692",
           "#B6E880",
           "#FF97FF",
           "#FECB52"
          ],
          "font": {
           "color": "#2a3f5f"
          },
          "geo": {
           "bgcolor": "white",
           "lakecolor": "white",
           "landcolor": "#E5ECF6",
           "showlakes": true,
           "showland": true,
           "subunitcolor": "white"
          },
          "hoverlabel": {
           "align": "left"
          },
          "hovermode": "closest",
          "mapbox": {
           "style": "light"
          },
          "paper_bgcolor": "white",
          "plot_bgcolor": "#E5ECF6",
          "polar": {
           "angularaxis": {
            "gridcolor": "white",
            "linecolor": "white",
            "ticks": ""
           },
           "bgcolor": "#E5ECF6",
           "radialaxis": {
            "gridcolor": "white",
            "linecolor": "white",
            "ticks": ""
           }
          },
          "scene": {
           "xaxis": {
            "backgroundcolor": "#E5ECF6",
            "gridcolor": "white",
            "gridwidth": 2,
            "linecolor": "white",
            "showbackground": true,
            "ticks": "",
            "zerolinecolor": "white"
           },
           "yaxis": {
            "backgroundcolor": "#E5ECF6",
            "gridcolor": "white",
            "gridwidth": 2,
            "linecolor": "white",
            "showbackground": true,
            "ticks": "",
            "zerolinecolor": "white"
           },
           "zaxis": {
            "backgroundcolor": "#E5ECF6",
            "gridcolor": "white",
            "gridwidth": 2,
            "linecolor": "white",
            "showbackground": true,
            "ticks": "",
            "zerolinecolor": "white"
           }
          },
          "shapedefaults": {
           "line": {
            "color": "#2a3f5f"
           }
          },
          "ternary": {
           "aaxis": {
            "gridcolor": "white",
            "linecolor": "white",
            "ticks": ""
           },
           "baxis": {
            "gridcolor": "white",
            "linecolor": "white",
            "ticks": ""
           },
           "bgcolor": "#E5ECF6",
           "caxis": {
            "gridcolor": "white",
            "linecolor": "white",
            "ticks": ""
           }
          },
          "title": {
           "x": 0.05
          },
          "xaxis": {
           "automargin": true,
           "gridcolor": "white",
           "linecolor": "white",
           "ticks": "",
           "title": {
            "standoff": 15
           },
           "zerolinecolor": "white",
           "zerolinewidth": 2
          },
          "yaxis": {
           "automargin": true,
           "gridcolor": "white",
           "linecolor": "white",
           "ticks": "",
           "title": {
            "standoff": 15
           },
           "zerolinecolor": "white",
           "zerolinewidth": 2
          }
         }
        },
        "title": {
         "text": "<b>Desempeño Relativo de Sostenibilidad vs. Promedio del Sector</b><br><sup>Barras verdes superan el promedio, rojas están por debajo</sup>",
         "x": 0.5
        },
        "xaxis": {
         "anchor": "y",
         "domain": [
          0,
          1
         ],
         "title": {
          "text": "Desviación del Promedio del Sector"
         }
        },
        "yaxis": {
         "anchor": "x",
         "domain": [
          0,
          1
         ],
         "title": {
          "text": "Empresa"
         }
        }
       }
      }
     },
     "metadata": {},
     "output_type": "display_data"
    }
   ],
   "source": [
    "sector_avg_score = company_agg_data.groupby('Macrosector')['Puntaje_Total_Sostenibilidad'].mean().reset_index()\n",
    "sector_avg_score.rename(columns={'Puntaje_Total_Sostenibilidad': 'Promedio_Sector'}, inplace=True)\n",
    "diverging_data = pd.merge(company_agg_data, sector_avg_score, on='Macrosector')\n",
    "diverging_data['Diferencia_vs_Promedio'] = diverging_data['Puntaje_Total_Sostenibilidad'] - diverging_data['Promedio_Sector']\n",
    "diverging_data['Desempeño_Relativo'] = np.where(diverging_data['Diferencia_vs_Promedio'] >= 0, 'Superior al Promedio', 'Inferior al Promedio')\n",
    "diverging_data.sort_values(by=['Macrosector', 'Diferencia_vs_Promedio'], inplace=True)\n",
    "fig_diverging_bar = px.bar(\n",
    "    diverging_data,\n",
    "    x='Diferencia_vs_Promedio',\n",
    "    y='Razón social',\n",
    "    color='Desempeño_Relativo',\n",
    "    color_discrete_map={\n",
    "        'Superior al Promedio': 'green',\n",
    "        'Inferior al Promedio': 'red'\n",
    "    },\n",
    "    orientation='h',\n",
    "    labels={'Diferencia_vs_Promedio': 'Diferencia vs. Promedio del Sector', 'Razón social': 'Empresa'}\n",
    ")\n",
    "fig_diverging_bar.update_layout(\n",
    "    title='<b>Desempeño Relativo de Sostenibilidad vs. Promedio del Sector</b><br><sup>Barras verdes superan el promedio, rojas están por debajo</sup>',\n",
    "    title_x=0.5,\n",
    "    yaxis_title='Empresa',\n",
    "    xaxis_title='Desviación del Promedio del Sector',\n",
    "    font=dict(family=\"Arial, sans-serif\", size=10, color=\"black\"),\n",
    "    height=max(600, len(diverging_data) * 20) \n",
    ")\n",
    "fig_diverging_bar.show()\n",
    "save_chart_as_html(fig_diverging_bar, '09_diverging_bar_performance_vs_sector.html')\n",
    "# Save as image\n",
    "fig_diverging_bar.write_image(\"img/09_diverging_bar_performance_vs_sector.png\", width=1000, height=800, scale=2)"
   ]
  },
  {
   "cell_type": "markdown",
   "metadata": {},
   "source": [
    "# **Parte 3: Análisis Comparativo y de Atributos Específicos**"
   ]
  },
  {
   "cell_type": "markdown",
   "metadata": {},
   "source": [
    "## 11. Gráfico de Cajas Comparativo: Propiedad y Desempeño (Pública vs. Privada)"
   ]
  },
  {
   "cell_type": "code",
   "execution_count": 28,
   "metadata": {},
   "outputs": [
    {
     "data": {
      "application/vnd.plotly.v1+json": {
       "config": {
        "plotlyServerURL": "https://plot.ly"
       },
       "data": [
        {
         "alignmentgroup": "True",
         "boxpoints": "all",
         "hovertemplate": "Tipo de propiedad (Privada, Pública, Mixta)=%{x}<br>Puntaje_Total_Sostenibilidad=%{y}<extra></extra>",
         "legendgroup": "Privada",
         "marker": {
          "color": "#636efa"
         },
         "name": "Privada",
         "notched": true,
         "offsetgroup": "Privada",
         "orientation": "v",
         "showlegend": true,
         "type": "box",
         "x": [
          "Privada",
          "Privada",
          "Privada",
          "Privada",
          "Privada",
          "Privada",
          "Privada",
          "Privada",
          "Privada",
          "Privada",
          "Privada",
          "Privada",
          "Privada",
          "Privada",
          "Privada",
          "Privada",
          "Privada",
          "Privada",
          "Privada",
          "Privada",
          "Privada",
          "Privada",
          "Privada",
          "Privada",
          "Privada",
          "Privada",
          "Privada",
          "Privada",
          "Privada",
          "Privada",
          "Privada",
          "Privada",
          "Privada",
          "Privada",
          "Privada",
          "Privada",
          "Privada",
          "Privada",
          "Privada",
          "Privada",
          "Privada",
          "Privada",
          "Privada",
          "Privada",
          "Privada",
          "Privada",
          "Privada",
          "Privada",
          "Privada",
          "Privada",
          "Privada",
          "Privada",
          "Privada",
          "Privada",
          "Privada",
          "Privada",
          "Privada",
          "Privada",
          "Privada",
          "Privada",
          "Privada",
          "Privada",
          "Privada",
          "Privada",
          "Privada",
          "Privada",
          "Privada",
          "Privada",
          "Privada",
          "Privada",
          "Privada",
          "Privada",
          "Privada",
          "Privada",
          "Privada",
          "Privada",
          "Privada",
          "Privada",
          "Privada"
         ],
         "x0": " ",
         "xaxis": "x",
         "y": {
          "bdata": "AAAAAAAAAAAAAAAAAAAAAAaZVbmvPH1AAAAAAAAAAACld79EmxJNQFGds6qqynNAuctnQYTDf0DLyFFnK9x6QMRJjRVszHdAwBUtmVPpdEAgp870ST5zQAMeKiO0gm1AAAAAAAAAAADeaXxwCIdGQInoMI8nUXlAW1Fzh4eHJ0DWWNEF9mFxQIhVr2dHLGdAcqABoac9YkBbZR3DMExpQJzJcYaGa3xAuJUm8UYff0A6ljAAAIBzQB6GvgpUzHJAlisXhcgBZ0BdRtWiOph8QGzanLURJ3JAOEMCKoYzgECD721iJ4xvQCrNJdYLbXJAAAAAAAAAAABFzYUBi9B3QFT400n1BnhAW1Fzh4eHJ0ADUyGsdy2BQErz1t9bAXZAvxQMUXfBfUDZDMv6uHx7QPKVjNhhmnJA/K2sU8IEgEC3QFdiC3x1QLNj4fM8j2FAAAAAAAAAAAD4AzxugsR8QAWEwt+wnH1AAAAAAAAAAADQGHtpaWk9QAAAAAAAAAAA3q0nGICkeECOqC3OKOZuQApsdQn81nBAxqeTe1BLc0BbUXOHh4dHQNAYe2lpaT1AWOggO7ETJ0CLbugmHJaBQGeaaSjJEW9AvKLsEejVfEClE1B7Nvh3QIwYbqe6MHtAAAAAAAAAAAAXrgfG8zV8QAxHPEtLS3ZAhvRiyDyqfkBgCf994Qd9QJI+fWlp6XBAhxm3JEmSLEA4TunkNZQvQAAAAAAAAAAAVqh16KI2ekAyXMRHwY9/QG+6NU5CVndAUIKPpaUlbkDd7w74NVp1QFtRc4eHhzdAAAAAAAAAAADHx/7kNZRvQIvo8HNQXmZAwJcOEryReEA=",
          "dtype": "f8"
         },
         "y0": " ",
         "yaxis": "y"
        },
        {
         "alignmentgroup": "True",
         "boxpoints": "all",
         "hovertemplate": "Tipo de propiedad (Privada, Pública, Mixta)=%{x}<br>Puntaje_Total_Sostenibilidad=%{y}<extra></extra>",
         "legendgroup": "Mixta",
         "marker": {
          "color": "#EF553B"
         },
         "name": "Mixta",
         "notched": true,
         "offsetgroup": "Mixta",
         "orientation": "v",
         "showlegend": true,
         "type": "box",
         "x": [
          "Mixta",
          "Mixta",
          "Mixta",
          "Mixta",
          "Mixta",
          "Mixta",
          "Mixta",
          "Mixta",
          "Mixta",
          "Mixta",
          "Mixta",
          "Mixta",
          "Mixta",
          "Mixta"
         ],
         "x0": " ",
         "xaxis": "x",
         "y": {
          "bdata": "2bg9wtq5fEDVKnYL17Z6QGGMVz8TU4BAk4+89+REgECMYj3eMYOBQEj8ZG5RdXlA5cgUvb1xeUChltJyYSRwQP5k2J3YSW5AaDUB3+WJeUDet3PENg51QNYmG/16vndA+NkKkpVqfUCBOdht8KF2QA==",
          "dtype": "f8"
         },
         "y0": " ",
         "yaxis": "y"
        },
        {
         "alignmentgroup": "True",
         "boxpoints": "all",
         "hovertemplate": "Tipo de propiedad (Privada, Pública, Mixta)=%{x}<br>Puntaje_Total_Sostenibilidad=%{y}<extra></extra>",
         "legendgroup": "Pública",
         "marker": {
          "color": "#00cc96"
         },
         "name": "Pública",
         "notched": true,
         "offsetgroup": "Pública",
         "orientation": "v",
         "showlegend": true,
         "type": "box",
         "x": [
          "Pública",
          "Pública",
          "Pública"
         ],
         "x0": " ",
         "xaxis": "x",
         "y": {
          "bdata": "oXPpJZeReUDzLyGdpAt1QEWX4YbyGnFA",
          "dtype": "f8"
         },
         "y0": " ",
         "yaxis": "y"
        }
       ],
       "layout": {
        "boxmode": "overlay",
        "font": {
         "color": "black",
         "family": "Arial, sans-serif",
         "size": 12
        },
        "legend": {
         "title": {
          "text": "Tipo de propiedad (Privada, Pública, Mixta)"
         },
         "tracegroupgap": 0
        },
        "margin": {
         "t": 60
        },
        "showlegend": false,
        "template": {
         "data": {
          "bar": [
           {
            "error_x": {
             "color": "#2a3f5f"
            },
            "error_y": {
             "color": "#2a3f5f"
            },
            "marker": {
             "line": {
              "color": "#E5ECF6",
              "width": 0.5
             },
             "pattern": {
              "fillmode": "overlay",
              "size": 10,
              "solidity": 0.2
             }
            },
            "type": "bar"
           }
          ],
          "barpolar": [
           {
            "marker": {
             "line": {
              "color": "#E5ECF6",
              "width": 0.5
             },
             "pattern": {
              "fillmode": "overlay",
              "size": 10,
              "solidity": 0.2
             }
            },
            "type": "barpolar"
           }
          ],
          "carpet": [
           {
            "aaxis": {
             "endlinecolor": "#2a3f5f",
             "gridcolor": "white",
             "linecolor": "white",
             "minorgridcolor": "white",
             "startlinecolor": "#2a3f5f"
            },
            "baxis": {
             "endlinecolor": "#2a3f5f",
             "gridcolor": "white",
             "linecolor": "white",
             "minorgridcolor": "white",
             "startlinecolor": "#2a3f5f"
            },
            "type": "carpet"
           }
          ],
          "choropleth": [
           {
            "colorbar": {
             "outlinewidth": 0,
             "ticks": ""
            },
            "type": "choropleth"
           }
          ],
          "contour": [
           {
            "colorbar": {
             "outlinewidth": 0,
             "ticks": ""
            },
            "colorscale": [
             [
              0,
              "#0d0887"
             ],
             [
              0.1111111111111111,
              "#46039f"
             ],
             [
              0.2222222222222222,
              "#7201a8"
             ],
             [
              0.3333333333333333,
              "#9c179e"
             ],
             [
              0.4444444444444444,
              "#bd3786"
             ],
             [
              0.5555555555555556,
              "#d8576b"
             ],
             [
              0.6666666666666666,
              "#ed7953"
             ],
             [
              0.7777777777777778,
              "#fb9f3a"
             ],
             [
              0.8888888888888888,
              "#fdca26"
             ],
             [
              1,
              "#f0f921"
             ]
            ],
            "type": "contour"
           }
          ],
          "contourcarpet": [
           {
            "colorbar": {
             "outlinewidth": 0,
             "ticks": ""
            },
            "type": "contourcarpet"
           }
          ],
          "heatmap": [
           {
            "colorbar": {
             "outlinewidth": 0,
             "ticks": ""
            },
            "colorscale": [
             [
              0,
              "#0d0887"
             ],
             [
              0.1111111111111111,
              "#46039f"
             ],
             [
              0.2222222222222222,
              "#7201a8"
             ],
             [
              0.3333333333333333,
              "#9c179e"
             ],
             [
              0.4444444444444444,
              "#bd3786"
             ],
             [
              0.5555555555555556,
              "#d8576b"
             ],
             [
              0.6666666666666666,
              "#ed7953"
             ],
             [
              0.7777777777777778,
              "#fb9f3a"
             ],
             [
              0.8888888888888888,
              "#fdca26"
             ],
             [
              1,
              "#f0f921"
             ]
            ],
            "type": "heatmap"
           }
          ],
          "histogram": [
           {
            "marker": {
             "pattern": {
              "fillmode": "overlay",
              "size": 10,
              "solidity": 0.2
             }
            },
            "type": "histogram"
           }
          ],
          "histogram2d": [
           {
            "colorbar": {
             "outlinewidth": 0,
             "ticks": ""
            },
            "colorscale": [
             [
              0,
              "#0d0887"
             ],
             [
              0.1111111111111111,
              "#46039f"
             ],
             [
              0.2222222222222222,
              "#7201a8"
             ],
             [
              0.3333333333333333,
              "#9c179e"
             ],
             [
              0.4444444444444444,
              "#bd3786"
             ],
             [
              0.5555555555555556,
              "#d8576b"
             ],
             [
              0.6666666666666666,
              "#ed7953"
             ],
             [
              0.7777777777777778,
              "#fb9f3a"
             ],
             [
              0.8888888888888888,
              "#fdca26"
             ],
             [
              1,
              "#f0f921"
             ]
            ],
            "type": "histogram2d"
           }
          ],
          "histogram2dcontour": [
           {
            "colorbar": {
             "outlinewidth": 0,
             "ticks": ""
            },
            "colorscale": [
             [
              0,
              "#0d0887"
             ],
             [
              0.1111111111111111,
              "#46039f"
             ],
             [
              0.2222222222222222,
              "#7201a8"
             ],
             [
              0.3333333333333333,
              "#9c179e"
             ],
             [
              0.4444444444444444,
              "#bd3786"
             ],
             [
              0.5555555555555556,
              "#d8576b"
             ],
             [
              0.6666666666666666,
              "#ed7953"
             ],
             [
              0.7777777777777778,
              "#fb9f3a"
             ],
             [
              0.8888888888888888,
              "#fdca26"
             ],
             [
              1,
              "#f0f921"
             ]
            ],
            "type": "histogram2dcontour"
           }
          ],
          "mesh3d": [
           {
            "colorbar": {
             "outlinewidth": 0,
             "ticks": ""
            },
            "type": "mesh3d"
           }
          ],
          "parcoords": [
           {
            "line": {
             "colorbar": {
              "outlinewidth": 0,
              "ticks": ""
             }
            },
            "type": "parcoords"
           }
          ],
          "pie": [
           {
            "automargin": true,
            "type": "pie"
           }
          ],
          "scatter": [
           {
            "fillpattern": {
             "fillmode": "overlay",
             "size": 10,
             "solidity": 0.2
            },
            "type": "scatter"
           }
          ],
          "scatter3d": [
           {
            "line": {
             "colorbar": {
              "outlinewidth": 0,
              "ticks": ""
             }
            },
            "marker": {
             "colorbar": {
              "outlinewidth": 0,
              "ticks": ""
             }
            },
            "type": "scatter3d"
           }
          ],
          "scattercarpet": [
           {
            "marker": {
             "colorbar": {
              "outlinewidth": 0,
              "ticks": ""
             }
            },
            "type": "scattercarpet"
           }
          ],
          "scattergeo": [
           {
            "marker": {
             "colorbar": {
              "outlinewidth": 0,
              "ticks": ""
             }
            },
            "type": "scattergeo"
           }
          ],
          "scattergl": [
           {
            "marker": {
             "colorbar": {
              "outlinewidth": 0,
              "ticks": ""
             }
            },
            "type": "scattergl"
           }
          ],
          "scattermap": [
           {
            "marker": {
             "colorbar": {
              "outlinewidth": 0,
              "ticks": ""
             }
            },
            "type": "scattermap"
           }
          ],
          "scattermapbox": [
           {
            "marker": {
             "colorbar": {
              "outlinewidth": 0,
              "ticks": ""
             }
            },
            "type": "scattermapbox"
           }
          ],
          "scatterpolar": [
           {
            "marker": {
             "colorbar": {
              "outlinewidth": 0,
              "ticks": ""
             }
            },
            "type": "scatterpolar"
           }
          ],
          "scatterpolargl": [
           {
            "marker": {
             "colorbar": {
              "outlinewidth": 0,
              "ticks": ""
             }
            },
            "type": "scatterpolargl"
           }
          ],
          "scatterternary": [
           {
            "marker": {
             "colorbar": {
              "outlinewidth": 0,
              "ticks": ""
             }
            },
            "type": "scatterternary"
           }
          ],
          "surface": [
           {
            "colorbar": {
             "outlinewidth": 0,
             "ticks": ""
            },
            "colorscale": [
             [
              0,
              "#0d0887"
             ],
             [
              0.1111111111111111,
              "#46039f"
             ],
             [
              0.2222222222222222,
              "#7201a8"
             ],
             [
              0.3333333333333333,
              "#9c179e"
             ],
             [
              0.4444444444444444,
              "#bd3786"
             ],
             [
              0.5555555555555556,
              "#d8576b"
             ],
             [
              0.6666666666666666,
              "#ed7953"
             ],
             [
              0.7777777777777778,
              "#fb9f3a"
             ],
             [
              0.8888888888888888,
              "#fdca26"
             ],
             [
              1,
              "#f0f921"
             ]
            ],
            "type": "surface"
           }
          ],
          "table": [
           {
            "cells": {
             "fill": {
              "color": "#EBF0F8"
             },
             "line": {
              "color": "white"
             }
            },
            "header": {
             "fill": {
              "color": "#C8D4E3"
             },
             "line": {
              "color": "white"
             }
            },
            "type": "table"
           }
          ]
         },
         "layout": {
          "annotationdefaults": {
           "arrowcolor": "#2a3f5f",
           "arrowhead": 0,
           "arrowwidth": 1
          },
          "autotypenumbers": "strict",
          "coloraxis": {
           "colorbar": {
            "outlinewidth": 0,
            "ticks": ""
           }
          },
          "colorscale": {
           "diverging": [
            [
             0,
             "#8e0152"
            ],
            [
             0.1,
             "#c51b7d"
            ],
            [
             0.2,
             "#de77ae"
            ],
            [
             0.3,
             "#f1b6da"
            ],
            [
             0.4,
             "#fde0ef"
            ],
            [
             0.5,
             "#f7f7f7"
            ],
            [
             0.6,
             "#e6f5d0"
            ],
            [
             0.7,
             "#b8e186"
            ],
            [
             0.8,
             "#7fbc41"
            ],
            [
             0.9,
             "#4d9221"
            ],
            [
             1,
             "#276419"
            ]
           ],
           "sequential": [
            [
             0,
             "#0d0887"
            ],
            [
             0.1111111111111111,
             "#46039f"
            ],
            [
             0.2222222222222222,
             "#7201a8"
            ],
            [
             0.3333333333333333,
             "#9c179e"
            ],
            [
             0.4444444444444444,
             "#bd3786"
            ],
            [
             0.5555555555555556,
             "#d8576b"
            ],
            [
             0.6666666666666666,
             "#ed7953"
            ],
            [
             0.7777777777777778,
             "#fb9f3a"
            ],
            [
             0.8888888888888888,
             "#fdca26"
            ],
            [
             1,
             "#f0f921"
            ]
           ],
           "sequentialminus": [
            [
             0,
             "#0d0887"
            ],
            [
             0.1111111111111111,
             "#46039f"
            ],
            [
             0.2222222222222222,
             "#7201a8"
            ],
            [
             0.3333333333333333,
             "#9c179e"
            ],
            [
             0.4444444444444444,
             "#bd3786"
            ],
            [
             0.5555555555555556,
             "#d8576b"
            ],
            [
             0.6666666666666666,
             "#ed7953"
            ],
            [
             0.7777777777777778,
             "#fb9f3a"
            ],
            [
             0.8888888888888888,
             "#fdca26"
            ],
            [
             1,
             "#f0f921"
            ]
           ]
          },
          "colorway": [
           "#636efa",
           "#EF553B",
           "#00cc96",
           "#ab63fa",
           "#FFA15A",
           "#19d3f3",
           "#FF6692",
           "#B6E880",
           "#FF97FF",
           "#FECB52"
          ],
          "font": {
           "color": "#2a3f5f"
          },
          "geo": {
           "bgcolor": "white",
           "lakecolor": "white",
           "landcolor": "#E5ECF6",
           "showlakes": true,
           "showland": true,
           "subunitcolor": "white"
          },
          "hoverlabel": {
           "align": "left"
          },
          "hovermode": "closest",
          "mapbox": {
           "style": "light"
          },
          "paper_bgcolor": "white",
          "plot_bgcolor": "#E5ECF6",
          "polar": {
           "angularaxis": {
            "gridcolor": "white",
            "linecolor": "white",
            "ticks": ""
           },
           "bgcolor": "#E5ECF6",
           "radialaxis": {
            "gridcolor": "white",
            "linecolor": "white",
            "ticks": ""
           }
          },
          "scene": {
           "xaxis": {
            "backgroundcolor": "#E5ECF6",
            "gridcolor": "white",
            "gridwidth": 2,
            "linecolor": "white",
            "showbackground": true,
            "ticks": "",
            "zerolinecolor": "white"
           },
           "yaxis": {
            "backgroundcolor": "#E5ECF6",
            "gridcolor": "white",
            "gridwidth": 2,
            "linecolor": "white",
            "showbackground": true,
            "ticks": "",
            "zerolinecolor": "white"
           },
           "zaxis": {
            "backgroundcolor": "#E5ECF6",
            "gridcolor": "white",
            "gridwidth": 2,
            "linecolor": "white",
            "showbackground": true,
            "ticks": "",
            "zerolinecolor": "white"
           }
          },
          "shapedefaults": {
           "line": {
            "color": "#2a3f5f"
           }
          },
          "ternary": {
           "aaxis": {
            "gridcolor": "white",
            "linecolor": "white",
            "ticks": ""
           },
           "baxis": {
            "gridcolor": "white",
            "linecolor": "white",
            "ticks": ""
           },
           "bgcolor": "#E5ECF6",
           "caxis": {
            "gridcolor": "white",
            "linecolor": "white",
            "ticks": ""
           }
          },
          "title": {
           "x": 0.05
          },
          "xaxis": {
           "automargin": true,
           "gridcolor": "white",
           "linecolor": "white",
           "ticks": "",
           "title": {
            "standoff": 15
           },
           "zerolinecolor": "white",
           "zerolinewidth": 2
          },
          "yaxis": {
           "automargin": true,
           "gridcolor": "white",
           "linecolor": "white",
           "ticks": "",
           "title": {
            "standoff": 15
           },
           "zerolinecolor": "white",
           "zerolinewidth": 2
          }
         }
        },
        "title": {
         "text": "<b>Comparativa de Desempeño en Sostenibilidad por Tipo de Propiedad</b>",
         "x": 0.5
        },
        "xaxis": {
         "anchor": "y",
         "categoryarray": [
          "Privada",
          "Mixta",
          "Pública"
         ],
         "categoryorder": "array",
         "domain": [
          0,
          1
         ],
         "title": {
          "text": "Tipo de Propiedad de la Empresa"
         }
        },
        "yaxis": {
         "anchor": "x",
         "domain": [
          0,
          1
         ],
         "title": {
          "text": "Puntaje Total de Sostenibilidad"
         }
        }
       }
      }
     },
     "metadata": {},
     "output_type": "display_data"
    }
   ],
   "source": [
    "property_type_data = raw_data[['Razón social', 'Tipo de propiedad (Privada, Pública, Mixta)']].drop_duplicates()\n",
    "boxplot_data = pd.merge(company_agg_data, property_type_data, on='Razón social')\n",
    "boxplot_data.dropna(subset=['Tipo de propiedad (Privada, Pública, Mixta)'], inplace=True)\n",
    "fig_box_plot = px.box(\n",
    "    boxplot_data,\n",
    "    x='Tipo de propiedad (Privada, Pública, Mixta)',\n",
    "    y='Puntaje_Total_Sostenibilidad',\n",
    "    color='Tipo de propiedad (Privada, Pública, Mixta)',\n",
    "    notched=True,\n",
    "    points=\"all\"\n",
    ")\n",
    "fig_box_plot.update_layout(\n",
    "    title='<b>Comparativa de Desempeño en Sostenibilidad por Tipo de Propiedad</b>',\n",
    "    title_x=0.5,\n",
    "    xaxis_title='Tipo de Propiedad de la Empresa',\n",
    "    yaxis_title='Puntaje Total de Sostenibilidad',\n",
    "    font=dict(family=\"Arial, sans-serif\", size=12, color=\"black\"),\n",
    "    showlegend=False\n",
    ")\n",
    "fig_box_plot.show()\n",
    "save_chart_as_html(fig_box_plot, '11_boxplot_performance_by_property_type.html')\n",
    "# Save as image\n",
    "fig_box_plot.write_image(\"img/11_boxplot_performance_by_property_type.png\", width=1000, height=800, scale=2)"
   ]
  },
  {
   "cell_type": "markdown",
   "metadata": {},
   "source": [
    "## 12. Gráfico de Densidad por Atributo: Multinacional vs. Nacional"
   ]
  },
  {
   "cell_type": "code",
   "execution_count": 29,
   "metadata": {},
   "outputs": [
    {
     "data": {
      "application/vnd.plotly.v1+json": {
       "config": {
        "plotlyServerURL": "https://plot.ly"
       },
       "data": [
        {
         "fill": "tozeroy",
         "line": {
          "color": "#1f77b4"
         },
         "mode": "lines",
         "name": "Multinacional",
         "type": "scatter",
         "x": {
          "bdata": "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",
          "dtype": "f8"
         },
         "y": {
          "bdata": "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",
          "dtype": "f8"
         }
        },
        {
         "fill": "tozeroy",
         "line": {
          "color": "#ff7f0e"
         },
         "mode": "lines",
         "name": "Nacional",
         "type": "scatter",
         "x": {
          "bdata": "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",
          "dtype": "f8"
         },
         "y": {
          "bdata": "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",
          "dtype": "f8"
         }
        }
       ],
       "layout": {
        "font": {
         "color": "black",
         "family": "Arial, sans-serif",
         "size": 12
        },
        "legend": {
         "title": {
          "text": "Tipo de Empresa"
         }
        },
        "template": {
         "data": {
          "bar": [
           {
            "error_x": {
             "color": "#2a3f5f"
            },
            "error_y": {
             "color": "#2a3f5f"
            },
            "marker": {
             "line": {
              "color": "#E5ECF6",
              "width": 0.5
             },
             "pattern": {
              "fillmode": "overlay",
              "size": 10,
              "solidity": 0.2
             }
            },
            "type": "bar"
           }
          ],
          "barpolar": [
           {
            "marker": {
             "line": {
              "color": "#E5ECF6",
              "width": 0.5
             },
             "pattern": {
              "fillmode": "overlay",
              "size": 10,
              "solidity": 0.2
             }
            },
            "type": "barpolar"
           }
          ],
          "carpet": [
           {
            "aaxis": {
             "endlinecolor": "#2a3f5f",
             "gridcolor": "white",
             "linecolor": "white",
             "minorgridcolor": "white",
             "startlinecolor": "#2a3f5f"
            },
            "baxis": {
             "endlinecolor": "#2a3f5f",
             "gridcolor": "white",
             "linecolor": "white",
             "minorgridcolor": "white",
             "startlinecolor": "#2a3f5f"
            },
            "type": "carpet"
           }
          ],
          "choropleth": [
           {
            "colorbar": {
             "outlinewidth": 0,
             "ticks": ""
            },
            "type": "choropleth"
           }
          ],
          "contour": [
           {
            "colorbar": {
             "outlinewidth": 0,
             "ticks": ""
            },
            "colorscale": [
             [
              0,
              "#0d0887"
             ],
             [
              0.1111111111111111,
              "#46039f"
             ],
             [
              0.2222222222222222,
              "#7201a8"
             ],
             [
              0.3333333333333333,
              "#9c179e"
             ],
             [
              0.4444444444444444,
              "#bd3786"
             ],
             [
              0.5555555555555556,
              "#d8576b"
             ],
             [
              0.6666666666666666,
              "#ed7953"
             ],
             [
              0.7777777777777778,
              "#fb9f3a"
             ],
             [
              0.8888888888888888,
              "#fdca26"
             ],
             [
              1,
              "#f0f921"
             ]
            ],
            "type": "contour"
           }
          ],
          "contourcarpet": [
           {
            "colorbar": {
             "outlinewidth": 0,
             "ticks": ""
            },
            "type": "contourcarpet"
           }
          ],
          "heatmap": [
           {
            "colorbar": {
             "outlinewidth": 0,
             "ticks": ""
            },
            "colorscale": [
             [
              0,
              "#0d0887"
             ],
             [
              0.1111111111111111,
              "#46039f"
             ],
             [
              0.2222222222222222,
              "#7201a8"
             ],
             [
              0.3333333333333333,
              "#9c179e"
             ],
             [
              0.4444444444444444,
              "#bd3786"
             ],
             [
              0.5555555555555556,
              "#d8576b"
             ],
             [
              0.6666666666666666,
              "#ed7953"
             ],
             [
              0.7777777777777778,
              "#fb9f3a"
             ],
             [
              0.8888888888888888,
              "#fdca26"
             ],
             [
              1,
              "#f0f921"
             ]
            ],
            "type": "heatmap"
           }
          ],
          "histogram": [
           {
            "marker": {
             "pattern": {
              "fillmode": "overlay",
              "size": 10,
              "solidity": 0.2
             }
            },
            "type": "histogram"
           }
          ],
          "histogram2d": [
           {
            "colorbar": {
             "outlinewidth": 0,
             "ticks": ""
            },
            "colorscale": [
             [
              0,
              "#0d0887"
             ],
             [
              0.1111111111111111,
              "#46039f"
             ],
             [
              0.2222222222222222,
              "#7201a8"
             ],
             [
              0.3333333333333333,
              "#9c179e"
             ],
             [
              0.4444444444444444,
              "#bd3786"
             ],
             [
              0.5555555555555556,
              "#d8576b"
             ],
             [
              0.6666666666666666,
              "#ed7953"
             ],
             [
              0.7777777777777778,
              "#fb9f3a"
             ],
             [
              0.8888888888888888,
              "#fdca26"
             ],
             [
              1,
              "#f0f921"
             ]
            ],
            "type": "histogram2d"
           }
          ],
          "histogram2dcontour": [
           {
            "colorbar": {
             "outlinewidth": 0,
             "ticks": ""
            },
            "colorscale": [
             [
              0,
              "#0d0887"
             ],
             [
              0.1111111111111111,
              "#46039f"
             ],
             [
              0.2222222222222222,
              "#7201a8"
             ],
             [
              0.3333333333333333,
              "#9c179e"
             ],
             [
              0.4444444444444444,
              "#bd3786"
             ],
             [
              0.5555555555555556,
              "#d8576b"
             ],
             [
              0.6666666666666666,
              "#ed7953"
             ],
             [
              0.7777777777777778,
              "#fb9f3a"
             ],
             [
              0.8888888888888888,
              "#fdca26"
             ],
             [
              1,
              "#f0f921"
             ]
            ],
            "type": "histogram2dcontour"
           }
          ],
          "mesh3d": [
           {
            "colorbar": {
             "outlinewidth": 0,
             "ticks": ""
            },
            "type": "mesh3d"
           }
          ],
          "parcoords": [
           {
            "line": {
             "colorbar": {
              "outlinewidth": 0,
              "ticks": ""
             }
            },
            "type": "parcoords"
           }
          ],
          "pie": [
           {
            "automargin": true,
            "type": "pie"
           }
          ],
          "scatter": [
           {
            "fillpattern": {
             "fillmode": "overlay",
             "size": 10,
             "solidity": 0.2
            },
            "type": "scatter"
           }
          ],
          "scatter3d": [
           {
            "line": {
             "colorbar": {
              "outlinewidth": 0,
              "ticks": ""
             }
            },
            "marker": {
             "colorbar": {
              "outlinewidth": 0,
              "ticks": ""
             }
            },
            "type": "scatter3d"
           }
          ],
          "scattercarpet": [
           {
            "marker": {
             "colorbar": {
              "outlinewidth": 0,
              "ticks": ""
             }
            },
            "type": "scattercarpet"
           }
          ],
          "scattergeo": [
           {
            "marker": {
             "colorbar": {
              "outlinewidth": 0,
              "ticks": ""
             }
            },
            "type": "scattergeo"
           }
          ],
          "scattergl": [
           {
            "marker": {
             "colorbar": {
              "outlinewidth": 0,
              "ticks": ""
             }
            },
            "type": "scattergl"
           }
          ],
          "scattermap": [
           {
            "marker": {
             "colorbar": {
              "outlinewidth": 0,
              "ticks": ""
             }
            },
            "type": "scattermap"
           }
          ],
          "scattermapbox": [
           {
            "marker": {
             "colorbar": {
              "outlinewidth": 0,
              "ticks": ""
             }
            },
            "type": "scattermapbox"
           }
          ],
          "scatterpolar": [
           {
            "marker": {
             "colorbar": {
              "outlinewidth": 0,
              "ticks": ""
             }
            },
            "type": "scatterpolar"
           }
          ],
          "scatterpolargl": [
           {
            "marker": {
             "colorbar": {
              "outlinewidth": 0,
              "ticks": ""
             }
            },
            "type": "scatterpolargl"
           }
          ],
          "scatterternary": [
           {
            "marker": {
             "colorbar": {
              "outlinewidth": 0,
              "ticks": ""
             }
            },
            "type": "scatterternary"
           }
          ],
          "surface": [
           {
            "colorbar": {
             "outlinewidth": 0,
             "ticks": ""
            },
            "colorscale": [
             [
              0,
              "#0d0887"
             ],
             [
              0.1111111111111111,
              "#46039f"
             ],
             [
              0.2222222222222222,
              "#7201a8"
             ],
             [
              0.3333333333333333,
              "#9c179e"
             ],
             [
              0.4444444444444444,
              "#bd3786"
             ],
             [
              0.5555555555555556,
              "#d8576b"
             ],
             [
              0.6666666666666666,
              "#ed7953"
             ],
             [
              0.7777777777777778,
              "#fb9f3a"
             ],
             [
              0.8888888888888888,
              "#fdca26"
             ],
             [
              1,
              "#f0f921"
             ]
            ],
            "type": "surface"
           }
          ],
          "table": [
           {
            "cells": {
             "fill": {
              "color": "#EBF0F8"
             },
             "line": {
              "color": "white"
             }
            },
            "header": {
             "fill": {
              "color": "#C8D4E3"
             },
             "line": {
              "color": "white"
             }
            },
            "type": "table"
           }
          ]
         },
         "layout": {
          "annotationdefaults": {
           "arrowcolor": "#2a3f5f",
           "arrowhead": 0,
           "arrowwidth": 1
          },
          "autotypenumbers": "strict",
          "coloraxis": {
           "colorbar": {
            "outlinewidth": 0,
            "ticks": ""
           }
          },
          "colorscale": {
           "diverging": [
            [
             0,
             "#8e0152"
            ],
            [
             0.1,
             "#c51b7d"
            ],
            [
             0.2,
             "#de77ae"
            ],
            [
             0.3,
             "#f1b6da"
            ],
            [
             0.4,
             "#fde0ef"
            ],
            [
             0.5,
             "#f7f7f7"
            ],
            [
             0.6,
             "#e6f5d0"
            ],
            [
             0.7,
             "#b8e186"
            ],
            [
             0.8,
             "#7fbc41"
            ],
            [
             0.9,
             "#4d9221"
            ],
            [
             1,
             "#276419"
            ]
           ],
           "sequential": [
            [
             0,
             "#0d0887"
            ],
            [
             0.1111111111111111,
             "#46039f"
            ],
            [
             0.2222222222222222,
             "#7201a8"
            ],
            [
             0.3333333333333333,
             "#9c179e"
            ],
            [
             0.4444444444444444,
             "#bd3786"
            ],
            [
             0.5555555555555556,
             "#d8576b"
            ],
            [
             0.6666666666666666,
             "#ed7953"
            ],
            [
             0.7777777777777778,
             "#fb9f3a"
            ],
            [
             0.8888888888888888,
             "#fdca26"
            ],
            [
             1,
             "#f0f921"
            ]
           ],
           "sequentialminus": [
            [
             0,
             "#0d0887"
            ],
            [
             0.1111111111111111,
             "#46039f"
            ],
            [
             0.2222222222222222,
             "#7201a8"
            ],
            [
             0.3333333333333333,
             "#9c179e"
            ],
            [
             0.4444444444444444,
             "#bd3786"
            ],
            [
             0.5555555555555556,
             "#d8576b"
            ],
            [
             0.6666666666666666,
             "#ed7953"
            ],
            [
             0.7777777777777778,
             "#fb9f3a"
            ],
            [
             0.8888888888888888,
             "#fdca26"
            ],
            [
             1,
             "#f0f921"
            ]
           ]
          },
          "colorway": [
           "#636efa",
           "#EF553B",
           "#00cc96",
           "#ab63fa",
           "#FFA15A",
           "#19d3f3",
           "#FF6692",
           "#B6E880",
           "#FF97FF",
           "#FECB52"
          ],
          "font": {
           "color": "#2a3f5f"
          },
          "geo": {
           "bgcolor": "white",
           "lakecolor": "white",
           "landcolor": "#E5ECF6",
           "showlakes": true,
           "showland": true,
           "subunitcolor": "white"
          },
          "hoverlabel": {
           "align": "left"
          },
          "hovermode": "closest",
          "mapbox": {
           "style": "light"
          },
          "paper_bgcolor": "white",
          "plot_bgcolor": "#E5ECF6",
          "polar": {
           "angularaxis": {
            "gridcolor": "white",
            "linecolor": "white",
            "ticks": ""
           },
           "bgcolor": "#E5ECF6",
           "radialaxis": {
            "gridcolor": "white",
            "linecolor": "white",
            "ticks": ""
           }
          },
          "scene": {
           "xaxis": {
            "backgroundcolor": "#E5ECF6",
            "gridcolor": "white",
            "gridwidth": 2,
            "linecolor": "white",
            "showbackground": true,
            "ticks": "",
            "zerolinecolor": "white"
           },
           "yaxis": {
            "backgroundcolor": "#E5ECF6",
            "gridcolor": "white",
            "gridwidth": 2,
            "linecolor": "white",
            "showbackground": true,
            "ticks": "",
            "zerolinecolor": "white"
           },
           "zaxis": {
            "backgroundcolor": "#E5ECF6",
            "gridcolor": "white",
            "gridwidth": 2,
            "linecolor": "white",
            "showbackground": true,
            "ticks": "",
            "zerolinecolor": "white"
           }
          },
          "shapedefaults": {
           "line": {
            "color": "#2a3f5f"
           }
          },
          "ternary": {
           "aaxis": {
            "gridcolor": "white",
            "linecolor": "white",
            "ticks": ""
           },
           "baxis": {
            "gridcolor": "white",
            "linecolor": "white",
            "ticks": ""
           },
           "bgcolor": "#E5ECF6",
           "caxis": {
            "gridcolor": "white",
            "linecolor": "white",
            "ticks": ""
           }
          },
          "title": {
           "x": 0.05
          },
          "xaxis": {
           "automargin": true,
           "gridcolor": "white",
           "linecolor": "white",
           "ticks": "",
           "title": {
            "standoff": 15
           },
           "zerolinecolor": "white",
           "zerolinewidth": 2
          },
          "yaxis": {
           "automargin": true,
           "gridcolor": "white",
           "linecolor": "white",
           "ticks": "",
           "title": {
            "standoff": 15
           },
           "zerolinecolor": "white",
           "zerolinewidth": 2
          }
         }
        },
        "title": {
         "text": "<b>Distribución del Desempeño: Multinacional vs. Nacional</b>",
         "x": 0.5
        },
        "xaxis": {
         "title": {
          "text": "Puntaje Total de Sostenibilidad"
         }
        },
        "yaxis": {
         "title": {
          "text": "Densidad"
         }
        }
       }
      }
     },
     "metadata": {},
     "output_type": "display_data"
    }
   ],
   "source": [
    "# 1. Preparación de Datos\n",
    "multinational_info = raw_data[['Razón social', '¿Multinacional? Si/No']].drop_duplicates()\n",
    "density_data = pd.merge(company_agg_data, multinational_info, on='Razón social')\n",
    "density_data.dropna(subset=['¿Multinacional? Si/No'], inplace=True)\n",
    "\n",
    "# Definir grupos y colores\n",
    "groups = {\n",
    "    'Multinacional': 'Si',\n",
    "    'Nacional': 'No'\n",
    "}\n",
    "colors = ['#1f77b4', '#ff7f0e']\n",
    "\n",
    "# 2. Creación del Gráfico de Densidad con Scipy y Plotly GO\n",
    "fig_density = go.Figure()\n",
    "\n",
    "for (group_name, group_id), color in zip(groups.items(), colors):\n",
    "    # Filtrar datos para el grupo actual\n",
    "    current_data = density_data[density_data['¿Multinacional? Si/No'] == group_id]['Puntaje_Total_Sostenibilidad']\n",
    "    \n",
    "    if len(current_data) > 1:\n",
    "        # Calcular KDE usando scipy\n",
    "        kde = gaussian_kde(current_data)\n",
    "        \n",
    "        # Crear un rango de valores X para la curva\n",
    "        x_range = np.linspace(current_data.min(), current_data.max(), 500)\n",
    "        \n",
    "        # Calcular los valores Y de la curva de densidad\n",
    "        y_values = kde(x_range)\n",
    "        \n",
    "        # Añadir la curva al gráfico\n",
    "        fig_density.add_trace(go.Scatter(\n",
    "            x=x_range, \n",
    "            y=y_values, \n",
    "            mode='lines', \n",
    "            name=group_name,\n",
    "            line=dict(color=color),\n",
    "            fill='tozeroy'\n",
    "        ))\n",
    "\n",
    "# 3. Personalización y Estilo del Gráfico\n",
    "fig_density.update_layout(\n",
    "    title_text='<b>Distribución del Desempeño: Multinacional vs. Nacional</b>',\n",
    "    title_x=0.5,\n",
    "    xaxis_title='Puntaje Total de Sostenibilidad',\n",
    "    yaxis_title='Densidad',\n",
    "    font=dict(family=\"Arial, sans-serif\", size=12, color=\"black\"),\n",
    "    legend_title_text='Tipo de Empresa'\n",
    ")\n",
    "\n",
    "fig_density.show()\n",
    "\n",
    "save_chart_as_html(fig_density, '12_density_plot_multinational_vs_national.html')\n",
    "# Save as image\n",
    "fig_density.write_image(\"img/12_density_plot_multinational_vs_national.png\", width=1000, height=800, scale=2)\n"
   ]
  },
  {
   "cell_type": "markdown",
   "metadata": {},
   "source": [
    "## 13. Análisis de Foco Temático: Comparativa de Variables entre Líderes y Rezagados"
   ]
  },
  {
   "cell_type": "code",
   "execution_count": 30,
   "metadata": {},
   "outputs": [
    {
     "data": {
      "application/vnd.plotly.v1+json": {
       "config": {
        "plotlyServerURL": "https://plot.ly"
       },
       "data": [
        {
         "coloraxis": "coloraxis",
         "hovertemplate": "Macrosector: %{x}<br>Variable de Sostenibilidad: %{y}<br>Importancia Promedio: %{z}<extra></extra>",
         "name": "0",
         "texttemplate": "%{z:.2f}",
         "type": "heatmap",
         "x": [
          "Agropecuario",
          "Comercio",
          "Construcción",
          "Manufactura",
          "Minero",
          "Servicios"
         ],
         "xaxis": "x",
         "y": [
          "Acción climática (0-2)",
          "Alcance 1 en t CO2 eq",
          "Alcance 2 en t CO2 eq",
          "Alcance 3 en t CO2 eq",
          "Año del informe 2023/2024",
          "Consumo total de agua (m³)",
          "Consumo total de la organización (MJ)",
          "Días perdidos por cada 100 empleados",
          "Días perdidos por enfermedad y accidente laboral",
          "Evidencia diversidad en su matriz energética Si/no",
          "Generación total de residuos en toneladas",
          "Gestión de biodiversidad Si/no",
          "Gestión del recurso hídrico (0-2)",
          "Independencia en junta directiva (0-2)",
          "Iniciativas de economía circular (0-2)",
          "Metas relacionadas a biodiversidad Si/no",
          "Permiso marental con beneficio extralegal (Sí/no)",
          "Porcentaje de inversión en la comunidad sobre VED",
          "Porcentaje de mujeres en junta directiva",
          "Porcentaje de pagos a gobierno sobre VED",
          "Porcentaje de personas con discapacidad empleadas ",
          "Porcentaje de salarios y beneficios sobre VED",
          "Porcentaje mujeres en organización ",
          "Promedio de horas de formación hombres (GRI 404)",
          "Promedio de horas de formación mujeres (GRI 404)",
          "Proporción y detalle al informar prácticas DEI GRI 405 (0-2)",
          "¿Cuál es el porcentaje de proveeduría local?",
          "¿Es carbononeutro? Si/no",
          "¿Incluye mapeo de ODS? Si/No",
          "¿Informa proporción de gasto en proveedores",
          "¿Informa sobre inclusión laboral para personas con discapacidad?",
          "¿Informa sobre salud y seguridad laboral (GRI 403)?",
          "¿Nivel de políticas y compromisos éticos? (anticorrupción, canal de denuncias) 0-2",
          "¿Realiza inversión social en comunidades (GRI 413)?",
          "¿Reporta GRI 207 (prácticas fiscales)? Si/no",
          "¿Reporta consumo energético (GRI 302)?",
          "¿Reporta emisiones GEI (GRI 305)?",
          "¿Reporta gestión de residuos (GRI 306)?",
          "¿Reporta sanciones y multas? (Si/No) 206-1",
          "¿Reporta uso de agua (GRI 303)?",
          "¿Reporta valor económico directo generado y distribuido (GRI 201-1)? Si/No",
          "¿Se evidencia impacto positivo en comunidades locales? (0-2)",
          "¿Tiene análisis de materialidad? Si/No ",
          "¿Tiene carta de presidencia? Si/No",
          "¿Tiene indicadores de desarrollo del talento humano? Si/no",
          "¿Tiene informe? Si/No",
          "¿Tiene meta de reducción de emisiones? Si/No",
          "¿Tiene programas para construcción de paz? (beneficios a poblaciones desplazadas, victimas de conflicto, excombatientes) Si/no",
          "¿Utiliza estándar GRI? Si/No"
         ],
         "yaxis": "y",
         "z": {
          "bdata": "AAAAAAAAAADH0ltc1QMUQL3zf59V/BNA7tIaeRr6IkB7sB1wg0YmQB2p0YrBtiNAAAAAAAAAAABMayCasK8SQN7jHNqfYghAar6taDGjHkA0hD3PmmUlQC1Gy1TPlyBAAAAAAAAAAACFPnJ3yTMPQDKex3zOagZALDNr5UBwGkAV32eU4o4WQDOY2Hi+hBlAAAAAAAAAAAAAAAAAAAAAAAAAAAAAAAAAAAAAAAAAAAAAAAAAAAAAAAAAAAAAAAAAAAAAAAAAAADqkObfATDtPzAEwoeAjgxA8uEYelyYFUB6y/Uv8m0iQAFPOPZJWBFAAAAAAAAAAAAVPk8QEWEYQO5kMzGkxhJA5P/das2SE0BeTqGk1OIlQK8aYltZ3yNAAAAAAAAAAAAuhqVVLrjlPwAAAAAAAAAAAAAAAAAAAAAQo79O7MT+P2QPW+Ycev8/AAAAAAAAAAAuhqVVLrjlPwAAAAAAAAAAAAAAAAAAAAAQo79O7MT+PxcemX8MwgBA3ThzWZZlCUB/mMO1P90dQOqoOkmSJBFAV/A/6lLQMUA69fU6sRMnQJnVaJLvYyVAAAAAAAAAAAB5+jjYuVf1Pw+bPraCfBFAVvsCRLyYHECN0KRUj6UmQIfxIpVZOBNAC7bB7/u+D0DtJhfyexkCQDnh+LZt2xZAvoVLtfc3IkAQo79O7MQuQN5W2q3zChBA43GI7/u+/z+lPcVVLrjlPwoptLZt2/Y/FR+Hg0ddHkDYAB6xEzsjQJmu3K3zCgBAAAAAAAAAAAAHr0u54FYJQFlk3bZt2+Y/jCB/nJ9KCEBI/JATO7EbQJ0G/oFTmRhA43GI7/u+/z/63+wj1ejzP8ki67Zt2wZAVBebhICcIUBGIwc7sRMXQNCABY27dQZAAAAAAAAAAADtJhfyexnyP+qoOkmSJBFAUrJknJ9KCEAQo79O7MQuQNJzeJLvYwVAAAAAAAAAAADmstwck/X8PwAAAAAAAAAAD/W2FuZu4z/guYBiJ3byPwwSiJLvYxVAAAAAAAAAAABU98KdpvXcPwAAAAAAAAAAX27UY4uH7z/NyqAhthwFQGcl6vTWHOE/AAAAAAAAAABOBEZgHe4UQMqGKyPSlwxANWEFPIxYB0AYmYdiJ3YIQDepuymBMCVAAAAAAAAAAAD1PrnDY9ThPwAAAAAAAAAACz+WL6Zi3D9g0n3YiZ34P5SGr1DpHf8/r7skwzAMA0CHYoEDJh8FQDnh+LZt2/Y/lv5Mo/t6+j+wDafYiZ34P3eUb1n8hxZAAAAAAAAAAAA1Bu+pryrdPwAAAAAAAAAAlfQ6Jq7G9D9S5JiGy2wCQCFp6znkdfE/r7skwzAMA0AfMM8gDdIUQLXaFO9GhRNABKAQdPBoC0A4brB1ApoVQCej5OjQb/c/AAAAAAAAAACAIdHFoaXtP6DTDcMwDANAgZF8E44QC0A6wOJcAlkTQIEpWrvmy+w/AAAAAAAAAACVynJgusXsP6DTDcMwDANAjF6ZGHFbDkCQKXg68m4RQC0AaUGHnvE/AAAAAAAAAACKHEG54FYZQLLGyLZt2/Y/ikEBIlkmHUCyqctO7MQUQBmFcSoTtjBAAAAAAAAAAAABMpe94FYZQNQDMK9t2/Y/OsX7K1kmHUALR5BKsRMXQIZ7zykTtjBAAAAAAAAAAACtnbyfZmIAQHfmvegtnQZAXGPih28oBkAidNS5sEYUQHb+1n2yvRhAAAAAAAAAAACiJDzAIkoAQAAAAAAAAAAACy8XyTLp+T8AAAAAAAAAABTeU6i/HAFAr7skwzAME0ChJDzAIkogQD1Eip7neR5AD/W2FuZuI0Bg0n3YiZ0YQKmODqcyYTFATMiDBPcR/D8qnoBSs7kjQAgPiTGfehFALMIRc8cXF0CjCvtNk78cQIcCgVzorBtAr7skwzAME0Bo1fCKKAEjQHC9lCRJkixA3zb3UwkBMUAQo79O7MQuQHkT7oy7dSZAiHfrwjAMA0CiGbFO7MQOQG69lCRJkgxAFX6qTuzEDkCtjI0TO7EbQKLFV6i/HCFAhxm3JEmSHEAshqVVLrgVQIYZtyRJkhxAV/A/6lLQIUCtjI0TO7ErQJnVaJLvYyVA3ThzWZZlCUAuhqVVLrglQIYZtyRJkhxA7BQ6IlkmLUDqxTexEzsjQKPEkmZP8h1AAAAAAAAAAAChJDzAIkoQQDnh+LZt2xZACy8XyTLp6T9g0n3YiZ0YQDKgzq3zCiBA3ThzWZZlCUAuhqVVLrglQBLFGQAAACRAV/A/6lLQMUCurufETuwqQJnVaJLvYyVAC7bB7/u+D0DpYbVVLrgFQDnh+LZt2yZAUrJknJ9KKECurufETuwqQJx5/oy7dRZAAAAAAAAAAADmstwck/XsPznh+LZt2/Y/7BQ6IlkmDUBg0n3YiZ0IQB3NfXwfqwlAC7bB7/u+D0DpYbVVLrgFQIYZtyRJkhxAUrJknJ9KKEBMug87sRMnQAdu8pcjUhRAAAAAAAAAAADmstwck/X8Pznh+LZt2wZAV/A/6lLQEUDIXV5iJ3YiQFxRc4eHhxdAAAAAAAAAAAAAAAAAAAAAAAAAAAAAAAAACy8XyTLp2T8AAAAAAAAAAAAAAAAAAAAAr7skwzAMA0C35w7rOSYrQD1Eip7neS5AYGQieNSlJEDIXV5iJ3YiQI8WKnfrvDpAr7skwzAME0CKHEG54FYpQLX7uKqqqipAUrJknJ9KKEBg0n3YiZ0oQG+VAX6sZjlAr7skwzAME0CiJDzAIkogQIhI0fM8zydAZ32uvb8xMEDqxTexEzsjQJnVaJLvYyVAr7skwzAMI0AVfqpO7MQuQD1Eip7neS5ARQCnwGrvK0CtjI0TO7ErQK+XUnAqEzxApmoWwzAMI0AFfZalpaUhQDnh+LZt2xZA3zb3UwkBMUCurufETuwqQJnVaJLvYyVAr7skwzAMA0Dmstwck/XsPwAAAAAAAAAASWPRFuZuA0DIXV5iJ3YSQKPEkmZP8g1Ar7skwzAMA0CKHEG54FYpQD1Eip7neS5AsdON2cLcJUAUGG6d2IklQI8WKnfrvDpAtfQ5WZZl+T8LdK1VLrgVQFlk3bZt2+Y/Kkn0bwysJkD4Rp1O7MQeQAhCVKi/HCFA",
          "dtype": "f8",
          "shape": "49, 6"
         }
        }
       ],
       "layout": {
        "coloraxis": {
         "colorbar": {
          "title": {
           "text": "Importancia Promedio"
          }
         },
         "colorscale": [
          [
           0,
           "rgb(247,251,255)"
          ],
          [
           0.125,
           "rgb(222,235,247)"
          ],
          [
           0.25,
           "rgb(198,219,239)"
          ],
          [
           0.375,
           "rgb(158,202,225)"
          ],
          [
           0.5,
           "rgb(107,174,214)"
          ],
          [
           0.625,
           "rgb(66,146,198)"
          ],
          [
           0.75,
           "rgb(33,113,181)"
          ],
          [
           0.875,
           "rgb(8,81,156)"
          ],
          [
           1,
           "rgb(8,48,107)"
          ]
         ]
        },
        "font": {
         "color": "black",
         "family": "Arial, sans-serif",
         "size": 10
        },
        "height": 980,
        "margin": {
         "t": 60
        },
        "template": {
         "data": {
          "bar": [
           {
            "error_x": {
             "color": "#2a3f5f"
            },
            "error_y": {
             "color": "#2a3f5f"
            },
            "marker": {
             "line": {
              "color": "#E5ECF6",
              "width": 0.5
             },
             "pattern": {
              "fillmode": "overlay",
              "size": 10,
              "solidity": 0.2
             }
            },
            "type": "bar"
           }
          ],
          "barpolar": [
           {
            "marker": {
             "line": {
              "color": "#E5ECF6",
              "width": 0.5
             },
             "pattern": {
              "fillmode": "overlay",
              "size": 10,
              "solidity": 0.2
             }
            },
            "type": "barpolar"
           }
          ],
          "carpet": [
           {
            "aaxis": {
             "endlinecolor": "#2a3f5f",
             "gridcolor": "white",
             "linecolor": "white",
             "minorgridcolor": "white",
             "startlinecolor": "#2a3f5f"
            },
            "baxis": {
             "endlinecolor": "#2a3f5f",
             "gridcolor": "white",
             "linecolor": "white",
             "minorgridcolor": "white",
             "startlinecolor": "#2a3f5f"
            },
            "type": "carpet"
           }
          ],
          "choropleth": [
           {
            "colorbar": {
             "outlinewidth": 0,
             "ticks": ""
            },
            "type": "choropleth"
           }
          ],
          "contour": [
           {
            "colorbar": {
             "outlinewidth": 0,
             "ticks": ""
            },
            "colorscale": [
             [
              0,
              "#0d0887"
             ],
             [
              0.1111111111111111,
              "#46039f"
             ],
             [
              0.2222222222222222,
              "#7201a8"
             ],
             [
              0.3333333333333333,
              "#9c179e"
             ],
             [
              0.4444444444444444,
              "#bd3786"
             ],
             [
              0.5555555555555556,
              "#d8576b"
             ],
             [
              0.6666666666666666,
              "#ed7953"
             ],
             [
              0.7777777777777778,
              "#fb9f3a"
             ],
             [
              0.8888888888888888,
              "#fdca26"
             ],
             [
              1,
              "#f0f921"
             ]
            ],
            "type": "contour"
           }
          ],
          "contourcarpet": [
           {
            "colorbar": {
             "outlinewidth": 0,
             "ticks": ""
            },
            "type": "contourcarpet"
           }
          ],
          "heatmap": [
           {
            "colorbar": {
             "outlinewidth": 0,
             "ticks": ""
            },
            "colorscale": [
             [
              0,
              "#0d0887"
             ],
             [
              0.1111111111111111,
              "#46039f"
             ],
             [
              0.2222222222222222,
              "#7201a8"
             ],
             [
              0.3333333333333333,
              "#9c179e"
             ],
             [
              0.4444444444444444,
              "#bd3786"
             ],
             [
              0.5555555555555556,
              "#d8576b"
             ],
             [
              0.6666666666666666,
              "#ed7953"
             ],
             [
              0.7777777777777778,
              "#fb9f3a"
             ],
             [
              0.8888888888888888,
              "#fdca26"
             ],
             [
              1,
              "#f0f921"
             ]
            ],
            "type": "heatmap"
           }
          ],
          "histogram": [
           {
            "marker": {
             "pattern": {
              "fillmode": "overlay",
              "size": 10,
              "solidity": 0.2
             }
            },
            "type": "histogram"
           }
          ],
          "histogram2d": [
           {
            "colorbar": {
             "outlinewidth": 0,
             "ticks": ""
            },
            "colorscale": [
             [
              0,
              "#0d0887"
             ],
             [
              0.1111111111111111,
              "#46039f"
             ],
             [
              0.2222222222222222,
              "#7201a8"
             ],
             [
              0.3333333333333333,
              "#9c179e"
             ],
             [
              0.4444444444444444,
              "#bd3786"
             ],
             [
              0.5555555555555556,
              "#d8576b"
             ],
             [
              0.6666666666666666,
              "#ed7953"
             ],
             [
              0.7777777777777778,
              "#fb9f3a"
             ],
             [
              0.8888888888888888,
              "#fdca26"
             ],
             [
              1,
              "#f0f921"
             ]
            ],
            "type": "histogram2d"
           }
          ],
          "histogram2dcontour": [
           {
            "colorbar": {
             "outlinewidth": 0,
             "ticks": ""
            },
            "colorscale": [
             [
              0,
              "#0d0887"
             ],
             [
              0.1111111111111111,
              "#46039f"
             ],
             [
              0.2222222222222222,
              "#7201a8"
             ],
             [
              0.3333333333333333,
              "#9c179e"
             ],
             [
              0.4444444444444444,
              "#bd3786"
             ],
             [
              0.5555555555555556,
              "#d8576b"
             ],
             [
              0.6666666666666666,
              "#ed7953"
             ],
             [
              0.7777777777777778,
              "#fb9f3a"
             ],
             [
              0.8888888888888888,
              "#fdca26"
             ],
             [
              1,
              "#f0f921"
             ]
            ],
            "type": "histogram2dcontour"
           }
          ],
          "mesh3d": [
           {
            "colorbar": {
             "outlinewidth": 0,
             "ticks": ""
            },
            "type": "mesh3d"
           }
          ],
          "parcoords": [
           {
            "line": {
             "colorbar": {
              "outlinewidth": 0,
              "ticks": ""
             }
            },
            "type": "parcoords"
           }
          ],
          "pie": [
           {
            "automargin": true,
            "type": "pie"
           }
          ],
          "scatter": [
           {
            "fillpattern": {
             "fillmode": "overlay",
             "size": 10,
             "solidity": 0.2
            },
            "type": "scatter"
           }
          ],
          "scatter3d": [
           {
            "line": {
             "colorbar": {
              "outlinewidth": 0,
              "ticks": ""
             }
            },
            "marker": {
             "colorbar": {
              "outlinewidth": 0,
              "ticks": ""
             }
            },
            "type": "scatter3d"
           }
          ],
          "scattercarpet": [
           {
            "marker": {
             "colorbar": {
              "outlinewidth": 0,
              "ticks": ""
             }
            },
            "type": "scattercarpet"
           }
          ],
          "scattergeo": [
           {
            "marker": {
             "colorbar": {
              "outlinewidth": 0,
              "ticks": ""
             }
            },
            "type": "scattergeo"
           }
          ],
          "scattergl": [
           {
            "marker": {
             "colorbar": {
              "outlinewidth": 0,
              "ticks": ""
             }
            },
            "type": "scattergl"
           }
          ],
          "scattermap": [
           {
            "marker": {
             "colorbar": {
              "outlinewidth": 0,
              "ticks": ""
             }
            },
            "type": "scattermap"
           }
          ],
          "scattermapbox": [
           {
            "marker": {
             "colorbar": {
              "outlinewidth": 0,
              "ticks": ""
             }
            },
            "type": "scattermapbox"
           }
          ],
          "scatterpolar": [
           {
            "marker": {
             "colorbar": {
              "outlinewidth": 0,
              "ticks": ""
             }
            },
            "type": "scatterpolar"
           }
          ],
          "scatterpolargl": [
           {
            "marker": {
             "colorbar": {
              "outlinewidth": 0,
              "ticks": ""
             }
            },
            "type": "scatterpolargl"
           }
          ],
          "scatterternary": [
           {
            "marker": {
             "colorbar": {
              "outlinewidth": 0,
              "ticks": ""
             }
            },
            "type": "scatterternary"
           }
          ],
          "surface": [
           {
            "colorbar": {
             "outlinewidth": 0,
             "ticks": ""
            },
            "colorscale": [
             [
              0,
              "#0d0887"
             ],
             [
              0.1111111111111111,
              "#46039f"
             ],
             [
              0.2222222222222222,
              "#7201a8"
             ],
             [
              0.3333333333333333,
              "#9c179e"
             ],
             [
              0.4444444444444444,
              "#bd3786"
             ],
             [
              0.5555555555555556,
              "#d8576b"
             ],
             [
              0.6666666666666666,
              "#ed7953"
             ],
             [
              0.7777777777777778,
              "#fb9f3a"
             ],
             [
              0.8888888888888888,
              "#fdca26"
             ],
             [
              1,
              "#f0f921"
             ]
            ],
            "type": "surface"
           }
          ],
          "table": [
           {
            "cells": {
             "fill": {
              "color": "#EBF0F8"
             },
             "line": {
              "color": "white"
             }
            },
            "header": {
             "fill": {
              "color": "#C8D4E3"
             },
             "line": {
              "color": "white"
             }
            },
            "type": "table"
           }
          ]
         },
         "layout": {
          "annotationdefaults": {
           "arrowcolor": "#2a3f5f",
           "arrowhead": 0,
           "arrowwidth": 1
          },
          "autotypenumbers": "strict",
          "coloraxis": {
           "colorbar": {
            "outlinewidth": 0,
            "ticks": ""
           }
          },
          "colorscale": {
           "diverging": [
            [
             0,
             "#8e0152"
            ],
            [
             0.1,
             "#c51b7d"
            ],
            [
             0.2,
             "#de77ae"
            ],
            [
             0.3,
             "#f1b6da"
            ],
            [
             0.4,
             "#fde0ef"
            ],
            [
             0.5,
             "#f7f7f7"
            ],
            [
             0.6,
             "#e6f5d0"
            ],
            [
             0.7,
             "#b8e186"
            ],
            [
             0.8,
             "#7fbc41"
            ],
            [
             0.9,
             "#4d9221"
            ],
            [
             1,
             "#276419"
            ]
           ],
           "sequential": [
            [
             0,
             "#0d0887"
            ],
            [
             0.1111111111111111,
             "#46039f"
            ],
            [
             0.2222222222222222,
             "#7201a8"
            ],
            [
             0.3333333333333333,
             "#9c179e"
            ],
            [
             0.4444444444444444,
             "#bd3786"
            ],
            [
             0.5555555555555556,
             "#d8576b"
            ],
            [
             0.6666666666666666,
             "#ed7953"
            ],
            [
             0.7777777777777778,
             "#fb9f3a"
            ],
            [
             0.8888888888888888,
             "#fdca26"
            ],
            [
             1,
             "#f0f921"
            ]
           ],
           "sequentialminus": [
            [
             0,
             "#0d0887"
            ],
            [
             0.1111111111111111,
             "#46039f"
            ],
            [
             0.2222222222222222,
             "#7201a8"
            ],
            [
             0.3333333333333333,
             "#9c179e"
            ],
            [
             0.4444444444444444,
             "#bd3786"
            ],
            [
             0.5555555555555556,
             "#d8576b"
            ],
            [
             0.6666666666666666,
             "#ed7953"
            ],
            [
             0.7777777777777778,
             "#fb9f3a"
            ],
            [
             0.8888888888888888,
             "#fdca26"
            ],
            [
             1,
             "#f0f921"
            ]
           ]
          },
          "colorway": [
           "#636efa",
           "#EF553B",
           "#00cc96",
           "#ab63fa",
           "#FFA15A",
           "#19d3f3",
           "#FF6692",
           "#B6E880",
           "#FF97FF",
           "#FECB52"
          ],
          "font": {
           "color": "#2a3f5f"
          },
          "geo": {
           "bgcolor": "white",
           "lakecolor": "white",
           "landcolor": "#E5ECF6",
           "showlakes": true,
           "showland": true,
           "subunitcolor": "white"
          },
          "hoverlabel": {
           "align": "left"
          },
          "hovermode": "closest",
          "mapbox": {
           "style": "light"
          },
          "paper_bgcolor": "white",
          "plot_bgcolor": "#E5ECF6",
          "polar": {
           "angularaxis": {
            "gridcolor": "white",
            "linecolor": "white",
            "ticks": ""
           },
           "bgcolor": "#E5ECF6",
           "radialaxis": {
            "gridcolor": "white",
            "linecolor": "white",
            "ticks": ""
           }
          },
          "scene": {
           "xaxis": {
            "backgroundcolor": "#E5ECF6",
            "gridcolor": "white",
            "gridwidth": 2,
            "linecolor": "white",
            "showbackground": true,
            "ticks": "",
            "zerolinecolor": "white"
           },
           "yaxis": {
            "backgroundcolor": "#E5ECF6",
            "gridcolor": "white",
            "gridwidth": 2,
            "linecolor": "white",
            "showbackground": true,
            "ticks": "",
            "zerolinecolor": "white"
           },
           "zaxis": {
            "backgroundcolor": "#E5ECF6",
            "gridcolor": "white",
            "gridwidth": 2,
            "linecolor": "white",
            "showbackground": true,
            "ticks": "",
            "zerolinecolor": "white"
           }
          },
          "shapedefaults": {
           "line": {
            "color": "#2a3f5f"
           }
          },
          "ternary": {
           "aaxis": {
            "gridcolor": "white",
            "linecolor": "white",
            "ticks": ""
           },
           "baxis": {
            "gridcolor": "white",
            "linecolor": "white",
            "ticks": ""
           },
           "bgcolor": "#E5ECF6",
           "caxis": {
            "gridcolor": "white",
            "linecolor": "white",
            "ticks": ""
           }
          },
          "title": {
           "x": 0.05
          },
          "xaxis": {
           "automargin": true,
           "gridcolor": "white",
           "linecolor": "white",
           "ticks": "",
           "title": {
            "standoff": 15
           },
           "zerolinecolor": "white",
           "zerolinewidth": 2
          },
          "yaxis": {
           "automargin": true,
           "gridcolor": "white",
           "linecolor": "white",
           "ticks": "",
           "title": {
            "standoff": 15
           },
           "zerolinecolor": "white",
           "zerolinewidth": 2
          }
         }
        },
        "title": {
         "text": "<b>Importancia Relativa de Variables por Macrosector</b><br><sup>El color representa la contribución promedio de cada variable al puntaje del sector</sup>",
         "x": 0.5
        },
        "xaxis": {
         "anchor": "y",
         "domain": [
          0,
          1
         ],
         "tickangle": -45,
         "title": {
          "text": "Macrosector"
         }
        },
        "yaxis": {
         "anchor": "x",
         "autorange": "reversed",
         "domain": [
          0,
          1
         ],
         "title": {
          "text": "Variable de Sostenibilidad"
         }
        }
       }
      }
     },
     "metadata": {},
     "output_type": "display_data"
    }
   ],
   "source": [
    "# 1. Preparación de Datos\n",
    "# Calcular la valoración ponderada promedio para cada variable dentro de cada macrosector.\n",
    "var_importance_data = raw_data.groupby(['Macrosector', 'Variable'])['valoracionPonderada'].mean().reset_index()\n",
    "\n",
    "# Pivotar la tabla para crear una matriz: Variables en filas, Sectores en columnas.\n",
    "var_importance_matrix = var_importance_data.pivot(\n",
    "    index='Variable', \n",
    "    columns='Macrosector', \n",
    "    values='valoracionPonderada'\n",
    ").fillna(0)\n",
    "\n",
    "# 2. Creación del Gráfico (Heatmap)\n",
    "fig_var_importance = px.imshow(\n",
    "    var_importance_matrix,\n",
    "    text_auto=\".2f\", # Formatea los números a dos decimales\n",
    "    aspect=\"auto\",\n",
    "    color_continuous_scale='Blues', # Una escala de color secuencial es más apropiada aquí\n",
    "    labels=dict(x=\"Macrosector\", y=\"Variable de Sostenibilidad\", color=\"Importancia Promedio\")\n",
    ")\n",
    "\n",
    "# 3. Personalización y Estilo del Gráfico\n",
    "fig_var_importance.update_layout(\n",
    "    title_text='<b>Importancia Relativa de Variables por Macrosector</b><br><sup>El color representa la contribución promedio de cada variable al puntaje del sector</sup>',\n",
    "    title_x=0.5,\n",
    "    xaxis_tickangle=-45,\n",
    "    font=dict(family=\"Arial, sans-serif\", size=10, color=\"black\"),\n",
    "    height=max(600, len(var_importance_matrix.index) * 20) # Ajustar altura dinámicamente\n",
    ")\n",
    "fig_var_importance.show()\n",
    "save_chart_as_html(fig_var_importance, '13_variable_importance_heatmap.html')\n",
    "# Save as image\n",
    "fig_var_importance.write_image(\"img/13_variable_importance_heatmap.png\", width=1000, height=800, scale=2)"
   ]
  },
  {
   "cell_type": "markdown",
   "metadata": {},
   "source": [
    "## 14. Gráfico de Dispersión con Línea de Tendencia: Ingresos vs. Valoración Ponderada"
   ]
  },
  {
   "cell_type": "code",
   "execution_count": 31,
   "metadata": {},
   "outputs": [
    {
     "data": {
      "application/vnd.plotly.v1+json": {
       "config": {
        "plotlyServerURL": "https://plot.ly"
       },
       "data": [
        {
         "hovertemplate": "<b>%{hovertext}</b><br><br>Macrosector=Comercio<br>Ingresos_Operacionales=%{x}<br>Puntaje_Total_Sostenibilidad=%{y}<extra></extra>",
         "hovertext": [
          "ARA",
          "Biomax",
          "CI Eslop",
          "Cencosud",
          "Chevron",
          "Corbeta",
          "Cruz Verde",
          "D1",
          "Distracom",
          "Falabella",
          "Mazda",
          "Olímpica",
          "Petromil",
          "Pricesmart",
          "Primax",
          "Samsung",
          "Sodimac (Homecenter)",
          "Sucafina",
          "Suramerica Comercial (Dollar City)",
          "Tecnoquimicas",
          "Terpel",
          "Toyota",
          "Trafigura (Petroleum)",
          "Uniban",
          "Unilever",
          "Éxito"
         ],
         "legendgroup": "Comercio",
         "marker": {
          "color": "#636efa",
          "symbol": "circle"
         },
         "mode": "markers",
         "name": "Comercio",
         "orientation": "v",
         "showlegend": true,
         "type": "scatter",
         "x": {
          "bdata": "CTS3xpCpK0CLHrb82QwSQHd/70hSoP8/qgDYs/nZEEA4ukp313kXQNoMR8KExidAmaz5De0LFkCLcHJDfHAzQCe7IsPt/g5AvFUwWuJ1AkDckcsuAej9P2lI0PBKhBxAiYM14oo+CECoxNi25uICQMVrJCrQCiVAQ5DPoKuBCUCe5vYo4vYXQHMH2rK2BABAitFhKKH0BkCDdDxcLhMJQF3PY9aDwDhAmzZnbegcEEASfJlJUHsTQBckJ1qMXgBAUwJT5wDa/j84BUNn4xMwQA==",
          "dtype": "f8"
         },
         "xaxis": "x",
         "y": {
          "bdata": "AAAAAAAAAAAAAAAAAAAAAFtRc4eHhydAOpYwAACAc0CWKxeFyAFnQAAAAAAAAAAARc2FAYvQd0BU+NNJ9QZ4QFtRc4eHhydAvxQMUXfBfUAKbHUJ/NZwQFtRc4eHh0dAWOggO7ETJ0BnmmkoyRFvQLyi7BHo1XxADEc8S0tLdkBgCf994Qd9QJI+fWlp6XBAOE7p5DWUL0AAAAAAAAAAADJcxEfBj39Ab7o1TkJWd0BQgo+lpSVuQN3vDvg1WnVAW1Fzh4eHN0DAlw4SvJF4QA==",
          "dtype": "f8"
         },
         "yaxis": "y"
        },
        {
         "hovertemplate": "<b>%{hovertext}</b><br><br>Macrosector=Construcción<br>Ingresos_Operacionales=%{x}<br>Puntaje_Total_Sostenibilidad=%{y}<extra></extra>",
         "hovertext": [
          "ARQUITECTURA Y CONCRETO",
          "AUTOPISTA RIO MAGDALENA SAS",
          "Amarilo",
          "CONCESIONARIA VIAL UNIÓN DEL SUR SAS",
          "CONSTRUCCIONES EL CONDOR S.A",
          "CONSTRUCTORA CAPITAL BOGOTA SAS",
          "CONSTRUCTORA COLPATRIA  SAS",
          "Conconcreto",
          "ISMOCOL SA",
          "MARVAL S.A.S."
         ],
         "legendgroup": "Construcción",
         "marker": {
          "color": "#EF553B",
          "symbol": "circle"
         },
         "mode": "markers",
         "name": "Construcción",
         "orientation": "v",
         "showlegend": true,
         "type": "scatter",
         "x": {
          "bdata": "+cBqOYuv6D+pD2FSNQf1P2t8+3qLfQFA9O1czFqQ6D9QoaEcWAjzP5LDBI40A/U/v+7XEUXg5z+jD5P5Eu3fP3oXJLq9Deg/htGD7e2H7z8=",
          "dtype": "f8"
         },
         "xaxis": "x",
         "y": {
          "bdata": "AAAAAAAAAAAGmVW5rzx9QMRJjRVszHdA1ljRBfZhcUCIVa9nRyxnQHKgAaGnPWJAW2UdwzBMaUAqzSXWC21yQNAYe2lpaT1AjqgtzijmbkA=",
          "dtype": "f8"
         },
         "yaxis": "y"
        },
        {
         "hovertemplate": "<b>%{hovertext}</b><br><br>Macrosector=Agropecuario<br>Ingresos_Operacionales=%{x}<br>Puntaje_Total_Sostenibilidad=%{y}<extra></extra>",
         "hovertext": [
          "AVICOLA EL MADROÑO SA",
          "AVSA",
          "Aliar",
          "Grupo Bios",
          "INCUBADORA SANTANDER S.A. (Huevos Kikes)",
          "Sunshine Bouquet"
         ],
         "legendgroup": "Agropecuario",
         "marker": {
          "color": "#00cc96",
          "symbol": "circle"
         },
         "mode": "markers",
         "name": "Agropecuario",
         "orientation": "v",
         "showlegend": true,
         "type": "scatter",
         "x": {
          "bdata": "cFRQTDzC5j93vgf+o2IDQHES1gj1S+8/M8q5aFZD3D+Yyuw9pp/sP4zmxskEQQFA",
          "dtype": "f8"
         },
         "xaxis": "x",
         "y": {
          "bdata": "AAAAAAAAAACld79EmxJNQFGds6qqynNAs2Ph8zyPYUAAAAAAAAAAAIcZtyRJkixA",
          "dtype": "f8"
         },
         "yaxis": "y"
        },
        {
         "hovertemplate": "<b>%{hovertext}</b><br><br>Macrosector=Manufactura<br>Ingresos_Operacionales=%{x}<br>Puntaje_Total_Sostenibilidad=%{y}<extra></extra>",
         "hovertext": [
          "Alimentos Carnicos (Grupo Nutresa)",
          "Alpina",
          "BEL STAR S.A.",
          "Bavaria (Kopps)",
          "CARTON DE COLOMBIA S.A. (Smurfit Kappa)",
          "Cementos Argos",
          "Coca Cola- Femsa",
          "Colgate",
          "Colombina",
          "Compañía Nacional de Chocolates",
          "ES Windows",
          "Esenttia",
          "General Motors",
          "Grupo Diana",
          "Haceb",
          "Italcol",
          "Nestle",
          "POLLOS EL BUCANERO S.A. (Cargill)",
          "Pepsico",
          "Postobón",
          "Productos Familia (Essity)",
          "Reficar",
          "Renault",
          "Riopaila Castilla",
          "YARA COLOMBIA S.A.",
          "Yamaha"
         ],
         "legendgroup": "Manufactura",
         "marker": {
          "color": "#ab63fa",
          "symbol": "circle"
         },
         "mode": "markers",
         "name": "Manufactura",
         "orientation": "v",
         "showlegend": true,
         "type": "scatter",
         "x": {
          "bdata": "wPBeds7BBkCvnKaXZGkBQDnymx0E+P0/cYWWxkY7IUCSnnAW+XT8PzCuAsZEhP0/F7jwR0elFEDlpk9whg4DQEEXfLboigFAE943ISEY/z85RnAr1v8EQOxdYK/gfQJAY706j9Zl8z80KJCVPOMDQENCQDDacvU/1narmF6DCUDq39z8ElsAQHkEg+D7LwJA7wyA3HHHAEDpNJHtCsYGQCxFL/lYIwBAFBqx5GTcOUCRRJw/h2gDQL0nXZolKPs/2l+/JdU+/D+OqWWyUk39Pw==",
          "dtype": "f8"
         },
         "xaxis": "x",
         "y": {
          "bdata": "uctnQYTDf0DLyFFnK9x6QCCnzvRJPnNAAx4qI7SCbUCJ6DCPJ1F5QLiVJvFGH39A1Sp2C9e2ekBs2py1ESdyQDhDAiqGM4BAg+9tYieMb0BK89bfWwF2QIxiPd4xg4FA8y8hnaQLdUAAAAAAAAAAAPgDPG6CxHxAAAAAAAAAAAD+ZNid2EluQNAYe2lpaT1ARZfhhvIacUCLbugmHJaBQKUTUHs2+HdA3rdzxDYOdUDWJhv9er53QBeuB8bzNXxAx8f+5DWUb0CL6PBzUF5mQA==",
          "dtype": "f8"
         },
         "yaxis": "y"
        },
        {
         "hovertemplate": "<b>%{hovertext}</b><br><br>Macrosector=Servicios<br>Ingresos_Operacionales=%{x}<br>Puntaje_Total_Sostenibilidad=%{y}<extra></extra>",
         "hovertext": [
          "Avianca",
          "Celsia",
          "Cenit",
          "Claro",
          "EPM",
          "Emgesa",
          "GEB",
          "Gases del Caribe",
          "ISA",
          "Isagen",
          "LATAM",
          "Mercado Libre",
          "Oleoducto Central (Ocensa)",
          "Promigas",
          "Rappi",
          "Telefónica",
          "Teleperformance",
          "Tigo"
         ],
         "legendgroup": "Servicios",
         "marker": {
          "color": "#FFA15A",
          "symbol": "circle"
         },
         "mode": "markers",
         "name": "Servicios",
         "orientation": "v",
         "showlegend": true,
         "type": "scatter",
         "x": {
          "bdata": "tnktMks2LkDTv2tqtTAaQPnTLdiZ9CNANdvLbEY0L0D3ZbzvEJM0QDKCfL+Hjy9AJGtWe627DUBYr+r4pBUFQGA7qxQhhhBAokKWgdqKGEDpPeQZc6ACQGy7UpQgu/0/UV4poJDmF0CznrU26C4CQCofrSougOY/H5Twt0+wGkBtwvXczT0FQJ1P5QA2pgdA",
          "dtype": "f8"
         },
         "xaxis": "x",
         "y": {
          "bdata": "wBUtmVPpdECcyXGGhmt8QNm4PcLauXxAXUbVojqYfEChc+kll5F5QJOPvPfkRIBASPxkblF1eUDylYzYYZpyQOXIFL29cXlAoZbScmEkcEDerScYgKR4QMank3tQS3NAaDUB3+WJeUCMGG6nujB7QAAAAAAAAAAA+NkKkpVqfUBWqHXoojZ6QIE52G3woXZA",
          "dtype": "f8"
         },
         "yaxis": "y"
        },
        {
         "hovertemplate": "<b>%{hovertext}</b><br><br>Macrosector=Minero<br>Ingresos_Operacionales=%{x}<br>Puntaje_Total_Sostenibilidad=%{y}<extra></extra>",
         "hovertext": [
          "C.I Prodeco",
          "Cerrejón",
          "Drummond",
          "Ecopetrol",
          "Frontera Energy",
          "Geopark",
          "Gran Tierra Energy",
          "Hocol",
          "SierraCol Energy",
          "Verano energy"
         ],
         "legendgroup": "Minero",
         "marker": {
          "color": "#19d3f3",
          "symbol": "circle"
         },
         "mode": "markers",
         "name": "Minero",
         "orientation": "v",
         "showlegend": true,
         "type": "scatter",
         "x": {
          "bdata": "dFyfzwak7D/iO0iHOzAYQCWFR1Xy/SZA1qMVhBd7XEA4E5YiQAARQI9kKW7pXANAqrab4Jsm9T8Lonn2GEkFQFf/GiIEGv8/q6n3F+vuFUA=",
          "dtype": "f8"
         },
         "xaxis": "x",
         "y": {
          "bdata": "3ml8cAiHRkAehr4KVMxyQANTIax3LYFAYYxXPxNTgEDZDMv6uHx7QPytrFPCBIBAt0BXYgt8dUAFhMLfsJx9QIb0Ysg8qn5AAAAAAAAAAAA=",
          "dtype": "f8"
         },
         "yaxis": "y"
        },
        {
         "hovertemplate": "<b>OLS trendline</b><br>Puntaje_Total_Sostenibilidad = 3.10393 * Ingresos_Operacionales + 270.731<br>R<sup>2</sup>=0.046497<br><br>Ingresos_Operacionales=%{x}<br>Puntaje_Total_Sostenibilidad=%{y} <b>(trend)</b><extra></extra>",
         "legendgroup": "Overall Trendline",
         "line": {
          "color": "#FF6692"
         },
         "mode": "lines",
         "name": "Overall Trendline",
         "showlegend": true,
         "type": "scatter",
         "x": {
          "bdata": "M8q5aFZD3D+jD5P5Eu3fPyofrSougOY/cFRQTDzC5j+/7tcRReDnP3oXJLq9Deg/9O1czFqQ6D/5wGo5i6/oP5jK7D2mn+w/dFyfzwak7D9xEtYI9UvvP4bRg+3th+8/UKGhHFgI8z9jvTqP1mXzP5LDBI40A/U/qQ9hUjUH9T+qtpvgmyb1P0NCQDDacvU/vSddmiUo+z/aX78l1T78P5KecBb5dPw/jqllslJN/T8wrgLGRIT9P2y7UpQgu/0/3JHLLgHo/T858psdBPj9P1MCU+cA2v4/E943ISEY/z9X/xoiBBr/P3d/70hSoP8/cwfasrYEAEAsRS/5WCMAQOrf3PwSWwBAFyQnWoxeAEDvDIDccccAQIzmxskEQQFAr5yml2RpAUBrfPt6i30BQEEXfLboigFAs561NuguAkB5BIPg+y8CQLxVMFridQJA7F1gr+B9AkDpPeQZc6ACQKjE2Lbm4gJA5aZPcIYOA0CPZClu6VwDQHe+B/6jYgNAkUScP4doA0A0KJCVPOMDQDlGcCvW/wRAWK/q+KQVBUBtwvXczT0FQAuiefYYSQVAwPBeds7BBkDpNJHtCsYGQIrRYSih9AZAnU/lADamB0CJgzXiij4IQIN0PFwuEwlAQ5DPoKuBCUDWdquYXoMJQCRrVnutuw1AJ7siw+3+DkCbNmdt6BwQQGA7qxQhhhBAqgDYs/nZEEA4E5YiQAARQIsetvzZDBJAEnyZSVB7E0AXuPBHR6UUQKup9xfr7hVAmaz5De0LFkA4ukp313kXQFFeKaCQ5hdAnub2KOL2F0DiO0iHOzAYQKJCloHaihhA079rarUwGkAflPC3T7AaQGlI0PBKhBxAcYWWxkY7IUD50y3YmfQjQMVrJCrQCiVAJYVHVfL9JkDaDEfChMYnQAk0t8aQqStAtnktMks2LkA128tsRjQvQDKCfL+Hjy9AOAVDZ+MTMECLcHJDfHAzQPdlvO8QkzRAXc9j1oPAOEAUGrHkZNw5QNajFYQXe1xA",
          "dtype": "f8"
         },
         "xaxis": "x",
         "y": {
          "bdata": "YV7wv54BcUBGHN9qdgRxQO4L6tqbDnFAwILdXgIPcUAz4zpJvhBxQFTOItsEEXFAbG5WkM8RcUA9ceX3/xFxQNaOlIMcGHFA4GaqTiMYcUAL51aJQhxxQP56gpyfHHFAiI02rcMmcUBE6h3g5SdxQOB/a/DoLHFA+zM6XfUscUAp9VvUVi1xQDTW33tDLnFASQRHPvs/cUA0LM5DXENxQDjiHlAERHFAan9M2aNGcUBiknJlTkdxQOwxeKz4R3FAPuhQ+INIcUDgPCCrtUhxQCl/Qh5zS3FA4Wvm8zNMcUBvMBzPOUxxQKqx+q7aTXFAMjrV7CBPcUBRm5wY309xQC9+GAo5UXFAj0Emm05RcUBVZRjK2VNxQIXzAYHMVnFA84ZHJMdXcUB2A/U9RFhxQHwfgTSXWHFA329jSJFccUDjNKv3l1xxQNh+JeZJXnFAy8GAhXtecUDPw68jUl9xQG20eanuYHFAvw0yef1hcUC+KVwW5GNxQDv9k6YHZHFAqI5rMyxkcUA4ySb1JWdxQIwtK7cMbnFAsnFzGJRucUCi6dNmjW9xQBD7YYLTb3FAwbpPEfZ4cUAG6YZdEHlxQOLv8ZExenFAQgK3+H9+cUBk4g+gMYJxQB7WH6hZh3FA/PQ7jweKcUAqNXUbEopxQJVhioNEpHFAPMN7NhuscUDgrjj9vbNxQJK9aGPYuHFAs+ZVZum8cUCc1QSdxL5xQIuRiX3Ly3FAdMF2YpHdcUCOAcbVBOxxQEer+40B/HFAH6mztGn9cUDpFM7QKA9yQOODxbFuFHJAe//nTDkVckAeLMxUARhyQJCHBHVmHHJAY1CLGNwwckADnIFgDDdyQHyh17S+TXJArW4srZKXckBI/5dCNttyQMYrpKwy9nJAO6Pb4pwmc0CcSHhhETpzQCIL2NiVmnNA/eE5CubZc0DtxnnEiPJzQC1zL8Ri+3NAsJK3QycKdECIN8EGG7F0QO0QKh166XRAgnKxD/K4dUCmnY1TBPB1QFIodeO5goNA",
          "dtype": "f8"
         },
         "yaxis": "y"
        }
       ],
       "layout": {
        "font": {
         "color": "black",
         "family": "Arial, sans-serif",
         "size": 12
        },
        "legend": {
         "title": {
          "text": "Macrosector"
         },
         "tracegroupgap": 0
        },
        "margin": {
         "t": 60
        },
        "template": {
         "data": {
          "bar": [
           {
            "error_x": {
             "color": "#2a3f5f"
            },
            "error_y": {
             "color": "#2a3f5f"
            },
            "marker": {
             "line": {
              "color": "#E5ECF6",
              "width": 0.5
             },
             "pattern": {
              "fillmode": "overlay",
              "size": 10,
              "solidity": 0.2
             }
            },
            "type": "bar"
           }
          ],
          "barpolar": [
           {
            "marker": {
             "line": {
              "color": "#E5ECF6",
              "width": 0.5
             },
             "pattern": {
              "fillmode": "overlay",
              "size": 10,
              "solidity": 0.2
             }
            },
            "type": "barpolar"
           }
          ],
          "carpet": [
           {
            "aaxis": {
             "endlinecolor": "#2a3f5f",
             "gridcolor": "white",
             "linecolor": "white",
             "minorgridcolor": "white",
             "startlinecolor": "#2a3f5f"
            },
            "baxis": {
             "endlinecolor": "#2a3f5f",
             "gridcolor": "white",
             "linecolor": "white",
             "minorgridcolor": "white",
             "startlinecolor": "#2a3f5f"
            },
            "type": "carpet"
           }
          ],
          "choropleth": [
           {
            "colorbar": {
             "outlinewidth": 0,
             "ticks": ""
            },
            "type": "choropleth"
           }
          ],
          "contour": [
           {
            "colorbar": {
             "outlinewidth": 0,
             "ticks": ""
            },
            "colorscale": [
             [
              0,
              "#0d0887"
             ],
             [
              0.1111111111111111,
              "#46039f"
             ],
             [
              0.2222222222222222,
              "#7201a8"
             ],
             [
              0.3333333333333333,
              "#9c179e"
             ],
             [
              0.4444444444444444,
              "#bd3786"
             ],
             [
              0.5555555555555556,
              "#d8576b"
             ],
             [
              0.6666666666666666,
              "#ed7953"
             ],
             [
              0.7777777777777778,
              "#fb9f3a"
             ],
             [
              0.8888888888888888,
              "#fdca26"
             ],
             [
              1,
              "#f0f921"
             ]
            ],
            "type": "contour"
           }
          ],
          "contourcarpet": [
           {
            "colorbar": {
             "outlinewidth": 0,
             "ticks": ""
            },
            "type": "contourcarpet"
           }
          ],
          "heatmap": [
           {
            "colorbar": {
             "outlinewidth": 0,
             "ticks": ""
            },
            "colorscale": [
             [
              0,
              "#0d0887"
             ],
             [
              0.1111111111111111,
              "#46039f"
             ],
             [
              0.2222222222222222,
              "#7201a8"
             ],
             [
              0.3333333333333333,
              "#9c179e"
             ],
             [
              0.4444444444444444,
              "#bd3786"
             ],
             [
              0.5555555555555556,
              "#d8576b"
             ],
             [
              0.6666666666666666,
              "#ed7953"
             ],
             [
              0.7777777777777778,
              "#fb9f3a"
             ],
             [
              0.8888888888888888,
              "#fdca26"
             ],
             [
              1,
              "#f0f921"
             ]
            ],
            "type": "heatmap"
           }
          ],
          "histogram": [
           {
            "marker": {
             "pattern": {
              "fillmode": "overlay",
              "size": 10,
              "solidity": 0.2
             }
            },
            "type": "histogram"
           }
          ],
          "histogram2d": [
           {
            "colorbar": {
             "outlinewidth": 0,
             "ticks": ""
            },
            "colorscale": [
             [
              0,
              "#0d0887"
             ],
             [
              0.1111111111111111,
              "#46039f"
             ],
             [
              0.2222222222222222,
              "#7201a8"
             ],
             [
              0.3333333333333333,
              "#9c179e"
             ],
             [
              0.4444444444444444,
              "#bd3786"
             ],
             [
              0.5555555555555556,
              "#d8576b"
             ],
             [
              0.6666666666666666,
              "#ed7953"
             ],
             [
              0.7777777777777778,
              "#fb9f3a"
             ],
             [
              0.8888888888888888,
              "#fdca26"
             ],
             [
              1,
              "#f0f921"
             ]
            ],
            "type": "histogram2d"
           }
          ],
          "histogram2dcontour": [
           {
            "colorbar": {
             "outlinewidth": 0,
             "ticks": ""
            },
            "colorscale": [
             [
              0,
              "#0d0887"
             ],
             [
              0.1111111111111111,
              "#46039f"
             ],
             [
              0.2222222222222222,
              "#7201a8"
             ],
             [
              0.3333333333333333,
              "#9c179e"
             ],
             [
              0.4444444444444444,
              "#bd3786"
             ],
             [
              0.5555555555555556,
              "#d8576b"
             ],
             [
              0.6666666666666666,
              "#ed7953"
             ],
             [
              0.7777777777777778,
              "#fb9f3a"
             ],
             [
              0.8888888888888888,
              "#fdca26"
             ],
             [
              1,
              "#f0f921"
             ]
            ],
            "type": "histogram2dcontour"
           }
          ],
          "mesh3d": [
           {
            "colorbar": {
             "outlinewidth": 0,
             "ticks": ""
            },
            "type": "mesh3d"
           }
          ],
          "parcoords": [
           {
            "line": {
             "colorbar": {
              "outlinewidth": 0,
              "ticks": ""
             }
            },
            "type": "parcoords"
           }
          ],
          "pie": [
           {
            "automargin": true,
            "type": "pie"
           }
          ],
          "scatter": [
           {
            "fillpattern": {
             "fillmode": "overlay",
             "size": 10,
             "solidity": 0.2
            },
            "type": "scatter"
           }
          ],
          "scatter3d": [
           {
            "line": {
             "colorbar": {
              "outlinewidth": 0,
              "ticks": ""
             }
            },
            "marker": {
             "colorbar": {
              "outlinewidth": 0,
              "ticks": ""
             }
            },
            "type": "scatter3d"
           }
          ],
          "scattercarpet": [
           {
            "marker": {
             "colorbar": {
              "outlinewidth": 0,
              "ticks": ""
             }
            },
            "type": "scattercarpet"
           }
          ],
          "scattergeo": [
           {
            "marker": {
             "colorbar": {
              "outlinewidth": 0,
              "ticks": ""
             }
            },
            "type": "scattergeo"
           }
          ],
          "scattergl": [
           {
            "marker": {
             "colorbar": {
              "outlinewidth": 0,
              "ticks": ""
             }
            },
            "type": "scattergl"
           }
          ],
          "scattermap": [
           {
            "marker": {
             "colorbar": {
              "outlinewidth": 0,
              "ticks": ""
             }
            },
            "type": "scattermap"
           }
          ],
          "scattermapbox": [
           {
            "marker": {
             "colorbar": {
              "outlinewidth": 0,
              "ticks": ""
             }
            },
            "type": "scattermapbox"
           }
          ],
          "scatterpolar": [
           {
            "marker": {
             "colorbar": {
              "outlinewidth": 0,
              "ticks": ""
             }
            },
            "type": "scatterpolar"
           }
          ],
          "scatterpolargl": [
           {
            "marker": {
             "colorbar": {
              "outlinewidth": 0,
              "ticks": ""
             }
            },
            "type": "scatterpolargl"
           }
          ],
          "scatterternary": [
           {
            "marker": {
             "colorbar": {
              "outlinewidth": 0,
              "ticks": ""
             }
            },
            "type": "scatterternary"
           }
          ],
          "surface": [
           {
            "colorbar": {
             "outlinewidth": 0,
             "ticks": ""
            },
            "colorscale": [
             [
              0,
              "#0d0887"
             ],
             [
              0.1111111111111111,
              "#46039f"
             ],
             [
              0.2222222222222222,
              "#7201a8"
             ],
             [
              0.3333333333333333,
              "#9c179e"
             ],
             [
              0.4444444444444444,
              "#bd3786"
             ],
             [
              0.5555555555555556,
              "#d8576b"
             ],
             [
              0.6666666666666666,
              "#ed7953"
             ],
             [
              0.7777777777777778,
              "#fb9f3a"
             ],
             [
              0.8888888888888888,
              "#fdca26"
             ],
             [
              1,
              "#f0f921"
             ]
            ],
            "type": "surface"
           }
          ],
          "table": [
           {
            "cells": {
             "fill": {
              "color": "#EBF0F8"
             },
             "line": {
              "color": "white"
             }
            },
            "header": {
             "fill": {
              "color": "#C8D4E3"
             },
             "line": {
              "color": "white"
             }
            },
            "type": "table"
           }
          ]
         },
         "layout": {
          "annotationdefaults": {
           "arrowcolor": "#2a3f5f",
           "arrowhead": 0,
           "arrowwidth": 1
          },
          "autotypenumbers": "strict",
          "coloraxis": {
           "colorbar": {
            "outlinewidth": 0,
            "ticks": ""
           }
          },
          "colorscale": {
           "diverging": [
            [
             0,
             "#8e0152"
            ],
            [
             0.1,
             "#c51b7d"
            ],
            [
             0.2,
             "#de77ae"
            ],
            [
             0.3,
             "#f1b6da"
            ],
            [
             0.4,
             "#fde0ef"
            ],
            [
             0.5,
             "#f7f7f7"
            ],
            [
             0.6,
             "#e6f5d0"
            ],
            [
             0.7,
             "#b8e186"
            ],
            [
             0.8,
             "#7fbc41"
            ],
            [
             0.9,
             "#4d9221"
            ],
            [
             1,
             "#276419"
            ]
           ],
           "sequential": [
            [
             0,
             "#0d0887"
            ],
            [
             0.1111111111111111,
             "#46039f"
            ],
            [
             0.2222222222222222,
             "#7201a8"
            ],
            [
             0.3333333333333333,
             "#9c179e"
            ],
            [
             0.4444444444444444,
             "#bd3786"
            ],
            [
             0.5555555555555556,
             "#d8576b"
            ],
            [
             0.6666666666666666,
             "#ed7953"
            ],
            [
             0.7777777777777778,
             "#fb9f3a"
            ],
            [
             0.8888888888888888,
             "#fdca26"
            ],
            [
             1,
             "#f0f921"
            ]
           ],
           "sequentialminus": [
            [
             0,
             "#0d0887"
            ],
            [
             0.1111111111111111,
             "#46039f"
            ],
            [
             0.2222222222222222,
             "#7201a8"
            ],
            [
             0.3333333333333333,
             "#9c179e"
            ],
            [
             0.4444444444444444,
             "#bd3786"
            ],
            [
             0.5555555555555556,
             "#d8576b"
            ],
            [
             0.6666666666666666,
             "#ed7953"
            ],
            [
             0.7777777777777778,
             "#fb9f3a"
            ],
            [
             0.8888888888888888,
             "#fdca26"
            ],
            [
             1,
             "#f0f921"
            ]
           ]
          },
          "colorway": [
           "#636efa",
           "#EF553B",
           "#00cc96",
           "#ab63fa",
           "#FFA15A",
           "#19d3f3",
           "#FF6692",
           "#B6E880",
           "#FF97FF",
           "#FECB52"
          ],
          "font": {
           "color": "#2a3f5f"
          },
          "geo": {
           "bgcolor": "white",
           "lakecolor": "white",
           "landcolor": "#E5ECF6",
           "showlakes": true,
           "showland": true,
           "subunitcolor": "white"
          },
          "hoverlabel": {
           "align": "left"
          },
          "hovermode": "closest",
          "mapbox": {
           "style": "light"
          },
          "paper_bgcolor": "white",
          "plot_bgcolor": "#E5ECF6",
          "polar": {
           "angularaxis": {
            "gridcolor": "white",
            "linecolor": "white",
            "ticks": ""
           },
           "bgcolor": "#E5ECF6",
           "radialaxis": {
            "gridcolor": "white",
            "linecolor": "white",
            "ticks": ""
           }
          },
          "scene": {
           "xaxis": {
            "backgroundcolor": "#E5ECF6",
            "gridcolor": "white",
            "gridwidth": 2,
            "linecolor": "white",
            "showbackground": true,
            "ticks": "",
            "zerolinecolor": "white"
           },
           "yaxis": {
            "backgroundcolor": "#E5ECF6",
            "gridcolor": "white",
            "gridwidth": 2,
            "linecolor": "white",
            "showbackground": true,
            "ticks": "",
            "zerolinecolor": "white"
           },
           "zaxis": {
            "backgroundcolor": "#E5ECF6",
            "gridcolor": "white",
            "gridwidth": 2,
            "linecolor": "white",
            "showbackground": true,
            "ticks": "",
            "zerolinecolor": "white"
           }
          },
          "shapedefaults": {
           "line": {
            "color": "#2a3f5f"
           }
          },
          "ternary": {
           "aaxis": {
            "gridcolor": "white",
            "linecolor": "white",
            "ticks": ""
           },
           "baxis": {
            "gridcolor": "white",
            "linecolor": "white",
            "ticks": ""
           },
           "bgcolor": "#E5ECF6",
           "caxis": {
            "gridcolor": "white",
            "linecolor": "white",
            "ticks": ""
           }
          },
          "title": {
           "x": 0.05
          },
          "xaxis": {
           "automargin": true,
           "gridcolor": "white",
           "linecolor": "white",
           "ticks": "",
           "title": {
            "standoff": 15
           },
           "zerolinecolor": "white",
           "zerolinewidth": 2
          },
          "yaxis": {
           "automargin": true,
           "gridcolor": "white",
           "linecolor": "white",
           "ticks": "",
           "title": {
            "standoff": 15
           },
           "zerolinecolor": "white",
           "zerolinewidth": 2
          }
         }
        },
        "title": {
         "text": "<b>Relación entre Ingresos Operacionales y Desempeño en Sostenibilidad</b>",
         "x": 0.5
        },
        "xaxis": {
         "anchor": "y",
         "domain": [
          0,
          1
         ],
         "title": {
          "text": "Ingresos Operacionales (Escala Logarítmica)"
         },
         "type": "log"
        },
        "yaxis": {
         "anchor": "x",
         "domain": [
          0,
          1
         ],
         "title": {
          "text": "Puntaje Total de Sostenibilidad"
         }
        }
       }
      }
     },
     "metadata": {},
     "output_type": "display_data"
    }
   ],
   "source": [
    "# 1. Preparación de Datos\n",
    "# Reutilizamos el DataFrame agregado, filtrando valores no positivos en ingresos para la escala logarítmica.\n",
    "scatter_data = company_agg_data[company_agg_data['Ingresos_Operacionales'] > 0].copy()\n",
    "\n",
    "# 2. Creación del Gráfico de Dispersión\n",
    "fig_scatter_trend = px.scatter(\n",
    "    scatter_data,\n",
    "    x=\"Ingresos_Operacionales\",\n",
    "    y=\"Puntaje_Total_Sostenibilidad\",\n",
    "    color=\"Macrosector\",\n",
    "    hover_name=\"Razón social\",\n",
    "    log_x=True,  # Usar escala logarítmica para el eje X (Ingresos)\n",
    "    trendline=\"ols\",  # Añadir línea de tendencia de regresión (Ordinary Least Squares)\n",
    "    trendline_scope=\"overall\" # Una única línea de tendencia para todos los datos\n",
    ")\n",
    "\n",
    "# 3. Personalización y Estilo del Gráfico\n",
    "fig_scatter_trend.update_layout(\n",
    "    title='<b>Relación entre Ingresos Operacionales y Desempeño en Sostenibilidad</b>',\n",
    "    title_x=0.5,\n",
    "    xaxis_title='Ingresos Operacionales (Escala Logarítmica)',\n",
    "    yaxis_title='Puntaje Total de Sostenibilidad',\n",
    "    font=dict(family=\"Arial, sans-serif\", size=12, color=\"black\"),\n",
    "    legend_title_text='Macrosector'\n",
    ")\n",
    "\n",
    "fig_scatter_trend.show()\n",
    "save_chart_as_html(fig_scatter_trend, '14_scatter_trend_income_vs_sustainability.html')\n",
    "# Save as image\n",
    "fig_scatter_trend.write_image(\"img/14_scatter_trend_income_vs_sustainability.png\", width=1000, height=800, scale=2)"
   ]
  },
  {
   "cell_type": "markdown",
   "metadata": {},
   "source": [
    "## 15. Diagrama de Cuerdas (Chord Diagram) de Interconexión Sector-Pilar"
   ]
  },
  {
   "cell_type": "code",
   "execution_count": 32,
   "metadata": {},
   "outputs": [
    {
     "data": {
      "application/vnd.plotly.v1+json": {
       "config": {
        "plotlyServerURL": "https://plot.ly"
       },
       "data": [
        {
         "coloraxis": "coloraxis",
         "hovertemplate": "Pilar de Sostenibilidad: %{x}<br>Macrosector: %{y}<br>Valoración Total: %{z}<extra></extra>",
         "name": "0",
         "texttemplate": "%{z}",
         "type": "heatmap",
         "x": [
          "Acción Climática y Energía",
          "Capital Humano: Bienestar y Desarrollo",
          "Diversidad, Equidad e Inclusión (DEI)",
          "Gestión de Recursos Naturales y Circularidad",
          "Impacto Económico, Social y Comunitario",
          "Transparencia y Gobierno de la Sostenibilidad"
         ],
         "xaxis": "x",
         "y": [
          "Agropecuario",
          "Comercio",
          "Construcción",
          "Manufactura",
          "Minero",
          "Servicios"
         ],
         "yaxis": "y",
         "z": {
          "bdata": "6g7/PM/zXkCHGbckSZJMQIcZtyRJkjxAwIvG8zzPV0D0DVTfHH1UQPRv8rZt22FA09Ab+yF3mkDjZtzHquyAQCuMINqCRoxAUE/qju8cdUCbl9yL7FeFQLZTCB4eXplAIurEOagfe0DuChqGYVhzQO2Vp+P5mWNA1ch0Cbt/eUAjKocobA1wQKaEYFVV1YRAX7XPtkMapkBtbmikHWeQQGyGw+6xKoVACWvnJLmPmkAay6q+oTGNQHFVG5TXMJdAR2fLfwlvjUATfsqtoMZ3QFuTpvXClG5AoPKbAVunjECgrrauPfyEQLSNw4mdWIBAuDP/J9QgnUBE5Xho8D2DQFC49rxLwZRA3WfU/b2KhUD5jF0FYUmUQAdwo5aWXqVA",
          "dtype": "f8",
          "shape": "6, 6"
         }
        }
       ],
       "layout": {
        "coloraxis": {
         "colorbar": {
          "title": {
           "text": "Valoración Total"
          }
         },
         "colorscale": [
          [
           0,
           "#440154"
          ],
          [
           0.1111111111111111,
           "#482878"
          ],
          [
           0.2222222222222222,
           "#3e4989"
          ],
          [
           0.3333333333333333,
           "#31688e"
          ],
          [
           0.4444444444444444,
           "#26828e"
          ],
          [
           0.5555555555555556,
           "#1f9e89"
          ],
          [
           0.6666666666666666,
           "#35b779"
          ],
          [
           0.7777777777777778,
           "#6ece58"
          ],
          [
           0.8888888888888888,
           "#b5de2b"
          ],
          [
           1,
           "#fde725"
          ]
         ]
        },
        "font": {
         "color": "black",
         "family": "Arial, sans-serif",
         "size": 10
        },
        "margin": {
         "t": 60
        },
        "template": {
         "data": {
          "bar": [
           {
            "error_x": {
             "color": "#2a3f5f"
            },
            "error_y": {
             "color": "#2a3f5f"
            },
            "marker": {
             "line": {
              "color": "#E5ECF6",
              "width": 0.5
             },
             "pattern": {
              "fillmode": "overlay",
              "size": 10,
              "solidity": 0.2
             }
            },
            "type": "bar"
           }
          ],
          "barpolar": [
           {
            "marker": {
             "line": {
              "color": "#E5ECF6",
              "width": 0.5
             },
             "pattern": {
              "fillmode": "overlay",
              "size": 10,
              "solidity": 0.2
             }
            },
            "type": "barpolar"
           }
          ],
          "carpet": [
           {
            "aaxis": {
             "endlinecolor": "#2a3f5f",
             "gridcolor": "white",
             "linecolor": "white",
             "minorgridcolor": "white",
             "startlinecolor": "#2a3f5f"
            },
            "baxis": {
             "endlinecolor": "#2a3f5f",
             "gridcolor": "white",
             "linecolor": "white",
             "minorgridcolor": "white",
             "startlinecolor": "#2a3f5f"
            },
            "type": "carpet"
           }
          ],
          "choropleth": [
           {
            "colorbar": {
             "outlinewidth": 0,
             "ticks": ""
            },
            "type": "choropleth"
           }
          ],
          "contour": [
           {
            "colorbar": {
             "outlinewidth": 0,
             "ticks": ""
            },
            "colorscale": [
             [
              0,
              "#0d0887"
             ],
             [
              0.1111111111111111,
              "#46039f"
             ],
             [
              0.2222222222222222,
              "#7201a8"
             ],
             [
              0.3333333333333333,
              "#9c179e"
             ],
             [
              0.4444444444444444,
              "#bd3786"
             ],
             [
              0.5555555555555556,
              "#d8576b"
             ],
             [
              0.6666666666666666,
              "#ed7953"
             ],
             [
              0.7777777777777778,
              "#fb9f3a"
             ],
             [
              0.8888888888888888,
              "#fdca26"
             ],
             [
              1,
              "#f0f921"
             ]
            ],
            "type": "contour"
           }
          ],
          "contourcarpet": [
           {
            "colorbar": {
             "outlinewidth": 0,
             "ticks": ""
            },
            "type": "contourcarpet"
           }
          ],
          "heatmap": [
           {
            "colorbar": {
             "outlinewidth": 0,
             "ticks": ""
            },
            "colorscale": [
             [
              0,
              "#0d0887"
             ],
             [
              0.1111111111111111,
              "#46039f"
             ],
             [
              0.2222222222222222,
              "#7201a8"
             ],
             [
              0.3333333333333333,
              "#9c179e"
             ],
             [
              0.4444444444444444,
              "#bd3786"
             ],
             [
              0.5555555555555556,
              "#d8576b"
             ],
             [
              0.6666666666666666,
              "#ed7953"
             ],
             [
              0.7777777777777778,
              "#fb9f3a"
             ],
             [
              0.8888888888888888,
              "#fdca26"
             ],
             [
              1,
              "#f0f921"
             ]
            ],
            "type": "heatmap"
           }
          ],
          "histogram": [
           {
            "marker": {
             "pattern": {
              "fillmode": "overlay",
              "size": 10,
              "solidity": 0.2
             }
            },
            "type": "histogram"
           }
          ],
          "histogram2d": [
           {
            "colorbar": {
             "outlinewidth": 0,
             "ticks": ""
            },
            "colorscale": [
             [
              0,
              "#0d0887"
             ],
             [
              0.1111111111111111,
              "#46039f"
             ],
             [
              0.2222222222222222,
              "#7201a8"
             ],
             [
              0.3333333333333333,
              "#9c179e"
             ],
             [
              0.4444444444444444,
              "#bd3786"
             ],
             [
              0.5555555555555556,
              "#d8576b"
             ],
             [
              0.6666666666666666,
              "#ed7953"
             ],
             [
              0.7777777777777778,
              "#fb9f3a"
             ],
             [
              0.8888888888888888,
              "#fdca26"
             ],
             [
              1,
              "#f0f921"
             ]
            ],
            "type": "histogram2d"
           }
          ],
          "histogram2dcontour": [
           {
            "colorbar": {
             "outlinewidth": 0,
             "ticks": ""
            },
            "colorscale": [
             [
              0,
              "#0d0887"
             ],
             [
              0.1111111111111111,
              "#46039f"
             ],
             [
              0.2222222222222222,
              "#7201a8"
             ],
             [
              0.3333333333333333,
              "#9c179e"
             ],
             [
              0.4444444444444444,
              "#bd3786"
             ],
             [
              0.5555555555555556,
              "#d8576b"
             ],
             [
              0.6666666666666666,
              "#ed7953"
             ],
             [
              0.7777777777777778,
              "#fb9f3a"
             ],
             [
              0.8888888888888888,
              "#fdca26"
             ],
             [
              1,
              "#f0f921"
             ]
            ],
            "type": "histogram2dcontour"
           }
          ],
          "mesh3d": [
           {
            "colorbar": {
             "outlinewidth": 0,
             "ticks": ""
            },
            "type": "mesh3d"
           }
          ],
          "parcoords": [
           {
            "line": {
             "colorbar": {
              "outlinewidth": 0,
              "ticks": ""
             }
            },
            "type": "parcoords"
           }
          ],
          "pie": [
           {
            "automargin": true,
            "type": "pie"
           }
          ],
          "scatter": [
           {
            "fillpattern": {
             "fillmode": "overlay",
             "size": 10,
             "solidity": 0.2
            },
            "type": "scatter"
           }
          ],
          "scatter3d": [
           {
            "line": {
             "colorbar": {
              "outlinewidth": 0,
              "ticks": ""
             }
            },
            "marker": {
             "colorbar": {
              "outlinewidth": 0,
              "ticks": ""
             }
            },
            "type": "scatter3d"
           }
          ],
          "scattercarpet": [
           {
            "marker": {
             "colorbar": {
              "outlinewidth": 0,
              "ticks": ""
             }
            },
            "type": "scattercarpet"
           }
          ],
          "scattergeo": [
           {
            "marker": {
             "colorbar": {
              "outlinewidth": 0,
              "ticks": ""
             }
            },
            "type": "scattergeo"
           }
          ],
          "scattergl": [
           {
            "marker": {
             "colorbar": {
              "outlinewidth": 0,
              "ticks": ""
             }
            },
            "type": "scattergl"
           }
          ],
          "scattermap": [
           {
            "marker": {
             "colorbar": {
              "outlinewidth": 0,
              "ticks": ""
             }
            },
            "type": "scattermap"
           }
          ],
          "scattermapbox": [
           {
            "marker": {
             "colorbar": {
              "outlinewidth": 0,
              "ticks": ""
             }
            },
            "type": "scattermapbox"
           }
          ],
          "scatterpolar": [
           {
            "marker": {
             "colorbar": {
              "outlinewidth": 0,
              "ticks": ""
             }
            },
            "type": "scatterpolar"
           }
          ],
          "scatterpolargl": [
           {
            "marker": {
             "colorbar": {
              "outlinewidth": 0,
              "ticks": ""
             }
            },
            "type": "scatterpolargl"
           }
          ],
          "scatterternary": [
           {
            "marker": {
             "colorbar": {
              "outlinewidth": 0,
              "ticks": ""
             }
            },
            "type": "scatterternary"
           }
          ],
          "surface": [
           {
            "colorbar": {
             "outlinewidth": 0,
             "ticks": ""
            },
            "colorscale": [
             [
              0,
              "#0d0887"
             ],
             [
              0.1111111111111111,
              "#46039f"
             ],
             [
              0.2222222222222222,
              "#7201a8"
             ],
             [
              0.3333333333333333,
              "#9c179e"
             ],
             [
              0.4444444444444444,
              "#bd3786"
             ],
             [
              0.5555555555555556,
              "#d8576b"
             ],
             [
              0.6666666666666666,
              "#ed7953"
             ],
             [
              0.7777777777777778,
              "#fb9f3a"
             ],
             [
              0.8888888888888888,
              "#fdca26"
             ],
             [
              1,
              "#f0f921"
             ]
            ],
            "type": "surface"
           }
          ],
          "table": [
           {
            "cells": {
             "fill": {
              "color": "#EBF0F8"
             },
             "line": {
              "color": "white"
             }
            },
            "header": {
             "fill": {
              "color": "#C8D4E3"
             },
             "line": {
              "color": "white"
             }
            },
            "type": "table"
           }
          ]
         },
         "layout": {
          "annotationdefaults": {
           "arrowcolor": "#2a3f5f",
           "arrowhead": 0,
           "arrowwidth": 1
          },
          "autotypenumbers": "strict",
          "coloraxis": {
           "colorbar": {
            "outlinewidth": 0,
            "ticks": ""
           }
          },
          "colorscale": {
           "diverging": [
            [
             0,
             "#8e0152"
            ],
            [
             0.1,
             "#c51b7d"
            ],
            [
             0.2,
             "#de77ae"
            ],
            [
             0.3,
             "#f1b6da"
            ],
            [
             0.4,
             "#fde0ef"
            ],
            [
             0.5,
             "#f7f7f7"
            ],
            [
             0.6,
             "#e6f5d0"
            ],
            [
             0.7,
             "#b8e186"
            ],
            [
             0.8,
             "#7fbc41"
            ],
            [
             0.9,
             "#4d9221"
            ],
            [
             1,
             "#276419"
            ]
           ],
           "sequential": [
            [
             0,
             "#0d0887"
            ],
            [
             0.1111111111111111,
             "#46039f"
            ],
            [
             0.2222222222222222,
             "#7201a8"
            ],
            [
             0.3333333333333333,
             "#9c179e"
            ],
            [
             0.4444444444444444,
             "#bd3786"
            ],
            [
             0.5555555555555556,
             "#d8576b"
            ],
            [
             0.6666666666666666,
             "#ed7953"
            ],
            [
             0.7777777777777778,
             "#fb9f3a"
            ],
            [
             0.8888888888888888,
             "#fdca26"
            ],
            [
             1,
             "#f0f921"
            ]
           ],
           "sequentialminus": [
            [
             0,
             "#0d0887"
            ],
            [
             0.1111111111111111,
             "#46039f"
            ],
            [
             0.2222222222222222,
             "#7201a8"
            ],
            [
             0.3333333333333333,
             "#9c179e"
            ],
            [
             0.4444444444444444,
             "#bd3786"
            ],
            [
             0.5555555555555556,
             "#d8576b"
            ],
            [
             0.6666666666666666,
             "#ed7953"
            ],
            [
             0.7777777777777778,
             "#fb9f3a"
            ],
            [
             0.8888888888888888,
             "#fdca26"
            ],
            [
             1,
             "#f0f921"
            ]
           ]
          },
          "colorway": [
           "#636efa",
           "#EF553B",
           "#00cc96",
           "#ab63fa",
           "#FFA15A",
           "#19d3f3",
           "#FF6692",
           "#B6E880",
           "#FF97FF",
           "#FECB52"
          ],
          "font": {
           "color": "#2a3f5f"
          },
          "geo": {
           "bgcolor": "white",
           "lakecolor": "white",
           "landcolor": "#E5ECF6",
           "showlakes": true,
           "showland": true,
           "subunitcolor": "white"
          },
          "hoverlabel": {
           "align": "left"
          },
          "hovermode": "closest",
          "mapbox": {
           "style": "light"
          },
          "paper_bgcolor": "white",
          "plot_bgcolor": "#E5ECF6",
          "polar": {
           "angularaxis": {
            "gridcolor": "white",
            "linecolor": "white",
            "ticks": ""
           },
           "bgcolor": "#E5ECF6",
           "radialaxis": {
            "gridcolor": "white",
            "linecolor": "white",
            "ticks": ""
           }
          },
          "scene": {
           "xaxis": {
            "backgroundcolor": "#E5ECF6",
            "gridcolor": "white",
            "gridwidth": 2,
            "linecolor": "white",
            "showbackground": true,
            "ticks": "",
            "zerolinecolor": "white"
           },
           "yaxis": {
            "backgroundcolor": "#E5ECF6",
            "gridcolor": "white",
            "gridwidth": 2,
            "linecolor": "white",
            "showbackground": true,
            "ticks": "",
            "zerolinecolor": "white"
           },
           "zaxis": {
            "backgroundcolor": "#E5ECF6",
            "gridcolor": "white",
            "gridwidth": 2,
            "linecolor": "white",
            "showbackground": true,
            "ticks": "",
            "zerolinecolor": "white"
           }
          },
          "shapedefaults": {
           "line": {
            "color": "#2a3f5f"
           }
          },
          "ternary": {
           "aaxis": {
            "gridcolor": "white",
            "linecolor": "white",
            "ticks": ""
           },
           "baxis": {
            "gridcolor": "white",
            "linecolor": "white",
            "ticks": ""
           },
           "bgcolor": "#E5ECF6",
           "caxis": {
            "gridcolor": "white",
            "linecolor": "white",
            "ticks": ""
           }
          },
          "title": {
           "x": 0.05
          },
          "xaxis": {
           "automargin": true,
           "gridcolor": "white",
           "linecolor": "white",
           "ticks": "",
           "title": {
            "standoff": 15
           },
           "zerolinecolor": "white",
           "zerolinewidth": 2
          },
          "yaxis": {
           "automargin": true,
           "gridcolor": "white",
           "linecolor": "white",
           "ticks": "",
           "title": {
            "standoff": 15
           },
           "zerolinecolor": "white",
           "zerolinewidth": 2
          }
         }
        },
        "title": {
         "text": "<b>Interconexión y Especialización: Macrosector vs. Pilar de Sostenibilidad</b><br><sup>El color representa la valoración total acumulada</sup>",
         "x": 0.5
        },
        "xaxis": {
         "anchor": "y",
         "domain": [
          0,
          1
         ],
         "tickangle": -45,
         "title": {
          "text": "Pilar de Sostenibilidad"
         }
        },
        "yaxis": {
         "anchor": "x",
         "autorange": "reversed",
         "domain": [
          0,
          1
         ],
         "title": {
          "text": "Macrosector"
         }
        }
       }
      }
     },
     "metadata": {},
     "output_type": "display_data"
    }
   ],
   "source": [
    "# 1. Preparación de Datos\n",
    "# Agrupar por Macrosector y Nombre Pilar, sumando la valoración ponderada.\n",
    "chord_data = raw_data.groupby(['Macrosector', 'Nombre Pilar'])['valoracionPonderada'].sum().reset_index()\n",
    "\n",
    "# Pivotar los datos para crear una matriz: Sectores en filas, Pilares en columnas.\n",
    "chord_matrix = chord_data.pivot(\n",
    "    index='Macrosector', \n",
    "    columns='Nombre Pilar', \n",
    "    values='valoracionPonderada'\n",
    ").fillna(0)\n",
    "\n",
    "# 2. Creación del Gráfico (Heatmap)\n",
    "fig_chord_alternative = px.imshow(\n",
    "    chord_matrix,\n",
    "    text_auto=True,\n",
    "    aspect=\"auto\",\n",
    "    color_continuous_scale='Viridis',\n",
    "    labels=dict(x=\"Pilar de Sostenibilidad\", y=\"Macrosector\", color=\"Valoración Total\")\n",
    ")\n",
    "\n",
    "# 3. Personalización y Estilo del Gráfico\n",
    "fig_chord_alternative.update_layout(\n",
    "    title_text='<b>Interconexión y Especialización: Macrosector vs. Pilar de Sostenibilidad</b><br><sup>El color representa la valoración total acumulada</sup>',\n",
    "    title_x=0.5,\n",
    "    xaxis_tickangle=-45,\n",
    "    font=dict(family=\"Arial, sans-serif\", size=10, color=\"black\")\n",
    ")\n",
    "\n",
    "fig_chord_alternative.show()\n",
    "save_chart_as_html(fig_chord_alternative, '15_chord_alternative_macrosector_vs_pillar.html')\n",
    "# Save as image\n",
    "fig_chord_alternative.write_image(\"img/15_chord_alternative_macrosector_vs_pillar.png\", width=1000, height=800, scale=2)    "
   ]
  },
  {
   "cell_type": "markdown",
   "metadata": {},
   "source": [
    "## 16. Gráfico de Barras Anidadas: Variables Clave por Pilar y Liderazgo Sectorial"
   ]
  },
  {
   "cell_type": "code",
   "execution_count": 33,
   "metadata": {},
   "outputs": [
    {
     "data": {
      "application/vnd.plotly.v1+json": {
       "config": {
        "plotlyServerURL": "https://plot.ly"
       },
       "data": [
        {
         "hovertemplate": "Sector_Lider=Minero<br>Nombre Pilar=Acción Climática y Energía<br>Valoración Ponderada Promedio=%{x}<br>=%{y}<extra></extra>",
         "legendgroup": "Minero",
         "marker": {
          "color": "rgb(102,194,165)",
          "pattern": {
           "shape": ""
          }
         },
         "name": "Minero",
         "orientation": "h",
         "showlegend": true,
         "textposition": "auto",
         "type": "bar",
         "x": {
          "bdata": "7a9S+yb9GkBnXVIJgeoWQICTZsfPXxhA",
          "dtype": "f8"
         },
         "xaxis": "x4",
         "y": [
          "Acción climática (0-2)",
          "Alcance 1 en t CO2 eq",
          "Consumo total de agua (m³)"
         ],
         "yaxis": "y4"
        },
        {
         "hovertemplate": "Sector_Lider=Minero<br>Nombre Pilar=Capital Humano: Bienestar y Desarrollo<br>Valoración Ponderada Promedio=%{x}<br>=%{y}<extra></extra>",
         "legendgroup": "Minero",
         "marker": {
          "color": "rgb(102,194,165)",
          "pattern": {
           "shape": ""
          }
         },
         "name": "Minero",
         "orientation": "h",
         "showlegend": false,
         "textposition": "auto",
         "type": "bar",
         "x": {
          "bdata": "uR5vnduRAEABdJHBXrYAQA==",
          "dtype": "f8"
         },
         "xaxis": "x5",
         "y": [
          "Porcentaje mujeres en<br>organización",
          "Promedio de horas de formación<br>hombres (GRI 404)"
         ],
         "yaxis": "y5"
        },
        {
         "hovertemplate": "Sector_Lider=Minero<br>Nombre Pilar=Diversidad, Equidad e Inclusión (DEI)<br>Valoración Ponderada Promedio=%{x}<br>=%{y}<extra></extra>",
         "legendgroup": "Minero",
         "marker": {
          "color": "rgb(102,194,165)",
          "pattern": {
           "shape": ""
          }
         },
         "name": "Minero",
         "orientation": "h",
         "showlegend": false,
         "textposition": "auto",
         "type": "bar",
         "x": {
          "bdata": "O8UiyfNXDkA=",
          "dtype": "f8"
         },
         "xaxis": "x6",
         "y": [
          "Porcentaje de salarios y<br>beneficios sobre VED"
         ],
         "yaxis": "y6"
        },
        {
         "hovertemplate": "Sector_Lider=Minero<br>Nombre Pilar=Gestión de Recursos Naturales y Circularidad<br>Valoración Ponderada Promedio=%{x}<br>=%{y}<extra></extra>",
         "legendgroup": "Minero",
         "marker": {
          "color": "rgb(102,194,165)",
          "pattern": {
           "shape": ""
          }
         },
         "name": "Minero",
         "orientation": "h",
         "showlegend": false,
         "textposition": "auto",
         "type": "bar",
         "x": {
          "bdata": "tN4IcO49D0Dxu3TycFITQAhUTjpm9xpA1WyopS0SD0D5YXKUrawRQNZgsBLWcSBA",
          "dtype": "f8"
         },
         "xaxis": "x",
         "y": [
          "Año del informe 2023/2024",
          "Evidencia diversidad en su<br>matriz energética Si/no",
          "Generación total de residuos<br>en toneladas",
          "Gestión de biodiversidad Si/no",
          "Iniciativas de economía<br>circular (0-2)",
          "¿Reporta emisiones GEI (GRI<br>305)?"
         ],
         "yaxis": "y"
        },
        {
         "hovertemplate": "Sector_Lider=Minero<br>Nombre Pilar=Impacto Económico, Social y Comunitario<br>Valoración Ponderada Promedio=%{x}<br>=%{y}<extra></extra>",
         "legendgroup": "Minero",
         "marker": {
          "color": "rgb(102,194,165)",
          "pattern": {
           "shape": ""
          }
         },
         "name": "Minero",
         "orientation": "h",
         "showlegend": false,
         "textposition": "auto",
         "type": "bar",
         "x": {
          "bdata": "E13FJ5SnCkBwNFuyV5joP/j3m3Kcdes/XDUcIglNFkDfB6D6pLghQG9E287gJxBApswUotnDAkA=",
          "dtype": "f8"
         },
         "xaxis": "x2",
         "y": [
          "Gestión del recurso hídrico<br>(0-2)",
          "Permiso marental con beneficio<br>extralegal (Sí/no)",
          "Porcentaje de personas con<br>discapacidad empleadas",
          "¿Informa proporción de gasto<br>en proveedores",
          "¿Nivel de políticas y<br>compromisos éticos?<br>(anticorrupción, canal de<br>denuncias) 0-2",
          "¿Reporta uso de agua (GRI<br>303)?",
          "¿Tiene meta de reducción de<br>emisiones? Si/No"
         ],
         "yaxis": "y2"
        },
        {
         "hovertemplate": "Sector_Lider=Manufactura<br>Nombre Pilar=Acción Climática y Energía<br>Valoración Ponderada Promedio=%{x}<br>=%{y}<extra></extra>",
         "legendgroup": "Manufactura",
         "marker": {
          "color": "rgb(252,141,98)",
          "pattern": {
           "shape": ""
          }
         },
         "name": "Manufactura",
         "orientation": "h",
         "showlegend": true,
         "textposition": "auto",
         "type": "bar",
         "x": {
          "bdata": "zW4hUjLjEEC9GZ/eGFMiQA2F2YA3niFAERVSWWkAJkBjDDwLpb0lQNupqwVBixdA",
          "dtype": "f8"
         },
         "xaxis": "x4",
         "y": [
          "Alcance 2 en t CO2 eq",
          "Días perdidos por enfermedad y<br>accidente laboral",
          "¿Realiza inversión social en<br>comunidades (GRI 413)?",
          "¿Reporta consumo energético<br>(GRI 302)?",
          "¿Tiene informe? Si/No",
          "¿Utiliza estándar GRI? Si/No"
         ],
         "yaxis": "y4"
        },
        {
         "hovertemplate": "Sector_Lider=Manufactura<br>Nombre Pilar=Capital Humano: Bienestar y Desarrollo<br>Valoración Ponderada Promedio=%{x}<br>=%{y}<extra></extra>",
         "legendgroup": "Manufactura",
         "marker": {
          "color": "rgb(252,141,98)",
          "pattern": {
           "shape": ""
          }
         },
         "name": "Manufactura",
         "orientation": "h",
         "showlegend": false,
         "textposition": "auto",
         "type": "bar",
         "x": {
          "bdata": "1Fhzw2AOKECO5cR4VHAkQA==",
          "dtype": "f8"
         },
         "xaxis": "x5",
         "y": [
          "¿Informa sobre inclusión<br>laboral para personas con<br>discapacidad?",
          "¿Tiene carta de presidencia?<br>Si/No"
         ],
         "yaxis": "y5"
        },
        {
         "hovertemplate": "Sector_Lider=Manufactura<br>Nombre Pilar=Gestión de Recursos Naturales y Circularidad<br>Valoración Ponderada Promedio=%{x}<br>=%{y}<extra></extra>",
         "legendgroup": "Manufactura",
         "marker": {
          "color": "rgb(252,141,98)",
          "pattern": {
           "shape": ""
          }
         },
         "name": "Manufactura",
         "orientation": "h",
         "showlegend": false,
         "textposition": "auto",
         "type": "bar",
         "x": {
          "bdata": "EKhbDmlKD0DL/AztxWQcQA==",
          "dtype": "f8"
         },
         "xaxis": "x",
         "y": [
          "Independencia en junta<br>directiva (0-2)",
          "¿Reporta sanciones y multas?<br>(Si/No) 206-1"
         ],
         "yaxis": "y"
        },
        {
         "hovertemplate": "Sector_Lider=Manufactura<br>Nombre Pilar=Impacto Económico, Social y Comunitario<br>Valoración Ponderada Promedio=%{x}<br>=%{y}<extra></extra>",
         "legendgroup": "Manufactura",
         "marker": {
          "color": "rgb(252,141,98)",
          "pattern": {
           "shape": ""
          }
         },
         "name": "Manufactura",
         "orientation": "h",
         "showlegend": false,
         "textposition": "auto",
         "type": "bar",
         "x": {
          "bdata": "Szj8rq9ZAEAHymTbIUaxPw==",
          "dtype": "f8"
         },
         "xaxis": "x2",
         "y": [
          "¿Reporta gestión de residuos<br>(GRI 306)?",
          "¿Reporta valor económico<br>directo generado y distribuido<br>(GRI 201-1)? Si/No"
         ],
         "yaxis": "y2"
        },
        {
         "hovertemplate": "Sector_Lider=Servicios<br>Nombre Pilar=Acción Climática y Energía<br>Valoración Ponderada Promedio=%{x}<br>=%{y}<extra></extra>",
         "legendgroup": "Servicios",
         "marker": {
          "color": "rgb(141,160,203)",
          "pattern": {
           "shape": ""
          }
         },
         "name": "Servicios",
         "orientation": "h",
         "showlegend": true,
         "textposition": "auto",
         "type": "bar",
         "x": {
          "bdata": "02YS3qfn7j8=",
          "dtype": "f8"
         },
         "xaxis": "x4",
         "y": [
          "¿Es carbononeutro? Si/no"
         ],
         "yaxis": "y4"
        },
        {
         "hovertemplate": "Sector_Lider=Servicios<br>Nombre Pilar=Capital Humano: Bienestar y Desarrollo<br>Valoración Ponderada Promedio=%{x}<br>=%{y}<extra></extra>",
         "legendgroup": "Servicios",
         "marker": {
          "color": "rgb(141,160,203)",
          "pattern": {
           "shape": ""
          }
         },
         "name": "Servicios",
         "orientation": "h",
         "showlegend": false,
         "textposition": "auto",
         "type": "bar",
         "x": {
          "bdata": "2dH5H2Be6D8cNuzSXgzpPw==",
          "dtype": "f8"
         },
         "xaxis": "x5",
         "y": [
          "Consumo total de la<br>organización (MJ)",
          "Días perdidos por cada 100<br>empleados"
         ],
         "yaxis": "y5"
        },
        {
         "hovertemplate": "Sector_Lider=Servicios<br>Nombre Pilar=Diversidad, Equidad e Inclusión (DEI)<br>Valoración Ponderada Promedio=%{x}<br>=%{y}<extra></extra>",
         "legendgroup": "Servicios",
         "marker": {
          "color": "rgb(141,160,203)",
          "pattern": {
           "shape": ""
          }
         },
         "name": "Servicios",
         "orientation": "h",
         "showlegend": false,
         "textposition": "auto",
         "type": "bar",
         "x": {
          "bdata": "64d5o3zI9z83mRluEOsQQFFKf9g2XgRA+QxBYOKiGEDj3NyLWAUZQA==",
          "dtype": "f8"
         },
         "xaxis": "x6",
         "y": [
          "Metas relacionadas a<br>biodiversidad Si/no",
          "Porcentaje de inversión en la<br>comunidad sobre VED",
          "Porcentaje de pagos a gobierno<br>sobre VED",
          "Promedio de horas de formación<br>mujeres (GRI 404)",
          "Proporción y detalle al<br>informar prácticas DEI GRI 405<br>(0-2)"
         ],
         "yaxis": "y6"
        },
        {
         "hovertemplate": "Sector_Lider=Servicios<br>Nombre Pilar=Impacto Económico, Social y Comunitario<br>Valoración Ponderada Promedio=%{x}<br>=%{y}<extra></extra>",
         "legendgroup": "Servicios",
         "marker": {
          "color": "rgb(141,160,203)",
          "pattern": {
           "shape": ""
          }
         },
         "name": "Servicios",
         "orientation": "h",
         "showlegend": false,
         "textposition": "auto",
         "type": "bar",
         "x": {
          "bdata": "ENhPMhrq5z9z951qzDIJQAzVcUZ7ahNAayoTVrGDEEA=",
          "dtype": "f8"
         },
         "xaxis": "x2",
         "y": [
          "Porcentaje de mujeres en junta<br>directiva",
          "¿Cuál es el porcentaje de<br>proveeduría local?",
          "¿Informa sobre salud y<br>seguridad laboral (GRI 403)?",
          "¿Reporta GRI 207 (prácticas<br>fiscales)? Si/no"
         ],
         "yaxis": "y2"
        },
        {
         "hovertemplate": "Sector_Lider=Servicios<br>Nombre Pilar=Transparencia y Gobierno de la Sostenibilidad<br>Valoración Ponderada Promedio=%{x}<br>=%{y}<extra></extra>",
         "legendgroup": "Servicios",
         "marker": {
          "color": "rgb(141,160,203)",
          "pattern": {
           "shape": ""
          }
         },
         "name": "Servicios",
         "orientation": "h",
         "showlegend": false,
         "textposition": "auto",
         "type": "bar",
         "x": {
          "bdata": "XMVb4N/sIUAHN4nAKtQpQJxbaF6G3ypAMZoZ838BMEDExlDSCz4qQA==",
          "dtype": "f8"
         },
         "xaxis": "x3",
         "y": [
          "¿Incluye mapeo de ODS? Si/No",
          "¿Se evidencia impacto positivo<br>en comunidades locales? (0-2)",
          "¿Tiene análisis de<br>materialidad? Si/No",
          "¿Tiene indicadores de<br>desarrollo del talento humano?<br>Si/no",
          "¿Tiene programas para<br>construcción de paz?<br>(beneficios a poblaciones<br>desplazadas, victimas de<br>conflicto, excombatientes)<br>Si/no"
         ],
         "yaxis": "y3"
        },
        {
         "hovertemplate": "Sector_Lider=Construcción<br>Nombre Pilar=Diversidad, Equidad e Inclusión (DEI)<br>Valoración Ponderada Promedio=%{x}<br>=%{y}<extra></extra>",
         "legendgroup": "Construcción",
         "marker": {
          "color": "rgb(231,138,195)",
          "pattern": {
           "shape": ""
          }
         },
         "name": "Construcción",
         "orientation": "h",
         "showlegend": true,
         "textposition": "auto",
         "type": "bar",
         "x": {
          "bdata": "HVqnWc8VHkA=",
          "dtype": "f8"
         },
         "xaxis": "x6",
         "y": [
          "¿Informa proporción de gasto<br>en proveedores"
         ],
         "yaxis": "y6"
        },
        {
         "hovertemplate": "Sector_Lider=Agropecuario<br>Nombre Pilar=Transparencia y Gobierno de la Sostenibilidad<br>Valoración Ponderada Promedio=%{x}<br>=%{y}<extra></extra>",
         "legendgroup": "Agropecuario",
         "marker": {
          "color": "rgb(166,216,84)",
          "pattern": {
           "shape": ""
          }
         },
         "name": "Agropecuario",
         "orientation": "h",
         "showlegend": true,
         "textposition": "auto",
         "type": "bar",
         "x": {
          "bdata": "AAAAAAAAAAA=",
          "dtype": "f8"
         },
         "xaxis": "x3",
         "y": [
          "Alcance 3 en t CO2 eq"
         ],
         "yaxis": "y3"
        }
       ],
       "layout": {
        "annotations": [
         {
          "font": {},
          "showarrow": false,
          "text": "Gestión de Recursos Naturales y Circularidad",
          "x": 0.16333333333333333,
          "xanchor": "center",
          "xref": "paper",
          "y": 0.46499999999999997,
          "yanchor": "bottom",
          "yref": "paper"
         },
         {
          "font": {},
          "showarrow": false,
          "text": "Impacto Económico, Social y Comunitario",
          "x": 0.5,
          "xanchor": "center",
          "xref": "paper",
          "y": 0.46499999999999997,
          "yanchor": "bottom",
          "yref": "paper"
         },
         {
          "font": {},
          "showarrow": false,
          "text": "Transparencia y Gobierno de la Sostenibilidad",
          "x": 0.8366666666666667,
          "xanchor": "center",
          "xref": "paper",
          "y": 0.46499999999999997,
          "yanchor": "bottom",
          "yref": "paper"
         },
         {
          "font": {},
          "showarrow": false,
          "text": "Acción Climática y Energía",
          "x": 0.16333333333333333,
          "xanchor": "center",
          "xref": "paper",
          "y": 0.9999999999999999,
          "yanchor": "bottom",
          "yref": "paper"
         },
         {
          "font": {},
          "showarrow": false,
          "text": "Capital Humano: Bienestar y Desarrollo",
          "x": 0.5,
          "xanchor": "center",
          "xref": "paper",
          "y": 0.9999999999999999,
          "yanchor": "bottom",
          "yref": "paper"
         },
         {
          "font": {},
          "showarrow": false,
          "text": "Diversidad, Equidad e Inclusión (DEI)",
          "x": 0.8366666666666667,
          "xanchor": "center",
          "xref": "paper",
          "y": 0.9999999999999999,
          "yanchor": "bottom",
          "yref": "paper"
         }
        ],
        "barmode": "relative",
        "font": {
         "color": "black",
         "family": "Arial, sans-serif",
         "size": 10
        },
        "height": 1800,
        "legend": {
         "title": {
          "text": "Sector_Lider"
         },
         "tracegroupgap": 0
        },
        "margin": {
         "t": 60
        },
        "template": {
         "data": {
          "bar": [
           {
            "error_x": {
             "color": "#2a3f5f"
            },
            "error_y": {
             "color": "#2a3f5f"
            },
            "marker": {
             "line": {
              "color": "#E5ECF6",
              "width": 0.5
             },
             "pattern": {
              "fillmode": "overlay",
              "size": 10,
              "solidity": 0.2
             }
            },
            "type": "bar"
           }
          ],
          "barpolar": [
           {
            "marker": {
             "line": {
              "color": "#E5ECF6",
              "width": 0.5
             },
             "pattern": {
              "fillmode": "overlay",
              "size": 10,
              "solidity": 0.2
             }
            },
            "type": "barpolar"
           }
          ],
          "carpet": [
           {
            "aaxis": {
             "endlinecolor": "#2a3f5f",
             "gridcolor": "white",
             "linecolor": "white",
             "minorgridcolor": "white",
             "startlinecolor": "#2a3f5f"
            },
            "baxis": {
             "endlinecolor": "#2a3f5f",
             "gridcolor": "white",
             "linecolor": "white",
             "minorgridcolor": "white",
             "startlinecolor": "#2a3f5f"
            },
            "type": "carpet"
           }
          ],
          "choropleth": [
           {
            "colorbar": {
             "outlinewidth": 0,
             "ticks": ""
            },
            "type": "choropleth"
           }
          ],
          "contour": [
           {
            "colorbar": {
             "outlinewidth": 0,
             "ticks": ""
            },
            "colorscale": [
             [
              0,
              "#0d0887"
             ],
             [
              0.1111111111111111,
              "#46039f"
             ],
             [
              0.2222222222222222,
              "#7201a8"
             ],
             [
              0.3333333333333333,
              "#9c179e"
             ],
             [
              0.4444444444444444,
              "#bd3786"
             ],
             [
              0.5555555555555556,
              "#d8576b"
             ],
             [
              0.6666666666666666,
              "#ed7953"
             ],
             [
              0.7777777777777778,
              "#fb9f3a"
             ],
             [
              0.8888888888888888,
              "#fdca26"
             ],
             [
              1,
              "#f0f921"
             ]
            ],
            "type": "contour"
           }
          ],
          "contourcarpet": [
           {
            "colorbar": {
             "outlinewidth": 0,
             "ticks": ""
            },
            "type": "contourcarpet"
           }
          ],
          "heatmap": [
           {
            "colorbar": {
             "outlinewidth": 0,
             "ticks": ""
            },
            "colorscale": [
             [
              0,
              "#0d0887"
             ],
             [
              0.1111111111111111,
              "#46039f"
             ],
             [
              0.2222222222222222,
              "#7201a8"
             ],
             [
              0.3333333333333333,
              "#9c179e"
             ],
             [
              0.4444444444444444,
              "#bd3786"
             ],
             [
              0.5555555555555556,
              "#d8576b"
             ],
             [
              0.6666666666666666,
              "#ed7953"
             ],
             [
              0.7777777777777778,
              "#fb9f3a"
             ],
             [
              0.8888888888888888,
              "#fdca26"
             ],
             [
              1,
              "#f0f921"
             ]
            ],
            "type": "heatmap"
           }
          ],
          "histogram": [
           {
            "marker": {
             "pattern": {
              "fillmode": "overlay",
              "size": 10,
              "solidity": 0.2
             }
            },
            "type": "histogram"
           }
          ],
          "histogram2d": [
           {
            "colorbar": {
             "outlinewidth": 0,
             "ticks": ""
            },
            "colorscale": [
             [
              0,
              "#0d0887"
             ],
             [
              0.1111111111111111,
              "#46039f"
             ],
             [
              0.2222222222222222,
              "#7201a8"
             ],
             [
              0.3333333333333333,
              "#9c179e"
             ],
             [
              0.4444444444444444,
              "#bd3786"
             ],
             [
              0.5555555555555556,
              "#d8576b"
             ],
             [
              0.6666666666666666,
              "#ed7953"
             ],
             [
              0.7777777777777778,
              "#fb9f3a"
             ],
             [
              0.8888888888888888,
              "#fdca26"
             ],
             [
              1,
              "#f0f921"
             ]
            ],
            "type": "histogram2d"
           }
          ],
          "histogram2dcontour": [
           {
            "colorbar": {
             "outlinewidth": 0,
             "ticks": ""
            },
            "colorscale": [
             [
              0,
              "#0d0887"
             ],
             [
              0.1111111111111111,
              "#46039f"
             ],
             [
              0.2222222222222222,
              "#7201a8"
             ],
             [
              0.3333333333333333,
              "#9c179e"
             ],
             [
              0.4444444444444444,
              "#bd3786"
             ],
             [
              0.5555555555555556,
              "#d8576b"
             ],
             [
              0.6666666666666666,
              "#ed7953"
             ],
             [
              0.7777777777777778,
              "#fb9f3a"
             ],
             [
              0.8888888888888888,
              "#fdca26"
             ],
             [
              1,
              "#f0f921"
             ]
            ],
            "type": "histogram2dcontour"
           }
          ],
          "mesh3d": [
           {
            "colorbar": {
             "outlinewidth": 0,
             "ticks": ""
            },
            "type": "mesh3d"
           }
          ],
          "parcoords": [
           {
            "line": {
             "colorbar": {
              "outlinewidth": 0,
              "ticks": ""
             }
            },
            "type": "parcoords"
           }
          ],
          "pie": [
           {
            "automargin": true,
            "type": "pie"
           }
          ],
          "scatter": [
           {
            "fillpattern": {
             "fillmode": "overlay",
             "size": 10,
             "solidity": 0.2
            },
            "type": "scatter"
           }
          ],
          "scatter3d": [
           {
            "line": {
             "colorbar": {
              "outlinewidth": 0,
              "ticks": ""
             }
            },
            "marker": {
             "colorbar": {
              "outlinewidth": 0,
              "ticks": ""
             }
            },
            "type": "scatter3d"
           }
          ],
          "scattercarpet": [
           {
            "marker": {
             "colorbar": {
              "outlinewidth": 0,
              "ticks": ""
             }
            },
            "type": "scattercarpet"
           }
          ],
          "scattergeo": [
           {
            "marker": {
             "colorbar": {
              "outlinewidth": 0,
              "ticks": ""
             }
            },
            "type": "scattergeo"
           }
          ],
          "scattergl": [
           {
            "marker": {
             "colorbar": {
              "outlinewidth": 0,
              "ticks": ""
             }
            },
            "type": "scattergl"
           }
          ],
          "scattermap": [
           {
            "marker": {
             "colorbar": {
              "outlinewidth": 0,
              "ticks": ""
             }
            },
            "type": "scattermap"
           }
          ],
          "scattermapbox": [
           {
            "marker": {
             "colorbar": {
              "outlinewidth": 0,
              "ticks": ""
             }
            },
            "type": "scattermapbox"
           }
          ],
          "scatterpolar": [
           {
            "marker": {
             "colorbar": {
              "outlinewidth": 0,
              "ticks": ""
             }
            },
            "type": "scatterpolar"
           }
          ],
          "scatterpolargl": [
           {
            "marker": {
             "colorbar": {
              "outlinewidth": 0,
              "ticks": ""
             }
            },
            "type": "scatterpolargl"
           }
          ],
          "scatterternary": [
           {
            "marker": {
             "colorbar": {
              "outlinewidth": 0,
              "ticks": ""
             }
            },
            "type": "scatterternary"
           }
          ],
          "surface": [
           {
            "colorbar": {
             "outlinewidth": 0,
             "ticks": ""
            },
            "colorscale": [
             [
              0,
              "#0d0887"
             ],
             [
              0.1111111111111111,
              "#46039f"
             ],
             [
              0.2222222222222222,
              "#7201a8"
             ],
             [
              0.3333333333333333,
              "#9c179e"
             ],
             [
              0.4444444444444444,
              "#bd3786"
             ],
             [
              0.5555555555555556,
              "#d8576b"
             ],
             [
              0.6666666666666666,
              "#ed7953"
             ],
             [
              0.7777777777777778,
              "#fb9f3a"
             ],
             [
              0.8888888888888888,
              "#fdca26"
             ],
             [
              1,
              "#f0f921"
             ]
            ],
            "type": "surface"
           }
          ],
          "table": [
           {
            "cells": {
             "fill": {
              "color": "#EBF0F8"
             },
             "line": {
              "color": "white"
             }
            },
            "header": {
             "fill": {
              "color": "#C8D4E3"
             },
             "line": {
              "color": "white"
             }
            },
            "type": "table"
           }
          ]
         },
         "layout": {
          "annotationdefaults": {
           "arrowcolor": "#2a3f5f",
           "arrowhead": 0,
           "arrowwidth": 1
          },
          "autotypenumbers": "strict",
          "coloraxis": {
           "colorbar": {
            "outlinewidth": 0,
            "ticks": ""
           }
          },
          "colorscale": {
           "diverging": [
            [
             0,
             "#8e0152"
            ],
            [
             0.1,
             "#c51b7d"
            ],
            [
             0.2,
             "#de77ae"
            ],
            [
             0.3,
             "#f1b6da"
            ],
            [
             0.4,
             "#fde0ef"
            ],
            [
             0.5,
             "#f7f7f7"
            ],
            [
             0.6,
             "#e6f5d0"
            ],
            [
             0.7,
             "#b8e186"
            ],
            [
             0.8,
             "#7fbc41"
            ],
            [
             0.9,
             "#4d9221"
            ],
            [
             1,
             "#276419"
            ]
           ],
           "sequential": [
            [
             0,
             "#0d0887"
            ],
            [
             0.1111111111111111,
             "#46039f"
            ],
            [
             0.2222222222222222,
             "#7201a8"
            ],
            [
             0.3333333333333333,
             "#9c179e"
            ],
            [
             0.4444444444444444,
             "#bd3786"
            ],
            [
             0.5555555555555556,
             "#d8576b"
            ],
            [
             0.6666666666666666,
             "#ed7953"
            ],
            [
             0.7777777777777778,
             "#fb9f3a"
            ],
            [
             0.8888888888888888,
             "#fdca26"
            ],
            [
             1,
             "#f0f921"
            ]
           ],
           "sequentialminus": [
            [
             0,
             "#0d0887"
            ],
            [
             0.1111111111111111,
             "#46039f"
            ],
            [
             0.2222222222222222,
             "#7201a8"
            ],
            [
             0.3333333333333333,
             "#9c179e"
            ],
            [
             0.4444444444444444,
             "#bd3786"
            ],
            [
             0.5555555555555556,
             "#d8576b"
            ],
            [
             0.6666666666666666,
             "#ed7953"
            ],
            [
             0.7777777777777778,
             "#fb9f3a"
            ],
            [
             0.8888888888888888,
             "#fdca26"
            ],
            [
             1,
             "#f0f921"
            ]
           ]
          },
          "colorway": [
           "#636efa",
           "#EF553B",
           "#00cc96",
           "#ab63fa",
           "#FFA15A",
           "#19d3f3",
           "#FF6692",
           "#B6E880",
           "#FF97FF",
           "#FECB52"
          ],
          "font": {
           "color": "#2a3f5f"
          },
          "geo": {
           "bgcolor": "white",
           "lakecolor": "white",
           "landcolor": "#E5ECF6",
           "showlakes": true,
           "showland": true,
           "subunitcolor": "white"
          },
          "hoverlabel": {
           "align": "left"
          },
          "hovermode": "closest",
          "mapbox": {
           "style": "light"
          },
          "paper_bgcolor": "white",
          "plot_bgcolor": "#E5ECF6",
          "polar": {
           "angularaxis": {
            "gridcolor": "white",
            "linecolor": "white",
            "ticks": ""
           },
           "bgcolor": "#E5ECF6",
           "radialaxis": {
            "gridcolor": "white",
            "linecolor": "white",
            "ticks": ""
           }
          },
          "scene": {
           "xaxis": {
            "backgroundcolor": "#E5ECF6",
            "gridcolor": "white",
            "gridwidth": 2,
            "linecolor": "white",
            "showbackground": true,
            "ticks": "",
            "zerolinecolor": "white"
           },
           "yaxis": {
            "backgroundcolor": "#E5ECF6",
            "gridcolor": "white",
            "gridwidth": 2,
            "linecolor": "white",
            "showbackground": true,
            "ticks": "",
            "zerolinecolor": "white"
           },
           "zaxis": {
            "backgroundcolor": "#E5ECF6",
            "gridcolor": "white",
            "gridwidth": 2,
            "linecolor": "white",
            "showbackground": true,
            "ticks": "",
            "zerolinecolor": "white"
           }
          },
          "shapedefaults": {
           "line": {
            "color": "#2a3f5f"
           }
          },
          "ternary": {
           "aaxis": {
            "gridcolor": "white",
            "linecolor": "white",
            "ticks": ""
           },
           "baxis": {
            "gridcolor": "white",
            "linecolor": "white",
            "ticks": ""
           },
           "bgcolor": "#E5ECF6",
           "caxis": {
            "gridcolor": "white",
            "linecolor": "white",
            "ticks": ""
           }
          },
          "title": {
           "x": 0.05
          },
          "xaxis": {
           "automargin": true,
           "gridcolor": "white",
           "linecolor": "white",
           "ticks": "",
           "title": {
            "standoff": 15
           },
           "zerolinecolor": "white",
           "zerolinewidth": 2
          },
          "yaxis": {
           "automargin": true,
           "gridcolor": "white",
           "linecolor": "white",
           "ticks": "",
           "title": {
            "standoff": 15
           },
           "zerolinecolor": "white",
           "zerolinewidth": 2
          }
         }
        },
        "title": {
         "text": "<b>Variables Clave por Pilar y Liderazgo Sectorial</b><br><sup>El color de la barra indica el Macrosector con mayor puntaje en esa variable</sup>",
         "x": 0.5
        },
        "xaxis": {
         "anchor": "y",
         "domain": [
          0,
          0.32666666666666666
         ],
         "title": {
          "text": "Valoración Ponderada Promedio"
         }
        },
        "xaxis2": {
         "anchor": "y2",
         "domain": [
          0.33666666666666667,
          0.6633333333333333
         ],
         "matches": "x",
         "title": {
          "text": "Valoración Ponderada Promedio"
         }
        },
        "xaxis3": {
         "anchor": "y3",
         "domain": [
          0.6733333333333333,
          1
         ],
         "matches": "x",
         "title": {
          "text": "Valoración Ponderada Promedio"
         }
        },
        "xaxis4": {
         "anchor": "y4",
         "domain": [
          0,
          0.32666666666666666
         ],
         "matches": "x",
         "showticklabels": false
        },
        "xaxis5": {
         "anchor": "y5",
         "domain": [
          0.33666666666666667,
          0.6633333333333333
         ],
         "matches": "x",
         "showticklabels": false
        },
        "xaxis6": {
         "anchor": "y6",
         "domain": [
          0.6733333333333333,
          1
         ],
         "matches": "x",
         "showticklabels": false
        },
        "yaxis": {
         "anchor": "x",
         "categoryorder": "total ascending",
         "domain": [
          0,
          0.46499999999999997
         ],
         "showticklabels": true,
         "title": {
          "text": ""
         }
        },
        "yaxis2": {
         "anchor": "x2",
         "categoryorder": "total ascending",
         "domain": [
          0,
          0.46499999999999997
         ],
         "showticklabels": true
        },
        "yaxis3": {
         "anchor": "x3",
         "categoryorder": "total ascending",
         "domain": [
          0,
          0.46499999999999997
         ],
         "showticklabels": true
        },
        "yaxis4": {
         "anchor": "x4",
         "categoryorder": "total ascending",
         "domain": [
          0.5349999999999999,
          0.9999999999999999
         ],
         "showticklabels": true,
         "title": {
          "text": ""
         }
        },
        "yaxis5": {
         "anchor": "x5",
         "categoryorder": "total ascending",
         "domain": [
          0.5349999999999999,
          0.9999999999999999
         ],
         "showticklabels": true
        },
        "yaxis6": {
         "anchor": "x6",
         "categoryorder": "total ascending",
         "domain": [
          0.5349999999999999,
          0.9999999999999999
         ],
         "showticklabels": true
        }
       }
      }
     },
     "metadata": {},
     "output_type": "display_data"
    }
   ],
   "source": [
    "# 1. Preparación de Datos\n",
    "# Calcular el puntaje promedio de cada variable por sector y pilar.\n",
    "df_agg = raw_data.groupby(['Nombre Pilar', 'Variable', 'Macrosector'])['valoracionPonderada'].mean().reset_index()\n",
    "\n",
    "# Para cada variable en cada pilar, encontrar el sector líder (con el puntaje más alto).\n",
    "idx = df_agg.groupby(['Nombre Pilar', 'Variable'])['valoracionPonderada'].idxmax()\n",
    "df_leaders = df_agg.loc[idx][['Nombre Pilar', 'Variable', 'Macrosector']]\n",
    "df_leaders.rename(columns={'Macrosector': 'Sector_Lider'}, inplace=True)\n",
    "\n",
    "# Calcular el puntaje promedio general de cada variable por pilar para la longitud de la barra.\n",
    "df_plot_data = df_agg.groupby(['Nombre Pilar', 'Variable'])['valoracionPonderada'].mean().reset_index()\n",
    "\n",
    "# Unir la información del sector líder con los datos del gráfico.\n",
    "df_plot_data = pd.merge(df_plot_data, df_leaders, on=['Nombre Pilar', 'Variable'])\n",
    "# Reemplazar los nombres de las variables largas para mejorar la legibilidad en el gráfico.\n",
    "df_plot_data['Variable'] = df_plot_data['Variable'].apply(lambda x: wrap_text(x, max_length=30))\n",
    "\n",
    "# 2. Creación del Gráfico de Barras Anidadas\n",
    "# Se usa facet_col para crear un subgráfico por cada 'Nombre Pilar'.\n",
    "fig_nested_bars = px.bar(\n",
    "    df_plot_data,\n",
    "    x='valoracionPonderada',\n",
    "    y='Variable',\n",
    "    color='Sector_Lider',  # El color de la barra indica el sector líder.\n",
    "    orientation='h',\n",
    "    facet_col='Nombre Pilar',\n",
    "    facet_col_wrap=3,  # Organiza los subgráficos en 2 columnas.\n",
    "    labels={'valoracionPonderada': 'Valoración Ponderada Promedio', 'Variable': ''},\n",
    "    color_discrete_sequence=px.colors.qualitative.Set2, # Añadir una paleta de colores\n",
    "    facet_col_spacing=0.01  # Añadir espacio horizontal entre subgráficos\n",
    ")\n",
    "\n",
    "# 3. Personalización y Estilo del Gráfico\n",
    "fig_nested_bars.update_layout(\n",
    "    title_text='<b>Variables Clave por Pilar y Liderazgo Sectorial</b><br><sup>El color de la barra indica el Macrosector con mayor puntaje en esa variable</sup>',\n",
    "    title_x=0.5,\n",
    "    font=dict(family=\"Arial, sans-serif\", size=10, color=\"black\"),\n",
    "    height=max(800, len(df_plot_data['Nombre Pilar'].unique()) * 300), # Altura dinámica\n",
    ")\n",
    "\n",
    "# Hacer que cada subgráfico tenga su propio eje Y independiente y ordenar las barras.\n",
    "fig_nested_bars.update_yaxes(matches=None, showticklabels=True)\n",
    "fig_nested_bars.update_yaxes(categoryorder=\"total ascending\")\n",
    "# Actualizar los títulos de cada subgráfico para que no muestren \"Nombre Pilar=\".\n",
    "fig_nested_bars.for_each_annotation(lambda a: a.update(text=a.text.split(\"=\")[-1]))\n",
    "\n",
    "fig_nested_bars.show()\n",
    "save_chart_as_html(fig_nested_bars, '16_nested_bars_variables_by_pillar_and_sector.html')\n",
    "# Save as image\n",
    "fig_nested_bars.write_image(\"img/16_nested_bars_variables_by_pillar_and_sector.png\", width=1000, height=800, scale=2)\n"
   ]
  },
  {
   "cell_type": "code",
   "execution_count": 34,
   "metadata": {},
   "outputs": [
    {
     "data": {
      "application/vnd.plotly.v1+json": {
       "config": {
        "plotlyServerURL": "https://plot.ly"
       },
       "data": [
        {
         "hovertemplate": "<b>%{hovertext}</b><br><br>Sector_Lider=Minero<br>Nombre Pilar=Acción Climática y Energía<br>Valoración Ponderada Promedio=%{marker.size}<br>=%{y}<extra></extra>",
         "hovertext": [
          "Minero",
          "Minero",
          "Minero"
         ],
         "legendgroup": "Minero",
         "marker": {
          "color": "#636efa",
          "size": {
           "bdata": "7a9S+yb9GkBnXVIJgeoWQICTZsfPXxhA",
           "dtype": "f8"
          },
          "sizemode": "area",
          "sizeref": 0.04001464651525155,
          "symbol": "circle"
         },
         "mode": "markers",
         "name": "Minero",
         "orientation": "h",
         "showlegend": true,
         "type": "scatter",
         "x": {
          "bdata": "7a9S+yb9GkBnXVIJgeoWQICTZsfPXxhA",
          "dtype": "f8"
         },
         "xaxis": "x4",
         "y": [
          "Acción climática (0-2)",
          "Alcance 1 en t CO2 eq",
          "Consumo total de agua (m³)"
         ],
         "yaxis": "y4"
        },
        {
         "hovertemplate": "<b>%{hovertext}</b><br><br>Sector_Lider=Minero<br>Nombre Pilar=Capital Humano: Bienestar y Desarrollo<br>Valoración Ponderada Promedio=%{marker.size}<br>=%{y}<extra></extra>",
         "hovertext": [
          "Minero",
          "Minero"
         ],
         "legendgroup": "Minero",
         "marker": {
          "color": "#636efa",
          "size": {
           "bdata": "uR5vnduRAEABdJHBXrYAQA==",
           "dtype": "f8"
          },
          "sizemode": "area",
          "sizeref": 0.04001464651525155,
          "symbol": "circle"
         },
         "mode": "markers",
         "name": "Minero",
         "orientation": "h",
         "showlegend": false,
         "type": "scatter",
         "x": {
          "bdata": "uR5vnduRAEABdJHBXrYAQA==",
          "dtype": "f8"
         },
         "xaxis": "x5",
         "y": [
          "Porcentaje mujeres en<br>organización",
          "Promedio de horas de formación<br>hombres (GRI 404)"
         ],
         "yaxis": "y5"
        },
        {
         "hovertemplate": "<b>%{hovertext}</b><br><br>Sector_Lider=Minero<br>Nombre Pilar=Diversidad, Equidad e Inclusión (DEI)<br>Valoración Ponderada Promedio=%{marker.size}<br>=%{y}<extra></extra>",
         "hovertext": [
          "Minero"
         ],
         "legendgroup": "Minero",
         "marker": {
          "color": "#636efa",
          "size": {
           "bdata": "O8UiyfNXDkA=",
           "dtype": "f8"
          },
          "sizemode": "area",
          "sizeref": 0.04001464651525155,
          "symbol": "circle"
         },
         "mode": "markers",
         "name": "Minero",
         "orientation": "h",
         "showlegend": false,
         "type": "scatter",
         "x": {
          "bdata": "O8UiyfNXDkA=",
          "dtype": "f8"
         },
         "xaxis": "x6",
         "y": [
          "Porcentaje de salarios y<br>beneficios sobre VED"
         ],
         "yaxis": "y6"
        },
        {
         "hovertemplate": "<b>%{hovertext}</b><br><br>Sector_Lider=Minero<br>Nombre Pilar=Gestión de Recursos Naturales y Circularidad<br>Valoración Ponderada Promedio=%{marker.size}<br>=%{y}<extra></extra>",
         "hovertext": [
          "Minero",
          "Minero",
          "Minero",
          "Minero",
          "Minero",
          "Minero"
         ],
         "legendgroup": "Minero",
         "marker": {
          "color": "#636efa",
          "size": {
           "bdata": "tN4IcO49D0Dxu3TycFITQAhUTjpm9xpA1WyopS0SD0D5YXKUrawRQNZgsBLWcSBA",
           "dtype": "f8"
          },
          "sizemode": "area",
          "sizeref": 0.04001464651525155,
          "symbol": "circle"
         },
         "mode": "markers",
         "name": "Minero",
         "orientation": "h",
         "showlegend": false,
         "type": "scatter",
         "x": {
          "bdata": "tN4IcO49D0Dxu3TycFITQAhUTjpm9xpA1WyopS0SD0D5YXKUrawRQNZgsBLWcSBA",
          "dtype": "f8"
         },
         "xaxis": "x",
         "y": [
          "Año del informe 2023/2024",
          "Evidencia diversidad en su<br>matriz energética Si/no",
          "Generación total de residuos<br>en toneladas",
          "Gestión de biodiversidad Si/no",
          "Iniciativas de economía<br>circular (0-2)",
          "¿Reporta emisiones GEI (GRI<br>305)?"
         ],
         "yaxis": "y"
        },
        {
         "hovertemplate": "<b>%{hovertext}</b><br><br>Sector_Lider=Minero<br>Nombre Pilar=Impacto Económico, Social y Comunitario<br>Valoración Ponderada Promedio=%{marker.size}<br>=%{y}<extra></extra>",
         "hovertext": [
          "Minero",
          "Minero",
          "Minero",
          "Minero",
          "Minero",
          "Minero",
          "Minero"
         ],
         "legendgroup": "Minero",
         "marker": {
          "color": "#636efa",
          "size": {
           "bdata": "E13FJ5SnCkBwNFuyV5joP/j3m3Kcdes/XDUcIglNFkDfB6D6pLghQG9E287gJxBApswUotnDAkA=",
           "dtype": "f8"
          },
          "sizemode": "area",
          "sizeref": 0.04001464651525155,
          "symbol": "circle"
         },
         "mode": "markers",
         "name": "Minero",
         "orientation": "h",
         "showlegend": false,
         "type": "scatter",
         "x": {
          "bdata": "E13FJ5SnCkBwNFuyV5joP/j3m3Kcdes/XDUcIglNFkDfB6D6pLghQG9E287gJxBApswUotnDAkA=",
          "dtype": "f8"
         },
         "xaxis": "x2",
         "y": [
          "Gestión del recurso hídrico<br>(0-2)",
          "Permiso marental con beneficio<br>extralegal (Sí/no)",
          "Porcentaje de personas con<br>discapacidad empleadas",
          "¿Informa proporción de gasto<br>en proveedores",
          "¿Nivel de políticas y<br>compromisos éticos?<br>(anticorrupción, canal de<br>denuncias) 0-2",
          "¿Reporta uso de agua (GRI<br>303)?",
          "¿Tiene meta de reducción de<br>emisiones? Si/No"
         ],
         "yaxis": "y2"
        },
        {
         "hovertemplate": "<b>%{hovertext}</b><br><br>Sector_Lider=Manufactura<br>Nombre Pilar=Acción Climática y Energía<br>Valoración Ponderada Promedio=%{marker.size}<br>=%{y}<extra></extra>",
         "hovertext": [
          "Manufactura",
          "Manufactura",
          "Manufactura",
          "Manufactura",
          "Manufactura",
          "Manufactura"
         ],
         "legendgroup": "Manufactura",
         "marker": {
          "color": "#EF553B",
          "size": {
           "bdata": "zW4hUjLjEEC9GZ/eGFMiQA2F2YA3niFAERVSWWkAJkBjDDwLpb0lQNupqwVBixdA",
           "dtype": "f8"
          },
          "sizemode": "area",
          "sizeref": 0.04001464651525155,
          "symbol": "circle"
         },
         "mode": "markers",
         "name": "Manufactura",
         "orientation": "h",
         "showlegend": true,
         "type": "scatter",
         "x": {
          "bdata": "zW4hUjLjEEC9GZ/eGFMiQA2F2YA3niFAERVSWWkAJkBjDDwLpb0lQNupqwVBixdA",
          "dtype": "f8"
         },
         "xaxis": "x4",
         "y": [
          "Alcance 2 en t CO2 eq",
          "Días perdidos por enfermedad y<br>accidente laboral",
          "¿Realiza inversión social en<br>comunidades (GRI 413)?",
          "¿Reporta consumo energético<br>(GRI 302)?",
          "¿Tiene informe? Si/No",
          "¿Utiliza estándar GRI? Si/No"
         ],
         "yaxis": "y4"
        },
        {
         "hovertemplate": "<b>%{hovertext}</b><br><br>Sector_Lider=Manufactura<br>Nombre Pilar=Capital Humano: Bienestar y Desarrollo<br>Valoración Ponderada Promedio=%{marker.size}<br>=%{y}<extra></extra>",
         "hovertext": [
          "Manufactura",
          "Manufactura"
         ],
         "legendgroup": "Manufactura",
         "marker": {
          "color": "#EF553B",
          "size": {
           "bdata": "1Fhzw2AOKECO5cR4VHAkQA==",
           "dtype": "f8"
          },
          "sizemode": "area",
          "sizeref": 0.04001464651525155,
          "symbol": "circle"
         },
         "mode": "markers",
         "name": "Manufactura",
         "orientation": "h",
         "showlegend": false,
         "type": "scatter",
         "x": {
          "bdata": "1Fhzw2AOKECO5cR4VHAkQA==",
          "dtype": "f8"
         },
         "xaxis": "x5",
         "y": [
          "¿Informa sobre inclusión<br>laboral para personas con<br>discapacidad?",
          "¿Tiene carta de presidencia?<br>Si/No"
         ],
         "yaxis": "y5"
        },
        {
         "hovertemplate": "<b>%{hovertext}</b><br><br>Sector_Lider=Manufactura<br>Nombre Pilar=Gestión de Recursos Naturales y Circularidad<br>Valoración Ponderada Promedio=%{marker.size}<br>=%{y}<extra></extra>",
         "hovertext": [
          "Manufactura",
          "Manufactura"
         ],
         "legendgroup": "Manufactura",
         "marker": {
          "color": "#EF553B",
          "size": {
           "bdata": "EKhbDmlKD0DL/AztxWQcQA==",
           "dtype": "f8"
          },
          "sizemode": "area",
          "sizeref": 0.04001464651525155,
          "symbol": "circle"
         },
         "mode": "markers",
         "name": "Manufactura",
         "orientation": "h",
         "showlegend": false,
         "type": "scatter",
         "x": {
          "bdata": "EKhbDmlKD0DL/AztxWQcQA==",
          "dtype": "f8"
         },
         "xaxis": "x",
         "y": [
          "Independencia en junta<br>directiva (0-2)",
          "¿Reporta sanciones y multas?<br>(Si/No) 206-1"
         ],
         "yaxis": "y"
        },
        {
         "hovertemplate": "<b>%{hovertext}</b><br><br>Sector_Lider=Manufactura<br>Nombre Pilar=Impacto Económico, Social y Comunitario<br>Valoración Ponderada Promedio=%{marker.size}<br>=%{y}<extra></extra>",
         "hovertext": [
          "Manufactura",
          "Manufactura"
         ],
         "legendgroup": "Manufactura",
         "marker": {
          "color": "#EF553B",
          "size": {
           "bdata": "Szj8rq9ZAEAHymTbIUaxPw==",
           "dtype": "f8"
          },
          "sizemode": "area",
          "sizeref": 0.04001464651525155,
          "symbol": "circle"
         },
         "mode": "markers",
         "name": "Manufactura",
         "orientation": "h",
         "showlegend": false,
         "type": "scatter",
         "x": {
          "bdata": "Szj8rq9ZAEAHymTbIUaxPw==",
          "dtype": "f8"
         },
         "xaxis": "x2",
         "y": [
          "¿Reporta gestión de residuos<br>(GRI 306)?",
          "¿Reporta valor económico<br>directo generado y distribuido<br>(GRI 201-1)? Si/No"
         ],
         "yaxis": "y2"
        },
        {
         "hovertemplate": "<b>%{hovertext}</b><br><br>Sector_Lider=Servicios<br>Nombre Pilar=Acción Climática y Energía<br>Valoración Ponderada Promedio=%{marker.size}<br>=%{y}<extra></extra>",
         "hovertext": [
          "Servicios"
         ],
         "legendgroup": "Servicios",
         "marker": {
          "color": "#00cc96",
          "size": {
           "bdata": "02YS3qfn7j8=",
           "dtype": "f8"
          },
          "sizemode": "area",
          "sizeref": 0.04001464651525155,
          "symbol": "circle"
         },
         "mode": "markers",
         "name": "Servicios",
         "orientation": "h",
         "showlegend": true,
         "type": "scatter",
         "x": {
          "bdata": "02YS3qfn7j8=",
          "dtype": "f8"
         },
         "xaxis": "x4",
         "y": [
          "¿Es carbononeutro? Si/no"
         ],
         "yaxis": "y4"
        },
        {
         "hovertemplate": "<b>%{hovertext}</b><br><br>Sector_Lider=Servicios<br>Nombre Pilar=Capital Humano: Bienestar y Desarrollo<br>Valoración Ponderada Promedio=%{marker.size}<br>=%{y}<extra></extra>",
         "hovertext": [
          "Servicios",
          "Servicios"
         ],
         "legendgroup": "Servicios",
         "marker": {
          "color": "#00cc96",
          "size": {
           "bdata": "2dH5H2Be6D8cNuzSXgzpPw==",
           "dtype": "f8"
          },
          "sizemode": "area",
          "sizeref": 0.04001464651525155,
          "symbol": "circle"
         },
         "mode": "markers",
         "name": "Servicios",
         "orientation": "h",
         "showlegend": false,
         "type": "scatter",
         "x": {
          "bdata": "2dH5H2Be6D8cNuzSXgzpPw==",
          "dtype": "f8"
         },
         "xaxis": "x5",
         "y": [
          "Consumo total de la<br>organización (MJ)",
          "Días perdidos por cada 100<br>empleados"
         ],
         "yaxis": "y5"
        },
        {
         "hovertemplate": "<b>%{hovertext}</b><br><br>Sector_Lider=Servicios<br>Nombre Pilar=Diversidad, Equidad e Inclusión (DEI)<br>Valoración Ponderada Promedio=%{marker.size}<br>=%{y}<extra></extra>",
         "hovertext": [
          "Servicios",
          "Servicios",
          "Servicios",
          "Servicios",
          "Servicios"
         ],
         "legendgroup": "Servicios",
         "marker": {
          "color": "#00cc96",
          "size": {
           "bdata": "64d5o3zI9z83mRluEOsQQFFKf9g2XgRA+QxBYOKiGEDj3NyLWAUZQA==",
           "dtype": "f8"
          },
          "sizemode": "area",
          "sizeref": 0.04001464651525155,
          "symbol": "circle"
         },
         "mode": "markers",
         "name": "Servicios",
         "orientation": "h",
         "showlegend": false,
         "type": "scatter",
         "x": {
          "bdata": "64d5o3zI9z83mRluEOsQQFFKf9g2XgRA+QxBYOKiGEDj3NyLWAUZQA==",
          "dtype": "f8"
         },
         "xaxis": "x6",
         "y": [
          "Metas relacionadas a<br>biodiversidad Si/no",
          "Porcentaje de inversión en la<br>comunidad sobre VED",
          "Porcentaje de pagos a gobierno<br>sobre VED",
          "Promedio de horas de formación<br>mujeres (GRI 404)",
          "Proporción y detalle al<br>informar prácticas DEI GRI 405<br>(0-2)"
         ],
         "yaxis": "y6"
        },
        {
         "hovertemplate": "<b>%{hovertext}</b><br><br>Sector_Lider=Servicios<br>Nombre Pilar=Impacto Económico, Social y Comunitario<br>Valoración Ponderada Promedio=%{marker.size}<br>=%{y}<extra></extra>",
         "hovertext": [
          "Servicios",
          "Servicios",
          "Servicios",
          "Servicios"
         ],
         "legendgroup": "Servicios",
         "marker": {
          "color": "#00cc96",
          "size": {
           "bdata": "ENhPMhrq5z9z951qzDIJQAzVcUZ7ahNAayoTVrGDEEA=",
           "dtype": "f8"
          },
          "sizemode": "area",
          "sizeref": 0.04001464651525155,
          "symbol": "circle"
         },
         "mode": "markers",
         "name": "Servicios",
         "orientation": "h",
         "showlegend": false,
         "type": "scatter",
         "x": {
          "bdata": "ENhPMhrq5z9z951qzDIJQAzVcUZ7ahNAayoTVrGDEEA=",
          "dtype": "f8"
         },
         "xaxis": "x2",
         "y": [
          "Porcentaje de mujeres en junta<br>directiva",
          "¿Cuál es el porcentaje de<br>proveeduría local?",
          "¿Informa sobre salud y<br>seguridad laboral (GRI 403)?",
          "¿Reporta GRI 207 (prácticas<br>fiscales)? Si/no"
         ],
         "yaxis": "y2"
        },
        {
         "hovertemplate": "<b>%{hovertext}</b><br><br>Sector_Lider=Servicios<br>Nombre Pilar=Transparencia y Gobierno de la Sostenibilidad<br>Valoración Ponderada Promedio=%{marker.size}<br>=%{y}<extra></extra>",
         "hovertext": [
          "Servicios",
          "Servicios",
          "Servicios",
          "Servicios",
          "Servicios"
         ],
         "legendgroup": "Servicios",
         "marker": {
          "color": "#00cc96",
          "size": {
           "bdata": "XMVb4N/sIUAHN4nAKtQpQJxbaF6G3ypAMZoZ838BMEDExlDSCz4qQA==",
           "dtype": "f8"
          },
          "sizemode": "area",
          "sizeref": 0.04001464651525155,
          "symbol": "circle"
         },
         "mode": "markers",
         "name": "Servicios",
         "orientation": "h",
         "showlegend": false,
         "type": "scatter",
         "x": {
          "bdata": "XMVb4N/sIUAHN4nAKtQpQJxbaF6G3ypAMZoZ838BMEDExlDSCz4qQA==",
          "dtype": "f8"
         },
         "xaxis": "x3",
         "y": [
          "¿Incluye mapeo de ODS? Si/No",
          "¿Se evidencia impacto positivo<br>en comunidades locales? (0-2)",
          "¿Tiene análisis de<br>materialidad? Si/No",
          "¿Tiene indicadores de<br>desarrollo del talento humano?<br>Si/no",
          "¿Tiene programas para<br>construcción de paz?<br>(beneficios a poblaciones<br>desplazadas, victimas de<br>conflicto, excombatientes)<br>Si/no"
         ],
         "yaxis": "y3"
        },
        {
         "hovertemplate": "<b>%{hovertext}</b><br><br>Sector_Lider=Construcción<br>Nombre Pilar=Diversidad, Equidad e Inclusión (DEI)<br>Valoración Ponderada Promedio=%{marker.size}<br>=%{y}<extra></extra>",
         "hovertext": [
          "Construcción"
         ],
         "legendgroup": "Construcción",
         "marker": {
          "color": "#ab63fa",
          "size": {
           "bdata": "HVqnWc8VHkA=",
           "dtype": "f8"
          },
          "sizemode": "area",
          "sizeref": 0.04001464651525155,
          "symbol": "circle"
         },
         "mode": "markers",
         "name": "Construcción",
         "orientation": "h",
         "showlegend": true,
         "type": "scatter",
         "x": {
          "bdata": "HVqnWc8VHkA=",
          "dtype": "f8"
         },
         "xaxis": "x6",
         "y": [
          "¿Informa proporción de gasto<br>en proveedores"
         ],
         "yaxis": "y6"
        },
        {
         "hovertemplate": "<b>%{hovertext}</b><br><br>Sector_Lider=Agropecuario<br>Nombre Pilar=Transparencia y Gobierno de la Sostenibilidad<br>Valoración Ponderada Promedio=%{marker.size}<br>=%{y}<extra></extra>",
         "hovertext": [
          "Agropecuario"
         ],
         "legendgroup": "Agropecuario",
         "marker": {
          "color": "#FFA15A",
          "size": {
           "bdata": "AAAAAAAAAAA=",
           "dtype": "f8"
          },
          "sizemode": "area",
          "sizeref": 0.04001464651525155,
          "symbol": "circle"
         },
         "mode": "markers",
         "name": "Agropecuario",
         "orientation": "h",
         "showlegend": true,
         "type": "scatter",
         "x": {
          "bdata": "AAAAAAAAAAA=",
          "dtype": "f8"
         },
         "xaxis": "x3",
         "y": [
          "Alcance 3 en t CO2 eq"
         ],
         "yaxis": "y3"
        }
       ],
       "layout": {
        "annotations": [
         {
          "font": {},
          "showarrow": false,
          "text": "Gestión de Recursos Naturales y Circularidad",
          "x": 0.11666666666666665,
          "xanchor": "center",
          "xref": "paper",
          "y": 0.46499999999999997,
          "yanchor": "bottom",
          "yref": "paper"
         },
         {
          "font": {},
          "showarrow": false,
          "text": "Impacto Económico, Social y Comunitario",
          "x": 0.49999999999999994,
          "xanchor": "center",
          "xref": "paper",
          "y": 0.46499999999999997,
          "yanchor": "bottom",
          "yref": "paper"
         },
         {
          "font": {},
          "showarrow": false,
          "text": "Transparencia y Gobierno de la Sostenibilidad",
          "x": 0.8833333333333333,
          "xanchor": "center",
          "xref": "paper",
          "y": 0.46499999999999997,
          "yanchor": "bottom",
          "yref": "paper"
         },
         {
          "font": {},
          "showarrow": false,
          "text": "Acción Climática y Energía",
          "x": 0.11666666666666665,
          "xanchor": "center",
          "xref": "paper",
          "y": 0.9999999999999999,
          "yanchor": "bottom",
          "yref": "paper"
         },
         {
          "font": {},
          "showarrow": false,
          "text": "Capital Humano: Bienestar y Desarrollo",
          "x": 0.49999999999999994,
          "xanchor": "center",
          "xref": "paper",
          "y": 0.9999999999999999,
          "yanchor": "bottom",
          "yref": "paper"
         },
         {
          "font": {},
          "showarrow": false,
          "text": "Diversidad, Equidad e Inclusión (DEI)",
          "x": 0.8833333333333333,
          "xanchor": "center",
          "xref": "paper",
          "y": 0.9999999999999999,
          "yanchor": "bottom",
          "yref": "paper"
         }
        ],
        "font": {
         "color": "black",
         "family": "Arial, sans-serif",
         "size": 10
        },
        "height": 1200,
        "legend": {
         "itemsizing": "constant",
         "title": {
          "text": "Sector_Lider"
         },
         "tracegroupgap": 0
        },
        "margin": {
         "t": 60
        },
        "template": {
         "data": {
          "bar": [
           {
            "error_x": {
             "color": "#2a3f5f"
            },
            "error_y": {
             "color": "#2a3f5f"
            },
            "marker": {
             "line": {
              "color": "#E5ECF6",
              "width": 0.5
             },
             "pattern": {
              "fillmode": "overlay",
              "size": 10,
              "solidity": 0.2
             }
            },
            "type": "bar"
           }
          ],
          "barpolar": [
           {
            "marker": {
             "line": {
              "color": "#E5ECF6",
              "width": 0.5
             },
             "pattern": {
              "fillmode": "overlay",
              "size": 10,
              "solidity": 0.2
             }
            },
            "type": "barpolar"
           }
          ],
          "carpet": [
           {
            "aaxis": {
             "endlinecolor": "#2a3f5f",
             "gridcolor": "white",
             "linecolor": "white",
             "minorgridcolor": "white",
             "startlinecolor": "#2a3f5f"
            },
            "baxis": {
             "endlinecolor": "#2a3f5f",
             "gridcolor": "white",
             "linecolor": "white",
             "minorgridcolor": "white",
             "startlinecolor": "#2a3f5f"
            },
            "type": "carpet"
           }
          ],
          "choropleth": [
           {
            "colorbar": {
             "outlinewidth": 0,
             "ticks": ""
            },
            "type": "choropleth"
           }
          ],
          "contour": [
           {
            "colorbar": {
             "outlinewidth": 0,
             "ticks": ""
            },
            "colorscale": [
             [
              0,
              "#0d0887"
             ],
             [
              0.1111111111111111,
              "#46039f"
             ],
             [
              0.2222222222222222,
              "#7201a8"
             ],
             [
              0.3333333333333333,
              "#9c179e"
             ],
             [
              0.4444444444444444,
              "#bd3786"
             ],
             [
              0.5555555555555556,
              "#d8576b"
             ],
             [
              0.6666666666666666,
              "#ed7953"
             ],
             [
              0.7777777777777778,
              "#fb9f3a"
             ],
             [
              0.8888888888888888,
              "#fdca26"
             ],
             [
              1,
              "#f0f921"
             ]
            ],
            "type": "contour"
           }
          ],
          "contourcarpet": [
           {
            "colorbar": {
             "outlinewidth": 0,
             "ticks": ""
            },
            "type": "contourcarpet"
           }
          ],
          "heatmap": [
           {
            "colorbar": {
             "outlinewidth": 0,
             "ticks": ""
            },
            "colorscale": [
             [
              0,
              "#0d0887"
             ],
             [
              0.1111111111111111,
              "#46039f"
             ],
             [
              0.2222222222222222,
              "#7201a8"
             ],
             [
              0.3333333333333333,
              "#9c179e"
             ],
             [
              0.4444444444444444,
              "#bd3786"
             ],
             [
              0.5555555555555556,
              "#d8576b"
             ],
             [
              0.6666666666666666,
              "#ed7953"
             ],
             [
              0.7777777777777778,
              "#fb9f3a"
             ],
             [
              0.8888888888888888,
              "#fdca26"
             ],
             [
              1,
              "#f0f921"
             ]
            ],
            "type": "heatmap"
           }
          ],
          "histogram": [
           {
            "marker": {
             "pattern": {
              "fillmode": "overlay",
              "size": 10,
              "solidity": 0.2
             }
            },
            "type": "histogram"
           }
          ],
          "histogram2d": [
           {
            "colorbar": {
             "outlinewidth": 0,
             "ticks": ""
            },
            "colorscale": [
             [
              0,
              "#0d0887"
             ],
             [
              0.1111111111111111,
              "#46039f"
             ],
             [
              0.2222222222222222,
              "#7201a8"
             ],
             [
              0.3333333333333333,
              "#9c179e"
             ],
             [
              0.4444444444444444,
              "#bd3786"
             ],
             [
              0.5555555555555556,
              "#d8576b"
             ],
             [
              0.6666666666666666,
              "#ed7953"
             ],
             [
              0.7777777777777778,
              "#fb9f3a"
             ],
             [
              0.8888888888888888,
              "#fdca26"
             ],
             [
              1,
              "#f0f921"
             ]
            ],
            "type": "histogram2d"
           }
          ],
          "histogram2dcontour": [
           {
            "colorbar": {
             "outlinewidth": 0,
             "ticks": ""
            },
            "colorscale": [
             [
              0,
              "#0d0887"
             ],
             [
              0.1111111111111111,
              "#46039f"
             ],
             [
              0.2222222222222222,
              "#7201a8"
             ],
             [
              0.3333333333333333,
              "#9c179e"
             ],
             [
              0.4444444444444444,
              "#bd3786"
             ],
             [
              0.5555555555555556,
              "#d8576b"
             ],
             [
              0.6666666666666666,
              "#ed7953"
             ],
             [
              0.7777777777777778,
              "#fb9f3a"
             ],
             [
              0.8888888888888888,
              "#fdca26"
             ],
             [
              1,
              "#f0f921"
             ]
            ],
            "type": "histogram2dcontour"
           }
          ],
          "mesh3d": [
           {
            "colorbar": {
             "outlinewidth": 0,
             "ticks": ""
            },
            "type": "mesh3d"
           }
          ],
          "parcoords": [
           {
            "line": {
             "colorbar": {
              "outlinewidth": 0,
              "ticks": ""
             }
            },
            "type": "parcoords"
           }
          ],
          "pie": [
           {
            "automargin": true,
            "type": "pie"
           }
          ],
          "scatter": [
           {
            "fillpattern": {
             "fillmode": "overlay",
             "size": 10,
             "solidity": 0.2
            },
            "type": "scatter"
           }
          ],
          "scatter3d": [
           {
            "line": {
             "colorbar": {
              "outlinewidth": 0,
              "ticks": ""
             }
            },
            "marker": {
             "colorbar": {
              "outlinewidth": 0,
              "ticks": ""
             }
            },
            "type": "scatter3d"
           }
          ],
          "scattercarpet": [
           {
            "marker": {
             "colorbar": {
              "outlinewidth": 0,
              "ticks": ""
             }
            },
            "type": "scattercarpet"
           }
          ],
          "scattergeo": [
           {
            "marker": {
             "colorbar": {
              "outlinewidth": 0,
              "ticks": ""
             }
            },
            "type": "scattergeo"
           }
          ],
          "scattergl": [
           {
            "marker": {
             "colorbar": {
              "outlinewidth": 0,
              "ticks": ""
             }
            },
            "type": "scattergl"
           }
          ],
          "scattermap": [
           {
            "marker": {
             "colorbar": {
              "outlinewidth": 0,
              "ticks": ""
             }
            },
            "type": "scattermap"
           }
          ],
          "scattermapbox": [
           {
            "marker": {
             "colorbar": {
              "outlinewidth": 0,
              "ticks": ""
             }
            },
            "type": "scattermapbox"
           }
          ],
          "scatterpolar": [
           {
            "marker": {
             "colorbar": {
              "outlinewidth": 0,
              "ticks": ""
             }
            },
            "type": "scatterpolar"
           }
          ],
          "scatterpolargl": [
           {
            "marker": {
             "colorbar": {
              "outlinewidth": 0,
              "ticks": ""
             }
            },
            "type": "scatterpolargl"
           }
          ],
          "scatterternary": [
           {
            "marker": {
             "colorbar": {
              "outlinewidth": 0,
              "ticks": ""
             }
            },
            "type": "scatterternary"
           }
          ],
          "surface": [
           {
            "colorbar": {
             "outlinewidth": 0,
             "ticks": ""
            },
            "colorscale": [
             [
              0,
              "#0d0887"
             ],
             [
              0.1111111111111111,
              "#46039f"
             ],
             [
              0.2222222222222222,
              "#7201a8"
             ],
             [
              0.3333333333333333,
              "#9c179e"
             ],
             [
              0.4444444444444444,
              "#bd3786"
             ],
             [
              0.5555555555555556,
              "#d8576b"
             ],
             [
              0.6666666666666666,
              "#ed7953"
             ],
             [
              0.7777777777777778,
              "#fb9f3a"
             ],
             [
              0.8888888888888888,
              "#fdca26"
             ],
             [
              1,
              "#f0f921"
             ]
            ],
            "type": "surface"
           }
          ],
          "table": [
           {
            "cells": {
             "fill": {
              "color": "#EBF0F8"
             },
             "line": {
              "color": "white"
             }
            },
            "header": {
             "fill": {
              "color": "#C8D4E3"
             },
             "line": {
              "color": "white"
             }
            },
            "type": "table"
           }
          ]
         },
         "layout": {
          "annotationdefaults": {
           "arrowcolor": "#2a3f5f",
           "arrowhead": 0,
           "arrowwidth": 1
          },
          "autotypenumbers": "strict",
          "coloraxis": {
           "colorbar": {
            "outlinewidth": 0,
            "ticks": ""
           }
          },
          "colorscale": {
           "diverging": [
            [
             0,
             "#8e0152"
            ],
            [
             0.1,
             "#c51b7d"
            ],
            [
             0.2,
             "#de77ae"
            ],
            [
             0.3,
             "#f1b6da"
            ],
            [
             0.4,
             "#fde0ef"
            ],
            [
             0.5,
             "#f7f7f7"
            ],
            [
             0.6,
             "#e6f5d0"
            ],
            [
             0.7,
             "#b8e186"
            ],
            [
             0.8,
             "#7fbc41"
            ],
            [
             0.9,
             "#4d9221"
            ],
            [
             1,
             "#276419"
            ]
           ],
           "sequential": [
            [
             0,
             "#0d0887"
            ],
            [
             0.1111111111111111,
             "#46039f"
            ],
            [
             0.2222222222222222,
             "#7201a8"
            ],
            [
             0.3333333333333333,
             "#9c179e"
            ],
            [
             0.4444444444444444,
             "#bd3786"
            ],
            [
             0.5555555555555556,
             "#d8576b"
            ],
            [
             0.6666666666666666,
             "#ed7953"
            ],
            [
             0.7777777777777778,
             "#fb9f3a"
            ],
            [
             0.8888888888888888,
             "#fdca26"
            ],
            [
             1,
             "#f0f921"
            ]
           ],
           "sequentialminus": [
            [
             0,
             "#0d0887"
            ],
            [
             0.1111111111111111,
             "#46039f"
            ],
            [
             0.2222222222222222,
             "#7201a8"
            ],
            [
             0.3333333333333333,
             "#9c179e"
            ],
            [
             0.4444444444444444,
             "#bd3786"
            ],
            [
             0.5555555555555556,
             "#d8576b"
            ],
            [
             0.6666666666666666,
             "#ed7953"
            ],
            [
             0.7777777777777778,
             "#fb9f3a"
            ],
            [
             0.8888888888888888,
             "#fdca26"
            ],
            [
             1,
             "#f0f921"
            ]
           ]
          },
          "colorway": [
           "#636efa",
           "#EF553B",
           "#00cc96",
           "#ab63fa",
           "#FFA15A",
           "#19d3f3",
           "#FF6692",
           "#B6E880",
           "#FF97FF",
           "#FECB52"
          ],
          "font": {
           "color": "#2a3f5f"
          },
          "geo": {
           "bgcolor": "white",
           "lakecolor": "white",
           "landcolor": "#E5ECF6",
           "showlakes": true,
           "showland": true,
           "subunitcolor": "white"
          },
          "hoverlabel": {
           "align": "left"
          },
          "hovermode": "closest",
          "mapbox": {
           "style": "light"
          },
          "paper_bgcolor": "white",
          "plot_bgcolor": "#E5ECF6",
          "polar": {
           "angularaxis": {
            "gridcolor": "white",
            "linecolor": "white",
            "ticks": ""
           },
           "bgcolor": "#E5ECF6",
           "radialaxis": {
            "gridcolor": "white",
            "linecolor": "white",
            "ticks": ""
           }
          },
          "scene": {
           "xaxis": {
            "backgroundcolor": "#E5ECF6",
            "gridcolor": "white",
            "gridwidth": 2,
            "linecolor": "white",
            "showbackground": true,
            "ticks": "",
            "zerolinecolor": "white"
           },
           "yaxis": {
            "backgroundcolor": "#E5ECF6",
            "gridcolor": "white",
            "gridwidth": 2,
            "linecolor": "white",
            "showbackground": true,
            "ticks": "",
            "zerolinecolor": "white"
           },
           "zaxis": {
            "backgroundcolor": "#E5ECF6",
            "gridcolor": "white",
            "gridwidth": 2,
            "linecolor": "white",
            "showbackground": true,
            "ticks": "",
            "zerolinecolor": "white"
           }
          },
          "shapedefaults": {
           "line": {
            "color": "#2a3f5f"
           }
          },
          "ternary": {
           "aaxis": {
            "gridcolor": "white",
            "linecolor": "white",
            "ticks": ""
           },
           "baxis": {
            "gridcolor": "white",
            "linecolor": "white",
            "ticks": ""
           },
           "bgcolor": "#E5ECF6",
           "caxis": {
            "gridcolor": "white",
            "linecolor": "white",
            "ticks": ""
           }
          },
          "title": {
           "x": 0.05
          },
          "xaxis": {
           "automargin": true,
           "gridcolor": "white",
           "linecolor": "white",
           "ticks": "",
           "title": {
            "standoff": 15
           },
           "zerolinecolor": "white",
           "zerolinewidth": 2
          },
          "yaxis": {
           "automargin": true,
           "gridcolor": "white",
           "linecolor": "white",
           "ticks": "",
           "title": {
            "standoff": 15
           },
           "zerolinecolor": "white",
           "zerolinewidth": 2
          }
         }
        },
        "title": {
         "text": "<b>Variables Clave por Pilar y Liderazgo Sectorial</b><br><sup>El color indica el Macrosector líder; el tamaño, la importancia de la variable</sup>",
         "x": 0.5
        },
        "xaxis": {
         "anchor": "y",
         "domain": [
          0,
          0.2333333333333333
         ],
         "title": {
          "text": "Valoración Ponderada Promedio"
         }
        },
        "xaxis2": {
         "anchor": "y2",
         "domain": [
          0.3833333333333333,
          0.6166666666666666
         ],
         "matches": "x",
         "title": {
          "text": "Valoración Ponderada Promedio"
         }
        },
        "xaxis3": {
         "anchor": "y3",
         "domain": [
          0.7666666666666666,
          0.9999999999999999
         ],
         "matches": "x",
         "title": {
          "text": "Valoración Ponderada Promedio"
         }
        },
        "xaxis4": {
         "anchor": "y4",
         "domain": [
          0,
          0.2333333333333333
         ],
         "matches": "x",
         "showticklabels": false
        },
        "xaxis5": {
         "anchor": "y5",
         "domain": [
          0.3833333333333333,
          0.6166666666666666
         ],
         "matches": "x",
         "showticklabels": false
        },
        "xaxis6": {
         "anchor": "y6",
         "domain": [
          0.7666666666666666,
          0.9999999999999999
         ],
         "matches": "x",
         "showticklabels": false
        },
        "yaxis": {
         "anchor": "x",
         "categoryorder": "total ascending",
         "domain": [
          0,
          0.46499999999999997
         ],
         "showticklabels": true,
         "title": {
          "text": ""
         }
        },
        "yaxis2": {
         "anchor": "x2",
         "categoryorder": "total ascending",
         "domain": [
          0,
          0.46499999999999997
         ],
         "showticklabels": true
        },
        "yaxis3": {
         "anchor": "x3",
         "categoryorder": "total ascending",
         "domain": [
          0,
          0.46499999999999997
         ],
         "showticklabels": true
        },
        "yaxis4": {
         "anchor": "x4",
         "categoryorder": "total ascending",
         "domain": [
          0.5349999999999999,
          0.9999999999999999
         ],
         "showticklabels": true,
         "title": {
          "text": ""
         }
        },
        "yaxis5": {
         "anchor": "x5",
         "categoryorder": "total ascending",
         "domain": [
          0.5349999999999999,
          0.9999999999999999
         ],
         "showticklabels": true
        },
        "yaxis6": {
         "anchor": "x6",
         "categoryorder": "total ascending",
         "domain": [
          0.5349999999999999,
          0.9999999999999999
         ],
         "showticklabels": true
        }
       }
      }
     },
     "metadata": {},
     "output_type": "display_data"
    }
   ],
   "source": [
    "# 1. Preparación de Datos\n",
    "# Calcular el puntaje promedio de cada variable por sector y pilar.\n",
    "df_agg = raw_data.groupby(['Nombre Pilar', 'Variable', 'Macrosector'])['valoracionPonderada'].mean().reset_index()\n",
    "\n",
    "# Para cada variable en cada pilar, encontrar el sector líder (con el puntaje más alto).\n",
    "idx = df_agg.groupby(['Nombre Pilar', 'Variable'])['valoracionPonderada'].idxmax()\n",
    "df_leaders = df_agg.loc[idx][['Nombre Pilar', 'Variable', 'Macrosector']]\n",
    "df_leaders.rename(columns={'Macrosector': 'Sector_Lider'}, inplace=True)\n",
    "\n",
    "# Calcular el puntaje promedio general de cada variable por pilar para la posición y tamaño del punto.\n",
    "df_plot_data = df_agg.groupby(['Nombre Pilar', 'Variable'])['valoracionPonderada'].mean().reset_index()\n",
    "\n",
    "# Unir la información del sector líder con los datos del gráfico.\n",
    "df_plot_data = pd.merge(df_plot_data, df_leaders, on=['Nombre Pilar', 'Variable'])\n",
    "# Reemplazar los nombres de las variables largas para mejorar la legibilidad en el gráfico.\n",
    "df_plot_data['Variable'] = df_plot_data['Variable'].apply(lambda x: wrap_text(x, max_length=30))\n",
    "\n",
    "# 2. Creación del Gráfico de Dispersión Anidado\n",
    "# Se usa facet_col para crear un subgráfico por cada 'Nombre Pilar'.\n",
    "fig_nested_scatter = px.scatter(\n",
    "    df_plot_data,\n",
    "    x='valoracionPonderada',\n",
    "    y='Variable',\n",
    "    size='valoracionPonderada', # El tamaño del punto también indica importancia.\n",
    "    color='Sector_Lider',      # El color del punto indica el sector líder.\n",
    "    hover_name='Sector_Lider',\n",
    "    facet_col='Nombre Pilar',\n",
    "    facet_col_wrap=3,          # Organiza los subgráficos en 2 columnas.\n",
    "    labels={'valoracionPonderada': 'Valoración Ponderada Promedio', 'Variable': ''},\n",
    "        facet_col_spacing=0.15\n",
    ")\n",
    "\n",
    "# 3. Personalización y Estilo del Gráfico\n",
    "fig_nested_scatter.update_layout(\n",
    "    title_text='<b>Variables Clave por Pilar y Liderazgo Sectorial</b><br><sup>El color indica el Macrosector líder; el tamaño, la importancia de la variable</sup>',\n",
    "    title_x=0.5,\n",
    "    font=dict(family=\"Arial, sans-serif\", size=10, color=\"black\"),\n",
    "    height=max(800, len(df_plot_data['Nombre Pilar'].unique()) * 200), # Altura dinámica\n",
    "\n",
    ")\n",
    "\n",
    "# Hacer que cada subgráfico tenga su propio eje Y independiente y ordenar las variables.\n",
    "fig_nested_scatter.update_yaxes(matches=None, showticklabels=True)\n",
    "fig_nested_scatter.update_yaxes(categoryorder=\"total ascending\")\n",
    "# Actualizar los títulos de cada subgráfico para que no muestren \"Nombre Pilar=\".\n",
    "fig_nested_scatter.for_each_annotation(lambda a: a.update(text=a.text.split(\"=\")[-1]))\n",
    "\n",
    "fig_nested_scatter.show()\n",
    "save_chart_as_html(fig_nested_scatter, '17_nested_scatter_variables_by_pillar_and_sector.html')\n",
    "# Save as image\n",
    "fig_nested_scatter.write_image(\"img/17_nested_scatter_variables_by_pillar_and_sector.png\", width=1000, height=800, scale=2)"
   ]
  }
 ],
 "metadata": {
  "colab": {
   "authorship_tag": "ABX9TyPpGWVHkKnlnCs6bt9fzXz7",
   "mount_file_id": "1YK4iqHtcyn7HTLe1B1tbVbNp5SA1IFEU",
   "provenance": []
  },
  "kernelspec": {
   "display_name": "data_analysis",
   "language": "python",
   "name": "python3"
  },
  "language_info": {
   "codemirror_mode": {
    "name": "ipython",
    "version": 3
   },
   "file_extension": ".py",
   "mimetype": "text/x-python",
   "name": "python",
   "nbconvert_exporter": "python",
   "pygments_lexer": "ipython3",
   "version": "3.9.23"
  }
 },
 "nbformat": 4,
 "nbformat_minor": 0
}
