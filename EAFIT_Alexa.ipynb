{
 "cells": [
  {
   "cell_type": "code",
   "execution_count": 1,
   "metadata": {
    "executionInfo": {
     "elapsed": 72,
     "status": "ok",
     "timestamp": 1754157016791,
     "user": {
      "displayName": "Juan Camilo Ortiz",
      "userId": "14839115185471025896"
     },
     "user_tz": 300
    },
    "id": "PyJ0rSz5FiCm"
   },
   "outputs": [],
   "source": [
    "import pandas as pd\n",
    "import numpy as np"
   ]
  },
  {
   "cell_type": "code",
   "execution_count": 12,
   "metadata": {
    "colab": {
     "base_uri": "https://localhost:8080/",
     "height": 643
    },
    "executionInfo": {
     "elapsed": 186,
     "status": "ok",
     "timestamp": 1754157029068,
     "user": {
      "displayName": "Juan Camilo Ortiz",
      "userId": "14839115185471025896"
     },
     "user_tz": 300
    },
    "id": "SDUXuswFGcMy",
    "outputId": "7a1acbcf-fe28-4bee-f46d-085e3fa1139b"
   },
   "outputs": [
    {
     "data": {
      "application/vnd.microsoft.datawrangler.viewer.v0+json": {
       "columns": [
        {
         "name": "index",
         "rawType": "int64",
         "type": "integer"
        },
        {
         "name": "Razón social",
         "rawType": "object",
         "type": "string"
        },
        {
         "name": "Macrosector",
         "rawType": "object",
         "type": "string"
        },
        {
         "name": "Tipo de propiedad (Privada, Pública, Mixta)",
         "rawType": "object",
         "type": "string"
        },
        {
         "name": "¿Es empresa familiar? Si/No",
         "rawType": "object",
         "type": "string"
        },
        {
         "name": "¿Cotiza en bolsa? Si/No",
         "rawType": "object",
         "type": "string"
        },
        {
         "name": "¿Multinacional? Si/No",
         "rawType": "object",
         "type": "string"
        },
        {
         "name": "Año de fundación",
         "rawType": "int64",
         "type": "integer"
        },
        {
         "name": "País de base principal (nacionalidad)",
         "rawType": "object",
         "type": "string"
        },
        {
         "name": "Ingresos operacionales",
         "rawType": "object",
         "type": "string"
        },
        {
         "name": "Variable",
         "rawType": "object",
         "type": "string"
        },
        {
         "name": "Valor",
         "rawType": "object",
         "type": "string"
        },
        {
         "name": "Bloque",
         "rawType": "object",
         "type": "string"
        },
        {
         "name": "Nombre Pilar",
         "rawType": "object",
         "type": "string"
        },
        {
         "name": "Ponderación Materialidad",
         "rawType": "object",
         "type": "string"
        },
        {
         "name": "Valoración",
         "rawType": "float64",
         "type": "float"
        },
        {
         "name": "valoracionPonderada",
         "rawType": "float64",
         "type": "float"
        }
       ],
       "ref": "d1670699-d181-4d07-a89d-1a078d739eb9",
       "rows": [
        [
         "0",
         "Aliar",
         "Agropecuario",
         "Privada",
         "No",
         "No",
         "No",
         "2007",
         "Colombia",
         "0.97802211500000003",
         "¿Cuál es el porcentaje de proveeduría local?",
         "No informa",
         "Impacto económico y gobernanza",
         "Impacto Económico, Social y Comunitario",
         "14%",
         "0.0",
         "0.0"
        ],
        [
         "1",
         "Alimentos Carnicos (Grupo Nutresa)",
         "Manufactura",
         "Privada",
         "No",
         "Si",
         "Si",
         "1920",
         "Colombia",
         "2.844632077",
         "¿Cuál es el porcentaje de proveeduría local?",
         "0.80000000000000004",
         "Impacto económico y gobernanza",
         "Impacto Económico, Social y Comunitario",
         "11%",
         "84.21052632",
         "8.864265928"
        ],
        [
         "2",
         "Alpina",
         "Manufactura",
         "Privada",
         "No",
         "No",
         "Si",
         "1945",
         "Colombia",
         "2.1764613960000001",
         "¿Cuál es el porcentaje de proveeduría local?",
         "0.91000000000000003",
         "Impacto económico y gobernanza",
         "Impacto Económico, Social y Comunitario",
         "11%",
         "95.78947368",
         "10.08310249"
        ],
        [
         "3",
         "Amarilo",
         "Construcción",
         "Privada",
         "Si",
         "No",
         "No",
         "1993",
         "Colombia",
         "2.1863011939999999",
         "¿Cuál es el porcentaje de proveeduría local?",
         "0.53000000000000003",
         "Impacto económico y gobernanza",
         "Impacto Económico, Social y Comunitario",
         "14%",
         "53.0",
         "7.571428571"
        ],
        [
         "4",
         "ARA",
         "Comercio",
         "Privada",
         "No",
         "No",
         "Si",
         "2012",
         "Colombia",
         "13.83118268",
         "¿Cuál es el porcentaje de proveeduría local?",
         "0",
         "Impacto económico y gobernanza",
         "Impacto Económico, Social y Comunitario",
         "12%",
         "0.0",
         "0.0"
        ]
       ],
       "shape": {
        "columns": 16,
        "rows": 5
       }
      },
      "text/html": [
       "<div>\n",
       "<style scoped>\n",
       "    .dataframe tbody tr th:only-of-type {\n",
       "        vertical-align: middle;\n",
       "    }\n",
       "\n",
       "    .dataframe tbody tr th {\n",
       "        vertical-align: top;\n",
       "    }\n",
       "\n",
       "    .dataframe thead th {\n",
       "        text-align: right;\n",
       "    }\n",
       "</style>\n",
       "<table border=\"1\" class=\"dataframe\">\n",
       "  <thead>\n",
       "    <tr style=\"text-align: right;\">\n",
       "      <th></th>\n",
       "      <th>Razón social</th>\n",
       "      <th>Macrosector</th>\n",
       "      <th>Tipo de propiedad (Privada, Pública, Mixta)</th>\n",
       "      <th>¿Es empresa familiar? Si/No</th>\n",
       "      <th>¿Cotiza en bolsa? Si/No</th>\n",
       "      <th>¿Multinacional? Si/No</th>\n",
       "      <th>Año de fundación</th>\n",
       "      <th>País de base principal (nacionalidad)</th>\n",
       "      <th>Ingresos operacionales</th>\n",
       "      <th>Variable</th>\n",
       "      <th>Valor</th>\n",
       "      <th>Bloque</th>\n",
       "      <th>Nombre Pilar</th>\n",
       "      <th>Ponderación Materialidad</th>\n",
       "      <th>Valoración</th>\n",
       "      <th>valoracionPonderada</th>\n",
       "    </tr>\n",
       "  </thead>\n",
       "  <tbody>\n",
       "    <tr>\n",
       "      <th>0</th>\n",
       "      <td>Aliar</td>\n",
       "      <td>Agropecuario</td>\n",
       "      <td>Privada</td>\n",
       "      <td>No</td>\n",
       "      <td>No</td>\n",
       "      <td>No</td>\n",
       "      <td>2007</td>\n",
       "      <td>Colombia</td>\n",
       "      <td>0.97802211500000003</td>\n",
       "      <td>¿Cuál es el porcentaje de proveeduría local?</td>\n",
       "      <td>No informa</td>\n",
       "      <td>Impacto económico y gobernanza</td>\n",
       "      <td>Impacto Económico, Social y Comunitario</td>\n",
       "      <td>14%</td>\n",
       "      <td>0.000000</td>\n",
       "      <td>0.000000</td>\n",
       "    </tr>\n",
       "    <tr>\n",
       "      <th>1</th>\n",
       "      <td>Alimentos Carnicos (Grupo Nutresa)</td>\n",
       "      <td>Manufactura</td>\n",
       "      <td>Privada</td>\n",
       "      <td>No</td>\n",
       "      <td>Si</td>\n",
       "      <td>Si</td>\n",
       "      <td>1920</td>\n",
       "      <td>Colombia</td>\n",
       "      <td>2.844632077</td>\n",
       "      <td>¿Cuál es el porcentaje de proveeduría local?</td>\n",
       "      <td>0.80000000000000004</td>\n",
       "      <td>Impacto económico y gobernanza</td>\n",
       "      <td>Impacto Económico, Social y Comunitario</td>\n",
       "      <td>11%</td>\n",
       "      <td>84.210526</td>\n",
       "      <td>8.864266</td>\n",
       "    </tr>\n",
       "    <tr>\n",
       "      <th>2</th>\n",
       "      <td>Alpina</td>\n",
       "      <td>Manufactura</td>\n",
       "      <td>Privada</td>\n",
       "      <td>No</td>\n",
       "      <td>No</td>\n",
       "      <td>Si</td>\n",
       "      <td>1945</td>\n",
       "      <td>Colombia</td>\n",
       "      <td>2.1764613960000001</td>\n",
       "      <td>¿Cuál es el porcentaje de proveeduría local?</td>\n",
       "      <td>0.91000000000000003</td>\n",
       "      <td>Impacto económico y gobernanza</td>\n",
       "      <td>Impacto Económico, Social y Comunitario</td>\n",
       "      <td>11%</td>\n",
       "      <td>95.789474</td>\n",
       "      <td>10.083102</td>\n",
       "    </tr>\n",
       "    <tr>\n",
       "      <th>3</th>\n",
       "      <td>Amarilo</td>\n",
       "      <td>Construcción</td>\n",
       "      <td>Privada</td>\n",
       "      <td>Si</td>\n",
       "      <td>No</td>\n",
       "      <td>No</td>\n",
       "      <td>1993</td>\n",
       "      <td>Colombia</td>\n",
       "      <td>2.1863011939999999</td>\n",
       "      <td>¿Cuál es el porcentaje de proveeduría local?</td>\n",
       "      <td>0.53000000000000003</td>\n",
       "      <td>Impacto económico y gobernanza</td>\n",
       "      <td>Impacto Económico, Social y Comunitario</td>\n",
       "      <td>14%</td>\n",
       "      <td>53.000000</td>\n",
       "      <td>7.571429</td>\n",
       "    </tr>\n",
       "    <tr>\n",
       "      <th>4</th>\n",
       "      <td>ARA</td>\n",
       "      <td>Comercio</td>\n",
       "      <td>Privada</td>\n",
       "      <td>No</td>\n",
       "      <td>No</td>\n",
       "      <td>Si</td>\n",
       "      <td>2012</td>\n",
       "      <td>Colombia</td>\n",
       "      <td>13.83118268</td>\n",
       "      <td>¿Cuál es el porcentaje de proveeduría local?</td>\n",
       "      <td>0</td>\n",
       "      <td>Impacto económico y gobernanza</td>\n",
       "      <td>Impacto Económico, Social y Comunitario</td>\n",
       "      <td>12%</td>\n",
       "      <td>0.000000</td>\n",
       "      <td>0.000000</td>\n",
       "    </tr>\n",
       "  </tbody>\n",
       "</table>\n",
       "</div>"
      ],
      "text/plain": [
       "                         Razón social   Macrosector  \\\n",
       "0                               Aliar  Agropecuario   \n",
       "1  Alimentos Carnicos (Grupo Nutresa)   Manufactura   \n",
       "2                              Alpina   Manufactura   \n",
       "3                             Amarilo  Construcción   \n",
       "4                                 ARA      Comercio   \n",
       "\n",
       "  Tipo de propiedad (Privada, Pública, Mixta) ¿Es empresa familiar? Si/No  \\\n",
       "0                                     Privada                          No   \n",
       "1                                     Privada                          No   \n",
       "2                                     Privada                          No   \n",
       "3                                     Privada                          Si   \n",
       "4                                     Privada                          No   \n",
       "\n",
       "  ¿Cotiza en bolsa? Si/No ¿Multinacional? Si/No  Año de fundación  \\\n",
       "0                      No                    No              2007   \n",
       "1                      Si                    Si              1920   \n",
       "2                      No                    Si              1945   \n",
       "3                      No                    No              1993   \n",
       "4                      No                    Si              2012   \n",
       "\n",
       "  País de base principal (nacionalidad) Ingresos operacionales  \\\n",
       "0                              Colombia    0.97802211500000003   \n",
       "1                              Colombia            2.844632077   \n",
       "2                              Colombia     2.1764613960000001   \n",
       "3                              Colombia     2.1863011939999999   \n",
       "4                              Colombia            13.83118268   \n",
       "\n",
       "                                       Variable                Valor  \\\n",
       "0  ¿Cuál es el porcentaje de proveeduría local?           No informa   \n",
       "1  ¿Cuál es el porcentaje de proveeduría local?  0.80000000000000004   \n",
       "2  ¿Cuál es el porcentaje de proveeduría local?  0.91000000000000003   \n",
       "3  ¿Cuál es el porcentaje de proveeduría local?  0.53000000000000003   \n",
       "4  ¿Cuál es el porcentaje de proveeduría local?                    0   \n",
       "\n",
       "                           Bloque                             Nombre Pilar  \\\n",
       "0  Impacto económico y gobernanza  Impacto Económico, Social y Comunitario   \n",
       "1  Impacto económico y gobernanza  Impacto Económico, Social y Comunitario   \n",
       "2  Impacto económico y gobernanza  Impacto Económico, Social y Comunitario   \n",
       "3  Impacto económico y gobernanza  Impacto Económico, Social y Comunitario   \n",
       "4  Impacto económico y gobernanza  Impacto Económico, Social y Comunitario   \n",
       "\n",
       "  Ponderación Materialidad  Valoración  valoracionPonderada  \n",
       "0                      14%    0.000000             0.000000  \n",
       "1                      11%   84.210526             8.864266  \n",
       "2                      11%   95.789474            10.083102  \n",
       "3                      14%   53.000000             7.571429  \n",
       "4                      12%    0.000000             0.000000  "
      ]
     },
     "execution_count": 12,
     "metadata": {},
     "output_type": "execute_result"
    }
   ],
   "source": [
    "raw_data = pd.read_csv('empresasEafit.csv')\n",
    "raw_data.rename(columns=lambda x: x.strip(), inplace=True)\n",
    "raw_data.head()"
   ]
  },
  {
   "cell_type": "markdown",
   "metadata": {},
   "source": [
    "# **Parte 1: Panorama General del Desempeño Corporativo**"
   ]
  },
  {
   "cell_type": "markdown",
   "metadata": {
    "id": "V9IepepMgDJs"
   },
   "source": [
    "## 1. Radar de Competitividad por Pilar y Macrosector"
   ]
  },
  {
   "cell_type": "markdown",
   "metadata": {
    "id": "y3pwKKQfhstj"
   },
   "source": [
    "### Manejo de datos"
   ]
  },
  {
   "cell_type": "code",
   "execution_count": 13,
   "metadata": {
    "colab": {
     "base_uri": "https://localhost:8080/",
     "height": 255
    },
    "executionInfo": {
     "elapsed": 123,
     "status": "ok",
     "timestamp": 1754157080775,
     "user": {
      "displayName": "Juan Camilo Ortiz",
      "userId": "14839115185471025896"
     },
     "user_tz": 300
    },
    "id": "ZcPHf1PXf-bM",
    "outputId": "3677d9c4-6ef1-42a5-c078-6dfe19bcc0f4"
   },
   "outputs": [],
   "source": [
    "# Encadenar las operaciones de pandas para simplificar el proceso:\n",
    "# 1. Agrupar por Macrosector y Nombre Pilar, calculando la media.\n",
    "# 2. Pivotar la tabla para obtener la estructura deseada (Pilares como filas, Sectores como columnas).\n",
    "# 3. Rellenar los valores nulos con 0.\n",
    "# 4. Resetear el índice para que 'Nombre Pilar' vuelva a ser una columna.\n",
    "# 5. Renombrar 'Nombre Pilar' a 'category' para compatibilidad con amCharts.\n",
    "radar_final_df = (\n",
    "    raw_data.groupby(['Macrosector', 'Nombre Pilar'])['valoracionPonderada']\n",
    "    .mean()\n",
    "    .reset_index()\n",
    "    .pivot_table(\n",
    "        index='Nombre Pilar',\n",
    "        columns='Macrosector',\n",
    "        values='valoracionPonderada'\n",
    "    )\n",
    "    .fillna(0)\n",
    "    .reset_index()\n",
    "    .rename(columns={'Nombre Pilar': 'category'})\n",
    ")\n",
    "\n",
    "# --- PASO 3: Guardar los datos en formato JSON ---\n",
    "radar_final_df.to_json('Dashboard/radar_data.json', orient='records', indent=4, force_ascii=False)\n"
   ]
  },
  {
   "cell_type": "markdown",
   "metadata": {
    "id": "5pju1snkmilQ"
   },
   "source": [
    "## 2. Matriz Térmica de Desempeño Empresaria"
   ]
  },
  {
   "cell_type": "markdown",
   "metadata": {
    "id": "Ugb6ZL9usxFf"
   },
   "source": [
    "### Manejo de datos"
   ]
  },
  {
   "cell_type": "code",
   "execution_count": 18,
   "metadata": {
    "colab": {
     "base_uri": "https://localhost:8080/",
     "height": 206
    },
    "executionInfo": {
     "elapsed": 93,
     "status": "ok",
     "timestamp": 1754157043199,
     "user": {
      "displayName": "Juan Camilo Ortiz",
      "userId": "14839115185471025896"
     },
     "user_tz": 300
    },
    "id": "MT16zHh_mlNC",
    "outputId": "7b4d8493-d3ff-4751-a38d-9f88b45a4493"
   },
   "outputs": [],
   "source": [
    "# 1. Pivotar la tabla para agregar los valores.\n",
    "#    - Se agrupa por 'Razón social' y 'Nombre Pilar'.\n",
    "#    - Se calcula la SUMA de 'valoracionPonderada' como indica la guía.\n",
    "#    - Se rellenan los valores nulos con 0.\n",
    "heatmap_pivot = raw_data.pivot_table(\n",
    "    index='Razón social',\n",
    "    columns='Nombre Pilar',\n",
    "    values='valoracionPonderada',\n",
    "    aggfunc='sum',\n",
    "    fill_value=0\n",
    ")\n",
    "\n",
    "# 2. \"Derretir\" (unpivot) la tabla para convertirla a un formato largo.\n",
    "#    Este es el formato que amCharts consume más fácilmente para un heatmap.\n",
    "#    Cada fila representará una celda única en el mapa de calor.\n",
    "heatmap_long = heatmap_pivot.reset_index().melt(\n",
    "    id_vars='Razón social',\n",
    "    var_name='pilar',\n",
    "    value_name='value'\n",
    ")\n",
    "\n",
    "# Renombrar 'Razón social' para mayor claridad en el JSON\n",
    "heatmap_long.rename(columns={'Razón social': 'empresa'}, inplace=True)\n",
    "# Ordenar empresa de manera ascendente\n",
    "heatmap_long.sort_values(by='empresa', inplace=True)\n",
    "\n",
    "\n",
    "# --- PASO 3: Guardar los datos en formato JSON ---\n",
    "\n",
    "# Guardar el DataFrame largo en un archivo JSON.\n",
    "heatmap_long.to_json('Dashboard/heatmap_data.json', orient='records', indent=4, force_ascii=False)\n"
   ]
  },
  {
   "cell_type": "markdown",
   "metadata": {},
   "source": [
    "## 3. Diagrama de Violín de la Dispersión del Desempeño Sectorial"
   ]
  },
  {
   "cell_type": "markdown",
   "metadata": {},
   "source": [
    "### Manejo de datos"
   ]
  },
  {
   "cell_type": "code",
   "execution_count": null,
   "metadata": {},
   "outputs": [],
   "source": []
  }
 ],
 "metadata": {
  "colab": {
   "authorship_tag": "ABX9TyPpGWVHkKnlnCs6bt9fzXz7",
   "mount_file_id": "1YK4iqHtcyn7HTLe1B1tbVbNp5SA1IFEU",
   "provenance": []
  },
  "kernelspec": {
   "display_name": "data_analysis",
   "language": "python",
   "name": "python3"
  },
  "language_info": {
   "codemirror_mode": {
    "name": "ipython",
    "version": 3
   },
   "file_extension": ".py",
   "mimetype": "text/x-python",
   "name": "python",
   "nbconvert_exporter": "python",
   "pygments_lexer": "ipython3",
   "version": "3.9.23"
  }
 },
 "nbformat": 4,
 "nbformat_minor": 0
}
